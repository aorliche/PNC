{
 "cells": [
  {
   "cell_type": "code",
   "execution_count": 56,
   "id": "6b1f0bb2",
   "metadata": {},
   "outputs": [
    {
     "name": "stdout",
     "output_type": "stream",
     "text": [
      "(3849,)\n",
      "(3849, 34716)\n"
     ]
    }
   ],
   "source": [
    "# Load the new (SPM) PNC\n",
    "\n",
    "import pickle\n",
    "from pathlib import Path\n",
    "import numpy as np\n",
    "\n",
    "newdir = '/home/anton/Documents/Tulane/Research/ImageNomer/data/anton/cohorts/PNC'\n",
    "newdemo = pickle.load(open(f'{newdir}/demographics.pkl', 'rb'))\n",
    "\n",
    "newrace = []\n",
    "newfc = []\n",
    "\n",
    "for sub in newdemo['Race']:\n",
    "    for task in ['rest', 'nback', 'emoid']:\n",
    "        if newdemo['Race'][sub] not in ['AA', 'EA']:\n",
    "            continue\n",
    "        f = f'{newdir}/fc/{sub}_task-{task}_fc.npy'\n",
    "        if not Path(f).exists():\n",
    "            continue\n",
    "        p = np.load(f)\n",
    "        r = int(newdemo['Race'][sub] == 'AA')\n",
    "        newfc.append(p)\n",
    "        newrace.append(r)\n",
    "        \n",
    "newrace = np.stack(newrace)\n",
    "newfc = np.stack(newfc)\n",
    "\n",
    "print(newrace.shape)\n",
    "print(newfc.shape)"
   ]
  },
  {
   "cell_type": "code",
   "execution_count": 57,
   "id": "f1854378",
   "metadata": {},
   "outputs": [
    {
     "name": "stdout",
     "output_type": "stream",
     "text": [
      "(2199,)\n",
      "(2199, 34716)\n"
     ]
    }
   ],
   "source": [
    "# Load the old (fmriprep) PNC\n",
    "\n",
    "olddir = '/home/anton/Documents/Tulane/Research/ImageNomer/data/anton/cohorts/test'\n",
    "olddemo = pickle.load(open(f'{olddir}/demographics.pkl', 'rb'))\n",
    "\n",
    "oldrace = []\n",
    "oldfc = []\n",
    "\n",
    "for sub in olddemo['race']:\n",
    "    for task in ['rest', 'nback', 'emoid']:\n",
    "        if olddemo['race'][sub] not in ['AA', 'EA']:\n",
    "            continue\n",
    "        f = f'{olddir}/fc/{sub}_task-{task}_fc.npy'\n",
    "        if not Path(f).exists():\n",
    "            continue\n",
    "        p = np.load(f)\n",
    "        r = int(olddemo['race'][sub] == 'AA')\n",
    "        oldfc.append(p)\n",
    "        oldrace.append(r)\n",
    "        \n",
    "oldrace = np.stack(oldrace)\n",
    "oldfc = np.stack(oldfc)\n",
    "\n",
    "print(oldrace.shape)\n",
    "print(oldfc.shape)"
   ]
  },
  {
   "cell_type": "code",
   "execution_count": 59,
   "id": "eb0385bb",
   "metadata": {},
   "outputs": [
    {
     "name": "stdout",
     "output_type": "stream",
     "text": [
      "(1165,)\n",
      "(1165, 34716)\n"
     ]
    }
   ],
   "source": [
    "# Load BSNIP\n",
    "\n",
    "bsnipdir = '/home/anton/Documents/Tulane/Research/ImageNomer/data/anton/cohorts/BSNIP'\n",
    "bsnipdemo = pickle.load(open(f'{bsnipdir}/demographics.pkl', 'rb'))\n",
    "\n",
    "bsniprace = []\n",
    "bsnipfc = []\n",
    "\n",
    "for sub in bsnipdemo['Race']:\n",
    "    for task in ['unk']:\n",
    "        if bsnipdemo['Race'][sub] not in ['AA', 'CA']:\n",
    "            continue\n",
    "        f = f'{bsnipdir}/fc/{sub}_task-{task}_fc.npy'\n",
    "        if not Path(f).exists():\n",
    "            continue\n",
    "        p = np.load(f)\n",
    "        r = int(bsnipdemo['Race'][sub] == 'AA')\n",
    "        bsnipfc.append(p)\n",
    "        bsniprace.append(r)\n",
    "        \n",
    "bsniprace = np.stack(bsniprace)\n",
    "bsnipfc = np.stack(bsnipfc)\n",
    "\n",
    "print(bsniprace.shape)\n",
    "print(bsnipfc.shape)"
   ]
  },
  {
   "cell_type": "code",
   "execution_count": 54,
   "id": "a2cc3638",
   "metadata": {},
   "outputs": [
    {
     "name": "stdout",
     "output_type": "stream",
     "text": [
      "[(198, 34716), (198, 34716), (198,), (198,)]\n"
     ]
    }
   ],
   "source": [
    "# Sample random sz\n",
    "# IGNORE THIS Testing Kids vs SZ Adults\n",
    "\n",
    "def cat(lst):\n",
    "    return np.concatenate(lst)\n",
    "\n",
    "idcs = np.random.permutation(199)\n",
    "sz1x = bsnipfc[idcs][:99]\n",
    "sz2x = bsnipfc[idcs][100:199]\n",
    "\n",
    "idcs_hc = np.random.permutation(newfc.shape[0])\n",
    "hc1x = newfc[idcs_hc][:99]\n",
    "hc2x = newfc[idcs_hc][100:199]\n",
    "\n",
    "xtr = cat([hc1x, sz1x])\n",
    "xt = cat([hc2x, sz2x])\n",
    "ytr = cat([np.zeros(99), np.ones(99)])\n",
    "yt = ytr\n",
    "\n",
    "print([a.shape for a in [xtr, xt, ytr, yt]])"
   ]
  },
  {
   "cell_type": "code",
   "execution_count": 60,
   "id": "d0d6576c",
   "metadata": {},
   "outputs": [
    {
     "name": "stdout",
     "output_type": "stream",
     "text": [
      "0.9184415584415584\n"
     ]
    }
   ],
   "source": [
    "from sklearn.linear_model import LogisticRegression\n",
    "from sklearn.model_selection import train_test_split\n",
    "\n",
    "xx = np.concatenate([newfc])\n",
    "yy = np.concatenate([newrace])\n",
    "\n",
    "xtr, xt, ytr, yt = train_test_split(xx, yy, stratify=yy, train_size=0.5)\n",
    "clf = LogisticRegression(C=100, max_iter=1000).fit(xtr, ytr)\n",
    "yhat = clf.predict(xt)\n",
    "print(np.mean(yhat == yt))"
   ]
  },
  {
   "cell_type": "code",
   "execution_count": 50,
   "id": "96e0aef5",
   "metadata": {},
   "outputs": [
    {
     "name": "stdout",
     "output_type": "stream",
     "text": [
      "0.779899954524784\n"
     ]
    },
    {
     "data": {
      "image/png": "[encoded data removed]",
      "text/plain": [
       "<Figure size 640x480 with 2 Axes>"
      ]
     },
     "metadata": {},
     "output_type": "display_data"
    }
   ],
   "source": [
    "import matplotlib.pyplot as plt\n",
    "from sklearn.metrics import confusion_matrix, ConfusionMatrixDisplay\n",
    "\n",
    "xxx = oldfc\n",
    "yyy = oldrace\n",
    "\n",
    "yhat = clf.predict(xxx)\n",
    "print(np.mean(yhat == yyy))\n",
    "\n",
    "cm = confusion_matrix(yhat, yyy, labels=clf.classes_)\n",
    "disp = ConfusionMatrixDisplay(confusion_matrix=cm, display_labels=clf.classes_)\n",
    "disp.plot()\n",
    "plt.show()"
   ]
  },
  {
   "cell_type": "code",
   "execution_count": 21,
   "id": "6764eaa5",
   "metadata": {},
   "outputs": [
    {
     "name": "stdout",
     "output_type": "stream",
     "text": [
      "138 61\n"
     ]
    }
   ],
   "source": [
    "sz1, sz2 = 0, 0\n",
    "\n",
    "for sub in bsnipdemo['sex']:\n",
    "    if bsnipdemo['DXGROUP_1'][sub] == 'SZP':\n",
    "        if bsnipdemo['sex'][sub] == 's1.0':\n",
    "            sz1 += 1\n",
    "        else:\n",
    "            sz2 += 1\n",
    "            \n",
    "print(sz1, sz2)"
   ]
  },
  {
   "cell_type": "code",
   "execution_count": 19,
   "id": "d4d71622",
   "metadata": {},
   "outputs": [
    {
     "data": {
      "text/plain": [
       "dict_keys(['DXGROUP_1', 'DXGROUP_2', 'sex', 'ethnic', 'Race', 'handed', 'MED_PSYCHOTROPIC', 'MED_ANTIP_ANY_PRI', 'MED_ANTIP_FIRSTGEN_SEC', 'MED_ANTIP_SECONDGEN_SEC', 'MED_ANTID_ANY_PRI', 'MED_ANTID_TRICYCLIC_SEC', 'MED_ANTID_MAOI_SEC', 'MED_ANTID_SSRI_SEC', 'MED_ANTID_MISC_SEC', 'MED_MOOD_ANY_PRI', 'MED_MOOD_LITHIUM_SEC', 'MED_MOOD_ANTICONVUL_SEC', 'MED_ANX_HYP_PRI', 'MED_ANTICHOL_PRI', 'MED_CENT_ACTIVE_PRI', 'MED_STIMULANTS_PRI', 'Age_cal', 'I2a', 'PANSS_PosTotal', 'PANSS_NegTotal', 'PANSS_GenTotal', 'PANSS_Total', 'pt_hollscore', 'mo_hollscore', 'fa_hollscore', 'Family_hollscore', 'sz_subtype', 'sad_subtype', 'bp_subtype'])"
      ]
     },
     "execution_count": 19,
     "metadata": {},
     "output_type": "execute_result"
    }
   ],
   "source": [
    "bsnipdemo.keys()"
   ]
  }
 ],
 "metadata": {
  "kernelspec": {
   "display_name": "Python 3 (ipykernel)",
   "language": "python",
   "name": "python3"
  },
  "language_info": {
   "codemirror_mode": {
    "name": "ipython",
    "version": 3
   },
   "file_extension": ".py",
   "mimetype": "text/x-python",
   "name": "python",
   "nbconvert_exporter": "python",
   "pygments_lexer": "ipython3",
   "version": "3.10.9"
  }
 },
 "nbformat": 4,
 "nbformat_minor": 5
}
