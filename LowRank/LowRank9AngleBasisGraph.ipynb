{
 "cells": [
  {
   "cell_type": "code",
   "execution_count": 1,
   "id": "53ef0549",
   "metadata": {},
   "outputs": [
    {
     "name": "stdout",
     "output_type": "stream",
     "text": [
      "[(3849, 5, 264), (3849, 5, 264), (3849,), (3849,), (3849,), (3849, 34716)]\n",
      "14.398285268901013\n"
     ]
    }
   ],
   "source": [
    "import pickle\n",
    "import re\n",
    "import numpy as np\n",
    "\n",
    "basis_file = '/home/anton/Documents/Tulane/Research/PNC_Good/AngleBasisLong5.pkl'\n",
    "demodir = '/home/anton/Documents/Tulane/Research/ImageNomer/data/anton/cohorts/PNC/'\n",
    "\n",
    "basis = pickle.load(open(basis_file, 'rb'))\n",
    "\n",
    "thetas = []\n",
    "jitter = []\n",
    "age = []\n",
    "fc = []\n",
    "sex = []\n",
    "race = []\n",
    "\n",
    "demo = pickle.load(open(f'{demodir}/demographics.pkl', 'rb'))\n",
    "\n",
    "for subtask in basis:\n",
    "    m = re.search('([^-]+)-(.*)', subtask)\n",
    "    sub = m.group(1)\n",
    "    task = m.group(2)\n",
    "    a = demo['age_at_cnb'][sub]\n",
    "    age.append(a)\n",
    "    s = demo['Sex'][sub] == 'M'\n",
    "    r = demo['Race'][sub] == 'AA'\n",
    "    sex.append(s)\n",
    "    race.append(r)\n",
    "    thetas.append(basis[subtask]['thetas'])\n",
    "    jitter.append(basis[subtask]['jitter'])\n",
    "    p = np.load(f'{demodir}/fc/{sub}_task-{task}_fc.npy')\n",
    "    fc.append(p)\n",
    "    \n",
    "thetas = np.stack(thetas)\n",
    "jitter = np.stack(jitter)\n",
    "age = np.array(age)\n",
    "fc = np.stack(fc)\n",
    "sex = np.array(sex).astype('int')\n",
    "race = np.array(race).astype('int')\n",
    "\n",
    "print([a.shape for a in [thetas, jitter, age, sex, race, fc]])\n",
    "print(np.mean(age))"
   ]
  },
  {
   "cell_type": "code",
   "execution_count": 2,
   "id": "58f2d131",
   "metadata": {},
   "outputs": [
    {
     "name": "stdout",
     "output_type": "stream",
     "text": [
      "(3849, 5, 34716)\n",
      "(3849, 34716)\n",
      "(3849, 34716)\n"
     ]
    }
   ],
   "source": [
    "def rmse(yhat, y):\n",
    "    if isinstance(yhat, np.ndarray) or isinstance(yhat, int):\n",
    "        f = np.mean\n",
    "    else:\n",
    "        f = torch.mean\n",
    "    return f((y-yhat)**2)**0.5\n",
    "\n",
    "def tops(thetas, jitter):\n",
    "    t0 = np.expand_dims(thetas, 2)\n",
    "    t1 = np.expand_dims(thetas, 3)\n",
    "    j0 = np.expand_dims(jitter, 2)\n",
    "    j1 = np.expand_dims(jitter, 3)\n",
    "    ps = np.cos(t0-t1)*(j0*j1)\n",
    "    a,b = np.triu_indices(264, 1)\n",
    "    ps = ps[:,:,a,b]\n",
    "    return ps\n",
    "    \n",
    "ps = tops(thetas, jitter)\n",
    "aps = np.mean(ps, axis=1)\n",
    "res = fc-aps\n",
    "\n",
    "print(ps.shape)\n",
    "print(aps.shape)\n",
    "print(res.shape)"
   ]
  },
  {
   "cell_type": "code",
   "execution_count": 3,
   "id": "7628e17e",
   "metadata": {},
   "outputs": [
    {
     "name": "stdout",
     "output_type": "stream",
     "text": [
      "(3849, 3849)\n"
     ]
    }
   ],
   "source": [
    "import torch\n",
    "import torch.nn as nn\n",
    "import torch.nn.functional as F\n",
    "\n",
    "def fromnp(x):\n",
    "    return torch.from_numpy(x).float().cuda()\n",
    "\n",
    "def tonp(x):\n",
    "    return x.detach().cpu().numpy()\n",
    "\n",
    "fct = fromnp(res)\n",
    "fct = F.normalize(fct)\n",
    "# dfc = torch.cdist(fct, fct)\n",
    "dfc = fct@fct.T\n",
    "dfc = tonp(dfc)\n",
    "\n",
    "print(dfc.shape)"
   ]
  },
  {
   "cell_type": "code",
   "execution_count": 34,
   "id": "f2b0a365",
   "metadata": {},
   "outputs": [
    {
     "name": "stdout",
     "output_type": "stream",
     "text": [
      "tensor(0.3300, device='cuda:0')\n",
      "0.752\n"
     ]
    }
   ],
   "source": [
    "ntr = 3000\n",
    "nt = 500\n",
    "\n",
    "idcs = np.random.permutation(fc.shape[0])\n",
    "\n",
    "# xtr = aps[idcs[:ntr]]\n",
    "atr = age[idcs[:ntr]] > 16\n",
    "at = age[idcs[ntr:ntr+nt]] > 16\n",
    "sxtr = sex[idcs[:ntr]]\n",
    "sxt = sex[idcs[ntr:ntr+nt]]\n",
    "rtr = race[idcs[:ntr]]\n",
    "rt = race[idcs[ntr:ntr+nt]]\n",
    "ytr = fromnp(atr)\n",
    "# xt = aps[idcs[ntr:ntr+nt]]\n",
    "yt = fromnp(at)\n",
    "\n",
    "# mu = np.mean(ytr)\n",
    "# ytr -= mu\n",
    "# yt -= mu\n",
    "\n",
    "# xtr, ytr, xt, yt = [fromnp(a) for a in [xtr, ytr, xt, yt]]\n",
    "\n",
    "n = torch.mean(ytr)\n",
    "print(n)\n",
    "\n",
    "E = dfc[idcs[ntr:ntr+nt]][:,idcs[:ntr]]\n",
    "# lowidcs = np.argsort(E, axis=1)\n",
    "# for i in range(lowidcs.shape[0]):\n",
    "#     E[i,lowidcs[i,:-800]] = 0\n",
    "E = fromnp(E)\n",
    "# E = F.normalize(E)\n",
    "fact = torch.sum(E, dim=1)\n",
    "# print(E@ytr/fact)\n",
    "yhat = E@ytr/fact>n\n",
    "yhat = tonp(yhat)\n",
    "print(np.mean(yhat == tonp(yt)))"
   ]
  },
  {
   "cell_type": "code",
   "execution_count": 45,
   "id": "6c902f2d",
   "metadata": {},
   "outputs": [
    {
     "name": "stdout",
     "output_type": "stream",
     "text": [
      "0 4.498091697692871\n",
      "100 3.416490077972412\n",
      "200 3.3382346630096436\n",
      "300 3.6000139713287354\n",
      "400 3.578662872314453\n",
      "500 3.5580451488494873\n",
      "600 3.5413122177124023\n",
      "700 3.5269298553466797\n",
      "800 3.513826847076416\n",
      "900 3.5014724731445312\n",
      "1000 3.489612340927124\n",
      "1100 3.4781320095062256\n",
      "1200 3.466970205307007\n",
      "1300 3.4560983180999756\n",
      "1400 3.445500612258911\n",
      "1500 3.435164451599121\n",
      "1600 3.425078868865967\n",
      "1700 3.415239095687866\n",
      "1800 3.405635356903076\n",
      "1900 3.3962602615356445\n",
      "2000 3.3871073722839355\n",
      "2100 3.3781685829162598\n",
      "2200 3.369433879852295\n",
      "2300 3.3608949184417725\n",
      "2400 3.352546215057373\n",
      "2500 3.344376802444458\n",
      "2600 3.3363804817199707\n",
      "2700 3.328552722930908\n",
      "2800 3.320882797241211\n",
      "2900 3.313371419906616\n",
      "3000 3.306009531021118\n",
      "3100 3.298793077468872\n",
      "3200 3.291717052459717\n",
      "3300 3.284775733947754\n",
      "3400 3.277965784072876\n",
      "3500 3.2712836265563965\n",
      "3600 3.264725923538208\n",
      "3700 3.258286237716675\n",
      "3800 3.251964569091797\n",
      "3900 3.245757579803467\n",
      "4000 3.2396600246429443\n",
      "4100 3.233673334121704\n",
      "4200 3.2277908325195312\n",
      "4300 3.222013235092163\n",
      "4400 3.2163383960723877\n",
      "4500 3.210761308670044\n",
      "4600 3.205282211303711\n",
      "4700 3.1998965740203857\n",
      "4800 3.1946043968200684\n",
      "4900 3.189403772354126\n",
      "4999 3.1843466758728027\n",
      "Done\n",
      "tensor(3.4003, device='cuda:0')\n",
      "3.435523140951631\n"
     ]
    }
   ],
   "source": [
    "from sklearn.model_selection import train_test_split\n",
    "import torch.nn as nn\n",
    "\n",
    "ntr = 2500\n",
    "nt = 1000\n",
    "\n",
    "idcs = np.random.permutation(fc.shape[0])\n",
    "\n",
    "xtr = aps[idcs[:ntr]]\n",
    "ytr = age[idcs[:ntr]]\n",
    "xt = aps[idcs[ntr:ntr+nt]]\n",
    "yt = age[idcs[ntr:ntr+nt]]\n",
    "\n",
    "mu = np.mean(ytr)\n",
    "ytr -= mu\n",
    "yt -= mu\n",
    "\n",
    "xtr, ytr, xt, yt = [fromnp(a) for a in [xtr, ytr, xt, yt]]\n",
    "\n",
    "E = F.normalize(fromnp(dfc[idcs[:ntr]][:,idcs[:ntr]]))\n",
    "\n",
    "class GIN(nn.Module):\n",
    "    def __init__(self, nfeat):\n",
    "        super(GIN, self).__init__()\n",
    "        self.fc1a = nn.Linear(nfeat, 20, bias=False).float().cuda()\n",
    "#         self.fc1b = nn.Linear(nfeat, 1, bias=False).float().cuda()\n",
    "        self.fc2a = nn.Linear(20, 1).float().cuda()\n",
    "#         self.fc2b = nn.Linear(20, 1).float().cuda()\n",
    "        \n",
    "    def forward(self, e, x):\n",
    "        a = e@self.fc1a(x).squeeze()\n",
    "        b = self.fc2a(a).squeeze()\n",
    "        return b#+b\n",
    "    \n",
    "nepochs = 5000\n",
    "pperiod = 100\n",
    "\n",
    "gin = GIN(fc.shape[-1])\n",
    "optim = torch.optim.Adam(gin.parameters(), lr=5e-5, weight_decay=1e-4)\n",
    "\n",
    "for e in range(nepochs):\n",
    "    optim.zero_grad()\n",
    "    yhat = gin(E, xtr)\n",
    "    loss = rmse(yhat, ytr)\n",
    "    loss.backward()\n",
    "    optim.step()\n",
    "    if e == nepochs-1 or e % pperiod == 0:\n",
    "        print(f'{e} {float(loss)}')\n",
    "        \n",
    "print('Done')\n",
    "\n",
    "E = F.normalize(fromnp(dfc[idcs[:ntr+nt]][:,idcs[:ntr+nt]]))\n",
    "with torch.no_grad():\n",
    "    yhat = gin(E, torch.cat([xtr, xt]))\n",
    "    print(rmse(yhat[ntr:], yt))\n",
    "    print(rmse(0, tonp(yt)))"
   ]
  },
  {
   "cell_type": "code",
   "execution_count": 14,
   "id": "cf6a5f64",
   "metadata": {},
   "outputs": [
    {
     "data": {
      "image/png": "[encoded data removed]",
      "text/plain": [
       "<Figure size 640x480 with 1 Axes>"
      ]
     },
     "metadata": {},
     "output_type": "display_data"
    }
   ],
   "source": [
    "import matplotlib.pyplot as plt\n",
    "\n",
    "a,b = np.triu_indices(dfc.shape[0],1)\n",
    "dfcvec = dfc[a,b]\n",
    "\n",
    "fig, ax = plt.subplots()\n",
    "ax.hist(dfcvec, bins=100, log=True)\n",
    "ax.set_title('Fingerprinting with AngleBasis (97.3% Acc)')\n",
    "ax.annotate(\"Different subjects\",xy=(0.15,1e5),xytext=(0.2,5e5),arrowprops=dict(facecolor='black'))\n",
    "ax.annotate(\"Same subjects, different scans\\n(same subject-same scan excluded)\",\n",
    "             xy=(0.3,1e2),xytext=(0.2,1e3),arrowprops=dict(facecolor='black'))\n",
    "fig.show()"
   ]
  },
  {
   "cell_type": "code",
   "execution_count": null,
   "id": "8a3c1ffc",
   "metadata": {},
   "outputs": [],
   "source": []
  }
 ],
 "metadata": {
  "kernelspec": {
   "display_name": "Python 3 (ipykernel)",
   "language": "python",
   "name": "python3"
  },
  "language_info": {
   "codemirror_mode": {
    "name": "ipython",
    "version": 3
   },
   "file_extension": ".py",
   "mimetype": "text/x-python",
   "name": "python",
   "nbconvert_exporter": "python",
   "pygments_lexer": "ipython3",
   "version": "3.10.9"
  }
 },
 "nbformat": 4,
 "nbformat_minor": 5
}
