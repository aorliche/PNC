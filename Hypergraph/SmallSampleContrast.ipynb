{
 "cells": [
  {
   "cell_type": "code",
   "execution_count": 1,
   "id": "f432d898",
   "metadata": {},
   "outputs": [
    {
     "name": "stdout",
     "output_type": "stream",
     "text": [
      "941\n"
     ]
    }
   ],
   "source": [
    "import pickle\n",
    "\n",
    "# Load meta dict\n",
    "\n",
    "with open('../../PNC/MegaMeta.bin', 'rb') as f:\n",
    "    meta = pickle.load(f)\n",
    "    \n",
    "print(len(list(meta.keys())))"
   ]
  },
  {
   "cell_type": "code",
   "execution_count": 2,
   "id": "e6062226",
   "metadata": {},
   "outputs": [
    {
     "name": "stdout",
     "output_type": "stream",
     "text": [
      "601983541597\n"
     ]
    }
   ],
   "source": [
    "for key in meta:\n",
    "    if 'badEmoid' in meta[key]:\n",
    "        print(key)"
   ]
  },
  {
   "cell_type": "code",
   "execution_count": 9,
   "id": "6da4139a",
   "metadata": {},
   "outputs": [
    {
     "name": "stdout",
     "output_type": "stream",
     "text": [
      "Finished 100\n",
      "Finished 200\n",
      "Finished 300\n",
      "Finished 400\n",
      "Finished 500\n",
      "Finished 600\n",
      "678\n",
      "Complete\n"
     ]
    }
   ],
   "source": [
    "import numpy as np\n",
    "\n",
    "# Load emoid data\n",
    "\n",
    "nEmoid = 0\n",
    "\n",
    "for key in meta:\n",
    "    if 'emoid' in meta[key] and 'badEmoid' not in meta[key]:\n",
    "        nEmoid += 1\n",
    "        nTs = meta[key]['emoidData'].shape[1]\n",
    "\n",
    "p_emoid = np.zeros([nEmoid,264,264])\n",
    "ages = np.zeros([nEmoid])\n",
    "c = 0\n",
    "\n",
    "for key in meta:\n",
    "    if 'emoid' in meta[key] and 'badEmoid' not in meta[key]:\n",
    "        p_emoid[c] = np.corrcoef(meta[key]['emoidData'])\n",
    "        ages[c] = meta[key]['meta']['AgeInMonths']/12\n",
    "        c += 1\n",
    "    if c % 100 == 0:\n",
    "        print(f'Finished {c}')\n",
    "        \n",
    "print(nEmoid)\n",
    "print('Complete')"
   ]
  },
  {
   "cell_type": "code",
   "execution_count": 6,
   "id": "d807e786",
   "metadata": {},
   "outputs": [
    {
     "name": "stdout",
     "output_type": "stream",
     "text": [
      "Complete\n"
     ]
    }
   ],
   "source": [
    "import torch\n",
    "\n",
    "# Convert to PyTorch\n",
    "\n",
    "p_emoid_t = torch.from_numpy(p_emoid).float().cuda()\n",
    "ages_t = torch.from_numpy(ages).float().cuda()\n",
    "\n",
    "print('Complete')"
   ]
  },
  {
   "cell_type": "code",
   "execution_count": 8,
   "id": "ce85f89b",
   "metadata": {},
   "outputs": [
    {
     "name": "stdout",
     "output_type": "stream",
     "text": [
      "Complete\n"
     ]
    }
   ],
   "source": [
    "# Select a small sample\n",
    "\n",
    "train_t = p_emoid_t[0:100].reshape(-1,264*264)\n",
    "test_t = p_emoid_t[100:200].reshape(-1,264*264)\n",
    "full_t = p_emoid_t[0:200].reshape(-1,264*264)\n",
    "\n",
    "print('Complete')"
   ]
  },
  {
   "cell_type": "code",
   "execution_count": 35,
   "id": "2fb133f8",
   "metadata": {},
   "outputs": [
    {
     "name": "stdout",
     "output_type": "stream",
     "text": [
      "epoch 0 loss=217.54733276367188\n",
      "epoch 200 loss=12.835386276245117\n",
      "epoch 400 loss=6.52755069732666\n",
      "epoch 600 loss=3.45135498046875\n",
      "epoch 800 loss=1.9102256298065186\n",
      "epoch 1000 loss=1.13094162940979\n",
      "epoch 1200 loss=0.6753607988357544\n",
      "epoch 1400 loss=0.43953055143356323\n",
      "epoch 1600 loss=0.310308575630188\n",
      "epoch 1800 loss=0.21245071291923523\n",
      "epoch 2000 loss=0.1485190987586975\n",
      "epoch 2200 loss=0.1100497916340828\n",
      "epoch 2400 loss=0.08117084950208664\n",
      "epoch 2600 loss=0.060795072466135025\n",
      "epoch 2800 loss=0.049869321286678314\n",
      "epoch 2999 loss=0.043603409081697464\n",
      "Complete GCN\n",
      "MAE 2.2975812403361\n"
     ]
    }
   ],
   "source": [
    "import torch.nn as nn\n",
    "import torch.nn.functional as F\n",
    "\n",
    "# Train a regular GCN\n",
    "\n",
    "def normalize(A):\n",
    "    if A.shape[0] != A.shape[1]:\n",
    "        raise Exception(\"Bad A shape\")\n",
    "    d = torch.sum(A,dim=1)**0.5\n",
    "    return ((A/d).T/d).T\n",
    "\n",
    "# Cosine similarity\n",
    "def calcEdges(ps1, ps2):\n",
    "    nB = ps1.shape[0]\n",
    "    e = torch.einsum('ai,bi->ab',ps1,ps2)\n",
    "    F1 = torch.einsum('ai,ai->a',ps1,ps1)**0.5\n",
    "    F2 = torch.einsum('ai,ai->a',ps2,ps2)**0.5\n",
    "    e /= F1.unsqueeze(1)\n",
    "    e /= F2.unsqueeze(1).T\n",
    "    return normalize(e-torch.eye(nB).float().cuda())\n",
    "\n",
    "Atrain = calcEdges(train_t, train_t) + torch.eye(100).float().cuda()\n",
    "A = calcEdges(full_t, full_t) + torch.eye(200).float().cuda()\n",
    "\n",
    "class GCN(nn.Module):\n",
    "    def __init__(self):\n",
    "        super(GCN, self).__init__()\n",
    "        self.gc1 = nn.Linear(264*264,100).float().cuda()\n",
    "        self.gc2 = nn.Linear(100,1).float().cuda()\n",
    "        self.loss = nn.MSELoss()\n",
    "\n",
    "    def forward(self, x):\n",
    "        A = x[0]\n",
    "        z = x[1]\n",
    "        a = A@z\n",
    "        a = F.relu(self.gc1(a))\n",
    "        a = A@a\n",
    "        a = self.gc2(a)\n",
    "        return a\n",
    "\n",
    "gcn = GCN()\n",
    "optim = torch.optim.Adam(gcn.parameters(), lr=1e-5, weight_decay=0.2) # 1e-5 and 0.2\n",
    "\n",
    "nEpoch = 3000 # 2000 for age pred, 3000 for sex classification, 2000 sex classification GIN\n",
    "pPrint = 200\n",
    "\n",
    "for epoch in range(nEpoch):\n",
    "    optim.zero_grad()\n",
    "    pred = gcn([Atrain,train_t]).flatten()\n",
    "    loss = gcn.loss(pred, ages_t[:100])\n",
    "    loss.backward()\n",
    "    optim.step()\n",
    "    if epoch % pPrint == 0 or epoch == nEpoch-1:\n",
    "        print(f'epoch {epoch} loss={loss}')\n",
    "\n",
    "print(f'Complete GCN')\n",
    "\n",
    "pred = gcn([A,full_t]).flatten()[100:].detach().cpu().numpy()\n",
    "mae = np.mean(np.abs(pred-ages[100:200]))\n",
    "\n",
    "print(f'MAE {mae}')"
   ]
  },
  {
   "cell_type": "code",
   "execution_count": 28,
   "id": "315f2089",
   "metadata": {},
   "outputs": [
    {
     "name": "stdout",
     "output_type": "stream",
     "text": [
      "epoch 0\n",
      "\tposLoss=24.904829025268555 negLoss=24.998981475830078\n",
      "\tposLoss=41.796653747558594 negLoss=47.35601043701172\n",
      "\tposLoss=26.28200912475586 negLoss=24.599939346313477\n",
      "epoch 1\n",
      "epoch 2\n",
      "epoch 3\n",
      "\tposLoss=18.927078247070312 negLoss=18.26167869567871\n",
      "\tposLoss=18.19991683959961 negLoss=20.374223709106445\n",
      "\tposLoss=17.402238845825195 negLoss=17.952987670898438\n",
      "epoch 4\n",
      "epoch 5\n",
      "epoch 6\n",
      "\tposLoss=15.886873245239258 negLoss=14.606696128845215\n",
      "\tposLoss=13.91581916809082 negLoss=13.725851058959961\n",
      "\tposLoss=13.906124114990234 negLoss=13.950984954833984\n",
      "epoch 7\n",
      "epoch 8\n",
      "epoch 9\n",
      "\tposLoss=9.4705171585083 negLoss=9.64574146270752\n",
      "\tposLoss=8.714994430541992 negLoss=8.38137149810791\n",
      "\tposLoss=9.107583045959473 negLoss=9.007559776306152\n",
      "epoch 10\n",
      "epoch 11\n",
      "epoch 12\n",
      "\tposLoss=5.858794689178467 negLoss=5.835433006286621\n",
      "\tposLoss=5.342374324798584 negLoss=5.204936981201172\n",
      "\tposLoss=5.1748223304748535 negLoss=5.063051223754883\n",
      "epoch 13\n",
      "epoch 14\n",
      "epoch 15\n",
      "\tposLoss=3.1500959396362305 negLoss=3.0236446857452393\n",
      "\tposLoss=2.9880788326263428 negLoss=2.866270065307617\n",
      "\tposLoss=2.8738443851470947 negLoss=2.7725846767425537\n",
      "epoch 16\n",
      "epoch 17\n",
      "epoch 18\n",
      "\tposLoss=1.6727205514907837 negLoss=1.6001204252243042\n",
      "\tposLoss=1.606858491897583 negLoss=1.457007884979248\n",
      "\tposLoss=1.3429327011108398 negLoss=1.2684693336486816\n",
      "epoch 19\n",
      "epoch 20\n",
      "epoch 21\n",
      "\tposLoss=0.7822357416152954 negLoss=0.7184808850288391\n",
      "\tposLoss=0.7142588496208191 negLoss=0.6376648545265198\n",
      "\tposLoss=0.7108674645423889 negLoss=0.6799248456954956\n",
      "epoch 22\n",
      "epoch 23\n",
      "epoch 24\n",
      "\tposLoss=0.36528217792510986 negLoss=0.3213409185409546\n",
      "\tposLoss=0.3368169367313385 negLoss=0.30560562014579773\n",
      "\tposLoss=0.30754485726356506 negLoss=0.2936192750930786\n",
      "epoch 25\n",
      "epoch 26\n",
      "epoch 27\n",
      "\tposLoss=0.15192537009716034 negLoss=0.13791745901107788\n",
      "\tposLoss=0.17281220853328705 negLoss=0.1461338996887207\n",
      "\tposLoss=0.13123171031475067 negLoss=0.10977021604776382\n",
      "epoch 28\n",
      "epoch 29\n",
      "epoch 30\n",
      "\tposLoss=0.07521585375070572 negLoss=0.060968149453401566\n",
      "\tposLoss=0.07002151757478714 negLoss=0.06226351857185364\n",
      "\tposLoss=0.06163452938199043 negLoss=0.05258825048804283\n",
      "epoch 31\n",
      "epoch 32\n",
      "epoch 33\n",
      "\tposLoss=0.03835838660597801 negLoss=0.02807667665183544\n",
      "\tposLoss=0.03469625860452652 negLoss=0.028247246518731117\n",
      "\tposLoss=0.03391857445240021 negLoss=0.023647179827094078\n",
      "epoch 34\n",
      "epoch 35\n",
      "epoch 36\n",
      "\tposLoss=0.020268326625227928 negLoss=0.012152371928095818\n",
      "\tposLoss=0.014166250824928284 negLoss=0.012060497887432575\n",
      "\tposLoss=0.023469381034374237 negLoss=0.010502833873033524\n",
      "epoch 37\n",
      "epoch 38\n",
      "epoch 39\n",
      "\tposLoss=0.007739645894616842 negLoss=0.007186287082731724\n",
      "\tposLoss=0.014215754345059395 negLoss=0.005570061970502138\n",
      "\tposLoss=0.007199298124760389 negLoss=0.004351460840553045\n",
      "Complete\n"
     ]
    }
   ],
   "source": [
    "# Train a contrastive loss network\n",
    "\n",
    "import torch.nn as nn\n",
    "import itertools\n",
    "import random\n",
    "import copy\n",
    "\n",
    "class ConGraph(nn.Module):\n",
    "    def __init__(self):\n",
    "        super(ConGraph, self).__init__()\n",
    "        self.fc1 = nn.Linear(2*264*264,100).float().cuda()\n",
    "        self.fc2 = nn.Linear(100,1).float().cuda()\n",
    "        self.loss = nn.MSELoss()\n",
    "        \n",
    "    def forward(self, x):\n",
    "        x = F.relu(self.fc1(x))\n",
    "        x = self.fc2(x)\n",
    "        return x\n",
    "    \n",
    "cg = ConGraph()\n",
    "optim = torch.optim.Adam(cg.parameters(), lr=1e-4, weight_decay=0)\n",
    "\n",
    "nEpoch = 30\n",
    "bSize = 1000\n",
    "pPeriod = 2000\n",
    "\n",
    "pairs = list(itertools.combinations_with_replacement(np.arange(100),2))\n",
    "\n",
    "for epoch in range(nEpoch):\n",
    "    randPairs = copy.copy(pairs)\n",
    "    random.shuffle(randPairs)\n",
    "    nComplete = 0\n",
    "    print(f'epoch {epoch}')\n",
    "    while nComplete < len(pairs):\n",
    "        todo = len(pairs)-nComplete\n",
    "        if todo > bSize:\n",
    "            todo = bSize\n",
    "        batchPairs = randPairs[nComplete:nComplete+todo]\n",
    "        Ai, Bi = zip(*batchPairs)\n",
    "        A = train_t[Ai,:]\n",
    "        B = train_t[Bi,:]\n",
    "        a = ages_t[list(Ai)]\n",
    "        b = ages_t[list(Bi)]\n",
    "        optim.zero_grad()\n",
    "        pos = torch.cat([A,B],dim=1)\n",
    "        neg = torch.cat([B,A],dim=1)\n",
    "        pres = cg(pos).flatten()\n",
    "        nres = cg(neg).flatten()\n",
    "        pp = pres-(a-b)\n",
    "        nn = nres-(b-a)\n",
    "        pLoss = cg.loss(pp, torch.zeros(todo).float().cuda())\n",
    "        nLoss = cg.loss(nn, torch.zeros(todo).float().cuda())\n",
    "        (pLoss+nLoss).backward()\n",
    "        optim.step()\n",
    "        if nComplete % pPeriod == 0 and epoch % 3 == 0:\n",
    "            print(f'\\tposLoss={pLoss} negLoss={nLoss}')\n",
    "        nComplete += todo\n",
    "        \n",
    "print('Complete')"
   ]
  },
  {
   "cell_type": "code",
   "execution_count": 37,
   "id": "9fe7bb7d",
   "metadata": {},
   "outputs": [
    {
     "name": "stdout",
     "output_type": "stream",
     "text": [
      "done 0\n",
      "done 20\n",
      "done 40\n",
      "done 60\n",
      "done 80\n",
      "Complete\n"
     ]
    }
   ],
   "source": [
    "wp = np.zeros(100)\n",
    "wn = np.zeros(100)\n",
    "\n",
    "for i in range(100):\n",
    "    if i % 20 == 0:\n",
    "        print(f'done {i}')\n",
    "        \n",
    "    A = test_t[i].expand(100,-1)\n",
    "\n",
    "    B = train_t\n",
    "    b = ages_t[:100]\n",
    "\n",
    "    pos = torch.cat([A,B],dim=1)\n",
    "    neg = torch.cat([B,A],dim=1)\n",
    "    pres = cg(pos).flatten()\n",
    "    nres = cg(neg).flatten()\n",
    "\n",
    "    wp[i] = torch.mean(pres + b).detach().cpu().numpy()\n",
    "    wn[i] = torch.mean(b - nres).detach().cpu().numpy()\n",
    "    \n",
    "print('Complete')"
   ]
  },
  {
   "cell_type": "code",
   "execution_count": 38,
   "id": "5ef2c004",
   "metadata": {},
   "outputs": [
    {
     "name": "stdout",
     "output_type": "stream",
     "text": [
      "2.1649199231465657\n",
      "2.159523588816325\n"
     ]
    }
   ],
   "source": [
    "print(np.mean(np.abs(wp-ages[100:200])))\n",
    "print(np.mean(np.abs(wn-ages[100:200])))"
   ]
  },
  {
   "cell_type": "code",
   "execution_count": 42,
   "id": "bb9f1746",
   "metadata": {},
   "outputs": [
    {
     "data": {
      "image/png": "[encoded data removed]",
      "text/plain": [
       "<Figure size 432x288 with 1 Axes>"
      ]
     },
     "metadata": {
      "needs_background": "light"
     },
     "output_type": "display_data"
    }
   ],
   "source": [
    "import matplotlib.pyplot as plt\n",
    "\n",
    "tgt = ages[100:200]\n",
    "idcs = np.argsort(tgt)\n",
    "tgt = tgt[idcs]\n",
    "pred2 = pred[idcs]\n",
    "lsqPred2 = lsqPred[idcs]\n",
    "wp2 = wp[idcs]\n",
    "wn2 = wn[idcs]\n",
    "\n",
    "plt.plot(tgt, label='Truth')\n",
    "plt.plot(lsqPred2.detach().cpu().numpy(), label='Lstsq 2.35')\n",
    "plt.plot(pred2, label='GCN 2.30')\n",
    "plt.plot(wp2, label='CG+ 2.16')\n",
    "plt.plot(wn2, label='CG- 2.16')\n",
    "plt.legend()\n",
    "plt.title('GCN vs Contrastive Graph N=100 D=69696 (Numbers are MAE)')\n",
    "plt.xlabel('Subject')\n",
    "plt.ylabel('Age (years)')\n",
    "plt.show()"
   ]
  },
  {
   "cell_type": "code",
   "execution_count": 36,
   "id": "c3f708c4",
   "metadata": {},
   "outputs": [
    {
     "name": "stdout",
     "output_type": "stream",
     "text": [
      "2.3485472043355307\n"
     ]
    }
   ],
   "source": [
    "w,_,_,_ = torch.linalg.lstsq(train_t,ages_t[:100])\n",
    "\n",
    "lsqPred = test_t@w\n",
    "\n",
    "print(np.mean(np.abs(lsqPred.detach().cpu().numpy()-ages[100:200])))"
   ]
  },
  {
   "cell_type": "code",
   "execution_count": null,
   "id": "0d3697d3",
   "metadata": {},
   "outputs": [],
   "source": [
    "\n",
    "\n",
    "def gradRam(model, xs, tgts, layer1, layer2):\n",
    "    assert(len(xs) == len(tgts))\n",
    "    model.zero_grad()\n",
    "    loss = 0\n",
    "    for i in range(len(xs)):\n",
    "        loss += model.loss(xs[i], tgts[i])\n",
    "    loss.backwards()\n",
    "    return layer2.weight.grad@layer1.weight\n",
    "    \n",
    "randPairs = copy.copy(pairs)\n",
    "random.shuffle(randPairs)\n",
    "nComplete = 0\n",
    "\n",
    "while nComplete < len(pairs):\n",
    "    todo = len(pairs)-nComplete\n",
    "    if todo > bSize:\n",
    "        todo = bSize\n",
    "    batchPairs = randPairs[nComplete:nComplete+todo]\n",
    "    Ai, Bi = zip(*batchPairs)\n",
    "    A = train_t[Ai,:]\n",
    "    B = train_t[Bi,:]\n",
    "    a = ages_t[list(Ai)]\n",
    "    b = ages_t[list(Bi)]\n",
    "    optim.zero_grad()\n",
    "    pos = torch.cat([A,B],dim=1)\n",
    "    neg = torch.cat([B,A],dim=1)\n",
    "    pres = cg(pos).flatten()\n",
    "    nres = cg(neg).flatten()"
   ]
  }
 ],
 "metadata": {
  "kernelspec": {
   "display_name": "Python 3 (ipykernel)",
   "language": "python",
   "name": "python3"
  },
  "language_info": {
   "codemirror_mode": {
    "name": "ipython",
    "version": 3
   },
   "file_extension": ".py",
   "mimetype": "text/x-python",
   "name": "python",
   "nbconvert_exporter": "python",
   "pygments_lexer": "ipython3",
   "version": "3.10.2"
  }
 },
 "nbformat": 4,
 "nbformat_minor": 5
}
