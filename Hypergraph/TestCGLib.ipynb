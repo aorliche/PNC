{
 "cells": [
  {
   "cell_type": "code",
   "execution_count": 1,
   "id": "e3d626a1",
   "metadata": {},
   "outputs": [
    {
     "name": "stdout",
     "output_type": "stream",
     "text": [
      "(650, 264, 231)\n",
      "(650, 264, 210)\n",
      "(650,)\n",
      "[ 9.66666667 15.58333333 15.83333333 20.16666667 11.41666667 11.58333333\n",
      "  9.41666667 17.5        15.25        9.58333333]\n"
     ]
    }
   ],
   "source": [
    "import sys\n",
    "\n",
    "sys.path.append('..')\n",
    "\n",
    "from LoadData2 import loadNbackEmoidAgesScansAndGenders, loadMeta\n",
    "\n",
    "pncDir = '../../PNC_Good'\n",
    "\n",
    "keys, nbackTs, emoidTs, ages = loadNbackEmoidAgesScansAndGenders(loadMeta(f'{pncDir}/MegaMeta3.pkl'))\n",
    "\n",
    "print(nbackTs.shape)\n",
    "print(emoidTs.shape)\n",
    "print(ages.shape)\n",
    "print(ages[0:10])"
   ]
  },
  {
   "cell_type": "code",
   "execution_count": 2,
   "id": "aa0fe1b6",
   "metadata": {},
   "outputs": [
    {
     "name": "stdout",
     "output_type": "stream",
     "text": [
      "torch.Size([650, 69696])\n",
      "torch.Size([650, 69696])\n",
      "torch.Size([650])\n"
     ]
    }
   ],
   "source": [
    "# Get FC and convert to torch\n",
    "\n",
    "from LoadData2 import getFC\n",
    "import torch\n",
    "\n",
    "nbackP = getFC(nbackTs)\n",
    "emoidP = getFC(emoidTs)\n",
    "\n",
    "nbackP_t = torch.from_numpy(nbackP).reshape(650,264*264).float().cuda()\n",
    "emoidP_t = torch.from_numpy(emoidP).reshape(650,264*264).float().cuda()\n",
    "feat_t = torch.cat([nbackP_t, emoidP_t], dim=1)\n",
    "ages_t = torch.from_numpy(ages).float().cuda()\n",
    "\n",
    "print(nbackP_t.shape)\n",
    "print(emoidP_t.shape)\n",
    "print(ages_t.shape)"
   ]
  },
  {
   "cell_type": "code",
   "execution_count": 4,
   "id": "6c394ff3",
   "metadata": {},
   "outputs": [
    {
     "name": "stdout",
     "output_type": "stream",
     "text": [
      "0 100 200\n",
      "Least squares\n",
      "2.874002698330286\n",
      "GCN\n",
      "2.6527987330098917\n",
      "CG\n",
      "2.5719188081101687\n",
      "2.57463502058566\n",
      "100 200 300\n",
      "Least squares\n",
      "2.6585843767913944\n",
      "GCN\n",
      "2.593864162644314\n",
      "CG\n",
      "2.5260607560592976\n",
      "2.526723248333008\n",
      "200 300 400\n",
      "Least squares\n",
      "2.771158576940523\n",
      "GCN\n",
      "2.5990703204432792\n",
      "CG\n",
      "2.5293105577922925\n",
      "2.526166410079507\n",
      "300 400 500\n",
      "Least squares\n",
      "2.7200521222898715\n",
      "GCN\n",
      "2.609467830263047\n",
      "CG\n",
      "2.5216263790386306\n",
      "2.522306430264847\n"
     ]
    }
   ],
   "source": [
    "import CG\n",
    "import numpy as np\n",
    "\n",
    "for i in range(4):\n",
    "    si = i*100\n",
    "    ti = (i+1)*100\n",
    "    ei = (i+2)*100\n",
    "    print(f'{si} {ti} {ei}')\n",
    "    trainFeat = feat_t[si:ti]\n",
    "    testFeat = feat_t[ti:ei]\n",
    "    feat = feat_t[si:ei]\n",
    "    trainA = CG.cosineSimilarityAdjacency(trainFeat, trainFeat)\n",
    "    A = CG.cosineSimilarityAdjacency(feat, feat)\n",
    "    trainLabels = ages_t[si:ti]\n",
    "    testLabels = ages_t[ti:ei]\n",
    "    testLabels_np = testLabels.detach().cpu().numpy()\n",
    "    print('Least squares')\n",
    "    w, _, _, _ = torch.linalg.lstsq(trainFeat, trainLabels)\n",
    "    pred = testFeat@w\n",
    "    pred = pred.detach().cpu().numpy()\n",
    "    print(np.mean((pred-testLabels_np)**2)**0.5)\n",
    "    print('GCN')\n",
    "    gcn = CG.createGCN([2*264*264,100,1], torch.nn.MSELoss())\n",
    "    CG.trainGCN(gcn, trainA, trainFeat, trainLabels, nEpochs=2000, verbose=False)\n",
    "    pred = gcn([A, feat]).flatten()[(ti-si):].detach().cpu().numpy()\n",
    "    print(np.mean((pred-testLabels_np)**2)**0.5)\n",
    "    print('CG')\n",
    "    cg = CG.createCG([4*264*264,100,1], torch.nn.MSELoss())\n",
    "    CG.trainCG(cg, trainFeat, trainLabels, verbose=False)\n",
    "    wp,wn = CG.evalCG(cg, trainFeat, trainLabels, testFeat, verbose=False)\n",
    "    print(np.mean((wp-testLabels_np)**2)**0.5)\n",
    "    print(np.mean((wn-testLabels_np)**2)**0.5)\n"
   ]
  },
  {
   "cell_type": "code",
   "execution_count": null,
   "id": "48620bb7",
   "metadata": {},
   "outputs": [],
   "source": []
  }
 ],
 "metadata": {
  "kernelspec": {
   "display_name": "torch",
   "language": "python",
   "name": "torch"
  },
  "language_info": {
   "codemirror_mode": {
    "name": "ipython",
    "version": 3
   },
   "file_extension": ".py",
   "mimetype": "text/x-python",
   "name": "python",
   "nbconvert_exporter": "python",
   "pygments_lexer": "ipython3",
   "version": "3.7.12"
  }
 },
 "nbformat": 4,
 "nbformat_minor": 5
}
