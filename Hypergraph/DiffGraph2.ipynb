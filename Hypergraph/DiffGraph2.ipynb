{
 "cells": [
  {
   "cell_type": "code",
   "execution_count": 1,
   "id": "f32c7951",
   "metadata": {},
   "outputs": [
    {
     "name": "stdout",
     "output_type": "stream",
     "text": [
      "941\n"
     ]
    }
   ],
   "source": [
    "import pickle\n",
    "\n",
    "# Load meta dict\n",
    "\n",
    "with open('../../PNC/AllSubjectsMeta.bin', 'rb') as f:\n",
    "    meta = pickle.load(f)\n",
    "    \n",
    "print(len(list(meta.keys())))"
   ]
  },
  {
   "cell_type": "code",
   "execution_count": 2,
   "id": "e9e92110",
   "metadata": {},
   "outputs": [
    {
     "name": "stdout",
     "output_type": "stream",
     "text": [
      "Loading complete\n",
      "650\n",
      "650\n"
     ]
    }
   ],
   "source": [
    "blacklist = [180] # emoid: 180; rest: 220,233,274,284,472\n",
    "\n",
    "subids = [_id for _id in meta if 'nback' in meta[_id] \n",
    "          and 'emoid' in meta[_id] and int(meta[_id]['emoid']) not in [180]] \n",
    "\n",
    "# Load timeseries\n",
    "\n",
    "def loadSeries(prefix, para, idx):\n",
    "    with open('{:}/{:}_fmri_power264/timeseries/{:}.bin'.format(prefix, para, idx), 'rb') as f:\n",
    "        return pickle.load(f)\n",
    "\n",
    "nback_ts = [loadSeries('../../PNC', 'nback', meta[subid]['nback']) for subid in subids]\n",
    "emoid_ts = [loadSeries('../../PNC', 'emoid', meta[subid]['emoid']) for subid in subids]\n",
    "\n",
    "print('Loading complete')\n",
    "print(len(nback_ts))\n",
    "print(len(emoid_ts))"
   ]
  },
  {
   "cell_type": "code",
   "execution_count": 3,
   "id": "d0aa132a",
   "metadata": {},
   "outputs": [
    {
     "name": "stdout",
     "output_type": "stream",
     "text": [
      "torch.Size([650, 139392])\n",
      "torch.Size([580, 139392])\n",
      "torch.Size([70, 139392])\n",
      "torch.Size([650, 139392])\n",
      "torch.Size([580, 139392])\n",
      "torch.Size([70, 139392])\n"
     ]
    }
   ],
   "source": [
    "# Convert to pytorch\n",
    "# Split into train and test\n",
    "\n",
    "import numpy as np\n",
    "import torch\n",
    "\n",
    "nTrain = 580\n",
    "\n",
    "def makePoly(np, order):\n",
    "    nps = [np]\n",
    "    for i in range(order-1):\n",
    "        nps.append(nps[-1]*np)\n",
    "    return torch.cat(nps,dim=1)\n",
    "\n",
    "nback_p_t = torch.from_numpy(np.stack([np.corrcoef(ts).flatten() for ts in nback_ts])).float()\n",
    "emoid_p_t = torch.from_numpy(np.stack([np.corrcoef(ts).flatten() for ts in emoid_ts])).float()\n",
    "\n",
    "nback_p_t = makePoly(nback_p_t,2)\n",
    "emoid_p_t = makePoly(emoid_p_t,2)\n",
    "\n",
    "perm = torch.randperm(nback_p_t.shape[0])\n",
    "trainIdx = perm[:nTrain]\n",
    "testIdx = perm[nTrain:]\n",
    "\n",
    "nback_p_t_train = nback_p_t[trainIdx].cuda()\n",
    "nback_p_t_test = nback_p_t[testIdx].cuda()\n",
    "\n",
    "emoid_p_t_train = emoid_p_t[trainIdx].cuda()\n",
    "emoid_p_t_test = emoid_p_t[testIdx].cuda()\n",
    "\n",
    "print(nback_p_t.shape)\n",
    "print(nback_p_t_train.shape)\n",
    "print(nback_p_t_test.shape)\n",
    "\n",
    "print(emoid_p_t.shape)\n",
    "print(emoid_p_t_train.shape)\n",
    "print(emoid_p_t_test.shape)"
   ]
  },
  {
   "cell_type": "code",
   "execution_count": 4,
   "id": "332915e3",
   "metadata": {},
   "outputs": [
    {
     "name": "stdout",
     "output_type": "stream",
     "text": [
      "torch.Size([650])\n",
      "torch.Size([580])\n",
      "torch.Size([70])\n"
     ]
    }
   ],
   "source": [
    "# Ages\n",
    "\n",
    "ages = []\n",
    "\n",
    "for _id in meta:\n",
    "    if 'nback' in meta[_id] and 'emoid' in meta[_id] and int(meta[_id]['emoid']) not in [180]:\n",
    "        ages.append(meta[_id]['meta']['AgeInMonths']/12)\n",
    "\n",
    "ages = torch.tensor(ages).float()\n",
    "ages_train = ages[trainIdx].cuda()\n",
    "ages_test = ages[testIdx].cuda()\n",
    "\n",
    "print(ages.shape)\n",
    "print(ages_train.shape)\n",
    "print(ages_test.shape)"
   ]
  },
  {
   "cell_type": "code",
   "execution_count": 5,
   "id": "c2ba9321",
   "metadata": {},
   "outputs": [
    {
     "name": "stdout",
     "output_type": "stream",
     "text": [
      "epoch 0\n",
      "\tposLoss=4.707944869995117 negLoss=4.708106994628906 complete=0\n",
      "\tposLoss=4.186365604400635 negLoss=4.184183120727539 complete=10000\n",
      "\tposLoss=4.036390781402588 negLoss=4.03204345703125 complete=20000\n",
      "\tposLoss=3.777351140975952 negLoss=3.776902198791504 complete=30000\n",
      "\tposLoss=3.7437584400177 negLoss=3.742169141769409 complete=40000\n",
      "\tposLoss=3.5148448944091797 negLoss=3.5136678218841553 complete=50000\n",
      "\tposLoss=3.4495067596435547 negLoss=3.448876142501831 complete=60000\n",
      "\tposLoss=3.101881504058838 negLoss=3.1003713607788086 complete=70000\n",
      "\tposLoss=3.154048442840576 negLoss=3.1508636474609375 complete=80000\n",
      "\tposLoss=2.952937602996826 negLoss=2.9511337280273438 complete=90000\n",
      "\tposLoss=2.9285407066345215 negLoss=2.9267070293426514 complete=100000\n",
      "\tposLoss=2.775200843811035 negLoss=2.773001194000244 complete=110000\n",
      "\tposLoss=2.658264398574829 negLoss=2.657503843307495 complete=120000\n",
      "\tposLoss=2.4870433807373047 negLoss=2.483660936355591 complete=130000\n",
      "\tposLoss=2.4798476696014404 negLoss=2.476726770401001 complete=140000\n",
      "\tposLoss=2.3669545650482178 negLoss=2.365888833999634 complete=150000\n",
      "\tposLoss=2.240187168121338 negLoss=2.2362310886383057 complete=160000\n",
      "epoch 1\n",
      "\tposLoss=2.183493137359619 negLoss=2.184523582458496 complete=0\n",
      "\tposLoss=2.117748260498047 negLoss=2.1165554523468018 complete=10000\n",
      "\tposLoss=2.003401756286621 negLoss=2.001486301422119 complete=20000\n",
      "\tposLoss=1.9063621759414673 negLoss=1.9043757915496826 complete=30000\n",
      "\tposLoss=1.9349604845046997 negLoss=1.9346493482589722 complete=40000\n",
      "\tposLoss=1.7663495540618896 negLoss=1.7678618431091309 complete=50000\n",
      "\tposLoss=1.7368884086608887 negLoss=1.7375121116638184 complete=60000\n",
      "\tposLoss=1.6980422735214233 negLoss=1.7001153230667114 complete=70000\n",
      "\tposLoss=1.5928043127059937 negLoss=1.5941323041915894 complete=80000\n",
      "\tposLoss=1.5619256496429443 negLoss=1.5581190586090088 complete=90000\n",
      "\tposLoss=1.4965602159500122 negLoss=1.4992941617965698 complete=100000\n",
      "\tposLoss=1.3650773763656616 negLoss=1.3696149587631226 complete=110000\n",
      "\tposLoss=1.3444042205810547 negLoss=1.3422632217407227 complete=120000\n",
      "\tposLoss=1.2117570638656616 negLoss=1.2136000394821167 complete=130000\n",
      "\tposLoss=1.1518487930297852 negLoss=1.1515191793441772 complete=140000\n",
      "\tposLoss=1.1549135446548462 negLoss=1.1536309719085693 complete=150000\n",
      "\tposLoss=1.1049059629440308 negLoss=1.0872083902359009 complete=160000\n",
      "epoch 2\n",
      "\tposLoss=1.042136549949646 negLoss=1.0334606170654297 complete=0\n",
      "\tposLoss=0.9672005772590637 negLoss=0.9663131237030029 complete=10000\n",
      "\tposLoss=0.9317098259925842 negLoss=0.930120587348938 complete=20000\n",
      "\tposLoss=0.8808030486106873 negLoss=0.8869143128395081 complete=30000\n",
      "\tposLoss=0.8578903675079346 negLoss=0.8531708717346191 complete=40000\n",
      "\tposLoss=0.8014093041419983 negLoss=0.805042564868927 complete=50000\n",
      "\tposLoss=0.7409413456916809 negLoss=0.7390405535697937 complete=60000\n",
      "\tposLoss=0.744171679019928 negLoss=0.7436819076538086 complete=70000\n",
      "\tposLoss=0.6685472130775452 negLoss=0.6743479371070862 complete=80000\n",
      "\tposLoss=0.6357332468032837 negLoss=0.6415577530860901 complete=90000\n",
      "\tposLoss=0.6092870235443115 negLoss=0.6143544316291809 complete=100000\n",
      "\tposLoss=0.6096539497375488 negLoss=0.6031113266944885 complete=110000\n",
      "\tposLoss=0.540440559387207 negLoss=0.5371198058128357 complete=120000\n",
      "\tposLoss=0.5329250693321228 negLoss=0.5294567942619324 complete=130000\n",
      "\tposLoss=0.49557721614837646 negLoss=0.49733227491378784 complete=140000\n",
      "\tposLoss=0.49328702688217163 negLoss=0.4800586402416229 complete=150000\n",
      "\tposLoss=0.45086777210235596 negLoss=0.4615297317504883 complete=160000\n",
      "epoch 3\n",
      "\tposLoss=0.4238433539867401 negLoss=0.427886039018631 complete=0\n",
      "\tposLoss=0.4165029525756836 negLoss=0.41743364930152893 complete=10000\n",
      "\tposLoss=0.4091726541519165 negLoss=0.39861446619033813 complete=20000\n",
      "\tposLoss=0.3851727843284607 negLoss=0.3852118253707886 complete=30000\n",
      "\tposLoss=0.36668771505355835 negLoss=0.3639325201511383 complete=40000\n",
      "\tposLoss=0.3407326936721802 negLoss=0.34041649103164673 complete=50000\n",
      "\tposLoss=0.3387933671474457 negLoss=0.3419620394706726 complete=60000\n",
      "\tposLoss=0.29942190647125244 negLoss=0.2990134358406067 complete=70000\n",
      "\tposLoss=0.2918689250946045 negLoss=0.2917996644973755 complete=80000\n",
      "\tposLoss=0.2849656343460083 negLoss=0.2876981198787689 complete=90000\n",
      "\tposLoss=0.2897363305091858 negLoss=0.2866545021533966 complete=100000\n",
      "\tposLoss=0.27117305994033813 negLoss=0.26311737298965454 complete=110000\n",
      "\tposLoss=0.23971621692180634 negLoss=0.24003124237060547 complete=120000\n",
      "\tposLoss=0.26362547278404236 negLoss=0.2667020559310913 complete=130000\n",
      "\tposLoss=0.22018246352672577 negLoss=0.21866445243358612 complete=140000\n",
      "\tposLoss=0.21245820820331573 negLoss=0.21143321692943573 complete=150000\n",
      "\tposLoss=0.2030554562807083 negLoss=0.20135094225406647 complete=160000\n",
      "epoch 4\n",
      "\tposLoss=0.21920764446258545 negLoss=0.2084631770849228 complete=0\n",
      "\tposLoss=0.1897098273038864 negLoss=0.1849393993616104 complete=10000\n",
      "\tposLoss=0.1714736521244049 negLoss=0.1699845790863037 complete=20000\n",
      "\tposLoss=0.15564578771591187 negLoss=0.15656854212284088 complete=30000\n",
      "\tposLoss=0.19610659778118134 negLoss=0.21246452629566193 complete=40000\n",
      "\tposLoss=0.17455819249153137 negLoss=0.1669067144393921 complete=50000\n",
      "\tposLoss=0.14945048093795776 negLoss=0.1456100046634674 complete=60000\n",
      "\tposLoss=0.15784528851509094 negLoss=0.1518259048461914 complete=70000\n",
      "\tposLoss=0.17355883121490479 negLoss=0.1613953411579132 complete=80000\n"
     ]
    },
    {
     "ename": "KeyboardInterrupt",
     "evalue": "",
     "output_type": "error",
     "traceback": [
      "\u001b[0;31m---------------------------------------------------------------------------\u001b[0m",
      "\u001b[0;31mKeyboardInterrupt\u001b[0m                         Traceback (most recent call last)",
      "Input \u001b[0;32mIn [5]\u001b[0m, in \u001b[0;36m<module>\u001b[0;34m\u001b[0m\n\u001b[1;32m     40\u001b[0m B1 \u001b[38;5;241m=\u001b[39m nback_p_t_train[Bi,:]\n\u001b[1;32m     41\u001b[0m B2 \u001b[38;5;241m=\u001b[39m emoid_p_t_train[Bi,:]\n\u001b[0;32m---> 42\u001b[0m a \u001b[38;5;241m=\u001b[39m ages_train[\u001b[38;5;28;43mlist\u001b[39;49m\u001b[43m(\u001b[49m\u001b[43mAi\u001b[49m\u001b[43m)\u001b[49m]\n\u001b[1;32m     43\u001b[0m b \u001b[38;5;241m=\u001b[39m ages_train[\u001b[38;5;28mlist\u001b[39m(Bi)]\n\u001b[1;32m     44\u001b[0m optim\u001b[38;5;241m.\u001b[39mzero_grad()\n",
      "\u001b[0;31mKeyboardInterrupt\u001b[0m: "
     ]
    }
   ],
   "source": [
    "import torch.nn as nn\n",
    "import torch.nn.functional as F\n",
    "import itertools\n",
    "import random\n",
    "import copy\n",
    "\n",
    "nConnEdge = nback_p_t.shape[1]\n",
    "\n",
    "class DiffGraph(nn.Module):\n",
    "    def __init__(self):\n",
    "        super(DiffGraph, self).__init__()\n",
    "        self.fc1 = nn.Linear(4*nConnEdge,1).float().cuda()\n",
    "        \n",
    "    def forward(self, x):\n",
    "        x = self.fc1(x)\n",
    "        return x\n",
    "    \n",
    "dg = DiffGraph()\n",
    "optim = torch.optim.Adam(dg.parameters(), lr=1e-5, weight_decay=0)\n",
    "\n",
    "nEpoch = 10\n",
    "bSize = 1000\n",
    "pPeriod = 10000\n",
    "\n",
    "pairs = list(itertools.combinations_with_replacement(np.arange(nTrain),2))\n",
    "\n",
    "for i in range(nEpoch):\n",
    "    randPairs = copy.copy(pairs)\n",
    "    random.shuffle(randPairs)\n",
    "    nComplete = 0\n",
    "    print(f'epoch {i}')\n",
    "    while nComplete < len(pairs):\n",
    "        todo = len(pairs)-nComplete\n",
    "        if todo > bSize:\n",
    "            todo = bSize\n",
    "        batchPairs = randPairs[nComplete:nComplete+todo]\n",
    "        Ai, Bi = zip(*batchPairs)\n",
    "        A1 = nback_p_t_train[Ai,:]\n",
    "        A2 = emoid_p_t_train[Ai,:]\n",
    "        B1 = nback_p_t_train[Bi,:]\n",
    "        B2 = emoid_p_t_train[Bi,:]\n",
    "        a = ages_train[list(Ai)]\n",
    "        b = ages_train[list(Bi)]\n",
    "        optim.zero_grad()\n",
    "        pos = torch.cat([A1,A2,B1,B2],dim=1)\n",
    "        neg = torch.cat([B1,B2,A1,A2],dim=1)\n",
    "        posRes = dg(pos).flatten()\n",
    "        negRes = dg(neg).flatten()\n",
    "        posLoss = torch.mean((posRes-(a-b))**2)**0.5\n",
    "        negLoss = torch.mean((negRes-(b-a))**2)**0.5\n",
    "        (posLoss+negLoss).backward()\n",
    "        optim.step()\n",
    "        if nComplete % pPeriod == 0:\n",
    "            print(f'\\tposLoss={posLoss} negLoss={negLoss} complete={nComplete}')\n",
    "        nComplete += todo\n",
    "        \n",
    "print('Complete')"
   ]
  },
  {
   "cell_type": "code",
   "execution_count": 19,
   "id": "69b454c7",
   "metadata": {},
   "outputs": [
    {
     "data": {
      "image/png": "[encoded data removed]",
      "text/plain": [
       "<Figure size 432x288 with 1 Axes>"
      ]
     },
     "metadata": {
      "needs_background": "light"
     },
     "output_type": "display_data"
    },
    {
     "name": "stdout",
     "output_type": "stream",
     "text": [
      "tensor(18., device='cuda:0')\n"
     ]
    }
   ],
   "source": [
    "# Test 1 subject\n",
    "\n",
    "import matplotlib.pyplot as plt\n",
    "\n",
    "idx = 3\n",
    "\n",
    "A1 = nback_p_t_test[idx].expand(nTrain,-1)\n",
    "A2 = emoid_p_t_test[idx].expand(nTrain,-1)\n",
    "a = ages_test[idx].expand(nTrain)\n",
    "\n",
    "B1 = nback_p_t_train\n",
    "B2 = emoid_p_t_train\n",
    "b = ages_train\n",
    "\n",
    "pos = torch.cat([A1,A2,B1,B2],dim=1)\n",
    "neg = torch.cat([B1,B2,A1,A2],dim=1)\n",
    "posRes = dg(pos).flatten()\n",
    "negRes = dg(neg).flatten()\n",
    "\n",
    "agePos = posRes + b\n",
    "ageNeg = b - negRes\n",
    "\n",
    "ap = agePos.detach().cpu().numpy()\n",
    "an = ageNeg.detach().cpu().numpy()\n",
    "\n",
    "plt.hist([ap, an], histtype='step')\n",
    "plt.show()\n",
    "\n",
    "print(a[0])"
   ]
  },
  {
   "cell_type": "code",
   "execution_count": 6,
   "id": "3a78ba6b",
   "metadata": {},
   "outputs": [],
   "source": [
    "optim.zero_grad()"
   ]
  },
  {
   "cell_type": "code",
   "execution_count": 7,
   "id": "04a99122",
   "metadata": {},
   "outputs": [
    {
     "name": "stdout",
     "output_type": "stream",
     "text": [
      "done 0\n",
      "done 20\n",
      "done 40\n",
      "done 60\n",
      "Positive\n",
      "[[1.         0.83539505]\n",
      " [0.83539505 1.        ]]\n",
      "1.9177379781525532\n",
      "1.5357285363333566\n",
      "Negative\n",
      "[[1.         0.83359745]\n",
      " [0.83359745 1.        ]]\n",
      "1.9465616659300102\n",
      "1.5493137768336704\n",
      "Mean\n",
      "[[1.        0.8345521]\n",
      " [0.8345521 1.       ]]\n",
      "1.930638588327548\n",
      "1.5401262215205602\n",
      "Least squares\n",
      "[[1.         0.82654737]\n",
      " [0.82654737 1.        ]]\n",
      "1.9702234960505491\n",
      "1.5464058\n"
     ]
    },
    {
     "ename": "NameError",
     "evalue": "name 'plt' is not defined",
     "output_type": "error",
     "traceback": [
      "\u001b[0;31m---------------------------------------------------------------------------\u001b[0m",
      "\u001b[0;31mNameError\u001b[0m                                 Traceback (most recent call last)",
      "Input \u001b[0;32mIn [7]\u001b[0m, in \u001b[0;36m<module>\u001b[0;34m\u001b[0m\n\u001b[1;32m     86\u001b[0m \u001b[38;5;28mprint\u001b[39m(rmse)\n\u001b[1;32m     87\u001b[0m \u001b[38;5;28mprint\u001b[39m(mae)\n\u001b[0;32m---> 89\u001b[0m \u001b[43mplt\u001b[49m\u001b[38;5;241m.\u001b[39mplot(y, label\u001b[38;5;241m=\u001b[39m\u001b[38;5;124m'\u001b[39m\u001b[38;5;124mTruth\u001b[39m\u001b[38;5;124m'\u001b[39m)\n\u001b[1;32m     90\u001b[0m plt\u001b[38;5;241m.\u001b[39mplot(ap, label\u001b[38;5;241m=\u001b[39m\u001b[38;5;124m'\u001b[39m\u001b[38;5;124mPrediction (Pos)\u001b[39m\u001b[38;5;124m'\u001b[39m)\n\u001b[1;32m     91\u001b[0m plt\u001b[38;5;241m.\u001b[39mplot(an, label\u001b[38;5;241m=\u001b[39m\u001b[38;5;124m'\u001b[39m\u001b[38;5;124mPrediction (Neg)\u001b[39m\u001b[38;5;124m'\u001b[39m)\n",
      "\u001b[0;31mNameError\u001b[0m: name 'plt' is not defined"
     ]
    }
   ],
   "source": [
    "# Test\n",
    "\n",
    "import matplotlib.pyplot as plt\n",
    "\n",
    "ap = np.zeros(len(testIdx))\n",
    "an = np.zeros(len(testIdx))\n",
    "\n",
    "for i in range(nback_p_t_test.shape[0]):\n",
    "    if i % 20 == 0:\n",
    "        print(f'done {i}')\n",
    "        \n",
    "    A1 = nback_p_t_test[i].expand(nTrain,-1)\n",
    "    A2 = emoid_p_t_test[i].expand(nTrain,-1)\n",
    "    a = ages_test[i].expand(nTrain)\n",
    "\n",
    "    B1 = nback_p_t_train\n",
    "    B2 = emoid_p_t_train\n",
    "    b = ages_train\n",
    "\n",
    "    pos = torch.cat([A1,A2,B1,B2],dim=1)\n",
    "    neg = torch.cat([B1,B2,A1,A2],dim=1)\n",
    "    posRes = dg(pos).flatten()\n",
    "    negRes = dg(neg).flatten()\n",
    "\n",
    "    agePos = posRes + b\n",
    "    ageNeg = b - negRes\n",
    "\n",
    "    ap[i] = torch.mean(agePos).detach().cpu().numpy()\n",
    "    an[i] = torch.mean(ageNeg).detach().cpu().numpy()\n",
    "\n",
    "# pred = gat(rest_ts_t_test)\n",
    "# pred = pred.flatten().detach().cpu().numpy()\n",
    "y = ages_test.detach().cpu().numpy()\n",
    "\n",
    "idcs = np.argsort(y)\n",
    "ap = ap[idcs]\n",
    "an = an[idcs]\n",
    "am = (ap+an)/2\n",
    "y = y[idcs]\n",
    "\n",
    "print('Positive')\n",
    "\n",
    "corr = np.corrcoef(y, ap)\n",
    "rmse = np.mean((y-ap)**2)**0.5\n",
    "mae = np.mean(np.abs(y-ap))\n",
    "\n",
    "print(corr)\n",
    "print(rmse)\n",
    "print(mae)\n",
    "\n",
    "print('Negative')\n",
    "\n",
    "corr = np.corrcoef(y, an)\n",
    "rmse = np.mean((y-an)**2)**0.5\n",
    "mae = np.mean(np.abs(y-an))\n",
    "\n",
    "print(corr)\n",
    "print(rmse)\n",
    "print(mae)\n",
    "\n",
    "print('Mean')\n",
    "\n",
    "corr = np.corrcoef(y, am)\n",
    "rmse = np.mean((y-am)**2)**0.5\n",
    "mae = np.mean(np.abs(y-am))\n",
    "\n",
    "print(corr)\n",
    "print(rmse)\n",
    "print(mae)\n",
    "\n",
    "w,_,_,_ = torch.linalg.lstsq(torch.cat([nback_p_t_train,emoid_p_t_train],dim=1),ages_train)\n",
    "\n",
    "a = torch.cat([nback_p_t_test,emoid_p_t_test],dim=1)@w\n",
    "a = a.detach().cpu().numpy()\n",
    "y = ages_test.detach().cpu().numpy()\n",
    "\n",
    "idcs = np.argsort(y)\n",
    "a = a[idcs]\n",
    "y = y[idcs]\n",
    "\n",
    "print('Least squares')\n",
    "\n",
    "corr = np.corrcoef(y, a)\n",
    "rmse = np.mean((y-a)**2)**0.5\n",
    "mae = np.mean(np.abs(y-a))\n",
    "\n",
    "print(corr)\n",
    "print(rmse)\n",
    "print(mae)\n",
    "\n",
    "plt.plot(y, label='Truth')\n",
    "plt.plot(ap, label='Prediction (Pos)')\n",
    "plt.plot(an, label='Prediction (Neg)')\n",
    "plt.plot(a, label='Prediction (Lstsq)')\n",
    "plt.legend()\n",
    "plt.show()\n",
    "\n",
    "plt.scatter(y, a)\n",
    "plt.show()"
   ]
  },
  {
   "cell_type": "code",
   "execution_count": 25,
   "id": "63515294",
   "metadata": {},
   "outputs": [
    {
     "name": "stdout",
     "output_type": "stream",
     "text": [
      "done 0\n",
      "done 50\n",
      "done 100\n",
      "done 150\n",
      "done 200\n",
      "done 250\n",
      "done 300\n",
      "done 350\n",
      "done 400\n",
      "done 450\n",
      "done 500\n",
      "done 550\n",
      "Complete\n"
     ]
    }
   ],
   "source": [
    "ep = np.zeros([nTrain,nTrain])\n",
    "en = np.zeros([nTrain,nTrain])\n",
    "\n",
    "bSize = 100\n",
    "\n",
    "for i in range(nback_p_t_train.shape[0]):\n",
    "    \n",
    "    nComplete = 0\n",
    "    while nComplete < nTrain:\n",
    "        todo = nTrain-nComplete\n",
    "        if todo > bSize:\n",
    "            todo = bSize\n",
    "        \n",
    "        A1 = nback_p_t_train[i].expand(todo,-1)\n",
    "        A2 = emoid_p_t_train[i].expand(todo,-1)\n",
    "        a = ages_train[i].expand(todo)\n",
    "\n",
    "        B1 = nback_p_t_train[nComplete:nComplete+todo]\n",
    "        B2 = emoid_p_t_train[nComplete:nComplete+todo]\n",
    "        b = ages_train[nComplete:nComplete+todo]\n",
    "\n",
    "        pos = torch.cat([A1,A2,B1,B2],dim=1)\n",
    "        neg = torch.cat([B1,B2,A1,A2],dim=1)\n",
    "        posRes = (dg(pos).flatten()-(a-b)).detach().cpu().numpy()\n",
    "        negRes = (dg(neg).flatten()-(b-a)).detach().cpu().numpy()\n",
    "        \n",
    "        optim.zero_grad()\n",
    "\n",
    "        ep[i,nComplete:nComplete+todo] = posRes\n",
    "        en[i,nComplete:nComplete+todo] = negRes\n",
    "    \n",
    "        nComplete += todo\n",
    "        \n",
    "    if i % 50 == 0:\n",
    "        print(f'done {i}')\n",
    "    \n",
    "print('Complete')"
   ]
  },
  {
   "cell_type": "code",
   "execution_count": 26,
   "id": "393d516b",
   "metadata": {},
   "outputs": [
    {
     "data": {
      "image/png": "[encoded data removed]",
      "text/plain": [
       "<Figure size 432x288 with 1 Axes>"
      ]
     },
     "metadata": {
      "needs_background": "light"
     },
     "output_type": "display_data"
    },
    {
     "data": {
      "image/png": "[encoded data removed]",
      "text/plain": [
       "<Figure size 432x288 with 1 Axes>"
      ]
     },
     "metadata": {
      "needs_background": "light"
     },
     "output_type": "display_data"
    }
   ],
   "source": [
    "errP = np.sum(np.abs(ep),axis=0)\n",
    "errN = np.sum(np.abs(en),axis=0)\n",
    "\n",
    "idcsP = np.argsort(errP)\n",
    "plt.plot(errP[idcsP],label='positive fail')\n",
    "plt.plot(errN[idcsP],label='negative fail')\n",
    "plt.legend()\n",
    "plt.title('Positive idcs')\n",
    "plt.show()\n",
    "\n",
    "idcsN = np.argsort(errN)\n",
    "plt.plot(errP[idcsN],label='positive fail')\n",
    "plt.plot(errN[idcsN],label='negative fail')\n",
    "plt.legend()\n",
    "plt.title('Negative idcs')\n",
    "plt.show()"
   ]
  },
  {
   "cell_type": "code",
   "execution_count": 23,
   "id": "d1721411",
   "metadata": {},
   "outputs": [],
   "source": [
    "# Test whether each \"half\" of the model is just calculating age...\n",
    "        \n",
    "A1 = nback_p_t_test\n",
    "A2 = emoid_p_t_test\n",
    "a = ages_test\n",
    "\n",
    "feat = torch.cat([A1,A2],dim=1)\n",
    "ap = (feat@(dg.fc1.weight.T[0:2*nConnEdge])).detach().flatten().cpu().numpy()\n",
    "an = (feat@(dg.fc1.weight.T[2*nConnEdge:])).detach().flatten().cpu().numpy()"
   ]
  },
  {
   "cell_type": "code",
   "execution_count": 24,
   "id": "27a26109",
   "metadata": {},
   "outputs": [
    {
     "name": "stdout",
     "output_type": "stream",
     "text": [
      "[-3.9994195e+00 -2.9360106e+00 -7.4545569e+00 -2.9587815e+00\n",
      " -1.6605239e+00 -6.9307909e+00 -3.2632837e+00 -1.2878835e+00\n",
      " -2.3714223e+00  3.4677064e-01 -4.1940389e+00 -1.3300239e+00\n",
      " -5.2521033e+00  6.6557527e-04  1.4773754e+00 -9.3378105e+00\n",
      " -7.0454288e+00 -2.3887401e+00 -6.7138176e+00 -1.5086640e+00\n",
      " -6.8632507e+00 -9.0726690e+00 -2.0000181e+00 -2.5045319e+00\n",
      " -1.6469177e+00 -5.4918528e-03 -8.4000593e-01 -4.2390547e+00\n",
      " -2.6370306e+00 -3.6620152e+00 -8.3521395e+00 -3.4195974e+00\n",
      " -2.2636886e+00 -1.5277442e+00 -3.6619051e+00 -3.8357801e+00\n",
      " -4.9784815e-01 -1.7432914e+00 -1.3944836e+00 -5.6943769e+00\n",
      " -4.9274898e+00 -2.9306750e+00 -3.5707545e+00 -5.3220558e+00\n",
      " -1.1906965e+00 -3.6235218e+00 -2.5181353e+00 -4.1031256e+00\n",
      " -5.6150980e+00 -2.2948825e+00 -9.2306912e-01 -5.9485803e+00\n",
      " -4.5457325e+00 -4.9992881e+00 -4.0936346e+00 -4.2918215e+00\n",
      " -1.3496220e+00 -6.7276769e+00 -1.3104749e-01 -1.9282398e+00\n",
      " -2.0014293e+00 -7.9384756e+00 -4.1459155e+00 -1.5993046e+00\n",
      " -3.0006299e+00 -2.0086675e+00 -2.6550002e+00 -2.2223504e+00\n",
      " -5.4342999e+00 -4.4301629e-01]\n"
     ]
    }
   ],
   "source": [
    "print(ap)"
   ]
  },
  {
   "cell_type": "code",
   "execution_count": 25,
   "id": "c1a76f7e",
   "metadata": {},
   "outputs": [
    {
     "name": "stdout",
     "output_type": "stream",
     "text": [
      "[ 4.002638    2.8671267   7.4398427   3.0184102   1.5868872   6.9051905\n",
      "  3.1912274   1.2803277   2.3687687  -0.35895693  4.1526504   1.4068382\n",
      "  5.312274    0.08012775 -1.4634862   9.349366    7.0834675   2.3801262\n",
      "  6.650169    1.5015126   6.7949095   9.116478    1.9552181   2.462277\n",
      "  1.7256129  -0.01675829  0.8610269   4.19878     2.6207201   3.6510751\n",
      "  8.4024515   3.3754156   2.2049167   1.5251195   3.6512995   3.8923\n",
      "  0.3867744   1.792099    1.2934995   5.6111283   5.00206     2.8690846\n",
      "  3.4782767   5.338763    1.1603817   3.6208675   2.5581589   3.9837034\n",
      "  5.7152557   2.3269281   1.0243747   5.8673224   4.596298    4.96644\n",
      "  3.9758844   4.266554    1.4357065   6.59311     0.06915273  1.9487572\n",
      "  2.041794    7.906702    4.0863686   1.6365352   2.8707268   1.8757174\n",
      "  2.6902733   2.1517575   5.4544964   0.34815127]\n"
     ]
    }
   ],
   "source": [
    "print(an)"
   ]
  },
  {
   "cell_type": "code",
   "execution_count": 26,
   "id": "013c6c9d",
   "metadata": {},
   "outputs": [
    {
     "name": "stdout",
     "output_type": "stream",
     "text": [
      "[ 8.0020571e+00  5.8031373e+00  1.4894400e+01  5.9771919e+00\n",
      "  3.2474113e+00  1.3835981e+01  6.4545112e+00  2.5682111e+00\n",
      "  4.7401910e+00 -7.0572758e-01  8.3466892e+00  2.7368622e+00\n",
      "  1.0564377e+01  7.9462171e-02 -2.9408617e+00  1.8687176e+01\n",
      "  1.4128897e+01  4.7688665e+00  1.3363987e+01  3.0101767e+00\n",
      "  1.3658160e+01  1.8189148e+01  3.9552362e+00  4.9668088e+00\n",
      "  3.3725305e+00 -1.1266440e-02  1.7010329e+00  8.4378347e+00\n",
      "  5.2577505e+00  7.3130903e+00  1.6754591e+01  6.7950130e+00\n",
      "  4.4686050e+00  3.0528636e+00  7.3132048e+00  7.7280798e+00\n",
      "  8.8462257e-01  3.5353904e+00  2.6879830e+00  1.1305506e+01\n",
      "  9.9295502e+00  5.7997599e+00  7.0490313e+00  1.0660819e+01\n",
      "  2.3510780e+00  7.2443895e+00  5.0762939e+00  8.0868292e+00\n",
      "  1.1330354e+01  4.6218109e+00  1.9474438e+00  1.1815903e+01\n",
      "  9.1420307e+00  9.9657288e+00  8.0695190e+00  8.5583754e+00\n",
      "  2.7853284e+00  1.3320787e+01  2.0020021e-01  3.8769970e+00\n",
      "  4.0432234e+00  1.5845178e+01  8.2322845e+00  3.2358398e+00\n",
      "  5.8713570e+00  3.8843849e+00  5.3452735e+00  4.3741078e+00\n",
      "  1.0888796e+01  7.9116756e-01]\n"
     ]
    }
   ],
   "source": [
    "print(an-ap)"
   ]
  },
  {
   "cell_type": "code",
   "execution_count": 27,
   "id": "ad56de49",
   "metadata": {},
   "outputs": [
    {
     "name": "stdout",
     "output_type": "stream",
     "text": [
      "Parameter containing:\n",
      "tensor([-0.0008], device='cuda:0', requires_grad=True)\n"
     ]
    }
   ],
   "source": [
    "print(dg.fc1.bias)"
   ]
  },
  {
   "cell_type": "code",
   "execution_count": null,
   "id": "e0acd628",
   "metadata": {},
   "outputs": [],
   "source": []
  }
 ],
 "metadata": {
  "kernelspec": {
   "display_name": "Python 3 (ipykernel)",
   "language": "python",
   "name": "python3"
  },
  "language_info": {
   "codemirror_mode": {
    "name": "ipython",
    "version": 3
   },
   "file_extension": ".py",
   "mimetype": "text/x-python",
   "name": "python",
   "nbconvert_exporter": "python",
   "pygments_lexer": "ipython3",
   "version": "3.10.2"
  }
 },
 "nbformat": 4,
 "nbformat_minor": 5
}
