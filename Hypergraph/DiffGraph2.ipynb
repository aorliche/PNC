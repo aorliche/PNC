{
 "cells": [
  {
   "cell_type": "code",
   "execution_count": 2,
   "id": "f32c7951",
   "metadata": {},
   "outputs": [
    {
     "name": "stdout",
     "output_type": "stream",
     "text": [
      "941\n"
     ]
    }
   ],
   "source": [
    "import pickle\n",
    "\n",
    "# Load meta dict\n",
    "\n",
    "with open('../../PNC/AllSubjectsMeta.bin', 'rb') as f:\n",
    "    meta = pickle.load(f)\n",
    "    \n",
    "print(len(list(meta.keys())))"
   ]
  },
  {
   "cell_type": "code",
   "execution_count": 3,
   "id": "e9e92110",
   "metadata": {},
   "outputs": [
    {
     "name": "stdout",
     "output_type": "stream",
     "text": [
      "Loading complete\n",
      "650\n",
      "650\n"
     ]
    }
   ],
   "source": [
    "blacklist = [180] # emoid: 180; rest: 220,233,274,284,472\n",
    "\n",
    "subids = [_id for _id in meta if 'nback' in meta[_id] \n",
    "          and 'emoid' in meta[_id] and int(meta[_id]['emoid']) not in [180]] \n",
    "\n",
    "# Load timeseries\n",
    "\n",
    "def loadSeries(prefix, para, idx):\n",
    "    with open('{:}/{:}_fmri_power264/timeseries/{:}.bin'.format(prefix, para, idx), 'rb') as f:\n",
    "        return pickle.load(f)\n",
    "\n",
    "nback_ts = [loadSeries('../../PNC', 'nback', meta[subid]['nback']) for subid in subids]\n",
    "emoid_ts = [loadSeries('../../PNC', 'emoid', meta[subid]['emoid']) for subid in subids]\n",
    "\n",
    "print('Loading complete')\n",
    "print(len(nback_ts))\n",
    "print(len(emoid_ts))"
   ]
  },
  {
   "cell_type": "code",
   "execution_count": 16,
   "id": "d0aa132a",
   "metadata": {},
   "outputs": [
    {
     "name": "stdout",
     "output_type": "stream",
     "text": [
      "torch.Size([650, 69696])\n",
      "torch.Size([580, 69696])\n",
      "torch.Size([70, 69696])\n",
      "torch.Size([650, 69696])\n",
      "torch.Size([580, 69696])\n",
      "torch.Size([70, 69696])\n"
     ]
    }
   ],
   "source": [
    "# Convert to pytorch\n",
    "# Split into train and test\n",
    "\n",
    "import numpy as np\n",
    "import torch\n",
    "\n",
    "nTrain = 580\n",
    "\n",
    "def makePoly(np, order):\n",
    "    nps = [np]\n",
    "    for i in range(order-1):\n",
    "        nps.append(nps[-1]*np)\n",
    "    return torch.cat(nps,dim=1)\n",
    "\n",
    "nback_p_t = torch.from_numpy(np.stack([np.corrcoef(ts).flatten() for ts in nback_ts])).float()\n",
    "emoid_p_t = torch.from_numpy(np.stack([np.corrcoef(ts).flatten() for ts in emoid_ts])).float()\n",
    "\n",
    "# nback_p_t = makePoly(nback_p_t,3)\n",
    "# emoid_p_t = makePoly(emoid_p_t,3)\n",
    "\n",
    "perm = torch.randperm(nback_p_t.shape[0])\n",
    "trainIdx = perm[:nTrain]\n",
    "testIdx = perm[nTrain:]\n",
    "\n",
    "nback_p_t_train = nback_p_t[trainIdx].cuda()\n",
    "nback_p_t_test = nback_p_t[testIdx].cuda()\n",
    "\n",
    "emoid_p_t_train = emoid_p_t[trainIdx].cuda()\n",
    "emoid_p_t_test = emoid_p_t[testIdx].cuda()\n",
    "\n",
    "print(nback_p_t.shape)\n",
    "print(nback_p_t_train.shape)\n",
    "print(nback_p_t_test.shape)\n",
    "\n",
    "print(emoid_p_t.shape)\n",
    "print(emoid_p_t_train.shape)\n",
    "print(emoid_p_t_test.shape)"
   ]
  },
  {
   "cell_type": "code",
   "execution_count": 17,
   "id": "332915e3",
   "metadata": {},
   "outputs": [
    {
     "name": "stdout",
     "output_type": "stream",
     "text": [
      "torch.Size([650])\n",
      "torch.Size([580])\n",
      "torch.Size([70])\n"
     ]
    }
   ],
   "source": [
    "# Ages\n",
    "\n",
    "ages = []\n",
    "\n",
    "for _id in meta:\n",
    "    if 'nback' in meta[_id] and 'emoid' in meta[_id] and int(meta[_id]['emoid']) not in [180]:\n",
    "        ages.append(meta[_id]['meta']['AgeInMonths']/12)\n",
    "\n",
    "ages = torch.tensor(ages).float()\n",
    "ages_train = ages[trainIdx].cuda()\n",
    "ages_test = ages[testIdx].cuda()\n",
    "\n",
    "print(ages.shape)\n",
    "print(ages_train.shape)\n",
    "print(ages_test.shape)"
   ]
  },
  {
   "cell_type": "code",
   "execution_count": 18,
   "id": "c2ba9321",
   "metadata": {},
   "outputs": [
    {
     "name": "stdout",
     "output_type": "stream",
     "text": [
      "epoch 0\n",
      "\tposLoss=4.589054584503174 negLoss=4.604941368103027 complete=0\n",
      "\tposLoss=4.409933567047119 negLoss=4.398806095123291 complete=10000\n",
      "\tposLoss=4.342199802398682 negLoss=4.342113971710205 complete=20000\n",
      "\tposLoss=4.029332637786865 negLoss=4.038797378540039 complete=30000\n",
      "\tposLoss=3.930035352706909 negLoss=3.933579683303833 complete=40000\n",
      "\tposLoss=4.021901607513428 negLoss=4.025534629821777 complete=50000\n",
      "\tposLoss=3.5748610496520996 negLoss=3.5763044357299805 complete=60000\n",
      "\tposLoss=3.5996811389923096 negLoss=3.6127805709838867 complete=70000\n",
      "\tposLoss=3.7174201011657715 negLoss=3.719237804412842 complete=80000\n",
      "\tposLoss=3.510512590408325 negLoss=3.50844144821167 complete=90000\n",
      "\tposLoss=3.440521240234375 negLoss=3.442333459854126 complete=100000\n",
      "\tposLoss=3.2999210357666016 negLoss=3.3014535903930664 complete=110000\n",
      "\tposLoss=3.191068649291992 negLoss=3.189735174179077 complete=120000\n",
      "\tposLoss=3.124992609024048 negLoss=3.118750810623169 complete=130000\n",
      "\tposLoss=3.1137735843658447 negLoss=3.118349313735962 complete=140000\n",
      "\tposLoss=3.1374855041503906 negLoss=3.142014741897583 complete=150000\n",
      "\tposLoss=3.0986273288726807 negLoss=3.101361036300659 complete=160000\n",
      "epoch 1\n",
      "\tposLoss=2.8844189643859863 negLoss=2.884002447128296 complete=0\n",
      "\tposLoss=2.818868398666382 negLoss=2.821366310119629 complete=10000\n",
      "\tposLoss=2.79399037361145 negLoss=2.8002185821533203 complete=20000\n",
      "\tposLoss=2.7227330207824707 negLoss=2.7258248329162598 complete=30000\n",
      "\tposLoss=2.782621383666992 negLoss=2.7878055572509766 complete=40000\n",
      "\tposLoss=2.600114107131958 negLoss=2.5985848903656006 complete=50000\n",
      "\tposLoss=2.5308024883270264 negLoss=2.5273993015289307 complete=60000\n",
      "\tposLoss=2.5852158069610596 negLoss=2.5832250118255615 complete=70000\n",
      "\tposLoss=2.526609420776367 negLoss=2.5280203819274902 complete=80000\n",
      "\tposLoss=2.4258904457092285 negLoss=2.427839517593384 complete=90000\n",
      "\tposLoss=2.4544029235839844 negLoss=2.456740379333496 complete=100000\n",
      "\tposLoss=2.4352972507476807 negLoss=2.4324939250946045 complete=110000\n",
      "\tposLoss=2.3206963539123535 negLoss=2.3192758560180664 complete=120000\n",
      "\tposLoss=2.310743808746338 negLoss=2.3124210834503174 complete=130000\n",
      "\tposLoss=2.2601146697998047 negLoss=2.2585248947143555 complete=140000\n",
      "\tposLoss=2.157796621322632 negLoss=2.1580464839935303 complete=150000\n",
      "\tposLoss=2.1175973415374756 negLoss=2.1159420013427734 complete=160000\n",
      "epoch 2\n",
      "\tposLoss=1.9972591400146484 negLoss=1.9962046146392822 complete=0\n",
      "\tposLoss=2.0146634578704834 negLoss=2.011564016342163 complete=10000\n",
      "\tposLoss=2.0363988876342773 negLoss=2.0318715572357178 complete=20000\n",
      "\tposLoss=2.015122652053833 negLoss=2.016836166381836 complete=30000\n",
      "\tposLoss=1.902787446975708 negLoss=1.8963252305984497 complete=40000\n",
      "\tposLoss=1.9046305418014526 negLoss=1.9013895988464355 complete=50000\n",
      "\tposLoss=1.8413550853729248 negLoss=1.837820291519165 complete=60000\n",
      "\tposLoss=1.8354707956314087 negLoss=1.8346855640411377 complete=70000\n",
      "\tposLoss=1.8273600339889526 negLoss=1.8277990818023682 complete=80000\n",
      "\tposLoss=1.7468414306640625 negLoss=1.745789647102356 complete=90000\n",
      "\tposLoss=1.6724823713302612 negLoss=1.6708656549453735 complete=100000\n",
      "\tposLoss=1.6981205940246582 negLoss=1.6963304281234741 complete=110000\n",
      "\tposLoss=1.673056960105896 negLoss=1.6705182790756226 complete=120000\n",
      "\tposLoss=1.6123441457748413 negLoss=1.6138337850570679 complete=130000\n",
      "\tposLoss=1.593122124671936 negLoss=1.5916565656661987 complete=140000\n",
      "\tposLoss=1.5226346254348755 negLoss=1.5191619396209717 complete=150000\n",
      "\tposLoss=1.5186887979507446 negLoss=1.5167707204818726 complete=160000\n",
      "epoch 3\n",
      "\tposLoss=1.4623385667800903 negLoss=1.4606703519821167 complete=0\n",
      "\tposLoss=1.4590036869049072 negLoss=1.456584095954895 complete=10000\n",
      "\tposLoss=1.4413005113601685 negLoss=1.438112497329712 complete=20000\n",
      "\tposLoss=1.4080874919891357 negLoss=1.4058178663253784 complete=30000\n",
      "\tposLoss=1.4544782638549805 negLoss=1.450258493423462 complete=40000\n",
      "\tposLoss=1.2728272676467896 negLoss=1.2682746648788452 complete=50000\n",
      "\tposLoss=1.3101028203964233 negLoss=1.3082565069198608 complete=60000\n",
      "\tposLoss=1.246384620666504 negLoss=1.2436234951019287 complete=70000\n",
      "\tposLoss=1.252348780632019 negLoss=1.249912977218628 complete=80000\n",
      "\tposLoss=1.22394859790802 negLoss=1.220556616783142 complete=90000\n",
      "\tposLoss=1.1986905336380005 negLoss=1.1962147951126099 complete=100000\n",
      "\tposLoss=1.1629862785339355 negLoss=1.158145785331726 complete=110000\n",
      "\tposLoss=1.1319963932037354 negLoss=1.1295740604400635 complete=120000\n",
      "\tposLoss=1.106453537940979 negLoss=1.1023503541946411 complete=130000\n",
      "\tposLoss=1.1315200328826904 negLoss=1.1275821924209595 complete=140000\n",
      "\tposLoss=1.0619404315948486 negLoss=1.057008981704712 complete=150000\n",
      "\tposLoss=1.0636993646621704 negLoss=1.0572092533111572 complete=160000\n",
      "epoch 4\n",
      "\tposLoss=1.0298997163772583 negLoss=1.0225982666015625 complete=0\n",
      "\tposLoss=1.005243182182312 negLoss=1.0015121698379517 complete=10000\n",
      "\tposLoss=0.9848737716674805 negLoss=0.9846054911613464 complete=20000\n",
      "\tposLoss=0.9513364434242249 negLoss=0.9486806988716125 complete=30000\n",
      "\tposLoss=0.9415667653083801 negLoss=0.9373344779014587 complete=40000\n",
      "\tposLoss=0.9518874287605286 negLoss=0.9479682445526123 complete=50000\n",
      "\tposLoss=0.937324583530426 negLoss=0.9356566667556763 complete=60000\n",
      "\tposLoss=0.8567907810211182 negLoss=0.850182056427002 complete=70000\n",
      "\tposLoss=0.8803625702857971 negLoss=0.8776949048042297 complete=80000\n",
      "\tposLoss=0.8223171234130859 negLoss=0.815331757068634 complete=90000\n",
      "\tposLoss=0.8244158625602722 negLoss=0.8208101391792297 complete=100000\n",
      "\tposLoss=0.8353481292724609 negLoss=0.831083357334137 complete=110000\n",
      "\tposLoss=0.7796434760093689 negLoss=0.7789174318313599 complete=120000\n",
      "\tposLoss=0.7876080870628357 negLoss=0.7825688719749451 complete=130000\n",
      "\tposLoss=0.7849358916282654 negLoss=0.7784721255302429 complete=140000\n",
      "\tposLoss=0.7717252969741821 negLoss=0.7645097970962524 complete=150000\n",
      "\tposLoss=0.7713797092437744 negLoss=0.7658660411834717 complete=160000\n",
      "epoch 5\n",
      "\tposLoss=0.7219076752662659 negLoss=0.717566192150116 complete=0\n",
      "\tposLoss=0.6975274085998535 negLoss=0.6912627816200256 complete=10000\n",
      "\tposLoss=0.7039851546287537 negLoss=0.7002954483032227 complete=20000\n",
      "\tposLoss=0.6957820057868958 negLoss=0.6903587579727173 complete=30000\n",
      "\tposLoss=0.693372368812561 negLoss=0.6893406510353088 complete=40000\n",
      "\tposLoss=0.681050717830658 negLoss=0.6818739771842957 complete=50000\n",
      "\tposLoss=0.639349639415741 negLoss=0.6364709734916687 complete=60000\n",
      "\tposLoss=0.6354714035987854 negLoss=0.6312072277069092 complete=70000\n",
      "\tposLoss=0.6448131799697876 negLoss=0.640970766544342 complete=80000\n",
      "\tposLoss=0.6076140403747559 negLoss=0.6042968034744263 complete=90000\n",
      "\tposLoss=0.6060371398925781 negLoss=0.6013221740722656 complete=100000\n",
      "\tposLoss=0.5689188838005066 negLoss=0.5648880004882812 complete=110000\n",
      "\tposLoss=0.5853122472763062 negLoss=0.5811009407043457 complete=120000\n",
      "\tposLoss=0.5833935737609863 negLoss=0.5786446332931519 complete=130000\n",
      "\tposLoss=0.5739700794219971 negLoss=0.5714104175567627 complete=140000\n",
      "\tposLoss=0.5770546793937683 negLoss=0.5718503594398499 complete=150000\n",
      "\tposLoss=0.5410003066062927 negLoss=0.5534690618515015 complete=160000\n",
      "epoch 6\n",
      "\tposLoss=0.5402383804321289 negLoss=0.5373000502586365 complete=0\n",
      "\tposLoss=0.5170851349830627 negLoss=0.5132092833518982 complete=10000\n",
      "\tposLoss=0.5435811877250671 negLoss=0.539192259311676 complete=20000\n",
      "\tposLoss=0.5308881402015686 negLoss=0.5279203653335571 complete=30000\n",
      "\tposLoss=0.49219420552253723 negLoss=0.4887813329696655 complete=40000\n",
      "\tposLoss=0.5107172131538391 negLoss=0.5089801549911499 complete=50000\n",
      "\tposLoss=0.5153985619544983 negLoss=0.5108174085617065 complete=60000\n",
      "\tposLoss=0.5373457074165344 negLoss=0.5282477140426636 complete=70000\n",
      "\tposLoss=0.4904211461544037 negLoss=0.49315300583839417 complete=80000\n",
      "\tposLoss=0.4999260902404785 negLoss=0.4983902871608734 complete=90000\n",
      "\tposLoss=0.4685603380203247 negLoss=0.46767759323120117 complete=100000\n",
      "\tposLoss=0.46928492188453674 negLoss=0.4641820788383484 complete=110000\n",
      "\tposLoss=0.47595155239105225 negLoss=0.47138383984565735 complete=120000\n",
      "\tposLoss=0.46335703134536743 negLoss=0.4603865444660187 complete=130000\n",
      "\tposLoss=0.44536706805229187 negLoss=0.44231855869293213 complete=140000\n"
     ]
    },
    {
     "name": "stdout",
     "output_type": "stream",
     "text": [
      "\tposLoss=0.44799137115478516 negLoss=0.4428953230381012 complete=150000\n",
      "\tposLoss=0.42790642380714417 negLoss=0.4246857762336731 complete=160000\n",
      "epoch 7\n",
      "\tposLoss=0.3995773494243622 negLoss=0.39630311727523804 complete=0\n",
      "\tposLoss=0.4192197620868683 negLoss=0.41560983657836914 complete=10000\n",
      "\tposLoss=0.4387226700782776 negLoss=0.43638795614242554 complete=20000\n",
      "\tposLoss=0.4153881371021271 negLoss=0.41041260957717896 complete=30000\n",
      "\tposLoss=0.4230382442474365 negLoss=0.4247679114341736 complete=40000\n",
      "\tposLoss=0.43649822473526 negLoss=0.4389660358428955 complete=50000\n",
      "\tposLoss=0.40079158544540405 negLoss=0.39912593364715576 complete=60000\n",
      "\tposLoss=0.4054468870162964 negLoss=0.404109925031662 complete=70000\n",
      "\tposLoss=0.3814094364643097 negLoss=0.3784663677215576 complete=80000\n",
      "\tposLoss=0.39297178387641907 negLoss=0.3847721815109253 complete=90000\n",
      "\tposLoss=0.3879511058330536 negLoss=0.38216567039489746 complete=100000\n",
      "\tposLoss=0.3799022138118744 negLoss=0.3752027750015259 complete=110000\n",
      "\tposLoss=0.36419564485549927 negLoss=0.35979506373405457 complete=120000\n",
      "\tposLoss=0.3653070628643036 negLoss=0.36202892661094666 complete=130000\n",
      "\tposLoss=0.38632166385650635 negLoss=0.38392212986946106 complete=140000\n",
      "\tposLoss=0.3623640239238739 negLoss=0.36144790053367615 complete=150000\n",
      "\tposLoss=0.3676222562789917 negLoss=0.3695165514945984 complete=160000\n",
      "epoch 8\n",
      "\tposLoss=0.3304622173309326 negLoss=0.33263707160949707 complete=0\n",
      "\tposLoss=0.3405050039291382 negLoss=0.3340227007865906 complete=10000\n",
      "\tposLoss=0.3359539210796356 negLoss=0.33355897665023804 complete=20000\n",
      "\tposLoss=0.34013667702674866 negLoss=0.33779945969581604 complete=30000\n",
      "\tposLoss=0.3531811535358429 negLoss=0.3505505919456482 complete=40000\n",
      "\tposLoss=0.34448835253715515 negLoss=0.34126657247543335 complete=50000\n",
      "\tposLoss=0.30308693647384644 negLoss=0.3009294271469116 complete=60000\n",
      "\tposLoss=0.33290839195251465 negLoss=0.33045312762260437 complete=70000\n",
      "\tposLoss=0.3239925801753998 negLoss=0.32333773374557495 complete=80000\n",
      "\tposLoss=0.3298198878765106 negLoss=0.32686781883239746 complete=90000\n",
      "\tposLoss=0.34988999366760254 negLoss=0.351088285446167 complete=100000\n",
      "\tposLoss=0.3114078938961029 negLoss=0.3037889301776886 complete=110000\n",
      "\tposLoss=0.3061293959617615 negLoss=0.30392974615097046 complete=120000\n",
      "\tposLoss=0.32136133313179016 negLoss=0.3236561119556427 complete=130000\n",
      "\tposLoss=0.3242510259151459 negLoss=0.3222915232181549 complete=140000\n",
      "\tposLoss=0.334566593170166 negLoss=0.3345950245857239 complete=150000\n",
      "\tposLoss=0.28420162200927734 negLoss=0.28270936012268066 complete=160000\n",
      "epoch 9\n",
      "\tposLoss=0.3048008680343628 negLoss=0.30307537317276 complete=0\n",
      "\tposLoss=0.3089531660079956 negLoss=0.30694547295570374 complete=10000\n",
      "\tposLoss=0.3357720375061035 negLoss=0.33341124653816223 complete=20000\n",
      "\tposLoss=0.3267964720726013 negLoss=0.32918351888656616 complete=30000\n",
      "\tposLoss=0.2946487367153168 negLoss=0.29038742184638977 complete=40000\n",
      "\tposLoss=0.3063663840293884 negLoss=0.30418911576271057 complete=50000\n",
      "\tposLoss=0.28138625621795654 negLoss=0.27947038412094116 complete=60000\n",
      "\tposLoss=0.26598525047302246 negLoss=0.26518967747688293 complete=70000\n",
      "\tposLoss=0.2811112105846405 negLoss=0.28526830673217773 complete=80000\n",
      "\tposLoss=0.2969833314418793 negLoss=0.2950529158115387 complete=90000\n",
      "\tposLoss=0.28636783361434937 negLoss=0.286027729511261 complete=100000\n",
      "\tposLoss=0.2806422710418701 negLoss=0.27927953004837036 complete=110000\n",
      "\tposLoss=0.2931954562664032 negLoss=0.2890235185623169 complete=120000\n",
      "\tposLoss=0.2811793088912964 negLoss=0.2800956070423126 complete=130000\n",
      "\tposLoss=0.2738620936870575 negLoss=0.27043652534484863 complete=140000\n",
      "\tposLoss=0.26789355278015137 negLoss=0.26723742485046387 complete=150000\n",
      "\tposLoss=0.2619769871234894 negLoss=0.25898465514183044 complete=160000\n",
      "Complete\n"
     ]
    }
   ],
   "source": [
    "import torch.nn as nn\n",
    "import torch.nn.functional as F\n",
    "import itertools\n",
    "import random\n",
    "import copy\n",
    "\n",
    "nConnEdge = nback_p_t.shape[1]\n",
    "\n",
    "class DiffGraph(nn.Module):\n",
    "    def __init__(self):\n",
    "        super(DiffGraph, self).__init__()\n",
    "        self.fc1 = nn.Linear(4*nConnEdge,1).float().cuda()\n",
    "        \n",
    "    def forward(self, x):\n",
    "        x = self.fc1(x)\n",
    "        return x\n",
    "    \n",
    "dg = DiffGraph()\n",
    "optim = torch.optim.Adam(dg.parameters(), lr=1e-5, weight_decay=0.2)\n",
    "\n",
    "nEpoch = 10\n",
    "bSize = 1000\n",
    "pPeriod = 10000\n",
    "\n",
    "pairs = list(itertools.combinations_with_replacement(np.arange(nTrain),2))\n",
    "\n",
    "for i in range(nEpoch):\n",
    "    randPairs = copy.copy(pairs)\n",
    "    random.shuffle(randPairs)\n",
    "    nComplete = 0\n",
    "    print(f'epoch {i}')\n",
    "    while nComplete < len(pairs):\n",
    "        todo = len(pairs)-nComplete\n",
    "        if todo > bSize:\n",
    "            todo = bSize\n",
    "        batchPairs = randPairs[nComplete:nComplete+todo]\n",
    "        Ai, Bi = zip(*batchPairs)\n",
    "        A1 = nback_p_t_train[Ai,:]\n",
    "        A2 = emoid_p_t_train[Ai,:]\n",
    "        B1 = nback_p_t_train[Bi,:]\n",
    "        B2 = nback_p_t_train[Bi,:]\n",
    "        a = ages_train[list(Ai)]\n",
    "        b = ages_train[list(Bi)]\n",
    "        optim.zero_grad()\n",
    "        pos = torch.cat([A1,A2,B1,B2],dim=1)\n",
    "        neg = torch.cat([B1,B2,A1,A2],dim=1)\n",
    "        posRes = dg(pos).flatten()\n",
    "        negRes = dg(neg).flatten()\n",
    "        posLoss = torch.mean((posRes-(a-b))**2)**0.5\n",
    "        negLoss = torch.mean((negRes-(b-a))**2)**0.5\n",
    "        (posLoss+negLoss).backward()\n",
    "        optim.step()\n",
    "        if nComplete % pPeriod == 0:\n",
    "            print(f'\\tposLoss={posLoss} negLoss={negLoss} complete={nComplete}')\n",
    "        nComplete += todo\n",
    "        \n",
    "print('Complete')"
   ]
  },
  {
   "cell_type": "code",
   "execution_count": 19,
   "id": "69b454c7",
   "metadata": {},
   "outputs": [
    {
     "data": {
      "image/png": "[encoded data removed]",
      "text/plain": [
       "<Figure size 432x288 with 1 Axes>"
      ]
     },
     "metadata": {
      "needs_background": "light"
     },
     "output_type": "display_data"
    },
    {
     "name": "stdout",
     "output_type": "stream",
     "text": [
      "tensor(18., device='cuda:0')\n"
     ]
    }
   ],
   "source": [
    "# Test 1 subject\n",
    "\n",
    "import matplotlib.pyplot as plt\n",
    "\n",
    "idx = 3\n",
    "\n",
    "A1 = nback_p_t_test[idx].expand(nTrain,-1)\n",
    "A2 = emoid_p_t_test[idx].expand(nTrain,-1)\n",
    "a = ages_test[idx].expand(nTrain)\n",
    "\n",
    "B1 = nback_p_t_train\n",
    "B2 = emoid_p_t_train\n",
    "b = ages_train\n",
    "\n",
    "pos = torch.cat([A1,A2,B1,B2],dim=1)\n",
    "neg = torch.cat([B1,B2,A1,A2],dim=1)\n",
    "posRes = dg(pos).flatten()\n",
    "negRes = dg(neg).flatten()\n",
    "\n",
    "agePos = posRes + b\n",
    "ageNeg = b - negRes\n",
    "\n",
    "ap = agePos.detach().cpu().numpy()\n",
    "an = ageNeg.detach().cpu().numpy()\n",
    "\n",
    "plt.hist([ap, an], histtype='step')\n",
    "plt.show()\n",
    "\n",
    "print(a[0])"
   ]
  },
  {
   "cell_type": "code",
   "execution_count": 20,
   "id": "04a99122",
   "metadata": {},
   "outputs": [
    {
     "name": "stdout",
     "output_type": "stream",
     "text": [
      "done 0\n",
      "done 20\n",
      "done 40\n",
      "done 60\n",
      "Positive\n",
      "[[1.         0.83947199]\n",
      " [0.83947199 1.        ]]\n",
      "1.672044886615351\n",
      "1.4079448018755232\n",
      "Negative\n",
      "[[1.         0.83706517]\n",
      " [0.83706517 1.        ]]\n",
      "1.6796967074392635\n",
      "1.4176185880388532\n",
      "Mean\n",
      "[[1.         0.83833893]\n",
      " [0.83833893 1.        ]]\n",
      "1.6755020288703728\n",
      "1.4127816949571883\n",
      "Least squares\n",
      "[[1.         0.78524622]\n",
      " [0.78524622 1.        ]]\n",
      "1.9161093841539545\n",
      "1.5860564\n"
     ]
    },
    {
     "data": {
      "image/png": "[encoded data removed]",
      "text/plain": [
       "<Figure size 432x288 with 1 Axes>"
      ]
     },
     "metadata": {
      "needs_background": "light"
     },
     "output_type": "display_data"
    },
    {
     "data": {
      "image/png": "[encoded data removed]",
      "text/plain": [
       "<Figure size 432x288 with 1 Axes>"
      ]
     },
     "metadata": {
      "needs_background": "light"
     },
     "output_type": "display_data"
    }
   ],
   "source": [
    "# Test\n",
    "\n",
    "ap = np.zeros(len(testIdx))\n",
    "an = np.zeros(len(testIdx))\n",
    "\n",
    "for i in range(nback_p_t_test.shape[0]):\n",
    "    if i % 20 == 0:\n",
    "        print(f'done {i}')\n",
    "        \n",
    "    A1 = nback_p_t_test[i].expand(nTrain,-1)\n",
    "    A2 = emoid_p_t_test[i].expand(nTrain,-1)\n",
    "    a = ages_test[i].expand(nTrain)\n",
    "\n",
    "    B1 = nback_p_t_train\n",
    "    B2 = emoid_p_t_train\n",
    "    b = ages_train\n",
    "\n",
    "    pos = torch.cat([A1,A2,B1,B2],dim=1)\n",
    "    neg = torch.cat([B1,B2,A1,A2],dim=1)\n",
    "    posRes = dg(pos).flatten()\n",
    "    negRes = dg(neg).flatten()\n",
    "\n",
    "    agePos = posRes + b\n",
    "    ageNeg = b - negRes\n",
    "\n",
    "    ap[i] = torch.mean(agePos).detach().cpu().numpy()\n",
    "    an[i] = torch.mean(ageNeg).detach().cpu().numpy()\n",
    "\n",
    "# pred = gat(rest_ts_t_test)\n",
    "# pred = pred.flatten().detach().cpu().numpy()\n",
    "y = ages_test.detach().cpu().numpy()\n",
    "\n",
    "idcs = np.argsort(y)\n",
    "ap = ap[idcs]\n",
    "an = an[idcs]\n",
    "am = (ap+an)/2\n",
    "y = y[idcs]\n",
    "\n",
    "print('Positive')\n",
    "\n",
    "corr = np.corrcoef(y, ap)\n",
    "rmse = np.mean((y-ap)**2)**0.5\n",
    "mae = np.mean(np.abs(y-ap))\n",
    "\n",
    "print(corr)\n",
    "print(rmse)\n",
    "print(mae)\n",
    "\n",
    "print('Negative')\n",
    "\n",
    "corr = np.corrcoef(y, an)\n",
    "rmse = np.mean((y-an)**2)**0.5\n",
    "mae = np.mean(np.abs(y-an))\n",
    "\n",
    "print(corr)\n",
    "print(rmse)\n",
    "print(mae)\n",
    "\n",
    "print('Mean')\n",
    "\n",
    "corr = np.corrcoef(y, am)\n",
    "rmse = np.mean((y-am)**2)**0.5\n",
    "mae = np.mean(np.abs(y-am))\n",
    "\n",
    "print(corr)\n",
    "print(rmse)\n",
    "print(mae)\n",
    "\n",
    "w,_,_,_ = torch.linalg.lstsq(torch.cat([nback_p_t_train,emoid_p_t_train],dim=1),ages_train)\n",
    "\n",
    "a = torch.cat([nback_p_t_test,emoid_p_t_test],dim=1)@w\n",
    "a = a.detach().cpu().numpy()\n",
    "y = ages_test.detach().cpu().numpy()\n",
    "\n",
    "idcs = np.argsort(y)\n",
    "a = a[idcs]\n",
    "y = y[idcs]\n",
    "\n",
    "print('Least squares')\n",
    "\n",
    "corr = np.corrcoef(y, a)\n",
    "rmse = np.mean((y-a)**2)**0.5\n",
    "mae = np.mean(np.abs(y-a))\n",
    "\n",
    "print(corr)\n",
    "print(rmse)\n",
    "print(mae)\n",
    "\n",
    "plt.plot(y, label='Truth')\n",
    "plt.plot(ap, label='Prediction (Pos)')\n",
    "plt.plot(an, label='Prediction (Neg)')\n",
    "plt.plot(a, label='Prediction (Lstsq)')\n",
    "plt.legend()\n",
    "plt.show()\n",
    "\n",
    "plt.scatter(y, a)\n",
    "plt.show()"
   ]
  },
  {
   "cell_type": "code",
   "execution_count": 25,
   "id": "63515294",
   "metadata": {},
   "outputs": [
    {
     "name": "stdout",
     "output_type": "stream",
     "text": [
      "done 0\n",
      "done 50\n",
      "done 100\n",
      "done 150\n",
      "done 200\n",
      "done 250\n",
      "done 300\n",
      "done 350\n",
      "done 400\n",
      "done 450\n",
      "done 500\n",
      "done 550\n",
      "Complete\n"
     ]
    }
   ],
   "source": [
    "ep = np.zeros([nTrain,nTrain])\n",
    "en = np.zeros([nTrain,nTrain])\n",
    "\n",
    "bSize = 100\n",
    "\n",
    "for i in range(nback_p_t_train.shape[0]):\n",
    "    \n",
    "    nComplete = 0\n",
    "    while nComplete < nTrain:\n",
    "        todo = nTrain-nComplete\n",
    "        if todo > bSize:\n",
    "            todo = bSize\n",
    "        \n",
    "        A1 = nback_p_t_train[i].expand(todo,-1)\n",
    "        A2 = emoid_p_t_train[i].expand(todo,-1)\n",
    "        a = ages_train[i].expand(todo)\n",
    "\n",
    "        B1 = nback_p_t_train[nComplete:nComplete+todo]\n",
    "        B2 = emoid_p_t_train[nComplete:nComplete+todo]\n",
    "        b = ages_train[nComplete:nComplete+todo]\n",
    "\n",
    "        pos = torch.cat([A1,A2,B1,B2],dim=1)\n",
    "        neg = torch.cat([B1,B2,A1,A2],dim=1)\n",
    "        posRes = (dg(pos).flatten()-(a-b)).detach().cpu().numpy()\n",
    "        negRes = (dg(neg).flatten()-(b-a)).detach().cpu().numpy()\n",
    "        \n",
    "        optim.zero_grad()\n",
    "\n",
    "        ep[i,nComplete:nComplete+todo] = posRes\n",
    "        en[i,nComplete:nComplete+todo] = negRes\n",
    "    \n",
    "        nComplete += todo\n",
    "        \n",
    "    if i % 50 == 0:\n",
    "        print(f'done {i}')\n",
    "    \n",
    "print('Complete')"
   ]
  },
  {
   "cell_type": "code",
   "execution_count": 26,
   "id": "393d516b",
   "metadata": {},
   "outputs": [
    {
     "data": {
      "image/png": "[encoded data removed]",
      "text/plain": [
       "<Figure size 432x288 with 1 Axes>"
      ]
     },
     "metadata": {
      "needs_background": "light"
     },
     "output_type": "display_data"
    },
    {
     "data": {
      "image/png": "[encoded data removed]",
      "text/plain": [
       "<Figure size 432x288 with 1 Axes>"
      ]
     },
     "metadata": {
      "needs_background": "light"
     },
     "output_type": "display_data"
    }
   ],
   "source": [
    "errP = np.sum(np.abs(ep),axis=0)\n",
    "errN = np.sum(np.abs(en),axis=0)\n",
    "\n",
    "idcsP = np.argsort(errP)\n",
    "plt.plot(errP[idcsP],label='positive fail')\n",
    "plt.plot(errN[idcsP],label='negative fail')\n",
    "plt.legend()\n",
    "plt.title('Positive idcs')\n",
    "plt.show()\n",
    "\n",
    "idcsN = np.argsort(errN)\n",
    "plt.plot(errP[idcsN],label='positive fail')\n",
    "plt.plot(errN[idcsN],label='negative fail')\n",
    "plt.legend()\n",
    "plt.title('Negative idcs')\n",
    "plt.show()"
   ]
  },
  {
   "cell_type": "code",
   "execution_count": 23,
   "id": "d1721411",
   "metadata": {},
   "outputs": [],
   "source": [
    "# Test whether each \"half\" of the model is just calculating age...\n",
    "        \n",
    "A1 = nback_p_t_test\n",
    "A2 = emoid_p_t_test\n",
    "a = ages_test\n",
    "\n",
    "feat = torch.cat([A1,A2],dim=1)\n",
    "ap = (feat@(dg.fc1.weight.T[0:2*nConnEdge])).detach().flatten().cpu().numpy()\n",
    "an = (feat@(dg.fc1.weight.T[2*nConnEdge:])).detach().flatten().cpu().numpy()"
   ]
  },
  {
   "cell_type": "code",
   "execution_count": 24,
   "id": "27a26109",
   "metadata": {},
   "outputs": [
    {
     "name": "stdout",
     "output_type": "stream",
     "text": [
      "[-3.9994195e+00 -2.9360106e+00 -7.4545569e+00 -2.9587815e+00\n",
      " -1.6605239e+00 -6.9307909e+00 -3.2632837e+00 -1.2878835e+00\n",
      " -2.3714223e+00  3.4677064e-01 -4.1940389e+00 -1.3300239e+00\n",
      " -5.2521033e+00  6.6557527e-04  1.4773754e+00 -9.3378105e+00\n",
      " -7.0454288e+00 -2.3887401e+00 -6.7138176e+00 -1.5086640e+00\n",
      " -6.8632507e+00 -9.0726690e+00 -2.0000181e+00 -2.5045319e+00\n",
      " -1.6469177e+00 -5.4918528e-03 -8.4000593e-01 -4.2390547e+00\n",
      " -2.6370306e+00 -3.6620152e+00 -8.3521395e+00 -3.4195974e+00\n",
      " -2.2636886e+00 -1.5277442e+00 -3.6619051e+00 -3.8357801e+00\n",
      " -4.9784815e-01 -1.7432914e+00 -1.3944836e+00 -5.6943769e+00\n",
      " -4.9274898e+00 -2.9306750e+00 -3.5707545e+00 -5.3220558e+00\n",
      " -1.1906965e+00 -3.6235218e+00 -2.5181353e+00 -4.1031256e+00\n",
      " -5.6150980e+00 -2.2948825e+00 -9.2306912e-01 -5.9485803e+00\n",
      " -4.5457325e+00 -4.9992881e+00 -4.0936346e+00 -4.2918215e+00\n",
      " -1.3496220e+00 -6.7276769e+00 -1.3104749e-01 -1.9282398e+00\n",
      " -2.0014293e+00 -7.9384756e+00 -4.1459155e+00 -1.5993046e+00\n",
      " -3.0006299e+00 -2.0086675e+00 -2.6550002e+00 -2.2223504e+00\n",
      " -5.4342999e+00 -4.4301629e-01]\n"
     ]
    }
   ],
   "source": [
    "print(ap)"
   ]
  },
  {
   "cell_type": "code",
   "execution_count": 25,
   "id": "c1a76f7e",
   "metadata": {},
   "outputs": [
    {
     "name": "stdout",
     "output_type": "stream",
     "text": [
      "[ 4.002638    2.8671267   7.4398427   3.0184102   1.5868872   6.9051905\n",
      "  3.1912274   1.2803277   2.3687687  -0.35895693  4.1526504   1.4068382\n",
      "  5.312274    0.08012775 -1.4634862   9.349366    7.0834675   2.3801262\n",
      "  6.650169    1.5015126   6.7949095   9.116478    1.9552181   2.462277\n",
      "  1.7256129  -0.01675829  0.8610269   4.19878     2.6207201   3.6510751\n",
      "  8.4024515   3.3754156   2.2049167   1.5251195   3.6512995   3.8923\n",
      "  0.3867744   1.792099    1.2934995   5.6111283   5.00206     2.8690846\n",
      "  3.4782767   5.338763    1.1603817   3.6208675   2.5581589   3.9837034\n",
      "  5.7152557   2.3269281   1.0243747   5.8673224   4.596298    4.96644\n",
      "  3.9758844   4.266554    1.4357065   6.59311     0.06915273  1.9487572\n",
      "  2.041794    7.906702    4.0863686   1.6365352   2.8707268   1.8757174\n",
      "  2.6902733   2.1517575   5.4544964   0.34815127]\n"
     ]
    }
   ],
   "source": [
    "print(an)"
   ]
  },
  {
   "cell_type": "code",
   "execution_count": 26,
   "id": "013c6c9d",
   "metadata": {},
   "outputs": [
    {
     "name": "stdout",
     "output_type": "stream",
     "text": [
      "[ 8.0020571e+00  5.8031373e+00  1.4894400e+01  5.9771919e+00\n",
      "  3.2474113e+00  1.3835981e+01  6.4545112e+00  2.5682111e+00\n",
      "  4.7401910e+00 -7.0572758e-01  8.3466892e+00  2.7368622e+00\n",
      "  1.0564377e+01  7.9462171e-02 -2.9408617e+00  1.8687176e+01\n",
      "  1.4128897e+01  4.7688665e+00  1.3363987e+01  3.0101767e+00\n",
      "  1.3658160e+01  1.8189148e+01  3.9552362e+00  4.9668088e+00\n",
      "  3.3725305e+00 -1.1266440e-02  1.7010329e+00  8.4378347e+00\n",
      "  5.2577505e+00  7.3130903e+00  1.6754591e+01  6.7950130e+00\n",
      "  4.4686050e+00  3.0528636e+00  7.3132048e+00  7.7280798e+00\n",
      "  8.8462257e-01  3.5353904e+00  2.6879830e+00  1.1305506e+01\n",
      "  9.9295502e+00  5.7997599e+00  7.0490313e+00  1.0660819e+01\n",
      "  2.3510780e+00  7.2443895e+00  5.0762939e+00  8.0868292e+00\n",
      "  1.1330354e+01  4.6218109e+00  1.9474438e+00  1.1815903e+01\n",
      "  9.1420307e+00  9.9657288e+00  8.0695190e+00  8.5583754e+00\n",
      "  2.7853284e+00  1.3320787e+01  2.0020021e-01  3.8769970e+00\n",
      "  4.0432234e+00  1.5845178e+01  8.2322845e+00  3.2358398e+00\n",
      "  5.8713570e+00  3.8843849e+00  5.3452735e+00  4.3741078e+00\n",
      "  1.0888796e+01  7.9116756e-01]\n"
     ]
    }
   ],
   "source": [
    "print(an-ap)"
   ]
  },
  {
   "cell_type": "code",
   "execution_count": 27,
   "id": "ad56de49",
   "metadata": {},
   "outputs": [
    {
     "name": "stdout",
     "output_type": "stream",
     "text": [
      "Parameter containing:\n",
      "tensor([-0.0008], device='cuda:0', requires_grad=True)\n"
     ]
    }
   ],
   "source": [
    "print(dg.fc1.bias)"
   ]
  },
  {
   "cell_type": "code",
   "execution_count": null,
   "id": "e0acd628",
   "metadata": {},
   "outputs": [],
   "source": []
  }
 ],
 "metadata": {
  "kernelspec": {
   "display_name": "Python 3 (ipykernel)",
   "language": "python",
   "name": "python3"
  },
  "language_info": {
   "codemirror_mode": {
    "name": "ipython",
    "version": 3
   },
   "file_extension": ".py",
   "mimetype": "text/x-python",
   "name": "python",
   "nbconvert_exporter": "python",
   "pygments_lexer": "ipython3",
   "version": "3.10.2"
  }
 },
 "nbformat": 4,
 "nbformat_minor": 5
}
