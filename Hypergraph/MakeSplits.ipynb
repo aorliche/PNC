{
 "cells": [
  {
   "cell_type": "code",
   "execution_count": 1,
   "id": "89e42b75",
   "metadata": {},
   "outputs": [
    {
     "name": "stdout",
     "output_type": "stream",
     "text": [
      "(650, 264, 231)\n",
      "(650, 264, 210)\n",
      "(650,)\n",
      "[ 9.66666667 15.58333333 15.83333333 20.16666667 11.41666667 11.58333333\n",
      "  9.41666667 17.5        15.25        9.58333333]\n"
     ]
    }
   ],
   "source": [
    "import sys\n",
    "\n",
    "sys.path.append('..')\n",
    "\n",
    "from LoadData2 import loadNbackEmoidScansAndAges, loadMeta\n",
    "\n",
    "pncDir = '../../PNC_Good'\n",
    "\n",
    "keys, nbackTs, emoidTs, ages = loadNbackEmoidScansAndAges(loadMeta(f'{pncDir}/MegaMeta3.pkl'))\n",
    "\n",
    "print(nbackTs.shape)\n",
    "print(emoidTs.shape)\n",
    "print(ages.shape)\n",
    "print(ages[0:10])"
   ]
  },
  {
   "cell_type": "code",
   "execution_count": 2,
   "id": "9456552c",
   "metadata": {},
   "outputs": [
    {
     "name": "stdout",
     "output_type": "stream",
     "text": [
      "(50,)\n",
      "(50,)\n",
      "(50,)\n",
      "(50,)\n",
      "(50,)\n",
      "(50,)\n",
      "(50,)\n",
      "(50,)\n",
      "(50,)\n",
      "(50,)\n"
     ]
    }
   ],
   "source": [
    "import numpy as np\n",
    "\n",
    "splits30 = 10*[None]\n",
    "splits100 = 10*[None]\n",
    "splits50 = 10*[None]\n",
    "\n",
    "idcs30 = np.arange(650)\n",
    "idcs100 = np.arange(650)\n",
    "idcs50 = np.arange(650)\n",
    "\n",
    "for i in range(10):\n",
    "#     splits30[i] = np.random.choice(idcs30, size=30, replace=False)\n",
    "#     idcs30 = np.setdiff1d(idcs30, splits30[i])\n",
    "    \n",
    "#     splits100[i] = np.random.choice(idcs100, size=100, replace=False)\n",
    "#     idcs100 = np.setdiff1d(idcs100, splits100[i])\n",
    "    \n",
    "    splits50[i] = np.random.choice(idcs50, size=50, replace=False)\n",
    "    idcs50 = np.setdiff1d(idcs50, splits50[i])\n",
    "    \n",
    "#     print(splits30[i].shape)\n",
    "#     print(splits100[i].shape)\n",
    "    print(splits50[i].shape)"
   ]
  },
  {
   "cell_type": "code",
   "execution_count": 3,
   "id": "eaeea93a",
   "metadata": {},
   "outputs": [
    {
     "name": "stdout",
     "output_type": "stream",
     "text": [
      "Done\n"
     ]
    }
   ],
   "source": [
    "import pickle\n",
    "\n",
    "# with open('../../Work/CGConnectivity/Splits30.pkl', 'wb') as f:\n",
    "#     pickle.dump(splits30, f)\n",
    "    \n",
    "# with open('../../Work/CGConnectivity/Splits100.pkl', 'wb') as f:\n",
    "#     pickle.dump(splits100, f)\n",
    "    \n",
    "with open('../../Work/CGConnectivity/Splits50.pkl', 'wb') as f:\n",
    "    pickle.dump(splits50, f)\n",
    "    \n",
    "print('Done')"
   ]
  },
  {
   "cell_type": "code",
   "execution_count": null,
   "id": "7ef152c1",
   "metadata": {},
   "outputs": [],
   "source": []
  }
 ],
 "metadata": {
  "kernelspec": {
   "display_name": "torch",
   "language": "python",
   "name": "torch"
  },
  "language_info": {
   "codemirror_mode": {
    "name": "ipython",
    "version": 3
   },
   "file_extension": ".py",
   "mimetype": "text/x-python",
   "name": "python",
   "nbconvert_exporter": "python",
   "pygments_lexer": "ipython3",
   "version": "3.7.12"
  }
 },
 "nbformat": 4,
 "nbformat_minor": 5
}
