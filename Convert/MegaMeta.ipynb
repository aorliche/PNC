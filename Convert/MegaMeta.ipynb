{
 "cells": [
  {
   "cell_type": "code",
   "execution_count": 1,
   "id": "dce1fb81",
   "metadata": {},
   "outputs": [
    {
     "name": "stdout",
     "output_type": "stream",
     "text": [
      "941\n"
     ]
    }
   ],
   "source": [
    "import pickle\n",
    "\n",
    "# Load meta dict\n",
    "\n",
    "with open('../../PNC/AllSubjectsMeta.bin', 'rb') as f:\n",
    "    meta = pickle.load(f)\n",
    "    \n",
    "print(len(list(meta.keys())))"
   ]
  },
  {
   "cell_type": "code",
   "execution_count": 13,
   "id": "539a5e54",
   "metadata": {},
   "outputs": [
    {
     "name": "stdout",
     "output_type": "stream",
     "text": [
      "857\n",
      "<class 'str'>\n"
     ]
    }
   ],
   "source": [
    "import random\n",
    "\n",
    "wratDict = dict()\n",
    "\n",
    "with open('../../PNC/wrat.csv', 'r') as f:\n",
    "    lines = f.readlines()[1:]\n",
    "    for line in lines:\n",
    "        line = line.strip().split(',')\n",
    "        wratDict[line[0]] = {'raw': line[2], 'std': line[3]}\n",
    "\n",
    "print(len(wratDict))\n",
    "print(type(random.choice(list(wratDict))))"
   ]
  },
  {
   "cell_type": "code",
   "execution_count": 15,
   "id": "6a99455e",
   "metadata": {},
   "outputs": [
    {
     "name": "stdout",
     "output_type": "stream",
     "text": [
      "Complete\n"
     ]
    }
   ],
   "source": [
    "restBlacklist = [220,233,274,284,472]\n",
    "emoidBlacklist = [180]\n",
    "\n",
    "def loadSeries(prefix, para, idx):\n",
    "    with open('{:}/{:}_fmri_power264/timeseries/{:}.bin'.format(prefix, para, idx), 'rb') as f:\n",
    "        return pickle.load(f)\n",
    "\n",
    "for key,val in meta.items():\n",
    "    if 'rest' in val:\n",
    "        meta[key]['restData'] = loadSeries('../../PNC', 'rest', meta[key]['rest'])\n",
    "        if int(meta[key]['rest']) in restBlacklist:\n",
    "            meta[key]['badRest'] = True\n",
    "    if 'nback' in val:\n",
    "        meta[key]['nbackData'] = loadSeries('../../PNC', 'nback', meta[key]['nback'])\n",
    "    if 'emoid' in val:\n",
    "        meta[key]['emoidData'] = loadSeries('../../PNC', 'emoid', meta[key]['emoid'])\n",
    "        if int(meta[key]['emoid']) in emoidBlacklist:\n",
    "            meta[key]['badEmoid'] = True\n",
    "    if str(key) in wratDict:\n",
    "        meta[key]['meta']['wrat'] = wratDict[str(key)]\n",
    "        \n",
    "print('Complete')"
   ]
  },
  {
   "cell_type": "code",
   "execution_count": 30,
   "id": "52da06ca",
   "metadata": {},
   "outputs": [
    {
     "name": "stdout",
     "output_type": "stream",
     "text": [
      "624\n",
      "['220', '233', '274', '284', '472']\n",
      "['180']\n",
      "851\n",
      "594\n"
     ]
    }
   ],
   "source": [
    "# Validate\n",
    "\n",
    "nAllPara = 0\n",
    "badRest = []\n",
    "badEmoid = []\n",
    "nWrat = 0\n",
    "nWratAllPara = 0\n",
    "\n",
    "# NaN Wrat\n",
    "\n",
    "badWrat = [603056110671, 603317055381, 604847970437]\n",
    "\n",
    "for key in badWrat:\n",
    "    meta[key]['meta'].pop('wrat', None)\n",
    "\n",
    "for key in meta:\n",
    "    if 'restData' in meta[key] and 'nbackData' in meta[key] and 'emoidData' in meta[key]:\n",
    "        nAllPara += 1\n",
    "    if 'badRest' in meta[key]:\n",
    "        badRest.append(meta[key]['rest'])\n",
    "    if 'badEmoid' in meta[key]:\n",
    "        badEmoid.append(meta[key]['emoid'])\n",
    "    if 'wrat' in meta[key]['meta']:\n",
    "#         print(meta[key]['meta']['wrat'])\n",
    "#         if 'wrat' in meta[key]['meta'] and meta[key]['meta']['wrat']['raw'] == 'NaN':\n",
    "#             print(key)\n",
    "        nWrat += 1\n",
    "        if 'rest' in meta[key] and 'nback' in meta[key] and 'emoid' in meta[key]:\n",
    "            if 'badRest' not in meta[key] and 'badEmoid' not in meta[key]:\n",
    "                nWratAllPara += 1\n",
    "        \n",
    "print(nAllPara)\n",
    "print(badRest)\n",
    "print(badEmoid)\n",
    "print(nWrat)\n",
    "print(nWratAllPara)"
   ]
  },
  {
   "cell_type": "code",
   "execution_count": 23,
   "id": "eee5e3c3",
   "metadata": {},
   "outputs": [
    {
     "name": "stdout",
     "output_type": "stream",
     "text": [
      "{'AgeInMonths': 205, 'Gender': 'M', 'Ethnicity': 'CAUCASIAN/WHITE', 'AgeGroupID': 3, 'AgeGroupEdge1': 180, 'AgeGroupEdge2': 216}\n"
     ]
    }
   ],
   "source": [
    "print(meta[603056110671]['meta'])"
   ]
  },
  {
   "cell_type": "code",
   "execution_count": 24,
   "id": "a43bbf1b",
   "metadata": {},
   "outputs": [
    {
     "name": "stdout",
     "output_type": "stream",
     "text": [
      "{'raw': 'NaN', 'std': 'NaN'}\n"
     ]
    }
   ],
   "source": [
    "print(wratDict['603056110671'])"
   ]
  },
  {
   "cell_type": "code",
   "execution_count": 65,
   "id": "9a59d499",
   "metadata": {},
   "outputs": [
    {
     "name": "stdout",
     "output_type": "stream",
     "text": [
      "(873, 264, 264)\n"
     ]
    }
   ],
   "source": [
    "import numpy as np\n",
    "\n",
    "# Test rest\n",
    "\n",
    "rest = []\n",
    "\n",
    "for key in meta:\n",
    "    if 'restData' in meta[key] and 'badRest' not in meta[key]:\n",
    "        rest.append(meta[key]['restData'])\n",
    "        \n",
    "rest = np.stack([np.corrcoef(ts) for ts in rest])\n",
    "print(rest.shape)"
   ]
  },
  {
   "cell_type": "code",
   "execution_count": 68,
   "id": "f896c918",
   "metadata": {},
   "outputs": [
    {
     "name": "stdout",
     "output_type": "stream",
     "text": [
      "Complete\n"
     ]
    }
   ],
   "source": [
    "import torch\n",
    "\n",
    "ages = []\n",
    "\n",
    "for key in meta:\n",
    "    if 'restData' in meta[key] and 'badRest' not in meta[key]:\n",
    "        ages.append(meta[key]['meta']['AgeInMonths']/12)\n",
    "\n",
    "ages = np.stack(ages)\n",
    "        \n",
    "perm = np.random.permutation(np.arange(len(ages)))\n",
    "rest_train = torch.from_numpy(rest[perm[0:800]]).float().cuda()\n",
    "rest_test = torch.from_numpy(rest[perm[800:]]).float().cuda()\n",
    "ages_train = torch.from_numpy(ages[perm[0:800]]).float().cuda()\n",
    "ages_test = torch.from_numpy(ages[perm[800:]]).float().cuda()\n",
    "\n",
    "print('Complete')"
   ]
  },
  {
   "cell_type": "code",
   "execution_count": 69,
   "id": "2e0310c7",
   "metadata": {},
   "outputs": [
    {
     "name": "stdout",
     "output_type": "stream",
     "text": [
      "tensor(5.9843e-06, device='cuda:0')\n",
      "tensor(2.1117, device='cuda:0')\n"
     ]
    }
   ],
   "source": [
    "w,_,_,_ = torch.linalg.lstsq(rest_train.reshape([-1,264*264]),ages_train)\n",
    "\n",
    "y_train = rest_train.reshape([-1,264*264])@w\n",
    "y_test = rest_test.reshape([-1,264*264])@w\n",
    "\n",
    "print(torch.mean(torch.abs(y_train-ages_train)))\n",
    "print(torch.mean(torch.abs(y_test-ages_test)))"
   ]
  },
  {
   "cell_type": "code",
   "execution_count": 57,
   "id": "1a548701",
   "metadata": {},
   "outputs": [
    {
     "name": "stdout",
     "output_type": "stream",
     "text": [
      "(907, 264, 264)\n"
     ]
    }
   ],
   "source": [
    "# Test nback\n",
    "\n",
    "rest = []\n",
    "\n",
    "for key in meta:\n",
    "    if 'nbackData' in meta[key] and 'badNback' not in meta[key]:\n",
    "        rest.append(meta[key]['nbackData'])\n",
    "        \n",
    "rest = np.stack([np.corrcoef(ts) for ts in rest])\n",
    "print(rest.shape)"
   ]
  },
  {
   "cell_type": "code",
   "execution_count": 63,
   "id": "2b337e43",
   "metadata": {},
   "outputs": [
    {
     "name": "stdout",
     "output_type": "stream",
     "text": [
      "Complete\n"
     ]
    }
   ],
   "source": [
    "ages = []\n",
    "\n",
    "for key in meta:\n",
    "    if 'nbackData' in meta[key] and 'badNback' not in meta[key]:\n",
    "        ages.append(meta[key]['meta']['AgeInMonths']/12)\n",
    "\n",
    "ages = np.stack(ages)\n",
    "        \n",
    "perm = np.random.permutation(np.arange(len(ages)))\n",
    "rest_train = torch.from_numpy(rest[perm[0:800]]).float().cuda()\n",
    "rest_test = torch.from_numpy(rest[perm[800:]]).float().cuda()\n",
    "ages_train = torch.from_numpy(ages[perm[0:800]]).float().cuda()\n",
    "ages_test = torch.from_numpy(ages[perm[800:]]).float().cuda()\n",
    "\n",
    "print('Complete')"
   ]
  },
  {
   "cell_type": "code",
   "execution_count": 64,
   "id": "01e6f062",
   "metadata": {},
   "outputs": [
    {
     "name": "stdout",
     "output_type": "stream",
     "text": [
      "tensor(7.8499e-06, device='cuda:0')\n",
      "tensor(1.8825, device='cuda:0')\n"
     ]
    }
   ],
   "source": [
    "w,_,_,_ = torch.linalg.lstsq(rest_train.reshape([-1,264*264]),ages_train)\n",
    "\n",
    "y_train = rest_train.reshape([-1,264*264])@w\n",
    "y_test = rest_test.reshape([-1,264*264])@w\n",
    "\n",
    "print(torch.mean(torch.abs(y_train-ages_train)))\n",
    "print(torch.mean(torch.abs(y_test-ages_test)))"
   ]
  },
  {
   "cell_type": "code",
   "execution_count": 70,
   "id": "cfaff8ec",
   "metadata": {},
   "outputs": [
    {
     "name": "stdout",
     "output_type": "stream",
     "text": [
      "(678, 264, 264)\n"
     ]
    }
   ],
   "source": [
    "# Test emoid\n",
    "\n",
    "rest = []\n",
    "\n",
    "for key in meta:\n",
    "    if 'emoidData' in meta[key] and 'badEmoid' not in meta[key]:\n",
    "        rest.append(meta[key]['emoidData'])\n",
    "        \n",
    "rest = np.stack([np.corrcoef(ts) for ts in rest])\n",
    "print(rest.shape)"
   ]
  },
  {
   "cell_type": "code",
   "execution_count": 71,
   "id": "a9b389d3",
   "metadata": {},
   "outputs": [
    {
     "name": "stdout",
     "output_type": "stream",
     "text": [
      "Complete\n"
     ]
    }
   ],
   "source": [
    "ages = []\n",
    "\n",
    "for key in meta:\n",
    "    if 'emoidData' in meta[key] and 'badEmoid' not in meta[key]:\n",
    "        ages.append(meta[key]['meta']['AgeInMonths']/12)\n",
    "\n",
    "ages = np.stack(ages)\n",
    "        \n",
    "perm = np.random.permutation(np.arange(len(ages)))\n",
    "rest_train = torch.from_numpy(rest[perm[0:600]]).float().cuda()\n",
    "rest_test = torch.from_numpy(rest[perm[600:]]).float().cuda()\n",
    "ages_train = torch.from_numpy(ages[perm[0:600]]).float().cuda()\n",
    "ages_test = torch.from_numpy(ages[perm[600:]]).float().cuda()\n",
    "\n",
    "print('Complete')"
   ]
  },
  {
   "cell_type": "code",
   "execution_count": 72,
   "id": "e224a273",
   "metadata": {},
   "outputs": [
    {
     "name": "stdout",
     "output_type": "stream",
     "text": [
      "tensor(1.6349e-05, device='cuda:0')\n",
      "tensor(1.6441, device='cuda:0')\n"
     ]
    }
   ],
   "source": [
    "w,_,_,_ = torch.linalg.lstsq(rest_train.reshape([-1,264*264]),ages_train)\n",
    "\n",
    "y_train = rest_train.reshape([-1,264*264])@w\n",
    "y_test = rest_test.reshape([-1,264*264])@w\n",
    "\n",
    "print(torch.mean(torch.abs(y_train-ages_train)))\n",
    "print(torch.mean(torch.abs(y_test-ages_test)))"
   ]
  },
  {
   "cell_type": "code",
   "execution_count": 74,
   "id": "23041579",
   "metadata": {},
   "outputs": [],
   "source": [
    "# Save MegaMeta\n",
    "\n",
    "with open('../../PNC/MegaMeta.bin', 'wb') as f:\n",
    "    pickle.dump(meta, f)"
   ]
  },
  {
   "cell_type": "code",
   "execution_count": null,
   "id": "868e542a",
   "metadata": {},
   "outputs": [],
   "source": []
  }
 ],
 "metadata": {
  "kernelspec": {
   "display_name": "Python 3 (ipykernel)",
   "language": "python",
   "name": "python3"
  },
  "language_info": {
   "codemirror_mode": {
    "name": "ipython",
    "version": 3
   },
   "file_extension": ".py",
   "mimetype": "text/x-python",
   "name": "python",
   "nbconvert_exporter": "python",
   "pygments_lexer": "ipython3",
   "version": "3.10.0"
  }
 },
 "nbformat": 4,
 "nbformat_minor": 5
}
