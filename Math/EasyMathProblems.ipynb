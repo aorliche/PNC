{
 "cells": [
  {
   "cell_type": "code",
   "execution_count": 9,
   "id": "a3ac61d9",
   "metadata": {
    "scrolled": true
   },
   "outputs": [
    {
     "name": "stdout",
     "output_type": "stream",
     "text": [
      "6 38 12008\n",
      "9 83 18011\n"
     ]
    }
   ],
   "source": [
    "for n in range(1,2001):\n",
    "    a = n**2+2\n",
    "    b = 2001*n+2\n",
    "    c = b%a\n",
    "    if c == 0:\n",
    "        print(n,a,b)"
   ]
  },
  {
   "cell_type": "code",
   "execution_count": null,
   "id": "5fb92df1",
   "metadata": {},
   "outputs": [],
   "source": []
  }
 ],
 "metadata": {
  "kernelspec": {
   "display_name": "Python 3 (ipykernel)",
   "language": "python",
   "name": "python3"
  },
  "language_info": {
   "codemirror_mode": {
    "name": "ipython",
    "version": 3
   },
   "file_extension": ".py",
   "mimetype": "text/x-python",
   "name": "python",
   "nbconvert_exporter": "python",
   "pygments_lexer": "ipython3",
   "version": "3.11.3"
  }
 },
 "nbformat": 4,
 "nbformat_minor": 5
}
