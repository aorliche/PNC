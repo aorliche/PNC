{
 "cells": [
  {
   "cell_type": "code",
   "execution_count": 1,
   "id": "52eefa21",
   "metadata": {},
   "outputs": [
    {
     "name": "stdout",
     "output_type": "stream",
     "text": [
      "804\n"
     ]
    }
   ],
   "source": [
    "import pickle\n",
    "\n",
    "para = 'Rest'\n",
    "\n",
    "# Load meta dict\n",
    "\n",
    "with open('../../AllSubjectsMeta.bin', 'rb') as f:\n",
    "    meta = pickle.load(f)\n",
    "    \n",
    "# Load rest subject ids and splits\n",
    "\n",
    "with open('../../../BrainAgePredictWrat/' + para + 'Only10FoldSplit.bin', 'rb') as f:\n",
    "    splits = pickle.load(f)\n",
    "    subids = splits['cand' + para + 'YesWrat']\n",
    "    groups = splits['groups']\n",
    "    \n",
    "print(len(subids))"
   ]
  },
  {
   "cell_type": "code",
   "execution_count": 2,
   "id": "e8456c0b",
   "metadata": {},
   "outputs": [
    {
     "name": "stdout",
     "output_type": "stream",
     "text": [
      "Loading complete\n"
     ]
    }
   ],
   "source": [
    "import numpy as np\n",
    "\n",
    "paradigm = 'rest'\n",
    "subidsNp = np.array(subids)\n",
    "\n",
    "# Load timeseries\n",
    "\n",
    "def loadSeries(prefix, para, idx):\n",
    "    with open('{:}/{:}_fmri_power264/timeseries/{:}.bin'.format(prefix, para, idx), 'rb') as f:\n",
    "        return pickle.load(f)\n",
    "\n",
    "all_ts = [loadSeries('../..', paradigm, meta[subid][paradigm]) for subid in subidsNp]\n",
    "\n",
    "print('Loading complete')"
   ]
  },
  {
   "cell_type": "code",
   "execution_count": 3,
   "id": "c2fa5ffd",
   "metadata": {},
   "outputs": [
    {
     "name": "stdout",
     "output_type": "stream",
     "text": [
      "Complete\n"
     ]
    }
   ],
   "source": [
    "# Normalize timeseries\n",
    "\n",
    "def normalizeSubjects(subjects):\n",
    "    for i in range(len(subjects)):\n",
    "        subj = subjects[i]\n",
    "        subj -= np.mean(subj, axis=1, keepdims=True)@np.ones([1,subj.shape[1]])\n",
    "        subj /= np.std(subj, axis=1, keepdims=True)@np.ones([1,subj.shape[1]])\n",
    "        if np.sum(np.isnan(subj)) > 0:\n",
    "            print('nan {:}'.format(i))\n",
    "        if np.sum(np.isinf(subj)) > 0:\n",
    "            print('inf {:}'.format(i))\n",
    "            \n",
    "normalizeSubjects(all_ts)\n",
    "\n",
    "print('Complete')"
   ]
  },
  {
   "cell_type": "code",
   "execution_count": 4,
   "id": "dcb60446",
   "metadata": {},
   "outputs": [
    {
     "name": "stdout",
     "output_type": "stream",
     "text": [
      "[[223   1   0]\n",
      " [190   0   1]\n",
      " [197   0   1]\n",
      " [145   1   0]\n",
      " [148   0   1]\n",
      " [142   0   1]\n",
      " [123   1   0]\n",
      " [176   1   0]\n",
      " [129   0   1]\n",
      " [173   1   0]]\n",
      "Complete\n"
     ]
    }
   ],
   "source": [
    "# Create feature vectors (right now just ages, maleness, and femaless)\n",
    "\n",
    "X_all = []\n",
    "for subid in subidsNp:\n",
    "    subj = meta[subid]\n",
    "    maleness = 1 if subj['meta']['Gender'] == 'M' else 0\n",
    "    femaleness = 1 if maleness == 0 else 0\n",
    "    feat = np.array([subj['meta']['AgeInMonths'], maleness, femaleness])\n",
    "    X_all.append(feat)\n",
    "X_all = np.vstack(X_all)\n",
    "\n",
    "print(X_all[10:20])\n",
    "print('Complete')"
   ]
  },
  {
   "cell_type": "code",
   "execution_count": 5,
   "id": "a913cbaa",
   "metadata": {},
   "outputs": [
    {
     "name": "stdout",
     "output_type": "stream",
     "text": [
      "(804, 264, 264)\n"
     ]
    }
   ],
   "source": [
    "# Calculate pearson matrices\n",
    "\n",
    "all_p = np.stack([np.corrcoef(ts) for ts in all_ts])\n",
    "\n",
    "print(all_p.shape)"
   ]
  },
  {
   "cell_type": "code",
   "execution_count": null,
   "id": "8d96b859",
   "metadata": {},
   "outputs": [],
   "source": [
    "import torch\n",
    "import torch.nn as nn\n",
    "import torch.nn.functional as F\n",
    "\n",
    "nRoi = 264\n",
    "\n",
    "class Trans(nn.Module):\n",
    "    def __init__(self):\n",
    "        super(Trans, self).__init__()\n",
    "        self.trans = nn.Transformer(d_model=nRoi, nhead=8, \n",
    "                                    num_encoder_layers=2, num_decoder_layers=2, \n",
    "                                    dim_feedforward=100, dropout=0.1).cuda()\n",
    "        self.fc1 = nn.Linear(264,50).cuda()\n",
    "        self.fc2 = nn.Linear(50,1).cuda()\n",
    "        \n",
    "    def forward(self, x):\n",
    "        nB = x.shape[0]\n",
    "#         x = torch.cat([x, torch.ones(nB, nRoi, 1).cuda()], dim=2)\n",
    "        x = x.permute(2,0,1)\n",
    "        x = self.trans(x,x)#,src_mask=mask,tgt_mask=mask)\n",
    "        x = x[0,:,:]\n",
    "        x = F.relu(self.fc1(x))\n",
    "        x = self.fc2(x)\n",
    "        return x\n",
    "\n",
    "all_p_t = torch.from_numpy(all_p).float()\n",
    "agesPredTrans = torch.zeros(all_ts_t.shape[0])\n",
    "# mask = (torch.arange(0,232).float().unsqueeze(1)@torch.ones(1,232)).cuda()\n",
    "\n",
    "import random\n",
    "\n",
    "# Loop over splits \n",
    "splitIdx = 0\n",
    "for trainIdcs, testIdcs in groups:\n",
    "    trans = Trans()\n",
    "    optim = torch.optim.Adam(trans.parameters(), lr=2e-4)\n",
    "\n",
    "    train_p = all_p_t[trainIdcs].cuda()\n",
    "    test_p = all_p_t[testIdcs]\n",
    "\n",
    "    X_train = X_all[trainIdcs,0]\n",
    "\n",
    "    running = 0\n",
    "    nEpoch = 3500\n",
    "    pPeriod = 100\n",
    "    nB = 10\n",
    "    N = train_p.shape[0]\n",
    "\n",
    "    for epoch in range(nEpoch):\n",
    "        batch = []\n",
    "        truth = torch.zeros(nB).float().cuda()\n",
    "        for i in range(nB):\n",
    "            idx = random.randint(0,N-1)\n",
    "            batch.append(train_p[idx])\n",
    "            truth[i] = X_train[idx]\n",
    "        batch = torch.stack(batch)\n",
    "        optim.zero_grad()\n",
    "        pred = trans(batch).flatten()\n",
    "        loss = torch.sum((pred-truth)**2)\n",
    "        loss.backward()\n",
    "        running += loss.detach().cpu()\n",
    "        optim.step()\n",
    "        if epoch % pPeriod == 0 or epoch == nEpoch-1:\n",
    "            if epoch != 0:\n",
    "                if epoch % pPeriod != 0:\n",
    "                    running /= epoch % pPeriod\n",
    "                else:\n",
    "                    running /= pPeriod\n",
    "            print('epoch {:d} loss={:f}'.format(epoch, ((running/nB)**0.5)/12))\n",
    "            running = 0\n",
    "\n",
    "    print('Finished training')\n",
    "    \n",
    "    for i in range(int(test_p.shape[0]/10)+1):\n",
    "        st = i*10\n",
    "        end = st+10\n",
    "        if st >= test_p.shape[0]:\n",
    "            break\n",
    "        if end > test_p.shape[0]:\n",
    "            end = test_p.shape[0]\n",
    "        test_p_b = test_p[st:end].cuda()\n",
    "        agesPredTrans[testIdcs[st:end]] = trans(test_p_b).flatten().detach().cpu()\n",
    "    \n",
    "    print('Completed split {:}'.format(splitIdx))\n",
    "    splitIdx += 1\n",
    "\n",
    "print('All complete')"
   ]
  }
 ],
 "metadata": {
  "kernelspec": {
   "display_name": "Python 3",
   "language": "python",
   "name": "python3"
  },
  "language_info": {
   "codemirror_mode": {
    "name": "ipython",
    "version": 3
   },
   "file_extension": ".py",
   "mimetype": "text/x-python",
   "name": "python",
   "nbconvert_exporter": "python",
   "pygments_lexer": "ipython3",
   "version": "3.9.5"
  }
 },
 "nbformat": 4,
 "nbformat_minor": 5
}
