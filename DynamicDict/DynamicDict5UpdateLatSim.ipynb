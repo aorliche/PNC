{
 "cells": [
  {
   "cell_type": "code",
   "execution_count": 1,
   "id": "a0480797",
   "metadata": {},
   "outputs": [
    {
     "name": "stdout",
     "output_type": "stream",
     "text": [
      "[(3849, 34716), (3849,), (3849,), (3849,)]\n"
     ]
    }
   ],
   "source": [
    "import pickle\n",
    "import numpy as np\n",
    "\n",
    "demodir = '/home/anton/Documents/Tulane/Research/ImageNomer/data/anton/cohorts/PNC/'\n",
    "demofile = f'{demodir}/demographics.pkl'\n",
    "    \n",
    "sex = [] \n",
    "age = []\n",
    "race = []\n",
    "fc = []\n",
    "\n",
    "demo = pickle.load(open(demofile, 'rb'))\n",
    "\n",
    "for sub in demo['age_at_cnb']:\n",
    "    for task in ['rest', 'nback', 'emoid']:\n",
    "        try:\n",
    "            a = demo['age_at_cnb'][sub]\n",
    "            s = demo['Sex'][sub] == 'M'\n",
    "            r = demo['Race'][sub] == 'AA'\n",
    "            if demo['Race'][sub] not in ['AA', 'EA']:\n",
    "                continue\n",
    "            p = np.load(f'{demodir}/fc/{sub}_task-{task}_fc.npy')\n",
    "        except:\n",
    "            continue\n",
    "        fc.append(p)\n",
    "        age.append(a)\n",
    "        sex.append(s)\n",
    "        race.append(r)\n",
    "\n",
    "age = np.array(age)\n",
    "sex = np.array(sex).astype('int')\n",
    "race = np.array(race).astype('int')\n",
    "fc = np.stack(fc)\n",
    "\n",
    "print([a.shape for a in [fc, age, sex, race]])"
   ]
  },
  {
   "cell_type": "code",
   "execution_count": 2,
   "id": "f1534c0a",
   "metadata": {},
   "outputs": [
    {
     "name": "stdout",
     "output_type": "stream",
     "text": [
      "['/home/anton/Documents/Tulane/Research/code/DynamicDict', '/usr/lib/python311.zip', '/usr/lib/python3.11', '/usr/lib/python3.11/lib-dynload', '', '/usr/lib/python3.11/site-packages', '/home/anton/Documents/Tulane/Research/LatentSimilarity/']\n"
     ]
    }
   ],
   "source": [
    "import sys\n",
    "\n",
    "lsd = '/home/anton/Documents/Tulane/Research/LatentSimilarity/'\n",
    "\n",
    "if lsd not in sys.path:\n",
    "    sys.path.append(lsd)\n",
    "    \n",
    "print(sys.path)"
   ]
  },
  {
   "cell_type": "code",
   "execution_count": 57,
   "id": "38b83523",
   "metadata": {},
   "outputs": [
    {
     "name": "stdout",
     "output_type": "stream",
     "text": [
      "3.239835253555496\n"
     ]
    }
   ],
   "source": [
    "from latsim import LatSimReg, LatSimClf\n",
    "from sklearn.model_selection import train_test_split\n",
    "from sklearn.metrics import roc_auc_score\n",
    "\n",
    "def rmse(yhat, y):\n",
    "    return np.mean((yhat-y)**2)**0.5\n",
    "\n",
    "xtr, xt, ytr, yt = train_test_split(fc, age, train_size=0.01)\n",
    "\n",
    "reg = LatSimReg(ld=1, wd=1e-3).fit(xtr, ytr)\n",
    "yhat = reg.predict(xt)\n",
    "# yhat = reg.predict_proba(xt)\n",
    "print(rmse(yhat, yt))\n",
    "# print(roc_auc_score(yt, yhat[:,1]))\n",
    "# print(np.mean(yhat == yt))"
   ]
  },
  {
   "cell_type": "code",
   "execution_count": 58,
   "id": "362edc20",
   "metadata": {},
   "outputs": [
    {
     "name": "stdout",
     "output_type": "stream",
     "text": [
      "3.1325756443507293\n"
     ]
    }
   ],
   "source": [
    "from sklearn.linear_model import Ridge\n",
    "from sklearn.linear_model import LogisticRegression\n",
    "\n",
    "reg = Ridge(alpha=1).fit(xtr, ytr)\n",
    "yhat = reg.predict(xt)\n",
    "print(rmse(yhat, yt))\n",
    "\n",
    "# xtr, xt, ytr, yt = train_test_split(fc, race, stratify=race, train_size=0.8)\n",
    "\n",
    "# reg = LogisticRegression(C=1).fit(xtr, ytr)\n",
    "# yhat = reg.predict_proba(xt)\n",
    "# # print(rmse(yhat, yt))\n",
    "# print(roc_auc_score(yt, yhat[:,1]))\n",
    "# # print(np.mean(yhat == yt))"
   ]
  },
  {
   "cell_type": "code",
   "execution_count": null,
   "id": "99d7c6ea",
   "metadata": {},
   "outputs": [],
   "source": []
  }
 ],
 "metadata": {
  "kernelspec": {
   "display_name": "Python 3 (ipykernel)",
   "language": "python",
   "name": "python3"
  },
  "language_info": {
   "codemirror_mode": {
    "name": "ipython",
    "version": 3
   },
   "file_extension": ".py",
   "mimetype": "text/x-python",
   "name": "python",
   "nbconvert_exporter": "python",
   "pygments_lexer": "ipython3",
   "version": "3.11.3"
  }
 },
 "nbformat": 4,
 "nbformat_minor": 5
}
