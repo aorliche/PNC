{
 "cells": [
  {
   "cell_type": "code",
   "execution_count": 13,
   "id": "4721e37f-c40e-48cf-9102-b6112a092a5c",
   "metadata": {},
   "outputs": [
    {
     "name": "stdout",
     "output_type": "stream",
     "text": [
      "266 353 342 329\n"
     ]
    }
   ],
   "source": [
    "# PNC\n",
    "\n",
    "import pickle\n",
    "import numpy as np\n",
    "\n",
    "pncdir = '/home/anton/Documents/Tulane/Research/ImageNomer/data/anton/cohorts/PNC/'\n",
    "\n",
    "pncdemo = pickle.load(open(f'{pncdir}/demographics.pkl', 'rb'))\n",
    "\n",
    "task = 'nback'\n",
    "\n",
    "aamale = []\n",
    "aafemale = []\n",
    "eamale = []\n",
    "eafemale = []\n",
    "\n",
    "for sub in pncdemo['Race']:\n",
    "    if sub not in pncdemo['Sex']:\n",
    "        continue\n",
    "    a = pncdemo['age_at_cnb'][sub]\n",
    "    r = pncdemo['Race'][sub]\n",
    "    s = pncdemo['Sex'][sub]\n",
    "    if r not in ['AA', 'EA']:\n",
    "        continue\n",
    "    try:\n",
    "        p = np.load(f'{pncdir}/fc/{sub}_task-{task}_fc.npy')\n",
    "    except:\n",
    "        continue\n",
    "    if s == 'M' and r == 'AA':\n",
    "        aamale.append(p)\n",
    "    elif s == 'M' and r == 'EA':\n",
    "        eamale.append(p)\n",
    "    elif s == 'F' and r == 'AA':\n",
    "        aafemale.append(p)\n",
    "    elif s == 'F' and r == 'EA':\n",
    "        eafemale.append(p)\n",
    "\n",
    "aamale = np.stack(aamale)\n",
    "aafemale = np.stack(aafemale)\n",
    "eamale = np.stack(eamale)\n",
    "eafemale = np.stack(eafemale)\n",
    "\n",
    "print(len(aamale), len(aafemale), len(eamale), len(eafemale))"
   ]
  },
  {
   "cell_type": "code",
   "execution_count": 1,
   "id": "8ba14bee-d94f-44ab-9d79-51c1ec963764",
   "metadata": {},
   "outputs": [
    {
     "name": "stdout",
     "output_type": "stream",
     "text": [
      "28 42 63 87\n"
     ]
    }
   ],
   "source": [
    "# BSNIP\n",
    "\n",
    "import pickle\n",
    "import numpy as np\n",
    "\n",
    "bsnipdir = '/home/anton/Documents/Tulane/Research/ImageNomer/data/anton/cohorts/BSNIP/'\n",
    "\n",
    "bsnipdemo = pickle.load(open(f'{bsnipdir}/demographics.pkl', 'rb'))\n",
    "\n",
    "aamale = []\n",
    "aafemale = []\n",
    "eamale = []\n",
    "eafemale = []\n",
    "\n",
    "for sub in bsnipdemo['Race']:\n",
    "    if sub not in bsnipdemo['sex']:\n",
    "        continue\n",
    "    try:\n",
    "        dx = bsnipdemo['DXGROUP_1'][sub]\n",
    "        if dx != 'NC':\n",
    "            continue\n",
    "    except:\n",
    "        continue\n",
    "    r = bsnipdemo['Race'][sub]\n",
    "    s = bsnipdemo['sex'][sub]\n",
    "    if r not in ['AA', 'CA']:\n",
    "        continue\n",
    "    try:\n",
    "        p = np.load(f'{bsnipdir}/fc/{sub}_task-unk_fc.npy')\n",
    "    except:\n",
    "        continue\n",
    "    if s == 's1.0' and r == 'AA':\n",
    "        aamale.append(p)\n",
    "    elif s == 's1.0' and r == 'CA':\n",
    "        eamale.append(p)\n",
    "    elif s == 's2.0' and r == 'AA':\n",
    "        aafemale.append(p)\n",
    "    elif s == 's2.0' and r == 'CA':\n",
    "        eafemale.append(p)\n",
    "\n",
    "aamale = np.stack(aamale)\n",
    "aafemale = np.stack(aafemale)\n",
    "eamale = np.stack(eamale)\n",
    "eafemale = np.stack(eafemale)\n",
    "\n",
    "print(len(aamale), len(aafemale), len(eamale), len(eafemale))"
   ]
  },
  {
   "cell_type": "code",
   "execution_count": 14,
   "id": "6388dbfa-7586-4ddf-956e-311145a1e01a",
   "metadata": {},
   "outputs": [
    {
     "name": "stdout",
     "output_type": "stream",
     "text": [
      "0.27\n",
      "0.28\n",
      "0.318\n",
      "0.302\n",
      "0.282\n",
      "0.308\n",
      "0.278\n",
      "0.306\n",
      "0.296\n",
      "0.292\n",
      "0.29319999999999996 0.014675149062275308\n"
     ]
    }
   ],
   "source": [
    "from sklearn.linear_model import LogisticRegression\n",
    "from sklearn.model_selection import train_test_split\n",
    "\n",
    "def choose(arr, n):\n",
    "    idcs = np.random.permutation(len(arr))\n",
    "    return arr[idcs[:n]]\n",
    "\n",
    "accs = []\n",
    "N = 250\n",
    "\n",
    "for _ in range(10):\n",
    "    xtr = np.concatenate([choose(aamale, N), choose(eafemale, N)])\n",
    "    xt = np.concatenate([choose(eamale, N), choose(aafemale, N)])\n",
    "    ytr = np.concatenate([np.zeros(N), np.ones(N)])\n",
    "    yt = ytr\n",
    "    \n",
    "    # x = np.concatenate([choose(aamale, N), choose(aafemale, N), choose(eamale, N), choose(eafemale, N)])\n",
    "    # y = np.concatenate([np.zeros(2*N), np.ones(2*N)])\n",
    "    # xtr, xt, ytr, yt = train_test_split(x, y, stratify=y, train_size=2*N)\n",
    "\n",
    "    reg = LogisticRegression(max_iter=1000).fit(xtr, ytr)\n",
    "    yhat = reg.predict(xt)\n",
    "    acc = np.mean(yhat == yt)\n",
    "    print(acc)\n",
    "    accs.append(acc)\n",
    "\n",
    "print(np.mean(accs), np.std(accs))"
   ]
  },
  {
   "cell_type": "code",
   "execution_count": null,
   "id": "4b2bc494-2b8b-4758-8146-339feadd48d4",
   "metadata": {},
   "outputs": [],
   "source": []
  }
 ],
 "metadata": {
  "kernelspec": {
   "display_name": "Python 3 (ipykernel)",
   "language": "python",
   "name": "python3"
  },
  "language_info": {
   "codemirror_mode": {
    "name": "ipython",
    "version": 3
   },
   "file_extension": ".py",
   "mimetype": "text/x-python",
   "name": "python",
   "nbconvert_exporter": "python",
   "pygments_lexer": "ipython3",
   "version": "3.11.3"
  }
 },
 "nbformat": 4,
 "nbformat_minor": 5
}
