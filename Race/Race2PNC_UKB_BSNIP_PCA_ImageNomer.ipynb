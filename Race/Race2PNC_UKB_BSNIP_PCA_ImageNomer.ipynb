{
 "cells": [
  {
   "cell_type": "code",
   "execution_count": 11,
   "id": "07821be1-7440-4cd3-a5b2-ed05135e8bbe",
   "metadata": {},
   "outputs": [
    {
     "name": "stdout",
     "output_type": "stream",
     "text": [
      "468 484 486 468 484 486\n"
     ]
    }
   ],
   "source": [
    "# PNC top 200 components\n",
    "\n",
    "import pickle\n",
    "import numpy as np\n",
    "\n",
    "pncdir = '/home/anton/Documents/Tulane/Research/ImageNomer/data/anton/cohorts/PNC'\n",
    "\n",
    "rest = []\n",
    "nback = []\n",
    "emoid = []\n",
    "\n",
    "rest_subs = []\n",
    "nback_subs = []\n",
    "emoid_subs = []\n",
    "\n",
    "pncdemo = pickle.load(open(f'{pncdir}/demographics.pkl', 'rb'))\n",
    "\n",
    "for sub in pncdemo['age_at_cnb']:\n",
    "    a = pncdemo['age_at_cnb'][sub]\n",
    "    if a < 17:\n",
    "        continue\n",
    "    for tname, task, subs in zip(['rest', 'nback', 'emoid'], [rest, nback, emoid], [rest_subs, nback_subs, emoid_subs]):\n",
    "        try:\n",
    "            p =  np.load(f'{pncdir}/fc/{sub}_task-{tname}_fc.npy')\n",
    "            task.append(p)\n",
    "            subs.append(sub)\n",
    "        except:\n",
    "            pass\n",
    "\n",
    "rest = np.stack(rest)\n",
    "nback = np.stack(nback)\n",
    "emoid = np.stack(emoid)\n",
    "\n",
    "print(len(rest), len(nback), len(emoid), len(rest_subs), len(nback_subs), len(emoid_subs))"
   ]
  },
  {
   "cell_type": "code",
   "execution_count": 12,
   "id": "f97edc3a-286f-4bb3-a1b9-404051a30ce9",
   "metadata": {},
   "outputs": [
    {
     "name": "stdout",
     "output_type": "stream",
     "text": [
      "(468, 200)\n",
      "(200, 34716)\n",
      "(484, 200)\n",
      "(200, 34716)\n",
      "(486, 200)\n",
      "(200, 34716)\n"
     ]
    }
   ],
   "source": [
    "from sklearn.decomposition import PCA\n",
    "\n",
    "tag = 'pca17orOver'\n",
    "\n",
    "for tname, task, subs in zip(['rest', 'nback', 'emoid'], [rest, nback, emoid], [rest_subs, nback_subs, emoid_subs]):\n",
    "    pca = PCA(n_components=200)\n",
    "    task_w = pca.fit_transform(task)\n",
    "\n",
    "    for i,sub in enumerate(subs):\n",
    "        np.save(f'{pncdir}/decomp/{tname}{tag}-weights/{sub}_comp-{tname}{tag}_weights.npy', task_w[i])\n",
    "\n",
    "    for i in range(200):\n",
    "        np.save(f'{pncdir}/decomp/{tname}{tag}-comps/{tname}{tag}_comp-{i}.npy', pca.components_[i])\n",
    "\n",
    "    print(task_w.shape)\n",
    "    print(pca.components_.shape)"
   ]
  },
  {
   "cell_type": "code",
   "execution_count": 17,
   "id": "e0a235d2-a90a-404e-8eee-5fc591f1374e",
   "metadata": {},
   "outputs": [
    {
     "name": "stdout",
     "output_type": "stream",
     "text": [
      "220 91 129 220 91 129\n"
     ]
    }
   ],
   "source": [
    "import pickle\n",
    "import numpy as np\n",
    "\n",
    "bsnipdir = '/home/anton/Documents/Tulane/Research/ImageNomer/data/anton/cohorts/BSNIP'\n",
    "\n",
    "fc = []\n",
    "fcmale = []\n",
    "fcfemale = []\n",
    "\n",
    "allsubs = []\n",
    "malesubs = []\n",
    "femalesubs = []\n",
    "\n",
    "bsnipdemo = pickle.load(open(f'{bsnipdir}/demographics.pkl', 'rb'))\n",
    "\n",
    "for sub in bsnipdemo['DXGROUP_1']:\n",
    "    try:\n",
    "        d = bsnipdemo['DXGROUP_1'][sub]\n",
    "        r = bsnipdemo['Race'][sub]\n",
    "        s = bsnipdemo['sex'][sub] == 's1.0' # male\n",
    "        if d != 'NC' or r not in ['CA', 'AA']:\n",
    "            continue\n",
    "    except:\n",
    "        continue\n",
    "    try:\n",
    "        p =  np.load(f'{bsnipdir}/fc/{sub}_task-unk_fc.npy')\n",
    "        fc.append(p)\n",
    "        allsubs.append(sub)\n",
    "        if s: # male\n",
    "            fcmale.append(p)\n",
    "            malesubs.append(sub)\n",
    "        else:\n",
    "            fcfemale.append(p)\n",
    "            femalesubs.append(sub)\n",
    "    except:\n",
    "        pass\n",
    "\n",
    "fc = np.stack(fc)\n",
    "fcmale = np.stack(fcmale)\n",
    "fcfemale = np.stack(fcfemale)\n",
    "\n",
    "print(len(fc), len(fcmale), len(fcfemale), len(allsubs), len(malesubs), len(femalesubs))"
   ]
  },
  {
   "cell_type": "code",
   "execution_count": 19,
   "id": "9874f7e2-5b42-42bb-b748-32e9c8635bb9",
   "metadata": {},
   "outputs": [
    {
     "name": "stdout",
     "output_type": "stream",
     "text": [
      "(220, 50)\n",
      "(50, 34716)\n",
      "(91, 50)\n",
      "(50, 34716)\n",
      "(129, 50)\n",
      "(50, 34716)\n"
     ]
    }
   ],
   "source": [
    "from sklearn.decomposition import PCA\n",
    "\n",
    "for tname, task, subs in zip(['ncpca', 'ncmalepca', 'ncfemalepca'], [fc, fcmale, fcfemale], [allsubs, malesubs, femalesubs]):\n",
    "    pca = PCA(n_components=50)\n",
    "    task_w = pca.fit_transform(task)\n",
    "\n",
    "    for i,sub in enumerate(subs):\n",
    "        np.save(f'{bsnipdir}/decomp/{tname}-weights/{sub}_comp-{tname}_weights.npy', task_w[i])\n",
    "\n",
    "    for i in range(50):\n",
    "        np.save(f'{bsnipdir}/decomp/{tname}-comps/{tname}_comp-{i}.npy', pca.components_[i])\n",
    "\n",
    "    print(task_w.shape)\n",
    "    print(pca.components_.shape)"
   ]
  },
  {
   "cell_type": "code",
   "execution_count": null,
   "id": "fe3485fc-7f22-489c-bb5b-1158a76919fb",
   "metadata": {},
   "outputs": [],
   "source": []
  }
 ],
 "metadata": {
  "kernelspec": {
   "display_name": "Python 3 (ipykernel)",
   "language": "python",
   "name": "python3"
  },
  "language_info": {
   "codemirror_mode": {
    "name": "ipython",
    "version": 3
   },
   "file_extension": ".py",
   "mimetype": "text/x-python",
   "name": "python",
   "nbconvert_exporter": "python",
   "pygments_lexer": "ipython3",
   "version": "3.11.3"
  }
 },
 "nbformat": 4,
 "nbformat_minor": 5
}
