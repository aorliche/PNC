{
 "cells": [
  {
   "cell_type": "code",
   "execution_count": 6,
   "id": "6042749d",
   "metadata": {},
   "outputs": [
    {
     "name": "stdout",
     "output_type": "stream",
     "text": [
      "[(3849, 5, 264), (3849, 5, 264), (3849,), (3849, 34716)]\n",
      "14.398285268901013\n"
     ]
    }
   ],
   "source": [
    "import pickle\n",
    "import re\n",
    "import numpy as np\n",
    "\n",
    "basis_file = '/home/anton/Documents/Tulane/Research/PNC_Good/AngleBasisLong5.pkl'\n",
    "demodir = '/home/anton/Documents/Tulane/Research/ImageNomer/data/anton/cohorts/PNC/'\n",
    "\n",
    "basis = pickle.load(open(basis_file, 'rb'))\n",
    "\n",
    "thetas = []\n",
    "jitter = []\n",
    "age = []\n",
    "fc = []\n",
    "\n",
    "demo = pickle.load(open(f'{demodir}/demographics.pkl', 'rb'))\n",
    "\n",
    "for subtask in basis:\n",
    "    m = re.search('([^-]+)-(.*)', subtask)\n",
    "#     m = re.search('([^-]+)', subtask)\n",
    "    sub = m.group(1)\n",
    "    task = m.group(2)\n",
    "    a = demo['age_at_cnb'][sub]\n",
    "    age.append(a)\n",
    "    thetas.append(basis[subtask]['thetas'])\n",
    "    jitter.append(basis[subtask]['jitter'])\n",
    "    p = np.load(f'{demodir}/fc/{sub}_task-{task}_fc.npy')\n",
    "    fc.append(p)\n",
    "    \n",
    "thetas = np.stack(thetas)\n",
    "jitter = np.stack(jitter)\n",
    "age = np.array(age)\n",
    "fc = np.stack(fc)\n",
    "\n",
    "print([a.shape for a in [thetas, jitter, age, fc]])\n",
    "print(np.mean(age))"
   ]
  },
  {
   "cell_type": "code",
   "execution_count": 7,
   "id": "8b3f9737",
   "metadata": {},
   "outputs": [
    {
     "name": "stdout",
     "output_type": "stream",
     "text": [
      "(3849, 5, 34716)\n",
      "(3849, 34716)\n",
      "(3849, 34716)\n"
     ]
    }
   ],
   "source": [
    "def rmse(yhat, y):\n",
    "    if isinstance(yhat, np.ndarray) or isinstance(yhat, int):\n",
    "        f = np.mean\n",
    "    else:\n",
    "        f = torch.mean\n",
    "    return f((y-yhat)**2)**0.5\n",
    "\n",
    "def tops(thetas, jitter):\n",
    "    t0 = np.expand_dims(thetas, 2)\n",
    "    t1 = np.expand_dims(thetas, 3)\n",
    "    j0 = np.expand_dims(jitter, 2)\n",
    "    j1 = np.expand_dims(jitter, 3)\n",
    "    ps = np.cos(t0-t1)*(j0*j1)\n",
    "    a,b = np.triu_indices(264, 1)\n",
    "    ps = ps[:,:,a,b]\n",
    "    return ps\n",
    "    \n",
    "ps = tops(thetas, jitter)\n",
    "aps = np.mean(ps, axis=1)\n",
    "res = fc - aps\n",
    "\n",
    "print(ps.shape)\n",
    "print(aps.shape)\n",
    "print(res.shape)"
   ]
  },
  {
   "cell_type": "code",
   "execution_count": 8,
   "id": "619715e7",
   "metadata": {},
   "outputs": [],
   "source": [
    "res5 = res\n",
    "aps5 = aps"
   ]
  },
  {
   "cell_type": "code",
   "execution_count": 34,
   "id": "736c3eb0",
   "metadata": {},
   "outputs": [
    {
     "name": "stdout",
     "output_type": "stream",
     "text": [
      "Finished 0\n",
      "Finished 100\n",
      "Finished 200\n",
      "Finished 300\n",
      "Finished 400\n",
      "Finished 500\n",
      "Finished 600\n",
      "Finished 700\n",
      "Finished 800\n",
      "Finished 900\n",
      "Finished 1000\n",
      "Finished 1100\n",
      "Finished 1200\n",
      "Finished 1300\n",
      "Finished 1400\n",
      "Finished 1500\n",
      "Finished 1600\n",
      "Finished 1700\n",
      "Finished 1800\n",
      "Finished 1900\n",
      "Finished 2000\n",
      "Finished 2100\n",
      "Finished 2200\n",
      "Finished 2300\n",
      "Finished 2400\n",
      "Finished 2500\n",
      "Finished 2600\n",
      "Finished 2700\n",
      "Finished 2800\n",
      "Finished 2900\n",
      "Finished 3000\n",
      "Finished 3100\n",
      "Finished 3200\n",
      "Finished 3300\n",
      "Finished 3400\n",
      "Finished 3500\n",
      "Finished 3600\n",
      "Finished 3700\n",
      "Finished 3800\n",
      "(3849, 34716)\n"
     ]
    }
   ],
   "source": [
    "# Try partial correlation\n",
    "\n",
    "from nilearn.connectome import ConnectivityMeasure\n",
    "\n",
    "def cat(x, **kwargs):\n",
    "    return np.concatenate(x, **kwargs)\n",
    "\n",
    "rest_ts = pickle.load(open('/home/anton/Documents/Tulane/Research/PNC_Good/PNC_SPM_rest_good_filt.pkl', 'rb'))\n",
    "nback_ts = pickle.load(open('/home/anton/Documents/Tulane/Research/PNC_Good/PNC_SPM_nback_good_filt.pkl', 'rb'))\n",
    "emoid_ts = pickle.load(open('/home/anton/Documents/Tulane/Research/PNC_Good/PNC_SPM_emoid_good_filt.pkl', 'rb'))\n",
    "\n",
    "pc = []\n",
    "con = ConnectivityMeasure(kind='partial correlation', vectorize=True, discard_diagonal=True)\n",
    "\n",
    "for i,subtask in enumerate(basis):\n",
    "    m = re.search('([^-]+)-(.*)', subtask)\n",
    "    sub = m.group(1)\n",
    "    task = m.group(2)\n",
    "    if task == 'rest':\n",
    "        ts = rest_ts\n",
    "    elif task == 'nback':\n",
    "        ts = nback_ts\n",
    "    elif task == 'emoid':\n",
    "        ts = emoid_ts\n",
    "    p = con.fit_transform([ts[sub].T])\n",
    "    pc.append(p)\n",
    "    if i%100 == 0:\n",
    "        print(f'Finished {i}')\n",
    "    \n",
    "pc = cat(pc)\n",
    "print(pc.shape)"
   ]
  },
  {
   "cell_type": "code",
   "execution_count": 165,
   "id": "b548dbc3",
   "metadata": {},
   "outputs": [
    {
     "name": "stdout",
     "output_type": "stream",
     "text": [
      "(1244, 34716)\n"
     ]
    }
   ],
   "source": [
    "from sklearn.decomposition import PCA\n",
    "\n",
    "pca = PCA(n_components=100).fit(fc)\n",
    "fc_comp = pca.transform(fc)\n",
    "fc_low = pca.inverse_transform(fc_comp)\n",
    "\n",
    "print(fc_low.shape)"
   ]
  },
  {
   "cell_type": "code",
   "execution_count": 10,
   "id": "703d009e",
   "metadata": {},
   "outputs": [
    {
     "name": "stdout",
     "output_type": "stream",
     "text": [
      "3.1233248162798506\n",
      "3.097381483507909\n",
      "3.0771439069781024\n",
      "3.0487042751867404\n",
      "3.4672478932871083\n",
      "0 ----\n",
      "3.1594918429791052\n",
      "3.1700638301385533\n",
      "3.1246785407302147\n",
      "3.111825636915654\n",
      "3.470148717833023\n",
      "1 ----\n",
      "3.168444771624748\n",
      "3.196717615746407\n",
      "3.141824871484134\n",
      "3.128233984807675\n",
      "3.464751496085975\n",
      "2 ----\n"
     ]
    },
    {
     "ename": "KeyboardInterrupt",
     "evalue": "",
     "output_type": "error",
     "traceback": [
      "\u001b[0;31m---------------------------------------------------------------------------\u001b[0m",
      "\u001b[0;31mKeyboardInterrupt\u001b[0m                         Traceback (most recent call last)",
      "Cell \u001b[0;32mIn[10], line 15\u001b[0m\n\u001b[1;32m     13\u001b[0m x1 \u001b[38;5;241m=\u001b[39m res1\u001b[38;5;66;03m#[idcs[:1244]]\u001b[39;00m\n\u001b[1;32m     14\u001b[0m x2 \u001b[38;5;241m=\u001b[39m fc\u001b[38;5;66;03m#[idcs[:1244]]\u001b[39;00m\n\u001b[0;32m---> 15\u001b[0m x \u001b[38;5;241m=\u001b[39m \u001b[43mcat\u001b[49m\u001b[43m(\u001b[49m\u001b[43m[\u001b[49m\u001b[43mx0\u001b[49m\u001b[43m,\u001b[49m\u001b[43m \u001b[49m\u001b[43mx1\u001b[49m\u001b[43m,\u001b[49m\u001b[43m \u001b[49m\u001b[43mx2\u001b[49m\u001b[43m]\u001b[49m\u001b[43m,\u001b[49m\u001b[43m \u001b[49m\u001b[43maxis\u001b[49m\u001b[38;5;241;43m=\u001b[39;49m\u001b[38;5;241;43m1\u001b[39;49m\u001b[43m)\u001b[49m\n\u001b[1;32m     16\u001b[0m y \u001b[38;5;241m=\u001b[39m age\u001b[38;5;66;03m#[idcs[:1244]]\u001b[39;00m\n\u001b[1;32m     18\u001b[0m xtr, xt, ytr, yt \u001b[38;5;241m=\u001b[39m train_test_split(x, y, train_size\u001b[38;5;241m=\u001b[39m\u001b[38;5;241m0.01\u001b[39m)\n",
      "Cell \u001b[0;32mIn[10], line 5\u001b[0m, in \u001b[0;36mcat\u001b[0;34m(x, **kwargs)\u001b[0m\n\u001b[1;32m      4\u001b[0m \u001b[38;5;28;01mdef\u001b[39;00m \u001b[38;5;21mcat\u001b[39m(x, \u001b[38;5;241m*\u001b[39m\u001b[38;5;241m*\u001b[39mkwargs):\n\u001b[0;32m----> 5\u001b[0m     \u001b[38;5;28;01mreturn\u001b[39;00m \u001b[43mnp\u001b[49m\u001b[38;5;241;43m.\u001b[39;49m\u001b[43mconcatenate\u001b[49m\u001b[43m(\u001b[49m\u001b[43mx\u001b[49m\u001b[43m,\u001b[49m\u001b[43m \u001b[49m\u001b[38;5;241;43m*\u001b[39;49m\u001b[38;5;241;43m*\u001b[39;49m\u001b[43mkwargs\u001b[49m\u001b[43m)\u001b[49m\n",
      "File \u001b[0;32m<__array_function__ internals>:180\u001b[0m, in \u001b[0;36mconcatenate\u001b[0;34m(*args, **kwargs)\u001b[0m\n",
      "\u001b[0;31mKeyboardInterrupt\u001b[0m: "
     ]
    }
   ],
   "source": [
    "from sklearn.model_selection import train_test_split\n",
    "from sklearn.linear_model import Ridge\n",
    "\n",
    "def cat(x, **kwargs):\n",
    "    return np.concatenate(x, **kwargs)\n",
    "\n",
    "rmsefc = []\n",
    "rmseens = []\n",
    "\n",
    "for i in range(20):\n",
    "    idcs = np.random.permutation(fc.shape[0])\n",
    "    x0 = aps5#[idcs[:1244]]\n",
    "    x1 = res1#[idcs[:1244]]\n",
    "    x2 = fc#[idcs[:1244]]\n",
    "    x = cat([x0, x1, x2], axis=1)\n",
    "    y = age#[idcs[:1244]]\n",
    "\n",
    "    xtr, xt, ytr, yt = train_test_split(x, y, train_size=0.05)\n",
    "\n",
    "    mu = np.mean(ytr)\n",
    "    ytr -= mu\n",
    "    yt -= mu\n",
    "\n",
    "    n = 34716\n",
    "\n",
    "    xlst = [(xtr[:,a*n:(a+1)*n], xt[:,a*n:(a+1)*n]) for a in range(0,3)]\n",
    "    xtr0, xt0, xtr1, xt1, xtr2, xt2 = [a for b in xlst for a in b]\n",
    "\n",
    "    reg = Ridge(alpha=1).fit(xtr0, ytr)\n",
    "    yhat0 = reg.predict(xt0)\n",
    "    print(rmse(yhat0, yt))\n",
    "\n",
    "    reg = Ridge(alpha=1).fit(xtr1, ytr)\n",
    "    yhat1 = reg.predict(xt1)\n",
    "    print(rmse(yhat1, yt))\n",
    "\n",
    "    reg = Ridge(alpha=1).fit(xtr2, ytr)\n",
    "    yhat2 = reg.predict(xt2)\n",
    "    print(rmse(yhat2, yt))\n",
    "\n",
    "    yhat = (yhat0+yhat1)/2\n",
    "    print(rmse(yhat, yt))\n",
    "    print(rmse(0, yt))\n",
    "    print(f'{i} ----')\n",
    "    \n",
    "    rmsefc.append(rmse(yhat2, yt))\n",
    "    rmseens.append(rmse(yhat, yt))\n",
    "    \n",
    "print(np.mean(rmsefc))\n",
    "print(np.mean(rmseens))"
   ]
  },
  {
   "cell_type": "code",
   "execution_count": 61,
   "id": "7472d611",
   "metadata": {},
   "outputs": [
    {
     "ename": "NameError",
     "evalue": "name 'remap' is not defined",
     "output_type": "error",
     "traceback": [
      "\u001b[0;31m---------------------------------------------------------------------------\u001b[0m",
      "\u001b[0;31mNameError\u001b[0m                                 Traceback (most recent call last)",
      "Cell \u001b[0;32mIn[61], line 7\u001b[0m\n\u001b[1;32m      5\u001b[0m fig, ax \u001b[38;5;241m=\u001b[39m plt\u001b[38;5;241m.\u001b[39msubplots(\u001b[38;5;241m1\u001b[39m,\u001b[38;5;241m2\u001b[39m,figsize\u001b[38;5;241m=\u001b[39m(\u001b[38;5;241m10\u001b[39m,\u001b[38;5;241m4\u001b[39m))\n\u001b[1;32m      6\u001b[0m \u001b[38;5;66;03m# im0 = ax[0].imshow(remap(vec2mat(reg.coef_)))\u001b[39;00m\n\u001b[0;32m----> 7\u001b[0m im0 \u001b[38;5;241m=\u001b[39m ax[\u001b[38;5;241m0\u001b[39m]\u001b[38;5;241m.\u001b[39mimshow(\u001b[43mremap\u001b[49m(vec2mat(reg\u001b[38;5;241m.\u001b[39mcoef_\u001b[38;5;241m*\u001b[39mnp\u001b[38;5;241m.\u001b[39mmean(aps, axis\u001b[38;5;241m=\u001b[39m\u001b[38;5;241m0\u001b[39m))))\n\u001b[1;32m      8\u001b[0m im1 \u001b[38;5;241m=\u001b[39m ax[\u001b[38;5;241m1\u001b[39m]\u001b[38;5;241m.\u001b[39mimshow(remap(vec2mat(aps[num])))\n\u001b[1;32m      9\u001b[0m fig\u001b[38;5;241m.\u001b[39mcolorbar(im0)\n",
      "\u001b[0;31mNameError\u001b[0m: name 'remap' is not defined"
     ]
    },
    {
     "data": {
      "image/png": "[encoded data removed]",
      "text/plain": [
       "<Figure size 1000x400 with 2 Axes>"
      ]
     },
     "metadata": {},
     "output_type": "display_data"
    }
   ],
   "source": [
    "import matplotlib.pyplot as plt\n",
    "\n",
    "num = 200\n",
    "\n",
    "fig, ax = plt.subplots(1,2,figsize=(10,4))\n",
    "# im0 = ax[0].imshow(remap(vec2mat(reg.coef_)))\n",
    "im0 = ax[0].imshow(remap(vec2mat(reg.coef_*np.mean(aps, axis=0))))\n",
    "im1 = ax[1].imshow(remap(vec2mat(aps[num])))\n",
    "fig.colorbar(im0)\n",
    "fig.colorbar(im1)\n",
    "fig.show()"
   ]
  },
  {
   "cell_type": "code",
   "execution_count": 42,
   "id": "d976a4ce",
   "metadata": {},
   "outputs": [
    {
     "name": "stdout",
     "output_type": "stream",
     "text": [
      "Complete\n"
     ]
    }
   ],
   "source": [
    "ours2orig = [12, 13, 14, 15, 16, 17, 18, 19, 20, 21, 22, 23, 24, 25, 26, 27,\n",
    "28, 29, 30, 31, 32, 33, 34, 35, 36, 37, 38, 39, 40, 254, 41, 42, 43, 44, 45,\n",
    "46, 47, 48, 49, 50, 51, 52, 53, 54, 55, 56, 57, 58, 59, 60, 61, 62, 63, 64,\n",
    "65, 66, 67, 68, 69, 70, 71, 72, 73, 74, 75, 76, 77, 78, 79, 80, 81, 82, 85,\n",
    "86, 87, 88, 89, 90, 91, 92, 93, 94, 95, 96, 97, 98, 99, 100, 101, 102, 103,\n",
    "104, 105, 106, 107, 108, 109, 110, 111, 112, 113, 114, 115, 116, 117, 118,\n",
    "119, 120, 121, 122, 123, 124, 125, 126, 127, 128, 129, 130, 136, 138, 132,\n",
    "133, 134, 135, 220, 142, 143, 144, 145, 146, 147, 148, 149, 150, 151, 152,\n",
    "153, 154, 155, 156, 157, 158, 159, 160, 161, 162, 163, 164, 165, 166, 167,\n",
    "168, 169, 170, 171, 172, 173, 174, 175, 176, 177, 178, 179, 180, 185, 186,\n",
    "187, 188, 189, 190, 191, 192, 193, 194, 195, 196, 197, 198, 199, 200, 201,\n",
    "202, 203, 204, 205, 206, 207, 208, 209, 210, 211, 212, 213, 214, 215, 216,\n",
    "217, 218, 219, 221, 222, 223, 224, 225, 226, 227, 228, 229, 230, 231, 232,\n",
    "233, 137, 234, 235, 236, 237, 238, 239, 240, 241, 250, 251, 255, 256, 257,\n",
    "258, 259, 260, 261, 262, 263, 242, 243, 244, 245, 0, 1, 2, 3, 4, 5, 6, 7, 8,\n",
    "9, 10, 11, 83, 84, 131, 139, 140, 141, 181, 182, 183, 184, 246, 247, 248,\n",
    "249, 252, 253]\n",
    "\n",
    "def vec2mat(v):\n",
    "    a,b = np.triu_indices(264,1)\n",
    "    m = np.zeros((264,264))\n",
    "    m[a,b] = v\n",
    "    return m+m.T\n",
    "\n",
    "def remap(fc, roimap=ours2orig):\n",
    "    fc = fc[roimap,:]\n",
    "    fc = fc[:,roimap]\n",
    "    return fc\n",
    "\n",
    "print('Complete')"
   ]
  },
  {
   "cell_type": "code",
   "execution_count": null,
   "id": "57500e56",
   "metadata": {},
   "outputs": [],
   "source": []
  },
  {
   "cell_type": "code",
   "execution_count": null,
   "id": "fb2dc284",
   "metadata": {},
   "outputs": [],
   "source": []
  }
 ],
 "metadata": {
  "kernelspec": {
   "display_name": "Python 3 (ipykernel)",
   "language": "python",
   "name": "python3"
  },
  "language_info": {
   "codemirror_mode": {
    "name": "ipython",
    "version": 3
   },
   "file_extension": ".py",
   "mimetype": "text/x-python",
   "name": "python",
   "nbconvert_exporter": "python",
   "pygments_lexer": "ipython3",
   "version": "3.10.9"
  }
 },
 "nbformat": 4,
 "nbformat_minor": 5
}
