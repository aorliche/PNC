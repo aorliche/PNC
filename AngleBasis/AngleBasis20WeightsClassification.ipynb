{
 "cells": [
  {
   "cell_type": "code",
   "execution_count": 22,
   "id": "c5e38838",
   "metadata": {},
   "outputs": [
    {
     "name": "stdout",
     "output_type": "stream",
     "text": [
      "[(3849, 5, 264), (3849, 5, 264), (3849,), (3849,), (3849, 34716), (3849,)]\n"
     ]
    }
   ],
   "source": [
    "import pickle\n",
    "import re\n",
    "import numpy as np\n",
    "\n",
    "basis_file = '/home/anton/Documents/Tulane/Research/PNC_Good/AngleBasisLong5.pkl'\n",
    "demodir = '/home/anton/Documents/Tulane/Research/ImageNomer/data/anton/cohorts/PNC/'\n",
    "\n",
    "basis = pickle.load(open(basis_file, 'rb'))\n",
    "\n",
    "pnc_thetas = []\n",
    "pnc_jitter = []\n",
    "pnc_sex = []\n",
    "pnc_race = []\n",
    "pnc_age = []\n",
    "pnc_fc = []\n",
    "\n",
    "demo = pickle.load(open(f'{demodir}/demographics.pkl', 'rb'))\n",
    "pnc_subs = []\n",
    "pnc_tasks = []\n",
    "\n",
    "for subtask in basis:\n",
    "    m = re.search('([^-]+)-(.*)', subtask)\n",
    "    sub = m.group(1)\n",
    "    task = m.group(2)\n",
    "    s = demo['Sex'][sub] == 'M'\n",
    "    r = demo['Race'][sub]\n",
    "    a = demo['age_at_cnb'][sub]\n",
    "    if r not in ['AA', 'EA']:\n",
    "        continue\n",
    "    pnc_subs.append(sub)\n",
    "    pnc_tasks.append(task)\n",
    "    pnc_sex.append(s)\n",
    "    pnc_race.append(r == 'AA')\n",
    "    pnc_age.append(a)\n",
    "    pnc_thetas.append(basis[subtask]['thetas'])\n",
    "    pnc_jitter.append(basis[subtask]['jitter'])\n",
    "    p = np.load(f'{demodir}/fc/{sub}_task-{task}_fc.npy')\n",
    "    pnc_fc.append(p)\n",
    "    \n",
    "pnc_thetas = np.stack(pnc_thetas)\n",
    "pnc_jitter = np.stack(pnc_jitter)\n",
    "pnc_sex = np.array(pnc_sex).astype('int')\n",
    "pnc_race = np.array(pnc_race).astype('int')\n",
    "pnc_age = np.array(pnc_age).astype('int')\n",
    "pnc_fc = np.stack(pnc_fc)\n",
    "\n",
    "print([a.shape for a in [pnc_thetas, pnc_jitter, pnc_sex, pnc_race, pnc_fc, pnc_age]])"
   ]
  },
  {
   "cell_type": "code",
   "execution_count": 6,
   "id": "20094acc",
   "metadata": {},
   "outputs": [
    {
     "name": "stdout",
     "output_type": "stream",
     "text": [
      "[(1165, 5, 264), (1165, 5, 264), (1165, 34716), (1165,), (1165,)]\n"
     ]
    }
   ],
   "source": [
    "import pickle\n",
    "import re\n",
    "import numpy as np\n",
    "\n",
    "basis_file = '/home/anton/Documents/Tulane/Research/BSNIP/AngleBasisLong5.pkl'\n",
    "demodir = '/home/anton/Documents/Tulane/Research/ImageNomer/data/anton/cohorts/BSNIP/'\n",
    "\n",
    "basis = pickle.load(open(basis_file, 'rb'))\n",
    "\n",
    "bsnip_thetas = []\n",
    "bsnip_jitter = []\n",
    "bsnip_fc = []\n",
    "bsnip_race = []\n",
    "bsnip_sex = []\n",
    "\n",
    "demo = pickle.load(open(f'{demodir}/demographics.pkl', 'rb'))\n",
    "bsnip_subs = []\n",
    "\n",
    "for subtask in basis:\n",
    "    m = re.search('([^-]+)', subtask)\n",
    "    sub = m.group(1)\n",
    "    s = demo['sex'][sub] == 's1.0' # Male\n",
    "    r = demo['Race'][sub]\n",
    "    if r not in ['AA', 'CA']:\n",
    "        continue\n",
    "    bsnip_sex.append(s)\n",
    "    bsnip_race.append(r == 'AA')\n",
    "    bsnip_subs.append(sub)\n",
    "    bsnip_thetas.append(basis[subtask]['thetas'])\n",
    "    bsnip_jitter.append(basis[subtask]['jitter'])\n",
    "    p = np.load(f'{demodir}/fc/{sub}_task-unk_fc.npy')\n",
    "    bsnip_fc.append(p)\n",
    "    \n",
    "bsnip_thetas = np.stack(bsnip_thetas)\n",
    "bsnip_jitter = np.stack(bsnip_jitter)\n",
    "bsnip_fc = np.stack(bsnip_fc)\n",
    "bsnip_sex = np.array(bsnip_sex).astype('int')\n",
    "bsnip_race = np.array(bsnip_race).astype('int')\n",
    "\n",
    "print([a.shape for a in [bsnip_thetas, bsnip_jitter, bsnip_fc, bsnip_sex, bsnip_race]])"
   ]
  },
  {
   "cell_type": "code",
   "execution_count": 3,
   "id": "f2e97d7f",
   "metadata": {},
   "outputs": [
    {
     "name": "stdout",
     "output_type": "stream",
     "text": [
      "Complete\n"
     ]
    }
   ],
   "source": [
    "def rmse(yhat, y):\n",
    "    if isinstance(yhat, np.ndarray) or isinstance(yhat, int):\n",
    "        f = np.mean\n",
    "    else:\n",
    "        f = torch.mean\n",
    "    return f((y-yhat)**2)**0.5\n",
    "\n",
    "def tops(thetas, jitter):\n",
    "    t0 = np.expand_dims(thetas, 2)\n",
    "    t1 = np.expand_dims(thetas, 3)\n",
    "    j0 = np.expand_dims(jitter, 2)\n",
    "    j1 = np.expand_dims(jitter, 3)\n",
    "    ps = np.cos(t0-t1)*(j0*j1)\n",
    "    a,b = np.triu_indices(264, 1)\n",
    "    ps = ps[:,:,a,b]\n",
    "    return ps\n",
    "\n",
    "print('Complete')"
   ]
  },
  {
   "cell_type": "code",
   "execution_count": 4,
   "id": "18628233",
   "metadata": {},
   "outputs": [
    {
     "name": "stdout",
     "output_type": "stream",
     "text": [
      "(3849, 34716)\n",
      "(3849, 34716)\n",
      "(1165, 34716)\n",
      "(1165, 34716)\n"
     ]
    }
   ],
   "source": [
    "# AB1\n",
    "\n",
    "ps = tops(pnc_thetas, pnc_jitter)\n",
    "pnc_ab1 = np.mean(ps, axis=1)\n",
    "pnc_res1 = pnc_fc - pnc_ab1\n",
    "\n",
    "print(pnc_ab1.shape)\n",
    "print(pnc_res1.shape)\n",
    "\n",
    "ps = tops(bsnip_thetas, bsnip_jitter)\n",
    "bsnip_ab1 = np.mean(ps, axis=1)\n",
    "bsnip_res1 = bsnip_fc - bsnip_ab1\n",
    "\n",
    "print(bsnip_ab1.shape)\n",
    "print(bsnip_res1.shape)"
   ]
  },
  {
   "cell_type": "code",
   "execution_count": 7,
   "id": "be523baa",
   "metadata": {},
   "outputs": [
    {
     "name": "stdout",
     "output_type": "stream",
     "text": [
      "(3849, 34716)\n",
      "(3849, 34716)\n",
      "(1165, 34716)\n",
      "(1165, 34716)\n"
     ]
    }
   ],
   "source": [
    "# AB5\n",
    "\n",
    "ps = tops(pnc_thetas, pnc_jitter)\n",
    "pnc_ab5 = np.mean(ps, axis=1)\n",
    "pnc_res5 = pnc_fc - pnc_ab5\n",
    "\n",
    "print(pnc_ab5.shape)\n",
    "print(pnc_res5.shape)\n",
    "\n",
    "ps = tops(bsnip_thetas, bsnip_jitter)\n",
    "bsnip_ab5 = np.mean(ps, axis=1)\n",
    "bsnip_res5 = bsnip_fc - bsnip_ab5\n",
    "\n",
    "print(bsnip_ab5.shape)\n",
    "print(bsnip_res5.shape)"
   ]
  },
  {
   "cell_type": "code",
   "execution_count": 26,
   "id": "598f1b8f",
   "metadata": {},
   "outputs": [
    {
     "name": "stdout",
     "output_type": "stream",
     "text": [
      "1.8607776679356014\n"
     ]
    }
   ],
   "source": [
    "from sklearn.linear_model import LogisticRegression, Ridge\n",
    "from sklearn.model_selection import train_test_split\n",
    "from sklearn.metrics import roc_auc_score\n",
    "from pathlib import Path\n",
    "import warnings\n",
    "warnings.filterwarnings(\"ignore\")\n",
    "\n",
    "def cat(x, **kwargs):\n",
    "    return np.concatenate(x, **kwargs)\n",
    "\n",
    "wdir = '/home/anton/Documents/Tulane/Research/ImageNomer/data/anton/cohorts/PNC/weights/'\n",
    "\n",
    "def get_next_idx(model, inp):\n",
    "    mx = -1\n",
    "    for f in Path(f'{wdir}/{inp}/').iterdir():\n",
    "        m = re.match(f'{model}([\\d]+).pkl', f.name)\n",
    "        if m:\n",
    "            idx = int(m.group(1))\n",
    "            if idx > mx:\n",
    "                mx = idx\n",
    "    return mx+1\n",
    "\n",
    "def save(model, inp, rmse, trsubs, tsubs, w):\n",
    "    num = get_next_idx(model, inp)\n",
    "    desc = f'{model} {inp} rmse: {rmse}'\n",
    "    dct = dict(w=w.squeeze(), trsubs=trsubs, tsubs=tsubs, desc=desc)\n",
    "    with open(f'{wdir}/{inp}/{model}{num}.pkl', 'wb') as f:\n",
    "        pickle.dump(dct, f)\n",
    "\n",
    "sel = ((1-pnc_sex)*(1-pnc_race)).astype('bool')\n",
    "x = pnc_res1[sel]\n",
    "y = pnc_age[sel]\n",
    "idcs = np.arange(x.shape[0])\n",
    "\n",
    "xtr, xt, ytr, yt, tridcs, tidcs = train_test_split(x, y, idcs, train_size=0.8)\n",
    "reg = Ridge(alpha=1).fit(xtr, ytr) #LogisticRegression(C=1, max_iter=1000).fit(xtr, ytr)\n",
    "yhat = reg.predict(xt)\n",
    "# p = reg.predict_proba(xt)\n",
    "# auc = roc_auc_score(yt, p[:,1])\n",
    "# print(np.mean(yhat == yt))\n",
    "auc = rmse(yt, yhat)\n",
    "print(auc)\n",
    "\n",
    "save('ridge', \n",
    "     'res1-eaf-age', \n",
    "     auc, \n",
    "     [pnc_subs[i] for i in tridcs], \n",
    "     [pnc_subs[i] for i in tidcs], \n",
    "     reg.coef_.squeeze())\n",
    "\n",
    "save('ridge-wf',\n",
    "    'res1-eaf-age', \n",
    "     auc, \n",
    "     [pnc_subs[i] for i in tridcs], \n",
    "     [pnc_subs[i] for i in tidcs], \n",
    "     reg.coef_.squeeze()*np.mean(xtr, axis=0))"
   ]
  },
  {
   "cell_type": "code",
   "execution_count": 11,
   "id": "4a05a9e5",
   "metadata": {},
   "outputs": [
    {
     "data": {
      "text/plain": [
       "array([ 0.044449  ,  0.03763571,  0.02345932, ..., -0.01904058,\n",
       "        0.03514169,  0.00912824])"
      ]
     },
     "execution_count": 11,
     "metadata": {},
     "output_type": "execute_result"
    }
   ],
   "source": [
    "reg.coef_.squeeze()"
   ]
  },
  {
   "cell_type": "code",
   "execution_count": null,
   "id": "57fce949",
   "metadata": {},
   "outputs": [],
   "source": []
  }
 ],
 "metadata": {
  "kernelspec": {
   "display_name": "Python 3 (ipykernel)",
   "language": "python",
   "name": "python3"
  },
  "language_info": {
   "codemirror_mode": {
    "name": "ipython",
    "version": 3
   },
   "file_extension": ".py",
   "mimetype": "text/x-python",
   "name": "python",
   "nbconvert_exporter": "python",
   "pygments_lexer": "ipython3",
   "version": "3.10.9"
  }
 },
 "nbformat": 4,
 "nbformat_minor": 5
}
