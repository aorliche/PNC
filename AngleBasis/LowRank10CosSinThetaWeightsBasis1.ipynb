{
 "cells": [
  {
   "cell_type": "code",
   "execution_count": 2,
   "id": "1f2699fa",
   "metadata": {},
   "outputs": [
    {
     "name": "stdout",
     "output_type": "stream",
     "text": [
      "[(3849, 1, 264), (3849, 1, 264), (3849,), (3849,), (3849,), (3849, 34716)]\n",
      "14.398285268901013\n"
     ]
    }
   ],
   "source": [
    "import pickle\n",
    "import re\n",
    "import numpy as np\n",
    "\n",
    "basis_file = '/home/anton/Documents/Tulane/Research/PNC_Good/AngleBasis1.pkl'\n",
    "demodir = '/home/anton/Documents/Tulane/Research/ImageNomer/data/anton/cohorts/PNC/'\n",
    "\n",
    "basis = pickle.load(open(basis_file, 'rb'))\n",
    "\n",
    "thetas = []\n",
    "jitter = []\n",
    "age = []\n",
    "fc = []\n",
    "sex = []\n",
    "race = []\n",
    "\n",
    "demo = pickle.load(open(f'{demodir}/demographics.pkl', 'rb'))\n",
    "\n",
    "for subtask in basis:\n",
    "    m = re.search('([^-]+)-(.*)', subtask)\n",
    "    sub = m.group(1)\n",
    "    task = m.group(2)\n",
    "    a = demo['age_at_cnb'][sub]\n",
    "    age.append(a)\n",
    "    s = demo['Sex'][sub] == 'M'\n",
    "    r = demo['Race'][sub] == 'AA'\n",
    "    sex.append(s)\n",
    "    race.append(r)\n",
    "    thetas.append(basis[subtask]['thetas'])\n",
    "    jitter.append(basis[subtask]['jitter'])\n",
    "    p = np.load(f'{demodir}/fc/{sub}_task-{task}_fc.npy')\n",
    "    fc.append(p)\n",
    "    \n",
    "thetas = np.stack(thetas)\n",
    "jitter = np.stack(jitter)\n",
    "age = np.array(age)\n",
    "fc = np.stack(fc)\n",
    "sex = np.array(sex).astype('int')\n",
    "race = np.array(race).astype('int')\n",
    "\n",
    "print([a.shape for a in [thetas, jitter, age, sex, race, fc]])\n",
    "print(np.mean(age))"
   ]
  },
  {
   "cell_type": "code",
   "execution_count": 15,
   "id": "0cffa4fc",
   "metadata": {},
   "outputs": [
    {
     "name": "stdout",
     "output_type": "stream",
     "text": [
      "(3849, 792)\n"
     ]
    }
   ],
   "source": [
    "def rmse(yhat, y):\n",
    "    if isinstance(yhat, np.ndarray) or isinstance(yhat, int):\n",
    "        f = np.mean\n",
    "    else:\n",
    "        f = torch.mean\n",
    "    return f((y-yhat)**2)**0.5\n",
    "\n",
    "def cossinjit(thetas, jitter):\n",
    "    t = thetas.squeeze()\n",
    "    s = np.sin(t)\n",
    "    c = np.cos(t)\n",
    "    sc = s*c\n",
    "    j = jitter.squeeze()\n",
    "    return np.concatenate([s,c,sc],axis=1)\n",
    "    \n",
    "feat = cossinjit(thetas, jitter)\n",
    "\n",
    "print(feat.shape)"
   ]
  },
  {
   "cell_type": "code",
   "execution_count": 16,
   "id": "779b59c9",
   "metadata": {},
   "outputs": [
    {
     "name": "stdout",
     "output_type": "stream",
     "text": [
      "5.131180351680168\n",
      "3.340303129956921\n"
     ]
    }
   ],
   "source": [
    "from sklearn.model_selection import train_test_split\n",
    "from sklearn.linear_model import Ridge\n",
    "\n",
    "idcs = np.random.permutation(fc.shape[0])\n",
    "x = feat[idcs[:500]]\n",
    "y = age[idcs[:500]]\n",
    "\n",
    "xtr, xt, ytr, yt = train_test_split(x, y, train_size=0.8)\n",
    "\n",
    "mu = np.mean(ytr)\n",
    "ytr -= mu\n",
    "yt -= mu\n",
    "\n",
    "reg = Ridge(alpha=1).fit(xtr, ytr)\n",
    "yhat = reg.predict(xt)\n",
    "print(rmse(yhat, yt))\n",
    "print(rmse(0, yt))"
   ]
  },
  {
   "cell_type": "code",
   "execution_count": null,
   "id": "ac66ec0f",
   "metadata": {},
   "outputs": [],
   "source": []
  }
 ],
 "metadata": {
  "kernelspec": {
   "display_name": "Python 3 (ipykernel)",
   "language": "python",
   "name": "python3"
  },
  "language_info": {
   "codemirror_mode": {
    "name": "ipython",
    "version": 3
   },
   "file_extension": ".py",
   "mimetype": "text/x-python",
   "name": "python",
   "nbconvert_exporter": "python",
   "pygments_lexer": "ipython3",
   "version": "3.10.9"
  }
 },
 "nbformat": 4,
 "nbformat_minor": 5
}
