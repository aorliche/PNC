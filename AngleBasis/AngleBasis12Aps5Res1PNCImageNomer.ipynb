{
 "cells": [
  {
   "cell_type": "code",
   "execution_count": 8,
   "id": "9ecc139e",
   "metadata": {},
   "outputs": [
    {
     "name": "stdout",
     "output_type": "stream",
     "text": [
      "[(3849, 5, 264), (3849, 5, 264), (3849,), (3849,), (3849, 34716)]\n",
      "0.5263704858404781\n",
      "0.5188360613146272\n"
     ]
    }
   ],
   "source": [
    "import pickle\n",
    "import re\n",
    "import numpy as np\n",
    "\n",
    "basis_file = '/home/anton/Documents/Tulane/Research/PNC_Good/AngleBasisLong5.pkl'\n",
    "demodir = '/home/anton/Documents/Tulane/Research/ImageNomer/data/anton/cohorts/PNC/'\n",
    "\n",
    "basis = pickle.load(open(basis_file, 'rb'))\n",
    "\n",
    "thetas = []\n",
    "jitter = []\n",
    "sex = []\n",
    "race = []\n",
    "# sz = []\n",
    "fc = []\n",
    "\n",
    "demo = pickle.load(open(f'{demodir}/demographics.pkl', 'rb'))\n",
    "subs = []\n",
    "tasks = []\n",
    "\n",
    "for subtask in basis:\n",
    "    m = re.search('([^-]+)-(.*)', subtask)\n",
    "#     m = re.search('([^-]+)', subtask)\n",
    "    sub = m.group(1)\n",
    "    task = m.group(2)\n",
    "    subs.append(sub)\n",
    "    tasks.append(task)\n",
    "    s = demo['Sex'][sub] == 'M'\n",
    "    r = demo['Race'][sub] == 'AA'\n",
    "#     z = demo['DXGROUP_2'][sub] == 'SZP'\n",
    "#     if demo['DXGROUP_2'][sub] not in ['SZP', 'NC']:\n",
    "#         continue\n",
    "#     sz.append(z)\n",
    "    sex.append(s)\n",
    "    race.append(r)\n",
    "    thetas.append(basis[subtask]['thetas'])\n",
    "    jitter.append(basis[subtask]['jitter'])\n",
    "    p = np.load(f'{demodir}/fc/{sub}_task-{task}_fc.npy')\n",
    "    fc.append(p)\n",
    "    \n",
    "thetas = np.stack(thetas)\n",
    "jitter = np.stack(jitter)\n",
    "sex = np.array(sex).astype('int')\n",
    "race = np.array(race).astype('int')\n",
    "# sz = np.array(sz).astype('int')\n",
    "fc = np.stack(fc)\n",
    "\n",
    "print([a.shape for a in [thetas, jitter, sex, race, fc]])\n",
    "print(np.mean(1-sex))\n",
    "print(np.mean(1-race))\n",
    "# print(np.mean(1-sz))"
   ]
  },
  {
   "cell_type": "code",
   "execution_count": 9,
   "id": "d45bb6f9",
   "metadata": {},
   "outputs": [
    {
     "name": "stdout",
     "output_type": "stream",
     "text": [
      "(3849, 5, 34716)\n",
      "(3849, 34716)\n",
      "(3849, 34716)\n"
     ]
    }
   ],
   "source": [
    "def rmse(yhat, y):\n",
    "    if isinstance(yhat, np.ndarray) or isinstance(yhat, int):\n",
    "        f = np.mean\n",
    "    else:\n",
    "        f = torch.mean\n",
    "    return f((y-yhat)**2)**0.5\n",
    "\n",
    "def tops(thetas, jitter):\n",
    "    t0 = np.expand_dims(thetas, 2)\n",
    "    t1 = np.expand_dims(thetas, 3)\n",
    "    j0 = np.expand_dims(jitter, 2)\n",
    "    j1 = np.expand_dims(jitter, 3)\n",
    "    ps = np.cos(t0-t1)*(j0*j1)\n",
    "    a,b = np.triu_indices(264, 1)\n",
    "    ps = ps[:,:,a,b]\n",
    "    return ps\n",
    "    \n",
    "ps = tops(thetas, jitter)\n",
    "aps = np.mean(ps, axis=1)\n",
    "res = fc - aps\n",
    "\n",
    "print(ps.shape)\n",
    "print(aps.shape)\n",
    "print(res.shape)"
   ]
  },
  {
   "cell_type": "code",
   "execution_count": 10,
   "id": "863b5437",
   "metadata": {},
   "outputs": [
    {
     "name": "stdout",
     "output_type": "stream",
     "text": [
      "Complete\n"
     ]
    }
   ],
   "source": [
    "for sub,task,i in zip(subs,tasks,range(len(subs))):\n",
    "    np.save(f'{demodir}/fc/{sub}_task-{task}ab5_fc.npy', aps[i])\n",
    "    np.save(f'{demodir}/fc/{sub}_task-{task}res5_fc.npy', res[i])\n",
    "    \n",
    "print('Complete')"
   ]
  },
  {
   "cell_type": "code",
   "execution_count": null,
   "id": "2bd063de",
   "metadata": {},
   "outputs": [],
   "source": []
  }
 ],
 "metadata": {
  "kernelspec": {
   "display_name": "Python 3 (ipykernel)",
   "language": "python",
   "name": "python3"
  },
  "language_info": {
   "codemirror_mode": {
    "name": "ipython",
    "version": 3
   },
   "file_extension": ".py",
   "mimetype": "text/x-python",
   "name": "python",
   "nbconvert_exporter": "python",
   "pygments_lexer": "ipython3",
   "version": "3.10.9"
  }
 },
 "nbformat": 4,
 "nbformat_minor": 5
}
