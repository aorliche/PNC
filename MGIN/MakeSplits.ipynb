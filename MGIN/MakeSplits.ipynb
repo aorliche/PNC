{
 "cells": [
  {
   "cell_type": "code",
   "execution_count": 1,
   "id": "7c25ef12",
   "metadata": {},
   "outputs": [
    {
     "name": "stdout",
     "output_type": "stream",
     "text": [
      "[600009963128, 600018902293, 600020927179, 600031697545, 600038720566, 600039015048, 600039665619, 600045443700, 600052596653, 600053476714]\n",
      "622\n"
     ]
    }
   ],
   "source": [
    "import sys\n",
    "\n",
    "sys.path.append('..')\n",
    "\n",
    "import LoadData2\n",
    "import numpy as np\n",
    "\n",
    "def loadCommon3ScanKeys(meta):\n",
    "    incFn = lambda key, entry: LoadData2.allScansIncFn(entry, ['rest','nback','emoid'])\n",
    "    kLoadFn = lambda key, entry: key \n",
    "    keys = LoadData2.loadFromMeta(meta, incFn, kLoadFn)\n",
    "    return keys\n",
    "\n",
    "pncDir = '../../PNC_Good'\n",
    "\n",
    "meta3 = LoadData2.loadMeta(f'{pncDir}/MegaMeta3.pkl')\n",
    "keys = loadCommon3ScanKeys(meta3)\n",
    "\n",
    "print(keys[0:10])\n",
    "print(len(keys))"
   ]
  },
  {
   "cell_type": "code",
   "execution_count": 2,
   "id": "00aebbcb",
   "metadata": {},
   "outputs": [
    {
     "name": "stdout",
     "output_type": "stream",
     "text": [
      "10\n",
      "2\n",
      "559\n",
      "[ 13  20  25  27  42  44  46  51  79 102 107 113 121 130 132 133 139 148\n",
      " 171 177 181 189 205 209 210 238 241 244 265 268 271 276 289 300 301 302\n",
      " 306 317 329 351 370 384 390 417 434 440 442 478 481 498 507 530 542 545\n",
      " 555 569 570 571 586 590 592 594 612]\n",
      "[ 15  39  45  62  63  72  80  85  91  97  99 103 114 116 118 123 127 138\n",
      " 140 163 169 186 187 202 203 218 229 234 236 251 259 264 269 274 277 279\n",
      " 281 291 296 308 314 324 327 331 339 341 343 345 359 362 396 400 401 423\n",
      " 426 432 448 450 454 532 556 583 610]\n"
     ]
    }
   ],
   "source": [
    "from sklearn.model_selection import KFold\n",
    "\n",
    "kf = KFold(n_splits=10, shuffle=True)\n",
    "groups = []\n",
    "for split in kf.split(keys):\n",
    "    groups.append(split)\n",
    "    \n",
    "print(len(groups))\n",
    "print(len(groups[0]))\n",
    "print(len(groups[0][0]))\n",
    "\n",
    "print(groups[0][1])\n",
    "print(groups[1][1])"
   ]
  },
  {
   "cell_type": "code",
   "execution_count": 6,
   "id": "ecd68097",
   "metadata": {},
   "outputs": [
    {
     "name": "stdout",
     "output_type": "stream",
     "text": [
      "Complete\n"
     ]
    }
   ],
   "source": [
    "d = {\n",
    "    'keys': keys,\n",
    "    'groups': groups\n",
    "}\n",
    "\n",
    "import pickle\n",
    "\n",
    "with open('../../Work/MGIN/Splits.pkl', 'wb') as f:\n",
    "    pickle.dump(d, f)\n",
    "    \n",
    "print('Complete')"
   ]
  },
  {
   "cell_type": "code",
   "execution_count": null,
   "id": "262aea83",
   "metadata": {},
   "outputs": [],
   "source": []
  }
 ],
 "metadata": {
  "kernelspec": {
   "display_name": "torch",
   "language": "python",
   "name": "torch"
  },
  "language_info": {
   "codemirror_mode": {
    "name": "ipython",
    "version": 3
   },
   "file_extension": ".py",
   "mimetype": "text/x-python",
   "name": "python",
   "nbconvert_exporter": "python",
   "pygments_lexer": "ipython3",
   "version": "3.7.12"
  }
 },
 "nbformat": 4,
 "nbformat_minor": 5
}
