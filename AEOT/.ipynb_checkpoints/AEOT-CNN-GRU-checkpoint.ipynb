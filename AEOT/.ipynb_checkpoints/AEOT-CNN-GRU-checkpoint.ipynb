{
 "cells": [
  {
   "cell_type": "code",
   "execution_count": 120,
   "id": "057d111f",
   "metadata": {},
   "outputs": [
    {
     "name": "stdout",
     "output_type": "stream",
     "text": [
      "467\n",
      "155\n",
      "{'meta': {'AgeInMonths': 110, 'Gender': 'M', 'Ethnicity': 'AFRICAN', 'AgeGroupID': 1, 'AgeGroupEdge1': 103, 'AgeGroupEdge2': 144}, 'rest': '765', 'nback': '790', 'emoid': '554', 'ID': 608665596582}\n"
     ]
    }
   ],
   "source": [
    "# Bad subjects\n",
    "# Bad IDs: 605515760919, 601983541597\n",
    "\n",
    "# Load split\n",
    "\n",
    "import pickle\n",
    "\n",
    "badIDs = [605515760919, 601983541597]\n",
    "\n",
    "with open('../../Splits/RegressionAllTasks/split3.bin', 'rb') as f:\n",
    "    d = pickle.load(f)\n",
    "    train = []\n",
    "    trainDirty = d['train']\n",
    "    test = []\n",
    "    testDirty = d['test']\n",
    "    \n",
    "    # Remove bad subjects\n",
    "    for subj in trainDirty:\n",
    "        if subj['ID'] not in badIDs:\n",
    "            train.append(subj)\n",
    "            \n",
    "    for subj in testDirty:\n",
    "        if subj['ID'] not in badIDs:\n",
    "            test.append(subj)\n",
    "    \n",
    "print(len(train))\n",
    "print(len(test))\n",
    "print(train[0])"
   ]
  },
  {
   "cell_type": "code",
   "execution_count": 121,
   "id": "669a489e",
   "metadata": {},
   "outputs": [
    {
     "name": "stdout",
     "output_type": "stream",
     "text": [
      "Complete\n"
     ]
    }
   ],
   "source": [
    "# Load data\n",
    "\n",
    "def loadTimeseries(_id, _dir):\n",
    "    ts = None\n",
    "    with open('{:s}/{:d}.bin'.format(_dir, _id), 'rb') as f:\n",
    "        ts = pickle.load(f)\n",
    "    return ts\n",
    "\n",
    "train_rest_ts = [loadTimeseries(int(subj['emoid']), '../../emoid_fmri_power264/timeseries') for subj in train]\n",
    "# train_nback_ts = [loadTimeseries(int(subj['nback']), '../../nback_fmri_power264/timeseries') for subj in train]\n",
    "# train_emoid_ts = [loadTimeseries(int(subj['emoid']), '../../emoid_fmri_power264/timeseries') for subj in train]\n",
    "\n",
    "test_rest_ts = [loadTimeseries(int(subj['emoid']), '../../emoid_fmri_power264/timeseries') for subj in test]\n",
    "# test_nback_ts = [loadTimeseries(int(subj['nback']), '../../nback_fmri_power264/timeseries') for subj in test]\n",
    "# test_emoid_ts = [loadTimeseries(int(subj['emoid']), '../../emoid_fmri_power264/timeseries') for subj in test]\n",
    "\n",
    "print('Complete')"
   ]
  },
  {
   "cell_type": "code",
   "execution_count": 122,
   "id": "5dc824c2",
   "metadata": {},
   "outputs": [
    {
     "name": "stdout",
     "output_type": "stream",
     "text": [
      "Complete\n"
     ]
    }
   ],
   "source": [
    "import numpy as np\n",
    "\n",
    "def normalizeSubjects(subjects):\n",
    "    for i in range(len(subjects)):\n",
    "        subj = subjects[i]\n",
    "        subj -= np.mean(subj, axis=1, keepdims=True)@np.ones([1,subj.shape[1]])\n",
    "        subj /= np.std(subj, axis=1, keepdims=True)@np.ones([1,subj.shape[1]])\n",
    "        if np.sum(np.isnan(subj)) > 0:\n",
    "            print(i)\n",
    "        if np.sum(np.isinf(subj)) > 0:\n",
    "            print(i)\n",
    "\n",
    "normalizeSubjects(train_rest_ts)\n",
    "# normalizeSubjects(train_nback_ts)\n",
    "# normalizeSubjects(train_emoid_ts)\n",
    "\n",
    "normalizeSubjects(test_rest_ts)\n",
    "# normalizeSubjects(test_nback_ts)\n",
    "# normalizeSubjects(test_emoid_ts)\n",
    "\n",
    "print('Complete')"
   ]
  },
  {
   "cell_type": "code",
   "execution_count": 123,
   "id": "c244e595",
   "metadata": {},
   "outputs": [
    {
     "name": "stdout",
     "output_type": "stream",
     "text": [
      "Complete\n"
     ]
    }
   ],
   "source": [
    "# Create labels (ages)\n",
    "\n",
    "y_train = np.vstack([subj['meta']['AgeInMonths'] for subj in train])\n",
    "y_test = np.vstack([subj['meta']['AgeInMonths'] for subj in test])\n",
    "\n",
    "print('Complete')"
   ]
  },
  {
   "cell_type": "code",
   "execution_count": 124,
   "id": "288df639",
   "metadata": {},
   "outputs": [
    {
     "name": "stdout",
     "output_type": "stream",
     "text": [
      "torch.Size([210, 264])\n",
      "Complete\n"
     ]
    }
   ],
   "source": [
    "# Torch\n",
    "\n",
    "import torch\n",
    "import torch.nn as nn\n",
    "import torch.nn.functional as F\n",
    "\n",
    "cuda = torch.device('cuda')\n",
    "\n",
    "train_rest_ts_torch = [torch.from_numpy(subj.T).float().cuda() for subj in train_rest_ts]\n",
    "test_rest_ts_torch = [torch.from_numpy(subj.T).float().cuda() for subj in test_rest_ts]\n",
    "\n",
    "# print(train_rest_ts_torch[0].device)\n",
    "print(train_rest_ts_torch[0].shape)\n",
    "print('Complete')"
   ]
  },
  {
   "cell_type": "code",
   "execution_count": 125,
   "id": "8a611605",
   "metadata": {},
   "outputs": [
    {
     "name": "stdout",
     "output_type": "stream",
     "text": [
      "Total: 4294967296.000000 Reserved: 205520896.000000 Allocated: 175567872.000000 Free: 29953024.000000\n"
     ]
    }
   ],
   "source": [
    "import torch\n",
    "\n",
    "torch.cuda.empty_cache()\n",
    "\n",
    "t = torch.cuda.get_device_properties(0).total_memory\n",
    "r = torch.cuda.memory_reserved(0) \n",
    "a = torch.cuda.memory_allocated(0)\n",
    "f = r-a  # free inside reserved\n",
    "\n",
    "print('Total: {:f} Reserved: {:f} Allocated: {:f} Free: {:f}'.format(t,r,a,f))"
   ]
  },
  {
   "cell_type": "code",
   "execution_count": 8,
   "id": "9eb85301",
   "metadata": {},
   "outputs": [
    {
     "name": "stdout",
     "output_type": "stream",
     "text": [
      "Complete\n"
     ]
    }
   ],
   "source": [
    "nt = train_rest_ts_torch[0].shape[0]\n",
    "nroi = train_rest_ts_torch[0].shape[1]\n",
    "nBatch = 5\n",
    "nB = nBatch*nt\n",
    "nHid = 100\n",
    "nLat = 60\n",
    "\n",
    "from scipy.stats import norm\n",
    "import matplotlib.pyplot as plt\n",
    "\n",
    "def makeGaussPointsDet(nB, nLat):\n",
    "    Y = np.linspace(0.0001,0.9999,nB)\n",
    "    x = norm.ppf(Y)\n",
    "#     y = norm.pdf(x)\n",
    "#     plt.plot(x,y)\n",
    "#     plt.show()\n",
    "    xLat = x.reshape([-1,1])@np.ones([1,nLat])\n",
    "    return torch.from_numpy(xLat).float().cuda()\n",
    "    \n",
    "xLatPrior = makeGaussPointsDet(nB, nLat)\n",
    "# xTLatPrior = makeGaussPointsDet(nLat, nB).T\n",
    "\n",
    "def calcOptLoss(xLat, xLatPrior):\n",
    "    idcs = torch.argsort(xLat,0)\n",
    "    loss = torch.sum((xLatPrior-torch.gather(xLat,0,idcs))**2)\n",
    "    return loss\n",
    "#     return torch.sum(torch.zeros(1).cuda())\n",
    "\n",
    "# Try to force ROIs to be well clustered at a certain time point\n",
    "def calcClusterLoss(xLat):\n",
    "    m = torch.mean(xLat, 1, True)\n",
    "    loss = torch.sum((xLat - m)**2)\n",
    "    return loss\n",
    "#     return torch.sum(torch.zeros(1).cuda())\n",
    "\n",
    "class AEOT(nn.Module):\n",
    "    def __init__(self):\n",
    "        super(AEOT, self).__init__()\n",
    "        self.en1 = nn.Linear(nroi,nHid).cuda()\n",
    "        self.en2 = nn.Linear(nHid,nLat).cuda()\n",
    "        self.de1 = nn.Linear(nLat,nHid).cuda()\n",
    "        self.de2 = nn.Linear(nHid,nroi).cuda()\n",
    "        \n",
    "    def forward(self, x):\n",
    "        x = F.relu(self.en1(x))\n",
    "        z = self.en2(x)\n",
    "        x = F.relu(self.de1(z))\n",
    "        x = self.de2(x)\n",
    "        return x, z\n",
    "    \n",
    "aeot = AEOT()\n",
    "optim = torch.optim.Adam(aeot.parameters(), lr=1e-3)\n",
    "\n",
    "print('Complete')"
   ]
  },
  {
   "cell_type": "code",
   "execution_count": 9,
   "id": "bd59a1c8",
   "metadata": {},
   "outputs": [
    {
     "name": "stdout",
     "output_type": "stream",
     "text": [
      "epoch 0 clusterLoss=3968.197754 optLoss=47179.578125 loss=358471.437500\n",
      "epoch 200 clusterLoss=5486.848633 optLoss=5595.960449 loss=199478.906250\n",
      "epoch 400 clusterLoss=5301.112793 optLoss=1871.250610 loss=149845.062500\n",
      "epoch 600 clusterLoss=4394.045898 optLoss=1402.519165 loss=131943.203125\n",
      "epoch 800 clusterLoss=3875.448486 optLoss=1006.430298 loss=124443.429688\n",
      "epoch 1000 clusterLoss=3487.747559 optLoss=926.450623 loss=118585.429688\n",
      "epoch 1200 clusterLoss=3035.937988 optLoss=842.454895 loss=113368.921875\n",
      "epoch 1400 clusterLoss=3209.176025 optLoss=731.163818 loss=112979.507812\n",
      "epoch 1600 clusterLoss=2700.347900 optLoss=719.349670 loss=108561.789062\n",
      "epoch 1800 clusterLoss=2545.383301 optLoss=631.515686 loss=107431.796875\n",
      "epoch 2000 clusterLoss=2288.007812 optLoss=598.240173 loss=105456.976562\n",
      "epoch 2200 clusterLoss=2408.823730 optLoss=563.959473 loss=103804.546875\n",
      "epoch 2400 clusterLoss=2029.983276 optLoss=562.422119 loss=102770.000000\n",
      "epoch 2600 clusterLoss=2064.686035 optLoss=465.856354 loss=102767.570312\n",
      "epoch 2800 clusterLoss=1997.987671 optLoss=465.017975 loss=101141.203125\n",
      "epoch 3000 clusterLoss=1894.174072 optLoss=486.353912 loss=100861.648438\n",
      "epoch 3200 clusterLoss=1732.656616 optLoss=452.390228 loss=100104.820312\n",
      "epoch 3400 clusterLoss=1767.309448 optLoss=479.471283 loss=100059.656250\n",
      "epoch 3600 clusterLoss=1679.134277 optLoss=411.180084 loss=101005.992188\n",
      "epoch 3800 clusterLoss=1614.925537 optLoss=438.488281 loss=98260.320312\n",
      "epoch 4000 clusterLoss=1592.070312 optLoss=458.577393 loss=97833.609375\n",
      "epoch 4200 clusterLoss=1465.682007 optLoss=403.349609 loss=98028.218750\n",
      "epoch 4400 clusterLoss=1310.717651 optLoss=412.501282 loss=97593.367188\n",
      "epoch 4600 clusterLoss=1433.068848 optLoss=403.169464 loss=99001.953125\n",
      "epoch 4800 clusterLoss=1439.754395 optLoss=395.205200 loss=98004.109375\n",
      "epoch 4999 clusterLoss=1321.597168 optLoss=400.090027 loss=97849.796875\n",
      "Finished training\n"
     ]
    }
   ],
   "source": [
    "import random\n",
    "\n",
    "N = len(train_rest_ts_torch)\n",
    "runningTot = 0\n",
    "runningOpt = 0\n",
    "runningCluster = 0\n",
    "nEpoch = 5000\n",
    "pPeriod = 200\n",
    "\n",
    "for epoch in range(nEpoch):\n",
    "    batch = []\n",
    "    for i in range(nBatch):\n",
    "        idx = random.randint(0,N-1)\n",
    "        subj = train_rest_ts_torch[idx]\n",
    "        batch.append(subj)\n",
    "    batch = torch.cat(batch)\n",
    "    optim.zero_grad()\n",
    "    recon, z = aeot(batch)\n",
    "    reconLoss = torch.sum((recon-batch)**2)\n",
    "    optLoss = calcOptLoss(z, xLatPrior)\n",
    "    clusterLoss = calcClusterLoss(z)\n",
    "    loss = reconLoss + optLoss + clusterLoss\n",
    "    runningCluster += clusterLoss.cpu()\n",
    "    runningOpt += optLoss.cpu()\n",
    "    runningTot += loss.cpu()\n",
    "    loss.backward()\n",
    "    optim.step()\n",
    "    if epoch % pPeriod == 0 or epoch == nEpoch-1:\n",
    "        if epoch != 0:\n",
    "            runningCluster = runningCluster/pPeriod\n",
    "            runningOpt = runningOpt/pPeriod\n",
    "            runningTot = runningTot/pPeriod\n",
    "        print('epoch {:d} clusterLoss={:f} optLoss={:f} loss={:f}'.format(epoch, clusterLoss, runningOpt, runningTot))\n",
    "        runningCluster = 0\n",
    "        runningOpt = 0\n",
    "        runningTot = 0\n",
    "\n",
    "print('Finished training')"
   ]
  },
  {
   "cell_type": "code",
   "execution_count": 145,
   "id": "087762e7",
   "metadata": {},
   "outputs": [
    {
     "name": "stdout",
     "output_type": "stream",
     "text": [
      "Complete\n"
     ]
    }
   ],
   "source": [
    "import math\n",
    "\n",
    "nt = train_rest_ts_torch[0].shape[0]\n",
    "nroi = train_rest_ts_torch[0].shape[1]\n",
    "nBatch = 10\n",
    "nc = 8\n",
    "sz1 = math.floor((nt-4-5)/2+1)\n",
    "# sz2 = math.floor((nt-6-5)/2+1)\n",
    "sz3 = math.floor((nt-8-5)/2+1)\n",
    "sz11 = math.floor((sz1-4))\n",
    "# sz22 = math.floor((sz2-4))\n",
    "sz33 = math.floor((sz3-4))\n",
    "# D = nc*C\n",
    "D = nc*(sz11+sz33)\n",
    "\n",
    "class ClusterCNN(nn.Module):\n",
    "    def __init__(self):\n",
    "        super(ClusterCNN, self).__init__()\n",
    "        self.conv1 = nn.Conv2d(1,nc,(5,nroi)).cuda() # Output size (nt-4)x1\n",
    "#         self.conv2 = nn.Conv2d(1,nc,(7,nroi)).cuda() # Output size (nt-6)x1\n",
    "        self.conv3 = nn.Conv2d(1,nc,(9,nroi)).cuda() # Output size (nt-8)x1\n",
    "        self.mp1 = nn.MaxPool2d((5,1),(2,1)) # Output size (A-10)/5+1)x1 \n",
    "        self.conv4 = nn.Conv2d(nc,nc,(5,1)).cuda() # Output size (B-4)x1\n",
    "#         self.fc1 = nn.Linear(nc*(sz1+sz2+sz3),30).cuda()\n",
    "        self.fc1 = nn.Linear(D,100).cuda()\n",
    "        self.fc2 = nn.Linear(100,1).cuda()\n",
    "        \n",
    "    def forward(self, x):\n",
    "        nb = x.shape[0]\n",
    "        x = x.detach().unsqueeze(1)\n",
    "        a = self.mp1(F.relu(self.conv1(x)))\n",
    "#         b = self.mp1(F.relu(self.conv2(x)))\n",
    "        c = self.mp1(F.relu(self.conv3(x)))\n",
    "        a = F.relu(self.conv4(a))\n",
    "#         b = F.relu(self.conv4(b))\n",
    "        c = F.relu(self.conv4(c))\n",
    "        x = torch.cat((a,c),dim=2)\n",
    "        x = x.reshape([nb,D])\n",
    "        x = F.relu(self.fc1(x))\n",
    "        x = self.fc2(x)\n",
    "        return x\n",
    "#         xmean = torch.mean(x,dim=3,keepdim=True)\n",
    "#         xstd = torch.std(x,dim=3,keepdim=True)\n",
    "#         x = torch.cat((xmean,xstd),dim=3)\n",
    "#         a = self.mp1(F.relu(self.conv1(x)))\n",
    "#         b = self.mp1(F.relu(self.conv2(x)))\n",
    "#         c = self.mp1(F.relu(self.conv3(x)))\n",
    "#         x = torch.cat((a,b,c),dim=2)\n",
    "#         x = x.reshape(nb,nc*(sz1+sz2+sz3))\n",
    "#         x = F.relu(self.fc1(x))\n",
    "#         x = self.fc2(x)\n",
    "#         return x\n",
    "        \n",
    "clustercnn = ClusterCNN()\n",
    "optimcnn = torch.optim.Adam(clustercnn.parameters(), lr=1e-3)\n",
    "\n",
    "print('Complete')"
   ]
  },
  {
   "cell_type": "code",
   "execution_count": 16,
   "id": "8538e5bd",
   "metadata": {},
   "outputs": [
    {
     "name": "stdout",
     "output_type": "stream",
     "text": [
      "Complete\n"
     ]
    }
   ],
   "source": [
    "train_rest_z_torch = []\n",
    "test_rest_z_torch = []\n",
    "\n",
    "for subj in train_rest_ts_torch:\n",
    "    x,z = aeot(subj)\n",
    "    train_rest_z_torch.append(z)\n",
    "    \n",
    "for subj in test_rest_ts_torch:\n",
    "    x,z = aeot(subj)\n",
    "    test_rest_z_torch.append(z)\n",
    "    \n",
    "print('Complete')"
   ]
  },
  {
   "cell_type": "code",
   "execution_count": 146,
   "id": "01ea2a7d",
   "metadata": {
    "scrolled": true
   },
   "outputs": [
    {
     "name": "stdout",
     "output_type": "stream",
     "text": [
      "epoch 0 loss=379995.437500\n",
      "epoch 200 loss=36858.433594\n",
      "epoch 400 loss=4972.521973\n",
      "epoch 600 loss=1333.264404\n",
      "epoch 800 loss=305.957245\n",
      "epoch 1000 loss=39.770844\n",
      "epoch 1200 loss=8.609836\n",
      "epoch 1400 loss=1.779950\n",
      "epoch 1600 loss=1.687987\n",
      "epoch 1800 loss=2.369942\n"
     ]
    },
    {
     "ename": "KeyboardInterrupt",
     "evalue": "",
     "output_type": "error",
     "traceback": [
      "\u001b[1;31m---------------------------------------------------------------------------\u001b[0m",
      "\u001b[1;31mKeyboardInterrupt\u001b[0m                         Traceback (most recent call last)",
      "\u001b[1;32m<ipython-input-146-77d4e76f6242>\u001b[0m in \u001b[0;36m<module>\u001b[1;34m\u001b[0m\n\u001b[0;32m     20\u001b[0m     \u001b[0mpred\u001b[0m \u001b[1;33m=\u001b[0m \u001b[0mclustercnn\u001b[0m\u001b[1;33m(\u001b[0m\u001b[0mbatch\u001b[0m\u001b[1;33m)\u001b[0m\u001b[1;33m.\u001b[0m\u001b[0mflatten\u001b[0m\u001b[1;33m(\u001b[0m\u001b[1;33m)\u001b[0m\u001b[1;33m\u001b[0m\u001b[1;33m\u001b[0m\u001b[0m\n\u001b[0;32m     21\u001b[0m     \u001b[0mloss\u001b[0m \u001b[1;33m=\u001b[0m \u001b[0mtorch\u001b[0m\u001b[1;33m.\u001b[0m\u001b[0msum\u001b[0m\u001b[1;33m(\u001b[0m\u001b[1;33m(\u001b[0m\u001b[0mtruth\u001b[0m\u001b[1;33m-\u001b[0m\u001b[0mpred\u001b[0m\u001b[1;33m)\u001b[0m\u001b[1;33m**\u001b[0m\u001b[1;36m2\u001b[0m\u001b[1;33m)\u001b[0m\u001b[1;33m\u001b[0m\u001b[1;33m\u001b[0m\u001b[0m\n\u001b[1;32m---> 22\u001b[1;33m     \u001b[0mloss\u001b[0m\u001b[1;33m.\u001b[0m\u001b[0mbackward\u001b[0m\u001b[1;33m(\u001b[0m\u001b[1;33m)\u001b[0m\u001b[1;33m\u001b[0m\u001b[1;33m\u001b[0m\u001b[0m\n\u001b[0m\u001b[0;32m     23\u001b[0m     \u001b[0mrunning\u001b[0m \u001b[1;33m+=\u001b[0m \u001b[0mloss\u001b[0m\u001b[1;33m.\u001b[0m\u001b[0mcpu\u001b[0m\u001b[1;33m(\u001b[0m\u001b[1;33m)\u001b[0m\u001b[1;33m\u001b[0m\u001b[1;33m\u001b[0m\u001b[0m\n\u001b[0;32m     24\u001b[0m     \u001b[0moptimcnn\u001b[0m\u001b[1;33m.\u001b[0m\u001b[0mstep\u001b[0m\u001b[1;33m(\u001b[0m\u001b[1;33m)\u001b[0m\u001b[1;33m\u001b[0m\u001b[1;33m\u001b[0m\u001b[0m\n",
      "\u001b[1;32mc:\\users\\aorlichenko\\appdata\\local\\programs\\python\\python39\\lib\\site-packages\\torch\\tensor.py\u001b[0m in \u001b[0;36mbackward\u001b[1;34m(self, gradient, retain_graph, create_graph)\u001b[0m\n\u001b[0;32m    219\u001b[0m                 \u001b[0mretain_graph\u001b[0m\u001b[1;33m=\u001b[0m\u001b[0mretain_graph\u001b[0m\u001b[1;33m,\u001b[0m\u001b[1;33m\u001b[0m\u001b[1;33m\u001b[0m\u001b[0m\n\u001b[0;32m    220\u001b[0m                 create_graph=create_graph)\n\u001b[1;32m--> 221\u001b[1;33m         \u001b[0mtorch\u001b[0m\u001b[1;33m.\u001b[0m\u001b[0mautograd\u001b[0m\u001b[1;33m.\u001b[0m\u001b[0mbackward\u001b[0m\u001b[1;33m(\u001b[0m\u001b[0mself\u001b[0m\u001b[1;33m,\u001b[0m \u001b[0mgradient\u001b[0m\u001b[1;33m,\u001b[0m \u001b[0mretain_graph\u001b[0m\u001b[1;33m,\u001b[0m \u001b[0mcreate_graph\u001b[0m\u001b[1;33m)\u001b[0m\u001b[1;33m\u001b[0m\u001b[1;33m\u001b[0m\u001b[0m\n\u001b[0m\u001b[0;32m    222\u001b[0m \u001b[1;33m\u001b[0m\u001b[0m\n\u001b[0;32m    223\u001b[0m     \u001b[1;32mdef\u001b[0m \u001b[0mregister_hook\u001b[0m\u001b[1;33m(\u001b[0m\u001b[0mself\u001b[0m\u001b[1;33m,\u001b[0m \u001b[0mhook\u001b[0m\u001b[1;33m)\u001b[0m\u001b[1;33m:\u001b[0m\u001b[1;33m\u001b[0m\u001b[1;33m\u001b[0m\u001b[0m\n",
      "\u001b[1;32mc:\\users\\aorlichenko\\appdata\\local\\programs\\python\\python39\\lib\\site-packages\\torch\\autograd\\__init__.py\u001b[0m in \u001b[0;36mbackward\u001b[1;34m(tensors, grad_tensors, retain_graph, create_graph, grad_variables)\u001b[0m\n\u001b[0;32m    128\u001b[0m         \u001b[0mretain_graph\u001b[0m \u001b[1;33m=\u001b[0m \u001b[0mcreate_graph\u001b[0m\u001b[1;33m\u001b[0m\u001b[1;33m\u001b[0m\u001b[0m\n\u001b[0;32m    129\u001b[0m \u001b[1;33m\u001b[0m\u001b[0m\n\u001b[1;32m--> 130\u001b[1;33m     Variable._execution_engine.run_backward(\n\u001b[0m\u001b[0;32m    131\u001b[0m         \u001b[0mtensors\u001b[0m\u001b[1;33m,\u001b[0m \u001b[0mgrad_tensors_\u001b[0m\u001b[1;33m,\u001b[0m \u001b[0mretain_graph\u001b[0m\u001b[1;33m,\u001b[0m \u001b[0mcreate_graph\u001b[0m\u001b[1;33m,\u001b[0m\u001b[1;33m\u001b[0m\u001b[1;33m\u001b[0m\u001b[0m\n\u001b[0;32m    132\u001b[0m         allow_unreachable=True)  # allow_unreachable flag\n",
      "\u001b[1;31mKeyboardInterrupt\u001b[0m: "
     ]
    }
   ],
   "source": [
    "# Train CNN\n",
    "\n",
    "import random\n",
    "\n",
    "N = len(train_rest_ts_torch)\n",
    "running = 0\n",
    "nEpoch = 2000\n",
    "pPeriod = 200\n",
    "\n",
    "for epoch in range(nEpoch):\n",
    "    batch = []\n",
    "    truth = torch.zeros(nBatch).cuda()\n",
    "    for i in range(nBatch):\n",
    "        idx = random.randint(0,N-1)\n",
    "        subj = train_rest_ts_torch[idx]\n",
    "        batch.append(subj)\n",
    "        truth[i] = y_train[idx,0]\n",
    "    batch = torch.stack(batch,dim=0)\n",
    "    optimcnn.zero_grad()\n",
    "    pred = clustercnn(batch).flatten()\n",
    "    loss = torch.sum((truth-pred)**2)\n",
    "    loss.backward()\n",
    "    running += loss.cpu()\n",
    "    optimcnn.step()\n",
    "    if epoch % pPeriod == 0 or epoch == nEpoch-1:\n",
    "        if epoch != 0:\n",
    "            running /= pPeriod\n",
    "        print('epoch {:d} loss={:f}'.format(epoch, running))\n",
    "        running = 0\n",
    "\n",
    "print('Finished training')"
   ]
  },
  {
   "cell_type": "code",
   "execution_count": 75,
   "id": "b412b745",
   "metadata": {},
   "outputs": [],
   "source": [
    "x = torch.rand(2,2).cuda()\n",
    "A = torch.rand(1,2,requires_grad=True).cuda()\n",
    "B = torch.rand(2,2).cuda()\n",
    "x = torch.mean(x,dim=1,keepdim=True)\n",
    "res = A@x\n",
    "loss = torch.sum((B-res)**2)\n",
    "loss.backward()\n"
   ]
  },
  {
   "cell_type": "code",
   "execution_count": 45,
   "id": "7326ef95",
   "metadata": {},
   "outputs": [
    {
     "name": "stdout",
     "output_type": "stream",
     "text": [
      "(231, 264)\n"
     ]
    }
   ],
   "source": [
    "print(train_rest_ts[0].T.shape)\n",
    "\n",
    "# Calculate the Pearson correlation coefficient\n",
    "# Assumes normalized to mean=0 and std=1\n",
    "def pearsonr(ts):\n",
    "    nt = ts.shape[0]\n",
    "    return ts.T@ts/nt"
   ]
  },
  {
   "cell_type": "code",
   "execution_count": 129,
   "id": "9da56b00",
   "metadata": {},
   "outputs": [
    {
     "name": "stdout",
     "output_type": "stream",
     "text": [
      "(210, 264)\n",
      "Complete\n"
     ]
    }
   ],
   "source": [
    "# Before VAEOT, raw Pearson\n",
    "\n",
    "Xtrain = np.zeros([len(train_rest_ts), 264*264])\n",
    "Xtest = np.zeros([len(test_rest_ts), 264*264])\n",
    "\n",
    "for i in range(len(train_rest_ts)):\n",
    "    Xtrain[i,:] = pearsonr(train_rest_ts[i].T).flatten()\n",
    "    \n",
    "for i in range(len(test_rest_ts)):\n",
    "    Xtest[i,:] = pearsonr(test_rest_ts[i].T).flatten()\n",
    "    \n",
    "print(train_rest_ts[0].T.shape)\n",
    "print('Complete')"
   ]
  },
  {
   "cell_type": "code",
   "execution_count": 130,
   "id": "b8d7fb11",
   "metadata": {},
   "outputs": [
    {
     "name": "stdout",
     "output_type": "stream",
     "text": [
      "Complete\n"
     ]
    }
   ],
   "source": [
    "yTrain = y_train.flatten()\n",
    "yTest = y_test.flatten()\n",
    "\n",
    "w, r, _, _ = np.linalg.lstsq(Xtrain, yTrain, rcond=None)\n",
    "\n",
    "print('Complete')"
   ]
  },
  {
   "cell_type": "code",
   "execution_count": 147,
   "id": "cf8b0b76",
   "metadata": {
    "scrolled": false
   },
   "outputs": [
    {
     "name": "stdout",
     "output_type": "stream",
     "text": [
      "[[1.         0.69619995]\n",
      " [0.69619995 1.        ]]\n",
      "2.4085986244477584\n",
      "2.018519280546455\n"
     ]
    },
    {
     "data": {
      "image/png": "[encoded data removed]",
      "text/plain": [
       "<Figure size 432x288 with 1 Axes>"
      ]
     },
     "metadata": {
      "needs_background": "light"
     },
     "output_type": "display_data"
    },
    {
     "data": {
      "image/png": "[encoded data removed]",
      "text/plain": [
       "<Figure size 432x288 with 1 Axes>"
      ]
     },
     "metadata": {
      "needs_background": "light"
     },
     "output_type": "display_data"
    }
   ],
   "source": [
    "import matplotlib.pyplot as plt\n",
    "\n",
    "y = y_test.flatten()\n",
    "X = []\n",
    "\n",
    "for subj in test_rest_ts_torch:\n",
    "    X.append(subj)\n",
    "    \n",
    "X = torch.stack(X, dim=0)\n",
    "yPred = clustercnn(X).flatten().cpu().detach().numpy()\n",
    "\n",
    "# yPred = Xtest@w\n",
    "\n",
    "idcs = np.argsort(y)\n",
    "yPred = yPred[idcs]\n",
    "y = y[idcs]\n",
    "\n",
    "corr = np.corrcoef(y, yPred)\n",
    "rmse = (np.sum((y-yPred)**2)/len(y))**0.5/12\n",
    "mae = np.sum(np.abs(y-yPred))/12/len(y)\n",
    "\n",
    "print(corr)\n",
    "print(rmse)\n",
    "print(mae)\n",
    "\n",
    "plt.plot(y, label='Truth')\n",
    "plt.plot(yPred, label='Prediction')\n",
    "plt.show()\n",
    "\n",
    "plt.scatter(y, yPred)\n",
    "plt.show()"
   ]
  },
  {
   "cell_type": "code",
   "execution_count": null,
   "id": "2b443a8f",
   "metadata": {},
   "outputs": [],
   "source": []
  }
 ],
 "metadata": {
  "kernelspec": {
   "display_name": "Python 3",
   "language": "python",
   "name": "python3"
  },
  "language_info": {
   "codemirror_mode": {
    "name": "ipython",
    "version": 3
   },
   "file_extension": ".py",
   "mimetype": "text/x-python",
   "name": "python",
   "nbconvert_exporter": "python",
   "pygments_lexer": "ipython3",
   "version": "3.9.5"
  }
 },
 "nbformat": 4,
 "nbformat_minor": 5
}
