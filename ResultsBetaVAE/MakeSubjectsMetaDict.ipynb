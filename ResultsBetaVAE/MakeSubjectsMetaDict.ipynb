{
 "cells": [
  {
   "cell_type": "code",
   "execution_count": null,
   "metadata": {},
   "outputs": [],
   "source": [
    "# Create a python dict saved in a file which is keyed on subject ID\n",
    "# and contains all info in the 3 CSV files (meta files) along \n",
    "# with python IDs for the resting state (rest), working memory (nback), and\n",
    "# emotion (emoid) tasks, if scans are available for those "
   ]
  },
  {
   "cell_type": "code",
   "execution_count": 13,
   "metadata": {},
   "outputs": [
    {
     "name": "stdout",
     "output_type": "stream",
     "text": [
      "dict_keys([1111111111111111111111111111111111111111111111, 609742584520])\n"
     ]
    }
   ],
   "source": [
    "# Test integer keys\n",
    "\n",
    "a = 1111111111111111111111111111111111111111111111 # Unbounded integer\n",
    "b = 609742584520 # An ID from the dataset\n",
    "c = int(b)\n",
    "myDict = {a: 'hello', c: 'goodbye'}\n",
    "print(myDict.keys())"
   ]
  },
  {
   "cell_type": "code",
   "execution_count": 79,
   "metadata": {},
   "outputs": [
    {
     "name": "stdout",
     "output_type": "stream",
     "text": [
      "[task: nback] Got exception on line: 243,602893715810,99,M,AFRICAN,0,0,\n",
      "[task: nback] Got exception on line: 631,607030326315,100,F,OTHER/MIXED,0,0,\n",
      "[task: nback] Got exception on line: 823,608993302629,99,F,CAUCASIAN/WHITE,0,0,\n",
      "[task: emoid] Got exception on line: 394,607030326315,100,F,OTHER/MIXED,0,0,\n"
     ]
    }
   ],
   "source": [
    "# Create the dict and read in the 3 files\n",
    "\n",
    "subjects = {}\n",
    "badIDs = []\n",
    "header = 'PythonID,ID,AgeInMonths,Gender,Ethnicity,AgeGroupID,AgeGroupEdge1,AgeGroupEdge2'\n",
    "\n",
    "def doubleCheck(subjID, meta, field, fieldName):\n",
    "    if meta[fieldName] != field:\n",
    "        raise Exception('Wrong {:s} for subject {:d} (got {:s} and expected {:s})'\n",
    "                        .format(subjID, fieldName, str(field), str(meta[fieldName])))\n",
    "\n",
    "def addTaskToSubjects(subjects, fname, task, badIDs):\n",
    "    with open(fname, 'r') as f:\n",
    "        first = True\n",
    "        for line in f:\n",
    "            line = line.strip()\n",
    "            \n",
    "            # Check header\n",
    "            if first:\n",
    "                first = False\n",
    "                if line != header:\n",
    "                    raise Exception('Unexpected first line')\n",
    "                continue\n",
    "            line = line.split(',')\n",
    "            \n",
    "            # Check length\n",
    "            if len(line) != 8:\n",
    "                raise Exception('Unexpected array length {:d}: {:s}'.format(len(line), ','.join(line)))\n",
    "                \n",
    "            try:\n",
    "                taskID = line[0]\n",
    "                subjID = int(line[1])\n",
    "                ageMonths = int(line[2])\n",
    "                gender = line[3]\n",
    "                ethnicity = line[4]\n",
    "                ageGroup = int(line[5])\n",
    "                ageGroupEdge1 = int(line[6])\n",
    "                ageGroupEdge2 = int(line[7])\n",
    "            except Exception as ex:\n",
    "                print('[task: {:s}] Got exception on line: {:s}'.format(task, ','.join(line)))\n",
    "                if subjID not in badIDs:\n",
    "                    badIDs.append(subjID)\n",
    "                continue\n",
    "            \n",
    "            # Check whether we already have the subject\n",
    "            if subjID in subjects:\n",
    "                \n",
    "                # Double check redundant fields\n",
    "                meta = subjects[subjID]['meta']\n",
    "                doubleCheck(subjID, meta, ageMonths, 'AgeInMonths')\n",
    "                doubleCheck(subjID, meta, gender, 'Gender')\n",
    "                doubleCheck(subjID, meta, ethnicity, 'Ethnicity')\n",
    "                doubleCheck(subjID, meta, ageGroup, 'AgeGroupID')\n",
    "                doubleCheck(subjID, meta, ageGroupEdge1, 'AgeGroupEdge1')\n",
    "                doubleCheck(subjID, meta, ageGroupEdge2, 'AgeGroupEdge2')\n",
    "                \n",
    "                # Check whether we already have this task ID\n",
    "                if task in subjects[subjID]:\n",
    "                    raise Exception('Duplicate task {:s}'.format(task))\n",
    "                \n",
    "                subjects[subjID][task] = taskID\n",
    "                \n",
    "            else:\n",
    "                meta = {\n",
    "                    'AgeInMonths': ageMonths,\n",
    "                    'Gender': gender,\n",
    "                    'Ethnicity': ethnicity,\n",
    "                    'AgeGroupID': ageGroup,\n",
    "                    'AgeGroupEdge1': ageGroupEdge1,\n",
    "                    'AgeGroupEdge2': ageGroupEdge2\n",
    "                }\n",
    "                subjects[subjID] = {\n",
    "                    'meta': meta,\n",
    "                    task: taskID\n",
    "                }\n",
    "                \n",
    "            \n",
    "addTaskToSubjects(subjects, '../../rest_fmri_power264_meta.csv', 'rest', badIDs)\n",
    "addTaskToSubjects(subjects, '../../nback_fmri_power264_meta.csv', 'nback', badIDs)\n",
    "addTaskToSubjects(subjects, '../../emoid_fmri_power264_meta.csv', 'emoid', badIDs)"
   ]
  },
  {
   "cell_type": "code",
   "execution_count": 80,
   "metadata": {},
   "outputs": [
    {
     "name": "stdout",
     "output_type": "stream",
     "text": [
      "941\n",
      "[602893715810, 607030326315, 608993302629]\n"
     ]
    }
   ],
   "source": [
    "print(len(subjects))\n",
    "print(badIDs)"
   ]
  },
  {
   "cell_type": "code",
   "execution_count": 81,
   "metadata": {},
   "outputs": [
    {
     "name": "stdout",
     "output_type": "stream",
     "text": [
      "{'meta': {'AgeInMonths': 217, 'Gender': 'F', 'Ethnicity': 'CAUCASIAN/WHITE', 'AgeGroupID': 4, 'AgeGroupEdge1': 216, 'AgeGroupEdge2': 272}, 'rest': '800', 'nback': '827', 'emoid': '592'}\n"
     ]
    }
   ],
   "source": [
    "keys = list(subjects.keys())\n",
    "print(subjects[keys[800]])"
   ]
  },
  {
   "cell_type": "code",
   "execution_count": 82,
   "metadata": {},
   "outputs": [
    {
     "name": "stdout",
     "output_type": "stream",
     "text": [
      "878\n",
      "907\n",
      "679\n"
     ]
    }
   ],
   "source": [
    "# Check whether we get correct totals for number of subjects in each modality\n",
    "# Note the 3 bad subjects above (3 nback, 1 emoid overlapping with nback)\n",
    "\n",
    "rest = 0\n",
    "nback = 0\n",
    "emoid = 0\n",
    "\n",
    "for key in subjects:\n",
    "    subj = subjects[key]\n",
    "    if 'rest' in subj:\n",
    "        rest += 1\n",
    "    if 'nback' in subj:\n",
    "        nback += 1\n",
    "    if 'emoid' in subj:\n",
    "        emoid += 1\n",
    "\n",
    "print(rest)\n",
    "print(nback)\n",
    "print(emoid)"
   ]
  },
  {
   "cell_type": "code",
   "execution_count": 83,
   "metadata": {},
   "outputs": [
    {
     "data": {
      "image/png": "[encoded data removed]",
      "text/plain": [
       "<Figure size 432x288 with 1 Axes>"
      ]
     },
     "metadata": {
      "needs_background": "light"
     },
     "output_type": "display_data"
    }
   ],
   "source": [
    "# Check distribution of ages\n",
    "\n",
    "import numpy as np\n",
    "import matplotlib.pyplot as plt\n",
    "\n",
    "ages = np.zeros(len(subjects))\n",
    "agesRest = np.zeros(878)\n",
    "agesNBack = np.zeros(907)\n",
    "agesEmoid = np.zeros(679)\n",
    "i0 = 0\n",
    "i1 = 0\n",
    "i2 = 0\n",
    "i3 = 0\n",
    "\n",
    "for _id in subjects:\n",
    "    subj = subjects[_id]\n",
    "    age = subj['meta']['AgeInMonths']\n",
    "    ages[i0] = age\n",
    "    i0 += 1\n",
    "    if 'rest' in subj:\n",
    "        agesRest[i1] = age\n",
    "        i1 += 1\n",
    "    if 'nback' in subj:\n",
    "        agesNBack[i2] = age\n",
    "        i2 += 1\n",
    "    if 'emoid' in subj:\n",
    "        agesEmoid[i3] = age\n",
    "        i3 += 1\n",
    "    \n",
    "plt.boxplot([ages/12, agesRest/12, agesNBack/12, agesEmoid/12], labels=['All', 'Rest', 'NBack', 'Emoid'])\n",
    "plt.title('Ages in Years')\n",
    "plt.grid()\n",
    "plt.show()"
   ]
  },
  {
   "cell_type": "code",
   "execution_count": 84,
   "metadata": {},
   "outputs": [
    {
     "name": "stdout",
     "output_type": "stream",
     "text": [
      "Complete\n"
     ]
    }
   ],
   "source": [
    "# Write subject dictionary to a file\n",
    "\n",
    "import pickle\n",
    "\n",
    "with open('../../AllSubjectsMeta.bin', 'wb') as f:\n",
    "    pickle.dump(subjects, f)\n",
    "    \n",
    "print('Complete')"
   ]
  },
  {
   "cell_type": "code",
   "execution_count": 85,
   "metadata": {},
   "outputs": [
    {
     "name": "stdout",
     "output_type": "stream",
     "text": [
      "True\n"
     ]
    }
   ],
   "source": [
    "# Read subjects file and make quick sanity check\n",
    "\n",
    "subsCheck = None\n",
    "\n",
    "with open('../../AllSubjectsMeta.bin', 'rb') as f:\n",
    "    subsCheck = pickle.load(f)\n",
    "    \n",
    "#subsCheck[list(subsCheck.keys())[0]]['meta']['AgeInMonths'] = -1\n",
    "print(subjects == subsCheck)"
   ]
  },
  {
   "cell_type": "code",
   "execution_count": 86,
   "metadata": {},
   "outputs": [
    {
     "name": "stdout",
     "output_type": "stream",
     "text": [
      "624\n"
     ]
    },
    {
     "data": {
      "image/png": "[encoded data removed]",
      "text/plain": [
       "<Figure size 432x288 with 1 Axes>"
      ]
     },
     "metadata": {
      "needs_background": "light"
     },
     "output_type": "display_data"
    }
   ],
   "source": [
    "# Find out how many subjects have all of rest, nback, and emoid,\n",
    "# and plot their age distributions\n",
    "\n",
    "agesAll3 = []\n",
    "\n",
    "for _id in subjects:\n",
    "    sub = subjects[_id]\n",
    "    if 'rest' in sub and 'nback' in sub and 'emoid' in sub:\n",
    "        agesAll3.append(sub['meta']['AgeInMonths'])\n",
    "        \n",
    "agesAll3 = np.array(agesAll3)\n",
    "print(len(agesAll3))\n",
    "\n",
    "plt.boxplot([ages/12, agesRest/12, agesNBack/12, agesEmoid/12, agesAll3/12], \n",
    "            labels=['All', 'Rest', 'NBack', 'Emoid', 'Have All 3'])\n",
    "plt.title('Ages in Years')\n",
    "plt.grid()\n",
    "plt.show()"
   ]
  },
  {
   "cell_type": "code",
   "execution_count": 87,
   "metadata": {},
   "outputs": [
    {
     "name": "stdout",
     "output_type": "stream",
     "text": [
      "624\n"
     ]
    }
   ],
   "source": [
    "# Make training and test set splits\n",
    "\n",
    "subsAll3 = []\n",
    "\n",
    "for _id in subjects:\n",
    "    sub = subjects[_id]\n",
    "    if 'rest' in sub and 'nback' in sub and 'emoid' in sub:\n",
    "        sub['ID'] = _id\n",
    "        subsAll3.append(sub)\n",
    "        \n",
    "print(len(subsAll3))"
   ]
  },
  {
   "cell_type": "code",
   "execution_count": 90,
   "metadata": {},
   "outputs": [],
   "source": [
    "# Write to file\n",
    "\n",
    "import random\n",
    "\n",
    "Ntrain = int(len(subsAll3)*3/4)\n",
    "\n",
    "random.shuffle(subsAll3)\n",
    "\n",
    "train = subsAll3[0:Ntrain]\n",
    "test = subsAll3[Ntrain:]\n",
    "\n",
    "with open('../../Splits/RegressionAllTasks/split3.bin', 'wb') as f:\n",
    "    pickle.dump({'train': train, 'test': test}, f)"
   ]
  },
  {
   "cell_type": "code",
   "execution_count": 95,
   "metadata": {},
   "outputs": [
    {
     "name": "stdout",
     "output_type": "stream",
     "text": [
      "468\n",
      "156\n",
      "{'meta': {'AgeInMonths': 110, 'Gender': 'M', 'Ethnicity': 'AFRICAN', 'AgeGroupID': 1, 'AgeGroupEdge1': 103, 'AgeGroupEdge2': 144}, 'rest': '765', 'nback': '790', 'emoid': '554', 'ID': 608665596582}\n",
      "{'meta': {'AgeInMonths': 154, 'Gender': 'M', 'Ethnicity': 'CAUCASIAN/WHITE', 'AgeGroupID': 2, 'AgeGroupEdge1': 144, 'AgeGroupEdge2': 180}, 'rest': '659', 'nback': '677', 'emoid': '440', 'ID': 607487055951}\n"
     ]
    }
   ],
   "source": [
    "# Check splits\n",
    "\n",
    "with open('../../Splits/RegressionAllTasks/split3.bin', 'rb') as f:\n",
    "    d = pickle.load(f)\n",
    "    train = d['train']\n",
    "    test = d['test']\n",
    "    print(len(train))\n",
    "    print(len(test))\n",
    "    print(train[0])\n",
    "    print(test[0])"
   ]
  },
  {
   "cell_type": "code",
   "execution_count": null,
   "metadata": {},
   "outputs": [],
   "source": []
  }
 ],
 "metadata": {
  "kernelspec": {
   "display_name": "Python 3",
   "language": "python",
   "name": "python3"
  },
  "language_info": {
   "codemirror_mode": {
    "name": "ipython",
    "version": 3
   },
   "file_extension": ".py",
   "mimetype": "text/x-python",
   "name": "python",
   "nbconvert_exporter": "python",
   "pygments_lexer": "ipython3",
   "version": "3.8.6"
  }
 },
 "nbformat": 4,
 "nbformat_minor": 4
}
