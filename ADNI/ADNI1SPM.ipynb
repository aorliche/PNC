{
 "cells": [
  {
   "cell_type": "code",
   "execution_count": 4,
   "id": "234b006e",
   "metadata": {},
   "outputs": [
    {
     "name": "stderr",
     "output_type": "stream",
     "text": [
      "stty: 'standard input': Inappropriate ioctl for device\n",
      "stty: 'standard input': Inappropriate ioctl for device\n",
      "stty: 'standard input': Inappropriate ioctl for device\n"
     ]
    },
    {
     "data": {
      "text/plain": [
       "'12.7771'"
      ]
     },
     "execution_count": 4,
     "metadata": {},
     "output_type": "execute_result"
    }
   ],
   "source": [
    "from nipype.interfaces import spm\n",
    "\n",
    "spm.SPMCommand.set_mlab_paths(paths='/home/anton/Apps/SPM/spm12/')\n",
    "spm.SPMCommand().version"
   ]
  },
  {
   "cell_type": "code",
   "execution_count": null,
   "id": "c03c888e",
   "metadata": {},
   "outputs": [
    {
     "name": "stdout",
     "output_type": "stream",
     "text": [
      "0 Running I863058_Axial_rsfMRI_(Eyes_Open)_20170621132338_15.nii\n"
     ]
    },
    {
     "name": "stderr",
     "output_type": "stream",
     "text": [
      "stty: 'standard input': Inappropriate ioctl for device\n",
      "stty: 'standard input': Inappropriate ioctl for device\n",
      "stty: 'standard input': Inappropriate ioctl for device\n",
      "stty: 'standard input': Inappropriate ioctl for device\n",
      "stty: 'standard input': Inappropriate ioctl for device\n",
      "stty: 'standard input': Inappropriate ioctl for device\n"
     ]
    },
    {
     "name": "stdout",
     "output_type": "stream",
     "text": [
      "1 Running I843512_Axial_rsfMRI_(Eyes_Open)_20170424132133_15.nii\n"
     ]
    },
    {
     "name": "stderr",
     "output_type": "stream",
     "text": [
      "stty: 'standard input': Inappropriate ioctl for device\n",
      "stty: 'standard input': Inappropriate ioctl for device\n",
      "stty: 'standard input': Inappropriate ioctl for device\n",
      "stty: 'standard input': Inappropriate ioctl for device\n",
      "stty: 'standard input': Inappropriate ioctl for device\n",
      "stty: 'standard input': Inappropriate ioctl for device\n"
     ]
    },
    {
     "name": "stdout",
     "output_type": "stream",
     "text": [
      "2 Running I995503_Axial_rsfMRI_(Eyes_Open)_20180508130641_10.nii\n"
     ]
    },
    {
     "name": "stderr",
     "output_type": "stream",
     "text": [
      "stty: 'standard input': Inappropriate ioctl for device\n",
      "stty: 'standard input': Inappropriate ioctl for device\n",
      "stty: 'standard input': Inappropriate ioctl for device\n",
      "stty: 'standard input': Inappropriate ioctl for device\n",
      "stty: 'standard input': Inappropriate ioctl for device\n",
      "stty: 'standard input': Inappropriate ioctl for device\n"
     ]
    },
    {
     "name": "stdout",
     "output_type": "stream",
     "text": [
      "3 Running I831069_Axial_rsfMRI_(Eyes_Open)_20170315112354_15.nii\n"
     ]
    },
    {
     "name": "stderr",
     "output_type": "stream",
     "text": [
      "stty: 'standard input': Inappropriate ioctl for device\n",
      "stty: 'standard input': Inappropriate ioctl for device\n",
      "stty: 'standard input': Inappropriate ioctl for device\n",
      "stty: 'standard input': Inappropriate ioctl for device\n",
      "stty: 'standard input': Inappropriate ioctl for device\n",
      "stty: 'standard input': Inappropriate ioctl for device\n"
     ]
    },
    {
     "name": "stdout",
     "output_type": "stream",
     "text": [
      "4 Running I989324_Axial_rsfMRI_(Eyes_Open)_20180424082009_10.nii\n"
     ]
    },
    {
     "name": "stderr",
     "output_type": "stream",
     "text": [
      "stty: 'standard input': Inappropriate ioctl for device\n",
      "stty: 'standard input': Inappropriate ioctl for device\n",
      "stty: 'standard input': Inappropriate ioctl for device\n",
      "stty: 'standard input': Inappropriate ioctl for device\n",
      "stty: 'standard input': Inappropriate ioctl for device\n",
      "stty: 'standard input': Inappropriate ioctl for device\n"
     ]
    },
    {
     "name": "stdout",
     "output_type": "stream",
     "text": [
      "5 Running I829298_Axial_rsfMRI_(Eyes_Open)_20170313133831_27.nii\n"
     ]
    },
    {
     "name": "stderr",
     "output_type": "stream",
     "text": [
      "stty: 'standard input': Inappropriate ioctl for device\n",
      "stty: 'standard input': Inappropriate ioctl for device\n",
      "stty: 'standard input': Inappropriate ioctl for device\n",
      "stty: 'standard input': Inappropriate ioctl for device\n",
      "stty: 'standard input': Inappropriate ioctl for device\n",
      "stty: 'standard input': Inappropriate ioctl for device\n"
     ]
    },
    {
     "name": "stdout",
     "output_type": "stream",
     "text": [
      "6 Running I888012_Axial_rsfMRI_(Eyes_Open)_20170814125728_10.nii\n"
     ]
    },
    {
     "name": "stderr",
     "output_type": "stream",
     "text": [
      "stty: 'standard input': Inappropriate ioctl for device\n",
      "stty: 'standard input': Inappropriate ioctl for device\n",
      "stty: 'standard input': Inappropriate ioctl for device\n",
      "stty: 'standard input': Inappropriate ioctl for device\n",
      "stty: 'standard input': Inappropriate ioctl for device\n",
      "stty: 'standard input': Inappropriate ioctl for device\n"
     ]
    },
    {
     "name": "stdout",
     "output_type": "stream",
     "text": [
      "7 Running I1075138_Axial_rsfMRI_(Eyes_Open)_20181112100912_15.nii\n"
     ]
    },
    {
     "name": "stderr",
     "output_type": "stream",
     "text": [
      "stty: 'standard input': Inappropriate ioctl for device\n",
      "stty: 'standard input': Inappropriate ioctl for device\n",
      "stty: 'standard input': Inappropriate ioctl for device\n",
      "stty: 'standard input': Inappropriate ioctl for device\n",
      "stty: 'standard input': Inappropriate ioctl for device\n",
      "stty: 'standard input': Inappropriate ioctl for device\n"
     ]
    },
    {
     "name": "stdout",
     "output_type": "stream",
     "text": [
      "8 Running I906803_Axial_rsfMRI_(Eyes_Open)_20170920132437_10.nii\n"
     ]
    },
    {
     "name": "stderr",
     "output_type": "stream",
     "text": [
      "stty: 'standard input': Inappropriate ioctl for device\n",
      "stty: 'standard input': Inappropriate ioctl for device\n",
      "stty: 'standard input': Inappropriate ioctl for device\n",
      "stty: 'standard input': Inappropriate ioctl for device\n",
      "stty: 'standard input': Inappropriate ioctl for device\n",
      "stty: 'standard input': Inappropriate ioctl for device\n"
     ]
    },
    {
     "name": "stdout",
     "output_type": "stream",
     "text": [
      "9 Running I1050349_Axial_rsfMRI_(Eyes_Open)_20180919082654_10.nii\n"
     ]
    },
    {
     "name": "stderr",
     "output_type": "stream",
     "text": [
      "stty: 'standard input': Inappropriate ioctl for device\n",
      "stty: 'standard input': Inappropriate ioctl for device\n",
      "stty: 'standard input': Inappropriate ioctl for device\n",
      "stty: 'standard input': Inappropriate ioctl for device\n",
      "stty: 'standard input': Inappropriate ioctl for device\n",
      "stty: 'standard input': Inappropriate ioctl for device\n"
     ]
    },
    {
     "name": "stdout",
     "output_type": "stream",
     "text": [
      "10 Running I902074_Axial_rsfMRI_(Eyes_Open)_20170907155224_10.nii\n"
     ]
    },
    {
     "name": "stderr",
     "output_type": "stream",
     "text": [
      "stty: 'standard input': Inappropriate ioctl for device\n",
      "stty: 'standard input': Inappropriate ioctl for device\n",
      "stty: 'standard input': Inappropriate ioctl for device\n",
      "stty: 'standard input': Inappropriate ioctl for device\n",
      "stty: 'standard input': Inappropriate ioctl for device\n",
      "stty: 'standard input': Inappropriate ioctl for device\n"
     ]
    },
    {
     "name": "stdout",
     "output_type": "stream",
     "text": [
      "11 Running I1079428_Axial_rsfMRI_(Eyes_Open)_20181128071953_12.nii\n"
     ]
    },
    {
     "name": "stderr",
     "output_type": "stream",
     "text": [
      "stty: 'standard input': Inappropriate ioctl for device\n",
      "stty: 'standard input': Inappropriate ioctl for device\n",
      "stty: 'standard input': Inappropriate ioctl for device\n",
      "stty: 'standard input': Inappropriate ioctl for device\n",
      "stty: 'standard input': Inappropriate ioctl for device\n",
      "stty: 'standard input': Inappropriate ioctl for device\n"
     ]
    },
    {
     "name": "stdout",
     "output_type": "stream",
     "text": [
      "12 Running I1267862_Axial_rsfMRI_(Eyes_Open)_20191217070907_15.nii\n"
     ]
    },
    {
     "name": "stderr",
     "output_type": "stream",
     "text": [
      "stty: 'standard input': Inappropriate ioctl for device\n",
      "stty: 'standard input': Inappropriate ioctl for device\n",
      "stty: 'standard input': Inappropriate ioctl for device\n",
      "stty: 'standard input': Inappropriate ioctl for device\n",
      "stty: 'standard input': Inappropriate ioctl for device\n",
      "stty: 'standard input': Inappropriate ioctl for device\n"
     ]
    },
    {
     "name": "stdout",
     "output_type": "stream",
     "text": [
      "13 Running I905426_Axial_rsfMRI_(Eyes_Open)_20170911163611_11.nii\n"
     ]
    },
    {
     "name": "stderr",
     "output_type": "stream",
     "text": [
      "stty: 'standard input': Inappropriate ioctl for device\n",
      "stty: 'standard input': Inappropriate ioctl for device\n",
      "stty: 'standard input': Inappropriate ioctl for device\n",
      "stty: 'standard input': Inappropriate ioctl for device\n",
      "stty: 'standard input': Inappropriate ioctl for device\n",
      "stty: 'standard input': Inappropriate ioctl for device\n"
     ]
    },
    {
     "name": "stdout",
     "output_type": "stream",
     "text": [
      "14 Running I1223063_Axial_rsfMRI_(Eyes_Open)_20190904091823_15.nii\n"
     ]
    },
    {
     "name": "stderr",
     "output_type": "stream",
     "text": [
      "stty: 'standard input': Inappropriate ioctl for device\n",
      "stty: 'standard input': Inappropriate ioctl for device\n",
      "stty: 'standard input': Inappropriate ioctl for device\n",
      "stty: 'standard input': Inappropriate ioctl for device\n",
      "stty: 'standard input': Inappropriate ioctl for device\n",
      "stty: 'standard input': Inappropriate ioctl for device\n"
     ]
    },
    {
     "name": "stdout",
     "output_type": "stream",
     "text": [
      "15 Running I914402_Axial_rsfMRI_(Eyes_Open)_20171003161927_10.nii\n"
     ]
    },
    {
     "name": "stderr",
     "output_type": "stream",
     "text": [
      "stty: 'standard input': Inappropriate ioctl for device\n",
      "stty: 'standard input': Inappropriate ioctl for device\n",
      "stty: 'standard input': Inappropriate ioctl for device\n",
      "stty: 'standard input': Inappropriate ioctl for device\n",
      "stty: 'standard input': Inappropriate ioctl for device\n",
      "stty: 'standard input': Inappropriate ioctl for device\n"
     ]
    },
    {
     "name": "stdout",
     "output_type": "stream",
     "text": [
      "16 Running I1166754_Axial_rsfMRI_(Eyes_Open)_20190515094158_15.nii\n"
     ]
    },
    {
     "name": "stderr",
     "output_type": "stream",
     "text": [
      "stty: 'standard input': Inappropriate ioctl for device\n",
      "stty: 'standard input': Inappropriate ioctl for device\n",
      "stty: 'standard input': Inappropriate ioctl for device\n",
      "stty: 'standard input': Inappropriate ioctl for device\n",
      "stty: 'standard input': Inappropriate ioctl for device\n",
      "stty: 'standard input': Inappropriate ioctl for device\n"
     ]
    },
    {
     "name": "stdout",
     "output_type": "stream",
     "text": [
      "17 Running I1225002_Axial_rsfMRI_(Eyes_Open)_20190910073408_9.nii\n"
     ]
    },
    {
     "name": "stderr",
     "output_type": "stream",
     "text": [
      "stty: 'standard input': Inappropriate ioctl for device\n",
      "stty: 'standard input': Inappropriate ioctl for device\n",
      "stty: 'standard input': Inappropriate ioctl for device\n",
      "stty: 'standard input': Inappropriate ioctl for device\n",
      "stty: 'standard input': Inappropriate ioctl for device\n",
      "stty: 'standard input': Inappropriate ioctl for device\n"
     ]
    },
    {
     "name": "stdout",
     "output_type": "stream",
     "text": [
      "18 Running I1116805_Axial_rsfMRI_(Eyes_Open)_20190115100816_10.nii\n"
     ]
    },
    {
     "name": "stderr",
     "output_type": "stream",
     "text": [
      "stty: 'standard input': Inappropriate ioctl for device\n",
      "stty: 'standard input': Inappropriate ioctl for device\n",
      "stty: 'standard input': Inappropriate ioctl for device\n",
      "stty: 'standard input': Inappropriate ioctl for device\n",
      "stty: 'standard input': Inappropriate ioctl for device\n",
      "stty: 'standard input': Inappropriate ioctl for device\n"
     ]
    },
    {
     "name": "stdout",
     "output_type": "stream",
     "text": [
      "19 Running I1072832_Axial_rsfMRI_(Eyes_Open)_20181112132160_10.nii\n"
     ]
    },
    {
     "name": "stderr",
     "output_type": "stream",
     "text": [
      "stty: 'standard input': Inappropriate ioctl for device\n",
      "stty: 'standard input': Inappropriate ioctl for device\n",
      "stty: 'standard input': Inappropriate ioctl for device\n",
      "stty: 'standard input': Inappropriate ioctl for device\n",
      "stty: 'standard input': Inappropriate ioctl for device\n",
      "stty: 'standard input': Inappropriate ioctl for device\n"
     ]
    },
    {
     "name": "stdout",
     "output_type": "stream",
     "text": [
      "20 Running I908590_Axial_rsfMRI_(Eyes_Open)_20170922165328_11.nii\n"
     ]
    },
    {
     "name": "stderr",
     "output_type": "stream",
     "text": [
      "stty: 'standard input': Inappropriate ioctl for device\n",
      "stty: 'standard input': Inappropriate ioctl for device\n",
      "stty: 'standard input': Inappropriate ioctl for device\n",
      "stty: 'standard input': Inappropriate ioctl for device\n",
      "stty: 'standard input': Inappropriate ioctl for device\n",
      "stty: 'standard input': Inappropriate ioctl for device\n"
     ]
    },
    {
     "name": "stdout",
     "output_type": "stream",
     "text": [
      "21 Running I1067193_Axial_rsfMRI_(Eyes_Open)_20181031091052_10.nii\n"
     ]
    },
    {
     "name": "stderr",
     "output_type": "stream",
     "text": [
      "stty: 'standard input': Inappropriate ioctl for device\n",
      "stty: 'standard input': Inappropriate ioctl for device\n",
      "stty: 'standard input': Inappropriate ioctl for device\n",
      "stty: 'standard input': Inappropriate ioctl for device\n",
      "stty: 'standard input': Inappropriate ioctl for device\n",
      "stty: 'standard input': Inappropriate ioctl for device\n"
     ]
    },
    {
     "name": "stdout",
     "output_type": "stream",
     "text": [
      "22 Running I1239413_Axial_rsfMRI_(Eyes_Open)_20191007115514_15.nii\n"
     ]
    },
    {
     "name": "stderr",
     "output_type": "stream",
     "text": [
      "stty: 'standard input': Inappropriate ioctl for device\n",
      "stty: 'standard input': Inappropriate ioctl for device\n",
      "stty: 'standard input': Inappropriate ioctl for device\n",
      "stty: 'standard input': Inappropriate ioctl for device\n",
      "stty: 'standard input': Inappropriate ioctl for device\n",
      "stty: 'standard input': Inappropriate ioctl for device\n"
     ]
    },
    {
     "name": "stdout",
     "output_type": "stream",
     "text": [
      "23 Running I1404920_Axial_rsfMRI_(Eyes_Open)_20210113092939_15.nii\n"
     ]
    },
    {
     "name": "stderr",
     "output_type": "stream",
     "text": [
      "stty: 'standard input': Inappropriate ioctl for device\n",
      "stty: 'standard input': Inappropriate ioctl for device\n",
      "stty: 'standard input': Inappropriate ioctl for device\n",
      "stty: 'standard input': Inappropriate ioctl for device\n",
      "stty: 'standard input': Inappropriate ioctl for device\n",
      "stty: 'standard input': Inappropriate ioctl for device\n"
     ]
    },
    {
     "name": "stdout",
     "output_type": "stream",
     "text": [
      "24 Running I1052050_Axial_rsfMRI_(Eyes_Open)_20180710152214_10.nii\n"
     ]
    },
    {
     "name": "stderr",
     "output_type": "stream",
     "text": [
      "stty: 'standard input': Inappropriate ioctl for device\n",
      "stty: 'standard input': Inappropriate ioctl for device\n",
      "stty: 'standard input': Inappropriate ioctl for device\n",
      "stty: 'standard input': Inappropriate ioctl for device\n",
      "stty: 'standard input': Inappropriate ioctl for device\n",
      "stty: 'standard input': Inappropriate ioctl for device\n"
     ]
    },
    {
     "name": "stdout",
     "output_type": "stream",
     "text": [
      "25 Running I1180762_Axial_rsfMRI_(Eyes_Open)_20190626070115_15.nii\n"
     ]
    },
    {
     "name": "stderr",
     "output_type": "stream",
     "text": [
      "stty: 'standard input': Inappropriate ioctl for device\n",
      "stty: 'standard input': Inappropriate ioctl for device\n",
      "stty: 'standard input': Inappropriate ioctl for device\n",
      "stty: 'standard input': Inappropriate ioctl for device\n",
      "stty: 'standard input': Inappropriate ioctl for device\n",
      "stty: 'standard input': Inappropriate ioctl for device\n"
     ]
    },
    {
     "name": "stdout",
     "output_type": "stream",
     "text": [
      "26 Running I1546256_Axial_rsfMRI_(Eyes_Open)_20211206095504_18.nii\n"
     ]
    },
    {
     "name": "stderr",
     "output_type": "stream",
     "text": [
      "stty: 'standard input': Inappropriate ioctl for device\n",
      "stty: 'standard input': Inappropriate ioctl for device\n",
      "stty: 'standard input': Inappropriate ioctl for device\n",
      "stty: 'standard input': Inappropriate ioctl for device\n",
      "stty: 'standard input': Inappropriate ioctl for device\n",
      "stty: 'standard input': Inappropriate ioctl for device\n"
     ]
    },
    {
     "name": "stdout",
     "output_type": "stream",
     "text": [
      "27 Running I863647_Axial_rsfMRI_(Eyes_Open)_20170613114333_11.nii\n"
     ]
    },
    {
     "name": "stderr",
     "output_type": "stream",
     "text": [
      "stty: 'standard input': Inappropriate ioctl for device\n",
      "stty: 'standard input': Inappropriate ioctl for device\n",
      "stty: 'standard input': Inappropriate ioctl for device\n",
      "stty: 'standard input': Inappropriate ioctl for device\n",
      "stty: 'standard input': Inappropriate ioctl for device\n",
      "stty: 'standard input': Inappropriate ioctl for device\n"
     ]
    },
    {
     "name": "stdout",
     "output_type": "stream",
     "text": [
      "28 Running I1091965_Axial_rsfMRI_(Eyes_Open)_20181219143105_10.nii\n"
     ]
    },
    {
     "name": "stderr",
     "output_type": "stream",
     "text": [
      "stty: 'standard input': Inappropriate ioctl for device\n",
      "stty: 'standard input': Inappropriate ioctl for device\n",
      "stty: 'standard input': Inappropriate ioctl for device\n",
      "stty: 'standard input': Inappropriate ioctl for device\n",
      "stty: 'standard input': Inappropriate ioctl for device\n",
      "stty: 'standard input': Inappropriate ioctl for device\n"
     ]
    },
    {
     "name": "stdout",
     "output_type": "stream",
     "text": [
      "29 Running I1181464_Axial_rsfMRI_(Eyes_Open)_20190625131656_11.nii\n"
     ]
    },
    {
     "name": "stderr",
     "output_type": "stream",
     "text": [
      "stty: 'standard input': Inappropriate ioctl for device\n",
      "stty: 'standard input': Inappropriate ioctl for device\n",
      "stty: 'standard input': Inappropriate ioctl for device\n",
      "stty: 'standard input': Inappropriate ioctl for device\n",
      "stty: 'standard input': Inappropriate ioctl for device\n",
      "stty: 'standard input': Inappropriate ioctl for device\n"
     ]
    },
    {
     "name": "stdout",
     "output_type": "stream",
     "text": [
      "30 Running I1460772_Axial_rsfMRI_(Eyes_Open)_20210623132105_11.nii\n"
     ]
    },
    {
     "name": "stderr",
     "output_type": "stream",
     "text": [
      "stty: 'standard input': Inappropriate ioctl for device\n",
      "stty: 'standard input': Inappropriate ioctl for device\n",
      "stty: 'standard input': Inappropriate ioctl for device\n",
      "stty: 'standard input': Inappropriate ioctl for device\n",
      "stty: 'standard input': Inappropriate ioctl for device\n",
      "stty: 'standard input': Inappropriate ioctl for device\n"
     ]
    },
    {
     "name": "stdout",
     "output_type": "stream",
     "text": [
      "31 Running I1083055_Axial_rsfMRI_(Eyes_Open)_20181204141304_11.nii\n"
     ]
    },
    {
     "name": "stderr",
     "output_type": "stream",
     "text": [
      "stty: 'standard input': Inappropriate ioctl for device\n",
      "stty: 'standard input': Inappropriate ioctl for device\n",
      "stty: 'standard input': Inappropriate ioctl for device\n",
      "stty: 'standard input': Inappropriate ioctl for device\n",
      "stty: 'standard input': Inappropriate ioctl for device\n",
      "stty: 'standard input': Inappropriate ioctl for device\n"
     ]
    },
    {
     "name": "stdout",
     "output_type": "stream",
     "text": [
      "32 Running I957749_Axial_rsfMRI_(Eyes_Open)_20180125112128_10.nii\n"
     ]
    },
    {
     "name": "stderr",
     "output_type": "stream",
     "text": [
      "stty: 'standard input': Inappropriate ioctl for device\n",
      "stty: 'standard input': Inappropriate ioctl for device\n",
      "stty: 'standard input': Inappropriate ioctl for device\n",
      "stty: 'standard input': Inappropriate ioctl for device\n",
      "stty: 'standard input': Inappropriate ioctl for device\n",
      "stty: 'standard input': Inappropriate ioctl for device\n"
     ]
    },
    {
     "name": "stdout",
     "output_type": "stream",
     "text": [
      "33 Running I886317_Axial_rsfMRI_(Eyes_Open)_20170412093709_7.nii\n"
     ]
    },
    {
     "name": "stderr",
     "output_type": "stream",
     "text": [
      "stty: 'standard input': Inappropriate ioctl for device\n",
      "stty: 'standard input': Inappropriate ioctl for device\n",
      "stty: 'standard input': Inappropriate ioctl for device\n",
      "stty: 'standard input': Inappropriate ioctl for device\n",
      "stty: 'standard input': Inappropriate ioctl for device\n",
      "stty: 'standard input': Inappropriate ioctl for device\n"
     ]
    },
    {
     "name": "stdout",
     "output_type": "stream",
     "text": [
      "34 Running I1154785_Axial_rsfMRI_(Eyes_Open)_20190415094625_7.nii\n"
     ]
    },
    {
     "name": "stderr",
     "output_type": "stream",
     "text": [
      "stty: 'standard input': Inappropriate ioctl for device\n",
      "stty: 'standard input': Inappropriate ioctl for device\n",
      "stty: 'standard input': Inappropriate ioctl for device\n",
      "stty: 'standard input': Inappropriate ioctl for device\n",
      "stty: 'standard input': Inappropriate ioctl for device\n",
      "stty: 'standard input': Inappropriate ioctl for device\n"
     ]
    },
    {
     "name": "stdout",
     "output_type": "stream",
     "text": [
      "35 Running I1430781_Axial_rsfMRI_(Eyes_Open)_20210412100120_7.nii\n"
     ]
    },
    {
     "name": "stderr",
     "output_type": "stream",
     "text": [
      "stty: 'standard input': Inappropriate ioctl for device\n",
      "stty: 'standard input': Inappropriate ioctl for device\n",
      "stty: 'standard input': Inappropriate ioctl for device\n",
      "stty: 'standard input': Inappropriate ioctl for device\n",
      "stty: 'standard input': Inappropriate ioctl for device\n",
      "stty: 'standard input': Inappropriate ioctl for device\n"
     ]
    },
    {
     "name": "stdout",
     "output_type": "stream",
     "text": [
      "36 Running I941141_Axial_rsfMRI_(Eyes_Open)_20171130113633_8.nii\n"
     ]
    },
    {
     "name": "stderr",
     "output_type": "stream",
     "text": [
      "stty: 'standard input': Inappropriate ioctl for device\n",
      "stty: 'standard input': Inappropriate ioctl for device\n",
      "stty: 'standard input': Inappropriate ioctl for device\n",
      "stty: 'standard input': Inappropriate ioctl for device\n",
      "stty: 'standard input': Inappropriate ioctl for device\n",
      "stty: 'standard input': Inappropriate ioctl for device\n"
     ]
    },
    {
     "name": "stdout",
     "output_type": "stream",
     "text": [
      "37 Running I1287076_Axial_rsfMRI_(Eyes_Open)_20200210135726_8.nii\n"
     ]
    },
    {
     "name": "stderr",
     "output_type": "stream",
     "text": [
      "stty: 'standard input': Inappropriate ioctl for device\n",
      "stty: 'standard input': Inappropriate ioctl for device\n",
      "stty: 'standard input': Inappropriate ioctl for device\n",
      "stty: 'standard input': Inappropriate ioctl for device\n",
      "stty: 'standard input': Inappropriate ioctl for device\n",
      "stty: 'standard input': Inappropriate ioctl for device\n"
     ]
    },
    {
     "name": "stdout",
     "output_type": "stream",
     "text": [
      "38 Running I988750_Axial_rsfMRI_(Eyes_Open)_20180418100927_10.nii\n"
     ]
    },
    {
     "name": "stderr",
     "output_type": "stream",
     "text": [
      "stty: 'standard input': Inappropriate ioctl for device\n",
      "stty: 'standard input': Inappropriate ioctl for device\n",
      "stty: 'standard input': Inappropriate ioctl for device\n",
      "stty: 'standard input': Inappropriate ioctl for device\n",
      "stty: 'standard input': Inappropriate ioctl for device\n",
      "stty: 'standard input': Inappropriate ioctl for device\n"
     ]
    },
    {
     "name": "stdout",
     "output_type": "stream",
     "text": [
      "39 Running I818413_Axial_rsfMRI_(Eyes_Open)_20170213124439_10.nii\n"
     ]
    },
    {
     "name": "stderr",
     "output_type": "stream",
     "text": [
      "stty: 'standard input': Inappropriate ioctl for device\n",
      "stty: 'standard input': Inappropriate ioctl for device\n",
      "stty: 'standard input': Inappropriate ioctl for device\n",
      "stty: 'standard input': Inappropriate ioctl for device\n",
      "stty: 'standard input': Inappropriate ioctl for device\n",
      "stty: 'standard input': Inappropriate ioctl for device\n"
     ]
    },
    {
     "name": "stdout",
     "output_type": "stream",
     "text": [
      "40 Running I944654_Axial_rsfMRI_(Eyes_Open)_20171212120609_10.nii\n"
     ]
    },
    {
     "name": "stderr",
     "output_type": "stream",
     "text": [
      "stty: 'standard input': Inappropriate ioctl for device\n",
      "stty: 'standard input': Inappropriate ioctl for device\n",
      "stty: 'standard input': Inappropriate ioctl for device\n",
      "stty: 'standard input': Inappropriate ioctl for device\n",
      "stty: 'standard input': Inappropriate ioctl for device\n",
      "stty: 'standard input': Inappropriate ioctl for device\n"
     ]
    },
    {
     "name": "stdout",
     "output_type": "stream",
     "text": [
      "41 Running I879561_Axial_rsfMRI_(Eyes_Open)_20170720094913_12.nii\n"
     ]
    },
    {
     "name": "stderr",
     "output_type": "stream",
     "text": [
      "stty: 'standard input': Inappropriate ioctl for device\n",
      "stty: 'standard input': Inappropriate ioctl for device\n",
      "stty: 'standard input': Inappropriate ioctl for device\n",
      "stty: 'standard input': Inappropriate ioctl for device\n",
      "stty: 'standard input': Inappropriate ioctl for device\n",
      "stty: 'standard input': Inappropriate ioctl for device\n"
     ]
    },
    {
     "name": "stdout",
     "output_type": "stream",
     "text": [
      "42 Running I1196902_Axial_rsfMRI_(Eyes_Open)_20190808092300_15.nii\n"
     ]
    },
    {
     "name": "stderr",
     "output_type": "stream",
     "text": [
      "stty: 'standard input': Inappropriate ioctl for device\n",
      "stty: 'standard input': Inappropriate ioctl for device\n",
      "stty: 'standard input': Inappropriate ioctl for device\n",
      "stty: 'standard input': Inappropriate ioctl for device\n",
      "stty: 'standard input': Inappropriate ioctl for device\n",
      "stty: 'standard input': Inappropriate ioctl for device\n"
     ]
    },
    {
     "name": "stdout",
     "output_type": "stream",
     "text": [
      "43 Running I949031_Axial_rsfMRI_(Eyes_Open)_20171221110455_14.nii\n"
     ]
    },
    {
     "name": "stderr",
     "output_type": "stream",
     "text": [
      "stty: 'standard input': Inappropriate ioctl for device\n",
      "stty: 'standard input': Inappropriate ioctl for device\n",
      "stty: 'standard input': Inappropriate ioctl for device\n",
      "stty: 'standard input': Inappropriate ioctl for device\n",
      "stty: 'standard input': Inappropriate ioctl for device\n",
      "stty: 'standard input': Inappropriate ioctl for device\n"
     ]
    },
    {
     "name": "stdout",
     "output_type": "stream",
     "text": [
      "44 Running I862015_Axial_rsfMRI_(Eyes_Open)_20170616121332_14.nii\n"
     ]
    },
    {
     "name": "stderr",
     "output_type": "stream",
     "text": [
      "stty: 'standard input': Inappropriate ioctl for device\n",
      "stty: 'standard input': Inappropriate ioctl for device\n",
      "stty: 'standard input': Inappropriate ioctl for device\n",
      "stty: 'standard input': Inappropriate ioctl for device\n",
      "stty: 'standard input': Inappropriate ioctl for device\n",
      "stty: 'standard input': Inappropriate ioctl for device\n"
     ]
    },
    {
     "name": "stdout",
     "output_type": "stream",
     "text": [
      "45 Running I881984_Axial_rsfMRI_(Eyes_Open)_20170802110653_13.nii\n"
     ]
    },
    {
     "name": "stderr",
     "output_type": "stream",
     "text": [
      "stty: 'standard input': Inappropriate ioctl for device\n",
      "stty: 'standard input': Inappropriate ioctl for device\n",
      "stty: 'standard input': Inappropriate ioctl for device\n",
      "stty: 'standard input': Inappropriate ioctl for device\n",
      "stty: 'standard input': Inappropriate ioctl for device\n",
      "stty: 'standard input': Inappropriate ioctl for device\n"
     ]
    },
    {
     "name": "stdout",
     "output_type": "stream",
     "text": [
      "46 Running I1025885_Axial_rsfMRI_(Eyes_Open)_20180725141501_12.nii\n"
     ]
    },
    {
     "name": "stderr",
     "output_type": "stream",
     "text": [
      "stty: 'standard input': Inappropriate ioctl for device\n",
      "stty: 'standard input': Inappropriate ioctl for device\n",
      "stty: 'standard input': Inappropriate ioctl for device\n",
      "stty: 'standard input': Inappropriate ioctl for device\n",
      "stty: 'standard input': Inappropriate ioctl for device\n",
      "stty: 'standard input': Inappropriate ioctl for device\n"
     ]
    },
    {
     "name": "stdout",
     "output_type": "stream",
     "text": [
      "47 Running I1225911_Axial_rsfMRI_(Eyes_Open)_20190912105326_12.nii\n"
     ]
    },
    {
     "name": "stderr",
     "output_type": "stream",
     "text": [
      "stty: 'standard input': Inappropriate ioctl for device\n",
      "stty: 'standard input': Inappropriate ioctl for device\n",
      "stty: 'standard input': Inappropriate ioctl for device\n",
      "stty: 'standard input': Inappropriate ioctl for device\n",
      "stty: 'standard input': Inappropriate ioctl for device\n",
      "stty: 'standard input': Inappropriate ioctl for device\n"
     ]
    },
    {
     "name": "stdout",
     "output_type": "stream",
     "text": [
      "48 Running I944319_Axial_rsfMRI_(Eyes_Open)_20171211092810_16.nii\n"
     ]
    },
    {
     "name": "stderr",
     "output_type": "stream",
     "text": [
      "stty: 'standard input': Inappropriate ioctl for device\n",
      "stty: 'standard input': Inappropriate ioctl for device\n",
      "stty: 'standard input': Inappropriate ioctl for device\n",
      "stty: 'standard input': Inappropriate ioctl for device\n",
      "stty: 'standard input': Inappropriate ioctl for device\n",
      "stty: 'standard input': Inappropriate ioctl for device\n"
     ]
    },
    {
     "name": "stdout",
     "output_type": "stream",
     "text": [
      "49 Running I849894_Axial_rsfMRI_(Eyes_Open)_20170509145400_13.nii\n"
     ]
    },
    {
     "name": "stderr",
     "output_type": "stream",
     "text": [
      "stty: 'standard input': Inappropriate ioctl for device\n",
      "stty: 'standard input': Inappropriate ioctl for device\n",
      "stty: 'standard input': Inappropriate ioctl for device\n",
      "stty: 'standard input': Inappropriate ioctl for device\n",
      "stty: 'standard input': Inappropriate ioctl for device\n",
      "stty: 'standard input': Inappropriate ioctl for device\n"
     ]
    },
    {
     "name": "stdout",
     "output_type": "stream",
     "text": [
      "50 Running I996828_Axial_rsfMRI_(Eyes_Open)_20180514095223_17.nii\n"
     ]
    },
    {
     "name": "stderr",
     "output_type": "stream",
     "text": [
      "stty: 'standard input': Inappropriate ioctl for device\n",
      "stty: 'standard input': Inappropriate ioctl for device\n",
      "stty: 'standard input': Inappropriate ioctl for device\n",
      "stty: 'standard input': Inappropriate ioctl for device\n",
      "stty: 'standard input': Inappropriate ioctl for device\n",
      "stty: 'standard input': Inappropriate ioctl for device\n"
     ]
    },
    {
     "name": "stdout",
     "output_type": "stream",
     "text": [
      "51 Running I1174916_Axial_rsfMRI_(Eyes_Open)_20190611100009_12.nii\n"
     ]
    },
    {
     "name": "stderr",
     "output_type": "stream",
     "text": [
      "stty: 'standard input': Inappropriate ioctl for device\n",
      "stty: 'standard input': Inappropriate ioctl for device\n",
      "stty: 'standard input': Inappropriate ioctl for device\n",
      "stty: 'standard input': Inappropriate ioctl for device\n",
      "stty: 'standard input': Inappropriate ioctl for device\n",
      "stty: 'standard input': Inappropriate ioctl for device\n"
     ]
    },
    {
     "name": "stdout",
     "output_type": "stream",
     "text": [
      "52 Running I879572_Axial_rsfMRI_(Eyes_Open)_20170724141954_14.nii\n"
     ]
    },
    {
     "name": "stderr",
     "output_type": "stream",
     "text": [
      "stty: 'standard input': Inappropriate ioctl for device\n",
      "stty: 'standard input': Inappropriate ioctl for device\n",
      "stty: 'standard input': Inappropriate ioctl for device\n",
      "stty: 'standard input': Inappropriate ioctl for device\n",
      "stty: 'standard input': Inappropriate ioctl for device\n",
      "stty: 'standard input': Inappropriate ioctl for device\n"
     ]
    },
    {
     "name": "stdout",
     "output_type": "stream",
     "text": [
      "53 Running I974938_Axial_rsfMRI_(Eyes_Open)_20180319093622_14.nii\n"
     ]
    },
    {
     "name": "stderr",
     "output_type": "stream",
     "text": [
      "stty: 'standard input': Inappropriate ioctl for device\n",
      "stty: 'standard input': Inappropriate ioctl for device\n",
      "stty: 'standard input': Inappropriate ioctl for device\n",
      "stty: 'standard input': Inappropriate ioctl for device\n",
      "stty: 'standard input': Inappropriate ioctl for device\n",
      "stty: 'standard input': Inappropriate ioctl for device\n"
     ]
    },
    {
     "name": "stdout",
     "output_type": "stream",
     "text": [
      "54 Running I1174899_Axial_rsfMRI_(Eyes_Open)_20190611105715_12.nii\n"
     ]
    },
    {
     "name": "stderr",
     "output_type": "stream",
     "text": [
      "stty: 'standard input': Inappropriate ioctl for device\n",
      "stty: 'standard input': Inappropriate ioctl for device\n",
      "stty: 'standard input': Inappropriate ioctl for device\n",
      "stty: 'standard input': Inappropriate ioctl for device\n",
      "stty: 'standard input': Inappropriate ioctl for device\n",
      "stty: 'standard input': Inappropriate ioctl for device\n"
     ]
    },
    {
     "name": "stdout",
     "output_type": "stream",
     "text": [
      "55 Running I981034_Axial_rsfMRI_(Eyes_Open)_20180404093739_12.nii\n"
     ]
    },
    {
     "name": "stderr",
     "output_type": "stream",
     "text": [
      "stty: 'standard input': Inappropriate ioctl for device\n",
      "stty: 'standard input': Inappropriate ioctl for device\n",
      "stty: 'standard input': Inappropriate ioctl for device\n",
      "stty: 'standard input': Inappropriate ioctl for device\n",
      "stty: 'standard input': Inappropriate ioctl for device\n",
      "stty: 'standard input': Inappropriate ioctl for device\n"
     ]
    },
    {
     "name": "stdout",
     "output_type": "stream",
     "text": [
      "56 Running I1181394_Axial_rsfMRI_(Eyes_Open)_20190627124549_13.nii\n"
     ]
    },
    {
     "name": "stderr",
     "output_type": "stream",
     "text": [
      "stty: 'standard input': Inappropriate ioctl for device\n",
      "stty: 'standard input': Inappropriate ioctl for device\n",
      "stty: 'standard input': Inappropriate ioctl for device\n",
      "stty: 'standard input': Inappropriate ioctl for device\n",
      "stty: 'standard input': Inappropriate ioctl for device\n",
      "stty: 'standard input': Inappropriate ioctl for device\n"
     ]
    },
    {
     "name": "stdout",
     "output_type": "stream",
     "text": [
      "57 Running I993281_Axial_rsfMRI_(Eyes_Open)_20180507100939_12.nii\n"
     ]
    },
    {
     "name": "stderr",
     "output_type": "stream",
     "text": [
      "stty: 'standard input': Inappropriate ioctl for device\n",
      "stty: 'standard input': Inappropriate ioctl for device\n",
      "stty: 'standard input': Inappropriate ioctl for device\n",
      "stty: 'standard input': Inappropriate ioctl for device\n",
      "stty: 'standard input': Inappropriate ioctl for device\n",
      "stty: 'standard input': Inappropriate ioctl for device\n"
     ]
    },
    {
     "name": "stdout",
     "output_type": "stream",
     "text": [
      "58 Running I1193763_Axial_rsfMRI_(Eyes_Open)_20190731093544_13.nii\n"
     ]
    },
    {
     "name": "stderr",
     "output_type": "stream",
     "text": [
      "stty: 'standard input': Inappropriate ioctl for device\n",
      "stty: 'standard input': Inappropriate ioctl for device\n",
      "stty: 'standard input': Inappropriate ioctl for device\n",
      "stty: 'standard input': Inappropriate ioctl for device\n",
      "stty: 'standard input': Inappropriate ioctl for device\n",
      "stty: 'standard input': Inappropriate ioctl for device\n"
     ]
    },
    {
     "name": "stdout",
     "output_type": "stream",
     "text": [
      "59 Running I992207_Axial_rsfMRI_(Eyes_Open)_20180503102830_14.nii\n"
     ]
    },
    {
     "name": "stderr",
     "output_type": "stream",
     "text": [
      "stty: 'standard input': Inappropriate ioctl for device\n",
      "stty: 'standard input': Inappropriate ioctl for device\n",
      "stty: 'standard input': Inappropriate ioctl for device\n",
      "stty: 'standard input': Inappropriate ioctl for device\n",
      "stty: 'standard input': Inappropriate ioctl for device\n",
      "stty: 'standard input': Inappropriate ioctl for device\n"
     ]
    },
    {
     "name": "stdout",
     "output_type": "stream",
     "text": [
      "60 Running I1061839_Axial_rsfMRI_(Eyes_Open)_20181019074155_12.nii\n"
     ]
    },
    {
     "name": "stderr",
     "output_type": "stream",
     "text": [
      "stty: 'standard input': Inappropriate ioctl for device\n",
      "stty: 'standard input': Inappropriate ioctl for device\n",
      "stty: 'standard input': Inappropriate ioctl for device\n",
      "stty: 'standard input': Inappropriate ioctl for device\n",
      "stty: 'standard input': Inappropriate ioctl for device\n",
      "stty: 'standard input': Inappropriate ioctl for device\n"
     ]
    },
    {
     "name": "stdout",
     "output_type": "stream",
     "text": [
      "61 Running I1259261_Axial_rsfMRI_(Eyes_Open)_20191121135536_12.nii\n"
     ]
    },
    {
     "name": "stderr",
     "output_type": "stream",
     "text": [
      "stty: 'standard input': Inappropriate ioctl for device\n",
      "stty: 'standard input': Inappropriate ioctl for device\n",
      "stty: 'standard input': Inappropriate ioctl for device\n",
      "stty: 'standard input': Inappropriate ioctl for device\n",
      "stty: 'standard input': Inappropriate ioctl for device\n",
      "stty: 'standard input': Inappropriate ioctl for device\n"
     ]
    },
    {
     "name": "stdout",
     "output_type": "stream",
     "text": [
      "62 Running I1058577_Axial_rsfMRI_(Eyes_Open)_20181011074812_13.nii\n"
     ]
    },
    {
     "name": "stderr",
     "output_type": "stream",
     "text": [
      "stty: 'standard input': Inappropriate ioctl for device\n",
      "stty: 'standard input': Inappropriate ioctl for device\n",
      "stty: 'standard input': Inappropriate ioctl for device\n",
      "stty: 'standard input': Inappropriate ioctl for device\n",
      "stty: 'standard input': Inappropriate ioctl for device\n",
      "stty: 'standard input': Inappropriate ioctl for device\n"
     ]
    },
    {
     "name": "stdout",
     "output_type": "stream",
     "text": [
      "63 Running I1253904_Axial_rsfMRI_(Eyes_Open)_20191107105859_13.nii\n"
     ]
    },
    {
     "name": "stderr",
     "output_type": "stream",
     "text": [
      "stty: 'standard input': Inappropriate ioctl for device\n",
      "stty: 'standard input': Inappropriate ioctl for device\n",
      "stty: 'standard input': Inappropriate ioctl for device\n",
      "stty: 'standard input': Inappropriate ioctl for device\n",
      "stty: 'standard input': Inappropriate ioctl for device\n",
      "stty: 'standard input': Inappropriate ioctl for device\n"
     ]
    },
    {
     "name": "stdout",
     "output_type": "stream",
     "text": [
      "64 Running I1147982_Axial_rsfMRI_(Eyes_Open)_20190327083818_13.nii\n"
     ]
    },
    {
     "name": "stderr",
     "output_type": "stream",
     "text": [
      "stty: 'standard input': Inappropriate ioctl for device\n",
      "stty: 'standard input': Inappropriate ioctl for device\n",
      "stty: 'standard input': Inappropriate ioctl for device\n",
      "stty: 'standard input': Inappropriate ioctl for device\n",
      "stty: 'standard input': Inappropriate ioctl for device\n",
      "stty: 'standard input': Inappropriate ioctl for device\n"
     ]
    },
    {
     "name": "stdout",
     "output_type": "stream",
     "text": [
      "65 Running I1154756_Axial_rsfMRI_(Eyes_Open)_20190415110505_12.nii\n"
     ]
    },
    {
     "name": "stderr",
     "output_type": "stream",
     "text": [
      "stty: 'standard input': Inappropriate ioctl for device\n",
      "stty: 'standard input': Inappropriate ioctl for device\n",
      "stty: 'standard input': Inappropriate ioctl for device\n",
      "stty: 'standard input': Inappropriate ioctl for device\n",
      "stty: 'standard input': Inappropriate ioctl for device\n",
      "stty: 'standard input': Inappropriate ioctl for device\n"
     ]
    },
    {
     "name": "stdout",
     "output_type": "stream",
     "text": [
      "66 Running I1154774_Axial_rsfMRI_(Eyes_Open)_20190415140043_12.nii\n"
     ]
    },
    {
     "name": "stderr",
     "output_type": "stream",
     "text": [
      "stty: 'standard input': Inappropriate ioctl for device\n",
      "stty: 'standard input': Inappropriate ioctl for device\n",
      "stty: 'standard input': Inappropriate ioctl for device\n",
      "stty: 'standard input': Inappropriate ioctl for device\n",
      "stty: 'standard input': Inappropriate ioctl for device\n",
      "stty: 'standard input': Inappropriate ioctl for device\n"
     ]
    },
    {
     "name": "stdout",
     "output_type": "stream",
     "text": [
      "67 Running I1152423_Axial_rsfMRI_(Eyes_Open)_20190409112536_12.nii\n"
     ]
    },
    {
     "name": "stderr",
     "output_type": "stream",
     "text": [
      "stty: 'standard input': Inappropriate ioctl for device\n",
      "stty: 'standard input': Inappropriate ioctl for device\n",
      "stty: 'standard input': Inappropriate ioctl for device\n",
      "stty: 'standard input': Inappropriate ioctl for device\n",
      "stty: 'standard input': Inappropriate ioctl for device\n",
      "stty: 'standard input': Inappropriate ioctl for device\n"
     ]
    },
    {
     "name": "stdout",
     "output_type": "stream",
     "text": [
      "68 Running I1157195_Axial_rsfMRI_(Eyes_Open)_20190423090313_12.nii\n"
     ]
    },
    {
     "name": "stderr",
     "output_type": "stream",
     "text": [
      "stty: 'standard input': Inappropriate ioctl for device\n",
      "stty: 'standard input': Inappropriate ioctl for device\n",
      "stty: 'standard input': Inappropriate ioctl for device\n",
      "stty: 'standard input': Inappropriate ioctl for device\n",
      "stty: 'standard input': Inappropriate ioctl for device\n",
      "stty: 'standard input': Inappropriate ioctl for device\n"
     ]
    },
    {
     "name": "stdout",
     "output_type": "stream",
     "text": [
      "69 Running I1230903_Axial_rsfMRI_(Eyes_Open)_20190924151324_12.nii\n"
     ]
    },
    {
     "name": "stderr",
     "output_type": "stream",
     "text": [
      "stty: 'standard input': Inappropriate ioctl for device\n",
      "stty: 'standard input': Inappropriate ioctl for device\n",
      "stty: 'standard input': Inappropriate ioctl for device\n",
      "stty: 'standard input': Inappropriate ioctl for device\n",
      "stty: 'standard input': Inappropriate ioctl for device\n",
      "stty: 'standard input': Inappropriate ioctl for device\n"
     ]
    },
    {
     "name": "stdout",
     "output_type": "stream",
     "text": [
      "70 Running I1295277_Axial_rsfMRI_(Eyes_Open)_20200224102000_12.nii\n"
     ]
    },
    {
     "name": "stderr",
     "output_type": "stream",
     "text": [
      "stty: 'standard input': Inappropriate ioctl for device\n",
      "stty: 'standard input': Inappropriate ioctl for device\n",
      "stty: 'standard input': Inappropriate ioctl for device\n",
      "stty: 'standard input': Inappropriate ioctl for device\n",
      "stty: 'standard input': Inappropriate ioctl for device\n",
      "stty: 'standard input': Inappropriate ioctl for device\n"
     ]
    },
    {
     "name": "stdout",
     "output_type": "stream",
     "text": [
      "71 Running I1117702_Axial_rsfMRI_(Eyes_Open)_20190117150946_8.nii\n"
     ]
    },
    {
     "name": "stderr",
     "output_type": "stream",
     "text": [
      "stty: 'standard input': Inappropriate ioctl for device\n",
      "stty: 'standard input': Inappropriate ioctl for device\n",
      "stty: 'standard input': Inappropriate ioctl for device\n",
      "stty: 'standard input': Inappropriate ioctl for device\n",
      "stty: 'standard input': Inappropriate ioctl for device\n",
      "stty: 'standard input': Inappropriate ioctl for device\n"
     ]
    },
    {
     "name": "stdout",
     "output_type": "stream",
     "text": [
      "72 Running I1285189_Axial_rsfMRI_(Eyes_Open)_20200204131307_9.nii\n"
     ]
    },
    {
     "name": "stderr",
     "output_type": "stream",
     "text": [
      "stty: 'standard input': Inappropriate ioctl for device\n",
      "stty: 'standard input': Inappropriate ioctl for device\n",
      "stty: 'standard input': Inappropriate ioctl for device\n",
      "stty: 'standard input': Inappropriate ioctl for device\n",
      "stty: 'standard input': Inappropriate ioctl for device\n",
      "stty: 'standard input': Inappropriate ioctl for device\n"
     ]
    },
    {
     "name": "stdout",
     "output_type": "stream",
     "text": [
      "73 Running I1475677_Axial_rsfMRI_(Eyes_Open)_20210507115710_15.nii\n"
     ]
    },
    {
     "name": "stderr",
     "output_type": "stream",
     "text": [
      "stty: 'standard input': Inappropriate ioctl for device\n",
      "stty: 'standard input': Inappropriate ioctl for device\n",
      "stty: 'standard input': Inappropriate ioctl for device\n",
      "stty: 'standard input': Inappropriate ioctl for device\n",
      "stty: 'standard input': Inappropriate ioctl for device\n",
      "stty: 'standard input': Inappropriate ioctl for device\n"
     ]
    },
    {
     "name": "stdout",
     "output_type": "stream",
     "text": [
      "74 Running I916367_Axial_rsfMRI_(Eyes_Open)_20171011141920_9.nii\n"
     ]
    },
    {
     "name": "stderr",
     "output_type": "stream",
     "text": [
      "stty: 'standard input': Inappropriate ioctl for device\n",
      "stty: 'standard input': Inappropriate ioctl for device\n",
      "stty: 'standard input': Inappropriate ioctl for device\n",
      "stty: 'standard input': Inappropriate ioctl for device\n",
      "stty: 'standard input': Inappropriate ioctl for device\n",
      "stty: 'standard input': Inappropriate ioctl for device\n"
     ]
    },
    {
     "name": "stdout",
     "output_type": "stream",
     "text": [
      "75 Running I1348102_Axial_rsfMRI_(Eyes_Open)_20201012131130_15.nii\n"
     ]
    },
    {
     "name": "stderr",
     "output_type": "stream",
     "text": [
      "stty: 'standard input': Inappropriate ioctl for device\n",
      "stty: 'standard input': Inappropriate ioctl for device\n",
      "stty: 'standard input': Inappropriate ioctl for device\n",
      "stty: 'standard input': Inappropriate ioctl for device\n",
      "stty: 'standard input': Inappropriate ioctl for device\n",
      "stty: 'standard input': Inappropriate ioctl for device\n"
     ]
    },
    {
     "name": "stdout",
     "output_type": "stream",
     "text": [
      "76 Running I874881_Axial_rsfMRI_(Eyes_Open)_20170713171014_9.nii\n"
     ]
    },
    {
     "name": "stderr",
     "output_type": "stream",
     "text": [
      "stty: 'standard input': Inappropriate ioctl for device\n",
      "stty: 'standard input': Inappropriate ioctl for device\n",
      "stty: 'standard input': Inappropriate ioctl for device\n",
      "stty: 'standard input': Inappropriate ioctl for device\n",
      "stty: 'standard input': Inappropriate ioctl for device\n",
      "stty: 'standard input': Inappropriate ioctl for device\n"
     ]
    },
    {
     "name": "stdout",
     "output_type": "stream",
     "text": [
      "77 Running I1252028_Axial_rsfMRI_(Eyes_Open)_20191031154655_15.nii\n"
     ]
    },
    {
     "name": "stderr",
     "output_type": "stream",
     "text": [
      "stty: 'standard input': Inappropriate ioctl for device\n",
      "stty: 'standard input': Inappropriate ioctl for device\n",
      "stty: 'standard input': Inappropriate ioctl for device\n",
      "stty: 'standard input': Inappropriate ioctl for device\n",
      "stty: 'standard input': Inappropriate ioctl for device\n",
      "stty: 'standard input': Inappropriate ioctl for device\n"
     ]
    },
    {
     "name": "stdout",
     "output_type": "stream",
     "text": [
      "78 Running I892761_Axial_rsfMRI_(Eyes_Open)_20170814151533_8.nii\n"
     ]
    },
    {
     "name": "stderr",
     "output_type": "stream",
     "text": [
      "stty: 'standard input': Inappropriate ioctl for device\n",
      "stty: 'standard input': Inappropriate ioctl for device\n",
      "stty: 'standard input': Inappropriate ioctl for device\n",
      "stty: 'standard input': Inappropriate ioctl for device\n",
      "stty: 'standard input': Inappropriate ioctl for device\n",
      "stty: 'standard input': Inappropriate ioctl for device\n"
     ]
    },
    {
     "name": "stdout",
     "output_type": "stream",
     "text": [
      "79 Running I1256139_Axial_rsfMRI_(Eyes_Open)_20191113153546_11.nii\n"
     ]
    },
    {
     "name": "stderr",
     "output_type": "stream",
     "text": [
      "stty: 'standard input': Inappropriate ioctl for device\n",
      "stty: 'standard input': Inappropriate ioctl for device\n",
      "stty: 'standard input': Inappropriate ioctl for device\n",
      "stty: 'standard input': Inappropriate ioctl for device\n",
      "stty: 'standard input': Inappropriate ioctl for device\n",
      "stty: 'standard input': Inappropriate ioctl for device\n"
     ]
    },
    {
     "name": "stdout",
     "output_type": "stream",
     "text": [
      "80 Running I892773_Axial_rsfMRI_(Eyes_Open)_20170817131706_9.nii\n"
     ]
    },
    {
     "name": "stderr",
     "output_type": "stream",
     "text": [
      "stty: 'standard input': Inappropriate ioctl for device\n",
      "stty: 'standard input': Inappropriate ioctl for device\n",
      "stty: 'standard input': Inappropriate ioctl for device\n",
      "stty: 'standard input': Inappropriate ioctl for device\n",
      "stty: 'standard input': Inappropriate ioctl for device\n",
      "stty: 'standard input': Inappropriate ioctl for device\n"
     ]
    },
    {
     "name": "stdout",
     "output_type": "stream",
     "text": [
      "81 Running I1280186_Axial_rsfMRI_(Eyes_Open)_20200127141728_15.nii\n"
     ]
    },
    {
     "name": "stderr",
     "output_type": "stream",
     "text": [
      "stty: 'standard input': Inappropriate ioctl for device\n",
      "stty: 'standard input': Inappropriate ioctl for device\n",
      "stty: 'standard input': Inappropriate ioctl for device\n",
      "stty: 'standard input': Inappropriate ioctl for device\n",
      "stty: 'standard input': Inappropriate ioctl for device\n",
      "stty: 'standard input': Inappropriate ioctl for device\n"
     ]
    },
    {
     "name": "stdout",
     "output_type": "stream",
     "text": [
      "82 Running I827363_Axial_rsfMRI_(Eyes_Open)_20170307140804_15.nii\n"
     ]
    },
    {
     "name": "stderr",
     "output_type": "stream",
     "text": [
      "stty: 'standard input': Inappropriate ioctl for device\n",
      "stty: 'standard input': Inappropriate ioctl for device\n",
      "stty: 'standard input': Inappropriate ioctl for device\n",
      "stty: 'standard input': Inappropriate ioctl for device\n",
      "stty: 'standard input': Inappropriate ioctl for device\n",
      "stty: 'standard input': Inappropriate ioctl for device\n"
     ]
    },
    {
     "name": "stdout",
     "output_type": "stream",
     "text": [
      "83 Running I848004_Axial_rsfMRI_(Eyes_Open)_20170503132524_15.nii\n"
     ]
    },
    {
     "name": "stderr",
     "output_type": "stream",
     "text": [
      "stty: 'standard input': Inappropriate ioctl for device\n",
      "stty: 'standard input': Inappropriate ioctl for device\n",
      "stty: 'standard input': Inappropriate ioctl for device\n",
      "stty: 'standard input': Inappropriate ioctl for device\n",
      "stty: 'standard input': Inappropriate ioctl for device\n",
      "stty: 'standard input': Inappropriate ioctl for device\n"
     ]
    },
    {
     "name": "stdout",
     "output_type": "stream",
     "text": [
      "84 Running I1001982_Axial_rsfMRI_(Eyes_Open)_20180522092929_13.nii\n"
     ]
    },
    {
     "name": "stderr",
     "output_type": "stream",
     "text": [
      "stty: 'standard input': Inappropriate ioctl for device\n",
      "stty: 'standard input': Inappropriate ioctl for device\n",
      "stty: 'standard input': Inappropriate ioctl for device\n",
      "stty: 'standard input': Inappropriate ioctl for device\n",
      "stty: 'standard input': Inappropriate ioctl for device\n",
      "stty: 'standard input': Inappropriate ioctl for device\n"
     ]
    },
    {
     "name": "stdout",
     "output_type": "stream",
     "text": [
      "85 Running I854586_Axial_rsfMRI_(Eyes_Open)_20170522133204_15.nii\n"
     ]
    },
    {
     "name": "stderr",
     "output_type": "stream",
     "text": [
      "stty: 'standard input': Inappropriate ioctl for device\n",
      "stty: 'standard input': Inappropriate ioctl for device\n",
      "stty: 'standard input': Inappropriate ioctl for device\n",
      "stty: 'standard input': Inappropriate ioctl for device\n",
      "stty: 'standard input': Inappropriate ioctl for device\n",
      "stty: 'standard input': Inappropriate ioctl for device\n"
     ]
    },
    {
     "name": "stdout",
     "output_type": "stream",
     "text": [
      "86 Running I1010818_Axial_rsfMRI_(Eyes_Open)_20180614075810_11.nii\n"
     ]
    },
    {
     "name": "stderr",
     "output_type": "stream",
     "text": [
      "stty: 'standard input': Inappropriate ioctl for device\n",
      "stty: 'standard input': Inappropriate ioctl for device\n",
      "stty: 'standard input': Inappropriate ioctl for device\n",
      "stty: 'standard input': Inappropriate ioctl for device\n",
      "stty: 'standard input': Inappropriate ioctl for device\n",
      "stty: 'standard input': Inappropriate ioctl for device\n"
     ]
    },
    {
     "name": "stdout",
     "output_type": "stream",
     "text": [
      "87 Running I857837_Axial_rsfMRI_(Eyes_Open)_20170531131402_15.nii\n"
     ]
    },
    {
     "name": "stderr",
     "output_type": "stream",
     "text": [
      "stty: 'standard input': Inappropriate ioctl for device\n",
      "stty: 'standard input': Inappropriate ioctl for device\n",
      "stty: 'standard input': Inappropriate ioctl for device\n",
      "stty: 'standard input': Inappropriate ioctl for device\n",
      "stty: 'standard input': Inappropriate ioctl for device\n",
      "stty: 'standard input': Inappropriate ioctl for device\n"
     ]
    },
    {
     "name": "stdout",
     "output_type": "stream",
     "text": [
      "88 Running I884810_Axial_rsfMRI_(Eyes_Open)_20170807080231_10.nii\n"
     ]
    },
    {
     "name": "stderr",
     "output_type": "stream",
     "text": [
      "stty: 'standard input': Inappropriate ioctl for device\n",
      "stty: 'standard input': Inappropriate ioctl for device\n",
      "stty: 'standard input': Inappropriate ioctl for device\n",
      "stty: 'standard input': Inappropriate ioctl for device\n",
      "stty: 'standard input': Inappropriate ioctl for device\n",
      "stty: 'standard input': Inappropriate ioctl for device\n"
     ]
    },
    {
     "name": "stdout",
     "output_type": "stream",
     "text": [
      "89 Running I1042948_Axial_rsfMRI_(Eyes_Open)_20180810081557_10.nii\n"
     ]
    },
    {
     "name": "stderr",
     "output_type": "stream",
     "text": [
      "stty: 'standard input': Inappropriate ioctl for device\n",
      "stty: 'standard input': Inappropriate ioctl for device\n",
      "stty: 'standard input': Inappropriate ioctl for device\n",
      "stty: 'standard input': Inappropriate ioctl for device\n",
      "stty: 'standard input': Inappropriate ioctl for device\n",
      "stty: 'standard input': Inappropriate ioctl for device\n"
     ]
    },
    {
     "name": "stdout",
     "output_type": "stream",
     "text": [
      "90 Running I835742_Axial_rsfMRI_(Eyes_Open)_20170331104049_15.nii\n"
     ]
    },
    {
     "name": "stderr",
     "output_type": "stream",
     "text": [
      "stty: 'standard input': Inappropriate ioctl for device\n",
      "stty: 'standard input': Inappropriate ioctl for device\n",
      "stty: 'standard input': Inappropriate ioctl for device\n",
      "stty: 'standard input': Inappropriate ioctl for device\n",
      "stty: 'standard input': Inappropriate ioctl for device\n",
      "stty: 'standard input': Inappropriate ioctl for device\n"
     ]
    },
    {
     "name": "stdout",
     "output_type": "stream",
     "text": [
      "91 Running I988542_Axial_rsfMRI_(Eyes_Open)_20180418081255_10.nii\n"
     ]
    },
    {
     "name": "stderr",
     "output_type": "stream",
     "text": [
      "stty: 'standard input': Inappropriate ioctl for device\n",
      "stty: 'standard input': Inappropriate ioctl for device\n",
      "stty: 'standard input': Inappropriate ioctl for device\n",
      "stty: 'standard input': Inappropriate ioctl for device\n",
      "stty: 'standard input': Inappropriate ioctl for device\n",
      "stty: 'standard input': Inappropriate ioctl for device\n"
     ]
    },
    {
     "name": "stdout",
     "output_type": "stream",
     "text": [
      "92 Running I840237_Axial_rsfMRI_(Eyes_Open)_20170417112208_15.nii\n"
     ]
    }
   ],
   "source": [
    "from pathlib import Path\n",
    "import re\n",
    "import os\n",
    "\n",
    "files_complete = 0\n",
    "\n",
    "def proc_sub(spath):\n",
    "    global files_complete\n",
    "    if not spath.exists():\n",
    "        return\n",
    "    for spath2 in spath.iterdir():\n",
    "        if spath2.is_dir():\n",
    "            proc_sub(spath2)\n",
    "            continue\n",
    "        m = re.match('.*[^a].nii$', spath2.name)\n",
    "        if not m:\n",
    "            continue\n",
    "        m2 = re.match('^(y_r|r|mean).*', spath2.name)\n",
    "        m3 = re.match('^wr.*', spath2.name)\n",
    "        if m2:\n",
    "            todel = str(spath2.parent) + '/' + m2.group(0)\n",
    "            os.unlink(todel)\n",
    "            print(f'Deleted {todel}')\n",
    "            continue\n",
    "        if m3:\n",
    "            continue\n",
    "            \n",
    "#         print(f'Deleting {m.group(0)}')\n",
    "#         todel = str(spath2.parent) + '/' + m.group(0)\n",
    "#         os.unlink(todel)\n",
    "#         continue\n",
    "            \n",
    "        rfile = str(spath2.parent) + '/r' + spath2.name\n",
    "        wrfile = str(spath2.parent) + '/wr' + spath2.name\n",
    "        \n",
    "        if Path(wrfile).exists():\n",
    "            print(f'{files_complete} Already have {Path(wrfile).name}')\n",
    "            files_complete += 1\n",
    "            continue\n",
    "\n",
    "        print(f'{files_complete} Running {spath2.name}')\n",
    "\n",
    "        try:\n",
    "            realign = spm.Realign()\n",
    "            realign.inputs.in_files = str(spath2)\n",
    "            realign.inputs.register_to_mean = True\n",
    "            realign.run()\n",
    "\n",
    "            norm12 = spm.Normalize12()\n",
    "            norm12.inputs.image_to_align = rfile\n",
    "            norm12.inputs.apply_to_files = rfile\n",
    "            norm12.run()\n",
    "        \n",
    "            files_complete += 1\n",
    "            \n",
    "        except:\n",
    "            print('Got exception!')\n",
    "\n",
    "adnidir = '/run/media/anton/AntonData1/ADNI/fMRI/ADNI'\n",
    "places = ['Axial_MB_rsfMRI__Eyes_Open_', 'Resting_State_fMRI', 'Axial_rsfMRI__Eyes_Open_']\n",
    "\n",
    "for sub in Path(adnidir).iterdir():\n",
    "    if not sub.is_dir():\n",
    "        continue\n",
    "    proc_sub(sub / places[-1])\n",
    "            \n",
    "print(files_complete)"
   ]
  },
  {
   "cell_type": "code",
   "execution_count": null,
   "id": "ff865265",
   "metadata": {},
   "outputs": [],
   "source": []
  }
 ],
 "metadata": {
  "kernelspec": {
   "display_name": "Python 3 (ipykernel)",
   "language": "python",
   "name": "python3"
  },
  "language_info": {
   "codemirror_mode": {
    "name": "ipython",
    "version": 3
   },
   "file_extension": ".py",
   "mimetype": "text/x-python",
   "name": "python",
   "nbconvert_exporter": "python",
   "pygments_lexer": "ipython3",
   "version": "3.10.9"
  }
 },
 "nbformat": 4,
 "nbformat_minor": 5
}
