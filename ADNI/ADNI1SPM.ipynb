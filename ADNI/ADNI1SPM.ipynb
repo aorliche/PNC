{
 "cells": [
  {
   "cell_type": "code",
   "execution_count": 1,
   "id": "234b006e",
   "metadata": {},
   "outputs": [
    {
     "name": "stderr",
     "output_type": "stream",
     "text": [
      "stty: 'standard input': Inappropriate ioctl for device\n",
      "stty: 'standard input': Inappropriate ioctl for device\n",
      "stty: 'standard input': Inappropriate ioctl for device\n"
     ]
    },
    {
     "data": {
      "text/plain": [
       "'12.7771'"
      ]
     },
     "execution_count": 1,
     "metadata": {},
     "output_type": "execute_result"
    }
   ],
   "source": [
    "from nipype.interfaces import spm\n",
    "\n",
    "spm.SPMCommand.set_mlab_paths(paths='/home/anton/Apps/SPM/spm12/')\n",
    "spm.SPMCommand().version"
   ]
  },
  {
   "cell_type": "code",
   "execution_count": 2,
   "id": "c03c888e",
   "metadata": {},
   "outputs": [
    {
     "name": "stdout",
     "output_type": "stream",
     "text": [
      "Already have ADNI_002_S_0295_MR_MPR__GradWarp__B1_Correction__N3__Scaled_Br_20070319113623975_S13408_I45108.nii\n",
      "Already have ADNI_002_S_0295_MR_MPR__GradWarp__B1_Correction__N3__Scaled_Br_20070219173850420_S21856_I40966.nii\n",
      "Already have ADNI_002_S_0295_MR_MPR__GradWarp__B1_Correction__N3__Scaled_Br_20070802163833409_S32678_I64025.nii\n",
      "Already have ADNI_002_S_0295_MR_MPR__GradWarp__B1_Correction__N3__Scaled_2_Br_20081001114556321_S13408_I118671.nii\n",
      "Already have ADNI_002_S_0295_MR_MPR__GradWarp__B1_Correction__N3__Scaled_2_Br_20081001120532722_S21856_I118692.nii\n",
      "Already have ADNI_002_S_0413_MR_MPR__GradWarp__B1_Correction__N3__Scaled_Br_20070319115331858_S13893_I45117.nii\n",
      "Already have ADNI_002_S_0413_MR_MPR__GradWarp__B1_Correction__N3__Scaled_Br_20071028190559976_S22557_I79122.nii\n",
      "Already have ADNI_002_S_0413_MR_MPR__GradWarp__B1_Correction__N3__Scaled_Br_20070713121420365_S32938_I60008.nii\n",
      "Already have ADNI_002_S_0413_MR_MPR__GradWarp__B1_Correction__N3__Scaled_2_Br_20081001114742166_S13893_I118673.nii\n",
      "Already have ADNI_002_S_0413_MR_MPR__GradWarp__B1_Correction__N3__Scaled_2_Br_20081001120813046_S22557_I118695.nii\n",
      "Already have ADNI_002_S_0619_MR_MPR-R__GradWarp__N3__Scaled_Br_20070411125458928_S15145_I48617.nii\n",
      "Already have ADNI_002_S_0619_MR_MPR-R__GradWarp__N3__Scaled_Br_20070816100717385_S33969_I67871.nii\n",
      "Already have ADNI_002_S_0619_MR_MPR-R__GradWarp__N3__Scaled_2_Br_20081001115218896_S15145_I118678.nii\n",
      "Already have ADNI_002_S_0619_MR_MPR__GradWarp__N3__Scaled_Br_20070717184209073_S24022_I60451.nii\n",
      "Already have ADNI_002_S_0685_MR_MPR-R__GradWarp__B1_Correction__N3__Scaled_Br_20071223122419058_S25369_I86020.nii\n",
      "Already have ADNI_002_S_0685_MR_MPR__GradWarp__B1_Correction__N3__Scaled_Br_20070216235850690_S16309_I40683.nii\n",
      "Already have ADNI_002_S_0685_MR_MPR__GradWarp__B1_Correction__N3__Scaled_Br_20070921132314269_S36837_I74174.nii\n",
      "Already have ADNI_002_S_0685_MR_MPR__GradWarp__B1_Correction__N3__Scaled_2_Br_20081001115434324_S16309_I118680.nii\n",
      "Already have ADNI_002_S_0729_MR_MPR__GradWarp__B1_Correction__N3__Scaled_Br_20070217001935821_S16874_I40708.nii\n",
      "Already have ADNI_002_S_0729_MR_MPR__GradWarp__B1_Correction__N3__Scaled_Br_20070805122051949_S27092_I64741.nii\n",
      "Already have ADNI_002_S_0729_MR_MPR__GradWarp__B1_Correction__N3__Scaled_Br_20071027114353651_S38908_I78654.nii\n",
      "Already have ADNI_002_S_0729_MR_MPR__GradWarp__B1_Correction__N3__Scaled_2_Br_20081001115616920_S16874_I118682.nii\n",
      "Already have ADNI_002_S_0782_MR_MPR__GradWarp__B1_Correction__N3__Scaled_Br_20070217003515950_S17835_I40717.nii\n",
      "Already have ADNI_002_S_0782_MR_MPR__GradWarp__B1_Correction__N3__Scaled_Br_20070717184645506_S29564_I60456.nii\n",
      "Already have ADNI_002_S_0782_MR_MPR__GradWarp__B1_Correction__N3__Scaled_Br_20080114094318065_S39495_I87283.nii\n",
      "Already have ADNI_002_S_0782_MR_MPR__GradWarp__B1_Correction__N3__Scaled_2_Br_20081001114355178_S17835_I118669.nii\n",
      "Already have ADNI_002_S_0816_MR_MPR__GradWarp__B1_Correction__N3__Scaled_Br_20070217005829488_S18402_I40731.nii\n",
      "Already have ADNI_002_S_0816_MR_MPR__GradWarp__B1_Correction__N3__Scaled_Br_20070717185335251_S29612_I60465.nii\n",
      "Already have ADNI_002_S_0816_MR_MPR__GradWarp__B1_Correction__N3__Scaled_Br_20080224131120787_S45030_I92146.nii\n",
      "Already have ADNI_002_S_0816_MR_MPR__GradWarp__B1_Correction__N3__Scaled_2_Br_20081002102135862_S18402_I118984.nii\n",
      "Already have ADNI_002_S_0938_MR_MPR__GradWarp__B1_Correction__N3__Scaled_Br_20070219175406282_S19852_I40980.nii\n",
      "Already have ADNI_002_S_0938_MR_MPR__GradWarp__B1_Correction__N3__Scaled_Br_20070713122318180_S29620_I60030.nii\n",
      "Already have ADNI_002_S_0938_MR_MPR__GradWarp__B1_Correction__N3__Scaled_Br_20071110105158515_S41834_I81312.nii\n",
      "Already have ADNI_002_S_0938_MR_MPR__GradWarp__B1_Correction__N3__Scaled_2_Br_20081001115856421_S19852_I118685.nii\n",
      "Already have ADNI_002_S_0954_MR_MPR-R__GradWarp__B1_Correction__N3__Scaled_Br_20070217011938920_S19979_I40744.nii\n",
      "Already have ADNI_002_S_0954_MR_MPR-R__GradWarp__B1_Correction__N3__Scaled_2_Br_20081001120143792_S19979_I118688.nii\n",
      "Already have ADNI_002_S_0954_MR_MPR__GradWarp__B1_Correction__N3__Scaled_Br_20070727125558261_S31734_I62368.nii\n",
      "Already have ADNI_002_S_0954_MR_MPR__GradWarp__B1_Correction__N3__Scaled_Br_20080107130134981_S41498_I86634.nii\n",
      "Already have ADNI_002_S_1018_MR_MPR__GradWarp__B1_Correction__N3__Scaled_Br_20070217030439623_S23128_I40817.nii\n",
      "Already have ADNI_002_S_1018_MR_MPR__GradWarp__B1_Correction__N3__Scaled_Br_20070913150134327_S35097_I73016.nii\n",
      "Already have ADNI_002_S_1018_MR_MPR__GradWarp__B1_Correction__N3__Scaled_Br_20080113114436460_S43491_I87204.nii\n",
      "Already have ADNI_002_S_1070_MR_MPR-R__GradWarp__B1_Correction__N3__Scaled_Br_20070717190600657_S33346_I60478.nii\n",
      "Already have ADNI_002_S_1070_MR_MPR-R__GradWarp__B1_Correction__N3__Scaled_Br_20071229173444175_S43524_I86304.nii\n",
      "Already have ADNI_002_S_1070_MR_MPR__GradWarp__B1_Correction__N3__Scaled_Br_20070217032644901_S23120_I40831.nii\n",
      "Already have ADNI_002_S_1155_MR_MPR__GradWarp__B1_Correction__N3__Scaled_Br_20070217034919863_S24144_I40845.nii\n",
      "Already have ADNI_002_S_1155_MR_MPR__GradWarp__B1_Correction__N3__Scaled_Br_20070805123441149_S33917_I64755.nii\n",
      "Already have ADNI_002_S_1155_MR_MPR__GradWarp__B1_Correction__N3__Scaled_Br_20080221160857512_S44642_I91395.nii\n",
      "Already have ADNI_002_S_1261_MR_MPR__GradWarp__B1_Correction__N3__Scaled_Br_20070727130404463_S26574_I62377.nii\n",
      "Already have ADNI_002_S_1261_MR_MPR__GradWarp__B1_Correction__N3__Scaled_Br_20071028190839547_S38700_I79126.nii\n",
      "Already have ADNI_002_S_1261_MR_MPR__GradWarp__B1_Correction__N3__Scaled_Br_20080613103237200_S50898_I109394.nii\n",
      "Already have ADNI_002_S_1268_MR_MPR__GradWarp__B1_Correction__N3__Scaled_Br_20070802165115484_S26498_I64037.nii\n",
      "Already have ADNI_002_S_1268_MR_MPR__GradWarp__B1_Correction__N3__Scaled_Br_20071027115256498_S39736_I78668.nii\n",
      "Already have ADNI_002_S_1268_MR_MPR__GradWarp__B1_Correction__N3__Scaled_Br_20080613104031024_S50906_I109403.nii\n",
      "Already have ADNI_002_S_1280_MR_MPR__GradWarp__B1_Correction__N3__Scaled_Br_20070713123810416_S26453_I60056.nii\n",
      "Already have ADNI_002_S_1280_MR_MPR__GradWarp__B1_Correction__N3__Scaled_Br_20071110105845543_S38235_I81321.nii\n",
      "Already have ADNI_002_S_1280_MR_MPR__GradWarp__B1_Correction__N3__Scaled_Br_20090313142921949_S47412_I138890.nii\n",
      "Already have ADNI_003_S_0907_MR_MPR__GradWarp__B1_Correction__N3__Scaled_Br_20070501171753634_S19728_I52781.nii\n",
      "Already have ADNI_003_S_0907_MR_MPR__GradWarp__B1_Correction__N3__Scaled_Br_20070920163451996_S30502_I73881.nii\n",
      "Already have ADNI_003_S_0907_MR_MPR__GradWarp__B1_Correction__N3__Scaled_Br_20071110110615683_S42056_I81330.nii\n",
      "Already have ADNI_003_S_0908_MR_MPR__GradWarp__B1_Correction__N3__Scaled_Br_20070727175013471_S32516_I62589.nii\n",
      "Already have ADNI_003_S_0908_MR_MPR__GradWarp__B1_Correction__N3__Scaled_Br_20070804125725325_S30451_I64562.nii\n",
      "Already have ADNI_003_S_0908_MR_MPR__GradWarp__B1_Correction__N3__Scaled_Br_20081015153156378_S46187_I121108.nii\n",
      "Already have ADNI_003_S_0981_MR_MPR-R__GradWarp__B1_Correction__N3__Scaled_Br_20070501171453195_S20753_I52776.nii\n",
      "Already have ADNI_003_S_0981_MR_MPR-R__GradWarp__B1_Correction__N3__Scaled_Br_20080131105013455_S31564_I89046.nii\n",
      "Already have ADNI_003_S_0981_MR_MPR__GradWarp__B1_Correction__N3__Scaled_Br_20071127105843939_S42293_I83316.nii\n",
      "Already have ADNI_003_S_1057_MR_MPR__GradWarp__B1_Correction__N3__Scaled_Br_20070501174016338_S23345_I52821.nii\n",
      "Already have ADNI_003_S_1057_MR_MPR__GradWarp__B1_Correction__N3__Scaled_Br_20071110111110663_S41854_I81339.nii\n",
      "Already have ADNI_003_S_1057_MR_MPR__GradWarp__B1_Correction__N3__Scaled_Br_20080308121051585_S46176_I96202.nii\n",
      "Already have ADNI_005_S_0221_MR_MPR-R__GradWarp__B1_Correction__N3__Scaled_Br_20061212173139396_S19846_I32899.nii\n",
      "Already have ADNI_005_S_0221_MR_MPR__GradWarp__B1_Correction__N3__Scaled_Br_20070910164745994_S11958_I72128.nii\n",
      "Already have ADNI_005_S_0221_MR_MPR__GradWarp__B1_Correction__N3__Scaled_Br_20080410142121502_S28459_I102054.nii\n",
      "Already have ADNI_005_S_0222_MR_MPR__GradWarp__B1_Correction__N3__Scaled_Br_20070517132037539_S11754_I54686.nii\n",
      "Already have ADNI_005_S_0222_MR_MPR__GradWarp__B1_Correction__N3__Scaled_Br_20070426165924209_S19685_I51469.nii\n",
      "Already have ADNI_005_S_0222_MR_MPR__GradWarp__B1_Correction__N3__Scaled_Br_20070805124402075_S29895_I64764.nii\n",
      "Already have ADNI_005_S_0223_MR_MPR-R__GradWarp__B1_Correction__N3__Scaled_Br_20070809183352346_S19963_I66520.nii\n",
      "Already have ADNI_005_S_0223_MR_MPR__GradWarp__B1_Correction__N3__Scaled_Br_20061212164022848_S11981_I32855.nii\n",
      "Already have ADNI_005_S_0223_MR_MPR__GradWarp__B1_Correction__N3__Scaled_Br_20080410141453831_S28246_I102045.nii\n",
      "Already have ADNI_005_S_0324_MR_MPR-R__GradWarp__B1_Correction__N3__Scaled_Br_20061212171617702_S12599_I32891.nii\n",
      "Already have ADNI_005_S_0324_MR_MPR__GradWarp__B1_Correction__N3__Scaled_Br_20071223122805668_S22465_I86025.nii\n",
      "Already have ADNI_005_S_0324_MR_MPR__GradWarp__B1_Correction__N3__Scaled_Br_20070727175703439_S31698_I62599.nii\n",
      "Already have ADNI_005_S_0448_MR_MPR__GradWarp__B1_Correction__N3__Scaled_Br_20061212165540546_S14032_I32875.nii\n",
      "Already have ADNI_005_S_0448_MR_MPR__GradWarp__B1_Correction__N3__Scaled_Br_20070816101335340_S22540_I67876.nii\n",
      "Already have ADNI_005_S_0448_MR_MPR__GradWarp__B1_Correction__N3__Scaled_Br_20070910170000323_S34996_I72141.nii\n",
      "Already have ADNI_005_S_0546_MR_MPR-R__GradWarp__B1_Correction__N3__Scaled_Br_20061212105236975_S15566_I32681.nii\n",
      "Already have ADNI_005_S_0546_MR_MPR-R__GradWarp__B1_Correction__N3__Scaled_Br_20070818113852943_S25839_I68423.nii\n",
      "Already have ADNI_005_S_0546_MR_MPR__GradWarp__B1_Correction__N3__Scaled_Br_20070927171242595_S35993_I75633.nii\n",
      "Already have ADNI_005_S_0553_MR_MPR__GradWarp__B1_Correction__N3__Scaled_Br_20061212094622066_S15527_I32644.nii\n",
      "Already have ADNI_005_S_0553_MR_MPR__GradWarp__B1_Correction__N3__Scaled_Br_20070816104827214_S24999_I67909.nii\n",
      "Already have ADNI_005_S_0553_MR_MPR__GradWarp__B1_Correction__N3__Scaled_Br_20070918112608900_S36818_I73520.nii\n"
     ]
    },
    {
     "name": "stdout",
     "output_type": "stream",
     "text": [
      "Already have ADNI_005_S_0602_MR_MPR__GradWarp__B1_Correction__N3__Scaled_Br_20061212103139908_S15966_I32672.nii\n",
      "Already have ADNI_005_S_0602_MR_MPR__GradWarp__B1_Correction__N3__Scaled_Br_20070815092600085_S25188_I67668.nii\n",
      "Already have ADNI_005_S_0602_MR_MPR__GradWarp__B1_Correction__N3__Scaled_Br_20070921133414775_S37063_I74184.nii\n",
      "Already have ADNI_005_S_0610_MR_MPR-R__GradWarp__B1_Correction__N3__Scaled_Br_20070904175641004_S26265_I71325.nii\n",
      "Already have ADNI_005_S_0610_MR_MPR__GradWarp__B1_Correction__N3__Scaled_Br_20061212102204007_S15727_I32667.nii\n",
      "Already have ADNI_005_S_0610_MR_MPR__GradWarp__B1_Correction__N3__Scaled_Br_20070923122403344_S37097_I74582.nii\n",
      "Already have ADNI_005_S_0814_MR_MPR__GradWarp__B1_Correction__N3__Scaled_Br_20070923123111793_S18390_I74591.nii\n",
      "Already have ADNI_005_S_0814_MR_MPR__GradWarp__B1_Correction__N3__Scaled_Br_20070918113546511_S29098_I73529.nii\n",
      "Already have ADNI_005_S_0814_MR_MPR__GradWarp__B1_Correction__N3__Scaled_Br_20071027121519463_S41350_I78700.nii\n",
      "Already have ADNI_005_S_1224_MR_MPR-R__GradWarp__B1_Correction__N3__Scaled_Br_20070923125912785_S37372_I74622.nii\n",
      "Already have ADNI_005_S_1224_MR_MPR-R__GradWarp__B1_Correction__N3__Scaled_Br_20080430162944735_S49188_I104396.nii\n",
      "Already have ADNI_005_S_1224_MR_MPR__GradWarp__B1_Correction__N3__Scaled_Br_20070717175330338_S25412_I60406.nii\n",
      "Already have ADNI_005_S_1341_MR_MPR__GradWarp__B1_Correction__N3__Scaled_Br_20070717180348670_S27673_I60417.nii\n",
      "Already have ADNI_005_S_1341_MR_MPR__GradWarp__B1_Correction__N3__Scaled_Br_20071027122134721_S40875_I78709.nii\n",
      "Already have ADNI_005_S_1341_MR_MPR__GradWarp__B1_Correction__N3__Scaled_Br_20080421171302115_S48768_I103336.nii\n",
      "Already have ADNI_006_S_0498_MR_MPR-R__GradWarp__B1_Correction__N3__Scaled_Br_20070605122045523_S19763_I55943.nii\n",
      "Already have ADNI_006_S_0498_MR_MPR__GradWarp__B1_Correction__N3__Scaled_Br_20070605120544724_S28000_I55930.nii\n",
      "Already have ADNI_006_S_0498_MR_MPR__GradWarp__B1_Correction__N3__Scaled_Br_20071115083602888_S39971_I82105.nii\n",
      "Already have ADNI_006_S_0547_MR_MPR-R__GradWarp__B1_Correction__N3__Scaled_Br_20070926110116880_S19779_I75279.nii\n",
      "Already have ADNI_006_S_0547_MR_MPR-R__GradWarp__B1_Correction__N3__Scaled_Br_20071027123039143_S39855_I78722.nii\n",
      "Already have ADNI_006_S_0547_MR_MPR__GradWarp__B1_Correction__N3__Scaled_Br_20070727172259762_S27503_I62561.nii\n",
      "Already have ADNI_006_S_0675_MR_MPR-R__GradWarp__B1_Correction__N3__Scaled_Br_20070727173615915_S30813_I62574.nii\n",
      "Already have ADNI_006_S_0675_MR_MPR__GradWarp__B1_Correction__N3__Scaled_Br_20070813140709161_S18432_I67341.nii\n",
      "Already have ADNI_006_S_0675_MR_MPR__GradWarp__B1_Correction__N3__Scaled_Br_20080124143543585_S44086_I88346.nii\n",
      "Already have ADNI_006_S_0681_MR_MPR__GradWarp__B1_Correction__N3__Scaled_Br_20080224150248153_S18451_I92305.nii\n",
      "Already have ADNI_006_S_0681_MR_MPR__GradWarp__B1_Correction__N3__Scaled_Br_20070727174105903_S29141_I62579.nii\n",
      "Already have ADNI_006_S_0681_MR_MPR__GradWarp__B1_Correction__N3__Scaled_Br_20080302133147028_S41742_I94949.nii\n",
      "Already have ADNI_006_S_0731_MR_MPR__GradWarp__B1_Correction__N3__Scaled_Br_20080220094836683_S18321_I90848.nii\n",
      "Already have ADNI_006_S_0731_MR_MPR__GradWarp__B1_Correction__N3__Scaled_Br_20070804130615519_S27980_I64575.nii\n",
      "Already have ADNI_006_S_0731_MR_MPR__GradWarp__B1_Correction__N3__Scaled_Br_20071027123419100_S38847_I78727.nii\n",
      "Already have ADNI_006_S_1130_MR_MPR-R__GradWarp__B1_Correction__N3__Scaled_Br_20070605124018633_S23457_I55972.nii\n",
      "Already have ADNI_006_S_1130_MR_MPR-R__GradWarp__B1_Correction__N3__Scaled_Br_20070913151820731_S35285_I73037.nii\n",
      "Already have ADNI_006_S_1130_MR_MPR__GradWarp__B1_Correction__N3__Scaled_Br_20080224140856722_S45205_I92229.nii\n",
      "Already have ADNI_007_S_0041_MR_MPR__GradWarp__B1_Correction__N3__Scaled_Br_20070110204215685_S9994_I35734.nii\n",
      "Already have ADNI_007_S_0041_MR_MPR__GradWarp__B1_Correction__N3__Scaled_Br_20070110210338432_S14691_I35745.nii\n",
      "Already have ADNI_007_S_0041_MR_MPR__GradWarp__B1_Correction__N3__Scaled_Br_20070110202424792_S22400_I35725.nii\n",
      "Already have ADNI_007_S_0041_MR_MPR__GradWarp__B1_Correction__N3__Scaled_2_Br_20081001114650361_S9994_I118672.nii\n",
      "Already have ADNI_007_S_0041_MR_MPR__GradWarp__B1_Correction__N3__Scaled_2_Br_20081001121002070_S14691_I118697.nii\n",
      "Already have ADNI_007_S_0070_MR_MPR-R__GradWarp__B1_Correction__N3__Scaled_Br_20070118043705519_S10950_I36628.nii\n",
      "Already have ADNI_007_S_0070_MR_MPR-R__GradWarp__B1_Correction__N3__Scaled_Br_20070118014059657_S18818_I36523.nii\n",
      "Already have ADNI_007_S_0070_MR_MPR-R__GradWarp__B1_Correction__N3__Scaled_2_Br_20081001115943531_S10950_I118686.nii\n",
      "Already have ADNI_007_S_0070_MR_MPR-R__GradWarp__B1_Correction__N3__Scaled_2_Br_20081002102314762_S18818_I118986.nii\n",
      "Already have ADNI_007_S_0070_MR_MPR__GradWarp__B1_Correction__N3__Scaled_Br_20070713102039796_S28289_I59835.nii\n",
      "Already have ADNI_007_S_0101_MR_MPR__GradWarp__B1_Correction__N3__Scaled_Br_20070118231627932_S10679_I36726.nii\n",
      "Already have ADNI_007_S_0101_MR_MPR__GradWarp__B1_Correction__N3__Scaled_Br_20070118044308972_S16408_I36632.nii\n",
      "Already have ADNI_007_S_0101_MR_MPR__GradWarp__B1_Correction__N3__Scaled_Br_20070731153336133_S25609_I63297.nii\n",
      "Already have ADNI_007_S_0101_MR_MPR__GradWarp__B1_Correction__N3__Scaled_2_Br_20081001115524983_S10679_I118681.nii\n",
      "Already have ADNI_007_S_0101_MR_MPR__GradWarp__B1_Correction__N3__Scaled_2_Br_20081001121742815_S16408_I118700.nii\n",
      "Already have ADNI_007_S_0128_MR_MPR__GradWarp__B1_Correction__N3__Scaled_Br_20070118045422141_S10936_I36640.nii\n",
      "Already have ADNI_007_S_0128_MR_MPR__GradWarp__B1_Correction__N3__Scaled_Br_20081015162442619_S17897_I121135.nii\n",
      "Already have ADNI_007_S_0128_MR_MPR__GradWarp__B1_Correction__N3__Scaled_Br_20070713103915856_S26556_I59863.nii\n",
      "Already have ADNI_007_S_0128_MR_MPR__GradWarp__B1_Correction__N3__Scaled_2_Br_20081001115704885_S10936_I118683.nii\n",
      "Already have ADNI_007_S_0249_MR_MPR__GradWarp__B1_Correction__N3__Scaled_Br_20070118015240816_S11911_I36530.nii\n",
      "Already have ADNI_007_S_0249_MR_MPR__GradWarp__B1_Correction__N3__Scaled_Br_20070118232845300_S19407_I36734.nii\n",
      "Already have ADNI_007_S_0249_MR_MPR__GradWarp__B1_Correction__N3__Scaled_Br_20070731154616285_S29302_I63306.nii\n",
      "Already have ADNI_007_S_0249_MR_MPR__GradWarp__B1_Correction__N3__Scaled_2_Br_20081001120039197_S11911_I118687.nii\n",
      "Already have ADNI_007_S_0249_MR_MPR__GradWarp__B1_Correction__N3__Scaled_2_Br_20081002102545116_S19407_I118989.nii\n",
      "Already have ADNI_007_S_0293_MR_MPR-R__GradWarp__B1_Correction__N3__Scaled_Br_20070713105404797_S29811_I59891.nii\n",
      "Already have ADNI_007_S_0293_MR_MPR__GradWarp__B1_Correction__N3__Scaled_Br_20070118022549519_S12193_I36549.nii\n",
      "Already have ADNI_007_S_0293_MR_MPR__GradWarp__B1_Correction__N3__Scaled_Br_20070118021017096_S21502_I36540.nii\n",
      "Already have ADNI_007_S_0293_MR_MPR__GradWarp__B1_Correction__N3__Scaled_2_Br_20081001120327735_S12193_I118690.nii\n",
      "Already have ADNI_007_S_0316_MR_MPR-R__GradWarp__B1_Correction__N3__Scaled_Br_20070118030943701_S12583_I36573.nii\n",
      "Already have ADNI_007_S_0316_MR_MPR-R__GradWarp__B1_Correction__N3__Scaled_2_Br_20081001120625745_S12583_I118693.nii\n",
      "Already have ADNI_007_S_0316_MR_MPR__GradWarp__B1_Correction__N3__Scaled_Br_20070118024327307_S21488_I36559.nii\n",
      "Already have ADNI_007_S_0316_MR_MPR__GradWarp__B1_Correction__N3__Scaled_Br_20070923130250878_S31849_I74627.nii\n",
      "Already have ADNI_007_S_0414_MR_MPR__GradWarp__B1_Correction__N3__Scaled_Br_20070118035313135_S14826_I36599.nii\n",
      "Already have ADNI_007_S_0414_MR_MPR__GradWarp__B1_Correction__N3__Scaled_Br_20070118033636200_S23039_I36589.nii\n",
      "Already have ADNI_007_S_0414_MR_MPR__GradWarp__B1_Correction__N3__Scaled_Br_20070805130222226_S33540_I64782.nii\n",
      "Already have ADNI_007_S_0414_MR_MPR__GradWarp__B1_Correction__N3__Scaled_2_Br_20081001121055087_S14826_I118698.nii\n",
      "Already have ADNI_007_S_0698_MR_MPR-R__GradWarp__B1_Correction__N3__Scaled_Br_20070118041435818_S16403_I36613.nii\n",
      "Already have ADNI_007_S_0698_MR_MPR-R__GradWarp__B1_Correction__N3__Scaled_2_Br_20081002114239974_S16403_I119030.nii\n",
      "Already have ADNI_007_S_0698_MR_MPR__GradWarp__B1_Correction__N3__Scaled_Br_20070713110005508_S28939_I59896.nii\n",
      "Already have ADNI_007_S_0698_MR_MPR__GradWarp__B1_Correction__N3__Scaled_Br_20070923130925117_S37377_I74636.nii\n",
      "Already have ADNI_007_S_1206_MR_MPR-R__GradWarp__B1_Correction__N3__Scaled_Br_20070713115137903_S25173_I59981.nii\n",
      "Already have ADNI_007_S_1206_MR_MPR__GradWarp__B1_Correction__N3__Scaled_Br_20070923131606579_S38141_I74645.nii\n",
      "Already have ADNI_007_S_1206_MR_MPR__GradWarp__B1_Correction__N3__Scaled_Br_20080307172111447_S46085_I96025.nii\n",
      "Already have ADNI_007_S_1222_MR_MPR-R__GradWarp__B1_Correction__N3__Scaled_Br_20070713120847216_S25402_I60003.nii\n"
     ]
    },
    {
     "name": "stdout",
     "output_type": "stream",
     "text": [
      "Already have ADNI_007_S_1222_MR_MPR-R__GradWarp__B1_Correction__N3__Scaled_Br_20071006113405319_S38925_I77008.nii\n",
      "Already have ADNI_007_S_1222_MR_MPR-R__GradWarp__B1_Correction__N3__Scaled_Br_20080307173800854_S46092_I96047.nii\n",
      "Already have ADNI_007_S_1339_MR_MPR__GradWarp__B1_Correction__N3__Scaled_Br_20070607134807952_S27414_I56319.nii\n",
      "Already have ADNI_007_S_1339_MR_MPR__GradWarp__B1_Correction__N3__Scaled_Br_20071027133744003_S41402_I78754.nii\n",
      "Already have ADNI_007_S_1339_MR_MPR__GradWarp__B1_Correction__N3__Scaled_Br_20080430143918869_S49074_I104363.nii\n",
      "Already have ADNI_009_S_0751_MR_MPR__GradWarp__N3__Scaled_Br_20080408151939286_S17487_I101528.nii\n",
      "Already have ADNI_009_S_0751_MR_MPR__GradWarp__N3__Scaled_Br_20070926180344105_S26993_I75394.nii\n",
      "Already have ADNI_009_S_0751_MR_MPR__GradWarp__N3__Scaled_Br_20071028205214390_S38625_I79275.nii\n",
      "Already have ADNI_009_S_0842_MR_MPR-R__GradWarp__N3__Scaled_Br_20081016184942250_S50547_I121587.nii\n",
      "Already have ADNI_009_S_0842_MR_MPR__GradWarp__N3__Scaled_Br_20080206154637186_S18870_I89575.nii\n",
      "Already have ADNI_009_S_0842_MR_MPR__GradWarp__N3__Scaled_Br_20070926110901658_S29594_I75284.nii\n",
      "Already have ADNI_009_S_0862_MR_MPR__GradWarp__N3__Scaled_Br_20081016092132040_S19358_I121228.nii\n",
      "Already have ADNI_009_S_0862_MR_MPR__GradWarp__N3__Scaled_Br_20070926181050051_S29424_I75401.nii\n",
      "Already have ADNI_009_S_0862_MR_MPR__GradWarp__N3__Scaled_Br_20081016185334930_S50553_I121591.nii\n",
      "Already have ADNI_009_S_1030_MR_MPR__GradWarp__N3__Scaled_Br_20070517121250972_S21823_I54651.nii\n",
      "Already have ADNI_009_S_1030_MR_MPR__GradWarp__N3__Scaled_Br_20071029102712800_S32430_I79302.nii\n",
      "Already have ADNI_009_S_1030_MR_MPR__GradWarp__N3__Scaled_Br_20071127112217373_S42811_I83352.nii\n",
      "Already have ADNI_010_S_0067_MR_MPR-R____N3__Scaled_Br_20070807151408143_S17808_I65577.nii\n",
      "Already have ADNI_010_S_0067_MR_MPR-R____N3__Scaled_2_Br_20081002101858306_S17808_I118981.nii\n",
      "Already have ADNI_010_S_0067_MR_MPR____N3__Scaled_Br_20080308121553394_S10344_I96211.nii\n",
      "Already have ADNI_010_S_0067_MR_MPR____N3__Scaled_Br_20070828102413728_S25341_I70630.nii\n",
      "Already have ADNI_010_S_0067_MR_MPR____N3__Scaled_2_Br_20081001114835460_S10344_I118674.nii\n",
      "Already have ADNI_010_S_0067_MR_MPR____N3__Scaled_2_Br_20081001122414391_S25341_I118706.nii\n",
      "Already have ADNI_010_S_0419_MR_MPR____N3__Scaled_Br_20070731160454622_S14544_I63320.nii\n",
      "Already have ADNI_010_S_0419_MR_MPR____N3__Scaled_Br_20070731161135546_S24112_I63325.nii\n",
      "Already have ADNI_010_S_0419_MR_MPR____N3__Scaled_Br_20070910171618331_S34079_I72162.nii\n",
      "Already have ADNI_010_S_0419_MR_MPR____N3__Scaled_2_Br_20081001121839426_S14544_I118701.nii\n",
      "Already have ADNI_010_S_0419_MR_MPR____N3__Scaled_2_Br_20081001122306573_S24112_I118705.nii\n",
      "Already have ADNI_010_S_0422_MR_MPR____N3__Scaled_Br_20070731162014912_S23188_I63332.nii\n",
      "Already have ADNI_010_S_0422_MR_MPR____N3__Scaled_Br_20070904180212543_S29319_I71332.nii\n",
      "Already have ADNI_010_S_0422_MR_MPR____N3__Scaled_Br_20071027134551716_S40797_I78765.nii\n",
      "Already have ADNI_010_S_0422_MR_MPR____N3__Scaled_2_Br_20081001122053070_S23188_I118703.nii\n",
      "Already have ADNI_010_S_0422_MR_MPR____N3__Scaled_2_Br_20081001122823134_S29319_I118710.nii\n",
      "Already have ADNI_010_S_0472_MR_MPR____N3__Scaled_Br_20070727181627156_S22912_I62630.nii\n",
      "Already have ADNI_010_S_0472_MR_MPR____N3__Scaled_Br_20071115084323565_S32479_I82115.nii\n",
      "Already have ADNI_010_S_0472_MR_MPR____N3__Scaled_Br_20080302132946674_S42849_I94946.nii\n",
      "Already have ADNI_010_S_0472_MR_MPR____N3__Scaled_2_Br_20081001121947466_S22912_I118702.nii\n",
      "Already have ADNI_010_S_0829_MR_MPR____N3__Scaled_Br_20070731163202385_S26117_I63349.nii\n",
      "Already have ADNI_010_S_0829_MR_MPR____N3__Scaled_Br_20071027135138383_S38934_I78773.nii\n",
      "Already have ADNI_010_S_0829_MR_MPR____N3__Scaled_Br_20080410112243910_S46875_I101977.nii\n",
      "Already have ADNI_010_S_0829_MR_MPR____N3__Scaled_2_Br_20081001122514861_S26117_I118707.nii\n",
      "Already have ADNI_010_S_0904_MR_MPR____N3__Scaled_Br_20070731163807463_S23759_I63357.nii\n",
      "Already have ADNI_010_S_0904_MR_MPR____N3__Scaled_Br_20070904180431983_S33457_I71335.nii\n",
      "Already have ADNI_010_S_0904_MR_MPR____N3__Scaled_Br_20080229151043571_S45322_I94363.nii\n",
      "Already have ADNI_010_S_0904_MR_MPR____N3__Scaled_2_Br_20081001122202254_S23759_I118704.nii\n",
      "Already have ADNI_011_S_0003_MR_MPR-R__GradWarp__B1_Correction__N3__Scaled_Br_20061208111300610_S9127_I32237.nii\n",
      "Already have ADNI_011_S_0003_MR_MPR__GradWarp__B1_Correction__N3__Scaled_Br_20061206160449712_S15240_I31863.nii\n",
      "Already have ADNI_011_S_0003_MR_MPR__GradWarp__B1_Correction__N3__Scaled_Br_20070109190839611_S19096_I35576.nii\n",
      "Already have ADNI_011_S_0005_MR_MPR-R__GradWarp__B1_Correction__N3__Scaled_Br_20061208112603927_S9136_I32246.nii\n",
      "Already have ADNI_011_S_0005_MR_MPR__GradWarp__B1_Correction__N3__Scaled_Br_20061206162204955_S12037_I31885.nii\n",
      "Already have ADNI_011_S_0005_MR_MPR__GradWarp__B1_Correction__N3__Scaled_Br_20061206163453030_S19041_I31906.nii\n",
      "Already have ADNI_011_S_0010_MR_MPR__GradWarp__B1_Correction__N3__Scaled_Br_20061208114538147_S8800_I32270.nii\n",
      "Already have ADNI_011_S_0010_MR_MPR__GradWarp__B1_Correction__N3__Scaled_Br_20061206165027994_S14171_I31915.nii\n",
      "Already have ADNI_011_S_0010_MR_MPR__GradWarp__B1_Correction__N3__Scaled_Br_20080229151344346_S45936_I94368.nii\n",
      "Already have ADNI_011_S_0016_MR_MPR-R__GradWarp__B1_Correction__N3__Scaled_Br_20061206170814835_S13160_I31928.nii\n",
      "Already have ADNI_011_S_0016_MR_MPR__GradWarp__B1_Correction__N3__Scaled_Br_20061208143604106_S9253_I32306.nii\n",
      "Already have ADNI_011_S_0016_MR_MPR__GradWarp__B1_Correction__N3__Scaled_Br_20061206171506280_S19936_I31933.nii\n",
      "Already have ADNI_011_S_0021_MR_MPR__GradWarp__B1_Correction__N3__Scaled_Br_20061208145032820_S9581_I32332.nii\n",
      "Already have ADNI_011_S_0021_MR_MPR__GradWarp__B1_Correction__N3__Scaled_Br_20061206172729282_S13709_I31942.nii\n",
      "Already have ADNI_011_S_0021_MR_MPR__GradWarp__B1_Correction__N3__Scaled_Br_20061206174058589_S22065_I31970.nii\n",
      "Already have ADNI_011_S_0022_MR_MPR-R__GradWarp__B1_Correction__N3__Scaled_Br_20061208150933591_S9617_I32389.nii\n",
      "Already have ADNI_011_S_0022_MR_MPR-R__GradWarp__B1_Correction__N3__Scaled_Br_20070808155135676_S20820_I65883.nii\n",
      "Already have ADNI_011_S_0022_MR_MPR__GradWarp__B1_Correction__N3__Scaled_Br_20061206175453602_S15232_I31979.nii\n",
      "Already have ADNI_011_S_0023_MR_MPR-R__GradWarp__B1_Correction__N3__Scaled_Br_20061206181416395_S14184_I31992.nii\n",
      "Already have ADNI_011_S_0023_MR_MPR-R__GradWarp__B1_Correction__N3__Scaled_Br_20070808160104173_S23153_I65902.nii\n",
      "Already have ADNI_011_S_0023_MR_MPR__GradWarp__B1_Correction__N3__Scaled_Br_20061208151654929_S8868_I32409.nii\n",
      "Already have ADNI_011_S_0053_MR_MPR-R__GradWarp__B1_Correction__N3__Scaled_Br_20070108231357675_S10064_I35486.nii\n",
      "Already have ADNI_011_S_0053_MR_MPR-R__GradWarp__B1_Correction__N3__Scaled_Br_20070810172103015_S23166_I66945.nii\n",
      "Already have ADNI_011_S_0053_MR_MPR__GradWarp__B1_Correction__N3__Scaled_Br_20061206182044711_S15005_I31996.nii\n",
      "Already have ADNI_011_S_0168_MR_MPR-R__GradWarp__B1_Correction__N3__Scaled_Br_20070108232555158_S11605_I35499.nii\n",
      "Already have ADNI_011_S_0168_MR_MPR__GradWarp__B1_Correction__N3__Scaled_Br_20070109185559913_S18381_I35569.nii\n",
      "Already have ADNI_011_S_0168_MR_MPR__GradWarp__B1_Correction__N3__Scaled_Br_20080115173134205_S29769_I87484.nii\n",
      "Already have ADNI_011_S_0183_MR_MPR-R__GradWarp__B1_Correction__N3__Scaled_Br_20061206184940624_S19928_I32013.nii\n",
      "Already have ADNI_011_S_0183_MR_MPR__GradWarp__B1_Correction__N3__Scaled_Br_20061206183315171_S12000_I32003.nii\n",
      "Already have ADNI_011_S_0183_MR_MPR__GradWarp__B1_Correction__N3__Scaled_Br_20080114104012072_S29327_I87324.nii\n",
      "Already have ADNI_011_S_0241_MR_MPR-R__GradWarp__B1_Correction__N3__Scaled_Br_20061206190047259_S12088_I32020.nii\n",
      "Already have ADNI_011_S_0241_MR_MPR__GradWarp__B1_Correction__N3__Scaled_Br_20070108233226102_S19465_I35504.nii\n",
      "Already have ADNI_011_S_0241_MR_MPR__GradWarp__B1_Correction__N3__Scaled_Br_20070810172418496_S28959_I66950.nii\n",
      "Already have ADNI_011_S_0326_MR_MPR__GradWarp__B1_Correction__N3__Scaled_Br_20080205160151088_S12342_I89390.nii\n",
      "Already have ADNI_011_S_0326_MR_MPR__GradWarp__B1_Correction__N3__Scaled_Br_20070810173052963_S20781_I66968.nii\n",
      "Already have ADNI_011_S_0326_MR_MPR__GradWarp__B1_Correction__N3__Scaled_Br_20070813141905452_S29677_I67358.nii\n",
      "Already have ADNI_011_S_0362_MR_MPR-R__GradWarp__B1_Correction__N3__Scaled_Br_20080205161416597_S12678_I89404.nii\n",
      "Already have ADNI_011_S_0362_MR_MPR__GradWarp__B1_Correction__N3__Scaled_Br_20070812123445302_S20797_I67066.nii\n",
      "Already have ADNI_011_S_0362_MR_MPR__GradWarp__B1_Correction__N3__Scaled_Br_20070812124010393_S29736_I67075.nii\n",
      "Already have ADNI_011_S_0856_MR_MPR__GradWarp__B1_Correction__N3__Scaled_Br_20080205162614078_S19031_I89408.nii\n",
      "Already have ADNI_011_S_0856_MR_MPR__GradWarp__B1_Correction__N3__Scaled_Br_20070812124817899_S29108_I67088.nii\n",
      "Already have ADNI_011_S_0856_MR_MPR__GradWarp__B1_Correction__N3__Scaled_Br_20071027135419476_S40766_I78778.nii\n",
      "Already have ADNI_011_S_0861_MR_MPR__GradWarp__B1_Correction__N3__Scaled_Br_20070108234412094_S19476_I35513.nii\n",
      "Already have ADNI_011_S_0861_MR_MPR__GradWarp__B1_Correction__N3__Scaled_Br_20070816105940257_S29700_I67918.nii\n"
     ]
    },
    {
     "name": "stdout",
     "output_type": "stream",
     "text": [
      "Already have ADNI_011_S_0861_MR_MPR__GradWarp__B1_Correction__N3__Scaled_Br_20071027135856573_S40894_I78787.nii\n",
      "Already have ADNI_011_S_1080_MR_MPR__GradWarp__B1_Correction__N3__Scaled_Br_20070109192452043_S23159_I35591.nii\n",
      "Already have ADNI_011_S_1080_MR_MPR__GradWarp__B1_Correction__N3__Scaled_Br_20070808160607150_S32886_I65908.nii\n",
      "Already have ADNI_011_S_1080_MR_MPR__GradWarp__B1_Correction__N3__Scaled_Br_20080229152355365_S45948_I94387.nii\n",
      "Already have ADNI_011_S_1282_MR_MPR__GradWarp__B1_Correction__N3__Scaled_Br_20070727182019787_S26225_I62636.nii\n",
      "Already have ADNI_011_S_1282_MR_MPR__GradWarp__B1_Correction__N3__Scaled_Br_20071223123517335_S38946_I86035.nii\n",
      "Already have ADNI_011_S_1282_MR_MPR__GradWarp__B1_Correction__N3__Scaled_Br_20080229152929549_S45922_I94397.nii\n",
      "Already have ADNI_012_S_0637_MR_MPR____N3__Scaled_Br_20070711172252132_S16018_I59243.nii\n",
      "Already have ADNI_012_S_0637_MR_MPR____N3__Scaled_Br_20070711163916979_S24836_I59169.nii\n",
      "Already have ADNI_012_S_0637_MR_MPR____N3__Scaled_Br_20071125122159144_S34417_I82989.nii\n",
      "Already have ADNI_012_S_0637_MR_MPR____N3__Scaled_2_Br_20081001122934186_S16018_I118711.nii\n",
      "Already have ADNI_012_S_0637_MR_MPR____N3__Scaled_2_Br_20081001124419928_S24836_I118739.nii\n",
      "Already have ADNI_012_S_0637_MR_MPR____N3__Scaled_2_Br_20081001124159560_S34417_I118737.nii\n",
      "Already have ADNI_012_S_0689_MR_MPR-R____N3__Scaled_Br_20080225093300703_S16392_I92398.nii\n",
      "Already have ADNI_012_S_0689_MR_MPR-R____N3__Scaled_2_Br_20081001123144447_S16392_I118713.nii\n",
      "Already have ADNI_012_S_0689_MR_MPR____N3__Scaled_Br_20070711164832538_S24938_I59195.nii\n",
      "Already have ADNI_012_S_0689_MR_MPR____N3__Scaled_Br_20070923132424980_S36501_I74656.nii\n",
      "Already have ADNI_012_S_0689_MR_MPR____N3__Scaled_2_Br_20081001125017695_S24938_I118740.nii\n",
      "Already have ADNI_012_S_0689_MR_MPR____N3__Scaled_2_Br_20081001131211891_S36501_I118754.nii\n",
      "Already have ADNI_012_S_0712_MR_MPR____N3__Scaled_Br_20080225093529482_S16704_I92401.nii\n",
      "Already have ADNI_012_S_0712_MR_MPR____N3__Scaled_Br_20070711165343143_S25202_I59202.nii\n",
      "Already have ADNI_012_S_0712_MR_MPR____N3__Scaled_Br_20080207101006586_S36463_I89735.nii\n",
      "Already have ADNI_012_S_0712_MR_MPR____N3__Scaled_2_Br_20081001123034709_S16704_I118712.nii\n",
      "Already have ADNI_012_S_0712_MR_MPR____N3__Scaled_2_Br_20081001125353686_S25202_I118743.nii\n",
      "Already have ADNI_012_S_0712_MR_MPR____N3__Scaled_2_Br_20081001131440510_S36463_I118756.nii\n",
      "Already have ADNI_012_S_0720_MR_MPR____N3__Scaled_Br_20080225174150688_S17682_I92529.nii\n",
      "Already have ADNI_012_S_0720_MR_MPR____N3__Scaled_Br_20070828103515277_S26750_I70645.nii\n",
      "Already have ADNI_012_S_0720_MR_MPR____N3__Scaled_Br_20070927073748413_S38152_I75443.nii\n",
      "Already have ADNI_012_S_0720_MR_MPR____N3__Scaled_2_Br_20081001123253253_S17682_I118714.nii\n",
      "Already have ADNI_012_S_0720_MR_MPR____N3__Scaled_2_Br_20081001125506362_S26750_I118744.nii\n",
      "Already have ADNI_012_S_0720_MR_MPR____N3__Scaled_2_Br_20081001131822544_S38152_I118759.nii\n",
      "Already have ADNI_012_S_0803_MR_MPR____N3__Scaled_Br_20070711172746366_S19197_I59250.nii\n",
      "Already have ADNI_012_S_0803_MR_MPR____N3__Scaled_Br_20070904180815433_S29335_I71340.nii\n",
      "Already have ADNI_012_S_0803_MR_MPR____N3__Scaled_Br_20071115084708973_S42025_I82120.nii\n",
      "Already have ADNI_012_S_0803_MR_MPR____N3__Scaled_2_Br_20081001123507114_S19197_I118716.nii\n",
      "Already have ADNI_012_S_0803_MR_MPR____N3__Scaled_2_Br_20081001125849546_S29335_I118747.nii\n",
      "Already have ADNI_012_S_0932_MR_MPR____N3__Scaled_Br_20070711173123684_S19374_I59255.nii\n",
      "Already have ADNI_012_S_0932_MR_MPR____N3__Scaled_Br_20070923133407728_S31659_I74671.nii\n",
      "Already have ADNI_012_S_0932_MR_MPR____N3__Scaled_Br_20071127112857704_S42499_I83359.nii\n",
      "Already have ADNI_012_S_0932_MR_MPR____N3__Scaled_2_Br_20081001123400925_S19374_I118715.nii\n",
      "Already have ADNI_012_S_0932_MR_MPR____N3__Scaled_2_Br_20081001130002171_S31659_I118748.nii\n",
      "Already have ADNI_012_S_1009_MR_MPR____N3__Scaled_Br_20070804145130249_S21610_I64717.nii\n",
      "Already have ADNI_012_S_1009_MR_MPR____N3__Scaled_Br_20070904181315040_S32769_I71348.nii\n",
      "Already have ADNI_012_S_1009_MR_MPR____N3__Scaled_Br_20080224151313844_S43083_I92321.nii\n",
      "Already have ADNI_012_S_1009_MR_MPR____N3__Scaled_2_Br_20081001123612966_S21610_I118717.nii\n",
      "Already have ADNI_012_S_1009_MR_MPR____N3__Scaled_2_Br_20081001130937593_S32769_I118752.nii\n",
      "Already have ADNI_012_S_1033_MR_MPR____N3__Scaled_Br_20070711170547643_S22635_I59219.nii\n",
      "Already have ADNI_012_S_1033_MR_MPR____N3__Scaled_Br_20070923133618907_S32761_I74674.nii\n",
      "Already have ADNI_012_S_1033_MR_MPR____N3__Scaled_Br_20080224145258532_S43384_I92291.nii\n",
      "Already have ADNI_012_S_1033_MR_MPR____N3__Scaled_2_Br_20081001123718428_S22635_I118718.nii\n",
      "Already have ADNI_012_S_1033_MR_MPR____N3__Scaled_2_Br_20081001130117821_S32761_I118749.nii\n",
      "Already have ADNI_012_S_1133_MR_MPR____N3__Scaled_Br_20070711170922052_S25016_I59224.nii\n",
      "Already have ADNI_012_S_1133_MR_MPR____N3__Scaled_Br_20070923134052709_S36741_I74681.nii\n",
      "Already have ADNI_012_S_1133_MR_MPR____N3__Scaled_Br_20080308122028342_S45779_I96218.nii\n",
      "Already have ADNI_012_S_1133_MR_MPR____N3__Scaled_2_Br_20081001125131282_S25016_I118741.nii\n",
      "Already have ADNI_012_S_1133_MR_MPR____N3__Scaled_2_Br_20081001131712384_S36741_I118758.nii\n",
      "Already have ADNI_012_S_1165_MR_MPR____N3__Scaled_Br_20070711171305055_S24576_I59229.nii\n",
      "Already have ADNI_012_S_1165_MR_MPR____N3__Scaled_Br_20070904181953703_S34806_I71358.nii\n",
      "Already have ADNI_012_S_1165_MR_MPR____N3__Scaled_Br_20080229153136024_S45784_I94401.nii\n",
      "Already have ADNI_012_S_1165_MR_MPR____N3__Scaled_2_Br_20081001123930839_S24576_I118729.nii\n",
      "Already have ADNI_012_S_1165_MR_MPR____N3__Scaled_2_Br_20081001131055919_S34806_I118753.nii\n",
      "Already have ADNI_012_S_1292_MR_MPR____N3__Scaled_Br_20080225095614127_S27448_I92429.nii\n",
      "Already have ADNI_012_S_1292_MR_MPR____N3__Scaled_Br_20071029174602076_S39367_I79495.nii\n",
      "Already have ADNI_012_S_1292_MR_MPR____N3__Scaled_Br_20080421164845866_S47689_I103296.nii\n",
      "Already have ADNI_012_S_1292_MR_MPR____N3__Scaled_2_Br_20081001125734671_S27448_I118746.nii\n",
      "Already have ADNI_012_S_1292_MR_MPR____N3__Scaled_2_Br_20081001131935726_S39367_I118760.nii\n",
      "Already have ADNI_012_S_1321_MR_MPR____N3__Scaled_Br_20070731164421634_S26933_I63367.nii\n",
      "Already have ADNI_012_S_1321_MR_MPR____N3__Scaled_Br_20080224141528877_S39627_I92238.nii\n",
      "Already have ADNI_012_S_1321_MR_MPR____N3__Scaled_Br_20090313150851203_S47355_I138909.nii\n",
      "Already have ADNI_012_S_1321_MR_MPR____N3__Scaled_2_Br_20081001125622173_S26933_I118745.nii\n",
      "Already have ADNI_013_S_0240_MR_MPR-R__GradWarp__B1_Correction__N3__Scaled_Br_20070426090948082_S12308_I51151.nii\n",
      "Already have ADNI_013_S_0240_MR_MPR__GradWarp__B1_Correction__N3__Scaled_Br_20070731164949931_S22107_I63374.nii\n",
      "Already have ADNI_013_S_0240_MR_MPR__GradWarp__B1_Correction__N3__Scaled_Br_20070828103755280_S29656_I70648.nii\n",
      "Already have ADNI_013_S_0325_MR_MPR__GradWarp__B1_Correction__N3__Scaled_Br_20070517130132929_S13524_I54665.nii\n",
      "Already have ADNI_013_S_0325_MR_MPR__GradWarp__B1_Correction__N3__Scaled_Br_20070923134900081_S24902_I74694.nii\n",
      "Already have ADNI_013_S_0325_MR_MPR__GradWarp__B1_Correction__N3__Scaled_Br_20070923135329729_S33529_I74703.nii\n",
      "Already have ADNI_013_S_0502_MR_MPR__GradWarp__B1_Correction__N3__Scaled_Br_20070426090217227_S17232_I51138.nii\n",
      "Already have ADNI_013_S_0502_MR_MPR__GradWarp__B1_Correction__N3__Scaled_Br_20070926112008188_S27531_I75291.nii\n",
      "Already have ADNI_013_S_0502_MR_MPR__GradWarp__B1_Correction__N3__Scaled_Br_20080113115101648_S39678_I87213.nii\n",
      "Already have ADNI_013_S_0575_MR_MPR-R__GradWarp__B1_Correction__N3__Scaled_Br_20070426091507319_S17859_I51160.nii\n",
      "Already have ADNI_013_S_0575_MR_MPR-R__GradWarp__B1_Correction__N3__Scaled_Br_20070821173920609_S28211_I69551.nii\n",
      "Already have ADNI_013_S_0575_MR_MPR__GradWarp__B1_Correction__N3__Scaled_Br_20071027140809311_S40864_I78805.nii\n",
      "Already have ADNI_013_S_0860_MR_MPR-R__GradWarp__B1_Correction__N3__Scaled_Br_20071027141429221_S40055_I78818.nii\n",
      "Already have ADNI_013_S_0860_MR_MPR__GradWarp__B1_Correction__N3__Scaled_Br_20070426173344229_S19237_I51533.nii\n",
      "Already have ADNI_013_S_0860_MR_MPR__GradWarp__B1_Correction__N3__Scaled_Br_20070904182147431_S29690_I71361.nii\n",
      "Already have ADNI_013_S_1035_MR_MPR__GradWarp__B1_Correction__N3__Scaled_Br_20070426091804212_S21984_I51165.nii\n",
      "Already have ADNI_013_S_1035_MR_MPR__GradWarp__B1_Correction__N3__Scaled_Br_20070904182632411_S32794_I71370.nii\n",
      "Already have ADNI_013_S_1035_MR_MPR__GradWarp__B1_Correction__N3__Scaled_Br_20071127113206330_S42697_I83364.nii\n",
      "Already have ADNI_013_S_1120_MR_MPR__GradWarp__B1_Correction__N3__Scaled_Br_20070426171701271_S22815_I51494.nii\n",
      "Already have ADNI_013_S_1120_MR_MPR__GradWarp__B1_Correction__N3__Scaled_Br_20070904183648339_S33144_I71386.nii\n",
      "Already have ADNI_013_S_1120_MR_MPR__GradWarp__B1_Correction__N3__Scaled_Br_20080113120006185_S44284_I87231.nii\n",
      "Already have ADNI_003_S_1122_MR_MPR__GradWarp__B1_Correction__N3__Scaled_Br_20070501172757639_S23542_I52799.nii\n",
      "Already have ADNI_003_S_1122_MR_MPR__GradWarp__B1_Correction__N3__Scaled_Br_20071127110322236_S35594_I83325.nii\n",
      "Already have ADNI_003_S_1122_MR_MPR__GradWarp__B1_Correction__N3__Scaled_Br_20080307171614741_S45176_I96010.nii\n",
      "Already have ADNI_007_S_0068_MR_MPR-R__GradWarp__B1_Correction__N3__Scaled_Br_20070110221450692_S10356_I35790.nii\n",
      "Already have ADNI_007_S_0068_MR_MPR-R__GradWarp__B1_Correction__N3__Scaled_2_Br_20081001115126961_S10356_I118677.nii\n",
      "Already have ADNI_007_S_0068_MR_MPR__GradWarp__B1_Correction__N3__Scaled_Br_20070110212728851_S15714_I35760.nii\n",
      "Already have ADNI_007_S_0068_MR_MPR__GradWarp__B1_Correction__N3__Scaled_Br_20070110214628818_S23109_I35773.nii\n",
      "Already have ADNI_007_S_0068_MR_MPR__GradWarp__B1_Correction__N3__Scaled_2_Br_20081001121650618_S15714_I118699.nii\n",
      "Already have ADNI_010_S_0786_MR_MPR____N3__Scaled_Br_20070807153633938_S19638_I65597.nii\n"
     ]
    },
    {
     "name": "stdout",
     "output_type": "stream",
     "text": [
      "Already have ADNI_010_S_0786_MR_MPR____N3__Scaled_Br_20070910194855415_S31805_I72372.nii\n",
      "Already have ADNI_010_S_0786_MR_MPR____N3__Scaled_Br_20071027134932531_S41161_I78770.nii\n",
      "Already have ADNI_010_S_0786_MR_MPR____N3__Scaled_2_Br_20081002102855696_S19638_I118990.nii\n",
      "Already have ADNI_012_S_0634_MR_MPR____N3__Scaled_Br_20070804131522070_S15751_I64585.nii\n",
      "Already have ADNI_012_S_0634_MR_MPR____N3__Scaled_Br_20070804131955206_S24622_I64590.nii\n",
      "Already have ADNI_012_S_0634_MR_MPR____N3__Scaled_Br_20070920164142617_S34624_I73892.nii\n",
      "Already have ADNI_012_S_0634_MR_MPR____N3__Scaled_2_Br_20081001120424859_S15751_I118691.nii\n",
      "Already have ADNI_012_S_0634_MR_MPR____N3__Scaled_2_Br_20081001124043614_S24622_I118736.nii\n",
      "Already have ADNI_012_S_0634_MR_MPR____N3__Scaled_2_Br_20081001130824915_S34624_I118751.nii\n",
      "Already have ADNI_013_S_1186_MR_MPR__GradWarp__B1_Correction__N3__Scaled_Br_20070727183243035_S25689_I62656.nii\n",
      "Already have ADNI_013_S_1186_MR_MPR__GradWarp__B1_Correction__N3__Scaled_Br_20070918120820290_S36951_I73557.nii\n",
      "Already have ADNI_013_S_1186_MR_MPR__GradWarp__B1_Correction__N3__Scaled_Br_20080221164023025_S45473_I91441.nii\n",
      "Already have ADNI_016_S_1121_MR_MPR-R__GradWarp__B1_Correction__N3__Scaled_Br_20080308122849834_S23742_I96234.nii\n",
      "Already have ADNI_016_S_1121_MR_MPR__GradWarp__B1_Correction__N3__Scaled_Br_20080215170049774_S36294_I90546.nii\n",
      "Already have ADNI_016_S_1121_MR_MPR__GradWarp__B1_Correction__N3__Scaled_Br_20080206155234494_S43926_I89582.nii\n",
      "Already have ADNI_020_S_0899_MR_MPR-R__GradWarp__B1_Correction__N3__Scaled_Br_20080307102025348_S32312_I95628.nii\n",
      "Already have ADNI_020_S_0899_MR_MPR__GradWarp__B1_Correction__N3__Scaled_Br_20070718121152849_S19329_I60618.nii\n",
      "Already have ADNI_020_S_0899_MR_MPR__GradWarp__B1_Correction__N3__Scaled_Br_20081031162821953_S44443_I124822.nii\n",
      "Already have ADNI_022_S_0096_MR_MPR__GradWarp__B1_Correction__N3__Scaled_Br_20070712150800206_S11006_I59456.nii\n",
      "Already have ADNI_022_S_0096_MR_MPR__GradWarp__B1_Correction__N3__Scaled_Br_20071002182220071_S18593_I76622.nii\n",
      "Already have ADNI_022_S_0096_MR_MPR__GradWarp__B1_Correction__N3__Scaled_Br_20070712151427737_S25589_I59466.nii\n",
      "Already have ADNI_023_S_0331_MR_MPR__GradWarp__B1_Correction__N3__Scaled_Br_20061201162554355_S12428_I31369.nii\n",
      "Already have ADNI_023_S_0331_MR_MPR__GradWarp__B1_Correction__N3__Scaled_Br_20071226135653880_S19697_I86222.nii\n",
      "Already have ADNI_023_S_0331_MR_MPR__GradWarp__B1_Correction__N3__Scaled_Br_20070812141046991_S29574_I67183.nii\n",
      "Already have ADNI_023_S_0331_MR_MPR__GradWarp__B1_Correction__N3__Scaled_2_Br_20081002101152597_S12428_I118975.nii\n",
      "Already have ADNI_023_S_0331_MR_MPR__GradWarp__B1_Correction__N3__Scaled_2_Br_20081002103217964_S19697_I118991.nii\n",
      "Already have ADNI_023_S_0331_MR_MPR__GradWarp__B1_Correction__N3__Scaled_2_Br_20081002104159618_S29574_I119003.nii\n",
      "Already have ADNI_027_S_0074_MR_MPR__GradWarp__B1_Correction__N3__Scaled_Br_20061227115631612_S10605_I34316.nii\n",
      "Already have ADNI_027_S_0074_MR_MPR__GradWarp__B1_Correction__N3__Scaled_Br_20061222171422861_S16321_I34105.nii\n",
      "Already have ADNI_027_S_0074_MR_MPR__GradWarp__B1_Correction__N3__Scaled_Br_20070327124801302_S24558_I47071.nii\n",
      "Already have ADNI_027_S_0074_MR_MPR__GradWarp__B1_Correction__N3__Scaled_2_Br_20081002151636821_S10605_I119067.nii\n",
      "Already have ADNI_027_S_1254_MR_MPR-R__GradWarp__B1_Correction__N3__Scaled_Br_20071027110502046_S37270_I78640.nii\n",
      "Already have ADNI_027_S_1254_MR_MPR__GradWarp__B1_Correction__N3__Scaled_Br_20070327165452524_S25764_I47228.nii\n",
      "Already have ADNI_027_S_1254_MR_MPR__GradWarp__B1_Correction__N3__Scaled_Br_20080223122910502_S45374_I91684.nii\n",
      "Already have ADNI_031_S_0554_MR_MPR-R__GradWarp__N3__Scaled_Br_20070804144512116_S14904_I64711.nii\n",
      "Already have ADNI_031_S_0554_MR_MPR__GradWarp__N3__Scaled_Br_20080224133653791_S23896_I92187.nii\n",
      "Already have ADNI_031_S_0554_MR_MPR__GradWarp__N3__Scaled_Br_20080207102702493_S34026_I89757.nii\n",
      "Already have ADNI_033_S_0514_MR_MPR__GradWarp__B1_Correction__N3__Scaled_Br_20070302161749464_S14663_I42276.nii\n",
      "Already have ADNI_033_S_0514_MR_MPR__GradWarp__B1_Correction__N3__Scaled_Br_20070302164514597_S23664_I42292.nii\n",
      "Already have ADNI_033_S_0514_MR_MPR__GradWarp__B1_Correction__N3__Scaled_Br_20070809185451369_S33320_I66544.nii\n",
      "Already have ADNI_033_S_0514_MR_MPR__GradWarp__B1_Correction__N3__Scaled_2_Br_20081003120706970_S14663_I119123.nii\n",
      "Already have ADNI_033_S_1281_MR_MPR-R__GradWarp__B1_Correction__N3__Scaled_Br_20070517161803030_S26136_I54780.nii\n",
      "Already have ADNI_033_S_1281_MR_MPR__GradWarp__B1_Correction__N3__Scaled_Br_20071027181637054_S39450_I78942.nii\n",
      "Already have ADNI_033_S_1281_MR_MPR__GradWarp__B1_Correction__N3__Scaled_Br_20080410114734088_S47026_I102012.nii\n",
      "Already have ADNI_036_S_0759_MR_MPR-R__GradWarp__B1_Correction__N3__Scaled_Br_20071115130231556_S38659_I82336.nii\n",
      "Already have ADNI_036_S_0759_MR_MPR__GradWarp__B1_Correction__N3__Scaled_Br_20070120004026768_S18094_I36969.nii\n",
      "Already have ADNI_036_S_0759_MR_MPR__GradWarp__B1_Correction__N3__Scaled_Br_20070818131922038_S28147_I68522.nii\n",
      "Already have ADNI_037_S_0627_MR_MPR__GradWarp__N3__Scaled_Br_20071030172722998_S16313_I79831.nii\n",
      "Already have ADNI_037_S_0627_MR_MPR__GradWarp__N3__Scaled_Br_20080224135612066_S26830_I92210.nii\n",
      "Already have ADNI_037_S_0627_MR_MPR__GradWarp__N3__Scaled_Br_20071028103514268_S38783_I78978.nii\n",
      "Already have ADNI_041_S_1425_MR_MPR__GradWarp__B1_Correction__N3__Scaled_Br_20070917110339248_S36930_I73357.nii\n",
      "Already have ADNI_041_S_1425_MR_MPR__GradWarp__B1_Correction__N3__Scaled_Br_20080223162702431_S45425_I91815.nii\n",
      "Already have ADNI_041_S_1425_MR_MPR__GradWarp__B1_Correction__N3__Scaled_Br_20081016155426582_S55125_I121404.nii\n",
      "Already have ADNI_053_S_1044_MR_MPR-R__GradWarp__B1_Correction__N3__Scaled_Br_20070802192148921_S21256_I64203.nii\n",
      "Already have ADNI_053_S_1044_MR_MPR-R__GradWarp__B1_Correction__N3__Scaled_2_Br_20081003142251021_S21256_I119175.nii\n",
      "Already have ADNI_053_S_1044_MR_MPR__GradWarp__B1_Correction__N3__Scaled_Br_20070910183941166_S33449_I72269.nii\n",
      "Already have ADNI_053_S_1044_MR_MPR__GradWarp__B1_Correction__N3__Scaled_Br_20080414092546702_S42960_I102405.nii\n",
      "Already have ADNI_053_S_1044_MR_MPR__GradWarp__B1_Correction__N3__Scaled_2_Br_20081003142344986_S33449_I119176.nii\n",
      "Already have ADNI_053_S_1044_MR_MPR__GradWarp__B1_Correction__N3__Scaled_2_Br_20081003142437913_S42960_I119177.nii\n",
      "Already have ADNI_062_S_0768_MR_MPR__GradWarp__B1_Correction__N3__Scaled_Br_20070424122235198_S17527_I50506.nii\n",
      "Already have ADNI_062_S_0768_MR_MPR__GradWarp__B1_Correction__N3__Scaled_Br_20070424123020344_S26437_I50515.nii\n",
      "Already have ADNI_062_S_0768_MR_MPR__GradWarp__B1_Correction__N3__Scaled_Br_20071101180944293_S40134_I80276.nii\n",
      "Already have ADNI_068_S_0109_MR_MPR____N3__Scaled_Br_20070731181048264_S10772_I63454.nii\n",
      "Already have ADNI_068_S_0109_MR_MPR____N3__Scaled_Br_20090107103029587_S17582_I132912.nii\n",
      "Already have ADNI_068_S_0109_MR_MPR____N3__Scaled_Br_20071125144330268_S28450_I83135.nii\n",
      "Already have ADNI_068_S_0109_MR_MPR____N3__Scaled_2_Br_20081212141712788_S10772_I130231.nii\n",
      "Already have ADNI_068_S_0109_MR_MPR____N3__Scaled_2_Br_20081212141911224_S28450_I130233.nii\n",
      "Already have ADNI_094_S_0526_MR_MPR-R__GradWarp__B1_Correction__N3__Scaled_Br_20070731182958172_S14559_I63468.nii\n",
      "Already have ADNI_094_S_0526_MR_MPR-R__GradWarp__B1_Correction__N3__Scaled_Br_20071104115553160_S32908_I80713.nii\n",
      "Already have ADNI_094_S_0526_MR_MPR__GradWarp__B1_Correction__N3__Scaled_Br_20070802205657908_S27499_I64346.nii\n",
      "Already have ADNI_098_S_0269_MR_MPR__GradWarp__B1_Correction__N3__Scaled_Br_20070806165707400_S11964_I65257.nii\n",
      "Already have ADNI_098_S_0269_MR_MPR__GradWarp__B1_Correction__N3__Scaled_Br_20080206094007636_S20925_I89486.nii\n",
      "Already have ADNI_098_S_0269_MR_MPR__GradWarp__B1_Correction__N3__Scaled_Br_20070812145142247_S29778_I67232.nii\n",
      "Already have ADNI_100_S_0015_MR_MPR-R____N3__Scaled_Br_20061213154536487_S9246_I33066.nii\n",
      "Already have ADNI_100_S_0015_MR_MPR____N3__Scaled_Br_20061213153414025_S13657_I33049.nii\n",
      "Already have ADNI_100_S_0015_MR_MPR____N3__Scaled_Br_20070808192237770_S20317_I66087.nii\n",
      "Already have ADNI_114_S_0458_MR_MPR-R__GradWarp__B1_Correction__N3__Scaled_Br_20070213195652327_S14111_I39845.nii\n",
      "Already have ADNI_114_S_0458_MR_MPR__GradWarp__B1_Correction__N3__Scaled_Br_20070420163916881_S22982_I49901.nii\n",
      "Already have ADNI_114_S_0458_MR_MPR__GradWarp__B1_Correction__N3__Scaled_Br_20080409155243746_S33753_I101700.nii\n",
      "Already have ADNI_116_S_1315_MR_MPR-R__GradWarp__N3__Scaled_Br_20071119093808313_S42102_I82629.nii\n",
      "Already have ADNI_116_S_1315_MR_MPR__GradWarp__N3__Scaled_Br_20070713080952048_S27811_I59718.nii\n",
      "Already have ADNI_116_S_1315_MR_MPR__GradWarp__N3__Scaled_Br_20080410145928874_S47351_I102120.nii\n",
      "Already have ADNI_126_S_0865_MR_MPR-R__GradWarp__B1_Correction__N3__Scaled_Br_20070209205925474_S22295_I39028.nii\n",
      "Already have ADNI_126_S_0865_MR_MPR-R__GradWarp__B1_Correction__N3__Scaled_Br_20071219170356913_S42612_I85636.nii\n",
      "Already have ADNI_126_S_0865_MR_MPR__GradWarp__B1_Correction__N3__Scaled_Br_20071029112731071_S32688_I79382.nii\n",
      "Already have ADNI_128_S_0863_MR_MPR__GradWarp__B1_Correction__N3__Scaled_Br_20080318145032239_S19272_I98875.nii\n"
     ]
    },
    {
     "name": "stdout",
     "output_type": "stream",
     "text": [
      "Already have ADNI_128_S_0863_MR_MPR__GradWarp__B1_Correction__N3__Scaled_Br_20071028120532943_S29526_I79035.nii\n",
      "Already have ADNI_128_S_0863_MR_MPR__GradWarp__B1_Correction__N3__Scaled_Br_20080207171412302_S41651_I89910.nii\n",
      "Already have ADNI_128_S_0863_MR_MPR__GradWarp__B1_Correction__N3__Scaled_2_Br_20081007101325128_S19272_I119408.nii\n",
      "Already have ADNI_130_S_1290_MR_MPR-R__GradWarp__B1_Correction__N3__Scaled_Br_20071028121655614_S39041_I79048.nii\n",
      "Already have ADNI_130_S_1290_MR_MPR__GradWarp__B1_Correction__N3__Scaled_Br_20070801183629045_S26038_I63766.nii\n",
      "Already have ADNI_130_S_1290_MR_MPR__GradWarp__B1_Correction__N3__Scaled_Br_20080313124422121_S46233_I97264.nii\n",
      "Already have ADNI_133_S_1170_MR_MPR__GradWarp__B1_Correction__N3__Scaled_Br_20080207174424754_S24674_I89957.nii\n",
      "Already have ADNI_133_S_1170_MR_MPR__GradWarp__B1_Correction__N3__Scaled_Br_20071111130556911_S36669_I81583.nii\n",
      "Already have ADNI_133_S_1170_MR_MPR__GradWarp__B1_Correction__N3__Scaled_Br_20080223193132287_S44696_I92079.nii\n",
      "Already have ADNI_133_S_1170_MR_MPR__GradWarp__B1_Correction__N3__Scaled_2_Br_20081008101107947_S24674_I119651.nii\n",
      "Already have ADNI_133_S_1170_MR_MPR__GradWarp__B1_Correction__N3__Scaled_2_Br_20081008101306910_S36669_I119654.nii\n",
      "Already have ADNI_133_S_1170_MR_MPR__GradWarp__B1_Correction__N3__Scaled_2_Br_20081008101507856_S44696_I119656.nii\n",
      "Already have ADNI_137_S_0366_MR_MPR-R__GradWarp__N3__Scaled_Br_20070321175448007_S23819_I45910.nii\n",
      "Already have ADNI_137_S_0366_MR_MPR__GradWarp__N3__Scaled_Br_20070323161105797_S14199_I46608.nii\n",
      "Already have ADNI_137_S_0366_MR_MPR__GradWarp__N3__Scaled_Br_20070808210331719_S33826_I66206.nii\n",
      "Already have ADNI_141_S_0726_MR_MPR-R__GradWarp__B1_Correction__N3__Scaled_Br_20080220165644498_S28237_I91248.nii\n",
      "Already have ADNI_141_S_0726_MR_MPR__GradWarp__B1_Correction__N3__Scaled_Br_20080302105053142_S18354_I94824.nii\n",
      "Already have ADNI_141_S_0726_MR_MPR__GradWarp__B1_Correction__N3__Scaled_Br_20071219172758637_S42773_I85668.nii\n",
      "Already have ADNI_013_S_1205_MR_MPR-R__GradWarp__B1_Correction__N3__Scaled_Br_20070918121843911_S36775_I73570.nii\n",
      "Already have ADNI_013_S_1205_MR_MPR__GradWarp__B1_Correction__N3__Scaled_Br_20070426173828172_S25024_I51542.nii\n",
      "Already have ADNI_013_S_1205_MR_MPR__GradWarp__B1_Correction__N3__Scaled_Br_20080221164453278_S44929_I91450.nii\n",
      "Already have ADNI_013_S_1275_MR_MPR-R__GradWarp__B1_Correction__N3__Scaled_Br_20081022120020038_S39583_I122689.nii\n",
      "Already have ADNI_013_S_1275_MR_MPR__GradWarp__B1_Correction__N3__Scaled_Br_20070727183904208_S27069_I62666.nii\n",
      "Already have ADNI_013_S_1275_MR_MPR__GradWarp__B1_Correction__N3__Scaled_Br_20080408121721446_S47485_I101380.nii\n",
      "Already have ADNI_014_S_0169_MR_MPR-R__GradWarp__B1_Correction__N3__Scaled_Br_20070217040959687_S11565_I40858.nii\n",
      "Already have ADNI_014_S_0169_MR_MPR-R__GradWarp__B1_Correction__N3__Scaled_Br_20070320174929514_S18247_I45726.nii\n",
      "Already have ADNI_014_S_0169_MR_MPR__GradWarp__B1_Correction__N3__Scaled_Br_20071002175606858_S27032_I76583.nii\n",
      "Already have ADNI_014_S_0328_MR_MPR-R__GradWarp__B1_Correction__N3__Scaled_Br_20080208104232264_S20942_I90019.nii\n",
      "Already have ADNI_014_S_0328_MR_MPR-R__GradWarp__B1_Correction__N3__Scaled_Br_20070828104949893_S29914_I70661.nii\n",
      "Already have ADNI_014_S_0328_MR_MPR__GradWarp__B1_Correction__N3__Scaled_Br_20070212231950856_S12402_I39620.nii\n",
      "Already have ADNI_014_S_0519_MR_MPR__GradWarp__B1_Correction__N3__Scaled_Br_20070213000538637_S14488_I39647.nii\n",
      "Already have ADNI_014_S_0519_MR_MPR__GradWarp__B1_Correction__N3__Scaled_Br_20070217041810899_S23614_I40863.nii\n",
      "Already have ADNI_014_S_0519_MR_MPR__GradWarp__B1_Correction__N3__Scaled_Br_20070904184725248_S32599_I71402.nii\n",
      "Already have ADNI_014_S_0520_MR_MPR-R__GradWarp__B1_Correction__N3__Scaled_Br_20070213002755949_S14473_I39660.nii\n",
      "Already have ADNI_014_S_0520_MR_MPR__GradWarp__B1_Correction__N3__Scaled_Br_20071027104516503_S24364_I78608.nii\n",
      "Already have ADNI_014_S_0520_MR_MPR__GradWarp__B1_Correction__N3__Scaled_Br_20070910172220133_S32591_I72170.nii\n",
      "Already have ADNI_014_S_0548_MR_MPR__GradWarp__B1_Correction__N3__Scaled_Br_20070213003619175_S14921_I39665.nii\n",
      "Already have ADNI_014_S_0548_MR_MPR__GradWarp__B1_Correction__N3__Scaled_Br_20070828105456537_S23922_I70667.nii\n",
      "Already have ADNI_014_S_0548_MR_MPR__GradWarp__B1_Correction__N3__Scaled_Br_20070904185435313_S33498_I71412.nii\n",
      "Already have ADNI_014_S_0557_MR_MPR-R__GradWarp__B1_Correction__N3__Scaled_Br_20070821174708350_S24330_I69569.nii\n",
      "Already have ADNI_014_S_0557_MR_MPR__GradWarp__B1_Correction__N3__Scaled_Br_20070213005125862_S15094_I39674.nii\n",
      "Already have ADNI_014_S_0557_MR_MPR__GradWarp__B1_Correction__N3__Scaled_Br_20070904190105330_S34066_I71421.nii\n",
      "Already have ADNI_014_S_0558_MR_MPR-R__GradWarp__B1_Correction__N3__Scaled_Br_20070904191058647_S35310_I71434.nii\n",
      "Already have ADNI_014_S_0558_MR_MPR__GradWarp__B1_Correction__N3__Scaled_Br_20070213010603779_S15789_I39683.nii\n",
      "Already have ADNI_014_S_0558_MR_MPR__GradWarp__B1_Correction__N3__Scaled_Br_20070821175220722_S25130_I69574.nii\n",
      "Already have ADNI_014_S_0563_MR_MPR-R__GradWarp__B1_Correction__N3__Scaled_Br_20070821180556819_S25117_I69587.nii\n",
      "Already have ADNI_014_S_0563_MR_MPR__GradWarp__B1_Correction__N3__Scaled_Br_20070213012025422_S16079_I39692.nii\n",
      "Already have ADNI_014_S_0563_MR_MPR__GradWarp__B1_Correction__N3__Scaled_Br_20070926112806012_S35205_I75300.nii\n",
      "Already have ADNI_014_S_0658_MR_MPR__GradWarp__B1_Correction__N3__Scaled_Br_20070213013504238_S17481_I39701.nii\n",
      "Already have ADNI_014_S_0658_MR_MPR__GradWarp__B1_Correction__N3__Scaled_Br_20070904191451821_S29990_I71439.nii\n",
      "Already have ADNI_014_S_0658_MR_MPR__GradWarp__B1_Correction__N3__Scaled_Br_20070913152134898_S36601_I73041.nii\n",
      "Already have ADNI_014_S_1095_MR_MPR__GradWarp__B1_Correction__N3__Scaled_Br_20070320181218511_S23323_I45740.nii\n",
      "Already have ADNI_014_S_1095_MR_MPR__GradWarp__B1_Correction__N3__Scaled_Br_20070910172955445_S33488_I72179.nii\n",
      "Already have ADNI_014_S_1095_MR_MPR__GradWarp__B1_Correction__N3__Scaled_Br_20080221164939884_S45077_I91459.nii\n",
      "Already have ADNI_016_S_0354_MR_MPR__GradWarp__B1_Correction__N3__Scaled_Br_20080225190402189_S14080_I92669.nii\n",
      "Already have ADNI_016_S_0354_MR_MPR__GradWarp__B1_Correction__N3__Scaled_Br_20071223123750530_S23751_I86040.nii\n",
      "Already have ADNI_016_S_0354_MR_MPR__GradWarp__B1_Correction__N3__Scaled_Br_20080408122151990_S35901_I101389.nii\n",
      "Already have ADNI_016_S_0359_MR_MPR__GradWarp__B1_Correction__N3__Scaled_Br_20080308122209967_S13000_I96221.nii\n",
      "Already have ADNI_016_S_0359_MR_MPR__GradWarp__B1_Correction__N3__Scaled_Br_20070927073945907_S23814_I75447.nii\n",
      "Already have ADNI_016_S_0359_MR_MPR__GradWarp__B1_Correction__N3__Scaled_Br_20071027105234721_S36275_I78618.nii\n",
      "Already have ADNI_016_S_0538_MR_MPR-R__GradWarp__B1_Correction__N3__Scaled_Br_20070804132930818_S27442_I64604.nii\n",
      "Already have ADNI_016_S_0538_MR_MPR__GradWarp__B1_Correction__N3__Scaled_Br_20070217020336501_S17545_I40772.nii\n",
      "Already have ADNI_016_S_0538_MR_MPR__GradWarp__B1_Correction__N3__Scaled_Br_20071027141702586_S37952_I78823.nii\n",
      "Already have ADNI_016_S_0702_MR_MPR__GradWarp__B1_Correction__N3__Scaled_Br_20070217021444111_S17341_I40781.nii\n",
      "Already have ADNI_016_S_0702_MR_MPR__GradWarp__B1_Correction__N3__Scaled_Br_20070804133236572_S26925_I64609.nii\n",
      "Already have ADNI_016_S_0702_MR_MPR__GradWarp__B1_Correction__N3__Scaled_Br_20080318132505269_S42336_I98747.nii\n",
      "Already have ADNI_016_S_0769_MR_MPR-R__GradWarp__B1_Correction__N3__Scaled_Br_20071029103746734_S38594_I79313.nii\n",
      "Already have ADNI_016_S_0769_MR_MPR__GradWarp__B1_Correction__N3__Scaled_Br_20071229173837136_S28899_I86309.nii\n",
      "Already have ADNI_016_S_0991_MR_MPR-R__GradWarp__B1_Correction__N3__Scaled_Br_20070217023139686_S21737_I40794.nii\n",
      "Already have ADNI_016_S_0991_MR_MPR__GradWarp__B1_Correction__N3__Scaled_Br_20070921140555716_S37001_I74222.nii\n",
      "Already have ADNI_016_S_0991_MR_MPR__GradWarp__B1_Correction__N3__Scaled_Br_20080123082917741_S43867_I88024.nii\n",
      "Already have ADNI_016_S_1028_MR_MPR-R__GradWarp__B1_Correction__N3__Scaled_Br_20071027105857806_S36287_I78631.nii\n",
      "Already have ADNI_016_S_1028_MR_MPR__GradWarp__B1_Correction__N3__Scaled_Br_20070217023802197_S22058_I40799.nii\n",
      "Already have ADNI_016_S_1028_MR_MPR__GradWarp__B1_Correction__N3__Scaled_Br_20071221153947612_S43207_I85925.nii\n",
      "Already have ADNI_016_S_1117_MR_MPR__GradWarp__B1_Correction__N3__Scaled_Br_20070322173101235_S23327_I46384.nii\n",
      "Already have ADNI_016_S_1117_MR_MPR__GradWarp__B1_Correction__N3__Scaled_Br_20071027142142120_S41507_I78832.nii\n",
      "Already have ADNI_016_S_1117_MR_MPR__GradWarp__B1_Correction__N3__Scaled_Br_20080220095509697_S44122_I90857.nii\n",
      "Already have ADNI_016_S_1326_MR_MPR__GradWarp__B1_Correction__N3__Scaled_Br_20070727131057546_S27431_I62395.nii\n",
      "Already have ADNI_016_S_1326_MR_MPR__GradWarp__B1_Correction__N3__Scaled_Br_20071029104144867_S40723_I79318.nii\n",
      "Already have ADNI_016_S_1326_MR_MPR__GradWarp__B1_Correction__N3__Scaled_Br_20080421165832654_S47634_I103313.nii\n"
     ]
    },
    {
     "name": "stdout",
     "output_type": "stream",
     "text": [
      "Already have ADNI_018_S_0043_MR_MPR____N3__Scaled_Br_20070118005318572_S10493_I36485.nii\n",
      "Already have ADNI_018_S_0043_MR_MPR____N3__Scaled_Br_20070101204848684_S17699_I34975.nii\n",
      "Already have ADNI_018_S_0043_MR_MPR____N3__Scaled_Br_20070808161505098_S25956_I65926.nii\n",
      "Already have ADNI_018_S_0043_MR_MPR____N3__Scaled_2_Br_20081010112340605_S10493_I120056.nii\n",
      "Already have ADNI_018_S_0043_MR_MPR____N3__Scaled_2_Br_20081008152408223_S17699_I119794.nii\n",
      "Already have ADNI_018_S_0043_MR_MPR____N3__Scaled_2_Br_20081002103555879_S25956_I118996.nii\n",
      "Already have ADNI_018_S_0055_MR_MPR____N3__Scaled_Br_20071229181121821_S10371_I86354.nii\n",
      "Already have ADNI_018_S_0055_MR_MPR____N3__Scaled_Br_20070101205429579_S16960_I34979.nii\n",
      "Already have ADNI_018_S_0055_MR_MPR____N3__Scaled_Br_20070818114427309_S27187_I68428.nii\n",
      "Already have ADNI_018_S_0055_MR_MPR____N3__Scaled_2_Br_20081001150640983_S10371_I118831.nii\n",
      "Already have ADNI_018_S_0055_MR_MPR____N3__Scaled_2_Br_20081008152513256_S16960_I119795.nii\n",
      "Already have ADNI_018_S_0055_MR_MPR____N3__Scaled_2_Br_20081001150816534_S27187_I118833.nii\n",
      "Already have ADNI_018_S_0057_MR_MPR-R____N3__Scaled_Br_20070118010453591_S10209_I36501.nii\n",
      "Already have ADNI_018_S_0057_MR_MPR-R____N3__Scaled_2_Br_20081001150356489_S10209_I118828.nii\n",
      "Already have ADNI_018_S_0057_MR_MPR____N3__Scaled_Br_20070101210204220_S18004_I34984.nii\n",
      "Already have ADNI_018_S_0057_MR_MPR____N3__Scaled_Br_20070808162056589_S24908_I65931.nii\n",
      "Already have ADNI_018_S_0057_MR_MPR____N3__Scaled_2_Br_20081008152616868_S18004_I119796.nii\n",
      "Already have ADNI_018_S_0057_MR_MPR____N3__Scaled_2_Br_20081001150538284_S24908_I118830.nii\n",
      "Already have ADNI_018_S_0080_MR_MPR____N3__Scaled_Br_20080124144345215_S10722_I88356.nii\n",
      "Already have ADNI_018_S_0080_MR_MPR____N3__Scaled_Br_20071027170811553_S16656_I78850.nii\n",
      "Already have ADNI_018_S_0080_MR_MPR____N3__Scaled_Br_20070821181307557_S24963_I69594.nii\n",
      "Already have ADNI_018_S_0080_MR_MPR____N3__Scaled_2_Br_20081001150046859_S10722_I118825.nii\n",
      "Already have ADNI_018_S_0080_MR_MPR____N3__Scaled_2_Br_20081001150150334_S16656_I118826.nii\n",
      "Already have ADNI_018_S_0080_MR_MPR____N3__Scaled_2_Br_20081001150253547_S24963_I118827.nii\n",
      "Already have ADNI_018_S_0087_MR_MPR____N3__Scaled_Br_20070118010954116_S10687_I36504.nii\n",
      "Already have ADNI_018_S_0087_MR_MPR____N3__Scaled_Br_20070101211011712_S18064_I34989.nii\n",
      "Already have ADNI_018_S_0087_MR_MPR____N3__Scaled_Br_20070818114925515_S26199_I68433.nii\n",
      "Already have ADNI_018_S_0087_MR_MPR____N3__Scaled_2_Br_20081001151240791_S10687_I118838.nii\n",
      "Already have ADNI_018_S_0087_MR_MPR____N3__Scaled_2_Br_20081008152718002_S18064_I119797.nii\n",
      "Already have ADNI_018_S_0087_MR_MPR____N3__Scaled_2_Br_20081001145937692_S26199_I118824.nii\n",
      "Already have ADNI_018_S_0142_MR_MPR____N3__Scaled_Br_20070119225705049_S10989_I36886.nii\n",
      "Already have ADNI_018_S_0142_MR_MPR____N3__Scaled_Br_20070101212601695_S18255_I34999.nii\n",
      "Already have ADNI_018_S_0142_MR_MPR____N3__Scaled_Br_20070808162912804_S26622_I65938.nii\n",
      "Already have ADNI_018_S_0142_MR_MPR____N3__Scaled_2_Br_20081001135757649_S10989_I118792.nii\n",
      "Already have ADNI_018_S_0142_MR_MPR____N3__Scaled_2_Br_20081008152926640_S18255_I119799.nii\n",
      "Already have ADNI_018_S_0142_MR_MPR____N3__Scaled_2_Br_20081001140158356_S26622_I118797.nii\n",
      "Already have ADNI_018_S_0155_MR_MPR____N3__Scaled_Br_20070119230259800_S11767_I36892.nii\n",
      "Already have ADNI_018_S_0155_MR_MPR____N3__Scaled_Br_20070101213348106_S19212_I35004.nii\n",
      "Already have ADNI_018_S_0155_MR_MPR____N3__Scaled_Br_20070812125450013_S28709_I67097.nii\n",
      "Already have ADNI_018_S_0155_MR_MPR____N3__Scaled_2_Br_20081001135448954_S11767_I118789.nii\n",
      "Already have ADNI_018_S_0155_MR_MPR____N3__Scaled_2_Br_20081008153026892_S19212_I119800.nii\n",
      "Already have ADNI_018_S_0155_MR_MPR____N3__Scaled_2_Br_20081001135647749_S28709_I118791.nii\n",
      "Already have ADNI_018_S_0286_MR_MPR____N3__Scaled_Br_20070120013124801_S12435_I37007.nii\n",
      "Already have ADNI_018_S_0286_MR_MPR____N3__Scaled_Br_20070118012618369_S22614_I36514.nii\n",
      "Already have ADNI_018_S_0286_MR_MPR____N3__Scaled_Br_20070812130040381_S32252_I67104.nii\n",
      "Already have ADNI_018_S_0286_MR_MPR____N3__Scaled_2_Br_20081001135113951_S12435_I118779.nii\n",
      "Already have ADNI_018_S_0286_MR_MPR____N3__Scaled_2_Br_20081001135226421_S22614_I118783.nii\n",
      "Already have ADNI_018_S_0286_MR_MPR____N3__Scaled_2_Br_20081001135339185_S32252_I118788.nii\n",
      "Already have ADNI_018_S_0335_MR_MPR____N3__Scaled_Br_20070101214204431_S14586_I35009.nii\n",
      "Already have ADNI_018_S_0335_MR_MPR____N3__Scaled_Br_20070815094856004_S23016_I67686.nii\n",
      "Already have ADNI_018_S_0335_MR_MPR____N3__Scaled_Br_20070816110837617_S32543_I67928.nii\n",
      "Already have ADNI_018_S_0335_MR_MPR____N3__Scaled_2_Br_20081008153133922_S14586_I119801.nii\n",
      "Already have ADNI_018_S_0335_MR_MPR____N3__Scaled_2_Br_20081001134853306_S23016_I118777.nii\n",
      "Already have ADNI_018_S_0335_MR_MPR____N3__Scaled_2_Br_20081001135002179_S32543_I118778.nii\n",
      "Already have ADNI_018_S_0369_MR_MPR-R____N3__Scaled_Br_20070821181746124_S21216_I69599.nii\n",
      "Already have ADNI_018_S_0369_MR_MPR-R____N3__Scaled_2_Br_20081001134054148_S21216_I118774.nii\n",
      "Already have ADNI_018_S_0369_MR_MPR____N3__Scaled_Br_20070123185416090_S12613_I37194.nii\n",
      "Already have ADNI_018_S_0369_MR_MPR____N3__Scaled_Br_20071115090302781_S37384_I82152.nii\n",
      "Already have ADNI_018_S_0369_MR_MPR____N3__Scaled_2_Br_20081001133823173_S12613_I118772.nii\n",
      "Already have ADNI_018_S_0369_MR_MPR____N3__Scaled_2_Br_20081001134646611_S37384_I118775.nii\n",
      "Already have ADNI_018_S_0406_MR_MPR____N3__Scaled_Br_20070123190542509_S13623_I37199.nii\n",
      "Already have ADNI_018_S_0406_MR_MPR____N3__Scaled_Br_20070816111640480_S23717_I67938.nii\n",
      "Already have ADNI_018_S_0406_MR_MPR____N3__Scaled_Br_20070815095424417_S33255_I67692.nii\n",
      "Already have ADNI_018_S_0406_MR_MPR____N3__Scaled_2_Br_20081001133501175_S13623_I118769.nii\n",
      "Already have ADNI_018_S_0406_MR_MPR____N3__Scaled_2_Br_20081001133607877_S23717_I118770.nii\n",
      "Already have ADNI_018_S_0406_MR_MPR____N3__Scaled_2_Br_20081001133716002_S33255_I118771.nii\n",
      "Already have ADNI_018_S_0425_MR_MPR____N3__Scaled_Br_20070731165720140_S13585_I63383.nii\n",
      "Already have ADNI_018_S_0425_MR_MPR____N3__Scaled_Br_20070810173727274_S23884_I66977.nii\n",
      "Already have ADNI_018_S_0425_MR_MPR____N3__Scaled_Br_20070810174334919_S33642_I66984.nii\n",
      "Already have ADNI_018_S_0425_MR_MPR____N3__Scaled_2_Br_20081001133125082_S13585_I118766.nii\n",
      "Already have ADNI_018_S_0425_MR_MPR____N3__Scaled_2_Br_20081001133238550_S23884_I118767.nii\n",
      "Already have ADNI_018_S_0425_MR_MPR____N3__Scaled_2_Br_20081001133348439_S33642_I118768.nii\n",
      "Already have ADNI_018_S_0450_MR_MPR-R____N3__Scaled_Br_20070123192028100_S13994_I37206.nii\n",
      "Already have ADNI_018_S_0450_MR_MPR-R____N3__Scaled_2_Br_20081001132757799_S13994_I118763.nii\n",
      "Already have ADNI_018_S_0450_MR_MPR____N3__Scaled_Br_20070818115440437_S23669_I68438.nii\n",
      "Already have ADNI_018_S_0450_MR_MPR____N3__Scaled_Br_20071115090650774_S33473_I82157.nii\n",
      "Already have ADNI_018_S_0450_MR_MPR____N3__Scaled_2_Br_20081001132906851_S23669_I118764.nii\n",
      "Already have ADNI_018_S_0450_MR_MPR____N3__Scaled_2_Br_20081001133016956_S33473_I118765.nii\n",
      "Already have ADNI_018_S_0633_MR_MPR-R____N3__Scaled_Br_20070101222816515_S15573_I35036.nii\n",
      "Already have ADNI_018_S_0633_MR_MPR-R____N3__Scaled_2_Br_20081010112443772_S15573_I120057.nii\n",
      "Already have ADNI_018_S_0633_MR_MPR____N3__Scaled_Br_20120731122835330_S25294_I319789.nii\n",
      "Already have ADNI_018_S_0633_MR_MPR____N3__Scaled_Br_20070913153200036_S35137_I73053.nii\n",
      "Already have ADNI_018_S_0633_MR_MPR____N3__Scaled_2_Br_20081124142824991_S25294_I128360.nii\n",
      "Already have ADNI_018_S_0682_MR_MPR____N3__Scaled_Br_20070101224115510_S16293_I35044.nii\n",
      "Already have ADNI_018_S_0682_MR_MPR____N3__Scaled_Br_20070808165106608_S25847_I65971.nii\n",
      "Already have ADNI_018_S_0682_MR_MPR____N3__Scaled_Br_20070808165455666_S36663_I65975.nii\n",
      "Already have ADNI_018_S_0682_MR_MPR____N3__Scaled_2_Br_20081008153234434_S16293_I119802.nii\n",
      "Already have ADNI_018_S_0682_MR_MPR____N3__Scaled_2_Br_20081001132350412_S25847_I118761.nii\n",
      "Already have ADNI_020_S_0097_MR_MPR__GradWarp__B1_Correction__N3__Scaled_Br_20070802170349114_S10858_I64046.nii\n",
      "Already have ADNI_020_S_0097_MR_MPR__GradWarp__B1_Correction__N3__Scaled_Br_20071002181016103_S19065_I76606.nii\n",
      "Already have ADNI_020_S_0097_MR_MPR__GradWarp__B1_Correction__N3__Scaled_Br_20070718115913168_S28105_I60594.nii\n",
      "Already have ADNI_020_S_0213_MR_MPR__GradWarp__B1_Correction__N3__Scaled_Br_20070718120158728_S12386_I60600.nii\n",
      "Already have ADNI_020_S_0213_MR_MPR__GradWarp__B1_Correction__N3__Scaled_Br_20070718120657794_S22879_I60609.nii\n",
      "Already have ADNI_020_S_0213_MR_MPR__GradWarp__B1_Correction__N3__Scaled_Br_20070904192424909_S33112_I71454.nii\n",
      "Already have ADNI_020_S_0883_MR_MPR__GradWarp__B1_Correction__N3__Scaled_Br_20070718141322351_S19459_I60673.nii\n",
      "Already have ADNI_020_S_0883_MR_MPR__GradWarp__B1_Correction__N3__Scaled_Br_20080302111302621_S32319_I94854.nii\n",
      "Already have ADNI_020_S_0883_MR_MPR__GradWarp__B1_Correction__N3__Scaled_Br_20080124113934759_S44434_I88261.nii\n",
      "Already have ADNI_020_S_1288_MR_MPR__GradWarp__B1_Correction__N3__Scaled_Br_20070718140740691_S26890_I60664.nii\n",
      "Already have ADNI_020_S_1288_MR_MPR__GradWarp__B1_Correction__N3__Scaled_Br_20071027171423507_S41459_I78860.nii\n",
      "Already have ADNI_020_S_1288_MR_MPR__GradWarp__B1_Correction__N3__Scaled_Br_20080313100041472_S46664_I97027.nii\n",
      "Already have ADNI_021_S_0141_MR_MPR__GradWarp__N3__Scaled_Br_20061217092830688_S11036_I33396.nii\n",
      "Already have ADNI_021_S_0141_MR_MPR__GradWarp__N3__Scaled_Br_20061217093033371_S17650_I33397.nii\n",
      "Already have ADNI_021_S_0141_MR_MPR__GradWarp__N3__Scaled_Br_20070816112108139_S27046_I67941.nii\n"
     ]
    },
    {
     "name": "stdout",
     "output_type": "stream",
     "text": [
      "Already have ADNI_021_S_0159_MR_MPR-R__GradWarp__N3__Scaled_Br_20061217141337814_S11314_I33489.nii\n",
      "Already have ADNI_021_S_0159_MR_MPR__GradWarp__N3__Scaled_Br_20061219164519546_S18667_I33779.nii\n",
      "Already have ADNI_021_S_0159_MR_MPR__GradWarp__N3__Scaled_Br_20070816114357907_S27469_I67958.nii\n",
      "Already have ADNI_021_S_0231_MR_MPR-R__GradWarp__N3__Scaled_Br_20061217142113223_S11835_I33493.nii\n",
      "Already have ADNI_021_S_0231_MR_MPR__GradWarp__N3__Scaled_Br_20061217132926455_S18786_I33465.nii\n",
      "Already have ADNI_021_S_0231_MR_MPR__GradWarp__N3__Scaled_Br_20070816120042598_S28705_I67969.nii\n",
      "Already have ADNI_021_S_0273_MR_MPR-R__GradWarp__N3__Scaled_Br_20061219104123624_S19838_I33692.nii\n",
      "Already have ADNI_021_S_0273_MR_MPR-R__GradWarp__N3__Scaled_Br_20070818120409392_S32733_I68448.nii\n",
      "Already have ADNI_021_S_0273_MR_MPR__GradWarp__N3__Scaled_Br_20061217122235127_S12168_I33428.nii\n",
      "Already have ADNI_021_S_0276_MR_MPR__GradWarp__N3__Scaled_Br_20061217123049639_S12260_I33433.nii\n",
      "Already have ADNI_021_S_0276_MR_MPR__GradWarp__N3__Scaled_Br_20061217133727654_S19508_I33469.nii\n",
      "Already have ADNI_021_S_0276_MR_MPR__GradWarp__N3__Scaled_Br_20070816121309684_S29264_I67986.nii\n",
      "Already have ADNI_021_S_0332_MR_MPR-R__GradWarp__N3__Scaled_Br_20061218165657362_S12756_I33599.nii\n",
      "Already have ADNI_021_S_0332_MR_MPR__GradWarp__N3__Scaled_Br_20071028193907469_S20322_I79171.nii\n",
      "Already have ADNI_021_S_0332_MR_MPR__GradWarp__N3__Scaled_Br_20070821150611610_S30699_I69472.nii\n",
      "Already have ADNI_021_S_0337_MR_MPR__GradWarp__N3__Scaled_Br_20061217123842517_S12485_I33437.nii\n",
      "Already have ADNI_021_S_0337_MR_MPR__GradWarp__N3__Scaled_Br_20070816122538165_S20803_I67997.nii\n",
      "Already have ADNI_021_S_0337_MR_MPR__GradWarp__N3__Scaled_Br_20070816123821084_S30687_I68006.nii\n",
      "Already have ADNI_021_S_0343_MR_MPR__GradWarp__N3__Scaled_Br_20061217125152228_S12836_I33444.nii\n",
      "Already have ADNI_021_S_0343_MR_MPR__GradWarp__N3__Scaled_Br_20061217135740511_S21047_I33480.nii\n",
      "Already have ADNI_021_S_0343_MR_MPR__GradWarp__N3__Scaled_Br_20071219174234295_S30492_I85699.nii\n",
      "Already have ADNI_021_S_0424_MR_MPR-R__GradWarp__N3__Scaled_Br_20061219090034974_S13531_I33644.nii\n",
      "Already have ADNI_021_S_0424_MR_MPR-R__GradWarp__N3__Scaled_Br_20070816130740638_S32083_I68032.nii\n",
      "Already have ADNI_021_S_0424_MR_MPR__GradWarp__N3__Scaled_Br_20071223124343525_S22346_I86050.nii\n",
      "Already have ADNI_021_S_0626_MR_MPR-R__GradWarp__N3__Scaled_Br_20070816132730116_S26663_I68056.nii\n",
      "Already have ADNI_021_S_0626_MR_MPR-R__GradWarp__N3__Scaled_Br_20070920165015965_S36988_I73903.nii\n",
      "Already have ADNI_021_S_0626_MR_MPR__GradWarp__N3__Scaled_Br_20061229121810690_S15969_I34672.nii\n",
      "Already have ADNI_021_S_0642_MR_MPR-R__GradWarp__N3__Scaled_Br_20070816134707102_S35279_I68067.nii\n",
      "Already have ADNI_021_S_0642_MR_MPR__GradWarp__N3__Scaled_Br_20061217130526879_S15935_I33452.nii\n",
      "Already have ADNI_021_S_0642_MR_MPR__GradWarp__N3__Scaled_Br_20070818121348803_S25532_I68456.nii\n",
      "Already have ADNI_021_S_0647_MR_MPR__GradWarp__N3__Scaled_Br_20061217131346116_S15957_I33457.nii\n",
      "Already have ADNI_021_S_0647_MR_MPR__GradWarp__N3__Scaled_Br_20070818122709700_S26237_I68467.nii\n",
      "Already have ADNI_021_S_0647_MR_MPR__GradWarp__N3__Scaled_Br_20070904192940998_S36847_I71463.nii\n",
      "Already have ADNI_021_S_0753_MR_MPR__GradWarp__N3__Scaled_Br_20061217132116005_S17580_I33461.nii\n",
      "Already have ADNI_021_S_0753_MR_MPR__GradWarp__N3__Scaled_Br_20070818123624435_S28163_I68474.nii\n",
      "Already have ADNI_021_S_0753_MR_MPR__GradWarp__N3__Scaled_Br_20071027171943945_S39234_I78869.nii\n",
      "Already have ADNI_021_S_0984_MR_MPR-R__GradWarp__N3__Scaled_Br_20080123083806030_S43851_I88036.nii\n",
      "Already have ADNI_021_S_0984_MR_MPR__GradWarp__N3__Scaled_Br_20061217135011341_S20680_I33476.nii\n",
      "Already have ADNI_021_S_0984_MR_MPR__GradWarp__N3__Scaled_Br_20071002181534283_S34236_I76615.nii\n",
      "Already have ADNI_021_S_1109_MR_MPR__GradWarp__N3__Scaled_Br_20070727185946236_S23446_I62695.nii\n",
      "Already have ADNI_021_S_1109_MR_MPR__GradWarp__N3__Scaled_Br_20070816135642636_S34639_I68072.nii\n",
      "Already have ADNI_021_S_1109_MR_MPR__GradWarp__N3__Scaled_Br_20080221170659686_S44487_I91483.nii\n",
      "Already have ADNI_022_S_0004_MR_MPR-R__GradWarp__B1_Correction__N3__Scaled_Br_20070804134614900_S9234_I64631.nii\n",
      "Already have ADNI_022_S_0004_MR_MPR__GradWarp__B1_Correction__N3__Scaled_Br_20070804134936472_S14969_I64636.nii\n",
      "Already have ADNI_022_S_0004_MR_MPR__GradWarp__B1_Correction__N3__Scaled_Br_20070712141301758_S23080_I59357.nii\n",
      "Already have ADNI_022_S_0014_MR_MPR-R__GradWarp__B1_Correction__N3__Scaled_Br_20070712143954307_S23204_I59391.nii\n",
      "Already have ADNI_022_S_0014_MR_MPR__GradWarp__B1_Correction__N3__Scaled_Br_20070712143051450_S9271_I59375.nii\n",
      "Already have ADNI_022_S_0014_MR_MPR__GradWarp__B1_Correction__N3__Scaled_Br_20070804140113710_S14685_I64654.nii\n",
      "Already have ADNI_022_S_0066_MR_MPR-R__GradWarp__B1_Correction__N3__Scaled_Br_20070712145759645_S15452_I59429.nii\n",
      "Already have ADNI_022_S_0066_MR_MPR__GradWarp__B1_Correction__N3__Scaled_Br_20070712150156508_S10271_I59446.nii\n",
      "Already have ADNI_022_S_0066_MR_MPR__GradWarp__B1_Correction__N3__Scaled_Br_20080307182205131_S45826_I96110.nii\n",
      "Already have ADNI_022_S_0129_MR_MPR__GradWarp__B1_Correction__N3__Scaled_Br_20070712152611314_S11485_I59484.nii\n",
      "Already have ADNI_022_S_0129_MR_MPR__GradWarp__B1_Correction__N3__Scaled_Br_20070712152039343_S17914_I59475.nii\n",
      "Already have ADNI_022_S_0129_MR_MPR__GradWarp__B1_Correction__N3__Scaled_Br_20070712153152932_S27668_I59493.nii\n",
      "Already have ADNI_022_S_0130_MR_MPR__GradWarp__B1_Correction__N3__Scaled_Br_20070712154033261_S11089_I59524.nii\n",
      "Already have ADNI_022_S_0130_MR_MPR__GradWarp__B1_Correction__N3__Scaled_Br_20070804140703555_S18030_I64663.nii\n",
      "Already have ADNI_022_S_0130_MR_MPR__GradWarp__B1_Correction__N3__Scaled_Br_20070727190752501_S27716_I62702.nii\n",
      "Already have ADNI_022_S_0544_MR_MPR-R__GradWarp__B1_Correction__N3__Scaled_Br_20070821182241599_S23957_I69606.nii\n",
      "Already have ADNI_022_S_0544_MR_MPR__GradWarp__B1_Correction__N3__Scaled_Br_20070804141253074_S14679_I64672.nii\n",
      "Already have ADNI_022_S_0544_MR_MPR__GradWarp__B1_Correction__N3__Scaled_Br_20071002182720478_S34494_I76631.nii\n",
      "Already have ADNI_022_S_0750_MR_MPR__GradWarp__B1_Correction__N3__Scaled_Br_20070712155703378_S17695_I59552.nii\n",
      "Already have ADNI_022_S_0750_MR_MPR__GradWarp__B1_Correction__N3__Scaled_Br_20070712160153161_S27713_I59561.nii\n",
      "Already have ADNI_022_S_0750_MR_MPR__GradWarp__B1_Correction__N3__Scaled_Br_20070913153444646_S36738_I73057.nii\n",
      "Already have ADNI_022_S_0961_MR_MPR-R__GradWarp__B1_Correction__N3__Scaled_Br_20070712161422506_S20711_I59601.nii\n",
      "Already have ADNI_022_S_0961_MR_MPR__GradWarp__B1_Correction__N3__Scaled_Br_20070808165942889_S32706_I65980.nii\n",
      "Already have ADNI_022_S_0961_MR_MPR__GradWarp__B1_Correction__N3__Scaled_Br_20071125122931728_S42324_I83003.nii\n",
      "Already have ADNI_022_S_1351_MR_MPR__GradWarp__B1_Correction__N3__Scaled_Br_20070712162218272_S28484_I59615.nii\n",
      "Already have ADNI_022_S_1351_MR_MPR__GradWarp__B1_Correction__N3__Scaled_Br_20070927171956969_S39000_I75642.nii\n",
      "Already have ADNI_022_S_1351_MR_MPR__GradWarp__B1_Correction__N3__Scaled_Br_20080313101358547_S46658_I97046.nii\n",
      "Already have ADNI_022_S_1394_MR_MPR-R__GradWarp__B1_Correction__N3__Scaled_Br_20070816140829464_S34317_I68082.nii\n",
      "Already have ADNI_022_S_1394_MR_MPR-R__GradWarp__B1_Correction__N3__Scaled_Br_20080111111045102_S44027_I87027.nii\n",
      "Already have ADNI_022_S_1394_MR_MPR__GradWarp__B1_Correction__N3__Scaled_Br_20080604084438625_S50642_I108348.nii\n",
      "Already have ADNI_023_S_0030_MR_MPR-R__GradWarp__B1_Correction__N3__Scaled_Br_20071113171203270_S20024_I81851.nii\n",
      "Already have ADNI_023_S_0030_MR_MPR-R__GradWarp__B1_Correction__N3__Scaled_2_Br_20081001140030344_S20024_I118795.nii\n",
      "Already have ADNI_023_S_0030_MR_MPR__GradWarp__B1_Correction__N3__Scaled_Br_20061204155608167_S9441_I31631.nii\n",
      "Already have ADNI_023_S_0030_MR_MPR__GradWarp__B1_Correction__N3__Scaled_Br_20070307105424459_S13218_I43121.nii\n",
      "Already have ADNI_023_S_0030_MR_MPR__GradWarp__B1_Correction__N3__Scaled_2_Br_20081001130228972_S9441_I118750.nii\n",
      "Already have ADNI_023_S_0030_MR_MPR__GradWarp__B1_Correction__N3__Scaled_2_Br_20081001135904958_S13218_I118793.nii\n",
      "Already have ADNI_023_S_0031_MR_MPR-R__GradWarp__B1_Correction__N3__Scaled_Br_20070517135657936_S21467_I54702.nii\n",
      "Already have ADNI_023_S_0031_MR_MPR-R__GradWarp__B1_Correction__N3__Scaled_2_Br_20081001151817548_S21467_I118845.nii\n",
      "Already have ADNI_023_S_0031_MR_MPR__GradWarp__B1_Correction__N3__Scaled_Br_20070821182618561_S9785_I69612.nii\n",
      "Already have ADNI_023_S_0031_MR_MPR__GradWarp__B1_Correction__N3__Scaled_Br_20070427181005742_S13244_I51920.nii\n",
      "Already have ADNI_023_S_0031_MR_MPR__GradWarp__B1_Correction__N3__Scaled_2_Br_20081001151656758_S9785_I118843.nii\n",
      "Already have ADNI_023_S_0031_MR_MPR__GradWarp__B1_Correction__N3__Scaled_2_Br_20081001151439695_S13244_I118840.nii\n",
      "Already have ADNI_023_S_0042_MR_MPR-R__GradWarp__B1_Correction__N3__Scaled_Br_20061130173634563_S8852_I31084.nii\n",
      "Already have ADNI_023_S_0042_MR_MPR-R__GradWarp__B1_Correction__N3__Scaled_Br_20061130175534482_S13959_I31093.nii\n",
      "Already have ADNI_023_S_0042_MR_MPR-R__GradWarp__B1_Correction__N3__Scaled_2_Br_20081001152151617_S8852_I118850.nii\n"
     ]
    },
    {
     "name": "stdout",
     "output_type": "stream",
     "text": [
      "Already have ADNI_023_S_0042_MR_MPR-R__GradWarp__B1_Correction__N3__Scaled_2_Br_20081001140113286_S13959_I118796.nii\n",
      "Already have ADNI_023_S_0042_MR_MPR__GradWarp__B1_Correction__N3__Scaled_Br_20070427182250489_S22275_I51939.nii\n",
      "Already have ADNI_023_S_0042_MR_MPR__GradWarp__B1_Correction__N3__Scaled_2_Br_20081001140417213_S22275_I118799.nii\n",
      "Already have ADNI_023_S_0058_MR_MPR-R__GradWarp__B1_Correction__N3__Scaled_Br_20061130142201343_S15796_I31008.nii\n",
      "Already have ADNI_023_S_0058_MR_MPR-R__GradWarp__B1_Correction__N3__Scaled_2_Br_20081001151942868_S15796_I118847.nii\n",
      "Already have ADNI_023_S_0058_MR_MPR__GradWarp__B1_Correction__N3__Scaled_Br_20080605143248460_S10335_I108504.nii\n",
      "Already have ADNI_023_S_0058_MR_MPR__GradWarp__B1_Correction__N3__Scaled_Br_20090121115116009_S24265_I134207.nii\n",
      "Already have ADNI_023_S_0058_MR_MPR__GradWarp__B1_Correction__N3__Scaled_2_Br_20081001150737723_S10335_I118832.nii\n",
      "Already have ADNI_023_S_0061_MR_MPR-R__GradWarp__B1_Correction__N3__Scaled_Br_20061130181357306_S10312_I31102.nii\n",
      "Already have ADNI_023_S_0061_MR_MPR-R__GradWarp__B1_Correction__N3__Scaled_2_Br_20081002133811269_S10312_I119062.nii\n",
      "Already have ADNI_023_S_0061_MR_MPR__GradWarp__B1_Correction__N3__Scaled_Br_20061130184603834_S16092_I31116.nii\n",
      "Already have ADNI_023_S_0061_MR_MPR__GradWarp__B1_Correction__N3__Scaled_Br_20071113172205149_S23473_I81865.nii\n",
      "Already have ADNI_023_S_0061_MR_MPR__GradWarp__B1_Correction__N3__Scaled_2_Br_20081001152741913_S16092_I118857.nii\n",
      "Already have ADNI_023_S_0061_MR_MPR__GradWarp__B1_Correction__N3__Scaled_2_Br_20081001152916201_S23473_I118859.nii\n",
      "Already have ADNI_023_S_0078_MR_MPR-R__GradWarp__B1_Correction__N3__Scaled_Br_20070427190117586_S10619_I51999.nii\n",
      "Already have ADNI_023_S_0078_MR_MPR-R__GradWarp__B1_Correction__N3__Scaled_Br_20071029181834378_S16779_I79545.nii\n",
      "Already have ADNI_023_S_0078_MR_MPR-R__GradWarp__B1_Correction__N3__Scaled_2_Br_20081001153036948_S10619_I118861.nii\n",
      "Already have ADNI_023_S_0078_MR_MPR-R__GradWarp__B1_Correction__N3__Scaled_2_Br_20081001153353830_S16779_I118865.nii\n",
      "Already have ADNI_023_S_0078_MR_MPR__GradWarp__B1_Correction__N3__Scaled_Br_20070427190425428_S24894_I52004.nii\n",
      "Already have ADNI_023_S_0078_MR_MPR__GradWarp__B1_Correction__N3__Scaled_2_Br_20081001153432788_S24894_I118866.nii\n",
      "Already have ADNI_023_S_0081_MR_MPR__GradWarp__B1_Correction__N3__Scaled_Br_20061130190355722_S10813_I31125.nii\n",
      "Already have ADNI_023_S_0081_MR_MPR__GradWarp__B1_Correction__N3__Scaled_Br_20061130192303751_S17259_I31134.nii\n",
      "Already have ADNI_023_S_0081_MR_MPR__GradWarp__B1_Correction__N3__Scaled_Br_20070427191834834_S25073_I52022.nii\n",
      "Already have ADNI_023_S_0081_MR_MPR__GradWarp__B1_Correction__N3__Scaled_2_Br_20081001153645430_S10813_I118869.nii\n",
      "Already have ADNI_023_S_0081_MR_MPR__GradWarp__B1_Correction__N3__Scaled_2_Br_20081001153822565_S17259_I118872.nii\n",
      "Already have ADNI_023_S_0081_MR_MPR__GradWarp__B1_Correction__N3__Scaled_2_Br_20081001153901338_S25073_I118873.nii\n",
      "Already have ADNI_023_S_0083_MR_MPR-R__GradWarp__B1_Correction__N3__Scaled_Br_20061130200914095_S16441_I31156.nii\n",
      "Already have ADNI_023_S_0083_MR_MPR-R__GradWarp__B1_Correction__N3__Scaled_2_Br_20081001154057442_S16441_I118876.nii\n",
      "Already have ADNI_023_S_0083_MR_MPR__GradWarp__B1_Correction__N3__Scaled_Br_20061130194138457_S10568_I31143.nii\n",
      "Already have ADNI_023_S_0083_MR_MPR__GradWarp__B1_Correction__N3__Scaled_Br_20070427192401589_S24801_I52031.nii\n",
      "Already have ADNI_023_S_0083_MR_MPR__GradWarp__B1_Correction__N3__Scaled_2_Br_20081001153941224_S10568_I118874.nii\n",
      "Already have ADNI_023_S_0083_MR_MPR__GradWarp__B1_Correction__N3__Scaled_2_Br_20081001154135545_S24801_I118877.nii\n",
      "Already have ADNI_023_S_0084_MR_MPR-R__GradWarp__B1_Correction__N3__Scaled_Br_20061201102044695_S10764_I31205.nii\n",
      "Already have ADNI_023_S_0084_MR_MPR-R__GradWarp__B1_Correction__N3__Scaled_Br_20070427193146609_S25511_I52044.nii\n",
      "Already have ADNI_023_S_0084_MR_MPR-R__GradWarp__B1_Correction__N3__Scaled_2_Br_20081002100834283_S10764_I118970.nii\n",
      "Already have ADNI_023_S_0084_MR_MPR-R__GradWarp__B1_Correction__N3__Scaled_2_Br_20081002103336486_S25511_I118993.nii\n",
      "Already have ADNI_023_S_0084_MR_MPR__GradWarp__B1_Correction__N3__Scaled_Br_20061130201833308_S17395_I31161.nii\n",
      "Already have ADNI_023_S_0084_MR_MPR__GradWarp__B1_Correction__N3__Scaled_2_Br_20081002101743162_S17395_I118979.nii\n",
      "Already have ADNI_023_S_0126_MR_MPR-R__GradWarp__B1_Correction__N3__Scaled_Br_20061201141412569_S11525_I31271.nii\n",
      "Already have ADNI_023_S_0126_MR_MPR-R__GradWarp__B1_Correction__N3__Scaled_2_Br_20081002101037533_S11525_I118973.nii\n",
      "Already have ADNI_023_S_0126_MR_MPR__GradWarp__B1_Correction__N3__Scaled_Br_20061201142438992_S17656_I31276.nii\n",
      "Already have ADNI_023_S_0126_MR_MPR__GradWarp__B1_Correction__N3__Scaled_Br_20070727132913188_S28717_I62422.nii\n",
      "Already have ADNI_023_S_0126_MR_MPR__GradWarp__B1_Correction__N3__Scaled_2_Br_20081002101820359_S17656_I118980.nii\n",
      "Already have ADNI_023_S_0126_MR_MPR__GradWarp__B1_Correction__N3__Scaled_2_Br_20081002104122772_S28717_I119002.nii\n",
      "Already have ADNI_023_S_0139_MR_MPR-R__GradWarp__B1_Correction__N3__Scaled_Br_20070427194641931_S26343_I52066.nii\n",
      "Already have ADNI_023_S_0139_MR_MPR__GradWarp__B1_Correction__N3__Scaled_Br_20061201144502375_S11079_I31300.nii\n",
      "Already have ADNI_023_S_0139_MR_MPR__GradWarp__B1_Correction__N3__Scaled_Br_20071113173357620_S17401_I81883.nii\n",
      "Already have ADNI_023_S_0139_MR_MPR__GradWarp__B1_Correction__N3__Scaled_2_Br_20081002100910505_S11079_I118971.nii\n",
      "Already have ADNI_023_S_0139_MR_MPR__GradWarp__B1_Correction__N3__Scaled_2_Br_20081002101704974_S17401_I118978.nii\n",
      "Already have ADNI_023_S_0217_MR_MPR-R__GradWarp__B1_Correction__N3__Scaled_Br_20061201155914899_S11731_I31346.nii\n",
      "Already have ADNI_023_S_0217_MR_MPR-R__GradWarp__B1_Correction__N3__Scaled_Br_20061201161622153_S17864_I31355.nii\n",
      "Already have ADNI_023_S_0217_MR_MPR-R__GradWarp__B1_Correction__N3__Scaled_Br_20070427195156610_S27364_I52075.nii\n",
      "Already have ADNI_023_S_0217_MR_MPR-R__GradWarp__B1_Correction__N3__Scaled_2_Br_20081002101115159_S11731_I118974.nii\n",
      "Already have ADNI_023_S_0217_MR_MPR-R__GradWarp__B1_Correction__N3__Scaled_2_Br_20081002101959142_S17864_I118982.nii\n",
      "Already have ADNI_023_S_0217_MR_MPR-R__GradWarp__B1_Correction__N3__Scaled_2_Br_20081002103900223_S27364_I118999.nii\n",
      "Already have ADNI_023_S_0376_MR_MPR__GradWarp__B1_Correction__N3__Scaled_Br_20061201164531518_S12652_I31384.nii\n",
      "Already have ADNI_023_S_0376_MR_MPR__GradWarp__B1_Correction__N3__Scaled_Br_20070427195451050_S20393_I52080.nii\n",
      "Already have ADNI_023_S_0376_MR_MPR__GradWarp__B1_Correction__N3__Scaled_Br_20070805131041804_S28501_I64791.nii\n",
      "Already have ADNI_023_S_0376_MR_MPR__GradWarp__B1_Correction__N3__Scaled_2_Br_20081002101229250_S12652_I118976.nii\n",
      "Already have ADNI_023_S_0376_MR_MPR__GradWarp__B1_Correction__N3__Scaled_2_Br_20081001135948083_S20393_I118794.nii\n",
      "Already have ADNI_023_S_0376_MR_MPR__GradWarp__B1_Correction__N3__Scaled_2_Br_20081001151738109_S28501_I118844.nii\n",
      "Already have ADNI_023_S_0388_MR_MPR-R__GradWarp__B1_Correction__N3__Scaled_Br_20070805132753829_S29672_I64813.nii\n",
      "Already have ADNI_023_S_0388_MR_MPR-R__GradWarp__B1_Correction__N3__Scaled_2_Br_20081001153606104_S29672_I118868.nii\n",
      "Already have ADNI_023_S_0388_MR_MPR__GradWarp__B1_Correction__N3__Scaled_Br_20061203115439863_S13076_I31437.nii\n",
      "Already have ADNI_023_S_0388_MR_MPR__GradWarp__B1_Correction__N3__Scaled_Br_20071110115050561_S22193_I81396.nii\n",
      "Already have ADNI_023_S_0388_MR_MPR__GradWarp__B1_Correction__N3__Scaled_2_Br_20081001152419019_S13076_I118853.nii\n",
      "Already have ADNI_023_S_0388_MR_MPR__GradWarp__B1_Correction__N3__Scaled_2_Br_20081001152956275_S22193_I118860.nii\n",
      "Already have ADNI_023_S_0604_MR_MPR-R__GradWarp__B1_Correction__N3__Scaled_Br_20071028195137408_S23951_I79191.nii\n",
      "Already have ADNI_023_S_0604_MR_MPR-R__GradWarp__B1_Correction__N3__Scaled_2_Br_20081002103258270_S23951_I118992.nii\n",
      "Already have ADNI_023_S_0604_MR_MPR__GradWarp__B1_Correction__N3__Scaled_Br_20061203122926229_S15182_I31455.nii\n",
      "Already have ADNI_023_S_0604_MR_MPR__GradWarp__B1_Correction__N3__Scaled_Br_20070804142627982_S33366_I64690.nii\n",
      "Already have ADNI_023_S_0604_MR_MPR__GradWarp__B1_Correction__N3__Scaled_2_Br_20081001154019415_S15182_I118875.nii\n",
      "Already have ADNI_023_S_0604_MR_MPR__GradWarp__B1_Correction__N3__Scaled_2_Br_20081002104318041_S33366_I119005.nii\n",
      "Already have ADNI_023_S_0625_MR_MPR-R__GradWarp__B1_Correction__N3__Scaled_Br_20061203133040963_S15820_I31495.nii\n",
      "Already have ADNI_023_S_0625_MR_MPR-R__GradWarp__B1_Correction__N3__Scaled_Br_20080408125944312_S27184_I101445.nii\n"
     ]
    },
    {
     "name": "stdout",
     "output_type": "stream",
     "text": [
      "Already have ADNI_023_S_0625_MR_MPR-R__GradWarp__B1_Correction__N3__Scaled_Br_20070917104525274_S35037_I73333.nii\n",
      "Already have ADNI_023_S_0625_MR_MPR-R__GradWarp__B1_Correction__N3__Scaled_2_Br_20081002114102603_S15820_I119028.nii\n",
      "Already have ADNI_023_S_0855_MR_MPR__GradWarp__B1_Correction__N3__Scaled_Br_20061203135308153_S18561_I31509.nii\n",
      "Already have ADNI_023_S_0855_MR_MPR__GradWarp__B1_Correction__N3__Scaled_Br_20070812141626637_S30834_I67192.nii\n",
      "Already have ADNI_023_S_0855_MR_MPR__GradWarp__B1_Correction__N3__Scaled_Br_20071006115525964_S38962_I77035.nii\n",
      "Already have ADNI_023_S_0855_MR_MPR__GradWarp__B1_Correction__N3__Scaled_2_Br_20081002102235603_S18561_I118985.nii\n",
      "Already have ADNI_023_S_0855_MR_MPR__GradWarp__B1_Correction__N3__Scaled_2_Br_20081002104237720_S30834_I119004.nii\n",
      "Already have ADNI_023_S_0887_MR_MPR__GradWarp__B1_Correction__N3__Scaled_Br_20061203141838289_S19087_I31526.nii\n",
      "Already have ADNI_023_S_0887_MR_MPR__GradWarp__B1_Correction__N3__Scaled_Br_20070802174023657_S29132_I64082.nii\n",
      "Already have ADNI_023_S_0887_MR_MPR__GradWarp__B1_Correction__N3__Scaled_Br_20071101154811461_S40976_I80143.nii\n",
      "Already have ADNI_023_S_0887_MR_MPR__GradWarp__B1_Correction__N3__Scaled_2_Br_20081002102505839_S19087_I118988.nii\n",
      "Already have ADNI_023_S_0887_MR_MPR__GradWarp__B1_Correction__N3__Scaled_2_Br_20081001154213787_S29132_I118878.nii\n",
      "Already have ADNI_023_S_0916_MR_MPR__GradWarp__B1_Correction__N3__Scaled_Br_20061203142844438_S19228_I31533.nii\n",
      "Already have ADNI_023_S_0916_MR_MPR__GradWarp__B1_Correction__N3__Scaled_Br_20080114095645209_S30418_I87302.nii\n",
      "Already have ADNI_023_S_0916_MR_MPR__GradWarp__B1_Correction__N3__Scaled_Br_20080207101547833_S40717_I89743.nii\n",
      "Already have ADNI_023_S_0916_MR_MPR__GradWarp__B1_Correction__N3__Scaled_2_Br_20081001154252419_S19228_I118879.nii\n",
      "Already have ADNI_023_S_0916_MR_MPR__GradWarp__B1_Correction__N3__Scaled_2_Br_20081001154612955_S30418_I118884.nii\n",
      "Already have ADNI_023_S_0926_MR_MPR__GradWarp__B1_Correction__N3__Scaled_Br_20061203145312272_S19390_I31547.nii\n",
      "Already have ADNI_023_S_0926_MR_MPR__GradWarp__B1_Correction__N3__Scaled_Br_20070805135141448_S29260_I64840.nii\n",
      "Already have ADNI_023_S_0926_MR_MPR__GradWarp__B1_Correction__N3__Scaled_Br_20071115092358043_S41841_I82180.nii\n",
      "Already have ADNI_023_S_0926_MR_MPR__GradWarp__B1_Correction__N3__Scaled_2_Br_20081001154652646_S19390_I118892.nii\n",
      "Already have ADNI_023_S_0926_MR_MPR__GradWarp__B1_Correction__N3__Scaled_2_Br_20081001154822433_S29260_I118902.nii\n",
      "Already have ADNI_023_S_0963_MR_MPR__GradWarp__B1_Correction__N3__Scaled_Br_20080206081955454_S19740_I89417.nii\n",
      "Already have ADNI_023_S_0963_MR_MPR__GradWarp__B1_Correction__N3__Scaled_Br_20070806122031225_S29234_I65004.nii\n",
      "Already have ADNI_023_S_0963_MR_MPR__GradWarp__B1_Correction__N3__Scaled_Br_20071115092914271_S41267_I82195.nii\n",
      "Already have ADNI_023_S_0963_MR_MPR__GradWarp__B1_Correction__N3__Scaled_2_Br_20081001154900852_S19740_I118903.nii\n",
      "Already have ADNI_023_S_0963_MR_MPR__GradWarp__B1_Correction__N3__Scaled_2_Br_20081001155031803_S29234_I118905.nii\n",
      "Already have ADNI_023_S_1046_MR_MPR-R__GradWarp__B1_Correction__N3__Scaled_Br_20070322174836354_S22199_I46396.nii\n",
      "Already have ADNI_023_S_1046_MR_MPR-R__GradWarp__B1_Correction__N3__Scaled_2_Br_20081001155201559_S22199_I118907.nii\n",
      "Already have ADNI_023_S_1046_MR_MPR__GradWarp__B1_Correction__N3__Scaled_Br_20080617113757755_S33987_I109749.nii\n",
      "Already have ADNI_023_S_1046_MR_MPR__GradWarp__B1_Correction__N3__Scaled_Br_20071125123413345_S42356_I83012.nii\n",
      "Already have ADNI_023_S_1046_MR_MPR__GradWarp__B1_Correction__N3__Scaled_2_Br_20081001155433413_S33987_I118910.nii\n",
      "Already have ADNI_023_S_1126_MR_MPR__GradWarp__B1_Correction__N3__Scaled_Br_20070802175445048_S33781_I64100.nii\n",
      "Already have ADNI_023_S_1126_MR_MPR__GradWarp__B1_Correction__N3__Scaled_Br_20080111141407076_S43053_I87086.nii\n",
      "Already have ADNI_023_S_1126_MR_MPR__GradWarp__B1_Correction__N3__Scaled_2_Br_20081124142926303_S23440_I128366.nii\n",
      "Already have ADNI_023_S_1126_MR_MPR__GradWarp__B1_Correction__N3__Scaled_2_Br_20081001155941833_S33781_I118917.nii\n",
      "Already have ADNI_023_S_1190_MR_MPR__GradWarp__B1_Correction__N3__Scaled_Br_20070322181907670_S24847_I46417.nii\n",
      "Already have ADNI_023_S_1190_MR_MPR__GradWarp__B1_Correction__N3__Scaled_Br_20070917104901544_S35121_I73338.nii\n",
      "Already have ADNI_023_S_1190_MR_MPR__GradWarp__B1_Correction__N3__Scaled_Br_20080206160809550_S44381_I89612.nii\n",
      "Already have ADNI_023_S_1190_MR_MPR__GradWarp__B1_Correction__N3__Scaled_2_Br_20081001160113641_S24847_I118919.nii\n",
      "Already have ADNI_023_S_1247_MR_MPR__GradWarp__B1_Correction__N3__Scaled_Br_20070412172006512_S25741_I48857.nii\n",
      "Already have ADNI_023_S_1247_MR_MPR__GradWarp__B1_Correction__N3__Scaled_Br_20070918130126157_S36782_I73609.nii\n",
      "Already have ADNI_023_S_1247_MR_MPR__GradWarp__B1_Correction__N3__Scaled_Br_20080223121801182_S45062_I91669.nii\n",
      "Already have ADNI_023_S_1247_MR_MPR__GradWarp__B1_Correction__N3__Scaled_2_Br_20081002103413605_S25741_I118994.nii\n",
      "Already have ADNI_023_S_1262_MR_MPR__GradWarp__B1_Correction__N3__Scaled_Br_20070727133707675_S26314_I62433.nii\n",
      "Already have ADNI_023_S_1262_MR_MPR__GradWarp__B1_Correction__N3__Scaled_Br_20071002183802518_S38817_I76649.nii\n",
      "Already have ADNI_023_S_1262_MR_MPR__GradWarp__B1_Correction__N3__Scaled_Br_20080421170310500_S47813_I103322.nii\n",
      "Already have ADNI_023_S_1262_MR_MPR__GradWarp__B1_Correction__N3__Scaled_2_Br_20081001160410209_S26314_I118923.nii\n",
      "Already have ADNI_024_S_0985_MR_MPR-R__GradWarp__B1_Correction__N3__Scaled_Br_20070727191736159_S21112_I62715.nii\n",
      "Already have ADNI_024_S_0985_MR_MPR__GradWarp__B1_Correction__N3__Scaled_Br_20070804143217128_S31755_I64699.nii\n",
      "Already have ADNI_024_S_0985_MR_MPR__GradWarp__B1_Correction__N3__Scaled_Br_20071110115606798_S41817_I81405.nii\n",
      "Already have ADNI_024_S_1063_MR_MPR-R__GradWarp__B1_Correction__N3__Scaled_Br_20070731170617965_S21525_I63392.nii\n",
      "Already have ADNI_024_S_1063_MR_MPR__GradWarp__B1_Correction__N3__Scaled_Br_20070731171155016_S32496_I63397.nii\n",
      "Already have ADNI_024_S_1063_MR_MPR__GradWarp__B1_Correction__N3__Scaled_Br_20071127115505196_S42547_I83398.nii\n",
      "Already have ADNI_024_S_1171_MR_MPR__GradWarp__B1_Correction__N3__Scaled_Br_20070731172208570_S24659_I63406.nii\n",
      "Already have ADNI_024_S_1171_MR_MPR__GradWarp__B1_Correction__N3__Scaled_Br_20070904193900978_S34649_I71473.nii\n",
      "Already have ADNI_024_S_1171_MR_MPR__GradWarp__B1_Correction__N3__Scaled_Br_20080223115711288_S44581_I91640.nii\n",
      "Already have ADNI_024_S_1307_MR_MPR__GradWarp__B1_Correction__N3__Scaled_Br_20070731173131780_S27061_I63415.nii\n",
      "Already have ADNI_024_S_1307_MR_MPR__GradWarp__B1_Correction__N3__Scaled_Br_20071006120703444_S38800_I77053.nii\n",
      "Already have ADNI_024_S_1307_MR_MPR__GradWarp__B1_Correction__N3__Scaled_Br_20080308124740769_S46380_I96266.nii\n",
      "Already have ADNI_024_S_1393_MR_MPR__GradWarp__B1_Correction__N3__Scaled_Br_20070806174939767_S28190_I65271.nii\n",
      "Already have ADNI_024_S_1393_MR_MPR__GradWarp__B1_Correction__N3__Scaled_Br_20071029182609414_S41563_I79559.nii\n",
      "Already have ADNI_024_S_1393_MR_MPR__GradWarp__B1_Correction__N3__Scaled_Br_20080414153706998_S48067_I102480.nii\n",
      "Already have ADNI_027_S_0116_MR_MPR-R__GradWarp__B1_Correction__N3__Scaled_Br_20070412190715115_S18568_I48992.nii\n",
      "Already have ADNI_027_S_0116_MR_MPR-R__GradWarp__B1_Correction__N3__Scaled_Br_20070327113533640_S26047_I47036.nii\n",
      "Already have ADNI_027_S_0116_MR_MPR__GradWarp__B1_Correction__N3__Scaled_Br_20061227121133462_S11442_I34325.nii\n",
      "Already have ADNI_027_S_0116_MR_MPR__GradWarp__B1_Correction__N3__Scaled_2_Br_20081002152008458_S11442_I119068.nii\n",
      "Already have ADNI_027_S_0118_MR_MPR__GradWarp__B1_Correction__N3__Scaled_Br_20061222172848171_S11796_I34114.nii\n",
      "Already have ADNI_027_S_0118_MR_MPR__GradWarp__B1_Correction__N3__Scaled_Br_20070109225328176_S18002_I35629.nii\n",
      "Already have ADNI_027_S_0118_MR_MPR__GradWarp__B1_Correction__N3__Scaled_Br_20070327144522716_S26759_I47149.nii\n",
      "Already have ADNI_027_S_0118_MR_MPR__GradWarp__B1_Correction__N3__Scaled_2_Br_20081002152101562_S11796_I119069.nii\n",
      "Already have ADNI_027_S_0120_MR_MPR__GradWarp__B1_Correction__N3__Scaled_Br_20061227122431347_S11535_I34332.nii\n",
      "Already have ADNI_027_S_0120_MR_MPR__GradWarp__B1_Correction__N3__Scaled_Br_20061222174306754_S17935_I34123.nii\n"
     ]
    },
    {
     "name": "stdout",
     "output_type": "stream",
     "text": [
      "Already have ADNI_027_S_0120_MR_MPR__GradWarp__B1_Correction__N3__Scaled_Br_20070327110536718_S26731_I47023.nii\n",
      "Already have ADNI_027_S_0120_MR_MPR__GradWarp__B1_Correction__N3__Scaled_2_Br_20081002152155880_S11535_I119070.nii\n",
      "Already have ADNI_027_S_0179_MR_MPR-R__GradWarp__B1_Correction__N3__Scaled_Br_20061222180304669_S11781_I34136.nii\n",
      "Already have ADNI_027_S_0179_MR_MPR-R__GradWarp__B1_Correction__N3__Scaled_Br_20070807080551065_S28889_I65293.nii\n",
      "Already have ADNI_027_S_0179_MR_MPR-R__GradWarp__B1_Correction__N3__Scaled_2_Br_20081002152248907_S11781_I119071.nii\n",
      "Already have ADNI_027_S_0179_MR_MPR__GradWarp__B1_Correction__N3__Scaled_Br_20061222181103848_S18956_I34141.nii\n",
      "Already have ADNI_027_S_0256_MR_MPR-R__GradWarp__B1_Correction__N3__Scaled_Br_20070109231136332_S19866_I35647.nii\n",
      "Already have ADNI_027_S_0256_MR_MPR__GradWarp__B1_Correction__N3__Scaled_Br_20061222182443469_S12357_I34150.nii\n",
      "Already have ADNI_027_S_0256_MR_MPR__GradWarp__B1_Correction__N3__Scaled_Br_20070808171436006_S29475_I65999.nii\n",
      "Already have ADNI_027_S_0307_MR_MPR-R__GradWarp__B1_Correction__N3__Scaled_Br_20071226121245748_S20691_I86179.nii\n",
      "Already have ADNI_027_S_0307_MR_MPR__GradWarp__B1_Correction__N3__Scaled_Br_20061222183929043_S13072_I34159.nii\n",
      "Already have ADNI_027_S_0307_MR_MPR__GradWarp__B1_Correction__N3__Scaled_Br_20070807081215204_S31877_I65298.nii\n",
      "Already have ADNI_027_S_0403_MR_MPR-R__GradWarp__B1_Correction__N3__Scaled_Br_20061222191351273_S13717_I34181.nii\n",
      "Already have ADNI_027_S_0403_MR_MPR-R__GradWarp__B1_Correction__N3__Scaled_Br_20070327115739484_S21484_I47047.nii\n",
      "Already have ADNI_027_S_0403_MR_MPR__GradWarp__B1_Correction__N3__Scaled_Br_20070828111655487_S32438_I70692.nii\n",
      "Already have ADNI_027_S_0404_MR_MPR__GradWarp__B1_Correction__N3__Scaled_Br_20061222194841960_S13866_I34204.nii\n",
      "Already have ADNI_027_S_0404_MR_MPR__GradWarp__B1_Correction__N3__Scaled_Br_20070327132615623_S22758_I47091.nii\n",
      "Already have ADNI_027_S_0404_MR_MPR__GradWarp__B1_Correction__N3__Scaled_Br_20071115094127885_S32020_I82214.nii\n",
      "Already have ADNI_027_S_0408_MR_MPR__GradWarp__B1_Correction__N3__Scaled_Br_20070129173016787_S14231_I37548.nii\n",
      "Already have ADNI_027_S_0408_MR_MPR__GradWarp__B1_Correction__N3__Scaled_Br_20071029104638201_S22824_I79326.nii\n",
      "Already have ADNI_027_S_0408_MR_MPR__GradWarp__B1_Correction__N3__Scaled_Br_20080225174521629_S32849_I92534.nii\n",
      "Already have ADNI_027_S_0417_MR_MPR-R__GradWarp__B1_Correction__N3__Scaled_Br_20061222202441161_S14373_I34226.nii\n",
      "Already have ADNI_027_S_0417_MR_MPR-R__GradWarp__B1_Correction__N3__Scaled_Br_20080207173235404_S32650_I89943.nii\n",
      "Already have ADNI_027_S_0417_MR_MPR__GradWarp__B1_Correction__N3__Scaled_Br_20070330083227127_S23525_I47514.nii\n",
      "Already have ADNI_027_S_0461_MR_MPR-R__GradWarp__B1_Correction__N3__Scaled_Br_20070807082926218_S34047_I65320.nii\n",
      "Already have ADNI_027_S_0461_MR_MPR__GradWarp__B1_Correction__N3__Scaled_Br_20061222203247000_S15192_I34231.nii\n",
      "Already have ADNI_027_S_0461_MR_MPR__GradWarp__B1_Correction__N3__Scaled_Br_20070327140645084_S23517_I47115.nii\n",
      "Already have ADNI_027_S_0485_MR_MPR-R__GradWarp__B1_Correction__N3__Scaled_Br_20070828112958155_S32858_I70705.nii\n",
      "Already have ADNI_027_S_0485_MR_MPR__GradWarp__B1_Correction__N3__Scaled_Br_20070129174944113_S14208_I37557.nii\n",
      "Already have ADNI_027_S_0485_MR_MPR__GradWarp__B1_Correction__N3__Scaled_Br_20070327150458324_S22732_I47159.nii\n",
      "Already have ADNI_027_S_0644_MR_MPR__GradWarp__B1_Correction__N3__Scaled_Br_20061222204755143_S15630_I34240.nii\n",
      "Already have ADNI_027_S_0644_MR_MPR__GradWarp__B1_Correction__N3__Scaled_Br_20070327134513439_S24430_I47100.nii\n",
      "Already have ADNI_027_S_0644_MR_MPR__GradWarp__B1_Correction__N3__Scaled_Br_20070816141329245_S34297_I68088.nii\n",
      "Already have ADNI_027_S_0835_MR_MPR-R__GradWarp__B1_Correction__N3__Scaled_Br_20070109234117513_S18760_I35666.nii\n",
      "Already have ADNI_027_S_0835_MR_MPR__GradWarp__B1_Correction__N3__Scaled_Br_20070807083727878_S28808_I65334.nii\n",
      "Already have ADNI_027_S_0835_MR_MPR__GradWarp__B1_Correction__N3__Scaled_Br_20071027173307356_S39476_I78885.nii\n",
      "Already have ADNI_027_S_0850_MR_MPR__GradWarp__B1_Correction__N3__Scaled_Br_20070412191003564_S18554_I48996.nii\n",
      "Already have ADNI_027_S_0850_MR_MPR__GradWarp__B1_Correction__N3__Scaled_Br_20070807084919726_S28932_I65343.nii\n",
      "Already have ADNI_027_S_0850_MR_MPR__GradWarp__B1_Correction__N3__Scaled_Br_20080302103054037_S40113_I94797.nii\n",
      "Already have ADNI_027_S_1045_MR_MPR__GradWarp__B1_Correction__N3__Scaled_Br_20070327162348161_S22174_I47210.nii\n",
      "Already have ADNI_027_S_1045_MR_MPR__GradWarp__B1_Correction__N3__Scaled_Br_20070807090110885_S32660_I65356.nii\n",
      "Already have ADNI_027_S_1045_MR_MPR__GradWarp__B1_Correction__N3__Scaled_Br_20071127173729910_S42663_I83453.nii\n",
      "Already have ADNI_027_S_1081_MR_MPR-R__GradWarp__B1_Correction__N3__Scaled_Br_20071028195713680_S38366_I79200.nii\n",
      "Already have ADNI_027_S_1081_MR_MPR__GradWarp__B1_Correction__N3__Scaled_Br_20070327152141858_S25357_I47168.nii\n",
      "Already have ADNI_027_S_1081_MR_MPR__GradWarp__B1_Correction__N3__Scaled_Br_20080223122500029_S45308_I91679.nii\n",
      "Already have ADNI_027_S_1082_MR_MPR-R__GradWarp__B1_Correction__N3__Scaled_Br_20070327161431010_S22938_I47204.nii\n",
      "Already have ADNI_027_S_1082_MR_MPR__GradWarp__B1_Correction__N3__Scaled_Br_20070807091236338_S33129_I65365.nii\n",
      "Already have ADNI_027_S_1082_MR_MPR__GradWarp__B1_Correction__N3__Scaled_Br_20071227094326435_S43335_I86236.nii\n",
      "Already have ADNI_027_S_1213_MR_MPR-R__GradWarp__B1_Correction__N3__Scaled_Br_20070327164604315_S25492_I47223.nii\n",
      "Already have ADNI_027_S_1213_MR_MPR-R__GradWarp__B1_Correction__N3__Scaled_Br_20080229160238156_S44650_I94453.nii\n",
      "Already have ADNI_027_S_1213_MR_MPR__GradWarp__B1_Correction__N3__Scaled_Br_20070913155847931_S35523_I73101.nii\n",
      "Already have ADNI_027_S_1277_MR_MPR__GradWarp__B1_Correction__N3__Scaled_Br_20070328083825155_S26408_I47278.nii\n",
      "Already have ADNI_027_S_1277_MR_MPR__GradWarp__B1_Correction__N3__Scaled_Br_20071028200059346_S38653_I79205.nii\n",
      "Already have ADNI_027_S_1277_MR_MPR__GradWarp__B1_Correction__N3__Scaled_Br_20080229161324581_S45870_I94467.nii\n",
      "Already have ADNI_027_S_1385_MR_MPR__GradWarp__B1_Correction__N3__Scaled_Br_20070330094058546_S28133_I47574.nii\n",
      "Already have ADNI_027_S_1385_MR_MPR__GradWarp__B1_Correction__N3__Scaled_Br_20071229183142945_S39646_I86386.nii\n",
      "Already have ADNI_027_S_1385_MR_MPR__GradWarp__B1_Correction__N3__Scaled_Br_20080408153436647_S47223_I101549.nii\n",
      "Already have ADNI_027_S_1387_MR_MPR__GradWarp__B1_Correction__N3__Scaled_Br_20070812142231349_S28123_I67201.nii\n",
      "Already have ADNI_027_S_1387_MR_MPR__GradWarp__B1_Correction__N3__Scaled_Br_20071027173948758_S39868_I78894.nii\n",
      "Already have ADNI_027_S_1387_MR_MPR__GradWarp__B1_Correction__N3__Scaled_Br_20080321155112030_S46909_I99252.nii\n",
      "Already have ADNI_029_S_0824_MR_MPR__GradWarp__B1_Correction__N3__Scaled_Br_20080308130111462_S18139_I96284.nii\n",
      "Already have ADNI_029_S_0824_MR_MPR__GradWarp__B1_Correction__N3__Scaled_Br_20070718141902362_S29020_I60682.nii\n",
      "Already have ADNI_029_S_0824_MR_MPR__GradWarp__B1_Correction__N3__Scaled_Br_20071113181609131_S39315_I81946.nii\n",
      "Already have ADNI_029_S_0836_MR_MPR__GradWarp__B1_Correction__N3__Scaled_Br_20070806122937449_S18151_I65013.nii\n",
      "Already have ADNI_029_S_0836_MR_MPR__GradWarp__B1_Correction__N3__Scaled_Br_20070718142657136_S27848_I60692.nii\n",
      "Already have ADNI_029_S_0836_MR_MPR__GradWarp__B1_Correction__N3__Scaled_Br_20071029184751781_S40845_I79587.nii\n",
      "Already have ADNI_029_S_0843_MR_MPR__GradWarp__B1_Correction__N3__Scaled_Br_20070810175504250_S18909_I66997.nii\n",
      "Already have ADNI_029_S_0843_MR_MPR__GradWarp__B1_Correction__N3__Scaled_Br_20071125125954274_S32382_I83048.nii\n",
      "Already have ADNI_029_S_0843_MR_MPR__GradWarp__B1_Correction__N3__Scaled_Br_20080124151517525_S42904_I88417.nii\n",
      "Already have ADNI_029_S_0845_MR_MPR__GradWarp__B1_Correction__N3__Scaled_Br_20070805141431549_S18829_I64867.nii\n",
      "Already have ADNI_029_S_0845_MR_MPR__GradWarp__B1_Correction__N3__Scaled_Br_20070718143621512_S29185_I60702.nii\n",
      "Already have ADNI_029_S_0845_MR_MPR__GradWarp__B1_Correction__N3__Scaled_Br_20071027174636567_S39838_I78903.nii\n",
      "Already have ADNI_029_S_0866_MR_MPR__GradWarp__B1_Correction__N3__Scaled_Br_20070807154846672_S18917_I65611.nii\n",
      "Already have ADNI_029_S_0866_MR_MPR__GradWarp__B1_Correction__N3__Scaled_Br_20070718144326371_S29721_I60710.nii\n",
      "Already have ADNI_029_S_0866_MR_MPR__GradWarp__B1_Correction__N3__Scaled_Br_20071115120753729_S42096_I82274.nii\n",
      "Already have ADNI_029_S_0878_MR_MPR__GradWarp__B1_Correction__N3__Scaled_Br_20070805142357853_S18986_I64876.nii\n",
      "Already have ADNI_029_S_0878_MR_MPR__GradWarp__B1_Correction__N3__Scaled_Br_20070805143325172_S30912_I64885.nii\n",
      "Already have ADNI_029_S_0878_MR_MPR__GradWarp__B1_Correction__N3__Scaled_Br_20080220101422754_S42145_I90889.nii\n",
      "Already have ADNI_029_S_0914_MR_MPR-R__GradWarp__B1_Correction__N3__Scaled_Br_20070904194855493_S35004_I71486.nii\n",
      "Already have ADNI_029_S_0914_MR_MPR__GradWarp__B1_Correction__N3__Scaled_Br_20081101211348245_S24287_I124879.nii\n",
      "Already have ADNI_029_S_0914_MR_MPR__GradWarp__B1_Correction__N3__Scaled_Br_20080223122045126_S45255_I91674.nii\n",
      "Already have ADNI_029_S_0999_MR_MPR-R__GradWarp__B1_Correction__N3__Scaled_Br_20070805144703422_S23248_I64898.nii\n",
      "Already have ADNI_029_S_0999_MR_MPR__GradWarp__B1_Correction__N3__Scaled_Br_20071027175334911_S39410_I78912.nii\n"
     ]
    },
    {
     "name": "stdout",
     "output_type": "stream",
     "text": [
      "Already have ADNI_029_S_0999_MR_MPR__GradWarp__B1_Correction__N3__Scaled_Br_20080408154617402_S47074_I101575.nii\n",
      "Already have ADNI_029_S_1056_MR_MPR-R__GradWarp__B1_Correction__N3__Scaled_Br_20070718151433161_S22977_I60741.nii\n",
      "Already have ADNI_029_S_1056_MR_MPR-R__GradWarp__B1_Correction__N3__Scaled_Br_20080224133253927_S45642_I92182.nii\n",
      "Already have ADNI_029_S_1056_MR_MPR__GradWarp__B1_Correction__N3__Scaled_Br_20070904195245022_S33817_I71491.nii\n",
      "Already have ADNI_029_S_1073_MR_MPR__GradWarp__B1_Correction__N3__Scaled_Br_20070806124421887_S22828_I65022.nii\n",
      "Already have ADNI_029_S_1073_MR_MPR__GradWarp__B1_Correction__N3__Scaled_Br_20070904195914396_S34006_I71500.nii\n",
      "Already have ADNI_029_S_1073_MR_MPR__GradWarp__B1_Correction__N3__Scaled_Br_20080302124741325_S43587_I94872.nii\n",
      "Already have ADNI_029_S_1215_MR_MPR__GradWarp__B1_Correction__N3__Scaled_Br_20070718151927704_S25348_I60746.nii\n",
      "Already have ADNI_029_S_1215_MR_MPR__GradWarp__B1_Correction__N3__Scaled_Br_20071027180025492_S38887_I78921.nii\n",
      "Already have ADNI_029_S_1215_MR_MPR__GradWarp__B1_Correction__N3__Scaled_Br_20080224145607229_S45648_I92296.nii\n",
      "Already have ADNI_029_S_1318_MR_MPR-R__GradWarp__B1_Correction__N3__Scaled_Br_20070718153404161_S26769_I60760.nii\n",
      "Already have ADNI_029_S_1318_MR_MPR-R__GradWarp__B1_Correction__N3__Scaled_Br_20071029185652390_S41201_I79599.nii\n",
      "Already have ADNI_029_S_1318_MR_MPR__GradWarp__B1_Correction__N3__Scaled_Br_20080516102407802_S49715_I105915.nii\n",
      "Already have ADNI_029_S_1384_MR_MPR-R__GradWarp__B1_Correction__N3__Scaled_Br_20070805145632687_S29083_I64907.nii\n",
      "Already have ADNI_029_S_1384_MR_MPR__GradWarp__B1_Correction__N3__Scaled_Br_20071127174442564_S41061_I83471.nii\n",
      "Already have ADNI_029_S_1384_MR_MPR__GradWarp__B1_Correction__N3__Scaled_Br_20080421164014496_S47877_I103285.nii\n",
      "Already have ADNI_031_S_0294_MR_MPR-R__GradWarp__N3__Scaled_Br_20071226134606100_S12243_I86206.nii\n",
      "Already have ADNI_031_S_0294_MR_MPR-R__GradWarp__N3__Scaled_Br_20070806130621866_S19660_I65034.nii\n",
      "Already have ADNI_031_S_0294_MR_MPR__GradWarp__N3__Scaled_Br_20070805150231162_S29640_I64912.nii\n",
      "Already have ADNI_031_S_0321_MR_MPR__GradWarp__N3__Scaled_Br_20070807093706127_S12365_I65383.nii\n",
      "Already have ADNI_031_S_0321_MR_MPR__GradWarp__N3__Scaled_Br_20070807095006196_S21843_I65390.nii\n",
      "Already have ADNI_031_S_0321_MR_MPR__GradWarp__N3__Scaled_Br_20070802180309226_S30061_I64109.nii\n",
      "Already have ADNI_031_S_0351_MR_MPR-R__GradWarp__N3__Scaled_Br_20070807100818129_S13461_I65401.nii\n",
      "Already have ADNI_031_S_0351_MR_MPR__GradWarp__N3__Scaled_Br_20080207173709466_S21905_I89948.nii\n",
      "Already have ADNI_031_S_0351_MR_MPR__GradWarp__N3__Scaled_Br_20070807160423440_S32191_I65620.nii\n",
      "Already have ADNI_031_S_0568_MR_MPR-R__GradWarp__N3__Scaled_Br_20070806132107428_S23625_I65041.nii\n",
      "Already have ADNI_031_S_0568_MR_MPR-R__GradWarp__N3__Scaled_Br_20070904200910090_S33359_I71512.nii\n",
      "Already have ADNI_031_S_0568_MR_MPR__GradWarp__N3__Scaled_Br_20070805151519193_S14833_I64922.nii\n",
      "Already have ADNI_031_S_0618_MR_MPR-R__GradWarp__N3__Scaled_Br_20070812130712805_S15271_I67110.nii\n",
      "Already have ADNI_031_S_0618_MR_MPR-R__GradWarp__N3__Scaled_Br_20080223132226600_S24408_I91766.nii\n",
      "Already have ADNI_031_S_0618_MR_MPR__GradWarp__N3__Scaled_Br_20070910173818043_S36607_I72188.nii\n",
      "Already have ADNI_031_S_0830_MR_MPR-R__GradWarp__N3__Scaled_Br_20071029110046014_S18847_I79342.nii\n",
      "Already have ADNI_031_S_0830_MR_MPR-R__GradWarp__N3__Scaled_Br_20071031132832050_S39443_I79908.nii\n",
      "Already have ADNI_031_S_0830_MR_MPR__GradWarp__N3__Scaled_Br_20070427173810192_S29284_I51863.nii\n",
      "Already have ADNI_031_S_0867_MR_MPR__GradWarp__N3__Scaled_Br_20070813151048642_S19256_I67423.nii\n",
      "Already have ADNI_031_S_0867_MR_MPR__GradWarp__N3__Scaled_Br_20070717191100341_S29633_I60483.nii\n",
      "Already have ADNI_031_S_0867_MR_MPR__GradWarp__N3__Scaled_Br_20071029190736876_S40140_I79611.nii\n",
      "Already have ADNI_031_S_1066_MR_MPR-R__GradWarp__N3__Scaled_Br_20080111142224026_S44059_I87098.nii\n",
      "Already have ADNI_031_S_1066_MR_MPR__GradWarp__N3__Scaled_Br_20070813152400650_S22389_I67434.nii\n",
      "Already have ADNI_031_S_1066_MR_MPR__GradWarp__N3__Scaled_Br_20070904201315550_S32862_I71516.nii\n",
      "Already have ADNI_031_S_1209_MR_MPR__GradWarp__N3__Scaled_Br_20070813153725713_S25028_I67441.nii\n",
      "Already have ADNI_031_S_1209_MR_MPR__GradWarp__N3__Scaled_Br_20080220104815714_S36403_I90934.nii\n",
      "Already have ADNI_031_S_1209_MR_MPR__GradWarp__N3__Scaled_Br_20080224134323424_S45587_I92194.nii\n",
      "Already have ADNI_032_S_0095_MR_MPR____N3__Scaled_Br_20070731174115956_S10729_I63424.nii\n",
      "Already have ADNI_032_S_0095_MR_MPR____N3__Scaled_Br_20070731174720572_S21203_I63429.nii\n",
      "Already have ADNI_032_S_0095_MR_MPR____N3__Scaled_Br_20071115121640476_S27719_I82283.nii\n",
      "Already have ADNI_032_S_0095_MR_MPR____N3__Scaled_2_Br_20081003095810245_S10729_I119076.nii\n",
      "Already have ADNI_032_S_0095_MR_MPR____N3__Scaled_2_Br_20081003095936892_S21203_I119077.nii\n",
      "Already have ADNI_032_S_0095_MR_MPR____N3__Scaled_2_Br_20081003100101701_S27719_I119078.nii\n",
      "Already have ADNI_032_S_0147_MR_MPR____N3__Scaled_Br_20070123192754258_S11186_I37210.nii\n",
      "Already have ADNI_032_S_0147_MR_MPR____N3__Scaled_Br_20081103093146359_S19428_I124906.nii\n",
      "Already have ADNI_032_S_0147_MR_MPR____N3__Scaled_Br_20081103084131266_S26882_I124892.nii\n",
      "Already have ADNI_032_S_0147_MR_MPR____N3__Scaled_2_Br_20081003100226549_S11186_I119079.nii\n",
      "Already have ADNI_032_S_0187_MR_MPR-R____N3__Scaled_Br_20070123194533661_S11617_I37217.nii\n",
      "Already have ADNI_032_S_0187_MR_MPR-R____N3__Scaled_Br_20071115122507954_S18900_I82290.nii\n",
      "Already have ADNI_032_S_0187_MR_MPR-R____N3__Scaled_2_Br_20081003100351181_S11617_I119080.nii\n",
      "Already have ADNI_032_S_0187_MR_MPR-R____N3__Scaled_2_Br_20081003100515321_S18900_I119081.nii\n",
      "Already have ADNI_032_S_0187_MR_MPR____N3__Scaled_Br_20070812131232786_S27853_I67114.nii\n",
      "Already have ADNI_032_S_0187_MR_MPR____N3__Scaled_2_Br_20081003100639285_S27853_I119082.nii\n",
      "Already have ADNI_032_S_0214_MR_MPR-R____N3__Scaled_Br_20070123195815556_S11740_I37224.nii\n",
      "Already have ADNI_032_S_0214_MR_MPR-R____N3__Scaled_2_Br_20081003100927277_S11740_I119084.nii\n",
      "Already have ADNI_032_S_0214_MR_MPR____N3__Scaled_Br_20070117235730449_S19434_I36456.nii\n",
      "Already have ADNI_032_S_0214_MR_MPR____N3__Scaled_Br_20070812131820517_S28532_I67119.nii\n",
      "Already have ADNI_032_S_0214_MR_MPR____N3__Scaled_2_Br_20081003101052035_S19434_I119085.nii\n",
      "Already have ADNI_032_S_0214_MR_MPR____N3__Scaled_2_Br_20081003101216048_S28532_I119086.nii\n",
      "Already have ADNI_032_S_0400_MR_MPR____N3__Scaled_Br_20070118000329335_S13238_I36459.nii\n",
      "Already have ADNI_032_S_0400_MR_MPR____N3__Scaled_Br_20070118001306334_S21663_I36464.nii\n",
      "Already have ADNI_032_S_0400_MR_MPR____N3__Scaled_Br_20071125131333165_S32487_I83066.nii\n",
      "Already have ADNI_032_S_0400_MR_MPR____N3__Scaled_2_Br_20081003101339687_S13238_I119087.nii\n",
      "Already have ADNI_032_S_0400_MR_MPR____N3__Scaled_2_Br_20081003101503200_S21663_I119088.nii\n",
      "Already have ADNI_032_S_0400_MR_MPR____N3__Scaled_2_Br_20081003101628039_S32487_I119089.nii\n",
      "Already have ADNI_032_S_0479_MR_MPR____N3__Scaled_Br_20070118002237189_S14457_I36469.nii\n",
      "Already have ADNI_032_S_0479_MR_MPR____N3__Scaled_Br_20080107131351660_S23055_I86652.nii\n",
      "Already have ADNI_032_S_0479_MR_MPR____N3__Scaled_Br_20071029191437845_S33439_I79618.nii\n",
      "Already have ADNI_032_S_0479_MR_MPR____N3__Scaled_2_Br_20081003101752111_S14457_I119090.nii\n",
      "Already have ADNI_032_S_0479_MR_MPR____N3__Scaled_2_Br_20081003102800500_S23055_I119091.nii\n",
      "Already have ADNI_032_S_0479_MR_MPR____N3__Scaled_2_Br_20081003102924997_S33439_I119092.nii\n",
      "Already have ADNI_032_S_0677_MR_MPR____N3__Scaled_Br_20070123200558482_S16051_I37228.nii\n",
      "Already have ADNI_032_S_0677_MR_MPR____N3__Scaled_Br_20080308130817593_S26669_I96293.nii\n",
      "Already have ADNI_032_S_0677_MR_MPR____N3__Scaled_Br_20071115122830692_S35508_I82294.nii\n",
      "Already have ADNI_032_S_0677_MR_MPR____N3__Scaled_2_Br_20081003103049630_S16051_I119102.nii\n",
      "Already have ADNI_032_S_0677_MR_MPR____N3__Scaled_2_Br_20081003103227182_S26669_I119103.nii\n",
      "Already have ADNI_032_S_0677_MR_MPR____N3__Scaled_2_Br_20081003103356239_S35508_I119104.nii\n",
      "Already have ADNI_032_S_0718_MR_MPR____N3__Scaled_Br_20070118003212483_S16859_I36474.nii\n",
      "Already have ADNI_032_S_0718_MR_MPR____N3__Scaled_Br_20080123085819843_S27611_I88062.nii\n"
     ]
    },
    {
     "name": "stdout",
     "output_type": "stream",
     "text": [
      "Already have ADNI_032_S_0718_MR_MPR____N3__Scaled_Br_20080125110327390_S37981_I88519.nii\n",
      "Already have ADNI_032_S_0718_MR_MPR____N3__Scaled_2_Br_20081003103508361_S16859_I119105.nii\n",
      "Already have ADNI_032_S_0718_MR_MPR____N3__Scaled_2_Br_20081003103632590_S27611_I119110.nii\n",
      "Already have ADNI_032_S_0718_MR_MPR____N3__Scaled_2_Br_20081003103802463_S37981_I119111.nii\n",
      "Already have ADNI_032_S_0978_MR_MPR____N3__Scaled_Br_20070123201832755_S20184_I37238.nii\n",
      "Already have ADNI_032_S_0978_MR_MPR____N3__Scaled_Br_20070731175544317_S32053_I63437.nii\n",
      "Already have ADNI_032_S_0978_MR_MPR____N3__Scaled_Br_20080116090946819_S44166_I87576.nii\n",
      "Already have ADNI_032_S_0978_MR_MPR____N3__Scaled_2_Br_20081003103926976_S20184_I119112.nii\n",
      "Already have ADNI_032_S_0978_MR_MPR____N3__Scaled_2_Br_20081003104051248_S32053_I119113.nii\n",
      "Already have ADNI_032_S_1101_MR_MPR____N3__Scaled_Br_20070731180142730_S22783_I63442.nii\n",
      "Already have ADNI_032_S_1101_MR_MPR____N3__Scaled_Br_20070806133321549_S32613_I65047.nii\n",
      "Already have ADNI_032_S_1101_MR_MPR____N3__Scaled_Br_20080313102712215_S43471_I97066.nii\n",
      "Already have ADNI_032_S_1101_MR_MPR____N3__Scaled_2_Br_20081003104506735_S22783_I119116.nii\n",
      "Already have ADNI_032_S_1101_MR_MPR____N3__Scaled_2_Br_20081003104631043_S32613_I119117.nii\n",
      "Already have ADNI_032_S_1169_MR_MPR-R____N3__Scaled_Br_20070806134402523_S24442_I65052.nii\n",
      "Already have ADNI_032_S_1169_MR_MPR-R____N3__Scaled_2_Br_20081003104756214_S24442_I119118.nii\n",
      "Already have ADNI_032_S_1169_MR_MPR____N3__Scaled_Br_20071027180737214_S38643_I78930.nii\n",
      "Already have ADNI_032_S_1169_MR_MPR____N3__Scaled_Br_20080308131425172_S44673_I96300.nii\n",
      "Already have ADNI_032_S_1169_MR_MPR____N3__Scaled_2_Br_20081003104921483_S38643_I119119.nii\n",
      "Already have ADNI_033_S_0511_MR_MPR-R__GradWarp__B1_Correction__N3__Scaled_Br_20070812132713403_S33270_I67128.nii\n",
      "Already have ADNI_033_S_0511_MR_MPR__GradWarp__B1_Correction__N3__Scaled_Br_20070302151219556_S15101_I42240.nii\n",
      "Already have ADNI_033_S_0511_MR_MPR__GradWarp__B1_Correction__N3__Scaled_Br_20070302152925673_S23683_I42249.nii\n",
      "Already have ADNI_033_S_0511_MR_MPR__GradWarp__B1_Correction__N3__Scaled_2_Br_20081003120513744_S15101_I119121.nii\n",
      "Already have ADNI_033_S_0513_MR_MPR-R__GradWarp__B1_Correction__N3__Scaled_Br_20071030153043986_S23655_I79704.nii\n",
      "Already have ADNI_033_S_0513_MR_MPR__GradWarp__B1_Correction__N3__Scaled_Br_20070302154554824_S14673_I42258.nii\n",
      "Already have ADNI_033_S_0513_MR_MPR__GradWarp__B1_Correction__N3__Scaled_Br_20070815100305895_S33070_I67701.nii\n",
      "Already have ADNI_033_S_0513_MR_MPR__GradWarp__B1_Correction__N3__Scaled_2_Br_20081003120611250_S14673_I119122.nii\n",
      "Already have ADNI_033_S_0516_MR_MPR__GradWarp__B1_Correction__N3__Scaled_Br_20070302171255157_S14818_I42308.nii\n",
      "Already have ADNI_033_S_0516_MR_MPR__GradWarp__B1_Correction__N3__Scaled_Br_20070303114455111_S23776_I42357.nii\n",
      "Already have ADNI_033_S_0516_MR_MPR__GradWarp__B1_Correction__N3__Scaled_Br_20070809190746891_S33420_I66556.nii\n",
      "Already have ADNI_033_S_0516_MR_MPR__GradWarp__B1_Correction__N3__Scaled_2_Br_20081003120907024_S14818_I119125.nii\n",
      "Already have ADNI_033_S_0567_MR_MPR-R__GradWarp__B1_Correction__N3__Scaled_Br_20070303120457162_S14572_I42370.nii\n",
      "Already have ADNI_033_S_0567_MR_MPR-R__GradWarp__B1_Correction__N3__Scaled_2_Br_20081003121001991_S14572_I119126.nii\n",
      "Already have ADNI_033_S_0567_MR_MPR__GradWarp__B1_Correction__N3__Scaled_Br_20070303121238809_S23646_I42375.nii\n",
      "Already have ADNI_033_S_0567_MR_MPR__GradWarp__B1_Correction__N3__Scaled_Br_20070813155156837_S33310_I67448.nii\n",
      "Already have ADNI_033_S_0723_MR_MPR-R__GradWarp__B1_Correction__N3__Scaled_Br_20070426174815854_S26737_I51567.nii\n",
      "Already have ADNI_033_S_0723_MR_MPR__GradWarp__B1_Correction__N3__Scaled_Br_20070303122652673_S16845_I42384.nii\n",
      "Already have ADNI_033_S_0723_MR_MPR__GradWarp__B1_Correction__N3__Scaled_Br_20070920172610849_S37110_I73946.nii\n",
      "Already have ADNI_033_S_0723_MR_MPR__GradWarp__B1_Correction__N3__Scaled_2_Br_20081003121055251_S16845_I119127.nii\n",
      "Already have ADNI_033_S_0724_MR_MPR-R__GradWarp__B1_Correction__N3__Scaled_Br_20070920173631666_S37124_I73959.nii\n",
      "Already have ADNI_033_S_0724_MR_MPR__GradWarp__B1_Correction__N3__Scaled_Br_20070303125222238_S17337_I42400.nii\n",
      "Already have ADNI_033_S_0724_MR_MPR__GradWarp__B1_Correction__N3__Scaled_Br_20070517154103524_S26114_I54731.nii\n",
      "Already have ADNI_033_S_0724_MR_MPR__GradWarp__B1_Correction__N3__Scaled_2_Br_20081003121149525_S17337_I119128.nii\n",
      "Already have ADNI_033_S_0725_MR_MPR__GradWarp__B1_Correction__N3__Scaled_Br_20070303130703791_S17092_I42409.nii\n",
      "Already have ADNI_033_S_0725_MR_MPR__GradWarp__B1_Correction__N3__Scaled_Br_20071226120228835_S26581_I86166.nii\n",
      "Already have ADNI_033_S_0725_MR_MPR__GradWarp__B1_Correction__N3__Scaled_Br_20070925102245778_S37283_I75057.nii\n",
      "Already have ADNI_033_S_0725_MR_MPR__GradWarp__B1_Correction__N3__Scaled_2_Br_20081003121348635_S17092_I119130.nii\n",
      "Already have ADNI_033_S_0733_MR_MPR__GradWarp__B1_Correction__N3__Scaled_Br_20070303133222445_S16932_I42425.nii\n",
      "Already have ADNI_033_S_0733_MR_MPR__GradWarp__B1_Correction__N3__Scaled_Br_20071226115600574_S26588_I86157.nii\n",
      "Already have ADNI_033_S_0733_MR_MPR__GradWarp__B1_Correction__N3__Scaled_Br_20070921083321264_S37301_I73989.nii\n",
      "Already have ADNI_033_S_0733_MR_MPR__GradWarp__B1_Correction__N3__Scaled_2_Br_20081003121546031_S16932_I119132.nii\n",
      "Already have ADNI_033_S_0734_MR_MPR__GradWarp__B1_Correction__N3__Scaled_Br_20070303134608580_S16942_I42434.nii\n",
      "Already have ADNI_033_S_0734_MR_MPR__GradWarp__B1_Correction__N3__Scaled_Br_20070517154845006_S26803_I54739.nii\n",
      "Already have ADNI_033_S_0734_MR_MPR__GradWarp__B1_Correction__N3__Scaled_Br_20070921084713575_S37350_I74005.nii\n",
      "Already have ADNI_033_S_0734_MR_MPR__GradWarp__B1_Correction__N3__Scaled_2_Br_20081003121738846_S16942_I119134.nii\n",
      "Already have ADNI_033_S_0739_MR_MPR__GradWarp__B1_Correction__N3__Scaled_Br_20070304110859078_S16956_I42441.nii\n",
      "Already have ADNI_033_S_0739_MR_MPR__GradWarp__B1_Correction__N3__Scaled_Br_20070813160524463_S26702_I67457.nii\n",
      "Already have ADNI_033_S_0739_MR_MPR__GradWarp__B1_Correction__N3__Scaled_Br_20070921085601161_S36975_I74014.nii\n",
      "Already have ADNI_033_S_0739_MR_MPR__GradWarp__B1_Correction__N3__Scaled_2_Br_20081003121834902_S16956_I119135.nii\n",
      "Already have ADNI_033_S_0741_MR_MPR__GradWarp__B1_Correction__N3__Scaled_Br_20070304112300306_S17006_I42450.nii\n",
      "Already have ADNI_033_S_0741_MR_MPR__GradWarp__B1_Correction__N3__Scaled_Br_20080302103957976_S26614_I94809.nii\n",
      "Already have ADNI_033_S_0741_MR_MPR__GradWarp__B1_Correction__N3__Scaled_Br_20070921090412124_S37198_I74023.nii\n",
      "Already have ADNI_033_S_0741_MR_MPR__GradWarp__B1_Correction__N3__Scaled_2_Br_20081003121931589_S17006_I119136.nii\n",
      "Already have ADNI_033_S_0889_MR_MPR-R__GradWarp__B1_Correction__N3__Scaled_Br_20070426183239887_S19296_I51629.nii\n",
      "Already have ADNI_033_S_0889_MR_MPR-R__GradWarp__B1_Correction__N3__Scaled_Br_20070813162332351_S30708_I67470.nii\n",
      "Already have ADNI_033_S_0889_MR_MPR__GradWarp__B1_Correction__N3__Scaled_Br_20071127175201429_S40968_I83484.nii\n",
      "Already have ADNI_033_S_0906_MR_MPR-R__GradWarp__B1_Correction__N3__Scaled_Br_20070809192351371_S30931_I66569.nii\n",
      "Already have ADNI_033_S_0906_MR_MPR-R__GradWarp__B1_Correction__N3__Scaled_Br_20071127180218467_S40955_I83498.nii\n",
      "Already have ADNI_033_S_0906_MR_MPR__GradWarp__B1_Correction__N3__Scaled_Br_20070304115044054_S19314_I42468.nii\n",
      "Already have ADNI_033_S_0920_MR_MPR-R__GradWarp__B1_Correction__N3__Scaled_Br_20070304121025723_S19288_I42481.nii\n",
      "Already have ADNI_033_S_0920_MR_MPR__GradWarp__B1_Correction__N3__Scaled_Br_20070809192942142_S31099_I66574.nii\n",
      "Already have ADNI_033_S_0920_MR_MPR__GradWarp__B1_Correction__N3__Scaled_Br_20071125132209643_S42289_I83076.nii\n",
      "Already have ADNI_033_S_0922_MR_MPR__GradWarp__B1_Correction__N3__Scaled_Br_20070304122855389_S19341_I42493.nii\n",
      "Already have ADNI_033_S_0922_MR_MPR__GradWarp__B1_Correction__N3__Scaled_Br_20070809194026649_S31135_I66583.nii\n",
      "Already have ADNI_033_S_0922_MR_MPR__GradWarp__B1_Correction__N3__Scaled_Br_20071125140641110_S41529_I83085.nii\n",
      "Already have ADNI_033_S_0923_MR_MPR__GradWarp__B1_Correction__N3__Scaled_Br_20070304125438114_S19544_I42509.nii\n",
      "Already have ADNI_033_S_0923_MR_MPR__GradWarp__B1_Correction__N3__Scaled_Br_20070809195132975_S30215_I66592.nii\n",
      "Already have ADNI_033_S_0923_MR_MPR__GradWarp__B1_Correction__N3__Scaled_Br_20071115124507672_S41520_I82313.nii\n",
      "Already have ADNI_033_S_1016_MR_MPR__GradWarp__B1_Correction__N3__Scaled_Br_20070306084833503_S21817_I42772.nii\n",
      "Already have ADNI_033_S_1016_MR_MPR__GradWarp__B1_Correction__N3__Scaled_Br_20070813164707856_S33078_I67489.nii\n",
      "Already have ADNI_033_S_1016_MR_MPR__GradWarp__B1_Correction__N3__Scaled_Br_20071227094951573_S43303_I86245.nii\n",
      "Already have ADNI_033_S_1086_MR_MPR__GradWarp__B1_Correction__N3__Scaled_Br_20070306090420483_S23547_I42785.nii\n",
      "Already have ADNI_033_S_1086_MR_MPR__GradWarp__B1_Correction__N3__Scaled_Br_20071115125253644_S33023_I82323.nii\n",
      "Already have ADNI_033_S_1086_MR_MPR__GradWarp__B1_Correction__N3__Scaled_Br_20080224153400247_S45561_I92354.nii\n",
      "Already have ADNI_033_S_1098_MR_MPR-R__GradWarp__B1_Correction__N3__Scaled_Br_20070306095352673_S22792_I42832.nii\n",
      "Already have ADNI_033_S_1098_MR_MPR__GradWarp__B1_Correction__N3__Scaled_Br_20070812133211843_S33291_I67133.nii\n",
      "Already have ADNI_033_S_1098_MR_MPR__GradWarp__B1_Correction__N3__Scaled_Br_20080107135003058_S43311_I86698.nii\n"
     ]
    },
    {
     "name": "stdout",
     "output_type": "stream",
     "text": [
      "Already have ADNI_033_S_1116_MR_MPR__GradWarp__B1_Correction__N3__Scaled_Br_20070306101437636_S22799_I42844.nii\n",
      "Already have ADNI_033_S_1116_MR_MPR__GradWarp__B1_Correction__N3__Scaled_Br_20070813165712773_S33092_I67500.nii\n",
      "Already have ADNI_033_S_1116_MR_MPR__GradWarp__B1_Correction__N3__Scaled_Br_20080225191535025_S43249_I92687.nii\n",
      "Already have ADNI_033_S_1279_MR_MPR__GradWarp__B1_Correction__N3__Scaled_Br_20070517160450483_S26694_I54757.nii\n",
      "Already have ADNI_033_S_1279_MR_MPR__GradWarp__B1_Correction__N3__Scaled_Br_20071028200731920_S39264_I79214.nii\n",
      "Already have ADNI_033_S_1279_MR_MPR__GradWarp__B1_Correction__N3__Scaled_Br_20080320171043364_S46508_I99077.nii\n",
      "Already have ADNI_033_S_1283_MR_MPR__GradWarp__B1_Correction__N3__Scaled_Br_20070517162231894_S26144_I54785.nii\n",
      "Already have ADNI_033_S_1283_MR_MPR__GradWarp__B1_Correction__N3__Scaled_Br_20071029110439513_S37913_I79346.nii\n",
      "Already have ADNI_033_S_1283_MR_MPR__GradWarp__B1_Correction__N3__Scaled_Br_20080409154611508_S47019_I101691.nii\n",
      "Already have ADNI_033_S_1284_MR_MPR__GradWarp__B1_Correction__N3__Scaled_Br_20070517163057545_S26686_I54799.nii\n",
      "Already have ADNI_033_S_1284_MR_MPR__GradWarp__B1_Correction__N3__Scaled_Br_20070921144242345_S37921_I74257.nii\n",
      "Already have ADNI_033_S_1284_MR_MPR__GradWarp__B1_Correction__N3__Scaled_Br_20080313105209539_S46258_I97097.nii\n",
      "Already have ADNI_033_S_1285_MR_MPR__GradWarp__B1_Correction__N3__Scaled_Br_20070426175923899_S26128_I51588.nii\n",
      "Already have ADNI_033_S_1285_MR_MPR__GradWarp__B1_Correction__N3__Scaled_Br_20071028201400619_S39254_I79223.nii\n",
      "Already have ADNI_033_S_1285_MR_MPR__GradWarp__B1_Correction__N3__Scaled_Br_20080409155733325_S47163_I101710.nii\n",
      "Already have ADNI_033_S_1308_MR_MPR-R__GradWarp__B1_Correction__N3__Scaled_Br_20070517160021095_S26600_I54752.nii\n",
      "Already have ADNI_033_S_1308_MR_MPR__GradWarp__B1_Correction__N3__Scaled_Br_20071028101118754_S39228_I78951.nii\n",
      "Already have ADNI_033_S_1308_MR_MPR__GradWarp__B1_Correction__N3__Scaled_Br_20080414090804452_S46343_I102378.nii\n",
      "Already have ADNI_033_S_1309_MR_MPR__GradWarp__B1_Correction__N3__Scaled_Br_20070426181345627_S26195_I51605.nii\n",
      "Already have ADNI_033_S_1309_MR_MPR__GradWarp__B1_Correction__N3__Scaled_Br_20071028102024425_S39276_I78960.nii\n",
      "Already have ADNI_033_S_1309_MR_MPR__GradWarp__B1_Correction__N3__Scaled_Br_20080318135248488_S46327_I98795.nii\n",
      "Already have ADNI_035_S_0033_MR_MPR__GradWarp__B1_Correction__N3__Scaled_Br_20070319170758998_S10396_I45166.nii\n",
      "Already have ADNI_035_S_0033_MR_MPR__GradWarp__B1_Correction__N3__Scaled_Br_20070212213314800_S15110_I39519.nii\n",
      "Already have ADNI_035_S_0033_MR_MPR__GradWarp__B1_Correction__N3__Scaled_Br_20070808130434643_S24064_I65833.nii\n",
      "Already have ADNI_035_S_0048_MR_MPR__GradWarp__B1_Correction__N3__Scaled_Br_20070319171821233_S10257_I45183.nii\n",
      "Already have ADNI_035_S_0048_MR_MPR__GradWarp__B1_Correction__N3__Scaled_Br_20071127180555057_S18074_I83503.nii\n",
      "Already have ADNI_035_S_0048_MR_MPR__GradWarp__B1_Correction__N3__Scaled_Br_20070819135821247_S25605_I68769.nii\n",
      "Already have ADNI_035_S_0156_MR_MPR__GradWarp__B1_Correction__N3__Scaled_Br_20070212214638392_S11391_I39533.nii\n",
      "Already have ADNI_035_S_0156_MR_MPR__GradWarp__B1_Correction__N3__Scaled_Br_20071030154636093_S18627_I79723.nii\n",
      "Already have ADNI_035_S_0156_MR_MPR__GradWarp__B1_Correction__N3__Scaled_Br_20070816143628256_S26676_I68107.nii\n",
      "Already have ADNI_035_S_0204_MR_MPR__GradWarp__B1_Correction__N3__Scaled_Br_20070212215946185_S11661_I39542.nii\n",
      "Already have ADNI_035_S_0204_MR_MPR__GradWarp__B1_Correction__N3__Scaled_Br_20070319173053386_S19178_I45192.nii\n",
      "Already have ADNI_035_S_0204_MR_MPR__GradWarp__B1_Correction__N3__Scaled_Br_20070809201044536_S27283_I66608.nii\n",
      "Already have ADNI_035_S_0292_MR_MPR-R__GradWarp__B1_Correction__N3__Scaled_Br_20070815101756551_S32111_I67715.nii\n",
      "Already have ADNI_035_S_0292_MR_MPR__GradWarp__B1_Correction__N3__Scaled_Br_20070212221314426_S12408_I39569.nii\n",
      "Already have ADNI_035_S_0292_MR_MPR__GradWarp__B1_Correction__N3__Scaled_Br_20070212222700303_S19811_I39583.nii\n",
      "Already have ADNI_035_S_0341_MR_MPR-R__GradWarp__B1_Correction__N3__Scaled_Br_20070212224727362_S20043_I39596.nii\n",
      "Already have ADNI_035_S_0341_MR_MPR__GradWarp__B1_Correction__N3__Scaled_Br_20070319175003745_S12952_I45213.nii\n",
      "Already have ADNI_035_S_0341_MR_MPR__GradWarp__B1_Correction__N3__Scaled_Br_20070818130724983_S33925_I68504.nii\n",
      "Already have ADNI_035_S_0555_MR_MPR-R__GradWarp__B1_Correction__N3__Scaled_Br_20070212231251579_S22440_I39614.nii\n",
      "Already have ADNI_035_S_0555_MR_MPR-R__GradWarp__B1_Correction__N3__Scaled_Br_20080415150840469_S43456_I102770.nii\n",
      "Already have ADNI_035_S_0555_MR_MPR__GradWarp__B1_Correction__N3__Scaled_Br_20070809201754638_S32666_I66617.nii\n",
      "Already have ADNI_035_S_0997_MR_MPR-R__GradWarp__B1_Correction__N3__Scaled_Br_20070809202808239_S34205_I66630.nii\n",
      "Already have ADNI_035_S_0997_MR_MPR__GradWarp__B1_Correction__N3__Scaled_Br_20070730180825513_S23184_I62908.nii\n",
      "Already have ADNI_035_S_0997_MR_MPR__GradWarp__B1_Correction__N3__Scaled_Br_20080223121247625_S44885_I91659.nii\n",
      "Already have ADNI_036_S_0576_MR_MPR-R__GradWarp__B1_Correction__N3__Scaled_Br_20070904202106492_S33120_I71527.nii\n",
      "Already have ADNI_036_S_0576_MR_MPR__GradWarp__B1_Correction__N3__Scaled_Br_20070119231729321_S15156_I36903.nii\n",
      "Already have ADNI_036_S_0576_MR_MPR__GradWarp__B1_Correction__N3__Scaled_Br_20070818131325990_S23419_I68513.nii\n",
      "Already have ADNI_036_S_0577_MR_MPR__GradWarp__B1_Correction__N3__Scaled_Br_20070119233126708_S14974_I36914.nii\n",
      "Already have ADNI_036_S_0577_MR_MPR__GradWarp__B1_Correction__N3__Scaled_Br_20070806134831275_S24294_I65055.nii\n",
      "Already have ADNI_036_S_0577_MR_MPR__GradWarp__B1_Correction__N3__Scaled_Br_20070910174433200_S33137_I72195.nii\n",
      "Already have ADNI_036_S_0656_MR_MPR__GradWarp__B1_Correction__N3__Scaled_Br_20070119234457766_S16286_I36924.nii\n",
      "Already have ADNI_036_S_0656_MR_MPR__GradWarp__B1_Correction__N3__Scaled_Br_20070806135701140_S25376_I65064.nii\n",
      "Already have ADNI_036_S_0656_MR_MPR__GradWarp__B1_Correction__N3__Scaled_Br_20070904202551074_S35050_I71536.nii\n",
      "Already have ADNI_036_S_0672_MR_MPR__GradWarp__B1_Correction__N3__Scaled_Br_20070119235831844_S17131_I36938.nii\n",
      "Already have ADNI_036_S_0672_MR_MPR__GradWarp__B1_Correction__N3__Scaled_Br_20070807161756388_S26330_I65636.nii\n",
      "Already have ADNI_036_S_0672_MR_MPR__GradWarp__B1_Correction__N3__Scaled_Br_20070913160739946_S36716_I73118.nii\n",
      "Already have ADNI_036_S_0673_MR_MPR__GradWarp__B1_Correction__N3__Scaled_Br_20070120001203137_S17157_I36949.nii\n",
      "Already have ADNI_036_S_0673_MR_MPR__GradWarp__B1_Correction__N3__Scaled_Br_20070807162659087_S26364_I65645.nii\n",
      "Already have ADNI_036_S_0673_MR_MPR__GradWarp__B1_Correction__N3__Scaled_Br_20070904203243842_S35196_I71549.nii\n",
      "Already have ADNI_036_S_0748_MR_MPR-R__GradWarp__B1_Correction__N3__Scaled_Br_20070806141028351_S27387_I65077.nii\n",
      "Already have ADNI_036_S_0748_MR_MPR__GradWarp__B1_Correction__N3__Scaled_Br_20070120002555015_S17705_I36959.nii\n",
      "Already have ADNI_036_S_0748_MR_MPR__GradWarp__B1_Correction__N3__Scaled_Br_20070923135800146_S37620_I74712.nii\n",
      "Already have ADNI_036_S_0760_MR_MPR__GradWarp__B1_Correction__N3__Scaled_Br_20070209144410346_S18264_I38652.nii\n",
      "Already have ADNI_036_S_0760_MR_MPR__GradWarp__B1_Correction__N3__Scaled_Br_20070731180424579_S29518_I63445.nii\n",
      "Already have ADNI_036_S_0760_MR_MPR__GradWarp__B1_Correction__N3__Scaled_Br_20071031133330028_S40122_I79913.nii\n",
      "Already have ADNI_036_S_0813_MR_MPR__GradWarp__B1_Correction__N3__Scaled_Br_20070120005430235_S18252_I36979.nii\n",
      "Already have ADNI_036_S_0813_MR_MPR__GradWarp__B1_Correction__N3__Scaled_Br_20070806141542560_S29508_I65082.nii\n",
      "Already have ADNI_036_S_0813_MR_MPR__GradWarp__B1_Correction__N3__Scaled_Br_20071031133855133_S40100_I79922.nii\n",
      "Already have ADNI_036_S_0869_MR_MPR-R__GradWarp__B1_Correction__N3__Scaled_Br_20070120011255669_S21421_I36993.nii\n",
      "Already have ADNI_036_S_0869_MR_MPR-R__GradWarp__B1_Correction__N3__Scaled_Br_20071219111113795_S42894_I85519.nii\n",
      "Already have ADNI_036_S_0869_MR_MPR__GradWarp__B1_Correction__N3__Scaled_Br_20080125111239454_S31884_I88531.nii\n",
      "Already have ADNI_036_S_0945_MR_MPR__GradWarp__B1_Correction__N3__Scaled_Br_20070120012107705_S20971_I36999.nii\n",
      "Already have ADNI_036_S_0945_MR_MPR__GradWarp__B1_Correction__N3__Scaled_Br_20070904203724047_S33381_I71558.nii\n",
      "Already have ADNI_036_S_0945_MR_MPR__GradWarp__B1_Correction__N3__Scaled_Br_20080307102315434_S42468_I95633.nii\n",
      "Already have ADNI_036_S_0976_MR_MPR-R__GradWarp__B1_Correction__N3__Scaled_Br_20070904204409986_S34868_I71571.nii\n",
      "Already have ADNI_036_S_0976_MR_MPR-R__GradWarp__B1_Correction__N3__Scaled_Br_20080229172811596_S44594_I94520.nii\n",
      "Already have ADNI_036_S_0976_MR_MPR__GradWarp__B1_Correction__N3__Scaled_Br_20070806142519390_S23852_I65091.nii\n"
     ]
    },
    {
     "name": "stdout",
     "output_type": "stream",
     "text": [
      "Already have ADNI_036_S_1001_MR_MPR-R__GradWarp__B1_Correction__N3__Scaled_Br_20070904204856863_S33036_I71580.nii\n",
      "Already have ADNI_036_S_1001_MR_MPR__GradWarp__B1_Correction__N3__Scaled_Br_20070209145840163_S22691_I38661.nii\n",
      "Already have ADNI_036_S_1001_MR_MPR__GradWarp__B1_Correction__N3__Scaled_Br_20071221155430073_S43195_I85950.nii\n",
      "Already have ADNI_036_S_1023_MR_MPR-R__GradWarp__B1_Correction__N3__Scaled_Br_20070806143820211_S24338_I65104.nii\n",
      "Already have ADNI_036_S_1023_MR_MPR__GradWarp__B1_Correction__N3__Scaled_Br_20070921163831430_S37036_I74284.nii\n",
      "Already have ADNI_036_S_1023_MR_MPR__GradWarp__B1_Correction__N3__Scaled_Br_20080318140501323_S46289_I98811.nii\n",
      "Already have ADNI_036_S_1135_MR_MPR__GradWarp__B1_Correction__N3__Scaled_Br_20070806144313368_S24501_I65109.nii\n",
      "Already have ADNI_036_S_1135_MR_MPR__GradWarp__B1_Correction__N3__Scaled_Br_20070923140239972_S34563_I74721.nii\n",
      "Already have ADNI_036_S_1135_MR_MPR__GradWarp__B1_Correction__N3__Scaled_Br_20080124115141379_S44366_I88279.nii\n",
      "Already have ADNI_036_S_1240_MR_MPR__GradWarp__B1_Correction__N3__Scaled_Br_20070806145220578_S26423_I65118.nii\n",
      "Already have ADNI_036_S_1240_MR_MPR__GradWarp__B1_Correction__N3__Scaled_Br_20070921164324652_S37612_I74293.nii\n",
      "Already have ADNI_036_S_1240_MR_MPR__GradWarp__B1_Correction__N3__Scaled_Br_20080515115856563_S49622_I105750.nii\n",
      "Already have ADNI_037_S_0150_MR_MPR-R__GradWarp__N3__Scaled_Br_20070806150947680_S11434_I65130.nii\n",
      "Already have ADNI_037_S_0150_MR_MPR-R__GradWarp__N3__Scaled_Br_20070818132956257_S28754_I68534.nii\n",
      "Already have ADNI_037_S_0150_MR_MPR__GradWarp__N3__Scaled_Br_20070819140606612_S19139_I68780.nii\n",
      "Already have ADNI_037_S_0303_MR_MPR-R__GradWarp__N3__Scaled_Br_20070806153911498_S12982_I65148.nii\n",
      "Already have ADNI_037_S_0303_MR_MPR__GradWarp__N3__Scaled_Br_20080123090119041_S20571_I88065.nii\n",
      "Already have ADNI_037_S_0303_MR_MPR__GradWarp__N3__Scaled_Br_20070730181454279_S30692_I62917.nii\n",
      "Already have ADNI_037_S_0327_MR_MPR-R__GradWarp__N3__Scaled_Br_20071030160355546_S22548_I79742.nii\n",
      "Already have ADNI_037_S_0327_MR_MPR__GradWarp__N3__Scaled_Br_20071030155301116_S13473_I79732.nii\n",
      "Already have ADNI_037_S_0327_MR_MPR__GradWarp__N3__Scaled_Br_20070910175014193_S32632_I72204.nii\n",
      "Already have ADNI_037_S_0454_MR_MPR-R__GradWarp__N3__Scaled_Br_20080215170855013_S24345_I90558.nii\n",
      "Already have ADNI_037_S_0454_MR_MPR-R__GradWarp__N3__Scaled_Br_20070904205517589_S33516_I71588.nii\n",
      "Already have ADNI_037_S_0454_MR_MPR__GradWarp__N3__Scaled_Br_20071030160825938_S14104_I79755.nii\n",
      "Already have ADNI_037_S_0467_MR_MPR__GradWarp__N3__Scaled_Br_20080605143330764_S14164_I108505.nii\n",
      "Already have ADNI_037_S_0467_MR_MPR__GradWarp__N3__Scaled_Br_20071030161648095_S24391_I79766.nii\n",
      "Already have ADNI_037_S_0467_MR_MPR__GradWarp__N3__Scaled_Br_20071006121434287_S33632_I77062.nii\n",
      "Already have ADNI_037_S_0501_MR_MPR-R__GradWarp__N3__Scaled_Br_20080108145618263_S24744_I86797.nii\n",
      "Already have ADNI_037_S_0501_MR_MPR__GradWarp__N3__Scaled_Br_20071030162417053_S14854_I79773.nii\n",
      "Already have ADNI_037_S_0501_MR_MPR__GradWarp__N3__Scaled_Br_20070910175723423_S35021_I72212.nii\n",
      "Already have ADNI_037_S_0539_MR_MPR-R__GradWarp__N3__Scaled_Br_20071030164547990_S15541_I79792.nii\n",
      "Already have ADNI_037_S_0539_MR_MPR__GradWarp__N3__Scaled_Br_20070818133515805_S25820_I68538.nii\n",
      "Already have ADNI_037_S_0539_MR_MPR__GradWarp__N3__Scaled_Br_20070828113532577_S36363_I70710.nii\n",
      "Already have ADNI_037_S_0552_MR_MPR__GradWarp__N3__Scaled_Br_20071030165002928_S14888_I79796.nii\n",
      "Already have ADNI_037_S_0552_MR_MPR__GradWarp__N3__Scaled_Br_20080220133052279_S24610_I90999.nii\n",
      "Already have ADNI_037_S_0552_MR_MPR__GradWarp__N3__Scaled_Br_20080124115723807_S42050_I88288.nii\n",
      "Already have ADNI_037_S_0566_MR_MPR-R__GradWarp__N3__Scaled_Br_20071030170836282_S26628_I79813.nii\n",
      "Already have ADNI_037_S_0566_MR_MPR__GradWarp__N3__Scaled_Br_20071030165731129_S15457_I79803.nii\n",
      "Already have ADNI_037_S_0566_MR_MPR__GradWarp__N3__Scaled_Br_20070921164917755_S36968_I74302.nii\n",
      "Already have ADNI_037_S_0588_MR_MPR__GradWarp__N3__Scaled_Br_20071030172005902_S23602_I79824.nii\n",
      "Already have ADNI_037_S_0588_MR_MPR__GradWarp__N3__Scaled_Br_20070904205918131_S34406_I71592.nii\n",
      "Already have ADNI_037_S_0588_MR_MPR__GradWarp__N3__Scaled_Br_20080124121209397_S43876_I88302.nii\n",
      "Already have ADNI_037_S_1078_MR_MPR-R__GradWarp__N3__Scaled_Br_20080125113404548_S43988_I88559.nii\n",
      "Already have ADNI_037_S_1078_MR_MPR__GradWarp__N3__Scaled_Br_20071030173513529_S23178_I79838.nii\n",
      "Already have ADNI_037_S_1078_MR_MPR__GradWarp__N3__Scaled_Br_20070904210618179_S33849_I71599.nii\n",
      "Already have ADNI_037_S_1225_MR_MPR-R__GradWarp__N3__Scaled_Br_20071031135002117_S25472_I79934.nii\n",
      "Already have ADNI_037_S_1225_MR_MPR__GradWarp__N3__Scaled_Br_20071229183848350_S37852_I86395.nii\n",
      "Already have ADNI_037_S_1225_MR_MPR__GradWarp__N3__Scaled_Br_20080225175528782_S45500_I92547.nii\n",
      "Already have ADNI_037_S_1421_MR_MPR__GradWarp__N3__Scaled_Br_20071031140454958_S38602_I79948.nii\n",
      "Already have ADNI_037_S_1421_MR_MPR__GradWarp__N3__Scaled_Br_20080229173131514_S45956_I94525.nii\n",
      "Already have ADNI_037_S_1421_MR_MPR__GradWarp__N3__Scaled_Br_20081017074700979_S56560_I121637.nii\n",
      "Already have ADNI_041_S_0125_MR_MPR__GradWarp__B1_Correction__N3__Scaled_Br_20070109234918469_S10883_I35671.nii\n",
      "Already have ADNI_041_S_0125_MR_MPR__GradWarp__B1_Correction__N3__Scaled_Br_20070212205044475_S17618_I39468.nii\n",
      "Already have ADNI_041_S_0125_MR_MPR__GradWarp__B1_Correction__N3__Scaled_Br_20070813171700209_S25732_I67522.nii\n",
      "Already have ADNI_041_S_0262_MR_MPR__GradWarp__B1_Correction__N3__Scaled_Br_20081103091239359_S12292_I124897.nii\n",
      "Already have ADNI_041_S_0262_MR_MPR__GradWarp__B1_Correction__N3__Scaled_Br_20071125142705902_S24586_I83108.nii\n",
      "Already have ADNI_041_S_0262_MR_MPR__GradWarp__B1_Correction__N3__Scaled_Br_20080116093129656_S31065_I87604.nii\n",
      "Already have ADNI_041_S_0282_MR_MPR__GradWarp__B1_Correction__N3__Scaled_Br_20070212210357565_S13496_I39486.nii\n",
      "Already have ADNI_041_S_0282_MR_MPR__GradWarp__B1_Correction__N3__Scaled_Br_20080520095303972_S26159_I106213.nii\n",
      "Already have ADNI_041_S_0282_MR_MPR__GradWarp__B1_Correction__N3__Scaled_Br_20080117112807761_S31953_I87726.nii\n",
      "Already have ADNI_041_S_0314_MR_MPR__GradWarp__B1_Correction__N3__Scaled_Br_20061229141726504_S12492_I34680.nii\n",
      "Already have ADNI_041_S_0314_MR_MPR__GradWarp__B1_Correction__N3__Scaled_Br_20070806154531461_S27130_I65152.nii\n",
      "Already have ADNI_041_S_0314_MR_MPR__GradWarp__B1_Correction__N3__Scaled_Br_20070802182056429_S31643_I64134.nii\n",
      "Already have ADNI_041_S_0446_MR_MPR-R__GradWarp__B1_Correction__N3__Scaled_Br_20070215230040560_S13908_I40433.nii\n",
      "Already have ADNI_041_S_0446_MR_MPR-R__GradWarp__B1_Correction__N3__Scaled_Br_20070806155716141_S24824_I65167.nii\n",
      "Already have ADNI_041_S_0446_MR_MPR__GradWarp__B1_Correction__N3__Scaled_Br_20070904211217449_S33006_I71606.nii\n",
      "Already have ADNI_041_S_0549_MR_MPR__GradWarp__B1_Correction__N3__Scaled_Br_20070212211806655_S15488_I39506.nii\n",
      "Already have ADNI_041_S_0549_MR_MPR__GradWarp__B1_Correction__N3__Scaled_Br_20070802182721517_S29401_I64143.nii\n",
      "Already have ADNI_041_S_0549_MR_MPR__GradWarp__B1_Correction__N3__Scaled_Br_20071031141015541_S41634_I79954.nii\n",
      "Already have ADNI_041_S_0598_MR_MPR-R__GradWarp__B1_Correction__N3__Scaled_Br_20070806160533620_S25724_I65179.nii\n",
      "Already have ADNI_041_S_0598_MR_MPR-R__GradWarp__B1_Correction__N3__Scaled_Br_20071031141847950_S39217_I79977.nii\n",
      "Already have ADNI_041_S_0598_MR_MPR__GradWarp__B1_Correction__N3__Scaled_Br_20070214000432776_S15604_I40037.nii\n",
      "Already have ADNI_041_S_0679_MR_MPR__GradWarp__B1_Correction__N3__Scaled_Br_20070214001636579_S17077_I40046.nii\n",
      "Already have ADNI_041_S_0679_MR_MPR__GradWarp__B1_Correction__N3__Scaled_Br_20070806160959291_S26256_I65187.nii\n",
      "Already have ADNI_041_S_0679_MR_MPR__GradWarp__B1_Correction__N3__Scaled_Br_20070921170315958_S37276_I74321.nii\n",
      "Already have ADNI_041_S_0898_MR_MPR__GradWarp__B1_Correction__N3__Scaled_Br_20061229144820782_S20306_I34698.nii\n",
      "Already have ADNI_041_S_0898_MR_MPR__GradWarp__B1_Correction__N3__Scaled_Br_20070730182305837_S32151_I62924.nii\n",
      "Already have ADNI_041_S_0898_MR_MPR__GradWarp__B1_Correction__N3__Scaled_Br_20080113121743979_S43827_I87256.nii\n",
      "Already have ADNI_041_S_1002_MR_MPR__GradWarp__B1_Correction__N3__Scaled_Br_20070806162828919_S23705_I65220.nii\n",
      "Already have ADNI_041_S_1002_MR_MPR__GradWarp__B1_Correction__N3__Scaled_Br_20070904211634048_S33248_I71615.nii\n",
      "Already have ADNI_041_S_1002_MR_MPR__GradWarp__B1_Correction__N3__Scaled_Br_20080113122218341_S43560_I87265.nii\n"
     ]
    },
    {
     "name": "stdout",
     "output_type": "stream",
     "text": [
      "Already have ADNI_041_S_1010_MR_MPR-R__GradWarp__B1_Correction__N3__Scaled_Br_20080215171408591_S43339_I90566.nii\n",
      "Already have ADNI_041_S_1010_MR_MPR__GradWarp__B1_Correction__N3__Scaled_Br_20070806163601228_S23880_I65230.nii\n",
      "Already have ADNI_041_S_1010_MR_MPR__GradWarp__B1_Correction__N3__Scaled_Br_20070904212058465_S32992_I71624.nii\n",
      "Already have ADNI_041_S_1260_MR_MPR__GradWarp__B1_Correction__N3__Scaled_Br_20070806164316698_S25806_I65239.nii\n",
      "Already have ADNI_041_S_1260_MR_MPR__GradWarp__B1_Correction__N3__Scaled_Br_20080116093555496_S41032_I87613.nii\n",
      "Already have ADNI_041_S_1260_MR_MPR__GradWarp__B1_Correction__N3__Scaled_Br_20080313111619516_S46550_I97125.nii\n",
      "Already have ADNI_041_S_1368_MR_MPR__GradWarp__B1_Correction__N3__Scaled_Br_20070806164945601_S27512_I65248.nii\n",
      "Already have ADNI_041_S_1368_MR_MPR__GradWarp__B1_Correction__N3__Scaled_Br_20080108151032688_S43147_I86819.nii\n",
      "Already have ADNI_041_S_1368_MR_MPR__GradWarp__B1_Correction__N3__Scaled_Br_20080414091434750_S47373_I102387.nii\n",
      "Already have ADNI_041_S_1412_MR_MPR__GradWarp__B1_Correction__N3__Scaled_Br_20070910180353288_S34022_I72219.nii\n",
      "Already have ADNI_041_S_1412_MR_MPR__GradWarp__B1_Correction__N3__Scaled_Br_20080229173729232_S45602_I94532.nii\n",
      "Already have ADNI_041_S_1412_MR_MPR__GradWarp__B1_Correction__N3__Scaled_Br_20081017075251027_S54204_I121644.nii\n",
      "Already have ADNI_041_S_1418_MR_MPR-R__GradWarp__B1_Correction__N3__Scaled_Br_20070918132319385_S36524_I73642.nii\n",
      "Already have ADNI_041_S_1418_MR_MPR__GradWarp__B1_Correction__N3__Scaled_Br_20080229174204931_S45820_I94541.nii\n",
      "Already have ADNI_041_S_1418_MR_MPR__GradWarp__B1_Correction__N3__Scaled_Br_20081017075714599_S54216_I121653.nii\n",
      "Already have ADNI_041_S_1423_MR_MPR-R__GradWarp__B1_Correction__N3__Scaled_Br_20070910181109848_S36902_I72232.nii\n",
      "Already have ADNI_041_S_1423_MR_MPR-R__GradWarp__B1_Correction__N3__Scaled_Br_20080223162436122_S45367_I91810.nii\n",
      "Already have ADNI_041_S_1423_MR_MPR-R__GradWarp__B1_Correction__N3__Scaled_Br_20081017080327353_S55787_I121666.nii\n",
      "Already have ADNI_051_S_1040_MR_MPR-R__GradWarp__B1_Correction__N3__Scaled_Br_20070628170325267_S21751_I58038.nii\n",
      "Already have ADNI_051_S_1040_MR_MPR__GradWarp__B1_Correction__N3__Scaled_Br_20070828114409012_S31904_I70717.nii\n",
      "Already have ADNI_051_S_1040_MR_MPR__GradWarp__B1_Correction__N3__Scaled_Br_20071113182235510_S42211_I81955.nii\n",
      "Already have ADNI_051_S_1072_MR_MPR__GradWarp__B1_Correction__N3__Scaled_Br_20070628164947026_S22884_I58011.nii\n",
      "Already have ADNI_051_S_1072_MR_MPR__GradWarp__B1_Correction__N3__Scaled_Br_20070904212535995_S34435_I71633.nii\n",
      "Already have ADNI_051_S_1072_MR_MPR__GradWarp__B1_Correction__N3__Scaled_Br_20080111143230372_S43798_I87111.nii\n",
      "Already have ADNI_051_S_1123_MR_MPR__GradWarp__B1_Correction__N3__Scaled_Br_20070628170623863_S24099_I58043.nii\n",
      "Already have ADNI_051_S_1123_MR_MPR__GradWarp__B1_Correction__N3__Scaled_Br_20070921170751283_S36790_I74333.nii\n",
      "Already have ADNI_051_S_1123_MR_MPR__GradWarp__B1_Correction__N3__Scaled_Br_20080313112122105_S46029_I97134.nii\n",
      "Already have ADNI_051_S_1131_MR_MPR__GradWarp__B1_Correction__N3__Scaled_Br_20070730183432214_S24089_I62943.nii\n",
      "Already have ADNI_051_S_1131_MR_MPR__GradWarp__B1_Correction__N3__Scaled_Br_20071101164607369_S36810_I80170.nii\n",
      "Already have ADNI_051_S_1131_MR_MPR__GradWarp__B1_Correction__N3__Scaled_Br_20080223163118519_S44812_I91824.nii\n",
      "Already have ADNI_051_S_1296_MR_MPR__GradWarp__B1_Correction__N3__Scaled_Br_20070628165536504_S26431_I58022.nii\n",
      "Already have ADNI_051_S_1296_MR_MPR__GradWarp__B1_Correction__N3__Scaled_Br_20071031143129207_S39145_I79994.nii\n",
      "Already have ADNI_051_S_1296_MR_MPR__GradWarp__B1_Correction__N3__Scaled_Br_20080313112626553_S46043_I97143.nii\n",
      "Already have ADNI_051_S_1331_MR_MPR__GradWarp__B1_Correction__N3__Scaled_Br_20070802183344983_S29664_I64152.nii\n",
      "Already have ADNI_051_S_1331_MR_MPR__GradWarp__B1_Correction__N3__Scaled_Br_20081016155834009_S42220_I121413.nii\n",
      "Already have ADNI_051_S_1331_MR_MPR__GradWarp__B1_Correction__N3__Scaled_Br_20080530175403253_S49787_I107881.nii\n",
      "Already have ADNI_052_S_0671_MR_MPR-R__GradWarp__B1_Correction__N3__Scaled_Br_20070727095450791_S25301_I62198.nii\n",
      "Already have ADNI_052_S_0671_MR_MPR__GradWarp__B1_Correction__N3__Scaled_Br_20070802184022454_S16062_I64161.nii\n",
      "Already have ADNI_052_S_0671_MR_MPR__GradWarp__B1_Correction__N3__Scaled_Br_20070904213021357_S34390_I71642.nii\n",
      "Already have ADNI_052_S_0671_MR_MPR__GradWarp__B1_Correction__N3__Scaled_2_Br_20081003125820580_S16062_I119137.nii\n",
      "Already have ADNI_052_S_0951_MR_MPR__GradWarp__B1_Correction__N3__Scaled_Br_20070802184955745_S20352_I64170.nii\n",
      "Already have ADNI_052_S_0951_MR_MPR__GradWarp__B1_Correction__N3__Scaled_Br_20070727100344252_S29807_I62205.nii\n",
      "Already have ADNI_052_S_0951_MR_MPR__GradWarp__B1_Correction__N3__Scaled_Br_20071219111410020_S42596_I85524.nii\n",
      "Already have ADNI_052_S_0951_MR_MPR__GradWarp__B1_Correction__N3__Scaled_2_Br_20081003125910493_S20352_I119138.nii\n",
      "Already have ADNI_052_S_0952_MR_MPR-R__GradWarp__B1_Correction__N3__Scaled_Br_20080207174038836_S20364_I89952.nii\n",
      "Already have ADNI_052_S_0952_MR_MPR-R__GradWarp__B1_Correction__N3__Scaled_2_Br_20081003130006304_S20364_I119139.nii\n",
      "Already have ADNI_052_S_0952_MR_MPR__GradWarp__B1_Correction__N3__Scaled_Br_20070727102827967_S30164_I62224.nii\n",
      "Already have ADNI_052_S_0952_MR_MPR__GradWarp__B1_Correction__N3__Scaled_Br_20071219112116310_S42607_I85533.nii\n",
      "Already have ADNI_052_S_1054_MR_MPR-R__GradWarp__B1_Correction__N3__Scaled_Br_20070727103957599_S22955_I62234.nii\n",
      "Already have ADNI_052_S_1054_MR_MPR-R__GradWarp__B1_Correction__N3__Scaled_Br_20080108151832232_S43971_I86832.nii\n",
      "Already have ADNI_052_S_1054_MR_MPR__GradWarp__B1_Correction__N3__Scaled_Br_20070910182120022_S33097_I72246.nii\n",
      "Already have ADNI_052_S_1168_MR_MPR__GradWarp__B1_Correction__N3__Scaled_Br_20070807165239568_S23688_I65667.nii\n",
      "Already have ADNI_052_S_1168_MR_MPR__GradWarp__B1_Correction__N3__Scaled_Br_20070910183241150_S33879_I72260.nii\n",
      "Already have ADNI_052_S_1168_MR_MPR__GradWarp__B1_Correction__N3__Scaled_Br_20080108152230245_S44080_I86837.nii\n",
      "Already have ADNI_052_S_1250_MR_MPR__GradWarp__B1_Correction__N3__Scaled_Br_20070727104806153_S25829_I62240.nii\n",
      "Already have ADNI_052_S_1250_MR_MPR__GradWarp__B1_Correction__N3__Scaled_Br_20071125143200155_S38680_I83117.nii\n",
      "Already have ADNI_052_S_1250_MR_MPR__GradWarp__B1_Correction__N3__Scaled_Br_20080223164858679_S44877_I91851.nii\n",
      "Already have ADNI_052_S_1251_MR_MPR__GradWarp__B1_Correction__N3__Scaled_Br_20070727113005318_S26231_I62282.nii\n",
      "Already have ADNI_052_S_1251_MR_MPR__GradWarp__B1_Correction__N3__Scaled_Br_20071028104401944_S38754_I78985.nii\n",
      "Already have ADNI_052_S_1251_MR_MPR__GradWarp__B1_Correction__N3__Scaled_Br_20080313113159807_S46537_I97152.nii\n",
      "Already have ADNI_052_S_1346_MR_MPR-R__GradWarp__B1_Correction__N3__Scaled_Br_20071031144805055_S41298_I80016.nii\n",
      "Already have ADNI_052_S_1346_MR_MPR__GradWarp__B1_Correction__N3__Scaled_Br_20070727115323490_S28024_I62299.nii\n",
      "Already have ADNI_052_S_1346_MR_MPR__GradWarp__B1_Correction__N3__Scaled_Br_20080513180412959_S49526_I105360.nii\n",
      "Already have ADNI_052_S_1352_MR_MPR-R__GradWarp__B1_Correction__N3__Scaled_Br_20071101170551339_S41170_I80187.nii\n",
      "Already have ADNI_052_S_1352_MR_MPR__GradWarp__B1_Correction__N3__Scaled_Br_20070727120722606_S27549_I62319.nii\n",
      "Already have ADNI_052_S_1352_MR_MPR__GradWarp__B1_Correction__N3__Scaled_Br_20080430145418808_S49043_I104380.nii\n",
      "Already have ADNI_053_S_0389_MR_MPR__GradWarp__B1_Correction__N3__Scaled_Br_20070807170419023_S13550_I65676.nii\n",
      "Already have ADNI_053_S_0389_MR_MPR__GradWarp__B1_Correction__N3__Scaled_Br_20070809203230237_S22124_I66635.nii\n",
      "Already have ADNI_053_S_0389_MR_MPR__GradWarp__B1_Correction__N3__Scaled_Br_20070828115034134_S33442_I70726.nii\n",
      "Already have ADNI_053_S_0389_MR_MPR__GradWarp__B1_Correction__N3__Scaled_2_Br_20081003140345084_S13550_I119140.nii\n",
      "Already have ADNI_053_S_0389_MR_MPR__GradWarp__B1_Correction__N3__Scaled_2_Br_20081003140437565_S22124_I119141.nii\n",
      "Already have ADNI_053_S_0389_MR_MPR__GradWarp__B1_Correction__N3__Scaled_2_Br_20081003140528925_S33442_I119142.nii\n",
      "Already have ADNI_053_S_0507_MR_MPR__GradWarp__B1_Correction__N3__Scaled_Br_20071101171250650_S14483_I80199.nii\n",
      "Already have ADNI_053_S_0507_MR_MPR__GradWarp__B1_Correction__N3__Scaled_Br_20080124152257197_S23928_I88430.nii\n",
      "Already have ADNI_053_S_0507_MR_MPR__GradWarp__B1_Correction__N3__Scaled_Br_20070927074920068_S33434_I75462.nii\n",
      "Already have ADNI_053_S_0507_MR_MPR__GradWarp__B1_Correction__N3__Scaled_2_Br_20081003140804880_S14483_I119145.nii\n",
      "Already have ADNI_053_S_0507_MR_MPR__GradWarp__B1_Correction__N3__Scaled_2_Br_20081003140940592_S23928_I119147.nii\n",
      "Already have ADNI_053_S_0507_MR_MPR__GradWarp__B1_Correction__N3__Scaled_2_Br_20081003141119945_S33434_I119157.nii\n",
      "Already have ADNI_053_S_0621_MR_MPR-R__GradWarp__B1_Correction__N3__Scaled_Br_20071118113209565_S34522_I82527.nii\n",
      "Already have ADNI_053_S_0621_MR_MPR-R__GradWarp__B1_Correction__N3__Scaled_2_Br_20081003141719740_S34522_I119168.nii\n",
      "Already have ADNI_053_S_0621_MR_MPR__GradWarp__B1_Correction__N3__Scaled_Br_20070802190848867_S15442_I64189.nii\n"
     ]
    },
    {
     "name": "stdout",
     "output_type": "stream",
     "text": [
      "Already have ADNI_053_S_0621_MR_MPR__GradWarp__B1_Correction__N3__Scaled_Br_20070809204337647_S24858_I66644.nii\n",
      "Already have ADNI_053_S_0621_MR_MPR__GradWarp__B1_Correction__N3__Scaled_2_Br_20081003141540459_S15442_I119162.nii\n",
      "Already have ADNI_053_S_0621_MR_MPR__GradWarp__B1_Correction__N3__Scaled_2_Br_20081003141626618_S24858_I119163.nii\n",
      "Already have ADNI_053_S_0919_MR_MPR-R__GradWarp__B1_Correction__N3__Scaled_Br_20070807172050072_S20422_I65689.nii\n",
      "Already have ADNI_053_S_0919_MR_MPR-R__GradWarp__B1_Correction__N3__Scaled_2_Br_20081003142001344_S20422_I119172.nii\n",
      "Already have ADNI_053_S_0919_MR_MPR__GradWarp__B1_Correction__N3__Scaled_Br_20070809205421230_S31892_I66653.nii\n",
      "Already have ADNI_053_S_0919_MR_MPR__GradWarp__B1_Correction__N3__Scaled_Br_20080111160309182_S41934_I87132.nii\n",
      "Already have ADNI_053_S_0919_MR_MPR__GradWarp__B1_Correction__N3__Scaled_2_Br_20081003142057515_S31892_I119173.nii\n",
      "Already have ADNI_053_S_0919_MR_MPR__GradWarp__B1_Correction__N3__Scaled_2_Br_20081003142153309_S41934_I119174.nii\n",
      "Already have ADNI_057_S_0464_MR_MPR__GradWarp__B1_Correction__N3__Scaled_Br_20061229151624691_S14736_I34707.nii\n",
      "Already have ADNI_057_S_0464_MR_MPR__GradWarp__B1_Correction__N3__Scaled_Br_20070730184032950_S25901_I62952.nii\n",
      "Already have ADNI_057_S_0464_MR_MPR__GradWarp__B1_Correction__N3__Scaled_Br_20070911103542442_S33667_I72414.nii\n",
      "Already have ADNI_057_S_0474_MR_MPR-R__GradWarp__B1_Correction__N3__Scaled_Br_20061229153747701_S13990_I34720.nii\n",
      "Already have ADNI_057_S_0474_MR_MPR-R__GradWarp__B1_Correction__N3__Scaled_Br_20070802192918799_S25894_I64213.nii\n",
      "Already have ADNI_057_S_0474_MR_MPR__GradWarp__B1_Correction__N3__Scaled_Br_20070802193232275_S32573_I64218.nii\n",
      "Already have ADNI_057_S_0643_MR_MPR__GradWarp__B1_Correction__N3__Scaled_Br_20061229154757193_S15782_I34725.nii\n",
      "Already have ADNI_057_S_0643_MR_MPR__GradWarp__B1_Correction__N3__Scaled_Br_20071125143831008_S25942_I83126.nii\n",
      "Already have ADNI_057_S_0643_MR_MPR__GradWarp__B1_Correction__N3__Scaled_Br_20070917110921102_S35295_I73366.nii\n",
      "Already have ADNI_057_S_0779_MR_MPR-R__GradWarp__B1_Correction__N3__Scaled_Br_20071103124833906_S18109_I80629.nii\n",
      "Already have ADNI_057_S_0779_MR_MPR__GradWarp__B1_Correction__N3__Scaled_Br_20070910184648963_S28155_I72278.nii\n",
      "Already have ADNI_057_S_0779_MR_MPR__GradWarp__B1_Correction__N3__Scaled_Br_20071101172354636_S39178_I80212.nii\n",
      "Already have ADNI_057_S_0818_MR_MPR-R__GradWarp__B1_Correction__N3__Scaled_Br_20081016161130417_S18613_I121435.nii\n",
      "Already have ADNI_057_S_0818_MR_MPR__GradWarp__B1_Correction__N3__Scaled_Br_20070910185159737_S29056_I72288.nii\n",
      "Already have ADNI_057_S_0818_MR_MPR__GradWarp__B1_Correction__N3__Scaled_Br_20071101173148647_S40038_I80221.nii\n",
      "Already have ADNI_057_S_0839_MR_MPR__GradWarp__B1_Correction__N3__Scaled_Br_20070209151105220_S19188_I38670.nii\n",
      "Already have ADNI_057_S_0839_MR_MPR__GradWarp__B1_Correction__N3__Scaled_Br_20070802193831240_S29935_I64228.nii\n",
      "Already have ADNI_057_S_0839_MR_MPR__GradWarp__B1_Correction__N3__Scaled_Br_20071101173917379_S40927_I80230.nii\n",
      "Already have ADNI_057_S_0934_MR_MPR-R__GradWarp__B1_Correction__N3__Scaled_Br_20070730184904436_S30605_I62965.nii\n",
      "Already have ADNI_057_S_0934_MR_MPR-R__GradWarp__B1_Correction__N3__Scaled_Br_20071101174852169_S41696_I80243.nii\n",
      "Already have ADNI_057_S_0934_MR_MPR__GradWarp__B1_Correction__N3__Scaled_Br_20061229160134007_S19971_I34734.nii\n",
      "Already have ADNI_057_S_0941_MR_MPR-R__GradWarp__B1_Correction__N3__Scaled_Br_20061229162102002_S19985_I34747.nii\n",
      "Already have ADNI_057_S_0941_MR_MPR-R__GradWarp__B1_Correction__N3__Scaled_Br_20070802194707445_S30569_I64242.nii\n",
      "Already have ADNI_057_S_0941_MR_MPR__GradWarp__B1_Correction__N3__Scaled_Br_20071115130532568_S42111_I82342.nii\n",
      "Already have ADNI_057_S_1007_MR_MPR__GradWarp__B1_Correction__N3__Scaled_Br_20070402183852331_S21339_I47765.nii\n",
      "Already have ADNI_057_S_1007_MR_MPR__GradWarp__B1_Correction__N3__Scaled_Br_20070807101419232_S32046_I65405.nii\n",
      "Already have ADNI_057_S_1007_MR_MPR__GradWarp__B1_Correction__N3__Scaled_Br_20080124152936023_S42119_I88443.nii\n",
      "Already have ADNI_057_S_1217_MR_MPR__GradWarp__B1_Correction__N3__Scaled_Br_20070730190049077_S25854_I62984.nii\n",
      "Already have ADNI_057_S_1217_MR_MPR__GradWarp__B1_Correction__N3__Scaled_Br_20070923140713491_S38160_I74730.nii\n",
      "Already have ADNI_057_S_1217_MR_MPR__GradWarp__B1_Correction__N3__Scaled_Br_20080229180700186_S45687_I94588.nii\n",
      "Already have ADNI_057_S_1265_MR_MPR-R__GradWarp__B1_Correction__N3__Scaled_Br_20080307184621051_S45699_I96145.nii\n",
      "Already have ADNI_057_S_1265_MR_MPR__GradWarp__B1_Correction__N3__Scaled_Br_20070821151644968_S25872_I69492.nii\n",
      "Already have ADNI_057_S_1265_MR_MPR__GradWarp__B1_Correction__N3__Scaled_Br_20070925104329829_S38168_I75073.nii\n",
      "Already have ADNI_057_S_1269_MR_MPR__GradWarp__B1_Correction__N3__Scaled_Br_20070818134318952_S25880_I68545.nii\n",
      "Already have ADNI_057_S_1269_MR_MPR__GradWarp__B1_Correction__N3__Scaled_Br_20070925105044981_S38177_I75082.nii\n",
      "Already have ADNI_057_S_1269_MR_MPR__GradWarp__B1_Correction__N3__Scaled_Br_20080307184858582_S45707_I96150.nii\n",
      "Already have ADNI_057_S_1371_MR_MPR-R__GradWarp__B1_Correction__N3__Scaled_Br_20070730190858034_S28667_I62998.nii\n",
      "Already have ADNI_057_S_1371_MR_MPR__GradWarp__B1_Correction__N3__Scaled_Br_20071101175246608_S40936_I80248.nii\n",
      "Already have ADNI_057_S_1371_MR_MPR__GradWarp__B1_Correction__N3__Scaled_Br_20080611144353994_S48551_I109122.nii\n",
      "Already have ADNI_057_S_1373_MR_MPR-R__GradWarp__B1_Correction__N3__Scaled_Br_20070730191448410_S28698_I63008.nii\n",
      "Already have ADNI_057_S_1373_MR_MPR__GradWarp__B1_Correction__N3__Scaled_Br_20071101175932967_S41704_I80258.nii\n",
      "Already have ADNI_057_S_1373_MR_MPR__GradWarp__N3__Scaled_Br_20080423175410176_S48647_I103707.nii\n",
      "Already have ADNI_057_S_1379_MR_MPR__GradWarp__B1_Correction__N3__Scaled_Br_20070730191813596_S28761_I63014.nii\n",
      "Already have ADNI_057_S_1379_MR_MPR__GradWarp__B1_Correction__N3__Scaled_Br_20071101180455543_S40945_I80267.nii\n",
      "Already have ADNI_057_S_1379_MR_MPR__GradWarp__B1_Correction__N3__Scaled_Br_20080611145730839_S48563_I109131.nii\n",
      "Already have ADNI_062_S_0535_MR_MPR__GradWarp__B1_Correction__N3__Scaled_Br_20070424112744977_S14699_I50426.nii\n",
      "Already have ADNI_062_S_0535_MR_MPR__GradWarp__B1_Correction__N3__Scaled_Br_20070424113302598_S24056_I50434.nii\n",
      "Already have ADNI_062_S_0535_MR_MPR__GradWarp__B1_Correction__N3__Scaled_Br_20070910185652577_S33015_I72297.nii\n",
      "Already have ADNI_062_S_0578_MR_MPR__GradWarp__B1_Correction__N3__Scaled_Br_20070424114540207_S15035_I50459.nii\n",
      "Already have ADNI_062_S_0578_MR_MPR__GradWarp__B1_Correction__N3__Scaled_Br_20070424113933613_S24376_I50443.nii\n",
      "Already have ADNI_062_S_0578_MR_MPR__GradWarp__B1_Correction__N3__Scaled_Br_20070910190146323_S33412_I72306.nii\n",
      "Already have ADNI_062_S_0690_MR_MPR__GradWarp__B1_Correction__N3__Scaled_Br_20070424115325478_S16924_I50468.nii\n",
      "Already have ADNI_062_S_0690_MR_MPR__GradWarp__B1_Correction__N3__Scaled_Br_20070424115956272_S25643_I50477.nii\n",
      "Already have ADNI_062_S_0690_MR_MPR__GradWarp__B1_Correction__N3__Scaled_Br_20070913162253223_S36705_I73145.nii\n",
      "Already have ADNI_062_S_0730_MR_MPR__GradWarp__B1_Correction__N3__Scaled_Br_20070424120556863_S17062_I50487.nii\n",
      "Already have ADNI_062_S_0730_MR_MPR__GradWarp__B1_Correction__N3__Scaled_Br_20070424121324903_S26149_I50497.nii\n",
      "Already have ADNI_062_S_0730_MR_MPR__GradWarp__B1_Correction__N3__Scaled_Br_20071221155904576_S37052_I85959.nii\n",
      "Already have ADNI_062_S_0793_MR_MPR__GradWarp__B1_Correction__N3__Scaled_Br_20070424123729148_S18189_I50524.nii\n",
      "Already have ADNI_062_S_0793_MR_MPR__GradWarp__B1_Correction__N3__Scaled_Br_20070424124413130_S27205_I50533.nii\n",
      "Already have ADNI_062_S_0793_MR_MPR__GradWarp__B1_Correction__N3__Scaled_Br_20071115131036253_S39118_I82351.nii\n",
      "Already have ADNI_062_S_1099_MR_MPR-R__GradWarp__B1_Correction__N3__Scaled_Br_20080111161152621_S43573_I87145.nii\n",
      "Already have ADNI_062_S_1099_MR_MPR__GradWarp__B1_Correction__N3__Scaled_Br_20070424130119480_S22713_I50557.nii\n",
      "Already have ADNI_062_S_1099_MR_MPR__GradWarp__B1_Correction__N3__Scaled_Br_20070910190618994_S33161_I72315.nii\n",
      "Already have ADNI_062_S_1182_MR_MPR__GradWarp__B1_Correction__N3__Scaled_Br_20070424130843636_S25166_I50566.nii\n",
      "Already have ADNI_062_S_1182_MR_MPR__GradWarp__B1_Correction__N3__Scaled_Br_20070925105755726_S37991_I75092.nii\n",
      "Already have ADNI_062_S_1182_MR_MPR__GradWarp__B1_Correction__N3__Scaled_Br_20080313114013079_S46206_I97164.nii\n",
      "Already have ADNI_062_S_1299_MR_MPR__GradWarp__B1_Correction__N3__Scaled_Br_20070424132742329_S26794_I50584.nii\n",
      "Already have ADNI_062_S_1299_MR_MPR__GradWarp__B1_Correction__N3__Scaled_Br_20071101181434474_S39361_I80285.nii\n",
      "Already have ADNI_062_S_1299_MR_MPR__GradWarp__B1_Correction__N3__Scaled_Br_20080409161000791_S47107_I101728.nii\n",
      "Already have ADNI_067_S_0019_MR_MPR__GradWarp__B1_Correction__N3__Scaled_Br_20070319180308737_S9539_I45228.nii\n",
      "Already have ADNI_067_S_0019_MR_MPR__GradWarp__B1_Correction__N3__Scaled_Br_20061229164134061_S15464_I34761.nii\n",
      "Already have ADNI_067_S_0019_MR_MPR__GradWarp__B1_Correction__N3__Scaled_Br_20070802195025948_S23697_I64251.nii\n",
      "Already have ADNI_067_S_0019_MR_MPR__GradWarp__B1_Correction__N3__Scaled_2_Br_20081003155009078_S9539_I119178.nii\n",
      "Already have ADNI_067_S_0019_MR_MPR__GradWarp__B1_Correction__N3__Scaled_2_Br_20081003155050047_S15464_I119179.nii\n",
      "Already have ADNI_067_S_0029_MR_MPR__GradWarp__B1_Correction__N3__Scaled_Br_20070209160613449_S9904_I38717.nii\n",
      "Already have ADNI_067_S_0029_MR_MPR__GradWarp__B1_Correction__N3__Scaled_Br_20061229165433936_S14925_I34770.nii\n"
     ]
    },
    {
     "name": "stdout",
     "output_type": "stream",
     "text": [
      "Already have ADNI_067_S_0029_MR_MPR__GradWarp__B1_Correction__N3__Scaled_Br_20071115131553266_S22589_I82360.nii\n",
      "Already have ADNI_067_S_0029_MR_MPR__GradWarp__B1_Correction__N3__Scaled_2_Br_20081003155128312_S9904_I119180.nii\n",
      "Already have ADNI_067_S_0029_MR_MPR__GradWarp__B1_Correction__N3__Scaled_2_Br_20081003155210550_S14925_I119181.nii\n",
      "Already have ADNI_067_S_0038_MR_MPR-R__GradWarp__B1_Correction__N3__Scaled_Br_20070319182030969_S15846_I45250.nii\n",
      "Already have ADNI_067_S_0038_MR_MPR-R__GradWarp__B1_Correction__N3__Scaled_2_Br_20081003155336285_S15846_I119183.nii\n",
      "Already have ADNI_067_S_0038_MR_MPR__GradWarp__B1_Correction__N3__Scaled_Br_20070111003037819_S10026_I35875.nii\n",
      "Already have ADNI_067_S_0038_MR_MPR__GradWarp__B1_Correction__N3__Scaled_Br_20070802195619455_S23553_I64260.nii\n",
      "Already have ADNI_067_S_0038_MR_MPR__GradWarp__B1_Correction__N3__Scaled_2_Br_20081003155253465_S10026_I119182.nii\n",
      "Already have ADNI_067_S_0056_MR_MPR__GradWarp__B1_Correction__N3__Scaled_Br_20070111005541331_S8723_I35893.nii\n",
      "Already have ADNI_067_S_0056_MR_MPR__GradWarp__B1_Correction__N3__Scaled_Br_20070209152131877_S16358_I38678.nii\n",
      "Already have ADNI_067_S_0056_MR_MPR__GradWarp__B1_Correction__N3__Scaled_Br_20070802200220067_S24368_I64269.nii\n",
      "Already have ADNI_067_S_0056_MR_MPR__GradWarp__B1_Correction__N3__Scaled_2_Br_20081003155535571_S8723_I119186.nii\n",
      "Already have ADNI_067_S_0056_MR_MPR__GradWarp__B1_Correction__N3__Scaled_2_Br_20081003155615322_S16358_I119187.nii\n",
      "Already have ADNI_067_S_0059_MR_MPR__GradWarp__B1_Correction__N3__Scaled_Br_20070111010838738_S10517_I35902.nii\n",
      "Already have ADNI_067_S_0059_MR_MPR__GradWarp__B1_Correction__N3__Scaled_Br_20070209153439209_S16335_I38696.nii\n",
      "Already have ADNI_067_S_0059_MR_MPR__GradWarp__B1_Correction__N3__Scaled_Br_20070730192356932_S24384_I63023.nii\n",
      "Already have ADNI_067_S_0059_MR_MPR__GradWarp__B1_Correction__N3__Scaled_2_Br_20081003155654473_S10517_I119188.nii\n",
      "Already have ADNI_067_S_0059_MR_MPR__GradWarp__B1_Correction__N3__Scaled_2_Br_20081003155734724_S16335_I119189.nii\n",
      "Already have ADNI_067_S_0076_MR_MPR-R__GradWarp__B1_Correction__N3__Scaled_Br_20070730193204452_S28014_I63036.nii\n",
      "Already have ADNI_067_S_0076_MR_MPR__GradWarp__B1_Correction__N3__Scaled_Br_20070111012139914_S10468_I35911.nii\n",
      "Already have ADNI_067_S_0076_MR_MPR__GradWarp__B1_Correction__N3__Scaled_Br_20061229172001056_S16974_I34788.nii\n",
      "Already have ADNI_067_S_0076_MR_MPR__GradWarp__B1_Correction__N3__Scaled_2_Br_20081003155813843_S10468_I119190.nii\n",
      "Already have ADNI_067_S_0076_MR_MPR__GradWarp__B1_Correction__N3__Scaled_2_Br_20081003155853706_S16974_I119191.nii\n",
      "Already have ADNI_067_S_0077_MR_MPR-R__GradWarp__B1_Correction__N3__Scaled_Br_20070816144652057_S11136_I68120.nii\n",
      "Already have ADNI_067_S_0077_MR_MPR-R__GradWarp__B1_Correction__N3__Scaled_2_Br_20081003155933337_S11136_I119192.nii\n",
      "Already have ADNI_067_S_0077_MR_MPR__GradWarp__B1_Correction__N3__Scaled_Br_20071226135211353_S18164_I86213.nii\n",
      "Already have ADNI_067_S_0077_MR_MPR__GradWarp__B1_Correction__N3__Scaled_Br_20070816145120918_S27599_I68125.nii\n",
      "Already have ADNI_067_S_0077_MR_MPR__GradWarp__B1_Correction__N3__Scaled_2_Br_20081003160014529_S18164_I119193.nii\n",
      "Already have ADNI_067_S_0098_MR_MPR__GradWarp__B1_Correction__N3__Scaled_Br_20070111013448257_S11324_I35920.nii\n",
      "Already have ADNI_067_S_0098_MR_MPR__GradWarp__B1_Correction__N3__Scaled_Br_20070807172643583_S24918_I65694.nii\n",
      "Already have ADNI_067_S_0098_MR_MPR__GradWarp__B1_Correction__N3__Scaled_Br_20070807173620841_S29383_I65707.nii\n",
      "Already have ADNI_067_S_0098_MR_MPR__GradWarp__B1_Correction__N3__Scaled_2_Br_20081006093113409_S11324_I119209.nii\n",
      "Already have ADNI_067_S_0176_MR_MPR__GradWarp__B1_Correction__N3__Scaled_Br_20061229173207452_S12799_I34797.nii\n",
      "Already have ADNI_067_S_0176_MR_MPR__GradWarp__B1_Correction__N3__Scaled_Br_20070805153154145_S24106_I64938.nii\n",
      "Already have ADNI_067_S_0176_MR_MPR__GradWarp__B1_Correction__N3__Scaled_Br_20071221160334208_S32619_I85968.nii\n",
      "Already have ADNI_067_S_0176_MR_MPR__GradWarp__B1_Correction__N3__Scaled_2_Br_20081003160348907_S12799_I119195.nii\n",
      "Already have ADNI_067_S_0177_MR_MPR__GradWarp__B1_Correction__N3__Scaled_Br_20061229174432739_S12187_I34806.nii\n",
      "Already have ADNI_067_S_0177_MR_MPR__GradWarp__B1_Correction__N3__Scaled_Br_20070802200811844_S24447_I64278.nii\n",
      "Already have ADNI_067_S_0177_MR_MPR__GradWarp__B1_Correction__N3__Scaled_Br_20070802201403780_S30004_I64287.nii\n",
      "Already have ADNI_067_S_0177_MR_MPR__GradWarp__B1_Correction__N3__Scaled_2_Br_20081003160429621_S12187_I119196.nii\n",
      "Already have ADNI_067_S_0257_MR_MPR-R__GradWarp__B1_Correction__N3__Scaled_Br_20070921171418151_S37355_I74348.nii\n",
      "Already have ADNI_067_S_0257_MR_MPR__GradWarp__B1_Correction__N3__Scaled_Br_20061229180908303_S14730_I34824.nii\n",
      "Already have ADNI_067_S_0257_MR_MPR__GradWarp__B1_Correction__N3__Scaled_Br_20070730194102689_S26742_I63050.nii\n",
      "Already have ADNI_067_S_0257_MR_MPR__GradWarp__B1_Correction__N3__Scaled_2_Br_20081003160545770_S14730_I119198.nii\n",
      "Already have ADNI_067_S_0284_MR_MPR-R__GradWarp__B1_Correction__N3__Scaled_Br_20061229182633894_S12439_I34837.nii\n",
      "Already have ADNI_067_S_0284_MR_MPR-R__GradWarp__B1_Correction__N3__Scaled_2_Br_20081003160624047_S12439_I119199.nii\n",
      "Already have ADNI_067_S_0284_MR_MPR__GradWarp__B1_Correction__N3__Scaled_Br_20070802201940636_S22965_I64296.nii\n",
      "Already have ADNI_067_S_0284_MR_MPR__GradWarp__B1_Correction__N3__Scaled_Br_20071221160811145_S31676_I85977.nii\n",
      "Already have ADNI_067_S_0290_MR_MPR-R__GradWarp__B1_Correction__N3__Scaled_Br_20061229183851729_S12592_I34846.nii\n",
      "Already have ADNI_067_S_0290_MR_MPR-R__GradWarp__B1_Correction__N3__Scaled_2_Br_20081003160702385_S12592_I119200.nii\n",
      "Already have ADNI_067_S_0290_MR_MPR__GradWarp__B1_Correction__N3__Scaled_Br_20070802202538411_S26711_I64305.nii\n",
      "Already have ADNI_067_S_0290_MR_MPR__GradWarp__B1_Correction__N3__Scaled_Br_20071103125116976_S33523_I80634.nii\n",
      "Already have ADNI_067_S_0336_MR_MPR-R__GradWarp__B1_Correction__N3__Scaled_Br_20071221161459868_S32534_I85990.nii\n",
      "Already have ADNI_067_S_0336_MR_MPR__GradWarp__B1_Correction__N3__Scaled_Br_20061229185531970_S14023_I34857.nii\n",
      "Already have ADNI_067_S_0336_MR_MPR__GradWarp__B1_Correction__N3__Scaled_Br_20070802203132429_S23837_I64314.nii\n",
      "Already have ADNI_067_S_0336_MR_MPR__GradWarp__B1_Correction__N3__Scaled_2_Br_20081003160836688_S14023_I119202.nii\n",
      "Already have ADNI_067_S_0607_MR_MPR__GradWarp__B1_Correction__N3__Scaled_Br_20070111020124287_S15894_I35938.nii\n",
      "Already have ADNI_067_S_0607_MR_MPR__GradWarp__B1_Correction__N3__Scaled_Br_20070802203736408_S28111_I64323.nii\n",
      "Already have ADNI_067_S_0607_MR_MPR__GradWarp__B1_Correction__N3__Scaled_Br_20070921171654824_S37340_I74353.nii\n",
      "Already have ADNI_067_S_0607_MR_MPR__GradWarp__B1_Correction__N3__Scaled_2_Br_20081003160916946_S15894_I119203.nii\n",
      "Already have ADNI_067_S_1253_MR_MPR-R__GradWarp__B1_Correction__N3__Scaled_Br_20080522133451975_S50069_I106507.nii\n",
      "Already have ADNI_067_S_1253_MR_MPR__GradWarp__B1_Correction__N3__Scaled_Br_20071101182438287_S39399_I80303.nii\n",
      "Already have ADNI_068_S_0127_MR_MPR____N3__Scaled_Br_20070731111719131_S11653_I63111.nii\n",
      "Already have ADNI_068_S_0127_MR_MPR____N3__Scaled_Br_20090107103133013_S18492_I132913.nii\n",
      "Already have ADNI_068_S_0127_MR_MPR____N3__Scaled_Br_20070828130917708_S29009_I70754.nii\n",
      "Already have ADNI_068_S_0127_MR_MPR____N3__Scaled_2_Br_20081212142008192_S11653_I130234.nii\n",
      "Already have ADNI_068_S_0127_MR_MPR____N3__Scaled_2_Br_20081212142220570_S29009_I130236.nii\n",
      "Already have ADNI_068_S_0210_MR_MPR____N3__Scaled_Br_20070731111943751_S11713_I63114.nii\n",
      "Already have ADNI_068_S_0210_MR_MPR____N3__Scaled_Br_20090107103239084_S19401_I132914.nii\n",
      "Already have ADNI_068_S_0210_MR_MPR____N3__Scaled_Br_20070911105513086_S32627_I72434.nii\n",
      "Already have ADNI_068_S_0210_MR_MPR____N3__Scaled_2_Br_20081212142326709_S11713_I130237.nii\n",
      "Already have ADNI_068_S_0210_MR_MPR____N3__Scaled_2_Br_20081212142533607_S32627_I130239.nii\n",
      "Already have ADNI_068_S_0442_MR_MPR-R____N3__Scaled_Br_20070807175114992_S14128_I65727.nii\n",
      "Already have ADNI_068_S_0442_MR_MPR-R____N3__Scaled_2_Br_20081212150437526_S14128_I130241.nii\n",
      "Already have ADNI_068_S_0442_MR_MPR____N3__Scaled_Br_20070821183600848_S26510_I69623.nii\n",
      "Already have ADNI_068_S_0442_MR_MPR____N3__Scaled_Br_20070911105840316_S34034_I72437.nii\n",
      "Already have ADNI_068_S_0442_MR_MPR____N3__Scaled_2_Br_20081212150542601_S26510_I130242.nii\n",
      "Already have ADNI_068_S_0442_MR_MPR____N3__Scaled_2_Br_20081212150644509_S34034_I130243.nii\n",
      "Already have ADNI_068_S_0473_MR_MPR____N3__Scaled_Br_20090402095548096_S13925_I140334.nii\n",
      "Already have ADNI_068_S_0473_MR_MPR____N3__Scaled_Br_20070828132121664_S23262_I70768.nii\n",
      "Already have ADNI_068_S_0473_MR_MPR____N3__Scaled_Br_20070911110632838_S31558_I72444.nii\n",
      "Already have ADNI_068_S_0473_MR_MPR____N3__Scaled_2_Br_20081212150950894_S23262_I130244.nii\n",
      "Already have ADNI_068_S_0473_MR_MPR____N3__Scaled_2_Br_20081212151057635_S31558_I130245.nii\n"
     ]
    },
    {
     "name": "stdout",
     "output_type": "stream",
     "text": [
      "Already have ADNI_068_S_0872_MR_MPR____N3__Scaled_Br_20090402095655479_S20977_I140335.nii\n",
      "Already have ADNI_068_S_0872_MR_MPR____N3__Scaled_Br_20070911112250624_S33621_I72469.nii\n",
      "Already have ADNI_068_S_0872_MR_MPR____N3__Scaled_Br_20080409161948984_S46636_I101744.nii\n",
      "Already have ADNI_068_S_0872_MR_MPR____N3__Scaled_2_Br_20081212153853676_S33621_I130250.nii\n",
      "Already have ADNI_072_S_0315_MR_MPR____N3__Scaled_Br_20071229191129752_S12549_I86438.nii\n",
      "Already have ADNI_072_S_0315_MR_MPR____N3__Scaled_Br_20071118114016148_S22707_I82537.nii\n",
      "Already have ADNI_072_S_0315_MR_MPR____N3__Scaled_Br_20070828134247958_S32161_I70789.nii\n",
      "Already have ADNI_072_S_0315_MR_MPR____N3__Scaled_2_Br_20081006100947440_S12549_I119221.nii\n",
      "Already have ADNI_072_S_0315_MR_MPR____N3__Scaled_2_Br_20081006101054514_S22707_I119222.nii\n",
      "Already have ADNI_072_S_0315_MR_MPR____N3__Scaled_2_Br_20081006101154854_S32161_I119223.nii\n",
      "Already have ADNI_073_S_0089_MR_MPR-R__GradWarp__B1_Correction__N3__Scaled_Br_20070419143933845_S11161_I49675.nii\n",
      "Already have ADNI_073_S_0089_MR_MPR-R__GradWarp__B1_Correction__N3__Scaled_2_Br_20081006105102890_S11161_I119227.nii\n",
      "Already have ADNI_073_S_0089_MR_MPR__GradWarp__B1_Correction__N3__Scaled_Br_20071103125940770_S18499_I80648.nii\n",
      "Already have ADNI_073_S_0089_MR_MPR__GradWarp__B1_Correction__N3__Scaled_Br_20070911112553325_S26214_I72472.nii\n",
      "Already have ADNI_073_S_0089_MR_MPR__GradWarp__B1_Correction__N3__Scaled_2_Br_20081006105144032_S18499_I119228.nii\n",
      "Already have ADNI_073_S_0311_MR_MPR-R__GradWarp__B1_Correction__N3__Scaled_Br_20081016162411577_S26281_I121456.nii\n",
      "Already have ADNI_073_S_0311_MR_MPR__GradWarp__B1_Correction__N3__Scaled_Br_20070213203125567_S15069_I39868.nii\n",
      "Already have ADNI_073_S_0311_MR_MPR__GradWarp__B1_Correction__N3__Scaled_Br_20071101183747509_S41733_I80317.nii\n",
      "Already have ADNI_073_S_0311_MR_MPR__GradWarp__B1_Correction__N3__Scaled_2_Br_20081006105223653_S15069_I119229.nii\n",
      "Already have ADNI_073_S_0312_MR_MPR-R__GradWarp__B1_Correction__N3__Scaled_Br_20070911114337352_S34471_I72494.nii\n",
      "Already have ADNI_073_S_0312_MR_MPR__GradWarp__B1_Correction__N3__Scaled_Br_20070213204740079_S15079_I39881.nii\n",
      "Already have ADNI_073_S_0312_MR_MPR__GradWarp__B1_Correction__N3__Scaled_Br_20070911113328533_S26244_I72481.nii\n",
      "Already have ADNI_073_S_0312_MR_MPR__GradWarp__B1_Correction__N3__Scaled_2_Br_20081006105300035_S15079_I119230.nii\n",
      "Already have ADNI_073_S_0386_MR_MPR__GradWarp__B1_Correction__N3__Scaled_Br_20070419144406195_S13746_I49680.nii\n",
      "Already have ADNI_073_S_0386_MR_MPR__GradWarp__B1_Correction__N3__Scaled_Br_20070815102200204_S24737_I67720.nii\n",
      "Already have ADNI_073_S_0386_MR_MPR__GradWarp__B1_Correction__N3__Scaled_Br_20070911114656253_S33403_I72499.nii\n",
      "Already have ADNI_073_S_0386_MR_MPR__GradWarp__B1_Correction__N3__Scaled_2_Br_20081006105337889_S13746_I119231.nii\n",
      "Already have ADNI_073_S_0518_MR_MPR__GradWarp__B1_Correction__N3__Scaled_Br_20070213211806847_S18797_I39909.nii\n",
      "Already have ADNI_073_S_0518_MR_MPR__GradWarp__B1_Correction__N3__Scaled_Br_20071029112143032_S33562_I79373.nii\n",
      "Already have ADNI_073_S_0518_MR_MPR__GradWarp__B1_Correction__N3__Scaled_Br_20071221161742051_S43188_I85995.nii\n",
      "Already have ADNI_073_S_0518_MR_MPR__GradWarp__B1_Correction__N3__Scaled_2_Br_20081006105453633_S18797_I119233.nii\n",
      "Already have ADNI_073_S_0565_MR_MPR__GradWarp__B1_Correction__N3__Scaled_Br_20070213213329963_S15762_I39919.nii\n",
      "Already have ADNI_073_S_0565_MR_MPR__GradWarp__B1_Correction__N3__Scaled_Br_20070828134717179_S27000_I70794.nii\n",
      "Already have ADNI_073_S_0565_MR_MPR__GradWarp__B1_Correction__N3__Scaled_Br_20070927080020409_S38855_I75476.nii\n",
      "Already have ADNI_073_S_0565_MR_MPR__GradWarp__B1_Correction__N3__Scaled_2_Br_20081006105531714_S15762_I119234.nii\n",
      "Already have ADNI_073_S_0746_MR_MPR-R__GradWarp__B1_Correction__N3__Scaled_Br_20070731112459149_S23286_I63122.nii\n",
      "Already have ADNI_073_S_0746_MR_MPR__GradWarp__B1_Correction__N3__Scaled_Br_20070913162914631_S36764_I73164.nii\n",
      "Already have ADNI_073_S_0746_MR_MPR__GradWarp__B1_Correction__N3__Scaled_Br_20080224143429086_S45617_I92260.nii\n",
      "Already have ADNI_073_S_0909_MR_MPR-R__GradWarp__B1_Correction__N3__Scaled_Br_20070927081403638_S35068_I75498.nii\n",
      "Already have ADNI_073_S_0909_MR_MPR__GradWarp__B1_Correction__N3__Scaled_Br_20070927080608817_S19716_I75485.nii\n",
      "Already have ADNI_073_S_0909_MR_MPR__GradWarp__B1_Correction__N3__Scaled_Br_20071219132901636_S42926_I85576.nii\n",
      "Already have ADNI_073_S_0909_MR_MPR__GradWarp__B1_Correction__N3__Scaled_2_Br_20081006105609648_S19716_I119235.nii\n",
      "Already have ADNI_082_S_0928_MR_MPR-R__GradWarp__B1_Correction__N3__Scaled_Br_20070213190145935_S19648_I39805.nii\n",
      "Already have ADNI_082_S_0928_MR_MPR-R__GradWarp__B1_Correction__N3__Scaled_Br_20071101185433890_S41422_I80343.nii\n",
      "Already have ADNI_082_S_0928_MR_MPR-R__GradWarp__B1_Correction__N3__Scaled_Br_20071101190224758_S41395_I80356.nii\n",
      "Already have ADNI_082_S_0928_MR_MPR-R__GradWarp__B1_Correction__N3__Scaled_2_Br_20081006113825892_S19648_I119246.nii\n",
      "Already have ADNI_082_S_1119_MR_MPR-R__GradWarp__B1_Correction__N3__Scaled_Br_20080223170328790_S44687_I91873.nii\n",
      "Already have ADNI_082_S_1119_MR_MPR__GradWarp__B1_Correction__N3__Scaled_Br_20070731113830050_S23733_I63147.nii\n",
      "Already have ADNI_082_S_1119_MR_MPR__GradWarp__B1_Correction__N3__Scaled_Br_20071101190537245_S40780_I80361.nii\n",
      "Already have ADNI_082_S_1256_MR_MPR__GradWarp__B1_Correction__N3__Scaled_Br_20070731114338839_S26812_I63155.nii\n",
      "Already have ADNI_082_S_1256_MR_MPR__GradWarp__B1_Correction__N3__Scaled_Br_20071101191716161_S41304_I80379.nii\n",
      "Already have ADNI_082_S_1256_MR_MPR__GradWarp__B1_Correction__N3__Scaled_Br_20080605162556464_S50835_I108578.nii\n",
      "Already have ADNI_082_S_1377_MR_MPR-R__GradWarp__B1_Correction__N3__Scaled_Br_20070731115515322_S28495_I63170.nii\n",
      "Already have ADNI_082_S_1377_MR_MPR__GradWarp__B1_Correction__N3__Scaled_Br_20071101192159389_S40021_I80388.nii\n",
      "Already have ADNI_082_S_1377_MR_MPR__GradWarp__B1_Correction__N3__Scaled_Br_20081026134331483_S51827_I123758.nii\n",
      "Already have ADNI_094_S_0434_MR_MPR__GradWarp__B1_Correction__N3__Scaled_Br_20070210203043456_S13570_I39122.nii\n",
      "Already have ADNI_094_S_0434_MR_MPR__GradWarp__B1_Correction__N3__Scaled_Br_20070210221747546_S22339_I39190.nii\n",
      "Already have ADNI_094_S_0434_MR_MPR__GradWarp__B1_Correction__N3__Scaled_Br_20070807175409038_S32094_I65730.nii\n",
      "Already have ADNI_094_S_0531_MR_MPR-R__GradWarp__B1_Correction__N3__Scaled_Br_20070419143036172_S14554_I49666.nii\n",
      "Already have ADNI_094_S_0531_MR_MPR__GradWarp__B1_Correction__N3__Scaled_Br_20081022122210557_S28436_I122726.nii\n",
      "Already have ADNI_094_S_0531_MR_MPR__GradWarp__B1_Correction__N3__Scaled_Br_20070912172120806_S34041_I72783.nii\n",
      "Already have ADNI_094_S_0692_MR_MPR-R__GradWarp__B1_Correction__N3__Scaled_Br_20070921172506621_S37638_I74367.nii\n",
      "Already have ADNI_094_S_0692_MR_MPR__GradWarp__B1_Correction__N3__Scaled_Br_20070328090417409_S17207_I47295.nii\n",
      "Already have ADNI_094_S_0692_MR_MPR__GradWarp__B1_Correction__N3__Scaled_Br_20070815102935564_S25274_I67729.nii\n",
      "Already have ADNI_094_S_0711_MR_MPR__GradWarp__B1_Correction__N3__Scaled_Br_20070210205418959_S16553_I39137.nii\n",
      "Already have ADNI_094_S_0711_MR_MPR__GradWarp__B1_Correction__N3__Scaled_Br_20070802210612301_S26463_I64356.nii\n",
      "Already have ADNI_094_S_0711_MR_MPR__GradWarp__B1_Correction__N3__Scaled_Br_20070927172520148_S38424_I75651.nii\n",
      "Already have ADNI_094_S_0921_MR_MPR__GradWarp__B1_Correction__N3__Scaled_Br_20070418082931241_S19582_I49510.nii\n",
      "Already have ADNI_094_S_0921_MR_MPR__GradWarp__B1_Correction__N3__Scaled_Br_20070802211511665_S32299_I64365.nii\n",
      "Already have ADNI_094_S_0921_MR_MPR__GradWarp__B1_Correction__N3__Scaled_Br_20071101192718234_S41573_I80397.nii\n",
      "Already have ADNI_094_S_1027_MR_MPR-R__GradWarp__B1_Correction__N3__Scaled_Br_20070418084102408_S21207_I49527.nii\n",
      "Already have ADNI_094_S_1027_MR_MPR-R__GradWarp__B1_Correction__N3__Scaled_Br_20080220134707189_S32272_I91020.nii\n",
      "Already have ADNI_094_S_1027_MR_MPR-R__GradWarp__B1_Correction__N3__Scaled_Br_20080220135429027_S42880_I91029.nii\n",
      "Already have ADNI_094_S_1090_MR_MPR__GradWarp__B1_Correction__N3__Scaled_Br_20070731120023063_S23375_I63176.nii\n",
      "Already have ADNI_094_S_1090_MR_MPR__GradWarp__B1_Correction__N3__Scaled_Br_20070911115344407_S32867_I72508.nii\n",
      "Already have ADNI_094_S_1090_MR_MPR__GradWarp__B1_Correction__N3__Scaled_Br_20080220135824015_S44395_I91043.nii\n",
      "Already have ADNI_094_S_1164_MR_MPR__GradWarp__B1_Correction__N3__Scaled_Br_20070812144323362_S23871_I67223.nii\n",
      "Already have ADNI_094_S_1164_MR_MPR__GradWarp__B1_Correction__N3__Scaled_Br_20081016191406569_S51749_I121632.nii\n",
      "Already have ADNI_094_S_1164_MR_MPR__GradWarp__B1_Correction__N3__Scaled_Br_20080220140841993_S44407_I91057.nii\n",
      "Already have ADNI_094_S_1188_MR_MPR__GradWarp__B1_Correction__N3__Scaled_Br_20070808184636062_S24546_I66051.nii\n",
      "Already have ADNI_094_S_1188_MR_MPR__GradWarp__B1_Correction__N3__Scaled_Br_20070913163524332_S35160_I73173.nii\n",
      "Already have ADNI_094_S_1188_MR_MPR__GradWarp__B1_Correction__N3__Scaled_Br_20080223170902595_S44610_I91882.nii\n",
      "Already have ADNI_094_S_1241_MR_MPR-R__GradWarp__B1_Correction__N3__Scaled_Br_20081016181908278_S38195_I121579.nii\n",
      "Already have ADNI_094_S_1241_MR_MPR__GradWarp__B1_Correction__N3__Scaled_Br_20070808185957292_S26634_I66069.nii\n",
      "Already have ADNI_094_S_1241_MR_MPR__GradWarp__B1_Correction__N3__Scaled_Br_20081016163336876_S50440_I121470.nii\n",
      "Already have ADNI_094_S_1267_MR_MPR__GradWarp__B1_Correction__N3__Scaled_Br_20071104115940665_S28217_I80718.nii\n",
      "Already have ADNI_094_S_1267_MR_MPR__GradWarp__B1_Correction__N3__Scaled_Br_20071129165154742_S40729_I83771.nii\n",
      "Already have ADNI_094_S_1267_MR_MPR__GradWarp__B1_Correction__N3__Scaled_Br_20080409162148870_S47723_I101747.nii\n"
     ]
    },
    {
     "name": "stdout",
     "output_type": "stream",
     "text": [
      "Already have ADNI_094_S_1293_MR_MPR__GradWarp__B1_Correction__N3__Scaled_Br_20070802212429298_S27865_I64374.nii\n",
      "Already have ADNI_094_S_1293_MR_MPR__GradWarp__B1_Correction__N3__Scaled_Br_20071101194130960_S39310_I80415.nii\n",
      "Already have ADNI_094_S_1293_MR_MPR__GradWarp__B1_Correction__N3__Scaled_Br_20080313115003431_S46532_I97177.nii\n",
      "Already have ADNI_094_S_1397_MR_MPR-R__GradWarp__B1_Correction__N3__Scaled_Br_20080307104443256_S31011_I95662.nii\n",
      "Already have ADNI_094_S_1397_MR_MPR__GradWarp__B1_Correction__N3__Scaled_Br_20071219134105721_S42909_I85594.nii\n",
      "Already have ADNI_094_S_1397_MR_MPR__GradWarp__B1_Correction__N3__Scaled_Br_20120731130350494_S50305_I319849.nii\n",
      "Already have ADNI_094_S_1398_MR_MPR__GradWarp__B1_Correction__N3__Scaled_Br_20070731125345541_S31771_I63227.nii\n",
      "Already have ADNI_094_S_1398_MR_MPR__GradWarp__B1_Correction__N3__Scaled_Br_20080626143849327_S51380_I111278.nii\n",
      "Already have ADNI_094_S_1398_MR_MPR__GradWarp__N3__Scaled_Br_20080307104914151_S42841_I95667.nii\n",
      "Already have ADNI_094_S_1402_MR_MPR-R__GradWarp__B1_Correction__N3__Scaled_Br_20080603180205063_S50488_I108259.nii\n",
      "Already have ADNI_094_S_1402_MR_MPR__GradWarp__B1_Correction__N3__Scaled_Br_20070808191131320_S32102_I66078.nii\n",
      "Already have ADNI_094_S_1402_MR_MPR__GradWarp__B1_Correction__N3__Scaled_Br_20071219141307116_S42560_I85603.nii\n",
      "Already have ADNI_094_S_1417_MR_MPR__GradWarp__B1_Correction__N3__Scaled_Br_20070918132710540_S35043_I73647.nii\n",
      "Already have ADNI_094_S_1417_MR_MPR__GradWarp__B1_Correction__N3__Scaled_Br_20080225180527515_S45332_I92559.nii\n",
      "Already have ADNI_094_S_1417_MR_MPR__GradWarp__B1_Correction__N3__Scaled_Br_20081017080612397_S55486_I121671.nii\n",
      "Already have ADNI_098_S_0149_MR_MPR-R__GradWarp__B1_Correction__N3__Scaled_Br_20080206084014683_S17788_I89454.nii\n",
      "Already have ADNI_098_S_0149_MR_MPR-R__GradWarp__B1_Correction__N3__Scaled_Br_20070605145736957_S27080_I55999.nii\n",
      "Already have ADNI_098_S_0149_MR_MPR__GradWarp__B1_Correction__N3__Scaled_Br_20080206083054086_S11021_I89429.nii\n",
      "Already have ADNI_098_S_0160_MR_MPR__GradWarp__B1_Correction__N3__Scaled_Br_20070807180333702_S11224_I65739.nii\n",
      "Already have ADNI_098_S_0160_MR_MPR__GradWarp__B1_Correction__N3__Scaled_Br_20080206092027659_S18510_I89459.nii\n",
      "Already have ADNI_098_S_0160_MR_MPR__GradWarp__B1_Correction__N3__Scaled_Br_20070605150404235_S27398_I56004.nii\n",
      "Already have ADNI_098_S_0171_MR_MPR-R__GradWarp__B1_Correction__N3__Scaled_Br_20070807181732526_S11460_I65752.nii\n",
      "Already have ADNI_098_S_0171_MR_MPR__GradWarp__B1_Correction__N3__Scaled_Br_20080206092709879_S17502_I89468.nii\n",
      "Already have ADNI_098_S_0171_MR_MPR__GradWarp__B1_Correction__N3__Scaled_Br_20070818135905242_S27475_I68563.nii\n",
      "Already have ADNI_098_S_0172_MR_MPR-R__GradWarp__B1_Correction__N3__Scaled_Br_20080206093628865_S20763_I89481.nii\n",
      "Already have ADNI_098_S_0172_MR_MPR__GradWarp__B1_Correction__N3__Scaled_Br_20070807182244575_S11812_I65757.nii\n",
      "Already have ADNI_098_S_0172_MR_MPR__GradWarp__B1_Correction__N3__Scaled_Br_20070605151542938_S29765_I56013.nii\n",
      "Already have ADNI_098_S_0667_MR_MPR__GradWarp__B1_Correction__N3__Scaled_Br_20080206094655386_S15980_I89495.nii\n",
      "Already have ADNI_098_S_0667_MR_MPR__GradWarp__B1_Correction__N3__Scaled_Br_20070818140815913_S27462_I68572.nii\n",
      "Already have ADNI_098_S_0667_MR_MPR__GradWarp__B1_Correction__N3__Scaled_Br_20071028111511698_S38228_I79017.nii\n",
      "Already have ADNI_098_S_0896_MR_MPR-R__GradWarp__B1_Correction__N3__Scaled_Br_20071101195946585_S41753_I80437.nii\n",
      "Already have ADNI_098_S_0896_MR_MPR__GradWarp__B1_Correction__N3__Scaled_Br_20070605153525348_S19439_I56031.nii\n",
      "Already have ADNI_098_S_0896_MR_MPR__GradWarp__B1_Correction__N3__Scaled_Br_20070605154510245_S29795_I56040.nii\n",
      "Already have ADNI_099_S_0040_MR_MPR-R__GradWarp__B1_Correction__N3__Scaled_Br_20061228155835034_S8920_I34607.nii\n",
      "Already have ADNI_099_S_0040_MR_MPR-R__GradWarp__B1_Correction__N3__Scaled_Br_20070403120130035_S24924_I47884.nii\n",
      "Already have ADNI_099_S_0040_MR_MPR__GradWarp__B1_Correction__N3__Scaled_Br_20061228160618885_S14952_I34621.nii\n",
      "Already have ADNI_099_S_0051_MR_MPR__GradWarp__B1_Correction__N3__Scaled_Br_20070110230400919_S10325_I35819.nii\n",
      "Already have ADNI_099_S_0051_MR_MPR__GradWarp__B1_Correction__N3__Scaled_Br_20061228131607488_S15062_I34488.nii\n",
      "Already have ADNI_099_S_0051_MR_MPR__GradWarp__B1_Correction__N3__Scaled_Br_20070403120459845_S24477_I47889.nii\n",
      "Already have ADNI_099_S_0054_MR_MPR__GradWarp__B1_Correction__N3__Scaled_Br_20070110231208591_S10329_I35825.nii\n",
      "Already have ADNI_099_S_0054_MR_MPR__GradWarp__B1_Correction__N3__Scaled_Br_20061228132811788_S16797_I34495.nii\n",
      "Already have ADNI_099_S_0054_MR_MPR__GradWarp__B1_Correction__N3__Scaled_Br_20070403121121318_S24551_I47898.nii\n",
      "Already have ADNI_099_S_0060_MR_MPR__GradWarp__B1_Correction__N3__Scaled_Br_20070110232355304_S10478_I35833.nii\n",
      "Already have ADNI_099_S_0060_MR_MPR__GradWarp__B1_Correction__N3__Scaled_Br_20061228133922399_S17136_I34502.nii\n",
      "Already have ADNI_099_S_0060_MR_MPR__GradWarp__B1_Correction__N3__Scaled_Br_20070403121736126_S24972_I47907.nii\n",
      "Already have ADNI_099_S_0090_MR_MPR-R__GradWarp__B1_Correction__N3__Scaled_Br_20080414114559934_S26174_I102436.nii\n",
      "Already have ADNI_099_S_0090_MR_MPR__GradWarp__B1_Correction__N3__Scaled_Br_20070110233602074_S10835_I35841.nii\n",
      "Already have ADNI_099_S_0090_MR_MPR__GradWarp__B1_Correction__N3__Scaled_Br_20061228135031466_S17555_I34509.nii\n",
      "Already have ADNI_099_S_0111_MR_MPR-R__GradWarp__B1_Correction__N3__Scaled_Br_20061228140613749_S17993_I34519.nii\n",
      "Already have ADNI_099_S_0111_MR_MPR__GradWarp__B1_Correction__N3__Scaled_Br_20070110234851842_S10933_I35849.nii\n",
      "Already have ADNI_099_S_0111_MR_MPR__GradWarp__B1_Correction__N3__Scaled_Br_20070418082013021_S25863_I49487.nii\n",
      "Already have ADNI_099_S_0291_MR_MPR__GradWarp__B1_Correction__N3__Scaled_Br_20061228141316770_S12065_I34524.nii\n",
      "Already have ADNI_099_S_0291_MR_MPR__GradWarp__B1_Correction__N3__Scaled_Br_20070807110126376_S29168_I65442.nii\n",
      "Already have ADNI_099_S_0291_MR_MPR__GradWarp__N3__Scaled_Br_20061228142752137_S19512_I34531.nii\n",
      "Already have ADNI_099_S_0352_MR_MPR__GradWarp__B1_Correction__N3__Scaled_Br_20061228143819902_S12992_I34537.nii\n",
      "Already have ADNI_099_S_0352_MR_MPR__GradWarp__B1_Correction__N3__Scaled_Br_20070403122357484_S20962_I47917.nii\n",
      "Already have ADNI_099_S_0352_MR_MPR__GradWarp__B1_Correction__N3__Scaled_Br_20070815104006247_S29683_I67743.nii\n",
      "Already have ADNI_099_S_0372_MR_MPR-R__GradWarp__B1_Correction__N3__Scaled_Br_20061228145622892_S13672_I34549.nii\n",
      "Already have ADNI_099_S_0372_MR_MPR-R__GradWarp__B1_Correction__N3__Scaled_Br_20070418084809656_S22214_I49539.nii\n",
      "Already have ADNI_099_S_0372_MR_MPR__GradWarp__B1_Correction__N3__Scaled_Br_20070807111037571_S32294_I65451.nii\n",
      "Already have ADNI_099_S_0470_MR_MPR-R__GradWarp__B1_Correction__N3__Scaled_Br_20061228150832731_S14222_I34570.nii\n",
      "Already have ADNI_099_S_0470_MR_MPR__GradWarp__B1_Correction__N3__Scaled_Br_20070403123036195_S22931_I47926.nii\n",
      "Already have ADNI_099_S_0470_MR_MPR__GradWarp__B1_Correction__N3__Scaled_Br_20080125113732842_S32404_I88563.nii\n",
      "Already have ADNI_099_S_0533_MR_MPR-R__GradWarp__B1_Correction__N3__Scaled_Br_20070209171723295_S14938_I38785.nii\n",
      "Already have ADNI_099_S_0533_MR_MPR__GradWarp__B1_Correction__N3__Scaled_Br_20070403123638283_S24036_I47935.nii\n",
      "Already have ADNI_099_S_0533_MR_MPR__GradWarp__B1_Correction__N3__Scaled_Br_20070819141502636_S32323_I68788.nii\n",
      "Already have ADNI_099_S_0534_MR_MPR-R__GradWarp__B1_Correction__N3__Scaled_Br_20061228152059896_S14009_I34578.nii\n",
      "Already have ADNI_099_S_0534_MR_MPR-R__GradWarp__B1_Correction__N3__Scaled_Br_20070807112330344_S32563_I65464.nii\n",
      "Already have ADNI_099_S_0534_MR_MPR__GradWarp__B1_Correction__N3__Scaled_Br_20070403124254964_S23143_I47944.nii\n",
      "Already have ADNI_099_S_0551_MR_MPR-R__GradWarp__B1_Correction__N3__Scaled_Br_20061228153327357_S14645_I34586.nii\n",
      "Already have ADNI_099_S_0551_MR_MPR__GradWarp__B1_Correction__N3__Scaled_Br_20070731130518012_S22948_I63236.nii\n",
      "Already have ADNI_099_S_0551_MR_MPR__GradWarp__B1_Correction__N3__Scaled_Br_20070807112859926_S34384_I65469.nii\n",
      "Already have ADNI_099_S_0880_MR_MPR-R__GradWarp__B1_Correction__N3__Scaled_Br_20081015151627164_S43444_I121085.nii\n",
      "Already have ADNI_099_S_0880_MR_MPR__GradWarp__B1_Correction__N3__Scaled_Br_20070818141710385_S19744_I68581.nii\n",
      "Already have ADNI_099_S_0880_MR_MPR__GradWarp__B1_Correction__N3__Scaled_Br_20070818142303460_S30547_I68590.nii\n",
      "Already have ADNI_099_S_1034_MR_MPR-R__GradWarp__B1_Correction__N3__Scaled_Br_20071229191642010_S43119_I86447.nii\n",
      "Already have ADNI_099_S_1034_MR_MPR__GradWarp__B1_Correction__N3__Scaled_Br_20070403124911906_S21759_I47953.nii\n",
      "Already have ADNI_099_S_1034_MR_MPR__GradWarp__B1_Correction__N3__Scaled_Br_20080111162053105_S31078_I87166.nii\n",
      "Already have ADNI_099_S_1144_MR_MPR-R__GradWarp__B1_Correction__N3__Scaled_Br_20080410141201622_S24218_I102040.nii\n",
      "Already have ADNI_099_S_1144_MR_MPR__GradWarp__B1_Correction__N3__Scaled_Br_20071028202645607_S37181_I79241.nii\n",
      "Already have ADNI_099_S_1144_MR_MPR__GradWarp__B1_Correction__N3__Scaled_Br_20080113122700113_S43857_I87274.nii\n",
      "Already have ADNI_100_S_0006_MR_MPR____N3__Scaled_Br_20061213150005090_S10145_I33025.nii\n"
     ]
    },
    {
     "name": "stdout",
     "output_type": "stream",
     "text": [
      "Already have ADNI_100_S_0006_MR_MPR____N3__Scaled_Br_20061213150829798_S15294_I33034.nii\n",
      "Already have ADNI_100_S_0006_MR_MPR____N3__Scaled_Br_20070727123814803_S23093_I62348.nii\n",
      "Already have ADNI_100_S_0035_MR_MPR____N3__Scaled_Br_20061213155906774_S9959_I33074.nii\n",
      "Already have ADNI_100_S_0035_MR_MPR____N3__Scaled_Br_20061213160703710_S15318_I33079.nii\n",
      "Already have ADNI_100_S_0035_MR_MPR____N3__Scaled_Br_20070808192755978_S23278_I66092.nii\n",
      "Already have ADNI_100_S_0047_MR_MPR-R____N3__Scaled_Br_20061213161755301_S10215_I33086.nii\n",
      "Already have ADNI_100_S_0047_MR_MPR____N3__Scaled_Br_20061213162249774_S15402_I33089.nii\n",
      "Already have ADNI_100_S_0047_MR_MPR____N3__Scaled_Br_20070808193825173_S23672_I66106.nii\n",
      "Already have ADNI_100_S_0069_MR_MPR____N3__Scaled_Br_20061213163828351_S10563_I33105.nii\n",
      "Already have ADNI_100_S_0069_MR_MPR____N3__Scaled_Br_20061213163045919_S17213_I33094.nii\n",
      "Already have ADNI_100_S_0069_MR_MPR____N3__Scaled_Br_20070727122312731_S24911_I62336.nii\n",
      "Already have ADNI_100_S_0190_MR_MPR____N3__Scaled_Br_20061213164423765_S13689_I33109.nii\n",
      "Already have ADNI_100_S_0190_MR_MPR____N3__Scaled_Br_20080520091938428_S22677_I106190.nii\n",
      "Already have ADNI_100_S_0190_MR_MPR____N3__Scaled_Br_20080307105608937_S31991_I95674.nii\n",
      "Already have ADNI_100_S_0296_MR_MPR-R____N3__Scaled_Br_20061213170304861_S12814_I33121.nii\n",
      "Already have ADNI_100_S_0296_MR_MPR____N3__Scaled_Br_20070727122916306_S20894_I62341.nii\n",
      "Already have ADNI_100_S_0296_MR_MPR____N3__Scaled_Br_20071103130616430_S29945_I80659.nii\n",
      "Already have ADNI_100_S_0995_MR_MPR____N3__Scaled_Br_20090313151836957_S22114_I138912.nii\n",
      "Already have ADNI_100_S_0995_MR_MPR____N3__Scaled_Br_20080220141232645_S32451_I91062.nii\n",
      "Already have ADNI_100_S_0995_MR_MPR____N3__Scaled_Br_20080220141719699_S42933_I91078.nii\n",
      "Already have ADNI_109_S_0950_MR_MPR-R__GradWarp__B1_Correction__N3__Scaled_Br_20080313120846577_S21165_I97200.nii\n",
      "Already have ADNI_109_S_0950_MR_MPR-R__GradWarp__B1_Correction__N3__Scaled_2_Br_20081006131050897_S21165_I119261.nii\n",
      "Already have ADNI_109_S_0950_MR_MPR__GradWarp__B1_Correction__N3__Scaled_Br_20071028112427383_S33867_I79026.nii\n",
      "Already have ADNI_109_S_0950_MR_MPR__GradWarp__B1_Correction__N3__Scaled_Br_20081015151949918_S50598_I121090.nii\n",
      "Already have ADNI_109_S_0967_MR_MPR__GradWarp__B1_Correction__N3__Scaled_Br_20070522145149687_S21137_I55044.nii\n",
      "Already have ADNI_109_S_0967_MR_MPR__GradWarp__B1_Correction__N3__Scaled_Br_20070911121838414_S33892_I72531.nii\n",
      "Already have ADNI_109_S_0967_MR_MPR__GradWarp__B1_Correction__N3__Scaled_Br_20081015152555950_S50607_I121099.nii\n",
      "Already have ADNI_109_S_0967_MR_MPR__GradWarp__B1_Correction__N3__Scaled_2_Br_20081006131012936_S21137_I119260.nii\n",
      "Already have ADNI_109_S_1014_MR_MPR-R__GradWarp__B1_Correction__N3__Scaled_Br_20080422174444509_S48859_I103489.nii\n",
      "Already have ADNI_109_S_1014_MR_MPR__GradWarp__B1_Correction__N3__Scaled_Br_20070731183949113_S24818_I63479.nii\n",
      "Already have ADNI_109_S_1014_MR_MPR__GradWarp__B1_Correction__N3__Scaled_Br_20081110162832712_S58145_I125920.nii\n",
      "Already have ADNI_109_S_1014_MR_MPR__GradWarp__B1_Correction__N3__Scaled_2_Br_20081006131248552_S24818_I119264.nii\n",
      "Already have ADNI_109_S_1114_MR_MPR__GradWarp__B1_Correction__N3__Scaled_Br_20070731184633088_S24702_I63489.nii\n",
      "Already have ADNI_109_S_1114_MR_MPR__GradWarp__B1_Correction__N3__Scaled_Br_20070913164348429_S36644_I73191.nii\n",
      "Already have ADNI_109_S_1114_MR_MPR__GradWarp__B1_Correction__N3__Scaled_Br_20080225181734584_S44985_I92577.nii\n",
      "Already have ADNI_109_S_1114_MR_MPR__GradWarp__B1_Correction__N3__Scaled_2_Br_20081006131209986_S24702_I119263.nii\n",
      "Already have ADNI_109_S_1157_MR_MPR-R__GradWarp__B1_Correction__N3__Scaled_Br_20081022120459068_S50624_I122698.nii\n",
      "Already have ADNI_109_S_1157_MR_MPR__GradWarp__B1_Correction__N3__Scaled_Br_20070808201650854_S24711_I66158.nii\n",
      "Already have ADNI_109_S_1157_MR_MPR__GradWarp__B1_Correction__N3__Scaled_Br_20081201170213296_S58164_I128789.nii\n",
      "Already have ADNI_109_S_1157_MR_MPR__GradWarp__B1_Correction__N3__Scaled_2_Br_20081006131328336_S24711_I119265.nii\n",
      "Already have ADNI_109_S_1183_MR_MPR-R__GradWarp__B1_Correction__N3__Scaled_Br_20081110174548407_S58159_I125949.nii\n",
      "Already have ADNI_109_S_1183_MR_MPR-R__GradWarp__B1_Correction__N3__Scaled_Br_20080224144052919_S44976_I92273.nii\n",
      "Already have ADNI_109_S_1183_MR_MPR__GradWarp__B1_Correction__N3__Scaled_Br_20070808202317972_S24718_I66167.nii\n",
      "Already have ADNI_109_S_1183_MR_MPR__GradWarp__B1_Correction__N3__Scaled_2_Br_20081006131405973_S24718_I119266.nii\n",
      "Already have ADNI_109_S_1343_MR_MPR__GradWarp__B1_Correction__N3__Scaled_Br_20070808202954660_S28820_I66176.nii\n",
      "Already have ADNI_109_S_1343_MR_MPR__GradWarp__B1_Correction__N3__Scaled_Br_20080307105932368_S41789_I95679.nii\n",
      "Already have ADNI_109_S_1343_MR_MPR__GradWarp__B1_Correction__N3__Scaled_Br_20080514115642090_S49500_I105465.nii\n",
      "Already have ADNI_114_S_0166_MR_MPR__GradWarp__B1_Correction__N3__Scaled_Br_20070213190900184_S11584_I39810.nii\n",
      "Already have ADNI_114_S_0166_MR_MPR__GradWarp__B1_Correction__N3__Scaled_Br_20070419173346734_S18173_I49727.nii\n",
      "Already have ADNI_114_S_0166_MR_MPR__GradWarp__B1_Correction__N3__Scaled_Br_20070816145842676_S27147_I68134.nii\n",
      "Already have ADNI_114_S_0173_MR_MPR-R__GradWarp__B1_Correction__N3__Scaled_Br_20080308132846805_S11594_I96321.nii\n",
      "Already have ADNI_114_S_0173_MR_MPR-R__GradWarp__B1_Correction__N3__Scaled_Br_20080302130215813_S27269_I94894.nii\n",
      "Already have ADNI_114_S_0173_MR_MPR__GradWarp__B1_Correction__N3__Scaled_Br_20080124153443007_S18971_I88456.nii\n",
      "Already have ADNI_114_S_0374_MR_MPR__GradWarp__B1_Correction__N3__Scaled_Br_20070213191859176_S13031_I39817.nii\n",
      "Already have ADNI_114_S_0374_MR_MPR__GradWarp__B1_Correction__N3__Scaled_Br_20070419174228687_S19771_I49748.nii\n",
      "Already have ADNI_114_S_0374_MR_MPR__GradWarp__B1_Correction__N3__Scaled_Br_20070818142913840_S30411_I68600.nii\n",
      "Already have ADNI_114_S_0378_MR_MPR-R__GradWarp__B1_Correction__N3__Scaled_Br_20071110120508103_S21540_I81418.nii\n",
      "Already have ADNI_114_S_0378_MR_MPR__GradWarp__B1_Correction__N3__Scaled_Br_20080307110459555_S12760_I95688.nii\n",
      "Already have ADNI_114_S_0378_MR_MPR__GradWarp__B1_Correction__N3__Scaled_Br_20080320172832914_S32395_I99104.nii\n",
      "Already have ADNI_114_S_0410_MR_MPR-R__GradWarp__B1_Correction__N3__Scaled_Br_20070818143756485_S30133_I68613.nii\n",
      "Already have ADNI_114_S_0410_MR_MPR__GradWarp__B1_Correction__N3__Scaled_Br_20070213192831089_S13289_I39824.nii\n",
      "Already have ADNI_114_S_0410_MR_MPR__GradWarp__B1_Correction__N3__Scaled_Br_20070420163711355_S23195_I49897.nii\n",
      "Already have ADNI_114_S_0416_MR_MPR-R__GradWarp__B1_Correction__N3__Scaled_Br_20070213194404047_S13556_I39836.nii\n",
      "Already have ADNI_114_S_0416_MR_MPR__GradWarp__B1_Correction__N3__Scaled_Br_20070813170748186_S21924_I67509.nii\n",
      "Already have ADNI_114_S_0416_MR_MPR__GradWarp__B1_Correction__N3__Scaled_Br_20080302130452992_S31685_I94899.nii\n",
      "Already have ADNI_114_S_0601_MR_MPR__GradWarp__B1_Correction__N3__Scaled_Br_20070213200414400_S15201_I39850.nii\n",
      "Already have ADNI_114_S_0601_MR_MPR__GradWarp__B1_Correction__N3__Scaled_Br_20070816150601025_S23933_I68143.nii\n",
      "Already have ADNI_114_S_0601_MR_MPR__GradWarp__B1_Correction__N3__Scaled_Br_20070816151259935_S35131_I68153.nii\n",
      "Already have ADNI_114_S_0979_MR_MPR__GradWarp__B1_Correction__N3__Scaled_Br_20070213201727734_S21933_I39859.nii\n",
      "Already have ADNI_114_S_0979_MR_MPR__GradWarp__B1_Correction__N3__Scaled_Br_20070816152012702_S32809_I68163.nii\n",
      "Already have ADNI_114_S_0979_MR_MPR__GradWarp__B1_Correction__N3__Scaled_Br_20080224140207787_S44853_I92217.nii\n",
      "Already have ADNI_114_S_1103_MR_MPR__GradWarp__B1_Correction__N3__Scaled_Br_20070419174713695_S23239_I49757.nii\n",
      "Already have ADNI_114_S_1103_MR_MPR__GradWarp__B1_Correction__N3__Scaled_Br_20071119091303729_S34453_I82603.nii\n",
      "Already have ADNI_114_S_1103_MR_MPR__GradWarp__B1_Correction__N3__Scaled_Br_20080223171901466_S44904_I91896.nii\n",
      "Already have ADNI_114_S_1106_MR_MPR__GradWarp__B1_Correction__N3__Scaled_Br_20070420164415238_S22859_I49910.nii\n",
      "Already have ADNI_114_S_1106_MR_MPR__GradWarp__B1_Correction__N3__Scaled_Br_20070821152423958_S33278_I69501.nii\n",
      "Already have ADNI_114_S_1106_MR_MPR__GradWarp__B1_Correction__N3__Scaled_Br_20080225192210127_S44863_I92696.nii\n",
      "Already have ADNI_114_S_1118_MR_MPR-R__GradWarp__B1_Correction__N3__Scaled_Br_20070821153452969_S34821_I69515.nii\n",
      "Already have ADNI_114_S_1118_MR_MPR__GradWarp__B1_Correction__N3__Scaled_Br_20070419175332440_S23803_I49768.nii\n",
      "Already have ADNI_114_S_1118_MR_MPR__GradWarp__B1_Correction__N3__Scaled_Br_20080318141703532_S44936_I98829.nii\n",
      "Already have ADNI_116_S_0361_MR_MPR-R__GradWarp__N3__Scaled_Br_20070713085935345_S21220_I59763.nii\n",
      "Already have ADNI_116_S_0361_MR_MPR__GradWarp__N3__Scaled_Br_20070713084753954_S13809_I59753.nii\n"
     ]
    },
    {
     "name": "stdout",
     "output_type": "stream",
     "text": [
      "Already have ADNI_116_S_0361_MR_MPR__GradWarp__N3__Scaled_Br_20070802213403414_S32277_I64383.nii\n",
      "Already have ADNI_116_S_0370_MR_MPR-R__GradWarp__N3__Scaled_Br_20070713091522602_S13703_I59777.nii\n",
      "Already have ADNI_116_S_0370_MR_MPR-R__GradWarp__N3__Scaled_Br_20070713090705651_S22407_I59770.nii\n",
      "Already have ADNI_116_S_0370_MR_MPR-R__GradWarp__N3__Scaled_Br_20080117114434893_S32284_I87744.nii\n",
      "Already have ADNI_116_S_0382_MR_MPR__GradWarp__N3__Scaled_Br_20070713081714708_S14502_I59725.nii\n",
      "Already have ADNI_116_S_0382_MR_MPR__GradWarp__N3__Scaled_Br_20071226114952981_S23233_I86150.nii\n",
      "Already have ADNI_116_S_0382_MR_MPR__GradWarp__N3__Scaled_Br_20071103132223198_S33930_I80682.nii\n",
      "Already have ADNI_116_S_0392_MR_MPR-R__GradWarp__N3__Scaled_Br_20071226114555354_S23484_I86146.nii\n",
      "Already have ADNI_116_S_0392_MR_MPR-R__GradWarp__N3__Scaled_Br_20070912173601851_S33700_I72801.nii\n",
      "Already have ADNI_116_S_0392_MR_MPR__GradWarp__N3__Scaled_Br_20070713074002233_S15287_I59690.nii\n",
      "Already have ADNI_116_S_0487_MR_MPR-R__GradWarp__N3__Scaled_Br_20070713073545721_S15138_I59686.nii\n",
      "Already have ADNI_116_S_0487_MR_MPR__GradWarp__N3__Scaled_Br_20071226113629640_S24465_I86136.nii\n",
      "Already have ADNI_116_S_0487_MR_MPR__GradWarp__N3__Scaled_Br_20071103132906396_S33710_I80689.nii\n",
      "Already have ADNI_116_S_0648_MR_MPR__GradWarp__N3__Scaled_Br_20070712175429093_S17724_I59666.nii\n",
      "Already have ADNI_116_S_0648_MR_MPR__GradWarp__N3__Scaled_Br_20070712174656193_S26805_I59659.nii\n",
      "Already have ADNI_116_S_0648_MR_MPR__GradWarp__N3__Scaled_Br_20070912174651395_S36409_I72814.nii\n",
      "Already have ADNI_116_S_0649_MR_MPR__GradWarp__N3__Scaled_Br_20070713074708872_S17166_I59697.nii\n",
      "Already have ADNI_116_S_0649_MR_MPR__GradWarp__N3__Scaled_Br_20070713075415149_S26942_I59704.nii\n",
      "Already have ADNI_116_S_0649_MR_MPR__GradWarp__N3__Scaled_Br_20070921181651821_S37130_I74411.nii\n",
      "Already have ADNI_116_S_0657_MR_MPR__GradWarp__N3__Scaled_Br_20070713083225378_S18236_I59739.nii\n",
      "Already have ADNI_116_S_0657_MR_MPR__GradWarp__N3__Scaled_Br_20070713084000207_S27815_I59746.nii\n",
      "Already have ADNI_116_S_0657_MR_MPR__GradWarp__N3__Scaled_Br_20071119092712362_S38715_I82619.nii\n",
      "Already have ADNI_116_S_0752_MR_MPR-R__GradWarp__N3__Scaled_Br_20071226113232356_S26816_I86132.nii\n",
      "Already have ADNI_116_S_0752_MR_MPR__GradWarp__N3__Scaled_Br_20070712172336778_S18066_I59637.nii\n",
      "Already have ADNI_116_S_0752_MR_MPR__GradWarp__N3__Scaled_Br_20070921182336586_S37126_I74419.nii\n",
      "Already have ADNI_116_S_0834_MR_MPR-R__GradWarp__N3__Scaled_Br_20070713094039499_S19568_I59798.nii\n",
      "Already have ADNI_116_S_0834_MR_MPR-R__GradWarp__N3__Scaled_Br_20070713094928782_S31019_I59818.nii\n",
      "Already have ADNI_116_S_0834_MR_MPR__GradWarp__N3__Scaled_Br_20080225182806676_S43077_I92595.nii\n",
      "Already have ADNI_116_S_1232_MR_MPR__GradWarp__N3__Scaled_Br_20070713080145603_S25756_I59711.nii\n",
      "Already have ADNI_116_S_1232_MR_MPR__GradWarp__N3__Scaled_Br_20070912180707828_S36796_I72838.nii\n",
      "Already have ADNI_116_S_1232_MR_MPR__GradWarp__N3__Scaled_Br_20080223172419707_S45139_I91905.nii\n",
      "Already have ADNI_116_S_1243_MR_MPR-R__GradWarp__N3__Scaled_Br_20070713082800619_S26080_I59735.nii\n",
      "Already have ADNI_116_S_1243_MR_MPR__GradWarp__N3__Scaled_Br_20071006122816713_S38957_I77078.nii\n",
      "Already have ADNI_116_S_1243_MR_MPR__GradWarp__N3__Scaled_Br_20080318142929812_S45892_I98845.nii\n",
      "Already have ADNI_116_S_1249_MR_MPR-R__GradWarp__N3__Scaled_Br_20070712173422187_S26084_I59647.nii\n",
      "Already have ADNI_116_S_1249_MR_MPR__GradWarp__N3__Scaled_Br_20071103133309788_S38244_I80693.nii\n",
      "Already have ADNI_116_S_1249_MR_MPR__GradWarp__N3__Scaled_Br_20080321144248849_S45480_I99187.nii\n",
      "Already have ADNI_116_S_1271_MR_MPR__GradWarp__N3__Scaled_Br_20070712173906167_S26938_I59652.nii\n",
      "Already have ADNI_116_S_1271_MR_MPR__GradWarp__N3__Scaled_Br_20071006123405018_S38952_I77083.nii\n",
      "Already have ADNI_116_S_1271_MR_MPR__GradWarp__N3__Scaled_Br_20080410111340721_S46819_I101965.nii\n",
      "Already have ADNI_121_S_1322_MR_MPR____N3__Scaled_Br_20070808203731870_S27376_I66185.nii\n",
      "Already have ADNI_121_S_1322_MR_MPR____N3__Scaled_Br_20071106103102762_S39096_I80889.nii\n",
      "Already have ADNI_121_S_1322_MR_MPR____N3__Scaled_Br_20080423180224071_S48586_I103719.nii\n",
      "Already have ADNI_121_S_1322_MR_MPR____N3__Scaled_2_Br_20081006133607742_S27376_I119268.nii\n",
      "Already have ADNI_123_S_0050_MR_MPR-R____N3__Scaled_Br_20070809210824587_S23638_I66664.nii\n",
      "Already have ADNI_123_S_0050_MR_MPR-R____N3__Scaled_2_Br_20081006153158354_S23638_I119272.nii\n",
      "Already have ADNI_123_S_0050_MR_MPR____N3__Scaled_Br_20070802214257605_S10053_I64390.nii\n",
      "Already have ADNI_123_S_0050_MR_MPR____N3__Scaled_Br_20070731191526816_S15358_I63526.nii\n",
      "Already have ADNI_123_S_0050_MR_MPR____N3__Scaled_2_Br_20081006152911752_S10053_I119270.nii\n",
      "Already have ADNI_123_S_0050_MR_MPR____N3__Scaled_2_Br_20081006153034540_S15358_I119271.nii\n",
      "Already have ADNI_123_S_0072_MR_MPR____N3__Scaled_Br_20070802214830990_S10776_I64395.nii\n",
      "Already have ADNI_123_S_0072_MR_MPR____N3__Scaled_Br_20070731192052467_S17085_I63531.nii\n",
      "Already have ADNI_123_S_0072_MR_MPR____N3__Scaled_Br_20070809211916237_S25240_I66672.nii\n",
      "Already have ADNI_123_S_0072_MR_MPR____N3__Scaled_2_Br_20081006154119906_S10776_I119274.nii\n",
      "Already have ADNI_123_S_0072_MR_MPR____N3__Scaled_2_Br_20081006154240325_S17085_I119275.nii\n",
      "Already have ADNI_123_S_0072_MR_MPR____N3__Scaled_2_Br_20081006154400084_S25240_I119276.nii\n",
      "Already have ADNI_123_S_0088_MR_MPR-R____N3__Scaled_Br_20070731192808437_S17840_I63538.nii\n",
      "Already have ADNI_123_S_0088_MR_MPR-R____N3__Scaled_2_Br_20081006154639276_S17840_I119283.nii\n",
      "Already have ADNI_123_S_0088_MR_MPR____N3__Scaled_Br_20070802215356737_S10795_I64400.nii\n",
      "Already have ADNI_123_S_0088_MR_MPR____N3__Scaled_Br_20081022122935024_S25920_I122735.nii\n",
      "Already have ADNI_123_S_0088_MR_MPR____N3__Scaled_2_Br_20081006154519230_S10795_I119277.nii\n",
      "Already have ADNI_123_S_0091_MR_MPR-R____N3__Scaled_Br_20070731193338230_S15898_I63543.nii\n",
      "Already have ADNI_123_S_0091_MR_MPR-R____N3__Scaled_2_Br_20081006154919568_S15898_I119289.nii\n",
      "Already have ADNI_123_S_0091_MR_MPR____N3__Scaled_Br_20070802215937761_S10708_I64405.nii\n",
      "Already have ADNI_123_S_0091_MR_MPR____N3__Scaled_Br_20070809212604810_S25040_I66677.nii\n",
      "Already have ADNI_123_S_0091_MR_MPR____N3__Scaled_2_Br_20081006154759158_S10708_I119288.nii\n",
      "Already have ADNI_123_S_0091_MR_MPR____N3__Scaled_2_Br_20081006155039150_S25040_I119290.nii\n",
      "Already have ADNI_123_S_0094_MR_MPR____N3__Scaled_Br_20070802220504756_S10712_I64410.nii\n",
      "Already have ADNI_123_S_0094_MR_MPR____N3__Scaled_Br_20070731193713237_S15867_I63546.nii\n",
      "Already have ADNI_123_S_0094_MR_MPR____N3__Scaled_Br_20071104120709171_S24976_I80727.nii\n",
      "Already have ADNI_123_S_0094_MR_MPR____N3__Scaled_2_Br_20081006155158989_S10712_I119300.nii\n",
      "Already have ADNI_123_S_0094_MR_MPR____N3__Scaled_2_Br_20081006155327555_S15867_I119301.nii\n",
      "Already have ADNI_123_S_0094_MR_MPR____N3__Scaled_2_Br_20081006155447996_S24976_I119306.nii\n",
      "Already have ADNI_123_S_0106_MR_MPR-R____N3__Scaled_Br_20070805155157318_S17506_I64965.nii\n",
      "Already have ADNI_123_S_0106_MR_MPR-R____N3__Scaled_2_Br_20081006155731251_S17506_I119308.nii\n",
      "Already have ADNI_123_S_0106_MR_MPR____N3__Scaled_Br_20070807114033316_S11010_I65478.nii\n",
      "Already have ADNI_123_S_0106_MR_MPR____N3__Scaled_Br_20070809213246058_S25537_I66682.nii\n",
      "Already have ADNI_123_S_0106_MR_MPR____N3__Scaled_2_Br_20081006155611727_S11010_I119307.nii\n",
      "Already have ADNI_123_S_0106_MR_MPR____N3__Scaled_2_Br_20081006155853649_S25537_I119309.nii\n",
      "Already have ADNI_123_S_0108_MR_MPR-R____N3__Scaled_Br_20070802221227923_S11415_I64417.nii\n",
      "Already have ADNI_123_S_0108_MR_MPR-R____N3__Scaled_2_Br_20081006160013571_S11415_I119310.nii\n",
      "Already have ADNI_123_S_0108_MR_MPR____N3__Scaled_Br_20070809133241422_S17637_I66300.nii\n",
      "Already have ADNI_123_S_0108_MR_MPR____N3__Scaled_Br_20070809213935318_S26954_I66687.nii\n",
      "Already have ADNI_123_S_0108_MR_MPR____N3__Scaled_2_Br_20081006160133594_S17637_I119311.nii\n",
      "Already have ADNI_123_S_0108_MR_MPR____N3__Scaled_2_Br_20081006160252249_S26954_I119321.nii\n",
      "Already have ADNI_123_S_0113_MR_MPR____N3__Scaled_Br_20070731194237767_S12020_I63551.nii\n",
      "Already have ADNI_123_S_0113_MR_MPR____N3__Scaled_Br_20070807115111682_S18842_I65483.nii\n",
      "Already have ADNI_123_S_0113_MR_MPR____N3__Scaled_Br_20070809214629027_S27824_I66692.nii\n",
      "Already have ADNI_123_S_0113_MR_MPR____N3__Scaled_2_Br_20081006160411385_S12020_I119322.nii\n",
      "Already have ADNI_123_S_0113_MR_MPR____N3__Scaled_2_Br_20081006160530035_S18842_I119323.nii\n",
      "Already have ADNI_123_S_0113_MR_MPR____N3__Scaled_2_Br_20081006160649946_S27824_I119324.nii\n"
     ]
    },
    {
     "name": "stdout",
     "output_type": "stream",
     "text": [
      "Already have ADNI_123_S_0162_MR_MPR-R____N3__Scaled_Br_20070802221804531_S11551_I64422.nii\n",
      "Already have ADNI_123_S_0162_MR_MPR-R____N3__Scaled_2_Br_20081006160808952_S11551_I119325.nii\n",
      "Already have ADNI_123_S_0162_MR_MPR____N3__Scaled_Br_20070809215316467_S21911_I66697.nii\n",
      "Already have ADNI_123_S_0162_MR_MPR____N3__Scaled_Br_20070809220011246_S31702_I66702.nii\n",
      "Already have ADNI_123_S_0162_MR_MPR____N3__Scaled_2_Br_20081006160928843_S21911_I119326.nii\n",
      "Already have ADNI_123_S_0162_MR_MPR____N3__Scaled_2_Br_20081006161049375_S31702_I119327.nii\n",
      "Already have ADNI_123_S_0298_MR_MPR-R____N3__Scaled_Br_20070802222338555_S13153_I64427.nii\n",
      "Already have ADNI_123_S_0298_MR_MPR-R____N3__Scaled_2_Br_20081006161209365_S13153_I119328.nii\n",
      "Already have ADNI_123_S_0298_MR_MPR____N3__Scaled_Br_20071104121134637_S22220_I80732.nii\n",
      "Already have ADNI_123_S_0298_MR_MPR____N3__Scaled_Br_20070809220706990_S31946_I66707.nii\n",
      "Already have ADNI_123_S_0298_MR_MPR____N3__Scaled_2_Br_20081006161327721_S22220_I119329.nii\n",
      "Already have ADNI_123_S_0298_MR_MPR____N3__Scaled_2_Br_20081006161448209_S31946_I119330.nii\n",
      "Already have ADNI_123_S_0390_MR_MPR____N3__Scaled_Br_20070802222719446_S13099_I64430.nii\n",
      "Already have ADNI_123_S_0390_MR_MPR____N3__Scaled_Br_20070809221335090_S22989_I66712.nii\n",
      "Already have ADNI_123_S_0390_MR_MPR____N3__Scaled_Br_20070809222018812_S31708_I66717.nii\n",
      "Already have ADNI_123_S_0390_MR_MPR____N3__Scaled_2_Br_20081006161606452_S13099_I119331.nii\n",
      "Already have ADNI_123_S_0390_MR_MPR____N3__Scaled_2_Br_20081006161725830_S22989_I119332.nii\n",
      "Already have ADNI_123_S_0390_MR_MPR____N3__Scaled_2_Br_20081006161846130_S31708_I119333.nii\n",
      "Already have ADNI_123_S_1300_MR_MPR-R____N3__Scaled_Br_20080410150723858_S47447_I102132.nii\n",
      "Already have ADNI_123_S_1300_MR_MPR____N3__Scaled_Br_20070809134209477_S27689_I66305.nii\n",
      "Already have ADNI_123_S_1300_MR_MPR____N3__Scaled_Br_20071106103531885_S40837_I80894.nii\n",
      "Already have ADNI_123_S_1300_MR_MPR____N3__Scaled_2_Br_20081006162006682_S27689_I119334.nii\n",
      "Already have ADNI_126_S_0605_MR_MPR-R__GradWarp__B1_Correction__N3__Scaled_Br_20070912182413285_S33873_I72858.nii\n",
      "Already have ADNI_126_S_0605_MR_MPR__GradWarp__B1_Correction__N3__Scaled_Br_20070209184132392_S15665_I38861.nii\n",
      "Already have ADNI_126_S_0605_MR_MPR__GradWarp__B1_Correction__N3__Scaled_Br_20071104125030753_S32170_I80796.nii\n",
      "Already have ADNI_126_S_0606_MR_MPR-R__GradWarp__B1_Correction__N3__Scaled_Br_20070209193129753_S17191_I38918.nii\n",
      "Already have ADNI_126_S_0606_MR_MPR-R__GradWarp__B1_Correction__N3__Scaled_Br_20071219174857978_S36749_I85706.nii\n",
      "Already have ADNI_126_S_0606_MR_MPR__GradWarp__B1_Correction__N3__Scaled_Br_20070412180926838_S25770_I48923.nii\n",
      "Already have ADNI_126_S_0680_MR_MPR__GradWarp__B1_Correction__N3__Scaled_Br_20070209193929552_S16099_I38926.nii\n",
      "Already have ADNI_126_S_0680_MR_MPR__GradWarp__B1_Correction__N3__Scaled_Br_20070412181700654_S25497_I48932.nii\n",
      "Already have ADNI_126_S_0680_MR_MPR__GradWarp__B1_Correction__N3__Scaled_Br_20070913164951110_S36255_I73200.nii\n",
      "Already have ADNI_126_S_0708_MR_MPR__GradWarp__B1_Correction__N3__Scaled_Br_20070209195607568_S16897_I38944.nii\n",
      "Already have ADNI_126_S_0708_MR_MPR__GradWarp__B1_Correction__N3__Scaled_Br_20070412182453106_S25438_I48941.nii\n",
      "Already have ADNI_126_S_0708_MR_MPR__GradWarp__B1_Correction__N3__Scaled_Br_20070912184147966_S36303_I72882.nii\n",
      "Already have ADNI_126_S_0709_MR_MPR-R__GradWarp__B1_Correction__N3__Scaled_Br_20070412183657579_S26483_I48954.nii\n",
      "Already have ADNI_126_S_0709_MR_MPR__GradWarp__B1_Correction__N3__Scaled_Br_20070209201247502_S17326_I38964.nii\n",
      "Already have ADNI_126_S_0709_MR_MPR__GradWarp__B1_Correction__N3__Scaled_Br_20070922103918486_S37403_I74487.nii\n",
      "Already have ADNI_126_S_0784_MR_MPR-R__GradWarp__B1_Correction__N3__Scaled_Br_20070209204200349_S19752_I39005.nii\n",
      "Already have ADNI_126_S_0784_MR_MPR__GradWarp__B1_Correction__N3__Scaled_Br_20070910191135635_S29647_I72324.nii\n",
      "Already have ADNI_126_S_0784_MR_MPR__GradWarp__B1_Correction__N3__Scaled_Br_20071119094159920_S41133_I82633.nii\n",
      "Already have ADNI_126_S_0891_MR_MPR-R__GradWarp__B1_Correction__N3__Scaled_Br_20070912185200250_S29819_I72895.nii\n",
      "Already have ADNI_126_S_0891_MR_MPR__GradWarp__B1_Correction__N3__Scaled_Br_20070209210901264_S19386_I39054.nii\n",
      "Already have ADNI_126_S_0891_MR_MPR__GradWarp__B1_Correction__N3__Scaled_Br_20071106104013075_S40996_I80899.nii\n",
      "Already have ADNI_126_S_1187_MR_MPR__GradWarp__B1_Correction__N3__Scaled_Br_20070412184108117_S25143_I48959.nii\n",
      "Already have ADNI_126_S_1187_MR_MPR__GradWarp__B1_Correction__N3__Scaled_Br_20071028203140611_S37232_I79250.nii\n",
      "Already have ADNI_126_S_1187_MR_MPR__GradWarp__B1_Correction__N3__Scaled_Br_20080223180157125_S44779_I91954.nii\n",
      "Already have ADNI_126_S_1221_MR_MPR-R__GradWarp__B1_Correction__N3__Scaled_Br_20070412185437959_S25457_I48976.nii\n",
      "Already have ADNI_126_S_1221_MR_MPR-R__GradWarp__B1_Correction__N3__Scaled_Br_20080223181143042_S45110_I91967.nii\n",
      "Already have ADNI_126_S_1221_MR_MPR__GradWarp__B1_Correction__N3__Scaled_Br_20071028203813853_S37138_I79259.nii\n",
      "Already have ADNI_127_S_0112_MR_MPR__GradWarp__B1_Correction__N3__Scaled_Br_20070110222426253_S11194_I35799.nii\n",
      "Already have ADNI_127_S_0112_MR_MPR__GradWarp__B1_Correction__N3__Scaled_Br_20061227140045138_S17349_I34353.nii\n",
      "Already have ADNI_127_S_0112_MR_MPR__GradWarp__B1_Correction__N3__Scaled_Br_20080313122421555_S25918_I97223.nii\n",
      "Already have ADNI_127_S_0259_MR_MPR-R__GradWarp__B1_Correction__N3__Scaled_Br_20070926120915361_S19555_I75336.nii\n",
      "Already have ADNI_127_S_0259_MR_MPR__GradWarp__B1_Correction__N3__Scaled_Br_20061227141745908_S12137_I34362.nii\n",
      "Already have ADNI_127_S_0259_MR_MPR__GradWarp__B1_Correction__N3__Scaled_Br_20070808204221369_S29124_I66190.nii\n",
      "Already have ADNI_127_S_0260_MR_MPR-R__GradWarp__B1_Correction__N3__Scaled_Br_20061227145555834_S12419_I34384.nii\n",
      "Already have ADNI_127_S_0260_MR_MPR__GradWarp__B1_Correction__N3__Scaled_Br_20071226112236946_S21865_I86120.nii\n",
      "Already have ADNI_127_S_0260_MR_MPR__GradWarp__B1_Correction__N3__Scaled_Br_20070731194728317_S31942_I63556.nii\n",
      "Already have ADNI_127_S_0393_MR_MPR-R__GradWarp__B1_Correction__N3__Scaled_Br_20061227151115107_S13200_I34393.nii\n",
      "Already have ADNI_127_S_0393_MR_MPR__GradWarp__B1_Correction__N3__Scaled_Br_20080123092007904_S22874_I88086.nii\n",
      "Already have ADNI_127_S_0393_MR_MPR__GradWarp__B1_Correction__N3__Scaled_Br_20070731200343876_S33202_I63574.nii\n",
      "Already have ADNI_127_S_0394_MR_MPR__GradWarp__B1_Correction__N3__Scaled_Br_20061227151953272_S14603_I34398.nii\n",
      "Already have ADNI_127_S_0394_MR_MPR__GradWarp__B1_Correction__N3__Scaled_Br_20070731202102685_S24665_I63592.nii\n",
      "Already have ADNI_127_S_0394_MR_MPR__GradWarp__B1_Correction__N3__Scaled_Br_20071029113642452_S34198_I79391.nii\n",
      "Already have ADNI_127_S_0431_MR_MPR__GradWarp__B1_Correction__N3__Scaled_Br_20061228113005257_S14595_I34443.nii\n",
      "Already have ADNI_127_S_0431_MR_MPR__GradWarp__B1_Correction__N3__Scaled_Br_20070731202928668_S24680_I63601.nii\n",
      "Already have ADNI_127_S_0431_MR_MPR__GradWarp__B1_Correction__N3__Scaled_Br_20071104121532890_S34212_I80737.nii\n",
      "Already have ADNI_127_S_0622_MR_MPR__GradWarp__B1_Correction__N3__Scaled_Br_20061228114611116_S15473_I34452.nii\n",
      "Already have ADNI_127_S_0622_MR_MPR__GradWarp__B1_Correction__N3__Scaled_Br_20071226133218065_S24014_I86188.nii\n",
      "Already have ADNI_127_S_0622_MR_MPR__GradWarp__B1_Correction__N3__Scaled_Br_20070910192617001_S34161_I72343.nii\n",
      "Already have ADNI_127_S_0684_MR_MPR-R__GradWarp__B1_Correction__N3__Scaled_Br_20070922105522161_S37893_I74509.nii\n",
      "Already have ADNI_127_S_0684_MR_MPR__GradWarp__B1_Correction__N3__Scaled_Br_20061228115620978_S16759_I34458.nii\n",
      "Already have ADNI_127_S_0684_MR_MPR__GradWarp__B1_Correction__N3__Scaled_Br_20070731203813056_S26720_I63610.nii\n",
      "Already have ADNI_127_S_0754_MR_MPR__GradWarp__B1_Correction__N3__Scaled_Br_20071104122303097_S18515_I80760.nii\n",
      "Already have ADNI_127_S_0754_MR_MPR__GradWarp__B1_Correction__N3__Scaled_Br_20070910194014072_S28059_I72361.nii\n",
      "Already have ADNI_127_S_0754_MR_MPR__GradWarp__B1_Correction__N3__Scaled_Br_20071106104815465_S41085_I80908.nii\n",
      "Already have ADNI_127_S_0844_MR_MPR-R__GradWarp__B1_Correction__N3__Scaled_Br_20061228121939879_S19874_I34471.nii\n",
      "Already have ADNI_127_S_0844_MR_MPR__GradWarp__B1_Correction__N3__Scaled_Br_20070731204634221_S32360_I63619.nii\n",
      "Already have ADNI_127_S_0844_MR_MPR__GradWarp__B1_Correction__N3__Scaled_Br_20071119094949883_S42000_I82642.nii\n",
      "Already have ADNI_127_S_0925_MR_MPR-R__GradWarp__B1_Correction__N3__Scaled_Br_20071119100843024_S32506_I82664.nii\n",
      "Already have ADNI_127_S_0925_MR_MPR__GradWarp__B1_Correction__N3__Scaled_Br_20070812152527915_S21560_I67266.nii\n",
      "Already have ADNI_127_S_0925_MR_MPR__GradWarp__B1_Correction__N3__Scaled_Br_20071219170802612_S43012_I85641.nii\n",
      "Already have ADNI_127_S_1032_MR_MPR-R__GradWarp__B1_Correction__N3__Scaled_Br_20070731205903851_S22259_I63632.nii\n",
      "Already have ADNI_127_S_1032_MR_MPR-R__GradWarp__B1_Correction__N3__Scaled_Br_20070913170208239_S33831_I73218.nii\n",
      "Already have ADNI_127_S_1032_MR_MPR-R__GradWarp__B1_Correction__N3__Scaled_Br_20080114100806653_S44227_I87319.nii\n",
      "Already have ADNI_127_S_1140_MR_MPR__GradWarp__B1_Correction__N3__Scaled_Br_20070731210348025_S24278_I63637.nii\n",
      "Already have ADNI_127_S_1140_MR_MPR__GradWarp__B1_Correction__N3__Scaled_Br_20070912190233999_S34464_I72909.nii\n",
      "Already have ADNI_127_S_1140_MR_MPR__GradWarp__B1_Correction__N3__Scaled_Br_20080229184945036_S44548_I94649.nii\n",
      "Already have ADNI_127_S_1382_MR_MPR__GradWarp__B1_Correction__N3__Scaled_Br_20070809135006478_S28261_I66310.nii\n",
      "Already have ADNI_127_S_1382_MR_MPR__GradWarp__B1_Correction__N3__Scaled_Br_20071110120807446_S41760_I81423.nii\n",
      "Already have ADNI_127_S_1382_MR_MPR__GradWarp__B1_Correction__N3__Scaled_Br_20080514121101714_S49319_I105481.nii\n",
      "Already have ADNI_127_S_1419_MR_MPR-R__GradWarp__B1_Correction__N3__Scaled_Br_20081017081605828_S55777_I121684.nii\n",
      "Already have ADNI_127_S_1419_MR_MPR__GradWarp__B1_Correction__N3__Scaled_Br_20070918133851322_S35957_I73656.nii\n"
     ]
    },
    {
     "name": "stdout",
     "output_type": "stream",
     "text": [
      "Already have ADNI_127_S_1419_MR_MPR__GradWarp__B1_Correction__N3__Scaled_Br_20080410105155576_S46705_I101933.nii\n",
      "Already have ADNI_127_S_1427_MR_MPR__GradWarp__B1_Correction__N3__Scaled_Br_20080220144226399_S37933_I91126.nii\n",
      "Already have ADNI_127_S_1427_MR_MPR__GradWarp__B1_Correction__N3__Scaled_Br_20080321144641514_S46021_I99191.nii\n",
      "Already have ADNI_127_S_1427_MR_MPR__GradWarp__B1_Correction__N3__Scaled_Br_20081017081958558_S56227_I121689.nii\n",
      "Already have ADNI_128_S_0947_MR_MPR-R__GradWarp__B1_Correction__N3__Scaled_Br_20070819183031558_S29901_I69086.nii\n",
      "Already have ADNI_128_S_0947_MR_MPR-R__GradWarp__B1_Correction__N3__Scaled_Br_20080215173006983_S42240_I90605.nii\n",
      "Already have ADNI_128_S_0947_MR_MPR__GradWarp__B1_Correction__N3__Scaled_Br_20070819182244177_S19859_I69073.nii\n",
      "Already have ADNI_128_S_0947_MR_MPR__GradWarp__B1_Correction__N3__Scaled_2_Br_20081007101402951_S19859_I119409.nii\n",
      "Already have ADNI_128_S_1043_MR_MPR__GradWarp__B1_Correction__N3__Scaled_Br_20070819183343158_S22562_I69091.nii\n",
      "Already have ADNI_128_S_1043_MR_MPR__GradWarp__B1_Correction__N3__Scaled_Br_20070820164711234_S34309_I69278.nii\n",
      "Already have ADNI_128_S_1043_MR_MPR__GradWarp__B1_Correction__N3__Scaled_Br_20080207171857181_S43514_I89919.nii\n",
      "Already have ADNI_128_S_1043_MR_MPR__GradWarp__B1_Correction__N3__Scaled_2_Br_20081007101437479_S22562_I119410.nii\n",
      "Already have ADNI_128_S_1088_MR_MPR-R__GradWarp__B1_Correction__N3__Scaled_Br_20070819184202735_S23787_I69104.nii\n",
      "Already have ADNI_128_S_1088_MR_MPR-R__GradWarp__B1_Correction__N3__Scaled_Br_20080223182417647_S45402_I91985.nii\n",
      "Already have ADNI_128_S_1088_MR_MPR__GradWarp__B1_Correction__N3__Scaled_Br_20070821195041347_S35269_I69724.nii\n",
      "Already have ADNI_128_S_1148_MR_MPR-R__GradWarp__B1_Correction__N3__Scaled_Br_20070819184744473_S24199_I69113.nii\n",
      "Already have ADNI_128_S_1148_MR_MPR__GradWarp__B1_Correction__N3__Scaled_Br_20070821112739593_S34485_I69381.nii\n",
      "Already have ADNI_128_S_1148_MR_MPR__GradWarp__B1_Correction__N3__Scaled_Br_20080225183429564_S44726_I92602.nii\n",
      "Already have ADNI_128_S_1242_MR_MPR__GradWarp__B1_Correction__N3__Scaled_Br_20080215173900195_S37564_I90623.nii\n",
      "Already have ADNI_128_S_1242_MR_MPR__GradWarp__B1_Correction__N3__Scaled_Br_20080514110948385_S47329_I105428.nii\n",
      "Already have ADNI_128_S_1242_MR_MPR__GradWarp__N3__Scaled_Br_20090126165647083_S25934_I134505.nii\n",
      "Already have ADNI_128_S_1407_MR_MPR__GradWarp__B1_Correction__N3__Scaled_Br_20070821113527497_S33808_I69390.nii\n",
      "Already have ADNI_128_S_1407_MR_MPR__GradWarp__B1_Correction__N3__Scaled_Br_20080225184524561_S44739_I92628.nii\n",
      "Already have ADNI_128_S_1407_MR_MPR__GradWarp__B1_Correction__N3__Scaled_Br_20081020135510819_S56244_I122382.nii\n",
      "Already have ADNI_128_S_1408_MR_MPR-R__GradWarp__B1_Correction__N3__Scaled_Br_20070820165456138_S36472_I69289.nii\n",
      "Already have ADNI_128_S_1408_MR_MPR__GradWarp__B1_Correction__N3__Scaled_Br_20080223183402192_S45274_I91999.nii\n",
      "Already have ADNI_128_S_1408_MR_MPR__GradWarp__B1_Correction__N3__Scaled_Br_20081017082629524_S56669_I121703.nii\n",
      "Already have ADNI_129_S_0778_MR_MPR__GradWarp__N3__Scaled_Br_20080220145002718_S17848_I91135.nii\n",
      "Already have ADNI_129_S_0778_MR_MPR__GradWarp__N3__Scaled_Br_20080414161318371_S47660_I102525.nii\n",
      "Already have ADNI_129_S_0778_MR_MPR__GradWarp__N3__Scaled_Br_20071113182738967_S40901_I81964.nii\n",
      "Already have ADNI_129_S_1246_MR_MPR-R__GradWarp__N3__Scaled_Br_20071119101654053_S41373_I82678.nii\n",
      "Already have ADNI_129_S_1246_MR_MPR-R__GradWarp__N3__Scaled_Br_20080501170434295_S48653_I104531.nii\n",
      "Already have ADNI_129_S_1246_MR_MPR__GradWarp__N3__Scaled_Br_20070821195733966_S26515_I69733.nii\n",
      "Already have ADNI_130_S_0102_MR_MPR-R__GradWarp__B1_Correction__N3__Scaled_Br_20070816153248774_S25193_I68176.nii\n",
      "Already have ADNI_130_S_0102_MR_MPR__GradWarp__B1_Correction__N3__Scaled_Br_20070212203700215_S10746_I39460.nii\n",
      "Already have ADNI_130_S_0102_MR_MPR__GradWarp__B1_Correction__N3__Scaled_Br_20070210211011459_S17521_I39147.nii\n",
      "Already have ADNI_130_S_0232_MR_MPR__GradWarp__B1_Correction__N3__Scaled_Br_20070210200901845_S11928_I39108.nii\n",
      "Already have ADNI_130_S_0232_MR_MPR__GradWarp__B1_Correction__N3__Scaled_Br_20070210212555903_S19172_I39157.nii\n",
      "Already have ADNI_130_S_0232_MR_MPR__GradWarp__B1_Correction__N3__Scaled_Br_20070807120019142_S27593_I65489.nii\n",
      "Already have ADNI_130_S_0423_MR_MPR__GradWarp__B1_Correction__N3__Scaled_Br_20070210204607108_S15030_I39132.nii\n",
      "Already have ADNI_130_S_0423_MR_MPR__GradWarp__B1_Correction__N3__Scaled_Br_20071226103032600_S26304_I86111.nii\n",
      "Already have ADNI_130_S_0423_MR_MPR__GradWarp__B1_Correction__N3__Scaled_Br_20070926114617175_S38067_I75318.nii\n",
      "Already have ADNI_130_S_0505_MR_MPR__GradWarp__B1_Correction__N3__Scaled_Br_20070210210227671_S17292_I39142.nii\n",
      "Already have ADNI_130_S_0505_MR_MPR__GradWarp__B1_Correction__N3__Scaled_Br_20070828150126196_S29451_I70867.nii\n",
      "Already have ADNI_130_S_0505_MR_MPR__GradWarp__B1_Correction__N3__Scaled_Br_20071129171234526_S41388_I83797.nii\n",
      "Already have ADNI_130_S_0783_MR_MPR__GradWarp__B1_Correction__N3__Scaled_Br_20070210211809149_S18023_I39152.nii\n",
      "Already have ADNI_130_S_0783_MR_MPR__GradWarp__B1_Correction__N3__Scaled_Br_20070807121616010_S28139_I65498.nii\n",
      "Already have ADNI_130_S_0783_MR_MPR__GradWarp__B1_Correction__N3__Scaled_Br_20080602084123441_S46496_I107916.nii\n",
      "Already have ADNI_130_S_0886_MR_MPR__GradWarp__B1_Correction__N3__Scaled_Br_20070210214803504_S19561_I39171.nii\n",
      "Already have ADNI_130_S_0886_MR_MPR__GradWarp__B1_Correction__N3__Scaled_Br_20070809140502040_S29534_I66332.nii\n",
      "Already have ADNI_130_S_0886_MR_MPR__GradWarp__B1_Correction__N3__Scaled_Br_20071106111824989_S41101_I80944.nii\n",
      "Already have ADNI_130_S_0956_MR_MPR__GradWarp__B1_Correction__N3__Scaled_Br_20070210221002388_S20667_I39185.nii\n",
      "Already have ADNI_130_S_0956_MR_MPR__GradWarp__B1_Correction__N3__Scaled_Br_20070801175358435_S29748_I63725.nii\n",
      "Already have ADNI_130_S_0956_MR_MPR__GradWarp__B1_Correction__N3__Scaled_Br_20071119102524483_S42129_I82691.nii\n",
      "Already have ADNI_130_S_0969_MR_MPR-R__GradWarp__B1_Correction__N3__Scaled_Br_20070211000635226_S20385_I39275.nii\n",
      "Already have ADNI_130_S_0969_MR_MPR-R__GradWarp__B1_Correction__N3__Scaled_Br_20070801180732088_S31840_I63738.nii\n",
      "Already have ADNI_130_S_0969_MR_MPR__GradWarp__B1_Correction__N3__Scaled_Br_20071221162236762_S42733_I86004.nii\n",
      "Already have ADNI_130_S_1200_MR_MPR-R__GradWarp__B1_Correction__N3__Scaled_Br_20070801182138028_S25090_I63752.nii\n",
      "Already have ADNI_130_S_1200_MR_MPR-R__GradWarp__B1_Correction__N3__Scaled_Br_20080223185743242_S45007_I92035.nii\n",
      "Already have ADNI_130_S_1200_MR_MPR__GradWarp__B1_Correction__N3__Scaled_Br_20070922110803845_S37603_I74532.nii\n",
      "Already have ADNI_130_S_1201_MR_MPR__GradWarp__B1_Correction__N3__Scaled_Br_20070801182711594_S25082_I63757.nii\n",
      "Already have ADNI_130_S_1201_MR_MPR__GradWarp__B1_Correction__N3__Scaled_Br_20070922111442945_S37190_I74541.nii\n",
      "Already have ADNI_130_S_1201_MR_MPR__GradWarp__B1_Correction__N3__Scaled_Br_20080223190134780_S45316_I92040.nii\n",
      "Already have ADNI_130_S_1337_MR_MPR__GradWarp__B1_Correction__N3__Scaled_Br_20070801184528226_S27584_I63775.nii\n",
      "Already have ADNI_130_S_1337_MR_MPR__GradWarp__B1_Correction__N3__Scaled_Br_20071106112629647_S40791_I80953.nii\n",
      "Already have ADNI_130_S_1337_MR_MPR__GradWarp__B1_Correction__N3__Scaled_Br_20080410110634933_S46817_I101956.nii\n",
      "Already have ADNI_131_S_0123_MR_MPR-R__GradWarp__B1_Correction__N3__Scaled_Br_20070403130049441_S21795_I47966.nii\n",
      "Already have ADNI_131_S_0123_MR_MPR__GradWarp__B1_Correction__N3__Scaled_Br_20070801185420724_S10960_I63784.nii\n",
      "Already have ADNI_131_S_0123_MR_MPR__GradWarp__B1_Correction__N3__Scaled_Br_20070828151041852_S26596_I70876.nii\n",
      "Already have ADNI_131_S_0384_MR_MPR__GradWarp__B1_Correction__N3__Scaled_Br_20070403132511604_S12790_I48002.nii\n",
      "Already have ADNI_131_S_0384_MR_MPR__GradWarp__B1_Correction__N3__Scaled_Br_20070815104814001_S24435_I67756.nii\n",
      "Already have ADNI_131_S_0384_MR_MPR__GradWarp__B1_Correction__N3__Scaled_Br_20071104122946601_S33802_I80769.nii\n",
      "Already have ADNI_131_S_0441_MR_MPR-R__GradWarp__B1_Correction__N3__Scaled_Br_20071226102634704_S25266_I86106.nii\n",
      "Already have ADNI_131_S_0441_MR_MPR-R__GradWarp__B1_Correction__N3__Scaled_Br_20070904214622866_S33587_I71664.nii\n"
     ]
    },
    {
     "name": "stdout",
     "output_type": "stream",
     "text": [
      "Already have ADNI_131_S_0441_MR_MPR__GradWarp__B1_Correction__N3__Scaled_Br_20070403135521962_S13681_I48029.nii\n",
      "Already have ADNI_131_S_0457_MR_MPR__GradWarp__B1_Correction__N3__Scaled_Br_20080225093858034_S13976_I92406.nii\n",
      "Already have ADNI_131_S_0457_MR_MPR__GradWarp__B1_Correction__N3__Scaled_Br_20070828151939852_S23386_I70885.nii\n",
      "Already have ADNI_131_S_0457_MR_MPR__GradWarp__B1_Correction__N3__Scaled_Br_20070912190916851_S35326_I72919.nii\n",
      "Already have ADNI_131_S_0497_MR_MPR__GradWarp__B1_Correction__N3__Scaled_Br_20070403140455408_S15315_I48038.nii\n",
      "Already have ADNI_131_S_0497_MR_MPR__GradWarp__B1_Correction__N3__Scaled_Br_20070828152815376_S24936_I70896.nii\n",
      "Already have ADNI_131_S_0497_MR_MPR__GradWarp__B1_Correction__N3__Scaled_Br_20070904215006186_S33777_I71669.nii\n",
      "Already have ADNI_131_S_1301_MR_MPR__GradWarp__B1_Correction__N3__Scaled_Br_20070801190324220_S26899_I63793.nii\n",
      "Already have ADNI_131_S_1301_MR_MPR__GradWarp__B1_Correction__N3__Scaled_Br_20080225194835961_S40835_I92735.nii\n",
      "Already have ADNI_131_S_1301_MR_MPR__GradWarp__B1_Correction__N3__Scaled_Br_20080415154122368_S47966_I102827.nii\n",
      "Already have ADNI_131_S_1389_MR_MPR__GradWarp__B1_Correction__N3__Scaled_Br_20071113183350057_S28232_I81972.nii\n",
      "Already have ADNI_131_S_1389_MR_MPR__GradWarp__B1_Correction__N3__Scaled_Br_20071125145322614_S41908_I83147.nii\n",
      "Already have ADNI_131_S_1389_MR_MPR__GradWarp__B1_Correction__N3__Scaled_Br_20080515123335944_S49258_I105791.nii\n",
      "Already have ADNI_132_S_0987_MR_MPR-R__GradWarp__N3__Scaled_Br_20071125150937353_S28506_I83166.nii\n",
      "Already have ADNI_132_S_0987_MR_MPR-R__GradWarp__N3__Scaled_Br_20071125151619058_S41898_I83173.nii\n",
      "Already have ADNI_132_S_0987_MR_MPR__GradWarp__N3__Scaled_Br_20080529133540708_S50300_I107726.nii\n",
      "Already have ADNI_133_S_0433_MR_MPR-R__GradWarp__B1_Correction__N3__Scaled_Br_20071111133200213_S23400_I81618.nii\n",
      "Already have ADNI_133_S_0433_MR_MPR-R__GradWarp__B1_Correction__N3__Scaled_2_Br_20081007151415575_S23400_I119482.nii\n",
      "Already have ADNI_133_S_0433_MR_MPR__GradWarp__B1_Correction__N3__Scaled_Br_20070213214704471_S13952_I39937.nii\n",
      "Already have ADNI_133_S_0433_MR_MPR__GradWarp__B1_Correction__N3__Scaled_Br_20070911122627369_S32028_I72540.nii\n",
      "Already have ADNI_133_S_0433_MR_MPR__GradWarp__B1_Correction__N3__Scaled_2_Br_20081007151218924_S13952_I119480.nii\n",
      "Already have ADNI_133_S_0433_MR_MPR__GradWarp__B1_Correction__N3__Scaled_2_Br_20081007151501886_S32028_I119483.nii\n",
      "Already have ADNI_133_S_0488_MR_MPR-R__GradWarp__B1_Correction__N3__Scaled_Br_20080207105631830_S34917_I89796.nii\n",
      "Already have ADNI_133_S_0488_MR_MPR-R__GradWarp__B1_Correction__N3__Scaled_2_Br_20081007152139409_S34917_I119490.nii\n",
      "Already have ADNI_133_S_0488_MR_MPR__GradWarp__B1_Correction__N3__Scaled_Br_20080602085848695_S14150_I107934.nii\n",
      "Already have ADNI_133_S_0488_MR_MPR__GradWarp__B1_Correction__N3__Scaled_Br_20120731112808229_S24271_I319786.nii\n",
      "Already have ADNI_133_S_0488_MR_MPR__GradWarp__B1_Correction__N3__Scaled_2_Br_20081007151746502_S14150_I119486.nii\n",
      "Already have ADNI_133_S_0488_MR_MPR__GradWarp__B1_Correction__N3__Scaled_2_Br_20081124143005809_S24271_I128367.nii\n",
      "Already have ADNI_133_S_0525_MR_MPR__GradWarp__B1_Correction__N3__Scaled_Br_20070213223142703_S14991_I39980.nii\n",
      "Already have ADNI_133_S_0525_MR_MPR__GradWarp__B1_Correction__N3__Scaled_Br_20070425175627188_S26013_I51034.nii\n",
      "Already have ADNI_133_S_0525_MR_MPR__GradWarp__B1_Correction__N3__Scaled_Br_20070912192224341_S36578_I72935.nii\n",
      "Already have ADNI_133_S_0525_MR_MPR__GradWarp__B1_Correction__N3__Scaled_2_Br_20081007153255245_S14991_I119510.nii\n",
      "Already have ADNI_133_S_0525_MR_MPR__GradWarp__B1_Correction__N3__Scaled_2_Br_20081007153448561_S26013_I119512.nii\n",
      "Already have ADNI_133_S_0525_MR_MPR__GradWarp__B1_Correction__N3__Scaled_2_Br_20081007153640778_S36578_I119514.nii\n",
      "Already have ADNI_133_S_0629_MR_MPR-R__GradWarp__B1_Correction__N3__Scaled_Br_20070219171645270_S15915_I40954.nii\n",
      "Already have ADNI_133_S_0629_MR_MPR-R__GradWarp__B1_Correction__N3__Scaled_2_Br_20081007153837873_S15915_I119520.nii\n",
      "Already have ADNI_133_S_0629_MR_MPR__GradWarp__B1_Correction__N3__Scaled_Br_20070425180950016_S25789_I51050.nii\n",
      "Already have ADNI_133_S_0629_MR_MPR__GradWarp__B1_Correction__N3__Scaled_Br_20080225192705988_S36337_I92705.nii\n",
      "Already have ADNI_133_S_0629_MR_MPR__GradWarp__B1_Correction__N3__Scaled_2_Br_20081007154038300_S25789_I119522.nii\n",
      "Already have ADNI_133_S_0629_MR_MPR__GradWarp__B1_Correction__N3__Scaled_2_Br_20081007154239409_S36337_I119524.nii\n",
      "Already have ADNI_133_S_0638_MR_MPR__GradWarp__B1_Correction__N3__Scaled_Br_20070813172348807_S16608_I67531.nii\n",
      "Already have ADNI_133_S_0638_MR_MPR__GradWarp__B1_Correction__N3__Scaled_Br_20071111124207561_S27348_I81551.nii\n",
      "Already have ADNI_133_S_0638_MR_MPR__GradWarp__B1_Correction__N3__Scaled_Br_20071028122213506_S39021_I79053.nii\n",
      "Already have ADNI_133_S_0638_MR_MPR__GradWarp__B1_Correction__N3__Scaled_2_Br_20081007154546255_S16608_I119527.nii\n",
      "Already have ADNI_133_S_0638_MR_MPR__GradWarp__B1_Correction__N3__Scaled_2_Br_20081007155147430_S27348_I119529.nii\n",
      "Already have ADNI_133_S_0638_MR_MPR__GradWarp__B1_Correction__N3__Scaled_2_Br_20081007155452275_S39021_I119532.nii\n",
      "Already have ADNI_133_S_0727_MR_MPR-R__GradWarp__B1_Correction__N3__Scaled_Br_20070809142438339_S18620_I66356.nii\n",
      "Already have ADNI_133_S_0727_MR_MPR-R__GradWarp__B1_Correction__N3__Scaled_2_Br_20081007155649642_S18620_I119534.nii\n",
      "Already have ADNI_133_S_0727_MR_MPR__GradWarp__B1_Correction__N3__Scaled_Br_20070801191948432_S28176_I63810.nii\n",
      "Already have ADNI_133_S_0727_MR_MPR__GradWarp__B1_Correction__N3__Scaled_Br_20080215174341360_S39528_I90632.nii\n",
      "Already have ADNI_133_S_0727_MR_MPR__GradWarp__B1_Correction__N3__Scaled_2_Br_20081007155948890_S28176_I119537.nii\n",
      "Already have ADNI_133_S_0727_MR_MPR__GradWarp__B1_Correction__N3__Scaled_2_Br_20081007160145422_S39528_I119539.nii\n",
      "Already have ADNI_133_S_0771_MR_MPR-R__GradWarp__B1_Correction__N3__Scaled_Br_20080224144914253_S18575_I92286.nii\n",
      "Already have ADNI_133_S_0771_MR_MPR-R__GradWarp__B1_Correction__N3__Scaled_Br_20080220161456133_S41411_I91189.nii\n",
      "Already have ADNI_133_S_0771_MR_MPR-R__GradWarp__B1_Correction__N3__Scaled_2_Br_20081008093133887_S18575_I119602.nii\n",
      "Already have ADNI_133_S_0771_MR_MPR-R__GradWarp__B1_Correction__N3__Scaled_2_Br_20081008093527039_S41411_I119606.nii\n",
      "Already have ADNI_133_S_0771_MR_MPR__GradWarp__B1_Correction__N3__Scaled_Br_20070911124904536_S29296_I72556.nii\n",
      "Already have ADNI_133_S_0771_MR_MPR__GradWarp__B1_Correction__N3__Scaled_2_Br_20081008093331018_S29296_I119604.nii\n",
      "Already have ADNI_133_S_0792_MR_MPR__GradWarp__B1_Correction__N3__Scaled_Br_20070809144234763_S18306_I66373.nii\n",
      "Already have ADNI_133_S_0792_MR_MPR__GradWarp__B1_Correction__N3__Scaled_Br_20071111125408319_S29222_I81567.nii\n",
      "Already have ADNI_133_S_0792_MR_MPR__GradWarp__B1_Correction__N3__Scaled_Br_20080225193909605_S39994_I92721.nii\n",
      "Already have ADNI_133_S_0792_MR_MPR__GradWarp__B1_Correction__N3__Scaled_2_Br_20081008093923385_S18306_I119610.nii\n",
      "Already have ADNI_133_S_0792_MR_MPR__GradWarp__B1_Correction__N3__Scaled_2_Br_20081008094227100_S29222_I119622.nii\n",
      "Already have ADNI_133_S_0792_MR_MPR__GradWarp__B1_Correction__N3__Scaled_2_Br_20081008094320096_S39994_I119623.nii\n",
      "Already have ADNI_133_S_0912_MR_MPR__GradWarp__B1_Correction__N3__Scaled_Br_20070213230551142_S19884_I40000.nii\n",
      "Already have ADNI_133_S_0912_MR_MPR__GradWarp__B1_Correction__N3__Scaled_Br_20070911130214375_S30156_I72565.nii\n",
      "Already have ADNI_133_S_0912_MR_MPR__GradWarp__B1_Correction__N3__Scaled_Br_20080123095443852_S42205_I88122.nii\n",
      "Already have ADNI_133_S_0912_MR_MPR__GradWarp__B1_Correction__N3__Scaled_2_Br_20081008094613870_S19884_I119626.nii\n",
      "Already have ADNI_133_S_0912_MR_MPR__GradWarp__B1_Correction__N3__Scaled_2_Br_20081008094920869_S30156_I119629.nii\n",
      "Already have ADNI_133_S_0912_MR_MPR__GradWarp__B1_Correction__N3__Scaled_2_Br_20081008095016127_S42205_I119630.nii\n",
      "Already have ADNI_133_S_0913_MR_MPR__GradWarp__B1_Correction__N3__Scaled_Br_20070801192845987_S24646_I63819.nii\n",
      "Already have ADNI_133_S_0913_MR_MPR__GradWarp__B1_Correction__N3__Scaled_Br_20080225185003300_S35319_I92637.nii\n",
      "Already have ADNI_133_S_0913_MR_MPR__GradWarp__B1_Correction__N3__Scaled_Br_20080320173317815_S44748_I99113.nii\n",
      "Already have ADNI_133_S_0913_MR_MPR__GradWarp__B1_Correction__N3__Scaled_2_Br_20081008095421377_S24646_I119634.nii\n",
      "Already have ADNI_133_S_0913_MR_MPR__GradWarp__B1_Correction__N3__Scaled_2_Br_20081008095615528_S35319_I119636.nii\n",
      "Already have ADNI_133_S_0913_MR_MPR__GradWarp__B1_Correction__N3__Scaled_2_Br_20081008095914066_S44748_I119639.nii\n",
      "Already have ADNI_136_S_0086_MR_MPR-R__GradWarp__B1_Correction__N3__Scaled_Br_20070809152344644_S13191_I66413.nii\n",
      "Already have ADNI_136_S_0086_MR_MPR-R__GradWarp__B1_Correction__N3__Scaled_2_Br_20081008132244391_S13191_I119678.nii\n",
      "Already have ADNI_136_S_0086_MR_MPR__GradWarp__B1_Correction__N3__Scaled_Br_20080123101315403_S21528_I88141.nii\n",
      "Already have ADNI_136_S_0086_MR_MPR__GradWarp__B1_Correction__N3__Scaled_Br_20070815110007343_S31414_I67771.nii\n",
      "Already have ADNI_136_S_0107_MR_MPR__GradWarp__B1_Correction__N3__Scaled_Br_20070215231549893_S11707_I40445.nii\n",
      "Already have ADNI_136_S_0107_MR_MPR__GradWarp__B1_Correction__N3__Scaled_Br_20070215230548725_S18343_I40437.nii\n",
      "Already have ADNI_136_S_0107_MR_MPR__GradWarp__B1_Correction__N3__Scaled_Br_20070809222554519_S27179_I66722.nii\n",
      "Already have ADNI_136_S_0107_MR_MPR__GradWarp__B1_Correction__N3__Scaled_2_Br_20081008132433778_S11707_I119701.nii\n",
      "Already have ADNI_136_S_0107_MR_MPR__GradWarp__B1_Correction__N3__Scaled_2_Br_20081008132525338_S18343_I119710.nii\n",
      "Already have ADNI_136_S_0184_MR_MPR-R__GradWarp__B1_Correction__N3__Scaled_Br_20080123102530776_S18587_I88154.nii\n",
      "Already have ADNI_136_S_0184_MR_MPR-R__GradWarp__B1_Correction__N3__Scaled_2_Br_20081008132811727_S18587_I119713.nii\n",
      "Already have ADNI_136_S_0184_MR_MPR__GradWarp__B1_Correction__N3__Scaled_Br_20070215173137879_S11974_I40179.nii\n",
      "Already have ADNI_136_S_0184_MR_MPR__GradWarp__B1_Correction__N3__Scaled_Br_20071129175605515_S28306_I83849.nii\n",
      "Already have ADNI_136_S_0184_MR_MPR__GradWarp__B1_Correction__N3__Scaled_2_Br_20081008132617918_S11974_I119711.nii\n",
      "Already have ADNI_136_S_0186_MR_MPR-R__GradWarp__B1_Correction__N3__Scaled_Br_20070215182035702_S19320_I40223.nii\n",
      "Already have ADNI_136_S_0186_MR_MPR-R__GradWarp__B1_Correction__N3__Scaled_2_Br_20081008133102292_S19320_I119716.nii\n",
      "Already have ADNI_136_S_0186_MR_MPR__GradWarp__B1_Correction__N3__Scaled_Br_20070215175726720_S11774_I40201.nii\n",
      "Already have ADNI_136_S_0186_MR_MPR__GradWarp__B1_Correction__N3__Scaled_Br_20070809153157982_S27525_I66418.nii\n",
      "Already have ADNI_136_S_0186_MR_MPR__GradWarp__B1_Correction__N3__Scaled_2_Br_20081008133006142_S11774_I119715.nii\n",
      "Already have ADNI_136_S_0194_MR_MPR-R__GradWarp__B1_Correction__N3__Scaled_Br_20070215183625381_S13178_I40239.nii\n",
      "Already have ADNI_136_S_0194_MR_MPR-R__GradWarp__B1_Correction__N3__Scaled_Br_20071226101923483_S20331_I86097.nii\n",
      "Already have ADNI_136_S_0194_MR_MPR-R__GradWarp__B1_Correction__N3__Scaled_2_Br_20081008133147404_S13178_I119717.nii\n",
      "Already have ADNI_136_S_0194_MR_MPR-R__GradWarp__B1_Correction__N3__Scaled_2_Br_20081008133332716_S20331_I119719.nii\n",
      "Already have ADNI_136_S_0194_MR_MPR__GradWarp__B1_Correction__N3__Scaled_Br_20070809223519238_S29207_I66731.nii\n",
      "Already have ADNI_136_S_0195_MR_MPR-R__GradWarp__B1_Correction__N3__Scaled_Br_20071111131504425_S29004_I81596.nii\n",
      "Already have ADNI_136_S_0195_MR_MPR__GradWarp__B1_Correction__N3__Scaled_Br_20070215232522388_S12523_I40452.nii\n",
      "Already have ADNI_136_S_0195_MR_MPR__GradWarp__B1_Correction__N3__Scaled_Br_20080220162408455_S19599_I91201.nii\n",
      "Already have ADNI_136_S_0195_MR_MPR__GradWarp__B1_Correction__N3__Scaled_2_Br_20081008133424993_S12523_I119720.nii\n",
      "Already have ADNI_136_S_0195_MR_MPR__GradWarp__B1_Correction__N3__Scaled_2_Br_20081008133619048_S19599_I119722.nii\n",
      "Already have ADNI_136_S_0196_MR_MPR-R__GradWarp__B1_Correction__N3__Scaled_Br_20070215194926219_S20812_I40292.nii\n",
      "Already have ADNI_136_S_0196_MR_MPR__GradWarp__B1_Correction__N3__Scaled_Br_20070215190453184_S13253_I40260.nii\n",
      "Already have ADNI_136_S_0196_MR_MPR__GradWarp__B1_Correction__N3__Scaled_Br_20070801193753778_S31861_I63828.nii\n",
      "Already have ADNI_136_S_0196_MR_MPR__GradWarp__B1_Correction__N3__Scaled_2_Br_20081008133754567_S13253_I119724.nii\n",
      "Already have ADNI_136_S_0299_MR_MPR__GradWarp__B1_Correction__N3__Scaled_Br_20070215202408595_S13839_I40312.nii\n",
      "Already have ADNI_136_S_0299_MR_MPR__GradWarp__B1_Correction__N3__Scaled_Br_20070215200838637_S22267_I40303.nii\n",
      "Already have ADNI_136_S_0299_MR_MPR__GradWarp__B1_Correction__N3__Scaled_Br_20070809224840242_S32246_I66745.nii\n",
      "Already have ADNI_136_S_0299_MR_MPR__GradWarp__B1_Correction__N3__Scaled_2_Br_20081008133944436_S13839_I119726.nii\n",
      "Already have ADNI_136_S_0300_MR_MPR__GradWarp__B1_Correction__N3__Scaled_Br_20070215205110923_S14136_I40328.nii\n",
      "Already have ADNI_136_S_0300_MR_MPR__GradWarp__B1_Correction__N3__Scaled_Br_20071111131837357_S22632_I81601.nii\n",
      "Already have ADNI_136_S_0300_MR_MPR__GradWarp__B1_Correction__N3__Scaled_Br_20070809230217163_S32746_I66759.nii\n",
      "Already have ADNI_136_S_0300_MR_MPR__GradWarp__B1_Correction__N3__Scaled_2_Br_20081008134134874_S14136_I119728.nii\n",
      "Already have ADNI_136_S_0426_MR_MPR__GradWarp__B1_Correction__N3__Scaled_Br_20070215211810806_S14581_I40356.nii\n",
      "Already have ADNI_136_S_0426_MR_MPR__GradWarp__B1_Correction__N3__Scaled_Br_20071111132530243_S23220_I81610.nii\n",
      "Already have ADNI_136_S_0426_MR_MPR__GradWarp__B1_Correction__N3__Scaled_Br_20070809232009444_S32980_I66778.nii\n",
      "Already have ADNI_136_S_0426_MR_MPR__GradWarp__B1_Correction__N3__Scaled_2_Br_20081008134327484_S14581_I119730.nii\n",
      "Already have ADNI_136_S_0429_MR_MPR-R__GradWarp__B1_Correction__N3__Scaled_Br_20070215220055664_S15534_I40387.nii\n",
      "Already have ADNI_136_S_0429_MR_MPR-R__GradWarp__B1_Correction__N3__Scaled_2_Br_20081008134519138_S15534_I119732.nii\n",
      "Already have ADNI_136_S_0429_MR_MPR__GradWarp__B1_Correction__N3__Scaled_Br_20070809233422184_S24232_I66792.nii\n",
      "Already have ADNI_136_S_0429_MR_MPR__GradWarp__B1_Correction__N3__Scaled_Br_20070809234826766_S33724_I66806.nii\n",
      "Running ADNI_136_S_0579_MR_MPR-R__GradWarp__B1_Correction__N3__Scaled_Br_20070810180746061_S24877_I67010.nii\n"
     ]
    },
    {
     "name": "stderr",
     "output_type": "stream",
     "text": [
      "stty: 'standard input': Inappropriate ioctl for device\n",
      "stty: 'standard input': Inappropriate ioctl for device\n",
      "stty: 'standard input': Inappropriate ioctl for device\n",
      "stty: 'standard input': Inappropriate ioctl for device\n",
      "stty: 'standard input': Inappropriate ioctl for device\n",
      "stty: 'standard input': Inappropriate ioctl for device\n"
     ]
    },
    {
     "name": "stdout",
     "output_type": "stream",
     "text": [
      "Running ADNI_136_S_0579_MR_MPR__GradWarp__B1_Correction__N3__Scaled_Br_20070215222551779_S15952_I40410.nii\n"
     ]
    },
    {
     "name": "stderr",
     "output_type": "stream",
     "text": [
      "stty: 'standard input': Inappropriate ioctl for device\n",
      "stty: 'standard input': Inappropriate ioctl for device\n",
      "stty: 'standard input': Inappropriate ioctl for device\n",
      "stty: 'standard input': Inappropriate ioctl for device\n",
      "stty: 'standard input': Inappropriate ioctl for device\n",
      "stty: 'standard input': Inappropriate ioctl for device\n"
     ]
    },
    {
     "name": "stdout",
     "output_type": "stream",
     "text": [
      "Running ADNI_136_S_0579_MR_MPR__GradWarp__B1_Correction__N3__Scaled_Br_20070810181240221_S33995_I67015.nii\n"
     ]
    },
    {
     "name": "stderr",
     "output_type": "stream",
     "text": [
      "stty: 'standard input': Inappropriate ioctl for device\n",
      "stty: 'standard input': Inappropriate ioctl for device\n",
      "stty: 'standard input': Inappropriate ioctl for device\n",
      "stty: 'standard input': Inappropriate ioctl for device\n",
      "stty: 'standard input': Inappropriate ioctl for device\n",
      "stty: 'standard input': Inappropriate ioctl for device\n"
     ]
    },
    {
     "name": "stdout",
     "output_type": "stream",
     "text": [
      "Running ADNI_136_S_0579_MR_MPR__GradWarp__B1_Correction__N3__Scaled_2_Br_20081008134713186_S15952_I119734.nii\n"
     ]
    },
    {
     "name": "stderr",
     "output_type": "stream",
     "text": [
      "stty: 'standard input': Inappropriate ioctl for device\n",
      "stty: 'standard input': Inappropriate ioctl for device\n",
      "stty: 'standard input': Inappropriate ioctl for device\n",
      "stty: 'standard input': Inappropriate ioctl for device\n",
      "stty: 'standard input': Inappropriate ioctl for device\n",
      "stty: 'standard input': Inappropriate ioctl for device\n"
     ]
    },
    {
     "name": "stdout",
     "output_type": "stream",
     "text": [
      "Running ADNI_136_S_0695_MR_MPR-R__GradWarp__B1_Correction__N3__Scaled_Br_20070911132602331_S29253_I72587.nii\n"
     ]
    },
    {
     "name": "stderr",
     "output_type": "stream",
     "text": [
      "stty: 'standard input': Inappropriate ioctl for device\n",
      "stty: 'standard input': Inappropriate ioctl for device\n",
      "stty: 'standard input': Inappropriate ioctl for device\n",
      "stty: 'standard input': Inappropriate ioctl for device\n",
      "stty: 'standard input': Inappropriate ioctl for device\n",
      "stty: 'standard input': Inappropriate ioctl for device\n"
     ]
    },
    {
     "name": "stdout",
     "output_type": "stream",
     "text": [
      "Running ADNI_136_S_0695_MR_MPR__GradWarp__B1_Correction__N3__Scaled_Br_20070828160458817_S19019_I70924.nii\n"
     ]
    },
    {
     "name": "stderr",
     "output_type": "stream",
     "text": [
      "stty: 'standard input': Inappropriate ioctl for device\n",
      "stty: 'standard input': Inappropriate ioctl for device\n",
      "stty: 'standard input': Inappropriate ioctl for device\n",
      "stty: 'standard input': Inappropriate ioctl for device\n",
      "stty: 'standard input': Inappropriate ioctl for device\n",
      "stty: 'standard input': Inappropriate ioctl for device\n"
     ]
    },
    {
     "name": "stdout",
     "output_type": "stream",
     "text": [
      "Running ADNI_136_S_0695_MR_MPR__GradWarp__B1_Correction__N3__Scaled_Br_20071110123649456_S39345_I81463.nii\n"
     ]
    },
    {
     "name": "stderr",
     "output_type": "stream",
     "text": [
      "stty: 'standard input': Inappropriate ioctl for device\n",
      "stty: 'standard input': Inappropriate ioctl for device\n",
      "stty: 'standard input': Inappropriate ioctl for device\n",
      "stty: 'standard input': Inappropriate ioctl for device\n",
      "stty: 'standard input': Inappropriate ioctl for device\n",
      "stty: 'standard input': Inappropriate ioctl for device\n"
     ]
    },
    {
     "name": "stdout",
     "output_type": "stream",
     "text": [
      "Running ADNI_136_S_0695_MR_MPR__GradWarp__B1_Correction__N3__Scaled_2_Br_20081008134904920_S19019_I119736.nii\n"
     ]
    },
    {
     "name": "stderr",
     "output_type": "stream",
     "text": [
      "stty: 'standard input': Inappropriate ioctl for device\n",
      "stty: 'standard input': Inappropriate ioctl for device\n",
      "stty: 'standard input': Inappropriate ioctl for device\n",
      "stty: 'standard input': Inappropriate ioctl for device\n",
      "stty: 'standard input': Inappropriate ioctl for device\n",
      "stty: 'standard input': Inappropriate ioctl for device\n"
     ]
    },
    {
     "name": "stdout",
     "output_type": "stream",
     "text": [
      "Running ADNI_136_S_0873_MR_MPR-R__GradWarp__B1_Correction__N3__Scaled_Br_20080207111056104_S30555_I89821.nii\n"
     ]
    },
    {
     "name": "stderr",
     "output_type": "stream",
     "text": [
      "stty: 'standard input': Inappropriate ioctl for device\n",
      "stty: 'standard input': Inappropriate ioctl for device\n",
      "stty: 'standard input': Inappropriate ioctl for device\n",
      "stty: 'standard input': Inappropriate ioctl for device\n",
      "stty: 'standard input': Inappropriate ioctl for device\n",
      "stty: 'standard input': Inappropriate ioctl for device\n"
     ]
    },
    {
     "name": "stdout",
     "output_type": "stream",
     "text": [
      "Running ADNI_136_S_0873_MR_MPR__GradWarp__B1_Correction__N3__Scaled_Br_20080123104442046_S41982_I88174.nii\n"
     ]
    },
    {
     "name": "stderr",
     "output_type": "stream",
     "text": [
      "stty: 'standard input': Inappropriate ioctl for device\n",
      "stty: 'standard input': Inappropriate ioctl for device\n",
      "stty: 'standard input': Inappropriate ioctl for device\n",
      "stty: 'standard input': Inappropriate ioctl for device\n",
      "stty: 'standard input': Inappropriate ioctl for device\n",
      "stty: 'standard input': Inappropriate ioctl for device\n"
     ]
    },
    {
     "name": "stdout",
     "output_type": "stream",
     "text": [
      "Running ADNI_136_S_0873_MR_MPR__GradWarp__N3__Scaled_Br_20080307185908451_S19616_I96178.nii\n"
     ]
    },
    {
     "name": "stderr",
     "output_type": "stream",
     "text": [
      "stty: 'standard input': Inappropriate ioctl for device\n",
      "stty: 'standard input': Inappropriate ioctl for device\n",
      "stty: 'standard input': Inappropriate ioctl for device\n",
      "stty: 'standard input': Inappropriate ioctl for device\n",
      "stty: 'standard input': Inappropriate ioctl for device\n",
      "stty: 'standard input': Inappropriate ioctl for device\n"
     ]
    },
    {
     "name": "stdout",
     "output_type": "stream",
     "text": [
      "Running ADNI_136_S_0873_MR_MPR__GradWarp__N3__Scaled_2_Br_20081008135000633_S19616_I119737.nii\n"
     ]
    },
    {
     "name": "stderr",
     "output_type": "stream",
     "text": [
      "stty: 'standard input': Inappropriate ioctl for device\n",
      "stty: 'standard input': Inappropriate ioctl for device\n",
      "stty: 'standard input': Inappropriate ioctl for device\n",
      "stty: 'standard input': Inappropriate ioctl for device\n",
      "stty: 'standard input': Inappropriate ioctl for device\n",
      "stty: 'standard input': Inappropriate ioctl for device\n"
     ]
    },
    {
     "name": "stdout",
     "output_type": "stream",
     "text": [
      "Running ADNI_136_S_0874_MR_MPR__GradWarp__B1_Correction__N3__Scaled_Br_20070215224044149_S22234_I40419.nii\n"
     ]
    },
    {
     "name": "stderr",
     "output_type": "stream",
     "text": [
      "stty: 'standard input': Inappropriate ioctl for device\n",
      "stty: 'standard input': Inappropriate ioctl for device\n",
      "stty: 'standard input': Inappropriate ioctl for device\n",
      "stty: 'standard input': Inappropriate ioctl for device\n",
      "stty: 'standard input': Inappropriate ioctl for device\n",
      "stty: 'standard input': Inappropriate ioctl for device\n"
     ]
    },
    {
     "name": "stdout",
     "output_type": "stream",
     "text": [
      "Running ADNI_136_S_0874_MR_MPR__GradWarp__B1_Correction__N3__Scaled_Br_20070809235812963_S33049_I66815.nii\n"
     ]
    },
    {
     "name": "stderr",
     "output_type": "stream",
     "text": [
      "stty: 'standard input': Inappropriate ioctl for device\n",
      "stty: 'standard input': Inappropriate ioctl for device\n",
      "stty: 'standard input': Inappropriate ioctl for device\n",
      "stty: 'standard input': Inappropriate ioctl for device\n",
      "stty: 'standard input': Inappropriate ioctl for device\n",
      "stty: 'standard input': Inappropriate ioctl for device\n"
     ]
    },
    {
     "name": "stdout",
     "output_type": "stream",
     "text": [
      "Running ADNI_136_S_0874_MR_MPR__GradWarp__B1_Correction__N3__Scaled_Br_20071219172136053_S42871_I85659.nii\n"
     ]
    },
    {
     "name": "stderr",
     "output_type": "stream",
     "text": [
      "stty: 'standard input': Inappropriate ioctl for device\n",
      "stty: 'standard input': Inappropriate ioctl for device\n",
      "stty: 'standard input': Inappropriate ioctl for device\n",
      "stty: 'standard input': Inappropriate ioctl for device\n",
      "stty: 'standard input': Inappropriate ioctl for device\n",
      "stty: 'standard input': Inappropriate ioctl for device\n"
     ]
    },
    {
     "name": "stdout",
     "output_type": "stream",
     "text": [
      "Running ADNI_136_S_1227_MR_MPR-R__GradWarp__B1_Correction__N3__Scaled_Br_20071028124512513_S38553_I79075.nii\n"
     ]
    },
    {
     "name": "stderr",
     "output_type": "stream",
     "text": [
      "stty: 'standard input': Inappropriate ioctl for device\n",
      "stty: 'standard input': Inappropriate ioctl for device\n",
      "stty: 'standard input': Inappropriate ioctl for device\n",
      "stty: 'standard input': Inappropriate ioctl for device\n",
      "stty: 'standard input': Inappropriate ioctl for device\n",
      "stty: 'standard input': Inappropriate ioctl for device\n"
     ]
    },
    {
     "name": "stdout",
     "output_type": "stream",
     "text": [
      "Running ADNI_136_S_1227_MR_MPR-R__GradWarp__B1_Correction__N3__Scaled_Br_20080321161026462_S46741_I99279.nii\n"
     ]
    },
    {
     "name": "stderr",
     "output_type": "stream",
     "text": [
      "stty: 'standard input': Inappropriate ioctl for device\n",
      "stty: 'standard input': Inappropriate ioctl for device\n",
      "stty: 'standard input': Inappropriate ioctl for device\n",
      "stty: 'standard input': Inappropriate ioctl for device\n",
      "stty: 'standard input': Inappropriate ioctl for device\n",
      "stty: 'standard input': Inappropriate ioctl for device\n"
     ]
    },
    {
     "name": "stdout",
     "output_type": "stream",
     "text": [
      "Running ADNI_136_S_1227_MR_MPR__GradWarp__B1_Correction__N3__Scaled_Br_20070801194727811_S26399_I63838.nii\n"
     ]
    },
    {
     "name": "stderr",
     "output_type": "stream",
     "text": [
      "stty: 'standard input': Inappropriate ioctl for device\n",
      "stty: 'standard input': Inappropriate ioctl for device\n",
      "stty: 'standard input': Inappropriate ioctl for device\n",
      "stty: 'standard input': Inappropriate ioctl for device\n",
      "stty: 'standard input': Inappropriate ioctl for device\n",
      "stty: 'standard input': Inappropriate ioctl for device\n"
     ]
    },
    {
     "name": "stdout",
     "output_type": "stream",
     "text": [
      "Running ADNI_137_S_0158_MR_MPR__GradWarp__N3__Scaled_Br_20070321170559168_S11648_I45872.nii\n"
     ]
    },
    {
     "name": "stderr",
     "output_type": "stream",
     "text": [
      "stty: 'standard input': Inappropriate ioctl for device\n",
      "stty: 'standard input': Inappropriate ioctl for device\n",
      "stty: 'standard input': Inappropriate ioctl for device\n",
      "stty: 'standard input': Inappropriate ioctl for device\n",
      "stty: 'standard input': Inappropriate ioctl for device\n",
      "stty: 'standard input': Inappropriate ioctl for device\n"
     ]
    },
    {
     "name": "stdout",
     "output_type": "stream",
     "text": [
      "Running ADNI_137_S_0158_MR_MPR__GradWarp__N3__Scaled_Br_20070306171702344_S20209_I42985.nii\n"
     ]
    },
    {
     "name": "stderr",
     "output_type": "stream",
     "text": [
      "stty: 'standard input': Inappropriate ioctl for device\n",
      "stty: 'standard input': Inappropriate ioctl for device\n",
      "stty: 'standard input': Inappropriate ioctl for device\n",
      "stty: 'standard input': Inappropriate ioctl for device\n",
      "stty: 'standard input': Inappropriate ioctl for device\n",
      "stty: 'standard input': Inappropriate ioctl for device\n"
     ]
    },
    {
     "name": "stdout",
     "output_type": "stream",
     "text": [
      "Running ADNI_137_S_0158_MR_MPR__GradWarp__N3__Scaled_Br_20070808205321838_S29050_I66199.nii\n"
     ]
    },
    {
     "name": "stderr",
     "output_type": "stream",
     "text": [
      "stty: 'standard input': Inappropriate ioctl for device\n",
      "stty: 'standard input': Inappropriate ioctl for device\n",
      "stty: 'standard input': Inappropriate ioctl for device\n",
      "stty: 'standard input': Inappropriate ioctl for device\n",
      "stty: 'standard input': Inappropriate ioctl for device\n",
      "stty: 'standard input': Inappropriate ioctl for device\n"
     ]
    },
    {
     "name": "stdout",
     "output_type": "stream",
     "text": [
      "Running ADNI_137_S_0283_MR_MPR-R__GradWarp__N3__Scaled_Br_20070810182546038_S31798_I67027.nii\n"
     ]
    },
    {
     "name": "stderr",
     "output_type": "stream",
     "text": [
      "stty: 'standard input': Inappropriate ioctl for device\n",
      "stty: 'standard input': Inappropriate ioctl for device\n",
      "stty: 'standard input': Inappropriate ioctl for device\n",
      "stty: 'standard input': Inappropriate ioctl for device\n",
      "stty: 'standard input': Inappropriate ioctl for device\n",
      "stty: 'standard input': Inappropriate ioctl for device\n"
     ]
    },
    {
     "name": "stdout",
     "output_type": "stream",
     "text": [
      "Running ADNI_137_S_0283_MR_MPR__GradWarp__N3__Scaled_Br_20070809154734674_S12218_I66428.nii\n"
     ]
    },
    {
     "name": "stderr",
     "output_type": "stream",
     "text": [
      "stty: 'standard input': Inappropriate ioctl for device\n",
      "stty: 'standard input': Inappropriate ioctl for device\n",
      "stty: 'standard input': Inappropriate ioctl for device\n",
      "stty: 'standard input': Inappropriate ioctl for device\n",
      "stty: 'standard input': Inappropriate ioctl for device\n",
      "stty: 'standard input': Inappropriate ioctl for device\n"
     ]
    },
    {
     "name": "stdout",
     "output_type": "stream",
     "text": [
      "Running ADNI_137_S_0283_MR_MPR__GradWarp__N3__Scaled_Br_20070812153443163_S21356_I67275.nii\n"
     ]
    },
    {
     "name": "stderr",
     "output_type": "stream",
     "text": [
      "stty: 'standard input': Inappropriate ioctl for device\n",
      "stty: 'standard input': Inappropriate ioctl for device\n",
      "stty: 'standard input': Inappropriate ioctl for device\n",
      "stty: 'standard input': Inappropriate ioctl for device\n",
      "stty: 'standard input': Inappropriate ioctl for device\n",
      "stty: 'standard input': Inappropriate ioctl for device\n"
     ]
    },
    {
     "name": "stdout",
     "output_type": "stream",
     "text": [
      "Running ADNI_137_S_0301_MR_MPR__GradWarp__N3__Scaled_Br_20070321171902017_S12563_I45881.nii\n"
     ]
    },
    {
     "name": "stderr",
     "output_type": "stream",
     "text": [
      "stty: 'standard input': Inappropriate ioctl for device\n",
      "stty: 'standard input': Inappropriate ioctl for device\n",
      "stty: 'standard input': Inappropriate ioctl for device\n",
      "stty: 'standard input': Inappropriate ioctl for device\n",
      "stty: 'standard input': Inappropriate ioctl for device\n",
      "stty: 'standard input': Inappropriate ioctl for device\n"
     ]
    },
    {
     "name": "stdout",
     "output_type": "stream",
     "text": [
      "Running ADNI_137_S_0301_MR_MPR__GradWarp__N3__Scaled_Br_20070321173353204_S21513_I45894.nii\n"
     ]
    },
    {
     "name": "stderr",
     "output_type": "stream",
     "text": [
      "stty: 'standard input': Inappropriate ioctl for device\n",
      "stty: 'standard input': Inappropriate ioctl for device\n",
      "stty: 'standard input': Inappropriate ioctl for device\n",
      "stty: 'standard input': Inappropriate ioctl for device\n",
      "stty: 'standard input': Inappropriate ioctl for device\n",
      "stty: 'standard input': Inappropriate ioctl for device\n"
     ]
    },
    {
     "name": "stdout",
     "output_type": "stream",
     "text": [
      "Running ADNI_137_S_0301_MR_MPR__GradWarp__N3__Scaled_Br_20080131112324995_S31819_I89089.nii\n"
     ]
    },
    {
     "name": "stderr",
     "output_type": "stream",
     "text": [
      "stty: 'standard input': Inappropriate ioctl for device\n",
      "stty: 'standard input': Inappropriate ioctl for device\n",
      "stty: 'standard input': Inappropriate ioctl for device\n",
      "stty: 'standard input': Inappropriate ioctl for device\n",
      "stty: 'standard input': Inappropriate ioctl for device\n",
      "stty: 'standard input': Inappropriate ioctl for device\n"
     ]
    },
    {
     "name": "stdout",
     "output_type": "stream",
     "text": [
      "Running ADNI_137_S_0443_MR_MPR__GradWarp__N3__Scaled_Br_20070323163855614_S15548_I46622.nii\n"
     ]
    },
    {
     "name": "stderr",
     "output_type": "stream",
     "text": [
      "stty: 'standard input': Inappropriate ioctl for device\n",
      "stty: 'standard input': Inappropriate ioctl for device\n",
      "stty: 'standard input': Inappropriate ioctl for device\n",
      "stty: 'standard input': Inappropriate ioctl for device\n",
      "stty: 'standard input': Inappropriate ioctl for device\n",
      "stty: 'standard input': Inappropriate ioctl for device\n"
     ]
    },
    {
     "name": "stdout",
     "output_type": "stream",
     "text": [
      "Running ADNI_137_S_0443_MR_MPR__GradWarp__N3__Scaled_Br_20070808211330155_S27311_I66213.nii\n"
     ]
    },
    {
     "name": "stderr",
     "output_type": "stream",
     "text": [
      "stty: 'standard input': Inappropriate ioctl for device\n",
      "stty: 'standard input': Inappropriate ioctl for device\n",
      "stty: 'standard input': Inappropriate ioctl for device\n",
      "stty: 'standard input': Inappropriate ioctl for device\n",
      "stty: 'standard input': Inappropriate ioctl for device\n",
      "stty: 'standard input': Inappropriate ioctl for device\n"
     ]
    },
    {
     "name": "stdout",
     "output_type": "stream",
     "text": [
      "Running ADNI_137_S_0443_MR_MPR__GradWarp__N3__Scaled_Br_20071028204533199_S37005_I79268.nii\n"
     ]
    },
    {
     "name": "stderr",
     "output_type": "stream",
     "text": [
      "stty: 'standard input': Inappropriate ioctl for device\n",
      "stty: 'standard input': Inappropriate ioctl for device\n",
      "stty: 'standard input': Inappropriate ioctl for device\n",
      "stty: 'standard input': Inappropriate ioctl for device\n",
      "stty: 'standard input': Inappropriate ioctl for device\n",
      "stty: 'standard input': Inappropriate ioctl for device\n"
     ]
    },
    {
     "name": "stdout",
     "output_type": "stream",
     "text": [
      "Running ADNI_137_S_0459_MR_MPR__GradWarp__N3__Scaled_Br_20070323165301159_S13737_I46629.nii\n"
     ]
    },
    {
     "name": "stderr",
     "output_type": "stream",
     "text": [
      "stty: 'standard input': Inappropriate ioctl for device\n",
      "stty: 'standard input': Inappropriate ioctl for device\n",
      "stty: 'standard input': Inappropriate ioctl for device\n",
      "stty: 'standard input': Inappropriate ioctl for device\n",
      "stty: 'standard input': Inappropriate ioctl for device\n",
      "stty: 'standard input': Inappropriate ioctl for device\n"
     ]
    },
    {
     "name": "stdout",
     "output_type": "stream",
     "text": [
      "Running ADNI_137_S_0459_MR_MPR__GradWarp__N3__Scaled_Br_20070306172820274_S22519_I42992.nii\n"
     ]
    },
    {
     "name": "stderr",
     "output_type": "stream",
     "text": [
      "stty: 'standard input': Inappropriate ioctl for device\n",
      "stty: 'standard input': Inappropriate ioctl for device\n",
      "stty: 'standard input': Inappropriate ioctl for device\n",
      "stty: 'standard input': Inappropriate ioctl for device\n",
      "stty: 'standard input': Inappropriate ioctl for device\n",
      "stty: 'standard input': Inappropriate ioctl for device\n"
     ]
    },
    {
     "name": "stdout",
     "output_type": "stream",
     "text": [
      "Running ADNI_137_S_0459_MR_MPR__GradWarp__N3__Scaled_Br_20080131113020577_S32374_I89096.nii\n"
     ]
    },
    {
     "name": "stderr",
     "output_type": "stream",
     "text": [
      "stty: 'standard input': Inappropriate ioctl for device\n",
      "stty: 'standard input': Inappropriate ioctl for device\n",
      "stty: 'standard input': Inappropriate ioctl for device\n",
      "stty: 'standard input': Inappropriate ioctl for device\n",
      "stty: 'standard input': Inappropriate ioctl for device\n",
      "stty: 'standard input': Inappropriate ioctl for device\n"
     ]
    },
    {
     "name": "stdout",
     "output_type": "stream",
     "text": [
      "Running ADNI_137_S_0481_MR_MPR-R__GradWarp__N3__Scaled_Br_20070323173638661_S14293_I46647.nii\n"
     ]
    },
    {
     "name": "stderr",
     "output_type": "stream",
     "text": [
      "stty: 'standard input': Inappropriate ioctl for device\n",
      "stty: 'standard input': Inappropriate ioctl for device\n",
      "stty: 'standard input': Inappropriate ioctl for device\n",
      "stty: 'standard input': Inappropriate ioctl for device\n",
      "stty: 'standard input': Inappropriate ioctl for device\n",
      "stty: 'standard input': Inappropriate ioctl for device\n"
     ]
    },
    {
     "name": "stdout",
     "output_type": "stream",
     "text": [
      "Running ADNI_137_S_0481_MR_MPR__GradWarp__N3__Scaled_Br_20070321180317079_S23576_I45920.nii\n"
     ]
    },
    {
     "name": "stderr",
     "output_type": "stream",
     "text": [
      "stty: 'standard input': Inappropriate ioctl for device\n",
      "stty: 'standard input': Inappropriate ioctl for device\n",
      "stty: 'standard input': Inappropriate ioctl for device\n",
      "stty: 'standard input': Inappropriate ioctl for device\n",
      "stty: 'standard input': Inappropriate ioctl for device\n",
      "stty: 'standard input': Inappropriate ioctl for device\n"
     ]
    },
    {
     "name": "stdout",
     "output_type": "stream",
     "text": [
      "Running ADNI_137_S_0481_MR_MPR__GradWarp__N3__Scaled_Br_20080131113709909_S32582_I89103.nii\n"
     ]
    },
    {
     "name": "stderr",
     "output_type": "stream",
     "text": [
      "stty: 'standard input': Inappropriate ioctl for device\n",
      "stty: 'standard input': Inappropriate ioctl for device\n",
      "stty: 'standard input': Inappropriate ioctl for device\n",
      "stty: 'standard input': Inappropriate ioctl for device\n",
      "stty: 'standard input': Inappropriate ioctl for device\n",
      "stty: 'standard input': Inappropriate ioctl for device\n"
     ]
    },
    {
     "name": "stdout",
     "output_type": "stream",
     "text": [
      "Running ADNI_137_S_0631_MR_MPR-R__GradWarp__N3__Scaled_Br_20070808213650334_S36258_I66230.nii\n"
     ]
    },
    {
     "name": "stderr",
     "output_type": "stream",
     "text": [
      "stty: 'standard input': Inappropriate ioctl for device\n",
      "stty: 'standard input': Inappropriate ioctl for device\n",
      "stty: 'standard input': Inappropriate ioctl for device\n",
      "stty: 'standard input': Inappropriate ioctl for device\n",
      "stty: 'standard input': Inappropriate ioctl for device\n",
      "stty: 'standard input': Inappropriate ioctl for device\n"
     ]
    },
    {
     "name": "stdout",
     "output_type": "stream",
     "text": [
      "Running ADNI_137_S_0631_MR_MPR__GradWarp__N3__Scaled_Br_20070323174408307_S15598_I46655.nii\n"
     ]
    },
    {
     "name": "stderr",
     "output_type": "stream",
     "text": [
      "stty: 'standard input': Inappropriate ioctl for device\n",
      "stty: 'standard input': Inappropriate ioctl for device\n",
      "stty: 'standard input': Inappropriate ioctl for device\n",
      "stty: 'standard input': Inappropriate ioctl for device\n",
      "stty: 'standard input': Inappropriate ioctl for device\n",
      "stty: 'standard input': Inappropriate ioctl for device\n"
     ]
    },
    {
     "name": "stdout",
     "output_type": "stream",
     "text": [
      "Running ADNI_137_S_0631_MR_MPR__GradWarp__N3__Scaled_Br_20070808212232442_S25196_I66220.nii\n"
     ]
    },
    {
     "name": "stderr",
     "output_type": "stream",
     "text": [
      "stty: 'standard input': Inappropriate ioctl for device\n",
      "stty: 'standard input': Inappropriate ioctl for device\n",
      "stty: 'standard input': Inappropriate ioctl for device\n",
      "stty: 'standard input': Inappropriate ioctl for device\n",
      "stty: 'standard input': Inappropriate ioctl for device\n",
      "stty: 'standard input': Inappropriate ioctl for device\n"
     ]
    },
    {
     "name": "stdout",
     "output_type": "stream",
     "text": [
      "Running ADNI_137_S_0668_MR_MPR__GradWarp__N3__Scaled_Br_20070306174129400_S17610_I43001.nii\n"
     ]
    },
    {
     "name": "stderr",
     "output_type": "stream",
     "text": [
      "stty: 'standard input': Inappropriate ioctl for device\n",
      "stty: 'standard input': Inappropriate ioctl for device\n",
      "stty: 'standard input': Inappropriate ioctl for device\n",
      "stty: 'standard input': Inappropriate ioctl for device\n",
      "stty: 'standard input': Inappropriate ioctl for device\n",
      "stty: 'standard input': Inappropriate ioctl for device\n"
     ]
    },
    {
     "name": "stdout",
     "output_type": "stream",
     "text": [
      "Running ADNI_137_S_0668_MR_MPR__GradWarp__N3__Scaled_Br_20070808214246228_S27700_I66234.nii\n"
     ]
    },
    {
     "name": "stderr",
     "output_type": "stream",
     "text": [
      "stty: 'standard input': Inappropriate ioctl for device\n",
      "stty: 'standard input': Inappropriate ioctl for device\n",
      "stty: 'standard input': Inappropriate ioctl for device\n",
      "stty: 'standard input': Inappropriate ioctl for device\n",
      "stty: 'standard input': Inappropriate ioctl for device\n",
      "stty: 'standard input': Inappropriate ioctl for device\n"
     ]
    },
    {
     "name": "stdout",
     "output_type": "stream",
     "text": [
      "Running ADNI_137_S_0668_MR_MPR__GradWarp__N3__Scaled_Br_20071110125134981_S39302_I81479.nii\n"
     ]
    },
    {
     "name": "stderr",
     "output_type": "stream",
     "text": [
      "stty: 'standard input': Inappropriate ioctl for device\n",
      "stty: 'standard input': Inappropriate ioctl for device\n",
      "stty: 'standard input': Inappropriate ioctl for device\n",
      "stty: 'standard input': Inappropriate ioctl for device\n",
      "stty: 'standard input': Inappropriate ioctl for device\n",
      "stty: 'standard input': Inappropriate ioctl for device\n"
     ]
    },
    {
     "name": "stdout",
     "output_type": "stream",
     "text": [
      "Running ADNI_137_S_0669_MR_MPR-R__GradWarp__N3__Scaled_Br_20070925113851336_S38408_I75128.nii\n"
     ]
    },
    {
     "name": "stderr",
     "output_type": "stream",
     "text": [
      "stty: 'standard input': Inappropriate ioctl for device\n",
      "stty: 'standard input': Inappropriate ioctl for device\n",
      "stty: 'standard input': Inappropriate ioctl for device\n",
      "stty: 'standard input': Inappropriate ioctl for device\n",
      "stty: 'standard input': Inappropriate ioctl for device\n",
      "stty: 'standard input': Inappropriate ioctl for device\n"
     ]
    },
    {
     "name": "stdout",
     "output_type": "stream",
     "text": [
      "Running ADNI_137_S_0669_MR_MPR__GradWarp__N3__Scaled_Br_20070306175457295_S17100_I43009.nii\n"
     ]
    },
    {
     "name": "stderr",
     "output_type": "stream",
     "text": [
      "stty: 'standard input': Inappropriate ioctl for device\n",
      "stty: 'standard input': Inappropriate ioctl for device\n",
      "stty: 'standard input': Inappropriate ioctl for device\n",
      "stty: 'standard input': Inappropriate ioctl for device\n",
      "stty: 'standard input': Inappropriate ioctl for device\n",
      "stty: 'standard input': Inappropriate ioctl for device\n"
     ]
    },
    {
     "name": "stdout",
     "output_type": "stream",
     "text": [
      "Running ADNI_137_S_0669_MR_MPR__GradWarp__N3__Scaled_Br_20070808215314178_S27107_I66241.nii\n"
     ]
    },
    {
     "name": "stderr",
     "output_type": "stream",
     "text": [
      "stty: 'standard input': Inappropriate ioctl for device\n",
      "stty: 'standard input': Inappropriate ioctl for device\n",
      "stty: 'standard input': Inappropriate ioctl for device\n",
      "stty: 'standard input': Inappropriate ioctl for device\n",
      "stty: 'standard input': Inappropriate ioctl for device\n",
      "stty: 'standard input': Inappropriate ioctl for device\n"
     ]
    },
    {
     "name": "stdout",
     "output_type": "stream",
     "text": [
      "Running ADNI_137_S_0686_MR_MPR__GradWarp__N3__Scaled_Br_20070323175650350_S16048_I46668.nii\n"
     ]
    },
    {
     "name": "stderr",
     "output_type": "stream",
     "text": [
      "stty: 'standard input': Inappropriate ioctl for device\n",
      "stty: 'standard input': Inappropriate ioctl for device\n",
      "stty: 'standard input': Inappropriate ioctl for device\n",
      "stty: 'standard input': Inappropriate ioctl for device\n",
      "stty: 'standard input': Inappropriate ioctl for device\n",
      "stty: 'standard input': Inappropriate ioctl for device\n"
     ]
    },
    {
     "name": "stdout",
     "output_type": "stream",
     "text": [
      "Running ADNI_137_S_0686_MR_MPR__GradWarp__N3__Scaled_Br_20070809160121206_S26334_I66436.nii\n"
     ]
    },
    {
     "name": "stderr",
     "output_type": "stream",
     "text": [
      "stty: 'standard input': Inappropriate ioctl for device\n",
      "stty: 'standard input': Inappropriate ioctl for device\n",
      "stty: 'standard input': Inappropriate ioctl for device\n",
      "stty: 'standard input': Inappropriate ioctl for device\n",
      "stty: 'standard input': Inappropriate ioctl for device\n",
      "stty: 'standard input': Inappropriate ioctl for device\n"
     ]
    },
    {
     "name": "stdout",
     "output_type": "stream",
     "text": [
      "Running ADNI_137_S_0686_MR_MPR__GradWarp__N3__Scaled_Br_20070922112140022_S37808_I74550.nii\n"
     ]
    },
    {
     "name": "stderr",
     "output_type": "stream",
     "text": [
      "stty: 'standard input': Inappropriate ioctl for device\n",
      "stty: 'standard input': Inappropriate ioctl for device\n",
      "stty: 'standard input': Inappropriate ioctl for device\n",
      "stty: 'standard input': Inappropriate ioctl for device\n",
      "stty: 'standard input': Inappropriate ioctl for device\n",
      "stty: 'standard input': Inappropriate ioctl for device\n"
     ]
    },
    {
     "name": "stdout",
     "output_type": "stream",
     "text": [
      "Running ADNI_137_S_0722_MR_MPR__GradWarp__N3__Scaled_Br_20070306180852008_S17295_I43022.nii\n"
     ]
    },
    {
     "name": "stderr",
     "output_type": "stream",
     "text": [
      "stty: 'standard input': Inappropriate ioctl for device\n",
      "stty: 'standard input': Inappropriate ioctl for device\n",
      "stty: 'standard input': Inappropriate ioctl for device\n",
      "stty: 'standard input': Inappropriate ioctl for device\n",
      "stty: 'standard input': Inappropriate ioctl for device\n",
      "stty: 'standard input': Inappropriate ioctl for device\n"
     ]
    },
    {
     "name": "stdout",
     "output_type": "stream",
     "text": [
      "Running ADNI_137_S_0722_MR_MPR__GradWarp__N3__Scaled_Br_20070808220331154_S27252_I66248.nii\n"
     ]
    },
    {
     "name": "stderr",
     "output_type": "stream",
     "text": [
      "stty: 'standard input': Inappropriate ioctl for device\n",
      "stty: 'standard input': Inappropriate ioctl for device\n",
      "stty: 'standard input': Inappropriate ioctl for device\n",
      "stty: 'standard input': Inappropriate ioctl for device\n",
      "stty: 'standard input': Inappropriate ioctl for device\n",
      "stty: 'standard input': Inappropriate ioctl for device\n"
     ]
    },
    {
     "name": "stdout",
     "output_type": "stream",
     "text": [
      "Running ADNI_137_S_0722_MR_MPR__GradWarp__N3__Scaled_Br_20071028125358172_S39043_I79085.nii\n"
     ]
    },
    {
     "name": "stderr",
     "output_type": "stream",
     "text": [
      "stty: 'standard input': Inappropriate ioctl for device\n",
      "stty: 'standard input': Inappropriate ioctl for device\n",
      "stty: 'standard input': Inappropriate ioctl for device\n",
      "stty: 'standard input': Inappropriate ioctl for device\n",
      "stty: 'standard input': Inappropriate ioctl for device\n",
      "stty: 'standard input': Inappropriate ioctl for device\n"
     ]
    },
    {
     "name": "stdout",
     "output_type": "stream",
     "text": [
      "Running ADNI_137_S_0796_MR_MPR-R__GradWarp__N3__Scaled_Br_20080206164645389_S29339_I89671.nii\n"
     ]
    },
    {
     "name": "stderr",
     "output_type": "stream",
     "text": [
      "stty: 'standard input': Inappropriate ioctl for device\n",
      "stty: 'standard input': Inappropriate ioctl for device\n",
      "stty: 'standard input': Inappropriate ioctl for device\n",
      "stty: 'standard input': Inappropriate ioctl for device\n",
      "stty: 'standard input': Inappropriate ioctl for device\n",
      "stty: 'standard input': Inappropriate ioctl for device\n"
     ]
    },
    {
     "name": "stdout",
     "output_type": "stream",
     "text": [
      "Running ADNI_137_S_0796_MR_MPR__GradWarp__N3__Scaled_Br_20080207175303986_S18077_I89979.nii\n"
     ]
    },
    {
     "name": "stderr",
     "output_type": "stream",
     "text": [
      "stty: 'standard input': Inappropriate ioctl for device\n",
      "stty: 'standard input': Inappropriate ioctl for device\n",
      "stty: 'standard input': Inappropriate ioctl for device\n",
      "stty: 'standard input': Inappropriate ioctl for device\n",
      "stty: 'standard input': Inappropriate ioctl for device\n",
      "stty: 'standard input': Inappropriate ioctl for device\n"
     ]
    },
    {
     "name": "stdout",
     "output_type": "stream",
     "text": [
      "Running ADNI_137_S_0796_MR_MPR__GradWarp__N3__Scaled_Br_20080220163039291_S41091_I91210.nii\n"
     ]
    },
    {
     "name": "stderr",
     "output_type": "stream",
     "text": [
      "stty: 'standard input': Inappropriate ioctl for device\n",
      "stty: 'standard input': Inappropriate ioctl for device\n",
      "stty: 'standard input': Inappropriate ioctl for device\n",
      "stty: 'standard input': Inappropriate ioctl for device\n",
      "stty: 'standard input': Inappropriate ioctl for device\n",
      "stty: 'standard input': Inappropriate ioctl for device\n"
     ]
    },
    {
     "name": "stdout",
     "output_type": "stream",
     "text": [
      "Running ADNI_137_S_0800_MR_MPR__GradWarp__N3__Scaled_Br_20070306182209232_S17822_I43035.nii\n"
     ]
    },
    {
     "name": "stderr",
     "output_type": "stream",
     "text": [
      "stty: 'standard input': Inappropriate ioctl for device\n",
      "stty: 'standard input': Inappropriate ioctl for device\n",
      "stty: 'standard input': Inappropriate ioctl for device\n",
      "stty: 'standard input': Inappropriate ioctl for device\n",
      "stty: 'standard input': Inappropriate ioctl for device\n",
      "stty: 'standard input': Inappropriate ioctl for device\n"
     ]
    },
    {
     "name": "stdout",
     "output_type": "stream",
     "text": [
      "Running ADNI_137_S_0800_MR_MPR__GradWarp__N3__Scaled_Br_20070808221328160_S26960_I66255.nii\n"
     ]
    },
    {
     "name": "stderr",
     "output_type": "stream",
     "text": [
      "stty: 'standard input': Inappropriate ioctl for device\n",
      "stty: 'standard input': Inappropriate ioctl for device\n",
      "stty: 'standard input': Inappropriate ioctl for device\n",
      "stty: 'standard input': Inappropriate ioctl for device\n",
      "stty: 'standard input': Inappropriate ioctl for device\n",
      "stty: 'standard input': Inappropriate ioctl for device\n"
     ]
    },
    {
     "name": "stdout",
     "output_type": "stream",
     "text": [
      "Running ADNI_137_S_0800_MR_MPR__GradWarp__N3__Scaled_Br_20071028130539485_S39150_I79092.nii\n"
     ]
    },
    {
     "name": "stderr",
     "output_type": "stream",
     "text": [
      "stty: 'standard input': Inappropriate ioctl for device\n",
      "stty: 'standard input': Inappropriate ioctl for device\n",
      "stty: 'standard input': Inappropriate ioctl for device\n",
      "stty: 'standard input': Inappropriate ioctl for device\n",
      "stty: 'standard input': Inappropriate ioctl for device\n",
      "stty: 'standard input': Inappropriate ioctl for device\n"
     ]
    },
    {
     "name": "stdout",
     "output_type": "stream",
     "text": [
      "Running ADNI_137_S_0825_MR_MPR__GradWarp__N3__Scaled_Br_20070306183604457_S19451_I43048.nii\n"
     ]
    },
    {
     "name": "stderr",
     "output_type": "stream",
     "text": [
      "stty: 'standard input': Inappropriate ioctl for device\n",
      "stty: 'standard input': Inappropriate ioctl for device\n",
      "stty: 'standard input': Inappropriate ioctl for device\n",
      "stty: 'standard input': Inappropriate ioctl for device\n",
      "stty: 'standard input': Inappropriate ioctl for device\n",
      "stty: 'standard input': Inappropriate ioctl for device\n"
     ]
    },
    {
     "name": "stdout",
     "output_type": "stream",
     "text": [
      "Running ADNI_137_S_0825_MR_MPR__GradWarp__N3__Scaled_Br_20070809161554107_S30443_I66443.nii\n"
     ]
    },
    {
     "name": "stderr",
     "output_type": "stream",
     "text": [
      "stty: 'standard input': Inappropriate ioctl for device\n",
      "stty: 'standard input': Inappropriate ioctl for device\n",
      "stty: 'standard input': Inappropriate ioctl for device\n",
      "stty: 'standard input': Inappropriate ioctl for device\n",
      "stty: 'standard input': Inappropriate ioctl for device\n",
      "stty: 'standard input': Inappropriate ioctl for device\n"
     ]
    },
    {
     "name": "stdout",
     "output_type": "stream",
     "text": [
      "Running ADNI_137_S_0825_MR_MPR__GradWarp__N3__Scaled_Br_20071119104118096_S41988_I82721.nii\n"
     ]
    },
    {
     "name": "stderr",
     "output_type": "stream",
     "text": [
      "stty: 'standard input': Inappropriate ioctl for device\n",
      "stty: 'standard input': Inappropriate ioctl for device\n",
      "stty: 'standard input': Inappropriate ioctl for device\n",
      "stty: 'standard input': Inappropriate ioctl for device\n",
      "stty: 'standard input': Inappropriate ioctl for device\n",
      "stty: 'standard input': Inappropriate ioctl for device\n"
     ]
    },
    {
     "name": "stdout",
     "output_type": "stream",
     "text": [
      "Running ADNI_137_S_0972_MR_MPR__GradWarp__N3__Scaled_Br_20070321181803256_S23389_I45933.nii\n"
     ]
    },
    {
     "name": "stderr",
     "output_type": "stream",
     "text": [
      "stty: 'standard input': Inappropriate ioctl for device\n",
      "stty: 'standard input': Inappropriate ioctl for device\n",
      "stty: 'standard input': Inappropriate ioctl for device\n",
      "stty: 'standard input': Inappropriate ioctl for device\n",
      "stty: 'standard input': Inappropriate ioctl for device\n",
      "stty: 'standard input': Inappropriate ioctl for device\n"
     ]
    },
    {
     "name": "stdout",
     "output_type": "stream",
     "text": [
      "Running ADNI_137_S_0972_MR_MPR__GradWarp__N3__Scaled_Br_20070808222326165_S33059_I66262.nii\n"
     ]
    },
    {
     "name": "stderr",
     "output_type": "stream",
     "text": [
      "stty: 'standard input': Inappropriate ioctl for device\n",
      "stty: 'standard input': Inappropriate ioctl for device\n",
      "stty: 'standard input': Inappropriate ioctl for device\n",
      "stty: 'standard input': Inappropriate ioctl for device\n",
      "stty: 'standard input': Inappropriate ioctl for device\n",
      "stty: 'standard input': Inappropriate ioctl for device\n"
     ]
    },
    {
     "name": "stdout",
     "output_type": "stream",
     "text": [
      "Running ADNI_137_S_0972_MR_MPR__GradWarp__N3__Scaled_Br_20080423165655077_S43428_I103629.nii\n"
     ]
    },
    {
     "name": "stderr",
     "output_type": "stream",
     "text": [
      "stty: 'standard input': Inappropriate ioctl for device\n",
      "stty: 'standard input': Inappropriate ioctl for device\n",
      "stty: 'standard input': Inappropriate ioctl for device\n",
      "stty: 'standard input': Inappropriate ioctl for device\n",
      "stty: 'standard input': Inappropriate ioctl for device\n",
      "stty: 'standard input': Inappropriate ioctl for device\n"
     ]
    },
    {
     "name": "stdout",
     "output_type": "stream",
     "text": [
      "Running ADNI_137_S_0973_MR_MPR-R__GradWarp__N3__Scaled_Br_20071129180556254_S32529_I83861.nii\n"
     ]
    },
    {
     "name": "stderr",
     "output_type": "stream",
     "text": [
      "stty: 'standard input': Inappropriate ioctl for device\n",
      "stty: 'standard input': Inappropriate ioctl for device\n",
      "stty: 'standard input': Inappropriate ioctl for device\n",
      "stty: 'standard input': Inappropriate ioctl for device\n",
      "stty: 'standard input': Inappropriate ioctl for device\n",
      "stty: 'standard input': Inappropriate ioctl for device\n"
     ]
    },
    {
     "name": "stdout",
     "output_type": "stream",
     "text": [
      "Running ADNI_137_S_0973_MR_MPR__GradWarp__N3__Scaled_Br_20070306184943514_S22528_I43060.nii\n"
     ]
    },
    {
     "name": "stderr",
     "output_type": "stream",
     "text": [
      "stty: 'standard input': Inappropriate ioctl for device\n",
      "stty: 'standard input': Inappropriate ioctl for device\n",
      "stty: 'standard input': Inappropriate ioctl for device\n",
      "stty: 'standard input': Inappropriate ioctl for device\n",
      "stty: 'standard input': Inappropriate ioctl for device\n",
      "stty: 'standard input': Inappropriate ioctl for device\n"
     ]
    },
    {
     "name": "stdout",
     "output_type": "stream",
     "text": [
      "Running ADNI_137_S_0973_MR_MPR__GradWarp__N3__Scaled_Br_20071221162945321_S43232_I86013.nii\n"
     ]
    },
    {
     "name": "stderr",
     "output_type": "stream",
     "text": [
      "stty: 'standard input': Inappropriate ioctl for device\n",
      "stty: 'standard input': Inappropriate ioctl for device\n",
      "stty: 'standard input': Inappropriate ioctl for device\n",
      "stty: 'standard input': Inappropriate ioctl for device\n",
      "stty: 'standard input': Inappropriate ioctl for device\n",
      "stty: 'standard input': Inappropriate ioctl for device\n"
     ]
    },
    {
     "name": "stdout",
     "output_type": "stream",
     "text": [
      "Running ADNI_137_S_0994_MR_MPR__GradWarp__N3__Scaled_Br_20070321183202681_S21634_I45943.nii\n"
     ]
    },
    {
     "name": "stderr",
     "output_type": "stream",
     "text": [
      "stty: 'standard input': Inappropriate ioctl for device\n",
      "stty: 'standard input': Inappropriate ioctl for device\n",
      "stty: 'standard input': Inappropriate ioctl for device\n",
      "stty: 'standard input': Inappropriate ioctl for device\n",
      "stty: 'standard input': Inappropriate ioctl for device\n",
      "stty: 'standard input': Inappropriate ioctl for device\n"
     ]
    },
    {
     "name": "stdout",
     "output_type": "stream",
     "text": [
      "Running ADNI_137_S_0994_MR_MPR__GradWarp__N3__Scaled_Br_20080117113636058_S33053_I87735.nii\n"
     ]
    },
    {
     "name": "stderr",
     "output_type": "stream",
     "text": [
      "stty: 'standard input': Inappropriate ioctl for device\n",
      "stty: 'standard input': Inappropriate ioctl for device\n",
      "stty: 'standard input': Inappropriate ioctl for device\n",
      "stty: 'standard input': Inappropriate ioctl for device\n",
      "stty: 'standard input': Inappropriate ioctl for device\n",
      "stty: 'standard input': Inappropriate ioctl for device\n"
     ]
    },
    {
     "name": "stdout",
     "output_type": "stream",
     "text": [
      "Running ADNI_137_S_0994_MR_MPR__GradWarp__N3__Scaled_Br_20080220164400925_S43448_I91224.nii\n"
     ]
    },
    {
     "name": "stderr",
     "output_type": "stream",
     "text": [
      "stty: 'standard input': Inappropriate ioctl for device\n",
      "stty: 'standard input': Inappropriate ioctl for device\n",
      "stty: 'standard input': Inappropriate ioctl for device\n",
      "stty: 'standard input': Inappropriate ioctl for device\n",
      "stty: 'standard input': Inappropriate ioctl for device\n",
      "stty: 'standard input': Inappropriate ioctl for device\n"
     ]
    },
    {
     "name": "stdout",
     "output_type": "stream",
     "text": [
      "Running ADNI_137_S_1041_MR_MPR-R__GradWarp__N3__Scaled_Br_20070306190902216_S22310_I43071.nii\n"
     ]
    },
    {
     "name": "stderr",
     "output_type": "stream",
     "text": [
      "stty: 'standard input': Inappropriate ioctl for device\n",
      "stty: 'standard input': Inappropriate ioctl for device\n",
      "stty: 'standard input': Inappropriate ioctl for device\n",
      "stty: 'standard input': Inappropriate ioctl for device\n",
      "stty: 'standard input': Inappropriate ioctl for device\n",
      "stty: 'standard input': Inappropriate ioctl for device\n"
     ]
    },
    {
     "name": "stdout",
     "output_type": "stream",
     "text": [
      "Running ADNI_137_S_1041_MR_MPR-R__GradWarp__N3__Scaled_Br_20080107125806154_S33081_I86630.nii\n"
     ]
    },
    {
     "name": "stderr",
     "output_type": "stream",
     "text": [
      "stty: 'standard input': Inappropriate ioctl for device\n",
      "stty: 'standard input': Inappropriate ioctl for device\n",
      "stty: 'standard input': Inappropriate ioctl for device\n",
      "stty: 'standard input': Inappropriate ioctl for device\n",
      "stty: 'standard input': Inappropriate ioctl for device\n",
      "stty: 'standard input': Inappropriate ioctl for device\n"
     ]
    },
    {
     "name": "stdout",
     "output_type": "stream",
     "text": [
      "Running ADNI_137_S_1041_MR_MPR__GradWarp__N3__Scaled_Br_20071227100204629_S43640_I86261.nii\n"
     ]
    },
    {
     "name": "stderr",
     "output_type": "stream",
     "text": [
      "stty: 'standard input': Inappropriate ioctl for device\n",
      "stty: 'standard input': Inappropriate ioctl for device\n",
      "stty: 'standard input': Inappropriate ioctl for device\n",
      "stty: 'standard input': Inappropriate ioctl for device\n",
      "stty: 'standard input': Inappropriate ioctl for device\n",
      "stty: 'standard input': Inappropriate ioctl for device\n"
     ]
    },
    {
     "name": "stdout",
     "output_type": "stream",
     "text": [
      "Running ADNI_137_S_1414_MR_MPR-R__GradWarp__N3__Scaled_Br_20080320175632490_S46192_I99141.nii\n"
     ]
    },
    {
     "name": "stderr",
     "output_type": "stream",
     "text": [
      "stty: 'standard input': Inappropriate ioctl for device\n",
      "stty: 'standard input': Inappropriate ioctl for device\n",
      "stty: 'standard input': Inappropriate ioctl for device\n",
      "stty: 'standard input': Inappropriate ioctl for device\n",
      "stty: 'standard input': Inappropriate ioctl for device\n",
      "stty: 'standard input': Inappropriate ioctl for device\n"
     ]
    },
    {
     "name": "stdout",
     "output_type": "stream",
     "text": [
      "Running ADNI_137_S_1414_MR_MPR__GradWarp__N3__Scaled_Br_20070922112816892_S36840_I74557.nii\n"
     ]
    },
    {
     "name": "stderr",
     "output_type": "stream",
     "text": [
      "stty: 'standard input': Inappropriate ioctl for device\n",
      "stty: 'standard input': Inappropriate ioctl for device\n",
      "stty: 'standard input': Inappropriate ioctl for device\n",
      "stty: 'standard input': Inappropriate ioctl for device\n",
      "stty: 'standard input': Inappropriate ioctl for device\n",
      "stty: 'standard input': Inappropriate ioctl for device\n"
     ]
    },
    {
     "name": "stdout",
     "output_type": "stream",
     "text": [
      "Running ADNI_137_S_1414_MR_MPR__GradWarp__N3__Scaled_Br_20081017083139155_S56047_I121712.nii\n"
     ]
    },
    {
     "name": "stderr",
     "output_type": "stream",
     "text": [
      "stty: 'standard input': Inappropriate ioctl for device\n",
      "stty: 'standard input': Inappropriate ioctl for device\n",
      "stty: 'standard input': Inappropriate ioctl for device\n",
      "stty: 'standard input': Inappropriate ioctl for device\n",
      "stty: 'standard input': Inappropriate ioctl for device\n",
      "stty: 'standard input': Inappropriate ioctl for device\n"
     ]
    },
    {
     "name": "stdout",
     "output_type": "stream",
     "text": [
      "Running ADNI_137_S_1426_MR_MPR-R__GradWarp__N3__Scaled_Br_20071028132128065_S39052_I79102.nii\n"
     ]
    },
    {
     "name": "stderr",
     "output_type": "stream",
     "text": [
      "stty: 'standard input': Inappropriate ioctl for device\n",
      "stty: 'standard input': Inappropriate ioctl for device\n",
      "stty: 'standard input': Inappropriate ioctl for device\n",
      "stty: 'standard input': Inappropriate ioctl for device\n",
      "stty: 'standard input': Inappropriate ioctl for device\n",
      "stty: 'standard input': Inappropriate ioctl for device\n"
     ]
    },
    {
     "name": "stdout",
     "output_type": "stream",
     "text": [
      "Running ADNI_137_S_1426_MR_MPR-R__GradWarp__N3__Scaled_Br_20080422180144003_S48599_I103514.nii\n"
     ]
    },
    {
     "name": "stderr",
     "output_type": "stream",
     "text": [
      "stty: 'standard input': Inappropriate ioctl for device\n",
      "stty: 'standard input': Inappropriate ioctl for device\n",
      "stty: 'standard input': Inappropriate ioctl for device\n",
      "stty: 'standard input': Inappropriate ioctl for device\n",
      "stty: 'standard input': Inappropriate ioctl for device\n",
      "stty: 'standard input': Inappropriate ioctl for device\n"
     ]
    },
    {
     "name": "stdout",
     "output_type": "stream",
     "text": [
      "Running ADNI_137_S_1426_MR_MPR-R__GradWarp__N3__Scaled_Br_20081110165205628_S58135_I125941.nii\n"
     ]
    },
    {
     "name": "stderr",
     "output_type": "stream",
     "text": [
      "stty: 'standard input': Inappropriate ioctl for device\n",
      "stty: 'standard input': Inappropriate ioctl for device\n",
      "stty: 'standard input': Inappropriate ioctl for device\n",
      "stty: 'standard input': Inappropriate ioctl for device\n",
      "stty: 'standard input': Inappropriate ioctl for device\n",
      "stty: 'standard input': Inappropriate ioctl for device\n"
     ]
    },
    {
     "name": "stdout",
     "output_type": "stream",
     "text": [
      "Running ADNI_141_S_0696_MR_MPR__GradWarp__B1_Correction__N3__Scaled_Br_20071119104836717_S18373_I82738.nii\n"
     ]
    },
    {
     "name": "stderr",
     "output_type": "stream",
     "text": [
      "stty: 'standard input': Inappropriate ioctl for device\n",
      "stty: 'standard input': Inappropriate ioctl for device\n",
      "stty: 'standard input': Inappropriate ioctl for device\n",
      "stty: 'standard input': Inappropriate ioctl for device\n",
      "stty: 'standard input': Inappropriate ioctl for device\n",
      "stty: 'standard input': Inappropriate ioctl for device\n"
     ]
    },
    {
     "name": "stdout",
     "output_type": "stream",
     "text": [
      "Running ADNI_141_S_0696_MR_MPR__GradWarp__B1_Correction__N3__Scaled_Br_20070927082553799_S29153_I75512.nii\n"
     ]
    },
    {
     "name": "stderr",
     "output_type": "stream",
     "text": [
      "stty: 'standard input': Inappropriate ioctl for device\n",
      "stty: 'standard input': Inappropriate ioctl for device\n",
      "stty: 'standard input': Inappropriate ioctl for device\n",
      "stty: 'standard input': Inappropriate ioctl for device\n",
      "stty: 'standard input': Inappropriate ioctl for device\n",
      "stty: 'standard input': Inappropriate ioctl for device\n"
     ]
    },
    {
     "name": "stdout",
     "output_type": "stream",
     "text": [
      "Running ADNI_141_S_0696_MR_MPR__GradWarp__B1_Correction__N3__Scaled_Br_20071110125751368_S40962_I81486.nii\n"
     ]
    },
    {
     "name": "stderr",
     "output_type": "stream",
     "text": [
      "stty: 'standard input': Inappropriate ioctl for device\n",
      "stty: 'standard input': Inappropriate ioctl for device\n",
      "stty: 'standard input': Inappropriate ioctl for device\n",
      "stty: 'standard input': Inappropriate ioctl for device\n",
      "stty: 'standard input': Inappropriate ioctl for device\n",
      "stty: 'standard input': Inappropriate ioctl for device\n"
     ]
    },
    {
     "name": "stdout",
     "output_type": "stream",
     "text": [
      "Running ADNI_141_S_0717_MR_MPR-R__GradWarp__B1_Correction__N3__Scaled_Br_20080318145722556_S18413_I98888.nii\n"
     ]
    },
    {
     "name": "stderr",
     "output_type": "stream",
     "text": [
      "stty: 'standard input': Inappropriate ioctl for device\n",
      "stty: 'standard input': Inappropriate ioctl for device\n",
      "stty: 'standard input': Inappropriate ioctl for device\n",
      "stty: 'standard input': Inappropriate ioctl for device\n",
      "stty: 'standard input': Inappropriate ioctl for device\n",
      "stty: 'standard input': Inappropriate ioctl for device\n"
     ]
    },
    {
     "name": "stdout",
     "output_type": "stream",
     "text": [
      "Running ADNI_141_S_0717_MR_MPR-R__GradWarp__B1_Correction__N3__Scaled_Br_20070927175206753_S29879_I75691.nii\n"
     ]
    },
    {
     "name": "stderr",
     "output_type": "stream",
     "text": [
      "stty: 'standard input': Inappropriate ioctl for device\n",
      "stty: 'standard input': Inappropriate ioctl for device\n",
      "stty: 'standard input': Inappropriate ioctl for device\n",
      "stty: 'standard input': Inappropriate ioctl for device\n",
      "stty: 'standard input': Inappropriate ioctl for device\n",
      "stty: 'standard input': Inappropriate ioctl for device\n"
     ]
    },
    {
     "name": "stdout",
     "output_type": "stream",
     "text": [
      "Running ADNI_141_S_0717_MR_MPR__GradWarp__B1_Correction__N3__Scaled_Br_20080302131359740_S39851_I94917.nii\n"
     ]
    },
    {
     "name": "stderr",
     "output_type": "stream",
     "text": [
      "stty: 'standard input': Inappropriate ioctl for device\n",
      "stty: 'standard input': Inappropriate ioctl for device\n",
      "stty: 'standard input': Inappropriate ioctl for device\n",
      "stty: 'standard input': Inappropriate ioctl for device\n",
      "stty: 'standard input': Inappropriate ioctl for device\n",
      "stty: 'standard input': Inappropriate ioctl for device\n"
     ]
    },
    {
     "name": "stdout",
     "output_type": "stream",
     "text": [
      "Running ADNI_141_S_0767_MR_MPR-R__GradWarp__B1_Correction__N3__Scaled_Br_20070328092102686_S18337_I47306.nii\n"
     ]
    },
    {
     "name": "stderr",
     "output_type": "stream",
     "text": [
      "stty: 'standard input': Inappropriate ioctl for device\n",
      "stty: 'standard input': Inappropriate ioctl for device\n",
      "stty: 'standard input': Inappropriate ioctl for device\n",
      "stty: 'standard input': Inappropriate ioctl for device\n",
      "stty: 'standard input': Inappropriate ioctl for device\n",
      "stty: 'standard input': Inappropriate ioctl for device\n"
     ]
    },
    {
     "name": "stdout",
     "output_type": "stream",
     "text": [
      "Running ADNI_141_S_0767_MR_MPR-R__GradWarp__B1_Correction__N3__Scaled_Br_20081022121223841_S27492_I122712.nii\n"
     ]
    },
    {
     "name": "stderr",
     "output_type": "stream",
     "text": [
      "stty: 'standard input': Inappropriate ioctl for device\n",
      "stty: 'standard input': Inappropriate ioctl for device\n",
      "stty: 'standard input': Inappropriate ioctl for device\n",
      "stty: 'standard input': Inappropriate ioctl for device\n",
      "stty: 'standard input': Inappropriate ioctl for device\n",
      "stty: 'standard input': Inappropriate ioctl for device\n"
     ]
    },
    {
     "name": "stdout",
     "output_type": "stream",
     "text": [
      "Running ADNI_141_S_0767_MR_MPR__GradWarp__B1_Correction__N3__Scaled_Br_20081103132129218_S47749_I124940.nii\n"
     ]
    },
    {
     "name": "stderr",
     "output_type": "stream",
     "text": [
      "stty: 'standard input': Inappropriate ioctl for device\n",
      "stty: 'standard input': Inappropriate ioctl for device\n",
      "stty: 'standard input': Inappropriate ioctl for device\n",
      "stty: 'standard input': Inappropriate ioctl for device\n",
      "stty: 'standard input': Inappropriate ioctl for device\n",
      "stty: 'standard input': Inappropriate ioctl for device\n"
     ]
    },
    {
     "name": "stdout",
     "output_type": "stream",
     "text": [
      "Running ADNI_141_S_0790_MR_MPR__GradWarp__B1_Correction__N3__Scaled_Br_20080220165919265_S18766_I91253.nii\n"
     ]
    },
    {
     "name": "stderr",
     "output_type": "stream",
     "text": [
      "stty: 'standard input': Inappropriate ioctl for device\n",
      "stty: 'standard input': Inappropriate ioctl for device\n",
      "stty: 'standard input': Inappropriate ioctl for device\n",
      "stty: 'standard input': Inappropriate ioctl for device\n",
      "stty: 'standard input': Inappropriate ioctl for device\n",
      "stty: 'standard input': Inappropriate ioctl for device\n"
     ]
    },
    {
     "name": "stdout",
     "output_type": "stream",
     "text": [
      "Running ADNI_141_S_0790_MR_MPR__GradWarp__B1_Correction__N3__Scaled_Br_20071110130233583_S41047_I81495.nii\n"
     ]
    },
    {
     "name": "stderr",
     "output_type": "stream",
     "text": [
      "stty: 'standard input': Inappropriate ioctl for device\n",
      "stty: 'standard input': Inappropriate ioctl for device\n",
      "stty: 'standard input': Inappropriate ioctl for device\n",
      "stty: 'standard input': Inappropriate ioctl for device\n",
      "stty: 'standard input': Inappropriate ioctl for device\n",
      "stty: 'standard input': Inappropriate ioctl for device\n"
     ]
    },
    {
     "name": "stdout",
     "output_type": "stream",
     "text": [
      "Running ADNI_141_S_0790_MR_MPR__GradWarp__B1_Correction__N3__Scaled_Br_20080410151355187_S47536_I102146.nii\n"
     ]
    },
    {
     "name": "stderr",
     "output_type": "stream",
     "text": [
      "stty: 'standard input': Inappropriate ioctl for device\n",
      "stty: 'standard input': Inappropriate ioctl for device\n",
      "stty: 'standard input': Inappropriate ioctl for device\n",
      "stty: 'standard input': Inappropriate ioctl for device\n",
      "stty: 'standard input': Inappropriate ioctl for device\n",
      "stty: 'standard input': Inappropriate ioctl for device\n"
     ]
    },
    {
     "name": "stdout",
     "output_type": "stream",
     "text": [
      "Running ADNI_141_S_0810_MR_MPR-R__GradWarp__B1_Correction__N3__Scaled_Br_20070328093111188_S20274_I47314.nii\n"
     ]
    },
    {
     "name": "stderr",
     "output_type": "stream",
     "text": [
      "stty: 'standard input': Inappropriate ioctl for device\n",
      "stty: 'standard input': Inappropriate ioctl for device\n",
      "stty: 'standard input': Inappropriate ioctl for device\n",
      "stty: 'standard input': Inappropriate ioctl for device\n",
      "stty: 'standard input': Inappropriate ioctl for device\n",
      "stty: 'standard input': Inappropriate ioctl for device\n"
     ]
    },
    {
     "name": "stdout",
     "output_type": "stream",
     "text": [
      "Running ADNI_141_S_0810_MR_MPR__GradWarp__B1_Correction__N3__Scaled_Br_20080220170352103_S32721_I91262.nii\n"
     ]
    },
    {
     "name": "stderr",
     "output_type": "stream",
     "text": [
      "stty: 'standard input': Inappropriate ioctl for device\n",
      "stty: 'standard input': Inappropriate ioctl for device\n",
      "stty: 'standard input': Inappropriate ioctl for device\n",
      "stty: 'standard input': Inappropriate ioctl for device\n",
      "stty: 'standard input': Inappropriate ioctl for device\n",
      "stty: 'standard input': Inappropriate ioctl for device\n"
     ]
    },
    {
     "name": "stdout",
     "output_type": "stream",
     "text": [
      "Running ADNI_141_S_0810_MR_MPR__GradWarp__B1_Correction__N3__Scaled_Br_20080529134222061_S50194_I107733.nii\n"
     ]
    },
    {
     "name": "stderr",
     "output_type": "stream",
     "text": [
      "stty: 'standard input': Inappropriate ioctl for device\n",
      "stty: 'standard input': Inappropriate ioctl for device\n",
      "stty: 'standard input': Inappropriate ioctl for device\n",
      "stty: 'standard input': Inappropriate ioctl for device\n",
      "stty: 'standard input': Inappropriate ioctl for device\n",
      "stty: 'standard input': Inappropriate ioctl for device\n"
     ]
    },
    {
     "name": "stdout",
     "output_type": "stream",
     "text": [
      "Running ADNI_141_S_0851_MR_MPR-R__GradWarp__B1_Correction__N3__Scaled_Br_20071110130910139_S41581_I81508.nii\n"
     ]
    },
    {
     "name": "stderr",
     "output_type": "stream",
     "text": [
      "stty: 'standard input': Inappropriate ioctl for device\n",
      "stty: 'standard input': Inappropriate ioctl for device\n",
      "stty: 'standard input': Inappropriate ioctl for device\n",
      "stty: 'standard input': Inappropriate ioctl for device\n",
      "stty: 'standard input': Inappropriate ioctl for device\n",
      "stty: 'standard input': Inappropriate ioctl for device\n"
     ]
    },
    {
     "name": "stdout",
     "output_type": "stream",
     "text": [
      "Running ADNI_141_S_0851_MR_MPR__GradWarp__B1_Correction__N3__Scaled_Br_20070403112721109_S19364_I47870.nii\n"
     ]
    },
    {
     "name": "stderr",
     "output_type": "stream",
     "text": [
      "stty: 'standard input': Inappropriate ioctl for device\n",
      "stty: 'standard input': Inappropriate ioctl for device\n",
      "stty: 'standard input': Inappropriate ioctl for device\n",
      "stty: 'standard input': Inappropriate ioctl for device\n",
      "stty: 'standard input': Inappropriate ioctl for device\n",
      "stty: 'standard input': Inappropriate ioctl for device\n"
     ]
    },
    {
     "name": "stdout",
     "output_type": "stream",
     "text": [
      "Running ADNI_141_S_0851_MR_MPR__GradWarp__B1_Correction__N3__Scaled_Br_20080206165313189_S31669_I89678.nii\n"
     ]
    },
    {
     "name": "stderr",
     "output_type": "stream",
     "text": [
      "stty: 'standard input': Inappropriate ioctl for device\n",
      "stty: 'standard input': Inappropriate ioctl for device\n",
      "stty: 'standard input': Inappropriate ioctl for device\n",
      "stty: 'standard input': Inappropriate ioctl for device\n",
      "stty: 'standard input': Inappropriate ioctl for device\n",
      "stty: 'standard input': Inappropriate ioctl for device\n"
     ]
    },
    {
     "name": "stdout",
     "output_type": "stream",
     "text": [
      "Running ADNI_141_S_0852_MR_MPR-R__GradWarp__B1_Correction__N3__Scaled_Br_20070402180938591_S19395_I47744.nii\n"
     ]
    },
    {
     "name": "stderr",
     "output_type": "stream",
     "text": [
      "stty: 'standard input': Inappropriate ioctl for device\n",
      "stty: 'standard input': Inappropriate ioctl for device\n",
      "stty: 'standard input': Inappropriate ioctl for device\n",
      "stty: 'standard input': Inappropriate ioctl for device\n",
      "stty: 'standard input': Inappropriate ioctl for device\n",
      "stty: 'standard input': Inappropriate ioctl for device\n"
     ]
    },
    {
     "name": "stdout",
     "output_type": "stream",
     "text": [
      "Running ADNI_141_S_0852_MR_MPR-R__GradWarp__B1_Correction__N3__Scaled_Br_20080703105900667_S30800_I112461.nii\n"
     ]
    },
    {
     "name": "stderr",
     "output_type": "stream",
     "text": [
      "stty: 'standard input': Inappropriate ioctl for device\n",
      "stty: 'standard input': Inappropriate ioctl for device\n",
      "stty: 'standard input': Inappropriate ioctl for device\n",
      "stty: 'standard input': Inappropriate ioctl for device\n",
      "stty: 'standard input': Inappropriate ioctl for device\n",
      "stty: 'standard input': Inappropriate ioctl for device\n"
     ]
    },
    {
     "name": "stdout",
     "output_type": "stream",
     "text": [
      "Running ADNI_141_S_0852_MR_MPR__GradWarp__B1_Correction__N3__Scaled_Br_20080302131842316_S42448_I94926.nii\n"
     ]
    },
    {
     "name": "stderr",
     "output_type": "stream",
     "text": [
      "stty: 'standard input': Inappropriate ioctl for device\n",
      "stty: 'standard input': Inappropriate ioctl for device\n",
      "stty: 'standard input': Inappropriate ioctl for device\n",
      "stty: 'standard input': Inappropriate ioctl for device\n",
      "stty: 'standard input': Inappropriate ioctl for device\n",
      "stty: 'standard input': Inappropriate ioctl for device\n"
     ]
    },
    {
     "name": "stdout",
     "output_type": "stream",
     "text": [
      "Running ADNI_141_S_0853_MR_MPR__GradWarp__B1_Correction__N3__Scaled_Br_20080702153618963_S18348_I112292.nii\n"
     ]
    },
    {
     "name": "stderr",
     "output_type": "stream",
     "text": [
      "stty: 'standard input': Inappropriate ioctl for device\n",
      "stty: 'standard input': Inappropriate ioctl for device\n",
      "stty: 'standard input': Inappropriate ioctl for device\n",
      "stty: 'standard input': Inappropriate ioctl for device\n",
      "stty: 'standard input': Inappropriate ioctl for device\n",
      "stty: 'standard input': Inappropriate ioctl for device\n"
     ]
    },
    {
     "name": "stdout",
     "output_type": "stream",
     "text": [
      "Running ADNI_141_S_0853_MR_MPR__GradWarp__B1_Correction__N3__Scaled_Br_20071119105418122_S27836_I82748.nii\n"
     ]
    },
    {
     "name": "stderr",
     "output_type": "stream",
     "text": [
      "stty: 'standard input': Inappropriate ioctl for device\n",
      "stty: 'standard input': Inappropriate ioctl for device\n",
      "stty: 'standard input': Inappropriate ioctl for device\n",
      "stty: 'standard input': Inappropriate ioctl for device\n",
      "stty: 'standard input': Inappropriate ioctl for device\n",
      "stty: 'standard input': Inappropriate ioctl for device\n"
     ]
    },
    {
     "name": "stdout",
     "output_type": "stream",
     "text": [
      "Running ADNI_141_S_0853_MR_MPR__GradWarp__B1_Correction__N3__Scaled_Br_20071110131145215_S39326_I81513.nii\n"
     ]
    },
    {
     "name": "stderr",
     "output_type": "stream",
     "text": [
      "stty: 'standard input': Inappropriate ioctl for device\n",
      "stty: 'standard input': Inappropriate ioctl for device\n",
      "stty: 'standard input': Inappropriate ioctl for device\n",
      "stty: 'standard input': Inappropriate ioctl for device\n",
      "stty: 'standard input': Inappropriate ioctl for device\n",
      "stty: 'standard input': Inappropriate ioctl for device\n"
     ]
    },
    {
     "name": "stdout",
     "output_type": "stream",
     "text": [
      "Running ADNI_141_S_0915_MR_MPR-R__GradWarp__B1_Correction__N3__Scaled_Br_20071219173436442_S42828_I85683.nii\n"
     ]
    },
    {
     "name": "stderr",
     "output_type": "stream",
     "text": [
      "stty: 'standard input': Inappropriate ioctl for device\n",
      "stty: 'standard input': Inappropriate ioctl for device\n",
      "stty: 'standard input': Inappropriate ioctl for device\n",
      "stty: 'standard input': Inappropriate ioctl for device\n",
      "stty: 'standard input': Inappropriate ioctl for device\n",
      "stty: 'standard input': Inappropriate ioctl for device\n"
     ]
    },
    {
     "name": "stdout",
     "output_type": "stream",
     "text": [
      "Running ADNI_141_S_0915_MR_MPR__GradWarp__B1_Correction__N3__Scaled_Br_20070411121151917_S22748_I48563.nii\n"
     ]
    },
    {
     "name": "stderr",
     "output_type": "stream",
     "text": [
      "stty: 'standard input': Inappropriate ioctl for device\n",
      "stty: 'standard input': Inappropriate ioctl for device\n",
      "stty: 'standard input': Inappropriate ioctl for device\n",
      "stty: 'standard input': Inappropriate ioctl for device\n",
      "stty: 'standard input': Inappropriate ioctl for device\n",
      "stty: 'standard input': Inappropriate ioctl for device\n"
     ]
    },
    {
     "name": "stdout",
     "output_type": "stream",
     "text": [
      "Running ADNI_141_S_0915_MR_MPR__GradWarp__B1_Correction__N3__Scaled_Br_20071027110852857_S33555_I78645.nii\n"
     ]
    },
    {
     "name": "stderr",
     "output_type": "stream",
     "text": [
      "stty: 'standard input': Inappropriate ioctl for device\n",
      "stty: 'standard input': Inappropriate ioctl for device\n",
      "stty: 'standard input': Inappropriate ioctl for device\n",
      "stty: 'standard input': Inappropriate ioctl for device\n",
      "stty: 'standard input': Inappropriate ioctl for device\n",
      "stty: 'standard input': Inappropriate ioctl for device\n"
     ]
    },
    {
     "name": "stdout",
     "output_type": "stream",
     "text": [
      "Running ADNI_141_S_0982_MR_MPR__GradWarp__B1_Correction__N3__Scaled_Br_20070402171730196_S22644_I47703.nii\n"
     ]
    },
    {
     "name": "stderr",
     "output_type": "stream",
     "text": [
      "stty: 'standard input': Inappropriate ioctl for device\n",
      "stty: 'standard input': Inappropriate ioctl for device\n",
      "stty: 'standard input': Inappropriate ioctl for device\n",
      "stty: 'standard input': Inappropriate ioctl for device\n",
      "stty: 'standard input': Inappropriate ioctl for device\n",
      "stty: 'standard input': Inappropriate ioctl for device\n"
     ]
    },
    {
     "name": "stdout",
     "output_type": "stream",
     "text": [
      "Running ADNI_141_S_0982_MR_MPR__GradWarp__B1_Correction__N3__Scaled_Br_20080220170835731_S33549_I91271.nii\n"
     ]
    },
    {
     "name": "stderr",
     "output_type": "stream",
     "text": [
      "stty: 'standard input': Inappropriate ioctl for device\n",
      "stty: 'standard input': Inappropriate ioctl for device\n",
      "stty: 'standard input': Inappropriate ioctl for device\n",
      "stty: 'standard input': Inappropriate ioctl for device\n",
      "stty: 'standard input': Inappropriate ioctl for device\n",
      "stty: 'standard input': Inappropriate ioctl for device\n"
     ]
    },
    {
     "name": "stdout",
     "output_type": "stream",
     "text": [
      "Running ADNI_141_S_0982_MR_MPR__GradWarp__B1_Correction__N3__Scaled_Br_20080220171317412_S42653_I91294.nii\n"
     ]
    },
    {
     "name": "stderr",
     "output_type": "stream",
     "text": [
      "stty: 'standard input': Inappropriate ioctl for device\n",
      "stty: 'standard input': Inappropriate ioctl for device\n",
      "stty: 'standard input': Inappropriate ioctl for device\n",
      "stty: 'standard input': Inappropriate ioctl for device\n",
      "stty: 'standard input': Inappropriate ioctl for device\n",
      "stty: 'standard input': Inappropriate ioctl for device\n"
     ]
    },
    {
     "name": "stdout",
     "output_type": "stream",
     "text": [
      "Running ADNI_141_S_1004_MR_MPR__GradWarp__B1_Correction__N3__Scaled_Br_20080302132321582_S34054_I94935.nii\n"
     ]
    },
    {
     "name": "stderr",
     "output_type": "stream",
     "text": [
      "stty: 'standard input': Inappropriate ioctl for device\n",
      "stty: 'standard input': Inappropriate ioctl for device\n",
      "stty: 'standard input': Inappropriate ioctl for device\n",
      "stty: 'standard input': Inappropriate ioctl for device\n",
      "stty: 'standard input': Inappropriate ioctl for device\n",
      "stty: 'standard input': Inappropriate ioctl for device\n"
     ]
    },
    {
     "name": "stdout",
     "output_type": "stream",
     "text": [
      "Running ADNI_141_S_1004_MR_MPR__GradWarp__B1_Correction__N3__Scaled_Br_20071219173712516_S42819_I85689.nii\n"
     ]
    },
    {
     "name": "stderr",
     "output_type": "stream",
     "text": [
      "stty: 'standard input': Inappropriate ioctl for device\n",
      "stty: 'standard input': Inappropriate ioctl for device\n",
      "stty: 'standard input': Inappropriate ioctl for device\n",
      "stty: 'standard input': Inappropriate ioctl for device\n",
      "stty: 'standard input': Inappropriate ioctl for device\n",
      "stty: 'standard input': Inappropriate ioctl for device\n"
     ]
    },
    {
     "name": "stdout",
     "output_type": "stream",
     "text": [
      "Running ADNI_141_S_1004_MR_MPR__GradWarp__N3__Scaled_Br_20080307111813769_S23305_I95705.nii\n"
     ]
    },
    {
     "name": "stderr",
     "output_type": "stream",
     "text": [
      "stty: 'standard input': Inappropriate ioctl for device\n",
      "stty: 'standard input': Inappropriate ioctl for device\n",
      "stty: 'standard input': Inappropriate ioctl for device\n",
      "stty: 'standard input': Inappropriate ioctl for device\n",
      "stty: 'standard input': Inappropriate ioctl for device\n",
      "stty: 'standard input': Inappropriate ioctl for device\n"
     ]
    },
    {
     "name": "stdout",
     "output_type": "stream",
     "text": [
      "Running ADNI_141_S_1052_MR_MPR__GradWarp__B1_Correction__N3__Scaled_Br_20070402174139992_S22923_I47722.nii\n"
     ]
    },
    {
     "name": "stderr",
     "output_type": "stream",
     "text": [
      "stty: 'standard input': Inappropriate ioctl for device\n",
      "stty: 'standard input': Inappropriate ioctl for device\n",
      "stty: 'standard input': Inappropriate ioctl for device\n",
      "stty: 'standard input': Inappropriate ioctl for device\n",
      "stty: 'standard input': Inappropriate ioctl for device\n",
      "stty: 'standard input': Inappropriate ioctl for device\n"
     ]
    },
    {
     "name": "stdout",
     "output_type": "stream",
     "text": [
      "Running ADNI_141_S_1052_MR_MPR__GradWarp__B1_Correction__N3__Scaled_Br_20080320175949138_S35178_I99145.nii\n"
     ]
    },
    {
     "name": "stderr",
     "output_type": "stream",
     "text": [
      "stty: 'standard input': Inappropriate ioctl for device\n",
      "stty: 'standard input': Inappropriate ioctl for device\n",
      "stty: 'standard input': Inappropriate ioctl for device\n",
      "stty: 'standard input': Inappropriate ioctl for device\n",
      "stty: 'standard input': Inappropriate ioctl for device\n",
      "stty: 'standard input': Inappropriate ioctl for device\n"
     ]
    },
    {
     "name": "stdout",
     "output_type": "stream",
     "text": [
      "Running ADNI_141_S_1052_MR_MPR__GradWarp__B1_Correction__N3__Scaled_Br_20081016175452142_S51307_I121561.nii\n"
     ]
    },
    {
     "name": "stderr",
     "output_type": "stream",
     "text": [
      "stty: 'standard input': Inappropriate ioctl for device\n",
      "stty: 'standard input': Inappropriate ioctl for device\n",
      "stty: 'standard input': Inappropriate ioctl for device\n",
      "stty: 'standard input': Inappropriate ioctl for device\n",
      "stty: 'standard input': Inappropriate ioctl for device\n",
      "stty: 'standard input': Inappropriate ioctl for device\n"
     ]
    },
    {
     "name": "stdout",
     "output_type": "stream",
     "text": [
      "Running ADNI_141_S_1094_MR_MPR__GradWarp__B1_Correction__N3__Scaled_Br_20070402175441620_S23294_I47732.nii\n"
     ]
    },
    {
     "name": "stderr",
     "output_type": "stream",
     "text": [
      "stty: 'standard input': Inappropriate ioctl for device\n",
      "stty: 'standard input': Inappropriate ioctl for device\n",
      "stty: 'standard input': Inappropriate ioctl for device\n",
      "stty: 'standard input': Inappropriate ioctl for device\n",
      "stty: 'standard input': Inappropriate ioctl for device\n",
      "stty: 'standard input': Inappropriate ioctl for device\n"
     ]
    },
    {
     "name": "stdout",
     "output_type": "stream",
     "text": [
      "Running ADNI_141_S_1094_MR_MPR__GradWarp__B1_Correction__N3__Scaled_Br_20080318150008346_S36853_I98893.nii\n"
     ]
    },
    {
     "name": "stderr",
     "output_type": "stream",
     "text": [
      "stty: 'standard input': Inappropriate ioctl for device\n",
      "stty: 'standard input': Inappropriate ioctl for device\n",
      "stty: 'standard input': Inappropriate ioctl for device\n",
      "stty: 'standard input': Inappropriate ioctl for device\n",
      "stty: 'standard input': Inappropriate ioctl for device\n",
      "stty: 'standard input': Inappropriate ioctl for device\n"
     ]
    },
    {
     "name": "stdout",
     "output_type": "stream",
     "text": [
      "Running ADNI_141_S_1094_MR_MPR__GradWarp__B1_Correction__N3__Scaled_Br_20080602091437544_S50174_I107952.nii\n"
     ]
    },
    {
     "name": "stderr",
     "output_type": "stream",
     "text": [
      "stty: 'standard input': Inappropriate ioctl for device\n",
      "stty: 'standard input': Inappropriate ioctl for device\n",
      "stty: 'standard input': Inappropriate ioctl for device\n",
      "stty: 'standard input': Inappropriate ioctl for device\n",
      "stty: 'standard input': Inappropriate ioctl for device\n",
      "stty: 'standard input': Inappropriate ioctl for device\n"
     ]
    },
    {
     "name": "stdout",
     "output_type": "stream",
     "text": [
      "Running ADNI_141_S_1137_MR_MPR__GradWarp__B1_Correction__N3__Scaled_Br_20070411122437840_S24301_I48581.nii\n"
     ]
    },
    {
     "name": "stderr",
     "output_type": "stream",
     "text": [
      "stty: 'standard input': Inappropriate ioctl for device\n",
      "stty: 'standard input': Inappropriate ioctl for device\n",
      "stty: 'standard input': Inappropriate ioctl for device\n",
      "stty: 'standard input': Inappropriate ioctl for device\n",
      "stty: 'standard input': Inappropriate ioctl for device\n",
      "stty: 'standard input': Inappropriate ioctl for device\n"
     ]
    },
    {
     "name": "stdout",
     "output_type": "stream",
     "text": [
      "Running ADNI_141_S_1137_MR_MPR__GradWarp__B1_Correction__N3__Scaled_Br_20080225094539188_S34530_I92415.nii\n"
     ]
    },
    {
     "name": "stderr",
     "output_type": "stream",
     "text": [
      "stty: 'standard input': Inappropriate ioctl for device\n",
      "stty: 'standard input': Inappropriate ioctl for device\n",
      "stty: 'standard input': Inappropriate ioctl for device\n",
      "stty: 'standard input': Inappropriate ioctl for device\n",
      "stty: 'standard input': Inappropriate ioctl for device\n",
      "stty: 'standard input': Inappropriate ioctl for device\n"
     ]
    },
    {
     "name": "stdout",
     "output_type": "stream",
     "text": [
      "Running ADNI_141_S_1137_MR_MPR__GradWarp__B1_Correction__N3__Scaled_Br_20080520101821090_S49443_I106232.nii\n"
     ]
    },
    {
     "name": "stderr",
     "output_type": "stream",
     "text": [
      "stty: 'standard input': Inappropriate ioctl for device\n",
      "stty: 'standard input': Inappropriate ioctl for device\n",
      "stty: 'standard input': Inappropriate ioctl for device\n",
      "stty: 'standard input': Inappropriate ioctl for device\n",
      "stty: 'standard input': Inappropriate ioctl for device\n",
      "stty: 'standard input': Inappropriate ioctl for device\n"
     ]
    },
    {
     "name": "stdout",
     "output_type": "stream",
     "text": [
      "Running ADNI_141_S_1152_MR_MPR-R__GradWarp__B1_Correction__N3__Scaled_Br_20080410142945285_S45464_I102067.nii\n"
     ]
    },
    {
     "name": "stderr",
     "output_type": "stream",
     "text": [
      "stty: 'standard input': Inappropriate ioctl for device\n",
      "stty: 'standard input': Inappropriate ioctl for device\n",
      "stty: 'standard input': Inappropriate ioctl for device\n",
      "stty: 'standard input': Inappropriate ioctl for device\n",
      "stty: 'standard input': Inappropriate ioctl for device\n",
      "stty: 'standard input': Inappropriate ioctl for device\n"
     ]
    },
    {
     "name": "stdout",
     "output_type": "stream",
     "text": [
      "Running ADNI_141_S_1152_MR_MPR__GradWarp__B1_Correction__N3__Scaled_Br_20070411123107490_S24487_I48590.nii\n"
     ]
    },
    {
     "name": "stderr",
     "output_type": "stream",
     "text": [
      "stty: 'standard input': Inappropriate ioctl for device\n",
      "stty: 'standard input': Inappropriate ioctl for device\n",
      "stty: 'standard input': Inappropriate ioctl for device\n",
      "stty: 'standard input': Inappropriate ioctl for device\n",
      "stty: 'standard input': Inappropriate ioctl for device\n",
      "stty: 'standard input': Inappropriate ioctl for device\n"
     ]
    },
    {
     "name": "stdout",
     "output_type": "stream",
     "text": [
      "Running ADNI_141_S_1152_MR_MPR__GradWarp__B1_Correction__N3__Scaled_Br_20071029115026838_S36918_I79410.nii\n"
     ]
    },
    {
     "name": "stderr",
     "output_type": "stream",
     "text": [
      "stty: 'standard input': Inappropriate ioctl for device\n",
      "stty: 'standard input': Inappropriate ioctl for device\n",
      "stty: 'standard input': Inappropriate ioctl for device\n",
      "stty: 'standard input': Inappropriate ioctl for device\n",
      "stty: 'standard input': Inappropriate ioctl for device\n",
      "stty: 'standard input': Inappropriate ioctl for device\n"
     ]
    },
    {
     "name": "stdout",
     "output_type": "stream",
     "text": [
      "Running ADNI_141_S_1245_MR_MPR__GradWarp__B1_Correction__N3__Scaled_Br_20070411123838725_S25653_I48599.nii\n"
     ]
    },
    {
     "name": "stderr",
     "output_type": "stream",
     "text": [
      "stty: 'standard input': Inappropriate ioctl for device\n",
      "stty: 'standard input': Inappropriate ioctl for device\n",
      "stty: 'standard input': Inappropriate ioctl for device\n",
      "stty: 'standard input': Inappropriate ioctl for device\n",
      "stty: 'standard input': Inappropriate ioctl for device\n",
      "stty: 'standard input': Inappropriate ioctl for device\n"
     ]
    },
    {
     "name": "stdout",
     "output_type": "stream",
     "text": [
      "Running ADNI_141_S_1245_MR_MPR__GradWarp__B1_Correction__N3__Scaled_Br_20070923141610048_S37967_I74748.nii\n"
     ]
    },
    {
     "name": "stderr",
     "output_type": "stream",
     "text": [
      "stty: 'standard input': Inappropriate ioctl for device\n",
      "stty: 'standard input': Inappropriate ioctl for device\n",
      "stty: 'standard input': Inappropriate ioctl for device\n",
      "stty: 'standard input': Inappropriate ioctl for device\n",
      "stty: 'standard input': Inappropriate ioctl for device\n",
      "stty: 'standard input': Inappropriate ioctl for device\n"
     ]
    },
    {
     "name": "stdout",
     "output_type": "stream",
     "text": [
      "Running ADNI_141_S_1245_MR_MPR__GradWarp__B1_Correction__N3__Scaled_Br_20080522181746998_S49889_I106630.nii\n"
     ]
    },
    {
     "name": "stderr",
     "output_type": "stream",
     "text": [
      "stty: 'standard input': Inappropriate ioctl for device\n",
      "stty: 'standard input': Inappropriate ioctl for device\n",
      "stty: 'standard input': Inappropriate ioctl for device\n",
      "stty: 'standard input': Inappropriate ioctl for device\n",
      "stty: 'standard input': Inappropriate ioctl for device\n",
      "stty: 'standard input': Inappropriate ioctl for device\n"
     ]
    },
    {
     "name": "stdout",
     "output_type": "stream",
     "text": [
      "Running ADNI_141_S_1255_MR_MPR__GradWarp__B1_Correction__N3__Scaled_Br_20070411124635135_S25887_I48608.nii\n"
     ]
    },
    {
     "name": "stderr",
     "output_type": "stream",
     "text": [
      "stty: 'standard input': Inappropriate ioctl for device\n",
      "stty: 'standard input': Inappropriate ioctl for device\n",
      "stty: 'standard input': Inappropriate ioctl for device\n",
      "stty: 'standard input': Inappropriate ioctl for device\n",
      "stty: 'standard input': Inappropriate ioctl for device\n",
      "stty: 'standard input': Inappropriate ioctl for device\n"
     ]
    },
    {
     "name": "stdout",
     "output_type": "stream",
     "text": [
      "Running ADNI_141_S_1255_MR_MPR__GradWarp__B1_Correction__N3__Scaled_Br_20080520095819319_S49437_I106222.nii\n"
     ]
    },
    {
     "name": "stderr",
     "output_type": "stream",
     "text": [
      "stty: 'standard input': Inappropriate ioctl for device\n",
      "stty: 'standard input': Inappropriate ioctl for device\n",
      "stty: 'standard input': Inappropriate ioctl for device\n",
      "stty: 'standard input': Inappropriate ioctl for device\n",
      "stty: 'standard input': Inappropriate ioctl for device\n",
      "stty: 'standard input': Inappropriate ioctl for device\n"
     ]
    },
    {
     "name": "stdout",
     "output_type": "stream",
     "text": [
      "Running ADNI_141_S_1255_MR_MPR__GradWarp__B1_Correction__N3__Scaled_Br_20080515133750933_S49217_I105837.nii\n"
     ]
    },
    {
     "name": "stderr",
     "output_type": "stream",
     "text": [
      "stty: 'standard input': Inappropriate ioctl for device\n",
      "stty: 'standard input': Inappropriate ioctl for device\n",
      "stty: 'standard input': Inappropriate ioctl for device\n",
      "stty: 'standard input': Inappropriate ioctl for device\n",
      "stty: 'standard input': Inappropriate ioctl for device\n",
      "stty: 'standard input': Inappropriate ioctl for device\n"
     ]
    },
    {
     "name": "stdout",
     "output_type": "stream",
     "text": [
      "Running ADNI_941_S_1194_MR_MPR__GradWarp__B1_Correction__N3__Scaled_Br_20070801195551880_S25323_I63847.nii\n"
     ]
    },
    {
     "name": "stderr",
     "output_type": "stream",
     "text": [
      "stty: 'standard input': Inappropriate ioctl for device\n",
      "stty: 'standard input': Inappropriate ioctl for device\n",
      "stty: 'standard input': Inappropriate ioctl for device\n",
      "stty: 'standard input': Inappropriate ioctl for device\n",
      "stty: 'standard input': Inappropriate ioctl for device\n",
      "stty: 'standard input': Inappropriate ioctl for device\n"
     ]
    },
    {
     "name": "stdout",
     "output_type": "stream",
     "text": [
      "Running ADNI_941_S_1194_MR_MPR__GradWarp__B1_Correction__N3__Scaled_Br_20070925114520658_S38206_I75141.nii\n"
     ]
    },
    {
     "name": "stderr",
     "output_type": "stream",
     "text": [
      "stty: 'standard input': Inappropriate ioctl for device\n",
      "stty: 'standard input': Inappropriate ioctl for device\n",
      "stty: 'standard input': Inappropriate ioctl for device\n",
      "stty: 'standard input': Inappropriate ioctl for device\n",
      "stty: 'standard input': Inappropriate ioctl for device\n",
      "stty: 'standard input': Inappropriate ioctl for device\n"
     ]
    },
    {
     "name": "stdout",
     "output_type": "stream",
     "text": [
      "Running ADNI_941_S_1194_MR_MPR__GradWarp__B1_Correction__N3__Scaled_Br_20080423181159616_S47776_I103731.nii\n"
     ]
    },
    {
     "name": "stderr",
     "output_type": "stream",
     "text": [
      "stty: 'standard input': Inappropriate ioctl for device\n",
      "stty: 'standard input': Inappropriate ioctl for device\n",
      "stty: 'standard input': Inappropriate ioctl for device\n",
      "stty: 'standard input': Inappropriate ioctl for device\n",
      "stty: 'standard input': Inappropriate ioctl for device\n",
      "stty: 'standard input': Inappropriate ioctl for device\n"
     ]
    },
    {
     "name": "stdout",
     "output_type": "stream",
     "text": [
      "Running ADNI_941_S_1197_MR_MPR__GradWarp__B1_Correction__N3__Scaled_Br_20070809164131486_S25332_I66462.nii\n"
     ]
    },
    {
     "name": "stderr",
     "output_type": "stream",
     "text": [
      "stty: 'standard input': Inappropriate ioctl for device\n",
      "stty: 'standard input': Inappropriate ioctl for device\n",
      "stty: 'standard input': Inappropriate ioctl for device\n",
      "stty: 'standard input': Inappropriate ioctl for device\n",
      "stty: 'standard input': Inappropriate ioctl for device\n",
      "stty: 'standard input': Inappropriate ioctl for device\n"
     ]
    },
    {
     "name": "stdout",
     "output_type": "stream",
     "text": [
      "Running ADNI_941_S_1197_MR_MPR__GradWarp__B1_Correction__N3__Scaled_Br_20071028133251684_S38742_I79115.nii\n"
     ]
    },
    {
     "name": "stderr",
     "output_type": "stream",
     "text": [
      "stty: 'standard input': Inappropriate ioctl for device\n",
      "stty: 'standard input': Inappropriate ioctl for device\n",
      "stty: 'standard input': Inappropriate ioctl for device\n",
      "stty: 'standard input': Inappropriate ioctl for device\n",
      "stty: 'standard input': Inappropriate ioctl for device\n",
      "stty: 'standard input': Inappropriate ioctl for device\n"
     ]
    },
    {
     "name": "stdout",
     "output_type": "stream",
     "text": [
      "Running ADNI_941_S_1197_MR_MPR__GradWarp__B1_Correction__N3__Scaled_Br_20080604081641800_S50683_I108336.nii\n"
     ]
    },
    {
     "name": "stderr",
     "output_type": "stream",
     "text": [
      "stty: 'standard input': Inappropriate ioctl for device\n",
      "stty: 'standard input': Inappropriate ioctl for device\n",
      "stty: 'standard input': Inappropriate ioctl for device\n",
      "stty: 'standard input': Inappropriate ioctl for device\n",
      "stty: 'standard input': Inappropriate ioctl for device\n",
      "stty: 'standard input': Inappropriate ioctl for device\n"
     ]
    },
    {
     "name": "stdout",
     "output_type": "stream",
     "text": [
      "Running ADNI_941_S_1202_MR_MPR-R__GradWarp__B1_Correction__N3__Scaled_Br_20070801201337815_S25680_I63874.nii\n"
     ]
    },
    {
     "name": "stderr",
     "output_type": "stream",
     "text": [
      "stty: 'standard input': Inappropriate ioctl for device\n",
      "stty: 'standard input': Inappropriate ioctl for device\n",
      "stty: 'standard input': Inappropriate ioctl for device\n",
      "stty: 'standard input': Inappropriate ioctl for device\n",
      "stty: 'standard input': Inappropriate ioctl for device\n",
      "stty: 'standard input': Inappropriate ioctl for device\n"
     ]
    },
    {
     "name": "stdout",
     "output_type": "stream",
     "text": [
      "Running ADNI_941_S_1202_MR_MPR__GradWarp__B1_Correction__N3__Scaled_Br_20070925115348726_S38468_I75150.nii\n"
     ]
    },
    {
     "name": "stderr",
     "output_type": "stream",
     "text": [
      "stty: 'standard input': Inappropriate ioctl for device\n",
      "stty: 'standard input': Inappropriate ioctl for device\n",
      "stty: 'standard input': Inappropriate ioctl for device\n",
      "stty: 'standard input': Inappropriate ioctl for device\n",
      "stty: 'standard input': Inappropriate ioctl for device\n",
      "stty: 'standard input': Inappropriate ioctl for device\n"
     ]
    },
    {
     "name": "stdout",
     "output_type": "stream",
     "text": [
      "Running ADNI_941_S_1202_MR_MPR__GradWarp__B1_Correction__N3__Scaled_Br_20080514112323070_S46683_I105437.nii\n"
     ]
    },
    {
     "name": "stderr",
     "output_type": "stream",
     "text": [
      "stty: 'standard input': Inappropriate ioctl for device\n",
      "stty: 'standard input': Inappropriate ioctl for device\n",
      "stty: 'standard input': Inappropriate ioctl for device\n",
      "stty: 'standard input': Inappropriate ioctl for device\n",
      "stty: 'standard input': Inappropriate ioctl for device\n",
      "stty: 'standard input': Inappropriate ioctl for device\n"
     ]
    },
    {
     "name": "stdout",
     "output_type": "stream",
     "text": [
      "Running ADNI_941_S_1311_MR_MPR-R__GradWarp__B1_Correction__N3__Scaled_Br_20080313131733540_S40710_I97341.nii\n"
     ]
    },
    {
     "name": "stderr",
     "output_type": "stream",
     "text": [
      "stty: 'standard input': Inappropriate ioctl for device\n",
      "stty: 'standard input': Inappropriate ioctl for device\n",
      "stty: 'standard input': Inappropriate ioctl for device\n",
      "stty: 'standard input': Inappropriate ioctl for device\n",
      "stty: 'standard input': Inappropriate ioctl for device\n",
      "stty: 'standard input': Inappropriate ioctl for device\n"
     ]
    },
    {
     "name": "stdout",
     "output_type": "stream",
     "text": [
      "Running ADNI_941_S_1311_MR_MPR__GradWarp__B1_Correction__N3__Scaled_Br_20080313130949784_S27408_I97327.nii\n"
     ]
    },
    {
     "name": "stderr",
     "output_type": "stream",
     "text": [
      "stty: 'standard input': Inappropriate ioctl for device\n",
      "stty: 'standard input': Inappropriate ioctl for device\n",
      "stty: 'standard input': Inappropriate ioctl for device\n",
      "stty: 'standard input': Inappropriate ioctl for device\n",
      "stty: 'standard input': Inappropriate ioctl for device\n",
      "stty: 'standard input': Inappropriate ioctl for device\n"
     ]
    },
    {
     "name": "stdout",
     "output_type": "stream",
     "text": [
      "Running ADNI_941_S_1311_MR_MPR__GradWarp__B1_Correction__N3__Scaled_Br_20080703170241434_S51039_I112538.nii\n"
     ]
    },
    {
     "name": "stderr",
     "output_type": "stream",
     "text": [
      "stty: 'standard input': Inappropriate ioctl for device\n",
      "stty: 'standard input': Inappropriate ioctl for device\n",
      "stty: 'standard input': Inappropriate ioctl for device\n",
      "stty: 'standard input': Inappropriate ioctl for device\n",
      "stty: 'standard input': Inappropriate ioctl for device\n"
     ]
    },
    {
     "name": "stdout",
     "output_type": "stream",
     "text": [
      "2298\n"
     ]
    },
    {
     "name": "stderr",
     "output_type": "stream",
     "text": [
      "stty: 'standard input': Inappropriate ioctl for device\n"
     ]
    }
   ],
   "source": [
    "from pathlib import Path\n",
    "import re\n",
    "\n",
    "files_complete = 0\n",
    "\n",
    "def proc_sub(spath):\n",
    "    global files_complete\n",
    "    for spath2 in spath.iterdir():\n",
    "        if spath2.is_dir():\n",
    "            proc_sub(spath2)\n",
    "            continue\n",
    "        m = re.match('.*.nii$', spath2.name)\n",
    "        if not m:\n",
    "            continue\n",
    "        if re.match('^y_r|wr|r|mean', spath2.name):\n",
    "            continue\n",
    "            \n",
    "        rfile = str(spath2.parent) + '/r' + spath2.name\n",
    "        wrfile = str(spath2.parent) + '/wr' + spath2.name\n",
    "        \n",
    "        if Path(wrfile).exists():\n",
    "            print(f'Already have {spath2.name}')\n",
    "            files_complete += 1\n",
    "            continue\n",
    "\n",
    "        print(f'Running {spath2.name}')\n",
    "\n",
    "        realign = spm.Realign()\n",
    "        realign.inputs.in_files = str(spath2)\n",
    "        realign.inputs.register_to_mean = True\n",
    "        realign.run()\n",
    "\n",
    "        norm12 = spm.Normalize12()\n",
    "        norm12.inputs.image_to_align = rfile\n",
    "        norm12.inputs.apply_to_files = rfile\n",
    "        norm12.run()\n",
    "        \n",
    "        files_complete += 1\n",
    "\n",
    "adnidir = '/run/media/anton/AntonData1/ADNI/ADNI_1_1.5T/ADNI/'\n",
    "for sub in Path(adnidir).iterdir():\n",
    "    if not sub.is_dir():\n",
    "        continue\n",
    "    proc_sub(sub)\n",
    "            \n",
    "print(files_complete)"
   ]
  },
  {
   "cell_type": "code",
   "execution_count": null,
   "id": "ff865265",
   "metadata": {},
   "outputs": [],
   "source": []
  }
 ],
 "metadata": {
  "kernelspec": {
   "display_name": "Python 3 (ipykernel)",
   "language": "python",
   "name": "python3"
  },
  "language_info": {
   "codemirror_mode": {
    "name": "ipython",
    "version": 3
   },
   "file_extension": ".py",
   "mimetype": "text/x-python",
   "name": "python",
   "nbconvert_exporter": "python",
   "pygments_lexer": "ipython3",
   "version": "3.10.9"
  }
 },
 "nbformat": 4,
 "nbformat_minor": 5
}
