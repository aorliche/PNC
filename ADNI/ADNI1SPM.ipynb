{
 "cells": [
  {
   "cell_type": "code",
   "execution_count": 1,
   "id": "234b006e",
   "metadata": {},
   "outputs": [
    {
     "name": "stderr",
     "output_type": "stream",
     "text": [
      "stty: 'standard input': Inappropriate ioctl for device\n",
      "stty: 'standard input': Inappropriate ioctl for device\n",
      "stty: 'standard input': Inappropriate ioctl for device\n"
     ]
    },
    {
     "data": {
      "text/plain": [
       "'12.7771'"
      ]
     },
     "execution_count": 1,
     "metadata": {},
     "output_type": "execute_result"
    }
   ],
   "source": [
    "from nipype.interfaces import spm\n",
    "\n",
    "spm.SPMCommand.set_mlab_paths(paths='/home/anton/Apps/SPM/spm12/')\n",
    "spm.SPMCommand().version"
   ]
  },
  {
   "cell_type": "code",
   "execution_count": 9,
   "id": "c03c888e",
   "metadata": {},
   "outputs": [
    {
     "name": "stdout",
     "output_type": "stream",
     "text": [
      "0 Running I695057_Axial_rsfMRI_(Eyes_Open)_10_min_-PJ_20160426125100_9.nii\n"
     ]
    },
    {
     "name": "stderr",
     "output_type": "stream",
     "text": [
      "stty: 'standard input': Inappropriate ioctl for device\n",
      "stty: 'standard input': Inappropriate ioctl for device\n",
      "stty: 'standard input': Inappropriate ioctl for device\n",
      "stty: 'standard input': Inappropriate ioctl for device\n",
      "stty: 'standard input': Inappropriate ioctl for device\n",
      "stty: 'standard input': Inappropriate ioctl for device\n"
     ]
    },
    {
     "name": "stdout",
     "output_type": "stream",
     "text": [
      "1 Running I680900_Axial_rsfMRI_(Eyes_Open)_10_min_-PJ_20150713115044_9.nii\n"
     ]
    },
    {
     "name": "stderr",
     "output_type": "stream",
     "text": [
      "stty: 'standard input': Inappropriate ioctl for device\n",
      "stty: 'standard input': Inappropriate ioctl for device\n",
      "stty: 'standard input': Inappropriate ioctl for device\n",
      "stty: 'standard input': Inappropriate ioctl for device\n",
      "stty: 'standard input': Inappropriate ioctl for device\n",
      "stty: 'standard input': Inappropriate ioctl for device\n"
     ]
    },
    {
     "name": "stdout",
     "output_type": "stream",
     "text": [
      "2 Running I638776_Axial_rsfMRI_(Eyes_Open)_10_min_-PJ_20160222130702_10.nii\n"
     ]
    },
    {
     "name": "stderr",
     "output_type": "stream",
     "text": [
      "stty: 'standard input': Inappropriate ioctl for device\n",
      "stty: 'standard input': Inappropriate ioctl for device\n",
      "stty: 'standard input': Inappropriate ioctl for device\n",
      "stty: 'standard input': Inappropriate ioctl for device\n",
      "stty: 'standard input': Inappropriate ioctl for device\n",
      "stty: 'standard input': Inappropriate ioctl for device\n"
     ]
    },
    {
     "name": "stdout",
     "output_type": "stream",
     "text": [
      "3 Running I631785_Axial_rsfMRI_(Eyes_Open)_10_min_-PJ_20160215123328_9.nii\n"
     ]
    },
    {
     "name": "stderr",
     "output_type": "stream",
     "text": [
      "stty: 'standard input': Inappropriate ioctl for device\n",
      "stty: 'standard input': Inappropriate ioctl for device\n",
      "stty: 'standard input': Inappropriate ioctl for device\n",
      "stty: 'standard input': Inappropriate ioctl for device\n",
      "stty: 'standard input': Inappropriate ioctl for device\n",
      "stty: 'standard input': Inappropriate ioctl for device\n"
     ]
    },
    {
     "name": "stdout",
     "output_type": "stream",
     "text": [
      "4 Running I680924_Axial_rsfMRI_(Eyes_Open)_10_min_-PJ_20150825122550_9.nii\n"
     ]
    },
    {
     "name": "stderr",
     "output_type": "stream",
     "text": [
      "stty: 'standard input': Inappropriate ioctl for device\n",
      "stty: 'standard input': Inappropriate ioctl for device\n",
      "stty: 'standard input': Inappropriate ioctl for device\n",
      "stty: 'standard input': Inappropriate ioctl for device\n",
      "stty: 'standard input': Inappropriate ioctl for device\n"
     ]
    },
    {
     "name": "stdout",
     "output_type": "stream",
     "text": [
      "5\n"
     ]
    },
    {
     "name": "stderr",
     "output_type": "stream",
     "text": [
      "stty: 'standard input': Inappropriate ioctl for device\n"
     ]
    }
   ],
   "source": [
    "from pathlib import Path\n",
    "import re\n",
    "import os\n",
    "\n",
    "files_complete = 0\n",
    "\n",
    "def proc_sub(spath):\n",
    "    global files_complete\n",
    "    if not spath.exists():\n",
    "        return\n",
    "    for spath2 in spath.iterdir():\n",
    "        if spath2.is_dir():\n",
    "            proc_sub(spath2)\n",
    "            continue\n",
    "        m = re.match('.*[^a].nii$', spath2.name)\n",
    "        if not m:\n",
    "            continue\n",
    "        m2 = re.match('^(y_r|r|mean).*', spath2.name)\n",
    "        m3 = re.match('^wr.*', spath2.name)\n",
    "        if m2:\n",
    "            todel = str(spath2.parent) + '/' + m2.group(0)\n",
    "            os.unlink(todel)\n",
    "            print(f'Deleted {todel}')\n",
    "            continue\n",
    "        if m3:\n",
    "            continue\n",
    "            \n",
    "#         print(f'Deleting {m.group(0)}')\n",
    "#         todel = str(spath2.parent) + '/' + m.group(0)\n",
    "#         os.unlink(todel)\n",
    "#         continue\n",
    "            \n",
    "        rfile = str(spath2.parent) + '/r' + spath2.name\n",
    "        wrfile = str(spath2.parent) + '/wr' + spath2.name\n",
    "        \n",
    "        if Path(wrfile).exists():\n",
    "            print(f'{files_complete} Already have {Path(wrfile).name}')\n",
    "            files_complete += 1\n",
    "            continue\n",
    "\n",
    "        print(f'{files_complete} Running {spath2.name}')\n",
    "\n",
    "        try:\n",
    "            realign = spm.Realign()\n",
    "            realign.inputs.in_files = str(spath2)\n",
    "            realign.inputs.register_to_mean = True\n",
    "            realign.run()\n",
    "\n",
    "            norm12 = spm.Normalize12()\n",
    "            norm12.inputs.image_to_align = rfile\n",
    "            norm12.inputs.apply_to_files = rfile\n",
    "            norm12.run()\n",
    "        \n",
    "            files_complete += 1\n",
    "            \n",
    "        except:\n",
    "            print('Got exception!')\n",
    "\n",
    "adnidir = '/run/media/anton/AntonData1/ADNI/fMRI/ADNI'\n",
    "places = ['Axial_MB_rsfMRI__Eyes_Open_', 'Resting_State_fMRI', 'Axial_rsfMRI__Eyes_Open_', \n",
    "          'Axial_fcMRI__EYES_OPEN_', 'Axial_fcMRI__Eyes_Open_', 'Axial_rsfMRI__EYES_OPEN_',\n",
    "          'Axial_rsfMRI__Eyes_Open__-phase_P_to_A', 'AXIAL_RS_fMRI__EYES_OPEN_',\n",
    "          'Axial_fcMRI_0_angle__EYES_OPEN_', 'Axial_RESTING_fcMRI__EYES_OPEN_',\n",
    "          'Extended_Resting_State_fMRI', 'Extended_AXIAL_rsfMRI_EYES_OPEN',\n",
    "          'Axial_rsFMRI_Eyes_Open', 'Axial_rsfMRI__Eyes_Open__10_min__-PJ']\n",
    "\n",
    "for sub in Path(adnidir).iterdir():\n",
    "    if not sub.is_dir():\n",
    "        continue\n",
    "    proc_sub(sub / places[-1])\n",
    "            \n",
    "print(files_complete)"
   ]
  },
  {
   "cell_type": "code",
   "execution_count": null,
   "id": "ff865265",
   "metadata": {},
   "outputs": [],
   "source": []
  }
 ],
 "metadata": {
  "kernelspec": {
   "display_name": "Python 3 (ipykernel)",
   "language": "python",
   "name": "python3"
  },
  "language_info": {
   "codemirror_mode": {
    "name": "ipython",
    "version": 3
   },
   "file_extension": ".py",
   "mimetype": "text/x-python",
   "name": "python",
   "nbconvert_exporter": "python",
   "pygments_lexer": "ipython3",
   "version": "3.13.1"
  }
 },
 "nbformat": 4,
 "nbformat_minor": 5
}
