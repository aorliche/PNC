{
 "cells": [
  {
   "cell_type": "markdown",
   "id": "95df460c",
   "metadata": {},
   "source": [
    "# Toy 1D problem\n",
    "\n",
    "2 1D signals:\n",
    "- Increasing signal\n",
    "- Decreasing signal\n",
    "\n",
    "If that doesn't work:\n",
    "- Flat or increasing signal\n",
    "- Sinusoid"
   ]
  },
  {
   "cell_type": "code",
   "execution_count": null,
   "id": "c329bfec",
   "metadata": {},
   "outputs": [],
   "source": []
  }
 ],
 "metadata": {
  "kernelspec": {
   "display_name": "Python 3 (ipykernel)",
   "language": "python",
   "name": "python3"
  },
  "language_info": {
   "codemirror_mode": {
    "name": "ipython",
    "version": 3
   },
   "file_extension": ".py",
   "mimetype": "text/x-python",
   "name": "python",
   "nbconvert_exporter": "python",
   "pygments_lexer": "ipython3",
   "version": "3.10.8"
  }
 },
 "nbformat": 4,
 "nbformat_minor": 5
}
