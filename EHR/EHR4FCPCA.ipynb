{
 "cells": [
  {
   "cell_type": "code",
   "execution_count": 1,
   "id": "700b7168-704c-4fb6-a423-4ae1dcda3b4d",
   "metadata": {},
   "outputs": [
    {
     "name": "stdout",
     "output_type": "stream",
     "text": [
      "38679\n",
      "[1000217, 1000499, 1000787, 1000888, 1001087, 1001218, 1001389, 1001563, 1002015, 1002250]\n"
     ]
    }
   ],
   "source": [
    "# Read fcs for PCA\n",
    "\n",
    "import pickle\n",
    "\n",
    "fcsfile = '/run/media/anton/Elements/UKB/fcs.pkl'\n",
    "\n",
    "fcs = pickle.load(open(fcsfile, 'rb'))\n",
    "\n",
    "subs = sorted(list(fcs.keys()))\n",
    "print(len(subs))\n",
    "print(subs[:10])"
   ]
  },
  {
   "cell_type": "code",
   "execution_count": 3,
   "id": "ea7ca66b-ca41-4c04-92b2-9fc8513432e2",
   "metadata": {},
   "outputs": [
    {
     "name": "stdout",
     "output_type": "stream",
     "text": [
      "(38679, 64620)\n"
     ]
    }
   ],
   "source": [
    "import numpy as np\n",
    "\n",
    "fcvec = []\n",
    "\n",
    "for sub in subs:\n",
    "    fcvec.append(fcs[sub])\n",
    "\n",
    "fcs = np.stack(fcvec)\n",
    "print(fcs.shape)"
   ]
  },
  {
   "cell_type": "code",
   "execution_count": 8,
   "id": "5e3336e0-73c5-4cc7-99bb-23742a6c89a5",
   "metadata": {},
   "outputs": [
    {
     "name": "stdout",
     "output_type": "stream",
     "text": [
      "(38679, 200)\n",
      "(200, 64620)\n",
      "[0.24794185 0.27699327 0.30154797 0.31841067 0.33216227 0.34313607\n",
      " 0.35208528 0.3602022  0.36774417 0.37454022 0.38058992 0.38657812\n",
      " 0.39185539 0.39695364 0.4017187  0.40620502 0.41048166 0.41462513\n",
      " 0.41862369 0.42243069 0.42614944 0.42961258 0.43300191 0.43633262\n",
      " 0.43947892 0.44252464 0.44545361 0.44835344 0.45115026 0.45393819\n",
      " 0.45658871 0.45917911 0.46175524 0.46428783 0.466765   0.46919877\n",
      " 0.47155003 0.47388117 0.4761889  0.47845847 0.48070137 0.48287283\n",
      " 0.48500176 0.48711176 0.48917291 0.49118526 0.4931778  0.49516549\n",
      " 0.49708617 0.49897376 0.5008373  0.50266747 0.50446269 0.50625221\n",
      " 0.50802692 0.50977174 0.51150511 0.51321142 0.51489706 0.51656951\n",
      " 0.51823129 0.51988797 0.52152683 0.52313614 0.52473856 0.52633901\n",
      " 0.52790966 0.5294611  0.53098877 0.53251134 0.53401062 0.5354992\n",
      " 0.53698467 0.53845356 0.539907   0.54135521 0.54278877 0.54420774\n",
      " 0.54561054 0.5469975  0.54837543 0.54974184 0.55110001 0.5524375\n",
      " 0.55377297 0.55509227 0.55641074 0.55772174 0.55902129 0.5603049\n",
      " 0.56158006 0.56285297 0.56411401 0.56536895 0.56661049 0.5678443\n",
      " 0.56907182 0.57029536 0.57151324 0.57272598 0.57392536 0.57512304\n",
      " 0.57630393 0.57748474 0.57865695 0.57982431 0.58098146 0.58213541\n",
      " 0.58328482 0.58441605 0.58553549 0.5866519  0.58776132 0.58886608\n",
      " 0.58996776 0.59106403 0.5921526  0.59323702 0.5943135  0.59538342\n",
      " 0.59644557 0.59750016 0.59854768 0.59958892 0.60062468 0.60165679\n",
      " 0.60268607 0.60370585 0.60472285 0.60573224 0.60673702 0.60773699\n",
      " 0.60873238 0.60972292 0.61070105 0.61167678 0.61264416 0.61360687\n",
      " 0.614566   0.61551756 0.61646413 0.61740768 0.61834842 0.61928359\n",
      " 0.62021103 0.6211346  0.6220559  0.62297647 0.623895   0.62480902\n",
      " 0.62571356 0.62661375 0.62750934 0.62840366 0.62929372 0.63017766\n",
      " 0.63105617 0.63193142 0.63280376 0.63367426 0.63454011 0.63540183\n",
      " 0.63626145 0.63711313 0.63795993 0.63880542 0.63964676 0.64048432\n",
      " 0.64131883 0.64214871 0.64297683 0.64379961 0.64461637 0.64543022\n",
      " 0.64624015 0.64704224 0.6478435  0.64864035 0.64943241 0.65022025\n",
      " 0.651008   0.65178855 0.65256738 0.65333892 0.65410944 0.6548734\n",
      " 0.6556358  0.65639738 0.65714765 0.65789625 0.65864178 0.6593851\n",
      " 0.66012587 0.66085909 0.66158692 0.66231167 0.66303149 0.66374698\n",
      " 0.66445795 0.6651596 ]\n"
     ]
    }
   ],
   "source": [
    "from sklearn.decomposition import PCA\n",
    "\n",
    "pca = PCA(n_components=200)\n",
    "pca.fit(fcs[:3000])\n",
    "fcs_xfm = pca.transform(fcs)\n",
    "\n",
    "print(fcs_xfm.shape)\n",
    "print(pca.components_.shape)\n",
    "print(np.cumsum(pca.explained_variance_ratio_))"
   ]
  },
  {
   "cell_type": "code",
   "execution_count": 10,
   "id": "60e71a37-a3cd-4b37-bdda-709343c82541",
   "metadata": {},
   "outputs": [
    {
     "name": "stdout",
     "output_type": "stream",
     "text": [
      "Done\n"
     ]
    }
   ],
   "source": [
    "# Write out PCA components\n",
    "\n",
    "output_loc = '/run/media/anton/Elements/UKB/fc_pca'\n",
    "\n",
    "import pickle\n",
    "\n",
    "pca_fcs = dict()\n",
    "\n",
    "for i,sub in enumerate(subs):\n",
    "    pca_fcs[sub] = fcs_xfm[i]\n",
    "\n",
    "pickle.dump(pca_fcs, open(f'{output_loc}/fcs_pca200.pkl', 'wb'))\n",
    "pickle.dump(pca.components_, open(f'{output_loc}/components_pca200.pkl', 'wb'))\n",
    "pickle.dump(np.cumsum(pca.explained_variance_ratio_), open(f'{output_loc}/var_explained_pca200.pkl', 'wb'))\n",
    "\n",
    "print('Done')"
   ]
  },
  {
   "cell_type": "code",
   "execution_count": null,
   "id": "9c7fecdd-73b1-4fac-a728-f9c4e9657c7a",
   "metadata": {},
   "outputs": [],
   "source": []
  }
 ],
 "metadata": {
  "kernelspec": {
   "display_name": "Python 3 (ipykernel)",
   "language": "python",
   "name": "python3"
  },
  "language_info": {
   "codemirror_mode": {
    "name": "ipython",
    "version": 3
   },
   "file_extension": ".py",
   "mimetype": "text/x-python",
   "name": "python",
   "nbconvert_exporter": "python",
   "pygments_lexer": "ipython3",
   "version": "3.13.1"
  }
 },
 "nbformat": 4,
 "nbformat_minor": 5
}
