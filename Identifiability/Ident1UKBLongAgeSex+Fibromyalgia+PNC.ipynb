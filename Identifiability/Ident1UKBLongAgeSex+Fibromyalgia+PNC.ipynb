{
 "cells": [
  {
   "cell_type": "code",
   "execution_count": 1,
   "id": "1a2b60c8",
   "metadata": {},
   "outputs": [
    {
     "name": "stdout",
     "output_type": "stream",
     "text": [
      "dict_keys(['f_22001_0_0', 'f_21003_3_0', 'f_21003_2_0', 'f_21000_0_0', 'CaAfCarDiff', 'CaIndDiff', 'CaChiDiff', 'f_21000_0_0_comb', 'longitudinal', '22438-0.0', '22828-0.0', '26201-0.0', '26202-0.0', '26203-0.0', '26204-0.0', '26205-0.0', '26206-0.0', '26207-0.0', '26208-0.0', '26209-0.0', '26210-0.0', '26211-0.0', '26212-0.0', '26213-0.0', '26214-0.0', '26215-0.0', '26216-0.0', '26217-0.0', '26218-0.0', '26219-0.0', '26220-0.0', '26221-0.0', '26222-0.0', '26223-0.0', '26224-0.0', '26225-0.0', '26226-0.0', '26227-0.0', '26228-0.0', '26229-0.0', '26231-0.0', '26232-0.0', '26233-0.0', '26234-0.0', '26235-0.0', '26236-0.0', '26237-0.0', '26238-0.0', '26239-0.0', '26240-0.0', '26241-0.0', '26242-0.0', '26243-0.0', '26244-0.0', '26245-0.0', '26246-0.0', '26247-0.0', '26248-0.0', '26249-0.0', '26250-0.0', '26251-0.0', '26252-0.0', '26253-0.0', '26254-0.0', '26255-0.0', '26256-0.0', '26257-0.0', '26258-0.0', '26259-0.0', '26260-0.0', '26261-0.0', '26262-0.0', '26263-0.0', '26264-0.0', '26265-0.0', '26266-0.0', '26267-0.0', '26268-0.0', '26269-0.0', '26270-0.0', '26271-0.0', '26272-0.0', '26273-0.0', '26274-0.0', '26275-0.0', '26276-0.0', '26277-0.0', '26278-0.0', '26279-0.0', '26280-0.0', '26281-0.0', '26282-0.0', '26283-0.0', '26284-0.0', '26285-0.0', '26286-0.0', '26287-0.0', '26289-0.0', '26290-0.0', 'f.21001.0.0', 'f.21002.0.1', 'f.21002.0.0'])\n"
     ]
    }
   ],
   "source": [
    "# Check identifiability on longitudinal UKB age sex\n",
    "\n",
    "import pickle\n",
    "\n",
    "demodir = '/home/anton/Documents/Tulane/Research/ImageNomer/data/anton/cohorts/UKB/'\n",
    "\n",
    "demo = pickle.load(open(f'{demodir}/demographics.pkl', 'rb'))\n",
    "\n",
    "print(demo.keys())"
   ]
  },
  {
   "cell_type": "code",
   "execution_count": 2,
   "id": "a9eea31b",
   "metadata": {},
   "outputs": [
    {
     "name": "stdout",
     "output_type": "stream",
     "text": [
      "2658 2658 2658 2658\n"
     ]
    }
   ],
   "source": [
    "# Load longitudinal data and age\n",
    "\n",
    "import numpy as np\n",
    "\n",
    "scan2 = []\n",
    "scan3 = []\n",
    "sex = []\n",
    "age = []\n",
    "\n",
    "for sub in demo['longitudinal']:\n",
    "    try:\n",
    "        p2 = np.load(f'{demodir}/fc/{sub}_task-20227-2_fc.npy')\n",
    "        p3 = np.load(f'{demodir}/fc/{sub}_task-20227-3_fc.npy')\n",
    "        s = demo['f_22001_0_0'][sub]\n",
    "        a = demo['f_21003_2_0'][sub]\n",
    "    except KeyError:\n",
    "        continue\n",
    "    scan2.append(p2)\n",
    "    scan3.append(p3)\n",
    "    sex.append(s)\n",
    "    age.append(a)\n",
    "    \n",
    "scan2 = np.stack(scan2)\n",
    "scan3 = np.stack(scan3)\n",
    "sex = np.array(sex)\n",
    "\n",
    "print(len(scan2), len(scan3), len(sex), len(sex))"
   ]
  },
  {
   "cell_type": "code",
   "execution_count": 75,
   "id": "15a1fe14",
   "metadata": {},
   "outputs": [
    {
     "name": "stdout",
     "output_type": "stream",
     "text": [
      "0.8838461538461538\n",
      "0.8961538461538462\n",
      "---\n",
      "0.89 0.006153846153846176\n"
     ]
    }
   ],
   "source": [
    "# Try simple model\n",
    "\n",
    "from sklearn.linear_model import Ridge, LogisticRegression\n",
    "\n",
    "def rmse(a, b):\n",
    "    return np.mean((a-b)**2)**0.5\n",
    "\n",
    "sz = 1300\n",
    "errs = []\n",
    "\n",
    "for n in range(0,2001,sz):\n",
    "    xtr = scan2[n:n+sz]\n",
    "    xt = scan3[n:n+sz]\n",
    "    ytr = sex[n:n+sz]\n",
    "    yt = sex[n:n+sz]\n",
    "\n",
    "    reg = LogisticRegression(max_iter=1000).fit(xtr, ytr)\n",
    "    yhat = reg.predict(xt)\n",
    "#     err = rmse(yhat, yt)\n",
    "    err = np.mean(yhat == yt)\n",
    "    print(err)\n",
    "    errs.append(err)\n",
    "    \n",
    "print('---')\n",
    "print(np.mean(errs), np.std(errs))"
   ]
  },
  {
   "cell_type": "code",
   "execution_count": 1,
   "id": "2ffb0cee",
   "metadata": {},
   "outputs": [
    {
     "name": "stdout",
     "output_type": "stream",
     "text": [
      "dict_keys(['Fibromyalgia', 'Age', 'Pain_Score', 'Rheumatology_Score_1', 'Rheumatology_Score_2', 'Hamilton_Depression_Score', 'Hamilton_Anxiety_Score', 'Fibromyalgia_Impact_Score', 'Weight', 'Height', 'BMI'])\n"
     ]
    }
   ],
   "source": [
    "import pickle\n",
    "\n",
    "demodir = '/home/anton/Documents/Tulane/Research/ImageNomer/data/anton/cohorts/Fibromyalgia/'\n",
    "\n",
    "demo = pickle.load(open(f'{demodir}/demographics.pkl', 'rb'))\n",
    "\n",
    "print(demo.keys())"
   ]
  },
  {
   "cell_type": "code",
   "execution_count": 4,
   "id": "e4d756c0",
   "metadata": {},
   "outputs": [
    {
     "name": "stdout",
     "output_type": "stream",
     "text": [
      "65 65 65\n"
     ]
    }
   ],
   "source": [
    "import numpy as np\n",
    "\n",
    "rest = []\n",
    "epr = []\n",
    "fibro = []\n",
    "\n",
    "for sub in demo['Fibromyalgia']:\n",
    "    try:\n",
    "        p0 = np.load(f'{demodir}/fc/{sub}_task-rest_fc.npy')\n",
    "        p1 = np.load(f'{demodir}/fc/{sub}_task-epr_fc.npy')\n",
    "        f = demo['Fibromyalgia'][sub]\n",
    "        rest.append(p0)\n",
    "        epr.append(p1)\n",
    "        fibro.append(f == 'Yes')\n",
    "    except:\n",
    "        pass\n",
    "    \n",
    "rest = np.stack(rest)\n",
    "epr = np.stack(epr)\n",
    "fibro = np.array(fibro)\n",
    "\n",
    "print(len(rest), len(epr), len(fibro))"
   ]
  },
  {
   "cell_type": "code",
   "execution_count": 9,
   "id": "32732b17",
   "metadata": {},
   "outputs": [
    {
     "name": "stdout",
     "output_type": "stream",
     "text": [
      "0.88\n",
      "0.9\n",
      "0.86\n",
      "0.86\n",
      "0.88\n",
      "0.78\n",
      "0.84\n",
      "0.82\n",
      "0.86\n",
      "0.88\n",
      "0.8560000000000001 0.0332264954516723\n"
     ]
    }
   ],
   "source": [
    "# Logistic on Fibromyalgia\n",
    "\n",
    "from sklearn.linear_model import LogisticRegression\n",
    "\n",
    "def rmse(a, b):\n",
    "    return np.mean((a-b)**2)**0.5\n",
    "\n",
    "# Cheating\n",
    "\n",
    "errs = []\n",
    "\n",
    "for _ in range(10):\n",
    "    idcs = np.random.permutation(65)[:50]\n",
    "\n",
    "    xtr = rest[idcs]\n",
    "    xt = epr[idcs]\n",
    "    ytr = fibro[idcs]\n",
    "    yt = fibro[idcs]\n",
    "\n",
    "    reg = LogisticRegression(max_iter=1000).fit(xtr, ytr)\n",
    "    yhat = reg.predict(xt)\n",
    "    err = np.mean(yhat == yt)\n",
    "    print(err)\n",
    "    errs.append(err)\n",
    "    \n",
    "print(np.mean(errs), np.std(errs))"
   ]
  },
  {
   "cell_type": "code",
   "execution_count": 16,
   "id": "32eac479",
   "metadata": {},
   "outputs": [
    {
     "name": "stdout",
     "output_type": "stream",
     "text": [
      "0.5333333333333333\n",
      "0.6\n",
      "0.6\n",
      "0.6\n",
      "0.5333333333333333\n",
      "0.7333333333333333\n",
      "0.6\n",
      "0.4\n",
      "0.7333333333333333\n",
      "0.5333333333333333\n",
      "0.4666666666666667\n",
      "0.6666666666666666\n",
      "0.4\n",
      "0.5333333333333333\n",
      "0.6666666666666666\n",
      "0.4\n",
      "0.7333333333333333\n",
      "0.26666666666666666\n",
      "0.9333333333333333\n",
      "0.5333333333333333\n",
      "0.5733333333333334 0.15153065188778955\n"
     ]
    }
   ],
   "source": [
    "# Not Cheating\n",
    "\n",
    "from sklearn.model_selection import train_test_split\n",
    "\n",
    "for _ in range(20):\n",
    "\n",
    "    xrtr, xrt, xetr, xet, ytr, yt = train_test_split(rest, epr, fibro, stratify=fibro, train_size=50)\n",
    "\n",
    "    xtr = xetr #np.concatenate([xrtr[:25], xetr[25:]])\n",
    "    xt = xet #np.concatenate([xrt[:8], xet[8:]])\n",
    "\n",
    "    reg = LogisticRegression(max_iter=1000).fit(xtr, ytr)\n",
    "    yhat = reg.predict(xt)\n",
    "    err = np.mean(yhat == yt)\n",
    "    print(err)\n",
    "    errs.append(err)\n",
    "    \n",
    "print(np.mean(errs), np.std(errs))"
   ]
  },
  {
   "cell_type": "code",
   "execution_count": 1,
   "id": "e4e72b40",
   "metadata": {},
   "outputs": [
    {
     "name": "stdout",
     "output_type": "stream",
     "text": [
      "dict_keys(['Race', 'Sex', 'Med_Rating', 'GAF001', 'GAF002', 'GAF003', 'age_at_cnb', 'battery_valid', 'PADT_GENUS', 'PADT_VALID', 'PADT_A', 'PADT_T', 'PADT_SAME_CR', 'PADT_SAME_RTCR', 'PADT_PC', 'PADT_SAME_PC', 'PFMT_GENUS', 'PFMT_VALID', 'PFMT_TP', 'PFMT_TN', 'PFMT_FP', 'PFMT_FN', 'PFMT_TPRT', 'PFMT_TNRT', 'PFMT_FPRT', 'PFMT_FNRT', 'PFMT_IFAC_TOT', 'PFMT_IFAC_RTC', 'PEIT_GENUS', 'PEIT_VALID', 'PEIT_CR', 'PEIT_CRT', 'PEITANG', 'PEITFEAR', 'PEITHAP', 'PEITNOE', 'PEITSAD', 'PEITANGRT', 'PEITFEARRT', 'PEITHAPRT', 'PEITNOERT', 'PEITSADRT', 'PWMT_GENUS', 'PWMT_VALID', 'PWMT_TP', 'PWMT_TN', 'PWMT_FP', 'PWMT_FN', 'PWMT_TPRT', 'PWMT_TNRT', 'PWMT_FPRT', 'PWMT_FNRT', 'PWMT_KIWRD_TOT', 'PWMT_KIWRD_RTC', 'PVRT_GENUS', 'PVRT_VALID', 'PVRT_CR', 'PVRT_RTCR', 'PVRT_RTER', 'PEDT_GENUS', 'PEDT_VALID', 'PEDT_HAP_CR', 'PEDT_SAD_CR', 'PEDT_ANG_CR', 'PEDT_FEAR_CR', 'PEDT_HAP_RTCR', 'PEDT_SAD_RTCR', 'PEDT_ANG_RTCR', 'PEDT_FEAR_RTCR', 'PEDT_SAME_CR', 'PEDT_SAME_RTCR', 'PEDT_A', 'PEDT_T', 'PEDT_PC', 'PEDT_HAP_PC', 'PEDT_SAD_PC', 'PEDT_ANG_PC', 'PEDT_FEAR_PC', 'PEDT_SAME_PC', 'MP_GENUS', 'MP_VALID', 'MP_MP2RTCR', 'PMAT_GENUS', 'PMAT_VALID', 'PMAT_CR', 'PMAT_RTCR', 'PMAT_RTER', 'PMAT_PC', 'TAP_GENUS', 'TAP_VALID', 'TAP_HAND', 'TAP_DOM', 'TAP_NON', 'TAP_DOMSD', 'TAP_NONSD', 'TAP_TOT', 'VOLT_GENUS', 'VOLT_VALID', 'VOLT_SVT', 'VOLT_SVTCRT', 'VOLT_SVTIRT', 'VOLT_SVTTP', 'VOLT_SVTTN', 'VOLT_SVTFP', 'VOLT_SVTFN', 'VOLT_SVTTPRT', 'VOLT_SVTTNRT', 'VOLT_SVTFPRT', 'VOLT_SVTFNRT', 'LNB_GENUS', 'LNB_VALID', 'LNB_TP', 'LNB_FP', 'LNB_RTC', 'LNB_MCR', 'LNB_MRTC', 'LNB_TP0', 'LNB_FP0', 'LNB_RTC0', 'LNB_TP1', 'LNB_FP1', 'LNB_RTC1', 'LNB_TP2', 'LNB_FP2', 'LNB_RTC2', 'PCET_GENUS', 'PCET_VALID', 'PCET_RTCR', 'PCET_RTER', 'PCET_CAT', 'PCET_ACC2', 'PCPT_GENUS', 'PCPT_VALID', 'PCPT_N_TP', 'PCPT_N_FP', 'PCPT_N_TPRT', 'PCPT_N_FPRT', 'PCPT_L_TP', 'PCPT_L_FP', 'PCPT_L_TPRT', 'PCPT_L_FPRT', 'PCPT_T_FP', 'PCPT_T_TP', 'PCPT_T_TPRT', 'PCPT_T_FPRT', 'PLOT_GENUS', 'PLOT_VALID', 'PLOT_TC', 'PLOT_TCRT', 'PLOT_OFF', 'PLOT_PC', 'WRAT_GENUS', 'WRAT_VALID', 'WRAT_CR_RAW', 'WRAT_CR_STD', 'SUB_ALC', 'SUB_COC', 'SUB_DOWN', 'SUB_INH', 'SUB_MAR', 'SUB_OPI', 'SUB_OTC', 'SUB_PSY', 'SUB_STER', 'SUB_STIM', 'SUB_TOB', 'SUB_TRAN', 'SUB_TOT', 'Education', 'Mother_Education', 'Father_Education'])\n"
     ]
    }
   ],
   "source": [
    "import pickle\n",
    "\n",
    "demodir = '/home/anton/Documents/Tulane/Research/ImageNomer/data/anton/cohorts/PNC/'\n",
    "\n",
    "demo = pickle.load(open(f'{demodir}/demographics.pkl', 'rb'))\n",
    "\n",
    "print(demo.keys())"
   ]
  },
  {
   "cell_type": "code",
   "execution_count": 31,
   "id": "baec5db8",
   "metadata": {},
   "outputs": [
    {
     "name": "stdout",
     "output_type": "stream",
     "text": [
      "601 601 601\n"
     ]
    }
   ],
   "source": [
    "import numpy as np\n",
    "\n",
    "nback = []\n",
    "emoid = []\n",
    "wrat = []\n",
    "\n",
    "for sub,r in demo['Race'].items():\n",
    "    if r != 'AA':\n",
    "        continue\n",
    "    try:\n",
    "        w = demo['WRAT_CR_STD'][sub]\n",
    "        p0 = np.load(f'{demodir}/fc/{sub}_task-nback_fc.npy')\n",
    "        p1 = np.load(f'{demodir}/fc/{sub}_task-emoid_fc.npy')\n",
    "        wrat.append(w)\n",
    "        nback.append(p0)\n",
    "        emoid.append(p1)\n",
    "    except:\n",
    "        continue\n",
    "        \n",
    "nback = np.stack(nback)\n",
    "emoid = np.stack(emoid)\n",
    "wrat = np.array(wrat)\n",
    "\n",
    "print(len(nback), len(emoid), len(wrat))"
   ]
  },
  {
   "cell_type": "code",
   "execution_count": 33,
   "id": "07dd940d",
   "metadata": {},
   "outputs": [
    {
     "name": "stdout",
     "output_type": "stream",
     "text": [
      "0 11.451603030840223 14.70053209921328\n",
      "1 11.472295202827562 14.760197695153002\n",
      "2 11.81740062721352 14.611625508477829\n",
      "3 11.430129122939736 14.89319361319123\n",
      "4 11.94694450990803 14.828331126596815\n",
      "5 11.819976724430354 14.801326832416073\n",
      "6 11.352061112457193 14.439744596079253\n",
      "7 11.447246115857903 14.318407173984122\n",
      "8 10.911285741875016 14.421091636904608\n",
      "9 11.823359795034575 14.662978005848608\n",
      "10 11.539251431913 14.955488089661268\n",
      "11 11.941842343521154 15.055550471503857\n",
      "12 11.888884757594573 15.064496539878125\n",
      "13 11.888562087269088 15.075868930181107\n",
      "14 11.763205484275232 14.954684082253292\n",
      "15 11.209559065563608 14.275038213609097\n",
      "16 11.538132799657856 14.928744220462754\n",
      "17 11.612897997320617 14.83007700586885\n",
      "18 11.834741059127943 14.741491240712387\n",
      "19 11.830553973832854 15.196602120210953\n",
      "---\n",
      "11.625996649173002 0.2699369415453031\n",
      "14.775773460110326 0.2531826524455233\n"
     ]
    }
   ],
   "source": [
    "# Not Cheating\n",
    "\n",
    "from sklearn.model_selection import train_test_split\n",
    "from sklearn.linear_model import Ridge\n",
    "\n",
    "def rmse(a, b):\n",
    "    return np.mean((a-b)**2)**0.5\n",
    "\n",
    "errs = []\n",
    "nullerrs = []\n",
    "\n",
    "for i in range(20):\n",
    "\n",
    "    xtr, _, xt, _, ytr, _ = train_test_split(emoid, nback, wrat, train_size=500)\n",
    "    yt = ytr\n",
    "\n",
    "    reg = Ridge(alpha=100).fit(xtr, ytr)\n",
    "    yhat = reg.predict(xt)\n",
    "    err = rmse(yhat, yt)\n",
    "    nullerr = rmse(np.mean(ytr), yt)\n",
    "    print(i, err, nullerr)\n",
    "    errs.append(err)\n",
    "    nullerrs.append(nullerr)\n",
    "    \n",
    "print('---')\n",
    "print(np.mean(errs), np.std(errs))\n",
    "print(np.mean(nullerrs), np.std(nullerrs))"
   ]
  },
  {
   "cell_type": "code",
   "execution_count": null,
   "id": "36b1fd35",
   "metadata": {},
   "outputs": [],
   "source": []
  }
 ],
 "metadata": {
  "kernelspec": {
   "display_name": "Python 3 (ipykernel)",
   "language": "python",
   "name": "python3"
  },
  "language_info": {
   "codemirror_mode": {
    "name": "ipython",
    "version": 3
   },
   "file_extension": ".py",
   "mimetype": "text/x-python",
   "name": "python",
   "nbconvert_exporter": "python",
   "pygments_lexer": "ipython3",
   "version": "3.11.3"
  }
 },
 "nbformat": 4,
 "nbformat_minor": 5
}
