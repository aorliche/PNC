{
 "cells": [
  {
   "cell_type": "code",
   "execution_count": 1,
   "id": "0465b30e",
   "metadata": {},
   "outputs": [
    {
     "name": "stdout",
     "output_type": "stream",
     "text": [
      "1244\n"
     ]
    }
   ],
   "source": [
    "import pickle\n",
    "from natsort import natsorted\n",
    "\n",
    "basedir = '../../ImageNomer/data/anton/cohorts/BSNIP'\n",
    "demoname = f'{basedir}/demographics.pkl'\n",
    "\n",
    "with open(demoname, 'rb') as f:\n",
    "    demo = pickle.load(f)\n",
    "    \n",
    "subs = natsorted(list(demo['Age_cal'].keys()))\n",
    "print(len(subs))"
   ]
  },
  {
   "cell_type": "code",
   "execution_count": 2,
   "id": "46cc2b40",
   "metadata": {},
   "outputs": [
    {
     "name": "stdout",
     "output_type": "stream",
     "text": [
      "(199, 34716)\n",
      "(199,)\n",
      "[1 1 1 1 1]\n"
     ]
    }
   ],
   "source": [
    "import numpy as np\n",
    "\n",
    "task = 'unk'\n",
    "x = []\n",
    "y = []\n",
    "\n",
    "for sub in subs:\n",
    "    if demo['DXGROUP_1'][sub] not in ['SZP']:\n",
    "        continue\n",
    "    p = np.load(f'{basedir}/fc/{sub}_task-{task}_fc.npy')\n",
    "    x.append(p)\n",
    "    y.append(demo['DXGROUP_1'][sub] == 'SZP')\n",
    "#     y.append(int(demo['Age_cal'][sub]))\n",
    "#     y.append(demo['sex'][sub] == 'M')\n",
    "    \n",
    "x = np.stack(x)\n",
    "y = np.array(y).astype('int')\n",
    "\n",
    "print(x.shape)\n",
    "print(y.shape)\n",
    "print(y[0:5])"
   ]
  },
  {
   "cell_type": "code",
   "execution_count": 3,
   "id": "e2fc07da",
   "metadata": {},
   "outputs": [
    {
     "name": "stdout",
     "output_type": "stream",
     "text": [
      "[0 1 1 0 0 1 0 0 1 1 1 0 0 1 0 0 0 1 0 0 1 0 1 1 1 1 1 0 1 0 1 1 1 0 0 1 1\n",
      " 1 1 1 1 0 0 1 1 0 0 1 1 1 1 1 0 0 0 1 0 1 1 1 1 1 1 0 1 1 0 1 0 1 0 1 1 1\n",
      " 1 1 0 0 1 1 1 1 1 1 1 0 1 1 1 0 1 1 1 1 1 1 1 1 0 0 1 0 1 0 1 0 1 0 1 0 0\n",
      " 1 0 0 0 1 1 1 1 1 1 0 0 1 1 0 0 0 1 0 1 1 1 1 1 1 0 1 1 0 0 1 0 1 0 0 0 0\n",
      " 1 1 1 1 1 1 0 1 1 1 1 1 1 1 1 1 1 1 0 1 1 0 0 1 1 0 1 1 1 1 1 1 0 0 0 0 1\n",
      " 1 1 1 1 0 1 1 1 0 1 1 1 1 1]\n",
      "69 130\n"
     ]
    }
   ],
   "source": [
    "from sklearn.cluster import KMeans\n",
    "\n",
    "km = KMeans(n_clusters=2, n_init='auto').fit(x)\n",
    "ym = km.labels_\n",
    "print(ym)\n",
    "print(np.sum(ym == 0), np.sum(ym == 1))"
   ]
  },
  {
   "cell_type": "code",
   "execution_count": 5,
   "id": "61dd7649",
   "metadata": {},
   "outputs": [
    {
     "name": "stdout",
     "output_type": "stream",
     "text": [
      "0 0.363518089056015 \n",
      "100 0.3303493559360504 \n",
      "200 0.29984453320503235 \n",
      "300 0.2732301950454712 \n",
      "400 0.2504526674747467 \n",
      "500 0.23177790641784668 \n",
      "600 0.21728982031345367 \n",
      "700 0.20670625567436218 \n",
      "800 0.19940932095050812 \n",
      "900 0.1946154534816742 \n",
      "1000 0.19157366454601288 \n",
      "1100 0.18969102203845978 \n",
      "1200 0.18854185938835144 \n",
      "1300 0.18784791231155396 \n",
      "1400 0.18743400275707245 \n",
      "1500 0.1871856302022934 \n",
      "1600 0.18703988194465637 \n",
      "1700 0.1869547963142395 \n",
      "1800 0.18690626323223114 \n",
      "1900 0.18687790632247925 \n",
      "Complete\n"
     ]
    }
   ],
   "source": [
    "import torch\n",
    "import torch.nn as nn\n",
    "import torch.nn.functional as F\n",
    "\n",
    "def rmse(a,b,axis=None):\n",
    "    return torch.mean((a-b)**2,axis=axis)**0.5\n",
    "\n",
    "class Basis(nn.Module):\n",
    "    def __init__(self, dims, rank, nsubs):\n",
    "        super(Basis, self).__init__()\n",
    "        self.A = nn.Parameter(torch.randn(dims,264,rank).float().cuda())\n",
    "        self.w = nn.Parameter(torch.randn(dims,nsubs).float().cuda())\n",
    "        self.s = nn.Sigmoid()\n",
    "        \n",
    "    def compute(self, dim):\n",
    "        A = self.A[dim]\n",
    "        A = A@A.T\n",
    "        A = A/torch.linalg.norm(A)\n",
    "        a,b = torch.triu_indices(264,264,offset=1)\n",
    "        return A[a,b]\n",
    "    \n",
    "    def recon(self, dim):\n",
    "        A = self.compute(dim)\n",
    "        A = torch.einsum('n,a->na', self.w[0], A)\n",
    "        return A\n",
    "    \n",
    "    def to_img(self, dim):\n",
    "        A = self.compute(dim).detach().cpu()\n",
    "        a,b = torch.triu_indices(264,264,offset=1)\n",
    "        AA = torch.zeros(264,264)\n",
    "        AA[a,b] = A\n",
    "        AA = AA + AA.T\n",
    "        return AA.numpy()\n",
    "    \n",
    "    def scramble(self, dim):\n",
    "        with torch.no_grad():\n",
    "            self.A[dim] *= 0\n",
    "            self.A[dim] += torch.randn(264,self.A.shape[-1]).float().cuda()\n",
    "            self.w[dim] *= 0\n",
    "            self.w[dim] += torch.randn(self.w.shape[-1]).float().cuda()\n",
    "\n",
    "xtr = torch.from_numpy(x[ym == 0]).float().cuda()\n",
    "\n",
    "basis = Basis(1,5,xtr.shape[0])\n",
    "optim = torch.optim.Adam(basis.parameters(), lr=1e-1, weight_decay=0)\n",
    "\n",
    "nepochs = 2000\n",
    "pperiod = 100\n",
    "\n",
    "for i in range(basis.A.shape[0]):\n",
    "\n",
    "    for epoch in range(nepochs):\n",
    "        optim.zero_grad()\n",
    "        xhat = basis.recon(i)\n",
    "        rloss = rmse(xtr, xhat)\n",
    "        rloss.backward()\n",
    "        optim.step()\n",
    "        if epoch % pperiod == 0 or epoch == nepochs:\n",
    "            print(f'{epoch} {float(rloss)} ')\n",
    "        if epoch == 0:\n",
    "            start_loss = float(rloss)\n",
    "        if epoch > 0 and epoch % 200 == 0 and float(rloss)/start_loss > 0.995:\n",
    "            print('Scrambling')\n",
    "            basis.scramble(i)\n",
    "\n",
    "print('Complete')\n",
    "\n"
   ]
  },
  {
   "cell_type": "code",
   "execution_count": 8,
   "id": "613de854",
   "metadata": {},
   "outputs": [],
   "source": [
    "b0 = basis"
   ]
  },
  {
   "cell_type": "code",
   "execution_count": 6,
   "id": "e65ad8d7",
   "metadata": {},
   "outputs": [
    {
     "name": "stdout",
     "output_type": "stream",
     "text": [
      "Complete\n"
     ]
    }
   ],
   "source": [
    "ours2orig = [12, 13, 14, 15, 16, 17, 18, 19, 20, 21, 22, 23, 24, 25, 26, 27,\n",
    "28, 29, 30, 31, 32, 33, 34, 35, 36, 37, 38, 39, 40, 254, 41, 42, 43, 44, 45,\n",
    "46, 47, 48, 49, 50, 51, 52, 53, 54, 55, 56, 57, 58, 59, 60, 61, 62, 63, 64,\n",
    "65, 66, 67, 68, 69, 70, 71, 72, 73, 74, 75, 76, 77, 78, 79, 80, 81, 82, 85,\n",
    "86, 87, 88, 89, 90, 91, 92, 93, 94, 95, 96, 97, 98, 99, 100, 101, 102, 103,\n",
    "104, 105, 106, 107, 108, 109, 110, 111, 112, 113, 114, 115, 116, 117, 118,\n",
    "119, 120, 121, 122, 123, 124, 125, 126, 127, 128, 129, 130, 136, 138, 132,\n",
    "133, 134, 135, 220, 142, 143, 144, 145, 146, 147, 148, 149, 150, 151, 152,\n",
    "153, 154, 155, 156, 157, 158, 159, 160, 161, 162, 163, 164, 165, 166, 167,\n",
    "168, 169, 170, 171, 172, 173, 174, 175, 176, 177, 178, 179, 180, 185, 186,\n",
    "187, 188, 189, 190, 191, 192, 193, 194, 195, 196, 197, 198, 199, 200, 201,\n",
    "202, 203, 204, 205, 206, 207, 208, 209, 210, 211, 212, 213, 214, 215, 216,\n",
    "217, 218, 219, 221, 222, 223, 224, 225, 226, 227, 228, 229, 230, 231, 232,\n",
    "233, 137, 234, 235, 236, 237, 238, 239, 240, 241, 250, 251, 255, 256, 257,\n",
    "258, 259, 260, 261, 262, 263, 242, 243, 244, 245, 0, 1, 2, 3, 4, 5, 6, 7, 8,\n",
    "9, 10, 11, 83, 84, 131, 139, 140, 141, 181, 182, 183, 184, 246, 247, 248,\n",
    "249, 252, 253]\n",
    "\n",
    "def remap(fc, roimap=ours2orig):\n",
    "    fc = fc[roimap,:]\n",
    "    fc = fc[:,roimap]\n",
    "    return fc\n",
    "\n",
    "print('Complete')"
   ]
  },
  {
   "cell_type": "code",
   "execution_count": 7,
   "id": "04b41430",
   "metadata": {},
   "outputs": [
    {
     "ename": "NameError",
     "evalue": "name 'b0' is not defined",
     "output_type": "error",
     "traceback": [
      "\u001b[0;31m---------------------------------------------------------------------------\u001b[0m",
      "\u001b[0;31mNameError\u001b[0m                                 Traceback (most recent call last)",
      "Cell \u001b[0;32mIn[7], line 4\u001b[0m\n\u001b[1;32m      1\u001b[0m \u001b[38;5;28;01mimport\u001b[39;00m \u001b[38;5;21;01mmatplotlib\u001b[39;00m\u001b[38;5;21;01m.\u001b[39;00m\u001b[38;5;21;01mpyplot\u001b[39;00m \u001b[38;5;28;01mas\u001b[39;00m \u001b[38;5;21;01mplt\u001b[39;00m\n\u001b[1;32m      3\u001b[0m fig, ax \u001b[38;5;241m=\u001b[39m plt\u001b[38;5;241m.\u001b[39msubplots(\u001b[38;5;241m1\u001b[39m,\u001b[38;5;241m2\u001b[39m)\n\u001b[0;32m----> 4\u001b[0m im \u001b[38;5;241m=\u001b[39m ax[\u001b[38;5;241m0\u001b[39m]\u001b[38;5;241m.\u001b[39mimshow(remap(\u001b[43mb0\u001b[49m\u001b[38;5;241m.\u001b[39mto_img(\u001b[38;5;241m0\u001b[39m)))\n\u001b[1;32m      5\u001b[0m fig\u001b[38;5;241m.\u001b[39mcolorbar(im, ax\u001b[38;5;241m=\u001b[39max[\u001b[38;5;241m0\u001b[39m])\n\u001b[1;32m      6\u001b[0m im \u001b[38;5;241m=\u001b[39m ax[\u001b[38;5;241m1\u001b[39m]\u001b[38;5;241m.\u001b[39mimshow(remap(b1\u001b[38;5;241m.\u001b[39mto_img(\u001b[38;5;241m0\u001b[39m)))\n",
      "\u001b[0;31mNameError\u001b[0m: name 'b0' is not defined"
     ]
    },
    {
     "data": {
      "image/png": "[encoded data removed]",
      "text/plain": [
       "<Figure size 640x480 with 2 Axes>"
      ]
     },
     "metadata": {},
     "output_type": "display_data"
    }
   ],
   "source": [
    "import matplotlib.pyplot as plt\n",
    "\n",
    "fig, ax = plt.subplots(1,2)\n",
    "im = ax[0].imshow(remap(b0.to_img(0)))\n",
    "fig.colorbar(im, ax=ax[0])\n",
    "im = ax[1].imshow(remap(b1.to_img(0)))\n",
    "fig.colorbar(im, ax=ax[1])\n",
    "fig.show()"
   ]
  },
  {
   "cell_type": "code",
   "execution_count": null,
   "id": "566ce978",
   "metadata": {},
   "outputs": [],
   "source": []
  }
 ],
 "metadata": {
  "kernelspec": {
   "display_name": "Python 3 (ipykernel)",
   "language": "python",
   "name": "python3"
  },
  "language_info": {
   "codemirror_mode": {
    "name": "ipython",
    "version": 3
   },
   "file_extension": ".py",
   "mimetype": "text/x-python",
   "name": "python",
   "nbconvert_exporter": "python",
   "pygments_lexer": "ipython3",
   "version": "3.10.9"
  }
 },
 "nbformat": 4,
 "nbformat_minor": 5
}
