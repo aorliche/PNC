{
 "cells": [
  {
   "cell_type": "code",
   "execution_count": 22,
   "id": "92da5817",
   "metadata": {},
   "outputs": [
    {
     "name": "stdout",
     "output_type": "stream",
     "text": [
      "466\n",
      "156\n",
      "{'meta': {'AgeInMonths': 146, 'Gender': 'F', 'Ethnicity': 'AFRICAN', 'AgeGroupID': 2, 'AgeGroupEdge1': 144, 'AgeGroupEdge2': 180}, 'rest': '30', 'nback': '31', 'emoid': '31', 'ID': 600262185931}\n"
     ]
    }
   ],
   "source": [
    "# Really simple\n",
    "\n",
    "# Load split\n",
    "\n",
    "import pickle\n",
    "\n",
    "badIDs = [605515760919, 601983541597]\n",
    "\n",
    "with open('../../Splits/RegressionAllTasks/split1.bin', 'rb') as f:\n",
    "    d = pickle.load(f)\n",
    "    train = []\n",
    "    trainDirty = d['train']\n",
    "    test = []\n",
    "    testDirty = d['test']\n",
    "    \n",
    "    # Remove bad subjects\n",
    "    for subj in trainDirty:\n",
    "        if subj['ID'] not in badIDs:\n",
    "            train.append(subj)\n",
    "            \n",
    "    for subj in testDirty:\n",
    "        if subj['ID'] not in badIDs:\n",
    "            test.append(subj)\n",
    "    \n",
    "print(len(train))\n",
    "print(len(test))\n",
    "print(train[0])"
   ]
  },
  {
   "cell_type": "code",
   "execution_count": 23,
   "id": "76118c16",
   "metadata": {},
   "outputs": [
    {
     "name": "stdout",
     "output_type": "stream",
     "text": [
      "Complete\n"
     ]
    }
   ],
   "source": [
    "# Load data\n",
    "\n",
    "def loadTimeseries(_id, _dir):\n",
    "    ts = None\n",
    "    with open('{:s}/{:d}.bin'.format(_dir, _id), 'rb') as f:\n",
    "        ts = pickle.load(f)\n",
    "    return ts\n",
    "\n",
    "train_rest_ts = [loadTimeseries(int(subj['rest']), '../../rest_fmri_power264/timeseries') for subj in train]\n",
    "train_nback_ts = [loadTimeseries(int(subj['nback']), '../../nback_fmri_power264/timeseries') for subj in train]\n",
    "# train_emoid_ts = [loadTimeseries(int(subj['emoid']), '../../emoid_fmri_power264/timeseries') for subj in train]\n",
    "\n",
    "test_rest_ts = [loadTimeseries(int(subj['rest']), '../../rest_fmri_power264/timeseries') for subj in test]\n",
    "test_nback_ts = [loadTimeseries(int(subj['nback']), '../../nback_fmri_power264/timeseries') for subj in test]\n",
    "# test_emoid_ts = [loadTimeseries(int(subj['emoid']), '../../emoid_fmri_power264/timeseries') for subj in test]\n",
    "\n",
    "print('Complete')"
   ]
  },
  {
   "cell_type": "code",
   "execution_count": 24,
   "id": "f3cb3da5",
   "metadata": {},
   "outputs": [
    {
     "name": "stdout",
     "output_type": "stream",
     "text": [
      "Complete\n"
     ]
    }
   ],
   "source": [
    "import numpy as np\n",
    "\n",
    "def normalizeSubjects(subjects):\n",
    "    for i in range(len(subjects)):\n",
    "        subj = subjects[i]\n",
    "        subj -= np.mean(subj, axis=1, keepdims=True)@np.ones([1,subj.shape[1]])\n",
    "        subj /= np.std(subj, axis=1, keepdims=True)@np.ones([1,subj.shape[1]])\n",
    "        if np.sum(np.isnan(subj)) > 0:\n",
    "            print(i)\n",
    "        if np.sum(np.isinf(subj)) > 0:\n",
    "            print(i)\n",
    "\n",
    "normalizeSubjects(train_rest_ts)\n",
    "normalizeSubjects(train_nback_ts)\n",
    "# normalizeSubjects(train_emoid_ts)\n",
    "\n",
    "normalizeSubjects(test_rest_ts)\n",
    "normalizeSubjects(test_nback_ts)\n",
    "# normalizeSubjects(test_emoid_ts)\n",
    "\n",
    "print('Complete')"
   ]
  },
  {
   "cell_type": "code",
   "execution_count": 25,
   "id": "8819f8bc",
   "metadata": {},
   "outputs": [
    {
     "name": "stdout",
     "output_type": "stream",
     "text": [
      "(264, 264)\n",
      "Complete\n"
     ]
    }
   ],
   "source": [
    "# Calculare pearson matrices\n",
    "\n",
    "train_rest_p = np.stack([np.corrcoef(sub) for sub in train_rest_ts])\n",
    "train_nback_p = np.stack([np.corrcoef(sub) for sub in train_nback_ts])\n",
    "\n",
    "test_rest_p = np.stack([np.corrcoef(sub) for sub in test_rest_ts])\n",
    "test_nback_p = np.stack([np.corrcoef(sub) for sub in test_nback_ts])\n",
    "\n",
    "print(train_rest_p[0].shape)\n",
    "print('Complete')"
   ]
  },
  {
   "cell_type": "code",
   "execution_count": 26,
   "id": "c8823052",
   "metadata": {
    "scrolled": true
   },
   "outputs": [
    {
     "name": "stdout",
     "output_type": "stream",
     "text": [
      "[[193   1   0]\n",
      " [217   1   0]\n",
      " [233   1   0]\n",
      " [176   1   0]\n",
      " [116   0   1]\n",
      " [246   0   1]\n",
      " [164   1   0]\n",
      " [167   0   1]\n",
      " [202   0   1]\n",
      " [108   0   1]]\n",
      "Complete\n"
     ]
    }
   ],
   "source": [
    "# Create feature vectors (right now just ages, maleness, and femaless)\n",
    "\n",
    "X_train = []\n",
    "for subj in train:\n",
    "    maleness = 1 if subj['meta']['Gender'] == 'M' else 0\n",
    "    femaleness = 1 if maleness == 0 else 0\n",
    "    feat = np.array([subj['meta']['AgeInMonths'], maleness, femaleness])\n",
    "    X_train.append(feat)\n",
    "    \n",
    "X_test = []\n",
    "for subj in test:\n",
    "    maleness = 1 if subj['meta']['Gender'] == 'M' else 0\n",
    "    femaleness = 1 if maleness == 0 else 0\n",
    "    feat = np.array([subj['meta']['AgeInMonths'], maleness, femaleness])\n",
    "    X_test.append(feat)\n",
    "    \n",
    "X_train = np.vstack(X_train)\n",
    "X_test = np.vstack(X_test)\n",
    "\n",
    "print(X_train[10:20])\n",
    "print('Complete')"
   ]
  },
  {
   "cell_type": "code",
   "execution_count": 27,
   "id": "8e6e8eda",
   "metadata": {},
   "outputs": [
    {
     "name": "stdout",
     "output_type": "stream",
     "text": [
      "torch.Size([156, 264, 264])\n",
      "Complete\n"
     ]
    }
   ],
   "source": [
    "# Convert to torch\n",
    "\n",
    "import torch\n",
    "\n",
    "train_rest_p_torch = torch.from_numpy(train_rest_p).float()\n",
    "train_nback_p_torch = torch.from_numpy(train_nback_p).float()\n",
    "\n",
    "test_rest_p_torch = torch.from_numpy(test_rest_p).float()\n",
    "test_nback_p_torch = torch.from_numpy(test_nback_p).float()\n",
    "\n",
    "X_train_torch = torch.from_numpy(X_train[:,0:1]).float()\n",
    "X_test_torch = torch.from_numpy(X_test[:,0:1]).float()\n",
    "\n",
    "print(test_nback_p_torch.shape)\n",
    "print('Complete')"
   ]
  },
  {
   "cell_type": "code",
   "execution_count": 28,
   "id": "ce432642",
   "metadata": {},
   "outputs": [],
   "source": [
    "def normalize(A):\n",
    "    if A.shape[0] != A.shape[1]:\n",
    "        raise Exception(\"Bad A shape\")\n",
    "    d = torch.sum(A,dim=1)**0.5\n",
    "    return ((A/d).T/d).T"
   ]
  },
  {
   "cell_type": "code",
   "execution_count": 52,
   "id": "f135e766",
   "metadata": {},
   "outputs": [
    {
     "name": "stdout",
     "output_type": "stream",
     "text": [
      "Complete\n"
     ]
    }
   ],
   "source": [
    "def modelEdges(ps1, ps2, p1=None, p2=None):\n",
    "    Nsub = ps1.shape[0]\n",
    "    \n",
    "    if p1 is not None:\n",
    "        ps1 = torch.cat([p1.unsqueeze(0), ps1])\n",
    "        ps2 = torch.cat([p2.unsqueeze(0), ps2])\n",
    "        Nsub += 1\n",
    "    \n",
    "    e1 = torch.einsum('aij,bij->ab',ps1,ps1)\n",
    "#     e2 = torch.einsum('aij,bij->ab',ps2,ps2)\n",
    "#     e3 = torch.einsum('aij,bij->ab',ps1,ps2)\n",
    "    \n",
    "    e1 = normalize(e1)\n",
    "#     e2 = normalize(e2)\n",
    "#     e3 = normalize(e3)\n",
    "    \n",
    "#     edges = torch.stack([e1],dim=2)\n",
    "    \n",
    "    return e1\n",
    "\n",
    "def modelTrain(edges, feat, idx):\n",
    "    Nsub = feat.shape[0]\n",
    "    Nfeat = feat.shape[1]\n",
    "    \n",
    "    ageSav = feat[idx,0].detach().clone()\n",
    "    feat[idx,0] = 0\n",
    "    \n",
    "#     edges = edges[:,:,0]\n",
    "    \n",
    "    # Layer 1\n",
    "    a = torch.einsum('ab,bf->af',edges,feat)\n",
    "\n",
    "    # Layer 2-4\n",
    "    b = torch.einsum('ab,af->af',edges,a).reshape(Nsub,Nfeat)\n",
    "    c = torch.einsum('ab,af->af',edges,b).reshape(Nsub,Nfeat)\n",
    "    d = torch.einsum('ab,af->af',edges,c).reshape(Nsub,Nfeat)\n",
    "\n",
    "    res = [a,b,c,d]\n",
    "    h = torch.cat(res,dim=1).reshape(Nsub,-1)\n",
    "    \n",
    "    feat[idx,0] = ageSav\n",
    "    \n",
    "    return h[idx]\n",
    "\n",
    "def modelTest(edges, f, feat):\n",
    "    feat = torch.cat([f.unsqueeze(0), feat])\n",
    "    \n",
    "    return modelTrain(edges, feat, 0)\n",
    "\n",
    "print('Complete')"
   ]
  },
  {
   "cell_type": "code",
   "execution_count": 54,
   "id": "c9028491",
   "metadata": {},
   "outputs": [
    {
     "name": "stdout",
     "output_type": "stream",
     "text": [
      "tensor([[0.0040, 0.0019, 0.0038, 0.0033, 0.0023],\n",
      "        [0.0019, 0.0033, 0.0020, 0.0018, 0.0015],\n",
      "        [0.0038, 0.0020, 0.0044, 0.0034, 0.0025],\n",
      "        [0.0033, 0.0018, 0.0034, 0.0035, 0.0022],\n",
      "        [0.0023, 0.0015, 0.0025, 0.0022, 0.0030]])\n",
      "Finished model...\n",
      "[]\n",
      "Complete\n"
     ]
    }
   ],
   "source": [
    "e = modelEdges(train_rest_p_torch, train_nback_p_torch)\n",
    "print(e[0:5,0:5])\n",
    "h = []\n",
    "for i in range(X_train_torch.shape[0]):\n",
    "    h.append(modelTrain(e, X_train_torch, i).detach().numpy())\n",
    "h = np.vstack(h)\n",
    "print('Finished model...')\n",
    "\n",
    "hp = np.hstack([h, train_rest_p.reshape(-1,264*264)])\n",
    "\n",
    "# l2 = 0.005\n",
    "\n",
    "# w, r, _, _ = np.linalg.lstsq(h.T@h + l2*np.eye(h.shape[1]), h.T@X_train[:,0], rcond=None)\n",
    "w, r, _, _ = np.linalg.lstsq(hp, X_train[:,0], rcond=None)\n",
    "\n",
    "print(r)\n",
    "print('Complete')"
   ]
  },
  {
   "cell_type": "code",
   "execution_count": 55,
   "id": "9b4d0e11",
   "metadata": {},
   "outputs": [
    {
     "name": "stdout",
     "output_type": "stream",
     "text": [
      "tensor(0.)\n",
      "146.00000000000117\n"
     ]
    }
   ],
   "source": [
    "print(X_train_torch[0,0])\n",
    "h = modelTrain(e, X_train_torch,0)\n",
    "hp = np.hstack([h, train_rest_p[0].flatten()])\n",
    "print(hp@w)"
   ]
  },
  {
   "cell_type": "code",
   "execution_count": 56,
   "id": "456f64f7",
   "metadata": {
    "scrolled": false
   },
   "outputs": [
    {
     "name": "stdout",
     "output_type": "stream",
     "text": [
      "0 [221.78363 276.21063 343.99432 428.41254]\n",
      "[135.80547  103.1213    78.3032    59.458046]\n",
      "[232.48813 304.21307 398.06592 520.8733 ]\n",
      "[202.73163 230.79778 262.7494  299.1244 ]\n",
      "[155.61365 135.65804 118.26149 103.09585]\n",
      "[194.2916  213.27525 234.11374 256.9883 ]\n",
      "[131.72957   97.134     71.624115  52.81378 ]\n",
      "[120.22346   80.567345  53.991936  36.182514]\n",
      "[149.83289 125.53091 105.17056  88.11254]\n",
      "[173.31725 168.45221 163.72374 159.128  ]\n",
      "10 [188.80307 199.96373 211.78412 224.30324]\n"
     ]
    },
    {
     "ename": "Exception",
     "evalue": "Bad",
     "output_type": "error",
     "traceback": [
      "\u001b[1;31m---------------------------------------------------------------------------\u001b[0m",
      "\u001b[1;31mException\u001b[0m                                 Traceback (most recent call last)",
      "\u001b[1;32m<ipython-input-56-0c3170ee34c3>\u001b[0m in \u001b[0;36m<module>\u001b[1;34m\u001b[0m\n\u001b[0;32m     10\u001b[0m     \u001b[0mprint\u001b[0m\u001b[1;33m(\u001b[0m\u001b[0mh\u001b[0m\u001b[1;33m[\u001b[0m\u001b[1;33m-\u001b[0m\u001b[1;36m1\u001b[0m\u001b[1;33m]\u001b[0m\u001b[1;33m)\u001b[0m\u001b[1;33m\u001b[0m\u001b[1;33m\u001b[0m\u001b[0m\n\u001b[0;32m     11\u001b[0m     \u001b[1;32mif\u001b[0m \u001b[0mi\u001b[0m \u001b[1;33m==\u001b[0m \u001b[1;36m10\u001b[0m\u001b[1;33m:\u001b[0m\u001b[1;33m\u001b[0m\u001b[1;33m\u001b[0m\u001b[0m\n\u001b[1;32m---> 12\u001b[1;33m         \u001b[1;32mraise\u001b[0m \u001b[0mException\u001b[0m\u001b[1;33m(\u001b[0m\u001b[1;34m'Bad'\u001b[0m\u001b[1;33m)\u001b[0m\u001b[1;33m\u001b[0m\u001b[1;33m\u001b[0m\u001b[0m\n\u001b[0m\u001b[0;32m     13\u001b[0m \u001b[0mh\u001b[0m \u001b[1;33m=\u001b[0m \u001b[0mnp\u001b[0m\u001b[1;33m.\u001b[0m\u001b[0mvstack\u001b[0m\u001b[1;33m(\u001b[0m\u001b[0mh\u001b[0m\u001b[1;33m)\u001b[0m\u001b[1;33m\u001b[0m\u001b[1;33m\u001b[0m\u001b[0m\n\u001b[0;32m     14\u001b[0m \u001b[0myPred\u001b[0m \u001b[1;33m=\u001b[0m \u001b[0mh\u001b[0m\u001b[1;33m@\u001b[0m\u001b[0mw\u001b[0m\u001b[1;33m\u001b[0m\u001b[1;33m\u001b[0m\u001b[0m\n",
      "\u001b[1;31mException\u001b[0m: Bad"
     ]
    }
   ],
   "source": [
    "import matplotlib.pyplot as plt\n",
    "\n",
    "y = X_train[:,0]\n",
    "e = modelEdges(train_rest_p_torch, train_nback_p_torch)\n",
    "h = []\n",
    "for i in range(X_train_torch.shape[0]):\n",
    "    if i % 10 == 0:\n",
    "        print(i, end=' ')\n",
    "    h.append(modelTrain(e, X_train_torch, i).detach().numpy())\n",
    "    print(h[-1])\n",
    "    if i == 10:\n",
    "        raise Exception('Bad')\n",
    "h = np.vstack(h)\n",
    "yPred = h@w\n",
    "\n",
    "# y = X_test[:,0]\n",
    "# h = []\n",
    "# for i in range(X_test.shape[0]):\n",
    "#     if i % 10 == 0:\n",
    "#         print(i, end=' ')\n",
    "#     e = modelEdges(train_rest_p_torch, train_nback_p_torch, \n",
    "#                    test_nback_p_torch[i], test_nback_p_torch[i])\n",
    "#     h.append(modelTest(e, X_test_torch[i,:], X_train_torch).detach().numpy())\n",
    "#     print(h[-1])\n",
    "#     if i == 10:\n",
    "#         raise Exception('Bad')\n",
    "# h = np.vstack(h)\n",
    "# hp = np.hstack([h, test_rest_p.reshape(-1,264*264)])\n",
    "# yPred = hp@w\n",
    "# print()\n",
    "\n",
    "idcs = np.argsort(y)\n",
    "yPred = yPred[idcs]\n",
    "y = y[idcs]\n",
    "\n",
    "corr = np.corrcoef(y, yPred)\n",
    "rmse = (np.sum((y-yPred)**2)/len(y))**0.5/12\n",
    "mae = np.sum(np.abs(y-yPred))/12/len(y)\n",
    "\n",
    "print(corr)\n",
    "print(rmse)\n",
    "print(mae)\n",
    "\n",
    "plt.plot(y, label='Truth')\n",
    "plt.plot(yPred, label='Prediction')\n",
    "plt.show()\n",
    "\n",
    "plt.scatter(y, yPred)\n",
    "plt.show()"
   ]
  },
  {
   "cell_type": "code",
   "execution_count": 51,
   "id": "b24a2d4a",
   "metadata": {},
   "outputs": [
    {
     "data": {
      "image/png": "[encoded data removed]",
      "text/plain": [
       "<Figure size 432x288 with 1 Axes>"
      ]
     },
     "metadata": {
      "needs_background": "light"
     },
     "output_type": "display_data"
    }
   ],
   "source": [
    "e = modelEdges(train_rest_p_torch, train_nback_p_torch)\n",
    "y = X_train[:,0]\n",
    "s = torch.sum(e, dim=1)\n",
    "idcs = np.argsort(y)\n",
    "s = s[idcs]\n",
    "\n",
    "plt.plot(s)\n",
    "plt.show()"
   ]
  },
  {
   "cell_type": "code",
   "execution_count": null,
   "id": "4f9ba794",
   "metadata": {},
   "outputs": [],
   "source": []
  }
 ],
 "metadata": {
  "kernelspec": {
   "display_name": "Python 3",
   "language": "python",
   "name": "python3"
  },
  "language_info": {
   "codemirror_mode": {
    "name": "ipython",
    "version": 3
   },
   "file_extension": ".py",
   "mimetype": "text/x-python",
   "name": "python",
   "nbconvert_exporter": "python",
   "pygments_lexer": "ipython3",
   "version": "3.9.5"
  }
 },
 "nbformat": 4,
 "nbformat_minor": 5
}
