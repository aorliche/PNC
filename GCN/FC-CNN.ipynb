{
 "cells": [
  {
   "cell_type": "code",
   "execution_count": 37,
   "id": "9a41e4f6",
   "metadata": {},
   "outputs": [
    {
     "name": "stdout",
     "output_type": "stream",
     "text": [
      "467\n",
      "155\n",
      "{'meta': {'AgeInMonths': 129, 'Gender': 'F', 'Ethnicity': 'AFRICAN', 'AgeGroupID': 1, 'AgeGroupEdge1': 103, 'AgeGroupEdge2': 144}, 'rest': '18', 'nback': '18', 'emoid': '18', 'ID': 600110937794}\n"
     ]
    }
   ],
   "source": [
    "# Graph neural network where edge weights are distances between FC matrices\n",
    "\n",
    "# Load split\n",
    "\n",
    "import pickle\n",
    "\n",
    "badIDs = [605515760919, 601983541597]\n",
    "\n",
    "with open('../../Splits/RegressionAllTasks/split2.bin', 'rb') as f:\n",
    "    d = pickle.load(f)\n",
    "    train = []\n",
    "    trainDirty = d['train']\n",
    "    test = []\n",
    "    testDirty = d['test']\n",
    "    \n",
    "    # Remove bad subjects\n",
    "    for subj in trainDirty:\n",
    "        if subj['ID'] not in badIDs:\n",
    "            train.append(subj)\n",
    "            \n",
    "    for subj in testDirty:\n",
    "        if subj['ID'] not in badIDs:\n",
    "            test.append(subj)\n",
    "    \n",
    "print(len(train))\n",
    "print(len(test))\n",
    "print(train[0])"
   ]
  },
  {
   "cell_type": "code",
   "execution_count": 48,
   "id": "2a3f3e0e",
   "metadata": {},
   "outputs": [
    {
     "name": "stdout",
     "output_type": "stream",
     "text": [
      "Complete\n"
     ]
    }
   ],
   "source": [
    "# Load data\n",
    "\n",
    "def loadTimeseries(_id, _dir):\n",
    "    ts = None\n",
    "    with open('{:s}/{:d}.bin'.format(_dir, _id), 'rb') as f:\n",
    "        ts = pickle.load(f)\n",
    "    return ts\n",
    "\n",
    "train_rest_ts = [loadTimeseries(int(subj['nback']), '../../nback_fmri_power264/timeseries') for subj in train]\n",
    "# train_nback_ts = [loadTimeseries(int(subj['nback']), '../../nback_fmri_power264/timeseries') for subj in train]\n",
    "# train_emoid_ts = [loadTimeseries(int(subj['emoid']), '../../emoid_fmri_power264/timeseries') for subj in train]\n",
    "\n",
    "test_rest_ts = [loadTimeseries(int(subj['nback']), '../../nback_fmri_power264/timeseries') for subj in test]\n",
    "# test_nback_ts = [loadTimeseries(int(subj['nback']), '../../nback_fmri_power264/timeseries') for subj in test]\n",
    "# test_emoid_ts = [loadTimeseries(int(subj['emoid']), '../../emoid_fmri_power264/timeseries') for subj in test]\n",
    "\n",
    "print('Complete')"
   ]
  },
  {
   "cell_type": "code",
   "execution_count": 49,
   "id": "96affe56",
   "metadata": {},
   "outputs": [
    {
     "name": "stdout",
     "output_type": "stream",
     "text": [
      "Complete\n"
     ]
    }
   ],
   "source": [
    "import numpy as np\n",
    "\n",
    "def normalizeSubjects(subjects):\n",
    "    for i in range(len(subjects)):\n",
    "        subj = subjects[i]\n",
    "        subj -= np.mean(subj, axis=1, keepdims=True)@np.ones([1,subj.shape[1]])\n",
    "        subj /= np.std(subj, axis=1, keepdims=True)@np.ones([1,subj.shape[1]])\n",
    "        if np.sum(np.isnan(subj)) > 0:\n",
    "            print(i)\n",
    "        if np.sum(np.isinf(subj)) > 0:\n",
    "            print(i)\n",
    "\n",
    "normalizeSubjects(train_rest_ts)\n",
    "# normalizeSubjects(train_nback_ts)\n",
    "# normalizeSubjects(train_emoid_ts)\n",
    "\n",
    "normalizeSubjects(test_rest_ts)\n",
    "# normalizeSubjects(test_nback_ts)\n",
    "# normalizeSubjects(test_emoid_ts)\n",
    "\n",
    "print('Complete')"
   ]
  },
  {
   "cell_type": "code",
   "execution_count": 50,
   "id": "f10e5dc1",
   "metadata": {},
   "outputs": [
    {
     "name": "stdout",
     "output_type": "stream",
     "text": [
      "Complete\n"
     ]
    }
   ],
   "source": [
    "# Calculare pearson matrices\n",
    "\n",
    "train_p = [np.corrcoef(sub) for sub in train_rest_ts]\n",
    "test_p = [np.corrcoef(sub) for sub in test_rest_ts]\n",
    "\n",
    "print('Complete')"
   ]
  },
  {
   "cell_type": "code",
   "execution_count": 51,
   "id": "e2814071",
   "metadata": {},
   "outputs": [
    {
     "name": "stdout",
     "output_type": "stream",
     "text": [
      "(467,)\n",
      "Complete\n"
     ]
    }
   ],
   "source": [
    "# Create feature vectors (right now just ages)\n",
    "\n",
    "y_train = []\n",
    "for subj in train:\n",
    "    feat = subj['meta']['AgeInMonths']\n",
    "    y_train.append(feat)\n",
    "    \n",
    "y_test = []\n",
    "for subj in test:\n",
    "    feat = subj['meta']['AgeInMonths']\n",
    "    y_test.append(feat)\n",
    "    \n",
    "y_train = np.array(y_train)\n",
    "y_test = np.array(y_test)\n",
    "\n",
    "print(y_train.shape)\n",
    "print('Complete')"
   ]
  },
  {
   "cell_type": "code",
   "execution_count": 52,
   "id": "dd6e1c73",
   "metadata": {},
   "outputs": [
    {
     "name": "stdout",
     "output_type": "stream",
     "text": [
      "Complete\n"
     ]
    }
   ],
   "source": [
    "# Torch pearson matrices\n",
    "\n",
    "import torch\n",
    "import torch.nn as nn\n",
    "import torch.nn.functional as F\n",
    "\n",
    "train_p_torch = [torch.from_numpy(p).float().cuda() for p in train_p]\n",
    "test_p_torch = [torch.from_numpy(p).float().cuda() for p in test_p]\n",
    "\n",
    "print('Complete')"
   ]
  },
  {
   "cell_type": "code",
   "execution_count": 56,
   "id": "79756a96",
   "metadata": {},
   "outputs": [
    {
     "name": "stdout",
     "output_type": "stream",
     "text": [
      "torch.Size([264, 264])\n",
      "Complete\n"
     ]
    }
   ],
   "source": [
    "# CNN\n",
    "\n",
    "import math\n",
    "\n",
    "print(train_p_torch[0].shape)\n",
    "nc = 10\n",
    "sz1 = math.floor((264-20)/2+1)\n",
    "sz2 = math.floor((sz1-10)/2+1)\n",
    "sz3 = math.floor((sz2-8)/2+1)\n",
    "sz4 = math.floor((sz3-10)/2+1)\n",
    "\n",
    "class FCCNN(nn.Module):\n",
    "    def __init__(self):\n",
    "        super(FCCNN, self).__init__()\n",
    "        self.conv1 = nn.Conv2d(1,nc,(20,20),2).cuda()\n",
    "        self.mp1 = nn.MaxPool2d((10,10),2)\n",
    "        self.conv2 = nn.Conv2d(nc,nc,(8,8),2).cuda()\n",
    "        self.mp2 = nn.MaxPool2d((10,10),2)\n",
    "        self.fc1 = nn.Linear(nc*sz4*sz4,200).cuda()\n",
    "        self.fc2 = nn.Linear(200,1).cuda()\n",
    "        \n",
    "    def forward(self, x):\n",
    "        nb = x.shape[0]\n",
    "        x = F.relu(self.conv1(x.unsqueeze(1)))\n",
    "        x = self.mp1(x)\n",
    "        x = F.relu(self.conv2(x))\n",
    "        x = self.mp2(x)\n",
    "        x = x.reshape([nb,-1])\n",
    "        x = F.relu(self.fc1(x))\n",
    "        x = self.fc2(x)\n",
    "        return x\n",
    "    \n",
    "fccnn = FCCNN()\n",
    "optimcnn = torch.optim.Adam(fccnn.parameters(), lr=1e-3)\n",
    "\n",
    "print('Complete')"
   ]
  },
  {
   "cell_type": "code",
   "execution_count": 28,
   "id": "5936966f",
   "metadata": {},
   "outputs": [
    {
     "name": "stdout",
     "output_type": "stream",
     "text": [
      "9\n"
     ]
    }
   ],
   "source": [
    "print(sz4)"
   ]
  },
  {
   "cell_type": "code",
   "execution_count": 57,
   "id": "2ab6591e",
   "metadata": {},
   "outputs": [
    {
     "name": "stdout",
     "output_type": "stream",
     "text": [
      "epoch 0 loss=276852.937500\n",
      "epoch 100 loss=54600.433594\n",
      "epoch 200 loss=17467.355469\n",
      "epoch 300 loss=15995.985352\n",
      "epoch 400 loss=14230.459961\n",
      "epoch 500 loss=15322.787109\n",
      "epoch 600 loss=15387.866211\n",
      "epoch 700 loss=15351.159180\n",
      "epoch 800 loss=12396.487305\n",
      "epoch 900 loss=12839.116211\n",
      "epoch 1000 loss=12734.258789\n",
      "epoch 1100 loss=12906.115234\n",
      "epoch 1200 loss=11169.267578\n",
      "epoch 1300 loss=11491.082031\n",
      "epoch 1400 loss=10910.708984\n",
      "epoch 1500 loss=11797.806641\n",
      "epoch 1600 loss=9262.738281\n",
      "epoch 1700 loss=9086.724609\n",
      "epoch 1800 loss=7611.078613\n",
      "epoch 1900 loss=7737.610840\n",
      "epoch 2000 loss=6188.984863\n",
      "epoch 2100 loss=5402.383789\n",
      "epoch 2200 loss=5767.071289\n",
      "epoch 2300 loss=4330.177734\n",
      "epoch 2400 loss=3316.871582\n",
      "epoch 2500 loss=3198.909668\n",
      "epoch 2600 loss=3019.926270\n",
      "epoch 2700 loss=2165.050781\n"
     ]
    },
    {
     "ename": "KeyboardInterrupt",
     "evalue": "",
     "output_type": "error",
     "traceback": [
      "\u001b[1;31m---------------------------------------------------------------------------\u001b[0m",
      "\u001b[1;31mKeyboardInterrupt\u001b[0m                         Traceback (most recent call last)",
      "\u001b[1;32m<ipython-input-57-3e4fb4c12420>\u001b[0m in \u001b[0;36m<module>\u001b[1;34m\u001b[0m\n\u001b[0;32m     22\u001b[0m     \u001b[0mloss\u001b[0m \u001b[1;33m=\u001b[0m \u001b[0mtorch\u001b[0m\u001b[1;33m.\u001b[0m\u001b[0msum\u001b[0m\u001b[1;33m(\u001b[0m\u001b[1;33m(\u001b[0m\u001b[0mtruth\u001b[0m\u001b[1;33m-\u001b[0m\u001b[0mpred\u001b[0m\u001b[1;33m)\u001b[0m\u001b[1;33m**\u001b[0m\u001b[1;36m2\u001b[0m\u001b[1;33m)\u001b[0m\u001b[1;33m\u001b[0m\u001b[1;33m\u001b[0m\u001b[0m\n\u001b[0;32m     23\u001b[0m     \u001b[0mloss\u001b[0m\u001b[1;33m.\u001b[0m\u001b[0mbackward\u001b[0m\u001b[1;33m(\u001b[0m\u001b[1;33m)\u001b[0m\u001b[1;33m\u001b[0m\u001b[1;33m\u001b[0m\u001b[0m\n\u001b[1;32m---> 24\u001b[1;33m     \u001b[0mrunning\u001b[0m \u001b[1;33m+=\u001b[0m \u001b[0mloss\u001b[0m\u001b[1;33m.\u001b[0m\u001b[0mcpu\u001b[0m\u001b[1;33m(\u001b[0m\u001b[1;33m)\u001b[0m\u001b[1;33m\u001b[0m\u001b[1;33m\u001b[0m\u001b[0m\n\u001b[0m\u001b[0;32m     25\u001b[0m     \u001b[0moptimcnn\u001b[0m\u001b[1;33m.\u001b[0m\u001b[0mstep\u001b[0m\u001b[1;33m(\u001b[0m\u001b[1;33m)\u001b[0m\u001b[1;33m\u001b[0m\u001b[1;33m\u001b[0m\u001b[0m\n\u001b[0;32m     26\u001b[0m     \u001b[1;32mif\u001b[0m \u001b[0mepoch\u001b[0m \u001b[1;33m%\u001b[0m \u001b[0mpPeriod\u001b[0m \u001b[1;33m==\u001b[0m \u001b[1;36m0\u001b[0m \u001b[1;32mor\u001b[0m \u001b[0mepoch\u001b[0m \u001b[1;33m==\u001b[0m \u001b[0mnEpoch\u001b[0m\u001b[1;33m-\u001b[0m\u001b[1;36m1\u001b[0m\u001b[1;33m:\u001b[0m\u001b[1;33m\u001b[0m\u001b[1;33m\u001b[0m\u001b[0m\n",
      "\u001b[1;31mKeyboardInterrupt\u001b[0m: "
     ]
    }
   ],
   "source": [
    "# Train CNN\n",
    "\n",
    "import random\n",
    "\n",
    "N = len(train_p_torch)\n",
    "running = 0\n",
    "nEpoch = 4000\n",
    "pPeriod = 100\n",
    "nBatch = 10\n",
    "\n",
    "for epoch in range(nEpoch):\n",
    "    batch = []\n",
    "    truth = torch.zeros(nBatch).cuda()\n",
    "    for i in range(nBatch):\n",
    "        idx = random.randint(0,N-1)\n",
    "        subj = train_p_torch[idx]\n",
    "        batch.append(subj)\n",
    "        truth[i] = y_train[idx]\n",
    "    batch = torch.stack(batch,dim=0)\n",
    "    optimcnn.zero_grad()\n",
    "    pred = fccnn(batch).flatten()\n",
    "    loss = torch.sum((truth-pred)**2)\n",
    "    loss.backward()\n",
    "    running += loss.cpu()\n",
    "    optimcnn.step()\n",
    "    if epoch % pPeriod == 0 or epoch == nEpoch-1:\n",
    "        if epoch != 0:\n",
    "            if epoch % pPeriod != 0:\n",
    "                running /= epoch % pPeriod\n",
    "            else:\n",
    "                running /= pPeriod\n",
    "        print('epoch {:d} loss={:f}'.format(epoch, running))\n",
    "        running = 0\n",
    "\n",
    "print('Finished training')"
   ]
  },
  {
   "cell_type": "code",
   "execution_count": 59,
   "id": "09bbd7a7",
   "metadata": {},
   "outputs": [
    {
     "name": "stdout",
     "output_type": "stream",
     "text": [
      "[[1.         0.95247546]\n",
      " [0.95247546 1.        ]]\n",
      "1.2994412800768382\n",
      "1.060023191398931\n"
     ]
    },
    {
     "data": {
      "image/png": "[encoded data removed]",
      "text/plain": [
       "<Figure size 432x288 with 1 Axes>"
      ]
     },
     "metadata": {
      "needs_background": "light"
     },
     "output_type": "display_data"
    },
    {
     "data": {
      "image/png": "[encoded data removed]",
      "text/plain": [
       "<Figure size 432x288 with 1 Axes>"
      ]
     },
     "metadata": {
      "needs_background": "light"
     },
     "output_type": "display_data"
    }
   ],
   "source": [
    "import matplotlib.pyplot as plt\n",
    "\n",
    "y = y_train\n",
    "X = []\n",
    "\n",
    "for subj in train_p_torch:\n",
    "    X.append(subj)\n",
    "    \n",
    "X = torch.stack(X, dim=0)\n",
    "yPred = fccnn(X).flatten().cpu().detach().numpy()\n",
    "\n",
    "# yPred = Xtest@w\n",
    "\n",
    "idcs = np.argsort(y)\n",
    "yPred = yPred[idcs]\n",
    "y = y[idcs]\n",
    "\n",
    "corr = np.corrcoef(y, yPred)\n",
    "rmse = (np.sum((y-yPred)**2)/len(y))**0.5/12\n",
    "mae = np.sum(np.abs(y-yPred))/12/len(y)\n",
    "\n",
    "print(corr)\n",
    "print(rmse)\n",
    "print(mae)\n",
    "\n",
    "plt.plot(y, label='Truth')\n",
    "plt.plot(yPred, label='Prediction')\n",
    "plt.show()\n",
    "\n",
    "plt.scatter(y, yPred)\n",
    "plt.show()"
   ]
  },
  {
   "cell_type": "code",
   "execution_count": null,
   "id": "ec075f38",
   "metadata": {},
   "outputs": [],
   "source": []
  }
 ],
 "metadata": {
  "kernelspec": {
   "display_name": "Python 3",
   "language": "python",
   "name": "python3"
  },
  "language_info": {
   "codemirror_mode": {
    "name": "ipython",
    "version": 3
   },
   "file_extension": ".py",
   "mimetype": "text/x-python",
   "name": "python",
   "nbconvert_exporter": "python",
   "pygments_lexer": "ipython3",
   "version": "3.9.5"
  }
 },
 "nbformat": 4,
 "nbformat_minor": 5
}
