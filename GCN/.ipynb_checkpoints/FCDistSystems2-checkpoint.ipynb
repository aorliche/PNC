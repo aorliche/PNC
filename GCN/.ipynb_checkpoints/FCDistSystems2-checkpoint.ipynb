{
 "cells": [
  {
   "cell_type": "code",
   "execution_count": 1,
   "id": "1ce9ab8a",
   "metadata": {},
   "outputs": [
    {
     "name": "stdout",
     "output_type": "stream",
     "text": [
      "466\n",
      "156\n",
      "{'meta': {'AgeInMonths': 146, 'Gender': 'F', 'Ethnicity': 'AFRICAN', 'AgeGroupID': 2, 'AgeGroupEdge1': 144, 'AgeGroupEdge2': 180}, 'rest': '30', 'nback': '31', 'emoid': '31', 'ID': 600262185931}\n"
     ]
    }
   ],
   "source": [
    "# New einsum approach\n",
    "# Message passing may be possible only in C\n",
    "\n",
    "# Load split\n",
    "\n",
    "import pickle\n",
    "\n",
    "badIDs = [605515760919, 601983541597]\n",
    "\n",
    "with open('../../Splits/RegressionAllTasks/split1.bin', 'rb') as f:\n",
    "    d = pickle.load(f)\n",
    "    train = []\n",
    "    trainDirty = d['train']\n",
    "    test = []\n",
    "    testDirty = d['test']\n",
    "    \n",
    "    # Remove bad subjects\n",
    "    for subj in trainDirty:\n",
    "        if subj['ID'] not in badIDs:\n",
    "            train.append(subj)\n",
    "            \n",
    "    for subj in testDirty:\n",
    "        if subj['ID'] not in badIDs:\n",
    "            test.append(subj)\n",
    "    \n",
    "print(len(train))\n",
    "print(len(test))\n",
    "print(train[0])"
   ]
  },
  {
   "cell_type": "code",
   "execution_count": 2,
   "id": "c6aa3d62",
   "metadata": {},
   "outputs": [
    {
     "name": "stdout",
     "output_type": "stream",
     "text": [
      "Complete\n"
     ]
    }
   ],
   "source": [
    "# Load data\n",
    "\n",
    "def loadTimeseries(_id, _dir):\n",
    "    ts = None\n",
    "    with open('{:s}/{:d}.bin'.format(_dir, _id), 'rb') as f:\n",
    "        ts = pickle.load(f)\n",
    "    return ts\n",
    "\n",
    "train_rest_ts = [loadTimeseries(int(subj['rest']), '../../rest_fmri_power264/timeseries') for subj in train]\n",
    "# train_nback_ts = [loadTimeseries(int(subj['nback']), '../../nback_fmri_power264/timeseries') for subj in train]\n",
    "# train_emoid_ts = [loadTimeseries(int(subj['emoid']), '../../emoid_fmri_power264/timeseries') for subj in train]\n",
    "\n",
    "test_rest_ts = [loadTimeseries(int(subj['rest']), '../../rest_fmri_power264/timeseries') for subj in test]\n",
    "# test_nback_ts = [loadTimeseries(int(subj['nback']), '../../nback_fmri_power264/timeseries') for subj in test]\n",
    "# test_emoid_ts = [loadTimeseries(int(subj['emoid']), '../../emoid_fmri_power264/timeseries') for subj in test]\n",
    "\n",
    "print('Complete')"
   ]
  },
  {
   "cell_type": "code",
   "execution_count": 3,
   "id": "24a76e36",
   "metadata": {},
   "outputs": [
    {
     "name": "stdout",
     "output_type": "stream",
     "text": [
      "Complete\n"
     ]
    }
   ],
   "source": [
    "import numpy as np\n",
    "\n",
    "def normalizeSubjects(subjects):\n",
    "    for i in range(len(subjects)):\n",
    "        subj = subjects[i]\n",
    "        subj -= np.mean(subj, axis=1, keepdims=True)@np.ones([1,subj.shape[1]])\n",
    "        subj /= np.std(subj, axis=1, keepdims=True)@np.ones([1,subj.shape[1]])\n",
    "        if np.sum(np.isnan(subj)) > 0:\n",
    "            print(i)\n",
    "        if np.sum(np.isinf(subj)) > 0:\n",
    "            print(i)\n",
    "\n",
    "normalizeSubjects(train_rest_ts)\n",
    "# normalizeSubjects(train_nback_ts)\n",
    "# normalizeSubjects(train_emoid_ts)\n",
    "\n",
    "normalizeSubjects(test_rest_ts)\n",
    "# normalizeSubjects(test_nback_ts)\n",
    "# normalizeSubjects(test_emoid_ts)\n",
    "\n",
    "print('Complete')"
   ]
  },
  {
   "cell_type": "code",
   "execution_count": 4,
   "id": "8d1c2b76",
   "metadata": {},
   "outputs": [
    {
     "name": "stdout",
     "output_type": "stream",
     "text": [
      "(264, 264)\n",
      "Complete\n"
     ]
    }
   ],
   "source": [
    "# Calculare pearson matrices\n",
    "\n",
    "train_p = [np.corrcoef(sub) for sub in train_rest_ts]\n",
    "test_p = [np.corrcoef(sub) for sub in test_rest_ts]\n",
    "\n",
    "print(train_p[0].shape)\n",
    "print('Complete')"
   ]
  },
  {
   "cell_type": "code",
   "execution_count": 82,
   "id": "7a0a5eda",
   "metadata": {},
   "outputs": [
    {
     "name": "stdout",
     "output_type": "stream",
     "text": [
      "[[193   1   0]\n",
      " [217   1   0]\n",
      " [233   1   0]\n",
      " [176   1   0]\n",
      " [116   0   1]\n",
      " [246   0   1]\n",
      " [164   1   0]\n",
      " [167   0   1]\n",
      " [202   0   1]\n",
      " [108   0   1]]\n",
      "Complete\n"
     ]
    }
   ],
   "source": [
    "# Create feature vectors (right now just ages, maleness, and femaless)\n",
    "\n",
    "X_train = []\n",
    "for subj in train:\n",
    "    maleness = 1 if subj['meta']['Gender'] == 'M' else 0\n",
    "    femaleness = 1 if maleness == 0 else 0\n",
    "    feat = np.array([subj['meta']['AgeInMonths'], maleness, femaleness])\n",
    "    X_train.append(feat)\n",
    "    \n",
    "X_test = []\n",
    "for subj in test:\n",
    "    maleness = 1 if subj['meta']['Gender'] == 'M' else 0\n",
    "    femaleness = 1 if maleness == 0 else 0\n",
    "    feat = np.array([subj['meta']['AgeInMonths'], maleness, femaleness])\n",
    "    X_test.append(feat)\n",
    "    \n",
    "X_train = np.vstack(X_train)\n",
    "X_test = np.vstack(X_test)\n",
    "\n",
    "print(X_train[10:20])\n",
    "print('Complete')"
   ]
  },
  {
   "cell_type": "code",
   "execution_count": 83,
   "id": "290a9cce",
   "metadata": {},
   "outputs": [
    {
     "name": "stdout",
     "output_type": "stream",
     "text": [
      "Complete\n"
     ]
    }
   ],
   "source": [
    "# Convert to pytorch\n",
    "\n",
    "import torch\n",
    "import torch.nn as nn\n",
    "import torch.nn.functional as F\n",
    "\n",
    "train_p_torch = [torch.from_numpy(p).float() for p in train_p]\n",
    "test_p_torch = [torch.from_numpy(p).float() for p in test_p]\n",
    "\n",
    "X_train_torch = torch.from_numpy(X_train).float()\n",
    "\n",
    "print('Complete')"
   ]
  },
  {
   "cell_type": "code",
   "execution_count": 93,
   "id": "8af807a3",
   "metadata": {},
   "outputs": [
    {
     "name": "stdout",
     "output_type": "stream",
     "text": [
      "Complete\n"
     ]
    }
   ],
   "source": [
    "# The model\n",
    "\n",
    "import random\n",
    "\n",
    "Nmask = 1\n",
    "Nroi = train_p_torch[0].shape[0]\n",
    "Nsub = X_train_torch.shape[0]\n",
    "Nfeat = 1#X_train_torch.shape[1]\n",
    "Nlat = 40\n",
    "Nhid = 80\n",
    "\n",
    "class SysGcn(nn.Module):\n",
    "    def __init__(self):\n",
    "        super(SysGcn, self).__init__()\n",
    "        self.masks = nn.Parameter(torch.randn(Nroi,Nmask))\n",
    "        self.fc1 = nn.Linear(Nsub*(Nmask+Nfeat),Nhid)\n",
    "        self.fc2 = nn.Linear(Nhid,Nlat)\n",
    "        self.fc3 = nn.Linear(Nsub*(Nmask+Nlat),Nhid)\n",
    "        self.fc4 = nn.Linear(Nhid,1)\n",
    "        self.fc5 = nn.Linear(Nsub*(Nmask+Nlat),Nhid)\n",
    "        self.fc6 = nn.Linear(Nhid,Nlat)\n",
    "        self.fc7 = nn.Linear(Nsub*(Nmask+Nlat),Nhid)\n",
    "        self.fc8 = nn.Linear(Nhid,Nlat)\n",
    "        self.fc9 = nn.Linear(Nsub*(Nmask+Nlat),Nhid)\n",
    "        self.fc10 = nn.Linear(Nhid,1)\n",
    "        \n",
    "    # self.feat and self.ps set outside training loop   \n",
    "    def forward(self, x):\n",
    "        # Training or test\n",
    "        trainNotTest = x[0]   \n",
    "        \n",
    "        # Edges can be calculated here if training\n",
    "        if trainNotTest:\n",
    "            m = torch.sigmoid(self.masks)\n",
    "            mp = torch.einsum('aij,im,jm->aijm',self.ps,m,m)\n",
    "            edges = torch.einsum('aijm,bijm->abm',mp,mp)\n",
    "            edges2 = edges.reshape(Nsub,Nsub*Nmask)\n",
    "            \n",
    "        # Batch\n",
    "        y = torch.zeros(len(x[1]))\n",
    "        \n",
    "        for i in range(len(x[1])):\n",
    "            subj = x[1][i]\n",
    "            sav = None\n",
    "            idx = None\n",
    "            pSav = None\n",
    "            \n",
    "            if trainNotTest: \n",
    "                idx = subj\n",
    "                sav = self.feat[idx,:].clone()\n",
    "                self.feat[idx,0] = 0\n",
    "            else: \n",
    "                idx = random.randint(0,Nsub-1)\n",
    "                sav = self.feat[idx,:].clone()\n",
    "                pSav = self.ps[idx,:,:].clone()\n",
    "                self.feat[idx,0] = 0\n",
    "                self.feat[idx,1] = subj[0]\n",
    "                self.feat[idx,2] = subj[1]\n",
    "                self.ps[idx,:,:] = subj[2]\n",
    "                \n",
    "                # Edges must be recalculated for each subj on test set\n",
    "                m = torch.sigmoid(self.masks)\n",
    "                mp = torch.einsum('aij,im,jm->aijm',self.ps,m,m)\n",
    "                edges = torch.einsum('aijm,bijm->abm',mp,mp)\n",
    "                edges2 = edges.reshape(Nsub,Nsub*Nmask)\n",
    "                \n",
    "            # Features\n",
    "            featRep = self.feat[:,0:Nfeat].reshape(1,Nsub*Nfeat).expand(Nsub,Nsub*Nfeat)\n",
    "            msg = torch.cat((edges2, featRep), dim=1)\n",
    "            \n",
    "            # Layer 1\n",
    "            h = F.relu(self.fc1(msg))\n",
    "            h = F.relu(self.fc2(h))\n",
    "            \n",
    "            # Layer 2\n",
    "            h = h.reshape(1,Nsub*Nlat).expand(Nsub,Nsub*Nlat)\n",
    "            h = torch.cat((edges2, h), dim=1)\n",
    "            h = F.relu(self.fc3(h))\n",
    "            h = self.fc4(h)\n",
    "            \n",
    "            y[i] = h[idx,0]\n",
    "            \n",
    "            # Restore state\n",
    "            if trainNotTest:\n",
    "                self.feat[idx,:] = sav\n",
    "            else:\n",
    "                self.feat[idx,:] = sav\n",
    "                self.ps[idx,:,:] = pSav\n",
    "        \n",
    "        return y, m\n",
    "    \n",
    "sysgcn = SysGcn()\n",
    "optim = torch.optim.Adam(sysgcn.parameters(), lr=1e-3)\n",
    "\n",
    "print('Complete')"
   ]
  },
  {
   "cell_type": "code",
   "execution_count": 65,
   "id": "4fa704cd",
   "metadata": {},
   "outputs": [],
   "source": [
    "def getGradNorm(params):\n",
    "    total_norm = 0\n",
    "    for p in params:\n",
    "        param_norm = p.grad.data.norm(2)\n",
    "        total_norm += param_norm.item() ** 2\n",
    "    return total_norm ** 0.5"
   ]
  },
  {
   "cell_type": "code",
   "execution_count": 94,
   "id": "078ba773",
   "metadata": {},
   "outputs": [
    {
     "name": "stdout",
     "output_type": "stream",
     "text": [
      "epoch 0 loss=657850.250000 maskDisc=134.329117 maskContr=80.940369\n",
      "epoch 5 loss=674937.250000 maskDisc=134.192429 maskContr=80.799965\n",
      "epoch 10 loss=157482.468750 maskDisc=134.051666 maskContr=80.655907\n",
      "epoch 15 loss=75044.609375 maskDisc=133.971329 maskContr=80.573860\n",
      "epoch 20 loss=63580.917969 maskDisc=133.910751 maskContr=80.512062\n",
      "epoch 25 loss=46928.984375 maskDisc=133.872635 maskContr=80.473251\n",
      "epoch 30 loss=34902.976562 maskDisc=133.846024 maskContr=80.446190\n",
      "epoch 35 loss=29965.769531 maskDisc=133.825928 maskContr=80.425781\n",
      "epoch 40 loss=32726.558594 maskDisc=133.812286 maskContr=80.411911\n",
      "epoch 45 loss=33347.953125 maskDisc=133.803802 maskContr=80.403328\n",
      "epoch 50 loss=27506.589844 maskDisc=133.797867 maskContr=80.397308\n",
      "epoch 55 loss=35356.515625 maskDisc=133.793121 maskContr=80.392487\n",
      "epoch 60 loss=32670.349609 maskDisc=133.789032 maskContr=80.388298\n",
      "epoch 65 loss=24057.216797 maskDisc=133.786942 maskContr=80.386154\n",
      "epoch 70 loss=32693.509766 maskDisc=133.784683 maskContr=80.383827\n",
      "epoch 75 loss=35299.796875 maskDisc=133.783173 maskContr=80.382248\n",
      "epoch 80 loss=29890.962891 maskDisc=133.782318 maskContr=80.381363\n",
      "epoch 85 loss=26273.859375 maskDisc=133.781586 maskContr=80.380577\n",
      "epoch 90 loss=27433.464844 maskDisc=133.781067 maskContr=80.380043\n",
      "epoch 95 loss=35165.050781 maskDisc=133.780609 maskContr=80.379555\n",
      "epoch 100 loss=31090.468750 maskDisc=133.780502 maskContr=80.379395\n",
      "epoch 105 loss=28065.109375 maskDisc=133.780014 maskContr=80.378868\n",
      "epoch 110 loss=26832.375000 maskDisc=133.779999 maskContr=80.378807\n",
      "epoch 115 loss=38694.746094 maskDisc=133.779755 maskContr=80.378555\n",
      "epoch 120 loss=36028.457031 maskDisc=133.779083 maskContr=80.377831\n",
      "epoch 125 loss=32379.119141 maskDisc=133.777130 maskContr=80.375816\n",
      "epoch 130 loss=34112.777344 maskDisc=133.775970 maskContr=80.374573\n",
      "epoch 135 loss=33777.003906 maskDisc=133.772232 maskContr=80.370735\n",
      "epoch 140 loss=30582.896484 maskDisc=133.769653 maskContr=80.368057\n",
      "epoch 145 loss=30378.917969 maskDisc=133.767487 maskContr=80.365799\n"
     ]
    },
    {
     "ename": "KeyboardInterrupt",
     "evalue": "",
     "output_type": "error",
     "traceback": [
      "\u001b[1;31m---------------------------------------------------------------------------\u001b[0m",
      "\u001b[1;31mKeyboardInterrupt\u001b[0m                         Traceback (most recent call last)",
      "\u001b[1;32m<ipython-input-94-aac24045acc3>\u001b[0m in \u001b[0;36m<module>\u001b[1;34m\u001b[0m\n\u001b[0;32m     41\u001b[0m     \u001b[0mrunningL2\u001b[0m \u001b[1;33m+=\u001b[0m \u001b[0ml2\u001b[0m\u001b[1;33m.\u001b[0m\u001b[0mdetach\u001b[0m\u001b[1;33m(\u001b[0m\u001b[1;33m)\u001b[0m\u001b[1;33m\u001b[0m\u001b[1;33m\u001b[0m\u001b[0m\n\u001b[0;32m     42\u001b[0m     \u001b[0mloss\u001b[0m \u001b[1;33m=\u001b[0m \u001b[0ml0\u001b[0m \u001b[1;33m+\u001b[0m \u001b[0ml1\u001b[0m \u001b[1;33m+\u001b[0m \u001b[0ml2\u001b[0m\u001b[1;33m\u001b[0m\u001b[1;33m\u001b[0m\u001b[0m\n\u001b[1;32m---> 43\u001b[1;33m     \u001b[0mloss\u001b[0m\u001b[1;33m.\u001b[0m\u001b[0mbackward\u001b[0m\u001b[1;33m(\u001b[0m\u001b[1;33m)\u001b[0m\u001b[1;33m\u001b[0m\u001b[1;33m\u001b[0m\u001b[0m\n\u001b[0m\u001b[0;32m     44\u001b[0m     \u001b[0mnorm\u001b[0m \u001b[1;33m=\u001b[0m \u001b[0mgetGradNorm\u001b[0m\u001b[1;33m(\u001b[0m\u001b[0msysgcn\u001b[0m\u001b[1;33m.\u001b[0m\u001b[0mparameters\u001b[0m\u001b[1;33m(\u001b[0m\u001b[1;33m)\u001b[0m\u001b[1;33m)\u001b[0m\u001b[1;33m\u001b[0m\u001b[1;33m\u001b[0m\u001b[0m\n\u001b[0;32m     45\u001b[0m \u001b[1;31m#     print('Norm: {:f}'.format(norm))\u001b[0m\u001b[1;33m\u001b[0m\u001b[1;33m\u001b[0m\u001b[1;33m\u001b[0m\u001b[0m\n",
      "\u001b[1;32mc:\\users\\aorlichenko\\appdata\\local\\programs\\python\\python39\\lib\\site-packages\\torch\\tensor.py\u001b[0m in \u001b[0;36mbackward\u001b[1;34m(self, gradient, retain_graph, create_graph)\u001b[0m\n\u001b[0;32m    219\u001b[0m                 \u001b[0mretain_graph\u001b[0m\u001b[1;33m=\u001b[0m\u001b[0mretain_graph\u001b[0m\u001b[1;33m,\u001b[0m\u001b[1;33m\u001b[0m\u001b[1;33m\u001b[0m\u001b[0m\n\u001b[0;32m    220\u001b[0m                 create_graph=create_graph)\n\u001b[1;32m--> 221\u001b[1;33m         \u001b[0mtorch\u001b[0m\u001b[1;33m.\u001b[0m\u001b[0mautograd\u001b[0m\u001b[1;33m.\u001b[0m\u001b[0mbackward\u001b[0m\u001b[1;33m(\u001b[0m\u001b[0mself\u001b[0m\u001b[1;33m,\u001b[0m \u001b[0mgradient\u001b[0m\u001b[1;33m,\u001b[0m \u001b[0mretain_graph\u001b[0m\u001b[1;33m,\u001b[0m \u001b[0mcreate_graph\u001b[0m\u001b[1;33m)\u001b[0m\u001b[1;33m\u001b[0m\u001b[1;33m\u001b[0m\u001b[0m\n\u001b[0m\u001b[0;32m    222\u001b[0m \u001b[1;33m\u001b[0m\u001b[0m\n\u001b[0;32m    223\u001b[0m     \u001b[1;32mdef\u001b[0m \u001b[0mregister_hook\u001b[0m\u001b[1;33m(\u001b[0m\u001b[0mself\u001b[0m\u001b[1;33m,\u001b[0m \u001b[0mhook\u001b[0m\u001b[1;33m)\u001b[0m\u001b[1;33m:\u001b[0m\u001b[1;33m\u001b[0m\u001b[1;33m\u001b[0m\u001b[0m\n",
      "\u001b[1;32mc:\\users\\aorlichenko\\appdata\\local\\programs\\python\\python39\\lib\\site-packages\\torch\\autograd\\__init__.py\u001b[0m in \u001b[0;36mbackward\u001b[1;34m(tensors, grad_tensors, retain_graph, create_graph, grad_variables)\u001b[0m\n\u001b[0;32m    128\u001b[0m         \u001b[0mretain_graph\u001b[0m \u001b[1;33m=\u001b[0m \u001b[0mcreate_graph\u001b[0m\u001b[1;33m\u001b[0m\u001b[1;33m\u001b[0m\u001b[0m\n\u001b[0;32m    129\u001b[0m \u001b[1;33m\u001b[0m\u001b[0m\n\u001b[1;32m--> 130\u001b[1;33m     Variable._execution_engine.run_backward(\n\u001b[0m\u001b[0;32m    131\u001b[0m         \u001b[0mtensors\u001b[0m\u001b[1;33m,\u001b[0m \u001b[0mgrad_tensors_\u001b[0m\u001b[1;33m,\u001b[0m \u001b[0mretain_graph\u001b[0m\u001b[1;33m,\u001b[0m \u001b[0mcreate_graph\u001b[0m\u001b[1;33m,\u001b[0m\u001b[1;33m\u001b[0m\u001b[1;33m\u001b[0m\u001b[0m\n\u001b[0;32m    132\u001b[0m         allow_unreachable=True)  # allow_unreachable flag\n",
      "\u001b[1;31mKeyboardInterrupt\u001b[0m: "
     ]
    }
   ],
   "source": [
    "# Train Gcn\n",
    "\n",
    "import random\n",
    "\n",
    "Nbatch = 20\n",
    "N = len(train_p_torch)\n",
    "running = 0\n",
    "runningL1 = 0\n",
    "runningL2 = 0\n",
    "nEpoch = 500\n",
    "pPeriod = 5\n",
    "\n",
    "# Want both discreteness and contrastivity\n",
    "def maskLoss(masks):\n",
    "    disc = torch.sum(torch.abs(masks))\n",
    "    cont = 0\n",
    "    for i in range(masks.shape[1]):\n",
    "        for j in range(i, masks.shape[1]):\n",
    "            cont += torch.sum(torch.abs(masks[:,i]*masks[:,j]))\n",
    "    return disc, cont\n",
    "\n",
    "sysgcn.ps = torch.stack(train_p_torch, dim=0)\n",
    "sysgcn.feat = X_train_torch\n",
    "\n",
    "for epoch in range(nEpoch):\n",
    "    batch = []\n",
    "    truth = torch.zeros(Nbatch)\n",
    "    for i in range(Nbatch):\n",
    "        idx = random.randint(0,N-1)\n",
    "        batch.append(idx)\n",
    "        truth[i] = X_train_torch[idx, 0]\n",
    "    optim.zero_grad()\n",
    "    pred, masks = sysgcn([True, batch])   \n",
    "#     print(truth)\n",
    "#     print(pred)\n",
    "    l0 = torch.sum((truth-pred)**2)\n",
    "#     print(l0)\n",
    "    l1, l2 = maskLoss(masks)\n",
    "    running += l0.detach()\n",
    "    runningL1 += l1.detach()\n",
    "    runningL2 += l2.detach()\n",
    "    loss = l0 + l1 + l2\n",
    "    loss.backward()\n",
    "    norm = getGradNorm(sysgcn.parameters())\n",
    "#     print('Norm: {:f}'.format(norm))\n",
    "    optim.step()\n",
    "    if epoch % pPeriod == 0 or epoch == nEpoch-1:\n",
    "        if epoch != 0:\n",
    "            if epoch % pPeriod != 0:\n",
    "                running /= epoch % pPeriod\n",
    "                runningL1 /= epoch % pPeriod\n",
    "                runningL2 /= epoch % pPeriod\n",
    "            else:\n",
    "                running /= pPeriod\n",
    "                runningL1 /= pPeriod\n",
    "                runningL2 /= pPeriod\n",
    "        print('epoch {:d} loss={:f} maskDisc={:f} maskContr={:f}'.format(epoch, running, runningL1, runningL2))\n",
    "        running = 0\n",
    "        runningL1 = 0\n",
    "        runningL2 = 0\n",
    "\n",
    "print('Finished training')"
   ]
  },
  {
   "cell_type": "code",
   "execution_count": 79,
   "id": "3e14f36d",
   "metadata": {},
   "outputs": [
    {
     "name": "stdout",
     "output_type": "stream",
     "text": [
      "tensor([[146.,   0.,   1.],\n",
      "        [212.,   0.,   1.],\n",
      "        [117.,   0.,   1.],\n",
      "        ...,\n",
      "        [201.,   1.,   0.],\n",
      "        [238.,   1.,   0.],\n",
      "        [146.,   1.,   0.]])\n"
     ]
    }
   ],
   "source": [
    "# print(sysgcn.masks[0:10,:])\n",
    "print(X_train_torch)"
   ]
  },
  {
   "cell_type": "code",
   "execution_count": 87,
   "id": "358d48e9",
   "metadata": {},
   "outputs": [
    {
     "name": "stdout",
     "output_type": "stream",
     "text": [
      "tensor([ 0,  1,  2,  3,  4,  5,  6,  7,  8,  9, 10, 11, 12, 13, 14, 15, 16, 17,\n",
      "        18, 19, 20, 21, 22, 23, 24, 25, 26, 27, 28, 29, 30, 31, 32, 33, 34, 35,\n",
      "        36, 37, 38, 39])\n",
      "tensor([40, 41, 42, 43, 44, 45, 46, 47, 48, 49, 50, 51, 52, 53, 54, 55, 56, 57,\n",
      "        58, 59, 60, 61, 62, 63, 64, 65, 66, 67, 68, 69, 70, 71, 72, 73, 74, 75,\n",
      "        76, 77, 78, 79])\n",
      "tensor([ 80,  81,  82,  83,  84,  85,  86,  87,  88,  89,  90,  91,  92,  93,\n",
      "         94,  95,  96,  97,  98,  99, 100, 101, 102, 103, 104, 105, 106, 107,\n",
      "        108, 109, 110, 111, 112, 113, 114, 115, 116, 117, 118, 119])\n",
      "tensor([120, 121, 122, 123, 124, 125, 126, 127, 128, 129, 130, 131, 132, 133,\n",
      "        134, 135, 136, 137, 138, 139, 140, 141, 142, 143, 144, 145, 146, 147,\n",
      "        148, 149, 150, 151, 152, 153, 154, 155, 156, 157, 158, 159])\n",
      "tensor([160, 161, 162, 163, 164, 165, 166, 167, 168, 169, 170, 171, 172, 173,\n",
      "        174, 175, 176, 177, 178, 179, 180, 181, 182, 183, 184, 185, 186, 187,\n",
      "        188, 189, 190, 191, 192, 193, 194, 195, 196, 197, 198, 199])\n",
      "tensor([200, 201, 202, 203, 204, 205, 206, 207, 208, 209, 210, 211, 212, 213,\n",
      "        214, 215, 216, 217, 218, 219, 220, 221, 222, 223, 224, 225, 226, 227,\n",
      "        228, 229, 230, 231, 232, 233, 234, 235, 236, 237, 238, 239])\n",
      "tensor([240, 241, 242, 243, 244, 245, 246, 247, 248, 249, 250, 251, 252, 253,\n",
      "        254, 255, 256, 257, 258, 259, 260, 261, 262, 263, 264, 265, 266, 267,\n",
      "        268, 269, 270, 271, 272, 273, 274, 275, 276, 277, 278, 279])\n",
      "tensor([280, 281, 282, 283, 284, 285, 286, 287, 288, 289, 290, 291, 292, 293,\n",
      "        294, 295, 296, 297, 298, 299, 300, 301, 302, 303, 304, 305, 306, 307,\n",
      "        308, 309, 310, 311, 312, 313, 314, 315, 316, 317, 318, 319])\n",
      "tensor([320, 321, 322, 323, 324, 325, 326, 327, 328, 329, 330, 331, 332, 333,\n",
      "        334, 335, 336, 337, 338, 339, 340, 341, 342, 343, 344, 345, 346, 347,\n",
      "        348, 349, 350, 351, 352, 353, 354, 355, 356, 357, 358, 359])\n",
      "tensor([360, 361, 362, 363, 364, 365, 366, 367, 368, 369, 370, 371, 372, 373,\n",
      "        374, 375, 376, 377, 378, 379, 380, 381, 382, 383, 384, 385, 386, 387,\n",
      "        388, 389, 390, 391, 392, 393, 394, 395, 396, 397, 398, 399])\n",
      "tensor([400, 401, 402, 403, 404, 405, 406, 407, 408, 409, 410, 411, 412, 413,\n",
      "        414, 415, 416, 417, 418, 419, 420, 421, 422, 423, 424, 425, 426, 427,\n",
      "        428, 429, 430, 431, 432, 433, 434, 435, 436, 437, 438, 439])\n",
      "tensor([440, 441, 442, 443, 444, 445, 446, 447, 448, 449, 450, 451, 452, 453,\n",
      "        454, 455, 456, 457, 458, 459, 460, 461, 462, 463, 464, 465])\n",
      "[[1.         0.36556779]\n",
      " [0.36556779 1.        ]]\n",
      "3.2221407805082247\n",
      "2.5522252479847922\n"
     ]
    },
    {
     "data": {
      "image/png": "[encoded data removed]",
      "text/plain": [
       "<Figure size 432x288 with 1 Axes>"
      ]
     },
     "metadata": {
      "needs_background": "light"
     },
     "output_type": "display_data"
    },
    {
     "data": {
      "image/png": "[encoded data removed]",
      "text/plain": [
       "<Figure size 432x288 with 1 Axes>"
      ]
     },
     "metadata": {
      "needs_background": "light"
     },
     "output_type": "display_data"
    }
   ],
   "source": [
    "import matplotlib.pyplot as plt\n",
    "import math\n",
    "\n",
    "y = X_train[:,0]\n",
    "\n",
    "bs = 40\n",
    "ns = X_train.shape[0]\n",
    "nb = math.ceil(ns/bs)\n",
    "\n",
    "yPred = np.zeros(y.shape)\n",
    "\n",
    "for i in range(nb):\n",
    "    end = (i+1)*bs\n",
    "    if end > ns:\n",
    "        end = ns\n",
    "    batch = [True, torch.arange(i*bs,end)]\n",
    "    print(batch[1])\n",
    "    pred, masks = sysgcn(batch)\n",
    "    yPred[i*bs:end] = pred.detach().numpy()\n",
    "\n",
    "idcs = np.argsort(y)\n",
    "yPred = yPred[idcs]\n",
    "y = y[idcs]\n",
    "\n",
    "corr = np.corrcoef(y, yPred)\n",
    "rmse = (np.sum((y-yPred)**2)/len(y))**0.5/12\n",
    "mae = np.sum(np.abs(y-yPred))/12/len(y)\n",
    "\n",
    "print(corr)\n",
    "print(rmse)\n",
    "print(mae)\n",
    "\n",
    "plt.plot(y, label='Truth')\n",
    "plt.plot(yPred, label='Prediction')\n",
    "plt.show()\n",
    "\n",
    "plt.scatter(y, yPred)\n",
    "plt.show()"
   ]
  },
  {
   "cell_type": "code",
   "execution_count": null,
   "id": "2966f9bf",
   "metadata": {},
   "outputs": [],
   "source": []
  }
 ],
 "metadata": {
  "kernelspec": {
   "display_name": "Python 3",
   "language": "python",
   "name": "python3"
  },
  "language_info": {
   "codemirror_mode": {
    "name": "ipython",
    "version": 3
   },
   "file_extension": ".py",
   "mimetype": "text/x-python",
   "name": "python",
   "nbconvert_exporter": "python",
   "pygments_lexer": "ipython3",
   "version": "3.9.5"
  }
 },
 "nbformat": 4,
 "nbformat_minor": 5
}
