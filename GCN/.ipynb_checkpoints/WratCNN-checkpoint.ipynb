{
 "cells": [
  {
   "cell_type": "code",
   "execution_count": 1,
   "id": "5c553a4a",
   "metadata": {},
   "outputs": [
    {
     "name": "stdout",
     "output_type": "stream",
     "text": [
      "466\n",
      "156\n",
      "{'meta': {'AgeInMonths': 146, 'Gender': 'F', 'Ethnicity': 'AFRICAN', 'AgeGroupID': 2, 'AgeGroupEdge1': 144, 'AgeGroupEdge2': 180}, 'rest': '30', 'nback': '31', 'emoid': '31', 'ID': 600262185931}\n"
     ]
    }
   ],
   "source": [
    "import pickle\n",
    "\n",
    "badIDs = [605515760919, 601983541597]\n",
    "\n",
    "with open('../../Splits/RegressionAllTasks/split1.bin', 'rb') as f:\n",
    "    d = pickle.load(f)\n",
    "    train = []\n",
    "    trainDirty = d['train']\n",
    "    test = []\n",
    "    testDirty = d['test']\n",
    "    \n",
    "    # Remove bad subjects\n",
    "    for subj in trainDirty:\n",
    "        if subj['ID'] not in badIDs:\n",
    "            train.append(subj)\n",
    "            \n",
    "    for subj in testDirty:\n",
    "        if subj['ID'] not in badIDs:\n",
    "            test.append(subj)\n",
    "    \n",
    "print(len(train))\n",
    "print(len(test))\n",
    "print(train[0])"
   ]
  },
  {
   "cell_type": "code",
   "execution_count": 2,
   "id": "0619d719",
   "metadata": {},
   "outputs": [
    {
     "name": "stdout",
     "output_type": "stream",
     "text": [
      "603056110671\n",
      "invalid literal for int() with base 10: 'NaN\\n'\n",
      "603317055381\n",
      "invalid literal for int() with base 10: 'NaN\\n'\n",
      "604847970437\n",
      "invalid literal for int() with base 10: 'NaN\\n'\n"
     ]
    }
   ],
   "source": [
    "# Load wrat\n",
    "\n",
    "idWratDict = {}\n",
    "\n",
    "with open('../../wrat.csv') as f:\n",
    "    for line in f.readlines()[1:]:\n",
    "        parts = line.split(',')\n",
    "        try:\n",
    "            idWratDict[int(parts[0])] = int(parts[3])\n",
    "        except Exception as e:\n",
    "            print(parts[0])\n",
    "            print(e)"
   ]
  },
  {
   "cell_type": "code",
   "execution_count": 3,
   "id": "9873e426",
   "metadata": {},
   "outputs": [
    {
     "name": "stdout",
     "output_type": "stream",
     "text": [
      "(446,)\n",
      "(148,)\n",
      "446\n",
      "148\n"
     ]
    }
   ],
   "source": [
    "import numpy as np\n",
    "\n",
    "train_wrat = []\n",
    "test_wrat = []\n",
    "wrat_ids = idWratDict.keys()\n",
    "y_train = []\n",
    "y_test = []\n",
    "\n",
    "for subj in train:\n",
    "    if subj['ID'] in wrat_ids:\n",
    "        train_wrat.append(subj)\n",
    "        y_train.append(idWratDict[subj['ID']])\n",
    "        \n",
    "for subj in test:\n",
    "    if subj['ID'] in wrat_ids:\n",
    "        test_wrat.append(subj)\n",
    "        y_test.append(idWratDict[subj['ID']])\n",
    "\n",
    "y_train = np.array(y_train)\n",
    "y_test = np.array(y_test)\n",
    "print(y_train.shape)\n",
    "print(y_test.shape)\n",
    "print(len(train_wrat))\n",
    "print(len(test_wrat))"
   ]
  },
  {
   "cell_type": "code",
   "execution_count": 4,
   "id": "0e7bb033",
   "metadata": {},
   "outputs": [
    {
     "name": "stdout",
     "output_type": "stream",
     "text": [
      "Complete\n"
     ]
    }
   ],
   "source": [
    "# Load data\n",
    "\n",
    "def loadTimeseries(_id, _dir):\n",
    "    ts = None\n",
    "    with open('{:s}/{:d}.bin'.format(_dir, _id), 'rb') as f:\n",
    "        ts = pickle.load(f)\n",
    "    return ts\n",
    "\n",
    "train_rest_ts = [loadTimeseries(int(subj['emoid']), '../../emoid_fmri_power264/timeseries') for subj in train_wrat]\n",
    "# train_nback_ts = [loadTimeseries(int(subj['nback']), '../../nback_fmri_power264/timeseries') for subj in train]\n",
    "# train_emoid_ts = [loadTimeseries(int(subj['emoid']), '../../emoid_fmri_power264/timeseries') for subj in train]\n",
    "\n",
    "test_rest_ts = [loadTimeseries(int(subj['emoid']), '../../emoid_fmri_power264/timeseries') for subj in test_wrat]\n",
    "# test_nback_ts = [loadTimeseries(int(subj['nback']), '../../nback_fmri_power264/timeseries') for subj in test]\n",
    "# test_emoid_ts = [loadTimeseries(int(subj['emoid']), '../../emoid_fmri_power264/timeseries') for subj in test]\n",
    "\n",
    "print('Complete')"
   ]
  },
  {
   "cell_type": "code",
   "execution_count": 5,
   "id": "77454336",
   "metadata": {},
   "outputs": [
    {
     "name": "stdout",
     "output_type": "stream",
     "text": [
      "Complete\n"
     ]
    }
   ],
   "source": [
    "import numpy as np\n",
    "\n",
    "def normalizeSubjects(subjects):\n",
    "    for i in range(len(subjects)):\n",
    "        subj = subjects[i]\n",
    "        subj -= np.mean(subj, axis=1, keepdims=True)@np.ones([1,subj.shape[1]])\n",
    "        subj /= np.std(subj, axis=1, keepdims=True)@np.ones([1,subj.shape[1]])\n",
    "        if np.sum(np.isnan(subj)) > 0:\n",
    "            print(i)\n",
    "        if np.sum(np.isinf(subj)) > 0:\n",
    "            print(i)\n",
    "\n",
    "normalizeSubjects(train_rest_ts)\n",
    "# normalizeSubjects(train_nback_ts)\n",
    "# normalizeSubjects(train_emoid_ts)\n",
    "\n",
    "normalizeSubjects(test_rest_ts)\n",
    "# normalizeSubjects(test_nback_ts)\n",
    "# normalizeSubjects(test_emoid_ts)\n",
    "\n",
    "print('Complete')"
   ]
  },
  {
   "cell_type": "code",
   "execution_count": 6,
   "id": "9f9e80fa",
   "metadata": {},
   "outputs": [
    {
     "name": "stdout",
     "output_type": "stream",
     "text": [
      "Complete\n"
     ]
    }
   ],
   "source": [
    "import torch\n",
    "import torch.nn as nn\n",
    "import torch.nn.functional as F\n",
    "\n",
    "train_rest_ts_torch = [torch.from_numpy(ts).float().cuda() for ts in train_rest_ts]\n",
    "test_rest_ts_torch = [torch.from_numpy(ts).float().cuda() for ts in test_rest_ts]\n",
    "\n",
    "print('Complete')"
   ]
  },
  {
   "cell_type": "code",
   "execution_count": 43,
   "id": "e1be6086",
   "metadata": {},
   "outputs": [
    {
     "name": "stdout",
     "output_type": "stream",
     "text": [
      "Complete\n"
     ]
    }
   ],
   "source": [
    "import math\n",
    "\n",
    "nroi = train_rest_ts_torch[0].shape[0]\n",
    "nt = train_rest_ts_torch[0].shape[1]\n",
    "nc = 10\n",
    "\n",
    "sz1 = math.floor((nt-8)/2+1)\n",
    "sz2 = math.floor((sz1-8)/2+1)\n",
    "sz3 = math.floor((sz2-8)/2+1)\n",
    "sz4 = math.floor((sz3-8)/2+1)\n",
    "\n",
    "class WratCNN(nn.Module):\n",
    "    def __init__(self):\n",
    "        super(WratCNN, self).__init__()\n",
    "        self.conv1 = nn.Conv2d(1,nc,(nroi,8),(1,2)).cuda()\n",
    "        self.mp1 = nn.MaxPool2d((1,8),(1,2))\n",
    "        self.conv2 = nn.Conv2d(nc,nc,(1,8),(1,2)).cuda()\n",
    "        self.mp2 = nn.MaxPool2d((1,8),(1,2))\n",
    "        self.fc1 = nn.Linear(nc*sz4,100).cuda()\n",
    "        self.fc2 = nn.Linear(100,1).cuda()\n",
    "        \n",
    "    def forward(self, x):\n",
    "        nb = x.shape[0]\n",
    "        noise = torch.randn(nb,nroi,nt).cuda()/5\n",
    "        x = x + noise\n",
    "        x = F.relu(self.conv1(x.unsqueeze(1)))\n",
    "        x = self.mp1(x)\n",
    "        x = F.relu(self.conv2(x))\n",
    "        x = self.mp2(x)\n",
    "        x = x.reshape([nb,-1])\n",
    "        x = F.relu(self.fc1(x))\n",
    "        x = self.fc2(x)\n",
    "        return x\n",
    "    \n",
    "wratcnn = WratCNN()\n",
    "optim = torch.optim.Adam(wratcnn.parameters(), lr=1e-3)\n",
    "\n",
    "print('Complete')"
   ]
  },
  {
   "cell_type": "code",
   "execution_count": 44,
   "id": "d1079039",
   "metadata": {},
   "outputs": [
    {
     "name": "stdout",
     "output_type": "stream",
     "text": [
      "epoch 0 loss=88336.296875\n",
      "epoch 100 loss=23593.248047\n",
      "epoch 200 loss=3426.968994\n",
      "epoch 300 loss=2066.741211\n",
      "epoch 400 loss=1530.081299\n",
      "epoch 500 loss=972.945862\n",
      "epoch 600 loss=661.983032\n",
      "epoch 700 loss=380.433990\n",
      "epoch 800 loss=245.676636\n",
      "epoch 900 loss=155.386871\n",
      "epoch 1000 loss=95.643822\n",
      "epoch 1100 loss=65.765007\n",
      "epoch 1200 loss=42.507320\n",
      "epoch 1300 loss=28.979073\n",
      "epoch 1400 loss=34.394436\n",
      "epoch 1500 loss=27.885841\n",
      "epoch 1600 loss=28.957851\n",
      "epoch 1700 loss=27.653772\n",
      "epoch 1800 loss=27.440842\n",
      "epoch 1900 loss=32.118813\n",
      "epoch 1999 loss=28.541082\n",
      "Finished training\n"
     ]
    }
   ],
   "source": [
    "# Train CNN\n",
    "\n",
    "import random\n",
    "\n",
    "N = len(train_rest_ts_torch)\n",
    "running = 0\n",
    "nEpoch = 2000\n",
    "pPeriod = 100\n",
    "nBatch = 10\n",
    "\n",
    "for epoch in range(nEpoch):\n",
    "    batch = []\n",
    "    truth = torch.zeros(nBatch).cuda()\n",
    "    for i in range(nBatch):\n",
    "        idx = random.randint(0,N-1)\n",
    "        subj = train_rest_ts_torch[idx]\n",
    "        batch.append(subj)\n",
    "        truth[i] = y_train[idx]\n",
    "    batch = torch.stack(batch,dim=0)\n",
    "    optim.zero_grad()\n",
    "    pred = wratcnn(batch).flatten()\n",
    "    loss = torch.sum((truth-pred)**2)\n",
    "    loss.backward()\n",
    "    running += loss.cpu()\n",
    "    optim.step()\n",
    "    if epoch % pPeriod == 0 or epoch == nEpoch-1:\n",
    "        if epoch != 0:\n",
    "            if epoch % pPeriod != 0:\n",
    "                running /= epoch % pPeriod\n",
    "            else:\n",
    "                running /= pPeriod\n",
    "        print('epoch {:d} loss={:f}'.format(epoch, running))\n",
    "        running = 0\n",
    "\n",
    "print('Finished training')"
   ]
  },
  {
   "cell_type": "code",
   "execution_count": 46,
   "id": "c5cda48e",
   "metadata": {},
   "outputs": [
    {
     "name": "stdout",
     "output_type": "stream",
     "text": [
      "[[1.         0.99435498]\n",
      " [0.99435498 1.        ]]\n",
      "1.9644743394046926\n",
      "1.5161171985848603\n"
     ]
    },
    {
     "data": {
      "image/png": "[encoded data removed]",
      "text/plain": [
       "<Figure size 432x288 with 1 Axes>"
      ]
     },
     "metadata": {
      "needs_background": "light"
     },
     "output_type": "display_data"
    },
    {
     "data": {
      "image/png": "[encoded data removed]",
      "text/plain": [
       "<Figure size 432x288 with 1 Axes>"
      ]
     },
     "metadata": {
      "needs_background": "light"
     },
     "output_type": "display_data"
    }
   ],
   "source": [
    "import matplotlib.pyplot as plt\n",
    "\n",
    "y = y_train\n",
    "X = []\n",
    "\n",
    "for subj in train_rest_ts_torch:\n",
    "    X.append(subj)\n",
    "    \n",
    "X = torch.stack(X, dim=0)\n",
    "yPred = wratcnn(X).flatten().cpu().detach().numpy()\n",
    "\n",
    "# yPred = Xtest@w\n",
    "\n",
    "idcs = np.argsort(y)\n",
    "yPred = yPred[idcs]\n",
    "y = y[idcs]\n",
    "\n",
    "corr = np.corrcoef(y, yPred)\n",
    "rmse = (np.sum((y-yPred)**2)/len(y))**0.5\n",
    "mae = np.sum(np.abs(y-yPred))/len(y)\n",
    "\n",
    "print(corr)\n",
    "print(rmse)\n",
    "print(mae)\n",
    "\n",
    "plt.plot(y, label='Truth')\n",
    "plt.plot(yPred, label='Prediction')\n",
    "plt.show()\n",
    "\n",
    "plt.scatter(y, yPred)\n",
    "plt.show()"
   ]
  },
  {
   "cell_type": "code",
   "execution_count": null,
   "id": "f5920ac3",
   "metadata": {},
   "outputs": [],
   "source": []
  }
 ],
 "metadata": {
  "kernelspec": {
   "display_name": "Python 3",
   "language": "python",
   "name": "python3"
  },
  "language_info": {
   "codemirror_mode": {
    "name": "ipython",
    "version": 3
   },
   "file_extension": ".py",
   "mimetype": "text/x-python",
   "name": "python",
   "nbconvert_exporter": "python",
   "pygments_lexer": "ipython3",
   "version": "3.9.5"
  }
 },
 "nbformat": 4,
 "nbformat_minor": 5
}
