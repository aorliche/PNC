{
 "cells": [
  {
   "cell_type": "code",
   "execution_count": 78,
   "id": "af9eb56b",
   "metadata": {},
   "outputs": [
    {
     "name": "stdout",
     "output_type": "stream",
     "text": [
      "466\n",
      "156\n"
     ]
    }
   ],
   "source": [
    "# Load split\n",
    "\n",
    "import pickle\n",
    "\n",
    "badIDs = [605515760919, 601983541597]\n",
    "\n",
    "with open('../../Splits/RegressionAllTasks/split1.bin', 'rb') as f:\n",
    "    d = pickle.load(f)\n",
    "    train = []\n",
    "    trainDirty = d['train']\n",
    "    test = []\n",
    "    testDirty = d['test']\n",
    "    \n",
    "    # Remove bad subjects\n",
    "    for subj in trainDirty:\n",
    "        if subj['ID'] not in badIDs:\n",
    "            train.append(subj)\n",
    "            \n",
    "    for subj in testDirty:\n",
    "        if subj['ID'] not in badIDs:\n",
    "            test.append(subj)\n",
    "    \n",
    "print(len(train))\n",
    "print(len(test))"
   ]
  },
  {
   "cell_type": "code",
   "execution_count": 79,
   "id": "cd891431",
   "metadata": {},
   "outputs": [
    {
     "name": "stdout",
     "output_type": "stream",
     "text": [
      "Complete\n"
     ]
    }
   ],
   "source": [
    "# Load data\n",
    "\n",
    "def loadTimeseries(_id, _dir):\n",
    "    ts = None\n",
    "    with open('{:s}/{:d}.bin'.format(_dir, _id), 'rb') as f:\n",
    "        ts = pickle.load(f)\n",
    "    return ts\n",
    "\n",
    "train_rest_ts = [loadTimeseries(int(subj['rest']), '../../rest_fmri_power264/timeseries') for subj in train]\n",
    "train_nback_ts = [loadTimeseries(int(subj['nback']), '../../nback_fmri_power264/timeseries') for subj in train]\n",
    "# train_emoid_ts = [loadTimeseries(int(subj['emoid']), '../../emoid_fmri_power264/timeseries') for subj in train]\n",
    "\n",
    "test_rest_ts = [loadTimeseries(int(subj['rest']), '../../rest_fmri_power264/timeseries') for subj in test]\n",
    "test_nback_ts = [loadTimeseries(int(subj['nback']), '../../nback_fmri_power264/timeseries') for subj in test]\n",
    "# test_emoid_ts = [loadTimeseries(int(subj['emoid']), '../../emoid_fmri_power264/timeseries') for subj in test]\n",
    "\n",
    "print('Complete')"
   ]
  },
  {
   "cell_type": "code",
   "execution_count": 80,
   "id": "9870317d",
   "metadata": {},
   "outputs": [
    {
     "name": "stdout",
     "output_type": "stream",
     "text": [
      "Complete\n"
     ]
    }
   ],
   "source": [
    "import numpy as np\n",
    "\n",
    "def normalizeSubjects(subjects):\n",
    "    for i in range(len(subjects)):\n",
    "        subj = subjects[i]\n",
    "        subj -= np.mean(subj, axis=1, keepdims=True)@np.ones([1,subj.shape[1]])\n",
    "        subj /= np.std(subj, axis=1, keepdims=True)@np.ones([1,subj.shape[1]])\n",
    "        if np.sum(np.isnan(subj)) > 0:\n",
    "            print(i)\n",
    "        if np.sum(np.isinf(subj)) > 0:\n",
    "            print(i)\n",
    "\n",
    "normalizeSubjects(train_rest_ts)\n",
    "normalizeSubjects(train_nback_ts)\n",
    "# normalizeSubjects(train_emoid_ts)\n",
    "\n",
    "normalizeSubjects(test_rest_ts)\n",
    "normalizeSubjects(test_nback_ts)\n",
    "# normalizeSubjects(test_emoid_ts)\n",
    "\n",
    "print('Complete')"
   ]
  },
  {
   "cell_type": "code",
   "execution_count": 81,
   "id": "32419848",
   "metadata": {},
   "outputs": [
    {
     "name": "stdout",
     "output_type": "stream",
     "text": [
      "[0, 31, 36, 50, 63, 121, 126, 157, 182, 200, 213, 222, 233, 237, 264]\n",
      "[13, 42, 47, 61, 74, 84, 86, 132, 133, 137, 138, 139, 140, 143, 174, 182, 186, 203, 221, 222, 235, 243, 247, 251, 253, 255, 256]\n"
     ]
    }
   ],
   "source": [
    "roiMap1 = np.zeros(265,dtype='int')\n",
    "roiMap2 = np.zeros(265,dtype='int')\n",
    "revMap2 = np.zeros(264,dtype='int')\n",
    "roiNames = {}\n",
    "borders1 = []\n",
    "borders2 = []\n",
    "\n",
    "with open('../../PP264_template.csv', 'r') as f:\n",
    "    lines = f.readlines()\n",
    "    for i in range(2,len(lines)):\n",
    "        line = lines[i].split(',')\n",
    "        area = int(line[11])\n",
    "        r1 = int(line[0])\n",
    "        r2 = int(line[1])\n",
    "        name = line[14].strip()\n",
    "        roiMap1[r1] = area\n",
    "        roiMap2[r2] = area\n",
    "        roiNames[area] = name\n",
    "        revMap2[r1-1] = r2-1\n",
    "#         print([area, r1, r2, name])\n",
    "\n",
    "last1 = roiMap1[1]\n",
    "last2 = roiMap2[1]\n",
    "for i in range(2,265):\n",
    "    if roiMap1[i] != last1:\n",
    "        borders1.append(i)\n",
    "        last1 = roiMap1[i]\n",
    "    if roiMap2[i] != last2:\n",
    "        borders2.append(i)\n",
    "        last2 = roiMap2[i]\n",
    "        \n",
    "def rearrange(p, idcs):\n",
    "    return p[:,idcs][idcs]\n",
    "    \n",
    "borders1 = [0] + borders1 + [264]\n",
    "print(borders1)\n",
    "print(borders2)"
   ]
  },
  {
   "cell_type": "code",
   "execution_count": 82,
   "id": "6a1be0ef",
   "metadata": {},
   "outputs": [
    {
     "name": "stdout",
     "output_type": "stream",
     "text": [
      "(264, 264)\n",
      "Complete\n"
     ]
    }
   ],
   "source": [
    "# Calculate pearson matrices\n",
    "\n",
    "train_rest_p = np.stack([rearrange(np.corrcoef(sub), revMap2) for sub in train_rest_ts])\n",
    "test_rest_p = np.stack([rearrange(np.corrcoef(sub), revMap2) for sub in test_rest_ts])\n",
    "\n",
    "train_nback_p = np.stack([rearrange(np.corrcoef(sub), revMap2) for sub in train_nback_ts])\n",
    "test_nback_p = np.stack([rearrange(np.corrcoef(sub), revMap2) for sub in test_nback_ts])\n",
    "\n",
    "print(train_rest_p[0].shape)\n",
    "print('Complete')"
   ]
  },
  {
   "cell_type": "code",
   "execution_count": 83,
   "id": "8e744df3",
   "metadata": {},
   "outputs": [
    {
     "name": "stdout",
     "output_type": "stream",
     "text": [
      "[[193   1   0]\n",
      " [217   1   0]\n",
      " [233   1   0]\n",
      " [176   1   0]\n",
      " [116   0   1]\n",
      " [246   0   1]\n",
      " [164   1   0]\n",
      " [167   0   1]\n",
      " [202   0   1]\n",
      " [108   0   1]]\n",
      "Complete\n"
     ]
    }
   ],
   "source": [
    "# Create feature vectors (right now just ages, maleness, and femaless)\n",
    "\n",
    "X_train = []\n",
    "for subj in train:\n",
    "    maleness = 1 if subj['meta']['Gender'] == 'M' else 0\n",
    "    femaleness = 1 if maleness == 0 else 0\n",
    "    feat = np.array([subj['meta']['AgeInMonths'], maleness, femaleness])\n",
    "    X_train.append(feat)\n",
    "    \n",
    "X_test = []\n",
    "for subj in test:\n",
    "    maleness = 1 if subj['meta']['Gender'] == 'M' else 0\n",
    "    femaleness = 1 if maleness == 0 else 0\n",
    "    feat = np.array([subj['meta']['AgeInMonths'], maleness, femaleness])\n",
    "    X_test.append(feat)\n",
    "    \n",
    "X_train = np.vstack(X_train)\n",
    "X_test = np.vstack(X_test)\n",
    "\n",
    "print(X_train[10:20])\n",
    "print('Complete')"
   ]
  },
  {
   "cell_type": "code",
   "execution_count": 84,
   "id": "ec411d5d",
   "metadata": {},
   "outputs": [
    {
     "name": "stdout",
     "output_type": "stream",
     "text": [
      "torch.Size([156, 264, 264])\n",
      "Complete\n"
     ]
    }
   ],
   "source": [
    "# Convert to torch\n",
    "\n",
    "import torch\n",
    "\n",
    "train_rest_p_torch = torch.from_numpy(train_rest_p).float()\n",
    "train_nback_p_torch = torch.from_numpy(train_nback_p).float()\n",
    "\n",
    "test_rest_p_torch = torch.from_numpy(test_rest_p).float()\n",
    "test_nback_p_torch = torch.from_numpy(test_nback_p).float()\n",
    "\n",
    "X_train_torch = torch.from_numpy(X_train).float()\n",
    "X_test_torch = torch.from_numpy(X_test).float()\n",
    "\n",
    "print(test_rest_p_torch.shape)\n",
    "print('Complete')"
   ]
  },
  {
   "cell_type": "code",
   "execution_count": 85,
   "id": "34501a5d",
   "metadata": {},
   "outputs": [
    {
     "name": "stdout",
     "output_type": "stream",
     "text": [
      "Complete\n"
     ]
    }
   ],
   "source": [
    "import torch\n",
    "\n",
    "def normalize(A):\n",
    "    if A.shape[0] != A.shape[1]:\n",
    "        raise Exception(\"Bad A shape\")\n",
    "    d = torch.abs(torch.sum(A,dim=1))**0.5\n",
    "    return ((A/d).T/d).T\n",
    "\n",
    "# Cosine similarity\n",
    "def calcEdgesCosine(ps1, ps2, regions):\n",
    "    stk = []\n",
    "    for i in range(len(regions)-1):\n",
    "        r1s = regions[i]\n",
    "        r1e = regions[i+1]\n",
    "        for j in range(i,len(regions)-1):\n",
    "            r2s = regions[j]\n",
    "            r2e = regions[j+1]\n",
    "            ps1r = ps1[:,r1s:r1e,r2s:r2e]\n",
    "            ps2r = ps2[:,r1s:r1e,r2s:r2e]\n",
    "            e = torch.einsum('aij,bij->ab',ps1r,ps2r)\n",
    "            ps1rn = torch.einsum('aij,aij->a',ps1r,ps1r)\n",
    "            ps2rn = torch.einsum('aij,aij->a',ps2r,ps2r)\n",
    "            e /= ps1rn.unsqueeze(1)\n",
    "            e /= ps2rn.unsqueeze(1).T\n",
    "            stk.append(e)\n",
    "#             stk.append(normalize(e))\n",
    "    e = torch.stack(stk, dim=2)\n",
    "    return e\n",
    "\n",
    "# Euclidean distance\n",
    "def calcEdgesEuclidean(ps1, ps2, regions):\n",
    "    N1 = ps1.shape[0]\n",
    "    N2 = ps2.shape[0]\n",
    "    stk = []\n",
    "    for i in range(len(regions)-1):\n",
    "        r1s = regions[i]\n",
    "        r1e = regions[i+1]\n",
    "        for j in range(i,len(regions)-1):\n",
    "            r2s = regions[j]\n",
    "            r2e = regions[j+1]\n",
    "            ps1r = ps1[:,r1s:r1e,r2s:r2e]\n",
    "            ps2r = ps2[:,r1s:r1e,r2s:r2e]\n",
    "            ps1rv = ps1r.reshape(N1,-1)\n",
    "            ps2rv = ps2r.reshape(N2,-1)\n",
    "            e = torch.cdist(ps1rv, ps2rv)\n",
    "#             m = torch.max(e)\n",
    "            stk.append(e)\n",
    "#             stk.append(normalize(m-e))\n",
    "    e = torch.stack(stk, dim=2)\n",
    "    return e\n",
    "    \n",
    "def setTestEdgesOnTrain(e, eTest, eTestTest):\n",
    "    et = torch.zeros(e.shape[0]+1, e.shape[1]+1, e.shape[2])\n",
    "    et[:-1,:-1,:] = e\n",
    "    et[:-1,-1,:] = eTest.squeeze()\n",
    "    et[-1,:-1,:] = eTest.squeeze()\n",
    "    et[-1,-1,:] = eTestTest.squeeze()\n",
    "    return et\n",
    "\n",
    "def setTestEdgesOnTest(e, eTest, eTestTest):\n",
    "    e[:-1,-1,:] = eTest.squeeze()\n",
    "    e[-1,:-1,:] = eTest.squeeze()\n",
    "    e[-1,-1,:] = eTestTest.squeeze()\n",
    "    return et\n",
    "    \n",
    "print('Complete')"
   ]
  },
  {
   "cell_type": "code",
   "execution_count": 62,
   "id": "70035ca0",
   "metadata": {},
   "outputs": [
    {
     "name": "stdout",
     "output_type": "stream",
     "text": [
      "torch.Size([466, 466, 105])\n",
      "torch.Size([466, 1, 105])\n",
      "Complete\n"
     ]
    }
   ],
   "source": [
    "e = calcEdgesEuclidean(train_rest_p_torch, train_rest_p_torch, borders1)\n",
    "et1 = calcEdgesEuclidean(train_rest_p_torch, test_rest_p_torch[0:1], borders1)\n",
    "# et2 = calcEdgesCosine(test_rest_p_torch[0:1], test_rest_p_torch[0:1], borders1)\n",
    "# et = setTestEdgesOnTrain(e, et1, et2)\n",
    "\n",
    "print(e.shape)\n",
    "print(et1.shape)\n",
    "print('Complete')"
   ]
  },
  {
   "cell_type": "code",
   "execution_count": 70,
   "id": "8304eb9a",
   "metadata": {
    "scrolled": true
   },
   "outputs": [
    {
     "name": "stdout",
     "output_type": "stream",
     "text": [
      "torch.Size([466, 48930])\n",
      "torch.Size([466])\n",
      "torch.Size([48930, 1])\n",
      "tensor(0.0321)\n",
      "tensor(2.0222e-08)\n",
      "tensor(0.0003)\n"
     ]
    }
   ],
   "source": [
    "# Least squares on 105 edges\n",
    "\n",
    "# lam = 1\n",
    "# A = torch.cat([e.reshape(e.shape[0],-1), torch.ones(e.shape[0],1)], dim=1)\n",
    "A = e.reshape(e.shape[0],-1)\n",
    "B = X_train_torch[:,0]\n",
    "\n",
    "print(A.shape)\n",
    "print(B.shape)\n",
    "\n",
    "w, _ = torch.lstsq(B,A)\n",
    "\n",
    "print(w.shape)\n",
    "print(torch.mean(torch.abs(w)))\n",
    "\n",
    "res = (A@w).flatten() - B\n",
    "\n",
    "print(torch.sum((res/12)**2)/e.shape[0]**0.5)\n",
    "print(torch.mean(torch.abs(res)))"
   ]
  },
  {
   "cell_type": "code",
   "execution_count": 41,
   "id": "ee3a0c67",
   "metadata": {},
   "outputs": [
    {
     "name": "stdout",
     "output_type": "stream",
     "text": [
      "torch.Size([466, 466, 105])\n"
     ]
    }
   ],
   "source": [
    "print(e.shape)"
   ]
  },
  {
   "cell_type": "code",
   "execution_count": 71,
   "id": "7007f6c7",
   "metadata": {},
   "outputs": [
    {
     "name": "stdout",
     "output_type": "stream",
     "text": [
      "torch.Size([156, 466, 105])\n",
      "Finished edges\n",
      "Finished\n",
      "tensor(2.8516)\n",
      "tensor(2.2791)\n"
     ]
    }
   ],
   "source": [
    "# Find accuracy on test set\n",
    "\n",
    "et = calcEdgesEuclidean(test_rest_p_torch, train_rest_p_torch, borders1)\n",
    "print(et.shape)\n",
    "\n",
    "etr = et.reshape(et.shape[0], -1)\n",
    "print('Finished edges')\n",
    "\n",
    "pred = (etr@w).flatten()\n",
    "    \n",
    "print('Finished')\n",
    "\n",
    "res = pred - X_test_torch[:,0]\n",
    "print((torch.sum(res**2)/etr.shape[0])**0.5/12)\n",
    "print(torch.mean(torch.abs(res/12)))"
   ]
  },
  {
   "cell_type": "code",
   "execution_count": 72,
   "id": "edaf3c87",
   "metadata": {},
   "outputs": [
    {
     "name": "stdout",
     "output_type": "stream",
     "text": [
      "[[1.         0.47235185]\n",
      " [0.47235185 1.        ]]\n",
      "2.8515604571569\n",
      "2.279117942875267\n"
     ]
    },
    {
     "data": {
      "image/png": "[encoded data removed]",
      "text/plain": [
       "<Figure size 432x288 with 1 Axes>"
      ]
     },
     "metadata": {
      "needs_background": "light"
     },
     "output_type": "display_data"
    },
    {
     "data": {
      "image/png": "[encoded data removed]",
      "text/plain": [
       "<Figure size 432x288 with 1 Axes>"
      ]
     },
     "metadata": {
      "needs_background": "light"
     },
     "output_type": "display_data"
    }
   ],
   "source": [
    "import matplotlib.pyplot as plt\n",
    "\n",
    "idcs = np.argsort(X_test_torch[:,0]).numpy()\n",
    "yPred = pred[idcs].numpy()\n",
    "y = X_test_torch[:,0][idcs].numpy()\n",
    "\n",
    "corr = np.corrcoef(y, yPred)\n",
    "rmse = (np.sum((y-yPred)**2)/len(y))**0.5/12\n",
    "mae = np.sum(np.abs(y-yPred))/12/len(y)\n",
    "\n",
    "print(corr)\n",
    "print(rmse)\n",
    "print(mae)\n",
    "\n",
    "plt.plot(y, label='Truth')\n",
    "plt.plot(yPred, label='Prediction')\n",
    "plt.show()\n",
    "\n",
    "plt.scatter(y, yPred)\n",
    "plt.show()"
   ]
  },
  {
   "cell_type": "code",
   "execution_count": 66,
   "id": "a894217a",
   "metadata": {},
   "outputs": [
    {
     "name": "stdout",
     "output_type": "stream",
     "text": [
      "torch.Size([69696, 1])\n",
      "tensor(0.0558)\n",
      "tensor(3.6519e-07)\n",
      "tensor(0.0014)\n"
     ]
    }
   ],
   "source": [
    "A = train_rest_p_torch.reshape(train_rest_p_torch.shape[0], -1)\n",
    "B = X_train_torch[:,0]\n",
    "\n",
    "w, _ = torch.lstsq(B,A)\n",
    "\n",
    "print(w.shape)\n",
    "print(torch.mean(torch.abs(w)))\n",
    "\n",
    "res = (A@w).flatten() - B\n",
    "\n",
    "print(torch.sum((res/12)**2)/e.shape[0]**0.5)\n",
    "print(torch.mean(torch.abs(res)))"
   ]
  },
  {
   "cell_type": "code",
   "execution_count": 67,
   "id": "2c5f9aa7",
   "metadata": {},
   "outputs": [
    {
     "name": "stdout",
     "output_type": "stream",
     "text": [
      "Finished\n",
      "tensor(2.7601)\n",
      "tensor(2.1854)\n"
     ]
    }
   ],
   "source": [
    "# Find accuracy on test set\n",
    "\n",
    "test = test_rest_p_torch.reshape(test_rest_p_torch.shape[0], -1)\n",
    "pred = (test@w).flatten()\n",
    "    \n",
    "print('Finished')\n",
    "\n",
    "res = pred - X_test_torch[:,0]\n",
    "print((torch.sum(res**2)/test.shape[0])**0.5/12)\n",
    "print(torch.mean(torch.abs(res/12)))"
   ]
  },
  {
   "cell_type": "code",
   "execution_count": 68,
   "id": "d49aa61a",
   "metadata": {},
   "outputs": [
    {
     "name": "stdout",
     "output_type": "stream",
     "text": [
      "[[1.        0.5025795]\n",
      " [0.5025795 1.       ]]\n",
      "2.7600701786252846\n",
      "2.1853882879273505\n"
     ]
    },
    {
     "data": {
      "image/png": "[encoded data removed]",
      "text/plain": [
       "<Figure size 432x288 with 1 Axes>"
      ]
     },
     "metadata": {
      "needs_background": "light"
     },
     "output_type": "display_data"
    },
    {
     "data": {
      "image/png": "[encoded data removed]",
      "text/plain": [
       "<Figure size 432x288 with 1 Axes>"
      ]
     },
     "metadata": {
      "needs_background": "light"
     },
     "output_type": "display_data"
    }
   ],
   "source": [
    "import matplotlib.pyplot as plt\n",
    "\n",
    "idcs = np.argsort(X_test_torch[:,0]).numpy()\n",
    "yPred = pred[idcs].numpy()\n",
    "y = X_test_torch[:,0][idcs].numpy()\n",
    "\n",
    "corr = np.corrcoef(y, yPred)\n",
    "rmse = (np.sum((y-yPred)**2)/len(y))**0.5/12\n",
    "mae = np.sum(np.abs(y-yPred))/12/len(y)\n",
    "\n",
    "print(corr)\n",
    "print(rmse)\n",
    "print(mae)\n",
    "\n",
    "plt.plot(y, label='Truth')\n",
    "plt.plot(yPred, label='Prediction')\n",
    "plt.show()\n",
    "\n",
    "plt.scatter(y, yPred)\n",
    "plt.show()"
   ]
  },
  {
   "cell_type": "code",
   "execution_count": 74,
   "id": "3a0ffd83",
   "metadata": {},
   "outputs": [
    {
     "name": "stdout",
     "output_type": "stream",
     "text": [
      "torch.Size([118626, 1])\n",
      "tensor(0.0172)\n",
      "tensor(8.8519e-07)\n",
      "tensor(0.0023)\n"
     ]
    }
   ],
   "source": [
    "A1 = e.reshape(e.shape[0],-1)\n",
    "A2 = train_rest_p_torch.reshape(train_rest_p_torch.shape[0], -1)\n",
    "A = torch.cat([A1, A2], dim=1)\n",
    "B = X_train_torch[:,0]\n",
    "\n",
    "w, _ = torch.lstsq(B,A)\n",
    "\n",
    "print(w.shape)\n",
    "print(torch.mean(torch.abs(w)))\n",
    "\n",
    "res = (A@w).flatten() - B\n",
    "\n",
    "print(torch.sum((res/12)**2)/e.shape[0]**0.5)\n",
    "print(torch.mean(torch.abs(res)))"
   ]
  },
  {
   "cell_type": "code",
   "execution_count": 75,
   "id": "0f4d1fb1",
   "metadata": {},
   "outputs": [
    {
     "name": "stdout",
     "output_type": "stream",
     "text": [
      "Finished\n",
      "tensor(2.7909)\n",
      "tensor(2.2292)\n"
     ]
    }
   ],
   "source": [
    "# Find accuracy on test set\n",
    "\n",
    "test1 = etr\n",
    "test2 = test_rest_p_torch.reshape(test_rest_p_torch.shape[0], -1)\n",
    "test = torch.cat([test1, test2], dim=1)\n",
    "pred = (test@w).flatten()\n",
    "    \n",
    "print('Finished')\n",
    "\n",
    "res = pred - X_test_torch[:,0]\n",
    "print((torch.sum(res**2)/test.shape[0])**0.5/12)\n",
    "print(torch.mean(torch.abs(res/12)))"
   ]
  },
  {
   "cell_type": "code",
   "execution_count": 76,
   "id": "3adee20b",
   "metadata": {},
   "outputs": [
    {
     "name": "stdout",
     "output_type": "stream",
     "text": [
      "[[1.         0.48850514]\n",
      " [0.48850514 1.        ]]\n",
      "2.7908754878519786\n",
      "2.2291624933226495\n"
     ]
    },
    {
     "data": {
      "image/png": "[encoded data removed]",
      "text/plain": [
       "<Figure size 432x288 with 1 Axes>"
      ]
     },
     "metadata": {
      "needs_background": "light"
     },
     "output_type": "display_data"
    },
    {
     "data": {
      "image/png": "[encoded data removed]",
      "text/plain": [
       "<Figure size 432x288 with 1 Axes>"
      ]
     },
     "metadata": {
      "needs_background": "light"
     },
     "output_type": "display_data"
    }
   ],
   "source": [
    "import matplotlib.pyplot as plt\n",
    "\n",
    "idcs = np.argsort(X_test_torch[:,0]).numpy()\n",
    "yPred = pred[idcs].numpy()\n",
    "y = X_test_torch[:,0][idcs].numpy()\n",
    "\n",
    "corr = np.corrcoef(y, yPred)\n",
    "rmse = (np.sum((y-yPred)**2)/len(y))**0.5/12\n",
    "mae = np.sum(np.abs(y-yPred))/12/len(y)\n",
    "\n",
    "print(corr)\n",
    "print(rmse)\n",
    "print(mae)\n",
    "\n",
    "plt.plot(y, label='Truth')\n",
    "plt.plot(yPred, label='Prediction')\n",
    "plt.show()\n",
    "\n",
    "plt.scatter(y, yPred)\n",
    "plt.show()"
   ]
  },
  {
   "cell_type": "code",
   "execution_count": 86,
   "id": "610b6aca",
   "metadata": {},
   "outputs": [
    {
     "name": "stdout",
     "output_type": "stream",
     "text": [
      "torch.Size([466, 466, 105])\n",
      "torch.Size([466, 466, 105])\n",
      "torch.Size([466, 466, 105])\n"
     ]
    }
   ],
   "source": [
    "err = calcEdgesEuclidean(train_rest_p_torch, train_rest_p_torch, borders1)\n",
    "ern = calcEdgesEuclidean(train_rest_p_torch, train_nback_p_torch, borders1)\n",
    "enn = calcEdgesEuclidean(train_nback_p_torch, train_nback_p_torch, borders1)\n",
    "\n",
    "print(err.shape)\n",
    "print(ern.shape)\n",
    "print(enn.shape)"
   ]
  },
  {
   "cell_type": "code",
   "execution_count": 88,
   "id": "aefa2171",
   "metadata": {},
   "outputs": [
    {
     "name": "stdout",
     "output_type": "stream",
     "text": [
      "torch.Size([146790, 1])\n",
      "tensor(0.0106)\n",
      "tensor(1.1573e-07)\n",
      "tensor(0.0007)\n"
     ]
    }
   ],
   "source": [
    "e = torch.cat([err, ern, enn], dim=1)\n",
    "A = e.reshape(e.shape[0], -1)\n",
    "B = X_train_torch[:,0]\n",
    "\n",
    "w, _ = torch.lstsq(B,A)\n",
    "\n",
    "print(w.shape)\n",
    "print(torch.mean(torch.abs(w)))\n",
    "\n",
    "res = (A@w).flatten() - B\n",
    "\n",
    "print(torch.sum((res/12)**2)/e.shape[0]**0.5)\n",
    "print(torch.mean(torch.abs(res)))"
   ]
  },
  {
   "cell_type": "code",
   "execution_count": 89,
   "id": "398216fc",
   "metadata": {},
   "outputs": [
    {
     "name": "stdout",
     "output_type": "stream",
     "text": [
      "Finished edges\n",
      "Finished\n",
      "tensor(2.6444)\n",
      "tensor(2.1130)\n"
     ]
    }
   ],
   "source": [
    "# Find accuracy on test set\n",
    "\n",
    "# et = calcEdgesEuclidean(test_rest_p_torch, train_rest_p_torch, borders1)\n",
    "etrr = calcEdgesEuclidean(test_rest_p_torch, train_rest_p_torch, borders1)\n",
    "etrn = calcEdgesEuclidean(test_rest_p_torch, train_nback_p_torch, borders1)\n",
    "etnn = calcEdgesEuclidean(test_nback_p_torch, train_nback_p_torch, borders1)\n",
    "et = torch.cat([etrr, etrn, etnn], dim=1)\n",
    "\n",
    "At = et.reshape(et.shape[0], -1)\n",
    "print('Finished edges')\n",
    "\n",
    "pred = (At@w).flatten()\n",
    "    \n",
    "print('Finished')\n",
    "\n",
    "res = pred - X_test_torch[:,0]\n",
    "print((torch.sum(res**2)/At.shape[0])**0.5/12)\n",
    "print(torch.mean(torch.abs(res/12)))"
   ]
  },
  {
   "cell_type": "code",
   "execution_count": 90,
   "id": "f9ae4dd4",
   "metadata": {},
   "outputs": [
    {
     "name": "stdout",
     "output_type": "stream",
     "text": [
      "[[1.         0.56139854]\n",
      " [0.56139854 1.        ]]\n",
      "2.6443578584131044\n",
      "2.1130444127270303\n"
     ]
    },
    {
     "data": {
      "image/png": "[encoded data removed]",
      "text/plain": [
       "<Figure size 432x288 with 1 Axes>"
      ]
     },
     "metadata": {
      "needs_background": "light"
     },
     "output_type": "display_data"
    },
    {
     "data": {
      "image/png": "[encoded data removed]",
      "text/plain": [
       "<Figure size 432x288 with 1 Axes>"
      ]
     },
     "metadata": {
      "needs_background": "light"
     },
     "output_type": "display_data"
    }
   ],
   "source": [
    "import matplotlib.pyplot as plt\n",
    "\n",
    "idcs = np.argsort(X_test_torch[:,0]).numpy()\n",
    "yPred = pred[idcs].numpy()\n",
    "y = X_test_torch[:,0][idcs].numpy()\n",
    "\n",
    "corr = np.corrcoef(y, yPred)\n",
    "rmse = (np.sum((y-yPred)**2)/len(y))**0.5/12\n",
    "mae = np.sum(np.abs(y-yPred))/12/len(y)\n",
    "\n",
    "print(corr)\n",
    "print(rmse)\n",
    "print(mae)\n",
    "\n",
    "plt.plot(y, label='Truth')\n",
    "plt.plot(yPred, label='Prediction')\n",
    "plt.show()\n",
    "\n",
    "plt.scatter(y, yPred)\n",
    "plt.show()"
   ]
  },
  {
   "cell_type": "code",
   "execution_count": 91,
   "id": "b4dc48b4",
   "metadata": {},
   "outputs": [
    {
     "name": "stdout",
     "output_type": "stream",
     "text": [
      "torch.Size([69696, 1])\n",
      "tensor(0.0670)\n",
      "tensor(9.1547e-08)\n",
      "tensor(0.0006)\n"
     ]
    }
   ],
   "source": [
    "A = train_nback_p_torch.reshape(train_nback_p_torch.shape[0], -1)\n",
    "B = X_train_torch[:,0]\n",
    "\n",
    "w, _ = torch.lstsq(B,A)\n",
    "\n",
    "print(w.shape)\n",
    "print(torch.mean(torch.abs(w)))\n",
    "\n",
    "res = (A@w).flatten() - B\n",
    "\n",
    "print(torch.sum((res/12)**2)/e.shape[0]**0.5)\n",
    "print(torch.mean(torch.abs(res)))"
   ]
  },
  {
   "cell_type": "code",
   "execution_count": 92,
   "id": "34c579d6",
   "metadata": {
    "scrolled": true
   },
   "outputs": [
    {
     "name": "stdout",
     "output_type": "stream",
     "text": [
      "Finished\n",
      "tensor(2.3878)\n",
      "tensor(1.9002)\n"
     ]
    }
   ],
   "source": [
    "# Find accuracy on test set\n",
    "\n",
    "test = test_nback_p_torch.reshape(test_nback_p_torch.shape[0], -1)\n",
    "pred = (test@w).flatten()\n",
    "    \n",
    "print('Finished')\n",
    "\n",
    "res = pred - X_test_torch[:,0]\n",
    "print((torch.sum(res**2)/test.shape[0])**0.5/12)\n",
    "print(torch.mean(torch.abs(res/12)))"
   ]
  },
  {
   "cell_type": "code",
   "execution_count": 95,
   "id": "a379bf5d",
   "metadata": {},
   "outputs": [
    {
     "name": "stdout",
     "output_type": "stream",
     "text": [
      "torch.Size([48930, 1])\n",
      "tensor(0.0392)\n",
      "tensor(1.8205e-07)\n",
      "tensor(0.0010)\n"
     ]
    }
   ],
   "source": [
    "A = enn.reshape(enn.shape[0], -1)\n",
    "B = X_train_torch[:,0]\n",
    "\n",
    "w, _ = torch.lstsq(B,A)\n",
    "\n",
    "print(w.shape)\n",
    "print(torch.mean(torch.abs(w)))\n",
    "\n",
    "res = (A@w).flatten() - B\n",
    "\n",
    "print(torch.sum((res/12)**2)/e.shape[0]**0.5)\n",
    "print(torch.mean(torch.abs(res)))"
   ]
  },
  {
   "cell_type": "code",
   "execution_count": 96,
   "id": "026dd384",
   "metadata": {},
   "outputs": [
    {
     "name": "stdout",
     "output_type": "stream",
     "text": [
      "Finished edges\n",
      "Finished\n",
      "tensor(2.4650)\n",
      "tensor(2.0087)\n"
     ]
    }
   ],
   "source": [
    "At = etnn.reshape(etnn.shape[0], -1)\n",
    "print('Finished edges')\n",
    "\n",
    "pred = (At@w).flatten()\n",
    "    \n",
    "print('Finished')\n",
    "\n",
    "res = pred - X_test_torch[:,0]\n",
    "print((torch.sum(res**2)/At.shape[0])**0.5/12)\n",
    "print(torch.mean(torch.abs(res/12)))"
   ]
  },
  {
   "cell_type": "code",
   "execution_count": 100,
   "id": "b30fba96",
   "metadata": {},
   "outputs": [
    {
     "name": "stdout",
     "output_type": "stream",
     "text": [
      "18399744\n",
      "8206285824\n"
     ]
    }
   ],
   "source": [
    "a = 264*264*264\n",
    "b = a*446\n",
    "print(a)\n",
    "print(b)"
   ]
  },
  {
   "cell_type": "code",
   "execution_count": 102,
   "id": "f989dfd6",
   "metadata": {},
   "outputs": [
    {
     "name": "stdout",
     "output_type": "stream",
     "text": [
      "(264, 124)\n",
      "torch.Size([466, 264, 124])\n"
     ]
    }
   ],
   "source": [
    "print(train_rest_ts[0].shape)\n",
    "train_rest_ts_all = torch.from_numpy(np.stack([sub for sub in train_rest_ts]))\n",
    "test_rest_ts_all = torch.from_numpy(np.stack([sub for sub in test_rest_ts]))\n",
    "print(train_rest_ts_all.shape)"
   ]
  },
  {
   "cell_type": "code",
   "execution_count": 104,
   "id": "7e24bd3d",
   "metadata": {},
   "outputs": [
    {
     "ename": "RuntimeError",
     "evalue": "[enforce fail at ..\\c10\\core\\CPUAllocator.cpp:73] data. DefaultCPUAllocator: not enough memory: you tried to allocate 68594245632 bytes. Buy new RAM!",
     "output_type": "error",
     "traceback": [
      "\u001b[1;31m---------------------------------------------------------------------------\u001b[0m",
      "\u001b[1;31mRuntimeError\u001b[0m                              Traceback (most recent call last)",
      "\u001b[1;32m<ipython-input-104-c3823c7e5460>\u001b[0m in \u001b[0;36m<module>\u001b[1;34m\u001b[0m\n\u001b[1;32m----> 1\u001b[1;33m \u001b[0mxyz\u001b[0m \u001b[1;33m=\u001b[0m \u001b[0mtorch\u001b[0m\u001b[1;33m.\u001b[0m\u001b[0meinsum\u001b[0m\u001b[1;33m(\u001b[0m\u001b[1;34m'nat,nbt,nct->nabc'\u001b[0m\u001b[1;33m,\u001b[0m \u001b[0mtrain_rest_ts_all\u001b[0m\u001b[1;33m,\u001b[0m \u001b[0mtrain_rest_ts_all\u001b[0m\u001b[1;33m,\u001b[0m \u001b[0mtrain_rest_ts_all\u001b[0m\u001b[1;33m)\u001b[0m\u001b[1;33m\u001b[0m\u001b[1;33m\u001b[0m\u001b[0m\n\u001b[0m\u001b[0;32m      2\u001b[0m \u001b[0mprint\u001b[0m\u001b[1;33m(\u001b[0m\u001b[1;34m'Complete'\u001b[0m\u001b[1;33m)\u001b[0m\u001b[1;33m\u001b[0m\u001b[1;33m\u001b[0m\u001b[0m\n",
      "\u001b[1;32mc:\\users\\aorlichenko\\appdata\\local\\programs\\python\\python39\\lib\\site-packages\\torch\\functional.py\u001b[0m in \u001b[0;36meinsum\u001b[1;34m(equation, *operands)\u001b[0m\n\u001b[0;32m    342\u001b[0m         \u001b[1;32mreturn\u001b[0m \u001b[0meinsum\u001b[0m\u001b[1;33m(\u001b[0m\u001b[0mequation\u001b[0m\u001b[1;33m,\u001b[0m \u001b[1;33m*\u001b[0m\u001b[0m_operands\u001b[0m\u001b[1;33m)\u001b[0m\u001b[1;33m\u001b[0m\u001b[1;33m\u001b[0m\u001b[0m\n\u001b[0;32m    343\u001b[0m \u001b[1;33m\u001b[0m\u001b[0m\n\u001b[1;32m--> 344\u001b[1;33m     \u001b[1;32mreturn\u001b[0m \u001b[0m_VF\u001b[0m\u001b[1;33m.\u001b[0m\u001b[0meinsum\u001b[0m\u001b[1;33m(\u001b[0m\u001b[0mequation\u001b[0m\u001b[1;33m,\u001b[0m \u001b[0moperands\u001b[0m\u001b[1;33m)\u001b[0m  \u001b[1;31m# type: ignore\u001b[0m\u001b[1;33m\u001b[0m\u001b[1;33m\u001b[0m\u001b[0m\n\u001b[0m\u001b[0;32m    345\u001b[0m \u001b[1;33m\u001b[0m\u001b[0m\n\u001b[0;32m    346\u001b[0m \u001b[1;33m\u001b[0m\u001b[0m\n",
      "\u001b[1;31mRuntimeError\u001b[0m: [enforce fail at ..\\c10\\core\\CPUAllocator.cpp:73] data. DefaultCPUAllocator: not enough memory: you tried to allocate 68594245632 bytes. Buy new RAM!"
     ]
    }
   ],
   "source": [
    "xyz = torch.einsum('nat,nbt,nct->nabc', train_rest_ts_all, train_rest_ts_all, train_rest_ts_all)\n",
    "print('Complete')"
   ]
  },
  {
   "cell_type": "code",
   "execution_count": null,
   "id": "67dbd4dd",
   "metadata": {},
   "outputs": [],
   "source": []
  }
 ],
 "metadata": {
  "kernelspec": {
   "display_name": "Python 3",
   "language": "python",
   "name": "python3"
  },
  "language_info": {
   "codemirror_mode": {
    "name": "ipython",
    "version": 3
   },
   "file_extension": ".py",
   "mimetype": "text/x-python",
   "name": "python",
   "nbconvert_exporter": "python",
   "pygments_lexer": "ipython3",
   "version": "3.9.5"
  }
 },
 "nbformat": 4,
 "nbformat_minor": 5
}
