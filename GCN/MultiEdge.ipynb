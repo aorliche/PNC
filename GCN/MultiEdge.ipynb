{
 "cells": [
  {
   "cell_type": "code",
   "execution_count": 1,
   "id": "ad7a4380",
   "metadata": {},
   "outputs": [
    {
     "name": "stdout",
     "output_type": "stream",
     "text": [
      "466\n",
      "156\n",
      "{'meta': {'AgeInMonths': 146, 'Gender': 'F', 'Ethnicity': 'AFRICAN', 'AgeGroupID': 2, 'AgeGroupEdge1': 144, 'AgeGroupEdge2': 180}, 'rest': '30', 'nback': '31', 'emoid': '31', 'ID': 600262185931}\n"
     ]
    }
   ],
   "source": [
    "# Load split\n",
    "\n",
    "import pickle\n",
    "\n",
    "badIDs = [605515760919, 601983541597]\n",
    "\n",
    "with open('../../Splits/RegressionAllTasks/split1.bin', 'rb') as f:\n",
    "    d = pickle.load(f)\n",
    "    train = []\n",
    "    trainDirty = d['train']\n",
    "    test = []\n",
    "    testDirty = d['test']\n",
    "    \n",
    "    # Remove bad subjects\n",
    "    for subj in trainDirty:\n",
    "        if subj['ID'] not in badIDs:\n",
    "            train.append(subj)\n",
    "            \n",
    "    for subj in testDirty:\n",
    "        if subj['ID'] not in badIDs:\n",
    "            test.append(subj)\n",
    "    \n",
    "print(len(train))\n",
    "print(len(test))\n",
    "print(train[0])"
   ]
  },
  {
   "cell_type": "code",
   "execution_count": 2,
   "id": "90b8c2f2",
   "metadata": {},
   "outputs": [
    {
     "name": "stdout",
     "output_type": "stream",
     "text": [
      "Complete\n"
     ]
    }
   ],
   "source": [
    "# Load data\n",
    "\n",
    "def loadTimeseries(_id, _dir):\n",
    "    ts = None\n",
    "    with open('{:s}/{:d}.bin'.format(_dir, _id), 'rb') as f:\n",
    "        ts = pickle.load(f)\n",
    "    return ts\n",
    "\n",
    "train_rest_ts = [loadTimeseries(int(subj['rest']), '../../rest_fmri_power264/timeseries') for subj in train]\n",
    "# train_nback_ts = [loadTimeseries(int(subj['nback']), '../../nback_fmri_power264/timeseries') for subj in train]\n",
    "# train_emoid_ts = [loadTimeseries(int(subj['emoid']), '../../emoid_fmri_power264/timeseries') for subj in train]\n",
    "\n",
    "test_rest_ts = [loadTimeseries(int(subj['rest']), '../../rest_fmri_power264/timeseries') for subj in test]\n",
    "# test_nback_ts = [loadTimeseries(int(subj['nback']), '../../nback_fmri_power264/timeseries') for subj in test]\n",
    "# test_emoid_ts = [loadTimeseries(int(subj['emoid']), '../../emoid_fmri_power264/timeseries') for subj in test]\n",
    "\n",
    "print('Complete')"
   ]
  },
  {
   "cell_type": "code",
   "execution_count": 3,
   "id": "82abb7a2",
   "metadata": {},
   "outputs": [
    {
     "name": "stdout",
     "output_type": "stream",
     "text": [
      "Complete\n"
     ]
    }
   ],
   "source": [
    "import numpy as np\n",
    "\n",
    "def normalizeSubjects(subjects):\n",
    "    for i in range(len(subjects)):\n",
    "        subj = subjects[i]\n",
    "        subj -= np.mean(subj, axis=1, keepdims=True)@np.ones([1,subj.shape[1]])\n",
    "        subj /= np.std(subj, axis=1, keepdims=True)@np.ones([1,subj.shape[1]])\n",
    "        if np.sum(np.isnan(subj)) > 0:\n",
    "            print(i)\n",
    "        if np.sum(np.isinf(subj)) > 0:\n",
    "            print(i)\n",
    "\n",
    "normalizeSubjects(train_rest_ts)\n",
    "# normalizeSubjects(train_nback_ts)\n",
    "# normalizeSubjects(train_emoid_ts)\n",
    "\n",
    "normalizeSubjects(test_rest_ts)\n",
    "# normalizeSubjects(test_nback_ts)\n",
    "# normalizeSubjects(test_emoid_ts)\n",
    "\n",
    "print('Complete')"
   ]
  },
  {
   "cell_type": "code",
   "execution_count": 4,
   "id": "4fd5ea02",
   "metadata": {
    "scrolled": true
   },
   "outputs": [
    {
     "name": "stdout",
     "output_type": "stream",
     "text": [
      "[0, 31, 36, 50, 63, 121, 126, 157, 182, 200, 213, 222, 233, 237, 264]\n",
      "[13, 42, 47, 61, 74, 84, 86, 132, 133, 137, 138, 139, 140, 143, 174, 182, 186, 203, 221, 222, 235, 243, 247, 251, 253, 255, 256]\n"
     ]
    }
   ],
   "source": [
    "roiMap1 = np.zeros(265,dtype='int')\n",
    "roiMap2 = np.zeros(265,dtype='int')\n",
    "revMap2 = np.zeros(264,dtype='int')\n",
    "roiNames = {}\n",
    "borders1 = []\n",
    "borders2 = []\n",
    "\n",
    "with open('../../PP264_template.csv', 'r') as f:\n",
    "    lines = f.readlines()\n",
    "    for i in range(2,len(lines)):\n",
    "        line = lines[i].split(',')\n",
    "        area = int(line[11])\n",
    "        r1 = int(line[0])\n",
    "        r2 = int(line[1])\n",
    "        name = line[14].strip()\n",
    "        roiMap1[r1] = area\n",
    "        roiMap2[r2] = area\n",
    "        roiNames[area] = name\n",
    "        revMap2[r1-1] = r2-1\n",
    "#         print([area, r1, r2, name])\n",
    "\n",
    "last1 = roiMap1[1]\n",
    "last2 = roiMap2[1]\n",
    "for i in range(2,265):\n",
    "    if roiMap1[i] != last1:\n",
    "        borders1.append(i)\n",
    "        last1 = roiMap1[i]\n",
    "    if roiMap2[i] != last2:\n",
    "        borders2.append(i)\n",
    "        last2 = roiMap2[i]\n",
    "        \n",
    "def rearrange(p, idcs):\n",
    "    return p[:,idcs][idcs]\n",
    "    \n",
    "borders1 = [0] + borders1 + [264]\n",
    "print(borders1)\n",
    "print(borders2)"
   ]
  },
  {
   "cell_type": "code",
   "execution_count": 5,
   "id": "d7e0c07e",
   "metadata": {},
   "outputs": [
    {
     "name": "stdout",
     "output_type": "stream",
     "text": [
      "(264, 264)\n",
      "Complete\n"
     ]
    }
   ],
   "source": [
    "# Calculate pearson matrices\n",
    "\n",
    "train_rest_p = np.stack([rearrange(np.corrcoef(sub), revMap2) for sub in train_rest_ts])\n",
    "test_rest_p = np.stack([rearrange(np.corrcoef(sub), revMap2) for sub in test_rest_ts])\n",
    "\n",
    "# train_nback_p = np.stack([np.corrcoef(sub) for sub in train_nback_ts])\n",
    "# test_nback_p = np.stack([np.corrcoef(sub) for sub in test_nback_ts])\n",
    "\n",
    "print(train_rest_p[0].shape)\n",
    "print('Complete')"
   ]
  },
  {
   "cell_type": "code",
   "execution_count": 6,
   "id": "6ae9ddb1",
   "metadata": {},
   "outputs": [
    {
     "name": "stdout",
     "output_type": "stream",
     "text": [
      "[[193   1   0]\n",
      " [217   1   0]\n",
      " [233   1   0]\n",
      " [176   1   0]\n",
      " [116   0   1]\n",
      " [246   0   1]\n",
      " [164   1   0]\n",
      " [167   0   1]\n",
      " [202   0   1]\n",
      " [108   0   1]]\n",
      "Complete\n"
     ]
    }
   ],
   "source": [
    "# Create feature vectors (right now just ages, maleness, and femaless)\n",
    "\n",
    "X_train = []\n",
    "for subj in train:\n",
    "    maleness = 1 if subj['meta']['Gender'] == 'M' else 0\n",
    "    femaleness = 1 if maleness == 0 else 0\n",
    "    feat = np.array([subj['meta']['AgeInMonths'], maleness, femaleness])\n",
    "    X_train.append(feat)\n",
    "    \n",
    "X_test = []\n",
    "for subj in test:\n",
    "    maleness = 1 if subj['meta']['Gender'] == 'M' else 0\n",
    "    femaleness = 1 if maleness == 0 else 0\n",
    "    feat = np.array([subj['meta']['AgeInMonths'], maleness, femaleness])\n",
    "    X_test.append(feat)\n",
    "    \n",
    "X_train = np.vstack(X_train)\n",
    "X_test = np.vstack(X_test)\n",
    "\n",
    "print(X_train[10:20])\n",
    "print('Complete')"
   ]
  },
  {
   "cell_type": "code",
   "execution_count": 7,
   "id": "b3f5c921",
   "metadata": {
    "scrolled": true
   },
   "outputs": [
    {
     "name": "stdout",
     "output_type": "stream",
     "text": [
      "torch.Size([156, 264, 264])\n",
      "Complete\n"
     ]
    }
   ],
   "source": [
    "# Convert to torch\n",
    "\n",
    "import torch\n",
    "\n",
    "train_rest_p_torch = torch.from_numpy(train_rest_p).float().cuda()\n",
    "# train_nback_p_torch = torch.from_numpy(train_nback_p).float()\n",
    "\n",
    "test_rest_p_torch = torch.from_numpy(test_rest_p).float().cuda()\n",
    "# test_nback_p_torch = torch.from_numpy(test_nback_p).float()\n",
    "\n",
    "X_train_torch = torch.from_numpy(X_train).float().cuda()\n",
    "X_test_torch = torch.from_numpy(X_test).float().cuda()\n",
    "\n",
    "print(test_rest_p_torch.shape)\n",
    "print('Complete')"
   ]
  },
  {
   "cell_type": "code",
   "execution_count": 8,
   "id": "89e8d78b",
   "metadata": {},
   "outputs": [
    {
     "name": "stdout",
     "output_type": "stream",
     "text": [
      "Complete\n"
     ]
    }
   ],
   "source": [
    "import torch\n",
    "\n",
    "def normalize(A):\n",
    "    if A.shape[0] != A.shape[1]:\n",
    "        raise Exception(\"Bad A shape\")\n",
    "    d = torch.abs(torch.sum(A,dim=1))**0.5\n",
    "    return ((A/d).T/d).T\n",
    "\n",
    "# Cosine similarity\n",
    "def calcEdgesCosine(ps1, ps2, regions):\n",
    "    stk = []\n",
    "    for i in range(len(regions)-1):\n",
    "        r1s = regions[i]\n",
    "        r1e = regions[i+1]\n",
    "        for j in range(i,len(regions)-1):\n",
    "            r2s = regions[j]\n",
    "            r2e = regions[j+1]\n",
    "            ps1r = ps1[:,r1s:r1e,r2s:r2e]\n",
    "            ps2r = ps2[:,r1s:r1e,r2s:r2e]\n",
    "            e = torch.einsum('aij,bij->ab',ps1r,ps2r)\n",
    "            ps1rn = torch.einsum('aij,aij->a',ps1r,ps1r)\n",
    "            ps2rn = torch.einsum('aij,aij->a',ps2r,ps2r)\n",
    "            e /= ps1rn.unsqueeze(1)\n",
    "            e /= ps2rn.unsqueeze(1).T\n",
    "            stk.append(normalize(e))\n",
    "    e = torch.stack(stk, dim=2)\n",
    "    return e\n",
    "\n",
    "# Euclidean distance\n",
    "def calcEdgesEuclidean(ps1, ps2, regions):\n",
    "    N1 = ps1.shape[0]\n",
    "    N2 = ps2.shape[0]\n",
    "    stk = []\n",
    "    for i in range(len(regions)-1):\n",
    "        r1s = regions[i]\n",
    "        r1e = regions[i+1]\n",
    "        for j in range(i,len(regions)-1):\n",
    "            r2s = regions[j]\n",
    "            r2e = regions[j+1]\n",
    "            ps1r = ps1[:,r1s:r1e,r2s:r2e]\n",
    "            ps2r = ps2[:,r1s:r1e,r2s:r2e]\n",
    "            ps1rv = ps1r.reshape(N1,-1)\n",
    "            ps2rv = ps2r.reshape(N2,-1)\n",
    "            e = torch.cdist(ps1rv, ps2rv)\n",
    "            m = torch.max(e)\n",
    "            stk.append(normalize(m-e))\n",
    "    e = torch.stack(stk, dim=2)\n",
    "    return e\n",
    "    \n",
    "def setTestEdgesOnTrain(e, eTest, eTestTest):\n",
    "    et = torch.zeros(e.shape[0]+1, e.shape[1]+1, e.shape[2])\n",
    "    et[:-1,:-1,:] = e\n",
    "    et[:-1,-1,:] = eTest.squeeze()\n",
    "    et[-1,:-1,:] = eTest.squeeze()\n",
    "    et[-1,-1,:] = eTestTest.squeeze()\n",
    "    return et\n",
    "\n",
    "def setTestEdgesOnTest(e, eTest, eTestTest):\n",
    "    e[:-1,-1,:] = eTest.squeeze()\n",
    "    e[-1,:-1,:] = eTest.squeeze()\n",
    "    e[-1,-1,:] = eTestTest.squeeze()\n",
    "    return et\n",
    "    \n",
    "print('Complete')"
   ]
  },
  {
   "cell_type": "code",
   "execution_count": 9,
   "id": "a54210e1",
   "metadata": {},
   "outputs": [
    {
     "name": "stdout",
     "output_type": "stream",
     "text": [
      "torch.Size([466, 466, 105])\n",
      "Complete\n"
     ]
    }
   ],
   "source": [
    "e = calcEdgesCosine(train_rest_p_torch, train_rest_p_torch, borders1)\n",
    "# et1 = calcEdgesCosine(train_rest_p_torch, test_rest_p_torch[0:1], borders1)\n",
    "# et2 = calcEdgesCosine(test_rest_p_torch[0:1], test_rest_p_torch[0:1], borders1)\n",
    "# et = setTestEdgesOnTrain(e, et1, et2)\n",
    "\n",
    "print(e.shape)\n",
    "# print(et.shape)\n",
    "print('Complete')"
   ]
  },
  {
   "cell_type": "code",
   "execution_count": 10,
   "id": "09afbb76",
   "metadata": {
    "scrolled": true
   },
   "outputs": [
    {
     "data": {
      "image/png": "[encoded data removed]",
      "text/plain": [
       "<Figure size 432x288 with 2 Axes>"
      ]
     },
     "metadata": {
      "needs_background": "light"
     },
     "output_type": "display_data"
    },
    {
     "data": {
      "image/png": "[encoded data removed]",
      "text/plain": [
       "<Figure size 432x288 with 2 Axes>"
      ]
     },
     "metadata": {
      "needs_background": "light"
     },
     "output_type": "display_data"
    }
   ],
   "source": [
    "# Visualize edges\n",
    "\n",
    "import matplotlib.pyplot as plt\n",
    "\n",
    "plt.imshow(e[-10:,-10:,0].detach().cpu().numpy())\n",
    "plt.colorbar()\n",
    "plt.show()\n",
    "\n",
    "plt.imshow(e[-10:,-10:,-1].detach().cpu().numpy())\n",
    "plt.colorbar()\n",
    "plt.show()"
   ]
  },
  {
   "cell_type": "code",
   "execution_count": 20,
   "id": "3218b6ab",
   "metadata": {},
   "outputs": [
    {
     "name": "stdout",
     "output_type": "stream",
     "text": [
      "torch.Size([466, 466, 105])\n",
      "torch.Size([466, 105, 1])\n"
     ]
    },
    {
     "ename": "RuntimeError",
     "evalue": "size of dimension does not match previous size, operand 1, dim 2",
     "output_type": "error",
     "traceback": [
      "\u001b[1;31m---------------------------------------------------------------------------\u001b[0m",
      "\u001b[1;31mRuntimeError\u001b[0m                              Traceback (most recent call last)",
      "\u001b[1;32m<ipython-input-20-178b9c9c2a9e>\u001b[0m in \u001b[0;36m<module>\u001b[1;34m\u001b[0m\n\u001b[0;32m     14\u001b[0m     \u001b[1;32mreturn\u001b[0m \u001b[0mhs\u001b[0m\u001b[1;33m[\u001b[0m\u001b[0midx\u001b[0m\u001b[1;33m,\u001b[0m\u001b[1;33m:\u001b[0m\u001b[1;33m,\u001b[0m\u001b[1;33m:\u001b[0m\u001b[1;33m]\u001b[0m\u001b[1;33m\u001b[0m\u001b[1;33m\u001b[0m\u001b[0m\n\u001b[0;32m     15\u001b[0m \u001b[1;33m\u001b[0m\u001b[0m\n\u001b[1;32m---> 16\u001b[1;33m \u001b[0mh\u001b[0m \u001b[1;33m=\u001b[0m \u001b[0mgcnSep\u001b[0m\u001b[1;33m(\u001b[0m\u001b[0me\u001b[0m\u001b[1;33m,\u001b[0m \u001b[0mX_train_torch\u001b[0m\u001b[1;33m[\u001b[0m\u001b[1;33m:\u001b[0m\u001b[1;33m,\u001b[0m\u001b[1;36m0\u001b[0m\u001b[1;33m:\u001b[0m\u001b[1;36m1\u001b[0m\u001b[1;33m]\u001b[0m\u001b[1;33m,\u001b[0m \u001b[1;36m0\u001b[0m\u001b[1;33m,\u001b[0m \u001b[1;36m2\u001b[0m\u001b[1;33m)\u001b[0m\u001b[1;33m\u001b[0m\u001b[1;33m\u001b[0m\u001b[0m\n\u001b[0m\u001b[0;32m     17\u001b[0m \u001b[1;33m\u001b[0m\u001b[0m\n\u001b[0;32m     18\u001b[0m \u001b[0mprint\u001b[0m\u001b[1;33m(\u001b[0m\u001b[0mh\u001b[0m\u001b[1;33m.\u001b[0m\u001b[0mshape\u001b[0m\u001b[1;33m)\u001b[0m\u001b[1;33m\u001b[0m\u001b[1;33m\u001b[0m\u001b[0m\n",
      "\u001b[1;32m<ipython-input-20-178b9c9c2a9e>\u001b[0m in \u001b[0;36mgcnSep\u001b[1;34m(e, feat, idx, n)\u001b[0m\n\u001b[0;32m      9\u001b[0m         \u001b[0mprint\u001b[0m\u001b[1;33m(\u001b[0m\u001b[0me\u001b[0m\u001b[1;33m.\u001b[0m\u001b[0mshape\u001b[0m\u001b[1;33m)\u001b[0m\u001b[1;33m\u001b[0m\u001b[1;33m\u001b[0m\u001b[0m\n\u001b[0;32m     10\u001b[0m         \u001b[0mprint\u001b[0m\u001b[1;33m(\u001b[0m\u001b[0mh\u001b[0m\u001b[1;33m.\u001b[0m\u001b[0mshape\u001b[0m\u001b[1;33m)\u001b[0m\u001b[1;33m\u001b[0m\u001b[1;33m\u001b[0m\u001b[0m\n\u001b[1;32m---> 11\u001b[1;33m         \u001b[0mh\u001b[0m \u001b[1;33m=\u001b[0m \u001b[0mtorch\u001b[0m\u001b[1;33m.\u001b[0m\u001b[0meinsum\u001b[0m\u001b[1;33m(\u001b[0m\u001b[1;34m'abc,bdc->adc'\u001b[0m\u001b[1;33m,\u001b[0m\u001b[0me\u001b[0m\u001b[1;33m,\u001b[0m\u001b[0mh\u001b[0m\u001b[1;33m)\u001b[0m\u001b[1;33m\u001b[0m\u001b[1;33m\u001b[0m\u001b[0m\n\u001b[0m\u001b[0;32m     12\u001b[0m         \u001b[0mhs\u001b[0m\u001b[1;33m.\u001b[0m\u001b[0mappend\u001b[0m\u001b[1;33m(\u001b[0m\u001b[0mh\u001b[0m\u001b[1;33m)\u001b[0m\u001b[1;33m\u001b[0m\u001b[1;33m\u001b[0m\u001b[0m\n\u001b[0;32m     13\u001b[0m     \u001b[0mhs\u001b[0m \u001b[1;33m=\u001b[0m \u001b[0mtorch\u001b[0m\u001b[1;33m.\u001b[0m\u001b[0mcat\u001b[0m\u001b[1;33m(\u001b[0m\u001b[0mhs\u001b[0m\u001b[1;33m,\u001b[0m\u001b[0mdim\u001b[0m\u001b[1;33m=\u001b[0m\u001b[1;36m2\u001b[0m\u001b[1;33m)\u001b[0m\u001b[1;33m\u001b[0m\u001b[1;33m\u001b[0m\u001b[0m\n",
      "\u001b[1;32mc:\\users\\aorlichenko\\appdata\\local\\programs\\python\\python39\\lib\\site-packages\\torch\\functional.py\u001b[0m in \u001b[0;36meinsum\u001b[1;34m(equation, *operands)\u001b[0m\n\u001b[0;32m    342\u001b[0m         \u001b[1;32mreturn\u001b[0m \u001b[0meinsum\u001b[0m\u001b[1;33m(\u001b[0m\u001b[0mequation\u001b[0m\u001b[1;33m,\u001b[0m \u001b[1;33m*\u001b[0m\u001b[0m_operands\u001b[0m\u001b[1;33m)\u001b[0m\u001b[1;33m\u001b[0m\u001b[1;33m\u001b[0m\u001b[0m\n\u001b[0;32m    343\u001b[0m \u001b[1;33m\u001b[0m\u001b[0m\n\u001b[1;32m--> 344\u001b[1;33m     \u001b[1;32mreturn\u001b[0m \u001b[0m_VF\u001b[0m\u001b[1;33m.\u001b[0m\u001b[0meinsum\u001b[0m\u001b[1;33m(\u001b[0m\u001b[0mequation\u001b[0m\u001b[1;33m,\u001b[0m \u001b[0moperands\u001b[0m\u001b[1;33m)\u001b[0m  \u001b[1;31m# type: ignore\u001b[0m\u001b[1;33m\u001b[0m\u001b[1;33m\u001b[0m\u001b[0m\n\u001b[0m\u001b[0;32m    345\u001b[0m \u001b[1;33m\u001b[0m\u001b[0m\n\u001b[0;32m    346\u001b[0m \u001b[1;33m\u001b[0m\u001b[0m\n",
      "\u001b[1;31mRuntimeError\u001b[0m: size of dimension does not match previous size, operand 1, dim 2"
     ]
    }
   ],
   "source": [
    "# Least squares\n",
    "\n",
    "def gcnSep(e, feat, idx, n):\n",
    "    ffeat = feat.clone()\n",
    "    ffeat[idx,0] = 0\n",
    "    h = torch.einsum('abc,bd->acd',e,ffeat)\n",
    "    hs = []\n",
    "    for i in range(n):\n",
    "        print(e.shape)\n",
    "        print(h.shape)\n",
    "        h = torch.einsum('abc,bcd->adc',e,h)\n",
    "        hs.append(h)\n",
    "    hs = torch.cat(hs,dim=2)\n",
    "    return hs[idx,:,:]\n",
    "\n",
    "h = gcnSep(e, X_train_torch[:,0:1], 0, 2)\n",
    "\n",
    "print(h.shape)"
   ]
  },
  {
   "cell_type": "code",
   "execution_count": 17,
   "id": "4772c7bc",
   "metadata": {},
   "outputs": [
    {
     "name": "stdout",
     "output_type": "stream",
     "text": [
      "Complete\n"
     ]
    }
   ],
   "source": [
    "import torch.nn as nn\n",
    "import torch.nn.functional as F\n",
    "\n",
    "nFeat = X_train.shape[1]\n",
    "nEdge = e.shape[2]\n",
    "nHid = 40\n",
    "\n",
    "def gcn(layers, e, feat):\n",
    "    N = e.shape[0]\n",
    "    h = feat\n",
    "    for layer in layers:\n",
    "        h = torch.einsum('abc,bd->acd',e,h)\n",
    "        h = h.reshape(N,-1)\n",
    "        h = F.relu(layer(h))\n",
    "    return h\n",
    "\n",
    "class MultiEdge(nn.Module):\n",
    "    def __init__(self):\n",
    "        super(MultiEdge, self).__init__()\n",
    "        self.gcn1 = nn.Linear(nFeat*nEdge, nHid).cuda()\n",
    "        self.gcn2 = nn.Linear(nHid*nEdge, nHid).cuda()\n",
    "        self.gcn3 = nn.Linear(nHid*nEdge, 1).cuda()\n",
    "        \n",
    "        self.layers = [self.gcn1, self.gcn2, self.gcn3]\n",
    "        \n",
    "    def forward(self, x):\n",
    "        trainNotTest = x[0]\n",
    "        e = x[1]\n",
    "        feat = x[2]\n",
    "        ys = []\n",
    "        \n",
    "        if trainNotTest:\n",
    "            idcs = x[3]\n",
    "            \n",
    "            for idx in idcs:\n",
    "                ffeat = feat[:,0:1].clone()\n",
    "                ffeat[idx,0] = 0\n",
    "                \n",
    "                y = gcn(self.layers, e, ffeat)[idx,0]\n",
    "                ys.append(y)\n",
    "        else:\n",
    "            et1 = x[3]\n",
    "            et2 = x[4]\n",
    "            tfeat = x[5]\n",
    "            nB = et1.shape[0]\n",
    "            \n",
    "            for i in range(nB):\n",
    "                ffeat = torch.cat([feat[:,0:1].clone(), tfeat[i,0:1]])\n",
    "                et = setTestEdgesOnTrain(e, et1, et2)\n",
    "                \n",
    "                y = gcn(self.layers, et, )\n",
    "        \n",
    "        return torch.stack(ys)\n",
    "    \n",
    "multiedge = MultiEdge()\n",
    "optim = torch.optim.Adam(multiedge.parameters(), lr=1e-3)\n",
    "\n",
    "print('Complete')"
   ]
  },
  {
   "cell_type": "code",
   "execution_count": 18,
   "id": "5e768c0b",
   "metadata": {},
   "outputs": [
    {
     "name": "stdout",
     "output_type": "stream",
     "text": [
      "epoch 0 loss=14.320972\n",
      "epoch 20 loss=7.286958\n",
      "epoch 40 loss=4.326088\n",
      "epoch 60 loss=4.360083\n",
      "epoch 80 loss=3.570039\n",
      "epoch 100 loss=4.280021\n",
      "epoch 120 loss=3.890692\n",
      "epoch 140 loss=4.327719\n",
      "epoch 160 loss=3.825576\n",
      "epoch 180 loss=3.838392\n",
      "epoch 200 loss=3.691196\n",
      "epoch 220 loss=3.364487\n",
      "epoch 240 loss=3.425953\n",
      "epoch 260 loss=4.200304\n",
      "epoch 280 loss=3.917093\n",
      "epoch 300 loss=3.950416\n",
      "epoch 320 loss=3.845025\n",
      "epoch 340 loss=3.642118\n",
      "epoch 360 loss=4.181505\n",
      "epoch 380 loss=3.550419\n",
      "epoch 400 loss=3.995929\n",
      "epoch 420 loss=3.050689\n",
      "epoch 440 loss=3.403666\n",
      "epoch 460 loss=3.754736\n",
      "epoch 480 loss=3.584986\n",
      "epoch 500 loss=3.656990\n",
      "epoch 520 loss=3.699973\n",
      "epoch 540 loss=3.457047\n",
      "epoch 560 loss=3.633704\n",
      "epoch 580 loss=4.193514\n",
      "epoch 600 loss=3.265129\n",
      "epoch 620 loss=3.202142\n",
      "epoch 640 loss=3.660863\n",
      "epoch 660 loss=3.426037\n",
      "epoch 680 loss=3.689765\n",
      "epoch 700 loss=3.682195\n",
      "epoch 720 loss=3.251059\n",
      "epoch 740 loss=3.137944\n",
      "epoch 760 loss=3.675066\n",
      "epoch 780 loss=4.018080\n",
      "epoch 800 loss=3.663715\n",
      "epoch 820 loss=3.218797\n",
      "epoch 840 loss=3.292110\n",
      "epoch 860 loss=3.781227\n",
      "epoch 880 loss=3.396413\n",
      "epoch 900 loss=3.339677\n",
      "epoch 920 loss=3.873558\n",
      "epoch 940 loss=3.920537\n",
      "epoch 960 loss=3.489993\n",
      "epoch 980 loss=3.449580\n",
      "epoch 999 loss=3.219933\n",
      "Finished training\n"
     ]
    }
   ],
   "source": [
    "import random\n",
    "\n",
    "N = train_rest_p_torch.shape[0]\n",
    "running = 0\n",
    "nEpoch = 1000\n",
    "pPeriod = 20\n",
    "nBatch = 10\n",
    "\n",
    "for epoch in range(nEpoch):\n",
    "    batch = []\n",
    "    truth = torch.zeros(nBatch).cuda()\n",
    "    for i in range(nBatch):\n",
    "        idx = random.randint(0,N-1)\n",
    "        batch.append(idx)\n",
    "        truth[i] = X_train_torch[idx, 0]\n",
    "    optim.zero_grad()\n",
    "    pred = multiedge([True, e, X_train_torch, batch]) \n",
    "    loss = torch.sum((pred-truth)**2)\n",
    "    loss.backward()\n",
    "    optim.step()\n",
    "    running += loss.detach().cpu()\n",
    "    if epoch % pPeriod == 0 or epoch == nEpoch-1:\n",
    "        if epoch != 0:\n",
    "            if epoch % pPeriod != 0:\n",
    "                running /= epoch % pPeriod\n",
    "            else:\n",
    "                running /= pPeriod\n",
    "        print('epoch {:d} loss={:f}'.format(epoch, (running/nBatch)**0.5/12))\n",
    "        running = 0\n",
    "\n",
    "print('Finished training')"
   ]
  },
  {
   "cell_type": "code",
   "execution_count": 13,
   "id": "a4b4b828",
   "metadata": {},
   "outputs": [],
   "source": [
    "loss = 0\n",
    "multiedge = None\n",
    "optim = None"
   ]
  },
  {
   "cell_type": "code",
   "execution_count": 11,
   "id": "31ffc122",
   "metadata": {},
   "outputs": [],
   "source": [
    "a = torch.einsum('abc,bd->acd',e,X_train_torch)"
   ]
  },
  {
   "cell_type": "code",
   "execution_count": 44,
   "id": "199885c0",
   "metadata": {},
   "outputs": [
    {
     "name": "stdout",
     "output_type": "stream",
     "text": [
      "Cuda total=4294967296.000000 reserved=2480930816.000000 allocated=273979392.000000 free=2206951424.000000\n"
     ]
    }
   ],
   "source": [
    "t = torch.cuda.get_device_properties(0).total_memory\n",
    "r = torch.cuda.memory_reserved(0)\n",
    "a = torch.cuda.memory_allocated(0)\n",
    "f = r-a  # free inside reserved\n",
    "print('Cuda total={:f} reserved={:f} allocated={:f} free={:f}'.format(t,r,a,f))"
   ]
  },
  {
   "cell_type": "code",
   "execution_count": 68,
   "id": "085e1584",
   "metadata": {},
   "outputs": [
    {
     "name": "stdout",
     "output_type": "stream",
     "text": [
      "tensor([[146.,   0.,   1.],\n",
      "        [212.,   0.,   1.],\n",
      "        [117.,   0.,   1.],\n",
      "        [158.,   0.,   1.],\n",
      "        [240.,   0.,   1.],\n",
      "        [151.,   1.,   0.],\n",
      "        [238.,   0.,   1.],\n",
      "        [229.,   0.,   1.],\n",
      "        [152.,   0.,   1.],\n",
      "        [181.,   0.,   1.]], device='cuda:0')\n"
     ]
    }
   ],
   "source": [
    "print(X_train_torch[0:10])"
   ]
  },
  {
   "cell_type": "code",
   "execution_count": null,
   "id": "7ba641c4",
   "metadata": {},
   "outputs": [],
   "source": []
  }
 ],
 "metadata": {
  "kernelspec": {
   "display_name": "Python 3",
   "language": "python",
   "name": "python3"
  },
  "language_info": {
   "codemirror_mode": {
    "name": "ipython",
    "version": 3
   },
   "file_extension": ".py",
   "mimetype": "text/x-python",
   "name": "python",
   "nbconvert_exporter": "python",
   "pygments_lexer": "ipython3",
   "version": "3.9.5"
  }
 },
 "nbformat": 4,
 "nbformat_minor": 5
}
