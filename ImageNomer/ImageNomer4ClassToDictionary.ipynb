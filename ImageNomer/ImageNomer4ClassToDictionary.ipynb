{
 "cells": [
  {
   "cell_type": "markdown",
   "id": "5e2a226c",
   "metadata": {},
   "source": [
    "# Don't use custom class for pickling, save as a dictionary instead\n",
    "\n",
    "TODO: add remap parameter for remapping (we can do that with dict)"
   ]
  },
  {
   "cell_type": "code",
   "execution_count": 35,
   "id": "eb272082",
   "metadata": {},
   "outputs": [
    {
     "name": "stdout",
     "output_type": "stream",
     "text": [
      "Done\n"
     ]
    }
   ],
   "source": [
    "import pickle\n",
    "import numpy as np\n",
    "import torch\n",
    "from pathlib import Path\n",
    "import os\n",
    "\n",
    "basedir='/home/anton/Documents/Tulane/Research/ImageNomer/data/anton/cohorts/test/weights'\n",
    "subdir='wrat_mean_zero'\n",
    "\n",
    "class Weights:\n",
    "    def __init__(self, w, subs_tr, subs_t, desc):\n",
    "        self.w = self.to_numpy(w)\n",
    "        self.subs_tr = subs_tr\n",
    "        self.subs_t = subs_t\n",
    "        self.desc = desc\n",
    "        \n",
    "    def to_numpy(self, data):\n",
    "        if isinstance(data, torch.Tensor):\n",
    "            return data.detach().cpu().numpy()\n",
    "        elif isinstance(data, np.ndarray):\n",
    "            return data\n",
    "        else:\n",
    "            raise TypeError(data)\n",
    "            \n",
    "    def save(self, fname):\n",
    "        with open(fname, 'wb') as f:\n",
    "            pickle.dump(self, f)\n",
    "\n",
    "mydir=f'{basedir}-new/{subdir}'\n",
    "os.makedirs(mydir)\n",
    "\n",
    "for ent in Path(f'{basedir}/{subdir}').iterdir():\n",
    "    if '.pkl' not in ent.name:\n",
    "        continue\n",
    "        \n",
    "    fname=f'{basedir}/{subdir}/{ent.name}'\n",
    "    with open(fname, 'rb') as f:\n",
    "        obj = pickle.load(f)\n",
    "        (a,b,c,d) = obj.w,obj.subs_tr,obj.subs_t,obj.desc\n",
    "    \n",
    "    dct = dict(w=a.reshape(-1), trsubs=b, tsubs=c, desc=d)\n",
    "    altfname=f'{mydir}/{ent.name}'\n",
    "\n",
    "    with open(altfname, 'wb') as f:\n",
    "        pickle.dump(dct, f)\n",
    "        \n",
    "print('Done')"
   ]
  },
  {
   "cell_type": "code",
   "execution_count": 10,
   "id": "f35e228d",
   "metadata": {},
   "outputs": [
    {
     "name": "stdout",
     "output_type": "stream",
     "text": [
      "\u001b[0m\u001b[01;34mage_mean_zero\u001b[0m/  \u001b[01;34mold\u001b[0m/  \u001b[01;34msex\u001b[0m/  \u001b[01;34mwrat_mean_zero\u001b[0m/\r\n"
     ]
    }
   ],
   "source": [
    "%ls /home/anton/Documents/Tulane/Research/ImageNomer/data/anton/cohorts/test/weights"
   ]
  },
  {
   "cell_type": "code",
   "execution_count": 28,
   "id": "3f5866b7",
   "metadata": {},
   "outputs": [
    {
     "ename": "EOFError",
     "evalue": "Ran out of input",
     "output_type": "error",
     "traceback": [
      "\u001b[0;31m---------------------------------------------------------------------------\u001b[0m",
      "\u001b[0;31mEOFError\u001b[0m                                  Traceback (most recent call last)",
      "Cell \u001b[0;32mIn[28], line 2\u001b[0m\n\u001b[1;32m      1\u001b[0m \u001b[38;5;28;01mwith\u001b[39;00m \u001b[38;5;28mopen\u001b[39m(altfname, \u001b[38;5;124m'\u001b[39m\u001b[38;5;124mrb\u001b[39m\u001b[38;5;124m'\u001b[39m) \u001b[38;5;28;01mas\u001b[39;00m f:\n\u001b[0;32m----> 2\u001b[0m     check \u001b[38;5;241m=\u001b[39m \u001b[43mpickle\u001b[49m\u001b[38;5;241;43m.\u001b[39;49m\u001b[43mload\u001b[49m\u001b[43m(\u001b[49m\u001b[43mf\u001b[49m\u001b[43m)\u001b[49m\n\u001b[1;32m      4\u001b[0m \u001b[38;5;28mprint\u001b[39m(check)\n",
      "\u001b[0;31mEOFError\u001b[0m: Ran out of input"
     ]
    }
   ],
   "source": [
    "with open(altfname, 'rb') as f:\n",
    "    check = pickle.load(f)\n",
    "    \n",
    "print(check)"
   ]
  },
  {
   "cell_type": "code",
   "execution_count": null,
   "id": "40b1a3e0",
   "metadata": {},
   "outputs": [],
   "source": []
  }
 ],
 "metadata": {
  "kernelspec": {
   "display_name": "Python 3 (ipykernel)",
   "language": "python",
   "name": "python3"
  },
  "language_info": {
   "codemirror_mode": {
    "name": "ipython",
    "version": 3
   },
   "file_extension": ".py",
   "mimetype": "text/x-python",
   "name": "python",
   "nbconvert_exporter": "python",
   "pygments_lexer": "ipython3",
   "version": "3.10.8"
  }
 },
 "nbformat": 4,
 "nbformat_minor": 5
}
