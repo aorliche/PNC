{
 "cells": [
  {
   "cell_type": "markdown",
   "id": "9d354ef2",
   "metadata": {},
   "source": [
    "# MED_ANTIP_ANY_PRI is actually a surrogate for any mental illness\n",
    "\n",
    "- out of 509 SZP, BPP, SADP patients, 423 of them are on this med; assume no NC or ...R are on this med\n",
    "- Actually a total of 471 are on the med\n",
    "\n",
    "- 73% clf accuracy for NC versus med takers\n",
    "- 74% clf accuracy for NC versus patients\n",
    "\n",
    "- MED_PSYCHOTROPIC is also a surrogate\n",
    "- MED_ANTIP_SECONDGEN_SEC is a subcategory that's also a good surrogate"
   ]
  },
  {
   "cell_type": "code",
   "execution_count": 2,
   "id": "f357e991",
   "metadata": {},
   "outputs": [
    {
     "name": "stdout",
     "output_type": "stream",
     "text": [
      "1224\n"
     ]
    }
   ],
   "source": [
    "import pickle\n",
    "from natsort import natsorted\n",
    "\n",
    "basedir = '../../ImageNomer/data/anton/cohorts/BSNIP'\n",
    "demoname = f'{basedir}/demographics.pkl'\n",
    "\n",
    "with open(demoname, 'rb') as f:\n",
    "    demo = pickle.load(f)\n",
    "    \n",
    "subs = natsorted(list(demo['MED_ANTIP_ANY_PRI'].keys()))\n",
    "print(len(subs))"
   ]
  },
  {
   "cell_type": "code",
   "execution_count": 43,
   "id": "18c5cc6d",
   "metadata": {},
   "outputs": [
    {
     "name": "stdout",
     "output_type": "stream",
     "text": [
      "(1222, 34716)\n",
      "(1222,)\n",
      "[23 53 52 51 47]\n"
     ]
    }
   ],
   "source": [
    "import numpy as np\n",
    "\n",
    "ox = []\n",
    "oy = []\n",
    "\n",
    "for sub in subs:\n",
    "#     if demo['DXGROUP_2'][sub] in ['SZP', 'SADP', 'BPP']:\n",
    "# #     if demo['MED_PSYCHOTROPIC'][sub] == 'YES':\n",
    "#         oy.append(1)\n",
    "#     elif demo['DXGROUP_2'][sub] == 'NC':\n",
    "#         oy.append(0)\n",
    "#     else:\n",
    "#         continue\n",
    "    if sub not in demo['Age_cal']:\n",
    "        continue\n",
    "    p = np.load(f'{basedir}/fc/{sub}_task-unk_fc.npy')\n",
    "    ox.append(p)\n",
    "    oy.append(int(demo['Age_cal'][sub]))\n",
    "#     oy.append(demo['MED_ANTIP_ANY_PRI'][sub] == 'YES')\n",
    "    \n",
    "ox = np.stack(ox)\n",
    "oy = np.array(oy).astype('int')\n",
    "\n",
    "print(ox.shape)\n",
    "print(oy.shape)\n",
    "print(oy[0:5])"
   ]
  },
  {
   "cell_type": "code",
   "execution_count": 49,
   "id": "d6ebb5ab",
   "metadata": {},
   "outputs": [
    {
     "name": "stdout",
     "output_type": "stream",
     "text": [
      "11.023744628138935\n",
      "10.61150331181143\n",
      "10.629767646353846\n",
      "10.910980999058175\n",
      "11.388998885767759\n",
      "11.131760302461704\n",
      "11.827496660489208\n",
      "11.121361490047171\n",
      "11.304651901150715\n",
      "11.005624465479043\n",
      "---\n",
      "11.0955890290758\n",
      "0.34148527022768405\n"
     ]
    }
   ],
   "source": [
    "from sklearn.linear_model import LogisticRegression\n",
    "from sklearn.model_selection import train_test_split\n",
    "\n",
    "import sys\n",
    "\n",
    "if '../../LatentSimilarity' not in sys.path:\n",
    "    sys.path.append('../../LatentSimilarity')\n",
    "    \n",
    "from latsim import LatSimClf, LatSimReg\n",
    "accs = []\n",
    "\n",
    "for _ in range(10):\n",
    "    xtr, xt, ytr, yt = train_test_split(ox, oy, stratify=oy, train_size=0.6)\n",
    "\n",
    "#     clf = LogisticRegression(C=1, max_iter=1000).fit(xtr, ytr)\n",
    "    clf = LatSimReg().fit(xtr, ytr, wd=1e-3, ld=1, nepochs=100)\n",
    "    yhat = clf.predict(xt)\n",
    "#     acc = np.mean((yhat == yt).astype('int'))\n",
    "    acc = np.mean((yhat-yt)**2)**0.5\n",
    "    acc = float(acc)\n",
    "    print(acc)\n",
    "    accs.append(acc)\n",
    "    \n",
    "print('---')\n",
    "print(np.mean(accs))\n",
    "print(np.std(accs))"
   ]
  },
  {
   "cell_type": "code",
   "execution_count": null,
   "id": "e9f61ed9",
   "metadata": {},
   "outputs": [],
   "source": []
  }
 ],
 "metadata": {
  "kernelspec": {
   "display_name": "Python 3 (ipykernel)",
   "language": "python",
   "name": "python3"
  },
  "language_info": {
   "codemirror_mode": {
    "name": "ipython",
    "version": 3
   },
   "file_extension": ".py",
   "mimetype": "text/x-python",
   "name": "python",
   "nbconvert_exporter": "python",
   "pygments_lexer": "ipython3",
   "version": "3.10.9"
  }
 },
 "nbformat": 4,
 "nbformat_minor": 5
}
