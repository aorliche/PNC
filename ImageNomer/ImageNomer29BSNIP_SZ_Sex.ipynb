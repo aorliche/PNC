{
 "cells": [
  {
   "cell_type": "code",
   "execution_count": 1,
   "id": "376ffff6-fa0e-4e2a-97ab-0684097bc9bc",
   "metadata": {},
   "outputs": [
    {
     "data": {
      "text/plain": [
       "['DXGROUP_1',\n",
       " 'DXGROUP_2',\n",
       " 'sex',\n",
       " 'ethnic',\n",
       " 'Race',\n",
       " 'handed',\n",
       " 'MED_PSYCHOTROPIC',\n",
       " 'MED_ANTIP_ANY_PRI',\n",
       " 'MED_ANTIP_FIRSTGEN_SEC',\n",
       " 'MED_ANTIP_SECONDGEN_SEC',\n",
       " 'MED_ANTID_ANY_PRI',\n",
       " 'MED_ANTID_TRICYCLIC_SEC',\n",
       " 'MED_ANTID_MAOI_SEC',\n",
       " 'MED_ANTID_SSRI_SEC',\n",
       " 'MED_ANTID_MISC_SEC',\n",
       " 'MED_MOOD_ANY_PRI',\n",
       " 'MED_MOOD_LITHIUM_SEC',\n",
       " 'MED_MOOD_ANTICONVUL_SEC',\n",
       " 'MED_ANX_HYP_PRI',\n",
       " 'MED_ANTICHOL_PRI',\n",
       " 'MED_CENT_ACTIVE_PRI',\n",
       " 'MED_STIMULANTS_PRI',\n",
       " 'Age_cal',\n",
       " 'I2a',\n",
       " 'PANSS_PosTotal',\n",
       " 'PANSS_NegTotal',\n",
       " 'PANSS_GenTotal',\n",
       " 'PANSS_Total',\n",
       " 'pt_hollscore',\n",
       " 'mo_hollscore',\n",
       " 'fa_hollscore',\n",
       " 'Family_hollscore']"
      ]
     },
     "execution_count": 1,
     "metadata": {},
     "output_type": "execute_result"
    }
   ],
   "source": [
    "import pickle\n",
    "\n",
    "demo = pickle.load(open('/home/anton/Documents/Tulane/Research/ImageNomer/data/anton/cohorts/BSNIP/demographics_good.pkl', 'rb'))\n",
    "\n",
    "list(demo.keys())"
   ]
  },
  {
   "cell_type": "code",
   "execution_count": 3,
   "id": "8578c929-dda8-4830-a7c5-f5a8be2b02d8",
   "metadata": {},
   "outputs": [
    {
     "name": "stdout",
     "output_type": "stream",
     "text": [
      "0.6934673366834171\n"
     ]
    }
   ],
   "source": [
    "male = 0\n",
    "female = 0\n",
    "for sub,diag in demo['DXGROUP_1'].items():\n",
    "    if diag == 'SZP':\n",
    "        if demo['sex'][sub] == 's1.0':\n",
    "            male += 1\n",
    "        else:\n",
    "            female += 1\n",
    "total = male + female\n",
    "\n",
    "print(male/total)"
   ]
  },
  {
   "cell_type": "code",
   "execution_count": null,
   "id": "d9a72f63-bc02-44da-a895-1d0e65a67f36",
   "metadata": {},
   "outputs": [],
   "source": []
  }
 ],
 "metadata": {
  "kernelspec": {
   "display_name": "Python 3 (ipykernel)",
   "language": "python",
   "name": "python3"
  },
  "language_info": {
   "codemirror_mode": {
    "name": "ipython",
    "version": 3
   },
   "file_extension": ".py",
   "mimetype": "text/x-python",
   "name": "python",
   "nbconvert_exporter": "python",
   "pygments_lexer": "ipython3",
   "version": "3.12.4"
  }
 },
 "nbformat": 4,
 "nbformat_minor": 5
}
