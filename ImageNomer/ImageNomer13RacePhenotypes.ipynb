{
 "cells": [
  {
   "cell_type": "code",
   "execution_count": 3,
   "id": "ad935111",
   "metadata": {},
   "outputs": [
    {
     "name": "stdout",
     "output_type": "stream",
     "text": [
      "       dbGaP_Subject_ID        SUBJID  INT_NUM INT_TYPE        Race Sex  \\\n",
      "0                791086  600001103037        1       MP          AA   M   \n",
      "1                791086  600001103037        2       MI          AA   M   \n",
      "2                791087  600001676724        1       AP          AA   F   \n",
      "3                791088  600003245643        1      YPI          AA   M   \n",
      "4                791090  600004963801        1       MP          EA   F   \n",
      "...                 ...           ...      ...      ...         ...  ..   \n",
      "14636            800198  609993878116        2       MI          EA   M   \n",
      "14637            800199  609998081561        1       MP  EA,HI + OT   M   \n",
      "14638            800199  609998081561        2       MI  EA,HI + OT   M   \n",
      "14639            800200  609999144528        1       MP          EA   F   \n",
      "14640            800200  609999144528        2       MI          EA   F   \n",
      "\n",
      "       Med_birth_year Med_Rating  ADD011  ADD012  ...  SUB_OTC  SUB_PSY  \\\n",
      "0              1999.0        NaN     0.0     0.0  ...      0.0      0.0   \n",
      "1              1999.0        NaN     0.0     0.0  ...      NaN      NaN   \n",
      "2              1990.0          2     1.0     0.0  ...      NaN      NaN   \n",
      "3              2003.0          2     0.0     0.0  ...      NaN      NaN   \n",
      "4              1998.0          1     0.0     0.0  ...      0.0      0.0   \n",
      "...               ...        ...     ...     ...  ...      ...      ...   \n",
      "14636          1998.0        4.0     0.0     0.0  ...      NaN      NaN   \n",
      "14637          1998.0        0.0     1.0     1.0  ...      NaN      NaN   \n",
      "14638          1998.0        0.0     1.0     1.0  ...      NaN      NaN   \n",
      "14639          1999.0        1.0     0.0     0.0  ...      0.0      0.0   \n",
      "14640          1999.0        1.0     0.0     0.0  ...      NaN      NaN   \n",
      "\n",
      "       SUB_STER  SUB_STIM  SUB_TOB  SUB_TRAN  SUB_TOT  Education  \\\n",
      "0           0.0       0.0      0.0       0.0      NaN        5.0   \n",
      "1           NaN       NaN      NaN       NaN      NaN        NaN   \n",
      "2           NaN       NaN      NaN       NaN      NaN       12.0   \n",
      "3           NaN       NaN      NaN       NaN      NaN        3.0   \n",
      "4           0.0       0.0      0.0       0.0      NaN        5.0   \n",
      "...         ...       ...      ...       ...      ...        ...   \n",
      "14636       NaN       NaN      NaN       NaN      NaN        NaN   \n",
      "14637       NaN       NaN      NaN       NaN      NaN        5.0   \n",
      "14638       NaN       NaN      NaN       NaN      NaN        NaN   \n",
      "14639       0.0       0.0      0.0       0.0      NaN        5.0   \n",
      "14640       NaN       NaN      NaN       NaN      NaN        NaN   \n",
      "\n",
      "       Mother_Education  Father_Education  \n",
      "0                  12.0               NaN  \n",
      "1                   NaN               NaN  \n",
      "2                  12.0               NaN  \n",
      "3                  15.0              18.0  \n",
      "4                  20.0              16.0  \n",
      "...                 ...               ...  \n",
      "14636               NaN               NaN  \n",
      "14637              16.0               NaN  \n",
      "14638               NaN               NaN  \n",
      "14639              20.0              18.0  \n",
      "14640               NaN               NaN  \n",
      "\n",
      "[14641 rows x 908 columns]\n"
     ]
    },
    {
     "name": "stderr",
     "output_type": "stream",
     "text": [
      "/tmp/ipykernel_53521/1203871330.py:5: DtypeWarning: Columns (7) have mixed types. Specify dtype option on import or set low_memory=False.\n",
      "  df = pd.read_table(fname, comment='#')\n"
     ]
    }
   ],
   "source": [
    "import pandas as pd\n",
    "\n",
    "fname = '../../PNC2/pht003445.txt'\n",
    "\n",
    "df = pd.read_table(fname, comment='#')\n",
    "\n",
    "print(df)"
   ]
  },
  {
   "cell_type": "code",
   "execution_count": 8,
   "id": "68a78f06",
   "metadata": {},
   "outputs": [
    {
     "name": "stdout",
     "output_type": "stream",
     "text": [
      "830\n",
      "830\n",
      "830\n",
      "[605485715456, 605971292161]\n"
     ]
    }
   ],
   "source": [
    "# Get subjects from demographics file\n",
    "\n",
    "import pickle\n",
    "\n",
    "demofile = '../../ImageNomer/data/anton/cohorts/test/demographics.pkl'\n",
    "\n",
    "with open(demofile, 'rb') as f:\n",
    "    demo = pickle.load(f)\n",
    "    \n",
    "for key in ['age', 'sex', 'wrat']:\n",
    "    print(len(list(demo[key].keys())))\n",
    "    \n",
    "sublst = list(demo['age'].keys())\n",
    "sublst = [int(sub) for sub in sublst]\n",
    "print(sublst[:2])"
   ]
  },
  {
   "cell_type": "code",
   "execution_count": 21,
   "id": "2a28b421",
   "metadata": {},
   "outputs": [
    {
     "name": "stdout",
     "output_type": "stream",
     "text": [
      "600635899969\n",
      "605674075165\n",
      "607914130481\n",
      "604473175469\n",
      "604968175212\n",
      "830\n"
     ]
    }
   ],
   "source": [
    "# Race for subjects\n",
    "\n",
    "import math\n",
    "\n",
    "demo['race'] = dict()\n",
    "\n",
    "for sub in sublst:\n",
    "    r = df[(df['SUBJID'] == sub) & (df['INT_NUM'] == 1)]['Race']\n",
    "    r = r.values[0]\n",
    "    if isinstance(r, float) and math.isnan(r):\n",
    "        print(sub)\n",
    "        r = 'Missing'\n",
    "    demo['race'][str(sub)] = r\n",
    "    \n",
    "print(len(list(demo['race'].keys())))"
   ]
  },
  {
   "cell_type": "code",
   "execution_count": 22,
   "id": "85fd3da1",
   "metadata": {},
   "outputs": [
    {
     "name": "stdout",
     "output_type": "stream",
     "text": [
      "Complete\n"
     ]
    }
   ],
   "source": [
    "# Save new demographics info\n",
    "\n",
    "with open(demofile, 'wb') as f:\n",
    "    pickle.dump(demo, f)\n",
    "    \n",
    "print('Complete')"
   ]
  },
  {
   "cell_type": "code",
   "execution_count": 26,
   "id": "7d769fec",
   "metadata": {},
   "outputs": [
    {
     "name": "stdout",
     "output_type": "stream",
     "text": [
      "(2, 3)\n",
      "3\n"
     ]
    },
    {
     "data": {
      "image/png": "[encoded data removed]",
      "text/plain": [
       "<Figure size 640x480 with 1 Axes>"
      ]
     },
     "metadata": {},
     "output_type": "display_data"
    }
   ],
   "source": [
    "import matplotlib.pyplot as plt\n",
    "import numpy as np\n",
    "\n",
    "data = np.array([[1,2,3],[4,5,8]])\n",
    "labels = ['data1', 'data2', 'data3']\n",
    "print(data.shape)\n",
    "print(len(labels))\n",
    "\n",
    "plt.boxplot(data, labels=labels)\n",
    "plt.show()"
   ]
  },
  {
   "cell_type": "code",
   "execution_count": null,
   "id": "84f7c00b",
   "metadata": {},
   "outputs": [],
   "source": []
  }
 ],
 "metadata": {
  "kernelspec": {
   "display_name": "Python 3 (ipykernel)",
   "language": "python",
   "name": "python3"
  },
  "language_info": {
   "codemirror_mode": {
    "name": "ipython",
    "version": 3
   },
   "file_extension": ".py",
   "mimetype": "text/x-python",
   "name": "python",
   "nbconvert_exporter": "python",
   "pygments_lexer": "ipython3",
   "version": "3.10.8"
  }
 },
 "nbformat": 4,
 "nbformat_minor": 5
}
