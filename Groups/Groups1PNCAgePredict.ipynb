{
 "cells": [
  {
   "cell_type": "code",
   "execution_count": 2,
   "id": "078f381f",
   "metadata": {},
   "outputs": [
    {
     "name": "stdout",
     "output_type": "stream",
     "text": [
      "[(3849,), (3849,), (3849,), (3849, 34716), (3849, 34716), (3849, 34716), (3849, 34716), (3849, 34716)]\n",
      "14.398285268901013\n",
      "0.473629514159522\n",
      "0.4811639386853728\n"
     ]
    }
   ],
   "source": [
    "import pickle\n",
    "import re\n",
    "import numpy as np\n",
    "\n",
    "demodir = '/home/anton/Documents/Tulane/Research/ImageNomer/data/anton/cohorts/PNC/'\n",
    "\n",
    "age = []\n",
    "fc = []\n",
    "sex = []\n",
    "race = []\n",
    "res1 = []\n",
    "res5 = []\n",
    "ab1 = []\n",
    "ab5 = []\n",
    "\n",
    "demo = pickle.load(open(f'{demodir}/demographics.pkl', 'rb'))\n",
    "\n",
    "for sub in demo['age_at_cnb']:\n",
    "    for task in ['rest', 'nback', 'emoid']:\n",
    "        if sub not in demo['Race'] or demo['Race'][sub] not in ['AA', 'EA']:\n",
    "            continue\n",
    "        a = demo['age_at_cnb'][sub]\n",
    "        s = demo['Sex'][sub] == 'M'\n",
    "        r = demo['Race'][sub] == 'AA'\n",
    "        try:\n",
    "            p = np.load(f'{demodir}/fc/{sub}_task-{task}_fc.npy')\n",
    "        except:\n",
    "            continue\n",
    "        r1 = np.load(f'{demodir}/fc/{sub}_task-{task}res1_fc.npy')\n",
    "        res1.append(r1)\n",
    "        r5 = np.load(f'{demodir}/fc/{sub}_task-{task}res5_fc.npy')\n",
    "        res5.append(r5)\n",
    "        a1 = np.load(f'{demodir}/fc/{sub}_task-{task}ab1_fc.npy')\n",
    "        ab1.append(a1)\n",
    "        a5 = np.load(f'{demodir}/fc/{sub}_task-{task}ab5_fc.npy')\n",
    "        ab5.append(a5)\n",
    "        age.append(a)\n",
    "        sex.append(s)\n",
    "        race.append(r)\n",
    "        fc.append(p)\n",
    "    \n",
    "race = np.array(race)\n",
    "sex = np.array(sex)\n",
    "age = np.array(age)\n",
    "fc = np.stack(fc)\n",
    "res1 = np.stack(res1)\n",
    "res5 = np.stack(res5)\n",
    "ab1 = np.stack(ab1)\n",
    "ab5 = np.stack(ab5)\n",
    "\n",
    "print([a.shape for a in [sex, race, age, fc, res1, res5, ab1, ab5]])\n",
    "print(np.mean(age))\n",
    "print(np.mean(sex))\n",
    "print(np.mean(race))"
   ]
  },
  {
   "cell_type": "code",
   "execution_count": 3,
   "id": "949fc91d",
   "metadata": {},
   "outputs": [
    {
     "name": "stdout",
     "output_type": "stream",
     "text": [
      "(807,)\n",
      "2.3103851352712947\n",
      "2.1972192012798484\n",
      "2.299388065134683\n",
      "2.075893472374327\n",
      "2.1873835898469856\n",
      "2.259958319196827\n",
      "2.3859832102301386\n",
      "2.1111835826247987\n",
      "2.238894730640563\n",
      "1.939601139025712\n",
      "2.322702143635315\n",
      "2.0422361739333574\n",
      "2.3405759206909664\n",
      "2.1885041267202676\n",
      "2.1957926925155506\n",
      "2.24076825189534\n",
      "2.139236786306959\n",
      "2.159162397645103\n",
      "2.120457449912572\n",
      "2.2559227543400415\n",
      "---\n",
      "2.2005624571610327\n",
      "0.10708695988216937\n"
     ]
    }
   ],
   "source": [
    "from sklearn.linear_model import Ridge\n",
    "from sklearn.model_selection import train_test_split\n",
    "\n",
    "def rmse(yhat, y):\n",
    "    if isinstance(yhat, np.ndarray) or isinstance(yhat, int):\n",
    "        f = np.mean\n",
    "    else:\n",
    "        f = torch.mean\n",
    "    return f((y-yhat)**2)**0.5\n",
    "\n",
    "# aa = np.where(race == 0)[0]\n",
    "# m = np.where(sex == 0)[0]\n",
    "# aam = np.intersect1d(aa, m)\n",
    "# idcs = np.random.permutation(aam.shape[0])[:807]\n",
    "# aam = aam[idcs]\n",
    "aam = np.random.permutation(fc.shape[0])[:807]\n",
    "print(aam.shape)\n",
    "\n",
    "accs = []\n",
    "\n",
    "for i in range(20):\n",
    "    x = res1[aam]\n",
    "    xx = fc[aam]\n",
    "    y = age[aam]\n",
    "    \n",
    "    xtr, xt, xxtr, xxt, ytr, yt = train_test_split(x, xx, y, train_size=0.8)\n",
    "    \n",
    "    mu = np.mean(ytr)\n",
    "    ytr = ytr-mu\n",
    "    yt = yt-mu\n",
    "    \n",
    "    reg = Ridge(alpha=1).fit(xtr, ytr)\n",
    "    yhat0 = reg.predict(xt)\n",
    "    reg = Ridge(alpha=1).fit(xxtr, ytr)\n",
    "    yhat1 = reg.predict(xxt)\n",
    "    acc = rmse((yhat0+yhat1)/2, yt)\n",
    "    accs.append(acc)\n",
    "    print(acc)\n",
    "    \n",
    "print('---')\n",
    "print(np.mean(accs))\n",
    "print(np.std(accs))\n"
   ]
  },
  {
   "cell_type": "code",
   "execution_count": 38,
   "id": "dfe207bd",
   "metadata": {},
   "outputs": [
    {
     "name": "stdout",
     "output_type": "stream",
     "text": [
      "0.10154195352626498\n"
     ]
    }
   ],
   "source": [
    "print(np.std(accs))"
   ]
  },
  {
   "cell_type": "code",
   "execution_count": 65,
   "id": "612c002d",
   "metadata": {},
   "outputs": [
    {
     "name": "stdout",
     "output_type": "stream",
     "text": [
      "3.486050913704901\n"
     ]
    }
   ],
   "source": [
    "print(rmse(0, yt))"
   ]
  },
  {
   "cell_type": "code",
   "execution_count": null,
   "id": "5bcd6ae7",
   "metadata": {},
   "outputs": [],
   "source": []
  }
 ],
 "metadata": {
  "kernelspec": {
   "display_name": "Python 3 (ipykernel)",
   "language": "python",
   "name": "python3"
  },
  "language_info": {
   "codemirror_mode": {
    "name": "ipython",
    "version": 3
   },
   "file_extension": ".py",
   "mimetype": "text/x-python",
   "name": "python",
   "nbconvert_exporter": "python",
   "pygments_lexer": "ipython3",
   "version": "3.10.9"
  }
 },
 "nbformat": 4,
 "nbformat_minor": 5
}
