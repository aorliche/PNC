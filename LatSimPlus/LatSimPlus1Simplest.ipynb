{
 "cells": [
  {
   "cell_type": "code",
   "execution_count": 1,
   "id": "df5687d8",
   "metadata": {},
   "outputs": [
    {
     "name": "stdout",
     "output_type": "stream",
     "text": [
      "Complete\n"
     ]
    }
   ],
   "source": [
    "import pickle\n",
    "\n",
    "with open('../../PNC_Good/MegaMeta3.pkl', 'rb') as f: \n",
    "    meta = pickle.load(f)\n",
    "    \n",
    "print('Complete')"
   ]
  },
  {
   "cell_type": "code",
   "execution_count": 2,
   "id": "01b7fb87",
   "metadata": {},
   "outputs": [
    {
     "name": "stdout",
     "output_type": "stream",
     "text": [
      "620\n",
      "620\n",
      "Complete\n"
     ]
    }
   ],
   "source": [
    "with open('../../Work/LatentSim/Splits.pkl', 'rb') as f:\n",
    "    keys, groups = pickle.load(f)\n",
    "    \n",
    "print(len(keys))\n",
    "print(len(groups[0][0])+len(groups[0][1]))\n",
    "print('Complete')"
   ]
  },
  {
   "cell_type": "code",
   "execution_count": 3,
   "id": "3328faac",
   "metadata": {},
   "outputs": [
    {
     "name": "stdout",
     "output_type": "stream",
     "text": [
      "(620, 264, 231)\n",
      "(620, 264, 210)\n"
     ]
    }
   ],
   "source": [
    "import numpy as np\n",
    "\n",
    "nback = np.stack([meta[key]['nback'] for key in keys])\n",
    "emoid = np.stack([meta[key]['emoid'] for key in keys])\n",
    "\n",
    "print(nback.shape)\n",
    "print(emoid.shape)"
   ]
  },
  {
   "cell_type": "code",
   "execution_count": 4,
   "id": "ff095d34",
   "metadata": {},
   "outputs": [
    {
     "name": "stdout",
     "output_type": "stream",
     "text": [
      "(620, 264, 264)\n"
     ]
    }
   ],
   "source": [
    "from nilearn.connectome import ConnectivityMeasure\n",
    "\n",
    "def getFC(timeSeries, kind='correlation', transpose=True):\n",
    "    connMeasure = ConnectivityMeasure(kind=kind)\n",
    "    if transpose:\n",
    "        timeSeries = np.transpose(timeSeries, axes=(0,2,1))\n",
    "    return connMeasure.fit_transform(timeSeries)\n",
    "\n",
    "nback_p = getFC(nback)\n",
    "emoid_p = getFC(emoid)\n",
    "\n",
    "print(nback_p.shape)"
   ]
  },
  {
   "cell_type": "code",
   "execution_count": 5,
   "id": "5c75e570",
   "metadata": {},
   "outputs": [
    {
     "name": "stdout",
     "output_type": "stream",
     "text": [
      "torch.Size([620, 34716])\n",
      "torch.Size([620, 34716])\n",
      "Complete\n"
     ]
    }
   ],
   "source": [
    "import torch\n",
    "\n",
    "def convertTorch(p):\n",
    "    t = torch.from_numpy(p).float()\n",
    "    u = []\n",
    "    for i in range(t.shape[0]):\n",
    "        u.append(t[i][torch.triu_indices(264,264,offset=1).unbind()])\n",
    "    return torch.stack(u).cuda()\n",
    "\n",
    "nback_p_t = convertTorch(nback_p)\n",
    "emoid_p_t = convertTorch(emoid_p)\n",
    "\n",
    "print(nback_p_t.shape)\n",
    "print(emoid_p_t.shape)\n",
    "print('Complete')"
   ]
  },
  {
   "cell_type": "code",
   "execution_count": 6,
   "id": "2eaf9e2c",
   "metadata": {},
   "outputs": [
    {
     "name": "stdout",
     "output_type": "stream",
     "text": [
      "Norm complete\n"
     ]
    }
   ],
   "source": [
    "mu_nback = torch.mean(nback_p_t, dim=0, keepdim=True)\n",
    "mu_emoid = torch.mean(emoid_p_t, dim=0, keepdim=True)\n",
    "std_nback = torch.std(nback_p_t, dim=0, keepdim=True)\n",
    "std_emoid = torch.std(emoid_p_t, dim=0, keepdim=True)\n",
    "\n",
    "nback_p_t = (nback_p_t - mu_nback)/std_nback\n",
    "emoid_p_t = (emoid_p_t - mu_emoid)/std_emoid\n",
    "\n",
    "print('Norm complete')"
   ]
  },
  {
   "cell_type": "code",
   "execution_count": 7,
   "id": "45cbf9a4",
   "metadata": {},
   "outputs": [
    {
     "name": "stdout",
     "output_type": "stream",
     "text": [
      "torch.return_types.min(\n",
      "values=tensor([-2.2998, -3.0133], device='cuda:0'),\n",
      "indices=tensor([603, 350], device='cuda:0'))\n",
      "torch.return_types.min(\n",
      "values=tensor([-2.7284, -3.0616], device='cuda:0'),\n",
      "indices=tensor([351,  33], device='cuda:0'))\n"
     ]
    }
   ],
   "source": [
    "print(torch.min(nback_p_t[:,420:422],dim=0))\n",
    "print(torch.min(emoid_p_t[:,420:422],dim=0))"
   ]
  },
  {
   "cell_type": "code",
   "execution_count": 8,
   "id": "b959f964",
   "metadata": {},
   "outputs": [
    {
     "name": "stdout",
     "output_type": "stream",
     "text": [
      "(620,)\n",
      "(620, 2)\n",
      "(620,)\n"
     ]
    }
   ],
   "source": [
    "age = np.stack([meta[key]['AgeInMonths'] for key in keys])\n",
    "gen = np.stack([np.array([meta[key]['Gender'] == 'M', meta[key]['Gender'] == 'F']) for key in keys]).astype(int)\n",
    "wrt = np.stack([meta[key]['wratStd'] for key in keys])\n",
    "\n",
    "print(age.shape)\n",
    "print(gen.shape)\n",
    "print(wrt.shape)"
   ]
  },
  {
   "cell_type": "code",
   "execution_count": 9,
   "id": "b074cb5a",
   "metadata": {},
   "outputs": [
    {
     "name": "stdout",
     "output_type": "stream",
     "text": [
      "Complete\n"
     ]
    }
   ],
   "source": [
    "age_t = torch.from_numpy(age).float().cuda()\n",
    "gen_t = torch.from_numpy(gen).float().cuda()\n",
    "wrt_t = torch.from_numpy(wrt).float().cuda()\n",
    "\n",
    "print('Complete')"
   ]
  },
  {
   "cell_type": "code",
   "execution_count": 116,
   "id": "5d01c912",
   "metadata": {},
   "outputs": [
    {
     "name": "stdout",
     "output_type": "stream",
     "text": [
      "epoch 0 loss=[tensor(1516.8324, device='cuda:0', grad_fn=<MulBackward0>), tensor(692.4996, device='cuda:0', grad_fn=<MulBackward0>), tensor(13406.2129, device='cuda:0', grad_fn=<MulBackward0>), tensor(1516.0981, device='cuda:0', grad_fn=<MulBackward0>), tensor(692.4052, device='cuda:0', grad_fn=<MulBackward0>), tensor(13341.4521, device='cuda:0', grad_fn=<MulBackward0>), tensor(1511.2174, device='cuda:0', grad_fn=<MulBackward0>), tensor(692.4229, device='cuda:0', grad_fn=<MulBackward0>), tensor(13354.1689, device='cuda:0', grad_fn=<MulBackward0>)]\n",
      "New best validation epoch 0 0 loss=44.578433990478516\n",
      "New best validation epoch 0 1 loss=0.5\n",
      "New best validation epoch 0 2 loss=12.045477867126465\n",
      "epoch 10 loss=[tensor(1257.2692, device='cuda:0', grad_fn=<MulBackward0>), tensor(687.3305, device='cuda:0', grad_fn=<MulBackward0>), tensor(11686.7949, device='cuda:0', grad_fn=<MulBackward0>), tensor(1298.7557, device='cuda:0', grad_fn=<MulBackward0>), tensor(686.2570, device='cuda:0', grad_fn=<MulBackward0>), tensor(12570.5361, device='cuda:0', grad_fn=<MulBackward0>), tensor(1328.1168, device='cuda:0', grad_fn=<MulBackward0>), tensor(686.4268, device='cuda:0', grad_fn=<MulBackward0>), tensor(9795.9873, device='cuda:0', grad_fn=<MulBackward0>)]\n",
      "New best validation epoch 10 0 loss=41.55376434326172\n",
      "New best validation epoch 10 1 loss=0.5806451439857483\n",
      "New best validation epoch 10 2 loss=11.861332893371582\n",
      "epoch 20 loss=[tensor(1103.3345, device='cuda:0', grad_fn=<MulBackward0>), tensor(682.0560, device='cuda:0', grad_fn=<MulBackward0>), tensor(2843.6858, device='cuda:0', grad_fn=<MulBackward0>), tensor(1145.4094, device='cuda:0', grad_fn=<MulBackward0>), tensor(676.3441, device='cuda:0', grad_fn=<MulBackward0>), tensor(3431.4202, device='cuda:0', grad_fn=<MulBackward0>), tensor(1092.4279, device='cuda:0', grad_fn=<MulBackward0>), tensor(671.0272, device='cuda:0', grad_fn=<MulBackward0>), tensor(2229.6472, device='cuda:0', grad_fn=<MulBackward0>)]\n",
      "New best validation epoch 20 0 loss=37.098636627197266\n",
      "New best validation epoch 20 2 loss=11.791374206542969\n",
      "epoch 30 loss=[tensor(819.3333, device='cuda:0', grad_fn=<MulBackward0>), tensor(677.5453, device='cuda:0', grad_fn=<MulBackward0>), tensor(1650.4114, device='cuda:0', grad_fn=<MulBackward0>), tensor(792.7158, device='cuda:0', grad_fn=<MulBackward0>), tensor(671.8668, device='cuda:0', grad_fn=<MulBackward0>), tensor(1624.2399, device='cuda:0', grad_fn=<MulBackward0>), tensor(669.1273, device='cuda:0', grad_fn=<MulBackward0>), tensor(667.6351, device='cuda:0', grad_fn=<MulBackward0>), tensor(1018.4161, device='cuda:0', grad_fn=<MulBackward0>)]\n",
      "New best validation epoch 30 0 loss=30.578685760498047\n",
      "New best validation epoch 30 2 loss=11.615796089172363\n",
      "epoch 40 loss=[tensor(498.2889, device='cuda:0', grad_fn=<MulBackward0>), tensor(674.5172, device='cuda:0', grad_fn=<MulBackward0>), tensor(638.2245, device='cuda:0', grad_fn=<MulBackward0>), tensor(465.9665, device='cuda:0', grad_fn=<MulBackward0>), tensor(669.3344, device='cuda:0', grad_fn=<MulBackward0>), tensor(955.7897, device='cuda:0', grad_fn=<MulBackward0>), tensor(373.2196, device='cuda:0', grad_fn=<MulBackward0>), tensor(666.8403, device='cuda:0', grad_fn=<MulBackward0>), tensor(478.2690, device='cuda:0', grad_fn=<MulBackward0>)]\n",
      "New best validation epoch 40 0 loss=24.38590431213379\n",
      "New best validation epoch 40 1 loss=0.596774160861969\n",
      "New best validation epoch 40 2 loss=11.35334587097168\n",
      "epoch 50 loss=[tensor(269.1968, device='cuda:0', grad_fn=<MulBackward0>), tensor(671.8227, device='cuda:0', grad_fn=<MulBackward0>), tensor(398.9784, device='cuda:0', grad_fn=<MulBackward0>), tensor(286.1717, device='cuda:0', grad_fn=<MulBackward0>), tensor(668.8932, device='cuda:0', grad_fn=<MulBackward0>), tensor(582.2809, device='cuda:0', grad_fn=<MulBackward0>), tensor(194.2907, device='cuda:0', grad_fn=<MulBackward0>), tensor(665.1781, device='cuda:0', grad_fn=<MulBackward0>), tensor(279.3358, device='cuda:0', grad_fn=<MulBackward0>)]\n",
      "New best validation epoch 50 2 loss=11.186917304992676\n",
      "epoch 60 loss=[tensor(182.3293, device='cuda:0', grad_fn=<MulBackward0>), tensor(667.4357, device='cuda:0', grad_fn=<MulBackward0>), tensor(390.2833, device='cuda:0', grad_fn=<MulBackward0>), tensor(174.7585, device='cuda:0', grad_fn=<MulBackward0>), tensor(666.4873, device='cuda:0', grad_fn=<MulBackward0>), tensor(455.8216, device='cuda:0', grad_fn=<MulBackward0>), tensor(119.1842, device='cuda:0', grad_fn=<MulBackward0>), tensor(659.8818, device='cuda:0', grad_fn=<MulBackward0>), tensor(309.4578, device='cuda:0', grad_fn=<MulBackward0>)]\n",
      "New best validation epoch 60 0 loss=24.316701889038086\n",
      "epoch 70 loss=[tensor(121.3544, device='cuda:0', grad_fn=<MulBackward0>), tensor(654.1059, device='cuda:0', grad_fn=<MulBackward0>), tensor(267.9598, device='cuda:0', grad_fn=<MulBackward0>), tensor(116.1766, device='cuda:0', grad_fn=<MulBackward0>), tensor(664.7258, device='cuda:0', grad_fn=<MulBackward0>), tensor(452.1975, device='cuda:0', grad_fn=<MulBackward0>), tensor(77.5627, device='cuda:0', grad_fn=<MulBackward0>), tensor(646.9451, device='cuda:0', grad_fn=<MulBackward0>), tensor(238.4778, device='cuda:0', grad_fn=<MulBackward0>)]\n",
      "New best validation epoch 70 0 loss=23.87071418762207\n",
      "epoch 80 loss=[tensor(90.7234, device='cuda:0', grad_fn=<MulBackward0>), tensor(621.8812, device='cuda:0', grad_fn=<MulBackward0>), tensor(357.5004, device='cuda:0', grad_fn=<MulBackward0>), tensor(79.9427, device='cuda:0', grad_fn=<MulBackward0>), tensor(661.0486, device='cuda:0', grad_fn=<MulBackward0>), tensor(443.4520, device='cuda:0', grad_fn=<MulBackward0>), tensor(53.4614, device='cuda:0', grad_fn=<MulBackward0>), tensor(617.6304, device='cuda:0', grad_fn=<MulBackward0>), tensor(197.4440, device='cuda:0', grad_fn=<MulBackward0>)]\n",
      "New best validation epoch 80 0 loss=22.961809158325195\n",
      "New best validation epoch 80 1 loss=0.6774193048477173\n",
      "epoch 90 loss=[tensor(69.9986, device='cuda:0', grad_fn=<MulBackward0>), tensor(534.8339, device='cuda:0', grad_fn=<MulBackward0>), tensor(246.0120, device='cuda:0', grad_fn=<MulBackward0>), tensor(51.7483, device='cuda:0', grad_fn=<MulBackward0>), tensor(651.1746, device='cuda:0', grad_fn=<MulBackward0>), tensor(385.4962, device='cuda:0', grad_fn=<MulBackward0>), tensor(35.5122, device='cuda:0', grad_fn=<MulBackward0>), tensor(539.9095, device='cuda:0', grad_fn=<MulBackward0>), tensor(169.6704, device='cuda:0', grad_fn=<MulBackward0>)]\n",
      "epoch 100 loss=[tensor(55.9436, device='cuda:0', grad_fn=<MulBackward0>), tensor(448.3528, device='cuda:0', grad_fn=<MulBackward0>), tensor(242.8709, device='cuda:0', grad_fn=<MulBackward0>), tensor(43.5470, device='cuda:0', grad_fn=<MulBackward0>), tensor(627.2622, device='cuda:0', grad_fn=<MulBackward0>), tensor(242.1048, device='cuda:0', grad_fn=<MulBackward0>), tensor(30.4168, device='cuda:0', grad_fn=<MulBackward0>), tensor(442.2027, device='cuda:0', grad_fn=<MulBackward0>), tensor(127.5026, device='cuda:0', grad_fn=<MulBackward0>)]\n",
      "epoch 110 loss=[tensor(47.7549, device='cuda:0', grad_fn=<MulBackward0>), tensor(395.4941, device='cuda:0', grad_fn=<MulBackward0>), tensor(260.3845, device='cuda:0', grad_fn=<MulBackward0>), tensor(38.1864, device='cuda:0', grad_fn=<MulBackward0>), tensor(589.8423, device='cuda:0', grad_fn=<MulBackward0>), tensor(303.4762, device='cuda:0', grad_fn=<MulBackward0>), tensor(25.6398, device='cuda:0', grad_fn=<MulBackward0>), tensor(374.2325, device='cuda:0', grad_fn=<MulBackward0>), tensor(167.5232, device='cuda:0', grad_fn=<MulBackward0>)]\n",
      "epoch 120 loss=[tensor(36.9842, device='cuda:0', grad_fn=<MulBackward0>), tensor(357.6540, device='cuda:0', grad_fn=<MulBackward0>), tensor(222.8896, device='cuda:0', grad_fn=<MulBackward0>), tensor(37.3900, device='cuda:0', grad_fn=<MulBackward0>), tensor(547.9432, device='cuda:0', grad_fn=<MulBackward0>), tensor(280.7220, device='cuda:0', grad_fn=<MulBackward0>), tensor(21.8489, device='cuda:0', grad_fn=<MulBackward0>), tensor(343.8786, device='cuda:0', grad_fn=<MulBackward0>), tensor(146.7691, device='cuda:0', grad_fn=<MulBackward0>)]\n",
      "epoch 130 loss=[tensor(45.2079, device='cuda:0', grad_fn=<MulBackward0>), tensor(340.2450, device='cuda:0', grad_fn=<MulBackward0>), tensor(230.2999, device='cuda:0', grad_fn=<MulBackward0>), tensor(32.8980, device='cuda:0', grad_fn=<MulBackward0>), tensor(482.3494, device='cuda:0', grad_fn=<MulBackward0>), tensor(359.3803, device='cuda:0', grad_fn=<MulBackward0>), tensor(21.9033, device='cuda:0', grad_fn=<MulBackward0>), tensor(331.1400, device='cuda:0', grad_fn=<MulBackward0>), tensor(165.8946, device='cuda:0', grad_fn=<MulBackward0>)]\n",
      "New best validation epoch 130 2 loss=11.1024169921875\n",
      "epoch 140 loss=[tensor(33.6641, device='cuda:0', grad_fn=<MulBackward0>), tensor(329.1053, device='cuda:0', grad_fn=<MulBackward0>), tensor(232.3227, device='cuda:0', grad_fn=<MulBackward0>), tensor(29.1701, device='cuda:0', grad_fn=<MulBackward0>), tensor(415.4746, device='cuda:0', grad_fn=<MulBackward0>), tensor(365.2820, device='cuda:0', grad_fn=<MulBackward0>), tensor(18.7313, device='cuda:0', grad_fn=<MulBackward0>), tensor(324.6288, device='cuda:0', grad_fn=<MulBackward0>), tensor(182.6241, device='cuda:0', grad_fn=<MulBackward0>)]\n",
      "New best validation epoch 140 2 loss=11.061759948730469\n"
     ]
    },
    {
     "name": "stdout",
     "output_type": "stream",
     "text": [
      "epoch 150 loss=[tensor(28.9559, device='cuda:0', grad_fn=<MulBackward0>), tensor(325.0162, device='cuda:0', grad_fn=<MulBackward0>), tensor(386.1183, device='cuda:0', grad_fn=<MulBackward0>), tensor(32.7040, device='cuda:0', grad_fn=<MulBackward0>), tensor(363.1655, device='cuda:0', grad_fn=<MulBackward0>), tensor(266.9780, device='cuda:0', grad_fn=<MulBackward0>), tensor(18.8010, device='cuda:0', grad_fn=<MulBackward0>), tensor(321.5193, device='cuda:0', grad_fn=<MulBackward0>), tensor(248.2492, device='cuda:0', grad_fn=<MulBackward0>)]\n",
      "New best validation epoch 150 1 loss=0.7258064150810242\n",
      "epoch 160 loss=[tensor(26.3048, device='cuda:0', grad_fn=<MulBackward0>), tensor(323.4710, device='cuda:0', grad_fn=<MulBackward0>), tensor(304.4158, device='cuda:0', grad_fn=<MulBackward0>), tensor(31.4098, device='cuda:0', grad_fn=<MulBackward0>), tensor(338.0212, device='cuda:0', grad_fn=<MulBackward0>), tensor(250.9631, device='cuda:0', grad_fn=<MulBackward0>), tensor(16.8759, device='cuda:0', grad_fn=<MulBackward0>), tensor(317.7006, device='cuda:0', grad_fn=<MulBackward0>), tensor(178.0120, device='cuda:0', grad_fn=<MulBackward0>)]\n",
      "epoch 170 loss=[tensor(29.5757, device='cuda:0', grad_fn=<MulBackward0>), tensor(322.9781, device='cuda:0', grad_fn=<MulBackward0>), tensor(246.5634, device='cuda:0', grad_fn=<MulBackward0>), tensor(25.4009, device='cuda:0', grad_fn=<MulBackward0>), tensor(321.6701, device='cuda:0', grad_fn=<MulBackward0>), tensor(353.8933, device='cuda:0', grad_fn=<MulBackward0>), tensor(17.3848, device='cuda:0', grad_fn=<MulBackward0>), tensor(317.5669, device='cuda:0', grad_fn=<MulBackward0>), tensor(149.0869, device='cuda:0', grad_fn=<MulBackward0>)]\n",
      "New best validation epoch 170 2 loss=11.037089347839355\n",
      "epoch 180 loss=[tensor(28.3592, device='cuda:0', grad_fn=<MulBackward0>), tensor(324.0195, device='cuda:0', grad_fn=<MulBackward0>), tensor(261.9846, device='cuda:0', grad_fn=<MulBackward0>), tensor(21.5255, device='cuda:0', grad_fn=<MulBackward0>), tensor(317.2614, device='cuda:0', grad_fn=<MulBackward0>), tensor(291.7224, device='cuda:0', grad_fn=<MulBackward0>), tensor(18.6518, device='cuda:0', grad_fn=<MulBackward0>), tensor(317.5175, device='cuda:0', grad_fn=<MulBackward0>), tensor(232.8949, device='cuda:0', grad_fn=<MulBackward0>)]\n",
      "epoch 190 loss=[tensor(22.4747, device='cuda:0', grad_fn=<MulBackward0>), tensor(321.0962, device='cuda:0', grad_fn=<MulBackward0>), tensor(220.7333, device='cuda:0', grad_fn=<MulBackward0>), tensor(21.1855, device='cuda:0', grad_fn=<MulBackward0>), tensor(316.7267, device='cuda:0', grad_fn=<MulBackward0>), tensor(258.2260, device='cuda:0', grad_fn=<MulBackward0>), tensor(13.3470, device='cuda:0', grad_fn=<MulBackward0>), tensor(317.3674, device='cuda:0', grad_fn=<MulBackward0>), tensor(133.0288, device='cuda:0', grad_fn=<MulBackward0>)]\n",
      "New best validation epoch 190 1 loss=0.7419354915618896\n",
      "epoch 200 loss=[tensor(24.7333, device='cuda:0', grad_fn=<MulBackward0>), tensor(320.2951, device='cuda:0', grad_fn=<MulBackward0>), tensor(188.7734, device='cuda:0', grad_fn=<MulBackward0>), tensor(19.7289, device='cuda:0', grad_fn=<MulBackward0>), tensor(316.0309, device='cuda:0', grad_fn=<MulBackward0>), tensor(240.8687, device='cuda:0', grad_fn=<MulBackward0>), tensor(13.1966, device='cuda:0', grad_fn=<MulBackward0>), tensor(317.3744, device='cuda:0', grad_fn=<MulBackward0>), tensor(105.7273, device='cuda:0', grad_fn=<MulBackward0>)]\n",
      "epoch 204 loss=[tensor(19.1135, device='cuda:0', grad_fn=<MulBackward0>), tensor(320.9271, device='cuda:0', grad_fn=<MulBackward0>), tensor(207.5269, device='cuda:0', grad_fn=<MulBackward0>), tensor(21.1088, device='cuda:0', grad_fn=<MulBackward0>), tensor(316.1459, device='cuda:0', grad_fn=<MulBackward0>), tensor(240.2025, device='cuda:0', grad_fn=<MulBackward0>), tensor(11.9867, device='cuda:0', grad_fn=<MulBackward0>), tensor(317.3685, device='cuda:0', grad_fn=<MulBackward0>), tensor(122.3734, device='cuda:0', grad_fn=<MulBackward0>)]\n",
      "Early stopping\n",
      "FINISHED [[26.4591064453125, 0.8064515590667725, 12.426405906677246]]\n",
      "epoch 0 loss=[tensor(1475.6184, device='cuda:0', grad_fn=<MulBackward0>), tensor(691.5350, device='cuda:0', grad_fn=<MulBackward0>), tensor(12997.6865, device='cuda:0', grad_fn=<MulBackward0>), tensor(1472.1881, device='cuda:0', grad_fn=<MulBackward0>), tensor(691.0336, device='cuda:0', grad_fn=<MulBackward0>), tensor(13040.0859, device='cuda:0', grad_fn=<MulBackward0>), tensor(1472.7870, device='cuda:0', grad_fn=<MulBackward0>), tensor(691.5748, device='cuda:0', grad_fn=<MulBackward0>), tensor(13031.8037, device='cuda:0', grad_fn=<MulBackward0>)]\n",
      "New best validation epoch 0 0 loss=44.02310562133789\n",
      "New best validation epoch 0 1 loss=0.5161290168762207\n",
      "New best validation epoch 0 2 loss=11.892541885375977\n",
      "epoch 10 loss=[tensor(1196.8542, device='cuda:0', grad_fn=<MulBackward0>), tensor(677.4388, device='cuda:0', grad_fn=<MulBackward0>), tensor(11199.6943, device='cuda:0', grad_fn=<MulBackward0>), tensor(1229.7241, device='cuda:0', grad_fn=<MulBackward0>), tensor(678.1292, device='cuda:0', grad_fn=<MulBackward0>), tensor(11547.1670, device='cuda:0', grad_fn=<MulBackward0>), tensor(1145.5168, device='cuda:0', grad_fn=<MulBackward0>), tensor(677.4562, device='cuda:0', grad_fn=<MulBackward0>), tensor(8429.6875, device='cuda:0', grad_fn=<MulBackward0>)]\n",
      "New best validation epoch 10 0 loss=37.903446197509766\n",
      "New best validation epoch 10 1 loss=0.6129032373428345\n",
      "New best validation epoch 10 2 loss=11.68082046508789\n",
      "epoch 20 loss=[tensor(1054.2625, device='cuda:0', grad_fn=<MulBackward0>), tensor(674.7210, device='cuda:0', grad_fn=<MulBackward0>), tensor(2811.7017, device='cuda:0', grad_fn=<MulBackward0>), tensor(1134.6212, device='cuda:0', grad_fn=<MulBackward0>), tensor(669.7585, device='cuda:0', grad_fn=<MulBackward0>), tensor(2828.7979, device='cuda:0', grad_fn=<MulBackward0>), tensor(988.2828, device='cuda:0', grad_fn=<MulBackward0>), tensor(666.3551, device='cuda:0', grad_fn=<MulBackward0>), tensor(1786.5452, device='cuda:0', grad_fn=<MulBackward0>)]\n",
      "New best validation epoch 20 0 loss=35.33302307128906\n",
      "New best validation epoch 20 2 loss=11.118342399597168\n",
      "epoch 30 loss=[tensor(808.8852, device='cuda:0', grad_fn=<MulBackward0>), tensor(674.6406, device='cuda:0', grad_fn=<MulBackward0>), tensor(1079.2517, device='cuda:0', grad_fn=<MulBackward0>), tensor(811.8400, device='cuda:0', grad_fn=<MulBackward0>), tensor(663.8704, device='cuda:0', grad_fn=<MulBackward0>), tensor(1626.5667, device='cuda:0', grad_fn=<MulBackward0>), tensor(623.7795, device='cuda:0', grad_fn=<MulBackward0>), tensor(664.7986, device='cuda:0', grad_fn=<MulBackward0>), tensor(870.0950, device='cuda:0', grad_fn=<MulBackward0>)]\n",
      "New best validation epoch 30 0 loss=28.925350189208984\n",
      "New best validation epoch 30 2 loss=10.633150100708008\n",
      "epoch 40 loss=[tensor(537.4840, device='cuda:0', grad_fn=<MulBackward0>), tensor(672.5951, device='cuda:0', grad_fn=<MulBackward0>), tensor(603.8479, device='cuda:0', grad_fn=<MulBackward0>), tensor(493.4236, device='cuda:0', grad_fn=<MulBackward0>), tensor(662.6935, device='cuda:0', grad_fn=<MulBackward0>), tensor(691.4520, device='cuda:0', grad_fn=<MulBackward0>), tensor(393.4131, device='cuda:0', grad_fn=<MulBackward0>), tensor(663.4242, device='cuda:0', grad_fn=<MulBackward0>), tensor(365.7616, device='cuda:0', grad_fn=<MulBackward0>)]\n",
      "New best validation epoch 40 0 loss=24.0037841796875\n",
      "New best validation epoch 40 1 loss=0.6451612710952759\n",
      "epoch 50 loss=[tensor(333.2676, device='cuda:0', grad_fn=<MulBackward0>), tensor(672.9893, device='cuda:0', grad_fn=<MulBackward0>), tensor(448.7527, device='cuda:0', grad_fn=<MulBackward0>), tensor(282.9320, device='cuda:0', grad_fn=<MulBackward0>), tensor(663.6429, device='cuda:0', grad_fn=<MulBackward0>), tensor(476.8560, device='cuda:0', grad_fn=<MulBackward0>), tensor(204.4137, device='cuda:0', grad_fn=<MulBackward0>), tensor(664.3831, device='cuda:0', grad_fn=<MulBackward0>), tensor(244.2415, device='cuda:0', grad_fn=<MulBackward0>)]\n",
      "New best validation epoch 50 0 loss=22.801502227783203\n",
      "epoch 60 loss=[tensor(217.7340, device='cuda:0', grad_fn=<MulBackward0>), tensor(669.5705, device='cuda:0', grad_fn=<MulBackward0>), tensor(283.7269, device='cuda:0', grad_fn=<MulBackward0>), tensor(174.4639, device='cuda:0', grad_fn=<MulBackward0>), tensor(658.8572, device='cuda:0', grad_fn=<MulBackward0>), tensor(341.7363, device='cuda:0', grad_fn=<MulBackward0>), tensor(125.2555, device='cuda:0', grad_fn=<MulBackward0>), tensor(658.7247, device='cuda:0', grad_fn=<MulBackward0>), tensor(214.0109, device='cuda:0', grad_fn=<MulBackward0>)]\n",
      "New best validation epoch 60 2 loss=10.612262725830078\n",
      "epoch 70 loss=[tensor(153.1307, device='cuda:0', grad_fn=<MulBackward0>), tensor(666.8851, device='cuda:0', grad_fn=<MulBackward0>), tensor(338.6096, device='cuda:0', grad_fn=<MulBackward0>), tensor(110.1870, device='cuda:0', grad_fn=<MulBackward0>), tensor(650.9280, device='cuda:0', grad_fn=<MulBackward0>), tensor(407.2058, device='cuda:0', grad_fn=<MulBackward0>), tensor(77.2318, device='cuda:0', grad_fn=<MulBackward0>), tensor(647.8056, device='cuda:0', grad_fn=<MulBackward0>), tensor(259.8326, device='cuda:0', grad_fn=<MulBackward0>)]\n",
      "New best validation epoch 70 2 loss=10.604005813598633\n",
      "epoch 80 loss=[tensor(106.1902, device='cuda:0', grad_fn=<MulBackward0>), tensor(660.5682, device='cuda:0', grad_fn=<MulBackward0>), tensor(260.0717, device='cuda:0', grad_fn=<MulBackward0>), tensor(68.4682, device='cuda:0', grad_fn=<MulBackward0>), tensor(642.5458, device='cuda:0', grad_fn=<MulBackward0>), tensor(383.2746, device='cuda:0', grad_fn=<MulBackward0>), tensor(48.7775, device='cuda:0', grad_fn=<MulBackward0>), tensor(630.1763, device='cuda:0', grad_fn=<MulBackward0>), tensor(191.0837, device='cuda:0', grad_fn=<MulBackward0>)]\n"
     ]
    },
    {
     "name": "stdout",
     "output_type": "stream",
     "text": [
      "epoch 90 loss=[tensor(74.9961, device='cuda:0', grad_fn=<MulBackward0>), tensor(648.7789, device='cuda:0', grad_fn=<MulBackward0>), tensor(307.2820, device='cuda:0', grad_fn=<MulBackward0>), tensor(49.1223, device='cuda:0', grad_fn=<MulBackward0>), tensor(619.3701, device='cuda:0', grad_fn=<MulBackward0>), tensor(303.0948, device='cuda:0', grad_fn=<MulBackward0>), tensor(36.1661, device='cuda:0', grad_fn=<MulBackward0>), tensor(586.7117, device='cuda:0', grad_fn=<MulBackward0>), tensor(173.5992, device='cuda:0', grad_fn=<MulBackward0>)]\n",
      "New best validation epoch 90 1 loss=0.6612902879714966\n",
      "New best validation epoch 90 2 loss=10.564350128173828\n",
      "epoch 100 loss=[tensor(60.2156, device='cuda:0', grad_fn=<MulBackward0>), tensor(617.9225, device='cuda:0', grad_fn=<MulBackward0>), tensor(333.9770, device='cuda:0', grad_fn=<MulBackward0>), tensor(38.5739, device='cuda:0', grad_fn=<MulBackward0>), tensor(558.9315, device='cuda:0', grad_fn=<MulBackward0>), tensor(378.1210, device='cuda:0', grad_fn=<MulBackward0>), tensor(29.9753, device='cuda:0', grad_fn=<MulBackward0>), tensor(492.4406, device='cuda:0', grad_fn=<MulBackward0>), tensor(216.2724, device='cuda:0', grad_fn=<MulBackward0>)]\n",
      "epoch 110 loss=[tensor(48.7197, device='cuda:0', grad_fn=<MulBackward0>), tensor(543.0684, device='cuda:0', grad_fn=<MulBackward0>), tensor(359.6210, device='cuda:0', grad_fn=<MulBackward0>), tensor(35.4903, device='cuda:0', grad_fn=<MulBackward0>), tensor(447.7602, device='cuda:0', grad_fn=<MulBackward0>), tensor(419.7416, device='cuda:0', grad_fn=<MulBackward0>), tensor(26.0104, device='cuda:0', grad_fn=<MulBackward0>), tensor(382.8074, device='cuda:0', grad_fn=<MulBackward0>), tensor(281.5352, device='cuda:0', grad_fn=<MulBackward0>)]\n",
      "New best validation epoch 110 1 loss=0.6935483813285828\n",
      "epoch 120 loss=[tensor(49.7652, device='cuda:0', grad_fn=<MulBackward0>), tensor(436.7111, device='cuda:0', grad_fn=<MulBackward0>), tensor(235.1906, device='cuda:0', grad_fn=<MulBackward0>), tensor(33.3434, device='cuda:0', grad_fn=<MulBackward0>), tensor(365.2574, device='cuda:0', grad_fn=<MulBackward0>), tensor(305.7481, device='cuda:0', grad_fn=<MulBackward0>), tensor(27.3107, device='cuda:0', grad_fn=<MulBackward0>), tensor(333.9049, device='cuda:0', grad_fn=<MulBackward0>), tensor(146.3875, device='cuda:0', grad_fn=<MulBackward0>)]\n",
      "New best validation epoch 120 1 loss=0.7258064150810242\n",
      "epoch 130 loss=[tensor(49.8867, device='cuda:0', grad_fn=<MulBackward0>), tensor(365.0585, device='cuda:0', grad_fn=<MulBackward0>), tensor(282.3121, device='cuda:0', grad_fn=<MulBackward0>), tensor(30.3301, device='cuda:0', grad_fn=<MulBackward0>), tensor(332.2386, device='cuda:0', grad_fn=<MulBackward0>), tensor(451.6005, device='cuda:0', grad_fn=<MulBackward0>), tensor(28.7718, device='cuda:0', grad_fn=<MulBackward0>), tensor(321.9825, device='cuda:0', grad_fn=<MulBackward0>), tensor(279.2544, device='cuda:0', grad_fn=<MulBackward0>)]\n",
      "New best validation epoch 130 1 loss=0.7580645084381104\n",
      "epoch 140 loss=[tensor(38.4454, device='cuda:0', grad_fn=<MulBackward0>), tensor(337.3387, device='cuda:0', grad_fn=<MulBackward0>), tensor(262.7566, device='cuda:0', grad_fn=<MulBackward0>), tensor(27.0665, device='cuda:0', grad_fn=<MulBackward0>), tensor(322.9355, device='cuda:0', grad_fn=<MulBackward0>), tensor(287.8307, device='cuda:0', grad_fn=<MulBackward0>), tensor(22.3642, device='cuda:0', grad_fn=<MulBackward0>), tensor(317.6935, device='cuda:0', grad_fn=<MulBackward0>), tensor(147.1778, device='cuda:0', grad_fn=<MulBackward0>)]\n",
      "epoch 150 loss=[tensor(39.2667, device='cuda:0', grad_fn=<MulBackward0>), tensor(331.3391, device='cuda:0', grad_fn=<MulBackward0>), tensor(248.0829, device='cuda:0', grad_fn=<MulBackward0>), tensor(25.7541, device='cuda:0', grad_fn=<MulBackward0>), tensor(321.7786, device='cuda:0', grad_fn=<MulBackward0>), tensor(448.3766, device='cuda:0', grad_fn=<MulBackward0>), tensor(19.0526, device='cuda:0', grad_fn=<MulBackward0>), tensor(317.4156, device='cuda:0', grad_fn=<MulBackward0>), tensor(155.0119, device='cuda:0', grad_fn=<MulBackward0>)]\n",
      "epoch 160 loss=[tensor(33.7887, device='cuda:0', grad_fn=<MulBackward0>), tensor(328.5672, device='cuda:0', grad_fn=<MulBackward0>), tensor(335.0003, device='cuda:0', grad_fn=<MulBackward0>), tensor(21.9137, device='cuda:0', grad_fn=<MulBackward0>), tensor(321.5955, device='cuda:0', grad_fn=<MulBackward0>), tensor(268.2940, device='cuda:0', grad_fn=<MulBackward0>), tensor(15.8216, device='cuda:0', grad_fn=<MulBackward0>), tensor(317.4059, device='cuda:0', grad_fn=<MulBackward0>), tensor(155.1394, device='cuda:0', grad_fn=<MulBackward0>)]\n",
      "epoch 170 loss=[tensor(33.7963, device='cuda:0', grad_fn=<MulBackward0>), tensor(327.1030, device='cuda:0', grad_fn=<MulBackward0>), tensor(230.2641, device='cuda:0', grad_fn=<MulBackward0>), tensor(20.8712, device='cuda:0', grad_fn=<MulBackward0>), tensor(320.1580, device='cuda:0', grad_fn=<MulBackward0>), tensor(247.4794, device='cuda:0', grad_fn=<MulBackward0>), tensor(18.0721, device='cuda:0', grad_fn=<MulBackward0>), tensor(317.3704, device='cuda:0', grad_fn=<MulBackward0>), tensor(116.0673, device='cuda:0', grad_fn=<MulBackward0>)]\n",
      "epoch 180 loss=[tensor(30.5827, device='cuda:0', grad_fn=<MulBackward0>), tensor(325.6578, device='cuda:0', grad_fn=<MulBackward0>), tensor(217.9770, device='cuda:0', grad_fn=<MulBackward0>), tensor(19.5153, device='cuda:0', grad_fn=<MulBackward0>), tensor(319.9086, device='cuda:0', grad_fn=<MulBackward0>), tensor(288.5052, device='cuda:0', grad_fn=<MulBackward0>), tensor(14.5475, device='cuda:0', grad_fn=<MulBackward0>), tensor(317.3638, device='cuda:0', grad_fn=<MulBackward0>), tensor(143.2477, device='cuda:0', grad_fn=<MulBackward0>)]\n",
      "epoch 190 loss=[tensor(28.0884, device='cuda:0', grad_fn=<MulBackward0>), tensor(324.7372, device='cuda:0', grad_fn=<MulBackward0>), tensor(226.4468, device='cuda:0', grad_fn=<MulBackward0>), tensor(19.6227, device='cuda:0', grad_fn=<MulBackward0>), tensor(319.7689, device='cuda:0', grad_fn=<MulBackward0>), tensor(248.8639, device='cuda:0', grad_fn=<MulBackward0>), tensor(13.8178, device='cuda:0', grad_fn=<MulBackward0>), tensor(316.6157, device='cuda:0', grad_fn=<MulBackward0>), tensor(167.0781, device='cuda:0', grad_fn=<MulBackward0>)]\n",
      "epoch 200 loss=[tensor(29.3063, device='cuda:0', grad_fn=<MulBackward0>), tensor(320.9978, device='cuda:0', grad_fn=<MulBackward0>), tensor(203.4644, device='cuda:0', grad_fn=<MulBackward0>), tensor(18.4361, device='cuda:0', grad_fn=<MulBackward0>), tensor(319.9660, device='cuda:0', grad_fn=<MulBackward0>), tensor(204.1629, device='cuda:0', grad_fn=<MulBackward0>), tensor(12.7927, device='cuda:0', grad_fn=<MulBackward0>), tensor(315.4131, device='cuda:0', grad_fn=<MulBackward0>), tensor(127.2006, device='cuda:0', grad_fn=<MulBackward0>)]\n",
      "epoch 210 loss=[tensor(23.1012, device='cuda:0', grad_fn=<MulBackward0>), tensor(320.5668, device='cuda:0', grad_fn=<MulBackward0>), tensor(221.3548, device='cuda:0', grad_fn=<MulBackward0>), tensor(19.5393, device='cuda:0', grad_fn=<MulBackward0>), tensor(319.7674, device='cuda:0', grad_fn=<MulBackward0>), tensor(263.9898, device='cuda:0', grad_fn=<MulBackward0>), tensor(13.5400, device='cuda:0', grad_fn=<MulBackward0>), tensor(315.9573, device='cuda:0', grad_fn=<MulBackward0>), tensor(143.8590, device='cuda:0', grad_fn=<MulBackward0>)]\n",
      "epoch 220 loss=[tensor(22.7395, device='cuda:0', grad_fn=<MulBackward0>), tensor(320.4712, device='cuda:0', grad_fn=<MulBackward0>), tensor(206.1955, device='cuda:0', grad_fn=<MulBackward0>), tensor(22.1759, device='cuda:0', grad_fn=<MulBackward0>), tensor(319.9570, device='cuda:0', grad_fn=<MulBackward0>), tensor(244.0787, device='cuda:0', grad_fn=<MulBackward0>), tensor(15.1829, device='cuda:0', grad_fn=<MulBackward0>), tensor(315.4366, device='cuda:0', grad_fn=<MulBackward0>), tensor(145.3027, device='cuda:0', grad_fn=<MulBackward0>)]\n",
      "epoch 230 loss=[tensor(22.2066, device='cuda:0', grad_fn=<MulBackward0>), tensor(319.6549, device='cuda:0', grad_fn=<MulBackward0>), tensor(256.4494, device='cuda:0', grad_fn=<MulBackward0>), tensor(19.1247, device='cuda:0', grad_fn=<MulBackward0>), tensor(319.7908, device='cuda:0', grad_fn=<MulBackward0>), tensor(330.2393, device='cuda:0', grad_fn=<MulBackward0>), tensor(11.1102, device='cuda:0', grad_fn=<MulBackward0>), tensor(315.3856, device='cuda:0', grad_fn=<MulBackward0>), tensor(236.6034, device='cuda:0', grad_fn=<MulBackward0>)]\n",
      "epoch 233 loss=[tensor(19.5239, device='cuda:0', grad_fn=<MulBackward0>), tensor(319.8221, device='cuda:0', grad_fn=<MulBackward0>), tensor(238.5021, device='cuda:0', grad_fn=<MulBackward0>), tensor(18.0127, device='cuda:0', grad_fn=<MulBackward0>), tensor(319.6811, device='cuda:0', grad_fn=<MulBackward0>), tensor(264.5051, device='cuda:0', grad_fn=<MulBackward0>), tensor(10.8557, device='cuda:0', grad_fn=<MulBackward0>), tensor(315.4034, device='cuda:0', grad_fn=<MulBackward0>), tensor(166.2447, device='cuda:0', grad_fn=<MulBackward0>)]\n",
      "Early stopping\n",
      "FINISHED [[26.4591064453125, 0.8064515590667725, 12.426405906677246], [30.37251853942871, 0.7580645084381104, 13.241344451904297]]\n",
      "epoch 0 loss=[tensor(1539.1726, device='cuda:0', grad_fn=<MulBackward0>), tensor(692.8242, device='cuda:0', grad_fn=<MulBackward0>), tensor(13510.5303, device='cuda:0', grad_fn=<MulBackward0>), tensor(1539.2227, device='cuda:0', grad_fn=<MulBackward0>), tensor(692.5378, device='cuda:0', grad_fn=<MulBackward0>), tensor(13498.4814, device='cuda:0', grad_fn=<MulBackward0>), tensor(1536.6615, device='cuda:0', grad_fn=<MulBackward0>), tensor(692.5038, device='cuda:0', grad_fn=<MulBackward0>), tensor(13490.5488, device='cuda:0', grad_fn=<MulBackward0>)]\n",
      "New best validation epoch 0 0 loss=42.637046813964844\n",
      "New best validation epoch 0 1 loss=0.4838709533214569\n",
      "New best validation epoch 0 2 loss=12.067805290222168\n"
     ]
    },
    {
     "name": "stdout",
     "output_type": "stream",
     "text": [
      "epoch 10 loss=[tensor(1270.1833, device='cuda:0', grad_fn=<MulBackward0>), tensor(685.7547, device='cuda:0', grad_fn=<MulBackward0>), tensor(11803.5264, device='cuda:0', grad_fn=<MulBackward0>), tensor(1297.4022, device='cuda:0', grad_fn=<MulBackward0>), tensor(680.4330, device='cuda:0', grad_fn=<MulBackward0>), tensor(11632.5166, device='cuda:0', grad_fn=<MulBackward0>), tensor(1210.4982, device='cuda:0', grad_fn=<MulBackward0>), tensor(680.0398, device='cuda:0', grad_fn=<MulBackward0>), tensor(8416.5127, device='cuda:0', grad_fn=<MulBackward0>)]\n",
      "New best validation epoch 10 0 loss=38.46245193481445\n",
      "New best validation epoch 10 1 loss=0.6129032373428345\n",
      "New best validation epoch 10 2 loss=11.619773864746094\n",
      "epoch 20 loss=[tensor(1174.7860, device='cuda:0', grad_fn=<MulBackward0>), tensor(680.4213, device='cuda:0', grad_fn=<MulBackward0>), tensor(3196.0938, device='cuda:0', grad_fn=<MulBackward0>), tensor(1124.6248, device='cuda:0', grad_fn=<MulBackward0>), tensor(669.3207, device='cuda:0', grad_fn=<MulBackward0>), tensor(3271.5244, device='cuda:0', grad_fn=<MulBackward0>), tensor(1046.1003, device='cuda:0', grad_fn=<MulBackward0>), tensor(665.6515, device='cuda:0', grad_fn=<MulBackward0>), tensor(2490.2827, device='cuda:0', grad_fn=<MulBackward0>)]\n",
      "New best validation epoch 20 0 loss=35.39366912841797\n",
      "New best validation epoch 20 2 loss=10.459854125976562\n",
      "epoch 30 loss=[tensor(951.6359, device='cuda:0', grad_fn=<MulBackward0>), tensor(678.9199, device='cuda:0', grad_fn=<MulBackward0>), tensor(1387.1509, device='cuda:0', grad_fn=<MulBackward0>), tensor(756.7622, device='cuda:0', grad_fn=<MulBackward0>), tensor(666.4872, device='cuda:0', grad_fn=<MulBackward0>), tensor(1498.8458, device='cuda:0', grad_fn=<MulBackward0>), tensor(665.6425, device='cuda:0', grad_fn=<MulBackward0>), tensor(666.4070, device='cuda:0', grad_fn=<MulBackward0>), tensor(913.6986, device='cuda:0', grad_fn=<MulBackward0>)]\n",
      "New best validation epoch 30 0 loss=29.740886688232422\n",
      "epoch 40 loss=[tensor(535.5685, device='cuda:0', grad_fn=<MulBackward0>), tensor(678.3123, device='cuda:0', grad_fn=<MulBackward0>), tensor(562.0623, device='cuda:0', grad_fn=<MulBackward0>), tensor(428.8466, device='cuda:0', grad_fn=<MulBackward0>), tensor(668.0624, device='cuda:0', grad_fn=<MulBackward0>), tensor(838.7740, device='cuda:0', grad_fn=<MulBackward0>), tensor(398.1307, device='cuda:0', grad_fn=<MulBackward0>), tensor(669.3199, device='cuda:0', grad_fn=<MulBackward0>), tensor(522.8196, device='cuda:0', grad_fn=<MulBackward0>)]\n",
      "New best validation epoch 40 0 loss=23.39775848388672\n",
      "epoch 50 loss=[tensor(306.8362, device='cuda:0', grad_fn=<MulBackward0>), tensor(676.5976, device='cuda:0', grad_fn=<MulBackward0>), tensor(449.1248, device='cuda:0', grad_fn=<MulBackward0>), tensor(255.6180, device='cuda:0', grad_fn=<MulBackward0>), tensor(667.8146, device='cuda:0', grad_fn=<MulBackward0>), tensor(842.3799, device='cuda:0', grad_fn=<MulBackward0>), tensor(204.1241, device='cuda:0', grad_fn=<MulBackward0>), tensor(665.8331, device='cuda:0', grad_fn=<MulBackward0>), tensor(446.0811, device='cuda:0', grad_fn=<MulBackward0>)]\n",
      "epoch 60 loss=[tensor(201.8614, device='cuda:0', grad_fn=<MulBackward0>), tensor(675.4436, device='cuda:0', grad_fn=<MulBackward0>), tensor(307.6976, device='cuda:0', grad_fn=<MulBackward0>), tensor(163.2934, device='cuda:0', grad_fn=<MulBackward0>), tensor(661.2253, device='cuda:0', grad_fn=<MulBackward0>), tensor(346.8321, device='cuda:0', grad_fn=<MulBackward0>), tensor(127.5744, device='cuda:0', grad_fn=<MulBackward0>), tensor(662.0080, device='cuda:0', grad_fn=<MulBackward0>), tensor(174.9075, device='cuda:0', grad_fn=<MulBackward0>)]\n",
      "epoch 70 loss=[tensor(145.0969, device='cuda:0', grad_fn=<MulBackward0>), tensor(672.4224, device='cuda:0', grad_fn=<MulBackward0>), tensor(259.1355, device='cuda:0', grad_fn=<MulBackward0>), tensor(110.1508, device='cuda:0', grad_fn=<MulBackward0>), tensor(661.8339, device='cuda:0', grad_fn=<MulBackward0>), tensor(348.1148, device='cuda:0', grad_fn=<MulBackward0>), tensor(76.4760, device='cuda:0', grad_fn=<MulBackward0>), tensor(658.8610, device='cuda:0', grad_fn=<MulBackward0>), tensor(168.3019, device='cuda:0', grad_fn=<MulBackward0>)]\n",
      "epoch 80 loss=[tensor(104.0828, device='cuda:0', grad_fn=<MulBackward0>), tensor(665.6954, device='cuda:0', grad_fn=<MulBackward0>), tensor(287.5202, device='cuda:0', grad_fn=<MulBackward0>), tensor(71.8722, device='cuda:0', grad_fn=<MulBackward0>), tensor(658.7391, device='cuda:0', grad_fn=<MulBackward0>), tensor(328.2347, device='cuda:0', grad_fn=<MulBackward0>), tensor(49.7048, device='cuda:0', grad_fn=<MulBackward0>), tensor(652.8536, device='cuda:0', grad_fn=<MulBackward0>), tensor(218.2589, device='cuda:0', grad_fn=<MulBackward0>)]\n",
      "epoch 90 loss=[tensor(77.5703, device='cuda:0', grad_fn=<MulBackward0>), tensor(654.0494, device='cuda:0', grad_fn=<MulBackward0>), tensor(270.6560, device='cuda:0', grad_fn=<MulBackward0>), tensor(50.4556, device='cuda:0', grad_fn=<MulBackward0>), tensor(656.8095, device='cuda:0', grad_fn=<MulBackward0>), tensor(383.2817, device='cuda:0', grad_fn=<MulBackward0>), tensor(37.2650, device='cuda:0', grad_fn=<MulBackward0>), tensor(643.6272, device='cuda:0', grad_fn=<MulBackward0>), tensor(199.4181, device='cuda:0', grad_fn=<MulBackward0>)]\n",
      "epoch 100 loss=[tensor(54.2710, device='cuda:0', grad_fn=<MulBackward0>), tensor(627.9031, device='cuda:0', grad_fn=<MulBackward0>), tensor(254.0789, device='cuda:0', grad_fn=<MulBackward0>), tensor(41.1458, device='cuda:0', grad_fn=<MulBackward0>), tensor(648.0624, device='cuda:0', grad_fn=<MulBackward0>), tensor(289.3039, device='cuda:0', grad_fn=<MulBackward0>), tensor(23.9131, device='cuda:0', grad_fn=<MulBackward0>), tensor(608.2962, device='cuda:0', grad_fn=<MulBackward0>), tensor(152.8681, device='cuda:0', grad_fn=<MulBackward0>)]\n",
      "New best validation epoch 100 1 loss=0.6451612710952759\n",
      "epoch 110 loss=[tensor(43.2769, device='cuda:0', grad_fn=<MulBackward0>), tensor(564.9366, device='cuda:0', grad_fn=<MulBackward0>), tensor(241.6765, device='cuda:0', grad_fn=<MulBackward0>), tensor(37.9978, device='cuda:0', grad_fn=<MulBackward0>), tensor(633.6182, device='cuda:0', grad_fn=<MulBackward0>), tensor(282.7419, device='cuda:0', grad_fn=<MulBackward0>), tensor(23.7145, device='cuda:0', grad_fn=<MulBackward0>), tensor(556.3352, device='cuda:0', grad_fn=<MulBackward0>), tensor(153.6002, device='cuda:0', grad_fn=<MulBackward0>)]\n",
      "epoch 120 loss=[tensor(35.9284, device='cuda:0', grad_fn=<MulBackward0>), tensor(447.3407, device='cuda:0', grad_fn=<MulBackward0>), tensor(247.3778, device='cuda:0', grad_fn=<MulBackward0>), tensor(34.7386, device='cuda:0', grad_fn=<MulBackward0>), tensor(601.3990, device='cuda:0', grad_fn=<MulBackward0>), tensor(296.4865, device='cuda:0', grad_fn=<MulBackward0>), tensor(18.4722, device='cuda:0', grad_fn=<MulBackward0>), tensor(442.4514, device='cuda:0', grad_fn=<MulBackward0>), tensor(156.2459, device='cuda:0', grad_fn=<MulBackward0>)]\n",
      "New best validation epoch 120 0 loss=23.298078536987305\n",
      "epoch 130 loss=[tensor(31.6733, device='cuda:0', grad_fn=<MulBackward0>), tensor(375.5046, device='cuda:0', grad_fn=<MulBackward0>), tensor(412.7172, device='cuda:0', grad_fn=<MulBackward0>), tensor(31.9968, device='cuda:0', grad_fn=<MulBackward0>), tensor(537.2708, device='cuda:0', grad_fn=<MulBackward0>), tensor(466.8815, device='cuda:0', grad_fn=<MulBackward0>), tensor(17.9305, device='cuda:0', grad_fn=<MulBackward0>), tensor(374.5016, device='cuda:0', grad_fn=<MulBackward0>), tensor(314.7858, device='cuda:0', grad_fn=<MulBackward0>)]\n",
      "New best validation epoch 130 1 loss=0.7096773982048035\n",
      "epoch 140 loss=[tensor(28.9697, device='cuda:0', grad_fn=<MulBackward0>), tensor(340.8700, device='cuda:0', grad_fn=<MulBackward0>), tensor(339.1229, device='cuda:0', grad_fn=<MulBackward0>), tensor(32.4700, device='cuda:0', grad_fn=<MulBackward0>), tensor(463.5965, device='cuda:0', grad_fn=<MulBackward0>), tensor(298.9395, device='cuda:0', grad_fn=<MulBackward0>), tensor(17.1872, device='cuda:0', grad_fn=<MulBackward0>), tensor(345.0893, device='cuda:0', grad_fn=<MulBackward0>), tensor(189.9163, device='cuda:0', grad_fn=<MulBackward0>)]\n",
      "epoch 150 loss=[tensor(24.3140, device='cuda:0', grad_fn=<MulBackward0>), tensor(327.7307, device='cuda:0', grad_fn=<MulBackward0>), tensor(228.1649, device='cuda:0', grad_fn=<MulBackward0>), tensor(27.3120, device='cuda:0', grad_fn=<MulBackward0>), tensor(402.6370, device='cuda:0', grad_fn=<MulBackward0>), tensor(257.0096, device='cuda:0', grad_fn=<MulBackward0>), tensor(14.8642, device='cuda:0', grad_fn=<MulBackward0>), tensor(335.3575, device='cuda:0', grad_fn=<MulBackward0>), tensor(134.2841, device='cuda:0', grad_fn=<MulBackward0>)]\n",
      "New best validation epoch 150 0 loss=23.109046936035156\n"
     ]
    },
    {
     "name": "stdout",
     "output_type": "stream",
     "text": [
      "epoch 160 loss=[tensor(26.1159, device='cuda:0', grad_fn=<MulBackward0>), tensor(320.3771, device='cuda:0', grad_fn=<MulBackward0>), tensor(258.1133, device='cuda:0', grad_fn=<MulBackward0>), tensor(29.7496, device='cuda:0', grad_fn=<MulBackward0>), tensor(369.7171, device='cuda:0', grad_fn=<MulBackward0>), tensor(271.2059, device='cuda:0', grad_fn=<MulBackward0>), tensor(16.5860, device='cuda:0', grad_fn=<MulBackward0>), tensor(329.5739, device='cuda:0', grad_fn=<MulBackward0>), tensor(148.4373, device='cuda:0', grad_fn=<MulBackward0>)]\n",
      "New best validation epoch 160 1 loss=0.7258064150810242\n",
      "epoch 170 loss=[tensor(26.1534, device='cuda:0', grad_fn=<MulBackward0>), tensor(323.5728, device='cuda:0', grad_fn=<MulBackward0>), tensor(267.5442, device='cuda:0', grad_fn=<MulBackward0>), tensor(25.5881, device='cuda:0', grad_fn=<MulBackward0>), tensor(353.0090, device='cuda:0', grad_fn=<MulBackward0>), tensor(326.9763, device='cuda:0', grad_fn=<MulBackward0>), tensor(14.7469, device='cuda:0', grad_fn=<MulBackward0>), tensor(319.9363, device='cuda:0', grad_fn=<MulBackward0>), tensor(187.2134, device='cuda:0', grad_fn=<MulBackward0>)]\n",
      "New best validation epoch 170 0 loss=22.772552490234375\n",
      "New best validation epoch 170 1 loss=0.7580645084381104\n",
      "epoch 180 loss=[tensor(25.4065, device='cuda:0', grad_fn=<MulBackward0>), tensor(318.7384, device='cuda:0', grad_fn=<MulBackward0>), tensor(318.7719, device='cuda:0', grad_fn=<MulBackward0>), tensor(28.9363, device='cuda:0', grad_fn=<MulBackward0>), tensor(347.7246, device='cuda:0', grad_fn=<MulBackward0>), tensor(283.0881, device='cuda:0', grad_fn=<MulBackward0>), tensor(17.3279, device='cuda:0', grad_fn=<MulBackward0>), tensor(317.2816, device='cuda:0', grad_fn=<MulBackward0>), tensor(175.7867, device='cuda:0', grad_fn=<MulBackward0>)]\n",
      "epoch 181 loss=[tensor(18.4949, device='cuda:0', grad_fn=<MulBackward0>), tensor(318.5199, device='cuda:0', grad_fn=<MulBackward0>), tensor(207.6450, device='cuda:0', grad_fn=<MulBackward0>), tensor(28.6722, device='cuda:0', grad_fn=<MulBackward0>), tensor(347.5751, device='cuda:0', grad_fn=<MulBackward0>), tensor(268.3084, device='cuda:0', grad_fn=<MulBackward0>), tensor(13.3128, device='cuda:0', grad_fn=<MulBackward0>), tensor(317.4557, device='cuda:0', grad_fn=<MulBackward0>), tensor(144.4758, device='cuda:0', grad_fn=<MulBackward0>)]\n",
      "Early stopping\n",
      "FINISHED [[26.4591064453125, 0.8064515590667725, 12.426405906677246], [30.37251853942871, 0.7580645084381104, 13.241344451904297], [23.707944869995117, 0.8064515590667725, 12.197799682617188]]\n",
      "epoch 0 loss=[tensor(1517.0336, device='cuda:0', grad_fn=<MulBackward0>), tensor(689.8472, device='cuda:0', grad_fn=<MulBackward0>), tensor(12833.3008, device='cuda:0', grad_fn=<MulBackward0>), tensor(1518.5988, device='cuda:0', grad_fn=<MulBackward0>), tensor(690.1968, device='cuda:0', grad_fn=<MulBackward0>), tensor(12820.6514, device='cuda:0', grad_fn=<MulBackward0>), tensor(1515.9591, device='cuda:0', grad_fn=<MulBackward0>), tensor(690.5389, device='cuda:0', grad_fn=<MulBackward0>), tensor(12839.5967, device='cuda:0', grad_fn=<MulBackward0>)]\n",
      "New best validation epoch 0 0 loss=43.69251251220703\n",
      "New best validation epoch 0 1 loss=0.5\n",
      "New best validation epoch 0 2 loss=11.80482292175293\n",
      "epoch 10 loss=[tensor(1254.7568, device='cuda:0', grad_fn=<MulBackward0>), tensor(682.1615, device='cuda:0', grad_fn=<MulBackward0>), tensor(10184.6201, device='cuda:0', grad_fn=<MulBackward0>), tensor(1284.4119, device='cuda:0', grad_fn=<MulBackward0>), tensor(680.7952, device='cuda:0', grad_fn=<MulBackward0>), tensor(10764.2266, device='cuda:0', grad_fn=<MulBackward0>), tensor(1328.2522, device='cuda:0', grad_fn=<MulBackward0>), tensor(677.5324, device='cuda:0', grad_fn=<MulBackward0>), tensor(7286.5693, device='cuda:0', grad_fn=<MulBackward0>)]\n",
      "New best validation epoch 10 0 loss=40.62945556640625\n",
      "New best validation epoch 10 1 loss=0.6290322542190552\n",
      "epoch 20 loss=[tensor(1135.0149, device='cuda:0', grad_fn=<MulBackward0>), tensor(671.9963, device='cuda:0', grad_fn=<MulBackward0>), tensor(2229.6626, device='cuda:0', grad_fn=<MulBackward0>), tensor(1125.3232, device='cuda:0', grad_fn=<MulBackward0>), tensor(665.9402, device='cuda:0', grad_fn=<MulBackward0>), tensor(3043.6653, device='cuda:0', grad_fn=<MulBackward0>), tensor(1101.1676, device='cuda:0', grad_fn=<MulBackward0>), tensor(664.0089, device='cuda:0', grad_fn=<MulBackward0>), tensor(1989.9177, device='cuda:0', grad_fn=<MulBackward0>)]\n",
      "New best validation epoch 20 0 loss=36.77769088745117\n",
      "New best validation epoch 20 2 loss=11.418071746826172\n",
      "epoch 30 loss=[tensor(865.6161, device='cuda:0', grad_fn=<MulBackward0>), tensor(671.9475, device='cuda:0', grad_fn=<MulBackward0>), tensor(976.8958, device='cuda:0', grad_fn=<MulBackward0>), tensor(757.8900, device='cuda:0', grad_fn=<MulBackward0>), tensor(661.8406, device='cuda:0', grad_fn=<MulBackward0>), tensor(1174.6493, device='cuda:0', grad_fn=<MulBackward0>), tensor(716.0765, device='cuda:0', grad_fn=<MulBackward0>), tensor(661.5958, device='cuda:0', grad_fn=<MulBackward0>), tensor(735.0500, device='cuda:0', grad_fn=<MulBackward0>)]\n",
      "New best validation epoch 30 0 loss=29.780380249023438\n",
      "New best validation epoch 30 2 loss=11.07461929321289\n",
      "epoch 40 loss=[tensor(544.5697, device='cuda:0', grad_fn=<MulBackward0>), tensor(669.1871, device='cuda:0', grad_fn=<MulBackward0>), tensor(650.0214, device='cuda:0', grad_fn=<MulBackward0>), tensor(426.6029, device='cuda:0', grad_fn=<MulBackward0>), tensor(664.6943, device='cuda:0', grad_fn=<MulBackward0>), tensor(689.1897, device='cuda:0', grad_fn=<MulBackward0>), tensor(358.7986, device='cuda:0', grad_fn=<MulBackward0>), tensor(661.3361, device='cuda:0', grad_fn=<MulBackward0>), tensor(368.7896, device='cuda:0', grad_fn=<MulBackward0>)]\n",
      "New best validation epoch 40 0 loss=23.477649688720703\n",
      "epoch 50 loss=[tensor(277.0887, device='cuda:0', grad_fn=<MulBackward0>), tensor(665.8130, device='cuda:0', grad_fn=<MulBackward0>), tensor(467.1966, device='cuda:0', grad_fn=<MulBackward0>), tensor(239.8215, device='cuda:0', grad_fn=<MulBackward0>), tensor(663.0966, device='cuda:0', grad_fn=<MulBackward0>), tensor(465.2604, device='cuda:0', grad_fn=<MulBackward0>), tensor(176.5496, device='cuda:0', grad_fn=<MulBackward0>), tensor(658.4737, device='cuda:0', grad_fn=<MulBackward0>), tensor(254.2890, device='cuda:0', grad_fn=<MulBackward0>)]\n",
      "New best validation epoch 50 0 loss=22.975177764892578\n",
      "epoch 60 loss=[tensor(160.1251, device='cuda:0', grad_fn=<MulBackward0>), tensor(660.5093, device='cuda:0', grad_fn=<MulBackward0>), tensor(400.7742, device='cuda:0', grad_fn=<MulBackward0>), tensor(153.2361, device='cuda:0', grad_fn=<MulBackward0>), tensor(659.4269, device='cuda:0', grad_fn=<MulBackward0>), tensor(405.2567, device='cuda:0', grad_fn=<MulBackward0>), tensor(97.3634, device='cuda:0', grad_fn=<MulBackward0>), tensor(650.3719, device='cuda:0', grad_fn=<MulBackward0>), tensor(219.8725, device='cuda:0', grad_fn=<MulBackward0>)]\n",
      "New best validation epoch 60 2 loss=11.01429557800293\n",
      "epoch 70 loss=[tensor(88.5232, device='cuda:0', grad_fn=<MulBackward0>), tensor(652.5454, device='cuda:0', grad_fn=<MulBackward0>), tensor(330.7070, device='cuda:0', grad_fn=<MulBackward0>), tensor(96.1979, device='cuda:0', grad_fn=<MulBackward0>), tensor(650.9877, device='cuda:0', grad_fn=<MulBackward0>), tensor(400.3309, device='cuda:0', grad_fn=<MulBackward0>), tensor(51.7071, device='cuda:0', grad_fn=<MulBackward0>), tensor(633.1721, device='cuda:0', grad_fn=<MulBackward0>), tensor(216.7329, device='cuda:0', grad_fn=<MulBackward0>)]\n",
      "epoch 80 loss=[tensor(62.2250, device='cuda:0', grad_fn=<MulBackward0>), tensor(621.7782, device='cuda:0', grad_fn=<MulBackward0>), tensor(295.9597, device='cuda:0', grad_fn=<MulBackward0>), tensor(70.2562, device='cuda:0', grad_fn=<MulBackward0>), tensor(634.9517, device='cuda:0', grad_fn=<MulBackward0>), tensor(690.8522, device='cuda:0', grad_fn=<MulBackward0>), tensor(44.2027, device='cuda:0', grad_fn=<MulBackward0>), tensor(590.8481, device='cuda:0', grad_fn=<MulBackward0>), tensor(294.6342, device='cuda:0', grad_fn=<MulBackward0>)]\n",
      "New best validation epoch 80 2 loss=10.790589332580566\n",
      "epoch 90 loss=[tensor(51.2564, device='cuda:0', grad_fn=<MulBackward0>), tensor(567.7081, device='cuda:0', grad_fn=<MulBackward0>), tensor(295.7180, device='cuda:0', grad_fn=<MulBackward0>), tensor(47.9399, device='cuda:0', grad_fn=<MulBackward0>), tensor(587.9012, device='cuda:0', grad_fn=<MulBackward0>), tensor(401.3397, device='cuda:0', grad_fn=<MulBackward0>), tensor(28.1879, device='cuda:0', grad_fn=<MulBackward0>), tensor(496.6171, device='cuda:0', grad_fn=<MulBackward0>), tensor(203.1583, device='cuda:0', grad_fn=<MulBackward0>)]\n",
      "New best validation epoch 90 1 loss=0.6935483813285828\n",
      "epoch 100 loss=[tensor(37.8198, device='cuda:0', grad_fn=<MulBackward0>), tensor(466.7448, device='cuda:0', grad_fn=<MulBackward0>), tensor(326.6938, device='cuda:0', grad_fn=<MulBackward0>), tensor(42.9095, device='cuda:0', grad_fn=<MulBackward0>), tensor(507.3034, device='cuda:0', grad_fn=<MulBackward0>), tensor(321.8400, device='cuda:0', grad_fn=<MulBackward0>), tensor(20.7915, device='cuda:0', grad_fn=<MulBackward0>), tensor(390.6426, device='cuda:0', grad_fn=<MulBackward0>), tensor(195.2775, device='cuda:0', grad_fn=<MulBackward0>)]\n",
      "New best validation epoch 100 1 loss=0.7096773982048035\n"
     ]
    },
    {
     "name": "stdout",
     "output_type": "stream",
     "text": [
      "New best validation epoch 100 2 loss=10.780904769897461\n",
      "epoch 110 loss=[tensor(31.7550, device='cuda:0', grad_fn=<MulBackward0>), tensor(391.9206, device='cuda:0', grad_fn=<MulBackward0>), tensor(257.3258, device='cuda:0', grad_fn=<MulBackward0>), tensor(34.7933, device='cuda:0', grad_fn=<MulBackward0>), tensor(425.1209, device='cuda:0', grad_fn=<MulBackward0>), tensor(268.7862, device='cuda:0', grad_fn=<MulBackward0>), tensor(18.7375, device='cuda:0', grad_fn=<MulBackward0>), tensor(341.5187, device='cuda:0', grad_fn=<MulBackward0>), tensor(155.0080, device='cuda:0', grad_fn=<MulBackward0>)]\n",
      "New best validation epoch 110 1 loss=0.7419354915618896\n",
      "epoch 120 loss=[tensor(31.3427, device='cuda:0', grad_fn=<MulBackward0>), tensor(351.8713, device='cuda:0', grad_fn=<MulBackward0>), tensor(259.2880, device='cuda:0', grad_fn=<MulBackward0>), tensor(30.0037, device='cuda:0', grad_fn=<MulBackward0>), tensor(375.2713, device='cuda:0', grad_fn=<MulBackward0>), tensor(325.4366, device='cuda:0', grad_fn=<MulBackward0>), tensor(17.5432, device='cuda:0', grad_fn=<MulBackward0>), tensor(331.9546, device='cuda:0', grad_fn=<MulBackward0>), tensor(171.9809, device='cuda:0', grad_fn=<MulBackward0>)]\n",
      "New best validation epoch 120 1 loss=0.774193525314331\n",
      "epoch 130 loss=[tensor(25.6334, device='cuda:0', grad_fn=<MulBackward0>), tensor(337.2251, device='cuda:0', grad_fn=<MulBackward0>), tensor(259.8906, device='cuda:0', grad_fn=<MulBackward0>), tensor(25.7246, device='cuda:0', grad_fn=<MulBackward0>), tensor(347.8421, device='cuda:0', grad_fn=<MulBackward0>), tensor(279.2431, device='cuda:0', grad_fn=<MulBackward0>), tensor(15.2980, device='cuda:0', grad_fn=<MulBackward0>), tensor(327.7385, device='cuda:0', grad_fn=<MulBackward0>), tensor(128.8318, device='cuda:0', grad_fn=<MulBackward0>)]\n",
      "epoch 140 loss=[tensor(27.4341, device='cuda:0', grad_fn=<MulBackward0>), tensor(331.6773, device='cuda:0', grad_fn=<MulBackward0>), tensor(259.2809, device='cuda:0', grad_fn=<MulBackward0>), tensor(25.5971, device='cuda:0', grad_fn=<MulBackward0>), tensor(337.4015, device='cuda:0', grad_fn=<MulBackward0>), tensor(247.5352, device='cuda:0', grad_fn=<MulBackward0>), tensor(18.3687, device='cuda:0', grad_fn=<MulBackward0>), tensor(324.5813, device='cuda:0', grad_fn=<MulBackward0>), tensor(120.8962, device='cuda:0', grad_fn=<MulBackward0>)]\n",
      "New best validation epoch 140 1 loss=0.7903225421905518\n",
      "epoch 150 loss=[tensor(20.8612, device='cuda:0', grad_fn=<MulBackward0>), tensor(326.5743, device='cuda:0', grad_fn=<MulBackward0>), tensor(241.4558, device='cuda:0', grad_fn=<MulBackward0>), tensor(23.2542, device='cuda:0', grad_fn=<MulBackward0>), tensor(326.6717, device='cuda:0', grad_fn=<MulBackward0>), tensor(373.8347, device='cuda:0', grad_fn=<MulBackward0>), tensor(13.1374, device='cuda:0', grad_fn=<MulBackward0>), tensor(321.4727, device='cuda:0', grad_fn=<MulBackward0>), tensor(199.1860, device='cuda:0', grad_fn=<MulBackward0>)]\n",
      "epoch 155 loss=[tensor(19.0082, device='cuda:0', grad_fn=<MulBackward0>), tensor(326.7839, device='cuda:0', grad_fn=<MulBackward0>), tensor(280.5673, device='cuda:0', grad_fn=<MulBackward0>), tensor(24.2828, device='cuda:0', grad_fn=<MulBackward0>), tensor(324.7714, device='cuda:0', grad_fn=<MulBackward0>), tensor(278.2078, device='cuda:0', grad_fn=<MulBackward0>), tensor(12.9166, device='cuda:0', grad_fn=<MulBackward0>), tensor(321.8181, device='cuda:0', grad_fn=<MulBackward0>), tensor(154.1464, device='cuda:0', grad_fn=<MulBackward0>)]\n",
      "Early stopping\n",
      "FINISHED [[26.4591064453125, 0.8064515590667725, 12.426405906677246], [30.37251853942871, 0.7580645084381104, 13.241344451904297], [23.707944869995117, 0.8064515590667725, 12.197799682617188], [22.740089416503906, 0.7419354915618896, 15.506383895874023]]\n",
      "epoch 0 loss=[tensor(1483.4122, device='cuda:0', grad_fn=<MulBackward0>), tensor(691.5480, device='cuda:0', grad_fn=<MulBackward0>), tensor(13310.7266, device='cuda:0', grad_fn=<MulBackward0>), tensor(1485.3702, device='cuda:0', grad_fn=<MulBackward0>), tensor(691.7510, device='cuda:0', grad_fn=<MulBackward0>), tensor(13310.1504, device='cuda:0', grad_fn=<MulBackward0>), tensor(1488.7794, device='cuda:0', grad_fn=<MulBackward0>), tensor(691.4128, device='cuda:0', grad_fn=<MulBackward0>), tensor(13296.6855, device='cuda:0', grad_fn=<MulBackward0>)]\n",
      "New best validation epoch 0 0 loss=44.7349853515625\n",
      "New best validation epoch 0 1 loss=0.4677419066429138\n",
      "New best validation epoch 0 2 loss=11.583412170410156\n",
      "epoch 10 loss=[tensor(1241.9691, device='cuda:0', grad_fn=<MulBackward0>), tensor(680.7825, device='cuda:0', grad_fn=<MulBackward0>), tensor(11567.3604, device='cuda:0', grad_fn=<MulBackward0>), tensor(1225.9165, device='cuda:0', grad_fn=<MulBackward0>), tensor(680.6863, device='cuda:0', grad_fn=<MulBackward0>), tensor(11792.0547, device='cuda:0', grad_fn=<MulBackward0>), tensor(1228.9341, device='cuda:0', grad_fn=<MulBackward0>), tensor(681.8109, device='cuda:0', grad_fn=<MulBackward0>), tensor(8578.8242, device='cuda:0', grad_fn=<MulBackward0>)]\n",
      "New best validation epoch 10 0 loss=40.78199768066406\n",
      "New best validation epoch 10 1 loss=0.5483870506286621\n",
      "New best validation epoch 10 2 loss=11.49828052520752\n",
      "epoch 20 loss=[tensor(1118.7594, device='cuda:0', grad_fn=<MulBackward0>), tensor(676.3205, device='cuda:0', grad_fn=<MulBackward0>), tensor(3293.4932, device='cuda:0', grad_fn=<MulBackward0>), tensor(996.1271, device='cuda:0', grad_fn=<MulBackward0>), tensor(669.9504, device='cuda:0', grad_fn=<MulBackward0>), tensor(3199.2271, device='cuda:0', grad_fn=<MulBackward0>), tensor(959.6257, device='cuda:0', grad_fn=<MulBackward0>), tensor(669.1605, device='cuda:0', grad_fn=<MulBackward0>), tensor(1891.9247, device='cuda:0', grad_fn=<MulBackward0>)]\n",
      "New best validation epoch 20 0 loss=36.22991943359375\n",
      "New best validation epoch 20 2 loss=11.347718238830566\n",
      "epoch 30 loss=[tensor(850.0488, device='cuda:0', grad_fn=<MulBackward0>), tensor(675.4294, device='cuda:0', grad_fn=<MulBackward0>), tensor(1250.0536, device='cuda:0', grad_fn=<MulBackward0>), tensor(647.5922, device='cuda:0', grad_fn=<MulBackward0>), tensor(668.9482, device='cuda:0', grad_fn=<MulBackward0>), tensor(1393.3223, device='cuda:0', grad_fn=<MulBackward0>), tensor(528.9241, device='cuda:0', grad_fn=<MulBackward0>), tensor(668.2411, device='cuda:0', grad_fn=<MulBackward0>), tensor(919.0250, device='cuda:0', grad_fn=<MulBackward0>)]\n",
      "New best validation epoch 30 0 loss=27.091333389282227\n",
      "epoch 40 loss=[tensor(524.5815, device='cuda:0', grad_fn=<MulBackward0>), tensor(675.8030, device='cuda:0', grad_fn=<MulBackward0>), tensor(616.2614, device='cuda:0', grad_fn=<MulBackward0>), tensor(413.2131, device='cuda:0', grad_fn=<MulBackward0>), tensor(663.3138, device='cuda:0', grad_fn=<MulBackward0>), tensor(715.9974, device='cuda:0', grad_fn=<MulBackward0>), tensor(313.5970, device='cuda:0', grad_fn=<MulBackward0>), tensor(664.9355, device='cuda:0', grad_fn=<MulBackward0>), tensor(374.6330, device='cuda:0', grad_fn=<MulBackward0>)]\n",
      "New best validation epoch 40 0 loss=24.185056686401367\n",
      "epoch 50 loss=[tensor(322.6293, device='cuda:0', grad_fn=<MulBackward0>), tensor(674.2309, device='cuda:0', grad_fn=<MulBackward0>), tensor(433.1862, device='cuda:0', grad_fn=<MulBackward0>), tensor(256.9136, device='cuda:0', grad_fn=<MulBackward0>), tensor(663.4569, device='cuda:0', grad_fn=<MulBackward0>), tensor(485.5729, device='cuda:0', grad_fn=<MulBackward0>), tensor(187.9781, device='cuda:0', grad_fn=<MulBackward0>), tensor(665.3606, device='cuda:0', grad_fn=<MulBackward0>), tensor(290.7913, device='cuda:0', grad_fn=<MulBackward0>)]\n",
      "New best validation epoch 50 2 loss=11.287553787231445\n",
      "epoch 60 loss=[tensor(203.6268, device='cuda:0', grad_fn=<MulBackward0>), tensor(670.9282, device='cuda:0', grad_fn=<MulBackward0>), tensor(384.5198, device='cuda:0', grad_fn=<MulBackward0>), tensor(160.4384, device='cuda:0', grad_fn=<MulBackward0>), tensor(662.1546, device='cuda:0', grad_fn=<MulBackward0>), tensor(376.6839, device='cuda:0', grad_fn=<MulBackward0>), tensor(113.4652, device='cuda:0', grad_fn=<MulBackward0>), tensor(661.5165, device='cuda:0', grad_fn=<MulBackward0>), tensor(235.8754, device='cuda:0', grad_fn=<MulBackward0>)]\n",
      "New best validation epoch 60 2 loss=11.108570098876953\n",
      "epoch 70 loss=[tensor(125.9677, device='cuda:0', grad_fn=<MulBackward0>), tensor(669.2029, device='cuda:0', grad_fn=<MulBackward0>), tensor(335.0450, device='cuda:0', grad_fn=<MulBackward0>), tensor(101.4966, device='cuda:0', grad_fn=<MulBackward0>), tensor(656.7488, device='cuda:0', grad_fn=<MulBackward0>), tensor(440.4148, device='cuda:0', grad_fn=<MulBackward0>), tensor(71.5809, device='cuda:0', grad_fn=<MulBackward0>), tensor(657.9250, device='cuda:0', grad_fn=<MulBackward0>), tensor(265.8414, device='cuda:0', grad_fn=<MulBackward0>)]\n",
      "New best validation epoch 70 0 loss=24.11195945739746\n",
      "epoch 80 loss=[tensor(92.9593, device='cuda:0', grad_fn=<MulBackward0>), tensor(667.3588, device='cuda:0', grad_fn=<MulBackward0>), tensor(329.8207, device='cuda:0', grad_fn=<MulBackward0>), tensor(68.9370, device='cuda:0', grad_fn=<MulBackward0>), tensor(650.6938, device='cuda:0', grad_fn=<MulBackward0>), tensor(281.1105, device='cuda:0', grad_fn=<MulBackward0>), tensor(47.8083, device='cuda:0', grad_fn=<MulBackward0>), tensor(649.8860, device='cuda:0', grad_fn=<MulBackward0>), tensor(196.6086, device='cuda:0', grad_fn=<MulBackward0>)]\n"
     ]
    },
    {
     "name": "stdout",
     "output_type": "stream",
     "text": [
      "epoch 90 loss=[tensor(62.8709, device='cuda:0', grad_fn=<MulBackward0>), tensor(664.6011, device='cuda:0', grad_fn=<MulBackward0>), tensor(327.4107, device='cuda:0', grad_fn=<MulBackward0>), tensor(54.4707, device='cuda:0', grad_fn=<MulBackward0>), tensor(635.1902, device='cuda:0', grad_fn=<MulBackward0>), tensor(313.4874, device='cuda:0', grad_fn=<MulBackward0>), tensor(30.8364, device='cuda:0', grad_fn=<MulBackward0>), tensor(628.3079, device='cuda:0', grad_fn=<MulBackward0>), tensor(191.2512, device='cuda:0', grad_fn=<MulBackward0>)]\n",
      "New best validation epoch 90 1 loss=0.596774160861969\n",
      "epoch 100 loss=[tensor(45.6500, device='cuda:0', grad_fn=<MulBackward0>), tensor(653.8436, device='cuda:0', grad_fn=<MulBackward0>), tensor(353.4226, device='cuda:0', grad_fn=<MulBackward0>), tensor(43.6553, device='cuda:0', grad_fn=<MulBackward0>), tensor(612.2635, device='cuda:0', grad_fn=<MulBackward0>), tensor(315.8032, device='cuda:0', grad_fn=<MulBackward0>), tensor(22.6437, device='cuda:0', grad_fn=<MulBackward0>), tensor(605.8994, device='cuda:0', grad_fn=<MulBackward0>), tensor(132.0835, device='cuda:0', grad_fn=<MulBackward0>)]\n",
      "epoch 110 loss=[tensor(39.3144, device='cuda:0', grad_fn=<MulBackward0>), tensor(633.8749, device='cuda:0', grad_fn=<MulBackward0>), tensor(244.0161, device='cuda:0', grad_fn=<MulBackward0>), tensor(34.6391, device='cuda:0', grad_fn=<MulBackward0>), tensor(566.4346, device='cuda:0', grad_fn=<MulBackward0>), tensor(345.9512, device='cuda:0', grad_fn=<MulBackward0>), tensor(20.9599, device='cuda:0', grad_fn=<MulBackward0>), tensor(554.9916, device='cuda:0', grad_fn=<MulBackward0>), tensor(175.6192, device='cuda:0', grad_fn=<MulBackward0>)]\n",
      "New best validation epoch 110 0 loss=23.79373550415039\n",
      "epoch 120 loss=[tensor(35.1241, device='cuda:0', grad_fn=<MulBackward0>), tensor(591.5992, device='cuda:0', grad_fn=<MulBackward0>), tensor(301.6481, device='cuda:0', grad_fn=<MulBackward0>), tensor(33.4019, device='cuda:0', grad_fn=<MulBackward0>), tensor(479.7570, device='cuda:0', grad_fn=<MulBackward0>), tensor(286.1568, device='cuda:0', grad_fn=<MulBackward0>), tensor(20.3599, device='cuda:0', grad_fn=<MulBackward0>), tensor(461.7324, device='cuda:0', grad_fn=<MulBackward0>), tensor(152.6574, device='cuda:0', grad_fn=<MulBackward0>)]\n",
      "New best validation epoch 120 0 loss=23.62115478515625\n",
      "New best validation epoch 120 1 loss=0.6612902879714966\n",
      "epoch 130 loss=[tensor(31.3275, device='cuda:0', grad_fn=<MulBackward0>), tensor(511.8773, device='cuda:0', grad_fn=<MulBackward0>), tensor(268.2535, device='cuda:0', grad_fn=<MulBackward0>), tensor(26.7000, device='cuda:0', grad_fn=<MulBackward0>), tensor(386.1427, device='cuda:0', grad_fn=<MulBackward0>), tensor(239.3672, device='cuda:0', grad_fn=<MulBackward0>), tensor(14.4052, device='cuda:0', grad_fn=<MulBackward0>), tensor(377.1086, device='cuda:0', grad_fn=<MulBackward0>), tensor(129.7270, device='cuda:0', grad_fn=<MulBackward0>)]\n",
      "New best validation epoch 130 1 loss=0.7258064150810242\n",
      "epoch 140 loss=[tensor(26.0651, device='cuda:0', grad_fn=<MulBackward0>), tensor(421.2090, device='cuda:0', grad_fn=<MulBackward0>), tensor(248.8011, device='cuda:0', grad_fn=<MulBackward0>), tensor(29.7295, device='cuda:0', grad_fn=<MulBackward0>), tensor(359.4645, device='cuda:0', grad_fn=<MulBackward0>), tensor(254.2929, device='cuda:0', grad_fn=<MulBackward0>), tensor(15.6735, device='cuda:0', grad_fn=<MulBackward0>), tensor(340.0205, device='cuda:0', grad_fn=<MulBackward0>), tensor(135.8326, device='cuda:0', grad_fn=<MulBackward0>)]\n",
      "epoch 150 loss=[tensor(35.9776, device='cuda:0', grad_fn=<MulBackward0>), tensor(368.4286, device='cuda:0', grad_fn=<MulBackward0>), tensor(205.8720, device='cuda:0', grad_fn=<MulBackward0>), tensor(24.4505, device='cuda:0', grad_fn=<MulBackward0>), tensor(344.9862, device='cuda:0', grad_fn=<MulBackward0>), tensor(275.4617, device='cuda:0', grad_fn=<MulBackward0>), tensor(18.5217, device='cuda:0', grad_fn=<MulBackward0>), tensor(330.0529, device='cuda:0', grad_fn=<MulBackward0>), tensor(135.6966, device='cuda:0', grad_fn=<MulBackward0>)]\n",
      "epoch 160 loss=[tensor(28.2977, device='cuda:0', grad_fn=<MulBackward0>), tensor(340.2079, device='cuda:0', grad_fn=<MulBackward0>), tensor(333.6408, device='cuda:0', grad_fn=<MulBackward0>), tensor(22.6222, device='cuda:0', grad_fn=<MulBackward0>), tensor(339.0381, device='cuda:0', grad_fn=<MulBackward0>), tensor(242.6471, device='cuda:0', grad_fn=<MulBackward0>), tensor(14.7628, device='cuda:0', grad_fn=<MulBackward0>), tensor(321.9326, device='cuda:0', grad_fn=<MulBackward0>), tensor(187.6818, device='cuda:0', grad_fn=<MulBackward0>)]\n",
      "New best validation epoch 160 0 loss=23.266963958740234\n",
      "epoch 170 loss=[tensor(22.8837, device='cuda:0', grad_fn=<MulBackward0>), tensor(331.9747, device='cuda:0', grad_fn=<MulBackward0>), tensor(271.5850, device='cuda:0', grad_fn=<MulBackward0>), tensor(22.4014, device='cuda:0', grad_fn=<MulBackward0>), tensor(333.9644, device='cuda:0', grad_fn=<MulBackward0>), tensor(187.7486, device='cuda:0', grad_fn=<MulBackward0>), tensor(22.7905, device='cuda:0', grad_fn=<MulBackward0>), tensor(320.7549, device='cuda:0', grad_fn=<MulBackward0>), tensor(153.4780, device='cuda:0', grad_fn=<MulBackward0>)]\n",
      "epoch 177 loss=[tensor(19.8328, device='cuda:0', grad_fn=<MulBackward0>), tensor(327.3979, device='cuda:0', grad_fn=<MulBackward0>), tensor(249.9203, device='cuda:0', grad_fn=<MulBackward0>), tensor(19.3579, device='cuda:0', grad_fn=<MulBackward0>), tensor(333.5434, device='cuda:0', grad_fn=<MulBackward0>), tensor(260.9321, device='cuda:0', grad_fn=<MulBackward0>), tensor(12.3799, device='cuda:0', grad_fn=<MulBackward0>), tensor(319.6904, device='cuda:0', grad_fn=<MulBackward0>), tensor(145.4075, device='cuda:0', grad_fn=<MulBackward0>)]\n",
      "Early stopping\n",
      "FINISHED [[26.4591064453125, 0.8064515590667725, 12.426405906677246], [30.37251853942871, 0.7580645084381104, 13.241344451904297], [23.707944869995117, 0.8064515590667725, 12.197799682617188], [22.740089416503906, 0.7419354915618896, 15.506383895874023], [24.640853881835938, 0.8548386693000793, 13.8797607421875]]\n",
      "epoch 0 loss=[tensor(1509.9359, device='cuda:0', grad_fn=<MulBackward0>), tensor(691.7622, device='cuda:0', grad_fn=<MulBackward0>), tensor(13034.0273, device='cuda:0', grad_fn=<MulBackward0>), tensor(1508.6063, device='cuda:0', grad_fn=<MulBackward0>), tensor(691.5313, device='cuda:0', grad_fn=<MulBackward0>), tensor(13042.0273, device='cuda:0', grad_fn=<MulBackward0>), tensor(1508.9918, device='cuda:0', grad_fn=<MulBackward0>), tensor(692.0289, device='cuda:0', grad_fn=<MulBackward0>), tensor(13023.4404, device='cuda:0', grad_fn=<MulBackward0>)]\n",
      "New best validation epoch 0 0 loss=42.27680969238281\n",
      "New best validation epoch 0 1 loss=0.4838709533214569\n",
      "New best validation epoch 0 2 loss=12.13656997680664\n",
      "epoch 10 loss=[tensor(1266.3882, device='cuda:0', grad_fn=<MulBackward0>), tensor(685.0187, device='cuda:0', grad_fn=<MulBackward0>), tensor(11219.6582, device='cuda:0', grad_fn=<MulBackward0>), tensor(1320.2711, device='cuda:0', grad_fn=<MulBackward0>), tensor(685.1200, device='cuda:0', grad_fn=<MulBackward0>), tensor(10876.3984, device='cuda:0', grad_fn=<MulBackward0>), tensor(1324.5081, device='cuda:0', grad_fn=<MulBackward0>), tensor(677.5676, device='cuda:0', grad_fn=<MulBackward0>), tensor(8484.8096, device='cuda:0', grad_fn=<MulBackward0>)]\n",
      "New best validation epoch 10 0 loss=38.365753173828125\n",
      "New best validation epoch 10 1 loss=0.5806451439857483\n",
      "epoch 20 loss=[tensor(1120.6721, device='cuda:0', grad_fn=<MulBackward0>), tensor(676.8640, device='cuda:0', grad_fn=<MulBackward0>), tensor(2730.4451, device='cuda:0', grad_fn=<MulBackward0>), tensor(1197.1466, device='cuda:0', grad_fn=<MulBackward0>), tensor(671.0200, device='cuda:0', grad_fn=<MulBackward0>), tensor(3190.9211, device='cuda:0', grad_fn=<MulBackward0>), tensor(1073.8995, device='cuda:0', grad_fn=<MulBackward0>), tensor(672.3572, device='cuda:0', grad_fn=<MulBackward0>), tensor(2138.1960, device='cuda:0', grad_fn=<MulBackward0>)]\n",
      "New best validation epoch 20 0 loss=34.90373611450195\n",
      "New best validation epoch 20 2 loss=12.056746482849121\n",
      "epoch 30 loss=[tensor(786.0972, device='cuda:0', grad_fn=<MulBackward0>), tensor(674.2910, device='cuda:0', grad_fn=<MulBackward0>), tensor(1472.5116, device='cuda:0', grad_fn=<MulBackward0>), tensor(888.7775, device='cuda:0', grad_fn=<MulBackward0>), tensor(668.5513, device='cuda:0', grad_fn=<MulBackward0>), tensor(1452.5345, device='cuda:0', grad_fn=<MulBackward0>), tensor(652.6458, device='cuda:0', grad_fn=<MulBackward0>), tensor(667.2407, device='cuda:0', grad_fn=<MulBackward0>), tensor(1017.1192, device='cuda:0', grad_fn=<MulBackward0>)]\n",
      "New best validation epoch 30 0 loss=28.814781188964844\n",
      "New best validation epoch 30 2 loss=12.000782012939453\n",
      "epoch 40 loss=[tensor(438.7570, device='cuda:0', grad_fn=<MulBackward0>), tensor(674.6887, device='cuda:0', grad_fn=<MulBackward0>), tensor(716.5009, device='cuda:0', grad_fn=<MulBackward0>), tensor(507.4654, device='cuda:0', grad_fn=<MulBackward0>), tensor(666.3735, device='cuda:0', grad_fn=<MulBackward0>), tensor(839.5847, device='cuda:0', grad_fn=<MulBackward0>), tensor(371.9365, device='cuda:0', grad_fn=<MulBackward0>), tensor(666.4605, device='cuda:0', grad_fn=<MulBackward0>), tensor(431.0093, device='cuda:0', grad_fn=<MulBackward0>)]\n",
      "New best validation epoch 40 0 loss=22.816146850585938\n",
      "New best validation epoch 40 2 loss=11.544546127319336\n"
     ]
    },
    {
     "name": "stdout",
     "output_type": "stream",
     "text": [
      "epoch 50 loss=[tensor(260.5148, device='cuda:0', grad_fn=<MulBackward0>), tensor(676.3286, device='cuda:0', grad_fn=<MulBackward0>), tensor(421.2740, device='cuda:0', grad_fn=<MulBackward0>), tensor(316.9224, device='cuda:0', grad_fn=<MulBackward0>), tensor(664.2495, device='cuda:0', grad_fn=<MulBackward0>), tensor(471.9619, device='cuda:0', grad_fn=<MulBackward0>), tensor(206.1087, device='cuda:0', grad_fn=<MulBackward0>), tensor(666.1461, device='cuda:0', grad_fn=<MulBackward0>), tensor(304.8628, device='cuda:0', grad_fn=<MulBackward0>)]\n",
      "New best validation epoch 50 0 loss=22.092008590698242\n",
      "epoch 60 loss=[tensor(165.9139, device='cuda:0', grad_fn=<MulBackward0>), tensor(674.3843, device='cuda:0', grad_fn=<MulBackward0>), tensor(347.1661, device='cuda:0', grad_fn=<MulBackward0>), tensor(190.2077, device='cuda:0', grad_fn=<MulBackward0>), tensor(663.6176, device='cuda:0', grad_fn=<MulBackward0>), tensor(420.3121, device='cuda:0', grad_fn=<MulBackward0>), tensor(120.4583, device='cuda:0', grad_fn=<MulBackward0>), tensor(662.3181, device='cuda:0', grad_fn=<MulBackward0>), tensor(251.5099, device='cuda:0', grad_fn=<MulBackward0>)]\n",
      "epoch 70 loss=[tensor(105.4266, device='cuda:0', grad_fn=<MulBackward0>), tensor(672.6870, device='cuda:0', grad_fn=<MulBackward0>), tensor(286.9243, device='cuda:0', grad_fn=<MulBackward0>), tensor(124.2675, device='cuda:0', grad_fn=<MulBackward0>), tensor(660.2001, device='cuda:0', grad_fn=<MulBackward0>), tensor(323.7821, device='cuda:0', grad_fn=<MulBackward0>), tensor(73.2579, device='cuda:0', grad_fn=<MulBackward0>), tensor(657.6289, device='cuda:0', grad_fn=<MulBackward0>), tensor(159.2309, device='cuda:0', grad_fn=<MulBackward0>)]\n",
      "New best validation epoch 70 2 loss=11.39658260345459\n",
      "epoch 80 loss=[tensor(75.8999, device='cuda:0', grad_fn=<MulBackward0>), tensor(666.0020, device='cuda:0', grad_fn=<MulBackward0>), tensor(493.0270, device='cuda:0', grad_fn=<MulBackward0>), tensor(77.5062, device='cuda:0', grad_fn=<MulBackward0>), tensor(653.5835, device='cuda:0', grad_fn=<MulBackward0>), tensor(304.0099, device='cuda:0', grad_fn=<MulBackward0>), tensor(46.8408, device='cuda:0', grad_fn=<MulBackward0>), tensor(650.2382, device='cuda:0', grad_fn=<MulBackward0>), tensor(180.5074, device='cuda:0', grad_fn=<MulBackward0>)]\n",
      "epoch 90 loss=[tensor(59.1927, device='cuda:0', grad_fn=<MulBackward0>), tensor(653.4816, device='cuda:0', grad_fn=<MulBackward0>), tensor(321.5581, device='cuda:0', grad_fn=<MulBackward0>), tensor(54.8676, device='cuda:0', grad_fn=<MulBackward0>), tensor(637.3489, device='cuda:0', grad_fn=<MulBackward0>), tensor(420.6170, device='cuda:0', grad_fn=<MulBackward0>), tensor(39.5498, device='cuda:0', grad_fn=<MulBackward0>), tensor(621.7770, device='cuda:0', grad_fn=<MulBackward0>), tensor(235.7295, device='cuda:0', grad_fn=<MulBackward0>)]\n",
      "New best validation epoch 90 0 loss=21.993989944458008\n",
      "New best validation epoch 90 1 loss=0.6129032373428345\n",
      "epoch 100 loss=[tensor(45.8251, device='cuda:0', grad_fn=<MulBackward0>), tensor(613.3340, device='cuda:0', grad_fn=<MulBackward0>), tensor(239.7833, device='cuda:0', grad_fn=<MulBackward0>), tensor(36.9336, device='cuda:0', grad_fn=<MulBackward0>), tensor(597.7924, device='cuda:0', grad_fn=<MulBackward0>), tensor(238.8027, device='cuda:0', grad_fn=<MulBackward0>), tensor(24.3206, device='cuda:0', grad_fn=<MulBackward0>), tensor(541.6398, device='cuda:0', grad_fn=<MulBackward0>), tensor(139.9918, device='cuda:0', grad_fn=<MulBackward0>)]\n",
      "New best validation epoch 100 0 loss=21.76071548461914\n",
      "New best validation epoch 100 1 loss=0.6451612710952759\n",
      "epoch 110 loss=[tensor(40.9242, device='cuda:0', grad_fn=<MulBackward0>), tensor(523.0020, device='cuda:0', grad_fn=<MulBackward0>), tensor(230.2465, device='cuda:0', grad_fn=<MulBackward0>), tensor(29.6440, device='cuda:0', grad_fn=<MulBackward0>), tensor(500.3847, device='cuda:0', grad_fn=<MulBackward0>), tensor(313.8957, device='cuda:0', grad_fn=<MulBackward0>), tensor(21.6859, device='cuda:0', grad_fn=<MulBackward0>), tensor(419.1208, device='cuda:0', grad_fn=<MulBackward0>), tensor(122.6181, device='cuda:0', grad_fn=<MulBackward0>)]\n",
      "New best validation epoch 110 1 loss=0.6935483813285828\n",
      "epoch 120 loss=[tensor(36.8945, device='cuda:0', grad_fn=<MulBackward0>), tensor(407.3023, device='cuda:0', grad_fn=<MulBackward0>), tensor(269.0333, device='cuda:0', grad_fn=<MulBackward0>), tensor(30.2439, device='cuda:0', grad_fn=<MulBackward0>), tensor(403.4051, device='cuda:0', grad_fn=<MulBackward0>), tensor(275.1270, device='cuda:0', grad_fn=<MulBackward0>), tensor(18.4381, device='cuda:0', grad_fn=<MulBackward0>), tensor(363.3321, device='cuda:0', grad_fn=<MulBackward0>), tensor(179.7314, device='cuda:0', grad_fn=<MulBackward0>)]\n",
      "New best validation epoch 120 1 loss=0.7580645084381104\n",
      "epoch 130 loss=[tensor(32.3467, device='cuda:0', grad_fn=<MulBackward0>), tensor(355.1741, device='cuda:0', grad_fn=<MulBackward0>), tensor(233.9752, device='cuda:0', grad_fn=<MulBackward0>), tensor(25.4149, device='cuda:0', grad_fn=<MulBackward0>), tensor(348.3774, device='cuda:0', grad_fn=<MulBackward0>), tensor(261.6907, device='cuda:0', grad_fn=<MulBackward0>), tensor(16.3148, device='cuda:0', grad_fn=<MulBackward0>), tensor(331.5946, device='cuda:0', grad_fn=<MulBackward0>), tensor(120.0329, device='cuda:0', grad_fn=<MulBackward0>)]\n",
      "New best validation epoch 130 1 loss=0.774193525314331\n",
      "epoch 140 loss=[tensor(30.3036, device='cuda:0', grad_fn=<MulBackward0>), tensor(337.3904, device='cuda:0', grad_fn=<MulBackward0>), tensor(430.7639, device='cuda:0', grad_fn=<MulBackward0>), tensor(25.7283, device='cuda:0', grad_fn=<MulBackward0>), tensor(328.8884, device='cuda:0', grad_fn=<MulBackward0>), tensor(252.2214, device='cuda:0', grad_fn=<MulBackward0>), tensor(15.6230, device='cuda:0', grad_fn=<MulBackward0>), tensor(321.4862, device='cuda:0', grad_fn=<MulBackward0>), tensor(235.9251, device='cuda:0', grad_fn=<MulBackward0>)]\n",
      "epoch 150 loss=[tensor(29.4389, device='cuda:0', grad_fn=<MulBackward0>), tensor(329.0584, device='cuda:0', grad_fn=<MulBackward0>), tensor(209.0167, device='cuda:0', grad_fn=<MulBackward0>), tensor(24.0420, device='cuda:0', grad_fn=<MulBackward0>), tensor(324.4042, device='cuda:0', grad_fn=<MulBackward0>), tensor(271.7271, device='cuda:0', grad_fn=<MulBackward0>), tensor(16.7976, device='cuda:0', grad_fn=<MulBackward0>), tensor(321.0125, device='cuda:0', grad_fn=<MulBackward0>), tensor(122.2351, device='cuda:0', grad_fn=<MulBackward0>)]\n",
      "epoch 160 loss=[tensor(28.1419, device='cuda:0', grad_fn=<MulBackward0>), tensor(326.3045, device='cuda:0', grad_fn=<MulBackward0>), tensor(198.4838, device='cuda:0', grad_fn=<MulBackward0>), tensor(22.5937, device='cuda:0', grad_fn=<MulBackward0>), tensor(322.5328, device='cuda:0', grad_fn=<MulBackward0>), tensor(203.1593, device='cuda:0', grad_fn=<MulBackward0>), tensor(16.6431, device='cuda:0', grad_fn=<MulBackward0>), tensor(319.5975, device='cuda:0', grad_fn=<MulBackward0>), tensor(117.4491, device='cuda:0', grad_fn=<MulBackward0>)]\n",
      "epoch 170 loss=[tensor(24.5758, device='cuda:0', grad_fn=<MulBackward0>), tensor(324.1085, device='cuda:0', grad_fn=<MulBackward0>), tensor(259.4779, device='cuda:0', grad_fn=<MulBackward0>), tensor(31.5862, device='cuda:0', grad_fn=<MulBackward0>), tensor(321.3036, device='cuda:0', grad_fn=<MulBackward0>), tensor(259.7791, device='cuda:0', grad_fn=<MulBackward0>), tensor(18.7479, device='cuda:0', grad_fn=<MulBackward0>), tensor(319.5421, device='cuda:0', grad_fn=<MulBackward0>), tensor(171.8430, device='cuda:0', grad_fn=<MulBackward0>)]\n",
      "epoch 180 loss=[tensor(27.1896, device='cuda:0', grad_fn=<MulBackward0>), tensor(323.9088, device='cuda:0', grad_fn=<MulBackward0>), tensor(292.9130, device='cuda:0', grad_fn=<MulBackward0>), tensor(27.6954, device='cuda:0', grad_fn=<MulBackward0>), tensor(319.7320, device='cuda:0', grad_fn=<MulBackward0>), tensor(245.8725, device='cuda:0', grad_fn=<MulBackward0>), tensor(13.9548, device='cuda:0', grad_fn=<MulBackward0>), tensor(319.3503, device='cuda:0', grad_fn=<MulBackward0>), tensor(154.8127, device='cuda:0', grad_fn=<MulBackward0>)]\n",
      "epoch 183 loss=[tensor(19.5582, device='cuda:0', grad_fn=<MulBackward0>), tensor(323.1494, device='cuda:0', grad_fn=<MulBackward0>), tensor(201.3387, device='cuda:0', grad_fn=<MulBackward0>), tensor(31.6329, device='cuda:0', grad_fn=<MulBackward0>), tensor(319.6800, device='cuda:0', grad_fn=<MulBackward0>), tensor(259.8179, device='cuda:0', grad_fn=<MulBackward0>), tensor(18.4301, device='cuda:0', grad_fn=<MulBackward0>), tensor(319.3264, device='cuda:0', grad_fn=<MulBackward0>), tensor(138.4402, device='cuda:0', grad_fn=<MulBackward0>)]\n",
      "Early stopping\n",
      "FINISHED [[26.4591064453125, 0.8064515590667725, 12.426405906677246], [30.37251853942871, 0.7580645084381104, 13.241344451904297], [23.707944869995117, 0.8064515590667725, 12.197799682617188], [22.740089416503906, 0.7419354915618896, 15.506383895874023], [24.640853881835938, 0.8548386693000793, 13.8797607421875], [23.78717803955078, 0.7096773982048035, 13.847355842590332]]\n",
      "epoch 0 loss=[tensor(1497.5612, device='cuda:0', grad_fn=<MulBackward0>), tensor(689.2337, device='cuda:0', grad_fn=<MulBackward0>), tensor(12617.5020, device='cuda:0', grad_fn=<MulBackward0>), tensor(1497.3661, device='cuda:0', grad_fn=<MulBackward0>), tensor(688.6505, device='cuda:0', grad_fn=<MulBackward0>), tensor(12624.8359, device='cuda:0', grad_fn=<MulBackward0>), tensor(1497.0271, device='cuda:0', grad_fn=<MulBackward0>), tensor(689.3309, device='cuda:0', grad_fn=<MulBackward0>), tensor(12618.4395, device='cuda:0', grad_fn=<MulBackward0>)]\n",
      "New best validation epoch 0 0 loss=42.93661117553711\n",
      "New best validation epoch 0 1 loss=0.5322580337524414\n"
     ]
    },
    {
     "name": "stdout",
     "output_type": "stream",
     "text": [
      "New best validation epoch 0 2 loss=13.026070594787598\n",
      "epoch 10 loss=[tensor(1241.8069, device='cuda:0', grad_fn=<MulBackward0>), tensor(676.7086, device='cuda:0', grad_fn=<MulBackward0>), tensor(11082.2773, device='cuda:0', grad_fn=<MulBackward0>), tensor(1246.8296, device='cuda:0', grad_fn=<MulBackward0>), tensor(675.4923, device='cuda:0', grad_fn=<MulBackward0>), tensor(11443.9355, device='cuda:0', grad_fn=<MulBackward0>), tensor(1186.8843, device='cuda:0', grad_fn=<MulBackward0>), tensor(672.1816, device='cuda:0', grad_fn=<MulBackward0>), tensor(8983.2080, device='cuda:0', grad_fn=<MulBackward0>)]\n",
      "New best validation epoch 10 0 loss=37.98009490966797\n",
      "New best validation epoch 10 1 loss=0.596774160861969\n",
      "New best validation epoch 10 2 loss=12.48223876953125\n",
      "epoch 20 loss=[tensor(1050.4836, device='cuda:0', grad_fn=<MulBackward0>), tensor(674.0699, device='cuda:0', grad_fn=<MulBackward0>), tensor(2698.5889, device='cuda:0', grad_fn=<MulBackward0>), tensor(1087.3586, device='cuda:0', grad_fn=<MulBackward0>), tensor(662.8045, device='cuda:0', grad_fn=<MulBackward0>), tensor(3933.9519, device='cuda:0', grad_fn=<MulBackward0>), tensor(954.3539, device='cuda:0', grad_fn=<MulBackward0>), tensor(661.0362, device='cuda:0', grad_fn=<MulBackward0>), tensor(2318.1726, device='cuda:0', grad_fn=<MulBackward0>)]\n",
      "New best validation epoch 20 0 loss=35.295654296875\n",
      "New best validation epoch 20 2 loss=11.163199424743652\n",
      "epoch 30 loss=[tensor(738.1177, device='cuda:0', grad_fn=<MulBackward0>), tensor(669.6584, device='cuda:0', grad_fn=<MulBackward0>), tensor(1080.9943, device='cuda:0', grad_fn=<MulBackward0>), tensor(829.1591, device='cuda:0', grad_fn=<MulBackward0>), tensor(662.5242, device='cuda:0', grad_fn=<MulBackward0>), tensor(1891.8677, device='cuda:0', grad_fn=<MulBackward0>), tensor(632.0383, device='cuda:0', grad_fn=<MulBackward0>), tensor(660.9106, device='cuda:0', grad_fn=<MulBackward0>), tensor(1064.5005, device='cuda:0', grad_fn=<MulBackward0>)]\n",
      "New best validation epoch 30 0 loss=27.81062126159668\n",
      "epoch 40 loss=[tensor(427.1497, device='cuda:0', grad_fn=<MulBackward0>), tensor(668.5072, device='cuda:0', grad_fn=<MulBackward0>), tensor(577.0596, device='cuda:0', grad_fn=<MulBackward0>), tensor(493.2659, device='cuda:0', grad_fn=<MulBackward0>), tensor(664.6307, device='cuda:0', grad_fn=<MulBackward0>), tensor(837.6380, device='cuda:0', grad_fn=<MulBackward0>), tensor(350.4447, device='cuda:0', grad_fn=<MulBackward0>), tensor(662.5279, device='cuda:0', grad_fn=<MulBackward0>), tensor(417.2968, device='cuda:0', grad_fn=<MulBackward0>)]\n",
      "New best validation epoch 40 0 loss=23.059663772583008\n",
      "epoch 50 loss=[tensor(235.1387, device='cuda:0', grad_fn=<MulBackward0>), tensor(665.3494, device='cuda:0', grad_fn=<MulBackward0>), tensor(479.9676, device='cuda:0', grad_fn=<MulBackward0>), tensor(274.7790, device='cuda:0', grad_fn=<MulBackward0>), tensor(662.2936, device='cuda:0', grad_fn=<MulBackward0>), tensor(642.7374, device='cuda:0', grad_fn=<MulBackward0>), tensor(176.1743, device='cuda:0', grad_fn=<MulBackward0>), tensor(661.1630, device='cuda:0', grad_fn=<MulBackward0>), tensor(329.5207, device='cuda:0', grad_fn=<MulBackward0>)]\n",
      "epoch 60 loss=[tensor(139.3154, device='cuda:0', grad_fn=<MulBackward0>), tensor(662.0577, device='cuda:0', grad_fn=<MulBackward0>), tensor(576.9457, device='cuda:0', grad_fn=<MulBackward0>), tensor(168.1854, device='cuda:0', grad_fn=<MulBackward0>), tensor(658.9526, device='cuda:0', grad_fn=<MulBackward0>), tensor(401.4994, device='cuda:0', grad_fn=<MulBackward0>), tensor(96.1292, device='cuda:0', grad_fn=<MulBackward0>), tensor(655.6731, device='cuda:0', grad_fn=<MulBackward0>), tensor(236.7290, device='cuda:0', grad_fn=<MulBackward0>)]\n",
      "epoch 70 loss=[tensor(93.4516, device='cuda:0', grad_fn=<MulBackward0>), tensor(655.8134, device='cuda:0', grad_fn=<MulBackward0>), tensor(245.0227, device='cuda:0', grad_fn=<MulBackward0>), tensor(98.4249, device='cuda:0', grad_fn=<MulBackward0>), tensor(658.0825, device='cuda:0', grad_fn=<MulBackward0>), tensor(406.7683, device='cuda:0', grad_fn=<MulBackward0>), tensor(51.2632, device='cuda:0', grad_fn=<MulBackward0>), tensor(647.2169, device='cuda:0', grad_fn=<MulBackward0>), tensor(194.5651, device='cuda:0', grad_fn=<MulBackward0>)]\n",
      "epoch 80 loss=[tensor(65.0624, device='cuda:0', grad_fn=<MulBackward0>), tensor(639.1637, device='cuda:0', grad_fn=<MulBackward0>), tensor(261.7282, device='cuda:0', grad_fn=<MulBackward0>), tensor(66.0078, device='cuda:0', grad_fn=<MulBackward0>), tensor(659.5295, device='cuda:0', grad_fn=<MulBackward0>), tensor(380.5610, device='cuda:0', grad_fn=<MulBackward0>), tensor(32.2430, device='cuda:0', grad_fn=<MulBackward0>), tensor(634.7010, device='cuda:0', grad_fn=<MulBackward0>), tensor(151.6736, device='cuda:0', grad_fn=<MulBackward0>)]\n",
      "epoch 90 loss=[tensor(47.0711, device='cuda:0', grad_fn=<MulBackward0>), tensor(615.1322, device='cuda:0', grad_fn=<MulBackward0>), tensor(307.0334, device='cuda:0', grad_fn=<MulBackward0>), tensor(45.8072, device='cuda:0', grad_fn=<MulBackward0>), tensor(650.5569, device='cuda:0', grad_fn=<MulBackward0>), tensor(415.1686, device='cuda:0', grad_fn=<MulBackward0>), tensor(21.8534, device='cuda:0', grad_fn=<MulBackward0>), tensor(603.1596, device='cuda:0', grad_fn=<MulBackward0>), tensor(211.0577, device='cuda:0', grad_fn=<MulBackward0>)]\n",
      "New best validation epoch 90 1 loss=0.6129032373428345\n",
      "epoch 100 loss=[tensor(35.1861, device='cuda:0', grad_fn=<MulBackward0>), tensor(557.6943, device='cuda:0', grad_fn=<MulBackward0>), tensor(214.4308, device='cuda:0', grad_fn=<MulBackward0>), tensor(33.9255, device='cuda:0', grad_fn=<MulBackward0>), tensor(647.2759, device='cuda:0', grad_fn=<MulBackward0>), tensor(319.6115, device='cuda:0', grad_fn=<MulBackward0>), tensor(16.9869, device='cuda:0', grad_fn=<MulBackward0>), tensor(547.3093, device='cuda:0', grad_fn=<MulBackward0>), tensor(170.8589, device='cuda:0', grad_fn=<MulBackward0>)]\n",
      "epoch 110 loss=[tensor(33.2598, device='cuda:0', grad_fn=<MulBackward0>), tensor(469.9148, device='cuda:0', grad_fn=<MulBackward0>), tensor(417.0620, device='cuda:0', grad_fn=<MulBackward0>), tensor(32.1208, device='cuda:0', grad_fn=<MulBackward0>), tensor(639.2205, device='cuda:0', grad_fn=<MulBackward0>), tensor(355.0469, device='cuda:0', grad_fn=<MulBackward0>), tensor(18.0707, device='cuda:0', grad_fn=<MulBackward0>), tensor(455.5112, device='cuda:0', grad_fn=<MulBackward0>), tensor(270.7852, device='cuda:0', grad_fn=<MulBackward0>)]\n",
      "New best validation epoch 110 1 loss=0.6290322542190552\n",
      "epoch 120 loss=[tensor(31.4188, device='cuda:0', grad_fn=<MulBackward0>), tensor(395.3607, device='cuda:0', grad_fn=<MulBackward0>), tensor(327.3859, device='cuda:0', grad_fn=<MulBackward0>), tensor(31.5993, device='cuda:0', grad_fn=<MulBackward0>), tensor(616.2975, device='cuda:0', grad_fn=<MulBackward0>), tensor(256.2267, device='cuda:0', grad_fn=<MulBackward0>), tensor(17.7813, device='cuda:0', grad_fn=<MulBackward0>), tensor(371.7430, device='cuda:0', grad_fn=<MulBackward0>), tensor(164.3252, device='cuda:0', grad_fn=<MulBackward0>)]\n",
      "New best validation epoch 120 1 loss=0.6612902879714966\n",
      "epoch 130 loss=[tensor(31.3596, device='cuda:0', grad_fn=<MulBackward0>), tensor(351.1792, device='cuda:0', grad_fn=<MulBackward0>), tensor(242.5831, device='cuda:0', grad_fn=<MulBackward0>), tensor(34.1326, device='cuda:0', grad_fn=<MulBackward0>), tensor(572.4133, device='cuda:0', grad_fn=<MulBackward0>), tensor(300.1425, device='cuda:0', grad_fn=<MulBackward0>), tensor(20.1793, device='cuda:0', grad_fn=<MulBackward0>), tensor(333.5795, device='cuda:0', grad_fn=<MulBackward0>), tensor(158.4156, device='cuda:0', grad_fn=<MulBackward0>)]\n",
      "New best validation epoch 130 1 loss=0.7903225421905518\n",
      "epoch 140 loss=[tensor(24.0296, device='cuda:0', grad_fn=<MulBackward0>), tensor(333.3765, device='cuda:0', grad_fn=<MulBackward0>), tensor(283.1664, device='cuda:0', grad_fn=<MulBackward0>), tensor(28.5507, device='cuda:0', grad_fn=<MulBackward0>), tensor(482.4691, device='cuda:0', grad_fn=<MulBackward0>), tensor(260.1469, device='cuda:0', grad_fn=<MulBackward0>), tensor(16.6465, device='cuda:0', grad_fn=<MulBackward0>), tensor(322.2255, device='cuda:0', grad_fn=<MulBackward0>), tensor(169.9890, device='cuda:0', grad_fn=<MulBackward0>)]\n",
      "epoch 150 loss=[tensor(26.4989, device='cuda:0', grad_fn=<MulBackward0>), tensor(326.7449, device='cuda:0', grad_fn=<MulBackward0>), tensor(273.2786, device='cuda:0', grad_fn=<MulBackward0>), tensor(25.8246, device='cuda:0', grad_fn=<MulBackward0>), tensor(380.0217, device='cuda:0', grad_fn=<MulBackward0>), tensor(228.7148, device='cuda:0', grad_fn=<MulBackward0>), tensor(15.9525, device='cuda:0', grad_fn=<MulBackward0>), tensor(322.9236, device='cuda:0', grad_fn=<MulBackward0>), tensor(135.7554, device='cuda:0', grad_fn=<MulBackward0>)]\n",
      "epoch 155 loss=[tensor(19.9378, device='cuda:0', grad_fn=<MulBackward0>), tensor(325.7069, device='cuda:0', grad_fn=<MulBackward0>), tensor(272.8294, device='cuda:0', grad_fn=<MulBackward0>), tensor(24.5198, device='cuda:0', grad_fn=<MulBackward0>), tensor(349.4315, device='cuda:0', grad_fn=<MulBackward0>), tensor(267.3313, device='cuda:0', grad_fn=<MulBackward0>), tensor(14.5696, device='cuda:0', grad_fn=<MulBackward0>), tensor(319.4725, device='cuda:0', grad_fn=<MulBackward0>), tensor(162.5133, device='cuda:0', grad_fn=<MulBackward0>)]\n",
      "New best validation epoch 155 0 loss=22.999099731445312\n",
      "Early stopping\n",
      "FINISHED [[26.4591064453125, 0.8064515590667725, 12.426405906677246], [30.37251853942871, 0.7580645084381104, 13.241344451904297], [23.707944869995117, 0.8064515590667725, 12.197799682617188], [22.740089416503906, 0.7419354915618896, 15.506383895874023], [24.640853881835938, 0.8548386693000793, 13.8797607421875], [23.78717803955078, 0.7096773982048035, 13.847355842590332], [25.84549331665039, 0.7096773982048035, 16.19424057006836]]\n",
      "epoch 0 loss=[tensor(1526.0851, device='cuda:0', grad_fn=<MulBackward0>), tensor(690.4373, device='cuda:0', grad_fn=<MulBackward0>), tensor(12868.9297, device='cuda:0', grad_fn=<MulBackward0>), tensor(1531.4689, device='cuda:0', grad_fn=<MulBackward0>), tensor(690.3355, device='cuda:0', grad_fn=<MulBackward0>), tensor(12893.5811, device='cuda:0', grad_fn=<MulBackward0>), tensor(1528.8838, device='cuda:0', grad_fn=<MulBackward0>), tensor(690.9447, device='cuda:0', grad_fn=<MulBackward0>), tensor(12900.8740, device='cuda:0', grad_fn=<MulBackward0>)]\n",
      "New best validation epoch 0 0 loss=42.33802032470703\n",
      "New best validation epoch 0 1 loss=0.5\n"
     ]
    },
    {
     "name": "stdout",
     "output_type": "stream",
     "text": [
      "New best validation epoch 0 2 loss=12.014230728149414\n",
      "epoch 10 loss=[tensor(1279.0530, device='cuda:0', grad_fn=<MulBackward0>), tensor(688.4782, device='cuda:0', grad_fn=<MulBackward0>), tensor(12140.3164, device='cuda:0', grad_fn=<MulBackward0>), tensor(1274.9576, device='cuda:0', grad_fn=<MulBackward0>), tensor(683.9464, device='cuda:0', grad_fn=<MulBackward0>), tensor(11313.5010, device='cuda:0', grad_fn=<MulBackward0>), tensor(1210.9536, device='cuda:0', grad_fn=<MulBackward0>), tensor(682.4520, device='cuda:0', grad_fn=<MulBackward0>), tensor(10572.7266, device='cuda:0', grad_fn=<MulBackward0>)]\n",
      "New best validation epoch 10 0 loss=38.25052261352539\n",
      "New best validation epoch 10 1 loss=0.6290322542190552\n",
      "epoch 20 loss=[tensor(1143.4457, device='cuda:0', grad_fn=<MulBackward0>), tensor(683.8270, device='cuda:0', grad_fn=<MulBackward0>), tensor(4608.4722, device='cuda:0', grad_fn=<MulBackward0>), tensor(1124.8630, device='cuda:0', grad_fn=<MulBackward0>), tensor(667.4443, device='cuda:0', grad_fn=<MulBackward0>), tensor(3355.1621, device='cuda:0', grad_fn=<MulBackward0>), tensor(1001.0043, device='cuda:0', grad_fn=<MulBackward0>), tensor(665.9222, device='cuda:0', grad_fn=<MulBackward0>), tensor(2863.2029, device='cuda:0', grad_fn=<MulBackward0>)]\n",
      "New best validation epoch 20 0 loss=35.45138168334961\n",
      "New best validation epoch 20 2 loss=11.52020263671875\n",
      "epoch 30 loss=[tensor(972.2272, device='cuda:0', grad_fn=<MulBackward0>), tensor(675.9648, device='cuda:0', grad_fn=<MulBackward0>), tensor(1418.2318, device='cuda:0', grad_fn=<MulBackward0>), tensor(758.7546, device='cuda:0', grad_fn=<MulBackward0>), tensor(666.3848, device='cuda:0', grad_fn=<MulBackward0>), tensor(1380.9814, device='cuda:0', grad_fn=<MulBackward0>), tensor(616.9319, device='cuda:0', grad_fn=<MulBackward0>), tensor(663.1578, device='cuda:0', grad_fn=<MulBackward0>), tensor(928.5613, device='cuda:0', grad_fn=<MulBackward0>)]\n",
      "New best validation epoch 30 0 loss=29.56342887878418\n",
      "New best validation epoch 30 2 loss=11.510740280151367\n",
      "epoch 40 loss=[tensor(600.3447, device='cuda:0', grad_fn=<MulBackward0>), tensor(672.8151, device='cuda:0', grad_fn=<MulBackward0>), tensor(746.9747, device='cuda:0', grad_fn=<MulBackward0>), tensor(411.1804, device='cuda:0', grad_fn=<MulBackward0>), tensor(666.7320, device='cuda:0', grad_fn=<MulBackward0>), tensor(669.8938, device='cuda:0', grad_fn=<MulBackward0>), tensor(323.2930, device='cuda:0', grad_fn=<MulBackward0>), tensor(667.7040, device='cuda:0', grad_fn=<MulBackward0>), tensor(465.8726, device='cuda:0', grad_fn=<MulBackward0>)]\n",
      "New best validation epoch 40 0 loss=24.28468894958496\n",
      "New best validation epoch 40 2 loss=11.441214561462402\n",
      "epoch 50 loss=[tensor(323.0280, device='cuda:0', grad_fn=<MulBackward0>), tensor(671.5662, device='cuda:0', grad_fn=<MulBackward0>), tensor(406.3992, device='cuda:0', grad_fn=<MulBackward0>), tensor(238.3538, device='cuda:0', grad_fn=<MulBackward0>), tensor(665.0297, device='cuda:0', grad_fn=<MulBackward0>), tensor(439.1191, device='cuda:0', grad_fn=<MulBackward0>), tensor(188.4710, device='cuda:0', grad_fn=<MulBackward0>), tensor(662.1804, device='cuda:0', grad_fn=<MulBackward0>), tensor(239.7992, device='cuda:0', grad_fn=<MulBackward0>)]\n",
      "New best validation epoch 50 0 loss=23.77591323852539\n",
      "New best validation epoch 50 2 loss=11.247093200683594\n",
      "epoch 60 loss=[tensor(199.4130, device='cuda:0', grad_fn=<MulBackward0>), tensor(666.3597, device='cuda:0', grad_fn=<MulBackward0>), tensor(312.4838, device='cuda:0', grad_fn=<MulBackward0>), tensor(165.1554, device='cuda:0', grad_fn=<MulBackward0>), tensor(659.3768, device='cuda:0', grad_fn=<MulBackward0>), tensor(392.4676, device='cuda:0', grad_fn=<MulBackward0>), tensor(118.2539, device='cuda:0', grad_fn=<MulBackward0>), tensor(654.6187, device='cuda:0', grad_fn=<MulBackward0>), tensor(179.3253, device='cuda:0', grad_fn=<MulBackward0>)]\n",
      "New best validation epoch 60 0 loss=23.412330627441406\n",
      "epoch 70 loss=[tensor(125.0849, device='cuda:0', grad_fn=<MulBackward0>), tensor(656.9891, device='cuda:0', grad_fn=<MulBackward0>), tensor(293.0660, device='cuda:0', grad_fn=<MulBackward0>), tensor(110.9398, device='cuda:0', grad_fn=<MulBackward0>), tensor(653.8220, device='cuda:0', grad_fn=<MulBackward0>), tensor(298.9911, device='cuda:0', grad_fn=<MulBackward0>), tensor(74.9665, device='cuda:0', grad_fn=<MulBackward0>), tensor(642.4527, device='cuda:0', grad_fn=<MulBackward0>), tensor(144.3890, device='cuda:0', grad_fn=<MulBackward0>)]\n",
      "New best validation epoch 70 2 loss=11.196518898010254\n",
      "epoch 80 loss=[tensor(83.7872, device='cuda:0', grad_fn=<MulBackward0>), tensor(638.4468, device='cuda:0', grad_fn=<MulBackward0>), tensor(302.8153, device='cuda:0', grad_fn=<MulBackward0>), tensor(76.0867, device='cuda:0', grad_fn=<MulBackward0>), tensor(643.2742, device='cuda:0', grad_fn=<MulBackward0>), tensor(307.5034, device='cuda:0', grad_fn=<MulBackward0>), tensor(51.3069, device='cuda:0', grad_fn=<MulBackward0>), tensor(615.7281, device='cuda:0', grad_fn=<MulBackward0>), tensor(171.9283, device='cuda:0', grad_fn=<MulBackward0>)]\n",
      "New best validation epoch 80 0 loss=23.1066837310791\n",
      "epoch 90 loss=[tensor(58.5038, device='cuda:0', grad_fn=<MulBackward0>), tensor(598.9510, device='cuda:0', grad_fn=<MulBackward0>), tensor(274.6797, device='cuda:0', grad_fn=<MulBackward0>), tensor(61.3651, device='cuda:0', grad_fn=<MulBackward0>), tensor(618.9930, device='cuda:0', grad_fn=<MulBackward0>), tensor(426.6187, device='cuda:0', grad_fn=<MulBackward0>), tensor(39.8659, device='cuda:0', grad_fn=<MulBackward0>), tensor(555.6372, device='cuda:0', grad_fn=<MulBackward0>), tensor(216.7861, device='cuda:0', grad_fn=<MulBackward0>)]\n",
      "New best validation epoch 90 0 loss=22.58060646057129\n",
      "New best validation epoch 90 1 loss=0.6774193048477173\n",
      "epoch 100 loss=[tensor(45.7262, device='cuda:0', grad_fn=<MulBackward0>), tensor(521.5905, device='cuda:0', grad_fn=<MulBackward0>), tensor(289.9676, device='cuda:0', grad_fn=<MulBackward0>), tensor(47.7371, device='cuda:0', grad_fn=<MulBackward0>), tensor(560.6538, device='cuda:0', grad_fn=<MulBackward0>), tensor(320.0928, device='cuda:0', grad_fn=<MulBackward0>), tensor(31.2350, device='cuda:0', grad_fn=<MulBackward0>), tensor(430.6898, device='cuda:0', grad_fn=<MulBackward0>), tensor(177.1978, device='cuda:0', grad_fn=<MulBackward0>)]\n",
      "New best validation epoch 100 1 loss=0.7258064150810242\n",
      "New best validation epoch 100 2 loss=11.096443176269531\n",
      "epoch 110 loss=[tensor(37.9323, device='cuda:0', grad_fn=<MulBackward0>), tensor(420.5504, device='cuda:0', grad_fn=<MulBackward0>), tensor(325.8661, device='cuda:0', grad_fn=<MulBackward0>), tensor(41.9184, device='cuda:0', grad_fn=<MulBackward0>), tensor(467.0108, device='cuda:0', grad_fn=<MulBackward0>), tensor(320.2679, device='cuda:0', grad_fn=<MulBackward0>), tensor(24.2266, device='cuda:0', grad_fn=<MulBackward0>), tensor(361.2391, device='cuda:0', grad_fn=<MulBackward0>), tensor(222.1204, device='cuda:0', grad_fn=<MulBackward0>)]\n",
      "New best validation epoch 110 0 loss=22.27043914794922\n",
      "New best validation epoch 110 1 loss=0.7419354915618896\n",
      "epoch 120 loss=[tensor(35.9766, device='cuda:0', grad_fn=<MulBackward0>), tensor(369.1121, device='cuda:0', grad_fn=<MulBackward0>), tensor(240.6554, device='cuda:0', grad_fn=<MulBackward0>), tensor(36.3911, device='cuda:0', grad_fn=<MulBackward0>), tensor(389.9393, device='cuda:0', grad_fn=<MulBackward0>), tensor(247.8223, device='cuda:0', grad_fn=<MulBackward0>), tensor(21.8405, device='cuda:0', grad_fn=<MulBackward0>), tensor(338.6444, device='cuda:0', grad_fn=<MulBackward0>), tensor(139.9790, device='cuda:0', grad_fn=<MulBackward0>)]\n",
      "New best validation epoch 120 1 loss=0.774193525314331\n",
      "epoch 130 loss=[tensor(31.1316, device='cuda:0', grad_fn=<MulBackward0>), tensor(346.3841, device='cuda:0', grad_fn=<MulBackward0>), tensor(367.2031, device='cuda:0', grad_fn=<MulBackward0>), tensor(27.8109, device='cuda:0', grad_fn=<MulBackward0>), tensor(353.9947, device='cuda:0', grad_fn=<MulBackward0>), tensor(256.5042, device='cuda:0', grad_fn=<MulBackward0>), tensor(19.8834, device='cuda:0', grad_fn=<MulBackward0>), tensor(327.5598, device='cuda:0', grad_fn=<MulBackward0>), tensor(155.5585, device='cuda:0', grad_fn=<MulBackward0>)]\n",
      "New best validation epoch 130 2 loss=11.052483558654785\n"
     ]
    },
    {
     "name": "stdout",
     "output_type": "stream",
     "text": [
      "epoch 140 loss=[tensor(26.2716, device='cuda:0', grad_fn=<MulBackward0>), tensor(336.8103, device='cuda:0', grad_fn=<MulBackward0>), tensor(259.5620, device='cuda:0', grad_fn=<MulBackward0>), tensor(28.2827, device='cuda:0', grad_fn=<MulBackward0>), tensor(341.2893, device='cuda:0', grad_fn=<MulBackward0>), tensor(237.8406, device='cuda:0', grad_fn=<MulBackward0>), tensor(18.0283, device='cuda:0', grad_fn=<MulBackward0>), tensor(322.8012, device='cuda:0', grad_fn=<MulBackward0>), tensor(149.7528, device='cuda:0', grad_fn=<MulBackward0>)]\n",
      "epoch 150 loss=[tensor(27.3650, device='cuda:0', grad_fn=<MulBackward0>), tensor(328.0873, device='cuda:0', grad_fn=<MulBackward0>), tensor(234.4783, device='cuda:0', grad_fn=<MulBackward0>), tensor(24.5480, device='cuda:0', grad_fn=<MulBackward0>), tensor(334.0877, device='cuda:0', grad_fn=<MulBackward0>), tensor(363.0296, device='cuda:0', grad_fn=<MulBackward0>), tensor(15.7376, device='cuda:0', grad_fn=<MulBackward0>), tensor(317.9392, device='cuda:0', grad_fn=<MulBackward0>), tensor(183.0079, device='cuda:0', grad_fn=<MulBackward0>)]\n",
      "epoch 160 loss=[tensor(24.9172, device='cuda:0', grad_fn=<MulBackward0>), tensor(324.6161, device='cuda:0', grad_fn=<MulBackward0>), tensor(265.3535, device='cuda:0', grad_fn=<MulBackward0>), tensor(21.8236, device='cuda:0', grad_fn=<MulBackward0>), tensor(331.2924, device='cuda:0', grad_fn=<MulBackward0>), tensor(221.2437, device='cuda:0', grad_fn=<MulBackward0>), tensor(12.7817, device='cuda:0', grad_fn=<MulBackward0>), tensor(317.4178, device='cuda:0', grad_fn=<MulBackward0>), tensor(140.8530, device='cuda:0', grad_fn=<MulBackward0>)]\n",
      "epoch 170 loss=[tensor(25.3644, device='cuda:0', grad_fn=<MulBackward0>), tensor(321.5589, device='cuda:0', grad_fn=<MulBackward0>), tensor(250.5072, device='cuda:0', grad_fn=<MulBackward0>), tensor(21.6173, device='cuda:0', grad_fn=<MulBackward0>), tensor(329.2827, device='cuda:0', grad_fn=<MulBackward0>), tensor(232.3772, device='cuda:0', grad_fn=<MulBackward0>), tensor(12.6861, device='cuda:0', grad_fn=<MulBackward0>), tensor(317.3706, device='cuda:0', grad_fn=<MulBackward0>), tensor(140.2311, device='cuda:0', grad_fn=<MulBackward0>)]\n",
      "epoch 180 loss=[tensor(23.9871, device='cuda:0', grad_fn=<MulBackward0>), tensor(320.6304, device='cuda:0', grad_fn=<MulBackward0>), tensor(276.0353, device='cuda:0', grad_fn=<MulBackward0>), tensor(23.0855, device='cuda:0', grad_fn=<MulBackward0>), tensor(328.4222, device='cuda:0', grad_fn=<MulBackward0>), tensor(222.7222, device='cuda:0', grad_fn=<MulBackward0>), tensor(14.2499, device='cuda:0', grad_fn=<MulBackward0>), tensor(317.4237, device='cuda:0', grad_fn=<MulBackward0>), tensor(138.0312, device='cuda:0', grad_fn=<MulBackward0>)]\n",
      "epoch 190 loss=[tensor(23.0635, device='cuda:0', grad_fn=<MulBackward0>), tensor(321.9211, device='cuda:0', grad_fn=<MulBackward0>), tensor(289.2427, device='cuda:0', grad_fn=<MulBackward0>), tensor(18.2786, device='cuda:0', grad_fn=<MulBackward0>), tensor(328.1142, device='cuda:0', grad_fn=<MulBackward0>), tensor(293.5362, device='cuda:0', grad_fn=<MulBackward0>), tensor(15.9755, device='cuda:0', grad_fn=<MulBackward0>), tensor(317.3374, device='cuda:0', grad_fn=<MulBackward0>), tensor(175.5652, device='cuda:0', grad_fn=<MulBackward0>)]\n",
      "epoch 200 loss=[tensor(21.2125, device='cuda:0', grad_fn=<MulBackward0>), tensor(320.1705, device='cuda:0', grad_fn=<MulBackward0>), tensor(245.2068, device='cuda:0', grad_fn=<MulBackward0>), tensor(17.1542, device='cuda:0', grad_fn=<MulBackward0>), tensor(328.0889, device='cuda:0', grad_fn=<MulBackward0>), tensor(282.2819, device='cuda:0', grad_fn=<MulBackward0>), tensor(13.0379, device='cuda:0', grad_fn=<MulBackward0>), tensor(317.3190, device='cuda:0', grad_fn=<MulBackward0>), tensor(169.3645, device='cuda:0', grad_fn=<MulBackward0>)]\n",
      "New best validation epoch 200 0 loss=22.244047164916992\n",
      "epoch 210 loss=[tensor(20.7219, device='cuda:0', grad_fn=<MulBackward0>), tensor(320.0962, device='cuda:0', grad_fn=<MulBackward0>), tensor(222.3804, device='cuda:0', grad_fn=<MulBackward0>), tensor(19.1673, device='cuda:0', grad_fn=<MulBackward0>), tensor(327.1866, device='cuda:0', grad_fn=<MulBackward0>), tensor(342.5759, device='cuda:0', grad_fn=<MulBackward0>), tensor(15.3510, device='cuda:0', grad_fn=<MulBackward0>), tensor(317.3574, device='cuda:0', grad_fn=<MulBackward0>), tensor(148.5178, device='cuda:0', grad_fn=<MulBackward0>)]\n",
      "New best validation epoch 210 1 loss=0.7903225421905518\n",
      "epoch 218 loss=[tensor(19.7422, device='cuda:0', grad_fn=<MulBackward0>), tensor(320.0638, device='cuda:0', grad_fn=<MulBackward0>), tensor(338.0822, device='cuda:0', grad_fn=<MulBackward0>), tensor(18.0564, device='cuda:0', grad_fn=<MulBackward0>), tensor(326.8896, device='cuda:0', grad_fn=<MulBackward0>), tensor(221.3389, device='cuda:0', grad_fn=<MulBackward0>), tensor(12.9650, device='cuda:0', grad_fn=<MulBackward0>), tensor(317.3249, device='cuda:0', grad_fn=<MulBackward0>), tensor(157.1698, device='cuda:0', grad_fn=<MulBackward0>)]\n",
      "Early stopping\n",
      "FINISHED [[26.4591064453125, 0.8064515590667725, 12.426405906677246], [30.37251853942871, 0.7580645084381104, 13.241344451904297], [23.707944869995117, 0.8064515590667725, 12.197799682617188], [22.740089416503906, 0.7419354915618896, 15.506383895874023], [24.640853881835938, 0.8548386693000793, 13.8797607421875], [23.78717803955078, 0.7096773982048035, 13.847355842590332], [25.84549331665039, 0.7096773982048035, 16.19424057006836], [26.822906494140625, 0.7258064150810242, 15.266375541687012]]\n",
      "epoch 0 loss=[tensor(1553.5942, device='cuda:0', grad_fn=<MulBackward0>), tensor(691.1574, device='cuda:0', grad_fn=<MulBackward0>), tensor(12884.6416, device='cuda:0', grad_fn=<MulBackward0>), tensor(1550.9813, device='cuda:0', grad_fn=<MulBackward0>), tensor(691.8813, device='cuda:0', grad_fn=<MulBackward0>), tensor(12851.8926, device='cuda:0', grad_fn=<MulBackward0>), tensor(1550.0090, device='cuda:0', grad_fn=<MulBackward0>), tensor(691.0795, device='cuda:0', grad_fn=<MulBackward0>), tensor(12855.5879, device='cuda:0', grad_fn=<MulBackward0>)]\n",
      "New best validation epoch 0 0 loss=43.56276321411133\n",
      "New best validation epoch 0 1 loss=0.5483870506286621\n",
      "New best validation epoch 0 2 loss=11.969010353088379\n",
      "epoch 10 loss=[tensor(1300.8973, device='cuda:0', grad_fn=<MulBackward0>), tensor(681.6164, device='cuda:0', grad_fn=<MulBackward0>), tensor(11458.4033, device='cuda:0', grad_fn=<MulBackward0>), tensor(1339.7404, device='cuda:0', grad_fn=<MulBackward0>), tensor(682.2428, device='cuda:0', grad_fn=<MulBackward0>), tensor(10656.6250, device='cuda:0', grad_fn=<MulBackward0>), tensor(1358.9309, device='cuda:0', grad_fn=<MulBackward0>), tensor(677.9586, device='cuda:0', grad_fn=<MulBackward0>), tensor(7664.7812, device='cuda:0', grad_fn=<MulBackward0>)]\n",
      "New best validation epoch 10 0 loss=39.980350494384766\n",
      "New best validation epoch 10 1 loss=0.6129032373428345\n",
      "New best validation epoch 10 2 loss=11.459738731384277\n",
      "epoch 20 loss=[tensor(1223.5138, device='cuda:0', grad_fn=<MulBackward0>), tensor(677.4453, device='cuda:0', grad_fn=<MulBackward0>), tensor(2913.1836, device='cuda:0', grad_fn=<MulBackward0>), tensor(1097.1940, device='cuda:0', grad_fn=<MulBackward0>), tensor(668.0432, device='cuda:0', grad_fn=<MulBackward0>), tensor(2952.8901, device='cuda:0', grad_fn=<MulBackward0>), tensor(1135.9648, device='cuda:0', grad_fn=<MulBackward0>), tensor(666.1224, device='cuda:0', grad_fn=<MulBackward0>), tensor(2003.5076, device='cuda:0', grad_fn=<MulBackward0>)]\n",
      "New best validation epoch 20 0 loss=37.09383010864258\n",
      "New best validation epoch 20 1 loss=0.6290322542190552\n",
      "New best validation epoch 20 2 loss=10.430092811584473\n",
      "epoch 30 loss=[tensor(1015.1742, device='cuda:0', grad_fn=<MulBackward0>), tensor(676.3792, device='cuda:0', grad_fn=<MulBackward0>), tensor(1091.5546, device='cuda:0', grad_fn=<MulBackward0>), tensor(668.5905, device='cuda:0', grad_fn=<MulBackward0>), tensor(664.5095, device='cuda:0', grad_fn=<MulBackward0>), tensor(1271.5914, device='cuda:0', grad_fn=<MulBackward0>), tensor(699.0710, device='cuda:0', grad_fn=<MulBackward0>), tensor(669.1787, device='cuda:0', grad_fn=<MulBackward0>), tensor(734.6879, device='cuda:0', grad_fn=<MulBackward0>)]\n",
      "New best validation epoch 30 0 loss=29.57071304321289\n",
      "New best validation epoch 30 2 loss=10.197205543518066\n"
     ]
    },
    {
     "name": "stdout",
     "output_type": "stream",
     "text": [
      "epoch 40 loss=[tensor(634.0141, device='cuda:0', grad_fn=<MulBackward0>), tensor(671.9134, device='cuda:0', grad_fn=<MulBackward0>), tensor(568.4218, device='cuda:0', grad_fn=<MulBackward0>), tensor(382.9333, device='cuda:0', grad_fn=<MulBackward0>), tensor(668.6144, device='cuda:0', grad_fn=<MulBackward0>), tensor(669.2413, device='cuda:0', grad_fn=<MulBackward0>), tensor(397.9338, device='cuda:0', grad_fn=<MulBackward0>), tensor(665.1258, device='cuda:0', grad_fn=<MulBackward0>), tensor(466.9538, device='cuda:0', grad_fn=<MulBackward0>)]\n",
      "New best validation epoch 40 0 loss=23.490385055541992\n",
      "New best validation epoch 40 2 loss=9.898178100585938\n",
      "epoch 50 loss=[tensor(349.1287, device='cuda:0', grad_fn=<MulBackward0>), tensor(668.8375, device='cuda:0', grad_fn=<MulBackward0>), tensor(394.9568, device='cuda:0', grad_fn=<MulBackward0>), tensor(225.5902, device='cuda:0', grad_fn=<MulBackward0>), tensor(669.9502, device='cuda:0', grad_fn=<MulBackward0>), tensor(463.3947, device='cuda:0', grad_fn=<MulBackward0>), tensor(198.7431, device='cuda:0', grad_fn=<MulBackward0>), tensor(663.1343, device='cuda:0', grad_fn=<MulBackward0>), tensor(240.6886, device='cuda:0', grad_fn=<MulBackward0>)]\n",
      "epoch 60 loss=[tensor(199.1082, device='cuda:0', grad_fn=<MulBackward0>), tensor(663.3893, device='cuda:0', grad_fn=<MulBackward0>), tensor(353.5193, device='cuda:0', grad_fn=<MulBackward0>), tensor(137.8384, device='cuda:0', grad_fn=<MulBackward0>), tensor(668.9374, device='cuda:0', grad_fn=<MulBackward0>), tensor(457.1959, device='cuda:0', grad_fn=<MulBackward0>), tensor(109.8977, device='cuda:0', grad_fn=<MulBackward0>), tensor(657.6361, device='cuda:0', grad_fn=<MulBackward0>), tensor(203.8048, device='cuda:0', grad_fn=<MulBackward0>)]\n",
      "New best validation epoch 60 0 loss=23.30387306213379\n",
      "New best validation epoch 60 2 loss=9.842540740966797\n",
      "epoch 70 loss=[tensor(127.4321, device='cuda:0', grad_fn=<MulBackward0>), tensor(656.0698, device='cuda:0', grad_fn=<MulBackward0>), tensor(311.0689, device='cuda:0', grad_fn=<MulBackward0>), tensor(94.3254, device='cuda:0', grad_fn=<MulBackward0>), tensor(665.5789, device='cuda:0', grad_fn=<MulBackward0>), tensor(282.5467, device='cuda:0', grad_fn=<MulBackward0>), tensor(62.5300, device='cuda:0', grad_fn=<MulBackward0>), tensor(645.6958, device='cuda:0', grad_fn=<MulBackward0>), tensor(151.1715, device='cuda:0', grad_fn=<MulBackward0>)]\n",
      "New best validation epoch 70 0 loss=23.029043197631836\n",
      "epoch 80 loss=[tensor(81.9723, device='cuda:0', grad_fn=<MulBackward0>), tensor(635.2285, device='cuda:0', grad_fn=<MulBackward0>), tensor(276.5945, device='cuda:0', grad_fn=<MulBackward0>), tensor(59.6858, device='cuda:0', grad_fn=<MulBackward0>), tensor(664.2610, device='cuda:0', grad_fn=<MulBackward0>), tensor(366.7911, device='cuda:0', grad_fn=<MulBackward0>), tensor(39.5573, device='cuda:0', grad_fn=<MulBackward0>), tensor(623.2733, device='cuda:0', grad_fn=<MulBackward0>), tensor(172.7353, device='cuda:0', grad_fn=<MulBackward0>)]\n",
      "New best validation epoch 80 0 loss=22.855432510375977\n",
      "New best validation epoch 80 1 loss=0.6612902879714966\n",
      "epoch 90 loss=[tensor(58.3294, device='cuda:0', grad_fn=<MulBackward0>), tensor(596.3293, device='cuda:0', grad_fn=<MulBackward0>), tensor(292.0038, device='cuda:0', grad_fn=<MulBackward0>), tensor(38.6607, device='cuda:0', grad_fn=<MulBackward0>), tensor(657.1340, device='cuda:0', grad_fn=<MulBackward0>), tensor(301.3933, device='cuda:0', grad_fn=<MulBackward0>), tensor(25.7811, device='cuda:0', grad_fn=<MulBackward0>), tensor(569.8690, device='cuda:0', grad_fn=<MulBackward0>), tensor(192.9826, device='cuda:0', grad_fn=<MulBackward0>)]\n",
      "New best validation epoch 90 0 loss=22.071866989135742\n",
      "epoch 100 loss=[tensor(42.8824, device='cuda:0', grad_fn=<MulBackward0>), tensor(516.5975, device='cuda:0', grad_fn=<MulBackward0>), tensor(314.4765, device='cuda:0', grad_fn=<MulBackward0>), tensor(29.3093, device='cuda:0', grad_fn=<MulBackward0>), tensor(642.1100, device='cuda:0', grad_fn=<MulBackward0>), tensor(246.8517, device='cuda:0', grad_fn=<MulBackward0>), tensor(20.8428, device='cuda:0', grad_fn=<MulBackward0>), tensor(471.2859, device='cuda:0', grad_fn=<MulBackward0>), tensor(198.1839, device='cuda:0', grad_fn=<MulBackward0>)]\n",
      "New best validation epoch 100 0 loss=21.900775909423828\n",
      "epoch 110 loss=[tensor(35.2289, device='cuda:0', grad_fn=<MulBackward0>), tensor(413.2353, device='cuda:0', grad_fn=<MulBackward0>), tensor(285.1694, device='cuda:0', grad_fn=<MulBackward0>), tensor(24.8940, device='cuda:0', grad_fn=<MulBackward0>), tensor(612.8813, device='cuda:0', grad_fn=<MulBackward0>), tensor(211.8515, device='cuda:0', grad_fn=<MulBackward0>), tensor(17.2249, device='cuda:0', grad_fn=<MulBackward0>), tensor(383.8190, device='cuda:0', grad_fn=<MulBackward0>), tensor(125.7470, device='cuda:0', grad_fn=<MulBackward0>)]\n",
      "epoch 120 loss=[tensor(32.5825, device='cuda:0', grad_fn=<MulBackward0>), tensor(351.3975, device='cuda:0', grad_fn=<MulBackward0>), tensor(339.4337, device='cuda:0', grad_fn=<MulBackward0>), tensor(23.7175, device='cuda:0', grad_fn=<MulBackward0>), tensor(550.9971, device='cuda:0', grad_fn=<MulBackward0>), tensor(277.3503, device='cuda:0', grad_fn=<MulBackward0>), tensor(17.9108, device='cuda:0', grad_fn=<MulBackward0>), tensor(339.9655, device='cuda:0', grad_fn=<MulBackward0>), tensor(162.3167, device='cuda:0', grad_fn=<MulBackward0>)]\n",
      "New best validation epoch 120 0 loss=21.46442985534668\n",
      "epoch 130 loss=[tensor(28.9394, device='cuda:0', grad_fn=<MulBackward0>), tensor(329.3933, device='cuda:0', grad_fn=<MulBackward0>), tensor(291.0773, device='cuda:0', grad_fn=<MulBackward0>), tensor(26.3163, device='cuda:0', grad_fn=<MulBackward0>), tensor(444.1817, device='cuda:0', grad_fn=<MulBackward0>), tensor(302.9733, device='cuda:0', grad_fn=<MulBackward0>), tensor(19.4869, device='cuda:0', grad_fn=<MulBackward0>), tensor(323.8598, device='cuda:0', grad_fn=<MulBackward0>), tensor(189.6405, device='cuda:0', grad_fn=<MulBackward0>)]\n",
      "New best validation epoch 130 1 loss=0.6774193048477173\n",
      "epoch 140 loss=[tensor(27.1758, device='cuda:0', grad_fn=<MulBackward0>), tensor(322.6223, device='cuda:0', grad_fn=<MulBackward0>), tensor(250.4741, device='cuda:0', grad_fn=<MulBackward0>), tensor(24.5098, device='cuda:0', grad_fn=<MulBackward0>), tensor(357.1829, device='cuda:0', grad_fn=<MulBackward0>), tensor(246.3583, device='cuda:0', grad_fn=<MulBackward0>), tensor(15.8549, device='cuda:0', grad_fn=<MulBackward0>), tensor(315.9074, device='cuda:0', grad_fn=<MulBackward0>), tensor(114.8635, device='cuda:0', grad_fn=<MulBackward0>)]\n",
      "New best validation epoch 140 1 loss=0.7096773982048035\n",
      "epoch 150 loss=[tensor(22.5170, device='cuda:0', grad_fn=<MulBackward0>), tensor(320.1416, device='cuda:0', grad_fn=<MulBackward0>), tensor(265.5408, device='cuda:0', grad_fn=<MulBackward0>), tensor(19.4633, device='cuda:0', grad_fn=<MulBackward0>), tensor(333.2411, device='cuda:0', grad_fn=<MulBackward0>), tensor(280.7238, device='cuda:0', grad_fn=<MulBackward0>), tensor(14.5987, device='cuda:0', grad_fn=<MulBackward0>), tensor(315.4545, device='cuda:0', grad_fn=<MulBackward0>), tensor(153.4362, device='cuda:0', grad_fn=<MulBackward0>)]\n",
      "epoch 160 loss=[tensor(28.4595, device='cuda:0', grad_fn=<MulBackward0>), tensor(318.1823, device='cuda:0', grad_fn=<MulBackward0>), tensor(277.8700, device='cuda:0', grad_fn=<MulBackward0>), tensor(19.5846, device='cuda:0', grad_fn=<MulBackward0>), tensor(320.7357, device='cuda:0', grad_fn=<MulBackward0>), tensor(253.0174, device='cuda:0', grad_fn=<MulBackward0>), tensor(20.3685, device='cuda:0', grad_fn=<MulBackward0>), tensor(315.2955, device='cuda:0', grad_fn=<MulBackward0>), tensor(167.5461, device='cuda:0', grad_fn=<MulBackward0>)]\n",
      "epoch 164 loss=[tensor(19.4184, device='cuda:0', grad_fn=<MulBackward0>), tensor(318.0508, device='cuda:0', grad_fn=<MulBackward0>), tensor(256.6028, device='cuda:0', grad_fn=<MulBackward0>), tensor(17.8699, device='cuda:0', grad_fn=<MulBackward0>), tensor(319.2099, device='cuda:0', grad_fn=<MulBackward0>), tensor(241.3255, device='cuda:0', grad_fn=<MulBackward0>), tensor(12.2060, device='cuda:0', grad_fn=<MulBackward0>), tensor(315.3015, device='cuda:0', grad_fn=<MulBackward0>), tensor(193.3657, device='cuda:0', grad_fn=<MulBackward0>)]\n",
      "Early stopping\n",
      "FINISHED [[26.4591064453125, 0.8064515590667725, 12.426405906677246], [30.37251853942871, 0.7580645084381104, 13.241344451904297], [23.707944869995117, 0.8064515590667725, 12.197799682617188], [22.740089416503906, 0.7419354915618896, 15.506383895874023], [24.640853881835938, 0.8548386693000793, 13.8797607421875], [23.78717803955078, 0.7096773982048035, 13.847355842590332], [25.84549331665039, 0.7096773982048035, 16.19424057006836], [26.822906494140625, 0.7258064150810242, 15.266375541687012], [22.762495040893555, 0.7258064150810242, 14.441495895385742]]\n",
      "epoch 0 loss=[tensor(1464.0095, device='cuda:0', grad_fn=<MulBackward0>), tensor(691.8831, device='cuda:0', grad_fn=<MulBackward0>), tensor(12708.2314, device='cuda:0', grad_fn=<MulBackward0>), tensor(1462.8116, device='cuda:0', grad_fn=<MulBackward0>), tensor(691.8796, device='cuda:0', grad_fn=<MulBackward0>), tensor(12682.2559, device='cuda:0', grad_fn=<MulBackward0>), tensor(1462.0559, device='cuda:0', grad_fn=<MulBackward0>), tensor(692.8470, device='cuda:0', grad_fn=<MulBackward0>), tensor(12753.1934, device='cuda:0', grad_fn=<MulBackward0>)]\n",
      "New best validation epoch 0 0 loss=44.92290115356445\n"
     ]
    },
    {
     "name": "stdout",
     "output_type": "stream",
     "text": [
      "New best validation epoch 0 1 loss=0.5161290168762207\n",
      "New best validation epoch 0 2 loss=12.230083465576172\n",
      "epoch 10 loss=[tensor(1210.2446, device='cuda:0', grad_fn=<MulBackward0>), tensor(685.3641, device='cuda:0', grad_fn=<MulBackward0>), tensor(11656.0303, device='cuda:0', grad_fn=<MulBackward0>), tensor(1228.8386, device='cuda:0', grad_fn=<MulBackward0>), tensor(678.9679, device='cuda:0', grad_fn=<MulBackward0>), tensor(11275.2725, device='cuda:0', grad_fn=<MulBackward0>), tensor(1139.0625, device='cuda:0', grad_fn=<MulBackward0>), tensor(678.8543, device='cuda:0', grad_fn=<MulBackward0>), tensor(8878.0225, device='cuda:0', grad_fn=<MulBackward0>)]\n",
      "New best validation epoch 10 0 loss=39.5224494934082\n",
      "New best validation epoch 10 1 loss=0.6612902879714966\n",
      "New best validation epoch 10 2 loss=12.092679023742676\n",
      "epoch 20 loss=[tensor(1016.0625, device='cuda:0', grad_fn=<MulBackward0>), tensor(676.3583, device='cuda:0', grad_fn=<MulBackward0>), tensor(3964.9341, device='cuda:0', grad_fn=<MulBackward0>), tensor(996.9264, device='cuda:0', grad_fn=<MulBackward0>), tensor(665.4576, device='cuda:0', grad_fn=<MulBackward0>), tensor(3582.8218, device='cuda:0', grad_fn=<MulBackward0>), tensor(843.1407, device='cuda:0', grad_fn=<MulBackward0>), tensor(667.5778, device='cuda:0', grad_fn=<MulBackward0>), tensor(2552.9312, device='cuda:0', grad_fn=<MulBackward0>)]\n",
      "New best validation epoch 20 0 loss=33.52354049682617\n",
      "New best validation epoch 20 2 loss=11.891501426696777\n",
      "epoch 30 loss=[tensor(666.3779, device='cuda:0', grad_fn=<MulBackward0>), tensor(673.9633, device='cuda:0', grad_fn=<MulBackward0>), tensor(1609.1553, device='cuda:0', grad_fn=<MulBackward0>), tensor(619.6299, device='cuda:0', grad_fn=<MulBackward0>), tensor(660.6122, device='cuda:0', grad_fn=<MulBackward0>), tensor(1479.9576, device='cuda:0', grad_fn=<MulBackward0>), tensor(467.8557, device='cuda:0', grad_fn=<MulBackward0>), tensor(660.4223, device='cuda:0', grad_fn=<MulBackward0>), tensor(1029.4293, device='cuda:0', grad_fn=<MulBackward0>)]\n",
      "New best validation epoch 30 0 loss=26.780481338500977\n",
      "New best validation epoch 30 2 loss=11.209429740905762\n",
      "epoch 40 loss=[tensor(387.2009, device='cuda:0', grad_fn=<MulBackward0>), tensor(672.3167, device='cuda:0', grad_fn=<MulBackward0>), tensor(640.6620, device='cuda:0', grad_fn=<MulBackward0>), tensor(342.6286, device='cuda:0', grad_fn=<MulBackward0>), tensor(661.4906, device='cuda:0', grad_fn=<MulBackward0>), tensor(788.9931, device='cuda:0', grad_fn=<MulBackward0>), tensor(302.7137, device='cuda:0', grad_fn=<MulBackward0>), tensor(658.4417, device='cuda:0', grad_fn=<MulBackward0>), tensor(410.0449, device='cuda:0', grad_fn=<MulBackward0>)]\n",
      "New best validation epoch 40 0 loss=24.146238327026367\n",
      "New best validation epoch 40 2 loss=10.951024055480957\n",
      "epoch 50 loss=[tensor(238.0300, device='cuda:0', grad_fn=<MulBackward0>), tensor(667.5202, device='cuda:0', grad_fn=<MulBackward0>), tensor(384.8898, device='cuda:0', grad_fn=<MulBackward0>), tensor(186.4859, device='cuda:0', grad_fn=<MulBackward0>), tensor(656.7786, device='cuda:0', grad_fn=<MulBackward0>), tensor(510.3392, device='cuda:0', grad_fn=<MulBackward0>), tensor(146.2460, device='cuda:0', grad_fn=<MulBackward0>), tensor(652.3089, device='cuda:0', grad_fn=<MulBackward0>), tensor(251.7569, device='cuda:0', grad_fn=<MulBackward0>)]\n",
      "epoch 60 loss=[tensor(150.5540, device='cuda:0', grad_fn=<MulBackward0>), tensor(661.5748, device='cuda:0', grad_fn=<MulBackward0>), tensor(348.8307, device='cuda:0', grad_fn=<MulBackward0>), tensor(102.4111, device='cuda:0', grad_fn=<MulBackward0>), tensor(649.0897, device='cuda:0', grad_fn=<MulBackward0>), tensor(390.2555, device='cuda:0', grad_fn=<MulBackward0>), tensor(78.3705, device='cuda:0', grad_fn=<MulBackward0>), tensor(638.1831, device='cuda:0', grad_fn=<MulBackward0>), tensor(242.3850, device='cuda:0', grad_fn=<MulBackward0>)]\n",
      "epoch 70 loss=[tensor(92.5424, device='cuda:0', grad_fn=<MulBackward0>), tensor(650.8158, device='cuda:0', grad_fn=<MulBackward0>), tensor(317.8716, device='cuda:0', grad_fn=<MulBackward0>), tensor(66.9339, device='cuda:0', grad_fn=<MulBackward0>), tensor(630.9886, device='cuda:0', grad_fn=<MulBackward0>), tensor(326.2000, device='cuda:0', grad_fn=<MulBackward0>), tensor(49.9550, device='cuda:0', grad_fn=<MulBackward0>), tensor(608.6580, device='cuda:0', grad_fn=<MulBackward0>), tensor(189.6958, device='cuda:0', grad_fn=<MulBackward0>)]\n",
      "New best validation epoch 70 1 loss=0.6935483813285828\n",
      "epoch 80 loss=[tensor(61.2426, device='cuda:0', grad_fn=<MulBackward0>), tensor(622.8015, device='cuda:0', grad_fn=<MulBackward0>), tensor(234.4539, device='cuda:0', grad_fn=<MulBackward0>), tensor(56.1034, device='cuda:0', grad_fn=<MulBackward0>), tensor(592.2177, device='cuda:0', grad_fn=<MulBackward0>), tensor(257.6968, device='cuda:0', grad_fn=<MulBackward0>), tensor(33.9607, device='cuda:0', grad_fn=<MulBackward0>), tensor(547.4058, device='cuda:0', grad_fn=<MulBackward0>), tensor(131.6255, device='cuda:0', grad_fn=<MulBackward0>)]\n",
      "New best validation epoch 80 1 loss=0.7258064150810242\n",
      "epoch 90 loss=[tensor(52.2061, device='cuda:0', grad_fn=<MulBackward0>), tensor(544.0706, device='cuda:0', grad_fn=<MulBackward0>), tensor(236.9214, device='cuda:0', grad_fn=<MulBackward0>), tensor(38.4867, device='cuda:0', grad_fn=<MulBackward0>), tensor(510.7124, device='cuda:0', grad_fn=<MulBackward0>), tensor(275.9048, device='cuda:0', grad_fn=<MulBackward0>), tensor(23.1700, device='cuda:0', grad_fn=<MulBackward0>), tensor(442.2072, device='cuda:0', grad_fn=<MulBackward0>), tensor(153.8921, device='cuda:0', grad_fn=<MulBackward0>)]\n",
      "New best validation epoch 90 1 loss=0.7419354915618896\n",
      "epoch 100 loss=[tensor(41.5703, device='cuda:0', grad_fn=<MulBackward0>), tensor(435.4004, device='cuda:0', grad_fn=<MulBackward0>), tensor(334.2709, device='cuda:0', grad_fn=<MulBackward0>), tensor(37.2847, device='cuda:0', grad_fn=<MulBackward0>), tensor(407.3376, device='cuda:0', grad_fn=<MulBackward0>), tensor(244.6209, device='cuda:0', grad_fn=<MulBackward0>), tensor(22.2444, device='cuda:0', grad_fn=<MulBackward0>), tensor(353.0146, device='cuda:0', grad_fn=<MulBackward0>), tensor(187.3485, device='cuda:0', grad_fn=<MulBackward0>)]\n",
      "epoch 110 loss=[tensor(37.4667, device='cuda:0', grad_fn=<MulBackward0>), tensor(365.2845, device='cuda:0', grad_fn=<MulBackward0>), tensor(288.2204, device='cuda:0', grad_fn=<MulBackward0>), tensor(37.9676, device='cuda:0', grad_fn=<MulBackward0>), tensor(356.4959, device='cuda:0', grad_fn=<MulBackward0>), tensor(248.6905, device='cuda:0', grad_fn=<MulBackward0>), tensor(20.4411, device='cuda:0', grad_fn=<MulBackward0>), tensor(328.5643, device='cuda:0', grad_fn=<MulBackward0>), tensor(166.8767, device='cuda:0', grad_fn=<MulBackward0>)]\n",
      "New best validation epoch 110 1 loss=0.774193525314331\n",
      "epoch 120 loss=[tensor(29.9094, device='cuda:0', grad_fn=<MulBackward0>), tensor(336.9794, device='cuda:0', grad_fn=<MulBackward0>), tensor(230.6613, device='cuda:0', grad_fn=<MulBackward0>), tensor(28.1552, device='cuda:0', grad_fn=<MulBackward0>), tensor(335.6110, device='cuda:0', grad_fn=<MulBackward0>), tensor(297.9032, device='cuda:0', grad_fn=<MulBackward0>), tensor(18.4031, device='cuda:0', grad_fn=<MulBackward0>), tensor(317.6690, device='cuda:0', grad_fn=<MulBackward0>), tensor(153.3613, device='cuda:0', grad_fn=<MulBackward0>)]\n",
      "New best validation epoch 120 1 loss=0.8064515590667725\n",
      "epoch 130 loss=[tensor(27.6091, device='cuda:0', grad_fn=<MulBackward0>), tensor(328.6910, device='cuda:0', grad_fn=<MulBackward0>), tensor(241.0681, device='cuda:0', grad_fn=<MulBackward0>), tensor(24.1356, device='cuda:0', grad_fn=<MulBackward0>), tensor(324.9308, device='cuda:0', grad_fn=<MulBackward0>), tensor(349.4465, device='cuda:0', grad_fn=<MulBackward0>), tensor(15.6493, device='cuda:0', grad_fn=<MulBackward0>), tensor(315.6186, device='cuda:0', grad_fn=<MulBackward0>), tensor(210.0183, device='cuda:0', grad_fn=<MulBackward0>)]\n",
      "epoch 140 loss=[tensor(26.0211, device='cuda:0', grad_fn=<MulBackward0>), tensor(324.0312, device='cuda:0', grad_fn=<MulBackward0>), tensor(231.7303, device='cuda:0', grad_fn=<MulBackward0>), tensor(20.2584, device='cuda:0', grad_fn=<MulBackward0>), tensor(322.5166, device='cuda:0', grad_fn=<MulBackward0>), tensor(308.2899, device='cuda:0', grad_fn=<MulBackward0>), tensor(13.3984, device='cuda:0', grad_fn=<MulBackward0>), tensor(315.3951, device='cuda:0', grad_fn=<MulBackward0>), tensor(175.6399, device='cuda:0', grad_fn=<MulBackward0>)]\n",
      "epoch 143 loss=[tensor(19.8404, device='cuda:0', grad_fn=<MulBackward0>), tensor(323.9625, device='cuda:0', grad_fn=<MulBackward0>), tensor(367.2231, device='cuda:0', grad_fn=<MulBackward0>), tensor(20.4175, device='cuda:0', grad_fn=<MulBackward0>), tensor(322.1360, device='cuda:0', grad_fn=<MulBackward0>), tensor(212.9387, device='cuda:0', grad_fn=<MulBackward0>), tensor(13.0314, device='cuda:0', grad_fn=<MulBackward0>), tensor(315.3678, device='cuda:0', grad_fn=<MulBackward0>), tensor(199.2284, device='cuda:0', grad_fn=<MulBackward0>)]\n",
      "Early stopping\n"
     ]
    },
    {
     "name": "stdout",
     "output_type": "stream",
     "text": [
      "FINISHED [[26.4591064453125, 0.8064515590667725, 12.426405906677246], [30.37251853942871, 0.7580645084381104, 13.241344451904297], [23.707944869995117, 0.8064515590667725, 12.197799682617188], [22.740089416503906, 0.7419354915618896, 15.506383895874023], [24.640853881835938, 0.8548386693000793, 13.8797607421875], [23.78717803955078, 0.7096773982048035, 13.847355842590332], [25.84549331665039, 0.7096773982048035, 16.19424057006836], [26.822906494140625, 0.7258064150810242, 15.266375541687012], [22.762495040893555, 0.7258064150810242, 14.441495895385742], [27.554515838623047, 0.6935483813285828, 16.046104431152344]]\n"
     ]
    }
   ],
   "source": [
    "import torch.nn as nn\n",
    "import torch.nn.functional as F\n",
    "import time\n",
    "\n",
    "ceLoss = torch.nn.CrossEntropyLoss()\n",
    "mseLoss = torch.nn.MSELoss()\n",
    "\n",
    "rmse = []\n",
    "\n",
    "def allBelowThresh(losses, thresh):\n",
    "    for loss,thr in zip(losses, thresh):\n",
    "        if loss > thr:\n",
    "            return False\n",
    "    return True\n",
    "\n",
    "def flatten(res):\n",
    "    flat = [r for re in res for r in re]\n",
    "    return flat\n",
    "\n",
    "def mask(e):\n",
    "    return e - torch.diag(torch.diag(e.detach()))\n",
    "\n",
    "def arith(n):\n",
    "    return int(n*(n+1)/2)\n",
    "\n",
    "def getAvg(res):\n",
    "    nPara = len(res)\n",
    "    nTasks = len(res[0])\n",
    "    avg = []\n",
    "    for task in range(nTasks):\n",
    "        avg.append(0)\n",
    "        for para in range(nPara):\n",
    "            avg[-1] += res[para][task]/nPara\n",
    "    return avg\n",
    "\n",
    "class LatSim(nn.Module):\n",
    "    def __init__(self, nTasks, inp, dp=0.5, edp=0.1, wInit=1e-4, dimA=10, dimB=2, temp=1):\n",
    "        super(LatSim, self).__init__()\n",
    "        self.nTasks = nTasks\n",
    "        self.A = nn.Parameter(wInit*torch.randn(2,inp.shape[-1],dimA).float().cuda())\n",
    "        self.B = nn.Parameter(wInit*torch.randn(2+arith(2),nTasks,dimA,dimB).float().cuda())\n",
    "        self.dp = nn.Dropout(p=dp)\n",
    "        self.edp = nn.Dropout(p=edp)\n",
    "        self.t = temp if isinstance(temp, list) else nTasks*[temp]\n",
    "    \n",
    "    def getLatent(self, x, para):\n",
    "        return x[:,para]@self.A[para]\n",
    "    \n",
    "    def getEdges(self, A, para, task):\n",
    "        e = 1e-10\n",
    "        z = A@self.B[para, task]\n",
    "        e = e+z@z.T\n",
    "        return e\n",
    "        \n",
    "    def forward(self, x, ys, testIdcs=None):\n",
    "        assert self.B.shape[1] == len(ys), \"business end targets dim not same as passed\"\n",
    "        x = self.dp(x)\n",
    "        res = []\n",
    "        As = []\n",
    "        es = []\n",
    "        for para in range(2):\n",
    "            A = self.getLatent(x, para)\n",
    "            As.append(F.relu(A))\n",
    "        As.append(As[0]+As[1])\n",
    "        for para,A in enumerate(As):\n",
    "            res.append([])\n",
    "            for task,y in enumerate(ys):\n",
    "                e = self.getEdges(A, para, task)\n",
    "                if testIdcs is not None:\n",
    "                    e[:,testIdcs] = 0\n",
    "                e = mask(e)\n",
    "                e = self.edp(e)\n",
    "                e[e == 0] = float('-inf')\n",
    "                e = F.softmax(e/self.t[task], dim=1)\n",
    "                res[-1].append(e@y)\n",
    "        return res, As, es\n",
    "\n",
    "def validate(model, X, ys, testIdcs):\n",
    "    model.eval()\n",
    "    losses = []\n",
    "    with torch.no_grad():\n",
    "        res, _, _ = model(X, ys, testIdcs)\n",
    "        # for r,y in zip(res, ys):\n",
    "        for r,y in zip(getAvg(res), ys):\n",
    "            if y.dim() == 1:\n",
    "                loss = mseLoss(r[testIdcs], y[testIdcs]).cpu().numpy()**0.5\n",
    "                losses.append(loss)\n",
    "            else:\n",
    "                corr = (torch.argmax(r, dim=1) == torch.argmax(y, dim=1))[testIdcs]\n",
    "                loss = torch.sum(corr)/len(testIdcs)\n",
    "                losses.append(loss)\n",
    "    model.train()\n",
    "    return losses\n",
    "\n",
    "nEpochs = 400\n",
    "pPeriod = 10\n",
    "thresh = [20] #[20,0.3,10]\n",
    "regParam = [1,1e3,50]\n",
    "\n",
    "for grp in range(10):\n",
    "    trainIdcs = groups[grp][0][0:496]\n",
    "    trainValidIdcs = groups[grp][0]\n",
    "    validIdcs = np.arange(496,len(trainValidIdcs))\n",
    "    testIdcs = groups[grp][1]\n",
    "\n",
    "    X0 = nback_p_t\n",
    "    X1 = emoid_p_t\n",
    "\n",
    "    X = torch.stack([X0, X1], dim=1)\n",
    "    Xt = X[trainIdcs]\n",
    "    Xtv = X[trainValidIdcs]\n",
    "\n",
    "    yy = [age_t, gen_t, wrt_t]\n",
    "    yt = [age_t[trainIdcs], gen_t[trainIdcs], wrt_t[trainIdcs]]\n",
    "    ytv = [age_t[trainValidIdcs], gen_t[trainValidIdcs], wrt_t[trainValidIdcs]]\n",
    "\n",
    "    nTasks = len(yy)\n",
    "\n",
    "    sim = LatSim(nTasks, X, dp=0.5, edp=0.1, wInit=1e-4, dimA=40, dimB=2, temp=[1,1,1])\n",
    "    optim = torch.optim.Adam(sim.parameters(), lr=5e-4, weight_decay=5e-4)\n",
    "\n",
    "    validLoss = [[] for _ in range(nTasks)]\n",
    "\n",
    "    for epoch in range(nEpochs):\n",
    "        optim.zero_grad()\n",
    "        res, _, _ = sim(Xt, yt)\n",
    "        loss = []\n",
    "        for i,(r,y) in enumerate(zip(flatten(res)+getAvg(res), (X.shape[1]+1)*yt)):\n",
    "            if y.dim() > 1:\n",
    "                loss.append(regParam[i%nTasks]*ceLoss(r, y))\n",
    "            else:\n",
    "                loss.append(regParam[i%nTasks]*mseLoss(r, y))\n",
    "        sum(loss).backward()\n",
    "        optim.step()\n",
    "        if epoch % pPeriod == 0 or epoch == nEpochs-1 or allBelowThresh(loss[0:nTasks], thresh):\n",
    "            print(f'epoch {epoch} loss={loss}')\n",
    "            losses = validate(sim, Xtv, ytv, validIdcs)\n",
    "            for i,lss in enumerate(losses):\n",
    "                if (len(validLoss[i]) == 0 or \n",
    "                        (yy[i].dim() == 1 and lss < min(validLoss[i])) or \n",
    "                        (yy[i].dim() > 1 and lss > max(validLoss[i]))):\n",
    "                    print(f'New best validation epoch {epoch} {i} loss={lss}')\n",
    "                    torch.save(sim.state_dict(), f'../../Work/LatentSim/sim{i}.pyt')\n",
    "                    validLoss[i].append(float(lss))\n",
    "            if allBelowThresh(loss[0:nTasks], thresh):\n",
    "                print('Early stopping')\n",
    "                break\n",
    "\n",
    "    finalLoss = []\n",
    "\n",
    "    for i in range(nTasks):\n",
    "        sim.load_state_dict(torch.load(f'../../Work/LatentSim/sim{i}.pyt'))\n",
    "        loss = validate(sim, X, yy, testIdcs)\n",
    "        finalLoss.append(float(loss[i]))\n",
    "\n",
    "    rmse.append(finalLoss)\n",
    "\n",
    "    print(f'FINISHED {rmse}')"
   ]
  },
  {
   "cell_type": "code",
   "execution_count": 117,
   "id": "8802c193",
   "metadata": {},
   "outputs": [
    {
     "name": "stdout",
     "output_type": "stream",
     "text": [
      "2.1224425156911213\n",
      "0.7532257795333862\n",
      "14.304726696014404\n"
     ]
    }
   ],
   "source": [
    "print(sum([f[0] for f in rmse])/10/12)\n",
    "print(sum([f[1] for f in rmse])/10)\n",
    "print(sum([f[2] for f in rmse])/10)\n"
   ]
  },
  {
   "cell_type": "code",
   "execution_count": 67,
   "id": "c9c353d9",
   "metadata": {},
   "outputs": [
    {
     "data": {
      "text/plain": [
       "tensor([[-0.0090,  0.0096],\n",
       "        [ 0.0108, -0.0113],\n",
       "        [-0.0087,  0.0093],\n",
       "        [ 0.0123, -0.0122],\n",
       "        [-0.0069,  0.0074],\n",
       "        [-0.0030,  0.0037],\n",
       "        [-0.0131,  0.0132],\n",
       "        [ 0.0115, -0.0128],\n",
       "        [-0.0063,  0.0067],\n",
       "        [ 0.0071, -0.0075]], device='cuda:0', grad_fn=<SelectBackward0>)"
      ]
     },
     "execution_count": 67,
     "metadata": {},
     "output_type": "execute_result"
    }
   ],
   "source": [
    "sim.B[0,2]"
   ]
  },
  {
   "cell_type": "code",
   "execution_count": 69,
   "id": "a8c3681a",
   "metadata": {},
   "outputs": [
    {
     "data": {
      "image/png": "[encoded data removed]",
      "text/plain": [
       "<Figure size 432x288 with 1 Axes>"
      ]
     },
     "metadata": {
      "needs_background": "light"
     },
     "output_type": "display_data"
    }
   ],
   "source": [
    "import matplotlib.pyplot as plt\n",
    "\n",
    "plt.plot(torch.mean(torch.abs(sim.A[1].detach().cpu()), dim=1))\n",
    "plt.show()"
   ]
  },
  {
   "cell_type": "code",
   "execution_count": null,
   "id": "8b546815",
   "metadata": {},
   "outputs": [],
   "source": []
  }
 ],
 "metadata": {
  "kernelspec": {
   "display_name": "torch",
   "language": "python",
   "name": "torch"
  },
  "language_info": {
   "codemirror_mode": {
    "name": "ipython",
    "version": 3
   },
   "file_extension": ".py",
   "mimetype": "text/x-python",
   "name": "python",
   "nbconvert_exporter": "python",
   "pygments_lexer": "ipython3",
   "version": "3.7.12"
  }
 },
 "nbformat": 4,
 "nbformat_minor": 5
}
