{
 "cells": [
  {
   "cell_type": "code",
   "execution_count": 1,
   "id": "c18ac784",
   "metadata": {},
   "outputs": [
    {
     "name": "stdout",
     "output_type": "stream",
     "text": [
      "Complete\n"
     ]
    }
   ],
   "source": [
    "import pickle\n",
    "\n",
    "with open('../../PNC_Good/MegaMeta3.pkl', 'rb') as f: \n",
    "    meta = pickle.load(f)\n",
    "    \n",
    "print('Complete')"
   ]
  },
  {
   "cell_type": "code",
   "execution_count": 2,
   "id": "db1e5abc",
   "metadata": {},
   "outputs": [
    {
     "name": "stdout",
     "output_type": "stream",
     "text": [
      "620\n",
      "620\n",
      "Complete\n"
     ]
    }
   ],
   "source": [
    "with open('../../Work/LatentSim/Splits.pkl', 'rb') as f:\n",
    "    keys, groups = pickle.load(f)\n",
    "    \n",
    "print(len(keys))\n",
    "print(len(groups[0][0])+len(groups[0][1]))\n",
    "print('Complete')"
   ]
  },
  {
   "cell_type": "code",
   "execution_count": 3,
   "id": "3559a699",
   "metadata": {},
   "outputs": [
    {
     "name": "stdout",
     "output_type": "stream",
     "text": [
      "(620, 264, 231)\n",
      "(620, 264, 210)\n"
     ]
    }
   ],
   "source": [
    "import numpy as np\n",
    "\n",
    "nback = np.stack([meta[key]['nback'] for key in keys])\n",
    "emoid = np.stack([meta[key]['emoid'] for key in keys])\n",
    "\n",
    "print(nback.shape)\n",
    "print(emoid.shape)"
   ]
  },
  {
   "cell_type": "code",
   "execution_count": 5,
   "id": "d42ebe4a",
   "metadata": {},
   "outputs": [
    {
     "name": "stdout",
     "output_type": "stream",
     "text": [
      "(620, 264, 264)\n"
     ]
    }
   ],
   "source": [
    "from nilearn.connectome import ConnectivityMeasure\n",
    "\n",
    "def getFC(timeSeries, kind='correlation', transpose=True):\n",
    "    connMeasure = ConnectivityMeasure(kind=kind)\n",
    "    if transpose:\n",
    "        timeSeries = np.transpose(timeSeries, axes=(0,2,1))\n",
    "    return connMeasure.fit_transform(timeSeries)\n",
    "\n",
    "nback_p = getFC(nback)\n",
    "emoid_p = getFC(emoid)\n",
    "\n",
    "print(nback_p.shape)"
   ]
  },
  {
   "cell_type": "code",
   "execution_count": 6,
   "id": "6a8e1e4d",
   "metadata": {},
   "outputs": [
    {
     "name": "stdout",
     "output_type": "stream",
     "text": [
      "torch.Size([620, 34716])\n",
      "torch.Size([620, 34716])\n",
      "Complete\n"
     ]
    }
   ],
   "source": [
    "import torch\n",
    "\n",
    "def convertTorch(p):\n",
    "    t = torch.from_numpy(p).float()\n",
    "    u = []\n",
    "    for i in range(t.shape[0]):\n",
    "        u.append(t[i][torch.triu_indices(264,264,offset=1).unbind()])\n",
    "    return torch.stack(u).cuda()\n",
    "\n",
    "nback_p_t = convertTorch(nback_p)\n",
    "emoid_p_t = convertTorch(emoid_p)\n",
    "\n",
    "print(nback_p_t.shape)\n",
    "print(emoid_p_t.shape)\n",
    "print('Complete')"
   ]
  },
  {
   "cell_type": "code",
   "execution_count": 7,
   "id": "84762ae8",
   "metadata": {},
   "outputs": [
    {
     "name": "stdout",
     "output_type": "stream",
     "text": [
      "torch.return_types.min(\n",
      "values=tensor([-2.2998, -3.0133], device='cuda:0'),\n",
      "indices=tensor([603, 350], device='cuda:0'))\n",
      "torch.return_types.min(\n",
      "values=tensor([-2.7284, -3.0616], device='cuda:0'),\n",
      "indices=tensor([351,  33], device='cuda:0'))\n"
     ]
    }
   ],
   "source": [
    "mu_nback = torch.mean(nback_p_t, dim=0, keepdim=True)\n",
    "mu_emoid = torch.mean(emoid_p_t, dim=0, keepdim=True)\n",
    "std_nback = torch.std(nback_p_t, dim=0, keepdim=True)\n",
    "std_emoid = torch.std(emoid_p_t, dim=0, keepdim=True)\n",
    "\n",
    "nback_p_t = (nback_p_t - mu_nback)/std_nback\n",
    "emoid_p_t = (emoid_p_t - mu_emoid)/std_emoid\n",
    "\n",
    "print(torch.min(nback_p_t[:,420:422],dim=0))\n",
    "print(torch.min(emoid_p_t[:,420:422],dim=0))"
   ]
  },
  {
   "cell_type": "code",
   "execution_count": 8,
   "id": "01fb1f2a",
   "metadata": {},
   "outputs": [
    {
     "name": "stdout",
     "output_type": "stream",
     "text": [
      "(620,)\n",
      "(620, 2)\n",
      "(620,)\n",
      "Complete\n"
     ]
    }
   ],
   "source": [
    "age = np.stack([meta[key]['AgeInMonths'] for key in keys])\n",
    "gen = np.stack([np.array([meta[key]['Gender'] == 'M', meta[key]['Gender'] == 'F']) for key in keys]).astype(int)\n",
    "wrt = np.stack([meta[key]['wratStd'] for key in keys])\n",
    "\n",
    "print(age.shape)\n",
    "print(gen.shape)\n",
    "print(wrt.shape)\n",
    "\n",
    "age_t = torch.from_numpy(age).float().cuda()\n",
    "gen_t = torch.from_numpy(gen).float().cuda()\n",
    "wrt_t = torch.from_numpy(wrt).float().cuda()\n",
    "\n",
    "print('Complete')"
   ]
  },
  {
   "cell_type": "code",
   "execution_count": 169,
   "id": "814b9f66",
   "metadata": {},
   "outputs": [
    {
     "name": "stdout",
     "output_type": "stream",
     "text": [
      "epoch 0 loss=[tensor(36035.7188, device='cuda:0', grad_fn=<MulBackward0>)]\n",
      "New best validation epoch 0 0 loss=44.584468841552734\n",
      "New best validation epoch 0 1 loss=0.5\n",
      "New best validation epoch 0 2 loss=12.045498847961426\n",
      "epoch 50 loss=[tensor(8513.8438, device='cuda:0', grad_fn=<MulBackward0>)]\n",
      "New best validation epoch 50 0 loss=44.581443786621094\n",
      "New best validation epoch 50 2 loss=12.04539680480957\n",
      "epoch 100 loss=[tensor(3319.6555, device='cuda:0', grad_fn=<MulBackward0>)]\n",
      "New best validation epoch 100 0 loss=44.42740249633789\n",
      "New best validation epoch 100 2 loss=12.044530868530273\n",
      "epoch 150 loss=[tensor(3936.7937, device='cuda:0', grad_fn=<MulBackward0>)]\n",
      "New best validation epoch 150 0 loss=38.46692657470703\n",
      "New best validation epoch 150 1 loss=0.5806451439857483\n",
      "New best validation epoch 150 2 loss=12.028901100158691\n",
      "epoch 200 loss=[tensor(6253.4331, device='cuda:0', grad_fn=<MulBackward0>)]\n",
      "New best validation epoch 200 0 loss=31.86172866821289\n",
      "New best validation epoch 200 1 loss=0.596774160861969\n",
      "New best validation epoch 200 2 loss=12.00594711303711\n",
      "epoch 250 loss=[tensor(7505.6963, device='cuda:0', grad_fn=<MulBackward0>)]\n",
      "New best validation epoch 250 0 loss=23.866004943847656\n",
      "New best validation epoch 250 1 loss=0.6129032373428345\n",
      "New best validation epoch 250 2 loss=11.514467239379883\n",
      "epoch 300 loss=[tensor(6310.3247, device='cuda:0', grad_fn=<MulBackward0>)]\n",
      "New best validation epoch 300 0 loss=23.124906539916992\n",
      "New best validation epoch 300 2 loss=11.214375495910645\n",
      "epoch 350 loss=[tensor(5751.1372, device='cuda:0', grad_fn=<MulBackward0>)]\n",
      "New best validation epoch 350 0 loss=22.911914825439453\n",
      "epoch 400 loss=[tensor(5341.6118, device='cuda:0', grad_fn=<MulBackward0>)]\n",
      "New best validation epoch 400 0 loss=22.355878829956055\n",
      "New best validation epoch 400 1 loss=0.6451612710952759\n",
      "New best validation epoch 400 2 loss=11.163887977600098\n",
      "epoch 450 loss=[tensor(5058.5171, device='cuda:0', grad_fn=<MulBackward0>)]\n",
      "New best validation epoch 450 1 loss=0.6774193048477173\n",
      "epoch 500 loss=[tensor(4823.9961, device='cuda:0', grad_fn=<MulBackward0>)]\n",
      "New best validation epoch 500 1 loss=0.7419354915618896\n",
      "New best validation epoch 500 2 loss=11.128655433654785\n",
      "epoch 550 loss=[tensor(4623.6616, device='cuda:0', grad_fn=<MulBackward0>)]\n",
      "epoch 600 loss=[tensor(4411.8213, device='cuda:0', grad_fn=<MulBackward0>)]\n",
      "epoch 650 loss=[tensor(4248.7417, device='cuda:0', grad_fn=<MulBackward0>)]\n",
      "epoch 700 loss=[tensor(4124.8486, device='cuda:0', grad_fn=<MulBackward0>)]\n",
      "New best validation epoch 700 2 loss=11.057621955871582\n",
      "epoch 750 loss=[tensor(4005.7305, device='cuda:0', grad_fn=<MulBackward0>)]\n",
      "epoch 800 loss=[tensor(3857.6101, device='cuda:0', grad_fn=<MulBackward0>)]\n",
      "epoch 850 loss=[tensor(3742.6235, device='cuda:0', grad_fn=<MulBackward0>)]\n",
      "epoch 900 loss=[tensor(3638.1353, device='cuda:0', grad_fn=<MulBackward0>)]\n",
      "epoch 950 loss=[tensor(3544.4470, device='cuda:0', grad_fn=<MulBackward0>)]\n",
      "New best validation epoch 950 1 loss=0.7580645084381104\n",
      "epoch 1000 loss=[tensor(3426.7915, device='cuda:0', grad_fn=<MulBackward0>)]\n",
      "epoch 1050 loss=[tensor(3331.7507, device='cuda:0', grad_fn=<MulBackward0>)]\n",
      "epoch 1100 loss=[tensor(3261.2102, device='cuda:0', grad_fn=<MulBackward0>)]\n",
      "epoch 1150 loss=[tensor(3176.8806, device='cuda:0', grad_fn=<MulBackward0>)]\n",
      "epoch 1200 loss=[tensor(3121.9692, device='cuda:0', grad_fn=<MulBackward0>)]\n",
      "epoch 1250 loss=[tensor(3038.1655, device='cuda:0', grad_fn=<MulBackward0>)]\n",
      "epoch 1300 loss=[tensor(2969.2361, device='cuda:0', grad_fn=<MulBackward0>)]\n",
      "epoch 1350 loss=[tensor(2908.6067, device='cuda:0', grad_fn=<MulBackward0>)]\n",
      "epoch 1400 loss=[tensor(2863.4861, device='cuda:0', grad_fn=<MulBackward0>)]\n",
      "New best validation epoch 1400 1 loss=0.774193525314331\n",
      "epoch 1450 loss=[tensor(2810.6611, device='cuda:0', grad_fn=<MulBackward0>)]\n",
      "epoch 1499 loss=[tensor(2755.2202, device='cuda:0', grad_fn=<MulBackward0>)]\n",
      "FINISHED [[26.51004981994629, 0.8548386693000793, 12.747949600219727]]\n"
     ]
    }
   ],
   "source": [
    "import torch.nn as nn\n",
    "import torch.nn.functional as F\n",
    "import time\n",
    "\n",
    "ceLoss = torch.nn.CrossEntropyLoss()\n",
    "mseLoss = torch.nn.MSELoss()\n",
    "\n",
    "rmse = []\n",
    "Ass = []\n",
    "\n",
    "def allBelowThresh(losses, thresh):\n",
    "    for loss,thr in zip(losses, thresh):\n",
    "        if loss > thr:\n",
    "            return False\n",
    "    return True\n",
    "\n",
    "def flatten(res):\n",
    "    flat = [r for re in res for r in re]\n",
    "    return flat\n",
    "\n",
    "def mask(e):\n",
    "    return e - torch.diag(torch.diag(e.detach()))\n",
    "\n",
    "def arith(n):\n",
    "    return int(n*(n+1)/2)\n",
    "\n",
    "def getAvg(res):\n",
    "    nPara = len(res)\n",
    "    nTasks = len(res[0])\n",
    "    avg = []\n",
    "    for task in range(nTasks):\n",
    "        avg.append(0)\n",
    "        for para in range(nPara):\n",
    "            avg[-1] += res[para][task]/nPara\n",
    "    return avg\n",
    "\n",
    "class LatSim(nn.Module):\n",
    "    def __init__(self, nTasks, inp, dp=0.5, edp=0.1, wInit=1e-4, dimA=10, dimB=2, temp=1):\n",
    "        super(LatSim, self).__init__()\n",
    "        self.nTasks = nTasks\n",
    "        self.A = nn.Parameter(wInit*torch.randn(2,inp.shape[-1],dimA).float().cuda())\n",
    "        self.B = nn.Parameter(wInit*torch.randn(2,nTasks,dimA,dimB).float().cuda())\n",
    "        self.dp = nn.Dropout(p=dp)\n",
    "        self.edp = nn.Dropout(p=edp)\n",
    "        self.t = temp if isinstance(temp, list) else nTasks*[temp]\n",
    "    \n",
    "    def getLatent(self, x, para):\n",
    "        return x[:,para]@self.A[para]\n",
    "    \n",
    "    def getEdges(self, A, para, task):\n",
    "        e = 1e-10\n",
    "        z = A@self.B[para, task]\n",
    "        e = e+z@z.T\n",
    "        return e\n",
    "        \n",
    "    def forward(self, x, ys, testIdcs=None):\n",
    "        assert self.B.shape[1] == len(ys), \"business end targets dim not same as passed\"\n",
    "        x = self.dp(x)\n",
    "        res = []\n",
    "        As = []\n",
    "        es = []\n",
    "        for para in range(2):\n",
    "            A = self.getLatent(x, para)\n",
    "            As.append(F.relu(A))\n",
    "        for para,A in enumerate(As):\n",
    "            res.append([])\n",
    "            for task,y in enumerate(ys):\n",
    "                e = self.getEdges(A, para, task)\n",
    "                if testIdcs is not None:\n",
    "                    e[:,testIdcs] = 0\n",
    "                e = mask(e)\n",
    "                e = self.edp(e)\n",
    "                e[e == 0] = float('-inf')\n",
    "                e = F.softmax(e/self.t[task], dim=1)\n",
    "                res[-1].append(e@y)\n",
    "        return res, As, es\n",
    "\n",
    "def validate(model, X, ys, testIdcs):\n",
    "    model.eval()\n",
    "    losses = []\n",
    "    with torch.no_grad():\n",
    "        res, _, _ = model(X, ys, testIdcs)\n",
    "        # for r,y in zip(res, ys):\n",
    "        for r,y in zip(getAvg(res), ys):\n",
    "            if y.dim() == 1:\n",
    "                loss = mseLoss(r[testIdcs], y[testIdcs]).cpu().numpy()**0.5\n",
    "                losses.append(loss)\n",
    "            else:\n",
    "                corr = (torch.argmax(r, dim=1) == torch.argmax(y, dim=1))[testIdcs]\n",
    "                loss = torch.sum(corr)/len(testIdcs)\n",
    "                losses.append(loss)\n",
    "    model.train()\n",
    "    return losses\n",
    "\n",
    "def getAs(model, X, ys):\n",
    "    model.eval()\n",
    "    As = None\n",
    "    with torch.no_grad():\n",
    "        _, As, _ = model(X, ys)\n",
    "    model.train()\n",
    "    return As\n",
    "\n",
    "def binLoss(w):\n",
    "    mag = torch.abs(w)\n",
    "    maxMag = torch.max(mag, keepdim=True, dim=1).values\n",
    "    p = mag/maxMag\n",
    "    return -torch.sum(p*torch.log(p+1e-10))\n",
    "\n",
    "nEpochs = 1500\n",
    "pPeriod = 50\n",
    "thresh = [20,0.3,10]\n",
    "regParam = [1,1e3,20]\n",
    "binParam = 1e-1\n",
    "\n",
    "for grp in range(1):\n",
    "    trainIdcs = groups[grp][0][0:496]\n",
    "    trainValidIdcs = groups[grp][0]\n",
    "    validIdcs = np.arange(496,len(trainValidIdcs))\n",
    "    testIdcs = groups[grp][1]\n",
    "\n",
    "    X0 = nback_p_t\n",
    "    X1 = emoid_p_t\n",
    "\n",
    "    X = torch.stack([X0, X1], dim=1)\n",
    "    Xt = X[trainIdcs]\n",
    "    Xtv = X[trainValidIdcs]\n",
    "\n",
    "    yy = [age_t, gen_t, wrt_t]\n",
    "    yt = [age_t[trainIdcs], gen_t[trainIdcs], wrt_t[trainIdcs]]\n",
    "    ytv = [age_t[trainValidIdcs], gen_t[trainValidIdcs], wrt_t[trainValidIdcs]]\n",
    "\n",
    "    nTasks = len(yy)\n",
    "\n",
    "    sim = LatSim(nTasks, X, dp=0.5, edp=0.1, wInit=1e-4, dimA=20, dimB=2, temp=[1,1,1])\n",
    "    optim = torch.optim.Adam(sim.parameters(), lr=2e-4, weight_decay=2e-4)\n",
    "\n",
    "    validLoss = [[] for _ in range(nTasks)]\n",
    "\n",
    "    for epoch in range(nEpochs):\n",
    "        optim.zero_grad()\n",
    "        res, As, _ = sim(Xt, yt)\n",
    "        loss = []\n",
    "        for i,(r,y) in enumerate(zip(flatten(res)+getAvg(res), (X.shape[1]+1)*yt)):\n",
    "            if y.dim() > 1:\n",
    "                loss.append(regParam[i%nTasks]*ceLoss(r, y))\n",
    "            else:\n",
    "                loss.append(regParam[i%nTasks]*mseLoss(r, y))\n",
    "        bloss = [binParam*binLoss(sim.A)]\n",
    "        loss += bloss\n",
    "        sum(loss).backward()\n",
    "        optim.step()\n",
    "        if epoch % pPeriod == 0 or epoch == nEpochs-1 or allBelowThresh(loss[0:nTasks], thresh):\n",
    "            print(f'epoch {epoch} loss={bloss}')\n",
    "            losses = validate(sim, Xtv, ytv, validIdcs)\n",
    "            for i,lss in enumerate(losses):\n",
    "                if (len(validLoss[i]) == 0 or \n",
    "                        (yy[i].dim() == 1 and lss < min(validLoss[i])) or \n",
    "                        (yy[i].dim() > 1 and lss > max(validLoss[i]))):\n",
    "                    print(f'New best validation epoch {epoch} {i} loss={lss}')\n",
    "                    torch.save(sim.state_dict(), f'../../Work/LatentSim/sim{i}.pyt')\n",
    "                    validLoss[i].append(float(lss))\n",
    "            if allBelowThresh(loss[0:nTasks], thresh):\n",
    "                print('Early stopping')\n",
    "                break\n",
    "\n",
    "    finalLoss = []\n",
    "\n",
    "    for i in range(nTasks):\n",
    "        sim.load_state_dict(torch.load(f'../../Work/LatentSim/sim{i}.pyt'))\n",
    "        loss = validate(sim, X, yy, testIdcs)\n",
    "        if i == 0:\n",
    "            Ass.append(getAs(sim, X, yy))\n",
    "        finalLoss.append(float(loss[i]))\n",
    "\n",
    "    rmse.append(finalLoss)\n",
    "\n",
    "    print(f'FINISHED {rmse}')"
   ]
  },
  {
   "cell_type": "code",
   "execution_count": 170,
   "id": "8940bc1d",
   "metadata": {},
   "outputs": [
    {
     "name": "stdout",
     "output_type": "stream",
     "text": [
      "2.2091708183288574\n",
      "0.8548386693000793\n",
      "12.747949600219727\n"
     ]
    }
   ],
   "source": [
    "print(sum([f[0] for f in rmse])/len(rmse)/12)\n",
    "print(sum([f[1] for f in rmse])/len(rmse))\n",
    "print(sum([f[2] for f in rmse])/len(rmse))"
   ]
  },
  {
   "cell_type": "code",
   "execution_count": 171,
   "id": "611e12af",
   "metadata": {},
   "outputs": [
    {
     "data": {
      "image/png": "[encoded data removed]",
      "text/plain": [
       "<Figure size 432x288 with 1 Axes>"
      ]
     },
     "metadata": {
      "needs_background": "light"
     },
     "output_type": "display_data"
    }
   ],
   "source": [
    "import matplotlib.pyplot as plt\n",
    "\n",
    "w = sim.A[1].detach().cpu().numpy()\n",
    "\n",
    "for dim in range(w.shape[1]):\n",
    "    plt.plot(np.sort(np.abs(w[:,dim])))\n",
    "plt.show()"
   ]
  },
  {
   "cell_type": "code",
   "execution_count": 175,
   "id": "4f047414",
   "metadata": {},
   "outputs": [
    {
     "data": {
      "image/png": "[encoded data removed]",
      "text/plain": [
       "<Figure size 720x288 with 2 Axes>"
      ]
     },
     "metadata": {
      "needs_background": "light"
     },
     "output_type": "display_data"
    }
   ],
   "source": [
    "a,b = np.triu_indices(264, 1)\n",
    "\n",
    "wsel = w[:,10]\n",
    "idcs = np.argsort(-np.abs(wsel))[0:100]\n",
    "\n",
    "img = np.zeros((264,264))\n",
    "img[a[idcs],b[idcs]] = wsel[idcs]\n",
    "img += img.T\n",
    "\n",
    "fig, ax = plt.subplots(1,2,figsize=(10,4))\n",
    "ax[0].imshow(img)\n",
    "ax[1].plot(wsel[idcs[0:100]])\n",
    "plt.show()"
   ]
  },
  {
   "cell_type": "code",
   "execution_count": null,
   "id": "55adbeb3",
   "metadata": {},
   "outputs": [],
   "source": []
  }
 ],
 "metadata": {
  "kernelspec": {
   "display_name": "Python 3 (ipykernel)",
   "language": "python",
   "name": "python3"
  },
  "language_info": {
   "codemirror_mode": {
    "name": "ipython",
    "version": 3
   },
   "file_extension": ".py",
   "mimetype": "text/x-python",
   "name": "python",
   "nbconvert_exporter": "python",
   "pygments_lexer": "ipython3",
   "version": "3.10.5"
  }
 },
 "nbformat": 4,
 "nbformat_minor": 5
}
