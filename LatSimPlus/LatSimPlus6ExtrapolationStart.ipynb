{
 "cells": [
  {
   "cell_type": "code",
   "execution_count": 1,
   "id": "21bdc7cf",
   "metadata": {},
   "outputs": [
    {
     "name": "stdout",
     "output_type": "stream",
     "text": [
      "Complete\n"
     ]
    }
   ],
   "source": [
    "import pickle\n",
    "\n",
    "with open('../../PNC_Good/MegaMeta3.pkl', 'rb') as f: \n",
    "    meta = pickle.load(f)\n",
    "    \n",
    "print('Complete')"
   ]
  },
  {
   "cell_type": "code",
   "execution_count": 2,
   "id": "8d377528",
   "metadata": {},
   "outputs": [
    {
     "name": "stdout",
     "output_type": "stream",
     "text": [
      "620\n",
      "620\n",
      "Complete\n"
     ]
    }
   ],
   "source": [
    "with open('../../Work/LatentSim/Splits.pkl', 'rb') as f:\n",
    "    keys, groups = pickle.load(f)\n",
    "    \n",
    "print(len(keys))\n",
    "print(len(groups[0][0])+len(groups[0][1]))\n",
    "print('Complete')"
   ]
  },
  {
   "cell_type": "code",
   "execution_count": 3,
   "id": "2df8dfc3",
   "metadata": {},
   "outputs": [
    {
     "name": "stdout",
     "output_type": "stream",
     "text": [
      "(620, 264, 231)\n",
      "(620, 264, 210)\n"
     ]
    }
   ],
   "source": [
    "import numpy as np\n",
    "\n",
    "nback = np.stack([meta[key]['nback'] for key in keys])\n",
    "emoid = np.stack([meta[key]['emoid'] for key in keys])\n",
    "\n",
    "print(nback.shape)\n",
    "print(emoid.shape)"
   ]
  },
  {
   "cell_type": "code",
   "execution_count": 4,
   "id": "f428b4e4",
   "metadata": {},
   "outputs": [
    {
     "name": "stdout",
     "output_type": "stream",
     "text": [
      "(620, 264, 264)\n"
     ]
    }
   ],
   "source": [
    "from nilearn.connectome import ConnectivityMeasure\n",
    "\n",
    "def getFC(timeSeries, kind='correlation', transpose=True):\n",
    "    connMeasure = ConnectivityMeasure(kind=kind)\n",
    "    if transpose:\n",
    "        timeSeries = np.transpose(timeSeries, axes=(0,2,1))\n",
    "    return connMeasure.fit_transform(timeSeries)\n",
    "\n",
    "nback_p = getFC(nback)\n",
    "emoid_p = getFC(emoid)\n",
    "\n",
    "print(nback_p.shape)"
   ]
  },
  {
   "cell_type": "code",
   "execution_count": 5,
   "id": "d0c95f36",
   "metadata": {},
   "outputs": [
    {
     "name": "stdout",
     "output_type": "stream",
     "text": [
      "torch.Size([620, 34716])\n",
      "torch.Size([620, 34716])\n",
      "Complete\n"
     ]
    }
   ],
   "source": [
    "import torch\n",
    "\n",
    "def convertTorch(p):\n",
    "    t = torch.from_numpy(p).float()\n",
    "    u = []\n",
    "    for i in range(t.shape[0]):\n",
    "        u.append(t[i][torch.triu_indices(264,264,offset=1).unbind()])\n",
    "    return torch.stack(u).cuda()\n",
    "\n",
    "nback_p_t = convertTorch(nback_p)\n",
    "emoid_p_t = convertTorch(emoid_p)\n",
    "\n",
    "print(nback_p_t.shape)\n",
    "print(emoid_p_t.shape)\n",
    "print('Complete')"
   ]
  },
  {
   "cell_type": "code",
   "execution_count": 6,
   "id": "b76c32d0",
   "metadata": {},
   "outputs": [
    {
     "name": "stdout",
     "output_type": "stream",
     "text": [
      "torch.return_types.min(\n",
      "values=tensor([-2.2998, -3.0133], device='cuda:0'),\n",
      "indices=tensor([603, 350], device='cuda:0'))\n",
      "torch.return_types.min(\n",
      "values=tensor([-2.7284, -3.0616], device='cuda:0'),\n",
      "indices=tensor([351,  33], device='cuda:0'))\n"
     ]
    }
   ],
   "source": [
    "mu_nback = torch.mean(nback_p_t, dim=0, keepdim=True)\n",
    "mu_emoid = torch.mean(emoid_p_t, dim=0, keepdim=True)\n",
    "std_nback = torch.std(nback_p_t, dim=0, keepdim=True)\n",
    "std_emoid = torch.std(emoid_p_t, dim=0, keepdim=True)\n",
    "\n",
    "nback_p_t = (nback_p_t - mu_nback)/std_nback\n",
    "emoid_p_t = (emoid_p_t - mu_emoid)/std_emoid\n",
    "\n",
    "print(torch.min(nback_p_t[:,420:422],dim=0))\n",
    "print(torch.min(emoid_p_t[:,420:422],dim=0))"
   ]
  },
  {
   "cell_type": "code",
   "execution_count": 63,
   "id": "591e9c35",
   "metadata": {},
   "outputs": [
    {
     "name": "stdout",
     "output_type": "stream",
     "text": [
      "(620,)\n",
      "(620, 2)\n",
      "(620,)\n",
      "Complete\n"
     ]
    }
   ],
   "source": [
    "age = np.stack([meta[key]['AgeInMonths'] for key in keys])\n",
    "gen = np.stack([np.array([meta[key]['Gender'] == 'M', meta[key]['Gender'] == 'F']) for key in keys]).astype(int)\n",
    "wrt = np.stack([meta[key]['wratStd'] for key in keys])\n",
    "\n",
    "print(age.shape)\n",
    "print(gen.shape)\n",
    "print(wrt.shape)\n",
    "\n",
    "age_t = torch.from_numpy(age).float().cuda()\n",
    "gen_t = torch.from_numpy(gen).float().cuda()\n",
    "wrt_t = torch.from_numpy(wrt).float().cuda()\n",
    "\n",
    "mu_age = torch.mean(age_t)\n",
    "sd_age = torch.std(age_t)\n",
    "\n",
    "age_t = (age_t - mu_age)\n",
    "\n",
    "print('Complete')"
   ]
  },
  {
   "cell_type": "code",
   "execution_count": 64,
   "id": "24d9e3bf",
   "metadata": {},
   "outputs": [
    {
     "name": "stdout",
     "output_type": "stream",
     "text": [
      "epoch 0 loss=[tensor(0., device='cuda:0', grad_fn=<MulBackward0>)]\n",
      "New best validation epoch 0 0 loss=44.583885192871094\n",
      "New best validation epoch 0 1 loss=0.5\n",
      "New best validation epoch 0 2 loss=12.045475959777832\n",
      "epoch 50 loss=[tensor(0., device='cuda:0', grad_fn=<MulBackward0>)]\n",
      "New best validation epoch 50 0 loss=24.979759216308594\n",
      "New best validation epoch 50 1 loss=0.6290322542190552\n",
      "New best validation epoch 50 2 loss=11.482730865478516\n",
      "epoch 100 loss=[tensor(0., device='cuda:0', grad_fn=<MulBackward0>)]\n",
      "New best validation epoch 100 0 loss=23.18855094909668\n",
      "New best validation epoch 100 2 loss=11.399859428405762\n",
      "epoch 150 loss=[tensor(0., device='cuda:0', grad_fn=<MulBackward0>)]\n",
      "New best validation epoch 150 2 loss=11.394168853759766\n",
      "epoch 200 loss=[tensor(0., device='cuda:0', grad_fn=<MulBackward0>)]\n",
      "New best validation epoch 200 1 loss=0.7258064150810242\n",
      "New best validation epoch 200 2 loss=11.272496223449707\n",
      "epoch 250 loss=[tensor(0., device='cuda:0', grad_fn=<MulBackward0>)]\n",
      "epoch 300 loss=[tensor(0., device='cuda:0', grad_fn=<MulBackward0>)]\n",
      "New best validation epoch 300 0 loss=22.974063873291016\n",
      "New best validation epoch 300 1 loss=0.7903225421905518\n",
      "epoch 350 loss=[tensor(0., device='cuda:0', grad_fn=<MulBackward0>)]\n",
      "New best validation epoch 350 0 loss=22.879945755004883\n",
      "epoch 400 loss=[tensor(0., device='cuda:0', grad_fn=<MulBackward0>)]\n",
      "epoch 450 loss=[tensor(0., device='cuda:0', grad_fn=<MulBackward0>)]\n",
      "epoch 500 loss=[tensor(0., device='cuda:0', grad_fn=<MulBackward0>)]\n",
      "New best validation epoch 500 2 loss=11.234878540039062\n",
      "epoch 550 loss=[tensor(0., device='cuda:0', grad_fn=<MulBackward0>)]\n",
      "New best validation epoch 550 2 loss=11.077489852905273\n",
      "epoch 600 loss=[tensor(0., device='cuda:0', grad_fn=<MulBackward0>)]\n",
      "New best validation epoch 600 0 loss=22.58931541442871\n",
      "epoch 650 loss=[tensor(0., device='cuda:0', grad_fn=<MulBackward0>)]\n",
      "New best validation epoch 650 0 loss=22.571800231933594\n",
      "epoch 700 loss=[tensor(0., device='cuda:0', grad_fn=<MulBackward0>)]\n",
      "epoch 750 loss=[tensor(0., device='cuda:0', grad_fn=<MulBackward0>)]\n",
      "epoch 800 loss=[tensor(0., device='cuda:0', grad_fn=<MulBackward0>)]\n",
      "epoch 850 loss=[tensor(0., device='cuda:0', grad_fn=<MulBackward0>)]\n",
      "New best validation epoch 850 0 loss=22.378141403198242\n",
      "epoch 900 loss=[tensor(0., device='cuda:0', grad_fn=<MulBackward0>)]\n",
      "epoch 950 loss=[tensor(0., device='cuda:0', grad_fn=<MulBackward0>)]\n",
      "epoch 999 loss=[tensor(0., device='cuda:0', grad_fn=<MulBackward0>)]\n",
      "New best validation epoch 999 0 loss=22.355684280395508\n",
      "New best validation epoch 999 2 loss=11.056818962097168\n",
      "FINISHED [[25.53643035888672, 0.8064515590667725, 12.339679718017578]]\n"
     ]
    }
   ],
   "source": [
    "import torch.nn as nn\n",
    "import torch.nn.functional as F\n",
    "import time\n",
    "\n",
    "ceLoss = torch.nn.CrossEntropyLoss()\n",
    "mseLoss = torch.nn.MSELoss()\n",
    "\n",
    "rmse = []\n",
    "Ass = []\n",
    "features = []\n",
    "\n",
    "def allBelowThresh(losses, thresh):\n",
    "    for loss,thr in zip(losses, thresh):\n",
    "        if loss > thr:\n",
    "            return False\n",
    "    return True\n",
    "\n",
    "def flatten(res):\n",
    "    flat = [r for re in res for r in re]\n",
    "    return flat\n",
    "\n",
    "def mask(e):\n",
    "    return e - torch.diag(torch.diag(e.detach()))\n",
    "\n",
    "def arith(n):\n",
    "    return int(n*(n+1)/2)\n",
    "\n",
    "def getAvg(res):\n",
    "    nPara = len(res)\n",
    "    nTasks = len(res[0])\n",
    "    avg = []\n",
    "    for task in range(nTasks):\n",
    "        avg.append(0)\n",
    "        for para in range(nPara):\n",
    "            avg[-1] += res[para][task]/nPara\n",
    "    return avg\n",
    "\n",
    "class LatSim(nn.Module):\n",
    "    def __init__(self, nTasks, inp, dp=0.5, edp=0.1, adp=0.1, wInit=1e-4, dimA=2, dimB=2, temp=1):\n",
    "        super(LatSim, self).__init__()\n",
    "        self.nTasks = nTasks\n",
    "        self.A = nn.Parameter(wInit*torch.randn(2,inp.shape[-1],dimA).float().cuda())\n",
    "        self.B = nn.Parameter(wInit*torch.randn(2,nTasks,dimA,dimB).float().cuda())\n",
    "        self.dp = nn.Dropout(p=dp)\n",
    "        self.edp = nn.Dropout(p=edp)\n",
    "        self.adp = nn.Dropout(p=adp)\n",
    "        self.t = temp if isinstance(temp, list) else nTasks*[temp]\n",
    "    \n",
    "    def getLatent(self, x, para):\n",
    "        return x[:,para]@self.A[para]\n",
    "    \n",
    "    def getEdges(self, A, para, task):\n",
    "        e = 1e-10\n",
    "        z = A@self.B[para, task]\n",
    "        e = e+z@z.T\n",
    "        return e\n",
    "        \n",
    "    def forward(self, x, ys, testIdcs=None):\n",
    "        assert self.B.shape[1] == len(ys), \"business end targets dim not same as passed\"\n",
    "        x = self.dp(x)\n",
    "        res = []\n",
    "        As = []\n",
    "        es = []\n",
    "        for para in range(2):\n",
    "            A = self.getLatent(x, para)\n",
    "            As.append(self.adp(F.relu(A)))\n",
    "        for para,A in enumerate(As):\n",
    "            res.append([])\n",
    "            es.append([])\n",
    "            for task,y in enumerate(ys):\n",
    "                e = self.getEdges(A, para, task)\n",
    "                if testIdcs is not None:\n",
    "                    e[:,testIdcs] = 0\n",
    "                e = mask(e)\n",
    "                e = self.edp(e)\n",
    "                e[e == 0] = float('-inf')\n",
    "                e = F.softmax(e/self.t[task], dim=1)\n",
    "                res[-1].append(e@y)\n",
    "                es[-1].append(e)\n",
    "        return res, As, es\n",
    "\n",
    "def validate(model, X, ys, testIdcs):\n",
    "    model.eval()\n",
    "    losses = []\n",
    "    with torch.no_grad():\n",
    "        res, _, _ = model(X, ys, testIdcs)\n",
    "        # for r,y in zip(res, ys):\n",
    "        for r,y in zip(getAvg(res), ys):\n",
    "            if y.dim() == 1:\n",
    "                loss = mseLoss(r[testIdcs], y[testIdcs]).cpu().numpy()**0.5\n",
    "                losses.append(loss)\n",
    "            else:\n",
    "                corr = (torch.argmax(r, dim=1) == torch.argmax(y, dim=1))[testIdcs]\n",
    "                loss = torch.sum(corr)/len(testIdcs)\n",
    "                losses.append(loss)\n",
    "    model.train()\n",
    "    return losses\n",
    "\n",
    "def getAs(model, X, ys):\n",
    "    model.eval()\n",
    "    As = None\n",
    "    with torch.no_grad():\n",
    "        _, As, _ = model(X, ys)\n",
    "    model.train()\n",
    "    return As\n",
    "\n",
    "def binLoss(w):\n",
    "    mag = torch.abs(w)\n",
    "    maxMag = torch.max(mag, keepdim=True, dim=1).values\n",
    "    p = mag/maxMag\n",
    "    return -torch.sum(p*torch.log(p+1e-10))\n",
    "\n",
    "def getFeatures(sim, X, yy, task=0, para=0, testIdcs=None):\n",
    "    #sim.load_state_dict(torch.load(f'../../Work/LatentSim/sim{task}.pyt'))\n",
    "    sim.eval()\n",
    "    allDims = []\n",
    "    with torch.no_grad():\n",
    "        y = yy[task][testIdcs]\n",
    "        if y.dim() == 1:\n",
    "            y = y.unsqueeze(1)\n",
    "        for dim in range(sim.A.shape[2]):\n",
    "            mult = torch.sum((sim.B[para,task,dim,:].detach())**2)/2\n",
    "            d = torch.cdist(y, y)\n",
    "            d = d - torch.mean(d)\n",
    "            m = torch.einsum('ad,d->ad', X[testIdcs,para,:], sim.A[para,:,dim].detach())\n",
    "            sm = F.relu(torch.sum(m, dim=1))\n",
    "            smi = sm > 0\n",
    "            whole = []\n",
    "            for i0 in range(0,34700,1000):\n",
    "                i1 = i0+1000\n",
    "                mm = torch.einsum('ad,a,b->abd', m[:,i0:i1], smi, sm)\n",
    "                part = torch.einsum('ab,abd->d', d, mm)\n",
    "                whole.append(part)\n",
    "            whole = torch.cat(whole)\n",
    "        allDims.append(mult*whole)\n",
    "    sim.train()\n",
    "    return torch.mean(torch.stack(allDims), axis=0)\n",
    "\n",
    "nEpochs = 1000\n",
    "pPeriod = 50\n",
    "thresh = [20,0.3,10]\n",
    "regParam = [1,1e3,20]\n",
    "binParam = 0\n",
    "\n",
    "for rep in range(1):\n",
    "    for grp in range(1):\n",
    "        trainIdcs = groups[grp][0][0:496]\n",
    "        trainValidIdcs = groups[grp][0]\n",
    "        validIdcs = np.arange(496,len(trainValidIdcs))\n",
    "        testIdcs = groups[grp][1]\n",
    "\n",
    "        X0 = nback_p_t\n",
    "        X1 = emoid_p_t\n",
    "\n",
    "        X = torch.stack([X0, X1], dim=1)\n",
    "        Xt = X[trainIdcs]\n",
    "        Xtv = X[trainValidIdcs]\n",
    "\n",
    "        yy = [age_t, gen_t, wrt_t]\n",
    "        yt = [age_t[trainIdcs], gen_t[trainIdcs], wrt_t[trainIdcs]]\n",
    "        ytv = [age_t[trainValidIdcs], gen_t[trainValidIdcs], wrt_t[trainValidIdcs]]\n",
    "\n",
    "    #     yy = yy[2:]\n",
    "    #     yt = yt[2:]\n",
    "    #     ytv = ytv[2:]\n",
    "\n",
    "        nTasks = len(yy)\n",
    "\n",
    "        sim = LatSim(nTasks, X, dp=0.5, edp=0.1, adp=0.3, wInit=1e-4, dimA=20, dimB=2, temp=[1,1,1])\n",
    "        optim = torch.optim.Adam(sim.parameters(), lr=5e-4, weight_decay=5e-4)\n",
    "\n",
    "        validLoss = [[] for _ in range(nTasks)]\n",
    "\n",
    "        for epoch in range(nEpochs):\n",
    "            optim.zero_grad()\n",
    "            res, As, _ = sim(Xt, yt)\n",
    "            loss = []\n",
    "            for i,(r,y) in enumerate(zip(flatten(res)+getAvg(res), (X.shape[1]+1)*yt)):\n",
    "                if y.dim() > 1:\n",
    "                    loss.append(regParam[i%nTasks]*ceLoss(r, y))\n",
    "                else:\n",
    "                    loss.append(regParam[i%nTasks]*mseLoss(r, y))\n",
    "            bloss = [binParam*binLoss(sim.A)]\n",
    "            loss += bloss\n",
    "            sum(loss).backward()\n",
    "            optim.step()\n",
    "            if epoch % pPeriod == 0 or epoch == nEpochs-1 or allBelowThresh(loss[0:nTasks], thresh):\n",
    "                print(f'epoch {epoch} loss={bloss}')\n",
    "                losses = validate(sim, Xtv, ytv, validIdcs)\n",
    "                for i,lss in enumerate(losses):\n",
    "                    if (len(validLoss[i]) == 0 or \n",
    "                            (yy[i].dim() == 1 and lss < min(validLoss[i])) or \n",
    "                            (yy[i].dim() > 1 and lss > max(validLoss[i]))):\n",
    "                        print(f'New best validation epoch {epoch} {i} loss={lss}')\n",
    "                        torch.save(sim.state_dict(), f'../../Work/LatentSim/sim{i}.pyt')\n",
    "                        validLoss[i].append(float(lss))\n",
    "                if allBelowThresh(loss[0:nTasks], thresh):\n",
    "                    print('Early stopping')\n",
    "                    break\n",
    "\n",
    "        finalLoss = []\n",
    "        featPart = np.zeros((2,nTasks,34716))\n",
    "\n",
    "        for task in range(nTasks):\n",
    "            sim.load_state_dict(torch.load(f'../../Work/LatentSim/sim{task}.pyt'))\n",
    "            loss = validate(sim, X, yy, testIdcs)\n",
    "            finalLoss.append(float(loss[task]))\n",
    "\n",
    "#             for para in range(2):\n",
    "#                 feat = getFeatures(sim, X, yy, task, para, testIdcs)\n",
    "#                 featPart[para,task] = feat.detach().cpu().numpy()\n",
    "\n",
    "        rmse.append(finalLoss)\n",
    "        features.append(np.stack(featPart))\n",
    "\n",
    "        print(f'FINISHED {rmse}')"
   ]
  },
  {
   "cell_type": "code",
   "execution_count": 65,
   "id": "9ab2d869",
   "metadata": {},
   "outputs": [
    {
     "name": "stdout",
     "output_type": "stream",
     "text": [
      "2\n",
      "2\n"
     ]
    }
   ],
   "source": [
    "sim.eval()\n",
    "with torch.no_grad():\n",
    "    sim.load_state_dict(torch.load(f'../../Work/LatentSim/sim0.pyt'))\n",
    "    res, _, esAge = sim(X, yy, testIdcs)\n",
    "sim.train()\n",
    "\n",
    "print(len(res))\n",
    "print(len(esAge))"
   ]
  },
  {
   "cell_type": "code",
   "execution_count": 66,
   "id": "13868837",
   "metadata": {},
   "outputs": [],
   "source": [
    "age = age_t.detach().cpu().numpy()"
   ]
  },
  {
   "cell_type": "code",
   "execution_count": 80,
   "id": "0b430bfd",
   "metadata": {},
   "outputs": [
    {
     "data": {
      "image/png": "[encoded data removed]",
      "text/plain": [
       "<Figure size 432x288 with 1 Axes>"
      ]
     },
     "metadata": {
      "needs_background": "light"
     },
     "output_type": "display_data"
    }
   ],
   "source": [
    "import matplotlib.pyplot as plt\n",
    "\n",
    "res00 = res[0][0].detach().cpu().numpy()\n",
    "es00 = esAge[0][0][:,trainIdcs].detach().cpu().numpy()\n",
    "\n",
    "idcs = np.argsort(age[trainIdcs])\n",
    "\n",
    "testIdx = 144\n",
    "\n",
    "plt.plot(es00[testIdx,idcs])\n",
    "plt.show()"
   ]
  },
  {
   "cell_type": "code",
   "execution_count": 81,
   "id": "92156eba",
   "metadata": {},
   "outputs": [
    {
     "data": {
      "image/png": "[encoded data removed]",
      "text/plain": [
       "<Figure size 432x288 with 1 Axes>"
      ]
     },
     "metadata": {
      "needs_background": "light"
     },
     "output_type": "display_data"
    },
    {
     "name": "stdout",
     "output_type": "stream",
     "text": [
      "-11.929031\n",
      "18.073997497558594\n"
     ]
    }
   ],
   "source": [
    "ageTrainSorted = age[trainIdcs][idcs]\n",
    "\n",
    "idx = np.argmax(ageTrainSorted>age[testIdx])\n",
    "idx2 = np.argmax(ageTrainSorted>float(res[0][0][testIdx]))\n",
    "\n",
    "plt.plot(ageTrainSorted)\n",
    "plt.plot([idx,idx],[-100,100])\n",
    "plt.plot([idx2,idx2],[-100,100])\n",
    "plt.show()\n",
    "\n",
    "print(age[testIdx])\n",
    "print(float(res[0][0][testIdx]))"
   ]
  },
  {
   "cell_type": "code",
   "execution_count": 27,
   "id": "4b9fcab3",
   "metadata": {},
   "outputs": [
    {
     "data": {
      "text/plain": [
       "array([  2,   7,  21,  48,  66,  69,  77,  87, 120, 136, 139, 142, 144,\n",
       "       150, 155, 165, 166, 172, 173, 179, 187, 195, 200, 210, 225, 228,\n",
       "       234, 235, 243, 245, 257, 260, 287, 308, 314, 327, 338, 364, 378,\n",
       "       397, 398, 411, 412, 420, 428, 457, 476, 487, 492, 509, 514, 524,\n",
       "       543, 551, 581, 589, 590, 599, 601, 606, 612, 616])"
      ]
     },
     "execution_count": 27,
     "metadata": {},
     "output_type": "execute_result"
    }
   ],
   "source": [
    "testIdcs"
   ]
  },
  {
   "cell_type": "code",
   "execution_count": 71,
   "id": "dae14729",
   "metadata": {},
   "outputs": [
    {
     "data": {
      "text/plain": [
       "-33.92903"
      ]
     },
     "execution_count": 71,
     "metadata": {},
     "output_type": "execute_result"
    }
   ],
   "source": [
    "age[testIdx]"
   ]
  },
  {
   "cell_type": "code",
   "execution_count": 72,
   "id": "0cc41020",
   "metadata": {},
   "outputs": [
    {
     "data": {
      "text/plain": [
       "tensor(6.4440, device='cuda:0')"
      ]
     },
     "execution_count": 72,
     "metadata": {},
     "output_type": "execute_result"
    }
   ],
   "source": [
    "res[0][0][testIdx]"
   ]
  },
  {
   "cell_type": "code",
   "execution_count": null,
   "id": "1b850463",
   "metadata": {},
   "outputs": [],
   "source": []
  }
 ],
 "metadata": {
  "kernelspec": {
   "display_name": "Python 3 (ipykernel)",
   "language": "python",
   "name": "python3"
  },
  "language_info": {
   "codemirror_mode": {
    "name": "ipython",
    "version": 3
   },
   "file_extension": ".py",
   "mimetype": "text/x-python",
   "name": "python",
   "nbconvert_exporter": "python",
   "pygments_lexer": "ipython3",
   "version": "3.10.5"
  }
 },
 "nbformat": 4,
 "nbformat_minor": 5
}
