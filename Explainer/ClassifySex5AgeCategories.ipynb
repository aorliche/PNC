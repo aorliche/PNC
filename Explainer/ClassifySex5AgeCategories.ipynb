{
 "cells": [
  {
   "cell_type": "code",
   "execution_count": 1,
   "id": "4c20b41b",
   "metadata": {},
   "outputs": [
    {
     "name": "stdout",
     "output_type": "stream",
     "text": [
      "941\n"
     ]
    }
   ],
   "source": [
    "import pickle\n",
    "\n",
    "# Load meta dict\n",
    "\n",
    "with open('../../PNC/MegaMeta.bin', 'rb') as f:\n",
    "    meta = pickle.load(f)\n",
    "    \n",
    "print(len(list(meta.keys())))"
   ]
  },
  {
   "cell_type": "code",
   "execution_count": 2,
   "id": "53313e1c",
   "metadata": {},
   "outputs": [
    {
     "name": "stdout",
     "output_type": "stream",
     "text": [
      "Finished\n"
     ]
    }
   ],
   "source": [
    "# Load splits\n",
    "\n",
    "with open('../../Work/Explainer/Splits/EmoidNbackWrat10FoldCV.pkl', 'rb') as f:\n",
    "    splits = pickle.load(f)\n",
    "\n",
    "print('Finished')"
   ]
  },
  {
   "cell_type": "code",
   "execution_count": 3,
   "id": "2c958f9f",
   "metadata": {},
   "outputs": [
    {
     "name": "stdout",
     "output_type": "stream",
     "text": [
      "620\n",
      "(558,)\n",
      "(62,)\n"
     ]
    }
   ],
   "source": [
    "import numpy as np\n",
    "\n",
    "print(len(np.concatenate([splits[0][0],splits[0][1]])))\n",
    "\n",
    "def getTrainTestIdcs(splits, splitId, makeTorch=True):\n",
    "    lookup = dict()\n",
    "    allSplit0Ids = np.concatenate([splits[0][0],splits[0][1]])\n",
    "    for i in range(620):\n",
    "        lookup[allSplit0Ids[i]] = i\n",
    "    trainIdcs = []\n",
    "    testIdcs = []\n",
    "    for key in splits[splitId][0]:\n",
    "        trainIdcs.append(lookup[key])\n",
    "    for key in splits[splitId][1]:\n",
    "        testIdcs.append(lookup[key])\n",
    "    trainIdcs = np.array(trainIdcs)\n",
    "    testIdcs = np.array(testIdcs)\n",
    "    if makeTorch:\n",
    "        trainIdcs = torch.from_numpy(trainIdcs).cuda()\n",
    "        testIdcs = torch.from_numpy(testIdcs).cuda()\n",
    "    return trainIdcs, testIdcs\n",
    "\n",
    "a,b = getTrainTestIdcs(splits, 4, False)\n",
    "print(a.shape)\n",
    "print(b.shape)"
   ]
  },
  {
   "cell_type": "code",
   "execution_count": 4,
   "id": "25966b9d",
   "metadata": {},
   "outputs": [
    {
     "name": "stdout",
     "output_type": "stream",
     "text": [
      "Finished 0\n",
      "Finished 100\n",
      "Finished 200\n",
      "Finished 300\n",
      "Finished 400\n",
      "Finished 500\n",
      "Finished 600\n",
      "Finished train 619\n"
     ]
    }
   ],
   "source": [
    "p_nback = np.zeros([620,264,264])\n",
    "p_emoid = np.zeros([620,264,264])\n",
    "age_class = np.zeros([620])\n",
    "ages = np.zeros([620])\n",
    "sexes = np.zeros([620],dtype='long')\n",
    "\n",
    "split0Ids = np.concatenate([splits[0][0],splits[0][1]])\n",
    "\n",
    "for i in np.arange(620):\n",
    "    subId = split0Ids[i]\n",
    "    p_nback[i] = np.corrcoef(meta[subId]['nbackData'])\n",
    "    p_emoid[i] = np.corrcoef(meta[subId]['emoidData'])\n",
    "    sex = meta[subId]['meta']['Gender']\n",
    "    if sex == 'M':\n",
    "        sexes[i] = 0\n",
    "    elif sex == 'F':\n",
    "        sexes[i] = 1\n",
    "    else:\n",
    "        raise Exception(f'bad sex {sex} for subject {subId}')\n",
    "    age = int(meta[subId]['meta']['AgeInMonths'])/12\n",
    "    if age < 8:\n",
    "        raise Exception(f'bad age {age} for subject {subId}')\n",
    "    elif age < 12:\n",
    "        age_class[i] = 0\n",
    "    elif age < 14:\n",
    "        age_class[i] = 1\n",
    "    elif age < 16:\n",
    "        age_class[i] = 2\n",
    "    elif age < 18:\n",
    "        age_class[i] = 3\n",
    "    elif age < 23:\n",
    "        age_class[i] = 4\n",
    "    else:\n",
    "        raise Exception(f'bad age {age} for subject {subId}')\n",
    "    ages[i] = age\n",
    "    if i % 100 == 0:\n",
    "        print(f'Finished {i}')\n",
    "        \n",
    "print(f'Finished train {i}')"
   ]
  },
  {
   "cell_type": "code",
   "execution_count": 5,
   "id": "fbcc9e95",
   "metadata": {},
   "outputs": [
    {
     "data": {
      "image/png": "[encoded data removed]",
      "text/plain": [
       "<Figure size 432x288 with 1 Axes>"
      ]
     },
     "metadata": {
      "needs_background": "light"
     },
     "output_type": "display_data"
    }
   ],
   "source": [
    "import matplotlib.pyplot as plt\n",
    "\n",
    "plt.hist(age_class, bins=5, histtype='step')\n",
    "plt.show()"
   ]
  },
  {
   "cell_type": "code",
   "execution_count": 6,
   "id": "01a360ef",
   "metadata": {},
   "outputs": [
    {
     "name": "stdout",
     "output_type": "stream",
     "text": [
      "torch.Size([620, 139392])\n",
      "Complete\n"
     ]
    }
   ],
   "source": [
    "# Convert to torch\n",
    "\n",
    "import torch\n",
    "\n",
    "p_nback_t = torch.from_numpy(p_nback).reshape(-1,264*264).float().cuda()\n",
    "p_emoid_t = torch.from_numpy(p_emoid).reshape(-1,264*264).float().cuda()\n",
    "sexes_t = torch.from_numpy(sexes).cuda()\n",
    "ages_t = torch.from_numpy(ages).float().cuda()\n",
    "\n",
    "feat_t = torch.cat([p_nback_t, p_emoid_t], dim=1)\n",
    "\n",
    "print(feat_t.shape)\n",
    "print('Complete')"
   ]
  },
  {
   "cell_type": "code",
   "execution_count": 7,
   "id": "ec289fe5",
   "metadata": {
    "scrolled": false
   },
   "outputs": [
    {
     "name": "stdout",
     "output_type": "stream",
     "text": [
      "epoch 0 loss=236.42994689941406\n",
      "epoch 200 loss=11.659634590148926\n",
      "epoch 400 loss=4.543851852416992\n",
      "epoch 600 loss=2.5435009002685547\n",
      "epoch 800 loss=1.6462658643722534\n",
      "epoch 999 loss=1.1599195003509521\n",
      "Complete MLP 0\n",
      "Average mae 1.8255560398101807 for split 0\n",
      "epoch 0 loss=234.8246307373047\n",
      "epoch 200 loss=10.961859703063965\n",
      "epoch 400 loss=6.151520729064941\n",
      "epoch 600 loss=3.3125154972076416\n",
      "epoch 800 loss=1.8903701305389404\n",
      "epoch 999 loss=1.2804919481277466\n",
      "Complete MLP 1\n",
      "Average mae 1.739279866218567 for split 1\n",
      "epoch 0 loss=236.91416931152344\n",
      "epoch 200 loss=11.375875473022461\n",
      "epoch 400 loss=5.039421558380127\n",
      "epoch 600 loss=3.0113000869750977\n",
      "epoch 800 loss=2.0516772270202637\n",
      "epoch 999 loss=1.5045759677886963\n",
      "Complete MLP 2\n",
      "Average mae 1.6819977760314941 for split 2\n",
      "epoch 0 loss=235.35813903808594\n",
      "epoch 200 loss=9.001641273498535\n",
      "epoch 400 loss=4.376717567443848\n",
      "epoch 600 loss=2.4443955421447754\n",
      "epoch 800 loss=1.5907121896743774\n",
      "epoch 999 loss=1.0704313516616821\n",
      "Complete MLP 3\n",
      "Average mae 2.07303524017334 for split 3\n",
      "epoch 0 loss=237.4431610107422\n",
      "epoch 200 loss=9.334307670593262\n",
      "epoch 400 loss=5.663744926452637\n",
      "epoch 600 loss=4.038106918334961\n",
      "epoch 800 loss=2.891575336456299\n",
      "epoch 999 loss=1.7005118131637573\n",
      "Complete MLP 4\n",
      "Average mae 1.9739441871643066 for split 4\n",
      "epoch 0 loss=232.75999450683594\n",
      "epoch 200 loss=10.449731826782227\n",
      "epoch 400 loss=5.058809757232666\n",
      "epoch 600 loss=2.9134511947631836\n",
      "epoch 800 loss=1.7323029041290283\n",
      "epoch 999 loss=1.0993643999099731\n",
      "Complete MLP 5\n",
      "Average mae 1.8556525707244873 for split 5\n",
      "epoch 0 loss=240.11239624023438\n",
      "epoch 200 loss=11.06313419342041\n",
      "epoch 400 loss=5.573721885681152\n",
      "epoch 600 loss=2.5679712295532227\n",
      "epoch 800 loss=1.5583828687667847\n",
      "epoch 999 loss=1.0654512643814087\n",
      "Complete MLP 6\n",
      "Average mae 2.5706615447998047 for split 6\n",
      "epoch 0 loss=235.32618713378906\n",
      "epoch 200 loss=12.969332695007324\n",
      "epoch 400 loss=7.0349016189575195\n",
      "epoch 600 loss=4.477813720703125\n",
      "epoch 800 loss=2.4879915714263916\n",
      "epoch 999 loss=1.2830700874328613\n",
      "Complete MLP 7\n",
      "Average mae 1.6229255199432373 for split 7\n",
      "epoch 0 loss=242.53074645996094\n",
      "epoch 200 loss=11.080582618713379\n",
      "epoch 400 loss=5.204719543457031\n",
      "epoch 600 loss=2.458097457885742\n",
      "epoch 800 loss=1.3095418214797974\n",
      "epoch 999 loss=0.7518579363822937\n",
      "Complete MLP 8\n",
      "Average mae 1.813856601715088 for split 8\n",
      "epoch 0 loss=232.25173950195312\n",
      "epoch 200 loss=9.342288970947266\n",
      "epoch 400 loss=4.494095802307129\n",
      "epoch 600 loss=2.7269670963287354\n",
      "epoch 800 loss=1.853580355644226\n",
      "epoch 999 loss=1.3045027256011963\n",
      "Complete MLP 9\n",
      "Average mae 1.863115668296814 for split 9\n",
      "[1.82555604 1.73927987 1.68199778 2.07303524 1.97394419 1.85565257\n",
      " 2.57066154 1.62292552 1.8138566  1.86311567]\n"
     ]
    }
   ],
   "source": [
    "# Train the model\n",
    "\n",
    "import torch.nn as nn\n",
    "import torch.nn.functional as F\n",
    "# from torch_geometric.nn.conv import DenseGINConv\n",
    "\n",
    "# ageCls = 4\n",
    "outputDir = 'PredictAge5AgeCategories/FullTrain'\n",
    "# outputDir = f'ClassifySex5AgeCategories/AgeGroup{ageCls}'\n",
    "# outputDir = f'ClassifySex5AgeCategories/FullTrain'\n",
    "\n",
    "# nCorrectGCN = np.zeros(10)\n",
    "nCorrectMLP = np.zeros(10)\n",
    "nTotal = np.zeros(10)\n",
    "\n",
    "for split in range(10):\n",
    "    trainIdcs, testIdcs = getTrainTestIdcs(splits, split, True)\n",
    "    allIdcs = torch.arange(620).long().cuda()\n",
    "#     trainIdcsAll, testIdcsAll = getTrainTestIdcs(splits, split, True)\n",
    "    \n",
    "#     allIdcs = np.argwhere(age_class == ageCls).flatten()\n",
    "    \n",
    "#     idcs = np.intersect1d(allIdcs, trainIdcsAll.detach().cpu().numpy())\n",
    "#     trainIdcs = torch.from_numpy(idcs).cuda()\n",
    "    \n",
    "#     idcs = np.intersect1d(allIdcs, testIdcsAll.detach().cpu().numpy())\n",
    "#     testIdcs = torch.from_numpy(idcs).cuda()\n",
    "    \n",
    "#     idcs = np.argwhere(np.isin(allIdcs, idcs)).flatten()\n",
    "#     testIdcsReindexed = torch.from_numpy(idcs).cuda()\n",
    "    \n",
    "#     allIdcs = torch.from_numpy(allIdcs).cuda()\n",
    "\n",
    "    def normalize(A):\n",
    "        if A.shape[0] != A.shape[1]:\n",
    "            raise Exception(\"Bad A shape\")\n",
    "        d = torch.sum(A,dim=1)**0.5\n",
    "        return ((A/d).T/d).T\n",
    "\n",
    "    # Cosine similarity\n",
    "    def calcEdges(ps1, ps2):\n",
    "        nB = ps1.shape[0]\n",
    "        e = torch.einsum('ai,bi->ab',ps1,ps2)\n",
    "        F1 = torch.einsum('ai,ai->a',ps1,ps1)**0.5\n",
    "        F2 = torch.einsum('ai,ai->a',ps2,ps2)**0.5\n",
    "        e /= F1.unsqueeze(1)\n",
    "        e /= F2.unsqueeze(1).T\n",
    "    #     e = torch.einsum('aij,bij->ab',ps1,ps2)\n",
    "    #     F1 = torch.einsum('aij,aij->a',ps1,ps1)**0.5\n",
    "    #     F2 = torch.einsum('aij,aij->a',ps2,ps2)**0.5\n",
    "    #     e /= F1.unsqueeze(1)\n",
    "    #     e /= F2.unsqueeze(1).T\n",
    "        return normalize(e-torch.eye(nB).float().cuda())\n",
    "\n",
    "#     Atrain = calcEdges(feat_t[trainIdcs], feat_t[trainIdcs])\n",
    "#     A = calcEdges(feat_t[allIdcs], feat_t[allIdcs])\n",
    "\n",
    "#     print(Atrain.shape)\n",
    "#     print(A.shape)\n",
    "\n",
    "#     class GCN(nn.Module):\n",
    "#         def __init__(self):\n",
    "#             super(GCN, self).__init__()\n",
    "# #             self.gc1 = DenseGINConv(2*264*264,100).float().cuda()\n",
    "# #             self.gc2 = DenseGINConv(100,2).float().cuda()\n",
    "#             self.c = nn.Parameter(torch.ones([2]).float().cuda())\n",
    "#             self.gc1 = nn.Linear(2*264*264,100).float().cuda()\n",
    "#             self.gc2 = nn.Linear(100,1).float().cuda()\n",
    "# #             self.loss = nn.CrossEntropyLoss()\n",
    "#             self.loss = nn.MSELoss()\n",
    "\n",
    "#         def forward(self, x):\n",
    "#             A = x[0]\n",
    "#             z = x[1]\n",
    "# #             a = F.relu(self.gc1(z,A))\n",
    "# #             a = self.gc2(a,A)\n",
    "# #             return a\n",
    "#             A0 = A+(self.c[0])*torch.eye(A.shape[0]).float().cuda()\n",
    "#             A1 = A+(self.c[1])*torch.eye(A.shape[0]).float().cuda()\n",
    "#             a = A0@z\n",
    "#             a = F.relu(self.gc1(a))\n",
    "#             a = A1@a\n",
    "#             a = self.gc2(a)\n",
    "#             return a\n",
    "\n",
    "#     gcn = GCN()\n",
    "#     optim = torch.optim.Adam(gcn.parameters(), lr=1e-5, weight_decay=0.2) # 1e-5 and 0.2\n",
    "\n",
    "#     nEpoch = 2000 # 2000 for age pred, 3000 for sex classification, 2000 sex classification GIN\n",
    "#     pPrint = 200\n",
    "\n",
    "    sexes_t_train = sexes_t[trainIdcs]\n",
    "    ages_t_train = ages_t[trainIdcs]\n",
    "    feat_t_train = feat_t[trainIdcs]\n",
    "\n",
    "#     for epoch in range(nEpoch):\n",
    "#         optim.zero_grad()\n",
    "#         pred = gcn([Atrain,feat_t_train]).flatten()\n",
    "#         loss = gcn.loss(pred, ages_t_train)\n",
    "#         loss.backward()\n",
    "#         optim.step()\n",
    "#         if epoch % pPrint == 0 or epoch == nEpoch-1:\n",
    "#             print(f'epoch {epoch} loss={loss}')\n",
    "\n",
    "#     print(f'Complete GCN {split}')\n",
    "    \n",
    "#     torch.save(gcn.state_dict(), f'../../Work/Explainer/Models/{outputDir}/gin{split}.pkl')\n",
    "    \n",
    "# #     prob = gcn([A,feat_t[allIdcs]]).squeeze()[testIdcsReindexed].detach().cpu().numpy()\n",
    "#     prob = gcn([A,feat_t[allIdcs]]).flatten()[testIdcs].detach().cpu().numpy()\n",
    "#     y = ages_t[testIdcs].detach().cpu().numpy()\n",
    "# #     y = sexes_t[testIdcs].detach().cpu().numpy()\n",
    "# #     pred = np.argmax(prob, axis=1)\n",
    "# #     res = np.sum(pred == y)\n",
    "#     res = np.mean(np.abs(prob - y))\n",
    "\n",
    "#     print(f'Correct {res} out of {y.shape[0]}')\n",
    "    \n",
    "#     nCorrectGCN[split] = res\n",
    "    \n",
    "    class MLP(nn.Module):\n",
    "        def __init__(self):\n",
    "            super(MLP, self).__init__()\n",
    "            self.fc1 = nn.Linear(2*264*264,100).float().cuda()\n",
    "            self.fc2 = nn.Linear(100,1).float().cuda()\n",
    "#             self.loss = nn.CrossEntropyLoss()\n",
    "            self.loss = nn.MSELoss()\n",
    "\n",
    "        def forward(self, x):\n",
    "            x = F.relu(self.fc1(x))\n",
    "            x = self.fc2(x)\n",
    "            return x\n",
    "\n",
    "    mlp = MLP()\n",
    "    optim = torch.optim.Adam(mlp.parameters(), lr=1e-5, weight_decay=0.2)\n",
    "\n",
    "    nEpoch = 1000\n",
    "    pPrint = 200\n",
    "\n",
    "    for epoch in range(nEpoch):\n",
    "        optim.zero_grad()\n",
    "        pred = mlp(feat_t_train).flatten()\n",
    "        loss = mlp.loss(pred, ages_t_train)\n",
    "        loss.backward()\n",
    "        optim.step()\n",
    "        if epoch % pPrint == 0 or epoch == nEpoch-1:\n",
    "            print(f'epoch {epoch} loss={loss}')\n",
    "\n",
    "    print(f'Complete MLP {split}')\n",
    "    \n",
    "    torch.save(mlp.state_dict(), f'../../Work/Explainer/Models/{outputDir}/mlp{split}.pkl')\n",
    "\n",
    "#     prob = mlp(feat_t[allIdcs]).squeeze()[testIdcsReindexed].detach().cpu().numpy()\n",
    "#     prob = mlp(feat_t[allIdcs]).squeeze()[testIdcs].detach().cpu().numpy()\n",
    "#     y = sexes_t[testIdcs].detach().cpu().numpy()\n",
    "#     pred = np.argmax(prob, axis=1)\n",
    "#     res = np.sum(pred == y)\n",
    "\n",
    "#     print(f'Correct {res} out of {y.shape[0]}')\n",
    "    \n",
    "    res = mlp(feat_t[allIdcs]).flatten()[testIdcs].detach().cpu().numpy()\n",
    "    mae = np.mean(np.abs(res-ages_t[testIdcs].detach().cpu().numpy()))\n",
    "    \n",
    "    print(f'Average mae {mae} for split {split}')\n",
    "    \n",
    "    nCorrectMLP[split] = mae\n",
    "#     nTotal[split] = y.shape[0]\n",
    "    \n",
    "# print(nCorrectGCN)\n",
    "print(nCorrectMLP)\n",
    "# print(nTotal)"
   ]
  },
  {
   "cell_type": "code",
   "execution_count": 14,
   "id": "77f20a74",
   "metadata": {},
   "outputs": [
    {
     "data": {
      "text/plain": [
       "1.7623294234275817"
      ]
     },
     "execution_count": 14,
     "metadata": {},
     "output_type": "execute_result"
    }
   ],
   "source": [
    "np.mean(nCorrectGCN)"
   ]
  },
  {
   "cell_type": "code",
   "execution_count": 34,
   "id": "b7bffb93",
   "metadata": {},
   "outputs": [
    {
     "data": {
      "text/plain": [
       "0.7428571428571429"
      ]
     },
     "execution_count": 34,
     "metadata": {},
     "output_type": "execute_result"
    }
   ],
   "source": [
    "np.sum(nCorrectMLP)/np.sum(nTotal)"
   ]
  },
  {
   "cell_type": "code",
   "execution_count": null,
   "id": "6a9209b7",
   "metadata": {},
   "outputs": [],
   "source": []
  }
 ],
 "metadata": {
  "kernelspec": {
   "display_name": "Python 3 (ipykernel)",
   "language": "python",
   "name": "python3"
  },
  "language_info": {
   "codemirror_mode": {
    "name": "ipython",
    "version": 3
   },
   "file_extension": ".py",
   "mimetype": "text/x-python",
   "name": "python",
   "nbconvert_exporter": "python",
   "pygments_lexer": "ipython3",
   "version": "3.10.2"
  }
 },
 "nbformat": 4,
 "nbformat_minor": 5
}
