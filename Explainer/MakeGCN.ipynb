{
 "cells": [
  {
   "cell_type": "code",
   "execution_count": 1,
   "id": "738f01f2",
   "metadata": {},
   "outputs": [
    {
     "name": "stdout",
     "output_type": "stream",
     "text": [
      "(650, 264, 231)\n",
      "(650, 264, 210)\n",
      "(650,)\n",
      "[ 9.66666667 15.58333333 15.83333333 20.16666667 11.41666667 11.58333333\n",
      "  9.41666667 17.5        15.25        9.58333333]\n"
     ]
    }
   ],
   "source": [
    "import sys\n",
    "\n",
    "sys.path.append('..')\n",
    "\n",
    "from LoadData2 import loadNbackEmoidAgesScansAndGenders, loadMeta\n",
    "\n",
    "pncDir = '../../PNC_Good'\n",
    "\n",
    "keys, nbackTs, emoidTs, ages = loadNbackEmoidAgesScansAndGenders(loadMeta(f'{pncDir}/MegaMeta3.pkl'))\n",
    "\n",
    "print(nbackTs.shape)\n",
    "print(emoidTs.shape)\n",
    "print(ages.shape)\n",
    "print(ages[0:10])"
   ]
  },
  {
   "cell_type": "code",
   "execution_count": 2,
   "id": "246e75ec",
   "metadata": {},
   "outputs": [
    {
     "name": "stdout",
     "output_type": "stream",
     "text": [
      "torch.Size([650, 69696])\n",
      "torch.Size([650, 69696])\n",
      "torch.Size([650])\n"
     ]
    }
   ],
   "source": [
    "# Get FC and convert to torch\n",
    "\n",
    "from LoadData2 import getFC\n",
    "import torch\n",
    "\n",
    "nbackP = getFC(nbackTs)\n",
    "emoidP = getFC(emoidTs)\n",
    "\n",
    "nbackP_t = torch.from_numpy(nbackP).reshape(650,264*264).float().cuda()\n",
    "emoidP_t = torch.from_numpy(emoidP).reshape(650,264*264).float().cuda()\n",
    "feat_t = torch.cat([nbackP_t, emoidP_t], dim=1)\n",
    "ages_t = torch.from_numpy(ages).float().cuda()\n",
    "\n",
    "print(nbackP_t.shape)\n",
    "print(emoidP_t.shape)\n",
    "print(ages_t.shape)"
   ]
  },
  {
   "cell_type": "code",
   "execution_count": 3,
   "id": "22006ab0",
   "metadata": {},
   "outputs": [
    {
     "name": "stdout",
     "output_type": "stream",
     "text": [
      "torch.Size([650, 650])\n"
     ]
    }
   ],
   "source": [
    "def normalize(A):\n",
    "    if A.shape[0] != A.shape[1]:\n",
    "        raise Exception(\"Bad A shape\")\n",
    "    d = torch.sum(A,dim=1)**0.5\n",
    "    return ((A/d).T/d).T\n",
    "\n",
    "# Cosine similarity\n",
    "\n",
    "def cosineSim(a, b):\n",
    "    nB = a.shape[0]\n",
    "    e = torch.einsum('ai,bi->ab',a,b)\n",
    "    aa = torch.einsum('ai,ai->a',a,a)**0.5\n",
    "    bb = torch.einsum('bi,bi->b',b,b)**0.5\n",
    "    e /= aa.unsqueeze(1)\n",
    "    e /= bb.unsqueeze(1).T\n",
    "    return normalize(e-torch.eye(nB).float().cuda())\n",
    "\n",
    "A = cosineSim(feat_t, feat_t)\n",
    "\n",
    "print(A.shape)"
   ]
  },
  {
   "cell_type": "code",
   "execution_count": 4,
   "id": "d395c7c1",
   "metadata": {
    "scrolled": true
   },
   "outputs": [
    {
     "name": "stdout",
     "output_type": "stream",
     "text": [
      "epoch 0 loss=236.02418518066406\n",
      "epoch 200 loss=9.154472351074219\n",
      "epoch 400 loss=5.707479000091553\n",
      "epoch 600 loss=4.358497619628906\n",
      "epoch 800 loss=3.577888011932373\n",
      "epoch 1000 loss=3.0755817890167236\n",
      "epoch 1200 loss=2.712596893310547\n",
      "epoch 1400 loss=2.435807943344116\n",
      "epoch 1600 loss=2.216533660888672\n",
      "epoch 1800 loss=2.0332930088043213\n",
      "epoch 2000 loss=1.8760297298431396\n",
      "epoch 2200 loss=1.8268015384674072\n",
      "epoch 2400 loss=1.556636095046997\n",
      "epoch 2600 loss=1.4357376098632812\n",
      "epoch 2800 loss=1.325613021850586\n",
      "epoch 3000 loss=1.2247850894927979\n",
      "epoch 3200 loss=1.1322771310806274\n",
      "epoch 3400 loss=1.0468876361846924\n",
      "epoch 3600 loss=0.9652971029281616\n",
      "epoch 3800 loss=0.8902499675750732\n",
      "epoch 3999 loss=0.8226085305213928\n",
      "Completed GCN\n"
     ]
    }
   ],
   "source": [
    "# Load model\n",
    "\n",
    "import torch\n",
    "import torch.nn as nn\n",
    "import torch.nn.functional as F\n",
    "from torch_geometric.nn.dense import DenseGCNConv\n",
    "\n",
    "class GCN(nn.Module):\n",
    "    def __init__(self):\n",
    "        super(GCN, self).__init__()\n",
    "        self.gc1 = DenseGCNConv(2*264*264,100).float().cuda()\n",
    "        self.gc2 = DenseGCNConv(100,1).float().cuda()\n",
    "        self.loss = nn.MSELoss()\n",
    "\n",
    "    def forward(self, x):\n",
    "        A = x[0]\n",
    "        z = x[1]\n",
    "        a = F.relu(self.gc1(z,A))\n",
    "        a = self.gc2(a,A)\n",
    "        return a\n",
    "    \n",
    "gcn = GCN()\n",
    "optim = torch.optim.Adam(gcn.parameters(), lr=1e-5, weight_decay=0.2)\n",
    "\n",
    "nEpoch = 4000\n",
    "pPrint = 200\n",
    "\n",
    "for epoch in range(nEpoch):\n",
    "    optim.zero_grad()\n",
    "    pred = gcn([A, feat_t]).flatten()\n",
    "    loss = gcn.loss(pred, ages_t)\n",
    "    loss.backward()\n",
    "    optim.step()\n",
    "    if epoch % pPrint == 0 or epoch == nEpoch-1:\n",
    "        print(f'epoch {epoch} loss={loss}')\n",
    "\n",
    "print('Completed GCN')"
   ]
  },
  {
   "cell_type": "code",
   "execution_count": 5,
   "id": "1e95e57f",
   "metadata": {},
   "outputs": [
    {
     "name": "stdout",
     "output_type": "stream",
     "text": [
      "tensor(0.8223, device='cuda:0', grad_fn=<MseLossBackward0>)\n"
     ]
    }
   ],
   "source": [
    "pred = gcn([A, feat_t]).flatten()\n",
    "loss = gcn.loss(pred, ages_t)\n",
    "                \n",
    "print(loss)"
   ]
  },
  {
   "cell_type": "code",
   "execution_count": 6,
   "id": "ad9e10cc",
   "metadata": {},
   "outputs": [
    {
     "name": "stdout",
     "output_type": "stream",
     "text": [
      "Complete\n"
     ]
    }
   ],
   "source": [
    "# Save model for explainer\n",
    "\n",
    "torch.save(gcn.state_dict(), '../../Work/Explainer/GCN_NbackEmoid3.pyt')\n",
    "\n",
    "print('Complete')"
   ]
  },
  {
   "cell_type": "code",
   "execution_count": null,
   "id": "2e798a0c",
   "metadata": {},
   "outputs": [],
   "source": []
  }
 ],
 "metadata": {
  "kernelspec": {
   "display_name": "torch",
   "language": "python",
   "name": "torch"
  },
  "language_info": {
   "codemirror_mode": {
    "name": "ipython",
    "version": 3
   },
   "file_extension": ".py",
   "mimetype": "text/x-python",
   "name": "python",
   "nbconvert_exporter": "python",
   "pygments_lexer": "ipython3",
   "version": "3.7.12"
  }
 },
 "nbformat": 4,
 "nbformat_minor": 5
}
