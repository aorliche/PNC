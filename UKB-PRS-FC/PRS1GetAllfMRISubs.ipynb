{
 "cells": [
  {
   "cell_type": "code",
   "execution_count": 1,
   "id": "f4e47cb4-050d-4b16-aef9-53691d83a053",
   "metadata": {},
   "outputs": [
    {
     "name": "stdout",
     "output_type": "stream",
     "text": [
      "40768\n"
     ]
    }
   ],
   "source": [
    "# Get list of fMRI subs for extracting only those subs from 3.4GB csv file (500,000 subs)\n",
    "\n",
    "import pickle\n",
    "\n",
    "demofile = '/home/anton/Documents/Tulane/Research/ImageNomer/data/UKB2/demographics.pkl'\n",
    "demo = pickle.load(open(demofile, 'rb'))\n",
    "\n",
    "subs = set()\n",
    "\n",
    "for dct in demo.values():\n",
    "    subs.update(list(dct.keys()))\n",
    "\n",
    "print(len(subs))"
   ]
  },
  {
   "cell_type": "code",
   "execution_count": 6,
   "id": "8a44caba-61e5-43d9-9210-1ea9f60d9fb1",
   "metadata": {},
   "outputs": [
    {
     "name": "stdout",
     "output_type": "stream",
     "text": [
      "Done\n"
     ]
    }
   ],
   "source": [
    "subs = list(subs)\n",
    "subs.sort()\n",
    "\n",
    "ofile = '/home/anton/Documents/Tulane/Research/ImageNomer/data/UKB2/fmri-subs.txt'\n",
    "\n",
    "with open(ofile, 'w') as f:\n",
    "    for sub in subs:\n",
    "        f.write(f'{sub}\\n')\n",
    "\n",
    "print('Done')"
   ]
  },
  {
   "cell_type": "code",
   "execution_count": null,
   "id": "245b597a-23de-4143-90fc-39b70e067ace",
   "metadata": {},
   "outputs": [],
   "source": []
  }
 ],
 "metadata": {
  "kernelspec": {
   "display_name": "Python 3 (ipykernel)",
   "language": "python",
   "name": "python3"
  },
  "language_info": {
   "codemirror_mode": {
    "name": "ipython",
    "version": 3
   },
   "file_extension": ".py",
   "mimetype": "text/x-python",
   "name": "python",
   "nbconvert_exporter": "python",
   "pygments_lexer": "ipython3",
   "version": "3.11.8"
  }
 },
 "nbformat": 4,
 "nbformat_minor": 5
}
