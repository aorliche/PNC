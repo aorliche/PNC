{
 "cells": [
  {
   "cell_type": "code",
   "execution_count": 11,
   "id": "8f707500",
   "metadata": {},
   "outputs": [
    {
     "name": "stdout",
     "output_type": "stream",
     "text": [
      "[40.95212222 29.3317106   3.35672516 27.01908607  3.42679204 24.73724291\n",
      " 28.37955924 22.55007812 16.84891646 11.52439585 25.83615373 -5.70443875\n",
      "  9.79819079 30.97465756 15.39219344  2.01911217 26.10621439 16.19007094\n",
      " 18.99500605  6.69123028 20.32112186 20.88427714  7.76978286 27.05039057\n",
      "  1.33141329 51.74437062 13.8738723  19.10522895 28.29971017 17.29113221\n",
      " 37.81431327 17.92136201 17.83349281  4.30052521  6.86741126  1.72477774\n",
      " 39.76633918 29.07044762 36.70296818 25.38526546 45.2353617  41.97702185\n",
      " 39.24575173 38.97054103 40.8590409   7.4826443  17.47553561 17.85947483\n",
      " 17.00424118 28.27388072 18.68027508 23.45611965 32.07596065 15.6435524\n",
      " 32.20904982 30.13631169 21.78207668 24.94633832 42.60147418 32.93621049\n",
      "  8.33236559 53.78134993 31.40185819 66.74139231 15.21793989 42.90061962\n",
      " 35.96352837 43.60942971  9.644673   29.46185037 40.7937953  16.86957786\n",
      " 28.32907845 14.24640949 15.55178682 37.37355238 20.12368258 20.57937721\n",
      " 13.67793499 23.73376546 11.11862927 45.45298605 19.07496971 14.14703451\n",
      " 29.4577707  44.22577532 18.10419035  5.78652795 11.25627595 16.94922611\n",
      " 11.10365788 19.11192332 14.7947127  19.49741906 25.08664621 23.02214795\n",
      " 25.30105119 32.38845193  7.57512334  3.65385352]\n"
     ]
    }
   ],
   "source": [
    "import numpy as np\n",
    "import matplotlib.pyplot as plt\n",
    "\n",
    "nRoi = 16\n",
    "nt = 30\n",
    "\n",
    "ageWeights = np.zeros([nRoi,nRoi])\n",
    "ageWeights[0:5,0:5] = 10*(1-np.eye(5))\n",
    "\n",
    "N = 100\n",
    "\n",
    "X = np.zeros([N,nRoi,nt])\n",
    "y = np.zeros(N)\n",
    "\n",
    "for i in range(N):\n",
    "    for j in range(nRoi):\n",
    "        X[i,j,:] = np.random.randn(nt)\n",
    "        \n",
    "Xp = np.zeros([N,nRoi,nRoi])\n",
    "        \n",
    "for i in range(N):\n",
    "    Xp[i,:,:] = np.corrcoef(X[i])\n",
    "    y[i] = np.sum(Xp[i]*ageWeights)+20\n",
    "    \n",
    "print(y)"
   ]
  },
  {
   "cell_type": "code",
   "execution_count": 6,
   "id": "a010d454",
   "metadata": {},
   "outputs": [
    {
     "data": {
      "image/png": "[encoded data removed]",
      "text/plain": [
       "<Figure size 432x288 with 2 Axes>"
      ]
     },
     "metadata": {
      "needs_background": "light"
     },
     "output_type": "display_data"
    }
   ],
   "source": [
    "plt.imshow(Xp[0])\n",
    "plt.colorbar()\n",
    "plt.show()"
   ]
  },
  {
   "cell_type": "code",
   "execution_count": 16,
   "id": "c53c6344",
   "metadata": {},
   "outputs": [],
   "source": [
    "yTrain = y[:80]\n",
    "yTest = y[80:]\n",
    "\n",
    "XTrain = Xp[:80].reshape([-1,nRoi*nRoi])\n",
    "XTest = Xp[80:].reshape([-1,nRoi*nRoi])\n",
    "\n",
    "w, _, _, _ = np.linalg.lstsq(XTrain, yTrain, rcond=None);\n",
    "\n",
    "yPredTrain = XTrain@w\n",
    "yPredTest = XTest@w"
   ]
  },
  {
   "cell_type": "code",
   "execution_count": 17,
   "id": "9628a082",
   "metadata": {},
   "outputs": [
    {
     "name": "stdout",
     "output_type": "stream",
     "text": [
      "[ 1.74334472  6.21395643  5.00599754  2.42762636  4.18322013 18.77463052\n",
      " -3.40875853  3.25422858 -1.99698877  5.81751368 -1.735228   -5.56222329\n",
      "  3.36002362 -1.71195623 -5.42699689 -1.10144757 -6.35039612 -4.24732643\n",
      " -0.91942628 -9.5929969 ]\n"
     ]
    }
   ],
   "source": [
    "print(yTest-yPredTest)"
   ]
  },
  {
   "cell_type": "code",
   "execution_count": 19,
   "id": "62a81080",
   "metadata": {},
   "outputs": [
    {
     "data": {
      "image/png": "[encoded data removed]",
      "text/plain": [
       "<Figure size 432x288 with 2 Axes>"
      ]
     },
     "metadata": {
      "needs_background": "light"
     },
     "output_type": "display_data"
    }
   ],
   "source": [
    "w2 = w.reshape([nRoi,nRoi])\n",
    "plt.imshow(w2)\n",
    "plt.colorbar()\n",
    "plt.show()"
   ]
  },
  {
   "cell_type": "code",
   "execution_count": 20,
   "id": "566990ac",
   "metadata": {},
   "outputs": [
    {
     "name": "stdout",
     "output_type": "stream",
     "text": [
      "4.641714330572449\n",
      "8.594689878902562\n"
     ]
    }
   ],
   "source": [
    "print(np.mean(np.abs(yTest-yPredTest)))\n",
    "print(np.mean(np.abs(yTest-np.mean(yTest))))"
   ]
  },
  {
   "cell_type": "code",
   "execution_count": 32,
   "id": "12698960",
   "metadata": {},
   "outputs": [
    {
     "name": "stdout",
     "output_type": "stream",
     "text": [
      "Complete\n"
     ]
    }
   ],
   "source": [
    "import torch\n",
    "import torch.nn as nn\n",
    "import torch.nn.functional as F\n",
    "\n",
    "class Trans(nn.Module):\n",
    "    def __init__(self):\n",
    "        super(Trans, self).__init__()\n",
    "        self.trans = nn.Transformer(d_model=nRoi, nhead=8, \n",
    "                                    num_encoder_layers=2, num_decoder_layers=2, \n",
    "                                    dim_feedforward=50, dropout=0.1).cuda()\n",
    "        self.fc1 = nn.Linear(nRoi,50).cuda()\n",
    "        self.fc2 = nn.Linear(50,1).cuda()\n",
    "        \n",
    "    def forward(self, x):\n",
    "        nB = x.shape[0]\n",
    "        x = torch.cat([x, torch.ones(nB, nRoi, 1).cuda()], dim=2)\n",
    "        x = x.permute(2,0,1)\n",
    "        x = self.trans(x,x)#,src_mask=mask,tgt_mask=mask)\n",
    "        x = x[nt,:,:]\n",
    "        x = F.relu(self.fc1(x))\n",
    "        x = self.fc2(x)\n",
    "        return x\n",
    "    \n",
    "trans = Trans()\n",
    "optim = torch.optim.Adam(trans.parameters(), lr=1e-3)\n",
    "\n",
    "print('Complete')"
   ]
  },
  {
   "cell_type": "code",
   "execution_count": 39,
   "id": "4fa79a12",
   "metadata": {},
   "outputs": [
    {
     "name": "stdout",
     "output_type": "stream",
     "text": [
      "epoch 0 loss=23.777325\n",
      "epoch 100 loss=10.803275\n",
      "epoch 200 loss=5.344508\n",
      "epoch 300 loss=3.820797\n",
      "epoch 400 loss=3.523511\n",
      "epoch 500 loss=3.036718\n",
      "epoch 600 loss=2.908932\n",
      "epoch 700 loss=2.507263\n",
      "epoch 800 loss=2.458384\n",
      "epoch 900 loss=2.406330\n",
      "epoch 1000 loss=2.092309\n",
      "epoch 1100 loss=1.956045\n",
      "epoch 1200 loss=1.873391\n",
      "epoch 1300 loss=1.865977\n",
      "epoch 1400 loss=1.680018\n",
      "epoch 1500 loss=1.755749\n",
      "epoch 1600 loss=1.660484\n",
      "epoch 1700 loss=1.651982\n",
      "epoch 1800 loss=1.674632\n",
      "epoch 1900 loss=1.612055\n",
      "epoch 1999 loss=1.598260\n",
      "Finished training\n"
     ]
    }
   ],
   "source": [
    "import random\n",
    "\n",
    "XTrain_t = torch.from_numpy(X[:80]).float().cuda()\n",
    "XTest_t = torch.from_numpy(X[80:]).float().cuda()\n",
    "\n",
    "running = 0\n",
    "nEpoch = 2000\n",
    "pPeriod = 100\n",
    "nB = 10\n",
    "NTrain = XTrain_t.shape[0]\n",
    "\n",
    "for epoch in range(nEpoch):\n",
    "    batch = []\n",
    "    truth = torch.zeros(nB).float().cuda()\n",
    "    for i in range(nB):\n",
    "        idx = random.randint(0,NTrain-1)\n",
    "        batch.append(XTrain_t[idx])\n",
    "        truth[i] = yTrain[idx]\n",
    "    batch = torch.stack(batch)\n",
    "    optim.zero_grad()\n",
    "    pred = trans(batch).flatten()\n",
    "    loss = torch.sum((pred-truth)**2)\n",
    "    loss.backward()\n",
    "    running += loss.detach().cpu()\n",
    "    optim.step()\n",
    "    if epoch % pPeriod == 0 or epoch == nEpoch-1:\n",
    "        if epoch != 0:\n",
    "            if epoch % pPeriod != 0:\n",
    "                running /= epoch % pPeriod\n",
    "            else:\n",
    "                running /= pPeriod\n",
    "        print('epoch {:d} loss={:f}'.format(epoch, ((running/nB)**0.5)))\n",
    "        running = 0\n",
    "\n",
    "print('Finished training')"
   ]
  },
  {
   "cell_type": "code",
   "execution_count": 40,
   "id": "4a024a1d",
   "metadata": {},
   "outputs": [
    {
     "name": "stdout",
     "output_type": "stream",
     "text": [
      "1.1384449571773974\n",
      "10.964415616573572\n"
     ]
    }
   ],
   "source": [
    "yPred2Test = trans(XTrain_t).flatten().detach().cpu().numpy()\n",
    "print(np.mean(np.abs(yTrain-yPred2Test)))\n",
    "print(np.mean(np.abs(yTrain-np.mean(yTrain))))"
   ]
  },
  {
   "cell_type": "code",
   "execution_count": 41,
   "id": "f5644233",
   "metadata": {},
   "outputs": [
    {
     "name": "stdout",
     "output_type": "stream",
     "text": [
      "10.288997239923466\n",
      "8.594689878902562\n"
     ]
    }
   ],
   "source": [
    "yPred3Test = trans(XTest_t).flatten().detach().cpu().numpy()\n",
    "print(np.mean(np.abs(yTest-yPred3Test)))\n",
    "print(np.mean(np.abs(yTest-np.mean(yTest))))"
   ]
  },
  {
   "cell_type": "code",
   "execution_count": 36,
   "id": "d5ed52f9",
   "metadata": {},
   "outputs": [
    {
     "data": {
      "text/plain": [
       "tensor([[41.0569],\n",
       "        [29.5593],\n",
       "        [ 3.1001],\n",
       "        [27.0005],\n",
       "        [ 3.2681],\n",
       "        [24.8252],\n",
       "        [28.6557],\n",
       "        [22.3241],\n",
       "        [16.9818],\n",
       "        [11.7467],\n",
       "        [19.3390],\n",
       "        [ 3.0128],\n",
       "        [22.4742],\n",
       "        [ 3.1744],\n",
       "        [21.5901],\n",
       "        [ 5.5389],\n",
       "        [18.3612],\n",
       "        [25.0590],\n",
       "        [14.6985],\n",
       "        [28.3059],\n",
       "        [13.4827],\n",
       "        [10.1430],\n",
       "        [ 3.2181],\n",
       "        [27.6058],\n",
       "        [ 6.9644],\n",
       "        [16.1028],\n",
       "        [33.4630],\n",
       "        [10.0918],\n",
       "        [ 7.3769],\n",
       "        [22.9725],\n",
       "        [17.9089],\n",
       "        [25.2952],\n",
       "        [23.6523],\n",
       "        [27.5669],\n",
       "        [11.5850],\n",
       "        [ 3.8741],\n",
       "        [ 3.1266],\n",
       "        [15.3945],\n",
       "        [16.0859],\n",
       "        [13.6218],\n",
       "        [11.1019],\n",
       "        [21.8192],\n",
       "        [21.1464],\n",
       "        [ 3.0478],\n",
       "        [18.7520],\n",
       "        [16.3890],\n",
       "        [26.9829],\n",
       "        [20.3938],\n",
       "        [ 5.2449],\n",
       "        [28.1766],\n",
       "        [12.3769],\n",
       "        [25.2399],\n",
       "        [22.1848],\n",
       "        [12.4321],\n",
       "        [25.3888],\n",
       "        [ 3.1704],\n",
       "        [ 3.4727],\n",
       "        [17.7968],\n",
       "        [16.5398],\n",
       "        [ 3.2365],\n",
       "        [ 8.2004],\n",
       "        [ 4.0589],\n",
       "        [27.1224],\n",
       "        [30.4436],\n",
       "        [10.6425],\n",
       "        [17.4001],\n",
       "        [21.9161],\n",
       "        [16.6932],\n",
       "        [ 3.4386],\n",
       "        [14.9375],\n",
       "        [ 2.1755],\n",
       "        [12.4590],\n",
       "        [16.8323],\n",
       "        [ 3.4583],\n",
       "        [22.4381],\n",
       "        [20.7426],\n",
       "        [23.9441],\n",
       "        [21.0862],\n",
       "        [27.8377],\n",
       "        [20.0870]], device='cuda:0', grad_fn=<AddmmBackward>)"
      ]
     },
     "execution_count": 36,
     "metadata": {},
     "output_type": "execute_result"
    }
   ],
   "source": [
    "trans(XTrain_t)"
   ]
  },
  {
   "cell_type": "code",
   "execution_count": 37,
   "id": "e0cd5ed0",
   "metadata": {},
   "outputs": [
    {
     "data": {
      "text/plain": [
       "array([40.95212222, 29.3317106 ,  3.35672516, 27.01908607,  3.42679204,\n",
       "       24.73724291, 28.37955924, 22.55007812, 16.84891646, 11.52439585,\n",
       "       25.83615373, -5.70443875,  9.79819079, 30.97465756, 15.39219344,\n",
       "        2.01911217, 26.10621439, 16.19007094, 18.99500605,  6.69123028,\n",
       "       20.32112186, 20.88427714,  7.76978286, 27.05039057,  1.33141329,\n",
       "       51.74437062, 13.8738723 , 19.10522895, 28.29971017, 17.29113221,\n",
       "       37.81431327, 17.92136201, 17.83349281,  4.30052521,  6.86741126,\n",
       "        1.72477774, 39.76633918, 29.07044762, 36.70296818, 25.38526546,\n",
       "       45.2353617 , 41.97702185, 39.24575173, 38.97054103, 40.8590409 ,\n",
       "        7.4826443 , 17.47553561, 17.85947483, 17.00424118, 28.27388072,\n",
       "       18.68027508, 23.45611965, 32.07596065, 15.6435524 , 32.20904982,\n",
       "       30.13631169, 21.78207668, 24.94633832, 42.60147418, 32.93621049,\n",
       "        8.33236559, 53.78134993, 31.40185819, 66.74139231, 15.21793989,\n",
       "       42.90061962, 35.96352837, 43.60942971,  9.644673  , 29.46185037,\n",
       "       40.7937953 , 16.86957786, 28.32907845, 14.24640949, 15.55178682,\n",
       "       37.37355238, 20.12368258, 20.57937721, 13.67793499, 23.73376546])"
      ]
     },
     "execution_count": 37,
     "metadata": {},
     "output_type": "execute_result"
    }
   ],
   "source": [
    "yTrain"
   ]
  },
  {
   "cell_type": "code",
   "execution_count": null,
   "id": "bbffee09",
   "metadata": {},
   "outputs": [],
   "source": []
  }
 ],
 "metadata": {
  "kernelspec": {
   "display_name": "Python 3",
   "language": "python",
   "name": "python3"
  },
  "language_info": {
   "codemirror_mode": {
    "name": "ipython",
    "version": 3
   },
   "file_extension": ".py",
   "mimetype": "text/x-python",
   "name": "python",
   "nbconvert_exporter": "python",
   "pygments_lexer": "ipython3",
   "version": "3.9.5"
  }
 },
 "nbformat": 4,
 "nbformat_minor": 5
}
