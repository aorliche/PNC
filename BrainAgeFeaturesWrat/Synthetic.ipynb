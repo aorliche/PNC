{
 "cells": [
  {
   "cell_type": "code",
   "execution_count": 90,
   "metadata": {},
   "outputs": [
    {
     "name": "stdout",
     "output_type": "stream",
     "text": [
      "[ 9.62272818 34.8787121  27.23768792 20.99686598 18.72926505  9.79895159\n",
      " 15.09037442 26.4864304   9.19909506 24.59468227 31.3202712  27.56835333\n",
      "  5.77252649 25.17552516 18.32919374 20.93141825  0.82786687 13.11065543\n",
      " 41.60122711 12.58274582 14.113877   11.70883501 21.55189126  6.2131206\n",
      " 18.99005366 21.66534023 11.20739157 17.17605347  6.37331675 21.14184854\n",
      " 49.65026132 10.62746653 36.80730125  1.34309823 31.419664   14.80273018\n",
      " 14.6981438   2.0313004  20.21554111 58.29700573 25.94866269 33.67383766\n",
      " 11.53014124 11.9121303   5.07906651 27.46760736 19.90944704 30.14769209\n",
      " 27.72666083 35.84929031 27.07692973 14.35919992  5.0137429  11.36113266\n",
      " 17.76481513 32.87034955  9.95923875  9.16474721  3.12181345 20.28572979\n",
      " 14.9021328  33.69654122 24.90091395  5.36081738  9.45344054 39.72287556\n",
      " 27.27501708 13.69573651  8.60551761 19.16210097 28.48113861 13.52646516\n",
      " 48.88477979 15.04506472 16.28131932 26.03390406  7.76397649 -2.30225888\n",
      " 27.25683525 21.19825417 13.95729411 19.66786471 17.19019017 31.86169138\n",
      "  8.82054339 30.17641525 22.09435426 30.78542993 19.24303399 28.54092199\n",
      " 25.6314068  -3.93924354 40.77122405  5.46776264 25.17516039 15.84626438\n",
      " 22.71776772 25.96293997  0.45810677 10.03823447]\n"
     ]
    }
   ],
   "source": [
    "import numpy as np\n",
    "import matplotlib.pyplot as plt\n",
    "\n",
    "nRoi = 16\n",
    "nt = 30\n",
    "\n",
    "ageWeights = np.zeros([nRoi,nRoi])\n",
    "ageWeights[0:5,0:5] = 10*(1-np.eye(5))\n",
    "\n",
    "N = 100\n",
    "\n",
    "X = np.zeros([N,nRoi,nt])\n",
    "y = np.zeros(N)\n",
    "\n",
    "for i in range(N):\n",
    "    for j in range(nRoi):\n",
    "        X[i,j,:] = np.random.randn(nt)\n",
    "        \n",
    "Xp = np.zeros([N,nRoi,nRoi])\n",
    "        \n",
    "for i in range(N):\n",
    "    Xp[i,:,:] = np.corrcoef(X[i])\n",
    "    y[i] = np.sum(Xp[i]*ageWeights)+20\n",
    "    \n",
    "print(y)"
   ]
  },
  {
   "cell_type": "code",
   "execution_count": 94,
   "metadata": {},
   "outputs": [
    {
     "data": {
      "image/png": "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\n",
      "text/plain": [
       "<Figure size 432x288 with 2 Axes>"
      ]
     },
     "metadata": {
      "needs_background": "light"
     },
     "output_type": "display_data"
    }
   ],
   "source": [
    "plt.imshow(Xp[0])\n",
    "plt.colorbar()\n",
    "plt.show()"
   ]
  },
  {
   "cell_type": "code",
   "execution_count": 16,
   "metadata": {},
   "outputs": [],
   "source": [
    "yTrain = y[:80]\n",
    "yTest = y[80:]\n",
    "\n",
    "XTrain = Xp[:80].reshape([-1,nRoi*nRoi])\n",
    "XTest = Xp[80:].reshape([-1,nRoi*nRoi])\n",
    "\n",
    "w, _, _, _ = np.linalg.lstsq(XTrain, yTrain, rcond=None);\n",
    "\n",
    "yPredTrain = XTrain@w\n",
    "yPredTest = XTest@w"
   ]
  },
  {
   "cell_type": "code",
   "execution_count": 17,
   "metadata": {},
   "outputs": [
    {
     "name": "stdout",
     "output_type": "stream",
     "text": [
      "[ 1.74334472  6.21395643  5.00599754  2.42762636  4.18322013 18.77463052\n",
      " -3.40875853  3.25422858 -1.99698877  5.81751368 -1.735228   -5.56222329\n",
      "  3.36002362 -1.71195623 -5.42699689 -1.10144757 -6.35039612 -4.24732643\n",
      " -0.91942628 -9.5929969 ]\n"
     ]
    }
   ],
   "source": [
    "print(yTest-yPredTest)"
   ]
  },
  {
   "cell_type": "code",
   "execution_count": 19,
   "metadata": {},
   "outputs": [
    {
     "data": {
      "image/png": "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\n",
      "text/plain": [
       "<Figure size 432x288 with 2 Axes>"
      ]
     },
     "metadata": {
      "needs_background": "light"
     },
     "output_type": "display_data"
    }
   ],
   "source": [
    "w2 = w.reshape([nRoi,nRoi])\n",
    "plt.imshow(w2)\n",
    "plt.colorbar()\n",
    "plt.show()"
   ]
  },
  {
   "cell_type": "code",
   "execution_count": 20,
   "metadata": {},
   "outputs": [
    {
     "name": "stdout",
     "output_type": "stream",
     "text": [
      "4.641714330572449\n",
      "8.594689878902562\n"
     ]
    }
   ],
   "source": [
    "print(np.mean(np.abs(yTest-yPredTest)))\n",
    "print(np.mean(np.abs(yTest-np.mean(yTest))))"
   ]
  },
  {
   "cell_type": "code",
   "execution_count": 32,
   "metadata": {},
   "outputs": [
    {
     "name": "stdout",
     "output_type": "stream",
     "text": [
      "Complete\n"
     ]
    }
   ],
   "source": [
    "import torch\n",
    "import torch.nn as nn\n",
    "import torch.nn.functional as F\n",
    "\n",
    "class Trans(nn.Module):\n",
    "    def __init__(self):\n",
    "        super(Trans, self).__init__()\n",
    "        self.trans = nn.Transformer(d_model=nRoi, nhead=8, \n",
    "                                    num_encoder_layers=2, num_decoder_layers=2, \n",
    "                                    dim_feedforward=50, dropout=0.1).cuda()\n",
    "        self.fc1 = nn.Linear(nRoi,50).cuda()\n",
    "        self.fc2 = nn.Linear(50,1).cuda()\n",
    "        \n",
    "    def forward(self, x):\n",
    "        nB = x.shape[0]\n",
    "        x = torch.cat([x, torch.ones(nB, nRoi, 1).cuda()], dim=2)\n",
    "        x = x.permute(2,0,1)\n",
    "        x = self.trans(x,x)#,src_mask=mask,tgt_mask=mask)\n",
    "        x = x[nt,:,:]\n",
    "        x = F.relu(self.fc1(x))\n",
    "        x = self.fc2(x)\n",
    "        return x\n",
    "    \n",
    "trans = Trans()\n",
    "optim = torch.optim.Adam(trans.parameters(), lr=1e-3)\n",
    "\n",
    "print('Complete')"
   ]
  },
  {
   "cell_type": "code",
   "execution_count": 39,
   "metadata": {},
   "outputs": [
    {
     "name": "stdout",
     "output_type": "stream",
     "text": [
      "epoch 0 loss=23.777325\n",
      "epoch 100 loss=10.803275\n",
      "epoch 200 loss=5.344508\n",
      "epoch 300 loss=3.820797\n",
      "epoch 400 loss=3.523511\n",
      "epoch 500 loss=3.036718\n",
      "epoch 600 loss=2.908932\n",
      "epoch 700 loss=2.507263\n",
      "epoch 800 loss=2.458384\n",
      "epoch 900 loss=2.406330\n",
      "epoch 1000 loss=2.092309\n",
      "epoch 1100 loss=1.956045\n",
      "epoch 1200 loss=1.873391\n",
      "epoch 1300 loss=1.865977\n",
      "epoch 1400 loss=1.680018\n",
      "epoch 1500 loss=1.755749\n",
      "epoch 1600 loss=1.660484\n",
      "epoch 1700 loss=1.651982\n",
      "epoch 1800 loss=1.674632\n",
      "epoch 1900 loss=1.612055\n",
      "epoch 1999 loss=1.598260\n",
      "Finished training\n"
     ]
    }
   ],
   "source": [
    "import random\n",
    "\n",
    "XTrain_t = torch.from_numpy(X[:80]).float().cuda()\n",
    "XTest_t = torch.from_numpy(X[80:]).float().cuda()\n",
    "\n",
    "running = 0\n",
    "nEpoch = 2000\n",
    "pPeriod = 100\n",
    "nB = 10\n",
    "NTrain = XTrain_t.shape[0]\n",
    "\n",
    "for epoch in range(nEpoch):\n",
    "    batch = []\n",
    "    truth = torch.zeros(nB).float().cuda()\n",
    "    for i in range(nB):\n",
    "        idx = random.randint(0,NTrain-1)\n",
    "        batch.append(XTrain_t[idx])\n",
    "        truth[i] = yTrain[idx]\n",
    "    batch = torch.stack(batch)\n",
    "    optim.zero_grad()\n",
    "    pred = trans(batch).flatten()\n",
    "    loss = torch.sum((pred-truth)**2)\n",
    "    loss.backward()\n",
    "    running += loss.detach().cpu()\n",
    "    optim.step()\n",
    "    if epoch % pPeriod == 0 or epoch == nEpoch-1:\n",
    "        if epoch != 0:\n",
    "            if epoch % pPeriod != 0:\n",
    "                running /= epoch % pPeriod\n",
    "            else:\n",
    "                running /= pPeriod\n",
    "        print('epoch {:d} loss={:f}'.format(epoch, ((running/nB)**0.5)))\n",
    "        running = 0\n",
    "\n",
    "print('Finished training')"
   ]
  },
  {
   "cell_type": "code",
   "execution_count": 40,
   "metadata": {},
   "outputs": [
    {
     "name": "stdout",
     "output_type": "stream",
     "text": [
      "1.1384449571773974\n",
      "10.964415616573572\n"
     ]
    }
   ],
   "source": [
    "yPred2Test = trans(XTrain_t).flatten().detach().cpu().numpy()\n",
    "print(np.mean(np.abs(yTrain-yPred2Test)))\n",
    "print(np.mean(np.abs(yTrain-np.mean(yTrain))))"
   ]
  },
  {
   "cell_type": "code",
   "execution_count": 41,
   "metadata": {},
   "outputs": [
    {
     "name": "stdout",
     "output_type": "stream",
     "text": [
      "10.288997239923466\n",
      "8.594689878902562\n"
     ]
    }
   ],
   "source": [
    "yPred3Test = trans(XTest_t).flatten().detach().cpu().numpy()\n",
    "print(np.mean(np.abs(yTest-yPred3Test)))\n",
    "print(np.mean(np.abs(yTest-np.mean(yTest))))"
   ]
  },
  {
   "cell_type": "code",
   "execution_count": 36,
   "metadata": {},
   "outputs": [
    {
     "data": {
      "text/plain": [
       "tensor([[41.0569],\n",
       "        [29.5593],\n",
       "        [ 3.1001],\n",
       "        [27.0005],\n",
       "        [ 3.2681],\n",
       "        [24.8252],\n",
       "        [28.6557],\n",
       "        [22.3241],\n",
       "        [16.9818],\n",
       "        [11.7467],\n",
       "        [19.3390],\n",
       "        [ 3.0128],\n",
       "        [22.4742],\n",
       "        [ 3.1744],\n",
       "        [21.5901],\n",
       "        [ 5.5389],\n",
       "        [18.3612],\n",
       "        [25.0590],\n",
       "        [14.6985],\n",
       "        [28.3059],\n",
       "        [13.4827],\n",
       "        [10.1430],\n",
       "        [ 3.2181],\n",
       "        [27.6058],\n",
       "        [ 6.9644],\n",
       "        [16.1028],\n",
       "        [33.4630],\n",
       "        [10.0918],\n",
       "        [ 7.3769],\n",
       "        [22.9725],\n",
       "        [17.9089],\n",
       "        [25.2952],\n",
       "        [23.6523],\n",
       "        [27.5669],\n",
       "        [11.5850],\n",
       "        [ 3.8741],\n",
       "        [ 3.1266],\n",
       "        [15.3945],\n",
       "        [16.0859],\n",
       "        [13.6218],\n",
       "        [11.1019],\n",
       "        [21.8192],\n",
       "        [21.1464],\n",
       "        [ 3.0478],\n",
       "        [18.7520],\n",
       "        [16.3890],\n",
       "        [26.9829],\n",
       "        [20.3938],\n",
       "        [ 5.2449],\n",
       "        [28.1766],\n",
       "        [12.3769],\n",
       "        [25.2399],\n",
       "        [22.1848],\n",
       "        [12.4321],\n",
       "        [25.3888],\n",
       "        [ 3.1704],\n",
       "        [ 3.4727],\n",
       "        [17.7968],\n",
       "        [16.5398],\n",
       "        [ 3.2365],\n",
       "        [ 8.2004],\n",
       "        [ 4.0589],\n",
       "        [27.1224],\n",
       "        [30.4436],\n",
       "        [10.6425],\n",
       "        [17.4001],\n",
       "        [21.9161],\n",
       "        [16.6932],\n",
       "        [ 3.4386],\n",
       "        [14.9375],\n",
       "        [ 2.1755],\n",
       "        [12.4590],\n",
       "        [16.8323],\n",
       "        [ 3.4583],\n",
       "        [22.4381],\n",
       "        [20.7426],\n",
       "        [23.9441],\n",
       "        [21.0862],\n",
       "        [27.8377],\n",
       "        [20.0870]], device='cuda:0', grad_fn=<AddmmBackward>)"
      ]
     },
     "execution_count": 36,
     "metadata": {},
     "output_type": "execute_result"
    }
   ],
   "source": [
    "trans(XTrain_t)"
   ]
  },
  {
   "cell_type": "code",
   "execution_count": 37,
   "metadata": {},
   "outputs": [
    {
     "data": {
      "text/plain": [
       "array([40.95212222, 29.3317106 ,  3.35672516, 27.01908607,  3.42679204,\n",
       "       24.73724291, 28.37955924, 22.55007812, 16.84891646, 11.52439585,\n",
       "       25.83615373, -5.70443875,  9.79819079, 30.97465756, 15.39219344,\n",
       "        2.01911217, 26.10621439, 16.19007094, 18.99500605,  6.69123028,\n",
       "       20.32112186, 20.88427714,  7.76978286, 27.05039057,  1.33141329,\n",
       "       51.74437062, 13.8738723 , 19.10522895, 28.29971017, 17.29113221,\n",
       "       37.81431327, 17.92136201, 17.83349281,  4.30052521,  6.86741126,\n",
       "        1.72477774, 39.76633918, 29.07044762, 36.70296818, 25.38526546,\n",
       "       45.2353617 , 41.97702185, 39.24575173, 38.97054103, 40.8590409 ,\n",
       "        7.4826443 , 17.47553561, 17.85947483, 17.00424118, 28.27388072,\n",
       "       18.68027508, 23.45611965, 32.07596065, 15.6435524 , 32.20904982,\n",
       "       30.13631169, 21.78207668, 24.94633832, 42.60147418, 32.93621049,\n",
       "        8.33236559, 53.78134993, 31.40185819, 66.74139231, 15.21793989,\n",
       "       42.90061962, 35.96352837, 43.60942971,  9.644673  , 29.46185037,\n",
       "       40.7937953 , 16.86957786, 28.32907845, 14.24640949, 15.55178682,\n",
       "       37.37355238, 20.12368258, 20.57937721, 13.67793499, 23.73376546])"
      ]
     },
     "execution_count": 37,
     "metadata": {},
     "output_type": "execute_result"
    }
   ],
   "source": [
    "yTrain"
   ]
  },
  {
   "cell_type": "code",
   "execution_count": 30,
   "metadata": {},
   "outputs": [
    {
     "data": {
      "image/png": "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\n",
      "text/plain": [
       "<Figure size 432x288 with 2 Axes>"
      ]
     },
     "metadata": {
      "needs_background": "light"
     },
     "output_type": "display_data"
    }
   ],
   "source": [
    "# Change the connectivity (covariance) at one location in ROIxROI space by making changes to a timeseries\n",
    "\n",
    "def changeConn(ts,bIdx,delta):\n",
    "    ABC = np.zeros([ts.shape[1], ts.shape[1]])\n",
    "    for i in range(ts.shape[0]):\n",
    "        if i != bIdx:\n",
    "            abc = ts[i:i+1,:]\n",
    "            ABC += abc.T@abc\n",
    "    b = ts[bIdx,:]\n",
    "    da = b@np.linalg.inv(ABC)\n",
    "    mlt = b@da.T\n",
    "    return delta*da/mlt\n",
    "\n",
    "def applyChangeConn(ts,da,aIdx):\n",
    "    ts = ts.copy()\n",
    "    ts[aIdx,:] += da\n",
    "    return ts\n",
    "\n",
    "da = changeConn(X[0],1,11.5)\n",
    "ts = applyChangeConn(X[0],da,0)\n",
    "c0 = np.cov(X[0])\n",
    "c1 = np.cov(ts)\n",
    "\n",
    "plt.imshow(c0-c1)\n",
    "plt.colorbar()\n",
    "plt.show()"
   ]
  },
  {
   "cell_type": "code",
   "execution_count": 4,
   "metadata": {},
   "outputs": [
    {
     "data": {
      "text/plain": [
       "3"
      ]
     },
     "execution_count": 4,
     "metadata": {},
     "output_type": "execute_result"
    }
   ],
   "source": [
    "sum([1,2])"
   ]
  },
  {
   "cell_type": "code",
   "execution_count": 140,
   "metadata": {},
   "outputs": [
    {
     "name": "stdout",
     "output_type": "stream",
     "text": [
      "epoch 0 loss=19879.166016 d2=0.031361\n",
      "epoch 1000 loss=6087.305176 d2=0.012197\n",
      "epoch 2000 loss=489.741760 d2=0.003391\n",
      "epoch 3000 loss=91.305130 d2=0.001108\n",
      "epoch 4000 loss=15.500199 d2=0.000598\n",
      "epoch 5000 loss=1.775657 d2=0.000526\n",
      "epoch 6000 loss=0.078411 d2=0.000524\n",
      "epoch 7000 loss=0.001139 d2=0.000524\n",
      "epoch 8000 loss=0.000523 d2=0.000521\n",
      "epoch 9000 loss=0.000519 d2=0.000517\n",
      "epoch 10000 loss=0.000514 d2=0.000511\n",
      "epoch 11000 loss=0.000506 d2=0.000500\n",
      "epoch 12000 loss=0.000493 d2=0.000484\n",
      "epoch 13000 loss=0.000472 d2=0.000458\n",
      "epoch 14000 loss=0.000440 d2=0.000418\n",
      "epoch 15000 loss=0.000391 d2=0.000359\n",
      "epoch 16000 loss=0.000323 d2=0.000281\n",
      "epoch 17000 loss=0.000238 d2=0.000189\n",
      "epoch 18000 loss=0.000147 d2=0.000101\n",
      "epoch 19000 loss=0.000077 d2=0.000040\n",
      "epoch 20000 loss=0.000040 d2=0.000012\n",
      "epoch 21000 loss=0.000029 d2=0.000003\n",
      "epoch 22000 loss=0.000028 d2=0.000001\n",
      "epoch 23000 loss=0.000028 d2=0.000000\n",
      "epoch 24000 loss=0.000029 d2=0.000000\n",
      "epoch 25000 loss=0.000028 d2=0.000000\n",
      "epoch 26000 loss=0.000028 d2=0.000000\n",
      "epoch 27000 loss=0.000028 d2=0.000000\n",
      "epoch 28000 loss=0.000027 d2=0.000000\n",
      "epoch 29000 loss=0.000027 d2=0.000000\n",
      "epoch 29999 loss=0.000027 d2=0.000000\n"
     ]
    }
   ],
   "source": [
    "import torch\n",
    "import torch.nn as nn\n",
    "import torch.nn.functional as F\n",
    "\n",
    "def cc(X,i,j):\n",
    "    return X[i,j]/(X[i,i]*X[j,j])**0.5\n",
    "\n",
    "aIdx = 0\n",
    "bIdx = 1\n",
    "x = torch.from_numpy(X[0]).float()\n",
    "XX = x@x.T\n",
    "tgt = cc(XX,0,1)\n",
    "lam = 10\n",
    "\n",
    "class CorFixer(nn.Module):\n",
    "    def __init__(self):\n",
    "        super(CorFixer, self).__init__()\n",
    "        self.deltaA = nn.Parameter(torch.randn(nt))\n",
    "        \n",
    "    def forward(self, x):\n",
    "        x = x.clone()\n",
    "        x[aIdx,:] += self.deltaA\n",
    "        return x\n",
    "\n",
    "running = 0\n",
    "nEpoch = 30000\n",
    "pPeriod = 1000\n",
    "\n",
    "cf = CorFixer()\n",
    "optim = torch.optim.Adam(cf.parameters(), lr=1e-3)\n",
    "\n",
    "for epoch in range(nEpoch):  \n",
    "    optim.zero_grad()\n",
    "    y = cf(x)\n",
    "    YY = y@y.T\n",
    "    d1 = (YY-XX)**2\n",
    "    d1[aIdx,bIdx] = 0\n",
    "    d1[bIdx,aIdx] = 0\n",
    "    d2 = (cc(YY,aIdx,bIdx) - tgt - 0.1)**2\n",
    "    loss = lam*torch.sum(d1)+d2\n",
    "    loss.backward()\n",
    "    running += loss.detach().cpu()\n",
    "    optim.step()\n",
    "    if epoch % pPeriod == 0 or epoch == nEpoch-1:\n",
    "        if epoch != 0:\n",
    "            if epoch % pPeriod != 0:\n",
    "                running /= epoch % pPeriod\n",
    "            else:\n",
    "                running /= pPeriod\n",
    "        print('epoch {:d} loss={:f} d2={:f}'.format(epoch, running, d2))\n",
    "        running = 0"
   ]
  },
  {
   "cell_type": "code",
   "execution_count": 141,
   "metadata": {},
   "outputs": [
    {
     "data": {
      "image/png": "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\n",
      "text/plain": [
       "<Figure size 432x288 with 2 Axes>"
      ]
     },
     "metadata": {
      "needs_background": "light"
     },
     "output_type": "display_data"
    },
    {
     "data": {
      "image/png": "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\n",
      "text/plain": [
       "<Figure size 432x288 with 2 Axes>"
      ]
     },
     "metadata": {
      "needs_background": "light"
     },
     "output_type": "display_data"
    }
   ],
   "source": [
    "XX = np.corrcoef(X[0])\n",
    "ynp = y.detach().numpy()\n",
    "YY = np.corrcoef(ynp)\n",
    "plt.imshow(XX)\n",
    "plt.colorbar()\n",
    "plt.show()\n",
    "plt.imshow((YY-XX))\n",
    "plt.colorbar()\n",
    "plt.show()"
   ]
  },
  {
   "cell_type": "code",
   "execution_count": 142,
   "metadata": {},
   "outputs": [
    {
     "name": "stdout",
     "output_type": "stream",
     "text": [
      "0.016084340935642594\n",
      "-0.009480305581820739\n"
     ]
    }
   ],
   "source": [
    "A = YY-XX\n",
    "print(np.max(A[2:]))\n",
    "print(np.min(A))"
   ]
  },
  {
   "cell_type": "code",
   "execution_count": 143,
   "metadata": {},
   "outputs": [
    {
     "name": "stdout",
     "output_type": "stream",
     "text": [
      "[-0.38159229 -1.2957796   0.25278978 -0.26161926  0.13956903 -1.73743723\n",
      " -1.81494224 -0.05947586 -0.92784774  2.23086098  0.64316998 -0.09006925\n",
      "  0.04667369  1.50272942 -0.58021754  0.08924545 -0.63259725  0.70829581\n",
      " -0.54405572 -0.95867934 -1.12727927 -0.84484957  0.25723269  0.4082327\n",
      "  0.57755223  0.32940489 -1.7844989   1.00284168 -0.17821126  1.15074457]\n",
      "tensor([-0.0536, -1.4579,  0.0471, -0.0297,  0.0096, -2.0860, -2.0392, -0.1030,\n",
      "        -1.5548,  1.7215,  0.1278, -0.2259, -0.6627,  0.9948, -0.1236,  0.3440,\n",
      "        -0.1220,  0.5574, -1.1357, -0.6879, -0.0103,  0.1590, -0.7009, -0.0223,\n",
      "         0.6286,  0.6599, -1.6805,  1.7811,  0.0336,  0.6189],\n",
      "       grad_fn=<SelectBackward>)\n"
     ]
    }
   ],
   "source": [
    "print(X[0,0])\n",
    "print(y[0])"
   ]
  },
  {
   "cell_type": "code",
   "execution_count": null,
   "metadata": {},
   "outputs": [],
   "source": []
  }
 ],
 "metadata": {
  "kernelspec": {
   "display_name": "Python 3 (ipykernel)",
   "language": "python",
   "name": "python3"
  },
  "language_info": {
   "codemirror_mode": {
    "name": "ipython",
    "version": 3
   },
   "file_extension": ".py",
   "mimetype": "text/x-python",
   "name": "python",
   "nbconvert_exporter": "python",
   "pygments_lexer": "ipython3",
<<<<<<< HEAD
   "version": "3.9.7"
=======
   "version": "3.8.6"
>>>>>>> c58417b329de02e58865773421565fda6c1c6cb9
  }
 },
 "nbformat": 4,
 "nbformat_minor": 5
}
