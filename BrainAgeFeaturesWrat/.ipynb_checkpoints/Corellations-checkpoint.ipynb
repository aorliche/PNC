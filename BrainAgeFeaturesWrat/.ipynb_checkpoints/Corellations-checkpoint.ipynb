{
 "cells": [
  {
   "cell_type": "code",
   "execution_count": 241,
   "id": "216bf57a",
   "metadata": {
    "scrolled": true
   },
   "outputs": [
    {
     "name": "stdout",
     "output_type": "stream",
     "text": [
      "846\n"
     ]
    }
   ],
   "source": [
    "# Import subjects\n",
    "\n",
    "import pickle\n",
    "\n",
    "para = 'Nback'\n",
    "\n",
    "# Load meta dict\n",
    "\n",
    "with open('../../AllSubjectsMeta.bin', 'rb') as f:\n",
    "    meta = pickle.load(f)\n",
    "    \n",
    "# Load rest subject ids and splits\n",
    "\n",
    "with open('../../../BrainAgePredictWrat/' + para + 'Only10FoldSplit.bin', 'rb') as f:\n",
    "    splits = pickle.load(f)\n",
    "    subids = splits['cand' + para + 'YesWrat']\n",
    "    groups = splits['groups']\n",
    "    \n",
    "print(len(subids))"
   ]
  },
  {
   "cell_type": "code",
   "execution_count": 242,
   "id": "af07b638",
   "metadata": {},
   "outputs": [
    {
     "name": "stdout",
     "output_type": "stream",
     "text": [
      "[[223   1   0]\n",
      " [190   0   1]\n",
      " [197   0   1]\n",
      " [145   1   0]\n",
      " [148   0   1]\n",
      " [142   0   1]\n",
      " [123   1   0]\n",
      " [176   1   0]\n",
      " [129   0   1]\n",
      " [173   1   0]]\n",
      "Complete\n"
     ]
    }
   ],
   "source": [
    "# Get feature vectors (including true ages)\n",
    "\n",
    "# Create feature vectors (right now just ages, maleness, and femaless)\n",
    "\n",
    "X_all = []\n",
    "for subid in subids:\n",
    "    subj = meta[subid]\n",
    "    maleness = 1 if subj['meta']['Gender'] == 'M' else 0\n",
    "    femaleness = 1 if maleness == 0 else 0\n",
    "    feat = np.array([subj['meta']['AgeInMonths'], maleness, femaleness])\n",
    "    X_all.append(feat)\n",
    "X_all = np.vstack(X_all)\n",
    "\n",
    "print(X_all[10:20])\n",
    "print('Complete')"
   ]
  },
  {
   "cell_type": "code",
   "execution_count": 243,
   "id": "e3b41a08",
   "metadata": {},
   "outputs": [
    {
     "name": "stdout",
     "output_type": "stream",
     "text": [
      "(846, 3)\n"
     ]
    }
   ],
   "source": [
    "print(X_all.shape)"
   ]
  },
  {
   "cell_type": "code",
   "execution_count": 244,
   "id": "310ef8ed",
   "metadata": {},
   "outputs": [
    {
     "name": "stdout",
     "output_type": "stream",
     "text": [
      "603056110671\n",
      "invalid literal for int() with base 10: 'NaN\\n'\n",
      "603317055381\n",
      "invalid literal for int() with base 10: 'NaN\\n'\n",
      "604847970437\n",
      "invalid literal for int() with base 10: 'NaN\\n'\n",
      "(846,)\n",
      "Complete\n"
     ]
    }
   ],
   "source": [
    "# Load WRAT for subjects\n",
    "\n",
    "import numpy as np\n",
    "\n",
    "idWratDict = {}\n",
    "\n",
    "with open('../../wrat.csv') as f:\n",
    "    for line in f.readlines()[1:]:\n",
    "        parts = line.split(',')\n",
    "        try:\n",
    "            idWratDict[int(parts[0])] = int(parts[3])\n",
    "        except Exception as e:\n",
    "            print(parts[0])\n",
    "            print(e)\n",
    "            \n",
    "wrat = np.array([idWratDict[subid] for subid in subids])\n",
    "\n",
    "print(wrat.shape)\n",
    "print('Complete')"
   ]
  },
  {
   "cell_type": "code",
   "execution_count": 245,
   "id": "ec97e43e",
   "metadata": {},
   "outputs": [
    {
     "name": "stdout",
     "output_type": "stream",
     "text": [
      "Complete\n"
     ]
    }
   ],
   "source": [
    "# Get all ages, true and predicted\n",
    "\n",
    "para = 'Nback'\n",
    "\n",
    "agesTrue = X_all[:,0]\n",
    "\n",
    "with open('../../../BrainAgePredictWrat/LeastSquares' + para + 'Predictions.bin', 'rb') as f:\n",
    "    agesPred = pickle.load(f)\n",
    "    \n",
    "with open('../../../BrainAgePredictWrat/LeastSquares5' + para + 'Predictions.bin', 'rb') as f:\n",
    "    agesPred5 = pickle.load(f)\n",
    "    \n",
    "with open('../../../BrainAgePredictWrat/CNN' + para + 'Predictions.bin', 'rb') as f:\n",
    "    agesPredCNN = pickle.load(f)\n",
    "    \n",
    "with open('../../../BrainAgePredictWrat/MLP' + para + 'Predictions.bin', 'rb') as f:\n",
    "    agesPredMLP = pickle.load(f)\n",
    "    \n",
    "with open('../../../BrainAgePredictWrat/Transformer' + para + 'Predictions.bin', 'rb') as f:\n",
    "    agesPredTrans = pickle.load(f)\n",
    "    \n",
    "print('Complete')"
   ]
  },
  {
   "cell_type": "code",
   "execution_count": 246,
   "id": "a66e2581",
   "metadata": {},
   "outputs": [
    {
     "name": "stdout",
     "output_type": "stream",
     "text": [
      "Least squares\n",
      "[[1.         0.95945846]\n",
      " [0.95945846 1.        ]]\n",
      "[[1.         0.70592007]\n",
      " [0.70592007 1.        ]]\n",
      "[[1.         0.97553925]\n",
      " [0.97553925 1.        ]]\n",
      "[[1.         0.68540305]\n",
      " [0.68540305 1.        ]]\n",
      "Least squares 5\n",
      "[[1.         0.72055198]\n",
      " [0.72055198 1.        ]]\n",
      "[[1.        0.9185026]\n",
      " [0.9185026 1.       ]]\n",
      "[[1.         0.71487923]\n",
      " [0.71487923 1.        ]]\n",
      "CNN\n",
      "[[1.        0.6919145]\n",
      " [0.6919145 1.       ]]\n",
      "[[1.         0.68752277]\n",
      " [0.68752277 1.        ]]\n",
      "MLP\n",
      "[[1.         0.66140798]\n",
      " [0.66140798 1.        ]]\n"
     ]
    }
   ],
   "source": [
    "# Get correlation between all predicted ages\n",
    "\n",
    "print('Least squares')\n",
    "\n",
    "corr = np.corrcoef(agesPred-agesTrue, agesPred5-agesTrue)\n",
    "print(corr)\n",
    "corr = np.corrcoef(agesPred-agesTrue, agesPredCNN-agesTrue)\n",
    "print(corr)\n",
    "corr = np.corrcoef(agesPred-agesTrue, agesPredMLP-agesTrue)\n",
    "print(corr)\n",
    "corr = np.corrcoef(agesPred-agesTrue, agesPredTrans-agesTrue)\n",
    "print(corr)\n",
    "\n",
    "print('Least squares 5')\n",
    "\n",
    "corr = np.corrcoef(agesPred5-agesTrue, agesPredCNN-agesTrue)\n",
    "print(corr)\n",
    "corr = np.corrcoef(agesPred5-agesTrue, agesPredMLP-agesTrue)\n",
    "print(corr)\n",
    "corr = np.corrcoef(agesPred5-agesTrue, agesPredTrans-agesTrue)\n",
    "print(corr)\n",
    "\n",
    "print('CNN')\n",
    "\n",
    "corr = np.corrcoef(agesPredCNN-agesTrue, agesPredMLP-agesTrue)\n",
    "print(corr)\n",
    "corr = np.corrcoef(agesPredCNN-agesTrue, agesPredTrans-agesTrue)\n",
    "print(corr)\n",
    "\n",
    "print('MLP')\n",
    "\n",
    "corr = np.corrcoef(agesPredMLP-agesTrue, agesPredTrans-agesTrue)\n",
    "print(corr)"
   ]
  },
  {
   "cell_type": "code",
   "execution_count": 247,
   "id": "b5ab9161",
   "metadata": {},
   "outputs": [
    {
     "name": "stdout",
     "output_type": "stream",
     "text": [
      "[[ 1.         -0.07604799]\n",
      " [-0.07604799  1.        ]]\n"
     ]
    }
   ],
   "source": [
    "# Versus WRAT\n",
    "\n",
    "# res = np.stack([X_all[:,0] > 12*12, X_all[:,0] <= 18*12])\n",
    "# print(res.shape)\n",
    "# idcs = np.all(res, axis=0)\n",
    "# idcs = X_all[:,0] > 18*12\n",
    "# print(np.count_nonzero(idcs))\n",
    "\n",
    "corr = np.corrcoef(wrat, agesTrue)\n",
    "print(corr)"
   ]
  },
  {
   "cell_type": "code",
   "execution_count": 239,
   "id": "791f6807",
   "metadata": {},
   "outputs": [
    {
     "name": "stdout",
     "output_type": "stream",
     "text": [
      "[[1.         0.40675804]\n",
      " [0.40675804 1.        ]]\n",
      "2.098166055381831\n",
      "1.6791454576778235\n"
     ]
    },
    {
     "data": {
      "image/png": "[encoded data removed]",
      "text/plain": [
       "<Figure size 432x288 with 1 Axes>"
      ]
     },
     "metadata": {
      "needs_background": "light"
     },
     "output_type": "display_data"
    },
    {
     "data": {
      "image/png": "[encoded data removed]",
      "text/plain": [
       "<Figure size 432x288 with 1 Axes>"
      ]
     },
     "metadata": {
      "needs_background": "light"
     },
     "output_type": "display_data"
    }
   ],
   "source": [
    "# More age predictions\n",
    "\n",
    "import matplotlib.pyplot as plt\n",
    "\n",
    "test_labels = X_all[idcs,0]\n",
    "predY = agesPred[idcs]\n",
    "# test_labels = X_all[testIdcs,0]\n",
    "# predY = trans(test_ts).flatten().detach().cpu().numpy()\n",
    "\n",
    "idcs = np.argsort(test_labels[:])\n",
    "yPred = predY[idcs]\n",
    "y = test_labels[idcs]\n",
    "\n",
    "corr = np.corrcoef(y, yPred)\n",
    "rmse = (np.sum((y-yPred)**2)/len(y))**0.5/12\n",
    "mae = np.sum(np.abs(y-yPred))/12/len(y)\n",
    "\n",
    "print(corr)\n",
    "print(rmse)\n",
    "print(mae)\n",
    "\n",
    "plt.plot(y, label='Truth')\n",
    "plt.plot(yPred, label='Prediction')\n",
    "plt.show()\n",
    "\n",
    "plt.scatter(y, yPred)\n",
    "plt.show()"
   ]
  },
  {
   "cell_type": "code",
   "execution_count": 219,
   "id": "64055a83",
   "metadata": {},
   "outputs": [
    {
     "name": "stdout",
     "output_type": "stream",
     "text": [
      "0.02406876358549371\n",
      "1.1812822992352872\n",
      "0.7572419414831907\n",
      "0.6306736167463798\n",
      "1.0383330521909382\n",
      "0.31635003634781084\n"
     ]
    }
   ],
   "source": [
    "from scipy.stats import t\n",
    "\n",
    "def getT(r, n):\n",
    "    return r/(((1-r**2)/(n-2))**0.5)\n",
    "\n",
    "def getP(r, n):\n",
    "    return t.cdf(getT(r, n), n-2)*2\n",
    "\n",
    "# 8-12 years all\n",
    "l = [-0.171, 0.0175, -0.0236, -0.0367, 0.00367, -0.0764]\n",
    "\n",
    "for r in l:\n",
    "    print(getP(r, 174))"
   ]
  },
  {
   "cell_type": "code",
   "execution_count": 248,
   "id": "64d28bd5",
   "metadata": {},
   "outputs": [
    {
     "name": "stdout",
     "output_type": "stream",
     "text": [
      "[0.06740796]\n"
     ]
    }
   ],
   "source": [
    "tv = t.ppf([0.025], 844)\n",
    "b = tv**2/844\n",
    "r = (b/(1+b))**0.5\n",
    "print(r)"
   ]
  },
  {
   "cell_type": "code",
   "execution_count": null,
   "id": "c3a04c03",
   "metadata": {},
   "outputs": [],
   "source": []
  }
 ],
 "metadata": {
  "kernelspec": {
   "display_name": "Python 3",
   "language": "python",
   "name": "python3"
  },
  "language_info": {
   "codemirror_mode": {
    "name": "ipython",
    "version": 3
   },
   "file_extension": ".py",
   "mimetype": "text/x-python",
   "name": "python",
   "nbconvert_exporter": "python",
   "pygments_lexer": "ipython3",
   "version": "3.9.5"
  }
 },
 "nbformat": 4,
 "nbformat_minor": 5
}
