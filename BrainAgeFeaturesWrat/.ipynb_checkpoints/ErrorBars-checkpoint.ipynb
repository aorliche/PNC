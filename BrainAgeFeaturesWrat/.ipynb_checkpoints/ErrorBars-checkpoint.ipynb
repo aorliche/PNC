{
 "cells": [
  {
   "cell_type": "code",
   "execution_count": 140,
   "id": "cfe17b53",
   "metadata": {},
   "outputs": [
    {
     "name": "stdout",
     "output_type": "stream",
     "text": [
      "804\n"
     ]
    }
   ],
   "source": [
    "# Import subjects\n",
    "\n",
    "import pickle\n",
    "\n",
    "para = 'Rest'\n",
    "\n",
    "# Load meta dict\n",
    "\n",
    "with open('../../AllSubjectsMeta.bin', 'rb') as f:\n",
    "    meta = pickle.load(f)\n",
    "    \n",
    "# Load rest subject ids and splits\n",
    "\n",
    "with open('../../../BrainAgePredictWrat/' + para + 'Only10FoldSplit.bin', 'rb') as f:\n",
    "    splits = pickle.load(f)\n",
    "    subids = splits['cand' + para + 'YesWrat']\n",
    "    groups = splits['groups']\n",
    "    \n",
    "print(len(subids))"
   ]
  },
  {
   "cell_type": "code",
   "execution_count": 141,
   "id": "91664838",
   "metadata": {},
   "outputs": [
    {
     "name": "stdout",
     "output_type": "stream",
     "text": [
      "[[223   1   0]\n",
      " [190   0   1]\n",
      " [197   0   1]\n",
      " [145   1   0]\n",
      " [148   0   1]\n",
      " [142   0   1]\n",
      " [123   1   0]\n",
      " [176   1   0]\n",
      " [129   0   1]\n",
      " [173   1   0]]\n",
      "Complete\n"
     ]
    }
   ],
   "source": [
    "import numpy as np\n",
    "\n",
    "# Get feature vectors (including true ages)\n",
    "\n",
    "# Create feature vectors (right now just ages, maleness, and femaless)\n",
    "\n",
    "X_all = []\n",
    "for subid in subids:\n",
    "    subj = meta[subid]\n",
    "    maleness = 1 if subj['meta']['Gender'] == 'M' else 0\n",
    "    femaleness = 1 if maleness == 0 else 0\n",
    "    feat = np.array([subj['meta']['AgeInMonths'], maleness, femaleness])\n",
    "    X_all.append(feat)\n",
    "X_all = np.vstack(X_all)\n",
    "\n",
    "print(X_all[10:20])\n",
    "print('Complete')"
   ]
  },
  {
   "cell_type": "code",
   "execution_count": 142,
   "id": "5a44dc03",
   "metadata": {},
   "outputs": [
    {
     "name": "stdout",
     "output_type": "stream",
     "text": [
      "603056110671\n",
      "invalid literal for int() with base 10: 'NaN\\n'\n",
      "603317055381\n",
      "invalid literal for int() with base 10: 'NaN\\n'\n",
      "604847970437\n",
      "invalid literal for int() with base 10: 'NaN\\n'\n",
      "(804,)\n",
      "Complete\n"
     ]
    }
   ],
   "source": [
    "# Load WRAT for subjects\n",
    "\n",
    "import numpy as np\n",
    "\n",
    "idWratDict = {}\n",
    "\n",
    "with open('../../wrat.csv') as f:\n",
    "    for line in f.readlines()[1:]:\n",
    "        parts = line.split(',')\n",
    "        try:\n",
    "            idWratDict[int(parts[0])] = int(parts[3])\n",
    "        except Exception as e:\n",
    "            print(parts[0])\n",
    "            print(e)\n",
    "            \n",
    "wrat = np.array([idWratDict[subid] for subid in subids])\n",
    "\n",
    "print(wrat.shape)\n",
    "print('Complete')"
   ]
  },
  {
   "cell_type": "code",
   "execution_count": 147,
   "id": "9b094b21",
   "metadata": {},
   "outputs": [
    {
     "name": "stdout",
     "output_type": "stream",
     "text": [
      "(804,)\n",
      "12.405902700428207\n",
      "1.5889835088613964\n"
     ]
    }
   ],
   "source": [
    "# Baseline\n",
    "\n",
    "stat = wrat - np.mean(wrat)\n",
    "# stat = agesTrue - np.mean(agesTrue)\n",
    "print(stat.shape)\n",
    "\n",
    "# stat = (np.sum(stat**2)/len(stat))**0.5\n",
    "stat = np.sum(np.abs(stat))/len(stat)\n",
    "print(stat)\n",
    "\n",
    "stats = []\n",
    "for trainIdcs, testIdcs in groups:\n",
    "    stat = wrat[testIdcs] - np.mean(wrat[testIdcs])\n",
    "#     stat = agesTrue[testIdcs] - np.mean(agesTrue[testIdcs])\n",
    "#     stat = (np.sum(stat**2)/len(testIdcs))**0.5\n",
    "    stat = np.sum(np.abs(stat))/len(testIdcs)\n",
    "    stats.append(stat)\n",
    "    \n",
    "print(np.std(stats))"
   ]
  },
  {
   "cell_type": "code",
   "execution_count": 143,
   "id": "615ad55a",
   "metadata": {},
   "outputs": [
    {
     "name": "stdout",
     "output_type": "stream",
     "text": [
      "Complete\n"
     ]
    }
   ],
   "source": [
    "# Get all ages, true and predicted\n",
    "\n",
    "para = 'Rest'\n",
    "\n",
    "agesTrue = X_all[:,0]\n",
    "\n",
    "with open('../../../BrainAgePredictWrat/Wrat/LeastSquares' + para + 'WratPredictions.bin', 'rb') as f:\n",
    "    agesPred = pickle.load(f)\n",
    "    \n",
    "with open('../../../BrainAgePredictWrat/Wrat/LeastSquares5' + para + 'WratPredictions.bin', 'rb') as f:\n",
    "    agesPred5 = pickle.load(f)\n",
    "    \n",
    "with open('../../../BrainAgePredictWrat/Wrat/CNNWrat' + para + 'Predictions.bin', 'rb') as f:\n",
    "    agesPredCNN = pickle.load(f)\n",
    "    \n",
    "with open('../../../BrainAgePredictWrat/Wrat/MLPWrat' + para + 'Predictions.bin', 'rb') as f:\n",
    "    agesPredMLP = pickle.load(f)\n",
    "    \n",
    "with open('../../../BrainAgePredictWrat/Wrat/TransformerWrat' + para + 'Predictions.bin', 'rb') as f:\n",
    "    agesPredTrans = pickle.load(f)\n",
    "    \n",
    "print('Complete')"
   ]
  },
  {
   "cell_type": "code",
   "execution_count": 139,
   "id": "ce5dc4c4",
   "metadata": {},
   "outputs": [
    {
     "name": "stdout",
     "output_type": "stream",
     "text": [
      "[11.919642120738223, 12.065902998521663, 11.917443779241312, 14.020656212257167, 11.815115138119257, 11.215549597750814, 11.736728419558052, 10.140400560612736, 12.346745722089967, 11.206884890044625]\n",
      "0.9362744575813814\n"
     ]
    }
   ],
   "source": [
    "stats = []\n",
    "for trainIdcs, testIdcs in groups:\n",
    "#     stat = np.corrcoef(agesPredTrans[testIdcs], wrat[testIdcs])[0,1]\n",
    "#     stat = np.corrcoef(agesPredTrans[testIdcs], agesTrue[testIdcs])[0,1]\n",
    "    stat = agesPred[testIdcs]-wrat[testIdcs]\n",
    "#     stat = (np.sum(stat**2)/len(testIdcs))**0.5\n",
    "    stat = np.sum(np.abs(stat))/len(testIdcs)\n",
    "    stats.append(stat)\n",
    "    \n",
    "print(stats)\n",
    "print(np.std(stats))"
   ]
  },
  {
   "cell_type": "code",
   "execution_count": null,
   "id": "7bdc9e6f",
   "metadata": {},
   "outputs": [],
   "source": []
  }
 ],
 "metadata": {
  "kernelspec": {
   "display_name": "Python 3",
   "language": "python",
   "name": "python3"
  },
  "language_info": {
   "codemirror_mode": {
    "name": "ipython",
    "version": 3
   },
   "file_extension": ".py",
   "mimetype": "text/x-python",
   "name": "python",
   "nbconvert_exporter": "python",
   "pygments_lexer": "ipython3",
   "version": "3.9.5"
  }
 },
 "nbformat": 4,
 "nbformat_minor": 5
}
