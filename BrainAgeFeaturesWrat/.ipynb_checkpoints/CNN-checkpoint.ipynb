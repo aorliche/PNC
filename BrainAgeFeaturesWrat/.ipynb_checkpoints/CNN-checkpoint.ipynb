{
 "cells": [
  {
   "cell_type": "code",
   "execution_count": 1,
   "id": "7179fe14",
   "metadata": {},
   "outputs": [
    {
     "name": "stdout",
     "output_type": "stream",
     "text": [
      "total: 4.294967296\n",
      "reserved: 0.0\n",
      "allocated: 0.0\n",
      "free: 0.0\n"
     ]
    }
   ],
   "source": [
    "import torch\n",
    "\n",
    "t = torch.cuda.get_device_properties(0).total_memory\n",
    "r = torch.cuda.memory_reserved(0)\n",
    "a = torch.cuda.memory_allocated(0)\n",
    "f = r-a  # free inside reserved\n",
    "\n",
    "print('total: {:}\\nreserved: {:}\\nallocated: {:}\\nfree: {:}'.format(t/1e9,r/1e9,a/1e9,f/1e9))"
   ]
  },
  {
   "cell_type": "code",
   "execution_count": 17,
   "id": "bca78a83",
   "metadata": {},
   "outputs": [
    {
     "name": "stdout",
     "output_type": "stream",
     "text": [
      "620\n"
     ]
    }
   ],
   "source": [
    "import pickle\n",
    "\n",
    "para = 'Emoid'\n",
    "\n",
    "# Load meta dict\n",
    "\n",
    "with open('../../AllSubjectsMeta.bin', 'rb') as f:\n",
    "    meta = pickle.load(f)\n",
    "    \n",
    "# Load rest subject ids and splits\n",
    "\n",
    "with open('../../../BrainAgePredictWrat/' + para + 'Only10FoldSplit.bin', 'rb') as f:\n",
    "    splits = pickle.load(f)\n",
    "    subids = splits['cand' + para + 'YesWrat']\n",
    "    groups = splits['groups']\n",
    "    \n",
    "print(len(subids))"
   ]
  },
  {
   "cell_type": "code",
   "execution_count": 18,
   "id": "9f970ad8",
   "metadata": {},
   "outputs": [
    {
     "name": "stdout",
     "output_type": "stream",
     "text": [
      "Loading complete\n"
     ]
    }
   ],
   "source": [
    "import numpy as np\n",
    "\n",
    "paradigm = 'emoid'\n",
    "subidsNp = np.array(subids)\n",
    "\n",
    "# Load timeseries\n",
    "\n",
    "def loadSeries(prefix, para, idx):\n",
    "    with open('{:}/{:}_fmri_power264/timeseries/{:}.bin'.format(prefix, para, idx), 'rb') as f:\n",
    "        return pickle.load(f)\n",
    "\n",
    "all_ts = [loadSeries('../..', paradigm, meta[subid][paradigm]) for subid in subidsNp]\n",
    "\n",
    "print('Loading complete')"
   ]
  },
  {
   "cell_type": "code",
   "execution_count": 19,
   "id": "058601f8",
   "metadata": {},
   "outputs": [
    {
     "name": "stdout",
     "output_type": "stream",
     "text": [
      "Complete\n"
     ]
    }
   ],
   "source": [
    "# Normalize timeseries\n",
    "\n",
    "def normalizeSubjects(subjects):\n",
    "    for i in range(len(subjects)):\n",
    "        subj = subjects[i]\n",
    "        subj -= np.mean(subj, axis=1, keepdims=True)@np.ones([1,subj.shape[1]])\n",
    "        subj /= np.std(subj, axis=1, keepdims=True)@np.ones([1,subj.shape[1]])\n",
    "        if np.sum(np.isnan(subj)) > 0:\n",
    "            print('nan {:}'.format(i))\n",
    "        if np.sum(np.isinf(subj)) > 0:\n",
    "            print('inf {:}'.format(i))\n",
    "            \n",
    "normalizeSubjects(all_ts)\n",
    "\n",
    "print('Complete')"
   ]
  },
  {
   "cell_type": "code",
   "execution_count": 12,
   "id": "bf506069",
   "metadata": {
    "scrolled": true
   },
   "outputs": [
    {
     "name": "stdout",
     "output_type": "stream",
     "text": [
      "[[223   1   0]\n",
      " [190   0   1]\n",
      " [197   0   1]\n",
      " [145   1   0]\n",
      " [148   0   1]\n",
      " [142   0   1]\n",
      " [123   1   0]\n",
      " [176   1   0]\n",
      " [129   0   1]\n",
      " [173   1   0]]\n",
      "Complete\n"
     ]
    }
   ],
   "source": [
    "# Create feature vectors (right now just ages, maleness, and femaless)\n",
    "\n",
    "X_all = []\n",
    "for subid in subidsNp:\n",
    "    subj = meta[subid]\n",
    "    maleness = 1 if subj['meta']['Gender'] == 'M' else 0\n",
    "    femaleness = 1 if maleness == 0 else 0\n",
    "    feat = np.array([subj['meta']['AgeInMonths'], maleness, femaleness])\n",
    "    X_all.append(feat)\n",
    "X_all = np.vstack(X_all)\n",
    "\n",
    "print(X_all[10:20])\n",
    "print('Complete')"
   ]
  },
  {
   "cell_type": "code",
   "execution_count": 20,
   "id": "8a8830fe",
   "metadata": {},
   "outputs": [
    {
     "name": "stdout",
     "output_type": "stream",
     "text": [
      "603056110671\n",
      "invalid literal for int() with base 10: 'NaN\\n'\n",
      "603317055381\n",
      "invalid literal for int() with base 10: 'NaN\\n'\n",
      "604847970437\n",
      "invalid literal for int() with base 10: 'NaN\\n'\n",
      "(620,)\n",
      "Complete\n"
     ]
    }
   ],
   "source": [
    "# Load WRAT for subjects\n",
    "\n",
    "import numpy as np\n",
    "\n",
    "idWratDict = {}\n",
    "\n",
    "with open('../../wrat.csv') as f:\n",
    "    for line in f.readlines()[1:]:\n",
    "        parts = line.split(',')\n",
    "        try:\n",
    "            idWratDict[int(parts[0])] = int(parts[3])\n",
    "        except Exception as e:\n",
    "            print(parts[0])\n",
    "            print(e)\n",
    "            \n",
    "wrat = np.array([idWratDict[subid] for subid in subids])\n",
    "\n",
    "print(wrat.shape)\n",
    "print('Complete')"
   ]
  },
  {
   "cell_type": "code",
   "execution_count": 13,
   "id": "fe71f339",
   "metadata": {},
   "outputs": [
    {
     "name": "stdout",
     "output_type": "stream",
     "text": [
      "(264, 124)\n"
     ]
    }
   ],
   "source": [
    "print(all_ts[0].shape)"
   ]
  },
  {
   "cell_type": "code",
   "execution_count": 14,
   "id": "647123d2",
   "metadata": {},
   "outputs": [
    {
     "name": "stdout",
     "output_type": "stream",
     "text": [
      "[  9  98   5  73  22  52 114  61  53 108  42  27 112 100  21  77   4  31\n",
      "  59  45  56 122  70  84 121 107  82  54  40  41  79  29  14  60  86  67\n",
      "  35   1  90  10   2  71  80  88  13  36  11  50  30  64  47  19  72  34\n",
      "  16  51 104  18 119  62  66 115  89 113   0  49   8 102  96  55  57  12\n",
      "  65  85  75  48   7  39  76 118  99  74  46  26 111  97 106  91  92 116\n",
      "  93  38  68 105  44  28  15 109  25  78  32  81 117  33 123  69   6 110\n",
      "  37  58  87  23  95  83  17  94 120   3 103 101  24  20  43  63]\n",
      "[ 1.06682467e-01  4.00730258e-01  5.53491321e-01 -1.44458472e-04\n",
      " -6.83905000e-01 -5.94967978e-01 -2.30635050e-01 -2.98091280e-01\n",
      " -7.13398909e-01 -7.97755831e-01  4.58759917e-01  1.94247663e+00\n",
      "  1.30873171e+00 -2.42946333e-01 -2.44000133e-01  5.68183609e-01\n",
      "  6.13576553e-01 -4.44634650e-01 -1.61129310e+00 -9.73842760e-01\n",
      "  6.02064596e-01  5.27709690e-01  1.06750448e-01  1.18145191e+00\n",
      "  1.32391248e+00 -2.74498194e-01 -7.79131767e-01 -3.04532359e-01\n",
      " -4.41807566e-01 -3.91262745e-01 -4.99180085e-01 -1.34942774e+00\n",
      " -8.40595019e-01  1.05234543e+00  1.38367535e+00  3.89061677e-01\n",
      "  5.07138433e-01  1.05673224e+00  3.42435978e-01 -8.26623843e-01\n",
      " -1.03780868e+00 -2.65291206e-01  4.04186055e-01 -4.17666909e-03\n",
      " -8.03498006e-01 -8.76989597e-01 -6.43433704e-01 -2.84905647e-01\n",
      "  7.00348079e-01  1.39261652e+00  1.07252258e+00  5.25779668e-01\n",
      " -1.38706023e-01 -8.36771727e-01 -4.30701418e-01  5.12091227e-01\n",
      "  1.12859757e-01 -4.07530688e-01  1.14293966e+00  2.28115924e+00\n",
      "  4.73076352e-01 -7.83609949e-01  1.01111514e+00  2.03042731e+00\n",
      "  2.06920349e-01 -1.19118351e+00 -1.05441043e+00 -1.48266158e+00\n",
      " -2.22652665e+00 -2.11750672e+00 -1.78213707e+00 -1.39451121e+00\n",
      " -6.75467094e-01 -9.88416981e-02  1.99722662e-01  5.63444945e-01\n",
      "  1.21199101e+00  1.72484229e+00  1.21646612e+00  3.62934959e-01\n",
      "  6.79518010e-01  1.29779413e+00  7.86989213e-01  2.35052106e-01\n",
      "  7.65321369e-01  1.39685834e+00  1.22703367e+00  8.53804625e-01\n",
      "  7.26692614e-01  2.32585023e-01 -5.97878499e-01 -9.25521061e-01\n",
      " -1.17290743e+00 -2.12328279e+00 -2.55977789e+00 -1.49671604e+00\n",
      " -7.50280526e-01 -1.29669412e+00 -1.07733814e+00  4.66663974e-01\n",
      "  1.52196501e+00  1.80050905e+00  1.80350078e+00  1.03674883e+00\n",
      " -3.89783295e-01 -1.38135669e+00 -1.09774692e+00  1.55970492e-02\n",
      "  6.63609707e-01  7.40856245e-01  8.88038577e-01  9.58164970e-01\n",
      "  9.49183630e-01  8.20144311e-01 -7.70076173e-02 -1.21230848e+00\n",
      " -1.18568997e+00 -1.34935779e-01  4.16436918e-01 -2.56613942e-01\n",
      " -1.10746922e+00 -1.04259135e+00 -5.49763934e-01 -3.39415012e-01]\n",
      "[-7.97755831e-01 -1.07733814e+00 -5.94967978e-01 -9.88416981e-02\n",
      "  1.06750448e-01 -1.38706023e-01 -7.70076173e-02 -7.83609949e-01\n",
      " -8.36771727e-01  6.63609707e-01  4.04186055e-01 -3.04532359e-01\n",
      "  9.49183630e-01  1.52196501e+00  5.27709690e-01  1.72484229e+00\n",
      " -6.83905000e-01 -1.34942774e+00  2.28115924e+00 -8.76989597e-01\n",
      "  1.12859757e-01 -5.49763934e-01 -1.78213707e+00  7.65321369e-01\n",
      " -1.04259135e+00  1.55970492e-02  7.86989213e-01 -4.30701418e-01\n",
      " -1.03780868e+00 -2.65291206e-01  3.62934959e-01 -3.91262745e-01\n",
      " -2.44000133e-01  4.73076352e-01  1.22703367e+00 -1.48266158e+00\n",
      "  3.89061677e-01  4.00730258e-01 -5.97878499e-01  4.58759917e-01\n",
      "  5.53491321e-01 -1.39451121e+00  6.79518010e-01  7.26692614e-01\n",
      " -2.42946333e-01  5.07138433e-01  1.94247663e+00  1.07252258e+00\n",
      " -4.99180085e-01  2.06920349e-01 -2.84905647e-01 -9.73842760e-01\n",
      " -6.75467094e-01  1.38367535e+00  6.13576553e-01  5.25779668e-01\n",
      " -3.89783295e-01 -1.61129310e+00 -2.56613942e-01  1.01111514e+00\n",
      " -1.05441043e+00 -1.21230848e+00  2.32585023e-01  8.20144311e-01\n",
      "  1.06682467e-01  1.39261652e+00 -7.13398909e-01  1.80350078e+00\n",
      " -7.50280526e-01  5.12091227e-01 -4.07530688e-01  1.30873171e+00\n",
      " -1.19118351e+00  1.39685834e+00  5.63444945e-01  7.00348079e-01\n",
      " -2.98091280e-01 -8.26623843e-01  1.21199101e+00  4.16436918e-01\n",
      "  4.66663974e-01  1.99722662e-01 -6.43433704e-01 -7.79131767e-01\n",
      "  9.58164970e-01 -1.29669412e+00 -1.09774692e+00 -9.25521061e-01\n",
      " -1.17290743e+00 -1.18568997e+00 -2.12328279e+00  3.42435978e-01\n",
      " -2.22652665e+00 -1.38135669e+00 -8.03498006e-01 -4.41807566e-01\n",
      "  5.68183609e-01  7.40856245e-01 -2.74498194e-01  1.21646612e+00\n",
      " -8.40595019e-01  1.29779413e+00 -1.34935779e-01  1.05234543e+00\n",
      " -3.39415012e-01 -2.11750672e+00 -2.30635050e-01  8.88038577e-01\n",
      "  1.05673224e+00  1.14293966e+00  8.53804625e-01  1.18145191e+00\n",
      " -1.49671604e+00  2.35052106e-01 -4.44634650e-01 -2.55977789e+00\n",
      " -1.10746922e+00 -1.44458472e-04  1.03674883e+00  1.80050905e+00\n",
      "  1.32391248e+00  6.02064596e-01 -4.17666909e-03  2.03042731e+00]\n"
     ]
    }
   ],
   "source": [
    "# Permute timeseries\n",
    "\n",
    "with open('../../../BrainAgePredictWrat/PermutationRest.bin', 'rb') as f:\n",
    "    perm = pickle.load(f)\n",
    "    \n",
    "print(perm)\n",
    "print(all_ts[0][0,:])\n",
    "\n",
    "all_ts = [ts[:,perm] for ts in all_ts]\n",
    "print(all_ts[0][0,:])"
   ]
  },
  {
   "cell_type": "code",
   "execution_count": 21,
   "id": "c2d75dcd",
   "metadata": {},
   "outputs": [
    {
     "name": "stdout",
     "output_type": "stream",
     "text": [
      "epoch 0 loss=8.868228\n",
      "epoch 200 loss=2.318722\n",
      "epoch 400 loss=0.812313\n",
      "epoch 600 loss=0.476874\n",
      "epoch 800 loss=0.398775\n",
      "epoch 1000 loss=0.404009\n",
      "epoch 1200 loss=0.349482\n",
      "epoch 1400 loss=0.325484\n",
      "epoch 1600 loss=0.303480\n",
      "epoch 1800 loss=0.290613\n",
      "epoch 2000 loss=0.293579\n",
      "epoch 2200 loss=0.289213\n",
      "epoch 2400 loss=0.284455\n",
      "epoch 2600 loss=0.254469\n",
      "epoch 2800 loss=0.248163\n",
      "epoch 2999 loss=0.229256\n",
      "Finished training\n",
      "Completed split 0\n",
      "epoch 0 loss=9.494782\n",
      "epoch 200 loss=2.412170\n",
      "epoch 400 loss=0.754476\n",
      "epoch 600 loss=0.483498\n",
      "epoch 800 loss=0.328121\n",
      "epoch 1000 loss=0.330902\n",
      "epoch 1200 loss=0.312932\n",
      "epoch 1400 loss=0.316515\n",
      "epoch 1600 loss=0.289965\n",
      "epoch 1800 loss=0.296306\n",
      "epoch 2000 loss=0.298392\n",
      "epoch 2200 loss=0.246319\n",
      "epoch 2400 loss=0.322480\n",
      "epoch 2600 loss=0.245112\n",
      "epoch 2800 loss=0.222218\n",
      "epoch 2999 loss=0.194465\n",
      "Finished training\n",
      "Completed split 1\n",
      "epoch 0 loss=8.484357\n",
      "epoch 200 loss=2.209443\n",
      "epoch 400 loss=0.796336\n",
      "epoch 600 loss=0.564442\n",
      "epoch 800 loss=0.351559\n",
      "epoch 1000 loss=0.306989\n",
      "epoch 1200 loss=0.320377\n",
      "epoch 1400 loss=0.288691\n",
      "epoch 1600 loss=0.276120\n",
      "epoch 1800 loss=0.296666\n",
      "epoch 2000 loss=0.269249\n",
      "epoch 2200 loss=0.255484\n",
      "epoch 2400 loss=0.254170\n",
      "epoch 2600 loss=0.222975\n",
      "epoch 2800 loss=0.226470\n",
      "epoch 2999 loss=0.203557\n",
      "Finished training\n",
      "Completed split 2\n",
      "epoch 0 loss=8.902898\n",
      "epoch 200 loss=2.314485\n",
      "epoch 400 loss=0.812251\n",
      "epoch 600 loss=0.484411\n",
      "epoch 800 loss=0.352757\n",
      "epoch 1000 loss=0.295973\n",
      "epoch 1200 loss=0.281509\n",
      "epoch 1400 loss=0.270330\n",
      "epoch 1600 loss=0.245987\n",
      "epoch 1800 loss=0.317285\n",
      "epoch 2000 loss=0.276106\n",
      "epoch 2200 loss=0.286522\n",
      "epoch 2400 loss=0.269191\n",
      "epoch 2600 loss=0.255933\n",
      "epoch 2800 loss=0.245854\n",
      "epoch 2999 loss=0.231637\n",
      "Finished training\n",
      "Completed split 3\n",
      "epoch 0 loss=8.423537\n",
      "epoch 200 loss=2.356068\n",
      "epoch 400 loss=0.789782\n",
      "epoch 600 loss=0.511720\n",
      "epoch 800 loss=0.345435\n",
      "epoch 1000 loss=0.324822\n",
      "epoch 1200 loss=0.315749\n",
      "epoch 1400 loss=0.305366\n",
      "epoch 1600 loss=0.290281\n",
      "epoch 1800 loss=0.247976\n",
      "epoch 2000 loss=0.275324\n",
      "epoch 2200 loss=0.232014\n",
      "epoch 2400 loss=0.243950\n",
      "epoch 2600 loss=0.228364\n",
      "epoch 2800 loss=0.219450\n",
      "epoch 2999 loss=0.176370\n",
      "Finished training\n",
      "Completed split 4\n",
      "epoch 0 loss=9.133499\n",
      "epoch 200 loss=2.270744\n",
      "epoch 400 loss=0.760071\n",
      "epoch 600 loss=0.527253\n",
      "epoch 800 loss=0.407833\n",
      "epoch 1000 loss=0.335000\n",
      "epoch 1200 loss=0.318621\n",
      "epoch 1400 loss=0.289773\n",
      "epoch 1600 loss=0.255331\n",
      "epoch 1800 loss=0.305600\n",
      "epoch 2000 loss=0.273549\n",
      "epoch 2200 loss=0.267805\n",
      "epoch 2400 loss=0.230016\n",
      "epoch 2600 loss=0.237275\n",
      "epoch 2800 loss=0.262829\n",
      "epoch 2999 loss=0.212537\n",
      "Finished training\n",
      "Completed split 5\n",
      "epoch 0 loss=8.628662\n",
      "epoch 200 loss=2.283452\n",
      "epoch 400 loss=0.760431\n",
      "epoch 600 loss=0.496597\n",
      "epoch 800 loss=0.412469\n",
      "epoch 1000 loss=0.334935\n",
      "epoch 1200 loss=0.335834\n",
      "epoch 1400 loss=0.317087\n",
      "epoch 1600 loss=0.293241\n",
      "epoch 1800 loss=0.265046\n",
      "epoch 2000 loss=0.260779\n",
      "epoch 2200 loss=0.256698\n",
      "epoch 2400 loss=0.238038\n",
      "epoch 2600 loss=0.232653\n",
      "epoch 2800 loss=0.238077\n",
      "epoch 2999 loss=0.257691\n",
      "Finished training\n",
      "Completed split 6\n",
      "epoch 0 loss=8.445971\n",
      "epoch 200 loss=2.286802\n",
      "epoch 400 loss=0.838452\n",
      "epoch 600 loss=0.535999\n",
      "epoch 800 loss=0.414077\n",
      "epoch 1000 loss=0.315917\n",
      "epoch 1200 loss=0.313161\n",
      "epoch 1400 loss=0.311451\n",
      "epoch 1600 loss=0.302234\n",
      "epoch 1800 loss=0.240176\n",
      "epoch 2000 loss=0.257951\n",
      "epoch 2200 loss=0.258080\n",
      "epoch 2400 loss=0.254823\n",
      "epoch 2600 loss=0.269984\n",
      "epoch 2800 loss=0.239577\n",
      "epoch 2999 loss=0.231537\n",
      "Finished training\n",
      "Completed split 7\n",
      "epoch 0 loss=8.192094\n",
      "epoch 200 loss=2.206728\n",
      "epoch 400 loss=0.865388\n",
      "epoch 600 loss=0.527983\n",
      "epoch 800 loss=0.351148\n",
      "epoch 1000 loss=0.317652\n",
      "epoch 1200 loss=0.286756\n",
      "epoch 1400 loss=0.293292\n",
      "epoch 1600 loss=0.247264\n",
      "epoch 1800 loss=0.237779\n",
      "epoch 2000 loss=0.270198\n",
      "epoch 2200 loss=0.229796\n",
      "epoch 2400 loss=0.225566\n",
      "epoch 2600 loss=0.250338\n",
      "epoch 2800 loss=0.229942\n",
      "epoch 2999 loss=0.203338\n",
      "Finished training\n",
      "Completed split 8\n",
      "epoch 0 loss=8.539515\n",
      "epoch 200 loss=2.210586\n",
      "epoch 400 loss=0.797488\n",
      "epoch 600 loss=0.488849\n",
      "epoch 800 loss=0.379562\n",
      "epoch 1000 loss=0.328350\n",
      "epoch 1200 loss=0.343352\n",
      "epoch 1400 loss=0.274938\n",
      "epoch 1600 loss=0.277769\n",
      "epoch 1800 loss=0.317997\n",
      "epoch 2000 loss=0.246546\n",
      "epoch 2200 loss=0.270867\n",
      "epoch 2400 loss=0.270674\n",
      "epoch 2600 loss=0.237344\n",
      "epoch 2800 loss=0.240139\n",
      "epoch 2999 loss=0.214425\n",
      "Finished training\n",
      "Completed split 9\n",
      "All complete\n"
     ]
    }
   ],
   "source": [
    "# CNN model\n",
    "\n",
    "import torch\n",
    "import torch.nn as nn\n",
    "import torch.nn.functional as F\n",
    "\n",
    "nc = 10\n",
    "nHid = 200\n",
    "nRoi = all_ts[0].shape[0]\n",
    "nt = all_ts[0].shape[1]\n",
    "\n",
    "lu = nn.ReLU()\n",
    "bn = nn.BatchNorm2d(nc).cuda()\n",
    "dp = nn.Dropout(p=0.05)\n",
    "\n",
    "class CNN(nn.Module):\n",
    "    def __init__(self):\n",
    "        super(CNN, self).__init__()\n",
    "        self.conv1 = nn.Conv2d(1,nc,(nRoi,5)).cuda()\n",
    "        self.conv2 = nn.Conv2d(nc,nc,(1,5)).cuda()\n",
    "        self.fc1 = nn.Linear(nc*(nt-8),nHid).cuda()\n",
    "        self.fc2 = nn.Linear(nHid,1).cuda()\n",
    "        \n",
    "    def forward(self, x):\n",
    "        nB = x.shape[0]\n",
    "        x = bn(lu(self.conv1(x.unsqueeze(1))))\n",
    "        x = lu(self.conv2(x))\n",
    "        x = x.reshape(nB,-1)\n",
    "        x = lu(self.fc1(x))\n",
    "        x = self.fc2(x)\n",
    "        return x\n",
    "    \n",
    "all_ts_t = torch.from_numpy(np.stack(all_ts)).float()\n",
    "agesPredCNN = torch.zeros(all_ts_t.shape[0])\n",
    "\n",
    "import random\n",
    "    \n",
    "# Loop over splits \n",
    "splitIdx = 0\n",
    "for trainIdcs, testIdcs in groups:\n",
    "    cnn = CNN()\n",
    "    optim = torch.optim.Adam(cnn.parameters(), lr=1e-3)\n",
    "    \n",
    "    train_ts = all_ts_t[trainIdcs].cuda()\n",
    "    test_ts = all_ts_t[testIdcs].cuda()\n",
    "    \n",
    "#     X_train = X_all[trainIdcs,0]\n",
    "    X_train = wrat[trainIdcs]\n",
    "    \n",
    "    running = 0\n",
    "    nEpoch = 3000\n",
    "    pPeriod = 200\n",
    "    nB = 10\n",
    "    N = train_ts.shape[0]\n",
    "\n",
    "    for epoch in range(nEpoch):\n",
    "        batch = []\n",
    "        truth = torch.zeros(nB).float().cuda()\n",
    "        for i in range(nB):\n",
    "            idx = random.randint(0,N-1)\n",
    "            batch.append(train_ts[idx])\n",
    "            truth[i] = X_train[idx]\n",
    "        batch = torch.stack(batch)\n",
    "        optim.zero_grad()\n",
    "        pred = cnn(batch).flatten()\n",
    "        loss = torch.sum((pred-truth)**2)\n",
    "        loss.backward()\n",
    "        running += loss.detach().cpu()\n",
    "        optim.step()\n",
    "        if epoch % pPeriod == 0 or epoch == nEpoch-1:\n",
    "            if epoch != 0:\n",
    "                if epoch % pPeriod != 0:\n",
    "                    running /= epoch % pPeriod\n",
    "                else:\n",
    "                    running /= pPeriod\n",
    "            print('epoch {:d} loss={:f}'.format(epoch, ((running/nB)**0.5)/12))\n",
    "            running = 0\n",
    "\n",
    "    print('Finished training')\n",
    "    \n",
    "    agesPredCNN[testIdcs] = cnn(test_ts).flatten().detach().cpu()\n",
    "    \n",
    "    print('Completed split {:}'.format(splitIdx))\n",
    "    splitIdx += 1\n",
    "\n",
    "print('All complete')"
   ]
  },
  {
   "cell_type": "code",
   "execution_count": 22,
   "id": "81ab0c9b",
   "metadata": {},
   "outputs": [
    {
     "name": "stdout",
     "output_type": "stream",
     "text": [
      "[[1.        0.2110947]\n",
      " [0.2110947 1.       ]]\n",
      "16.074670725100827\n",
      "12.55717795587355\n"
     ]
    },
    {
     "data": {
      "image/png": "[encoded data removed]",
      "text/plain": [
       "<Figure size 432x288 with 1 Axes>"
      ]
     },
     "metadata": {
      "needs_background": "light"
     },
     "output_type": "display_data"
    },
    {
     "data": {
      "image/png": "[encoded data removed]",
      "text/plain": [
       "<Figure size 432x288 with 1 Axes>"
      ]
     },
     "metadata": {
      "needs_background": "light"
     },
     "output_type": "display_data"
    }
   ],
   "source": [
    "import matplotlib.pyplot as plt\n",
    "\n",
    "# test_labels = X_all[:,0]\n",
    "test_labels = wrat\n",
    "predY = agesPredCNN.detach().cpu().numpy()\n",
    "\n",
    "idcs = np.argsort(test_labels[:])\n",
    "yPred = predY[idcs]\n",
    "y = test_labels[idcs]\n",
    "\n",
    "corr = np.corrcoef(y, yPred)\n",
    "rmse = (np.sum((y-yPred)**2)/len(y))**0.5\n",
    "mae = np.sum(np.abs(y-yPred))/len(y)\n",
    "# rmse = (np.sum((y-yPred)**2)/len(y))**0.5/12\n",
    "# mae = np.sum(np.abs(y-yPred))/12/len(y)\n",
    "\n",
    "print(corr)\n",
    "print(rmse)\n",
    "print(mae)\n",
    "\n",
    "plt.plot(y, label='Truth')\n",
    "plt.plot(yPred, label='Prediction')\n",
    "plt.show()\n",
    "\n",
    "plt.scatter(y, yPred)\n",
    "plt.show()"
   ]
  },
  {
   "cell_type": "code",
   "execution_count": 23,
   "id": "f97173b0",
   "metadata": {},
   "outputs": [
    {
     "name": "stdout",
     "output_type": "stream",
     "text": [
      "Complete\n"
     ]
    }
   ],
   "source": [
    "# Save predictions\n",
    "\n",
    "with open('../../../BrainAgePredictWrat/Wrat/CNNWratEmoidPredictions.bin', 'wb') as f:\n",
    "    pickle.dump(agesPredCNN.detach().cpu().numpy(), f)\n",
    "    \n",
    "print('Complete')"
   ]
  },
  {
   "cell_type": "code",
   "execution_count": 24,
   "id": "082e7531",
   "metadata": {},
   "outputs": [
    {
     "name": "stdout",
     "output_type": "stream",
     "text": [
      "[108.4208   112.96793  102.767365 107.26028  101.19772   97.21273\n",
      "  93.48887   99.92062  111.090866  99.71083 ]\n",
      "tensor([108.4208, 112.9679, 102.7674, 107.2603, 101.1977,  97.2127,  93.4889,\n",
      "         99.9206, 111.0909,  99.7108])\n",
      "620\n",
      "620\n"
     ]
    }
   ],
   "source": [
    "# Check predictions\n",
    "\n",
    "with open('../../../BrainAgePredictWrat/Wrat/CNNWratEmoidPredictions.bin', 'rb') as f:\n",
    "    check = pickle.load(f)\n",
    "    \n",
    "print(check[0:10])\n",
    "print(agesPredCNN[0:10])\n",
    "print(np.count_nonzero(check == agesPredCNN.detach().cpu().numpy()))\n",
    "print(check.shape[0])"
   ]
  },
  {
   "cell_type": "code",
   "execution_count": null,
   "id": "bb3f7d41",
   "metadata": {},
   "outputs": [],
   "source": []
  }
 ],
 "metadata": {
  "kernelspec": {
   "display_name": "Python 3",
   "language": "python",
   "name": "python3"
  },
  "language_info": {
   "codemirror_mode": {
    "name": "ipython",
    "version": 3
   },
   "file_extension": ".py",
   "mimetype": "text/x-python",
   "name": "python",
   "nbconvert_exporter": "python",
   "pygments_lexer": "ipython3",
   "version": "3.9.5"
  }
 },
 "nbformat": 4,
 "nbformat_minor": 5
}
