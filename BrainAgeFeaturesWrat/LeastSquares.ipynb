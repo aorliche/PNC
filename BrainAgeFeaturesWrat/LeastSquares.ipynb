{
 "cells": [
  {
   "cell_type": "code",
   "execution_count": 82,
   "id": "2ace095a",
   "metadata": {},
   "outputs": [
    {
     "name": "stdout",
     "output_type": "stream",
     "text": [
      "620\n"
     ]
    }
   ],
   "source": [
    "import pickle\n",
    "\n",
    "para = 'Emoid'\n",
    "\n",
    "# Load meta dict\n",
    "\n",
    "with open('../../AllSubjectsMeta.bin', 'rb') as f:\n",
    "    meta = pickle.load(f)\n",
    "    \n",
    "# Load rest subject ids and splits\n",
    "\n",
    "with open('../../../BrainAgePredictWrat/' + para + 'Only10FoldSplit.bin', 'rb') as f:\n",
    "    splits = pickle.load(f)\n",
    "    subids = splits['cand' + para + 'YesWrat']\n",
    "    groups = splits['groups']\n",
    "    \n",
    "print(len(subids))"
   ]
  },
  {
   "cell_type": "code",
   "execution_count": 83,
   "id": "237218e4",
   "metadata": {},
   "outputs": [
    {
     "name": "stdout",
     "output_type": "stream",
     "text": [
      "Loading complete\n"
     ]
    }
   ],
   "source": [
    "import numpy as np\n",
    "\n",
    "paradigm = 'emoid'\n",
    "subidsNp = np.array(subids)\n",
    "\n",
    "# Load timeseries\n",
    "\n",
    "def loadSeries(prefix, para, idx):\n",
    "    with open('{:}/{:}_fmri_power264/timeseries/{:}.bin'.format(prefix, para, idx), 'rb') as f:\n",
    "        return pickle.load(f)\n",
    "\n",
    "all_ts = [loadSeries('../..', paradigm, meta[subid][paradigm]) for subid in subidsNp]\n",
    "\n",
    "print('Loading complete')"
   ]
  },
  {
   "cell_type": "code",
   "execution_count": 84,
   "id": "a60ec095",
   "metadata": {},
   "outputs": [
    {
     "name": "stdout",
     "output_type": "stream",
     "text": [
      "Complete\n"
     ]
    }
   ],
   "source": [
    "# Normalize timeseries\n",
    "\n",
    "def normalizeSubjects(subjects):\n",
    "    for i in range(len(subjects)):\n",
    "        subj = subjects[i]\n",
    "        subj -= np.mean(subj, axis=1, keepdims=True)@np.ones([1,subj.shape[1]])\n",
    "        subj /= np.std(subj, axis=1, keepdims=True)@np.ones([1,subj.shape[1]])\n",
    "        if np.sum(np.isnan(subj)) > 0:\n",
    "            print('nan {:}'.format(i))\n",
    "        if np.sum(np.isinf(subj)) > 0:\n",
    "            print('inf {:}'.format(i))\n",
    "            \n",
    "normalizeSubjects(all_ts)\n",
    "\n",
    "print('Complete')"
   ]
  },
  {
   "cell_type": "code",
   "execution_count": 85,
   "id": "942af66d",
   "metadata": {},
   "outputs": [
    {
     "name": "stdout",
     "output_type": "stream",
     "text": [
      "603056110671\n",
      "invalid literal for int() with base 10: 'NaN\\n'\n",
      "603317055381\n",
      "invalid literal for int() with base 10: 'NaN\\n'\n",
      "604847970437\n",
      "invalid literal for int() with base 10: 'NaN\\n'\n",
      "(620,)\n",
      "Complete\n"
     ]
    }
   ],
   "source": [
    "# Load WRAT for subjects\n",
    "\n",
    "import numpy as np\n",
    "\n",
    "idWratDict = {}\n",
    "\n",
    "with open('../../wrat.csv') as f:\n",
    "    for line in f.readlines()[1:]:\n",
    "        parts = line.split(',')\n",
    "        try:\n",
    "            idWratDict[int(parts[0])] = int(parts[3])\n",
    "        except Exception as e:\n",
    "            print(parts[0])\n",
    "            print(e)\n",
    "            \n",
    "wrat = np.array([idWratDict[subid] for subid in subids])\n",
    "\n",
    "print(wrat.shape)\n",
    "print('Complete')"
   ]
  },
  {
   "cell_type": "code",
   "execution_count": 33,
   "id": "4107a87d",
   "metadata": {},
   "outputs": [
    {
     "name": "stdout",
     "output_type": "stream",
     "text": [
      "[[223   1   0]\n",
      " [190   0   1]\n",
      " [197   0   1]\n",
      " [145   1   0]\n",
      " [148   0   1]\n",
      " [142   0   1]\n",
      " [123   1   0]\n",
      " [176   1   0]\n",
      " [129   0   1]\n",
      " [173   1   0]]\n",
      "Complete\n"
     ]
    }
   ],
   "source": [
    "# Create feature vectors (right now just ages, maleness, and femaless)\n",
    "\n",
    "X_all = []\n",
    "for subid in subidsNp:\n",
    "    subj = meta[subid]\n",
    "    maleness = 1 if subj['meta']['Gender'] == 'M' else 0\n",
    "    femaleness = 1 if maleness == 0 else 0\n",
    "    feat = np.array([subj['meta']['AgeInMonths'], maleness, femaleness])\n",
    "    X_all.append(feat)\n",
    "X_all = np.vstack(X_all)\n",
    "\n",
    "print(X_all[10:20])\n",
    "print('Complete')"
   ]
  },
  {
   "cell_type": "code",
   "execution_count": 86,
   "id": "76bad014",
   "metadata": {
    "scrolled": true
   },
   "outputs": [
    {
     "name": "stdout",
     "output_type": "stream",
     "text": [
      "(620, 264, 264)\n"
     ]
    }
   ],
   "source": [
    "# Calculate pearson matrices\n",
    "\n",
    "all_p = np.stack([np.corrcoef(ts) for ts in all_ts])\n",
    "\n",
    "print(all_p.shape)"
   ]
  },
  {
   "cell_type": "code",
   "execution_count": 87,
   "id": "f506531b",
   "metadata": {},
   "outputs": [
    {
     "name": "stdout",
     "output_type": "stream",
     "text": [
      "Completed split 0\n",
      "Completed split 1\n",
      "Completed split 2\n",
      "Completed split 3\n",
      "Completed split 4\n",
      "Completed split 5\n",
      "Completed split 6\n",
      "Completed split 7\n",
      "Completed split 8\n",
      "Completed split 9\n",
      "All complete\n"
     ]
    }
   ],
   "source": [
    "# First order pearson\n",
    "\n",
    "agesPred = np.zeros([all_p.shape[0]])\n",
    "\n",
    "# Loop over splits\n",
    "i = 0\n",
    "for trainIdcs, testIdcs in groups:\n",
    "    train_ps = all_p[trainIdcs].reshape(len(trainIdcs), 264*264)\n",
    "    test_ps = all_p[testIdcs].reshape(len(testIdcs), 264*264)\n",
    "    \n",
    "    #train_ages = X_all[trainIdcs,0]\n",
    "    train_ages = wrat[trainIdcs]\n",
    "    \n",
    "    w, _, _, _ = np.linalg.lstsq(train_ps, train_ages, rcond=None)\n",
    "    \n",
    "    agesPred[testIdcs] = test_ps@w\n",
    "    \n",
    "    print('Completed split {:}'.format(i))\n",
    "    i += 1\n",
    "    \n",
    "print('All complete')"
   ]
  },
  {
   "cell_type": "code",
   "execution_count": 88,
   "id": "4f2b08cc",
   "metadata": {},
   "outputs": [
    {
     "name": "stdout",
     "output_type": "stream",
     "text": [
      "[[1.         0.35915141]\n",
      " [0.35915141 1.        ]]\n",
      "15.493993107378847\n",
      "11.83850694389338\n"
     ]
    },
    {
     "data": {
      "image/png": "[encoded data removed]",
      "text/plain": [
       "<Figure size 432x288 with 1 Axes>"
      ]
     },
     "metadata": {
      "needs_background": "light"
     },
     "output_type": "display_data"
    },
    {
     "data": {
      "image/png": "[encoded data removed]",
      "text/plain": [
       "<Figure size 432x288 with 1 Axes>"
      ]
     },
     "metadata": {
      "needs_background": "light"
     },
     "output_type": "display_data"
    }
   ],
   "source": [
    "import matplotlib.pyplot as plt\n",
    "\n",
    "#test_labels = X_all[:,0]\n",
    "test_labels = wrat\n",
    "predY = agesPred\n",
    "\n",
    "idcs = np.argsort(test_labels[:])\n",
    "yPred = predY[idcs]\n",
    "y = test_labels[idcs]\n",
    "\n",
    "corr = np.corrcoef(y, yPred)\n",
    "rmse = (np.sum((y-yPred)**2)/len(y))**0.5\n",
    "mae = np.sum(np.abs(y-yPred))/len(y)\n",
    "#rmse = (np.sum((y-yPred)**2)/len(y))**0.5/12\n",
    "#mae = np.sum(np.abs(y-yPred))/12/len(y)\n",
    "\n",
    "print(corr)\n",
    "print(rmse)\n",
    "print(mae)\n",
    "\n",
    "plt.plot(y, label='Truth')\n",
    "plt.plot(yPred, label='Prediction')\n",
    "plt.show()\n",
    "\n",
    "plt.scatter(y, yPred)\n",
    "plt.show()"
   ]
  },
  {
   "cell_type": "code",
   "execution_count": 89,
   "id": "ba27111e",
   "metadata": {},
   "outputs": [
    {
     "name": "stdout",
     "output_type": "stream",
     "text": [
      "Complete\n"
     ]
    }
   ],
   "source": [
    "# Save predictions\n",
    "\n",
    "with open('../../../BrainAgePredictWrat/Wrat/LeastSquaresEmoidWratPredictions.bin', 'wb') as f:\n",
    "    pickle.dump(agesPred, f)\n",
    "    \n",
    "print('Complete')"
   ]
  },
  {
   "cell_type": "code",
   "execution_count": 90,
   "id": "60d73a29",
   "metadata": {},
   "outputs": [
    {
     "name": "stdout",
     "output_type": "stream",
     "text": [
      "[ 99.24343139 101.83131614  95.1440329   67.8781019  105.50657864\n",
      " 107.93166075 101.26973536  98.242508   106.32470914 109.24205382]\n",
      "[ 99.24343139 101.83131614  95.1440329   67.8781019  105.50657864\n",
      " 107.93166075 101.26973536  98.242508   106.32470914 109.24205382]\n",
      "620\n",
      "620\n"
     ]
    }
   ],
   "source": [
    "# Check predictions\n",
    "\n",
    "with open('../../../BrainAgePredictWrat/Wrat/LeastSquaresEmoidWratPredictions.bin', 'rb') as f:\n",
    "    check = pickle.load(f)\n",
    "    \n",
    "print(check[0:10])\n",
    "print(agesPred[0:10])\n",
    "print(np.count_nonzero(check == agesPred))\n",
    "print(check.shape[0])"
   ]
  },
  {
   "cell_type": "code",
   "execution_count": 91,
   "id": "04a67580",
   "metadata": {},
   "outputs": [
    {
     "name": "stdout",
     "output_type": "stream",
     "text": [
      "(620, 348480)\n"
     ]
    }
   ],
   "source": [
    "# Calculate 5th degree poly\n",
    "\n",
    "all_5p = np.zeros([len(subids), 264*264*5])\n",
    "all_5p[:,0:264*264] = all_p.reshape(len(subids), 264*264)\n",
    "\n",
    "for i in range(1,5):\n",
    "    all_5p[:,i*264*264:(i+1)*264*264] = all_5p[:,(i-1)*264*264:i*264*264]*all_5p[:,0:264*264]\n",
    "    \n",
    "print(all_5p.shape)"
   ]
  },
  {
   "cell_type": "code",
   "execution_count": 92,
   "id": "4574572b",
   "metadata": {},
   "outputs": [
    {
     "name": "stdout",
     "output_type": "stream",
     "text": [
      "Completed split 0\n",
      "Completed split 1\n",
      "Completed split 2\n",
      "Completed split 3\n",
      "Completed split 4\n",
      "Completed split 5\n",
      "Completed split 6\n",
      "Completed split 7\n",
      "Completed split 8\n",
      "Completed split 9\n",
      "All complete\n"
     ]
    }
   ],
   "source": [
    "# Fifth order pearson\n",
    "\n",
    "agesPred5 = np.zeros([all_5p.shape[0]])\n",
    "\n",
    "# Loop over splits\n",
    "i = 0\n",
    "for trainIdcs, testIdcs in groups:\n",
    "    train_ps = all_5p[trainIdcs].reshape(len(trainIdcs), 264*264*5)\n",
    "    test_ps = all_5p[testIdcs].reshape(len(testIdcs), 264*264*5)\n",
    "    \n",
    "    #train_ages = X_all[trainIdcs,0]\n",
    "    train_ages = wrat[trainIdcs]\n",
    "    \n",
    "    w, _, _, _ = np.linalg.lstsq(train_ps, train_ages, rcond=None)\n",
    "    \n",
    "    agesPred5[testIdcs] = test_ps@w\n",
    "    \n",
    "    print('Completed split {:}'.format(i))\n",
    "    i += 1\n",
    "    \n",
    "print('All complete')"
   ]
  },
  {
   "cell_type": "code",
   "execution_count": 93,
   "id": "ecbfa9c4",
   "metadata": {},
   "outputs": [
    {
     "name": "stdout",
     "output_type": "stream",
     "text": [
      "[[1.         0.36647953]\n",
      " [0.36647953 1.        ]]\n",
      "15.0339540064612\n",
      "11.39941849164028\n"
     ]
    },
    {
     "data": {
      "image/png": "[encoded data removed]",
      "text/plain": [
       "<Figure size 432x288 with 1 Axes>"
      ]
     },
     "metadata": {
      "needs_background": "light"
     },
     "output_type": "display_data"
    },
    {
     "data": {
      "image/png": "[encoded data removed]",
      "text/plain": [
       "<Figure size 432x288 with 1 Axes>"
      ]
     },
     "metadata": {
      "needs_background": "light"
     },
     "output_type": "display_data"
    }
   ],
   "source": [
    "import matplotlib.pyplot as plt\n",
    "\n",
    "# test_labels = X_all[:,0]\n",
    "test_labels = wrat\n",
    "predY = agesPred5\n",
    "\n",
    "idcs = np.argsort(test_labels[:])\n",
    "yPred = predY[idcs]\n",
    "y = test_labels[idcs]\n",
    "\n",
    "corr = np.corrcoef(y, yPred)\n",
    "rmse = (np.sum((y-yPred)**2)/len(y))**0.5\n",
    "mae = np.sum(np.abs(y-yPred))/len(y)\n",
    "# rmse = (np.sum((y-yPred)**2)/len(y))**0.5/12\n",
    "# mae = np.sum(np.abs(y-yPred))/12/len(y)\n",
    "\n",
    "print(corr)\n",
    "print(rmse)\n",
    "print(mae)\n",
    "\n",
    "plt.plot(y, label='Truth')\n",
    "plt.plot(yPred, label='Prediction')\n",
    "plt.show()\n",
    "\n",
    "plt.scatter(y, yPred)\n",
    "plt.show()"
   ]
  },
  {
   "cell_type": "code",
   "execution_count": 94,
   "id": "25665232",
   "metadata": {},
   "outputs": [
    {
     "name": "stdout",
     "output_type": "stream",
     "text": [
      "Complete\n"
     ]
    }
   ],
   "source": [
    "# Save predictions\n",
    "\n",
    "with open('../../../BrainAgePredictWrat/Wrat/LeastSquares5EmoidWratPredictions.bin', 'wb') as f:\n",
    "    pickle.dump(agesPred5, f)\n",
    "    \n",
    "print('Complete')"
   ]
  },
  {
   "cell_type": "code",
   "execution_count": 95,
   "id": "f3c543b5",
   "metadata": {},
   "outputs": [
    {
     "name": "stdout",
     "output_type": "stream",
     "text": [
      "[100.79194058 102.08781796  93.47951181  85.57364876 107.49833544\n",
      " 107.20559763 100.97059368 102.18685227 107.12833008 111.48557744]\n",
      "[100.79194058 102.08781796  93.47951181  85.57364876 107.49833544\n",
      " 107.20559763 100.97059368 102.18685227 107.12833008 111.48557744]\n",
      "620\n",
      "620\n"
     ]
    }
   ],
   "source": [
    "# Check predictions\n",
    "\n",
    "with open('../../../BrainAgePredictWrat/Wrat/LeastSquares5EmoidWratPredictions.bin', 'rb') as f:\n",
    "    check = pickle.load(f)\n",
    "    \n",
    "print(check[0:10])\n",
    "print(agesPred5[0:10])\n",
    "print(np.count_nonzero(check == agesPred5))\n",
    "print(check.shape[0])"
   ]
  },
  {
   "cell_type": "code",
   "execution_count": null,
   "id": "c4f3cfd2",
   "metadata": {},
   "outputs": [],
   "source": []
  }
 ],
 "metadata": {
  "kernelspec": {
   "display_name": "Python 3 (ipykernel)",
   "language": "python",
   "name": "python3"
  },
  "language_info": {
   "codemirror_mode": {
    "name": "ipython",
    "version": 3
   },
   "file_extension": ".py",
   "mimetype": "text/x-python",
   "name": "python",
   "nbconvert_exporter": "python",
   "pygments_lexer": "ipython3",
   "version": "3.9.7"
  }
 },
 "nbformat": 4,
 "nbformat_minor": 5
}
