{
 "cells": [
  {
   "cell_type": "code",
   "execution_count": 1,
   "id": "d5ac914d",
   "metadata": {},
   "outputs": [
    {
     "name": "stdout",
     "output_type": "stream",
     "text": [
      "{'meta': {'AgeInMonths': 150, 'Gender': 'M', 'Ethnicity': 'CAUCASIAN/WHITE', 'AgeGroupID': 2, 'AgeGroupEdge1': 144, 'AgeGroupEdge2': 180}, 'rest': '472', 'nback': '489', 'emoid': '246'}\n",
      "{'meta': {'AgeInMonths': 232, 'Gender': 'F', 'Ethnicity': 'AFRICAN', 'AgeGroupID': 4, 'AgeGroupEdge1': 216, 'AgeGroupEdge2': 272}, 'rest': '171', 'nback': '176', 'emoid': '180'}\n",
      "Complete\n"
     ]
    }
   ],
   "source": [
    "# Check the bad subjects\n",
    "\n",
    "import pickle\n",
    "\n",
    "badIDs = [605515760919, 601983541597]\n",
    "\n",
    "# BadID 605515760919 has nans in rest\n",
    "# BadID 601983541597 has nans in emoid\n",
    "\n",
    "# Load meta\n",
    "\n",
    "with open('../../AllSubjectsMeta.bin', 'rb') as f:\n",
    "    meta = pickle.load(f)\n",
    "    \n",
    "print(meta[badIDs[0]])\n",
    "print(meta[badIDs[1]])\n",
    "\n",
    "def loadSeries(prefix, para, idx):\n",
    "    with open('{:}/{:}_fmri_power264/timeseries/{:}.bin'.format(prefix, para, idx), 'rb') as f:\n",
    "        return pickle.load(f)\n",
    "    \n",
    "def loadAllSeriesSubject(prefix, subj):\n",
    "    d = {}\n",
    "    paras = ['rest', 'nback', 'emoid']\n",
    "    for para in paras:\n",
    "        if para in subj:\n",
    "            d[para] = loadSeries(prefix, para, subj[para])\n",
    "    return d\n",
    "\n",
    "print('Complete')"
   ]
  },
  {
   "cell_type": "code",
   "execution_count": 73,
   "id": "9a9a1ac6",
   "metadata": {},
   "outputs": [
    {
     "name": "stdout",
     "output_type": "stream",
     "text": [
      "(264, 124)\n"
     ]
    }
   ],
   "source": [
    "bad0ts = loadAllSeriesSubject('../..', meta[badIDs[0]])\n",
    "bad1ts = loadAllSeriesSubject('../..', meta[badIDs[1]])\n",
    "\n",
    "print(bad0ts['rest'].shape)"
   ]
  },
  {
   "cell_type": "code",
   "execution_count": 74,
   "id": "544fcdfd",
   "metadata": {},
   "outputs": [
    {
     "data": {
      "text/plain": [
       "array([0., 0., 0., 0., 0., 0., 0., 0., 0., 0., 0., 0., 0., 0., 0., 0., 0.,\n",
       "       0., 0., 0., 0., 0., 0., 0., 0., 0., 0., 0., 0., 0., 0., 0., 0., 0.,\n",
       "       0., 0., 0., 0., 0., 0., 0., 0., 0., 0., 0., 0., 0., 0., 0., 0., 0.,\n",
       "       0., 0., 0., 0., 0., 0., 0., 0., 0., 0., 0., 0., 0., 0., 0., 0., 0.,\n",
       "       0., 0., 0., 0., 0., 0., 0., 0., 0., 0., 0., 0., 0., 0., 0., 0., 0.,\n",
       "       0., 0., 0., 0., 0., 0., 0., 0., 0., 0., 0., 0., 0., 0., 0., 0., 0.,\n",
       "       0., 0., 0., 0., 0., 0., 0., 0., 0., 0., 0., 0., 0., 0., 0., 0., 0.,\n",
       "       0., 0., 0., 0., 0., 0., 0., 0., 0., 0., 0., 0., 0., 0., 0., 0., 0.,\n",
       "       0., 0., 0., 0., 0., 0., 0., 0., 0., 0., 0., 0., 0., 0., 0., 0., 0.,\n",
       "       0., 0., 0., 0., 0., 0., 0., 0., 0., 0., 0., 0., 0., 0., 0., 0., 0.,\n",
       "       0., 0., 0., 0., 0., 0., 0., 0., 0., 0., 0., 0., 0., 0., 0., 0., 0.,\n",
       "       0., 0., 0., 0., 0., 0., 0., 0., 0., 0., 0., 0., 0., 0., 0., 0., 0.,\n",
       "       0., 0., 0., 0., 0., 0.])"
      ]
     },
     "execution_count": 74,
     "metadata": {},
     "output_type": "execute_result"
    }
   ],
   "source": [
    "bad1ts['emoid'][249,:]"
   ]
  },
  {
   "cell_type": "code",
   "execution_count": 75,
   "id": "6516a8e7",
   "metadata": {},
   "outputs": [
    {
     "name": "stdout",
     "output_type": "stream",
     "text": [
      "subject 0, rest 2 bad std values\n",
      "[126 183]\n",
      "subject 1, emoid 1 bad std values\n",
      "[249]\n"
     ]
    }
   ],
   "source": [
    "import numpy as np\n",
    "\n",
    "def describeBad(tss, para, subid='Dummy'):\n",
    "    try:\n",
    "        count = np.count_nonzero(~np.isfinite(tss[para]))\n",
    "        if count > 0:\n",
    "            print('subject {:}, {:} {:} bad values'.format(subid, para, count))\n",
    "        std = np.std(tss[para], axis=1)\n",
    "        stdcount = np.count_nonzero(std < 1e-4)\n",
    "        loc = np.where(std < 1e-4)[0]\n",
    "        if stdcount > 0:\n",
    "            print('subject {:}, {:} {:} bad std values'.format(subid, para, stdcount))\n",
    "            print(loc)\n",
    "    except KeyError as ke:\n",
    "        pass\n",
    "    \n",
    "def describeBadSubject(tss, subid='Dummy'):\n",
    "    describeBad(tss, 'rest', subid)\n",
    "    describeBad(tss, 'nback', subid)\n",
    "    describeBad(tss, 'emoid', subid)\n",
    "    \n",
    "describeBadSubject(bad0ts, '0')\n",
    "describeBadSubject(bad1ts, '1')"
   ]
  },
  {
   "cell_type": "code",
   "execution_count": 70,
   "id": "73048e8e",
   "metadata": {},
   "outputs": [],
   "source": [
    "tss = loadAllSeriesSubject('../..', meta[601983541597])\n",
    "describeBadSubject(tss, 601983541597)"
   ]
  },
  {
   "cell_type": "code",
   "execution_count": 71,
   "id": "66ec002d",
   "metadata": {},
   "outputs": [
    {
     "data": {
      "text/plain": [
       "array([0., 0., 0., 0., 0., 0., 0., 0., 0., 0., 0., 0., 0., 0., 0., 0., 0.,\n",
       "       0., 0., 0., 0., 0., 0., 0., 0., 0., 0., 0., 0., 0., 0., 0., 0., 0.,\n",
       "       0., 0., 0., 0., 0., 0., 0., 0., 0., 0., 0., 0., 0., 0., 0., 0., 0.,\n",
       "       0., 0., 0., 0., 0., 0., 0., 0., 0., 0., 0., 0., 0., 0., 0., 0., 0.,\n",
       "       0., 0., 0., 0., 0., 0., 0., 0., 0., 0., 0., 0., 0., 0., 0., 0., 0.,\n",
       "       0., 0., 0., 0., 0., 0., 0., 0., 0., 0., 0., 0., 0., 0., 0., 0., 0.,\n",
       "       0., 0., 0., 0., 0., 0., 0., 0., 0., 0., 0., 0., 0., 0., 0., 0., 0.,\n",
       "       0., 0., 0., 0., 0., 0., 0., 0., 0., 0., 0., 0., 0., 0., 0., 0., 0.,\n",
       "       0., 0., 0., 0., 0., 0., 0., 0., 0., 0., 0., 0., 0., 0., 0., 0., 0.,\n",
       "       0., 0., 0., 0., 0., 0., 0., 0., 0., 0., 0., 0., 0., 0., 0., 0., 0.,\n",
       "       0., 0., 0., 0., 0., 0., 0., 0., 0., 0., 0., 0., 0., 0., 0., 0., 0.,\n",
       "       0., 0., 0., 0., 0., 0., 0., 0., 0., 0., 0., 0., 0., 0., 0., 0., 0.,\n",
       "       0., 0., 0., 0., 0., 0.])"
      ]
     },
     "execution_count": 71,
     "metadata": {},
     "output_type": "execute_result"
    }
   ],
   "source": [
    "tss['emoid'][249,:]"
   ]
  },
  {
   "cell_type": "code",
   "execution_count": 39,
   "id": "b8cf9921",
   "metadata": {},
   "outputs": [
    {
     "name": "stdout",
     "output_type": "stream",
     "text": [
      "nan 1\n",
      "Complete\n"
     ]
    }
   ],
   "source": [
    "# Normalization function\n",
    "\n",
    "train_rest_ts = [bad0ts['rest'], bad1ts['rest']]\n",
    "train_nback_ts = [bad0ts['nback'], bad1ts['nback']]\n",
    "train_emoid_ts = [bad0ts['emoid'], bad1ts['emoid']]\n",
    "\n",
    "def normalizeSubjects(subjects):\n",
    "    for i in range(len(subjects)):\n",
    "        subj = subjects[i]\n",
    "        subj -= np.mean(subj, axis=1, keepdims=True)@np.ones([1,subj.shape[1]])\n",
    "        subj /= np.std(subj, axis=1, keepdims=True)@np.ones([1,subj.shape[1]])\n",
    "        if np.sum(np.isnan(subj)) > 0:\n",
    "            print('nan {:}'.format(i))\n",
    "        if np.sum(np.isinf(subj)) > 0:\n",
    "            print('inf {:}'.format(i))\n",
    "\n",
    "# normalizeSubjects(train_rest_ts)\n",
    "# normalizeSubjects(train_nback_ts)\n",
    "normalizeSubjects(train_emoid_ts)\n",
    "\n",
    "# normalizeSubjects(test_rest_ts)\n",
    "# normalizeSubjects(test_nback_ts)\n",
    "# normalizeSubjects(test_emoid_ts)\n",
    "\n",
    "print('Complete')"
   ]
  },
  {
   "cell_type": "code",
   "execution_count": 41,
   "id": "03bf93cf",
   "metadata": {},
   "outputs": [
    {
     "name": "stdout",
     "output_type": "stream",
     "text": [
      "[ 69 192 210 214 252]\n",
      "[249]\n"
     ]
    }
   ],
   "source": [
    "# Subject 0 is bad in rest\n",
    "# Check for zeros in rest\n",
    "\n",
    "means = np.mean(bad1ts['emoid'], axis=1)\n",
    "zeroIdx = np.where(means == 0)[0]\n",
    "nanIdx = np.where(np.isnan(means))[0]\n",
    "\n",
    "print(zeroIdx)\n",
    "print(nanIdx)"
   ]
  },
  {
   "cell_type": "code",
   "execution_count": 43,
   "id": "e5fec632",
   "metadata": {},
   "outputs": [
    {
     "name": "stdout",
     "output_type": "stream",
     "text": [
      "-1.7763568394002505e-15\n",
      "0.0\n",
      "[nan nan nan nan nan nan nan nan nan nan nan nan nan nan nan nan nan nan\n",
      " nan nan nan nan nan nan nan nan nan nan nan nan nan nan nan nan nan nan\n",
      " nan nan nan nan nan nan nan nan nan nan nan nan nan nan nan nan nan nan\n",
      " nan nan nan nan nan nan nan nan nan nan nan nan nan nan nan nan nan nan\n",
      " nan nan nan nan nan nan nan nan nan nan nan nan nan nan nan nan nan nan\n",
      " nan nan nan nan nan nan nan nan nan nan nan nan nan nan nan nan nan nan\n",
      " nan nan nan nan nan nan nan nan nan nan nan nan nan nan nan nan nan nan\n",
      " nan nan nan nan nan nan nan nan nan nan nan nan nan nan nan nan nan nan\n",
      " nan nan nan nan nan nan nan nan nan nan nan nan nan nan nan nan nan nan\n",
      " nan nan nan nan nan nan nan nan nan nan nan nan nan nan nan nan nan nan\n",
      " nan nan nan nan nan nan nan nan nan nan nan nan nan nan nan nan nan nan\n",
      " nan nan nan nan nan nan nan nan nan nan nan nan]\n"
     ]
    }
   ],
   "source": [
    "print(np.sum(bad0ts['rest'][17,:]))\n",
    "print(np.sum(bad0ts['rest'][34,:]))\n",
    "print(bad1ts['emoid'][249,:])"
   ]
  },
  {
   "cell_type": "code",
   "execution_count": 44,
   "id": "3b627d81",
   "metadata": {},
   "outputs": [
    {
     "data": {
      "text/plain": [
       "210"
      ]
     },
     "execution_count": 44,
     "metadata": {},
     "output_type": "execute_result"
    }
   ],
   "source": [
    "np.count_nonzero(np.isnan(bad1ts['emoid']))"
   ]
  },
  {
   "cell_type": "code",
   "execution_count": 76,
   "id": "ccc07e5b",
   "metadata": {},
   "outputs": [
    {
     "name": "stdout",
     "output_type": "stream",
     "text": [
      "Finished 50\n",
      "Finished 100\n",
      "Finished 150\n",
      "subject 601983541597, emoid 1 bad std values\n",
      "[249]\n",
      "Finished 200\n",
      "subject 602569768815, rest 1 bad std values\n",
      "[183]\n",
      "subject 602818432787, rest 1 bad std values\n",
      "[183]\n",
      "Finished 250\n",
      "subject 603317055381, rest 2 bad std values\n",
      "[18 30]\n",
      "subject 603403163265, rest 3 bad std values\n",
      "[126 183 184]\n",
      "Finished 300\n",
      "Finished 350\n",
      "Finished 400\n",
      "Finished 450\n",
      "subject 605515760919, rest 2 bad std values\n",
      "[126 183]\n",
      "Finished 500\n",
      "Finished 550\n",
      "Finished 600\n",
      "subject 607218468837, rest 2 bad std values\n",
      "[183 184]\n",
      "Finished 650\n",
      "Finished 700\n",
      "Finished 750\n",
      "Finished 800\n",
      "Finished 850\n",
      "Finished 900\n",
      "878 rest, 907 nback, 679 emoid\n",
      "Complete\n"
     ]
    }
   ],
   "source": [
    "nRest = 0\n",
    "nNback = 0\n",
    "nEmoid = 0\n",
    "\n",
    "i = 0\n",
    "for subid in meta:\n",
    "    if 'rest' in meta[subid]:\n",
    "        nRest += 1\n",
    "    if 'nback' in meta[subid]:\n",
    "        nNback += 1\n",
    "    if 'emoid' in meta[subid]:\n",
    "        nEmoid += 1\n",
    "    tss = loadAllSeriesSubject('../..', meta[subid])\n",
    "    describeBadSubject(tss, subid)\n",
    "    i += 1\n",
    "    if i % 50 == 0:\n",
    "        print('Finished {:d}'.format(i))\n",
    "\n",
    "print('{:} rest, {:} nback, {:} emoid'.format(nRest, nNback, nEmoid))\n",
    "print('Complete')"
   ]
  },
  {
   "cell_type": "code",
   "execution_count": 86,
   "id": "e6a42172",
   "metadata": {},
   "outputs": [
    {
     "name": "stdout",
     "output_type": "stream",
     "text": [
      "[-2.09636970e-15 -9.49612565e-15 -1.48639752e-14 -5.97432485e-15\n",
      "  8.01183031e-15  1.08082086e-14  9.33733310e-15  1.25720732e-14\n",
      "  1.38510730e-14  1.14748381e-14  9.53325135e-15  4.80380517e-15\n",
      " -5.38563027e-16  3.61378693e-15  8.72816420e-15 -3.51139082e-15\n",
      " -2.25687264e-14 -2.72298622e-14 -2.28779929e-14 -2.01952786e-14\n",
      " -1.49508711e-14 -6.57283513e-15 -1.54988539e-15  3.91444162e-16\n",
      "  3.53844322e-15  6.69664281e-15  6.32630896e-15  2.24600931e-15\n",
      " -1.71756878e-15 -9.31246378e-16  1.44031321e-15  6.46561838e-16\n",
      "  2.87952257e-15  1.13696636e-14  1.78317349e-14  1.95039402e-14\n",
      "  2.23224509e-14  2.76207746e-14  3.11741360e-14  3.09479673e-14\n",
      "  2.30028765e-14  1.77970819e-15 -2.18634816e-14 -2.96741280e-14\n",
      " -2.47552859e-14 -2.17519150e-14 -2.49309060e-14 -2.87151988e-14\n",
      " -2.40186062e-14 -1.26147413e-14 -1.03936051e-14 -1.86742325e-14\n",
      " -2.00757666e-14 -1.29224017e-14 -9.22825659e-15 -5.37514117e-15\n",
      "  6.20233337e-15  1.65387144e-14  1.77260376e-14  1.66943628e-14\n",
      "  1.87338685e-14  1.95915830e-14  1.88655874e-14  2.08546296e-14\n",
      "  2.35141214e-14  2.40880436e-14  2.16176826e-14  9.69545614e-15\n",
      " -7.70972092e-15 -1.53304979e-14 -1.61403988e-14 -2.03007173e-14\n",
      " -2.03024077e-14 -1.27020021e-14 -7.21088285e-15 -3.61789530e-15\n",
      "  2.15367958e-15  3.24338340e-15 -1.13662139e-15  2.30032333e-15\n",
      "  1.32301416e-14  7.78984688e-15 -1.54183234e-14 -2.25527559e-14\n",
      " -6.69056328e-15  4.62188891e-15  7.39404403e-16 -7.14596789e-15\n",
      " -3.53551880e-15  1.06501826e-14  1.59258961e-14  1.49001162e-14\n",
      "  1.91170987e-14  8.45908374e-15 -1.97751636e-14 -2.42243329e-14\n",
      " -1.81282781e-15  2.97790388e-15 -7.51210722e-15 -2.81524261e-15\n",
      "  2.59698584e-15 -4.13636735e-15 -6.70533374e-15 -6.29080733e-15\n",
      " -9.63152496e-15 -6.60274471e-15  5.45659794e-15  1.50006119e-14\n",
      "  1.18873094e-14  1.47093604e-15 -6.37946619e-16  4.51358260e-15\n",
      "  3.81148329e-15  2.77982390e-15  1.79752575e-14  3.84877724e-14\n",
      "  3.18572482e-14  5.76163459e-15 -3.52051647e-15 -7.03569634e-15\n",
      " -2.51183540e-14 -3.32784460e-14 -2.51629904e-14 -2.33339717e-14]\n"
     ]
    }
   ],
   "source": [
    "ts = loadAllSeriesSubject('../..', meta[607218468837])\n",
    "print(ts['rest'][184])"
   ]
  },
  {
   "cell_type": "code",
   "execution_count": 17,
   "id": "7d7c093e",
   "metadata": {},
   "outputs": [
    {
     "name": "stdout",
     "output_type": "stream",
     "text": [
      "678\n"
     ]
    }
   ],
   "source": [
    "badRest = [602569768815,602818432787,603317055381,603403163265,605515760919,607218468837]\n",
    "badEmoid = [601983541597]\n",
    "\n",
    "# Make rest-only split\n",
    "\n",
    "candRest = []\n",
    "\n",
    "for subid in meta:\n",
    "    if subid not in badEmoid and 'emoid' in meta[subid]:\n",
    "        candRest.append(subid)\n",
    "        \n",
    "print(len(candRest))"
   ]
  },
  {
   "cell_type": "code",
   "execution_count": 20,
   "id": "9698e56a",
   "metadata": {},
   "outputs": [
    {
     "name": "stdout",
     "output_type": "stream",
     "text": [
      "10\n",
      "2\n",
      "558\n",
      "[ 13  14  37  40  45  79  80  81  83  96 112 125 133 139 176 181 197 214\n",
      " 223 229 241 245 254 267 268 279 284 298 301 303 304 317 330 342 364 367\n",
      " 369 381 387 395 396 412 425 431 432 437 481 485 510 514 530 539 553 558\n",
      " 565 573 574 577 579 584 593 610]\n",
      "[ 11  15  22  30  33  59  62  68  71  75  88  95 104 116 128 136 143 153\n",
      " 158 167 173 222 234 264 277 296 315 324 337 344 347 352 355 360 366 370\n",
      " 375 376 378 385 408 411 428 435 440 447 449 460 476 482 511 521 525 529\n",
      " 542 547 560 571 576 595 599 613]\n"
     ]
    }
   ],
   "source": [
    "from sklearn.model_selection import KFold\n",
    "\n",
    "kf = KFold(n_splits=10, shuffle=True)\n",
    "groups = []\n",
    "for split in kf.split(candRestYesWrat):\n",
    "    groups.append(split)\n",
    "    \n",
    "print(len(groups))\n",
    "print(len(groups[0]))\n",
    "print(len(groups[0][0]))\n",
    "\n",
    "print(groups[0][1])\n",
    "print(groups[1][1])"
   ]
  },
  {
   "cell_type": "code",
   "execution_count": 95,
   "id": "dca5ea2e",
   "metadata": {},
   "outputs": [
    {
     "data": {
      "text/plain": [
       "array([600061763148, 600085654611, 600185621034, 600377610905,\n",
       "       600405811873, 600444687107, 600557347302, 600561317124,\n",
       "       600682103788, 600821900299, 600891097451, 600896033967,\n",
       "       601018466813, 601064014005, 601102119981, 601121451354,\n",
       "       601894993907, 601901789163, 602177587881, 602228305159,\n",
       "       602291341460, 602302884302, 602461667893, 602641819780,\n",
       "       602832611777, 603056110671, 603164179264, 603350320565,\n",
       "       603519353680, 603634500565, 603747659459, 603922696979,\n",
       "       604184193596, 604270707793, 604296547639, 604390537221,\n",
       "       604399157561, 604592029504, 604911918083, 605031304347,\n",
       "       605192310177, 605383768750, 605496623903, 605757617619,\n",
       "       605973978786, 606066555475, 606092387172, 606105208069,\n",
       "       606118165171, 606184625556, 606213296175, 606437751483,\n",
       "       606549819332, 606728935791, 606837776232, 606997359725,\n",
       "       607080829282, 607172722787, 607245656080, 607267835785,\n",
       "       607267889921, 607279636292, 607456079260, 607480169355,\n",
       "       607644695352, 607782063366, 607797973921, 607939373984,\n",
       "       608010068615, 608078910354, 608094542842, 608120673723,\n",
       "       608230893508, 608330741897, 608344021973, 608539736327,\n",
       "       608819251392, 609072841451, 609133792725, 609193612518,\n",
       "       609246874737, 609252512334, 609289117165, 609361965061,\n",
       "       609419245006, 609652761759, 609825254934, 609903870257],\n",
       "      dtype=int64)"
      ]
     },
     "execution_count": 95,
     "metadata": {},
     "output_type": "execute_result"
    }
   ],
   "source": [
    "candRestNp = np.array(candRest)\n",
    "candRestNp[groups[0][1]]"
   ]
  },
  {
   "cell_type": "code",
   "execution_count": 18,
   "id": "e61d26ab",
   "metadata": {},
   "outputs": [
    {
     "name": "stdout",
     "output_type": "stream",
     "text": [
      "603056110671\n",
      "invalid literal for int() with base 10: 'NaN\\n'\n",
      "603317055381\n",
      "invalid literal for int() with base 10: 'NaN\\n'\n",
      "604847970437\n",
      "invalid literal for int() with base 10: 'NaN\\n'\n"
     ]
    }
   ],
   "source": [
    "# Check that we have WRAT for all rest-only subjects\n",
    "\n",
    "# Load wrat\n",
    "\n",
    "idWratDict = {}\n",
    "\n",
    "with open('../../wrat.csv') as f:\n",
    "    for line in f.readlines()[1:]:\n",
    "        parts = line.split(',')\n",
    "        try:\n",
    "            idWratDict[int(parts[0])] = int(parts[3])\n",
    "        except Exception as e:\n",
    "            print(parts[0])\n",
    "            print(e)"
   ]
  },
  {
   "cell_type": "code",
   "execution_count": 19,
   "id": "0bc35962",
   "metadata": {},
   "outputs": [
    {
     "name": "stdout",
     "output_type": "stream",
     "text": [
      "620\n"
     ]
    }
   ],
   "source": [
    "candRestNoWrat = []\n",
    "candRestYesWrat = []\n",
    "\n",
    "for subid in candRest:\n",
    "    if subid not in idWratDict:\n",
    "        candRestNoWrat.append(subid)\n",
    "    else:\n",
    "        candRestYesWrat.append(subid)\n",
    "        \n",
    "print(len(candRestYesWrat))"
   ]
  },
  {
   "cell_type": "code",
   "execution_count": 7,
   "id": "07c97e6b",
   "metadata": {},
   "outputs": [
    {
     "name": "stdout",
     "output_type": "stream",
     "text": [
      "846\n"
     ]
    }
   ],
   "source": [
    "print(len(groups[0][0]) + len(groups[0][1]))"
   ]
  },
  {
   "cell_type": "code",
   "execution_count": 21,
   "id": "e4cffb9e",
   "metadata": {},
   "outputs": [
    {
     "name": "stdout",
     "output_type": "stream",
     "text": [
      "Complete\n"
     ]
    }
   ],
   "source": [
    "# Save our rest split\n",
    "# What we need to save:\n",
    "# - candRestYesWrat list of subids\n",
    "# - groups 10-fold split structure that has indices into candRestYesWrat\n",
    "\n",
    "split = {\n",
    "    'candEmoidYesWrat': candRestYesWrat,\n",
    "    'groups': groups\n",
    "}\n",
    "\n",
    "with open('../../../BrainAgePredictWrat/EmoidOnly10FoldSplit.bin', 'wb') as f:\n",
    "    pickle.dump(split, f)\n",
    "    \n",
    "print('Complete')"
   ]
  },
  {
   "cell_type": "code",
   "execution_count": 23,
   "id": "77422956",
   "metadata": {},
   "outputs": [
    {
     "name": "stdout",
     "output_type": "stream",
     "text": [
      "[1. 1. 1. 1. 1. 1. 1. 1. 1. 1. 1. 1. 1. 1. 1. 1. 1. 1. 1. 1. 1. 1. 1. 1.\n",
      " 1. 1. 1. 1. 1. 1. 1. 1. 1. 1. 1. 1. 1. 1. 1. 1. 1. 1. 1. 1. 1. 1. 1. 1.\n",
      " 1. 1. 1. 1. 1. 1. 1. 1. 1. 1. 1. 1. 1. 1. 1. 1. 1. 1. 1. 1. 1. 1. 1. 1.\n",
      " 1. 1. 1. 1. 1. 1. 1. 1. 1. 1. 1. 1. 1. 1. 1. 1. 1. 1. 1. 1. 1. 1. 1. 1.\n",
      " 1. 1. 1. 1. 1. 1. 1. 1. 1. 1. 1. 1. 1. 1. 1. 1. 1. 1. 1. 1. 1. 1. 1. 1.\n",
      " 1. 1. 1. 1. 1. 1. 1. 1. 1. 1. 1. 1. 1. 1. 1. 1. 1. 1. 1. 1. 1. 1. 1. 1.\n",
      " 1. 1. 1. 1. 1. 1. 1. 1. 1. 1. 1. 1. 1. 1. 1. 1. 1. 1. 1. 1. 1. 1. 1. 1.\n",
      " 1. 1. 1. 1. 1. 1. 1. 1. 1. 1. 1. 1. 1. 1. 1. 1. 1. 1. 1. 1. 1. 1. 1. 1.\n",
      " 1. 1. 1. 1. 1. 1. 1. 1. 1. 1. 1. 1. 1. 1. 1. 1. 1. 1. 1. 1. 1. 1. 1. 1.\n",
      " 1. 1. 1. 1. 1. 1. 1. 1. 1. 1. 1. 1. 1. 1. 1. 1. 1. 1. 1. 1. 1. 1. 1. 1.\n",
      " 1. 1. 1. 1. 1. 1. 1. 1. 1. 1. 1. 1. 1. 1. 1. 1. 1. 1. 1. 1. 1. 1. 1. 1.\n",
      " 1. 1. 1. 1. 1. 1. 1. 1. 1. 1. 1. 1. 1. 1. 1. 1. 1. 1. 1. 1. 1. 1. 1. 1.\n",
      " 1. 1. 1. 1. 1. 1. 1. 1. 1. 1. 1. 1. 1. 1. 1. 1. 1. 1. 1. 1. 1. 1. 1. 1.\n",
      " 1. 1. 1. 1. 1. 1. 1. 1. 1. 1. 1. 1. 1. 1. 1. 1. 1. 1. 1. 1. 1. 1. 1. 1.\n",
      " 1. 1. 1. 1. 1. 1. 1. 1. 1. 1. 1. 1. 1. 1. 1. 1. 1. 1. 1. 1. 1. 1. 1. 1.\n",
      " 1. 1. 1. 1. 1. 1. 1. 1. 1. 1. 1. 1. 1. 1. 1. 1. 1. 1. 1. 1. 1. 1. 1. 1.\n",
      " 1. 1. 1. 1. 1. 1. 1. 1. 1. 1. 1. 1. 1. 1. 1. 1. 1. 1. 1. 1. 1. 1. 1. 1.\n",
      " 1. 1. 1. 1. 1. 1. 1. 1. 1. 1. 1. 1. 1. 1. 1. 1. 1. 1. 1. 1. 1. 1. 1. 1.\n",
      " 1. 1. 1. 1. 1. 1. 1. 1. 1. 1. 1. 1. 1. 1. 1. 1. 1. 1. 1. 1. 1. 1. 1. 1.\n",
      " 1. 1. 1. 1. 1. 1. 1. 1. 1. 1. 1. 1. 1. 1. 1. 1. 1. 1. 1. 1. 1. 1. 1. 1.\n",
      " 1. 1. 1. 1. 1. 1. 1. 1. 1. 1. 1. 1. 1. 1. 1. 1. 1. 1. 1. 1. 1. 1. 1. 1.\n",
      " 1. 1. 1. 1. 1. 1. 1. 1. 1. 1. 1. 1. 1. 1. 1. 1. 1. 1. 1. 1. 1. 1. 1. 1.\n",
      " 1. 1. 1. 1. 1. 1. 1. 1. 1. 1. 1. 1. 1. 1. 1. 1. 1. 1. 1. 1. 1. 1. 1. 1.\n",
      " 1. 1. 1. 1. 1. 1. 1. 1. 1. 1. 1. 1. 1. 1. 1. 1. 1. 1. 1. 1. 1. 1. 1. 1.\n",
      " 1. 1. 1. 1. 1. 1. 1. 1. 1. 1. 1. 1. 1. 1. 1. 1. 1. 1. 1. 1. 1. 1. 1. 1.\n",
      " 1. 1. 1. 1. 1. 1. 1. 1. 1. 1. 1. 1. 1. 1. 1. 1. 1. 1. 1. 1.]\n"
     ]
    }
   ],
   "source": [
    "# Check how many times each subject is in the test group\n",
    "\n",
    "import numpy as np\n",
    "\n",
    "count = np.zeros([620])\n",
    "\n",
    "for g in groups:\n",
    "    for s in g[1]:\n",
    "        count[s] += 1\n",
    "        \n",
    "print(count)"
   ]
  },
  {
   "cell_type": "code",
   "execution_count": null,
   "id": "a14023d4",
   "metadata": {},
   "outputs": [],
   "source": []
  }
 ],
 "metadata": {
  "kernelspec": {
   "display_name": "Python 3",
   "language": "python",
   "name": "python3"
  },
  "language_info": {
   "codemirror_mode": {
    "name": "ipython",
    "version": 3
   },
   "file_extension": ".py",
   "mimetype": "text/x-python",
   "name": "python",
   "nbconvert_exporter": "python",
   "pygments_lexer": "ipython3",
   "version": "3.9.5"
  }
 },
 "nbformat": 4,
 "nbformat_minor": 5
}
