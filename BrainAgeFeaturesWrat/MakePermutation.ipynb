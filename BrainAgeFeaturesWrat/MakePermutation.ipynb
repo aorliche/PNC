{
 "cells": [
  {
   "cell_type": "code",
   "execution_count": 7,
   "id": "3e6c8cfb",
   "metadata": {},
   "outputs": [
    {
     "name": "stdout",
     "output_type": "stream",
     "text": [
      "[  9  98   5  73  22  52 114  61  53 108  42  27 112 100  21  77   4  31\n",
      "  59  45  56 122  70  84 121 107  82  54  40  41  79  29  14  60  86  67\n",
      "  35   1  90  10   2  71  80  88  13  36  11  50  30  64  47  19  72  34\n",
      "  16  51 104  18 119  62  66 115  89 113   0  49   8 102  96  55  57  12\n",
      "  65  85  75  48   7  39  76 118  99  74  46  26 111  97 106  91  92 116\n",
      "  93  38  68 105  44  28  15 109  25  78  32  81 117  33 123  69   6 110\n",
      "  37  58  87  23  95  83  17  94 120   3 103 101  24  20  43  63]\n",
      "[ 38 107  48 161 223 173  61 136 147 221  83  50 119  58 132  94 227 178\n",
      " 126   1 116 180  33 117  80   7 112  97   0 167  64  59 162  75 177 124\n",
      "  13  36  46  49  35 199 176 211 130 229 140 106 152  43 168  53 123 155\n",
      " 145  37 200 179  20 194 184 183 101  86 222  14 170 185  42  25  40 201\n",
      " 174   5 189 156 111  26 215 169  41  76 209  69   6 137 198 159  60  68\n",
      " 122  67  12 139 228 115 190  84  70 226   8 138  28  34  85 210 142  63\n",
      "  56 129 104 197  91  66  23 225  87 171 203  32 166  81  71  29   4 165\n",
      " 114  65  44  72 125   2  82  55  73  77 108  79 217  98 206 143 113 186\n",
      "  19  99  39  21 163  17  62  57 144  88 195 160  78  74 134  31 149 120\n",
      "  90 158 212 146 188 230   3 121  51 191  30  92 154 207 202  47 131 205\n",
      " 150 105 172 192  10  54 148 127  22 213  45 151 141 118  11 109 219 196\n",
      " 110  16 193  18 218 157 133 128 153  27 224 182   9  52 102  89  15 100\n",
      " 214 135 164  24 216  96 103 175  93 181 208 187 220  95 204]\n",
      "[156 132  25 121 147 159 205 194  99  70 142 115 103 100 177 166  37  64\n",
      " 126 101  78  54 119 199 201 171 123 150  13 187 131 200  16 203 145  69\n",
      "  86 124  36  28   6  32  43  71  72  98  83  89 116 146  67 112 134 186\n",
      "  82  47  63  84 189  29 130 157 196 174 173  50  60  66 176  73  55 172\n",
      " 137  10  65 163 105  31  21  74 140 202 149  44 192 191  59   9  62  24\n",
      " 108  79  88 104 120 169 180   7  38  14 204 161 195 152  49 160 178 182\n",
      " 117 190  48 184 122 181   1  33 143 158  93 155  26 165 135   4 164 127\n",
      "  75  80 168   3 175  42  46 197 141  20 193 183  56 125  40  58 113 153\n",
      " 109 118  39 148 144  81  91 129 107  27  18  87  68 128  61  17  95  23\n",
      "  96 209 110   0 185   8 208 206 167 114 154  45 170  41  53  35  57  19\n",
      "  22  92  51 188  30  77 198  90  15 207  12 151  85 102   5  94  52 136\n",
      " 138   2 111 106 139 162  34  97  11  76 133 179]\n",
      "Complete\n"
     ]
    }
   ],
   "source": [
    "# Rest\n",
    "\n",
    "import numpy as np\n",
    "import pickle\n",
    "\n",
    "restShuffled = np.arange(0,124)\n",
    "np.random.shuffle(restShuffled)\n",
    "\n",
    "with open('../../../BrainAgePredictWrat/PermutationRest.bin', 'wb') as f:\n",
    "    pickle.dump(restShuffled, f)\n",
    "    \n",
    "nbackShuffled = np.arange(0,231)\n",
    "np.random.shuffle(nbackShuffled)\n",
    "\n",
    "with open('../../../BrainAgePredictWrat/PermutationNback.bin', 'wb') as f:\n",
    "    pickle.dump(nbackShuffled, f)\n",
    "    \n",
    "emoidShuffled = np.arange(0,210)\n",
    "np.random.shuffle(emoidShuffled)\n",
    "\n",
    "with open('../../../BrainAgePredictWrat/PermutationEmoid.bin', 'wb') as f:\n",
    "    pickle.dump(emoidShuffled, f)\n",
    "    \n",
    "print(restShuffled)\n",
    "print(nbackShuffled)\n",
    "print(emoidShuffled)\n",
    "\n",
    "print('Complete')"
   ]
  },
  {
   "cell_type": "code",
   "execution_count": null,
   "id": "a45e2601",
   "metadata": {},
   "outputs": [],
   "source": []
  }
 ],
 "metadata": {
  "kernelspec": {
   "display_name": "Python 3",
   "language": "python",
   "name": "python3"
  },
  "language_info": {
   "codemirror_mode": {
    "name": "ipython",
    "version": 3
   },
   "file_extension": ".py",
   "mimetype": "text/x-python",
   "name": "python",
   "nbconvert_exporter": "python",
   "pygments_lexer": "ipython3",
   "version": "3.9.5"
  }
 },
 "nbformat": 4,
 "nbformat_minor": 5
}
