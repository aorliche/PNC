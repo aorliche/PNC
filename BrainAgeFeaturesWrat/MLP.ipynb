{
 "cells": [
  {
   "cell_type": "code",
   "execution_count": 10,
   "id": "05f80e16",
   "metadata": {},
   "outputs": [
    {
     "name": "stdout",
     "output_type": "stream",
     "text": [
      "total: 4.294967296\n",
      "reserved: 0.591396864\n",
      "allocated: 0.320082944\n",
      "free: 0.27131392\n"
     ]
    }
   ],
   "source": [
    "import torch\n",
    "\n",
    "t = torch.cuda.get_device_properties(0).total_memory\n",
    "r = torch.cuda.memory_reserved(0)\n",
    "a = torch.cuda.memory_allocated(0)\n",
    "f = r-a  # free inside reserved\n",
    "\n",
    "print('total: {:}\\nreserved: {:}\\nallocated: {:}\\nfree: {:}'.format(t/1e9,r/1e9,a/1e9,f/1e9))"
   ]
  },
  {
   "cell_type": "code",
   "execution_count": 20,
   "id": "5b89d5bd",
   "metadata": {},
   "outputs": [
    {
     "name": "stdout",
     "output_type": "stream",
     "text": [
      "620\n"
     ]
    }
   ],
   "source": [
    "import pickle\n",
    "\n",
    "para = 'Emoid'\n",
    "\n",
    "# Load meta dict\n",
    "\n",
    "with open('../../AllSubjectsMeta.bin', 'rb') as f:\n",
    "    meta = pickle.load(f)\n",
    "    \n",
    "# Load rest subject ids and splits\n",
    "\n",
    "with open('../../../BrainAgePredictWrat/' + para + 'Only10FoldSplit.bin', 'rb') as f:\n",
    "    splits = pickle.load(f)\n",
    "    subids = splits['cand' + para + 'YesWrat']\n",
    "    groups = splits['groups']\n",
    "    \n",
    "print(len(subids))"
   ]
  },
  {
   "cell_type": "code",
   "execution_count": 21,
   "id": "7e18e75b",
   "metadata": {},
   "outputs": [
    {
     "name": "stdout",
     "output_type": "stream",
     "text": [
      "Loading complete\n"
     ]
    }
   ],
   "source": [
    "import numpy as np\n",
    "\n",
    "paradigm = 'emoid'\n",
    "subidsNp = np.array(subids)\n",
    "\n",
    "# Load timeseries\n",
    "\n",
    "def loadSeries(prefix, para, idx):\n",
    "    with open('{:}/{:}_fmri_power264/timeseries/{:}.bin'.format(prefix, para, idx), 'rb') as f:\n",
    "        return pickle.load(f)\n",
    "\n",
    "all_ts = [loadSeries('../..', paradigm, meta[subid][paradigm]) for subid in subidsNp]\n",
    "\n",
    "print('Loading complete')"
   ]
  },
  {
   "cell_type": "code",
   "execution_count": 22,
   "id": "414c3ba0",
   "metadata": {},
   "outputs": [
    {
     "name": "stdout",
     "output_type": "stream",
     "text": [
      "Complete\n"
     ]
    }
   ],
   "source": [
    "# Normalize timeseries\n",
    "\n",
    "def normalizeSubjects(subjects):\n",
    "    for i in range(len(subjects)):\n",
    "        subj = subjects[i]\n",
    "        subj -= np.mean(subj, axis=1, keepdims=True)@np.ones([1,subj.shape[1]])\n",
    "        subj /= np.std(subj, axis=1, keepdims=True)@np.ones([1,subj.shape[1]])\n",
    "        if np.sum(np.isnan(subj)) > 0:\n",
    "            print('nan {:}'.format(i))\n",
    "        if np.sum(np.isinf(subj)) > 0:\n",
    "            print('inf {:}'.format(i))\n",
    "            \n",
    "normalizeSubjects(all_ts)\n",
    "\n",
    "print('Complete')"
   ]
  },
  {
   "cell_type": "code",
   "execution_count": 26,
   "id": "c789595c",
   "metadata": {
    "scrolled": false
   },
   "outputs": [
    {
     "name": "stdout",
     "output_type": "stream",
     "text": [
      "[[223   1   0]\n",
      " [190   0   1]\n",
      " [197   0   1]\n",
      " [145   1   0]\n",
      " [148   0   1]\n",
      " [142   0   1]\n",
      " [123   1   0]\n",
      " [176   1   0]\n",
      " [129   0   1]\n",
      " [173   1   0]]\n",
      "Complete\n"
     ]
    }
   ],
   "source": [
    "# Create feature vectors (right now just ages, maleness, and femaless)\n",
    "\n",
    "X_all = []\n",
    "for subid in subidsNp:\n",
    "    subj = meta[subid]\n",
    "    maleness = 1 if subj['meta']['Gender'] == 'M' else 0\n",
    "    femaleness = 1 if maleness == 0 else 0\n",
    "    feat = np.array([subj['meta']['AgeInMonths'], maleness, femaleness])\n",
    "    X_all.append(feat)\n",
    "X_all = np.vstack(X_all)\n",
    "\n",
    "print(X_all[10:20])\n",
    "print('Complete')"
   ]
  },
  {
   "cell_type": "code",
   "execution_count": 23,
   "id": "0c96bfcf",
   "metadata": {},
   "outputs": [
    {
     "name": "stdout",
     "output_type": "stream",
     "text": [
      "603056110671\n",
      "invalid literal for int() with base 10: 'NaN\\n'\n",
      "603317055381\n",
      "invalid literal for int() with base 10: 'NaN\\n'\n",
      "604847970437\n",
      "invalid literal for int() with base 10: 'NaN\\n'\n",
      "(620,)\n",
      "Complete\n"
     ]
    }
   ],
   "source": [
    "# Load WRAT for subjects\n",
    "\n",
    "import numpy as np\n",
    "\n",
    "idWratDict = {}\n",
    "\n",
    "with open('../../wrat.csv') as f:\n",
    "    for line in f.readlines()[1:]:\n",
    "        parts = line.split(',')\n",
    "        try:\n",
    "            idWratDict[int(parts[0])] = int(parts[3])\n",
    "        except Exception as e:\n",
    "            print(parts[0])\n",
    "            print(e)\n",
    "            \n",
    "wrat = np.array([idWratDict[subid] for subid in subids])\n",
    "\n",
    "print(wrat.shape)\n",
    "print('Complete')"
   ]
  },
  {
   "cell_type": "code",
   "execution_count": 24,
   "id": "9bbbc205",
   "metadata": {},
   "outputs": [
    {
     "name": "stdout",
     "output_type": "stream",
     "text": [
      "(620, 264, 264)\n"
     ]
    }
   ],
   "source": [
    "# Calculate pearson matrices\n",
    "\n",
    "all_p = np.stack([np.corrcoef(ts) for ts in all_ts])\n",
    "\n",
    "print(all_p.shape)"
   ]
  },
  {
   "cell_type": "code",
   "execution_count": 25,
   "id": "32507909",
   "metadata": {},
   "outputs": [
    {
     "name": "stdout",
     "output_type": "stream",
     "text": [
      "epoch 0 loss=8.359637\n",
      "epoch 200 loss=2.185267\n",
      "epoch 400 loss=1.159946\n",
      "epoch 600 loss=0.952852\n",
      "epoch 800 loss=0.784187\n",
      "epoch 1000 loss=0.551706\n",
      "epoch 1200 loss=0.486050\n",
      "epoch 1400 loss=0.417814\n",
      "epoch 1600 loss=0.328302\n",
      "epoch 1800 loss=0.283866\n",
      "epoch 2000 loss=0.249520\n",
      "epoch 2200 loss=0.228002\n",
      "epoch 2400 loss=0.231709\n",
      "epoch 2600 loss=0.243741\n",
      "epoch 2800 loss=0.309510\n",
      "epoch 2999 loss=0.194595\n",
      "Finished training\n",
      "Completed split 0\n",
      "epoch 0 loss=8.161456\n",
      "epoch 200 loss=2.179763\n",
      "epoch 400 loss=1.136768\n",
      "epoch 600 loss=0.969701\n",
      "epoch 800 loss=0.761618\n",
      "epoch 1000 loss=0.601706\n",
      "epoch 1200 loss=0.449845\n",
      "epoch 1400 loss=0.490887\n",
      "epoch 1600 loss=0.301811\n",
      "epoch 1800 loss=0.228364\n",
      "epoch 2000 loss=0.224052\n",
      "epoch 2200 loss=0.305220\n",
      "epoch 2400 loss=0.281881\n",
      "epoch 2600 loss=0.184123\n",
      "epoch 2800 loss=0.202061\n",
      "epoch 2999 loss=0.172663\n",
      "Finished training\n",
      "Completed split 1\n",
      "epoch 0 loss=9.310350\n",
      "epoch 200 loss=1.992476\n",
      "epoch 400 loss=1.150106\n",
      "epoch 600 loss=0.921305\n",
      "epoch 800 loss=0.754896\n",
      "epoch 1000 loss=0.572387\n",
      "epoch 1200 loss=0.492156\n",
      "epoch 1400 loss=0.436408\n",
      "epoch 1600 loss=0.314040\n",
      "epoch 1800 loss=0.320788\n",
      "epoch 2000 loss=0.209100\n",
      "epoch 2200 loss=0.224418\n",
      "epoch 2400 loss=0.266798\n",
      "epoch 2600 loss=0.160767\n",
      "epoch 2800 loss=0.209287\n",
      "epoch 2999 loss=0.315471\n",
      "Finished training\n",
      "Completed split 2\n",
      "epoch 0 loss=8.065597\n",
      "epoch 200 loss=2.026178\n",
      "epoch 400 loss=1.071029\n",
      "epoch 600 loss=0.892627\n",
      "epoch 800 loss=0.653317\n",
      "epoch 1000 loss=0.432888\n",
      "epoch 1200 loss=0.470445\n",
      "epoch 1400 loss=0.310580\n",
      "epoch 1600 loss=0.373747\n",
      "epoch 1800 loss=0.232816\n",
      "epoch 2000 loss=0.230259\n",
      "epoch 2200 loss=0.312255\n",
      "epoch 2400 loss=0.430852\n",
      "epoch 2600 loss=0.226509\n",
      "epoch 2800 loss=0.202207\n",
      "epoch 2999 loss=0.291807\n",
      "Finished training\n",
      "Completed split 3\n",
      "epoch 0 loss=8.225524\n",
      "epoch 200 loss=2.055627\n",
      "epoch 400 loss=1.121270\n",
      "epoch 600 loss=0.914499\n",
      "epoch 800 loss=0.745582\n",
      "epoch 1000 loss=0.516882\n",
      "epoch 1200 loss=0.433211\n",
      "epoch 1400 loss=0.325807\n",
      "epoch 1600 loss=0.270891\n",
      "epoch 1800 loss=0.324923\n",
      "epoch 2000 loss=0.210387\n",
      "epoch 2200 loss=0.223000\n",
      "epoch 2400 loss=0.220580\n",
      "epoch 2600 loss=0.296499\n",
      "epoch 2800 loss=0.207614\n",
      "epoch 2999 loss=0.189566\n",
      "Finished training\n",
      "Completed split 4\n",
      "epoch 0 loss=8.376198\n",
      "epoch 200 loss=2.305589\n",
      "epoch 400 loss=1.197977\n",
      "epoch 600 loss=1.030671\n",
      "epoch 800 loss=0.863973\n",
      "epoch 1000 loss=0.699187\n",
      "epoch 1200 loss=0.504461\n",
      "epoch 1400 loss=0.380423\n",
      "epoch 1600 loss=0.318717\n",
      "epoch 1800 loss=0.300944\n",
      "epoch 2000 loss=0.306514\n",
      "epoch 2200 loss=0.252133\n",
      "epoch 2400 loss=0.180588\n",
      "epoch 2600 loss=0.212229\n",
      "epoch 2800 loss=0.340140\n",
      "epoch 2999 loss=0.266673\n",
      "Finished training\n",
      "Completed split 5\n",
      "epoch 0 loss=8.847908\n",
      "epoch 200 loss=1.980237\n",
      "epoch 400 loss=1.107168\n",
      "epoch 600 loss=0.833412\n",
      "epoch 800 loss=0.708868\n",
      "epoch 1000 loss=0.650917\n",
      "epoch 1200 loss=0.588001\n",
      "epoch 1400 loss=0.393339\n",
      "epoch 1600 loss=0.322878\n",
      "epoch 1800 loss=0.248184\n",
      "epoch 2000 loss=0.242770\n",
      "epoch 2200 loss=0.212303\n",
      "epoch 2400 loss=0.220590\n",
      "epoch 2600 loss=0.232912\n",
      "epoch 2800 loss=0.182333\n",
      "epoch 2999 loss=0.465470\n",
      "Finished training\n",
      "Completed split 6\n",
      "epoch 0 loss=9.392912\n",
      "epoch 200 loss=2.029352\n",
      "epoch 400 loss=1.180812\n",
      "epoch 600 loss=0.946575\n",
      "epoch 800 loss=0.711780\n",
      "epoch 1000 loss=0.600235\n",
      "epoch 1200 loss=0.590586\n",
      "epoch 1400 loss=0.323370\n",
      "epoch 1600 loss=0.341581\n",
      "epoch 1800 loss=0.284306\n",
      "epoch 2000 loss=0.245239\n",
      "epoch 2200 loss=0.186742\n",
      "epoch 2400 loss=0.233237\n",
      "epoch 2600 loss=0.370401\n",
      "epoch 2800 loss=0.219501\n",
      "epoch 2999 loss=0.300503\n",
      "Finished training\n",
      "Completed split 7\n",
      "epoch 0 loss=8.566495\n",
      "epoch 200 loss=2.099814\n",
      "epoch 400 loss=1.152067\n",
      "epoch 600 loss=0.948529\n",
      "epoch 800 loss=0.884031\n",
      "epoch 1000 loss=0.616234\n",
      "epoch 1200 loss=0.456360\n",
      "epoch 1400 loss=0.329049\n",
      "epoch 1600 loss=0.324204\n",
      "epoch 1800 loss=0.273409\n",
      "epoch 2000 loss=0.297460\n",
      "epoch 2200 loss=0.213118\n",
      "epoch 2400 loss=0.277857\n",
      "epoch 2600 loss=0.263566\n",
      "epoch 2800 loss=0.208831\n",
      "epoch 2999 loss=0.242743\n",
      "Finished training\n",
      "Completed split 8\n",
      "epoch 0 loss=9.108199\n",
      "epoch 200 loss=2.282801\n",
      "epoch 400 loss=1.221395\n",
      "epoch 600 loss=1.061142\n",
      "epoch 800 loss=0.823385\n",
      "epoch 1000 loss=0.618689\n",
      "epoch 1200 loss=0.467588\n",
      "epoch 1400 loss=0.331077\n",
      "epoch 1600 loss=0.351849\n",
      "epoch 1800 loss=0.277416\n",
      "epoch 2000 loss=0.234698\n",
      "epoch 2200 loss=0.317929\n",
      "epoch 2400 loss=0.232597\n",
      "epoch 2600 loss=0.308944\n",
      "epoch 2800 loss=0.187477\n",
      "epoch 2999 loss=0.183474\n",
      "Finished training\n",
      "Completed split 9\n",
      "All complete\n"
     ]
    }
   ],
   "source": [
    "# MLP\n",
    "\n",
    "import torch\n",
    "import torch.nn as nn\n",
    "\n",
    "nHid = 80\n",
    "nFC = 264*264\n",
    "dp = nn.Dropout(p=0.05)\n",
    "lu = nn.ReLU()\n",
    "\n",
    "class MLP(nn.Module):\n",
    "    def __init__(self):\n",
    "        super(MLP, self).__init__()\n",
    "        self.fc1 = nn.Linear(nFC, nHid).cuda()\n",
    "        self.fc2 = nn.Linear(nHid, nHid).cuda()\n",
    "        self.fc3 = nn.Linear(nHid, 1).cuda()\n",
    "        \n",
    "    def forward(self, x):\n",
    "        x = lu(self.fc1(dp(x)))\n",
    "        x = lu(self.fc2(x))\n",
    "        return self.fc3(x)\n",
    "    \n",
    "# Pearson matrices\n",
    "all_p_t = torch.from_numpy(all_p).reshape(-1,nFC).float()\n",
    "agesPredMLP = torch.zeros(all_p_t.shape[0])\n",
    "\n",
    "import random\n",
    "    \n",
    "# Loop over splits \n",
    "splitIdx = 0\n",
    "for trainIdcs, testIdcs in groups:\n",
    "    mlp = MLP()\n",
    "    optim = torch.optim.Adam(mlp.parameters(), lr=1e-3)\n",
    "    \n",
    "    train_p = all_p_t[trainIdcs].cuda()\n",
    "    test_p = all_p_t[testIdcs].cuda()\n",
    "    \n",
    "#     X_train = X_all[trainIdcs,0]\n",
    "    X_train = wrat[trainIdcs]\n",
    "    \n",
    "    running = 0\n",
    "    nEpoch = 3000\n",
    "    pPeriod = 200\n",
    "    nB = 10\n",
    "    N = train_p.shape[0]\n",
    "\n",
    "    for epoch in range(nEpoch):\n",
    "        batch = []\n",
    "        truth = torch.zeros(nB).float().cuda()\n",
    "        for i in range(nB):\n",
    "            idx = random.randint(0,N-1)\n",
    "            batch.append(train_p[idx])\n",
    "            truth[i] = X_train[idx]\n",
    "        batch = torch.stack(batch)\n",
    "        optim.zero_grad()\n",
    "        pred = mlp(batch).flatten()\n",
    "        loss = torch.sum((pred-truth)**2)\n",
    "        loss.backward()\n",
    "        running += loss.detach().cpu()\n",
    "        optim.step()\n",
    "        if epoch % pPeriod == 0 or epoch == nEpoch-1:\n",
    "            if epoch != 0:\n",
    "                if epoch % pPeriod != 0:\n",
    "                    running /= epoch % pPeriod\n",
    "                else:\n",
    "                    running /= pPeriod\n",
    "            print('epoch {:d} loss={:f}'.format(epoch, ((running/nB)**0.5)/12))\n",
    "            running = 0\n",
    "\n",
    "    print('Finished training')\n",
    "    \n",
    "    agesPredMLP[testIdcs] = mlp(test_p).flatten().detach().cpu()\n",
    "    \n",
    "    print('Completed split {:}'.format(splitIdx))\n",
    "    splitIdx += 1\n",
    "\n",
    "print('All complete')"
   ]
  },
  {
   "cell_type": "code",
   "execution_count": 26,
   "id": "d853a66f",
   "metadata": {},
   "outputs": [
    {
     "name": "stdout",
     "output_type": "stream",
     "text": [
      "[[1.         0.33549605]\n",
      " [0.33549605 1.        ]]\n",
      "16.143642560301693\n",
      "12.33444071123677\n"
     ]
    },
    {
     "data": {
      "image/png": "[encoded data removed]",
      "text/plain": [
       "<Figure size 432x288 with 1 Axes>"
      ]
     },
     "metadata": {
      "needs_background": "light"
     },
     "output_type": "display_data"
    },
    {
     "data": {
      "image/png": "[encoded data removed]",
      "text/plain": [
       "<Figure size 432x288 with 1 Axes>"
      ]
     },
     "metadata": {
      "needs_background": "light"
     },
     "output_type": "display_data"
    }
   ],
   "source": [
    "import matplotlib.pyplot as plt\n",
    "\n",
    "# test_labels = X_all[:,0]\n",
    "test_labels = wrat\n",
    "predY = agesPredMLP.detach().cpu().numpy()\n",
    "\n",
    "idcs = np.argsort(test_labels[:])\n",
    "yPred = predY[idcs]\n",
    "y = test_labels[idcs]\n",
    "\n",
    "corr = np.corrcoef(y, yPred)\n",
    "rmse = (np.sum((y-yPred)**2)/len(y))**0.5\n",
    "mae = np.sum(np.abs(y-yPred))/len(y)\n",
    "# rmse = (np.sum((y-yPred)**2)/len(y))**0.5/12\n",
    "# mae = np.sum(np.abs(y-yPred))/12/len(y)\n",
    "\n",
    "print(corr)\n",
    "print(rmse)\n",
    "print(mae)\n",
    "\n",
    "plt.plot(y, label='Truth')\n",
    "plt.plot(yPred, label='Prediction')\n",
    "plt.show()\n",
    "\n",
    "plt.scatter(y, yPred)\n",
    "plt.show()"
   ]
  },
  {
   "cell_type": "code",
   "execution_count": 27,
   "id": "789eb9a7",
   "metadata": {},
   "outputs": [
    {
     "name": "stdout",
     "output_type": "stream",
     "text": [
      "Complete\n"
     ]
    }
   ],
   "source": [
    "# Save predictions\n",
    "\n",
    "with open('../../../BrainAgePredictWrat/Wrat/MLPWratEmoidPredictions.bin', 'wb') as f:\n",
    "    pickle.dump(agesPredMLP.detach().cpu().numpy(), f)\n",
    "    \n",
    "print('Complete')"
   ]
  },
  {
   "cell_type": "code",
   "execution_count": 28,
   "id": "0eebfad6",
   "metadata": {},
   "outputs": [
    {
     "name": "stdout",
     "output_type": "stream",
     "text": [
      "[ 98.94485  102.355     91.70432   57.938103 100.38806  110.28434\n",
      " 103.49369   96.818886 107.02888  109.2333  ]\n",
      "tensor([ 98.9448, 102.3550,  91.7043,  57.9381, 100.3881, 110.2843, 103.4937,\n",
      "         96.8189, 107.0289, 109.2333])\n",
      "620\n",
      "620\n"
     ]
    }
   ],
   "source": [
    "# Check predictions\n",
    "\n",
    "with open('../../../BrainAgePredictWrat/Wrat/MLPWratEmoidPredictions.bin', 'rb') as f:\n",
    "    check = pickle.load(f)\n",
    "    \n",
    "print(check[0:10])\n",
    "print(agesPredMLP[0:10])\n",
    "print(np.count_nonzero(check == agesPredMLP.detach().cpu().numpy()))\n",
    "print(check.shape[0])"
   ]
  },
  {
   "cell_type": "code",
   "execution_count": null,
   "id": "00306dc8",
   "metadata": {},
   "outputs": [],
   "source": []
  }
 ],
 "metadata": {
  "kernelspec": {
   "display_name": "Python 3",
   "language": "python",
   "name": "python3"
  },
  "language_info": {
   "codemirror_mode": {
    "name": "ipython",
    "version": 3
   },
   "file_extension": ".py",
   "mimetype": "text/x-python",
   "name": "python",
   "nbconvert_exporter": "python",
   "pygments_lexer": "ipython3",
   "version": "3.9.5"
  }
 },
 "nbformat": 4,
 "nbformat_minor": 5
}
