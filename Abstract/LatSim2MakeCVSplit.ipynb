{
 "cells": [
  {
   "cell_type": "code",
   "execution_count": 2,
   "id": "6b04f1d3",
   "metadata": {},
   "outputs": [
    {
     "name": "stdout",
     "output_type": "stream",
     "text": [
      "Complete\n"
     ]
    }
   ],
   "source": [
    "import pickle\n",
    "\n",
    "with open('../../PNC_Good/MegaMeta3.pkl', 'rb') as f: \n",
    "    meta = pickle.load(f)\n",
    "    \n",
    "print('Complete')"
   ]
  },
  {
   "cell_type": "code",
   "execution_count": 15,
   "id": "348bac74",
   "metadata": {},
   "outputs": [
    {
     "name": "stdout",
     "output_type": "stream",
     "text": [
      "620\n",
      "941\n"
     ]
    }
   ],
   "source": [
    "ids = list(meta.keys())\n",
    "good = [key for key, subj in meta.items() \n",
    "        if 'emoid' in subj and 'nback' in subj and 'wratStd' in subj and 'AgeInMonths' in subj and 'Gender' in subj]\n",
    "print(len(good))\n",
    "print(len(ids))"
   ]
  },
  {
   "cell_type": "code",
   "execution_count": 16,
   "id": "a971765e",
   "metadata": {},
   "outputs": [
    {
     "name": "stdout",
     "output_type": "stream",
     "text": [
      "10\n",
      "2\n",
      "558\n",
      "[  2   7  21  48  66  69  77  87 120 136 139 142 144 150 155 165 166 172\n",
      " 173 179 187 195 200 210 225 228 234 235 243 245 257 260 287 308 314 327\n",
      " 338 364 378 397 398 411 412 420 428 457 476 487 492 509 514 524 543 551\n",
      " 581 589 590 599 601 606 612 616]\n",
      "[  4   6  22  25  43  61  68  75  84  91 106 117 125 127 134 146 181 199\n",
      " 202 205 209 226 237 242 253 258 264 268 271 272 290 303 311 328 334 340\n",
      " 347 363 366 393 395 400 406 408 415 434 440 455 461 463 477 478 484 506\n",
      " 508 512 530 565 575 578 594 600]\n"
     ]
    }
   ],
   "source": [
    "from sklearn.model_selection import KFold\n",
    "\n",
    "kf = KFold(n_splits=10, shuffle=True)\n",
    "groups = []\n",
    "for split in kf.split(good):\n",
    "    groups.append(split)\n",
    "    \n",
    "print(len(groups))\n",
    "print(len(groups[0]))\n",
    "print(len(groups[0][0]))\n",
    "\n",
    "print(groups[0][1])\n",
    "print(groups[1][1])"
   ]
  },
  {
   "cell_type": "code",
   "execution_count": 20,
   "id": "5df5f2ef",
   "metadata": {},
   "outputs": [
    {
     "name": "stdout",
     "output_type": "stream",
     "text": [
      "Complete\n"
     ]
    }
   ],
   "source": [
    "with open('../../Work/LatentSim/Splits.pkl', 'wb') as f:\n",
    "    pickle.dump((good, groups), f)\n",
    "    \n",
    "print('Complete')"
   ]
  },
  {
   "cell_type": "code",
   "execution_count": null,
   "id": "64990be1",
   "metadata": {},
   "outputs": [],
   "source": []
  }
 ],
 "metadata": {
  "kernelspec": {
   "display_name": "torch",
   "language": "python",
   "name": "torch"
  },
  "language_info": {
   "codemirror_mode": {
    "name": "ipython",
    "version": 3
   },
   "file_extension": ".py",
   "mimetype": "text/x-python",
   "name": "python",
   "nbconvert_exporter": "python",
   "pygments_lexer": "ipython3",
   "version": "3.7.12"
  }
 },
 "nbformat": 4,
 "nbformat_minor": 5
}
