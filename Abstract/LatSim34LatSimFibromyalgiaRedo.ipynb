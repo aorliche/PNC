{
 "cells": [
  {
   "cell_type": "code",
   "execution_count": 12,
   "id": "857acfb0",
   "metadata": {},
   "outputs": [
    {
     "name": "stdout",
     "output_type": "stream",
     "text": [
      "subs 66\n",
      "fibromyalgia 66\n",
      "fibromyalgia_score 66\n",
      "rest 66\n",
      "epr 65\n"
     ]
    }
   ],
   "source": [
    "# Original fibromyalgia data was bandpass-filtered incorrectly\n",
    "# Use data from ImageNomer project\n",
    "\n",
    "import pickle\n",
    "import numpy as np\n",
    "\n",
    "folder = '/home/anton/Documents/Tulane/Research/ImageNomer/data/anton/cohorts/Fibromyalgia'\n",
    "demo = pickle.load(open(f'{folder}/demographics.pkl', 'rb'))\n",
    "\n",
    "data = dict(subs=[], fibromyalgia=dict(), fibromyalgia_score=dict(), rest=dict(), epr=dict())\n",
    "\n",
    "for sub in demo['Age']:\n",
    "    data['subs'].append(sub)\n",
    "    data['fibromyalgia'][sub] = demo['Fibromyalgia'][sub] == 'Yes'\n",
    "    data['fibromyalgia_score'][sub] = demo['Fibromyalgia_Impact_Score'][sub]\n",
    "    for task in ['rest', 'epr']:\n",
    "        try:\n",
    "            data[task][sub] = np.load(f'{folder}/fc/{sub}_task-{task}_fc.npy')\n",
    "        except:\n",
    "            pass\n",
    "    \n",
    "for k,v in data.items():\n",
    "    print(k, len(v))"
   ]
  },
  {
   "cell_type": "code",
   "execution_count": 13,
   "id": "0c97004c",
   "metadata": {},
   "outputs": [
    {
     "name": "stdout",
     "output_type": "stream",
     "text": [
      "Done\n"
     ]
    }
   ],
   "source": [
    "# Save data\n",
    "\n",
    "pickle.dump(data, open('/home/anton/Documents/Tulane/Research/LatentSimilarity/data/fibromyalgia-data.pkl', 'wb'))\n",
    "\n",
    "print('Done')"
   ]
  },
  {
   "cell_type": "code",
   "execution_count": null,
   "id": "8dccb233",
   "metadata": {},
   "outputs": [],
   "source": []
  }
 ],
 "metadata": {
  "kernelspec": {
   "display_name": "Python 3 (ipykernel)",
   "language": "python",
   "name": "python3"
  },
  "language_info": {
   "codemirror_mode": {
    "name": "ipython",
    "version": 3
   },
   "file_extension": ".py",
   "mimetype": "text/x-python",
   "name": "python",
   "nbconvert_exporter": "python",
   "pygments_lexer": "ipython3",
   "version": "3.11.3"
  }
 },
 "nbformat": 4,
 "nbformat_minor": 5
}
