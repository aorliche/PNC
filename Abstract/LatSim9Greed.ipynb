{
 "cells": [
  {
   "cell_type": "code",
   "execution_count": 1,
   "id": "4d8e5c5b",
   "metadata": {},
   "outputs": [
    {
     "name": "stdout",
     "output_type": "stream",
     "text": [
      "Complete\n"
     ]
    }
   ],
   "source": [
    "import pickle\n",
    "\n",
    "with open('../../PNC_Good/MegaMeta3.pkl', 'rb') as f: \n",
    "    meta = pickle.load(f)\n",
    "    \n",
    "print('Complete')"
   ]
  },
  {
   "cell_type": "code",
   "execution_count": 2,
   "id": "a31f7166",
   "metadata": {},
   "outputs": [
    {
     "name": "stdout",
     "output_type": "stream",
     "text": [
      "620\n",
      "620\n",
      "Complete\n"
     ]
    }
   ],
   "source": [
    "with open('../../Work/LatentSim/Splits.pkl', 'rb') as f:\n",
    "    keys, groups = pickle.load(f)\n",
    "    \n",
    "print(len(keys))\n",
    "print(len(groups[0][0])+len(groups[0][1]))\n",
    "print('Complete')"
   ]
  },
  {
   "cell_type": "code",
   "execution_count": 3,
   "id": "4f474811",
   "metadata": {},
   "outputs": [
    {
     "name": "stdout",
     "output_type": "stream",
     "text": [
      "(620, 264, 231)\n",
      "(620, 264, 210)\n"
     ]
    }
   ],
   "source": [
    "import numpy as np\n",
    "\n",
    "nback = np.stack([meta[key]['nback'] for key in keys])\n",
    "emoid = np.stack([meta[key]['emoid'] for key in keys])\n",
    "\n",
    "print(nback.shape)\n",
    "print(emoid.shape)"
   ]
  },
  {
   "cell_type": "code",
   "execution_count": 4,
   "id": "837d8b29",
   "metadata": {},
   "outputs": [
    {
     "name": "stdout",
     "output_type": "stream",
     "text": [
      "(620, 264, 264)\n"
     ]
    }
   ],
   "source": [
    "from nilearn.connectome import ConnectivityMeasure\n",
    "\n",
    "def getFC(timeSeries, kind='correlation', transpose=True):\n",
    "    connMeasure = ConnectivityMeasure(kind=kind)\n",
    "    if transpose:\n",
    "        timeSeries = np.transpose(timeSeries, axes=(0,2,1))\n",
    "    return connMeasure.fit_transform(timeSeries)\n",
    "\n",
    "nback_p = getFC(nback)\n",
    "emoid_p = getFC(emoid)\n",
    "\n",
    "print(nback_p.shape)"
   ]
  },
  {
   "cell_type": "code",
   "execution_count": 5,
   "id": "9086975d",
   "metadata": {},
   "outputs": [
    {
     "name": "stdout",
     "output_type": "stream",
     "text": [
      "torch.Size([620, 34716])\n",
      "torch.Size([620, 34716])\n",
      "Complete\n"
     ]
    }
   ],
   "source": [
    "import torch\n",
    "\n",
    "def convertTorch(p):\n",
    "    t = torch.from_numpy(p).float()\n",
    "    u = []\n",
    "    for i in range(t.shape[0]):\n",
    "        u.append(t[i][torch.triu_indices(264,264,offset=1).unbind()])\n",
    "    return torch.stack(u).cuda()\n",
    "\n",
    "nback_p_t = convertTorch(nback_p)\n",
    "emoid_p_t = convertTorch(emoid_p)\n",
    "\n",
    "print(nback_p_t.shape)\n",
    "print(emoid_p_t.shape)\n",
    "print('Complete')"
   ]
  },
  {
   "cell_type": "code",
   "execution_count": 6,
   "id": "05acf01d",
   "metadata": {},
   "outputs": [
    {
     "name": "stdout",
     "output_type": "stream",
     "text": [
      "Norm complete\n"
     ]
    }
   ],
   "source": [
    "mu_nback = torch.mean(nback_p_t, dim=0, keepdim=True)\n",
    "mu_emoid = torch.mean(emoid_p_t, dim=0, keepdim=True)\n",
    "std_nback = torch.std(nback_p_t, dim=0, keepdim=True)\n",
    "std_emoid = torch.std(emoid_p_t, dim=0, keepdim=True)\n",
    "\n",
    "nback_p_t = (nback_p_t - mu_nback)/std_nback\n",
    "emoid_p_t = (emoid_p_t - mu_emoid)/std_emoid\n",
    "\n",
    "print('Norm complete')"
   ]
  },
  {
   "cell_type": "code",
   "execution_count": 7,
   "id": "6b6e5803",
   "metadata": {},
   "outputs": [
    {
     "name": "stdout",
     "output_type": "stream",
     "text": [
      "torch.return_types.min(\n",
      "values=tensor([-2.2998, -3.0133], device='cuda:0'),\n",
      "indices=tensor([603, 350], device='cuda:0'))\n",
      "torch.return_types.min(\n",
      "values=tensor([-2.7284, -3.0616], device='cuda:0'),\n",
      "indices=tensor([351,  33], device='cuda:0'))\n"
     ]
    }
   ],
   "source": [
    "print(torch.min(nback_p_t[:,420:422],dim=0))\n",
    "print(torch.min(emoid_p_t[:,420:422],dim=0))"
   ]
  },
  {
   "cell_type": "code",
   "execution_count": 8,
   "id": "692378fe",
   "metadata": {},
   "outputs": [
    {
     "name": "stdout",
     "output_type": "stream",
     "text": [
      "(620,)\n",
      "(620, 2)\n",
      "(620,)\n"
     ]
    }
   ],
   "source": [
    "age = np.stack([meta[key]['AgeInMonths'] for key in keys])\n",
    "gen = np.stack([np.array([meta[key]['Gender'] == 'M', meta[key]['Gender'] == 'F']) for key in keys]).astype(int)\n",
    "wrt = np.stack([meta[key]['wratStd'] for key in keys])\n",
    "\n",
    "print(age.shape)\n",
    "print(gen.shape)\n",
    "print(wrt.shape)"
   ]
  },
  {
   "cell_type": "code",
   "execution_count": 9,
   "id": "9fbce237",
   "metadata": {},
   "outputs": [
    {
     "name": "stdout",
     "output_type": "stream",
     "text": [
      "Complete\n"
     ]
    }
   ],
   "source": [
    "age_t = torch.from_numpy(age).float().cuda()\n",
    "gen_t = torch.from_numpy(gen).float().cuda()\n",
    "wrt_t = torch.from_numpy(wrt).float().cuda()\n",
    "\n",
    "print('Complete')"
   ]
  },
  {
   "cell_type": "code",
   "execution_count": 10,
   "id": "9d9aa504",
   "metadata": {},
   "outputs": [
    {
     "name": "stdout",
     "output_type": "stream",
     "text": [
      "Complete\n"
     ]
    }
   ],
   "source": [
    "grp = 1\n",
    "trainIdcs = groups[grp][0][0:496]\n",
    "validIdcs = groups[grp][0]\n",
    "testIdcs = groups[grp][1]\n",
    "\n",
    "print('Complete')"
   ]
  },
  {
   "cell_type": "code",
   "execution_count": 24,
   "id": "dc9b4bcc",
   "metadata": {},
   "outputs": [
    {
     "name": "stdout",
     "output_type": "stream",
     "text": [
      "Complete\n"
     ]
    }
   ],
   "source": [
    "var = yemoid #wrt_t[trainIdcs]\n",
    "mats = []\n",
    "\n",
    "idcs = torch.argsort(var)\n",
    "# ref = var[idcs[600]]*torch.ones(620,1).float().cuda()\n",
    "# ref = var[idcs].unsqueeze(1)-ref\n",
    "mat = torch.cdist(var[idcs].unsqueeze(1), var[idcs].unsqueeze(1))\n",
    "mat = torch.mean(mat) - mat\n",
    "mat = mat# - torch.abs(ref) - torch.abs(ref.T)\n",
    "mats.append(mat.detach())\n",
    "# mats[0] = -torch.ones(mat.shape).float().cuda()\n",
    "    \n",
    "print('Complete')"
   ]
  },
  {
   "cell_type": "code",
   "execution_count": 25,
   "id": "bcc3e2ea",
   "metadata": {},
   "outputs": [
    {
     "data": {
      "image/png": "[encoded data removed]",
      "text/plain": [
       "<Figure size 432x288 with 2 Axes>"
      ]
     },
     "metadata": {
      "needs_background": "light"
     },
     "output_type": "display_data"
    }
   ],
   "source": [
    "import matplotlib.pyplot as plt\n",
    "\n",
    "plt.imshow(mats[0].detach().cpu().numpy())\n",
    "plt.colorbar()\n",
    "plt.show()"
   ]
  },
  {
   "cell_type": "code",
   "execution_count": 26,
   "id": "a74f7042",
   "metadata": {},
   "outputs": [
    {
     "name": "stdout",
     "output_type": "stream",
     "text": [
      "Complete\n"
     ]
    }
   ],
   "source": [
    "with open('../../Work/LatentSim/GreedMasks/WratMask10Emoid.pkl', 'wb') as f:\n",
    "    pickle.dump(mats[0], f)\n",
    "    \n",
    "print('Complete')"
   ]
  },
  {
   "cell_type": "code",
   "execution_count": 158,
   "id": "2ff9bcf3",
   "metadata": {},
   "outputs": [
    {
     "name": "stdout",
     "output_type": "stream",
     "text": [
      "Complete\n"
     ]
    }
   ],
   "source": [
    "idcs = torch.argsort(var)\n",
    "step = 200\n",
    "regionEval = []\n",
    "\n",
    "for Y in [nback_p_t[trainIdcs][idcs], emoid_p_t[trainIdcs][idcs]]:\n",
    "    parts = []\n",
    "    for j in range(0,40000,step):\n",
    "        if j >= Y.shape[1]:\n",
    "            break\n",
    "        part = Y[:,j:j+step]\n",
    "        corrSim = torch.einsum('ab,db->adb', part, part)\n",
    "        corr2 = torch.einsum('adb,ad->b', corrSim, mats[0])\n",
    "        parts.append(corr2.detach().cpu().numpy())\n",
    "\n",
    "    parts = np.concatenate(parts)\n",
    "    regionEval.append(parts)\n",
    "\n",
    "regionEval = np.stack(regionEval)\n",
    "\n",
    "print('Complete')"
   ]
  },
  {
   "cell_type": "code",
   "execution_count": 159,
   "id": "4c83d18e",
   "metadata": {},
   "outputs": [
    {
     "name": "stdout",
     "output_type": "stream",
     "text": [
      "[[26032 33816 15376 12949 10372]\n",
      " [20012 26032  6706 33816 10372]]\n",
      "[1223541.4 1260620.6 1269727.  1275899.4 1430308.2]\n",
      "[1066025.1 1094942.5 1100401.8 1144762.  1160336. ]\n"
     ]
    }
   ],
   "source": [
    "# regionEval = np.sum(regionEval, axis=0)\n",
    "idcs = np.argsort(regionEval, axis=1)\n",
    "\n",
    "print(idcs[:,-5:])\n",
    "print(regionEval[0,idcs[0,-5:]])\n",
    "print(regionEval[1,idcs[1,-5:]])"
   ]
  },
  {
   "cell_type": "code",
   "execution_count": 144,
   "id": "d7c33a04",
   "metadata": {},
   "outputs": [
    {
     "data": {
      "image/png": "[encoded data removed]",
      "text/plain": [
       "<Figure size 432x288 with 1 Axes>"
      ]
     },
     "metadata": {
      "needs_background": "light"
     },
     "output_type": "display_data"
    }
   ],
   "source": [
    "plt.hist(regionEval[0], bins=20)\n",
    "plt.show()"
   ]
  },
  {
   "cell_type": "code",
   "execution_count": 104,
   "id": "29da603b",
   "metadata": {},
   "outputs": [
    {
     "name": "stdout",
     "output_type": "stream",
     "text": [
      "Complete\n"
     ]
    }
   ],
   "source": [
    "with open('../../Work/LatentSim/GreedMasks/GenderHist6Emoid.pkl', 'wb') as f:\n",
    "    pickle.dump(regionEval[1], f)\n",
    "    \n",
    "print('Complete')"
   ]
  },
  {
   "cell_type": "code",
   "execution_count": 15,
   "id": "2becaf26",
   "metadata": {},
   "outputs": [
    {
     "name": "stdout",
     "output_type": "stream",
     "text": [
      "Complete\n",
      "torch.Size([620, 2, 10])\n"
     ]
    }
   ],
   "source": [
    "# Update regions\n",
    "\n",
    "# rnback = torch.tensor([10372, 16763, 6732, 5583, 2648, 20011, 458, 353, 1225, 11023], dtype=int)\n",
    "# remoid = torch.tensor([10372, 17428, 31165, 13599, 2648, 31850, 2159, 9850, 4316, 9004], dtype=int)\n",
    "# rnback = torch.tensor([646,678,22330,747,616,612], dtype=int)\n",
    "# remoid = torch.tensor([31728,9534,26653,2058,22176,26761], dtype=int)\n",
    "# rnback = torch.tensor([646,678,22330,747,616,612,20736,20393,18253,918])\n",
    "# remoid = torch.tensor([31728,9534,26653,2058,22176,26761,30451,11501,6847,25337])\n",
    "rnback = torch.tensor([8817,24832,10407,22793,7585,6320,16760,27127,32928,6726])\n",
    "remoid = torch.tensor([11041,28176,20542,31376,31068,1967,27550,1671,12871,7218])\n",
    "\n",
    "X0 = nback_p_t[:,rnback]\n",
    "X1 = emoid_p_t[:,remoid]\n",
    "Xreg = torch.stack([X0,X1], dim=1)\n",
    "\n",
    "print('Complete')\n",
    "print(Xreg.shape)"
   ]
  },
  {
   "cell_type": "code",
   "execution_count": 16,
   "id": "c56ecae0",
   "metadata": {},
   "outputs": [
    {
     "name": "stdout",
     "output_type": "stream",
     "text": [
      "epoch 0 loss=260.850830078125\n",
      "New best validation epoch 0 loss=11.892563819885254\n",
      "epoch 500 loss=245.23684692382812\n",
      "New best validation epoch 500 loss=11.751410484313965\n",
      "epoch 1000 loss=214.1497039794922\n",
      "New best validation epoch 1000 loss=11.655214309692383\n",
      "epoch 1500 loss=192.4834442138672\n",
      "epoch 2000 loss=182.99203491210938\n",
      "epoch 2500 loss=179.2635955810547\n",
      "epoch 3000 loss=177.64390563964844\n",
      "epoch 3500 loss=176.80908203125\n",
      "epoch 4000 loss=176.31387329101562\n",
      "epoch 4500 loss=176.00997924804688\n",
      "epoch 5000 loss=175.8330535888672\n",
      "epoch 5500 loss=175.74017333984375\n",
      "epoch 6000 loss=175.6984100341797\n",
      "epoch 6500 loss=175.68331909179688\n",
      "epoch 7000 loss=175.6792449951172\n",
      "epoch 7500 loss=175.6780242919922\n",
      "epoch 8000 loss=175.66632080078125\n",
      "epoch 8500 loss=175.40660095214844\n",
      "epoch 9000 loss=174.7076873779297\n",
      "epoch 9500 loss=174.35479736328125\n",
      "epoch 10000 loss=174.2218017578125\n",
      "epoch 10500 loss=174.12911987304688\n",
      "epoch 11000 loss=173.65658569335938\n",
      "epoch 11500 loss=172.9371795654297\n",
      "epoch 12000 loss=172.31430053710938\n",
      "epoch 12500 loss=171.74803161621094\n",
      "epoch 13000 loss=171.15557861328125\n",
      "epoch 13500 loss=170.91075134277344\n",
      "epoch 14000 loss=170.76022338867188\n",
      "epoch 14500 loss=170.37582397460938\n",
      "epoch 14999 loss=169.9862823486328\n",
      "Finished training\n",
      "15.144329071044922\n"
     ]
    }
   ],
   "source": [
    "import torch.nn as nn\n",
    "import torch.nn.functional as F\n",
    "import time\n",
    "\n",
    "def arith(n):\n",
    "    return int(n*(n+1)/2)\n",
    "\n",
    "def mask(e):\n",
    "    return e - torch.diag(torch.diag(e.detach()))\n",
    "\n",
    "class LatSim(nn.Module):\n",
    "    def __init__(self, nTgts, inp, edp=0.1):\n",
    "        super(LatSim, self).__init__()\n",
    "        self.active = nn.Parameter(1e-4*torch.randn(nTgts,inp.shape[-1],2).float().cuda())\n",
    "        self.edp = nn.Dropout(p=edp)\n",
    "    \n",
    "    def getLatentsAndEdges(self, x, i):\n",
    "        e = 1e-10\n",
    "        y = torch.einsum('ac,ce->ae', x, self.active[i])\n",
    "        e = e+y@y.T\n",
    "        return y, y, e\n",
    "        \n",
    "    def forward(self, x, y, testIdcs=None):\n",
    "        res = []\n",
    "        es = []\n",
    "        for i in range(self.active.shape[0]):\n",
    "            _, _, e = self.getLatentsAndEdges(x[:,i,:], i)\n",
    "            if testIdcs is not None:\n",
    "                e[:,testIdcs] = 0\n",
    "            e = self.edp(e)\n",
    "            e = mask(e)\n",
    "            e[e == 0] = float('-inf')\n",
    "            e = F.softmax(e, dim=1)\n",
    "            es.append(e)\n",
    "            res.append(e@y)\n",
    "        return res, es\n",
    "\n",
    "def validate(model, X, y, testIdcs):\n",
    "    model.eval()\n",
    "    with torch.no_grad():\n",
    "        res, _ = model(X, y, testIdcs)\n",
    "        avg = torch.mean(torch.stack(res), dim=0)\n",
    "        if res[0].dim() == 1:\n",
    "            loss = mseLoss(avg[testIdcs], y[testIdcs]).cpu().numpy()**0.5\n",
    "        else:\n",
    "            corr = (torch.argmax(avg, dim=1) == torch.argmax(y, dim=1))[testIdcs]\n",
    "            loss = torch.sum(corr)/len(testIdcs)\n",
    "    model.train()\n",
    "    return loss\n",
    "        \n",
    "ceLoss = torch.nn.CrossEntropyLoss()\n",
    "mseLoss = torch.nn.MSELoss()\n",
    "nEpochs = 15000\n",
    "pPeriod = 500\n",
    "thresh = 100\n",
    "\n",
    "rmse = []\n",
    "\n",
    "sim = LatSim(2, Xreg, 0) # 0.2 wrat, 0.1 other\n",
    "optim = torch.optim.Adam(sim.parameters(), lr=1e-4, weight_decay=1e-4) \n",
    "\n",
    "Xt = Xreg[trainIdcs]\n",
    "Xv = Xreg[validIdcs]\n",
    "\n",
    "trainLoss = []\n",
    "validLoss = []\n",
    "\n",
    "vIdcs1 = np.arange(496,len(validIdcs))\n",
    "vIdcs2 = validIdcs[496:]\n",
    "vIdcs3 = np.concatenate([testIdcs, vIdcs2])\n",
    "\n",
    "var = wrt_t\n",
    "\n",
    "for epoch in range(nEpochs):\n",
    "    optim.zero_grad()\n",
    "    res, _ = sim(Xt, var[trainIdcs])\n",
    "    avg = torch.mean(torch.stack(res), dim=0)\n",
    "    loss = 0\n",
    "    for r in res + [avg]:\n",
    "        loss += mseLoss(r, var[trainIdcs])\n",
    "    loss = torch.stack([loss/(len(res)+1)])\n",
    "    torch.sum(loss).backward()\n",
    "    optim.step()\n",
    "    if epoch % pPeriod == 0 or epoch == nEpochs-1 or torch.all(loss[0:3] < thresh):\n",
    "        print(f'epoch {epoch} loss={(float(loss))}')\n",
    "        lossV = validate(sim, Xv, var[validIdcs], vIdcs1)\n",
    "        if len(validLoss) == 0 or lossV < min(validLoss):\n",
    "            print(f'New best validation epoch {epoch} loss={lossV}')\n",
    "            torch.save(sim.state_dict(), '../../Work/LatentSim/sim.pyt')\n",
    "        validLoss.append(lossV)\n",
    "        if torch.all(loss[0:3] < thresh):\n",
    "            print('Early stopping')\n",
    "            break\n",
    "\n",
    "print('Finished training')\n",
    "\n",
    "sim.load_state_dict(torch.load('../../Work/LatentSim/sim.pyt'))\n",
    "loss = validate(sim, Xreg, var, testIdcs)\n",
    "\n",
    "rmse.append((float(loss)))\n",
    "\n",
    "# print(i, end=' ')\n",
    "print(rmse[-1])"
   ]
  },
  {
   "cell_type": "code",
   "execution_count": 17,
   "id": "441ca0a1",
   "metadata": {},
   "outputs": [],
   "source": [
    "# r0 = F.one_hot(torch.argmax(res[0], dim=1), 2)\n",
    "# r1 = F.one_hot(torch.argmax(res[1], dim=1), 2)\n",
    "# ra = F.one_hot(torch.argmax(avg, dim=1), 2)\n",
    "\n",
    "# ynback = var[trainIdcs]-r0\n",
    "# yemoid = var[trainIdcs]-r1\n",
    "# yavg = var[trainIdcs]-ra\n",
    "\n",
    "# print(var[trainIdcs][:10,:])\n",
    "# print(r0[:50,:])\n",
    "\n",
    "# plt.stem(yavg.detach().cpu().numpy()[:,1])\n",
    "# plt.show()\n",
    "\n",
    "ynback = var[trainIdcs]-res[0]\n",
    "yemoid = var[trainIdcs]-res[1]\n",
    "yavg = var[trainIdcs]-avg\n",
    "\n",
    "# print(sim.active)\n",
    "\n",
    "# plt.plot(ynback.detach().cpu().numpy()/12, label='nback')\n",
    "# plt.plot(yemoid.detach().cpu().numpy()/12, label='emoid')\n",
    "# plt.plot(yavg.detach().cpu().numpy()/12, label='avg')\n",
    "# plt.show()"
   ]
  },
  {
   "cell_type": "code",
   "execution_count": 148,
   "id": "38ce4917",
   "metadata": {},
   "outputs": [
    {
     "data": {
      "text/plain": [
       "tensor([ 8.8052e+00,  4.0638e+01, -1.1358e+01,  1.6497e+00, -4.5499e-01,\n",
       "        -5.9755e+00,  2.2025e+01,  1.0756e+00, -7.5228e+00, -3.5593e+00,\n",
       "        -3.8353e+00, -2.2875e+01, -1.1325e+01, -1.6915e+01, -1.2076e+00,\n",
       "         2.9382e+00, -8.9644e+00,  3.1151e+01,  9.2030e+00, -1.0267e+01,\n",
       "        -1.4991e+01,  6.8692e+00, -9.9239e+00, -2.7010e+01,  8.8754e+00,\n",
       "         8.6140e+00, -1.0773e+01,  2.3064e+00, -2.0513e+00, -8.0458e+00,\n",
       "        -1.0051e+01,  3.1809e+00,  1.1909e+00,  1.3743e+01, -2.9988e+00,\n",
       "        -1.5765e+01, -1.1861e+00,  8.8298e+00, -1.6298e+01,  4.7976e+00,\n",
       "        -6.2990e+00, -1.0449e+00, -1.5265e+01, -7.5012e+00,  1.8396e+00,\n",
       "        -5.8985e+00,  1.8557e+01,  3.5015e+00,  7.0599e+00,  2.4805e+01,\n",
       "         3.0671e+01,  1.4462e+01, -1.3748e+01,  5.6175e+00,  2.6192e+01,\n",
       "        -1.5037e+01, -2.6359e+01, -2.0127e+01,  2.3027e+01, -1.3771e+01,\n",
       "        -8.9990e+00,  1.5400e+01, -2.6687e+00,  3.9531e+01,  1.3286e+00,\n",
       "        -1.4539e+01,  1.1389e+01,  4.2505e+01, -8.9228e+00, -1.1941e+01,\n",
       "        -2.9466e+01,  1.0580e+01, -2.2790e+00,  1.1331e+01,  1.3472e+00,\n",
       "         2.2637e+00,  9.2825e+00,  3.3125e+01,  1.9888e+01, -1.3317e+01,\n",
       "        -6.4879e+00,  1.0362e+01, -1.9322e+01, -2.6390e+00,  1.1632e+01,\n",
       "        -1.0764e+01,  4.5846e+00, -1.8463e+01,  1.0200e+00, -2.7986e+00,\n",
       "        -6.1251e+00, -1.3381e+00, -2.4411e+01,  1.7546e+00, -3.6855e+00,\n",
       "         3.9171e+01,  8.0974e+00, -1.0223e+01, -7.0343e+00, -1.1117e+01,\n",
       "         2.3539e+00,  2.7996e-01,  1.0314e+01,  9.2772e+00, -3.0117e+01,\n",
       "         6.6848e+00, -1.0304e+01,  1.9647e+01, -7.3024e+00, -9.5808e-01,\n",
       "        -2.5772e+01, -3.7962e+00,  2.2407e+01,  2.4652e+00, -1.0386e+01,\n",
       "        -4.2770e+00,  1.3907e+00, -5.1024e+00,  1.8590e+01,  1.8431e+01,\n",
       "        -1.8315e+01,  4.9950e+00,  8.6425e+00, -8.2651e+00,  9.3687e-01,\n",
       "         1.3240e+01, -3.9373e+00, -2.0989e+00, -2.9070e+01, -1.0162e+01,\n",
       "         6.8137e-01,  1.8024e+00,  2.2313e+01,  8.1118e+00, -8.6706e+00,\n",
       "         1.1980e+01,  4.2186e+01,  7.0320e+00,  1.4944e+01, -2.4802e+01,\n",
       "         2.8930e+01, -9.4652e+00, -5.3167e+00,  1.0683e+01, -2.0107e+00,\n",
       "        -1.0049e+01, -2.7693e+01, -6.7582e+00,  5.8033e+00,  2.1714e+01,\n",
       "        -2.0255e+00,  3.3244e+01,  6.7993e+00, -7.3056e+00, -5.6954e+00,\n",
       "        -7.9501e+00, -4.7983e-01, -3.2792e+01, -2.4898e+01, -1.0345e+01,\n",
       "         3.7985e+00,  2.2736e+01, -1.3757e+01,  1.3255e+01,  7.1567e+00,\n",
       "        -1.7080e+01, -3.8273e+00, -7.3369e+00, -6.9906e+00,  1.4436e+01,\n",
       "        -2.3654e+01,  2.6552e+01,  1.1268e+01,  2.8488e+01,  4.9791e+00,\n",
       "         1.4060e+01,  4.6545e+01,  4.7885e+00, -2.7748e+00,  3.6523e+01,\n",
       "        -6.8266e+00, -1.2288e+01, -1.0997e+01, -8.1943e-01,  4.2106e+01,\n",
       "        -2.3813e+00,  8.2645e+00, -5.4739e+00, -3.5068e+00,  2.0563e+01,\n",
       "         1.1646e+01,  1.0632e+01, -7.0747e+00, -2.3952e+00, -6.2057e-01,\n",
       "         5.3910e+00, -2.9285e+01,  6.5790e+00,  5.9356e+00,  1.9934e+00,\n",
       "        -1.1299e+01, -3.7277e-02,  3.5667e-02, -6.9701e+00, -5.4060e+00,\n",
       "        -8.6313e+00,  2.1006e+01,  1.6415e+01, -7.0366e-02, -2.6212e+01,\n",
       "         2.4788e+00, -2.1192e+00,  6.6176e+00,  2.3014e+00,  3.8174e+01,\n",
       "         3.9795e+01,  7.8915e+00, -9.6708e+00,  5.3185e-01,  1.8076e+01,\n",
       "        -1.6563e+01, -5.1208e-01, -5.3246e+00, -2.6079e+01, -1.7480e+01,\n",
       "         9.8277e+00, -5.2288e+00, -2.0095e+01,  1.6256e+01, -1.6834e+01,\n",
       "         2.2715e+00, -7.4331e+00, -3.1428e+01, -2.9744e+00, -1.2363e+01,\n",
       "         1.1902e+01, -1.0238e+01,  2.3733e+01, -5.1767e+00,  1.5955e+01,\n",
       "         1.3623e+01, -6.3417e+00, -8.8320e-01,  5.2944e+00,  9.4857e+00,\n",
       "         6.3095e+00,  4.5295e+00,  1.8771e+01,  3.3392e+00, -1.7958e+01,\n",
       "        -6.6696e+00, -1.9370e+01,  5.5876e+00,  1.8695e+00,  4.0777e+01,\n",
       "        -1.7948e+00, -1.1311e+00, -1.9697e+01, -1.6326e+01, -1.8087e+01,\n",
       "         1.2139e+01,  1.7177e+01,  2.4242e+01,  1.2597e+01,  3.2148e+01,\n",
       "        -8.5361e+00,  2.1006e+01,  9.5208e+00, -5.4932e+00, -1.9634e+00,\n",
       "         2.6276e+01, -1.9830e+01, -3.1359e+01,  1.8495e-01, -6.7474e+00,\n",
       "        -1.4054e+01,  2.2862e+01,  1.1338e+01, -1.8161e+01, -6.2447e+00,\n",
       "         2.7594e+01, -4.4868e+00, -1.8474e+01, -2.0864e+01,  6.6466e-01,\n",
       "        -9.4341e+00, -6.2682e+00,  5.9559e+00, -1.0578e+01,  9.3847e+00,\n",
       "        -1.0540e+01,  1.5656e+01,  4.8351e+00,  7.3489e+00,  9.7556e-01,\n",
       "        -1.7236e+01,  2.3637e+01,  5.8846e+00, -3.8982e+00,  1.7681e+01,\n",
       "        -2.4248e+00,  1.2190e+01, -8.5597e+00, -5.2592e+00,  2.5479e+00,\n",
       "         5.1018e+00,  9.8960e+00, -1.9288e+01,  1.1224e+00, -1.7605e-01,\n",
       "         9.4767e+00,  3.9902e+01,  4.4130e+00, -2.0354e+00,  3.6496e+00,\n",
       "        -1.0582e+01, -2.6562e+01, -2.2925e+00,  4.1590e+01,  2.9532e+01,\n",
       "        -1.2637e+01, -1.0374e+01,  8.3580e+00, -4.3766e+00, -2.4820e+00,\n",
       "         9.7533e+00, -1.1947e+01,  1.0670e+01, -2.7512e+00, -1.0686e+01,\n",
       "        -5.7961e+00, -1.1974e+00, -2.3213e+01,  1.1908e+00, -1.7321e+01,\n",
       "        -1.0036e+01, -2.8334e+01,  4.2026e+01,  6.6069e+00, -3.2276e+01,\n",
       "         1.1507e+01,  2.0961e+01, -1.6623e+01, -3.9335e+00, -8.7125e+00,\n",
       "        -2.1234e+00, -1.6811e+00, -4.7438e+00, -1.7631e+01,  1.3105e+01,\n",
       "         1.6182e+01,  4.0696e+01, -1.9200e+01,  4.1708e+01, -8.7142e+00,\n",
       "         1.0793e+00, -4.7532e+00, -7.6893e+00,  6.7547e+00, -9.2798e-01,\n",
       "        -1.2512e+01, -7.3746e-01,  2.1151e+01,  6.9981e+00, -1.0506e+01,\n",
       "         2.0442e+01, -1.4676e+01, -1.6533e+00,  1.4455e+01,  7.3404e+00,\n",
       "        -8.5112e+00,  7.5152e+00,  6.8752e-01,  2.2495e+01, -3.4753e+00,\n",
       "         1.1591e+01,  1.2287e+01,  3.0816e+01, -2.9250e+01,  9.0856e+00,\n",
       "         3.2722e+01,  1.2729e+00, -7.1153e+00,  1.6321e+01,  1.9058e+00,\n",
       "        -1.6137e+00, -1.3589e+01,  7.1687e+00,  9.7904e+00,  3.8003e+00,\n",
       "         1.2746e+00, -2.6729e+00, -5.7897e+00,  9.0566e+00, -4.7699e+00,\n",
       "         4.1427e+01, -1.4399e+01, -3.5493e+00, -5.4096e+00, -2.5736e+01,\n",
       "        -5.2751e+00,  6.6041e-01, -5.4405e-02, -4.5532e+00,  2.1965e+01,\n",
       "        -5.7323e+00,  7.0415e+00,  1.2850e+01,  1.4703e+01,  3.3426e+00,\n",
       "         1.4768e+01, -6.9452e+00,  2.6123e+00, -1.3255e+01, -1.0386e+01,\n",
       "         3.7233e-01, -7.0201e+00,  2.7005e+00,  7.1828e+00, -1.2331e+01,\n",
       "        -1.5201e+01, -2.0686e+01, -7.2484e+00, -1.6460e-01, -1.0897e+01,\n",
       "        -5.8198e+00,  2.3067e+01,  1.1633e+01, -2.9498e+01,  3.8554e+01,\n",
       "         9.2113e+00, -2.1630e+01,  4.5529e+01, -1.5601e+01,  6.0752e+00,\n",
       "         1.9775e+01, -1.6298e+01,  1.3881e+01, -2.1766e+01,  1.6677e+01,\n",
       "         1.0826e+00,  1.4517e+01,  1.9034e+01, -9.8665e+00, -8.9763e+00,\n",
       "         1.6541e+00, -1.4279e+01,  1.6756e+00, -6.2367e+00, -4.0510e+00,\n",
       "        -2.9958e+01, -1.0645e+01, -1.0021e+01,  2.1622e+01, -5.7329e-01,\n",
       "        -1.0014e+01, -2.0205e+01,  2.1551e+01, -1.1802e+01, -1.6572e+01,\n",
       "        -1.6399e+01,  3.9374e+01, -5.4077e+00,  1.5215e+01, -1.4527e+01,\n",
       "        -1.0852e+01,  1.0507e+00,  2.4051e+01,  4.2048e+00,  1.1492e+01,\n",
       "        -1.2314e+01, -1.8277e+01, -7.8660e+00,  1.7268e+01, -2.3242e+01,\n",
       "        -1.5966e+01, -6.8679e+00,  2.6505e+00,  1.5553e+01, -2.4817e+00,\n",
       "        -2.0366e-01, -5.0961e+00,  4.4898e+00,  6.2633e+00, -1.0190e+01,\n",
       "         6.3140e+00,  2.7501e+01, -3.8668e+00,  2.4128e+01, -2.1466e+00,\n",
       "        -2.8870e+01,  3.3936e+01,  1.7897e+01, -1.3305e+01, -3.2851e+00,\n",
       "        -6.8052e+00], device='cuda:0', grad_fn=<SubBackward0>)"
      ]
     },
     "execution_count": 148,
     "metadata": {},
     "output_type": "execute_result"
    }
   ],
   "source": [
    "ynback"
   ]
  },
  {
   "cell_type": "code",
   "execution_count": 472,
   "id": "29ec01b1",
   "metadata": {},
   "outputs": [
    {
     "data": {
      "image/png": "[encoded data removed]",
      "text/plain": [
       "<Figure size 432x288 with 1 Axes>"
      ]
     },
     "metadata": {
      "needs_background": "light"
     },
     "output_type": "display_data"
    }
   ],
   "source": [
    "idcs = torch.argsort(var[trainIdcs])\n",
    "\n",
    "plt.plot(var[trainIdcs][idcs].detach().cpu().numpy(), label='Age')\n",
    "plt.plot(res[0][idcs].detach().cpu().numpy(), label='Nback')\n",
    "plt.plot(res[1][idcs].detach().cpu().numpy(), label='Emoid')\n",
    "plt.legend()\n",
    "plt.show()"
   ]
  },
  {
   "cell_type": "code",
   "execution_count": 356,
   "id": "779e357d",
   "metadata": {},
   "outputs": [
    {
     "name": "stdout",
     "output_type": "stream",
     "text": [
      "tensor([[ 0.1554,  0.4813, -0.5282,  ..., -0.6564,  0.4877,  0.0632],\n",
      "        [ 0.4813,  1.4907, -1.6360,  ..., -2.0330,  1.5106,  0.1958],\n",
      "        [-0.5282, -1.6360,  1.7953,  ...,  2.2311, -1.6578, -0.2148],\n",
      "        ...,\n",
      "        [-0.6564, -2.0330,  2.2311,  ...,  2.7726, -2.0601, -0.2670],\n",
      "        [ 0.4877,  1.5106, -1.6578,  ..., -2.0601,  1.5308,  0.1984],\n",
      "        [ 0.0632,  0.1958, -0.2148,  ..., -0.2670,  0.1984,  0.0257]],\n",
      "       device='cuda:0', grad_fn=<AddBackward0>)\n"
     ]
    }
   ],
   "source": [
    "Y, _, E = sim.getLatentsAndEdges(Xt[:,1,:], 1)\n",
    "print(E)"
   ]
  },
  {
   "cell_type": "code",
   "execution_count": 33,
   "id": "b1c0e097",
   "metadata": {},
   "outputs": [
    {
     "name": "stdout",
     "output_type": "stream",
     "text": [
      "0.008872284607030753\n"
     ]
    }
   ],
   "source": [
    "import scipy.stats\n",
    "\n",
    "a = (29.36062431,\n",
    "34.29428101,\n",
    "30.47612381,\n",
    "28.52052307,\n",
    "29.08536339,\n",
    "27.48115158,\n",
    "31.54662895,\n",
    "29.66555786,\n",
    "28.01536369,\n",
    "29.347435)\n",
    "\n",
    "b = (32.66127014,\n",
    "34.82040024,\n",
    "28.67077827,\n",
    "30.07994843,\n",
    "31.85699081,\n",
    "29.12542152,\n",
    "32.9060936,\n",
    "32.40882492,\n",
    "29.05584908,\n",
    "33.08743286)\n",
    "\n",
    "_, p = scipy.stats.ttest_rel(a, b)\n",
    "print(p)"
   ]
  },
  {
   "cell_type": "code",
   "execution_count": null,
   "id": "a3ee6e3f",
   "metadata": {},
   "outputs": [],
   "source": []
  }
 ],
 "metadata": {
  "kernelspec": {
   "display_name": "torch",
   "language": "python",
   "name": "torch"
  },
  "language_info": {
   "codemirror_mode": {
    "name": "ipython",
    "version": 3
   },
   "file_extension": ".py",
   "mimetype": "text/x-python",
   "name": "python",
   "nbconvert_exporter": "python",
   "pygments_lexer": "ipython3",
   "version": "3.7.12"
  }
 },
 "nbformat": 4,
 "nbformat_minor": 5
}
