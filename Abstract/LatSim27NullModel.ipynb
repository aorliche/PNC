{
 "cells": [
  {
   "cell_type": "code",
   "execution_count": 1,
   "id": "9462c92c",
   "metadata": {},
   "outputs": [
    {
     "name": "stdout",
     "output_type": "stream",
     "text": [
      "Complete\n"
     ]
    }
   ],
   "source": [
    "import pickle\n",
    "\n",
    "with open('../../PNC_Good/MegaMeta3.pkl', 'rb') as f: \n",
    "    meta = pickle.load(f)\n",
    "    \n",
    "print('Complete')"
   ]
  },
  {
   "cell_type": "code",
   "execution_count": 2,
   "id": "ef7fad4b",
   "metadata": {},
   "outputs": [
    {
     "name": "stdout",
     "output_type": "stream",
     "text": [
      "620\n",
      "620\n",
      "Complete\n"
     ]
    }
   ],
   "source": [
    "with open('../../Work/LatentSim/Splits.pkl', 'rb') as f:\n",
    "    keys, groups = pickle.load(f)\n",
    "    \n",
    "print(len(keys))\n",
    "print(len(groups[0][0])+len(groups[0][1]))\n",
    "print('Complete')"
   ]
  },
  {
   "cell_type": "code",
   "execution_count": 6,
   "id": "0b8f4424",
   "metadata": {},
   "outputs": [
    {
     "name": "stdout",
     "output_type": "stream",
     "text": [
      "15.699390882753704\n"
     ]
    }
   ],
   "source": [
    "import numpy as np\n",
    "\n",
    "wrat = []\n",
    "\n",
    "for key in keys:\n",
    "    wrat.append(meta[key]['wratStd'])\n",
    "    \n",
    "avg = sum(wrat)/len(wrat)\n",
    "wrat = np.array(wrat)\n",
    "\n",
    "print(np.mean((wrat-avg)**2)**0.5)"
   ]
  },
  {
   "cell_type": "code",
   "execution_count": 7,
   "id": "47114d81",
   "metadata": {},
   "outputs": [
    {
     "name": "stdout",
     "output_type": "stream",
     "text": [
      "0.4612903225806452\n",
      "0.5387096774193548\n"
     ]
    }
   ],
   "source": [
    "nmale = 0\n",
    "\n",
    "for key in keys:\n",
    "    if meta[key]['Gender'] == 'M':\n",
    "        nmale += 1\n",
    "        \n",
    "print(nmale/620)\n",
    "print((620-nmale)/620)"
   ]
  },
  {
   "cell_type": "code",
   "execution_count": 8,
   "id": "28eeac76",
   "metadata": {},
   "outputs": [
    {
     "name": "stdout",
     "output_type": "stream",
     "text": [
      "13.893855627138473\n",
      "15.672879820928596\n",
      "13.181968805498549\n",
      "16.847336549391677\n",
      "14.577479981955863\n",
      "15.567403776099107\n",
      "16.8955117969476\n",
      "16.367133030565892\n",
      "16.537023916997455\n",
      "17.058994724515138\n"
     ]
    }
   ],
   "source": [
    "import numpy as np\n",
    "\n",
    "for i,group in enumerate(groups):\n",
    "    rg = group[0]\n",
    "    tg = group[1]\n",
    "    avg = []\n",
    "    for j,idx in enumerate(rg):\n",
    "        avg.append(int(meta[keys[idx]]['wratStd']))\n",
    "    avg = sum(avg)/len(avg)\n",
    "    err = []\n",
    "    for j,idx in enumerate(tg):\n",
    "        err.append(int(meta[keys[idx]]['wratStd'])-avg)\n",
    "    print(np.mean(np.array(err)**2)**0.5)"
   ]
  },
  {
   "cell_type": "code",
   "execution_count": null,
   "id": "a3a31215",
   "metadata": {},
   "outputs": [],
   "source": []
  }
 ],
 "metadata": {
  "kernelspec": {
   "display_name": "torch",
   "language": "python",
   "name": "torch"
  },
  "language_info": {
   "codemirror_mode": {
    "name": "ipython",
    "version": 3
   },
   "file_extension": ".py",
   "mimetype": "text/x-python",
   "name": "python",
   "nbconvert_exporter": "python",
   "pygments_lexer": "ipython3",
   "version": "3.7.12"
  }
 },
 "nbformat": 4,
 "nbformat_minor": 5
}
