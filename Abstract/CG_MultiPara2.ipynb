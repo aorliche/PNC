{
 "cells": [
  {
   "cell_type": "code",
   "execution_count": 1,
   "id": "94fc4543",
   "metadata": {},
   "outputs": [
    {
     "name": "stdout",
     "output_type": "stream",
     "text": [
      "593\n"
     ]
    }
   ],
   "source": [
    "import pickle\n",
    "\n",
    "# Load meta dict\n",
    "\n",
    "with open('../../PNC/AllSubjectsMeta.bin', 'rb') as f:\n",
    "    meta = pickle.load(f)\n",
    "    \n",
    "# Load rest subject ids and splits\n",
    "\n",
    "with open('../../Work/Abstract/PaperBin/AllThreeSplit.bin', 'rb') as f:\n",
    "    splits = pickle.load(f)\n",
    "    subids = splits['allThreeYesWrat']\n",
    "    groups = splits['groups']\n",
    "    \n",
    "print(len(subids))"
   ]
  },
  {
   "cell_type": "code",
   "execution_count": 2,
   "id": "46cc8936",
   "metadata": {},
   "outputs": [
    {
     "name": "stdout",
     "output_type": "stream",
     "text": [
      "Loading complete\n"
     ]
    }
   ],
   "source": [
    "import numpy as np\n",
    "\n",
    "subidsNp = np.array(subids)\n",
    "\n",
    "# Load timeseries\n",
    "\n",
    "def loadSeries(prefix, para, idx):\n",
    "    with open('{:}/{:}_fmri_power264/timeseries/{:}.bin'.format(prefix, para, idx), 'rb') as f:\n",
    "        return pickle.load(f)\n",
    "\n",
    "rest_ts = [loadSeries('../../PNC', 'rest', meta[subid]['rest']) for subid in subidsNp]\n",
    "nback_ts = [loadSeries('../../PNC', 'nback', meta[subid]['nback']) for subid in subidsNp]\n",
    "emoid_ts = [loadSeries('../../PNC', 'emoid', meta[subid]['emoid']) for subid in subidsNp]\n",
    "\n",
    "print('Loading complete')"
   ]
  },
  {
   "cell_type": "code",
   "execution_count": 3,
   "id": "c1288752",
   "metadata": {},
   "outputs": [
    {
     "name": "stdout",
     "output_type": "stream",
     "text": [
      "Complete\n"
     ]
    }
   ],
   "source": [
    "import numpy as np\n",
    "\n",
    "def normalizeSubjects(subjects):\n",
    "    for i in range(len(subjects)):\n",
    "        subj = subjects[i]\n",
    "        subj -= np.mean(subj, axis=1, keepdims=True)@np.ones([1,subj.shape[1]])\n",
    "        subj /= np.std(subj, axis=1, keepdims=True)@np.ones([1,subj.shape[1]])\n",
    "        if np.sum(np.isnan(subj)) > 0:\n",
    "            print(i)\n",
    "        if np.sum(np.isinf(subj)) > 0:\n",
    "            print(i)\n",
    "\n",
    "normalizeSubjects(rest_ts)\n",
    "normalizeSubjects(nback_ts)\n",
    "normalizeSubjects(emoid_ts)\n",
    "\n",
    "print('Complete')"
   ]
  },
  {
   "cell_type": "code",
   "execution_count": 4,
   "id": "81f316da",
   "metadata": {},
   "outputs": [
    {
     "name": "stdout",
     "output_type": "stream",
     "text": [
      "(593, 264, 264)\n",
      "Complete\n"
     ]
    }
   ],
   "source": [
    "# Calculate pearson matrices\n",
    "\n",
    "rest_p = np.stack([np.corrcoef(sub) for sub in rest_ts])\n",
    "nback_p = np.stack([np.corrcoef(sub) for sub in nback_ts])\n",
    "emoid_p = np.stack([np.corrcoef(sub) for sub in emoid_ts])\n",
    "\n",
    "print(rest_p.shape)\n",
    "print('Complete')"
   ]
  },
  {
   "cell_type": "code",
   "execution_count": 5,
   "id": "fcb493ec",
   "metadata": {},
   "outputs": [
    {
     "name": "stdout",
     "output_type": "stream",
     "text": [
      "271 322\n",
      "[[223   1   0]\n",
      " [190   0   1]\n",
      " [197   0   1]\n",
      " [145   1   0]\n",
      " [148   0   1]\n",
      " [142   0   1]\n",
      " [123   1   0]\n",
      " [176   1   0]\n",
      " [129   0   1]\n",
      " [173   1   0]]\n",
      "Complete\n"
     ]
    }
   ],
   "source": [
    "# Create feature vectors (right now just ages, maleness, and femaless)\n",
    "\n",
    "males = 0\n",
    "females = 0\n",
    "\n",
    "X_all = []\n",
    "for subid in subidsNp:\n",
    "    subj = meta[subid]\n",
    "    maleness = 1 if subj['meta']['Gender'] == 'M' else 0\n",
    "    femaleness = 1 if maleness == 0 else 0\n",
    "    feat = np.array([subj['meta']['AgeInMonths'], maleness, femaleness])\n",
    "    X_all.append(feat)\n",
    "    if maleness == 1:\n",
    "        males += 1\n",
    "    if femaleness == 1:\n",
    "        females += 1\n",
    "X_all = np.vstack(X_all)\n",
    "\n",
    "print(f'{males} {females}')\n",
    "print(X_all[10:20])\n",
    "print('Complete')"
   ]
  },
  {
   "cell_type": "code",
   "execution_count": 6,
   "id": "fe26bc7c",
   "metadata": {},
   "outputs": [
    {
     "name": "stdout",
     "output_type": "stream",
     "text": [
      "torch.Size([593, 34716])\n",
      "torch.Size([593, 34716])\n",
      "torch.Size([593, 34716])\n",
      "Complete\n"
     ]
    }
   ],
   "source": [
    "import torch\n",
    "\n",
    "def convertTorch(p):\n",
    "    t = torch.from_numpy(p).float()\n",
    "    u = []\n",
    "    for i in range(t.shape[0]):\n",
    "        u.append(t[i][torch.triu_indices(264,264,offset=1).unbind()])\n",
    "    return torch.stack(u).cuda()\n",
    "\n",
    "def normalizeP(p):\n",
    "    return p - torch.mean(p, dim=1, keepdim=True)\n",
    "\n",
    "rest_p_t = convertTorch(rest_p)\n",
    "nback_p_t = convertTorch(nback_p)\n",
    "emoid_p_t = convertTorch(emoid_p)\n",
    "\n",
    "rest_p_t = normalizeP(rest_p_t)\n",
    "nback_p_t = normalizeP(nback_p_t)\n",
    "emoid_p_t = normalizeP(emoid_p_t)\n",
    "\n",
    "print(rest_p_t.shape)\n",
    "print(nback_p_t.shape)\n",
    "print(emoid_p_t.shape)\n",
    "print('Complete')"
   ]
  },
  {
   "cell_type": "code",
   "execution_count": 7,
   "id": "0c763bd5",
   "metadata": {},
   "outputs": [
    {
     "name": "stdout",
     "output_type": "stream",
     "text": [
      "Complete\n"
     ]
    }
   ],
   "source": [
    "wratDict = dict()\n",
    "\n",
    "with open('../../PNC/wrat.csv', 'r') as f:\n",
    "    lines = f.readlines()[1:]\n",
    "    for line in lines:\n",
    "        line = line.strip().split(',')\n",
    "        wratDict[line[0]] = {'raw': line[2], 'std': line[3]}\n",
    "\n",
    "wrat = []\n",
    "\n",
    "for key in subids:\n",
    "    wrat.append(float(wratDict[str(key)]['std']))\n",
    "    \n",
    "wrat = np.array(wrat)\n",
    "wrat_t = torch.from_numpy(wrat).float().cuda()\n",
    "\n",
    "print('Complete')"
   ]
  },
  {
   "cell_type": "code",
   "execution_count": 8,
   "id": "cfe5184d",
   "metadata": {},
   "outputs": [
    {
     "name": "stdout",
     "output_type": "stream",
     "text": [
      "Complete\n"
     ]
    }
   ],
   "source": [
    "import torch.nn as nn\n",
    "import torch.nn.functional as F\n",
    "from itertools import permutations\n",
    "\n",
    "def makePoly(ps, nPoly):\n",
    "    pps = []\n",
    "    for i in range(ps.shape[0]):\n",
    "        p = ps[i].flatten()\n",
    "        pp = nPoly*[None]\n",
    "        for j in range(nPoly):\n",
    "            pp[j] = p**(j+1)\n",
    "        pps.append(torch.stack(pp))\n",
    "    return torch.stack(pps)\n",
    "\n",
    "def arith(n):\n",
    "    return int(n*(n+1)/2)\n",
    "\n",
    "def mask(e):\n",
    "    return e - torch.diag(torch.diag(e.detach()))\n",
    "\n",
    "class PgiDiff(nn.Module):\n",
    "    def __init__(self, w, nPara, nTgts, dp=0.5, dp2=0.1):\n",
    "        super(PgiDiff, self).__init__()\n",
    "        self.nPara = nPara\n",
    "        self.nTgts = nTgts\n",
    "        self.masks = []\n",
    "        if type(w) == int:\n",
    "            w = (nTgts+1)*[w]\n",
    "        for i in range(nTgts+1):\n",
    "            self.masks.append(nn.Parameter(\n",
    "                1e-4*torch.randn(nPara,arith(263),w[i]).float().cuda()\n",
    "            ))\n",
    "        self.dp = nn.Dropout(p=dp)\n",
    "        self.dp2 = nn.Dropout(p=dp2)\n",
    "    \n",
    "    def getLatentsAndEdges(self, x, i, univ):\n",
    "        if univ:\n",
    "            y = torch.einsum('abc,bce->ae', x, self.masks[0])\n",
    "            z = torch.einsum('abc,bce->ae', x, self.masks[i+1])\n",
    "            e = y@z.T+z@y.T\n",
    "            return y, z, e\n",
    "        else:\n",
    "            y = torch.einsum('abc,bce->ae', x, self.masks[i])\n",
    "            e = y@y.T\n",
    "            return y, y, e\n",
    "        \n",
    "    def forward(self, x, y, testIdcs=None, univ=True):\n",
    "        x = self.dp(x)\n",
    "        res = []\n",
    "        for i in range(self.nTgts):\n",
    "#             j = int(i/2)\n",
    "            _, _, e = self.getLatentsAndEdges(x[:,i:i+1,:], i, univ)\n",
    "            if testIdcs is not None:\n",
    "                e[:,testIdcs] = 0\n",
    "            e = self.dp2(e)\n",
    "            e = mask(e)\n",
    "            e[e == 0] = float('-inf')\n",
    "            e = 1.2*F.softmax(e, dim=1)\n",
    "            e = e*y[i].unsqueeze(0)\n",
    "            res.append(torch.sum(e, dim=1))\n",
    "        return res\n",
    "        \n",
    "print('Complete')"
   ]
  },
  {
   "cell_type": "code",
   "execution_count": 90,
   "id": "1d00788d",
   "metadata": {},
   "outputs": [
    {
     "name": "stdout",
     "output_type": "stream",
     "text": [
      "epoch 0 loss=(257.52801513671875, 257.3184509277344, 257.33197021484375, 0.0)\n",
      "Early stopping\n",
      "Finished training\n",
      "0 (14.396865844726562, 14.47200870513916, 13.913311004638672)\n"
     ]
    }
   ],
   "source": [
    "ceLoss = torch.nn.CrossEntropyLoss()\n",
    "mseLoss = torch.nn.MSELoss()\n",
    "nEpochs = 2000\n",
    "pPeriod = 200\n",
    "thresh = torch.Tensor((20,20,10)).float().cuda()\n",
    "\n",
    "para = [nback_p_t, emoid_p_t]\n",
    "    \n",
    "rmse = []\n",
    "\n",
    "def xform(data, stats=None, fwd=True):\n",
    "    if stats is None:\n",
    "        mu = torch.mean(data, dim=0, keepdim=True)\n",
    "        sd = torch.std(data, dim=0, keepdim=True)\n",
    "        return (mu, sd)\n",
    "    elif fwd:\n",
    "        return (data - stats[0])/stats[1]\n",
    "    else:\n",
    "        return data*stats[1] + stats[0]\n",
    "\n",
    "for i in range(1):\n",
    "    pgigcn = PgiDiff(100, len(para), 2, 0.5, 0.2)\n",
    "    optim = torch.optim.Adam(pgigcn.masks, lr=2e-5, weight_decay=2e-5)\n",
    "\n",
    "    trainIdcs = groups[i][0]\n",
    "    testIdcs = groups[i][1]\n",
    "    \n",
    "    X = torch.stack(para, dim=1)\n",
    "    X = X[trainIdcs]\n",
    "    Y = torch.from_numpy(X_all[trainIdcs]).float().cuda()\n",
    "    \n",
    "    gen = Y[:,1:]\n",
    "    wrt = wrat_t[trainIdcs]\n",
    "    age = Y[:,0]\n",
    "    \n",
    "    # Normalize dataset\n",
    "    statsGen = xform(gen)\n",
    "    statsWrt = xform(wrt)\n",
    "    statsAge = xform(age)\n",
    "    \n",
    "    # Transformed\n",
    "    genT = xform(gen, statsGen)\n",
    "    wrtT = xform(wrt, statsWrt)\n",
    "    ageT = xform(age, statsAge)\n",
    "    \n",
    "#     y = torch.cat([ageT.unsqueeze(1), genT, wrtT.unsqueeze(1)], dim=1).T\n",
    "    y = torch.cat([wrtT.unsqueeze(1), wrtT.unsqueeze(1)], dim=1).T\n",
    "    \n",
    "    for epoch in range(nEpochs):\n",
    "        optim.zero_grad()\n",
    "        res = pgigcn(X, y, univ=False)\n",
    "        avg = (res[0]+res[1])/2\n",
    "        loss0 = mseLoss(xform(res[0], statsWrt, fwd=False), wrt)\n",
    "        loss1 = mseLoss(xform(res[1], statsWrt, fwd=False), wrt)\n",
    "        loss2 = mseLoss(xform(avg, statsWrt, fwd=False), wrt)\n",
    "        if epoch > 25:\n",
    "            lossR = 2e-1*torch.sum(torch.abs(pgigcn.masks[0]))+2e-1*torch.sum(torch.abs(pgigcn.masks[1]))\n",
    "        else:\n",
    "            lossR = 0*loss0\n",
    "#         loss0 = ceLoss(torch.stack([res[0], res[1]], dim=1), gen)\n",
    "#         loss1 = 0*ceLoss(torch.stack([res[2], res[3]], dim=1), gen)\n",
    "#         loss2 = 0*ceLoss(torch.stack([avg0, avg1], dim=1), gen)\n",
    "#         lossR = 8e1*torch.mean(torch.abs(torch.cat(pgigcn.masks[1:2]))) + 2e1*torch.mean((pgigcn.masks[1]-pgigcn.masks[2])**2)**0.5#torch.mean(torch.abs(torch.cat(pgigcn.masks[3:4])))\n",
    "        loss = torch.stack([loss0, loss1, loss2, lossR])\n",
    "        torch.sum(loss).backward()\n",
    "        optim.step()\n",
    "        if (epoch % pPeriod == 0 or epoch == nEpochs-1):\n",
    "            print(f'epoch {epoch} loss={(float(loss0), float(loss1), float(loss2), float(lossR))}')\n",
    "        if torch.all(loss[0:3] < thresh):\n",
    "            print('Early stopping')\n",
    "            break\n",
    "            \n",
    "    print('Finished training')\n",
    "    \n",
    "    pgigcn.eval()\n",
    "    \n",
    "    X = torch.stack(para, dim=1)\n",
    "    Y = torch.from_numpy(X_all).float().cuda()\n",
    "        \n",
    "    gen = Y[:,1:]\n",
    "    wrt = wrat_t\n",
    "    age = Y[:,0]\n",
    "    \n",
    "    # Transformed\n",
    "    genT = xform(gen, statsGen)\n",
    "    wrtT = xform(wrt, statsWrt)\n",
    "    ageT = xform(age, statsAge)\n",
    "    \n",
    "#     y = torch.cat([ageT.unsqueeze(1), genT, wrtT.unsqueeze(1)], dim=1).T\n",
    "    y = torch.cat([wrtT.unsqueeze(1), wrtT.unsqueeze(1)], dim=1).T\n",
    "    \n",
    "    with torch.no_grad():\n",
    "        res = pgigcn(X, y, testIdcs, univ=False)\n",
    "        avg = (res[0]+res[1])/2\n",
    "        loss0 = mseLoss(xform(res[0][testIdcs].detach(), statsWrt, fwd=False), wrt[testIdcs]).cpu().numpy()**0.5\n",
    "        loss1 = mseLoss(xform(res[1][testIdcs].detach(), statsWrt, fwd=False), wrt[testIdcs]).cpu().numpy()**0.5\n",
    "        loss2 = mseLoss(xform(avg[testIdcs].detach(), statsWrt, fwd=False), wrt[testIdcs]).cpu().numpy()**0.5\n",
    "#         loss0 = torch.sum(torch.argmax(torch.stack([res[0], res[1]], dim=1).detach(), dim=1)[testIdcs] \n",
    "#                          == torch.argmax(gen[testIdcs], dim=1))/testIdcs.shape[0]\n",
    "#         loss1 = torch.sum(torch.argmax(torch.stack([res[2], res[3]], dim=1).detach(), dim=1)[testIdcs] \n",
    "#                          == torch.argmax(gen[testIdcs], dim=1))/testIdcs.shape[0]\n",
    "#         loss2 = torch.sum(torch.argmax(torch.stack([avg0, avg1], dim=1).detach(), dim=1)[testIdcs] \n",
    "#                          == torch.argmax(gen[testIdcs], dim=1))/testIdcs.shape[0]\n",
    "\n",
    "        rmse.append((float(loss0), float(loss1), float(loss2)))\n",
    "        \n",
    "    print(i, end=' ')\n",
    "    print(rmse[-1])"
   ]
  },
  {
   "cell_type": "code",
   "execution_count": 81,
   "id": "0d03414f",
   "metadata": {},
   "outputs": [
    {
     "name": "stdout",
     "output_type": "stream",
     "text": [
      "13.736549377441406\n",
      "15.420135498046875\n",
      "16.525074005126953\n",
      "14.657618522644043\n",
      "13.294923782348633\n",
      "13.886293411254883\n",
      "15.754982948303223\n",
      "13.224393844604492\n",
      "15.466911315917969\n",
      "10.983988761901855\n",
      "\n",
      "14.765077781677245\n",
      "15.008960151672364\n",
      "14.295087146759034\n"
     ]
    }
   ],
   "source": [
    "for a,b,c in rmse:\n",
    "    print(c)\n",
    "\n",
    "print()\n",
    "print(np.mean(np.array([a for a,b,c in rmse])))\n",
    "print(np.mean(np.array([b for a,b,c in rmse])))\n",
    "print(np.mean(np.array([c for a,b,c in rmse])))"
   ]
  },
  {
   "cell_type": "code",
   "execution_count": 19,
   "id": "5fddd856",
   "metadata": {},
   "outputs": [
    {
     "data": {
      "text/plain": [
       "2.0691666666666664"
      ]
     },
     "execution_count": 19,
     "metadata": {},
     "output_type": "execute_result"
    }
   ],
   "source": [
    "24.83/12"
   ]
  },
  {
   "cell_type": "code",
   "execution_count": 96,
   "id": "6cae1f3d",
   "metadata": {},
   "outputs": [
    {
     "data": {
      "text/plain": [
       "<matplotlib.legend.Legend at 0x7f4bab1b5ed0>"
      ]
     },
     "execution_count": 96,
     "metadata": {},
     "output_type": "execute_result"
    },
    {
     "data": {
      "image/png": "[encoded data removed]",
      "text/plain": [
       "<Figure size 432x288 with 1 Axes>"
      ]
     },
     "metadata": {
      "needs_background": "light"
     },
     "output_type": "display_data"
    }
   ],
   "source": [
    "import matplotlib.pyplot as plt\n",
    "\n",
    "for i in range(0,5):\n",
    "    m0 = pgigcn.masks[0][0].detach().cpu().numpy()\n",
    "\n",
    "    plt.hist(m0[:,i], label=f'{i}', histtype='step', bins=50)\n",
    "    plt.plot()\n",
    "    \n",
    "plt.legend()"
   ]
  },
  {
   "cell_type": "code",
   "execution_count": 76,
   "id": "9ea80b19",
   "metadata": {},
   "outputs": [
    {
     "data": {
      "text/plain": [
       "tensor(0, device='cuda:0')"
      ]
     },
     "execution_count": 76,
     "metadata": {},
     "output_type": "execute_result"
    }
   ],
   "source": [
    "torch.sum(pgigcn.masks[0] == 0)"
   ]
  },
  {
   "cell_type": "code",
   "execution_count": 106,
   "id": "69641753",
   "metadata": {},
   "outputs": [
    {
     "data": {
      "text/plain": [
       "[]"
      ]
     },
     "execution_count": 106,
     "metadata": {},
     "output_type": "execute_result"
    },
    {
     "data": {
      "image/png": "[encoded data removed]",
      "text/plain": [
       "<Figure size 432x288 with 1 Axes>"
      ]
     },
     "metadata": {
      "needs_background": "light"
     },
     "output_type": "display_data"
    }
   ],
   "source": [
    "plt.hist(pgigcn.masks[0][0][:,4].detach().cpu().numpy(), bins=50)\n",
    "plt.plot()"
   ]
  },
  {
   "cell_type": "code",
   "execution_count": null,
   "id": "04cdeb41",
   "metadata": {},
   "outputs": [],
   "source": []
  }
 ],
 "metadata": {
  "kernelspec": {
   "display_name": "torch",
   "language": "python",
   "name": "torch"
  },
  "language_info": {
   "codemirror_mode": {
    "name": "ipython",
    "version": 3
   },
   "file_extension": ".py",
   "mimetype": "text/x-python",
   "name": "python",
   "nbconvert_exporter": "python",
   "pygments_lexer": "ipython3",
   "version": "3.7.12"
  }
 },
 "nbformat": 4,
 "nbformat_minor": 5
}
