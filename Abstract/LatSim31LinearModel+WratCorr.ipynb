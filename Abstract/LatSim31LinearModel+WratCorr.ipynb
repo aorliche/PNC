{
 "cells": [
  {
   "cell_type": "markdown",
   "id": "e5c7893f",
   "metadata": {},
   "source": [
    "# Linear model: Elastic Net\n",
    "\n",
    "Reviewer 1 asked me to make comparison with simple linear model."
   ]
  },
  {
   "cell_type": "code",
   "execution_count": 2,
   "id": "9f4ff0b2",
   "metadata": {},
   "outputs": [
    {
     "name": "stdout",
     "output_type": "stream",
     "text": [
      "Complete\n"
     ]
    }
   ],
   "source": [
    "import pickle\n",
    "\n",
    "with open('../../PNC_Good/MegaMeta3.pkl', 'rb') as f: \n",
    "    meta = pickle.load(f)\n",
    "    \n",
    "print('Complete')"
   ]
  },
  {
   "cell_type": "code",
   "execution_count": 3,
   "id": "50080a0a",
   "metadata": {},
   "outputs": [
    {
     "name": "stdout",
     "output_type": "stream",
     "text": [
      "620\n",
      "620\n",
      "Complete\n"
     ]
    }
   ],
   "source": [
    "with open('../../Work/LatentSim/Splits.pkl', 'rb') as f:\n",
    "    keys, groups = pickle.load(f)\n",
    "    \n",
    "print(len(keys))\n",
    "print(len(groups[0][0])+len(groups[0][1]))\n",
    "print('Complete')"
   ]
  },
  {
   "cell_type": "code",
   "execution_count": 4,
   "id": "58118fa6",
   "metadata": {},
   "outputs": [
    {
     "name": "stdout",
     "output_type": "stream",
     "text": [
      "(620, 264, 231)\n",
      "(620, 264, 210)\n"
     ]
    }
   ],
   "source": [
    "import numpy as np\n",
    "\n",
    "nback = np.stack([meta[key]['nback'] for key in keys])\n",
    "emoid = np.stack([meta[key]['emoid'] for key in keys])\n",
    "\n",
    "print(nback.shape)\n",
    "print(emoid.shape)"
   ]
  },
  {
   "cell_type": "code",
   "execution_count": 5,
   "id": "789e0e85",
   "metadata": {},
   "outputs": [
    {
     "name": "stdout",
     "output_type": "stream",
     "text": [
      "(620, 264, 264)\n"
     ]
    }
   ],
   "source": [
    "from nilearn.connectome import ConnectivityMeasure\n",
    "\n",
    "def getFC(timeSeries, kind='correlation', transpose=True):\n",
    "    connMeasure = ConnectivityMeasure(kind=kind)\n",
    "    if transpose:\n",
    "        timeSeries = np.transpose(timeSeries, axes=(0,2,1))\n",
    "    return connMeasure.fit_transform(timeSeries)\n",
    "\n",
    "nback_p = getFC(nback)\n",
    "emoid_p = getFC(emoid)\n",
    "\n",
    "print(nback_p.shape)"
   ]
  },
  {
   "cell_type": "code",
   "execution_count": 6,
   "id": "0acfb43e",
   "metadata": {},
   "outputs": [
    {
     "name": "stdout",
     "output_type": "stream",
     "text": [
      "torch.Size([620, 264, 264])\n"
     ]
    }
   ],
   "source": [
    "import torch\n",
    "\n",
    "nback_pp_t = torch.from_numpy(nback_p).float().cuda()\n",
    "emoid_pp_t = torch.from_numpy(emoid_p).float().cuda()\n",
    "\n",
    "print(emoid_pp_t.shape)"
   ]
  },
  {
   "cell_type": "code",
   "execution_count": 7,
   "id": "a7816bf5",
   "metadata": {},
   "outputs": [
    {
     "name": "stdout",
     "output_type": "stream",
     "text": [
      "torch.Size([620, 34716])\n",
      "torch.Size([620, 34716])\n",
      "Complete\n"
     ]
    }
   ],
   "source": [
    "import torch\n",
    "\n",
    "def convertTorch(p):\n",
    "    t = torch.from_numpy(p).float()\n",
    "    u = []\n",
    "    for i in range(t.shape[0]):\n",
    "        u.append(t[i][torch.triu_indices(264,264,offset=1).unbind()])\n",
    "    return torch.stack(u).cuda()\n",
    "\n",
    "nback_p_t = convertTorch(nback_p)\n",
    "emoid_p_t = convertTorch(emoid_p)\n",
    "\n",
    "print(nback_p_t.shape)\n",
    "print(emoid_p_t.shape)\n",
    "print('Complete')"
   ]
  },
  {
   "cell_type": "code",
   "execution_count": 8,
   "id": "f1817d03",
   "metadata": {},
   "outputs": [
    {
     "name": "stdout",
     "output_type": "stream",
     "text": [
      "Norm complete\n"
     ]
    }
   ],
   "source": [
    "mu_nback = torch.mean(nback_p_t, dim=0, keepdim=True)\n",
    "mu_emoid = torch.mean(emoid_p_t, dim=0, keepdim=True)\n",
    "std_nback = torch.std(nback_p_t, dim=0, keepdim=True)\n",
    "std_emoid = torch.std(emoid_p_t, dim=0, keepdim=True)\n",
    "\n",
    "nback_p_t = (nback_p_t - mu_nback)/std_nback\n",
    "emoid_p_t = (emoid_p_t - mu_emoid)/std_emoid\n",
    "\n",
    "print('Norm complete')"
   ]
  },
  {
   "cell_type": "code",
   "execution_count": 9,
   "id": "fe2c9cb7",
   "metadata": {},
   "outputs": [
    {
     "name": "stdout",
     "output_type": "stream",
     "text": [
      "torch.return_types.min(\n",
      "values=tensor([-2.2998, -3.0133], device='cuda:0'),\n",
      "indices=tensor([603, 350], device='cuda:0'))\n",
      "torch.return_types.min(\n",
      "values=tensor([-2.7284, -3.0616], device='cuda:0'),\n",
      "indices=tensor([351,  33], device='cuda:0'))\n"
     ]
    }
   ],
   "source": [
    "print(torch.min(nback_p_t[:,420:422],dim=0))\n",
    "print(torch.min(emoid_p_t[:,420:422],dim=0))"
   ]
  },
  {
   "cell_type": "code",
   "execution_count": 10,
   "id": "a8faf326",
   "metadata": {},
   "outputs": [
    {
     "name": "stdout",
     "output_type": "stream",
     "text": [
      "(620,)\n",
      "(620, 2)\n",
      "(620,)\n"
     ]
    }
   ],
   "source": [
    "age = np.stack([meta[key]['AgeInMonths'] for key in keys])\n",
    "gen = np.stack([np.array([meta[key]['Gender'] == 'M', meta[key]['Gender'] == 'F']) for key in keys]).astype(int)\n",
    "wrt = np.stack([meta[key]['wratStd'] for key in keys])\n",
    "\n",
    "print(age.shape)\n",
    "print(gen.shape)\n",
    "print(wrt.shape)"
   ]
  },
  {
   "cell_type": "code",
   "execution_count": 11,
   "id": "5f43d328",
   "metadata": {},
   "outputs": [
    {
     "name": "stdout",
     "output_type": "stream",
     "text": [
      "Complete\n"
     ]
    }
   ],
   "source": [
    "age_t = torch.from_numpy(age).float().cuda()\n",
    "gen_t = torch.from_numpy(gen).float().cuda()\n",
    "wrt_t = torch.from_numpy(wrt).float().cuda()\n",
    "\n",
    "print('Complete')"
   ]
  },
  {
   "cell_type": "code",
   "execution_count": 12,
   "id": "511ca80c",
   "metadata": {},
   "outputs": [
    {
     "name": "stdout",
     "output_type": "stream",
     "text": [
      "Complete\n"
     ]
    }
   ],
   "source": [
    "import sys\n",
    "\n",
    "sys.path.append('../../LatentSimilarity')\n",
    "\n",
    "from latsim import LatSim\n",
    "\n",
    "print('Complete')"
   ]
  },
  {
   "cell_type": "code",
   "execution_count": 30,
   "id": "f1beb72a",
   "metadata": {},
   "outputs": [
    {
     "name": "stdout",
     "output_type": "stream",
     "text": [
      "0 [266.8812255859375, 0.0] [0.0001]\n",
      "50 [14.992171287536621, 0.0] [0.0001]\n",
      "99 [9.056427955627441, 0.0] [7.500000000000001e-05]\n",
      "tensor(13.7968, device='cuda:0', grad_fn=<PowBackward0>)\n",
      "0 [267.9695739746094, 0.0] [0.0001]\n",
      "50 [11.86994743347168, 0.0] [0.0001]\n",
      "99 [8.851895332336426, 0.0] [7.500000000000001e-05]\n",
      "tensor(13.7186, device='cuda:0', grad_fn=<PowBackward0>)\n",
      "tensor(13.5361, device='cuda:0')\n",
      "[[1.         0.42348294]\n",
      " [0.42348294 1.        ]]\n"
     ]
    }
   ],
   "source": [
    "import torch\n",
    "import torch.nn as nn\n",
    "\n",
    "mseLoss = nn.MSELoss()\n",
    "l1loss = 0\n",
    "verbose = True\n",
    "nepochs = 100\n",
    "pperiod = 50\n",
    "allres = []\n",
    "\n",
    "for mod in [nback_p_t, emoid_p_t]:\n",
    "    trainIdcs = groups[0][0][0:496]\n",
    "    testIdcs = groups[0][1]\n",
    "    x = nback_p_t.unsqueeze(1)\n",
    "    xtr = nback_p_t[trainIdcs].unsqueeze(1)\n",
    "    xt = nback_p_t[testIdcs].unsqueeze(1)\n",
    "    ytr = wrt_t[trainIdcs]\n",
    "    yt = wrt_t[testIdcs]\n",
    "    \n",
    "    sim = LatSim(1, xtr, dp=0.5, edp=0.1, wInit=1e-4, dim=2, temp=1)\n",
    "    optim = torch.optim.Adam(sim.parameters(), lr=1e-4, weight_decay=1e-4)\n",
    "    sched = torch.optim.lr_scheduler.ReduceLROnPlateau(optim, patience=10, factor=0.75, eps=1e-7)\n",
    "\n",
    "    for epoch in range(nepochs):\n",
    "        optim.zero_grad()\n",
    "        yhat = sim(xtr, [ytr])[0][0]\n",
    "        loss = mseLoss(yhat, ytr)\n",
    "        loss.backward()\n",
    "        optim.step()\n",
    "        sched.step(loss)\n",
    "        if verbose:\n",
    "            if epoch % pperiod == 0 or epoch == nepochs-1:\n",
    "                print(f'{epoch} {[float(l) for l in [loss, l1loss]]} {sched._last_lr}')\n",
    "    \n",
    "    res = sim(x, [wrt_t], testIdcs)[0][0][testIdcs]\n",
    "    ls = mseLoss(res, yt)**0.5\n",
    "    print(ls)\n",
    "    allres.append(res.detach())\n",
    "    \n",
    "res = sum(allres)/2\n",
    "ls = mseLoss(res, yt)**0.5\n",
    "print(ls)\n",
    "print(np.corrcoef(res.detach().cpu().numpy(), yt.detach().cpu().numpy()))"
   ]
  },
  {
   "cell_type": "code",
   "execution_count": null,
   "id": "c9728731",
   "metadata": {},
   "outputs": [],
   "source": [
    "import torch\n",
    "import torch.nn as nn\n",
    "import torch.nn.functional as F\n",
    "\n",
    "mseLoss = nn.MSELoss()\n",
    "ceLoss = nn.CrossEntropyLoss()\n",
    "\n",
    "class ElasticNet(nn.Module):\n",
    "    def __init__(self, nfeat, nout=1):\n",
    "        super(ElasticNet, self).__init__()\n",
    "        self.l1 = nn.Linear(nfeat, nout).float().cuda()\n",
    "        self.cls = nout > 1\n",
    "        \n",
    "    def train(self, xtr, ytr, nepochs=1000, lr=1e-1, l1=1e-1, l2=1e-4, pperiod=100, verbose=False):\n",
    "        optim = torch.optim.Adam(self.parameters(), lr=lr, weight_decay=l2)\n",
    "        sched = torch.optim.lr_scheduler.ReduceLROnPlateau(optim, patience=10, factor=0.75, eps=1e-7)\n",
    "        \n",
    "        for epoch in range(nepochs):\n",
    "            optim.zero_grad()\n",
    "            yhat = self(xtr)\n",
    "            if self.cls:\n",
    "                loss = ceLoss(yhat, ytr)\n",
    "            else:\n",
    "                loss = mseLoss(yhat, ytr)**0.5\n",
    "            l1loss = l1*torch.sum(torch.abs(self.l1.weight))\n",
    "            (loss+l1loss).backward()\n",
    "            optim.step()\n",
    "            sched.step(loss)\n",
    "            if verbose:\n",
    "                if epoch % pperiod == 0 or epoch == nepochs-1:\n",
    "                    print(f'{epoch} {[float(l) for l in [loss, l1loss]]} {sched._last_lr}')\n",
    "                    \n",
    "    def predict(self, xt, yt):\n",
    "        with torch.no_grad():\n",
    "            if self.cls:\n",
    "                return torch.argmax(self(xt), dim=-1)\n",
    "            else:\n",
    "                return mseLoss(self(xt), yt)**0.5\n",
    "                    \n",
    "    def forward(self, x):\n",
    "        return self.l1(x).squeeze()\n",
    "    \n",
    "print('Complete')"
   ]
  },
  {
   "cell_type": "code",
   "execution_count": 48,
   "id": "5ad868bb",
   "metadata": {},
   "outputs": [
    {
     "data": {
      "text/plain": [
       "10"
      ]
     },
     "execution_count": 48,
     "metadata": {},
     "output_type": "execute_result"
    }
   ],
   "source": [
    "len(groups)"
   ]
  },
  {
   "cell_type": "code",
   "execution_count": 91,
   "id": "b4d47b3f",
   "metadata": {},
   "outputs": [
    {
     "name": "stdout",
     "output_type": "stream",
     "text": [
      "0 [0.7008514404296875, 1.8692128658294678] [0.1]\n",
      "400 [0.3171605169773102, 0.6713947057723999] [1.004524257206333e-05]\n",
      "800 [0.31738588213920593, 0.6699857711791992] [3.181966398799364e-07]\n",
      "1200 [0.31748315691947937, 0.6694215536117554] [3.181966398799364e-07]\n",
      "1600 [0.31761300563812256, 0.6686912178993225] [3.181966398799364e-07]\n",
      "1999 [0.31777819991111755, 0.6677947044372559] [3.181966398799364e-07]\n",
      "0 [0.7010551691055298, 1.8515889644622803] [0.1]\n",
      "400 [0.33742472529411316, 0.4732629954814911] [1.004524257206333e-05]\n",
      "800 [0.3376302421092987, 0.47237861156463623] [3.181966398799364e-07]\n",
      "1200 [0.33771565556526184, 0.47206735610961914] [3.181966398799364e-07]\n",
      "1600 [0.33782798051834106, 0.47166094183921814] [3.181966398799364e-07]\n",
      "1999 [0.33796876668930054, 0.47115612030029297] [3.181966398799364e-07]\n",
      "tensor(0.8387, device='cuda:0')\n",
      "0 [0.6992988586425781, 1.8612139225006104] [0.1]\n",
      "400 [0.3276269733905792, 0.6196433305740356] [5.650448946785623e-06]\n",
      "800 [0.3277336657047272, 0.6187986135482788] [3.181966398799364e-07]\n",
      "1200 [0.32779863476753235, 0.6182916760444641] [3.181966398799364e-07]\n",
      "1600 [0.32788702845573425, 0.6176360845565796] [3.181966398799364e-07]\n",
      "1999 [0.3280014991760254, 0.6168298125267029] [3.181966398799364e-07]\n",
      "0 [0.7106077075004578, 1.8612771034240723] [0.1]\n",
      "400 [0.3370745778083801, 0.4622592031955719] [7.5339319290474975e-06]\n",
      "800 [0.33728262782096863, 0.46141067147254944] [3.181966398799364e-07]\n",
      "1200 [0.33738628029823303, 0.46103858947753906] [3.181966398799364e-07]\n",
      "1600 [0.3375217616558075, 0.4605565667152405] [3.181966398799364e-07]\n",
      "1999 [0.3376905918121338, 0.45996320247650146] [3.181966398799364e-07]\n",
      "tensor(0.7097, device='cuda:0')\n",
      "0 [0.6929660439491272, 1.8663554191589355] [0.1]\n",
      "400 [0.33481401205062866, 0.5695409774780273] [7.5339319290474975e-06]\n",
      "800 [0.335029661655426, 0.5684166550636292] [3.181966398799364e-07]\n",
      "1200 [0.33513081073760986, 0.5679247379302979] [3.181966398799364e-07]\n",
      "1600 [0.33526474237442017, 0.5672853589057922] [3.181966398799364e-07]\n",
      "1999 [0.33543428778648376, 0.5664939880371094] [3.181966398799364e-07]\n",
      "0 [0.7127546072006226, 1.8638771772384644] [0.1]\n",
      "400 [0.3185368776321411, 0.5605972409248352] [1.3393656762751105e-05]\n",
      "800 [0.3187665641307831, 0.5593284964561462] [3.181966398799364e-07]\n",
      "1200 [0.31883588433265686, 0.5589505434036255] [3.181966398799364e-07]\n",
      "1600 [0.31893065571784973, 0.558460533618927] [3.181966398799364e-07]\n",
      "1999 [0.3190532326698303, 0.5578563213348389] [3.181966398799364e-07]\n",
      "tensor(0.8226, device='cuda:0')\n",
      "0 [0.6971867084503174, 1.861622929573059] [0.1]\n",
      "400 [0.3791351616382599, 0.41636884212493896] [5.650448946785623e-06]\n",
      "800 [0.37929674983024597, 0.4157489240169525] [3.181966398799364e-07]\n",
      "1200 [0.3793899118900299, 0.415433406829834] [3.181966398799364e-07]\n",
      "1600 [0.3795124590396881, 0.4150208830833435] [3.181966398799364e-07]\n",
      "1999 [0.3796667158603668, 0.4145067632198334] [3.181966398799364e-07]\n",
      "0 [0.6932973861694336, 1.8684072494506836] [0.1]\n",
      "400 [0.3428196907043457, 0.45197594165802] [1.004524257206333e-05]\n",
      "800 [0.3430645167827606, 0.45091712474823] [3.181966398799364e-07]\n",
      "1200 [0.343156099319458, 0.4505813419818878] [3.181966398799364e-07]\n",
      "1600 [0.34327632188796997, 0.4501449465751648] [3.181966398799364e-07]\n",
      "1999 [0.3434268534183502, 0.4496055543422699] [3.181966398799364e-07]\n",
      "tensor(0.7419, device='cuda:0')\n",
      "0 [0.697866678237915, 1.8598796129226685] [0.1]\n",
      "400 [0.32788074016571045, 0.5701501369476318] [1.3393656762751105e-05]\n",
      "800 [0.3281661570072174, 0.5687476992607117] [3.181966398799364e-07]\n",
      "1200 [0.3282661437988281, 0.5682925581932068] [3.181966398799364e-07]\n",
      "1600 [0.32839885354042053, 0.5676995515823364] [3.181966398799364e-07]\n",
      "1999 [0.3285676836967468, 0.566962718963623] [3.181966398799364e-07]\n",
      "0 [0.6975625157356262, 1.8583412170410156] [0.1]\n",
      "400 [0.3188048005104065, 0.5415500402450562] [1.3393656762751105e-05]\n",
      "800 [0.3190866708755493, 0.5401386022567749] [3.181966398799364e-07]\n",
      "1200 [0.31918781995773315, 0.5396929979324341] [3.181966398799364e-07]\n",
      "1600 [0.31932082772254944, 0.539115309715271] [3.181966398799364e-07]\n",
      "1999 [0.31948772072792053, 0.5384026169776917] [3.181966398799364e-07]\n",
      "tensor(0.8065, device='cuda:0')\n",
      "0 [0.6961296796798706, 1.867971658706665] [0.1]\n",
      "400 [0.34695979952812195, 0.5097951889038086] [1.004524257206333e-05]\n",
      "800 [0.3471742570400238, 0.5088435411453247] [3.181966398799364e-07]\n",
      "1200 [0.34727004170417786, 0.5084626078605652] [3.181966398799364e-07]\n",
      "1600 [0.34739628434181213, 0.5079653859138489] [3.181966398799364e-07]\n",
      "1999 [0.3475551903247833, 0.5073480606079102] [3.181966398799364e-07]\n",
      "0 [0.6935113072395325, 1.854191541671753] [0.1]\n",
      "400 [0.3345701992511749, 0.4644583463668823] [1.3393656762751105e-05]\n",
      "800 [0.33480775356292725, 0.4634285569190979] [3.181966398799364e-07]\n",
      "1200 [0.33488860726356506, 0.4631355106830597] [3.181966398799364e-07]\n",
      "1600 [0.33499500155448914, 0.4627527594566345] [3.181966398799364e-07]\n",
      "1999 [0.3351287245750427, 0.4622773230075836] [3.181966398799364e-07]\n",
      "tensor(0.7903, device='cuda:0')\n",
      "0 [0.6961673498153687, 1.8683511018753052] [0.1]\n",
      "400 [0.38045868277549744, 0.4183405339717865] [1.004524257206333e-05]\n",
      "800 [0.3806705176830292, 0.4174668490886688] [3.181966398799364e-07]\n",
      "1200 [0.3807452917098999, 0.4171897768974304] [3.181966398799364e-07]\n",
      "1600 [0.38084444403648376, 0.41682660579681396] [3.181966398799364e-07]\n",
      "1999 [0.38097020983695984, 0.4163731336593628] [3.181966398799364e-07]\n",
      "0 [0.7098662257194519, 1.873954176902771] [0.1]\n",
      "400 [0.32871708273887634, 0.507883608341217] [1.004524257206333e-05]\n",
      "800 [0.3289247751235962, 0.5068463683128357] [3.181966398799364e-07]\n",
      "1200 [0.32901811599731445, 0.5064359307289124] [3.181966398799364e-07]\n",
      "1600 [0.32914116978645325, 0.5059066414833069] [3.181966398799364e-07]\n",
      "1999 [0.3292958438396454, 0.5052581429481506] [3.181966398799364e-07]\n",
      "tensor(0.7419, device='cuda:0')\n",
      "0 [0.6956565380096436, 1.8656481504440308] [0.1]\n",
      "400 [0.3250490427017212, 0.5913645029067993] [7.5339319290474975e-06]\n",
      "800 [0.3252744674682617, 0.5902554988861084] [3.181966398799364e-07]\n",
      "1200 [0.3253856301307678, 0.5897525548934937] [3.181966398799364e-07]\n",
      "1600 [0.3255317211151123, 0.5890987515449524] [3.181966398799364e-07]\n",
      "1999 [0.325715035200119, 0.5882892608642578] [3.181966398799364e-07]\n",
      "0 [0.6965439915657043, 1.8624913692474365] [0.1]\n",
      "400 [0.33200767636299133, 0.47641658782958984] [5.650448946785623e-06]\n",
      "800 [0.3321702778339386, 0.47580486536026] [3.181966398799364e-07]\n",
      "1200 [0.332268625497818, 0.47548872232437134] [3.181966398799364e-07]\n",
      "1600 [0.33239713311195374, 0.47507762908935547] [3.181966398799364e-07]\n",
      "1999 [0.3325572907924652, 0.4745689332485199] [3.181966398799364e-07]\n",
      "tensor(0.7903, device='cuda:0')\n",
      "0 [0.6947796940803528, 1.8595718145370483] [0.1]\n",
      "400 [0.3367825150489807, 0.5499939322471619] [1.3393656762751105e-05]\n",
      "800 [0.337093323469162, 0.5484750270843506] [3.181966398799364e-07]\n",
      "1200 [0.33719879388809204, 0.5480145812034607] [3.181966398799364e-07]\n",
      "1600 [0.3373372554779053, 0.5474153757095337] [3.181966398799364e-07]\n",
      "1999 [0.33751100301742554, 0.546672523021698] [3.181966398799364e-07]\n",
      "0 [0.7087313532829285, 1.859795331954956] [0.1]\n",
      "400 [0.3594963252544403, 0.44222426414489746] [1.7858209017001475e-05]\n",
      "800 [0.35978055000305176, 0.4408557713031769] [3.181966398799364e-07]\n",
      "1200 [0.3598457872867584, 0.4405806362628937] [3.181966398799364e-07]\n",
      "1600 [0.359932005405426, 0.44022315740585327] [3.181966398799364e-07]\n",
      "1999 [0.36004120111465454, 0.4397812485694885] [3.181966398799364e-07]\n",
      "tensor(0.8387, device='cuda:0')\n",
      "0 [0.6958097815513611, 1.8673315048217773] [0.1]\n",
      "400 [0.33126598596572876, 0.5368819832801819] [1.004524257206333e-05]\n",
      "800 [0.33155059814453125, 0.5356191396713257] [3.181966398799364e-07]\n",
      "1200 [0.3316614031791687, 0.5351765155792236] [3.181966398799364e-07]\n",
      "1600 [0.33180657029151917, 0.5346015691757202] [3.181966398799364e-07]\n",
      "1999 [0.33198797702789307, 0.5338917374610901] [3.181966398799364e-07]\n",
      "0 [0.7178365588188171, 1.8684545755386353] [0.1]\n",
      "400 [0.343802273273468, 0.42940810322761536] [1.004524257206333e-05]\n",
      "800 [0.3440767228603363, 0.42841413617134094] [3.181966398799364e-07]\n",
      "1200 [0.3441968858242035, 0.4280494451522827] [3.181966398799364e-07]\n",
      "1600 [0.344353586435318, 0.42757782340049744] [3.181966398799364e-07]\n"
     ]
    },
    {
     "name": "stdout",
     "output_type": "stream",
     "text": [
      "1999 [0.3445482552051544, 0.42699745297431946] [3.181966398799364e-07]\n",
      "tensor(0.7258, device='cuda:0')\n",
      "0.8387096524238586\n",
      "0.7096773982048035\n",
      "0.8225806355476379\n",
      "0.7419354915618896\n",
      "0.8064515590667725\n",
      "0.7903225421905518\n",
      "0.7419354915618896\n",
      "0.7903225421905518\n",
      "0.8387096524238586\n",
      "0.7258064150810242\n"
     ]
    }
   ],
   "source": [
    "losses = []\n",
    "import time\n",
    "t0 = time.time()\n",
    "for group in range(10):\n",
    "    trainIdcs = groups[group][0][:496]\n",
    "    valIdcs = groups[group][0][496:]\n",
    "    testIdcs = groups[group][1]\n",
    "    \n",
    "    xtr = nback_p_t[trainIdcs]\n",
    "    xtr = torch.cat([xtr, torch.ones(xtr.shape[0],1).float().cuda()], dim=1)\n",
    "    xt = nback_p_t[testIdcs]\n",
    "    xt = torch.cat([xt, torch.ones(xt.shape[0],1).float().cuda()], dim=1)\n",
    "    ytr = gen_t[trainIdcs]\n",
    "    yt = gen_t[testIdcs]\n",
    "    \n",
    "    w, _, _, _ = torch.linalg.lstsq(xtr, ytr)\n",
    "#     print(mseLoss(xt@w, yt)**0.5)\n",
    "    nb = xt@w\n",
    "    \n",
    "    net = ElasticNet(xtr.shape[-1],2)\n",
    "    net.train(xtr, ytr, lr=1e-1, l1=1e-2, l2=1e-2, nepochs=2000, pperiod=400, verbose=True)\n",
    "    nb = net(xt)\n",
    "    \n",
    "    xtr = emoid_p_t[trainIdcs]\n",
    "    xtr = torch.cat([xtr, torch.ones(xtr.shape[0],1).float().cuda()], dim=1)\n",
    "    xt = emoid_p_t[testIdcs]\n",
    "    xt = torch.cat([xt, torch.ones(xt.shape[0],1).float().cuda()], dim=1)\n",
    "    \n",
    "    w, _, _, _ = torch.linalg.lstsq(xtr, ytr)\n",
    "#     print(mseLoss(xt@w, yt)**0.5)\n",
    "    em = xt@w\n",
    "    \n",
    "    net = ElasticNet(xtr.shape[-1],2)\n",
    "    net.train(xtr, ytr, lr=1e-1, l1=1e-2, l2=1e-2, nepochs=2000, pperiod=400, verbose=True)\n",
    "    em = net(xt)\n",
    "    \n",
    "    res = (nb+em)/2\n",
    "    res = torch.argmax(res, dim=1)\n",
    "    loss = torch.sum(res == torch.argmax(yt, dim=1))/res.shape[0]\n",
    "#     loss = mseLoss(res, yt)**0.5\n",
    "    print(loss)\n",
    "    losses.append(loss)\n",
    "\n",
    "for loss in losses:\n",
    "    print(float(loss))\n",
    "t1=time.time()"
   ]
  },
  {
   "cell_type": "code",
   "execution_count": 93,
   "id": "9c490c98",
   "metadata": {},
   "outputs": [
    {
     "name": "stdout",
     "output_type": "stream",
     "text": [
      "11.335182428359985\n"
     ]
    }
   ],
   "source": [
    "print((t1-t0)/3)"
   ]
  },
  {
   "cell_type": "code",
   "execution_count": null,
   "id": "f9dbc93a",
   "metadata": {},
   "outputs": [],
   "source": []
  }
 ],
 "metadata": {
  "kernelspec": {
   "display_name": "Python 3 (ipykernel)",
   "language": "python",
   "name": "python3"
  },
  "language_info": {
   "codemirror_mode": {
    "name": "ipython",
    "version": 3
   },
   "file_extension": ".py",
   "mimetype": "text/x-python",
   "name": "python",
   "nbconvert_exporter": "python",
   "pygments_lexer": "ipython3",
   "version": "3.10.8"
  }
 },
 "nbformat": 4,
 "nbformat_minor": 5
}
