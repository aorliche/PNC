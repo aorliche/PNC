{
 "cells": [
  {
   "cell_type": "code",
   "execution_count": 1,
   "id": "7d3f47a8",
   "metadata": {},
   "outputs": [
    {
     "name": "stdout",
     "output_type": "stream",
     "text": [
      "Complete\n"
     ]
    }
   ],
   "source": [
    "import pickle\n",
    "\n",
    "with open('../../PNC_Good/MegaMeta3.pkl', 'rb') as f: \n",
    "    meta = pickle.load(f)\n",
    "    \n",
    "print('Complete')"
   ]
  },
  {
   "cell_type": "code",
   "execution_count": 2,
   "id": "8de69ea3",
   "metadata": {},
   "outputs": [
    {
     "name": "stdout",
     "output_type": "stream",
     "text": [
      "620\n",
      "620\n",
      "Complete\n"
     ]
    }
   ],
   "source": [
    "with open('../../Work/LatentSim/Splits.pkl', 'rb') as f:\n",
    "    keys, groups = pickle.load(f)\n",
    "    \n",
    "print(len(keys))\n",
    "print(len(groups[0][0])+len(groups[0][1]))\n",
    "print('Complete')"
   ]
  },
  {
   "cell_type": "code",
   "execution_count": 3,
   "id": "756efe55",
   "metadata": {},
   "outputs": [
    {
     "name": "stdout",
     "output_type": "stream",
     "text": [
      "(620, 264, 231)\n",
      "(620, 264, 210)\n"
     ]
    }
   ],
   "source": [
    "import numpy as np\n",
    "\n",
    "nback = np.stack([meta[key]['nback'] for key in keys])\n",
    "emoid = np.stack([meta[key]['emoid'] for key in keys])\n",
    "\n",
    "print(nback.shape)\n",
    "print(emoid.shape)"
   ]
  },
  {
   "cell_type": "code",
   "execution_count": 4,
   "id": "9eb8cead",
   "metadata": {},
   "outputs": [
    {
     "name": "stdout",
     "output_type": "stream",
     "text": [
      "(620, 264, 264)\n"
     ]
    }
   ],
   "source": [
    "from nilearn.connectome import ConnectivityMeasure\n",
    "\n",
    "def getFC(timeSeries, kind='correlation', transpose=True):\n",
    "    connMeasure = ConnectivityMeasure(kind=kind)\n",
    "    if transpose:\n",
    "        timeSeries = np.transpose(timeSeries, axes=(0,2,1))\n",
    "    return connMeasure.fit_transform(timeSeries)\n",
    "\n",
    "nback_p = getFC(nback)\n",
    "emoid_p = getFC(emoid)\n",
    "\n",
    "print(nback_p.shape)"
   ]
  },
  {
   "cell_type": "code",
   "execution_count": 5,
   "id": "42606659",
   "metadata": {},
   "outputs": [
    {
     "name": "stdout",
     "output_type": "stream",
     "text": [
      "torch.Size([620, 34716])\n",
      "torch.Size([620, 34716])\n",
      "Complete\n"
     ]
    }
   ],
   "source": [
    "import torch\n",
    "\n",
    "def convertTorch(p):\n",
    "    t = torch.from_numpy(p).float()\n",
    "    u = []\n",
    "    for i in range(t.shape[0]):\n",
    "        u.append(t[i][torch.triu_indices(264,264,offset=1).unbind()])\n",
    "    return torch.stack(u).cuda()\n",
    "\n",
    "nback_p_t = convertTorch(nback_p)\n",
    "emoid_p_t = convertTorch(emoid_p)\n",
    "\n",
    "print(nback_p_t.shape)\n",
    "print(emoid_p_t.shape)\n",
    "print('Complete')"
   ]
  },
  {
   "cell_type": "code",
   "execution_count": 6,
   "id": "f03a54dd",
   "metadata": {},
   "outputs": [
    {
     "name": "stdout",
     "output_type": "stream",
     "text": [
      "Norm complete\n"
     ]
    }
   ],
   "source": [
    "mu_nback = torch.mean(nback_p_t, dim=0, keepdim=True)\n",
    "mu_emoid = torch.mean(emoid_p_t, dim=0, keepdim=True)\n",
    "std_nback = torch.std(nback_p_t, dim=0, keepdim=True)\n",
    "std_emoid = torch.std(emoid_p_t, dim=0, keepdim=True)\n",
    "\n",
    "nback_p_t = (nback_p_t - mu_nback)/std_nback\n",
    "emoid_p_t = (emoid_p_t - mu_emoid)/std_emoid\n",
    "\n",
    "print('Norm complete')"
   ]
  },
  {
   "cell_type": "code",
   "execution_count": 7,
   "id": "d07aad5f",
   "metadata": {},
   "outputs": [
    {
     "name": "stdout",
     "output_type": "stream",
     "text": [
      "torch.return_types.min(\n",
      "values=tensor([-2.2998, -3.0133], device='cuda:0'),\n",
      "indices=tensor([603, 350], device='cuda:0'))\n",
      "torch.return_types.min(\n",
      "values=tensor([-2.7284, -3.0616], device='cuda:0'),\n",
      "indices=tensor([351,  33], device='cuda:0'))\n"
     ]
    }
   ],
   "source": [
    "print(torch.min(nback_p_t[:,420:422],dim=0))\n",
    "print(torch.min(emoid_p_t[:,420:422],dim=0))"
   ]
  },
  {
   "cell_type": "code",
   "execution_count": 8,
   "id": "26ff9603",
   "metadata": {},
   "outputs": [
    {
     "name": "stdout",
     "output_type": "stream",
     "text": [
      "(620,)\n",
      "(620, 2)\n",
      "(620,)\n"
     ]
    }
   ],
   "source": [
    "age = np.stack([meta[key]['AgeInMonths'] for key in keys])\n",
    "gen = np.stack([np.array([meta[key]['Gender'] == 'M', meta[key]['Gender'] == 'F']) for key in keys]).astype(int)\n",
    "wrt = np.stack([meta[key]['wratStd'] for key in keys])\n",
    "\n",
    "print(age.shape)\n",
    "print(gen.shape)\n",
    "print(wrt.shape)"
   ]
  },
  {
   "cell_type": "code",
   "execution_count": 9,
   "id": "45f6c5af",
   "metadata": {},
   "outputs": [
    {
     "name": "stdout",
     "output_type": "stream",
     "text": [
      "Complete\n"
     ]
    }
   ],
   "source": [
    "age_t = torch.from_numpy(age).float().cuda()\n",
    "gen_t = torch.from_numpy(gen).float().cuda()\n",
    "wrt_t = torch.from_numpy(wrt).float().cuda()\n",
    "\n",
    "print('Complete')"
   ]
  },
  {
   "cell_type": "code",
   "execution_count": 10,
   "id": "ef0c6bcf",
   "metadata": {},
   "outputs": [
    {
     "name": "stdout",
     "output_type": "stream",
     "text": [
      "epoch 0 loss=1470.6141357421875\n",
      "New best validation epoch 0 loss=40.03742599487305\n",
      "epoch 20 loss=790.5079956054688\n",
      "New best validation epoch 20 loss=29.622909545898438\n",
      "epoch 40 loss=218.10336303710938\n",
      "New best validation epoch 40 loss=25.569826126098633\n",
      "epoch 60 loss=101.09837341308594\n",
      "New best validation epoch 60 loss=23.989269256591797\n",
      "epoch 80 loss=59.907554626464844\n",
      "epoch 100 loss=57.96455001831055\n",
      "epoch 120 loss=49.79548263549805\n",
      "epoch 140 loss=44.03058624267578\n",
      "New best validation epoch 140 loss=23.91346549987793\n",
      "epoch 160 loss=46.81063461303711\n",
      "epoch 180 loss=35.546302795410156\n",
      "epoch 200 loss=39.44725799560547\n",
      "New best validation epoch 200 loss=23.344472885131836\n",
      "epoch 220 loss=31.732519149780273\n",
      "epoch 240 loss=32.885196685791016\n",
      "epoch 260 loss=41.45411682128906\n",
      "epoch 280 loss=33.49406051635742\n",
      "New best validation epoch 280 loss=22.926315307617188\n",
      "epoch 300 loss=31.925514221191406\n",
      "epoch 320 loss=31.578323364257812\n",
      "epoch 340 loss=23.52676010131836\n",
      "epoch 360 loss=24.305644989013672\n",
      "epoch 370 loss=19.066919326782227\n",
      "Early stopping\n",
      "Finished training\n",
      "FINISHED 1 30.076066970825195\n"
     ]
    }
   ],
   "source": [
    "import torch.nn as nn\n",
    "import torch.nn.functional as F\n",
    "import time\n",
    "\n",
    "ceLoss = torch.nn.CrossEntropyLoss()\n",
    "mseLoss = torch.nn.MSELoss()\n",
    "\n",
    "rmse = []\n",
    "\n",
    "def arith(n):\n",
    "    return int(n*(n+1)/2)\n",
    "\n",
    "def mask(e):\n",
    "    return e - torch.diag(torch.diag(e.detach()))\n",
    "\n",
    "class LatSim(nn.Module):\n",
    "    def __init__(self, nTgts, inp, dp=0.5, edp=0.1):\n",
    "        super(LatSim, self).__init__()\n",
    "        self.active = nn.Parameter(1e-4*torch.randn(nTgts,inp.shape[-1],2).float().cuda())\n",
    "        self.dp = nn.Dropout(p=dp)\n",
    "        self.edp = nn.Dropout(p=edp)\n",
    "    \n",
    "    def getLatentsAndEdges(self, x, i):\n",
    "        e = 1e-10\n",
    "        y = torch.einsum('ac,ce->ae', x, self.active[i])\n",
    "        e = e+y@y.T\n",
    "        return y, y, e\n",
    "        \n",
    "    def forward(self, x, y, testIdcs=None):\n",
    "        x = self.dp(x)\n",
    "        res = []\n",
    "        es = []\n",
    "        for i in range(self.active.shape[0]):\n",
    "            _, _, e = self.getLatentsAndEdges(x[:,i,:], i)\n",
    "            if testIdcs is not None:\n",
    "                e[:,testIdcs] = 0\n",
    "            e = self.edp(e)\n",
    "            e = mask(e)\n",
    "            e[e == 0] = float('-inf')\n",
    "            e = F.softmax(e, dim=1)\n",
    "            es.append(e)\n",
    "            res.append(e@y)\n",
    "        return res, es\n",
    "\n",
    "def validate(model, X, y, testIdcs):\n",
    "    model.eval()\n",
    "    with torch.no_grad():\n",
    "        res, _ = model(X, y, testIdcs)\n",
    "        avg = torch.mean(torch.stack(res), dim=0)\n",
    "        if res[0].dim() == 1:\n",
    "            loss = mseLoss(avg[testIdcs], y[testIdcs]).cpu().numpy()**0.5\n",
    "        else:\n",
    "            corr = (torch.argmax(avg, dim=1) == torch.argmax(y, dim=1))[testIdcs]\n",
    "            loss = torch.sum(corr)/len(testIdcs)\n",
    "    model.train()\n",
    "    return loss, avg.detach().cpu().numpy()\n",
    "\n",
    "for grp in range(1,2):\n",
    "    trainIdcs = groups[grp][0][0:496]\n",
    "    validIdcs = groups[grp][0]\n",
    "    testIdcs = groups[grp][1]\n",
    "\n",
    "#     X0 = nback_p_t[:,rnback[grp]]\n",
    "#     X1 = emoid_p_t[:,remoid[grp]]\n",
    "    X0 = nback_p_t\n",
    "    X1 = emoid_p_t\n",
    "    Xreg = torch.stack([X0,X1], dim=1)\n",
    "\n",
    "    nEpochs = 1000\n",
    "    pPeriod = 20\n",
    "    thresh = 20\n",
    "\n",
    "    sim = LatSim(2, Xreg, 0.5, 0.1) # 0.2 wrat, 0.1 other\n",
    "    optim = torch.optim.Adam(sim.parameters(), lr=1e-4, weight_decay=1e-4) \n",
    "\n",
    "    Xt = Xreg[trainIdcs]\n",
    "    Xv = Xreg[validIdcs]\n",
    "\n",
    "    trainLoss = []\n",
    "    validLoss = []\n",
    "\n",
    "    vIdcs1 = np.arange(496,len(validIdcs))\n",
    "    vIdcs2 = validIdcs[496:]\n",
    "    vIdcs3 = np.concatenate([testIdcs, vIdcs2])\n",
    "\n",
    "    var = age_t\n",
    "\n",
    "    for epoch in range(nEpochs):\n",
    "        optim.zero_grad()\n",
    "        res, _ = sim(Xt, var[trainIdcs])\n",
    "        avg = torch.mean(torch.stack(res), dim=0)\n",
    "        loss = 0\n",
    "        for r in res + [avg]:\n",
    "            loss += mseLoss(r, var[trainIdcs])\n",
    "        loss = torch.stack([loss/(len(res)+1)])\n",
    "        torch.sum(loss).backward()\n",
    "        optim.step()\n",
    "        if epoch % pPeriod == 0 or epoch == nEpochs-1 or torch.all(loss[0:3] < thresh):\n",
    "            print(f'epoch {epoch} loss={(float(loss))}')\n",
    "            lossV, _ = validate(sim, Xv, var[validIdcs], vIdcs1)\n",
    "            if len(validLoss) == 0 or lossV < min(validLoss):\n",
    "                print(f'New best validation epoch {epoch} loss={lossV}')\n",
    "                torch.save(sim.state_dict(), '../../Work/LatentSim/sim.pyt')\n",
    "            validLoss.append(lossV)\n",
    "            if torch.all(loss[0:3] < thresh):\n",
    "                print('Early stopping')\n",
    "                break\n",
    "\n",
    "    print('Finished training')\n",
    "\n",
    "    sim.load_state_dict(torch.load('../../Work/LatentSim/sim.pyt'))\n",
    "    loss, avg = validate(sim, Xreg, var, testIdcs)\n",
    "    rmse.append(loss)\n",
    "    \n",
    "#     yhat[testIdcs] = avg[testIdcs]\n",
    "    print(f'FINISHED {grp} {loss}')"
   ]
  },
  {
   "cell_type": "code",
   "execution_count": 11,
   "id": "64bccba1",
   "metadata": {},
   "outputs": [
    {
     "data": {
      "image/png": "[encoded data removed]",
      "text/plain": [
       "<Figure size 432x288 with 2 Axes>"
      ]
     },
     "metadata": {
      "needs_background": "light"
     },
     "output_type": "display_data"
    }
   ],
   "source": [
    "import matplotlib.pyplot as plt\n",
    "\n",
    "def heatmap(cuda):\n",
    "    iu = np.triu_indices(264, 1)\n",
    "    m = np.zeros([264,264])\n",
    "    v = cuda.detach().cpu().numpy()\n",
    "    m[iu] = v\n",
    "    m = m + m.T\n",
    "    return m\n",
    "\n",
    "# nback/emoid, weights, latDim\n",
    "z = sim.active[0,:,0].unsqueeze(0).detach()*nback_p_t\n",
    "\n",
    "plt.imshow(heatmap(z[0]))\n",
    "plt.colorbar()\n",
    "\n",
    "plt.show()"
   ]
  },
  {
   "cell_type": "code",
   "execution_count": 16,
   "id": "7f8d03d1",
   "metadata": {},
   "outputs": [],
   "source": [
    "lst = torch.argsort(z[0]**2)[-10:].cpu().numpy()"
   ]
  },
  {
   "cell_type": "code",
   "execution_count": 17,
   "id": "bd054a8d",
   "metadata": {},
   "outputs": [
    {
     "name": "stdout",
     "output_type": "stream",
     "text": [
      "[[  4  35 177  82 121  74  10 147  86  45]\n",
      " [184 229 197 148 224 110  52 154 183 245]]\n"
     ]
    }
   ],
   "source": [
    "a = np.triu_indices(264,1)[0][lst]\n",
    "b = np.triu_indices(264,1)[1][lst]\n",
    "\n",
    "print(np.stack([a,b]))"
   ]
  },
  {
   "cell_type": "code",
   "execution_count": 20,
   "id": "5bc3edc5",
   "metadata": {},
   "outputs": [
    {
     "data": {
      "text/plain": [
       "tensor(0.0026, device='cuda:0', grad_fn=<SelectBackward0>)"
      ]
     },
     "execution_count": 20,
     "metadata": {},
     "output_type": "execute_result"
    }
   ],
   "source": [
    "sim.active[0,lst[0],0]"
   ]
  },
  {
   "cell_type": "code",
   "execution_count": 12,
   "id": "eacdcefc",
   "metadata": {},
   "outputs": [
    {
     "name": "stdout",
     "output_type": "stream",
     "text": [
      "Complete\n"
     ]
    }
   ],
   "source": [
    "ageGenIdcs = {  \n",
    "    'young_m': [],\n",
    "    'young_f': [],\n",
    "    'middle_m': [],\n",
    "    'middle_f': [],\n",
    "    'old_m': [],\n",
    "    'old_f': []\n",
    "}\n",
    "\n",
    "for i in range(age.shape[0]):\n",
    "    a = age[i]\n",
    "    g = gen[i,0]\n",
    "    if a <= 11*12:\n",
    "        if g == 0:\n",
    "            ageGenIdcs['young_f'].append(i)\n",
    "        else: \n",
    "            ageGenIdcs['young_m'].append(i)\n",
    "    elif a >= 13*12 and a <= 15*12:\n",
    "        if g == 0:\n",
    "            ageGenIdcs['middle_f'].append(i)\n",
    "        else: \n",
    "            ageGenIdcs['middle_m'].append(i)\n",
    "    elif a >= 18*12:\n",
    "        if g == 0:\n",
    "            ageGenIdcs['old_f'].append(i)\n",
    "        else: \n",
    "            ageGenIdcs['old_m'].append(i)\n",
    "\n",
    "print('Complete')"
   ]
  },
  {
   "cell_type": "code",
   "execution_count": 13,
   "id": "0399ed1a",
   "metadata": {},
   "outputs": [
    {
     "name": "stdout",
     "output_type": "stream",
     "text": [
      "Complete\n"
     ]
    }
   ],
   "source": [
    "ageGenIdcsComb = {\n",
    "    'young': ageGenIdcs['young_m'] + ageGenIdcs['young_f'],\n",
    "    'middle': ageGenIdcs['middle_m'] + ageGenIdcs['middle_f'],\n",
    "    'old': ageGenIdcs['old_m'] + ageGenIdcs['old_f']\n",
    "}\n",
    "\n",
    "print('Complete')"
   ]
  },
  {
   "cell_type": "code",
   "execution_count": 15,
   "id": "59c4de25",
   "metadata": {},
   "outputs": [
    {
     "name": "stdout",
     "output_type": "stream",
     "text": [
      "tensor([1.1851e-07, 1.2687e-07, 1.2935e-07, 1.3026e-07, 1.4970e-07, 1.5363e-07,\n",
      "        1.5656e-07, 2.0601e-07, 2.1777e-07, 2.7880e-07], device='cuda:0')\n",
      "tensor([3.9119e-08, 4.0250e-08, 4.1415e-08, 4.1797e-08, 4.2896e-08, 4.7172e-08,\n",
      "        5.3198e-08, 6.0661e-08, 6.6099e-08, 7.5969e-08], device='cuda:0')\n",
      "tensor(6.4349e-06, device='cuda:0')\n",
      "tensor([[ 9995, 12442, 11820, 16800, 16776, 29771, 16795, 16773, 12463, 16782],\n",
      "        [30614, 12447, 16782,  7810,  9186, 29558, 16773, 30244, 12463, 11820]],\n",
      "       device='cuda:0')\n"
     ]
    }
   ],
   "source": [
    "def difGroups(g1, g2, x, w, idcs):\n",
    "    others = [g for g in idcs.keys() if g != g1 and g != g2]\n",
    "    gs = [g1, g2] + others\n",
    "    p = len(gs)*[None]\n",
    "    s = len(gs)*[None]\n",
    "    for i,g in enumerate(gs):\n",
    "        x1 = x[idcs[g]]\n",
    "        p[i] = w.unsqueeze(0)*x1.unsqueeze(2)\n",
    "        p[i] = torch.mean(p[i], dim=0)\n",
    "        s[i] = torch.sign(torch.sum(p[i], dim=0))\n",
    "#         print((torch.sum(s[i] < 0), torch.sum(s[i] > 0)))\n",
    "    pOther = torch.stack([p[0]*po for po in p[2:]], dim=0)\n",
    "    pOther = torch.max(pOther, dim=0)[0]\n",
    "    res = (p[0]*p[1]-pOther)*(p[0]>0)\n",
    "    idcs = torch.argsort(res, dim=0)[-10:,:]\n",
    "    print(res[idcs[:,0],0])\n",
    "    print(res[idcs[:,1],1])\n",
    "    print(torch.max(p[0]*p[0]))\n",
    "    print(idcs.T)\n",
    "    \n",
    "difGroups('young', 'old', nback_p_t, sim.active[0].detach(), ageGenIdcsComb)"
   ]
  },
  {
   "cell_type": "code",
   "execution_count": null,
   "id": "95061a0b",
   "metadata": {},
   "outputs": [],
   "source": []
  }
 ],
 "metadata": {
  "kernelspec": {
   "display_name": "torch",
   "language": "python",
   "name": "torch"
  },
  "language_info": {
   "codemirror_mode": {
    "name": "ipython",
    "version": 3
   },
   "file_extension": ".py",
   "mimetype": "text/x-python",
   "name": "python",
   "nbconvert_exporter": "python",
   "pygments_lexer": "ipython3",
   "version": "3.7.12"
  }
 },
 "nbformat": 4,
 "nbformat_minor": 5
}
