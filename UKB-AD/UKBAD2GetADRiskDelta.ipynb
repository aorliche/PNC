{
 "cells": [
  {
   "cell_type": "code",
   "execution_count": 1,
   "id": "d1173a83-a076-4127-90c3-4fc14df46ffe",
   "metadata": {},
   "outputs": [
    {
     "name": "stderr",
     "output_type": "stream",
     "text": [
      "/home/anton/Documents/Tulane/Research/demo-vae/pip/src/demovae/sklearn.py:114: FutureWarning: You are using `torch.load` with `weights_only=False` (the current default value), which uses the default pickle module implicitly. It is possible to construct malicious pickle data which will execute arbitrary code during unpickling (See https://github.com/pytorch/pytorch/blob/main/SECURITY.md#untrusted-models for more details). In a future release, the default value for `weights_only` will be flipped to `True`. This limits the functions that could be executed during unpickling. Arbitrary objects will no longer be allowed to be loaded via this mode unless they are explicitly allowlisted by the user via `torch.serialization.add_safe_globals`. We recommend you start setting `weights_only=True` for any use case where you don't have full control of the loaded file. Please open an issue on GitHub for any issues related to this experimental feature.\n",
      "  dct = torch.load(path)\n"
     ]
    },
    {
     "name": "stdout",
     "output_type": "stream",
     "text": [
      "Done\n"
     ]
    }
   ],
   "source": [
    "import sys\n",
    "\n",
    "sys.path.append('/home/anton/Documents/Tulane/Research/demo-vae/pip/src/')\n",
    "\n",
    "from demovae import DemoVAE\n",
    "\n",
    "field = 'f_4079_0_0'\n",
    "\n",
    "vae = DemoVAE(pperiod=50, use_cuda=True, nepochs=10000, latent_dim=120, weight_decay=0, lr=5e-5, loss_rec_mult=1e3,\n",
    "              loss_pred_mult=0.01, loss_C_mult=1e4)\n",
    "vae.load(f'/home/anton/Documents/Yale/UKB/VAE_Models/700_subs/{field}.pkl')\n",
    "\n",
    "print('Done')"
   ]
  },
  {
   "cell_type": "code",
   "execution_count": 2,
   "id": "3390bc83-35d1-4c86-a05a-b97e6ef5871f",
   "metadata": {},
   "outputs": [
    {
     "name": "stdout",
     "output_type": "stream",
     "text": [
      "['demos', 'types']\n",
      "Done\n"
     ]
    }
   ],
   "source": [
    "import pickle\n",
    "\n",
    "dct = pickle.load(open(f'/home/anton/Documents/Yale/UKB/VAE_Models/700_subs/demos_{field}.pkl', 'rb'))\n",
    "\n",
    "print(list(dct.keys()))\n",
    "print('Done')"
   ]
  },
  {
   "cell_type": "code",
   "execution_count": 8,
   "id": "0a237a69-44f2-4013-a873-debe132cacbe",
   "metadata": {},
   "outputs": [
    {
     "data": {
      "text/plain": [
       "['intercept', 'coef']"
      ]
     },
     "execution_count": 8,
     "metadata": {},
     "output_type": "execute_result"
    }
   ],
   "source": [
    "# Load ADNI model\n",
    "\n",
    "import pickle\n",
    "\n",
    "adni = pickle.load(open('/home/anton/Documents/Tulane/Research/Work/ADNI/weightsbalanced.pkl', 'rb'))\n",
    "\n",
    "list(adni.keys())"
   ]
  },
  {
   "cell_type": "code",
   "execution_count": 9,
   "id": "19c460f1-418e-44d0-9e0c-b8fe46fb5b8f",
   "metadata": {},
   "outputs": [
    {
     "data": {
      "text/plain": [
       "array([164., 176., 179., 165., 157., 169., 166., 170., 173., 178., 178.,\n",
       "       164., 182., 175., 160., 161., 176., 154., 166., 187.])"
      ]
     },
     "execution_count": 9,
     "metadata": {},
     "output_type": "execute_result"
    }
   ],
   "source": [
    "dct['demos'][3][:20]"
   ]
  },
  {
   "cell_type": "code",
   "execution_count": 10,
   "id": "5661cc43-2c5c-4319-8b5a-58ed88cf07fb",
   "metadata": {},
   "outputs": [
    {
     "name": "stdout",
     "output_type": "stream",
     "text": [
      "-18.339021612351758\n",
      "0.33032462743009766\n"
     ]
    }
   ],
   "source": [
    "import numpy as np\n",
    "\n",
    "vals = []\n",
    "\n",
    "for i in range(20):\n",
    "    synth = vae.transform(len(dct['demos'][0]), dct['demos'], dct['types'])\n",
    "    \n",
    "    b = adni['intercept']\n",
    "    w = adni['coef']\n",
    "    sum_logits = 0\n",
    "    \n",
    "    for fc in synth:\n",
    "        logits = b+np.sum(fc*w)\n",
    "        sum_logits += logits\n",
    "    \n",
    "    vals.append(sum_logits/len(synth))\n",
    "\n",
    "print(np.mean(vals))\n",
    "print(np.std(vals))"
   ]
  },
  {
   "cell_type": "code",
   "execution_count": 13,
   "id": "23541fd9-72e9-466b-ab39-f3db26be6dd4",
   "metadata": {},
   "outputs": [
    {
     "name": "stdout",
     "output_type": "stream",
     "text": [
      "-15.686610636967174\n",
      "0.3822017266898549\n"
     ]
    }
   ],
   "source": [
    "vals = []\n",
    "\n",
    "for i in range(20):\n",
    "    ndemo = []\n",
    "    for d in dct['demos']:\n",
    "        dd = d+0\n",
    "        ndemo.append(dd)\n",
    "\n",
    "    # ndemo[1] = 1*np.ones(len(ndemo[1]))\n",
    "    # ndemo[3] += 30\n",
    "    # ndemo[4] = 1*np.ones(len(ndemo[4]))\n",
    "    ndemo[3] -= 30\n",
    "    \n",
    "    nsynth = vae.transform(700, ndemo, dct['types'])\n",
    "    \n",
    "    sum_logits = 0\n",
    "    \n",
    "    for fc in nsynth:\n",
    "        logits = b+np.sum(fc*w)\n",
    "        sum_logits += logits\n",
    "    \n",
    "    vals.append(sum_logits/len(nsynth))\n",
    "\n",
    "print(np.mean(vals))\n",
    "print(np.std(vals))"
   ]
  },
  {
   "cell_type": "code",
   "execution_count": null,
   "id": "1bf0d0d3-9be3-4c18-9692-cf8fab7669ad",
   "metadata": {},
   "outputs": [],
   "source": []
  }
 ],
 "metadata": {
  "kernelspec": {
   "display_name": "Python 3 (ipykernel)",
   "language": "python",
   "name": "python3"
  },
  "language_info": {
   "codemirror_mode": {
    "name": "ipython",
    "version": 3
   },
   "file_extension": ".py",
   "mimetype": "text/x-python",
   "name": "python",
   "nbconvert_exporter": "python",
   "pygments_lexer": "ipython3",
   "version": "3.13.1"
  }
 },
 "nbformat": 4,
 "nbformat_minor": 5
}
