{
 "cells": [
  {
   "cell_type": "code",
   "execution_count": 181,
   "id": "b778630f-ffbc-44d0-9618-c4a7c445e2ed",
   "metadata": {},
   "outputs": [
    {
     "name": "stdout",
     "output_type": "stream",
     "text": [
      "Done\n"
     ]
    }
   ],
   "source": [
    "import random\n",
    "import numpy as np\n",
    "\n",
    "demo_types = ['continuous', 'categorical', 'categorical', 'categorical']\n",
    "demo = [[], [], [], []]\n",
    "N = 1000\n",
    "\n",
    "for i in range(N):\n",
    "    age = random.randint(15,65)\n",
    "    sex = random.randint(0,1)\n",
    "    race = random.randint(0,1)\n",
    "    diag = random.randint(0,1)*3\n",
    "    demo[0].append(age)\n",
    "    demo[1].append(sex)\n",
    "    demo[2].append(race)\n",
    "    demo[3].append(diag)\n",
    "\n",
    "fc = {'Baltimore': [], 'Chicago': [], 'Dallas': [], 'Detroit': [], 'Hartford': []}\n",
    "\n",
    "for i in range(len(demo)):\n",
    "    demo[i] = np.array(demo[i])\n",
    "\n",
    "print('Done')"
   ]
  },
  {
   "cell_type": "code",
   "execution_count": 182,
   "id": "52e49938-8adb-4df3-a64d-1ba97446b863",
   "metadata": {},
   "outputs": [
    {
     "name": "stdout",
     "output_type": "stream",
     "text": [
      "(1000, 34716)\n",
      "(1000, 34716)\n",
      "(1000, 34716)\n",
      "(1000, 34716)\n",
      "(1000, 34716)\n"
     ]
    }
   ],
   "source": [
    "from demovae import DemoVAE\n",
    "\n",
    "for loc in fc.keys():\n",
    "    path = f'/home/anton/Documents/Tulane/Research/FederatedVAE/BSNIP_Models/{loc}.pkl'\n",
    "    \n",
    "    vae = DemoVAE(pperiod=100, use_cuda=True, nepochs=5000, latent_dim=30, weight_decay=0, lr=5e-5, loss_rec_mult=500, loss_pred_mult=.01)\n",
    "    vae.load(path)\n",
    "    fc[loc] = vae.transform(N, demo, demo_types)\n",
    "    print(fc[loc].shape)"
   ]
  },
  {
   "cell_type": "code",
   "execution_count": 183,
   "id": "3ab11a9b-3470-48c3-bb76-a9e6a24eae13",
   "metadata": {},
   "outputs": [
    {
     "name": "stdout",
     "output_type": "stream",
     "text": [
      "[array([35, 48, 58, ..., 43, 15, 63]), array([0, 0, 1, ..., 1, 1, 1]), array([1, 0, 1, ..., 0, 1, 0]), array([0, 3, 3, ..., 3, 0, 0])]\n",
      "(4000,)\n",
      "(4000, 34716)\n"
     ]
    }
   ],
   "source": [
    "# Create a single model using 4 of the 5 sites\n",
    "\n",
    "sites = ['Hartford', 'Baltimore', 'Chicago', 'Dallas']\n",
    "fc_all = []\n",
    "demo_all = [[] for _ in range(len(demo))]\n",
    "\n",
    "for site in sites:\n",
    "    fc_all.append(fc[site])\n",
    "    for i in range(len(demo)):\n",
    "        demo_all[i].append(demo[i])\n",
    "\n",
    "for i in range(len(demo)):\n",
    "    demo_all[i] = np.concatenate(demo_all[i])\n",
    "\n",
    "fc_all = np.concatenate(fc_all)\n",
    "\n",
    "print(demo_all)\n",
    "print(demo_all[0].shape)\n",
    "print(fc_all.shape)"
   ]
  },
  {
   "cell_type": "code",
   "execution_count": 184,
   "id": "e4aca009-af01-436e-ae2f-b0f4fefa5dc2",
   "metadata": {},
   "outputs": [
    {
     "name": "stdout",
     "output_type": "stream",
     "text": [
      "Complete\n"
     ]
    }
   ],
   "source": [
    "ours2orig = [12, 13, 14, 15, 16, 17, 18, 19, 20, 21, 22, 23, 24, 25, 26, 27,\n",
    "28, 29, 30, 31, 32, 33, 34, 35, 36, 37, 38, 39, 40, 254, 41, 42, 43, 44, 45,\n",
    "46, 47, 48, 49, 50, 51, 52, 53, 54, 55, 56, 57, 58, 59, 60, 61, 62, 63, 64,\n",
    "65, 66, 67, 68, 69, 70, 71, 72, 73, 74, 75, 76, 77, 78, 79, 80, 81, 82, 85,\n",
    "86, 87, 88, 89, 90, 91, 92, 93, 94, 95, 96, 97, 98, 99, 100, 101, 102, 103,\n",
    "104, 105, 106, 107, 108, 109, 110, 111, 112, 113, 114, 115, 116, 117, 118,\n",
    "119, 120, 121, 122, 123, 124, 125, 126, 127, 128, 129, 130, 136, 138, 132,\n",
    "133, 134, 135, 220, 142, 143, 144, 145, 146, 147, 148, 149, 150, 151, 152,\n",
    "153, 154, 155, 156, 157, 158, 159, 160, 161, 162, 163, 164, 165, 166, 167,\n",
    "168, 169, 170, 171, 172, 173, 174, 175, 176, 177, 178, 179, 180, 185, 186,\n",
    "187, 188, 189, 190, 191, 192, 193, 194, 195, 196, 197, 198, 199, 200, 201,\n",
    "202, 203, 204, 205, 206, 207, 208, 209, 210, 211, 212, 213, 214, 215, 216,\n",
    "217, 218, 219, 221, 222, 223, 224, 225, 226, 227, 228, 229, 230, 231, 232,\n",
    "233, 137, 234, 235, 236, 237, 238, 239, 240, 241, 250, 251, 255, 256, 257,\n",
    "258, 259, 260, 261, 262, 263, 242, 243, 244, 245, 0, 1, 2, 3, 4, 5, 6, 7, 8,\n",
    "9, 10, 11, 83, 84, 131, 139, 140, 141, 181, 182, 183, 184, 246, 247, 248,\n",
    "249, 252, 253]\n",
    "\n",
    "def vec2mat(v):\n",
    "    a,b = np.triu_indices(264,1)\n",
    "    m = np.zeros((264,264))\n",
    "    m[a,b] = v\n",
    "    return m+m.T\n",
    "\n",
    "def remap(fc, roimap=ours2orig):\n",
    "    fc = fc[roimap,:]\n",
    "    fc = fc[:,roimap]\n",
    "    return fc\n",
    "\n",
    "print('Complete')"
   ]
  },
  {
   "cell_type": "code",
   "execution_count": 185,
   "id": "7b44a108-4092-44b0-9796-3b5a75086a0b",
   "metadata": {},
   "outputs": [
    {
     "name": "stdout",
     "output_type": "stream",
     "text": [
      "[51. 22. 27. 27. 46. 30. 54. 37. 21. 52. 16. 17. 62. 34. 31. 41. 21. 22.\n",
      " 45. 55. 51. 26. 22. 53. 26. 32. 46. 31. 41. 32. 22. 44. 41. 22. 45. 39.\n",
      " 42. 15. 26. 65. 49. 38. 48. 20. 51. 48. 52. 15. 20. 41. 51. 20. 28. 28.\n",
      " 31. 29. 26. 49. 26. 57. 35. 26. 62. 19. 24. 19. 23. 58. 35. 27. 62. 38.\n",
      " 15. 53. 20. 27. 33. 27. 49. 55. 34. 19. 53. 48.]\n",
      "[0 1 0 0 0 1 0 0 0 0 0 1 0 1 1 0 1 0 0 0 0 0 0 0 1 1 0 1 0 1 0 0 1 1 1 1 0\n",
      " 1 1 0 1 1 0 1 0 0 1 0 1 1 0 0 0 1 0 0 0 0 1 0 1 1 1 0 1 1 0 0 1 1 0 0 0 1\n",
      " 1 1 0 1 1 0 1 0 1 0]\n",
      "[0 1 0 1 1 1 0 0 1 0 1 0 0 0 1 1 1 0 0 1 1 1 0 1 1 0 0 1 1 0 1 1 0 0 1 1 1\n",
      " 0 0 0 0 0 0 1 1 1 1 0 0 0 1 0 0 1 1 1 1 1 1 1 0 1 0 1 1 1 0 1 1 0 0 0 1 1\n",
      " 1 0 1 0 0 0 1 0 0 0]\n",
      "[3 0 0 3 3 0 3 3 3 3 3 3 3 3 0 3 3 0 3 3 3 3 3 3 0 3 3 3 3 3 3 3 0 3 0 3 3\n",
      " 3 0 3 3 3 0 3 3 3 0 3 3 3 3 3 3 0 3 3 3 0 3 0 3 0 3 0 3 0 3 3 0 3 3 3 3 3\n",
      " 3 0 0 0 3 3 3 3 0 3]\n",
      "(84, 34716)\n",
      "(850, 34716)\n"
     ]
    }
   ],
   "source": [
    "# Get real data\n",
    "\n",
    "import pickle\n",
    "import numpy as np\n",
    "\n",
    "loc = 'Detroit'\n",
    "diag_map = {'SZP': 0, 'BPP': 1, 'SADBPP': 2, 'SADDEPP': 2, 'NC': 3, 'SADDEPR': 3, 'SADBPR': 3, 'BPR': 3, 'SZR': 3} \n",
    "\n",
    "# Age sex race diagnosis\n",
    "demo_types = ['continuous', 'categorical', 'categorical', 'categorical']\n",
    "demo_test = [[], [], [], []]\n",
    "fc_test = []\n",
    "demo_train = [[], [], [], []]\n",
    "fc_train = []\n",
    "\n",
    "bsnipdir = '/home/anton/Documents/Tulane/Research/data-sav/anton/cohorts/BSNIP/'\n",
    "bsnip = pickle.load(open(f'{bsnipdir}/demographics.pkl', 'rb'))\n",
    "\n",
    "a,b = np.triu_indices(264,1)\n",
    "\n",
    "for sub in bsnip['Age_cal']:\n",
    "    parts = sub.split('.')\n",
    "    # if parts[0] != loc:\n",
    "    #     continue\n",
    "    age = bsnip['Age_cal'][sub]\n",
    "    sex = int(bsnip['sex'][sub] == 's1.0')\n",
    "    race = int(bsnip['Race'][sub] == 'AA')\n",
    "    diag = bsnip['DXGROUP_1'][sub]\n",
    "    diag = diag_map[diag]\n",
    "    if diag != 0 and diag != 3:\n",
    "        continue\n",
    "    if parts[0] == loc:\n",
    "        demo_test[0].append(age)\n",
    "        demo_test[1].append(sex)\n",
    "        demo_test[2].append(race)\n",
    "        demo_test[3].append(diag)\n",
    "        p = np.load(f'{bsnipdir}/fc/{sub}_task-unk_fc.npy')\n",
    "        p = remap(vec2mat(p))[a,b]\n",
    "        fc_test.append(p)\n",
    "    else:\n",
    "        demo_train[0].append(age)\n",
    "        demo_train[1].append(sex)\n",
    "        demo_train[2].append(race)\n",
    "        demo_train[3].append(diag)\n",
    "        p = np.load(f'{bsnipdir}/fc/{sub}_task-unk_fc.npy')\n",
    "        p = remap(vec2mat(p))[a,b]\n",
    "        fc_train.append(p)\n",
    "\n",
    "fc_test = np.stack(fc_test)\n",
    "fc_train = np.stack(fc_train)\n",
    "for i in range(len(demo_test)):\n",
    "    demo_test[i] = np.array(demo_test[i])\n",
    "    demo_train[i] = np.array(demo_train[i])\n",
    "    print(demo_test[i])\n",
    "\n",
    "print(fc_test.shape)\n",
    "print(fc_train.shape)"
   ]
  },
  {
   "cell_type": "code",
   "execution_count": 186,
   "id": "45ad59dd-44fa-497e-bdfa-efd936973c61",
   "metadata": {},
   "outputs": [
    {
     "name": "stdout",
     "output_type": "stream",
     "text": [
      "0.75\n"
     ]
    }
   ],
   "source": [
    "from sklearn.linear_model import LogisticRegression\n",
    "\n",
    "# # xtr = vae.get_latents(fc_all)\n",
    "# xtr = np.concatenate([fc_all, np.stack([demo_all[0], demo_all[1], demo_all[2]], axis=1)], axis=1)\n",
    "xtr = fc_all\n",
    "# print(xtr.shape)\n",
    "\n",
    "# # xt = vae.get_latents(fc_test)\n",
    "# xt = np.concatenate([fc_test, np.stack([demo_test[0], demo_test[1], demo_test[2]], axis=1)], axis=1)\n",
    "xt = fc_test\n",
    "# print(xt.shape)\n",
    "\n",
    "reg = LogisticRegression(C=0.1, max_iter=1000).fit(xtr, demo_all[3])\n",
    "yhat = reg.predict(xt)\n",
    "acc = np.mean(yhat == demo_test[3])\n",
    "print(acc)"
   ]
  },
  {
   "cell_type": "code",
   "execution_count": 23,
   "id": "61beba21-7bd7-4306-b001-ee4744cbfa26",
   "metadata": {},
   "outputs": [
    {
     "data": {
      "text/plain": [
       "<sklearn.metrics._plot.confusion_matrix.ConfusionMatrixDisplay at 0x73256b762210>"
      ]
     },
     "execution_count": 23,
     "metadata": {},
     "output_type": "execute_result"
    },
    {
     "data": {
      "image/png": "[encoded data removed]",
      "text/plain": [
       "<Figure size 640x480 with 2 Axes>"
      ]
     },
     "metadata": {},
     "output_type": "display_data"
    }
   ],
   "source": [
    "from sklearn.metrics import ConfusionMatrixDisplay\n",
    "ConfusionMatrixDisplay.from_predictions(demo_test[3], yhat)"
   ]
  },
  {
   "cell_type": "code",
   "execution_count": null,
   "id": "aa2eca47-b2b3-44d5-89d0-ce03dd211f4f",
   "metadata": {},
   "outputs": [],
   "source": []
  }
 ],
 "metadata": {
  "kernelspec": {
   "display_name": "Python 3 (ipykernel)",
   "language": "python",
   "name": "python3"
  },
  "language_info": {
   "codemirror_mode": {
    "name": "ipython",
    "version": 3
   },
   "file_extension": ".py",
   "mimetype": "text/x-python",
   "name": "python",
   "nbconvert_exporter": "python",
   "pygments_lexer": "ipython3",
   "version": "3.12.5"
  }
 },
 "nbformat": 4,
 "nbformat_minor": 5
}
