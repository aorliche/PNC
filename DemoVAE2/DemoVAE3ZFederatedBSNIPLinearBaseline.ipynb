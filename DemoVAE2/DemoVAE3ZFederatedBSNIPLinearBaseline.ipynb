{
 "cells": [
  {
   "cell_type": "code",
   "execution_count": 1,
   "id": "581dd815-5037-4c01-b805-1d180a41e35f",
   "metadata": {},
   "outputs": [
    {
     "name": "stdout",
     "output_type": "stream",
     "text": [
      "Complete\n"
     ]
    }
   ],
   "source": [
    "# Count how many subjects in each group we have\n",
    "\n",
    "ours2orig = [12, 13, 14, 15, 16, 17, 18, 19, 20, 21, 22, 23, 24, 25, 26, 27,\n",
    "28, 29, 30, 31, 32, 33, 34, 35, 36, 37, 38, 39, 40, 254, 41, 42, 43, 44, 45,\n",
    "46, 47, 48, 49, 50, 51, 52, 53, 54, 55, 56, 57, 58, 59, 60, 61, 62, 63, 64,\n",
    "65, 66, 67, 68, 69, 70, 71, 72, 73, 74, 75, 76, 77, 78, 79, 80, 81, 82, 85,\n",
    "86, 87, 88, 89, 90, 91, 92, 93, 94, 95, 96, 97, 98, 99, 100, 101, 102, 103,\n",
    "104, 105, 106, 107, 108, 109, 110, 111, 112, 113, 114, 115, 116, 117, 118,\n",
    "119, 120, 121, 122, 123, 124, 125, 126, 127, 128, 129, 130, 136, 138, 132,\n",
    "133, 134, 135, 220, 142, 143, 144, 145, 146, 147, 148, 149, 150, 151, 152,\n",
    "153, 154, 155, 156, 157, 158, 159, 160, 161, 162, 163, 164, 165, 166, 167,\n",
    "168, 169, 170, 171, 172, 173, 174, 175, 176, 177, 178, 179, 180, 185, 186,\n",
    "187, 188, 189, 190, 191, 192, 193, 194, 195, 196, 197, 198, 199, 200, 201,\n",
    "202, 203, 204, 205, 206, 207, 208, 209, 210, 211, 212, 213, 214, 215, 216,\n",
    "217, 218, 219, 221, 222, 223, 224, 225, 226, 227, 228, 229, 230, 231, 232,\n",
    "233, 137, 234, 235, 236, 237, 238, 239, 240, 241, 250, 251, 255, 256, 257,\n",
    "258, 259, 260, 261, 262, 263, 242, 243, 244, 245, 0, 1, 2, 3, 4, 5, 6, 7, 8,\n",
    "9, 10, 11, 83, 84, 131, 139, 140, 141, 181, 182, 183, 184, 246, 247, 248,\n",
    "249, 252, 253]\n",
    "\n",
    "def vec2mat(v):\n",
    "    a,b = np.triu_indices(264,1)\n",
    "    m = np.zeros((264,264))\n",
    "    m[a,b] = v\n",
    "    return m+m.T\n",
    "\n",
    "def remap(fc, roimap=ours2orig):\n",
    "    fc = fc[roimap,:]\n",
    "    fc = fc[:,roimap]\n",
    "    return fc\n",
    "\n",
    "print('Complete')"
   ]
  },
  {
   "cell_type": "code",
   "execution_count": 14,
   "id": "9bd89d64-8938-44e1-84ec-5488e867e10a",
   "metadata": {},
   "outputs": [
    {
     "name": "stdout",
     "output_type": "stream",
     "text": [
      "Baltimore\n",
      "279\n",
      "{'SZP': 68, 'NC': 49, 'BPP': 28, 'SADBPP': 11, 'SADDEPP': 14, 'SADDEPR': 16, 'BPR': 37, 'SZR': 46, 'SADBPR': 10}\n",
      "Boston\n",
      "33\n",
      "{'SZR': 7, 'NC': 9, 'SADBPR': 3, 'SZP': 5, 'BPR': 3, 'BPP': 4, 'SADBPP': 2}\n",
      "Chicago\n",
      "238\n",
      "{'SADBPP': 21, 'SZP': 32, 'NC': 52, 'BPP': 51, 'SADBPR': 12, 'BPR': 40, 'SADDEPR': 5, 'SADDEPP': 5, 'SZR': 20}\n",
      "Dallas\n",
      "227\n",
      "{'BPP': 26, 'SADDEPR': 11, 'SZR': 25, 'NC': 60, 'SZP': 23, 'SADBPR': 30, 'SADBPP': 30, 'BPR': 13, 'SADDEPP': 9}\n",
      "Detroit\n",
      "116\n",
      "{'BPR': 15, 'BPP': 27, 'SZP': 22, 'NC': 23, 'SZR': 19, 'SADBPP': 4, 'SADBPR': 2, 'SADDEPR': 3, 'SADDEPP': 1}\n",
      "Hartford\n",
      "351\n",
      "{'SADBPP': 28, 'SZP': 49, 'SADDEPR': 22, 'BPP': 34, 'SADBPR': 41, 'NC': 49, 'SZR': 64, 'SADDEPP': 15, 'BPR': 49}\n",
      "(1244, 34716) (1244,)\n"
     ]
    }
   ],
   "source": [
    "import pickle\n",
    "import numpy as np\n",
    "\n",
    "# s1.0 = male probably\n",
    "\n",
    "bsnipdir = '/home/anton/Documents/Tulane/Research/data-sav/anton/cohorts/BSNIP/'\n",
    "demo = pickle.load(open(f'{bsnipdir}/demographics.pkl', 'rb'))\n",
    "\n",
    "location = {}\n",
    "fc = []\n",
    "diags = []\n",
    "\n",
    "a,b = np.triu_indices(264,1)\n",
    "\n",
    "for sub in demo['Age_cal']:\n",
    "    parts = sub.split('.')\n",
    "    diag = demo['DXGROUP_1'][sub]\n",
    "    if parts[0] not in location:\n",
    "        location[parts[0]] = {'Diag': {}}\n",
    "    if diag not in location[parts[0]]['Diag']:\n",
    "        location[parts[0]]['Diag'][diag] = 1\n",
    "    else:\n",
    "        location[parts[0]]['Diag'][diag] += 1\n",
    "    p = np.load(f'{bsnipdir}/fc/{sub}_task-unk_fc.npy')\n",
    "    p = remap(vec2mat(p))[a,b]\n",
    "    fc.append(p)\n",
    "    if diag == 'SZP':\n",
    "        d = 0\n",
    "    elif diag == 'BPP':\n",
    "        d = 1\n",
    "    elif diag == 'SADBPP':\n",
    "        d = 2\n",
    "    elif diag == 'SADDEPP':\n",
    "        d = 3\n",
    "    elif diag == 'NC':\n",
    "        d = 4\n",
    "    else:\n",
    "        d = 5\n",
    "    diags.append(d)\n",
    "\n",
    "for loc in location:\n",
    "    print(loc)\n",
    "    tot = 0\n",
    "    for num in location[loc]['Diag'].values():\n",
    "        tot += num\n",
    "    print(tot)\n",
    "    print(location[loc]['Diag'])\n",
    "\n",
    "fc = np.stack(fc)\n",
    "diags = np.array(diags)\n",
    "\n",
    "print(fc.shape, diags.shape)"
   ]
  },
  {
   "cell_type": "code",
   "execution_count": 15,
   "id": "ec640de8-032f-4804-8cf4-832cd3757688",
   "metadata": {},
   "outputs": [
    {
     "name": "stdout",
     "output_type": "stream",
     "text": [
      "0 199\n",
      "1 170\n",
      "2 96\n",
      "3 44\n",
      "4 242\n",
      "5 493\n"
     ]
    }
   ],
   "source": [
    "for d in [0, 1, 2, 3, 4, 5]:\n",
    "    print(d, np.sum(diags == d))"
   ]
  },
  {
   "cell_type": "code",
   "execution_count": 55,
   "id": "34b719a4-7572-47d6-8ad9-0484462289dc",
   "metadata": {},
   "outputs": [
    {
     "name": "stdout",
     "output_type": "stream",
     "text": [
      "0.6258503401360545\n"
     ]
    },
    {
     "data": {
      "text/plain": [
       "<sklearn.metrics._plot.confusion_matrix.ConfusionMatrixDisplay at 0x73a584733200>"
      ]
     },
     "execution_count": 55,
     "metadata": {},
     "output_type": "execute_result"
    },
    {
     "data": {
      "image/png": "[encoded data removed]",
      "text/plain": [
       "<Figure size 640x480 with 2 Axes>"
      ]
     },
     "metadata": {},
     "output_type": "display_data"
    }
   ],
   "source": [
    "from sklearn.model_selection import train_test_split\n",
    "from sklearn.linear_model import LogisticRegression\n",
    "from sklearn.metrics import ConfusionMatrixDisplay\n",
    "\n",
    "fc0 = fc[diags == 0]\n",
    "fc1 = fc[diags == 5]\n",
    "fc4 = fc[diags == 4]\n",
    "fc014 = np.concatenate([fc1, fc4])\n",
    "\n",
    "diags0 = diags[diags == 0]\n",
    "diags1 = diags[diags == 5]\n",
    "diags4 = diags[diags == 4]\n",
    "diags014 = np.concatenate([diags1, diags4])\n",
    "\n",
    "xtr, xt, ytr, yt = train_test_split(fc014, diags014, train_size=0.8, stratify=diags014)\n",
    "\n",
    "reg = LogisticRegression(C=1000).fit(xtr, ytr)\n",
    "yhat = reg.predict(xt)\n",
    "print(np.sum(yhat == yt)/len(yhat))\n",
    "ConfusionMatrixDisplay.from_predictions(yt, yhat)"
   ]
  },
  {
   "cell_type": "code",
   "execution_count": 18,
   "id": "6cc925cb-6aa2-4484-8f72-e31afc4c6f31",
   "metadata": {},
   "outputs": [
    {
     "name": "stdout",
     "output_type": "stream",
     "text": [
      "0.5284552845528455\n"
     ]
    }
   ],
   "source": [
    "right = 16+12+37\n",
    "wrong = 12+12+11+11+5+7\n",
    "print(right/(right+wrong))"
   ]
  },
  {
   "cell_type": "code",
   "execution_count": null,
   "id": "21877f9f-03f6-4fe2-9e13-6b795dd2fa7d",
   "metadata": {},
   "outputs": [],
   "source": []
  }
 ],
 "metadata": {
  "kernelspec": {
   "display_name": "Python 3 (ipykernel)",
   "language": "python",
   "name": "python3"
  },
  "language_info": {
   "codemirror_mode": {
    "name": "ipython",
    "version": 3
   },
   "file_extension": ".py",
   "mimetype": "text/x-python",
   "name": "python",
   "nbconvert_exporter": "python",
   "pygments_lexer": "ipython3",
   "version": "3.12.5"
  }
 },
 "nbformat": 4,
 "nbformat_minor": 5
}
