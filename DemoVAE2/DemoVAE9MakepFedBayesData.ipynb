{
 "cells": [
  {
   "cell_type": "code",
   "execution_count": 1,
   "id": "98714e6e-4dec-4069-bd15-838e11c15596",
   "metadata": {},
   "outputs": [
    {
     "name": "stdout",
     "output_type": "stream",
     "text": [
      "Complete\n"
     ]
    }
   ],
   "source": [
    "# Create data in json format for pFedBayes algorithm\n",
    "# Actual running of the algorithm is in pFedBayes GitHub repo (I have edited some of the source lines)\n",
    "\n",
    "ours2orig = [12, 13, 14, 15, 16, 17, 18, 19, 20, 21, 22, 23, 24, 25, 26, 27,\n",
    "28, 29, 30, 31, 32, 33, 34, 35, 36, 37, 38, 39, 40, 254, 41, 42, 43, 44, 45,\n",
    "46, 47, 48, 49, 50, 51, 52, 53, 54, 55, 56, 57, 58, 59, 60, 61, 62, 63, 64,\n",
    "65, 66, 67, 68, 69, 70, 71, 72, 73, 74, 75, 76, 77, 78, 79, 80, 81, 82, 85,\n",
    "86, 87, 88, 89, 90, 91, 92, 93, 94, 95, 96, 97, 98, 99, 100, 101, 102, 103,\n",
    "104, 105, 106, 107, 108, 109, 110, 111, 112, 113, 114, 115, 116, 117, 118,\n",
    "119, 120, 121, 122, 123, 124, 125, 126, 127, 128, 129, 130, 136, 138, 132,\n",
    "133, 134, 135, 220, 142, 143, 144, 145, 146, 147, 148, 149, 150, 151, 152,\n",
    "153, 154, 155, 156, 157, 158, 159, 160, 161, 162, 163, 164, 165, 166, 167,\n",
    "168, 169, 170, 171, 172, 173, 174, 175, 176, 177, 178, 179, 180, 185, 186,\n",
    "187, 188, 189, 190, 191, 192, 193, 194, 195, 196, 197, 198, 199, 200, 201,\n",
    "202, 203, 204, 205, 206, 207, 208, 209, 210, 211, 212, 213, 214, 215, 216,\n",
    "217, 218, 219, 221, 222, 223, 224, 225, 226, 227, 228, 229, 230, 231, 232,\n",
    "233, 137, 234, 235, 236, 237, 238, 239, 240, 241, 250, 251, 255, 256, 257,\n",
    "258, 259, 260, 261, 262, 263, 242, 243, 244, 245, 0, 1, 2, 3, 4, 5, 6, 7, 8,\n",
    "9, 10, 11, 83, 84, 131, 139, 140, 141, 181, 182, 183, 184, 246, 247, 248,\n",
    "249, 252, 253]\n",
    "\n",
    "def vec2mat(v):\n",
    "    a,b = np.triu_indices(264,1)\n",
    "    m = np.zeros((264,264))\n",
    "    m[a,b] = v\n",
    "    return m+m.T\n",
    "\n",
    "def remap(fc, roimap=ours2orig):\n",
    "    fc = fc[roimap,:]\n",
    "    fc = fc[:,roimap]\n",
    "    return fc\n",
    "\n",
    "print('Complete')"
   ]
  },
  {
   "cell_type": "code",
   "execution_count": 2,
   "id": "834fecee-0514-4c9a-b2cb-6421d630153f",
   "metadata": {},
   "outputs": [
    {
     "name": "stdout",
     "output_type": "stream",
     "text": [
      "226\n",
      "34716\n",
      "[0, 0, 1, 0, 0, 1, 0, 0, 1, 1, 1, 1, 1, 1, 1, 1, 1, 1, 1, 0, 1, 1, 1, 0, 1, 0, 1, 1, 1, 1, 1, 1, 1, 1, 1, 0, 1, 1, 1, 1, 1, 1, 1, 1, 0, 1, 0, 0, 1, 1, 1, 1, 0, 1, 1, 1, 0, 0, 0, 1, 1, 0, 1, 0, 0, 1, 1, 1, 0, 1, 1, 1, 1, 1, 1, 0, 1, 0, 1, 1, 1, 1, 0, 0, 0, 1, 1, 0, 0, 0, 1, 1, 1, 1, 0, 1, 1, 1, 1, 1, 0, 0, 1, 1, 0, 0, 1, 1, 1, 0, 1, 1, 1, 1, 0, 1, 1, 0, 1, 1, 0, 0, 0, 0, 1, 1, 1, 0, 1, 1, 0, 1, 1, 1, 1, 1, 1, 1, 1, 0, 0, 0, 1, 0, 0, 1, 1, 1, 1, 1, 0, 1, 1, 1, 0, 1, 1, 0, 1, 1, 0, 1, 0, 1, 1, 0, 1, 1, 1, 1, 1, 1, 1, 0, 1, 1, 1, 1, 1, 0, 1, 0, 0, 0, 1, 0, 1, 1, 0, 1, 1, 1, 1, 1, 1, 1, 0, 1, 1, 1, 1, 1, 0, 1, 1, 1, 0, 1, 0, 1, 1, 0, 1, 0, 1, 1, 1, 1, 1, 0, 1, 1, 1, 1, 1, 1]\n",
      "161\n",
      "34716\n",
      "[0, 1, 1, 1, 1, 1, 1, 1, 1, 1, 1, 1, 1, 1, 1, 1, 1, 1, 1, 1, 1, 0, 1, 1, 1, 1, 1, 1, 1, 1, 0, 1, 1, 1, 1, 1, 1, 1, 1, 1, 1, 1, 1, 1, 0, 1, 1, 1, 1, 0, 1, 1, 1, 1, 1, 0, 1, 1, 0, 1, 1, 1, 1, 0, 1, 1, 1, 0, 1, 1, 1, 1, 1, 1, 1, 0, 0, 1, 1, 0, 0, 0, 1, 1, 0, 1, 0, 1, 1, 1, 1, 1, 1, 1, 0, 1, 0, 1, 1, 1, 1, 1, 1, 1, 0, 1, 0, 1, 1, 0, 1, 1, 1, 1, 1, 0, 1, 0, 0, 1, 1, 1, 1, 1, 1, 1, 1, 1, 1, 1, 1, 1, 0, 1, 0, 1, 0, 1, 0, 1, 1, 1, 1, 1, 0, 1, 1, 1, 0, 1, 1, 1, 1, 1, 1, 1, 1, 0, 1, 1, 0]\n",
      "162\n",
      "34716\n",
      "[1, 1, 1, 1, 0, 1, 1, 0, 1, 0, 1, 1, 1, 1, 1, 1, 1, 0, 1, 1, 1, 1, 1, 1, 1, 1, 1, 1, 1, 1, 1, 1, 1, 0, 1, 1, 1, 1, 0, 0, 1, 1, 1, 1, 1, 0, 1, 1, 1, 0, 1, 0, 1, 1, 1, 1, 1, 1, 1, 0, 1, 0, 1, 1, 1, 1, 1, 1, 1, 1, 1, 1, 1, 1, 1, 0, 1, 1, 1, 1, 1, 1, 1, 1, 1, 1, 1, 1, 1, 1, 1, 1, 1, 1, 1, 1, 1, 1, 1, 1, 1, 1, 1, 1, 1, 1, 0, 1, 1, 1, 1, 1, 1, 1, 1, 1, 1, 1, 0, 1, 1, 1, 1, 1, 1, 1, 1, 1, 0, 1, 0, 1, 0, 1, 1, 1, 1, 1, 1, 1, 0, 1, 1, 0, 1, 1, 1, 0, 1, 1, 1, 1, 1, 1, 0, 1, 1, 1, 1, 0, 1, 1]\n",
      "84\n",
      "34716\n",
      "[1, 0, 0, 1, 1, 0, 1, 1, 1, 1, 1, 1, 1, 1, 0, 1, 1, 0, 1, 1, 1, 1, 1, 1, 0, 1, 1, 1, 1, 1, 1, 1, 0, 1, 0, 1, 1, 1, 0, 1, 1, 1, 0, 1, 1, 1, 0, 1, 1, 1, 1, 1, 1, 0, 1, 1, 1, 0, 1, 0, 1, 0, 1, 0, 1, 0, 1, 1, 0, 1, 1, 1, 1, 1, 1, 0, 0, 0, 1, 1, 1, 1, 0, 1]\n",
      "274\n",
      "34716\n",
      "[0, 1, 0, 0, 1, 1, 1, 1, 0, 1, 1, 1, 1, 1, 1, 1, 1, 0, 1, 0, 1, 1, 0, 1, 1, 1, 1, 1, 1, 1, 1, 1, 0, 1, 0, 1, 0, 1, 1, 1, 1, 1, 1, 1, 1, 1, 1, 1, 0, 1, 1, 1, 1, 1, 1, 0, 0, 1, 1, 1, 1, 0, 1, 1, 1, 1, 1, 1, 1, 1, 0, 1, 1, 1, 1, 1, 1, 1, 1, 1, 0, 1, 0, 1, 1, 1, 1, 1, 1, 1, 1, 1, 1, 1, 1, 0, 1, 1, 1, 1, 1, 0, 1, 1, 0, 0, 0, 1, 1, 1, 1, 1, 0, 1, 1, 0, 1, 0, 1, 1, 1, 1, 1, 1, 0, 1, 1, 1, 1, 1, 0, 1, 1, 0, 1, 1, 0, 1, 1, 0, 1, 0, 1, 1, 1, 1, 1, 1, 0, 0, 1, 1, 0, 1, 1, 1, 1, 1, 1, 1, 1, 1, 1, 1, 1, 0, 1, 1, 0, 1, 1, 0, 1, 1, 1, 1, 1, 0, 1, 1, 1, 1, 1, 1, 0, 1, 1, 1, 1, 1, 0, 1, 1, 1, 1, 0, 1, 1, 1, 0, 1, 1, 1, 1, 1, 1, 0, 1, 0, 1, 1, 1, 0, 1, 1, 1, 1, 1, 1, 1, 0, 1, 0, 1, 1, 1, 1, 1, 1, 1, 1, 1, 1, 1, 1, 1, 0, 1, 1, 1, 1, 1, 1, 1, 1, 1, 1, 1, 1, 1, 1, 1, 1, 1, 1, 1, 1, 1, 1, 0, 1, 1, 1, 1, 1, 1, 1, 1, 1, 1, 1, 1, 1, 1]\n"
     ]
    }
   ],
   "source": [
    "sites = ['Baltimore', 'Chicago', 'Dallas', 'Detroit', 'Hartford']\n",
    "test_site = '' #'Hartford'\n",
    "\n",
    "train_fcs = [[], [], [], [], []]\n",
    "train_labels = [[], [], [], [], []]\n",
    "\n",
    "test_fcs = []\n",
    "test_labels = []\n",
    "\n",
    "import pickle\n",
    "import numpy as np\n",
    "\n",
    "diag_map = {'SZP': 0, 'BPP': 1, 'SADBPP': 2, 'SADDEPP': 2, 'NC': 3, 'SADDEPR': 3, 'SADBPR': 3, 'BPR': 3, 'SZR': 3} \n",
    "\n",
    "bsnipdir = '/home/anton/Documents/Tulane/Research/data-sav/anton/cohorts/BSNIP/'\n",
    "bsnip = pickle.load(open(f'{bsnipdir}/demographics.pkl', 'rb'))\n",
    "\n",
    "a,b = np.triu_indices(264,1)\n",
    "\n",
    "for sub in bsnip['Age_cal']:\n",
    "    parts = sub.split('.')\n",
    "    diag = bsnip['DXGROUP_1'][sub]\n",
    "    # if diag != 'SZP' and diag != 'NC':\n",
    "    #     continue\n",
    "    diag = diag_map[diag]\n",
    "    if diag != 0 and diag != 3:\n",
    "        continue\n",
    "    diag = int(diag == 3)\n",
    "    p = np.load(f'{bsnipdir}/fc/{sub}_task-unk_fc.npy')\n",
    "    p = remap(vec2mat(p))[a,b].tolist()\n",
    "    if parts[0] == test_site:\n",
    "        test_fcs.append(p)\n",
    "        test_labels.append(diag)\n",
    "    else:\n",
    "        for i in range(len(sites)):\n",
    "            if parts[0] == sites[i]:\n",
    "                train_fcs[i].append(p)\n",
    "                train_labels[i].append(diag)\n",
    "                break\n",
    "\n",
    "for i in range(len(sites)):\n",
    "    # train_fcs[i] = np.stack(train_fcs[i])\n",
    "    # train_labels[i] = np.array(train_labels[i])\n",
    "    print(len(train_fcs[i]))\n",
    "    print(len(train_fcs[i][0]))\n",
    "    print(train_labels[i])\n",
    "\n",
    "# test_fcs = np.stack(test_fcs)\n",
    "# test_labels = np.array(test_labels)\n",
    "# print(test_fcs.shape)\n",
    "# print(test_labels)"
   ]
  },
  {
   "cell_type": "code",
   "execution_count": 5,
   "id": "dda81cc7-a0d9-4a64-885b-a7000c1319cf",
   "metadata": {},
   "outputs": [
    {
     "name": "stdout",
     "output_type": "stream",
     "text": [
      "Beginning dump\n",
      "Finished train\n",
      "Finished test\n"
     ]
    }
   ],
   "source": [
    "test_site = 1\n",
    "base_path = '/home/anton/Documents/Tulane/Research/FederatedVAE/pFedBayes/data/Bsnip/data'\n",
    "train_path = f'{base_path}/train/bsnip_train.json'\n",
    "test_path = f'{base_path}/test/bsnip_test.json'\n",
    "\n",
    "import json\n",
    "\n",
    "train_data = {'users': [], 'user_data': {}, 'num_samples': []}\n",
    "test_data = {'users': [], 'user_data': {}, 'num_samples': []}\n",
    "\n",
    "for i in range(5):\n",
    "    if i == test_site:\n",
    "        continue\n",
    "    uname = 'f_{0:05d}'.format(i)\n",
    "\n",
    "    train_data['users'].append(uname)\n",
    "    train_data['user_data'][uname] = {'x': train_fcs[i], 'y': train_labels[i]}\n",
    "    train_data['num_samples'].append(len(train_fcs[i]))\n",
    "\n",
    "    test_data['users'].append(uname)\n",
    "    test_data['user_data'][uname] = {'x': train_fcs[test_site], 'y': train_labels[test_site]}\n",
    "    test_data['num_samples'].append(len(train_fcs[test_site]))\n",
    "\n",
    "print('Beginning dump')\n",
    "\n",
    "with open(train_path, 'w') as outfile:\n",
    "    json.dump(train_data, outfile)\n",
    "\n",
    "print('Finished train')\n",
    "\n",
    "with open(test_path, 'w') as outfile:\n",
    "    json.dump(test_data, outfile)\n",
    "\n",
    "print('Finished test')"
   ]
  },
  {
   "cell_type": "code",
   "execution_count": 11,
   "id": "32bfcd20-9cd6-4e49-a908-f5a3bb89cd41",
   "metadata": {},
   "outputs": [
    {
     "name": "stdout",
     "output_type": "stream",
     "text": [
      "Complete\n"
     ]
    }
   ],
   "source": [
    "# For FedProx\n",
    "\n",
    "test_site = 4\n",
    "val_site = 0\n",
    "base_path = f'/home/anton/Documents/Tulane/Research/FederatedVAE/FedProx-PyTorch/data/Bsnip/{test_site}.pkl'\n",
    "\n",
    "train_data = []\n",
    "val_data = []\n",
    "test_data = []\n",
    "train_y = []\n",
    "val_y = []\n",
    "test_y = []\n",
    "\n",
    "for i in range(5):\n",
    "    if i == test_site or i == val_site:\n",
    "        continue\n",
    "    train_data.append(train_fcs[i])\n",
    "    train_y.append(np.array(train_labels[i]))\n",
    "\n",
    "train_data = np.concatenate(train_data)\n",
    "train_y = np.concatenate(train_y)\n",
    "\n",
    "val_data = np.stack(train_fcs[val_site])\n",
    "val_y = np.array(train_labels[val_site])\n",
    "\n",
    "test_data = np.stack(train_fcs[test_site])\n",
    "test_y = np.array(train_labels[test_site])\n",
    "\n",
    "with open(base_path, 'wb') as f:\n",
    "    obj = {'train_data': train_data, 'val_data': val_data, 'test_data': test_data,\n",
    "           'train_y': train_y, 'val_y': val_y, 'test_y': test_y}\n",
    "    pickle.dump(obj, f)\n",
    "\n",
    "print('Complete')"
   ]
  },
  {
   "cell_type": "code",
   "execution_count": null,
   "id": "757eea5d-b78e-4746-a9c4-3112d9b59ca4",
   "metadata": {},
   "outputs": [],
   "source": []
  }
 ],
 "metadata": {
  "kernelspec": {
   "display_name": "Python 3 (ipykernel)",
   "language": "python",
   "name": "python3"
  },
  "language_info": {
   "codemirror_mode": {
    "name": "ipython",
    "version": 3
   },
   "file_extension": ".py",
   "mimetype": "text/x-python",
   "name": "python",
   "nbconvert_exporter": "python",
   "pygments_lexer": "ipython3",
   "version": "3.13.1"
  }
 },
 "nbformat": 4,
 "nbformat_minor": 5
}
