{
 "cells": [
  {
   "cell_type": "code",
   "execution_count": 5,
   "id": "743d15ec-be92-41ec-80be-15ceb2704025",
   "metadata": {},
   "outputs": [],
   "source": [
    "# Generate synthetic XOR data that fails most federated learning models\n",
    "# This is for input to the pFedBayes model, which is tested from their GitHub repo\n",
    "\n",
    "import numpy as np\n",
    "\n",
    "Ng = 100\n",
    "Nf = 1000\n",
    "N1 = np.arange(0,100)\n",
    "N2 = np.arange(100,200)\n",
    "mag = 0.7\n",
    "N1mag = mag\n",
    "N2mag = mag\n",
    "y1 = np.zeros(Ng).astype(\"long\")\n",
    "y2 = np.zeros(Ng).astype(\"long\")\n",
    "\n",
    "x1 = np.random.normal(size=(Ng, Nf))\n",
    "x2 = np.random.normal(size=(Ng, Nf))\n",
    "\n",
    "for i in range(Ng):\n",
    "    x1[i,N1] += N1mag\n",
    "    x2[i,N1] -= N1mag\n",
    "    if i < 50:\n",
    "        x1[i,N2] += N2mag\n",
    "        x2[i,N2] -= N2mag\n",
    "        y1[i] = 1\n",
    "        y2[i] = 1\n",
    "    else:\n",
    "        x1[i,N2] -= N2mag\n",
    "        x2[i,N2] += N2mag\n",
    "        y1[i] = 0\n",
    "        y2[i] = 0"
   ]
  },
  {
   "cell_type": "code",
   "execution_count": 6,
   "id": "22f3ba9d-2fd5-43d8-b456-cd301c3e5523",
   "metadata": {},
   "outputs": [
    {
     "name": "stdout",
     "output_type": "stream",
     "text": [
      "Beginning dump\n",
      "Finished train\n",
      "Finished test\n"
     ]
    }
   ],
   "source": [
    "from sklearn.linear_model import LogisticRegression\n",
    "from sklearn.model_selection import train_test_split\n",
    "\n",
    "x1tr, x1t, y1tr, y1t, x2tr, x2t, y2tr, y2t = train_test_split(x1, y1, x2, y2, train_size=0.5)\n",
    "\n",
    "base_path = '/home/anton/Documents/Tulane/Research/FederatedVAE/pFedBayes/data/Synthetic/data'\n",
    "train_path = f'{base_path}/train/synthetic_train.json'\n",
    "test_path = f'{base_path}/test/synthetic_test.json'\n",
    "\n",
    "import json\n",
    "\n",
    "train_data = {'users': [], 'user_data': {}, 'num_samples': []}\n",
    "test_data = {'users': [], 'user_data': {}, 'num_samples': []}\n",
    "\n",
    "train_data['users'].append('f_0')\n",
    "train_data['user_data']['f_0'] = {'x': [x1tr[i].tolist() for i in range(len(x1tr))], 'y': [int(y1tr[i]) for i in range(len(y1tr))]}\n",
    "train_data['num_samples'].append(len(x1tr))\n",
    "\n",
    "train_data['users'].append('f_1')\n",
    "train_data['user_data']['f_1'] = {'x': [x2tr[i].tolist() for i in range(len(x2tr))], 'y': [int(y2tr[i]) for i in range(len(y2tr))]}\n",
    "train_data['num_samples'].append(len(x2tr))\n",
    "\n",
    "xt = np.concatenate([x1t, x2t])\n",
    "yt = np.concatenate([y1t, y2t])\n",
    "\n",
    "test_data['users'].append('f_0')\n",
    "test_data['user_data']['f_0'] = {'x': [xt[i].tolist() for i in range(len(xt))], 'y': [int(yt[i]) for i in range(len(yt))]}\n",
    "test_data['num_samples'].append(len(xt))\n",
    "\n",
    "test_data['users'].append('f_1')\n",
    "test_data['user_data']['f_1'] = {'x': [xt[i].tolist() for i in range(len(xt))], 'y': [int(yt[i]) for i in range(len(yt))]}\n",
    "test_data['num_samples'].append(len(xt))\n",
    "\n",
    "print('Beginning dump')\n",
    "\n",
    "with open(train_path, 'w') as outfile:\n",
    "    json.dump(train_data, outfile)\n",
    "\n",
    "print('Finished train')\n",
    "\n",
    "with open(test_path, 'w') as outfile:\n",
    "    json.dump(test_data, outfile)\n",
    "\n",
    "print('Finished test')"
   ]
  },
  {
   "cell_type": "code",
   "execution_count": null,
   "id": "f637ac6b-6c13-4b0b-800d-99522cf40ad3",
   "metadata": {},
   "outputs": [],
   "source": []
  }
 ],
 "metadata": {
  "kernelspec": {
   "display_name": "Python 3 (ipykernel)",
   "language": "python",
   "name": "python3"
  },
  "language_info": {
   "codemirror_mode": {
    "name": "ipython",
    "version": 3
   },
   "file_extension": ".py",
   "mimetype": "text/x-python",
   "name": "python",
   "nbconvert_exporter": "python",
   "pygments_lexer": "ipython3",
   "version": "3.13.1"
  }
 },
 "nbformat": 4,
 "nbformat_minor": 5
}
