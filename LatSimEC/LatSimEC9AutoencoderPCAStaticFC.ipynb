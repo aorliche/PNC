{
 "cells": [
  {
   "cell_type": "code",
   "execution_count": 1,
   "id": "8985458f",
   "metadata": {},
   "outputs": [
    {
     "name": "stdout",
     "output_type": "stream",
     "text": [
      "['age', 'sex', 'wrat', 'missingage', 'missingsex', 'missingwrat', 'failedqc']\n",
      "['emoid', 'nback', 'rest']\n",
      "Complete\n"
     ]
    }
   ],
   "source": [
    "# Using newly preprocessed subjects\n",
    "\n",
    "import pickle\n",
    "\n",
    "metadictname = '/home/anton/Documents/Tulane/Research/PNC_Good/PNC_agesexwrat.pkl'\n",
    "alltsname = '/home/anton/Documents/Tulane/Research/PNC_Good/PNC_PowerTS_float2.pkl'\n",
    "\n",
    "with open(metadictname, 'rb') as f:\n",
    "    metadict = pickle.load(f)\n",
    "\n",
    "with open(alltsname, 'rb') as f:\n",
    "    allts = pickle.load(f)\n",
    "    \n",
    "print(list(metadict.keys()))\n",
    "print(list(allts.keys()))\n",
    "print('Complete')"
   ]
  },
  {
   "cell_type": "code",
   "execution_count": 2,
   "id": "d3882a6f",
   "metadata": {},
   "outputs": [
    {
     "name": "stdout",
     "output_type": "stream",
     "text": [
      "847\n",
      "(847, 264, 124)\n"
     ]
    }
   ],
   "source": [
    "'''\n",
    "Get subjects that have all tasks and paras specified\n",
    "Functions for creating independent and response variables\n",
    "'''\n",
    "\n",
    "import numpy as np\n",
    "\n",
    "def get_subs(allts, metadict, tasks, paras):\n",
    "    # Get subs for all paras\n",
    "    for i,para in enumerate(paras):\n",
    "        tmpset = set([int(sub[4:]) for sub in allts[para].keys()])\n",
    "        if i == 0:\n",
    "            paraset = tmpset\n",
    "        else:\n",
    "            paraset = paraset.intersection(tmpset)\n",
    "    # Get subs for all tasks\n",
    "    for i,task in enumerate(tasks):\n",
    "        tmpset = set([sub for sub in metadict[task].keys()])\n",
    "        if i == 0:\n",
    "            taskset = tmpset\n",
    "        else:\n",
    "            taskset = paraset.intersection(tmpset)\n",
    "    # Remove QC failures\n",
    "    allsubs = taskset.intersection(paraset)\n",
    "    for badsub in metadict['failedqc']:\n",
    "        try:\n",
    "            allsubs.remove(int(badsub[4:]))\n",
    "        except:\n",
    "            pass\n",
    "    return allsubs\n",
    "\n",
    "def get_X(allts, paras, subs):\n",
    "    X = []\n",
    "    for para in paras:\n",
    "        pX = [allts[para][f'sub-{sub}'] for sub in subs]\n",
    "        pX = np.stack(pX)\n",
    "        X.append(pX)\n",
    "    return X\n",
    "\n",
    "def get_y(metadict, tasks, subs):\n",
    "    y = []\n",
    "    for task in tasks:\n",
    "        if task == 'age' or task == 'wrat':\n",
    "            var = [metadict[task][sub] for sub in subs]\n",
    "            var = np.array(var)\n",
    "            y.append(var)\n",
    "        if task == 'sex':\n",
    "            maleness = [metadict[task][sub] == 'M' for sub in subs]\n",
    "            maleness = np.array(maleness)\n",
    "            sex = np.stack([maleness, 1-maleness], axis=1)\n",
    "            y.append(sex)\n",
    "    return y\n",
    "\n",
    "subs = get_subs(allts, metadict, ['age'], ['rest', 'nback', 'emoid'])\n",
    "print(len(subs))\n",
    "\n",
    "X = get_X(allts, ['rest'], subs)\n",
    "print(X[0].shape)"
   ]
  },
  {
   "cell_type": "code",
   "execution_count": 3,
   "id": "93d4eb16",
   "metadata": {},
   "outputs": [
    {
     "name": "stdout",
     "output_type": "stream",
     "text": [
      "(847, 34716)\n"
     ]
    }
   ],
   "source": [
    "# TS to condensed FC\n",
    "\n",
    "from scipy import signal\n",
    "\n",
    "def butter_bandpass(cutoff, fs, order=5):\n",
    "    nyq = 0.5 * fs\n",
    "    normal_cutoff = [cutoff[0] / nyq, cutoff[1] / nyq]\n",
    "    b, a = signal.butter(order, normal_cutoff, btype='band', analog=False)\n",
    "    return b, a\n",
    "\n",
    "def butter_bandpass_filter(data, cutoff, fs, order=5):\n",
    "    b, a = butter_bandpass(cutoff, fs, order=order)\n",
    "    y = signal.filtfilt(b, a, data)\n",
    "    return y\n",
    "\n",
    "tr = 1.83\n",
    "N = X[0].shape[0]\n",
    "\n",
    "def filter_design_ts(X):\n",
    "    Xs = []\n",
    "    for i in range(X.shape[0]):\n",
    "        nX = butter_bandpass_filter(X[i], [tr/20*N, 0.8*N], 2*N)\n",
    "        Xs.append(nX)\n",
    "    return np.stack(Xs)\n",
    "\n",
    "def ts_to_flat_fc(X):\n",
    "    p = np.corrcoef(X)\n",
    "    a,b = np.triu_indices(p[0].shape[0], 1)\n",
    "    p = p[a,b]\n",
    "    return p\n",
    "\n",
    "pflat = [ts_to_flat_fc(ts) for ts in filter_design_ts(X[0])]\n",
    "pflat = np.stack(pflat)\n",
    "print(pflat.shape)"
   ]
  },
  {
   "cell_type": "code",
   "execution_count": 6,
   "id": "ad6e530b",
   "metadata": {},
   "outputs": [
    {
     "name": "stdout",
     "output_type": "stream",
     "text": [
      "(1, 34716)\n",
      "(847, 34716)\n"
     ]
    }
   ],
   "source": [
    "# Standardize pflat\n",
    "\n",
    "mu = np.mean(pflat, axis=0, keepdims=True)\n",
    "sigma = np.std(pflat, axis=0, keepdims=True)\n",
    "pflat = (pflat-mu)/sigma\n",
    "\n",
    "print(sigma.shape)\n",
    "print(pflat.shape)"
   ]
  },
  {
   "cell_type": "code",
   "execution_count": 10,
   "id": "ac67b839",
   "metadata": {},
   "outputs": [
    {
     "name": "stdout",
     "output_type": "stream",
     "text": [
      "(847, 100)\n"
     ]
    }
   ],
   "source": [
    "from sklearn.decomposition import PCA\n",
    "\n",
    "pca = PCA(n_components=100)\n",
    "psmall = pca.fit_transform(pflat)\n",
    "\n",
    "print(psmall.shape)"
   ]
  },
  {
   "cell_type": "code",
   "execution_count": 11,
   "id": "5e42b93b",
   "metadata": {
    "scrolled": true
   },
   "outputs": [
    {
     "name": "stdout",
     "output_type": "stream",
     "text": [
      "torch.Size([847, 100])\n",
      "torch.Size([600, 100])\n",
      "torch.Size([247, 100])\n",
      "(847,)\n"
     ]
    }
   ],
   "source": [
    "import torch\n",
    "import torch.nn as nn\n",
    "import torch.nn.functional as F\n",
    "\n",
    "mseLoss = nn.MSELoss()\n",
    "\n",
    "x = torch.from_numpy(psmall).float().cuda()\n",
    "xtr = x[:600]\n",
    "xt = x[600:]\n",
    "\n",
    "y = get_y(metadict, ['age'], subs)[0]\n",
    "y_t = torch.from_numpy(y).float().cuda()\n",
    "ytr = y_t[:600]\n",
    "yt = y_t[600:]\n",
    "\n",
    "print(x.shape)\n",
    "print(xtr.shape)\n",
    "print(xt.shape)\n",
    "print(y.shape)"
   ]
  },
  {
   "cell_type": "code",
   "execution_count": 15,
   "id": "e2ff8194",
   "metadata": {},
   "outputs": [
    {
     "name": "stdout",
     "output_type": "stream",
     "text": [
      "0 182.35013110085774 2.02274227142334 lr: [0.001]\n",
      "500 23.992272722495986 8.777979850769043 lr: [0.001]\n",
      "1000 9.789697284012293 10.006196022033691 lr: [0.001]\n",
      "1500 3.5190125823081906 10.65129280090332 lr: [0.001]\n",
      "2000 1.188502892082653 10.759209632873535 lr: [0.001]\n",
      "2500 0.5125196174030429 10.579184532165527 lr: [0.001]\n",
      "3000 0.36477485349300703 10.277637481689453 lr: [0.001]\n",
      "3500 0.3275233838782166 9.919389724731445 lr: [0.001]\n",
      "4000 0.30239545247002164 9.529871940612793 lr: [0.001]\n",
      "4500 0.2795042455219412 9.114214897155762 lr: [0.001]\n",
      "5000 0.2545028865787283 8.678559303283691 lr: [0.001]\n",
      "5500 0.23268585280625106 8.226531028747559 lr: [0.001]\n",
      "6000 0.2110021015425293 7.752992153167725 lr: [0.001]\n",
      "6500 0.18979868883889983 7.265472412109375 lr: [0.001]\n",
      "7000 0.17334447505297956 6.818976402282715 lr: [0.0009025]\n",
      "7500 0.1560455713485971 6.377130031585693 lr: [0.0009025]\n",
      "8000 0.1434218057656591 5.986624240875244 lr: [0.0006983372960937497]\n",
      "8500 0.1318490057225688 5.67603063583374 lr: [0.0005403600876626365]\n",
      "9000 0.1240581891790688 5.44868803024292 lr: [0.0003405616262881147]\n",
      "9500 0.11861178799987478 5.286924839019775 lr: [0.00021463876394293716]\n",
      "9999 0.11455259037133975 5.166675090789795 lr: [0.00014239574134637458]\n",
      "tensor(48.6491, device='cuda:0', grad_fn=<PowBackward0>)\n"
     ]
    }
   ],
   "source": [
    "class MLP(nn.Module):\n",
    "    def __init__(self, dim):\n",
    "        super(MLP, self).__init__()\n",
    "        self.l0 = nn.Linear(dim,40).float().cuda()\n",
    "        self.l1 = nn.Linear(40,1).float().cuda()\n",
    "        \n",
    "    def forward(self, x):\n",
    "        y = F.relu(self.l0(x))\n",
    "        return self.l1(y).squeeze()\n",
    "    \n",
    "mlp = MLP(x.shape[-1])\n",
    "optim = torch.optim.Adam(mlp.parameters(), lr=1e-3, weight_decay=1e-1)\n",
    "sched = torch.optim.lr_scheduler.ReduceLROnPlateau(optim, patience=10, factor=0.95, eps=1e-7)\n",
    "\n",
    "nEpochs = 10000\n",
    "pPeriod = 500\n",
    "lmbda = 1e-2\n",
    "\n",
    "for epoch in range(nEpochs):\n",
    "    optim.zero_grad()\n",
    "    yhat = mlp(xtr)\n",
    "    loss = mseLoss(yhat, ytr)\n",
    "    sloss = lmbda*(torch.sum(torch.abs(mlp.l0.weight))+torch.sum(torch.abs(mlp.l0.bias)))\n",
    "    (sloss+loss).backward()\n",
    "    optim.step()\n",
    "    sched.step(loss)\n",
    "    if epoch % pPeriod == 0 or epoch == nEpochs-1:\n",
    "        print(f'{epoch} {float(loss)**0.5} {float(sloss)} lr: {sched._last_lr}')\n",
    "        \n",
    "yhat = mlp(xt)\n",
    "loss = mseLoss(yhat, yt)**0.5\n",
    "print(loss)"
   ]
  },
  {
   "cell_type": "code",
   "execution_count": 12,
   "id": "9e3a9785",
   "metadata": {},
   "outputs": [
    {
     "name": "stdout",
     "output_type": "stream",
     "text": [
      "tensor(178.1264, device='cuda:0')\n",
      "tensor(213.0996, device='cuda:0')\n"
     ]
    }
   ],
   "source": [
    "w, _, _, _ = torch.linalg.lstsq(xtr, ytr)\n",
    "yhattr = xtr@w\n",
    "yhatt = xt@w\n",
    "print(mseLoss(yhattr, ytr)**0.5)\n",
    "print(mseLoss(yhatt, yt)**0.5)"
   ]
  },
  {
   "cell_type": "code",
   "execution_count": 10,
   "id": "1b85fb2b",
   "metadata": {},
   "outputs": [
    {
     "name": "stdout",
     "output_type": "stream",
     "text": [
      "Complete\n"
     ]
    }
   ],
   "source": [
    "import sys \n",
    "\n",
    "sys.path.append('../../LatentSimilarity')\n",
    "\n",
    "from latsim import LatSim\n",
    "\n",
    "print('Complete')"
   ]
  },
  {
   "cell_type": "code",
   "execution_count": 124,
   "id": "abbccb33",
   "metadata": {},
   "outputs": [
    {
     "name": "stdout",
     "output_type": "stream",
     "text": [
      "0 40.08103821039866 lr: [0.0001]\n",
      "99 31.769400368982218 lr: [0.0001]\n",
      "Complete\n",
      "tensor(36.6730, device='cuda:0', grad_fn=<PowBackward0>)\n"
     ]
    }
   ],
   "source": [
    "sim = LatSim(1, x.unsqueeze(1), dp=0, edp=0, wInit=1e-4, dim=1, temp=1)\n",
    "optim = torch.optim.Adam(sim.parameters(), lr=1e-4, weight_decay=1e-4)\n",
    "\n",
    "nEpochs = 100\n",
    "pPeriod = 100\n",
    "\n",
    "sched = torch.optim.lr_scheduler.ReduceLROnPlateau(optim, patience=10, factor=0.95, eps=1e-7)\n",
    "\n",
    "for epoch in range(nEpochs):\n",
    "    optim.zero_grad()\n",
    "    yhat = sim(xtr.unsqueeze(1), [ytr])[0][0]\n",
    "    loss = mseLoss(yhat, ytr)\n",
    "    loss.backward()\n",
    "    optim.step()\n",
    "    sched.step(loss)\n",
    "    if epoch % pPeriod == 0 or epoch == nEpochs-1:\n",
    "        print(f'{epoch} {float(loss)**0.5} lr: {sched._last_lr}')\n",
    "        \n",
    "print('Complete')\n",
    "\n",
    "print(mseLoss(sim(x.unsqueeze(1), [y_t], torch.arange(600,y_t.shape[0]))[0][0][600:], yt)**0.5)"
   ]
  },
  {
   "cell_type": "code",
   "execution_count": null,
   "id": "fd1a6638",
   "metadata": {},
   "outputs": [],
   "source": []
  }
 ],
 "metadata": {
  "kernelspec": {
   "display_name": "Python 3 (ipykernel)",
   "language": "python",
   "name": "python3"
  },
  "language_info": {
   "codemirror_mode": {
    "name": "ipython",
    "version": 3
   },
   "file_extension": ".py",
   "mimetype": "text/x-python",
   "name": "python",
   "nbconvert_exporter": "python",
   "pygments_lexer": "ipython3",
   "version": "3.10.6"
  }
 },
 "nbformat": 4,
 "nbformat_minor": 5
}
