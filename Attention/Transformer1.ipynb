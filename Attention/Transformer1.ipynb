{
 "cells": [
  {
   "cell_type": "code",
   "execution_count": 1,
   "id": "093b8132",
   "metadata": {},
   "outputs": [
    {
     "name": "stdout",
     "output_type": "stream",
     "text": [
      "466\n",
      "156\n"
     ]
    }
   ],
   "source": [
    "# Load split\n",
    "\n",
    "import pickle\n",
    "\n",
    "badIDs = [605515760919, 601983541597]\n",
    "\n",
    "with open('../../Splits/RegressionAllTasks/split1.bin', 'rb') as f:\n",
    "    d = pickle.load(f)\n",
    "    train = []\n",
    "    trainDirty = d['train']\n",
    "    test = []\n",
    "    testDirty = d['test']\n",
    "    \n",
    "    # Remove bad subjects\n",
    "    for subj in trainDirty:\n",
    "        if subj['ID'] not in badIDs:\n",
    "            train.append(subj)\n",
    "            \n",
    "    for subj in testDirty:\n",
    "        if subj['ID'] not in badIDs:\n",
    "            test.append(subj)\n",
    "    \n",
    "print(len(train))\n",
    "print(len(test))"
   ]
  },
  {
   "cell_type": "code",
   "execution_count": 2,
   "id": "496dabef",
   "metadata": {},
   "outputs": [
    {
     "name": "stdout",
     "output_type": "stream",
     "text": [
      "Complete\n"
     ]
    }
   ],
   "source": [
    "# Load data\n",
    "\n",
    "def loadTimeseries(_id, _dir):\n",
    "    ts = None\n",
    "    with open('{:s}/{:d}.bin'.format(_dir, _id), 'rb') as f:\n",
    "        ts = pickle.load(f)\n",
    "    return ts\n",
    "\n",
    "train_rest_ts = [loadTimeseries(int(subj['rest']), '../../rest_fmri_power264/timeseries') for subj in train]\n",
    "# train_nback_ts = [loadTimeseries(int(subj['nback']), '../../nback_fmri_power264/timeseries') for subj in train]\n",
    "# train_emoid_ts = [loadTimeseries(int(subj['emoid']), '../../emoid_fmri_power264/timeseries') for subj in train]\n",
    "\n",
    "test_rest_ts = [loadTimeseries(int(subj['rest']), '../../rest_fmri_power264/timeseries') for subj in test]\n",
    "# test_nback_ts = [loadTimeseries(int(subj['nback']), '../../nback_fmri_power264/timeseries') for subj in test]\n",
    "# test_emoid_ts = [loadTimeseries(int(subj['emoid']), '../../emoid_fmri_power264/timeseries') for subj in test]\n",
    "\n",
    "print('Complete')"
   ]
  },
  {
   "cell_type": "code",
   "execution_count": 3,
   "id": "b4616bf8",
   "metadata": {},
   "outputs": [
    {
     "name": "stdout",
     "output_type": "stream",
     "text": [
      "Complete\n"
     ]
    }
   ],
   "source": [
    "import numpy as np\n",
    "\n",
    "def normalizeSubjects(subjects):\n",
    "    for i in range(len(subjects)):\n",
    "        subj = subjects[i]\n",
    "        subj -= np.mean(subj, axis=1, keepdims=True)@np.ones([1,subj.shape[1]])\n",
    "        subj /= np.std(subj, axis=1, keepdims=True)@np.ones([1,subj.shape[1]])\n",
    "        if np.sum(np.isnan(subj)) > 0:\n",
    "            print(i)\n",
    "        if np.sum(np.isinf(subj)) > 0:\n",
    "            print(i)\n",
    "\n",
    "normalizeSubjects(train_rest_ts)\n",
    "# normalizeSubjects(train_nback_ts)\n",
    "# normalizeSubjects(train_emoid_ts)\n",
    "\n",
    "normalizeSubjects(test_rest_ts)\n",
    "# normalizeSubjects(test_nback_ts)\n",
    "# normalizeSubjects(test_emoid_ts)\n",
    "\n",
    "print('Complete')"
   ]
  },
  {
   "cell_type": "code",
   "execution_count": 4,
   "id": "6acfc0d1",
   "metadata": {},
   "outputs": [
    {
     "name": "stdout",
     "output_type": "stream",
     "text": [
      "[[193   1   0]\n",
      " [217   1   0]\n",
      " [233   1   0]\n",
      " [176   1   0]\n",
      " [116   0   1]\n",
      " [246   0   1]\n",
      " [164   1   0]\n",
      " [167   0   1]\n",
      " [202   0   1]\n",
      " [108   0   1]]\n",
      "Complete\n"
     ]
    }
   ],
   "source": [
    "# Create feature vectors (right now just ages, maleness, and femaless)\n",
    "\n",
    "X_train = []\n",
    "for subj in train:\n",
    "    maleness = 1 if subj['meta']['Gender'] == 'M' else 0\n",
    "    femaleness = 1 if maleness == 0 else 0\n",
    "    feat = np.array([subj['meta']['AgeInMonths'], maleness, femaleness])\n",
    "    X_train.append(feat)\n",
    "    \n",
    "X_test = []\n",
    "for subj in test:\n",
    "    maleness = 1 if subj['meta']['Gender'] == 'M' else 0\n",
    "    femaleness = 1 if maleness == 0 else 0\n",
    "    feat = np.array([subj['meta']['AgeInMonths'], maleness, femaleness])\n",
    "    X_test.append(feat)\n",
    "    \n",
    "X_train = np.vstack(X_train)\n",
    "X_test = np.vstack(X_test)\n",
    "\n",
    "print(X_train[10:20])\n",
    "print('Complete')"
   ]
  },
  {
   "cell_type": "code",
   "execution_count": 5,
   "id": "c8883f09",
   "metadata": {},
   "outputs": [
    {
     "name": "stdout",
     "output_type": "stream",
     "text": [
      "Complete\n"
     ]
    }
   ],
   "source": [
    "import torch\n",
    "\n",
    "train_rest_ts_t = torch.from_numpy(np.stack(train_rest_ts)).float().cuda()\n",
    "test_rest_ts_t = torch.from_numpy(np.stack(test_rest_ts)).float().cuda()\n",
    "\n",
    "print('Complete')"
   ]
  },
  {
   "cell_type": "code",
   "execution_count": 35,
   "id": "c27127bf",
   "metadata": {},
   "outputs": [
    {
     "name": "stdout",
     "output_type": "stream",
     "text": [
      "Complete\n"
     ]
    }
   ],
   "source": [
    "import torch.nn as nn\n",
    "import torch.nn.functional as F\n",
    "\n",
    "nHid = 200\n",
    "nLat = 80\n",
    "nHead = 10\n",
    "nWin = 5\n",
    "nRoi = 264\n",
    "\n",
    "lu = nn.ReLU()\n",
    "dp = nn.Dropout(p=0)\n",
    "\n",
    "def makeWindows(ts, ws):\n",
    "    nRoi = ts.shape[1]\n",
    "    nt = ts.shape[2]\n",
    "    wndws = []\n",
    "    for i in range(ws):\n",
    "        wndws.append(ts[:,:,i:nt-ws+i+1])\n",
    "    return torch.stack(wndws, dim=3)\n",
    "\n",
    "class Trans1(nn.Module):\n",
    "    def __init__(self):\n",
    "        super(Trans1, self).__init__()\n",
    "        self.tok1 = nn.Linear(nRoi*nWin, nHid).cuda()\n",
    "        self.tok2 = nn.Linear(nHid, nLat).cuda()\n",
    "        self.att1 = nn.MultiheadAttention(nLat, nHead).cuda()\n",
    "        self.att2 = nn.MultiheadAttention(nLat, nHead).cuda()\n",
    "        self.att3 = nn.MultiheadAttention(nLat, nHead).cuda()\n",
    "        self.att4 = nn.MultiheadAttention(nLat, nHead).cuda()\n",
    "        self.att5 = nn.MultiheadAttention(nLat, nHead).cuda()\n",
    "        self.fc1 = nn.Linear(nLat*5, nHid).cuda()\n",
    "        self.fc2 = nn.Linear(nHid, 1).cuda()\n",
    "        \n",
    "    def forward(self, x):\n",
    "        nB = x.shape[0]\n",
    "        nt = x.shape[2]\n",
    "        \n",
    "        outp = torch.ones(1, nB, nLat).cuda()\n",
    "        \n",
    "        xw = makeWindows(x, 5)\n",
    "        xw = xw.permute(0, 2, 1, 3)\n",
    "        xw = xw.reshape(nB*(nt-nWin+1), -1)\n",
    "        \n",
    "        tok = lu(self.tok2(dp(lu(self.tok1(xw)))))\n",
    "        seq = tok.reshape(nB, nt-nWin+1, nLat)\n",
    "        seq = seq.permute(1, 0, 2)\n",
    "        seq = torch.cat([outp, seq], dim=0)\n",
    "        \n",
    "        seq1, _ = self.att1(seq, seq, seq)\n",
    "        seq2, _ = self.att2(seq1, seq1, seq1)\n",
    "        seq3, _ = self.att3(seq2, seq2, seq2)\n",
    "        seq4, _ = self.att4(seq3, seq3, seq3)\n",
    "        seq5, _ = self.att5(seq4, seq4, seq4)\n",
    "        \n",
    "        seq = torch.cat([seq1, seq2, seq3, seq4, seq5], dim=2)\n",
    "        \n",
    "        x = lu(self.fc1(seq[0,:,:]))\n",
    "        x = self.fc2(x)\n",
    "        \n",
    "        return x\n",
    "\n",
    "t1 = Trans1()\n",
    "optim = torch.optim.Adam(t1.parameters(), lr=2e-4)\n",
    "print('Complete')"
   ]
  },
  {
   "cell_type": "code",
   "execution_count": 36,
   "id": "5a6070b5",
   "metadata": {},
   "outputs": [
    {
     "name": "stdout",
     "output_type": "stream",
     "text": [
      "epoch 0 loss=15.497123\n",
      "epoch 50 loss=13.306441\n",
      "epoch 100 loss=6.073990\n",
      "epoch 150 loss=5.439912\n",
      "epoch 200 loss=5.128639\n",
      "epoch 250 loss=4.895822\n",
      "epoch 300 loss=4.664396\n",
      "epoch 350 loss=4.274713\n",
      "epoch 400 loss=3.853077\n",
      "epoch 450 loss=3.522640\n",
      "epoch 500 loss=3.024011\n",
      "epoch 550 loss=2.839109\n",
      "epoch 600 loss=2.530669\n",
      "epoch 650 loss=2.292534\n",
      "epoch 700 loss=1.959334\n",
      "epoch 750 loss=1.478554\n",
      "epoch 800 loss=1.513268\n",
      "epoch 850 loss=1.436836\n",
      "epoch 900 loss=1.128956\n",
      "epoch 950 loss=0.978845\n",
      "epoch 1000 loss=0.973593\n",
      "epoch 1050 loss=0.748468\n",
      "epoch 1100 loss=0.749330\n",
      "epoch 1150 loss=0.698425\n",
      "epoch 1200 loss=0.689508\n",
      "epoch 1250 loss=0.799689\n",
      "epoch 1300 loss=0.681944\n",
      "epoch 1350 loss=0.700543\n",
      "epoch 1400 loss=0.549248\n",
      "epoch 1450 loss=0.657863\n",
      "epoch 1500 loss=0.473918\n",
      "epoch 1550 loss=0.570013\n",
      "epoch 1600 loss=0.472540\n",
      "epoch 1650 loss=0.490343\n",
      "epoch 1700 loss=0.378081\n",
      "epoch 1750 loss=0.434780\n",
      "epoch 1800 loss=0.357589\n",
      "epoch 1850 loss=0.347688\n",
      "epoch 1900 loss=0.384367\n",
      "epoch 1950 loss=0.296159\n",
      "epoch 1999 loss=0.556958\n",
      "Finished training\n"
     ]
    }
   ],
   "source": [
    "import random\n",
    "\n",
    "running = 0\n",
    "nEpoch = 2000\n",
    "pPeriod = 50\n",
    "nB = 10\n",
    "N = train_rest_ts_t.shape[0]\n",
    "\n",
    "for epoch in range(nEpoch):\n",
    "    batch = []\n",
    "    truth = torch.zeros(nB).float().cuda()\n",
    "    for i in range(nB):\n",
    "        idx = random.randint(0,N-1)\n",
    "        batch.append(train_rest_ts_t[idx])\n",
    "        truth[i] = X_train[idx, 0]\n",
    "    batch = torch.stack(batch)\n",
    "    optim.zero_grad()\n",
    "    pred = t1(batch).flatten()\n",
    "    loss = torch.sum((pred-truth)**2)\n",
    "    loss.backward()\n",
    "    running += loss.detach().cpu()\n",
    "    optim.step()\n",
    "    if epoch % pPeriod == 0 or epoch == nEpoch-1:\n",
    "        if epoch != 0:\n",
    "            if epoch % pPeriod != 0:\n",
    "                running /= epoch % pPeriod\n",
    "            else:\n",
    "                running /= pPeriod\n",
    "        print('epoch {:d} loss={:f}'.format(epoch, ((running/nB)**0.5)/12))\n",
    "        running = 0\n",
    "\n",
    "print('Finished training')"
   ]
  },
  {
   "cell_type": "code",
   "execution_count": 40,
   "id": "f97b02f6",
   "metadata": {},
   "outputs": [
    {
     "name": "stdout",
     "output_type": "stream",
     "text": [
      "[[1.         0.13833417]\n",
      " [0.13833417 1.        ]]\n",
      "3.49557788091225\n",
      "2.7654915671063285\n"
     ]
    },
    {
     "data": {
      "image/png": "[encoded data removed]",
      "text/plain": [
       "<Figure size 432x288 with 1 Axes>"
      ]
     },
     "metadata": {
      "needs_background": "light"
     },
     "output_type": "display_data"
    },
    {
     "data": {
      "image/png": "[encoded data removed]",
      "text/plain": [
       "<Figure size 432x288 with 1 Axes>"
      ]
     },
     "metadata": {
      "needs_background": "light"
     },
     "output_type": "display_data"
    }
   ],
   "source": [
    "import matplotlib.pyplot as plt\n",
    "\n",
    "test = test_rest_ts_t\n",
    "test_labels = X_test\n",
    "\n",
    "preds = []\n",
    "for i in range(int(test.shape[0]/10+1)*10):\n",
    "    i0 = i*10\n",
    "    i1 = (i+1)*10\n",
    "    if i0 >= test.shape[0]:\n",
    "        break\n",
    "    if i1 > test.shape[0]:\n",
    "        i1 = test.shape[0]\n",
    "    preds.append(t1(test[i0:i1,:,:]).detach().cpu().numpy().flatten())\n",
    "predY = np.concatenate(preds)\n",
    "\n",
    "idcs = np.argsort(test_labels[:,0])\n",
    "yPred = predY[idcs]\n",
    "y = test_labels[:,0][idcs]\n",
    "\n",
    "corr = np.corrcoef(y, yPred)\n",
    "rmse = (np.sum((y-yPred)**2)/len(y))**0.5/12\n",
    "mae = np.sum(np.abs(y-yPred))/12/len(y)\n",
    "\n",
    "print(corr)\n",
    "print(rmse)\n",
    "print(mae)\n",
    "\n",
    "plt.plot(y, label='Truth')\n",
    "plt.plot(yPred, label='Prediction')\n",
    "plt.show()\n",
    "\n",
    "plt.scatter(y, yPred)\n",
    "plt.show()"
   ]
  },
  {
   "cell_type": "code",
   "execution_count": null,
   "id": "3550ce30",
   "metadata": {},
   "outputs": [],
   "source": []
  }
 ],
 "metadata": {
  "kernelspec": {
   "display_name": "Python 3",
   "language": "python",
   "name": "python3"
  },
  "language_info": {
   "codemirror_mode": {
    "name": "ipython",
    "version": 3
   },
   "file_extension": ".py",
   "mimetype": "text/x-python",
   "name": "python",
   "nbconvert_exporter": "python",
   "pygments_lexer": "ipython3",
   "version": "3.9.5"
  }
 },
 "nbformat": 4,
 "nbformat_minor": 5
}
