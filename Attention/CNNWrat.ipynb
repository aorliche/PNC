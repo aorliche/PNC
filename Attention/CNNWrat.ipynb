{
 "cells": [
  {
   "cell_type": "code",
   "execution_count": 17,
   "id": "62d13d9a",
   "metadata": {},
   "outputs": [
    {
     "name": "stdout",
     "output_type": "stream",
     "text": [
      "603056110671\n",
      "invalid literal for int() with base 10: 'NaN\\n'\n",
      "603317055381\n",
      "invalid literal for int() with base 10: 'NaN\\n'\n",
      "604847970437\n",
      "invalid literal for int() with base 10: 'NaN\\n'\n",
      "\n",
      "Bot: 70 Bot 20%: 90 Top 20%: 114 Top: 145\n",
      "186 bot, 184 top\n"
     ]
    }
   ],
   "source": [
    "# Try classifying WRAT with CNN with similar targets to Wenxing's paper (20% top and 20% bottom)\n",
    "\n",
    "# Load wrat\n",
    "\n",
    "idWratDict = {}\n",
    "\n",
    "with open('../../wrat.csv') as f:\n",
    "    for line in f.readlines()[1:]:\n",
    "        parts = line.split(',')\n",
    "        try:\n",
    "            idWratDict[int(parts[0])] = int(parts[3])\n",
    "        except Exception as e:\n",
    "            print(parts[0])\n",
    "            print(e)\n",
    "        \n",
    "vals = list(idWratDict.values())\n",
    "vals.sort()\n",
    "nVals = len(vals)\n",
    "bot = vals[0]\n",
    "top = vals[-1]\n",
    "botCut = vals[int(nVals/5)]\n",
    "topCut = vals[int(4*nVals/5)]\n",
    "\n",
    "print()\n",
    "print('Bot: {:d} Bot 20%: {:d} Top 20%: {:d} Top: {:d}'.format(bot, botCut, topCut, top))\n",
    "\n",
    "botIds = []\n",
    "topIds = []\n",
    "for key, val in idWratDict.items():\n",
    "    if val <= botCut:\n",
    "        botIds.append(key)\n",
    "    elif val >= topCut:\n",
    "        topIds.append(key)\n",
    "        \n",
    "print('{:d} bot, {:d} top'.format(len(botIds), len(topIds)))"
   ]
  },
  {
   "cell_type": "code",
   "execution_count": 53,
   "id": "b39ec088",
   "metadata": {},
   "outputs": [
    {
     "name": "stdout",
     "output_type": "stream",
     "text": [
      "Got bad id in bot\n",
      "Got bad id in top\n",
      "Total: 368 Rest: 351 Nback: 368 Emoid: 267\n"
     ]
    }
   ],
   "source": [
    "# Load meta for subjects based on bot and top WRAT\n",
    "# Make a split\n",
    "\n",
    "import pickle\n",
    "\n",
    "badIDs = [605515760919, 601983541597, 602569768815, 603403163265]\n",
    "\n",
    "with open('../../AllSubjectsMeta.bin', 'rb') as f:\n",
    "    allMeta = pickle.load(f)\n",
    "    \n",
    "metaBot = []\n",
    "metaTop = []\n",
    "\n",
    "for _id in botIds:\n",
    "    if _id in badIDs:\n",
    "        print('Got bad id in bot')\n",
    "        continue\n",
    "    try:\n",
    "        metaBot.append(allMeta[_id])\n",
    "    except Exception as e:\n",
    "        print(_id)\n",
    "        print(e)\n",
    "        \n",
    "for _id in topIds:\n",
    "    if _id in badIDs:\n",
    "        print('Got bad id in top')\n",
    "        continue\n",
    "    try:\n",
    "        metaBot.append(allMeta[_id])\n",
    "    except Exception as e:\n",
    "        print(_id)\n",
    "        print(e)\n",
    "        \n",
    "def pruneIds(ids, badIds):\n",
    "    pruned = []\n",
    "    for _id in ids:\n",
    "        if _id not in badIds:\n",
    "            pruned.append(_id) \n",
    "    return pruned\n",
    "\n",
    "botIds = pruneIds(botIds, badIDs)\n",
    "topIds = pruneIds(topIds, badIDs)\n",
    "    \n",
    "nRest = 0\n",
    "nNback = 0\n",
    "nEmoid = 0\n",
    "total = len(topIds) + len(botIds)\n",
    "\n",
    "for subj in metaBot + metaTop:\n",
    "    if 'rest' in subj.keys():\n",
    "        nRest += 1\n",
    "    if 'nback' in subj.keys():\n",
    "        nNback += 1\n",
    "    if 'emoid' in subj.keys():\n",
    "        nEmoid += 1\n",
    "        \n",
    "print('Total: {:d} Rest: {:d} Nback: {:d} Emoid: {:d}'.format(total, nRest, nNback, nEmoid))"
   ]
  },
  {
   "cell_type": "code",
   "execution_count": 54,
   "id": "6ce235f4",
   "metadata": {},
   "outputs": [
    {
     "name": "stdout",
     "output_type": "stream",
     "text": [
      "Complete\n"
     ]
    }
   ],
   "source": [
    "# Make split assuming we're doing nback\n",
    "# 75% 25% split\n",
    "\n",
    "import random\n",
    "\n",
    "random.shuffle(botIds)\n",
    "random.shuffle(topIds)\n",
    "\n",
    "cutBot = int(3*len(botIds)/4)\n",
    "cutTop = int(3*len(topIds)/4)\n",
    "\n",
    "d = {'train': botIds[0:cutBot] + topIds[0:cutTop], 'test': botIds[cutBot:] + topIds[cutTop:]}\n",
    "\n",
    "print('Complete')"
   ]
  },
  {
   "cell_type": "code",
   "execution_count": 56,
   "id": "9ca5ac80",
   "metadata": {},
   "outputs": [
    {
     "name": "stdout",
     "output_type": "stream",
     "text": [
      "603056110671\n",
      "invalid literal for int() with base 10: 'NaN\\n'\n",
      "603317055381\n",
      "invalid literal for int() with base 10: 'NaN\\n'\n",
      "604847970437\n",
      "invalid literal for int() with base 10: 'NaN\\n'\n",
      "Complete\n"
     ]
    }
   ],
   "source": [
    "# with open('../../Splits/Wrat1.bin', 'wb') as f:\n",
    "#     pickle.dump(d, f)\n",
    "    \n",
    "with open('../../AllSubjectsMeta.bin', 'rb') as f:\n",
    "    allMeta = pickle.load(f)\n",
    "    \n",
    "idWratDict = {}\n",
    "\n",
    "with open('../../wrat.csv') as f:\n",
    "    for line in f.readlines()[1:]:\n",
    "        parts = line.split(',')\n",
    "        try:\n",
    "            idWratDict[int(parts[0])] = int(parts[3])\n",
    "        except Exception as e:\n",
    "            print(parts[0])\n",
    "            print(e)\n",
    "    \n",
    "with open('../../Splits/Wrat1.bin', 'rb') as f:\n",
    "    d = pickle.load(f)\n",
    "    train_ids = d['train']\n",
    "    test_ids = d['test']\n",
    "    \n",
    "print('Complete')"
   ]
  },
  {
   "cell_type": "code",
   "execution_count": 74,
   "id": "79304128",
   "metadata": {},
   "outputs": [
    {
     "name": "stdout",
     "output_type": "stream",
     "text": [
      "Complete\n"
     ]
    }
   ],
   "source": [
    "# Load data\n",
    "\n",
    "def getValidIds(trainOrTest, allMeta, modality):\n",
    "    valid = []\n",
    "    for _id in trainOrTest:\n",
    "        if modality in allMeta[_id].keys():\n",
    "            valid.append(_id)\n",
    "    return valid\n",
    "\n",
    "validTrainIds = getValidIds(train_ids, allMeta, 'nback')\n",
    "validTestIds = getValidIds(test_ids, allMeta, 'nback')\n",
    "\n",
    "yTrain = [1 if idWratDict[_id] > 100 else 0 for _id in validTrainIds]\n",
    "yTest = [1 if idWratDict[_id] > 100 else 0 for _id in validTestIds]\n",
    "\n",
    "def loadTimeseries(_id, _dir):\n",
    "    ts = None\n",
    "    with open('{:s}/{:d}.bin'.format(_dir, _id), 'rb') as f:\n",
    "        ts = pickle.load(f)\n",
    "    return ts\n",
    "\n",
    "train_rest_ts = [loadTimeseries(int(allMeta[subj]['nback']), '../../nback_fmri_power264/timeseries') for subj in validTrainIds]\n",
    "# train_nback_ts = [loadTimeseries(int(subj['nback']), '../../nback_fmri_power264/timeseries') for subj in train]\n",
    "# train_emoid_ts = [loadTimeseries(int(subj['emoid']), '../../emoid_fmri_power264/timeseries') for subj in train]\n",
    "\n",
    "test_rest_ts = [loadTimeseries(int(allMeta[subj]['nback']), '../../nback_fmri_power264/timeseries') for subj in validTestIds]\n",
    "# test_nback_ts = [loadTimeseries(int(subj['nback']), '../../nback_fmri_power264/timeseries') for subj in test]\n",
    "# test_emoid_ts = [loadTimeseries(int(subj['emoid']), '../../emoid_fmri_power264/timeseries') for subj in test]\n",
    "\n",
    "print('Complete')"
   ]
  },
  {
   "cell_type": "code",
   "execution_count": 75,
   "id": "841a373b",
   "metadata": {},
   "outputs": [
    {
     "name": "stdout",
     "output_type": "stream",
     "text": [
      "Complete\n"
     ]
    }
   ],
   "source": [
    "# Normalize data\n",
    "\n",
    "import numpy as np\n",
    "\n",
    "def normalizeSubjects(subjects):\n",
    "    for i in range(len(subjects)):\n",
    "        subj = subjects[i]\n",
    "        subj -= np.mean(subj, axis=1, keepdims=True)@np.ones([1,subj.shape[1]])\n",
    "        subj /= np.std(subj, axis=1, keepdims=True)@np.ones([1,subj.shape[1]])\n",
    "        if np.sum(np.isnan(subj)) > 0:\n",
    "            print(i)\n",
    "        if np.sum(np.isinf(subj)) > 0:\n",
    "            print(i)\n",
    "\n",
    "normalizeSubjects(train_rest_ts)\n",
    "# normalizeSubjects(train_nback_ts)\n",
    "# normalizeSubjects(train_emoid_ts)\n",
    "\n",
    "normalizeSubjects(test_rest_ts)\n",
    "# normalizeSubjects(test_nback_ts)\n",
    "# normalizeSubjects(test_emoid_ts)\n",
    "\n",
    "print('Complete')"
   ]
  },
  {
   "cell_type": "code",
   "execution_count": 78,
   "id": "10e79e3c",
   "metadata": {},
   "outputs": [
    {
     "name": "stdout",
     "output_type": "stream",
     "text": [
      "cuda:0\n",
      "torch.Size([231, 264])\n",
      "Complete\n"
     ]
    }
   ],
   "source": [
    "# Torch\n",
    "\n",
    "import torch\n",
    "import torch.nn as nn\n",
    "import torch.nn.functional as F\n",
    "\n",
    "cuda = torch.device('cuda')\n",
    "\n",
    "train_rest_ts_torch = [torch.from_numpy(subj).T.float().cuda() for subj in train_rest_ts]\n",
    "test_rest_ts_torch = [torch.from_numpy(subj).T.float().cuda() for subj in test_rest_ts]\n",
    "\n",
    "print(train_rest_ts_torch[0].device)\n",
    "print(train_rest_ts_torch[0].shape)\n",
    "print('Complete')"
   ]
  },
  {
   "cell_type": "code",
   "execution_count": 90,
   "id": "c73e606a",
   "metadata": {},
   "outputs": [
    {
     "name": "stdout",
     "output_type": "stream",
     "text": [
      "Complete\n"
     ]
    }
   ],
   "source": [
    "# Most successful model\n",
    "\n",
    "import math\n",
    "\n",
    "nt = train_rest_ts_torch[0].shape[0]\n",
    "nc = 10\n",
    "nrois = train_rest_ts_torch[0].shape[1]\n",
    "\n",
    "class CNN(nn.Module):\n",
    "    def __init__(self):\n",
    "        super(CNN, self).__init__()\n",
    "        self.cl1 = nn.Conv2d(1,nc,(5,nrois)).cuda() # Output size 10x1x(nt-4)\n",
    "#         self.cl2 = nn.Conv2d(1,nc,(9,nrois)).cuda() # Output size 10x1x(nt-8)\n",
    "#         self.cl3 = nn.Conv2d(1,nc,(13,nrois)).cuda() # Output size 10x1x(nt-12)\n",
    "#         self.mp1 = nn.MaxPool1d(10,5).cuda() # nc*math.floor((nt-4-10)/5+1)...\n",
    "#         self.fc1 = nn.Linear(nc*(0*math.floor((nt-4-10)/5+1)+0*math.floor((nt-8-10)/5+1)+math.floor((nt-12-10)/5+1)), 1).cuda()\n",
    "        self.fc1 = nn.Linear(nc*(nt-4),20).cuda()\n",
    "        self.fc2 = nn.Linear(20,1).cuda()\n",
    "    \n",
    "    def forward(self, x):\n",
    "        nb = x.shape[0]\n",
    "#         y1 = F.relu(self.cl1(x))\n",
    "#         y1 = y1.reshape(nb,nc,nt-4)\n",
    "#         y1 = self.mp1(y1)\n",
    "#         y2 = F.relu(self.cl2(x))\n",
    "#         y2 = y2.reshape(nb,nc,nt-8)\n",
    "#         y2 = self.mp1(y2)\n",
    "#         y3 = F.relu(self.cl3(x))\n",
    "#         y3 = y3.reshape(nb,nc,nt-12)\n",
    "#         y3 = self.mp1(y3)\n",
    "#         y = torch.cat([y3],dim=2)\n",
    "#         y = y.reshape(nb,-1)\n",
    "#         y = torch.sigmoid(self.fc1(y))\n",
    "        x = F.relu(self.cl1(x))\n",
    "        x = x.reshape([nb,-1])\n",
    "        x = F.relu(self.fc1(x))\n",
    "        x = torch.sigmoid(self.fc2(x))\n",
    "        return x\n",
    "    \n",
    "cnn = CNN()\n",
    "optim = torch.optim.Adam(cnn.parameters(), lr=2e-3)\n",
    "\n",
    "print('Complete')"
   ]
  },
  {
   "cell_type": "code",
   "execution_count": 93,
   "id": "60f3d96c",
   "metadata": {
    "scrolled": true
   },
   "outputs": [
    {
     "name": "stdout",
     "output_type": "stream",
     "text": [
      "epoch 0 loss=0.000146\n",
      "epoch 100 loss=0.020038\n",
      "epoch 200 loss=0.010036\n",
      "epoch 300 loss=0.050023\n",
      "epoch 400 loss=0.060026\n",
      "epoch 500 loss=0.050022\n",
      "epoch 600 loss=0.030019\n",
      "epoch 700 loss=0.020017\n",
      "epoch 800 loss=0.040017\n",
      "epoch 900 loss=0.000016\n",
      "epoch 1000 loss=0.030016\n",
      "epoch 1100 loss=0.040013\n",
      "epoch 1200 loss=0.040012\n",
      "epoch 1300 loss=0.070011\n",
      "epoch 1400 loss=0.090009\n",
      "epoch 1500 loss=0.050009\n",
      "epoch 1600 loss=0.030009\n",
      "epoch 1700 loss=0.020008\n",
      "epoch 1800 loss=0.040008\n",
      "epoch 1900 loss=0.020007\n",
      "epoch 1999 loss=0.070007\n",
      "Finished training\n"
     ]
    }
   ],
   "source": [
    "import random\n",
    "\n",
    "N = len(train_rest_ts_torch)-1\n",
    "running = 0\n",
    "nEpoch = 2000\n",
    "pPeriod = 100\n",
    "nBatch = 10\n",
    "\n",
    "for epoch in range(nEpoch):\n",
    "    batch = []\n",
    "    truth = torch.zeros(nBatch)\n",
    "    for i in range(nBatch):\n",
    "        idx = random.randint(0,N)\n",
    "        subj = train_rest_ts_torch[idx]\n",
    "        batch.append(subj.unsqueeze(0).unsqueeze(0))\n",
    "        truth[i] = yTrain[idx]\n",
    "    optim.zero_grad()\n",
    "    pred = cnn(torch.cat(batch)).view(nBatch)\n",
    "    loss = torch.sum((pred-truth.cuda())**2)\n",
    "    loss.backward()\n",
    "    optim.step()\n",
    "    running += loss.cpu()\n",
    "    if epoch % pPeriod == 0 or epoch == nEpoch-1:\n",
    "        if epoch != 0:\n",
    "            running = running/pPeriod\n",
    "        print('epoch {:d} loss={:f}'.format(epoch, running))\n",
    "        running = 0\n",
    "\n",
    "print('Finished training')"
   ]
  },
  {
   "cell_type": "code",
   "execution_count": 95,
   "id": "75d8a45b",
   "metadata": {},
   "outputs": [
    {
     "name": "stdout",
     "output_type": "stream",
     "text": [
      "Complete\n"
     ]
    }
   ],
   "source": [
    "# Calculate the Pearson correlation coefficient\n",
    "# Assumes normalized to mean=0 and std=1\n",
    "def pearsonr(ts):\n",
    "    nt = ts.shape[1]\n",
    "    return ts@ts.T/nt\n",
    "\n",
    "train_rest_p_torch = [torch.from_numpy(pearsonr(ts)).float().cuda() for ts in train_rest_ts]\n",
    "test_rest_p_torch = [torch.from_numpy(pearsonr(ts)).float().cuda() for ts in test_rest_ts]\n",
    "\n",
    "print('Complete')"
   ]
  },
  {
   "cell_type": "code",
   "execution_count": 96,
   "id": "97e77af9",
   "metadata": {
    "scrolled": true
   },
   "outputs": [
    {
     "name": "stdout",
     "output_type": "stream",
     "text": [
      "Complete\n"
     ]
    }
   ],
   "source": [
    "nroi = train_rest_p_torch[0].shape[0]\n",
    "nc = 8\n",
    "nrred = int(nroi/4)\n",
    "\n",
    "class FC_conv(nn.Module):\n",
    "    def __init__(self):\n",
    "        super(FC_conv, self).__init__()\n",
    "        self.ec1 = nn.Conv2d(1,nc,(1,nroi)).cuda()\n",
    "        self.nc1 = nn.Conv2d(nc,nc,(nroi,1)).cuda()\n",
    "        self.sat1 = nn.Linear(nroi,nrred).cuda()\n",
    "        self.sat2 = nn.Linear(nrred,nroi).cuda()\n",
    "        self.fc1 = nn.Linear(nc,256).cuda()\n",
    "        self.fc2 = nn.Linear(256,256).cuda()\n",
    "        self.fc3 = nn.Linear(256,1).cuda()\n",
    "        self.lrelu = nn.LeakyReLU(0.33)\n",
    "        self.dp = nn.Dropout(0.2)\n",
    "        \n",
    "    def forward(self, x):\n",
    "        nb = x.shape[0]\n",
    "        x = self.lrelu(self.ec1(x))\n",
    "        y = torch.mean(x, 1)\n",
    "        y = y.reshape([nb,nroi])\n",
    "        y = self.lrelu(self.sat1(y))\n",
    "        y = torch.sigmoid(self.sat2(y))\n",
    "        x = torch.einsum('abcd,ac->abcd',x,y)\n",
    "        x = self.lrelu(self.nc1(x))\n",
    "        x = x.reshape([nb,nc])\n",
    "        x = self.dp(self.lrelu(self.fc1(x)))\n",
    "        x = self.dp(self.lrelu(self.fc2(x)))\n",
    "        x = self.fc3(x)\n",
    "        return x\n",
    "        \n",
    "fc_conv = FC_conv()\n",
    "optim = torch.optim.Adam(fc_conv.parameters(), lr=1e-3)\n",
    "\n",
    "print('Complete')"
   ]
  },
  {
   "cell_type": "code",
   "execution_count": 101,
   "id": "6365a4fd",
   "metadata": {},
   "outputs": [
    {
     "name": "stdout",
     "output_type": "stream",
     "text": [
      "epoch 0 loss=0.043739\n",
      "epoch 100 loss=0.031036\n",
      "epoch 200 loss=0.024405\n",
      "epoch 300 loss=0.021467\n",
      "epoch 400 loss=0.026484\n",
      "epoch 500 loss=0.023104\n",
      "epoch 600 loss=0.020446\n",
      "epoch 700 loss=0.019477\n",
      "epoch 800 loss=0.030203\n",
      "epoch 900 loss=0.028277\n",
      "epoch 1000 loss=0.020538\n",
      "epoch 1100 loss=0.021715\n",
      "epoch 1200 loss=0.021401\n",
      "epoch 1300 loss=0.021059\n",
      "epoch 1400 loss=0.016413\n",
      "epoch 1500 loss=0.021500\n",
      "epoch 1600 loss=0.018830\n",
      "epoch 1700 loss=0.019499\n",
      "epoch 1800 loss=0.019520\n",
      "epoch 1900 loss=0.021295\n",
      "epoch 1999 loss=0.017060\n",
      "Finished training\n"
     ]
    }
   ],
   "source": [
    "import random\n",
    "\n",
    "N = len(train_rest_p_torch)-1\n",
    "running = 0\n",
    "nEpoch = 2000\n",
    "pPeriod = 100\n",
    "nBatch = 10\n",
    "\n",
    "for epoch in range(nEpoch):\n",
    "    batch = []\n",
    "    truth = torch.zeros(nBatch)\n",
    "    for i in range(nBatch):\n",
    "        idx = random.randint(0,N)\n",
    "        subj = train_rest_p_torch[idx]\n",
    "        batch.append(subj.unsqueeze(0).unsqueeze(0))\n",
    "        truth[i] = yTrain[idx]\n",
    "    optim.zero_grad()\n",
    "    pred = fc_conv(torch.cat(batch)).view(nBatch)\n",
    "    loss = torch.sum((pred-truth.cuda())**2)\n",
    "    loss.backward()\n",
    "    optim.step()\n",
    "    running += loss.cpu()\n",
    "    if epoch % pPeriod == 0 or epoch == nEpoch-1:\n",
    "        if epoch != 0:\n",
    "            running = running/pPeriod\n",
    "        print('epoch {:d} loss={:f}'.format(epoch, running))\n",
    "        running = 0\n",
    "\n",
    "print('Finished training')"
   ]
  },
  {
   "cell_type": "code",
   "execution_count": 102,
   "id": "83e22f47",
   "metadata": {},
   "outputs": [
    {
     "data": {
      "image/png": "[encoded data removed]",
      "text/plain": [
       "<Figure size 432x288 with 1 Axes>"
      ]
     },
     "metadata": {
      "needs_background": "light"
     },
     "output_type": "display_data"
    }
   ],
   "source": [
    "# Get predictions\n",
    "\n",
    "import matplotlib.pyplot as plt\n",
    "\n",
    "y = np.array(yTest)\n",
    "X = test_rest_p_torch\n",
    "N = len(y)\n",
    "\n",
    "# pred = np.zeros(N)\n",
    "# y1 = np.zeros(N) # rmse\n",
    "# y2 = np.zeros(N) # mae\n",
    "# for i in range(N):\n",
    "#     pred[i] = cnn(X[i].unsqueeze(0).unsqueeze(0))[0]\n",
    "#     y1[i] = (y[i,0]-pred[i])**2\n",
    "#     y2[i] = abs(y[i,0]-pred[i])\n",
    "\n",
    "batch = []\n",
    "for i in range(N):\n",
    "    batch.append(X[i].unsqueeze(0).unsqueeze(0).cuda())\n",
    "\n",
    "batch = torch.cat(batch)\n",
    "pred = fc_conv(batch).view(N).cpu().detach().numpy()\n",
    "\n",
    "nCorrect = 0\n",
    "for i in range(N):\n",
    "    if pred[i] > 0.5 and y[i] > 0.5:\n",
    "        nCorrect += 1\n",
    "    if pred[i] < 0.5 and y[i] < 0.5:\n",
    "        nCorrect += 1\n",
    "\n",
    "plt.plot(y, label='Truth')\n",
    "plt.plot(pred, label='Prediction')\n",
    "plt.title('{:d}/{:d} = {:.2f}% correct'.format(nCorrect, N, nCorrect/N*100))\n",
    "plt.show()\n",
    "# y1 = (y.reshape(N)-pred)**2 # rmse\n",
    "# y2 = abs(y.reshape(N)-pred) # mae\n",
    "    \n",
    "# print(np.corrcoef(y, pred))\n",
    "# print((y1.sum()/N)**0.5/12)\n",
    "# print(y2.sum()/N/12)\n",
    "# print(y1)\n",
    "# print(y2)\n",
    "\n",
    "# idcs = np.argsort(y,axis=0)\n",
    "# plt.plot(y[idcs], label='truth')\n",
    "# plt.plot(pred[idcs], label='prediction')\n",
    "# plt.legend()\n",
    "# plt.show()\n",
    "\n",
    "# plt.scatter(y, pred)\n",
    "# plt.show()"
   ]
  },
  {
   "cell_type": "code",
   "execution_count": null,
   "id": "645ec3d6",
   "metadata": {},
   "outputs": [],
   "source": []
  }
 ],
 "metadata": {
  "kernelspec": {
   "display_name": "Python 3",
   "language": "python",
   "name": "python3"
  },
  "language_info": {
   "codemirror_mode": {
    "name": "ipython",
    "version": 3
   },
   "file_extension": ".py",
   "mimetype": "text/x-python",
   "name": "python",
   "nbconvert_exporter": "python",
   "pygments_lexer": "ipython3",
   "version": "3.9.5"
  }
 },
 "nbformat": 4,
 "nbformat_minor": 5
}
