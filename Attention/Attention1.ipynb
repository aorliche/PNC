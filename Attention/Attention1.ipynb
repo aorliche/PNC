{
 "cells": [
  {
   "cell_type": "code",
   "execution_count": 1,
   "id": "d7ad3174",
   "metadata": {},
   "outputs": [
    {
     "name": "stdout",
     "output_type": "stream",
     "text": [
      "466\n",
      "156\n",
      "{'meta': {'AgeInMonths': 146, 'Gender': 'F', 'Ethnicity': 'AFRICAN', 'AgeGroupID': 2, 'AgeGroupEdge1': 144, 'AgeGroupEdge2': 180}, 'rest': '30', 'nback': '31', 'emoid': '31', 'ID': 600262185931}\n"
     ]
    }
   ],
   "source": [
    "# Load split\n",
    "\n",
    "import pickle\n",
    "\n",
    "badIDs = [605515760919, 601983541597]\n",
    "\n",
    "with open('../../Splits/RegressionAllTasks/split1.bin', 'rb') as f:\n",
    "    d = pickle.load(f)\n",
    "    train = []\n",
    "    trainDirty = d['train']\n",
    "    test = []\n",
    "    testDirty = d['test']\n",
    "    \n",
    "    # Remove bad subjects\n",
    "    for subj in trainDirty:\n",
    "        if subj['ID'] not in badIDs:\n",
    "            train.append(subj)\n",
    "            \n",
    "    for subj in testDirty:\n",
    "        if subj['ID'] not in badIDs:\n",
    "            test.append(subj)\n",
    "    \n",
    "print(len(train))\n",
    "print(len(test))\n",
    "print(train[0])"
   ]
  },
  {
   "cell_type": "code",
   "execution_count": 2,
   "id": "13a1e1ff",
   "metadata": {},
   "outputs": [
    {
     "name": "stdout",
     "output_type": "stream",
     "text": [
      "Complete\n"
     ]
    }
   ],
   "source": [
    "# Load data\n",
    "\n",
    "def loadTimeseries(_id, _dir):\n",
    "    ts = None\n",
    "    with open('{:s}/{:d}.bin'.format(_dir, _id), 'rb') as f:\n",
    "        ts = pickle.load(f)\n",
    "    return ts\n",
    "\n",
    "train_rest_ts = [loadTimeseries(int(subj['rest']), '../../rest_fmri_power264/timeseries') for subj in train]\n",
    "# train_nback_ts = [loadTimeseries(int(subj['nback']), '../../nback_fmri_power264/timeseries') for subj in train]\n",
    "# train_emoid_ts = [loadTimeseries(int(subj['emoid']), '../../emoid_fmri_power264/timeseries') for subj in train]\n",
    "\n",
    "test_rest_ts = [loadTimeseries(int(subj['rest']), '../../rest_fmri_power264/timeseries') for subj in test]\n",
    "# test_nback_ts = [loadTimeseries(int(subj['nback']), '../../nback_fmri_power264/timeseries') for subj in test]\n",
    "# test_emoid_ts = [loadTimeseries(int(subj['emoid']), '../../emoid_fmri_power264/timeseries') for subj in test]\n",
    "\n",
    "print('Complete')"
   ]
  },
  {
   "cell_type": "code",
   "execution_count": 3,
   "id": "72de3f40",
   "metadata": {},
   "outputs": [
    {
     "name": "stdout",
     "output_type": "stream",
     "text": [
      "Complete\n"
     ]
    }
   ],
   "source": [
    "import numpy as np\n",
    "\n",
    "def normalizeSubjects(subjects):\n",
    "    for i in range(len(subjects)):\n",
    "        subj = subjects[i]\n",
    "        subj -= np.mean(subj, axis=1, keepdims=True)@np.ones([1,subj.shape[1]])\n",
    "        subj /= np.std(subj, axis=1, keepdims=True)@np.ones([1,subj.shape[1]])\n",
    "        if np.sum(np.isnan(subj)) > 0:\n",
    "            print(i)\n",
    "        if np.sum(np.isinf(subj)) > 0:\n",
    "            print(i)\n",
    "\n",
    "normalizeSubjects(train_rest_ts)\n",
    "# normalizeSubjects(train_nback_ts)\n",
    "# normalizeSubjects(train_emoid_ts)\n",
    "\n",
    "normalizeSubjects(test_rest_ts)\n",
    "# normalizeSubjects(test_nback_ts)\n",
    "# normalizeSubjects(test_emoid_ts)\n",
    "\n",
    "print('Complete')"
   ]
  },
  {
   "cell_type": "code",
   "execution_count": 4,
   "id": "a74d3f9c",
   "metadata": {
    "scrolled": true
   },
   "outputs": [
    {
     "name": "stdout",
     "output_type": "stream",
     "text": [
      "[[193   1   0]\n",
      " [217   1   0]\n",
      " [233   1   0]\n",
      " [176   1   0]\n",
      " [116   0   1]\n",
      " [246   0   1]\n",
      " [164   1   0]\n",
      " [167   0   1]\n",
      " [202   0   1]\n",
      " [108   0   1]]\n",
      "Complete\n"
     ]
    }
   ],
   "source": [
    "# Create feature vectors (right now just ages, maleness, and femaless)\n",
    "\n",
    "X_train = []\n",
    "for subj in train:\n",
    "    maleness = 1 if subj['meta']['Gender'] == 'M' else 0\n",
    "    femaleness = 1 if maleness == 0 else 0\n",
    "    feat = np.array([subj['meta']['AgeInMonths'], maleness, femaleness])\n",
    "    X_train.append(feat)\n",
    "    \n",
    "X_test = []\n",
    "for subj in test:\n",
    "    maleness = 1 if subj['meta']['Gender'] == 'M' else 0\n",
    "    femaleness = 1 if maleness == 0 else 0\n",
    "    feat = np.array([subj['meta']['AgeInMonths'], maleness, femaleness])\n",
    "    X_test.append(feat)\n",
    "    \n",
    "X_train = np.vstack(X_train)\n",
    "X_test = np.vstack(X_test)\n",
    "\n",
    "print(X_train[10:20])\n",
    "print('Complete')"
   ]
  },
  {
   "cell_type": "code",
   "execution_count": 5,
   "id": "90b56d94",
   "metadata": {},
   "outputs": [
    {
     "name": "stdout",
     "output_type": "stream",
     "text": [
      "(264, 124)\n"
     ]
    }
   ],
   "source": [
    "print(train_rest_ts[0].shape)"
   ]
  },
  {
   "cell_type": "code",
   "execution_count": 15,
   "id": "c4cdb93a",
   "metadata": {},
   "outputs": [
    {
     "name": "stdout",
     "output_type": "stream",
     "text": [
      "(27960, 264)\n",
      "Done stack\n",
      "(27960, 60)\n",
      "Done fit transform\n"
     ]
    }
   ],
   "source": [
    "# Apply PCA\n",
    "\n",
    "from sklearn.decomposition import PCA\n",
    "\n",
    "nLat = 60\n",
    "ntCut = 60\n",
    "\n",
    "pca = PCA(n_components=nLat)\n",
    "X_train_pca_inp = np.hstack([subj[:,:ntCut] for subj in train_rest_ts]).T\n",
    "X_test_pca_inp = np.hstack([subj[:,:ntCut] for subj in test_rest_ts]).T\n",
    "\n",
    "print(X_train_pca_inp.shape)\n",
    "print('Done stack')\n",
    "\n",
    "X_train_pca = pca.fit_transform(X_train_pca_inp)\n",
    "X_test_pca = pca.transform(X_test_pca_inp)\n",
    "\n",
    "print(X_train_pca.shape)\n",
    "print('Done fit transform')"
   ]
  },
  {
   "cell_type": "code",
   "execution_count": 17,
   "id": "65be1226",
   "metadata": {},
   "outputs": [
    {
     "data": {
      "image/png": "[encoded data removed]",
      "text/plain": [
       "<Figure size 432x288 with 1 Axes>"
      ]
     },
     "metadata": {
      "needs_background": "light"
     },
     "output_type": "display_data"
    }
   ],
   "source": [
    "# Validate pca\n",
    "\n",
    "import matplotlib.pyplot as plt\n",
    "\n",
    "N = len(train_rest_ts)\n",
    "nTest = len(test_rest_ts)\n",
    "nRoi = train_rest_ts[0].shape[0]\n",
    "nt = ntCut\n",
    "\n",
    "X_train_pca2 = X_train_pca.reshape([N, -1, nLat])\n",
    "X_test_pca2 = X_test_pca.reshape([nTest, -1, nLat])\n",
    "\n",
    "tst = X_test_pca2[0]\n",
    "tstInv = pca.inverse_transform(tst)\n",
    "\n",
    "plt.plot(X_test_pca_inp[0:nt,1])\n",
    "plt.plot(tstInv[0:nt,1])\n",
    "plt.show()"
   ]
  },
  {
   "cell_type": "code",
   "execution_count": 30,
   "id": "fe76e292",
   "metadata": {},
   "outputs": [
    {
     "name": "stdout",
     "output_type": "stream",
     "text": [
      "torch.Size([466, 56, 5, 60])\n",
      "Complete\n"
     ]
    }
   ],
   "source": [
    "# Convert to torch\n",
    "\n",
    "import torch\n",
    "\n",
    "nWin = 5\n",
    "\n",
    "# Keys\n",
    "stk = []\n",
    "for i in range(nt-nWin+1):\n",
    "    stk.append(X_train_pca2[:,(i):(i+nWin),:])\n",
    "stk = np.stack(stk, axis=1)\n",
    "key_t = torch.from_numpy(stk).float().cuda()\n",
    "\n",
    "# Values\n",
    "val_t = torch.from_numpy(X_train[:,0]).float().cuda()\n",
    "val_t = val_t.unsqueeze(1).expand(N,nt-nWin+1).flatten()\n",
    "\n",
    "# X_train_t = torch.from_numpy(X_train).float().cuda()\n",
    "# X_test_t = torch.from_numpy(X_test).float().cuda()\n",
    "\n",
    "print(key_t.shape)\n",
    "print('Complete')"
   ]
  },
  {
   "cell_type": "code",
   "execution_count": 73,
   "id": "0021a763",
   "metadata": {},
   "outputs": [
    {
     "name": "stdout",
     "output_type": "stream",
     "text": [
      "tensor([146., 146., 146.], device='cuda:0')\n"
     ]
    }
   ],
   "source": [
    "print(val_t[0:3])"
   ]
  },
  {
   "cell_type": "code",
   "execution_count": 59,
   "id": "6a21ff77",
   "metadata": {},
   "outputs": [
    {
     "name": "stdout",
     "output_type": "stream",
     "text": [
      "Complete\n"
     ]
    }
   ],
   "source": [
    "import torch.nn as nn\n",
    "import torch.nn.functional as F\n",
    "\n",
    "nHid = 30\n",
    "nHead = 10\n",
    "\n",
    "class Att1(nn.Module):\n",
    "    def __init__(self):\n",
    "        super(Att1, self).__init__()\n",
    "        self.qw1 = nn.Parameter(torch.ones(nHead,nWin,nLat).float().cuda())\n",
    "#         self.qb1 = nn.Parameter(torch.ones(nHead,nWin,nLat).float().cuda())\n",
    "        self.m = nn.Softmax(dim=1)\n",
    "        self.fc1 = nn.Linear((nt-nWin+1)*nHead,nHid).cuda()\n",
    "        self.fc2 = nn.Linear(nHid,1).cuda()\n",
    "        \n",
    "    def forward(self, x):\n",
    "        nB = x.shape[0]\n",
    "        z = []\n",
    "        for i in range(nHead):\n",
    "            q = torch.einsum('abcd,cd->abcd',x,self.qw1[i])\n",
    "#             q = q + self.qb1[i].unsqueeze(0).unsqueeze(0)\n",
    "            y = torch.einsum('abcd,efcd->eabf',key_t,q).reshape(nB,N*(nt-nWin+1),nt-nWin+1)\n",
    "            y /= (nRoi*nWin)**0.5\n",
    "            y = self.m(y)\n",
    "            z.append(torch.einsum('abc,b->ac',y,val_t))\n",
    "        z = torch.cat(z,dim=1)\n",
    "        x = F.relu(self.fc1(z))\n",
    "        x = self.fc2(x)\n",
    "        return x\n",
    "    \n",
    "att1 = Att1()\n",
    "optim = torch.optim.Adam(att1.parameters(), lr=1e-3)\n",
    "print('Complete')"
   ]
  },
  {
   "cell_type": "code",
   "execution_count": 60,
   "id": "b5235e83",
   "metadata": {},
   "outputs": [
    {
     "name": "stdout",
     "output_type": "stream",
     "text": [
      "epoch 0 loss=17.386263\n",
      "epoch 5 loss=8.287677\n",
      "epoch 10 loss=5.653122\n",
      "epoch 15 loss=3.614586\n",
      "epoch 20 loss=3.472034\n",
      "epoch 25 loss=3.230111\n",
      "epoch 30 loss=2.864634\n",
      "epoch 35 loss=3.292370\n",
      "epoch 40 loss=3.112074\n",
      "epoch 45 loss=2.970523\n",
      "epoch 50 loss=3.120931\n",
      "epoch 55 loss=3.053917\n",
      "epoch 60 loss=2.688596\n",
      "epoch 65 loss=2.719018\n",
      "epoch 70 loss=2.446520\n",
      "epoch 75 loss=2.659258\n",
      "epoch 80 loss=2.860085\n",
      "epoch 85 loss=3.119499\n",
      "epoch 90 loss=2.309547\n",
      "epoch 95 loss=3.045760\n",
      "epoch 100 loss=3.465758\n",
      "epoch 105 loss=2.877707\n",
      "epoch 110 loss=3.254181\n",
      "epoch 115 loss=3.708436\n",
      "epoch 120 loss=3.409714\n",
      "epoch 125 loss=3.665736\n",
      "epoch 130 loss=2.344079\n",
      "epoch 135 loss=2.262606\n",
      "epoch 140 loss=2.562213\n",
      "epoch 145 loss=2.402426\n",
      "epoch 150 loss=3.804800\n",
      "epoch 155 loss=3.882531\n",
      "epoch 160 loss=3.095169\n",
      "epoch 165 loss=3.166805\n",
      "epoch 170 loss=2.784223\n",
      "epoch 175 loss=2.533206\n",
      "epoch 180 loss=2.903546\n",
      "epoch 185 loss=2.605499\n",
      "epoch 190 loss=1.635382\n",
      "epoch 195 loss=2.106140\n",
      "epoch 200 loss=2.142551\n",
      "epoch 205 loss=2.808216\n",
      "epoch 210 loss=2.489697\n",
      "epoch 215 loss=2.318528\n",
      "epoch 220 loss=2.832836\n",
      "epoch 225 loss=2.125664\n",
      "epoch 230 loss=2.670862\n",
      "epoch 235 loss=2.353428\n",
      "epoch 240 loss=2.414492\n",
      "epoch 245 loss=2.444016\n",
      "epoch 250 loss=2.577096\n",
      "epoch 255 loss=2.731748\n",
      "epoch 260 loss=2.220762\n",
      "epoch 265 loss=1.842003\n",
      "epoch 270 loss=2.129950\n",
      "epoch 275 loss=2.284318\n",
      "epoch 280 loss=2.266613\n",
      "epoch 285 loss=2.006183\n",
      "epoch 290 loss=2.515955\n",
      "epoch 295 loss=2.347095\n",
      "epoch 300 loss=2.542829\n",
      "epoch 305 loss=2.273424\n",
      "epoch 310 loss=2.726824\n",
      "epoch 315 loss=2.226516\n",
      "epoch 320 loss=2.197490\n",
      "epoch 325 loss=2.517340\n",
      "epoch 330 loss=1.617992\n",
      "epoch 335 loss=2.330408\n",
      "epoch 340 loss=1.572195\n",
      "epoch 345 loss=1.754650\n",
      "epoch 350 loss=2.440201\n",
      "epoch 355 loss=1.687853\n",
      "epoch 360 loss=1.896884\n",
      "epoch 365 loss=2.134125\n",
      "epoch 370 loss=1.772039\n",
      "epoch 375 loss=1.431898\n",
      "epoch 380 loss=1.564218\n",
      "epoch 385 loss=1.432052\n",
      "epoch 390 loss=2.208251\n",
      "epoch 395 loss=1.591899\n",
      "epoch 400 loss=2.310776\n",
      "epoch 405 loss=2.369157\n",
      "epoch 410 loss=1.668934\n",
      "epoch 415 loss=2.166915\n",
      "epoch 420 loss=1.969006\n",
      "epoch 425 loss=2.729402\n",
      "epoch 430 loss=2.645147\n",
      "epoch 435 loss=1.718567\n",
      "epoch 440 loss=2.089509\n",
      "epoch 445 loss=1.900727\n",
      "epoch 450 loss=2.356689\n",
      "epoch 455 loss=1.477162\n",
      "epoch 460 loss=2.273717\n",
      "epoch 465 loss=2.029657\n",
      "epoch 470 loss=1.277876\n",
      "epoch 475 loss=1.925936\n",
      "epoch 480 loss=1.943243\n",
      "epoch 485 loss=1.700921\n",
      "epoch 490 loss=1.594444\n",
      "epoch 495 loss=1.730276\n",
      "epoch 500 loss=1.697945\n",
      "epoch 505 loss=2.141112\n",
      "epoch 510 loss=1.701606\n",
      "epoch 515 loss=1.085475\n",
      "epoch 520 loss=2.084484\n",
      "epoch 525 loss=1.441434\n",
      "epoch 530 loss=1.569463\n",
      "epoch 535 loss=1.696585\n",
      "epoch 540 loss=1.743000\n",
      "epoch 545 loss=1.378514\n",
      "epoch 550 loss=1.191764\n",
      "epoch 555 loss=2.501732\n",
      "epoch 560 loss=2.084517\n",
      "epoch 565 loss=1.794100\n",
      "epoch 570 loss=2.136755\n",
      "epoch 575 loss=1.985637\n",
      "epoch 580 loss=2.183842\n",
      "epoch 585 loss=2.481684\n",
      "epoch 590 loss=1.707777\n",
      "epoch 595 loss=1.445560\n",
      "epoch 600 loss=2.264332\n",
      "epoch 605 loss=2.212680\n",
      "epoch 610 loss=1.432954\n",
      "epoch 615 loss=1.669055\n",
      "epoch 620 loss=1.879447\n",
      "epoch 625 loss=1.699195\n",
      "epoch 630 loss=1.815372\n",
      "epoch 635 loss=1.573188\n",
      "epoch 640 loss=1.527518\n",
      "epoch 645 loss=1.603155\n",
      "epoch 650 loss=1.163141\n",
      "epoch 655 loss=1.668331\n",
      "epoch 660 loss=1.341382\n",
      "epoch 665 loss=1.036484\n",
      "epoch 670 loss=2.316307\n",
      "epoch 675 loss=1.112593\n",
      "epoch 680 loss=1.547159\n",
      "epoch 685 loss=1.768301\n",
      "epoch 690 loss=1.213818\n",
      "epoch 695 loss=1.110076\n",
      "epoch 700 loss=1.755106\n",
      "epoch 705 loss=1.752754\n",
      "epoch 710 loss=1.799028\n",
      "epoch 715 loss=1.723104\n",
      "epoch 720 loss=1.316499\n",
      "epoch 725 loss=1.383983\n",
      "epoch 730 loss=1.678530\n",
      "epoch 735 loss=1.203488\n",
      "epoch 740 loss=1.684593\n",
      "epoch 745 loss=1.170380\n",
      "epoch 750 loss=1.115538\n",
      "epoch 755 loss=0.897596\n",
      "epoch 760 loss=1.063881\n",
      "epoch 765 loss=1.640147\n",
      "epoch 770 loss=1.407259\n",
      "epoch 775 loss=1.042209\n",
      "epoch 780 loss=1.831887\n",
      "epoch 785 loss=1.612519\n",
      "epoch 790 loss=1.368669\n",
      "epoch 795 loss=0.896840\n",
      "epoch 800 loss=1.364107\n",
      "epoch 805 loss=0.898882\n",
      "epoch 810 loss=1.098849\n",
      "epoch 815 loss=1.284128\n",
      "epoch 820 loss=1.200712\n",
      "epoch 825 loss=1.132125\n",
      "epoch 830 loss=1.251269\n",
      "epoch 835 loss=1.105227\n",
      "epoch 840 loss=1.890971\n",
      "epoch 845 loss=1.749030\n",
      "epoch 850 loss=1.628744\n",
      "epoch 855 loss=1.488952\n",
      "epoch 860 loss=1.112536\n",
      "epoch 865 loss=1.336012\n",
      "epoch 870 loss=1.208401\n",
      "epoch 875 loss=1.039205\n",
      "epoch 880 loss=0.812131\n",
      "epoch 885 loss=1.318891\n",
      "epoch 890 loss=1.002603\n",
      "epoch 895 loss=1.041996\n",
      "epoch 900 loss=1.525339\n",
      "epoch 905 loss=0.996271\n",
      "epoch 910 loss=0.784311\n",
      "epoch 915 loss=0.927955\n",
      "epoch 920 loss=1.018010\n",
      "epoch 925 loss=1.122678\n",
      "epoch 930 loss=1.228335\n",
      "epoch 935 loss=0.961699\n",
      "epoch 940 loss=0.931438\n",
      "epoch 945 loss=0.865008\n",
      "epoch 950 loss=1.459906\n",
      "epoch 955 loss=1.226760\n",
      "epoch 960 loss=0.893408\n",
      "epoch 965 loss=0.850220\n",
      "epoch 970 loss=0.867551\n",
      "epoch 975 loss=1.241082\n",
      "epoch 980 loss=0.849581\n",
      "epoch 985 loss=0.741431\n",
      "epoch 990 loss=0.904651\n",
      "epoch 995 loss=1.160565\n",
      "epoch 999 loss=1.264891\n",
      "Finished training\n"
     ]
    }
   ],
   "source": [
    "import random\n",
    "\n",
    "running = 0\n",
    "nEpoch = 1000\n",
    "pPeriod = 5\n",
    "nB = 5\n",
    "\n",
    "for epoch in range(nEpoch):\n",
    "    batch = []\n",
    "    truth = torch.zeros(nB).float().cuda()\n",
    "    for i in range(nB):\n",
    "        idx = random.randint(0,N-1)\n",
    "        batch.append(key_t[idx])\n",
    "        truth[i] = X_train[idx, 0]\n",
    "    batch = torch.stack(batch)\n",
    "    optim.zero_grad()\n",
    "    pred = att1(batch).flatten()\n",
    "    loss = torch.sum((pred-truth)**2)\n",
    "    loss.backward()\n",
    "    running += loss.detach().cpu()\n",
    "    optim.step()\n",
    "    if epoch % pPeriod == 0 or epoch == nEpoch-1:\n",
    "        if epoch != 0:\n",
    "            if epoch % pPeriod != 0:\n",
    "                running /= epoch % pPeriod\n",
    "            else:\n",
    "                running /= pPeriod\n",
    "        print('epoch {:d} loss={:f}'.format(epoch, ((running/nB)**0.5)/12))\n",
    "        running = 0\n",
    "\n",
    "print('Finished training')"
   ]
  },
  {
   "cell_type": "code",
   "execution_count": 61,
   "id": "3e9303ab",
   "metadata": {},
   "outputs": [
    {
     "name": "stdout",
     "output_type": "stream",
     "text": [
      "0 5 10 15 20 25 30 35 40 45 50 55 60 65 70 75 80 85 90 95 100 105 110 115 120 125 130 135 140 145 150 155 \n",
      "[[1.         0.08834914]\n",
      " [0.08834914 1.        ]]\n",
      "3.2272441333328583\n",
      "2.6325625150631637\n"
     ]
    },
    {
     "data": {
      "image/png": "[encoded data removed]",
      "text/plain": [
       "<Figure size 432x288 with 1 Axes>"
      ]
     },
     "metadata": {
      "needs_background": "light"
     },
     "output_type": "display_data"
    },
    {
     "data": {
      "image/png": "[encoded data removed]",
      "text/plain": [
       "<Figure size 432x288 with 1 Axes>"
      ]
     },
     "metadata": {
      "needs_background": "light"
     },
     "output_type": "display_data"
    }
   ],
   "source": [
    "import math\n",
    "\n",
    "# nB = 5\n",
    "# N = X_train.shape[0]\n",
    "# y = X_train[:,0]\n",
    "# yPred = []\n",
    "# for i in range(math.ceil(N/nB)):\n",
    "#     start = i*nB\n",
    "#     end = (i+1)*nB\n",
    "#     if end > N:\n",
    "#         end = N\n",
    "#     yP = att1(key_t[start:end])\n",
    "#     yPred.append(yP.flatten().detach().cpu().numpy())\n",
    "#     print(start, end=' ')\n",
    "# print()\n",
    "# yPred = np.hstack(yPred)\n",
    "\n",
    "nB = 5\n",
    "N = X_train.shape[0]\n",
    "NN = X_test.shape[0]\n",
    "y = X_test[:,0]\n",
    "yPred = []\n",
    "for i in range(math.ceil(NN/nB)):\n",
    "    start = i*nB\n",
    "    end = (i+1)*nB\n",
    "    stk = []\n",
    "    if end > N:\n",
    "        end = N\n",
    "    for j in range(nt-nWin+1):\n",
    "        stk.append(X_test_pca2[start:end,(j):(j+nWin),:])\n",
    "    stk = np.stack(stk, axis=1)\n",
    "    key_test_t = torch.from_numpy(stk).float().cuda()\n",
    "    yP = att1(key_test_t)\n",
    "    yPred.append(yP.flatten().detach().cpu().numpy())\n",
    "    print(start, end=' ')\n",
    "print()\n",
    "yPred = np.hstack(yPred)\n",
    "    \n",
    "idcs = np.argsort(y)\n",
    "yPred = yPred[idcs]\n",
    "y = y[idcs]\n",
    "\n",
    "corr = np.corrcoef(y, yPred)\n",
    "rmse = (np.sum((y-yPred)**2)/len(y))**0.5/12\n",
    "mae = np.sum(np.abs(y-yPred))/12/len(y)\n",
    "\n",
    "print(corr)\n",
    "print(rmse)\n",
    "print(mae)\n",
    "\n",
    "plt.plot(y, label='Truth')\n",
    "plt.plot(yPred, label='Prediction')\n",
    "plt.show()\n",
    "\n",
    "plt.scatter(y, yPred)\n",
    "plt.show()"
   ]
  },
  {
   "cell_type": "code",
   "execution_count": 72,
   "id": "feccec64",
   "metadata": {},
   "outputs": [
    {
     "data": {
      "image/png": "[encoded data removed]",
      "text/plain": [
       "<Figure size 432x288 with 2 Axes>"
      ]
     },
     "metadata": {
      "needs_background": "light"
     },
     "output_type": "display_data"
    }
   ],
   "source": [
    "# View head weights\n",
    "\n",
    "plt.imshow(att1.qw1[9].detach().cpu().numpy())\n",
    "plt.colorbar()\n",
    "plt.show()"
   ]
  },
  {
   "cell_type": "code",
   "execution_count": 48,
   "id": "90416a7e",
   "metadata": {},
   "outputs": [
    {
     "name": "stdout",
     "output_type": "stream",
     "text": [
      "tensor([], size=(0, 2))\n"
     ]
    }
   ],
   "source": [
    "a = torch.ones(2,2)\n",
    "print(a[0:0])"
   ]
  },
  {
   "cell_type": "code",
   "execution_count": null,
   "id": "0296ed1b",
   "metadata": {},
   "outputs": [],
   "source": []
  }
 ],
 "metadata": {
  "kernelspec": {
   "display_name": "Python 3",
   "language": "python",
   "name": "python3"
  },
  "language_info": {
   "codemirror_mode": {
    "name": "ipython",
    "version": 3
   },
   "file_extension": ".py",
   "mimetype": "text/x-python",
   "name": "python",
   "nbconvert_exporter": "python",
   "pygments_lexer": "ipython3",
   "version": "3.9.5"
  }
 },
 "nbformat": 4,
 "nbformat_minor": 5
}
