{
 "cells": [
  {
   "cell_type": "code",
   "execution_count": 145,
   "id": "c38eeb5b-614e-4617-9646-b05fa05e2db2",
   "metadata": {},
   "outputs": [
    {
     "name": "stdout",
     "output_type": "stream",
     "text": [
      "Done\n"
     ]
    }
   ],
   "source": [
    "import sys\n",
    "\n",
    "sys.path.append('/home/anton/Documents/Tulane/Research/demo-vae/pip/src/')\n",
    "\n",
    "from demovae import DemoVAE\n",
    "\n",
    "field = 'Total_Drinks_7days'\n",
    "\n",
    "vae = DemoVAE(pperiod=50, use_cuda=True, nepochs=5000, latent_dim=100, weight_decay=0, lr=5e-5, loss_rec_mult=1e3,\n",
    "              loss_pred_mult=0.01, loss_C_mult=1e4)\n",
    "vae.load(f'/home/anton/Documents/Yale/HCP/VAE_Models/456_subs/{field}.pkl')\n",
    "\n",
    "print('Done')"
   ]
  },
  {
   "cell_type": "code",
   "execution_count": 146,
   "id": "a91f833f-4c6d-47e4-b328-166d0da045cf",
   "metadata": {},
   "outputs": [
    {
     "name": "stdout",
     "output_type": "stream",
     "text": [
      "['demos', 'types']\n",
      "Done\n"
     ]
    }
   ],
   "source": [
    "import pickle\n",
    "\n",
    "dct = pickle.load(open(f'/home/anton/Documents/Yale/HCP/VAE_Models/456_subs/demos_{field}.pkl', 'rb'))\n",
    "\n",
    "print(list(dct.keys()))\n",
    "print('Done')"
   ]
  },
  {
   "cell_type": "code",
   "execution_count": 147,
   "id": "69e5ed9b-08b6-4a79-9089-6f7168aa9091",
   "metadata": {},
   "outputs": [
    {
     "data": {
      "text/plain": [
       "['intercept', 'coef']"
      ]
     },
     "execution_count": 147,
     "metadata": {},
     "output_type": "execute_result"
    }
   ],
   "source": [
    "# Load ADNI model\n",
    "\n",
    "import pickle\n",
    "\n",
    "adni = pickle.load(open('/home/anton/Documents/Tulane/Research/Work/ADNI/weights0.pkl', 'rb'))\n",
    "\n",
    "list(adni.keys())"
   ]
  },
  {
   "cell_type": "code",
   "execution_count": 148,
   "id": "b3b82ab9-61b9-4968-ad11-d553d416cfb2",
   "metadata": {},
   "outputs": [
    {
     "data": {
      "text/plain": [
       "array([ 9., 10.,  0.,  7.,  3.,  0.,  5.,  0.,  3.,  3.,  5.,  8., 18.,\n",
       "        0.,  2.,  1., 13.,  8.,  3.,  1.])"
      ]
     },
     "execution_count": 148,
     "metadata": {},
     "output_type": "execute_result"
    }
   ],
   "source": [
    "dct['demos'][4][:20]"
   ]
  },
  {
   "cell_type": "code",
   "execution_count": 149,
   "id": "af8870b2-5767-4023-bb26-9cdbcb529d09",
   "metadata": {},
   "outputs": [
    {
     "name": "stdout",
     "output_type": "stream",
     "text": [
      "-44.173985434931026\n",
      "0.8165624326557286\n"
     ]
    }
   ],
   "source": [
    "import numpy as np\n",
    "\n",
    "vals = []\n",
    "\n",
    "for i in range(20):\n",
    "    synth = vae.transform(len(dct['demos'][0]), dct['demos'], dct['types'])\n",
    "    \n",
    "    b = adni['intercept']\n",
    "    w = adni['coef']\n",
    "    sum_logits = 0\n",
    "    \n",
    "    for fc in synth:\n",
    "        logits = b+np.sum(fc*w)\n",
    "        sum_logits += logits\n",
    "    \n",
    "    vals.append(sum_logits/len(synth))\n",
    "\n",
    "print(np.mean(vals))\n",
    "print(np.std(vals))"
   ]
  },
  {
   "cell_type": "code",
   "execution_count": 155,
   "id": "a8139e1d-90d5-4104-a537-f943b20a0302",
   "metadata": {},
   "outputs": [
    {
     "name": "stdout",
     "output_type": "stream",
     "text": [
      "-45.257404553809174\n",
      "0.7996685867798532\n"
     ]
    }
   ],
   "source": [
    "# Height and AD https://pmc.ncbi.nlm.nih.gov/articles/PMC6037293/\n",
    "# Observational studies have linked increased adult height with better cognitive performance and reduced \n",
    "# risk of Alzheimer’s disease (AD). It is unclear whether the associations are due to shared biological \n",
    "# processes that influence height and AD or due to confounding by early life exposures or environmental factors.\n",
    "\n",
    "vals = []\n",
    "\n",
    "for i in range(20):\n",
    "    ndemo = []\n",
    "    for d in dct['demos']:\n",
    "        dd = d+0\n",
    "        ndemo.append(dd)\n",
    "\n",
    "    # ndemo[1] = 0*np.ones(len(ndemo[1]))\n",
    "    # ndemo[3] += 15\n",
    "    # ndemo[4] = 0*np.ones(len(ndemo[4]))\n",
    "    ndemo[4] += 15\n",
    "    \n",
    "    nsynth = vae.transform(len(dct['demos'][0]), ndemo, dct['types'])\n",
    "    \n",
    "    sum_logits = 0\n",
    "    \n",
    "    for fc in nsynth:\n",
    "        logits = b+np.sum(fc*w)\n",
    "        sum_logits += logits\n",
    "    \n",
    "    vals.append(sum_logits/len(nsynth))\n",
    "\n",
    "print(np.mean(vals))\n",
    "print(np.std(vals))"
   ]
  },
  {
   "cell_type": "code",
   "execution_count": null,
   "id": "35f769d3-64fe-4581-9a5b-7087896230a3",
   "metadata": {},
   "outputs": [],
   "source": []
  }
 ],
 "metadata": {
  "kernelspec": {
   "display_name": "Python 3 (ipykernel)",
   "language": "python",
   "name": "python3"
  },
  "language_info": {
   "codemirror_mode": {
    "name": "ipython",
    "version": 3
   },
   "file_extension": ".py",
   "mimetype": "text/x-python",
   "name": "python",
   "nbconvert_exporter": "python",
   "pygments_lexer": "ipython3",
   "version": "3.13.1"
  }
 },
 "nbformat": 4,
 "nbformat_minor": 5
}
