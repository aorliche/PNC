{
 "cells": [
  {
   "cell_type": "code",
   "execution_count": 5,
   "id": "fde742e2",
   "metadata": {},
   "outputs": [
    {
     "name": "stdout",
     "output_type": "stream",
     "text": [
      "(210, 34716)\n",
      "(210,)\n"
     ]
    }
   ],
   "source": [
    "import pickle\n",
    "import numpy as np\n",
    "\n",
    "imagedir = '/home/anton/Documents/Tulane/Research/ImageNomer/data/anton/cohorts/MCIC'\n",
    "demo = pickle.load(open(f'{imagedir}/demographics.pkl', 'rb'))\n",
    "\n",
    "ps = []\n",
    "sz = []\n",
    "\n",
    "for sub in demo['Neuroleptic_Naive']:\n",
    "    try:\n",
    "        p = np.load(f'{imagedir}/fc/{sub}_task-combined_fc.npy')\n",
    "    except:\n",
    "        continue\n",
    "    d = demo['Neuroleptic_Naive'][sub] == 'T'\n",
    "    d = int(d)\n",
    "    ps.append(p)\n",
    "    sz.append(d)\n",
    "    \n",
    "ps = np.stack(ps)\n",
    "sz = np.array(sz)\n",
    "\n",
    "print(ps.shape)\n",
    "print(sz.shape)"
   ]
  },
  {
   "cell_type": "code",
   "execution_count": 8,
   "id": "63224f03",
   "metadata": {},
   "outputs": [
    {
     "name": "stdout",
     "output_type": "stream",
     "text": [
      "0.6857142857142857\n",
      "0.7596223674655047\n",
      "---\n",
      "0.780952380952381\n",
      "0.7981118373275237\n",
      "---\n",
      "0.6857142857142857\n",
      "0.7592592592592593\n",
      "---\n",
      "0.6666666666666666\n",
      "0.7578068264342774\n",
      "---\n",
      "0.6666666666666666\n",
      "0.6946259985475671\n",
      "---\n",
      "0.6190476190476191\n",
      "0.6997095134350036\n",
      "---\n",
      "0.6666666666666666\n",
      "0.7095134350036311\n",
      "---\n",
      "0.7523809523809524\n",
      "0.8347857661583152\n",
      "---\n",
      "0.6952380952380952\n",
      "0.7407407407407407\n",
      "---\n",
      "0.7047619047619048\n",
      "0.7792302106027597\n",
      "---\n"
     ]
    }
   ],
   "source": [
    "from sklearn.linear_model import LogisticRegression\n",
    "from sklearn.model_selection import train_test_split\n",
    "from sklearn.metrics import roc_auc_score\n",
    "\n",
    "for _ in range(10):\n",
    "    xtr, xt, ytr, yt = train_test_split(ps, sz, stratify=sz, train_size=0.5)\n",
    "\n",
    "    clf = LogisticRegression(C=10, max_iter=1000).fit(xtr, ytr)\n",
    "    yhat = clf.predict(xt)\n",
    "    yprob = clf.predict_proba(xt)\n",
    "    auc = roc_auc_score(yt, yprob[:,1])\n",
    "    print(np.mean(yhat == yt))\n",
    "    print(auc)\n",
    "    print('---')"
   ]
  },
  {
   "cell_type": "code",
   "execution_count": null,
   "id": "7ed491a1",
   "metadata": {},
   "outputs": [],
   "source": []
  }
 ],
 "metadata": {
  "kernelspec": {
   "display_name": "Python 3 (ipykernel)",
   "language": "python",
   "name": "python3"
  },
  "language_info": {
   "codemirror_mode": {
    "name": "ipython",
    "version": 3
   },
   "file_extension": ".py",
   "mimetype": "text/x-python",
   "name": "python",
   "nbconvert_exporter": "python",
   "pygments_lexer": "ipython3",
   "version": "3.10.9"
  }
 },
 "nbformat": 4,
 "nbformat_minor": 5
}
