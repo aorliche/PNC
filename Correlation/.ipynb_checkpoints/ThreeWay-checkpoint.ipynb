{
 "cells": [
  {
   "cell_type": "code",
   "execution_count": 1,
   "id": "73283926",
   "metadata": {},
   "outputs": [
    {
     "name": "stdout",
     "output_type": "stream",
     "text": [
      "466\n",
      "156\n"
     ]
    }
   ],
   "source": [
    "# Load split\n",
    "\n",
    "import pickle\n",
    "\n",
    "badIDs = [605515760919, 601983541597]\n",
    "\n",
    "with open('../../Splits/RegressionAllTasks/split1.bin', 'rb') as f:\n",
    "    d = pickle.load(f)\n",
    "    train = []\n",
    "    trainDirty = d['train']\n",
    "    test = []\n",
    "    testDirty = d['test']\n",
    "    \n",
    "    # Remove bad subjects\n",
    "    for subj in trainDirty:\n",
    "        if subj['ID'] not in badIDs:\n",
    "            train.append(subj)\n",
    "            \n",
    "    for subj in testDirty:\n",
    "        if subj['ID'] not in badIDs:\n",
    "            test.append(subj)\n",
    "    \n",
    "print(len(train))\n",
    "print(len(test))"
   ]
  },
  {
   "cell_type": "code",
   "execution_count": 2,
   "id": "26664d8d",
   "metadata": {},
   "outputs": [
    {
     "name": "stdout",
     "output_type": "stream",
     "text": [
      "(1, 2, 3)\n",
      "4\n",
      "[[2. 3. 5. 9.]]\n"
     ]
    }
   ],
   "source": [
    "# Test 3-way\n",
    "\n",
    "import numpy as np\n",
    "import ThreeWay\n",
    "\n",
    "def numCorEntries(nRoi):\n",
    "    m1 = nRoi-1\n",
    "    return int(m1**3/6+m1**2+(11/6)*m1+1)\n",
    "\n",
    "a = np.array([[[0,1,1],[0,2,1]]], dtype='float32')\n",
    "print(a.shape)\n",
    "print(numCorEntries(a.shape[1]))\n",
    "b = np.zeros([a.shape[0], numCorEntries(a.shape[1])], dtype='float32')\n",
    "_ = ThreeWay.ThreeWay(a,b)\n",
    "print(b)"
   ]
  },
  {
   "cell_type": "code",
   "execution_count": 3,
   "id": "9cbcb67c",
   "metadata": {},
   "outputs": [
    {
     "name": "stdout",
     "output_type": "stream",
     "text": [
      "[124. 124.]\n",
      "(4, 3101560)\n",
      "5781307840\n",
      "17.692527 s, 2061.179402 s\n"
     ]
    }
   ],
   "source": [
    "# Test 3-way time\n",
    "\n",
    "import time\n",
    "\n",
    "t0 = time.time()\n",
    "a = np.ones([4,264,124], dtype='float32')\n",
    "b = np.zeros([4,numCorEntries(264)], dtype='float32')\n",
    "_ = ThreeWay.ThreeWay(a,b)\n",
    "t1 = time.time()\n",
    "print(b[0,0:2])\n",
    "print(b.shape)\n",
    "print(b.shape[1]*466*4)\n",
    "tp = t1-t0\n",
    "print('{:f} s, {:f} s'.format(tp, tp*(466/4)))"
   ]
  },
  {
   "cell_type": "code",
   "execution_count": 4,
   "id": "dfeb20d1",
   "metadata": {},
   "outputs": [
    {
     "name": "stdout",
     "output_type": "stream",
     "text": [
      "Complete\n"
     ]
    }
   ],
   "source": [
    "# Load data\n",
    "\n",
    "def loadTimeseries(_id, _dir):\n",
    "    ts = None\n",
    "    with open('{:s}/{:d}.bin'.format(_dir, _id), 'rb') as f:\n",
    "        ts = pickle.load(f)\n",
    "    return ts\n",
    "\n",
    "train_rest_ts = [loadTimeseries(int(subj['rest']), '../../rest_fmri_power264/timeseries') for subj in train]\n",
    "# train_nback_ts = [loadTimeseries(int(subj['nback']), '../../nback_fmri_power264/timeseries') for subj in train]\n",
    "# train_emoid_ts = [loadTimeseries(int(subj['emoid']), '../../emoid_fmri_power264/timeseries') for subj in train]\n",
    "\n",
    "test_rest_ts = [loadTimeseries(int(subj['rest']), '../../rest_fmri_power264/timeseries') for subj in test]\n",
    "# test_nback_ts = [loadTimeseries(int(subj['nback']), '../../nback_fmri_power264/timeseries') for subj in test]\n",
    "# test_emoid_ts = [loadTimeseries(int(subj['emoid']), '../../emoid_fmri_power264/timeseries') for subj in test]\n",
    "\n",
    "print('Complete')"
   ]
  },
  {
   "cell_type": "code",
   "execution_count": 5,
   "id": "dee6fc7c",
   "metadata": {},
   "outputs": [
    {
     "name": "stdout",
     "output_type": "stream",
     "text": [
      "Complete\n"
     ]
    }
   ],
   "source": [
    "import numpy as np\n",
    "\n",
    "def normalizeSubjects(subjects):\n",
    "    for i in range(len(subjects)):\n",
    "        subj = subjects[i]\n",
    "        subj -= np.mean(subj, axis=1, keepdims=True)@np.ones([1,subj.shape[1]])\n",
    "        subj /= np.std(subj, axis=1, keepdims=True)@np.ones([1,subj.shape[1]])\n",
    "        if np.sum(np.isnan(subj)) > 0:\n",
    "            print(i)\n",
    "        if np.sum(np.isinf(subj)) > 0:\n",
    "            print(i)\n",
    "\n",
    "normalizeSubjects(train_rest_ts)\n",
    "# normalizeSubjects(train_nback_ts)\n",
    "# normalizeSubjects(train_emoid_ts)\n",
    "\n",
    "normalizeSubjects(test_rest_ts)\n",
    "# normalizeSubjects(test_nback_ts)\n",
    "# normalizeSubjects(test_emoid_ts)\n",
    "\n",
    "print('Complete')"
   ]
  },
  {
   "cell_type": "code",
   "execution_count": 6,
   "id": "c1d8a245",
   "metadata": {},
   "outputs": [
    {
     "name": "stdout",
     "output_type": "stream",
     "text": [
      "(466, 264, 124)\n",
      "(156, 264, 124)\n"
     ]
    }
   ],
   "source": [
    "train_rest_ts_f32 = np.stack(train_rest_ts).astype('float32')\n",
    "test_rest_ts_f32 = np.stack(test_rest_ts).astype('float32')\n",
    "\n",
    "print(train_rest_ts_f32.shape)\n",
    "print(test_rest_ts_f32.shape)"
   ]
  },
  {
   "cell_type": "code",
   "execution_count": 10,
   "id": "d831fa0c",
   "metadata": {},
   "outputs": [
    {
     "name": "stdout",
     "output_type": "stream",
     "text": [
      "(466, 3101560)\n",
      "Complete 1832.449205s\n"
     ]
    }
   ],
   "source": [
    "import time\n",
    "\n",
    "t0 = time.time()\n",
    "train_rest_3way = np.empty([train_rest_ts_f32.shape[0], numCorEntries(train_rest_ts_f32.shape[1])], dtype='float32')\n",
    "print(train_rest_3way.shape)\n",
    "_ = ThreeWay.ThreeWay(train_rest_ts_f32, train_rest_3way)\n",
    "t1 = time.time()\n",
    "\n",
    "print('Complete {:f}s'.format(t1-t0))"
   ]
  },
  {
   "cell_type": "code",
   "execution_count": 11,
   "id": "1f0a957e",
   "metadata": {},
   "outputs": [
    {
     "name": "stdout",
     "output_type": "stream",
     "text": [
      "Complete\n"
     ]
    }
   ],
   "source": [
    "import pickle\n",
    "\n",
    "with open('train_rest_3way.bin', 'wb') as f:\n",
    "    pickle.dump(train_rest_3way, f)\n",
    "    \n",
    "print('Complete')"
   ]
  },
  {
   "cell_type": "code",
   "execution_count": 12,
   "id": "be8883de",
   "metadata": {},
   "outputs": [
    {
     "name": "stdout",
     "output_type": "stream",
     "text": [
      "[[193   1   0]\n",
      " [217   1   0]\n",
      " [233   1   0]\n",
      " [176   1   0]\n",
      " [116   0   1]\n",
      " [246   0   1]\n",
      " [164   1   0]\n",
      " [167   0   1]\n",
      " [202   0   1]\n",
      " [108   0   1]]\n",
      "Complete\n"
     ]
    }
   ],
   "source": [
    "# Create feature vectors (right now just ages, maleness, and femaless)\n",
    "\n",
    "X_train = []\n",
    "for subj in train:\n",
    "    maleness = 1 if subj['meta']['Gender'] == 'M' else 0\n",
    "    femaleness = 1 if maleness == 0 else 0\n",
    "    feat = np.array([subj['meta']['AgeInMonths'], maleness, femaleness])\n",
    "    X_train.append(feat)\n",
    "    \n",
    "X_test = []\n",
    "for subj in test:\n",
    "    maleness = 1 if subj['meta']['Gender'] == 'M' else 0\n",
    "    femaleness = 1 if maleness == 0 else 0\n",
    "    feat = np.array([subj['meta']['AgeInMonths'], maleness, femaleness])\n",
    "    X_test.append(feat)\n",
    "    \n",
    "X_train = np.vstack(X_train)\n",
    "X_test = np.vstack(X_test)\n",
    "\n",
    "print(X_train[10:20])\n",
    "print('Complete')"
   ]
  },
  {
   "cell_type": "code",
   "execution_count": null,
   "id": "e990dc7b",
   "metadata": {},
   "outputs": [
    {
     "name": "stdout",
     "output_type": "stream",
     "text": [
      "Starting\n"
     ]
    },
    {
     "name": "stderr",
     "output_type": "stream",
     "text": [
      "<ipython-input-13-0cabcc196cca>:3: FutureWarning: `rcond` parameter will change to the default of machine precision times ``max(M, N)`` where M and N are the input matrix dimensions.\n",
      "To use the future default and silence this warning we advise to pass `rcond=None`, to keep using the old, explicitly pass `rcond=-1`.\n",
      "  w, res, _, _ = np.linalg.lstsq(train_rest_3way, X_train[:,0])\n"
     ]
    }
   ],
   "source": [
    "print('Starting')\n",
    "\n",
    "w, res, _, _ = np.linalg.lstsq(train_rest_3way, X_train[:,0], rcond=None)\n",
    "\n",
    "print('Finished')\n",
    "\n",
    "pTrain = train_rest_3way @ w\n",
    "print(np.sum((X_train[:,0] - pTrain)**2/X_train.shape[0])**0.5/12)"
   ]
  },
  {
   "cell_type": "code",
   "execution_count": null,
   "id": "7a19cd06",
   "metadata": {},
   "outputs": [],
   "source": []
  }
 ],
 "metadata": {
  "kernelspec": {
   "display_name": "Python 3",
   "language": "python",
   "name": "python3"
  },
  "language_info": {
   "codemirror_mode": {
    "name": "ipython",
    "version": 3
   },
   "file_extension": ".py",
   "mimetype": "text/x-python",
   "name": "python",
   "nbconvert_exporter": "python",
   "pygments_lexer": "ipython3",
   "version": "3.9.5"
  }
 },
 "nbformat": 4,
 "nbformat_minor": 5
}
