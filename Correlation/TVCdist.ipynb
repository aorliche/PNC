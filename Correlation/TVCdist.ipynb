{
 "cells": [
  {
   "cell_type": "code",
   "execution_count": 2,
   "id": "7c05dec1",
   "metadata": {},
   "outputs": [
    {
     "name": "stdout",
     "output_type": "stream",
     "text": [
      "466\n",
      "156\n"
     ]
    }
   ],
   "source": [
    "# Load split\n",
    "\n",
    "import pickle\n",
    "\n",
    "badIDs = [605515760919, 601983541597]\n",
    "\n",
    "with open('../../Splits/RegressionAllTasks/split1.bin', 'rb') as f:\n",
    "    d = pickle.load(f)\n",
    "    train = []\n",
    "    trainDirty = d['train']\n",
    "    test = []\n",
    "    testDirty = d['test']\n",
    "    \n",
    "    # Remove bad subjects\n",
    "    for subj in trainDirty:\n",
    "        if subj['ID'] not in badIDs:\n",
    "            train.append(subj)\n",
    "            \n",
    "    for subj in testDirty:\n",
    "        if subj['ID'] not in badIDs:\n",
    "            test.append(subj)\n",
    "    \n",
    "print(len(train))\n",
    "print(len(test))"
   ]
  },
  {
   "cell_type": "code",
   "execution_count": 3,
   "id": "84a3d277",
   "metadata": {},
   "outputs": [
    {
     "name": "stdout",
     "output_type": "stream",
     "text": [
      "Complete\n"
     ]
    }
   ],
   "source": [
    "# Load data\n",
    "\n",
    "def loadTimeseries(_id, _dir):\n",
    "    ts = None\n",
    "    with open('{:s}/{:d}.bin'.format(_dir, _id), 'rb') as f:\n",
    "        ts = pickle.load(f)\n",
    "    return ts\n",
    "\n",
    "train_rest_ts = [loadTimeseries(int(subj['rest']), '../../rest_fmri_power264/timeseries') for subj in train]\n",
    "# train_nback_ts = [loadTimeseries(int(subj['nback']), '../../nback_fmri_power264/timeseries') for subj in train]\n",
    "# train_emoid_ts = [loadTimeseries(int(subj['emoid']), '../../emoid_fmri_power264/timeseries') for subj in train]\n",
    "\n",
    "test_rest_ts = [loadTimeseries(int(subj['rest']), '../../rest_fmri_power264/timeseries') for subj in test]\n",
    "# test_nback_ts = [loadTimeseries(int(subj['nback']), '../../nback_fmri_power264/timeseries') for subj in test]\n",
    "# test_emoid_ts = [loadTimeseries(int(subj['emoid']), '../../emoid_fmri_power264/timeseries') for subj in test]\n",
    "\n",
    "print('Complete')"
   ]
  },
  {
   "cell_type": "code",
   "execution_count": 4,
   "id": "00bc83c1",
   "metadata": {},
   "outputs": [
    {
     "name": "stdout",
     "output_type": "stream",
     "text": [
      "Complete\n"
     ]
    }
   ],
   "source": [
    "import numpy as np\n",
    "\n",
    "def normalizeSubjects(subjects):\n",
    "    for i in range(len(subjects)):\n",
    "        subj = subjects[i]\n",
    "        subj -= np.mean(subj, axis=1, keepdims=True)@np.ones([1,subj.shape[1]])\n",
    "        subj /= np.std(subj, axis=1, keepdims=True)@np.ones([1,subj.shape[1]])\n",
    "        if np.sum(np.isnan(subj)) > 0:\n",
    "            print(i)\n",
    "        if np.sum(np.isinf(subj)) > 0:\n",
    "            print(i)\n",
    "\n",
    "normalizeSubjects(train_rest_ts)\n",
    "# normalizeSubjects(train_nback_ts)\n",
    "# normalizeSubjects(train_emoid_ts)\n",
    "\n",
    "normalizeSubjects(test_rest_ts)\n",
    "# normalizeSubjects(test_nback_ts)\n",
    "# normalizeSubjects(test_emoid_ts)\n",
    "\n",
    "print('Complete')"
   ]
  },
  {
   "cell_type": "code",
   "execution_count": 5,
   "id": "1724dc18",
   "metadata": {},
   "outputs": [
    {
     "name": "stdout",
     "output_type": "stream",
     "text": [
      "[[193   1   0]\n",
      " [217   1   0]\n",
      " [233   1   0]\n",
      " [176   1   0]\n",
      " [116   0   1]\n",
      " [246   0   1]\n",
      " [164   1   0]\n",
      " [167   0   1]\n",
      " [202   0   1]\n",
      " [108   0   1]]\n",
      "Complete\n"
     ]
    }
   ],
   "source": [
    "# Create feature vectors (right now just ages, maleness, and femaless)\n",
    "\n",
    "X_train = []\n",
    "for subj in train:\n",
    "    maleness = 1 if subj['meta']['Gender'] == 'M' else 0\n",
    "    femaleness = 1 if maleness == 0 else 0\n",
    "    feat = np.array([subj['meta']['AgeInMonths'], maleness, femaleness])\n",
    "    X_train.append(feat)\n",
    "    \n",
    "X_test = []\n",
    "for subj in test:\n",
    "    maleness = 1 if subj['meta']['Gender'] == 'M' else 0\n",
    "    femaleness = 1 if maleness == 0 else 0\n",
    "    feat = np.array([subj['meta']['AgeInMonths'], maleness, femaleness])\n",
    "    X_test.append(feat)\n",
    "    \n",
    "X_train = np.vstack(X_train)\n",
    "X_test = np.vstack(X_test)\n",
    "\n",
    "print(X_train[10:20])\n",
    "print('Complete')"
   ]
  },
  {
   "cell_type": "code",
   "execution_count": 55,
   "id": "267378da",
   "metadata": {},
   "outputs": [
    {
     "name": "stdout",
     "output_type": "stream",
     "text": [
      "torch.Size([466, 264, 124])\n"
     ]
    }
   ],
   "source": [
    "import torch\n",
    "\n",
    "train_rest_ts_t = torch.from_numpy(np.stack(train_rest_ts)).float()\n",
    "test_rest_ts_t = torch.from_numpy(np.stack(test_rest_ts)).float()\n",
    "\n",
    "def process(ts, ws):\n",
    "    nw = int(ts.shape[2]/ws)\n",
    "    slices = []\n",
    "    for i in range(nw):\n",
    "        slc = ts[:,:,i*ws:ws*(i+1)]\n",
    "        slices.append(slc)\n",
    "    dists = []\n",
    "    dists.append(torch.einsum('nat,nbt->nab', slices[0], slices[0]))\n",
    "    for i in range(1,nw):\n",
    "#         dists.append(torch.cdist(slices[i-1], slices[i]))\n",
    "        dists.append(torch.einsum('nat,nbt->nab', slices[i-1], slices[i]))\n",
    "    return torch.stack(dists, dim=3)\n",
    "\n",
    "print(train_rest_ts_t.shape)"
   ]
  },
  {
   "cell_type": "code",
   "execution_count": 57,
   "id": "8f38a0d6",
   "metadata": {},
   "outputs": [
    {
     "name": "stdout",
     "output_type": "stream",
     "text": [
      "(466, 34980, 12)\n",
      "Complete\n"
     ]
    }
   ],
   "source": [
    "import Reshape\n",
    "\n",
    "nTrain = len(train_rest_ts)\n",
    "nRoi = train_rest_ts[0].shape[0]\n",
    "nC = int(nRoi*(nRoi+1)/2)\n",
    "nD = 12\n",
    "\n",
    "train_rest_dist = process(train_rest_ts_t, 10).numpy()\n",
    "# train_rest_dist2 = train_rest_dist.reshape(466,264*264,3)\n",
    "train_rest_dist2 = np.zeros([nTrain, nC, nD], dtype='float32')\n",
    "_ = Reshape.Reshape(train_rest_dist, train_rest_dist2)\n",
    "\n",
    "print(train_rest_dist2.shape)\n",
    "\n",
    "train_rest_dist2_t = torch.from_numpy(train_rest_dist2).float().cuda()\n",
    "\n",
    "print('Complete')"
   ]
  },
  {
   "cell_type": "code",
   "execution_count": 58,
   "id": "609782c7",
   "metadata": {},
   "outputs": [
    {
     "name": "stdout",
     "output_type": "stream",
     "text": [
      "(156, 34980, 12)\n",
      "Complete\n"
     ]
    }
   ],
   "source": [
    "nTest = len(test_rest_ts)\n",
    "\n",
    "test_rest_dist = process(test_rest_ts_t, 10).numpy()\n",
    "test_rest_dist2 = np.zeros([nTest, nC, nD], dtype='float32')\n",
    "_ = Reshape.Reshape(test_rest_dist, test_rest_dist2)\n",
    "\n",
    "print(test_rest_dist2.shape)\n",
    "\n",
    "test_rest_dist2_t = torch.from_numpy(test_rest_dist2).float().cuda()\n",
    "\n",
    "print('Complete')"
   ]
  },
  {
   "cell_type": "code",
   "execution_count": 59,
   "id": "bbc48f59",
   "metadata": {},
   "outputs": [
    {
     "name": "stdout",
     "output_type": "stream",
     "text": [
      "[4.705374  3.189954  2.3700757 2.7551603 3.4150674 3.7285938 2.1008575\n",
      " 2.4730358 4.3431735 1.3538336]\n",
      "[3.189954  2.3700757 2.7551603 3.4150674 3.7285938 2.1008575]\n"
     ]
    }
   ],
   "source": [
    "print(train_rest_dist[0,1,0:10,0])\n",
    "print(train_rest_dist2[0,264:270,0])"
   ]
  },
  {
   "cell_type": "code",
   "execution_count": 60,
   "id": "00e5c178",
   "metadata": {},
   "outputs": [
    {
     "name": "stdout",
     "output_type": "stream",
     "text": [
      "Quadro K2200\n",
      "Memory Usage:\n",
      "Allocated: 1.3 GB\n",
      "Cached:    2.7 GB\n"
     ]
    }
   ],
   "source": [
    "print(torch.cuda.get_device_name(0))\n",
    "print('Memory Usage:')\n",
    "print('Allocated:', round(torch.cuda.memory_allocated(0)/1024**3,1), 'GB')\n",
    "print('Cached:   ', round(torch.cuda.memory_reserved(0)/1024**3,1), 'GB')"
   ]
  },
  {
   "cell_type": "code",
   "execution_count": 12,
   "id": "2c99411e",
   "metadata": {},
   "outputs": [
    {
     "name": "stdout",
     "output_type": "stream",
     "text": [
      "Complete\n"
     ]
    }
   ],
   "source": [
    "import torch.nn as nn\n",
    "import torch.nn.functional as F\n",
    "\n",
    "class TVCD(nn.Module):\n",
    "    def __init__(self):\n",
    "        super(TVCD, self).__init__()\n",
    "        self.mix1 = nn.Linear(3,50).cuda()\n",
    "        self.mix2 = nn.Linear(50,50).cuda()\n",
    "        self.mix3 = nn.Linear(50,3).cuda()\n",
    "        \n",
    "        self.rmix1 = nn.Linear(34980,50).cuda()\n",
    "        self.rmix2 = nn.Linear(50,50).cuda()\n",
    "        self.rmix3 = nn.Linear(50,1).cuda()\n",
    "        \n",
    "        self.fmix1 = nn.Linear(3,50).cuda()\n",
    "        self.fmix2 = nn.Linear(50,50).cuda()\n",
    "        self.fmix3 = nn.Linear(50,1).cuda()\n",
    "        \n",
    "        self.m = nn.Dropout(p=0.01)\n",
    "        self.n = nn.Dropout(p=0.05)\n",
    "        \n",
    "    def forward(self, x):\n",
    "        nB = x.shape[0]\n",
    "        \n",
    "        x = x.reshape(nB*nC,nD)\n",
    "        x = self.m(F.relu(self.mix1(x)))\n",
    "        x = F.relu(self.mix2(x))\n",
    "        x = F.relu(self.mix3(x))\n",
    "        \n",
    "        x = x.reshape(nB,nC,nD)\n",
    "        x = x.permute(0,2,1)\n",
    "        x = self.n(F.relu(self.rmix1(x)))\n",
    "        x = F.relu(self.rmix2(x))\n",
    "        x = F.relu(self.rmix3(x))\n",
    "        \n",
    "        x = x.reshape(nB,nD)\n",
    "        x = F.relu(self.fmix1(x))\n",
    "        x = F.relu(self.fmix2(x))\n",
    "        x = F.relu(self.fmix3(x))\n",
    "        \n",
    "        return x\n",
    "    \n",
    "tvcd = TVCD()\n",
    "optim = torch.optim.Adam(tvcd.parameters(), lr=1e-3)\n",
    "print('Complete')"
   ]
  },
  {
   "cell_type": "code",
   "execution_count": 64,
   "id": "80d245d8",
   "metadata": {},
   "outputs": [
    {
     "name": "stdout",
     "output_type": "stream",
     "text": [
      "Complete\n"
     ]
    }
   ],
   "source": [
    "class TVCD(nn.Module):\n",
    "    def __init__(self):\n",
    "        super(TVCD, self).__init__()\n",
    "        self.fc1 = nn.Linear(34980,50).cuda()\n",
    "        self.fc2 = nn.Linear(50,50).cuda()\n",
    "        self.fc3 = nn.Linear(50,1).cuda()\n",
    "        self.fcFinal = nn.Linear(12,1).cuda()\n",
    "        self.dp = nn.Dropout(p=0)\n",
    "        \n",
    "    def forward(self, x):\n",
    "        res = []\n",
    "        for i in range(12):\n",
    "            a = F.relu(self.fc1(self.dp(x[:,:,i])))\n",
    "            a = F.relu(self.fc2(a))\n",
    "            a = F.relu(self.fc3(a))\n",
    "            res.append(a)\n",
    "        a = torch.cat(res, dim=1)\n",
    "        return self.fcFinal(a)\n",
    "    \n",
    "tvcd = TVCD()\n",
    "optim = torch.optim.Adam(tvcd.parameters(), lr=1e-3)\n",
    "print('Complete')"
   ]
  },
  {
   "cell_type": "code",
   "execution_count": 65,
   "id": "c4df8689",
   "metadata": {},
   "outputs": [
    {
     "name": "stdout",
     "output_type": "stream",
     "text": [
      "epoch 0 loss=16.504745\n",
      "epoch 50 loss=13.620021\n",
      "epoch 100 loss=8.791100\n",
      "epoch 150 loss=6.076037\n",
      "epoch 200 loss=4.731006\n",
      "epoch 250 loss=3.537194\n",
      "epoch 300 loss=2.963223\n",
      "epoch 350 loss=1.828485\n",
      "epoch 400 loss=2.411083\n",
      "epoch 450 loss=2.198653\n",
      "epoch 500 loss=1.490634\n",
      "epoch 550 loss=1.428025\n",
      "epoch 600 loss=0.954341\n",
      "epoch 650 loss=1.006605\n",
      "epoch 700 loss=0.793517\n",
      "epoch 750 loss=1.775079\n",
      "epoch 800 loss=1.385521\n",
      "epoch 850 loss=1.428909\n",
      "epoch 900 loss=1.436713\n",
      "epoch 950 loss=1.114159\n",
      "epoch 999 loss=1.155017\n",
      "Finished training\n"
     ]
    }
   ],
   "source": [
    "import random\n",
    "\n",
    "running = 0\n",
    "nEpoch = 1000\n",
    "pPeriod = 50\n",
    "nB = 10\n",
    "N = train_rest_ts_t.shape[0]\n",
    "\n",
    "for epoch in range(nEpoch):\n",
    "    batch = []\n",
    "    truth = torch.zeros(nB).float().cuda()\n",
    "    for i in range(nB):\n",
    "        idx = random.randint(0,N-1)\n",
    "        batch.append(train_rest_dist2_t[idx])\n",
    "        truth[i] = X_train[idx, 0]\n",
    "    batch = torch.stack(batch)\n",
    "    optim.zero_grad()\n",
    "    pred = tvcd(batch).flatten()\n",
    "    loss = torch.sum((pred-truth)**2)\n",
    "    loss.backward()\n",
    "    running += loss.detach().cpu()\n",
    "    optim.step()\n",
    "    if epoch % pPeriod == 0 or epoch == nEpoch-1:\n",
    "        if epoch != 0:\n",
    "            if epoch % pPeriod != 0:\n",
    "                running /= epoch % pPeriod\n",
    "            else:\n",
    "                running /= pPeriod\n",
    "        print('epoch {:d} loss={:f}'.format(epoch, ((running/nB)**0.5)/12))\n",
    "        running = 0\n",
    "\n",
    "print('Finished training')"
   ]
  },
  {
   "cell_type": "code",
   "execution_count": 66,
   "id": "7e138443",
   "metadata": {},
   "outputs": [
    {
     "name": "stdout",
     "output_type": "stream",
     "text": [
      "[[1.         0.04494717]\n",
      " [0.04494717 1.        ]]\n",
      "6.951200517648683\n",
      "5.804130087041448\n"
     ]
    },
    {
     "data": {
      "image/png": "[encoded data removed]",
      "text/plain": [
       "<Figure size 432x288 with 1 Axes>"
      ]
     },
     "metadata": {
      "needs_background": "light"
     },
     "output_type": "display_data"
    },
    {
     "data": {
      "image/png": "[encoded data removed]",
      "text/plain": [
       "<Figure size 432x288 with 1 Axes>"
      ]
     },
     "metadata": {
      "needs_background": "light"
     },
     "output_type": "display_data"
    }
   ],
   "source": [
    "import matplotlib.pyplot as plt\n",
    "\n",
    "predY = tvcd(test_rest_dist2_t).detach().cpu().numpy().flatten()\n",
    "\n",
    "idcs = np.argsort(X_test[:,0])\n",
    "yPred = predY[idcs]\n",
    "y = X_test[:,0][idcs]\n",
    "\n",
    "corr = np.corrcoef(y, yPred)\n",
    "rmse = (np.sum((y-yPred)**2)/len(y))**0.5/12\n",
    "mae = np.sum(np.abs(y-yPred))/12/len(y)\n",
    "\n",
    "print(corr)\n",
    "print(rmse)\n",
    "print(mae)\n",
    "\n",
    "plt.plot(y, label='Truth')\n",
    "plt.plot(yPred, label='Prediction')\n",
    "plt.show()\n",
    "\n",
    "plt.scatter(y, yPred)\n",
    "plt.show()"
   ]
  },
  {
   "cell_type": "code",
   "execution_count": 50,
   "id": "c1008fa5",
   "metadata": {},
   "outputs": [
    {
     "name": "stdout",
     "output_type": "stream",
     "text": [
      "Complete\n"
     ]
    }
   ],
   "source": [
    "train_rest_p_t = torch.from_numpy(\n",
    "    np.stack([np.corrcoef(ts) for ts in train_rest_ts])).reshape(train_rest_ts_t.shape[0], \n",
    "                                                                 -1).float().cuda()\n",
    "test_rest_p_t = torch.from_numpy(\n",
    "    np.stack([np.corrcoef(ts) for ts in test_rest_ts])).reshape(test_rest_ts_t.shape[0], \n",
    "                                                                 -1).float().cuda()\n",
    "\n",
    "print('Complete')"
   ]
  },
  {
   "cell_type": "code",
   "execution_count": 51,
   "id": "c4b84737",
   "metadata": {},
   "outputs": [
    {
     "name": "stdout",
     "output_type": "stream",
     "text": [
      "torch.Size([466, 69696])\n"
     ]
    }
   ],
   "source": [
    "print(train_rest_p_t.shape)"
   ]
  },
  {
   "cell_type": "code",
   "execution_count": 72,
   "id": "3e8d533b",
   "metadata": {},
   "outputs": [
    {
     "name": "stdout",
     "output_type": "stream",
     "text": [
      "Complete\n"
     ]
    }
   ],
   "source": [
    "class DP(nn.Module):\n",
    "    def __init__(self):\n",
    "        super(DP, self).__init__()\n",
    "        self.fc1 = nn.Linear(264*264,100).cuda()\n",
    "        self.fc2 = nn.Linear(100,100).cuda()\n",
    "        self.fc3 = nn.Linear(100,1).cuda()\n",
    "        self.dp = nn.Dropout(p=0.05)\n",
    "        \n",
    "    def forward(self, x):\n",
    "        doDp = x[0]\n",
    "        x = x[1]\n",
    "        if doDp:\n",
    "            x = F.relu(self.fc1(self.dp(x)))\n",
    "        else:\n",
    "            x = F.relu(self.fc1(x))\n",
    "        x = F.relu(self.fc2(x))\n",
    "        return self.fc3(x)\n",
    "    \n",
    "dp = DP()\n",
    "optim = torch.optim.Adam(dp.parameters(), lr=1e-3)\n",
    "print('Complete')"
   ]
  },
  {
   "cell_type": "code",
   "execution_count": 73,
   "id": "503116ad",
   "metadata": {
    "scrolled": true
   },
   "outputs": [
    {
     "name": "stdout",
     "output_type": "stream",
     "text": [
      "epoch 0 loss=15.955613\n",
      "epoch 100 loss=5.864709\n",
      "epoch 200 loss=2.676582\n",
      "epoch 300 loss=1.974123\n",
      "epoch 400 loss=1.240495\n",
      "epoch 500 loss=0.905353\n",
      "epoch 600 loss=0.615402\n",
      "epoch 700 loss=0.485344\n",
      "epoch 800 loss=0.382588\n",
      "epoch 900 loss=0.283086\n",
      "epoch 1000 loss=0.258140\n",
      "epoch 1100 loss=0.198072\n",
      "epoch 1200 loss=0.208467\n",
      "epoch 1300 loss=0.211470\n",
      "epoch 1400 loss=0.233177\n",
      "epoch 1500 loss=0.354508\n",
      "epoch 1600 loss=0.240965\n"
     ]
    },
    {
     "ename": "KeyboardInterrupt",
     "evalue": "",
     "output_type": "error",
     "traceback": [
      "\u001b[1;31m---------------------------------------------------------------------------\u001b[0m",
      "\u001b[1;31mKeyboardInterrupt\u001b[0m                         Traceback (most recent call last)",
      "\u001b[1;32m<ipython-input-73-28aa531e5fa3>\u001b[0m in \u001b[0;36m<module>\u001b[1;34m\u001b[0m\n\u001b[0;32m      9\u001b[0m \u001b[1;32mfor\u001b[0m \u001b[0mepoch\u001b[0m \u001b[1;32min\u001b[0m \u001b[0mrange\u001b[0m\u001b[1;33m(\u001b[0m\u001b[0mnEpoch\u001b[0m\u001b[1;33m)\u001b[0m\u001b[1;33m:\u001b[0m\u001b[1;33m\u001b[0m\u001b[1;33m\u001b[0m\u001b[0m\n\u001b[0;32m     10\u001b[0m     \u001b[0mbatch\u001b[0m \u001b[1;33m=\u001b[0m \u001b[1;33m[\u001b[0m\u001b[1;33m]\u001b[0m\u001b[1;33m\u001b[0m\u001b[1;33m\u001b[0m\u001b[0m\n\u001b[1;32m---> 11\u001b[1;33m     \u001b[0mtruth\u001b[0m \u001b[1;33m=\u001b[0m \u001b[0mtorch\u001b[0m\u001b[1;33m.\u001b[0m\u001b[0mzeros\u001b[0m\u001b[1;33m(\u001b[0m\u001b[0mnB\u001b[0m\u001b[1;33m)\u001b[0m\u001b[1;33m.\u001b[0m\u001b[0mfloat\u001b[0m\u001b[1;33m(\u001b[0m\u001b[1;33m)\u001b[0m\u001b[1;33m.\u001b[0m\u001b[0mcuda\u001b[0m\u001b[1;33m(\u001b[0m\u001b[1;33m)\u001b[0m\u001b[1;33m\u001b[0m\u001b[1;33m\u001b[0m\u001b[0m\n\u001b[0m\u001b[0;32m     12\u001b[0m     \u001b[1;32mfor\u001b[0m \u001b[0mi\u001b[0m \u001b[1;32min\u001b[0m \u001b[0mrange\u001b[0m\u001b[1;33m(\u001b[0m\u001b[0mnB\u001b[0m\u001b[1;33m)\u001b[0m\u001b[1;33m:\u001b[0m\u001b[1;33m\u001b[0m\u001b[1;33m\u001b[0m\u001b[0m\n\u001b[0;32m     13\u001b[0m         \u001b[0midx\u001b[0m \u001b[1;33m=\u001b[0m \u001b[0mrandom\u001b[0m\u001b[1;33m.\u001b[0m\u001b[0mrandint\u001b[0m\u001b[1;33m(\u001b[0m\u001b[1;36m0\u001b[0m\u001b[1;33m,\u001b[0m\u001b[0mN\u001b[0m\u001b[1;33m-\u001b[0m\u001b[1;36m1\u001b[0m\u001b[1;33m)\u001b[0m\u001b[1;33m\u001b[0m\u001b[1;33m\u001b[0m\u001b[0m\n",
      "\u001b[1;31mKeyboardInterrupt\u001b[0m: "
     ]
    }
   ],
   "source": [
    "import random\n",
    "\n",
    "running = 0\n",
    "nEpoch = 5000\n",
    "pPeriod = 100\n",
    "nB = 20\n",
    "N = train_rest_ts_t.shape[0]\n",
    "\n",
    "for epoch in range(nEpoch):\n",
    "    batch = []\n",
    "    truth = torch.zeros(nB).float().cuda()\n",
    "    for i in range(nB):\n",
    "        idx = random.randint(0,N-1)\n",
    "        batch.append(train_rest_p_t[idx])\n",
    "        truth[i] = X_train[idx, 0]\n",
    "    batch = torch.stack(batch)\n",
    "    optim.zero_grad()\n",
    "    pred = dp([True, batch]).flatten()\n",
    "    loss = torch.sum((pred-truth)**2)\n",
    "    loss.backward()\n",
    "    running += loss.detach().cpu()\n",
    "    optim.step()\n",
    "    if epoch % pPeriod == 0 or epoch == nEpoch-1:\n",
    "        if epoch != 0:\n",
    "            if epoch % pPeriod != 0:\n",
    "                running /= epoch % pPeriod\n",
    "            else:\n",
    "                running /= pPeriod\n",
    "        print('epoch {:d} loss={:f}'.format(epoch, ((running/nB)**0.5)/12))\n",
    "        running = 0\n",
    "\n",
    "print('Finished training')"
   ]
  },
  {
   "cell_type": "code",
   "execution_count": 74,
   "id": "5af22e7e",
   "metadata": {},
   "outputs": [
    {
     "name": "stdout",
     "output_type": "stream",
     "text": [
      "[168.80795  148.29868  180.41542  178.54881  191.1967   231.52553\n",
      " 218.06134  118.126366 184.51205  103.439285]\n"
     ]
    }
   ],
   "source": [
    "predY = dp([False, test_rest_p_t]).detach().cpu().numpy().flatten()\n",
    "\n",
    "print(predY[0:10])"
   ]
  },
  {
   "cell_type": "code",
   "execution_count": 75,
   "id": "cd6607a0",
   "metadata": {},
   "outputs": [
    {
     "name": "stdout",
     "output_type": "stream",
     "text": [
      "[[1.         0.45535802]\n",
      " [0.45535802 1.        ]]\n",
      "2.9753256672192587\n",
      "2.3786059811583953\n"
     ]
    },
    {
     "data": {
      "image/png": "[encoded data removed]",
      "text/plain": [
       "<Figure size 432x288 with 1 Axes>"
      ]
     },
     "metadata": {
      "needs_background": "light"
     },
     "output_type": "display_data"
    },
    {
     "data": {
      "image/png": "[encoded data removed]",
      "text/plain": [
       "<Figure size 432x288 with 1 Axes>"
      ]
     },
     "metadata": {
      "needs_background": "light"
     },
     "output_type": "display_data"
    }
   ],
   "source": [
    "import matplotlib.pyplot as plt\n",
    "\n",
    "idcs = np.argsort(X_test[:,0])\n",
    "yPred = predY[idcs]\n",
    "y = X_test[:,0][idcs]\n",
    "\n",
    "corr = np.corrcoef(y, yPred)\n",
    "rmse = (np.sum((y-yPred)**2)/len(y))**0.5/12\n",
    "mae = np.sum(np.abs(y-yPred))/12/len(y)\n",
    "\n",
    "print(corr)\n",
    "print(rmse)\n",
    "print(mae)\n",
    "\n",
    "plt.plot(y, label='Truth')\n",
    "plt.plot(yPred, label='Prediction')\n",
    "plt.show()\n",
    "\n",
    "plt.scatter(y, yPred)\n",
    "plt.show()"
   ]
  },
  {
   "cell_type": "code",
   "execution_count": 78,
   "id": "c46069c1",
   "metadata": {},
   "outputs": [
    {
     "name": "stdout",
     "output_type": "stream",
     "text": [
      "Complete\n"
     ]
    }
   ],
   "source": [
    "w, _, _, _ = np.linalg.lstsq(train_rest_p_t.cpu().numpy(), X_train[:,0], rcond=None)\n",
    "\n",
    "print('Complete')"
   ]
  },
  {
   "cell_type": "code",
   "execution_count": 80,
   "id": "6e55bbed",
   "metadata": {},
   "outputs": [
    {
     "name": "stdout",
     "output_type": "stream",
     "text": [
      "[[1.         0.50257959]\n",
      " [0.50257959 1.        ]]\n",
      "2.7600557182218566\n",
      "2.1853840772912028\n"
     ]
    },
    {
     "data": {
      "image/png": "[encoded data removed]",
      "text/plain": [
       "<Figure size 432x288 with 1 Axes>"
      ]
     },
     "metadata": {
      "needs_background": "light"
     },
     "output_type": "display_data"
    },
    {
     "data": {
      "image/png": "[encoded data removed]",
      "text/plain": [
       "<Figure size 432x288 with 1 Axes>"
      ]
     },
     "metadata": {
      "needs_background": "light"
     },
     "output_type": "display_data"
    }
   ],
   "source": [
    "predY = test_rest_p_t.cpu().numpy()@w\n",
    "\n",
    "idcs = np.argsort(X_test[:,0])\n",
    "yPred = predY[idcs]\n",
    "y = X_test[:,0][idcs]\n",
    "\n",
    "corr = np.corrcoef(y, yPred)\n",
    "rmse = (np.sum((y-yPred)**2)/len(y))**0.5/12\n",
    "mae = np.sum(np.abs(y-yPred))/12/len(y)\n",
    "\n",
    "print(corr)\n",
    "print(rmse)\n",
    "print(mae)\n",
    "\n",
    "plt.plot(y, label='Truth')\n",
    "plt.plot(yPred, label='Prediction')\n",
    "plt.show()\n",
    "\n",
    "plt.scatter(y, yPred)\n",
    "plt.show()"
   ]
  },
  {
   "cell_type": "code",
   "execution_count": null,
   "id": "237e06d2",
   "metadata": {},
   "outputs": [],
   "source": []
  }
 ],
 "metadata": {
  "kernelspec": {
   "display_name": "Python 3",
   "language": "python",
   "name": "python3"
  },
  "language_info": {
   "codemirror_mode": {
    "name": "ipython",
    "version": 3
   },
   "file_extension": ".py",
   "mimetype": "text/x-python",
   "name": "python",
   "nbconvert_exporter": "python",
   "pygments_lexer": "ipython3",
   "version": "3.9.5"
  }
 },
 "nbformat": 4,
 "nbformat_minor": 5
}
