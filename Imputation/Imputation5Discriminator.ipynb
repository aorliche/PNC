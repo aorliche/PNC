{
 "cells": [
  {
   "cell_type": "code",
   "execution_count": 1,
   "id": "6a5f4004-e07d-4c79-9b0f-d0e64ee3f263",
   "metadata": {},
   "outputs": [
    {
     "name": "stdout",
     "output_type": "stream",
     "text": [
      "Complete\n"
     ]
    }
   ],
   "source": [
    "ours2orig = [12, 13, 14, 15, 16, 17, 18, 19, 20, 21, 22, 23, 24, 25, 26, 27,\n",
    "28, 29, 30, 31, 32, 33, 34, 35, 36, 37, 38, 39, 40, 254, 41, 42, 43, 44, 45,\n",
    "46, 47, 48, 49, 50, 51, 52, 53, 54, 55, 56, 57, 58, 59, 60, 61, 62, 63, 64,\n",
    "65, 66, 67, 68, 69, 70, 71, 72, 73, 74, 75, 76, 77, 78, 79, 80, 81, 82, 85,\n",
    "86, 87, 88, 89, 90, 91, 92, 93, 94, 95, 96, 97, 98, 99, 100, 101, 102, 103,\n",
    "104, 105, 106, 107, 108, 109, 110, 111, 112, 113, 114, 115, 116, 117, 118,\n",
    "119, 120, 121, 122, 123, 124, 125, 126, 127, 128, 129, 130, 136, 138, 132,\n",
    "133, 134, 135, 220, 142, 143, 144, 145, 146, 147, 148, 149, 150, 151, 152,\n",
    "153, 154, 155, 156, 157, 158, 159, 160, 161, 162, 163, 164, 165, 166, 167,\n",
    "168, 169, 170, 171, 172, 173, 174, 175, 176, 177, 178, 179, 180, 185, 186,\n",
    "187, 188, 189, 190, 191, 192, 193, 194, 195, 196, 197, 198, 199, 200, 201,\n",
    "202, 203, 204, 205, 206, 207, 208, 209, 210, 211, 212, 213, 214, 215, 216,\n",
    "217, 218, 219, 221, 222, 223, 224, 225, 226, 227, 228, 229, 230, 231, 232,\n",
    "233, 137, 234, 235, 236, 237, 238, 239, 240, 241, 250, 251, 255, 256, 257,\n",
    "258, 259, 260, 261, 262, 263, 242, 243, 244, 245, 0, 1, 2, 3, 4, 5, 6, 7, 8,\n",
    "9, 10, 11, 83, 84, 131, 139, 140, 141, 181, 182, 183, 184, 246, 247, 248,\n",
    "249, 252, 253]\n",
    "\n",
    "def vec2mat(v):\n",
    "    a,b = np.triu_indices(264,1)\n",
    "    m = np.zeros((264,264))\n",
    "    m[a,b] = v\n",
    "    return m+m.T\n",
    "\n",
    "def remap(fc, roimap=ours2orig):\n",
    "    fc = fc[roimap,:]\n",
    "    fc = fc[:,roimap]\n",
    "    return fc\n",
    "\n",
    "print('Complete')"
   ]
  },
  {
   "cell_type": "code",
   "execution_count": 2,
   "id": "519193dc-146a-4278-975d-691446902375",
   "metadata": {},
   "outputs": [
    {
     "name": "stdout",
     "output_type": "stream",
     "text": [
      "[(1193, 34716), (1193, 34716), (1193, 34716), (1193, 264, 264), (1193, 264, 264), (1193, 264, 264), (1193,), (1193,), (1193,)]\n"
     ]
    }
   ],
   "source": [
    "# Load real PNC data\n",
    "# Must remap!\n",
    "\n",
    "import pickle\n",
    "import numpy as np\n",
    "\n",
    "pncdir = '/home/anton/Documents/Tulane/Research/data-sav/anton/cohorts/PNC/'\n",
    "pncdemo = pickle.load(open(f'{pncdir}/demographics.pkl', 'rb'))\n",
    "\n",
    "rest = []\n",
    "nback = []\n",
    "emoid = []\n",
    "restmat = []\n",
    "nbackmat = []\n",
    "emoidmat = []\n",
    "race = []\n",
    "sex = []\n",
    "age = []\n",
    "\n",
    "a,b = np.triu_indices(264,1)\n",
    "\n",
    "for sub in pncdemo['age_at_cnb']:\n",
    "    try:\n",
    "        ra = pncdemo['Race'][sub]\n",
    "        ag = pncdemo['age_at_cnb'][sub]\n",
    "        se = pncdemo['Sex'][sub]\n",
    "        if ra not in ['AA', 'EA']:\n",
    "            continue\n",
    "        ra = ra == 'AA'\n",
    "        se = se == 'M'\n",
    "        r = np.load(f'{pncdir}/fc/{sub}_task-rest_fc.npy')\n",
    "        n = np.load(f'{pncdir}/fc/{sub}_task-nback_fc.npy')\n",
    "        e = np.load(f'{pncdir}/fc/{sub}_task-emoid_fc.npy')\n",
    "        r = remap(vec2mat(r))\n",
    "        n = remap(vec2mat(n))\n",
    "        e = remap(vec2mat(e))\n",
    "        race.append(ra)\n",
    "        sex.append(se)\n",
    "        age.append(ag)\n",
    "        rest.append(r[a,b])\n",
    "        nback.append(n[a,b])\n",
    "        emoid.append(e[a,b])\n",
    "        restmat.append(r)\n",
    "        nbackmat.append(n)\n",
    "        emoidmat.append(e)\n",
    "    except:\n",
    "        pass\n",
    "\n",
    "rest = np.stack(rest)\n",
    "nback = np.stack(nback)\n",
    "emoid = np.stack(emoid)\n",
    "restmat = np.stack(restmat)\n",
    "nbackmat = np.stack(nbackmat)\n",
    "emoidmat = np.stack(emoidmat)\n",
    "race = np.array(race).astype('int')\n",
    "sex = np.array(sex).astype('int')\n",
    "age = np.array(age)\n",
    "\n",
    "print([a.shape for a in [rest, nback, emoid, restmat, nbackmat, emoidmat, race, sex, age]])"
   ]
  },
  {
   "cell_type": "code",
   "execution_count": 4,
   "id": "81326701-b90f-41bf-ad79-2c4e86544973",
   "metadata": {},
   "outputs": [
    {
     "name": "stdout",
     "output_type": "stream",
     "text": [
      "(939, 34716)\n"
     ]
    }
   ],
   "source": [
    "# Load fake data\n",
    "\n",
    "import pickle\n",
    "\n",
    "fakemats = pickle.load(open('/home/anton/Documents/Tulane/Research/Work/Imputation/fake_rest200_5.pkl', 'rb'))\n",
    "fakemats = np.stack(fakemats)\n",
    "\n",
    "print(fakemats.shape)"
   ]
  },
  {
   "cell_type": "code",
   "execution_count": 16,
   "id": "fd948b02-a3cd-42ec-aa69-1a73bf03b0c1",
   "metadata": {},
   "outputs": [
    {
     "name": "stdout",
     "output_type": "stream",
     "text": [
      "0 0.6573747396469116\n",
      "5 0.46607911586761475\n",
      "10 0.3215673863887787\n",
      "15 0.20779338479042053\n",
      "20 0.16103608906269073\n",
      "25 0.11550205945968628\n",
      "30 0.09040851891040802\n",
      "35 0.07172330468893051\n",
      "40 0.059972379356622696\n",
      "45 0.05029452219605446\n",
      "50 0.04420534893870354\n",
      "55 0.03890532627701759\n",
      "60 0.03496279567480087\n",
      "65 0.031778618693351746\n",
      "70 0.0290488563477993\n",
      "75 0.026804301887750626\n",
      "80 0.024862956255674362\n",
      "85 0.023158736526966095\n",
      "90 0.02166961506009102\n",
      "95 0.02034374512732029\n",
      "100 0.01915321685373783\n",
      "105 0.01808193325996399\n",
      "110 0.017110975459218025\n",
      "115 0.016225969418883324\n",
      "120 0.015416857786476612\n",
      "125 0.014674432575702667\n",
      "130 0.013990703970193863\n",
      "135 0.013359250500798225\n",
      "140 0.01277456060051918\n",
      "145 0.012231796979904175\n",
      "150 0.011726760305464268\n",
      "155 0.011255842633545399\n",
      "160 0.01081585418432951\n",
      "165 0.010403988882899284\n",
      "170 0.010017753578722477\n",
      "175 0.009654953144490719\n",
      "180 0.009313617832958698\n",
      "185 0.008991996757686138\n",
      "190 0.008688516914844513\n",
      "195 0.008401758037507534\n",
      "199 0.008183536119759083\n",
      "Done\n",
      "tensor([ 2.4504,  3.5783,  2.5140,  ..., -1.9337, -0.9864, -1.8483],\n",
      "       device='cuda:0')\n"
     ]
    }
   ],
   "source": [
    "import torch\n",
    "import torch.nn as nn\n",
    "import torch.nn.functional as F\n",
    "\n",
    "from sklearn.model_selection import train_test_split\n",
    "\n",
    "class D(nn.Module):\n",
    "    def __init__(self):\n",
    "        super(D, self).__init__()\n",
    "        self.fc1 = nn.Linear(34716, 1).float().cuda()\n",
    "\n",
    "    def forward(self, x):\n",
    "        x = self.fc1(x).squeeze()\n",
    "        x = torch.stack([-x, x], dim=1)\n",
    "        return x\n",
    "\n",
    "x1tr, x1t, x2tr, x2t, x3tr, x3t, xftr, xft = train_test_split(rest[:len(fakemats)], \n",
    "                                                              nback[:len(fakemats)], emoid[:len(fakemats)], fakemats, train_size=500)\n",
    "\n",
    "xtr = np.concatenate([x1tr, x2tr, x3tr, xftr])\n",
    "xt = np.concatenate([x1t, x2t, x3t, xft])\n",
    "\n",
    "ytr = np.concatenate([np.zeros(3*len(x1tr)), np.ones(len(x2tr))])\n",
    "yt = np.concatenate([np.zeros(3*len(x1t)), np.ones(len(x2t))])\n",
    "\n",
    "xtr = torch.from_numpy(xtr).float().cuda()\n",
    "xt = torch.from_numpy(xt).float().cuda()\n",
    "\n",
    "ytr = torch.from_numpy(ytr).long().cuda()\n",
    "\n",
    "d = D()\n",
    "optim = torch.optim.Adam(d.parameters(), lr=1e-4, weight_decay=1e-4)\n",
    "ce = nn.CrossEntropyLoss()\n",
    "\n",
    "nepochs = 200\n",
    "pperiod = 5\n",
    "\n",
    "for e in range(nepochs):\n",
    "    optim.zero_grad()\n",
    "    yhat = d(xtr)\n",
    "    loss = ce(yhat, ytr)\n",
    "    loss.backward()\n",
    "    optim.step()\n",
    "    if e % pperiod == 0 or e == nepochs-1:\n",
    "        print(f'{e} {loss}')\n",
    "\n",
    "print('Done')\n",
    "\n",
    "with torch.no_grad():\n",
    "    yhat = d(xt)[:,0]\n",
    "    print(yhat)"
   ]
  },
  {
   "cell_type": "code",
   "execution_count": 13,
   "id": "893f4870-d27c-4950-92e6-355f698601c9",
   "metadata": {},
   "outputs": [
    {
     "data": {
      "text/plain": [
       "Parameter containing:\n",
       "tensor([[ 2.5861e-03,  6.9773e-04, -3.5670e-03,  ..., -3.6303e-03,\n",
       "         -7.0966e-03,  3.9245e-03],\n",
       "        [ 9.0609e-03,  3.8559e-03,  4.4965e-03,  ..., -2.0645e-03,\n",
       "          1.4544e-03, -2.2451e-03],\n",
       "        [-1.2576e-03, -2.8317e-03, -3.1604e-03,  ..., -1.7655e-03,\n",
       "          2.6367e-03, -8.8082e-05],\n",
       "        ...,\n",
       "        [ 8.6080e-03,  1.4550e-03,  6.4812e-03,  ..., -1.8886e-03,\n",
       "          2.4047e-03, -6.5631e-03],\n",
       "        [ 1.9330e-03, -1.1343e-03,  2.7218e-03,  ..., -1.6337e-03,\n",
       "         -1.3947e-03, -1.7534e-03],\n",
       "        [-3.8930e-03, -1.4396e-03, -7.8373e-04,  ..., -1.7212e-03,\n",
       "          9.2548e-05, -5.4424e-04]], device='cuda:0', requires_grad=True)"
      ]
     },
     "execution_count": 13,
     "metadata": {},
     "output_type": "execute_result"
    }
   ],
   "source": [
    "d.fc1.weight"
   ]
  },
  {
   "cell_type": "code",
   "execution_count": null,
   "id": "5eefada2-d6c7-4681-830a-52538401c012",
   "metadata": {},
   "outputs": [],
   "source": []
  }
 ],
 "metadata": {
  "kernelspec": {
   "display_name": "Python 3 (ipykernel)",
   "language": "python",
   "name": "python3"
  },
  "language_info": {
   "codemirror_mode": {
    "name": "ipython",
    "version": 3
   },
   "file_extension": ".py",
   "mimetype": "text/x-python",
   "name": "python",
   "nbconvert_exporter": "python",
   "pygments_lexer": "ipython3",
   "version": "3.11.5"
  }
 },
 "nbformat": 4,
 "nbformat_minor": 5
}
